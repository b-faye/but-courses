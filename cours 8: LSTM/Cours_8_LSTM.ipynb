{
  "cells": [
    {
      "cell_type": "markdown",
      "source": [
        "# **Recurrent Neural Networks**"
      ],
      "metadata": {
        "id": "4wBrYRsAjFfh"
      }
    },
    {
      "cell_type": "markdown",
      "metadata": {
        "id": "JwfrUyHJOrWE"
      },
      "source": [
        "## **Introduction**"
      ]
    },
    {
      "cell_type": "markdown",
      "metadata": {
        "id": "f4Uq0X4AOtrL"
      },
      "source": [
        "* Reccurent Neural Networks (RNNs) have been designed to process sequential data (where order matters);\n",
        "\n",
        "\\\\\n",
        "\n",
        "* RNNs found remarkable applications in Natural Language Processing (NLP) such as: Sentiment Analysis, Named Entity Recognition, Language Translation;\n",
        "\n",
        "\\\\\n",
        "\n",
        "* Other than NLP, RNNs may be applied in Time Series prediction, Sound Transcription and Sequence Generation."
      ]
    },
    {
      "cell_type": "markdown",
      "metadata": {
        "id": "HMGp0h9MT67M"
      },
      "source": [
        "## **Introduction to Sequence Representation**"
      ]
    },
    {
      "cell_type": "markdown",
      "metadata": {
        "id": "E_aurhVoQGay"
      },
      "source": [
        "* Consider the sentence :\n",
        "\n",
        "  * ***She works at Apple since she graduated.***\n",
        "\n",
        "\\\\\n",
        "\n",
        "* The word ***Apple*** here refers to the company rather than the fruit;\n",
        "\n",
        "\\\\\n",
        "\n",
        "* In linguistics/NLP this type of words are called **Named Entities**.\n",
        "\n",
        "\\\\\n",
        "\n",
        "* If we aim to automatically recognize Named Entities it is obvious that the words ***works*** and ***at*** are the ones that indicate the Named Entity nature of ***Apple***;\n",
        "\n"
      ]
    },
    {
      "cell_type": "markdown",
      "metadata": {
        "id": "kQo7UWKTUAnI"
      },
      "source": [
        "* In Machine Learning, when sentences are the input represented as sequence of words;\n",
        "\n",
        "\\\\\n",
        "\n",
        "* Words in turn are represented as vectors, the sentence above can be one hot encoded as  \n",
        "\n",
        "\\\\\n",
        "\n",
        "\\begin{equation}\n",
        "\\begin{bmatrix}\n",
        "\\mbox{she:} & 1 & 0 & 0 & 0 & 0 & 0 & 0 \\\\\n",
        "\\mbox{works:} & 0 & 1 & 0 & 0 & 0 & 0 & 0 \\\\\n",
        "\\mbox{at:} & 0 & 0 & 1 & 0 & 0 & 0 & 0 \\\\\n",
        "\\mbox{apple:} & 0 & 0 & 0 & 1 & 0 & 0 & 0 \\\\\n",
        "\\mbox{since:} & 0 & 0 & 0 & 0 & 1 & 0 & 0 \\\\\n",
        "\\mbox{she:} & 1 & 0 & 0 & 0 & 0 & 0 & 0 \\\\\n",
        "\\mbox{graduated:} & 0 & 0 & 0 & 0 & 0 & 0 & 1 \\\\\n",
        "\\end{bmatrix}\n",
        "\\end{equation}\n"
      ]
    },
    {
      "cell_type": "code",
      "source": [
        "url =\"https://miro.medium.com/v2/resize:fit:1144/1*1WHPailNU5Nxv3gtUkbFdg.gif\"\n",
        "from IPython.display import Image\n",
        "Image(url=url)"
      ],
      "metadata": {
        "colab": {
          "base_uri": "https://localhost:8080/",
          "height": 716
        },
        "id": "h9AcuMVIoSou",
        "outputId": "dab2a054-9f8a-4d04-a8ff-a525c26175b9"
      },
      "execution_count": null,
      "outputs": [
        {
          "output_type": "execute_result",
          "data": {
            "text/html": [
              "<img src=\"https://miro.medium.com/v2/resize:fit:1144/1*1WHPailNU5Nxv3gtUkbFdg.gif\"/>"
            ],
            "text/plain": [
              "<IPython.core.display.Image object>"
            ]
          },
          "metadata": {},
          "execution_count": 2
        }
      ]
    },
    {
      "cell_type": "markdown",
      "metadata": {
        "id": "mNGUfgT1d6qE"
      },
      "source": [
        "## **Sequence Processing**"
      ]
    },
    {
      "cell_type": "markdown",
      "metadata": {
        "id": "c2eWdABfd_Ds"
      },
      "source": [
        "* Consider model predicting Named Entities:\n",
        "  * Input sentences are $x$ with $T_x$ words;\n",
        "  * Words $\\{x_t, \\quad t = 1,\\ldots,T_x\\}$ are processed **sequentially**\n",
        "  * To each $x_t$ the model outputs $y_t = 1$ if named entity $y_t = 0$ otherwise"
      ]
    },
    {
      "cell_type": "markdown",
      "metadata": {
        "id": "_4rkzrvdQG5E"
      },
      "source": [
        "![](https://drive.google.com/uc?export=view&id=1v-0BbVE_0_S7OGHt_qIcb66Jew77VOjF)\n"
      ]
    },
    {
      "cell_type": "markdown",
      "metadata": {
        "id": "7Rez92uteGVA"
      },
      "source": [
        "* RNN architecture is made up by:\n",
        "  * MLP units;\n",
        "  * processing one $x_t$ at a time;\n",
        "  * where previous hidden layer $h_{t-1}$ serves as **memory**.  "
      ]
    },
    {
      "cell_type": "markdown",
      "source": [
        "![image.png](data:image/png;base64,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)"
      ],
      "metadata": {
        "id": "ln6X-mR_jihK"
      }
    },
    {
      "cell_type": "markdown",
      "metadata": {
        "id": "p9iWwLTdmd60"
      },
      "source": [
        "## **RNN Model**"
      ]
    },
    {
      "cell_type": "markdown",
      "metadata": {
        "id": "TqYJlOWoqR9Z"
      },
      "source": [
        "### **Definition**"
      ]
    },
    {
      "cell_type": "markdown",
      "metadata": {
        "id": "PSbKCu3tm28E"
      },
      "source": [
        "* Let $x$ be $[T_x \\times d]$ be sequence input and $y \\in {\\rm I\\!R}^k$ be some target;\n",
        "\n",
        "\\\\\n",
        "\n",
        "* $\\mbox{RNN}=(x)$ is defined as function based on Recurrent Neural Network processing $x$ where\n",
        "\n",
        "\n",
        "\n",
        "\n",
        "$$\n",
        "\\mbox{RNN}(x) =\n",
        "\\left\\{\n",
        "\\begin{array}{ll}\n",
        "h_t = a\\left(\\bf{W}_{hx} x_{t} +  \\bf{W}_{hh} h_{t-1} + b_{h} \\right), \\\\\n",
        "\\\\\n",
        "y_t = a\\left( \\bf{W}_{y} h_{t} + b_{y} \\right).\\\\\n",
        "\\end{array}\n",
        "\\right.\n",
        "$$\n",
        "\n",
        "\\\\\n",
        "\n",
        "* where activation function $a(.)$ is\n",
        "  * $\\mbox{tanh}$ or $\\mbox{ReLU}$ in hidden layers;\n",
        "  * $\\mbox{linear}$ or $\\mbox{softmax}$ in output layers\n",
        "\n",
        "\\\\\n",
        "\n",
        "![](https://drive.google.com/uc?export=view&id=1-fGsXaWqgTJoIhvcTVVWPwi7r0GIuLDg)\n",
        "\n",
        "\\\\\n",
        "\n",
        "* Matrices $\\bf{W}_{hx}$ and $\\bf{W}_{hh}$ can be concatenated and be applied to the concatenation of $x_t$ and $h_{t-1}$\n",
        "\n",
        "\\\\\n",
        "\n",
        "$$\n",
        "\\mbox{RNN}(x) =\n",
        "\\left\\{\n",
        "\\begin{array}{ll}\n",
        "h_t = a\\left(\\bf{W}_{h}[x_{t}, h_{t-1}] + b_{h} \\right), \\\\\n",
        "\\\\\n",
        "y_t = a\\left( \\bf{W}_{y} h_{t} + b_{y} \\right).\\\\\n",
        "\\end{array}\n",
        "\\right.\n",
        "$$"
      ]
    },
    {
      "cell_type": "markdown",
      "metadata": {
        "id": "hbC1MM9zqY8y"
      },
      "source": [
        "### **Loss Function/Training**"
      ]
    },
    {
      "cell_type": "markdown",
      "metadata": {
        "id": "CdNtAc7SqjX9"
      },
      "source": [
        "* Loss Functions $J$ such as MSE or Cross Entropy remain applicable in RNNs;\n",
        "\n",
        "\\\\\n",
        "\n",
        "* in RNNS, Loss functions $J$ and backpropagation algorithm are computed over the **unrolled** version of the neural network;\n",
        "\n",
        "\\\\\n",
        "\n",
        "![](https://drive.google.com/uc?export=view&id=11lSyyUlbxhaboi4dC4h0j1oNU1TXPX8X)\n",
        "\n",
        "\\\\\n",
        "\n",
        "* Let $x, y$ be input,output sequences of size $T$ and $\\mbox{RNN}(x)$ some\n",
        "recurrent neural network with parameters $\\bf{\\theta}$;\n",
        "\n",
        "\\\\\n",
        "\n",
        "\n",
        "$$\n",
        "J(\\bf{\\theta},x,y) = \\sum_{t = 1}^{T_x} J(\\bf{\\theta},x_t,y_t).\n",
        "$$\n",
        "\n",
        "\\\\\n",
        "\n",
        "* RNNs are trained with **Backpropagation through Time** where:\n",
        "  * gradient $\\nabla_{\\bf{\\theta}} y_t$ are computed at every timestamp $t$;\n",
        "  * then averaged during the update phase of $\\bf{\\theta}$."
      ]
    },
    {
      "cell_type": "markdown",
      "metadata": {
        "id": "7QlTsgJMwg3n"
      },
      "source": [
        "## **Types of RNNs**"
      ]
    },
    {
      "cell_type": "markdown",
      "metadata": {
        "id": "vnI2CpBlwhSe"
      },
      "source": [
        "* RNN architectures vary according to the task they are designed for;\n",
        "\n",
        "\\\\\n",
        "\n",
        "* RNN architecture depends on two types of criterias:\n",
        "  * 1. **Task related**: input/output sequence lengths $(T_x,T_y)$;\n",
        "  * 2. **Model related**: ***depth*** of model and ***direction*** of information;"
      ]
    },
    {
      "cell_type": "markdown",
      "metadata": {
        "id": "HT_a8ELuekXe"
      },
      "source": [
        "### **Task Related**"
      ]
    },
    {
      "cell_type": "markdown",
      "metadata": {
        "id": "_9lmgNLAev0Y"
      },
      "source": [
        "![](https://drive.google.com/uc?export=view&id=1gwtWiQveBze4RVeIE6QaRKDPTCQ2-1oT)"
      ]
    },
    {
      "cell_type": "markdown",
      "metadata": {
        "id": "NbqFK9oUxT-q"
      },
      "source": [
        "**Many To Many**\n",
        "\n",
        "* Situation: $T_x = T_y$\n",
        "* Application Example: Identification of Grammatical Functions.\n",
        "\n",
        "\\\\\n",
        "\n",
        "**Many To One**\n",
        "\n",
        "* Situation: variable $T_x$ and $T_y = 1$\n",
        "* Application Example: Sentiment Analysis.\n",
        "\n",
        "\\\\\n",
        "\n",
        "**Many To Many**\n",
        "\n",
        "* Situation: $T_x \\neq T_y$\n",
        "* Application Example: Language Translation.\n",
        "\n",
        "\\\\\n",
        "\n",
        "**One To Many**\n",
        "\n",
        "* Situation: $T_x = 1$, $T_y > 1$\n",
        "* Application Example: Text Generation.\n",
        "\n",
        "\n",
        "\n",
        "\n"
      ]
    },
    {
      "cell_type": "markdown",
      "metadata": {
        "id": "l1JySbakf25r"
      },
      "source": [
        "### **Model Related**"
      ]
    },
    {
      "cell_type": "markdown",
      "metadata": {
        "id": "LgNmJQtVrAED"
      },
      "source": [
        "#### **Bidirectional RNN**"
      ]
    },
    {
      "cell_type": "markdown",
      "metadata": {
        "id": "b8qSik4TrGQu"
      },
      "source": [
        "* Bidirectional RNNs are useful When the whole input sequence is available;\n",
        "\n",
        "\\\\\n",
        "\n",
        "* Output $y_t$ take into account information from the past and the future\n",
        "\n",
        "\\\\\n",
        "\n",
        "![](https://drive.google.com/uc?export=view&id=1jG6GMdC5EF8yXfX_QKTA3eyaUzNdpeDu)\n",
        "\n",
        "\\\\\n",
        "\n",
        "$$\n",
        "\\mbox{Bi-RNN}(x) =\n",
        "\\left\\{\n",
        "\\begin{array}{ll}\n",
        "h_t^p = a\\left(\\bf{W}_{h^p}[x_{t}, h_{t-1}^p] + b_{h^p} \\right), \\\\\n",
        "\\\\\n",
        "h_t^f = a\\left(\\bf{W}_{h^f}[x_{t}, h_{t+1}^f] + b_{h^f} \\right), \\\\\n",
        "\\\\\n",
        "y_t = a\\left( \\bf{W}_{y} \\left[h_{t}^p, h_{t}^f \\right] + b_{y} \\right).\\\\\n",
        "\\end{array}\n",
        "\\right.\n",
        "$$\n"
      ]
    },
    {
      "cell_type": "markdown",
      "metadata": {
        "id": "QbhfVzq_tCdo"
      },
      "source": [
        "#### **Deep RNN**"
      ]
    },
    {
      "cell_type": "markdown",
      "metadata": {
        "id": "2wkjbfHmteMA"
      },
      "source": [
        "* Deep RNNs stack more than one hidden layer;\n",
        "\n",
        " \\\\\n",
        "\n",
        "* Each hidden layer at timestamp $t-1$ will only feed the hidden layer of the same rank at timestamp $t$\n",
        "\n",
        "\\\\\n",
        "\n",
        "* Below is an illustration of Deep RNN with $3$ hidden layers\n",
        "\n",
        "\\\\\n",
        "\n",
        "![](https://drive.google.com/uc?export=view&id=15u6K-NsDG6Ofe1vRA1iog1Valipl-uM8)\n",
        "\n",
        "\\\\\n",
        "\n",
        "* Deep RNN can also be Bidirectional."
      ]
    },
    {
      "cell_type": "markdown",
      "metadata": {
        "id": "5QR-qcdLuKQ1"
      },
      "source": [
        "## **Keras/Tensorflow Instructions**"
      ]
    },
    {
      "cell_type": "markdown",
      "metadata": {
        "id": "NmHm-B2SHfhr"
      },
      "source": [
        "* in Keras all sequence input must be shaped as\n",
        "\n",
        "\\\\\n",
        "\n",
        "$$\n",
        " \\mbox{# examples} \\times  \\mbox{# timestamps} \\times \\mbox{# features}\n",
        "$$\n",
        "\n",
        "\\\\\n",
        "\n",
        "* **[SimpleRNN](https://keras.io/api/layers/recurrent_layers/simple_rnn/)** layer in Keras implements **Reccurent Hidden layer** $h_t$;\n",
        "\n",
        "\\\\\n",
        "\n",
        "* To get **many to one** architecture: SimpleRNN must be connected to Dense (Fully Connected) Layer.  \n",
        "\n"
      ]
    },
    {
      "cell_type": "code",
      "metadata": {
        "id": "jJcaCEL_HvSz"
      },
      "source": [
        "tf.keras.layers.SimpleRNN(\n",
        "                          units,\n",
        "                          activation=\"tanh\", #Default Activation Function\n",
        "                          return_sequences=False, #If True: returns evaluations of h_t at every timestamp t = 1,...,Tx\n",
        "                                                  #Useful to build Deep RNNs\n",
        "                          return_state=False,#If True: returns last evaluation  h_Tx\n",
        "                          stateful=False#If True: memorizes hidden state for next predictionss\n",
        "                         )"
      ],
      "execution_count": null,
      "outputs": []
    },
    {
      "cell_type": "markdown",
      "metadata": {
        "id": "qwy8wloVpE-f"
      },
      "source": [
        "* The Class **[Bidirectional](https://keras.io/api/layers/recurrent_layers/bidirectional/)** is wrapper allowing to handle previous and next hidden states"
      ]
    },
    {
      "cell_type": "code",
      "metadata": {
        "id": "CWVGHTkAxHg-"
      },
      "source": [
        "from tensorflow.keras.layers import Input, SimpleRNN, Bidirectional, Dense\n",
        "\n",
        "input_layer = Input((None,3)) #(None, 3) means sequences of arbitrary lengths where each xt is 3D\n",
        "h = Bidirectional(SimpleRNN(64, activation = 'tanh'))(input_layer)\n",
        "output = Dense(1)(h)"
      ],
      "execution_count": null,
      "outputs": []
    },
    {
      "cell_type": "markdown",
      "metadata": {
        "id": "gkfD_T2stT6P"
      },
      "source": [
        "* To implement **many to many** same length architecture:\n",
        "  * set return_sequences = True inside recurrent layer;\n",
        "  * wrap the output layer with **[TimeDistributed](https://keras.io/api/layers/recurrent_layers/time_distributed/)**.\n",
        "\n",
        "* Note that TimeDistributed can be used in input layer as well. It happens when $x_t$ must run through CNN before being injected into recurrent layer."
      ]
    },
    {
      "cell_type": "markdown",
      "metadata": {
        "id": "B7RFtvfb0ge1"
      },
      "source": [
        "## **LSTM/GRU RNNs**"
      ]
    },
    {
      "cell_type": "markdown",
      "metadata": {
        "id": "HcJ7IyyO5SHX"
      },
      "source": [
        "### **Introduction**"
      ]
    },
    {
      "cell_type": "markdown",
      "metadata": {
        "id": "UNsDha120mP3"
      },
      "source": [
        "* RNNs tend to struggle in capturing long dependencies due to $2$ main reasons\n",
        "\n",
        "  * **Exploding and Vanishing Gradients**: this happens with long sequences $x$ and weight matrices whose entries are close to zero (respectively higher than 1) leading to exponentially decreasing (exponentially growing) gradients.  \n",
        "\n",
        "  * The only memory simple RNNs have is $h_{t-1}$ which always update according to fixed (learned) parameters.\n",
        "\n",
        "\\\\\n",
        "\n",
        "* To tackle these limits,  **[Schmidhuber and Hochreiter](http://citeseerx.ist.psu.edu/viewdoc/download?doi=10.1.1.676.4320&rep=rep1&type=pdf)** came up with variation of RNN called **Long Short Term Memory** RNN."
      ]
    },
    {
      "cell_type": "markdown",
      "metadata": {
        "id": "fjnvuYE_5WNP"
      },
      "source": [
        "### **LSTM**"
      ]
    },
    {
      "cell_type": "markdown",
      "metadata": {
        "id": "fsyrAamjDSVO"
      },
      "source": [
        "#### **Introduction**"
      ]
    },
    {
      "cell_type": "markdown",
      "metadata": {
        "id": "RtZDKZUM5aQD"
      },
      "source": [
        "* LSTM relies on $2$ memories:\n",
        "  * previous hidden state $h_{t-1}$;\n",
        "  * cell state  $C$ regulated by $3$ gates.\n"
      ]
    },
    {
      "cell_type": "markdown",
      "metadata": {
        "id": "-JJXibU37qYn"
      },
      "source": [
        "![](https://drive.google.com/uc?export=view&id=1cOAmX3uD84QxxXK_vuKKyuqpfUC7Df95)\n"
      ]
    },
    {
      "cell_type": "markdown",
      "metadata": {
        "id": "0Ewb2t-YDV3y"
      },
      "source": [
        "#### **Model**"
      ]
    },
    {
      "cell_type": "markdown",
      "metadata": {
        "id": "0S9H5S-a-_SS"
      },
      "source": [
        "* The gates that regulate Cell State $C_t$ are:\n",
        "\n",
        "    * **Forget Gate** $f_t$: selects which neurons in $C_{t-1}$ should be forgotten;\n",
        "    \n",
        "    \\\\\n",
        "    \\begin{equation}\n",
        "    f_t = \\sigma(\\bf{W}_f [x_t,h_{t-1}] + b_f).\n",
        "    \\end{equation}\n",
        "    \\\\\n",
        "    \n",
        "    * **Input Gate** $i_t$: selects which neurons in new $C$ must be taken into account;\n",
        "\n",
        "    \\\\\n",
        "    \\begin{equation}\n",
        "    i_t = \\sigma(\\bf{W}_i [x_t,h_{t-1}] + b_i).\n",
        "    \\end{equation}\n",
        "    \\\\\n",
        "\n",
        "    * **Output Gate** $o_t$: selects which neurons in $C_t$ should be taken into account  \n",
        "\n",
        "    \\\\\n",
        "    \\begin{equation}\n",
        "    o_t = \\sigma(\\bf{W}_o [x_t,h_{t-1}] + b_o).\n",
        "    \\end{equation}\n",
        "    \\\\\n",
        "\n",
        "* $C_t$ is obtained as combination of previous $C_{t-1}$ and new candidate noted $\\widetilde{C}_t$\n",
        "\n",
        "    \\\\\n",
        "    \\begin{equation}\n",
        "    \\begin{array}{11}\n",
        "    C_t &=& f_t * C_{t-1} + i_t*\\widetilde{C}_t,\\\\\n",
        "    \\widetilde{C}_t &=& tanh(\\bf{W}_c [x_t,h_{t-1}] + b_c)\n",
        "    \\end{array}\n",
        "    \\end{equation}\n",
        "    \\\\\n",
        "\n",
        "* Finally the hidden layer $h_t$ is obtained from gatted $C_t$\n",
        "\n",
        "  \\\\\n",
        "  \\begin{equation}\n",
        "  h_t = o_t *tanh(C_t).\n",
        "  \\end{equation}\n"
      ]
    },
    {
      "cell_type": "markdown",
      "metadata": {
        "id": "fTFJnfKbECDQ"
      },
      "source": [
        "#### **LSTM Scheme**"
      ]
    },
    {
      "cell_type": "markdown",
      "metadata": {
        "id": "J6Afr_W4DoHl"
      },
      "source": [
        "* LSTM Architecture can be summarized as\n",
        "\n",
        "\\\\\n",
        "\n",
        "![](https://drive.google.com/uc?export=view&id=1fiqXabfEHqp4XLK8b7IrYP6vwtlFOEmn)\n",
        "\n",
        "\\\\\n",
        "\n",
        "* Just like simple RNN, LSTM can also be Bidirectional and stacked to form Deep LSTMs."
      ]
    },
    {
      "cell_type": "markdown",
      "metadata": {
        "id": "FRutcoI_RTnM"
      },
      "source": [
        "#### **LSTM in Keras/Tensorflow**"
      ]
    },
    {
      "cell_type": "markdown",
      "metadata": {
        "id": "E8-hZTLlRYcc"
      },
      "source": [
        "* LSTM unit is implmented with Class layer **[LSTM](https://keras.io/api/layers/recurrent_layers/lstm/)**"
      ]
    },
    {
      "cell_type": "code",
      "metadata": {
        "id": "piEDs-blRT9i"
      },
      "source": [
        "tf.keras.layers.LSTM(\n",
        "                    units, #number of neurons in hidden layer (to be added to nbr of features of x_t) = number of neurons in Cell  State\n",
        "                    activation=\"tanh\", #activation function of \\widetilde{C}\n",
        "                    recurrent_activation=\"sigmoid\", #activation function of forget, input and update gates\n",
        "                    return_sequences=False, #if True returns h_t,c_t for each timestamp t\n",
        "                    return_state=False, #if True returns last h_t,c_t\n",
        "                    stateful=False #memorizes h_t,c_t\n",
        "                   )"
      ],
      "execution_count": null,
      "outputs": []
    },
    {
      "cell_type": "markdown",
      "metadata": {
        "id": "wgdhlfLsHSb9"
      },
      "source": [
        "### **GRU**"
      ]
    },
    {
      "cell_type": "markdown",
      "metadata": {
        "id": "yedInpSWHTpy"
      },
      "source": [
        "* Gated Reccurent Units are simplification of LSTM introduced by [Junyoung Chung](https://arxiv.org/pdf/1412.3555.pdf?ref=hackernoon.com);\n",
        "\n",
        "\\\\\n",
        "\n",
        "* GRUs rely on $2$ gates:\n",
        "  * Update $u_t$;\n",
        "  * Relevency $r_t$ applied on $C_{t-1}$;\n",
        "\n",
        "\\\\\n",
        "\n",
        "* GRU model is formally defined by\n",
        "\n",
        "$$\n",
        "\\mbox{GRU}(x) =\n",
        "\\left\\{\n",
        "\\begin{array}{ll}\n",
        "\\widetilde{C}_t = tanh(\\bf{W}_c [x_t,h_{t-1}] + b_c), \\\\\n",
        "\\\\\n",
        "u_t = \\sigma(\\bf{W}_u [x_t,c_{t-1}] + b_u),\\\\\n",
        "\\\\\n",
        "r_t = \\sigma(\\bf{W}_r [x_t,c_{t-1}] + b_r),\\\\\n",
        "\\\\\n",
        "C_t = u_t * \\widetilde{C} + (1 - u_t) C_{t-1},\\\\\n",
        "\\\\\n",
        "h_t = C_t.\n",
        "\\end{array}\n",
        "\\right.\n",
        "$$\n",
        "\n",
        "\\\\\n",
        "\n",
        "* In Keras/Tensorflow GRU unit is implemented with layer **[GRU](https://keras.io/api/layers/recurrent_layers/gru/)**.\n"
      ]
    },
    {
      "cell_type": "markdown",
      "metadata": {
        "id": "BKWNN8A9T4Xb"
      },
      "source": [
        "## **Word Embeddings**"
      ]
    },
    {
      "cell_type": "markdown",
      "metadata": {
        "id": "rSp8eaDyaHqT"
      },
      "source": [
        "### **Introduction**"
      ]
    },
    {
      "cell_type": "markdown",
      "metadata": {
        "id": "naAWSTOsXdTN"
      },
      "source": [
        "* One hot encoding words in text data is appealing because of its simplicity;\n",
        "\n",
        "\\\\\n",
        "\n",
        "* To grasp intuition, consider vocabulary of $3$ words\n",
        "\n",
        "\\\\\n",
        "  $$\n",
        "  V = \\{\\mbox{ML},\\mbox{Yoga},\\mbox{DL}\\},\n",
        "  $$\n",
        "\n",
        "\\\\\n",
        "\n",
        "* One hot encoding $V$  results into $3$ **orthogonal** vectors\n",
        "\n",
        "\\\\\n",
        "\n",
        "![](https://drive.google.com/uc?export=view&id=1iCFULeDQlge7gvGMD9pzzem4jVo_hKJ_)\n",
        "\n",
        "\n",
        "\\\\\n",
        "\n",
        "* Such representation makes every word equidistant with the others;\n",
        "* It is obvious that $\\mbox{ML}$ and $\\mbox{DL}$ are related while $\\mbox{Yoga}$ has nothing to do with them.\n",
        "\n",
        "\\\\\n",
        "\n",
        "* Word Embedding is the process of redefining words representation according to their semantic value.\n",
        "\n",
        "\\\\\n",
        "\n",
        "![](https://drive.google.com/uc?export=view&id=18DQQ--q93y6vBHWkL_HDEclCbF8fRNYq)\n",
        "\n",
        "\\\\\n",
        "\n",
        "* In practice, we deal with huge vocabularies $V$, in that case Word Embeddings aim to:\n",
        "  * Find representations semantically based;\n",
        "  * Reduce the size of word representation.\n",
        "\n",
        "* Please note that semantic similarities is estimated according to cooccurences and thus it is corpus related."
      ]
    },
    {
      "cell_type": "markdown",
      "metadata": {
        "id": "vqmI64m4T4eA"
      },
      "source": [
        "### **Embedding Matrix**\n",
        "\n",
        "\n",
        "\n",
        "\n"
      ]
    },
    {
      "cell_type": "markdown",
      "metadata": {
        "id": "NzM0j3F_nSVv"
      },
      "source": [
        "* Let $\\bf{E}$ be the Embedding Matrix of vocabulary $V$.\n",
        "\n",
        "\\\\\n",
        "\n",
        "*  $O_w$ is the one hot encoding of word $w$.\n",
        "\n",
        "\\\\\n",
        "\n",
        "* Embedding of $w$ can be obtained by the product\n",
        "\n",
        "\\\\\n",
        "\n",
        "$$\n",
        "E_w = \\bf{E} \\times O_w.\n",
        "$$"
      ]
    },
    {
      "cell_type": "markdown",
      "metadata": {
        "id": "4ej72DqeT4jP"
      },
      "source": [
        "![](https://drive.google.com/uc?export=view&id=1pR321PePv-kG2-r0kGhS0DR_CHoOkL2X)\n",
        "\n"
      ]
    },
    {
      "cell_type": "markdown",
      "metadata": {
        "id": "VLOtO8MlsSwj"
      },
      "source": [
        "* To train Embedding Matrix in Keras, use **[Embedding](https://keras.io/api/layers/core_layers/embedding/)** layer"
      ]
    },
    {
      "cell_type": "code",
      "metadata": {
        "id": "vJtTwioksS_w"
      },
      "source": [
        "tf.keras.layers.Embedding(\n",
        "                          input_dim, #Vocabulary Size (+1 for Unknown words)\n",
        "                          output_dim, #Embedding dimension\n",
        "                          input_length=None #Length of sequence x_t\n",
        "                          )"
      ],
      "execution_count": null,
      "outputs": []
    },
    {
      "cell_type": "markdown",
      "metadata": {
        "id": "NEMuJtXAT4oR"
      },
      "source": [
        "### **Learning Word Embedding**"
      ]
    },
    {
      "cell_type": "markdown",
      "metadata": {
        "id": "iiuS9i6utHtK"
      },
      "source": [
        "#### **Embedding for Model Language**"
      ]
    },
    {
      "cell_type": "markdown",
      "metadata": {
        "id": "yPY6ES67T4uo"
      },
      "source": [
        "* **[Morin & Bengio](http://citeseerx.ist.psu.edu/viewdoc/download?doi=10.1.1.221.8829&rep=rep1&type=pdf#page=255)** propose Learning $E$ through Softmax model where:\n",
        "  * input: some fixed context words\n",
        "  * output: target word;\n",
        "\n",
        "\\\\\n",
        "\n",
        "* **Example**:\n",
        "  * Consider the phrases:\n",
        "    * ***Deep Learning is fun***\n",
        "    * ***Deep Learning is difficult***\n",
        "    * ***Deep Learning is overrated***\n",
        "  * From this corpus we generate context/target observations\n",
        "    * (deep, learning, is),(fun)\n",
        "    * (deep, learning, is),(difficult)\n",
        "    * (deep, learning, is),(overrated)\n",
        "\n",
        "\\\\\n",
        "\n",
        "* $\\mbox{E}$ is learned through gradient descent of the following Softmax Neural Network\n",
        "\n",
        "![](https://drive.google.com/uc?export=view&id=1GYyGD6ydSRLpDi0rSBHHWxAVKb7x3iSI)\n",
        "\n"
      ]
    },
    {
      "cell_type": "markdown",
      "metadata": {
        "id": "6oBwq0KBT5P8"
      },
      "source": [
        "#### **Word2Vec**"
      ]
    },
    {
      "cell_type": "markdown",
      "metadata": {
        "id": "n_z-U5cxT5Uk"
      },
      "source": [
        "* **[Mikolov](https://arxiv.org/pdf/1301.3781.pdf%C3%AC%E2%80%94%20%C3%AC%E2%80%9E%C5%93)** proposes $2$ word embeddings learning routines;\n",
        "\n",
        "\\\\\n",
        "\n",
        "![](https://drive.google.com/uc?export=view&id=1IVzgS3mlHegSOvgHj8Tv8LcQ65nEKn_T)\n",
        "\n",
        "\\\\\n",
        "\n",
        "* **CBOW**\n",
        "  * trained to predict a single word from fixed window size of context words;\n",
        "  * fast convergence;\n",
        "  * learns better syntactic relationships between words:\n",
        "\n",
        "\n",
        "\\\\\n",
        "\n",
        "* **Skip-gram**  \n",
        "  * trained to predict several context words from single input word;\n",
        "  * slow convergence;\n",
        "  * Skip-gram is better in capturing better semantic relationships.\n",
        "\n",
        "\\\\\n",
        "\n",
        "* In practice, CBOW tend to retrive as closest vectors morphologically similar words like plurals, i.e. 'cats' while Skip-gram would consider morphologically different words but semantically relevant like 'dog' much closer to 'cat' in comparison.\n"
      ]
    },
    {
      "cell_type": "markdown",
      "metadata": {
        "id": "E3R0k_CIeGeZ"
      },
      "source": [
        "![](https://drive.google.com/uc?export=view&id=1OQhu2UfPpUQfRqL7BYU6i89UUpiH6VNj)\n"
      ]
    },
    {
      "cell_type": "markdown",
      "source": [
        "# **Application: Sentiment Analysis**"
      ],
      "metadata": {
        "id": "f-fkfpj2PEn9"
      }
    },
    {
      "cell_type": "code",
      "source": [
        "# Import packages\n",
        "from tensorflow.keras.models import Sequential\n",
        "from tensorflow.keras.layers import Embedding, LSTM, Dense\n",
        "from tensorflow.keras.datasets import imdb\n",
        "from tensorflow.keras.preprocessing.sequence import pad_sequences\n",
        "import string\n",
        "import tensorflow as tf"
      ],
      "metadata": {
        "id": "WRjSY4gTFG2l"
      },
      "execution_count": null,
      "outputs": []
    },
    {
      "cell_type": "code",
      "source": [
        "# Load dataset IMDB\n",
        "num_words = 10000\n",
        "maxlen = 100\n",
        "(x_train, y_train), (x_test, y_test) = imdb.load_data(num_words=num_words)"
      ],
      "metadata": {
        "colab": {
          "base_uri": "https://localhost:8080/"
        },
        "id": "O4Al5WF5FKdg",
        "outputId": "167bd175-dc77-4464-b84c-3688494bc2ca"
      },
      "execution_count": null,
      "outputs": [
        {
          "output_type": "stream",
          "name": "stdout",
          "text": [
            "Downloading data from https://storage.googleapis.com/tensorflow/tf-keras-datasets/imdb.npz\n",
            "17464789/17464789 [==============================] - 0s 0us/step\n"
          ]
        }
      ]
    },
    {
      "cell_type": "code",
      "source": [
        "# See the vocabulary\n",
        "vec = imdb.get_word_index()\n",
        "vec"
      ],
      "metadata": {
        "colab": {
          "base_uri": "https://localhost:8080/"
        },
        "id": "MLYGkR8wrstO",
        "outputId": "7b57efca-27b5-4944-a40c-826254c5a999"
      },
      "execution_count": null,
      "outputs": [
        {
          "output_type": "stream",
          "name": "stdout",
          "text": [
            "Downloading data from https://storage.googleapis.com/tensorflow/tf-keras-datasets/imdb_word_index.json\n",
            "1641221/1641221 [==============================] - 0s 0us/step\n"
          ]
        },
        {
          "output_type": "execute_result",
          "data": {
            "text/plain": [
              "{'fawn': 34701,\n",
              " 'tsukino': 52006,\n",
              " 'nunnery': 52007,\n",
              " 'sonja': 16816,\n",
              " 'vani': 63951,\n",
              " 'woods': 1408,\n",
              " 'spiders': 16115,\n",
              " 'hanging': 2345,\n",
              " 'woody': 2289,\n",
              " 'trawling': 52008,\n",
              " \"hold's\": 52009,\n",
              " 'comically': 11307,\n",
              " 'localized': 40830,\n",
              " 'disobeying': 30568,\n",
              " \"'royale\": 52010,\n",
              " \"harpo's\": 40831,\n",
              " 'canet': 52011,\n",
              " 'aileen': 19313,\n",
              " 'acurately': 52012,\n",
              " \"diplomat's\": 52013,\n",
              " 'rickman': 25242,\n",
              " 'arranged': 6746,\n",
              " 'rumbustious': 52014,\n",
              " 'familiarness': 52015,\n",
              " \"spider'\": 52016,\n",
              " 'hahahah': 68804,\n",
              " \"wood'\": 52017,\n",
              " 'transvestism': 40833,\n",
              " \"hangin'\": 34702,\n",
              " 'bringing': 2338,\n",
              " 'seamier': 40834,\n",
              " 'wooded': 34703,\n",
              " 'bravora': 52018,\n",
              " 'grueling': 16817,\n",
              " 'wooden': 1636,\n",
              " 'wednesday': 16818,\n",
              " \"'prix\": 52019,\n",
              " 'altagracia': 34704,\n",
              " 'circuitry': 52020,\n",
              " 'crotch': 11585,\n",
              " 'busybody': 57766,\n",
              " \"tart'n'tangy\": 52021,\n",
              " 'burgade': 14129,\n",
              " 'thrace': 52023,\n",
              " \"tom's\": 11038,\n",
              " 'snuggles': 52025,\n",
              " 'francesco': 29114,\n",
              " 'complainers': 52027,\n",
              " 'templarios': 52125,\n",
              " '272': 40835,\n",
              " '273': 52028,\n",
              " 'zaniacs': 52130,\n",
              " '275': 34706,\n",
              " 'consenting': 27631,\n",
              " 'snuggled': 40836,\n",
              " 'inanimate': 15492,\n",
              " 'uality': 52030,\n",
              " 'bronte': 11926,\n",
              " 'errors': 4010,\n",
              " 'dialogs': 3230,\n",
              " \"yomada's\": 52031,\n",
              " \"madman's\": 34707,\n",
              " 'dialoge': 30585,\n",
              " 'usenet': 52033,\n",
              " 'videodrome': 40837,\n",
              " \"kid'\": 26338,\n",
              " 'pawed': 52034,\n",
              " \"'girlfriend'\": 30569,\n",
              " \"'pleasure\": 52035,\n",
              " \"'reloaded'\": 52036,\n",
              " \"kazakos'\": 40839,\n",
              " 'rocque': 52037,\n",
              " 'mailings': 52038,\n",
              " 'brainwashed': 11927,\n",
              " 'mcanally': 16819,\n",
              " \"tom''\": 52039,\n",
              " 'kurupt': 25243,\n",
              " 'affiliated': 21905,\n",
              " 'babaganoosh': 52040,\n",
              " \"noe's\": 40840,\n",
              " 'quart': 40841,\n",
              " 'kids': 359,\n",
              " 'uplifting': 5034,\n",
              " 'controversy': 7093,\n",
              " 'kida': 21906,\n",
              " 'kidd': 23379,\n",
              " \"error'\": 52041,\n",
              " 'neurologist': 52042,\n",
              " 'spotty': 18510,\n",
              " 'cobblers': 30570,\n",
              " 'projection': 9878,\n",
              " 'fastforwarding': 40842,\n",
              " 'sters': 52043,\n",
              " \"eggar's\": 52044,\n",
              " 'etherything': 52045,\n",
              " 'gateshead': 40843,\n",
              " 'airball': 34708,\n",
              " 'unsinkable': 25244,\n",
              " 'stern': 7180,\n",
              " \"cervi's\": 52046,\n",
              " 'dnd': 40844,\n",
              " 'dna': 11586,\n",
              " 'insecurity': 20598,\n",
              " \"'reboot'\": 52047,\n",
              " 'trelkovsky': 11037,\n",
              " 'jaekel': 52048,\n",
              " 'sidebars': 52049,\n",
              " \"sforza's\": 52050,\n",
              " 'distortions': 17633,\n",
              " 'mutinies': 52051,\n",
              " 'sermons': 30602,\n",
              " '7ft': 40846,\n",
              " 'boobage': 52052,\n",
              " \"o'bannon's\": 52053,\n",
              " 'populations': 23380,\n",
              " 'chulak': 52054,\n",
              " 'mesmerize': 27633,\n",
              " 'quinnell': 52055,\n",
              " 'yahoo': 10307,\n",
              " 'meteorologist': 52057,\n",
              " 'beswick': 42577,\n",
              " 'boorman': 15493,\n",
              " 'voicework': 40847,\n",
              " \"ster'\": 52058,\n",
              " 'blustering': 22922,\n",
              " 'hj': 52059,\n",
              " 'intake': 27634,\n",
              " 'morally': 5621,\n",
              " 'jumbling': 40849,\n",
              " 'bowersock': 52060,\n",
              " \"'porky's'\": 52061,\n",
              " 'gershon': 16821,\n",
              " 'ludicrosity': 40850,\n",
              " 'coprophilia': 52062,\n",
              " 'expressively': 40851,\n",
              " \"india's\": 19500,\n",
              " \"post's\": 34710,\n",
              " 'wana': 52063,\n",
              " 'wang': 5283,\n",
              " 'wand': 30571,\n",
              " 'wane': 25245,\n",
              " 'edgeways': 52321,\n",
              " 'titanium': 34711,\n",
              " 'pinta': 40852,\n",
              " 'want': 178,\n",
              " 'pinto': 30572,\n",
              " 'whoopdedoodles': 52065,\n",
              " 'tchaikovsky': 21908,\n",
              " 'travel': 2103,\n",
              " \"'victory'\": 52066,\n",
              " 'copious': 11928,\n",
              " 'gouge': 22433,\n",
              " \"chapters'\": 52067,\n",
              " 'barbra': 6702,\n",
              " 'uselessness': 30573,\n",
              " \"wan'\": 52068,\n",
              " 'assimilated': 27635,\n",
              " 'petiot': 16116,\n",
              " 'most\\x85and': 52069,\n",
              " 'dinosaurs': 3930,\n",
              " 'wrong': 352,\n",
              " 'seda': 52070,\n",
              " 'stollen': 52071,\n",
              " 'sentencing': 34712,\n",
              " 'ouroboros': 40853,\n",
              " 'assimilates': 40854,\n",
              " 'colorfully': 40855,\n",
              " 'glenne': 27636,\n",
              " 'dongen': 52072,\n",
              " 'subplots': 4760,\n",
              " 'kiloton': 52073,\n",
              " 'chandon': 23381,\n",
              " \"effect'\": 34713,\n",
              " 'snugly': 27637,\n",
              " 'kuei': 40856,\n",
              " 'welcomed': 9092,\n",
              " 'dishonor': 30071,\n",
              " 'concurrence': 52075,\n",
              " 'stoicism': 23382,\n",
              " \"guys'\": 14896,\n",
              " \"beroemd'\": 52077,\n",
              " 'butcher': 6703,\n",
              " \"melfi's\": 40857,\n",
              " 'aargh': 30623,\n",
              " 'playhouse': 20599,\n",
              " 'wickedly': 11308,\n",
              " 'fit': 1180,\n",
              " 'labratory': 52078,\n",
              " 'lifeline': 40859,\n",
              " 'screaming': 1927,\n",
              " 'fix': 4287,\n",
              " 'cineliterate': 52079,\n",
              " 'fic': 52080,\n",
              " 'fia': 52081,\n",
              " 'fig': 34714,\n",
              " 'fmvs': 52082,\n",
              " 'fie': 52083,\n",
              " 'reentered': 52084,\n",
              " 'fin': 30574,\n",
              " 'doctresses': 52085,\n",
              " 'fil': 52086,\n",
              " 'zucker': 12606,\n",
              " 'ached': 31931,\n",
              " 'counsil': 52088,\n",
              " 'paterfamilias': 52089,\n",
              " 'songwriter': 13885,\n",
              " 'shivam': 34715,\n",
              " 'hurting': 9654,\n",
              " 'effects': 299,\n",
              " 'slauther': 52090,\n",
              " \"'flame'\": 52091,\n",
              " 'sommerset': 52092,\n",
              " 'interwhined': 52093,\n",
              " 'whacking': 27638,\n",
              " 'bartok': 52094,\n",
              " 'barton': 8775,\n",
              " 'frewer': 21909,\n",
              " \"fi'\": 52095,\n",
              " 'ingrid': 6192,\n",
              " 'stribor': 30575,\n",
              " 'approporiately': 52096,\n",
              " 'wobblyhand': 52097,\n",
              " 'tantalisingly': 52098,\n",
              " 'ankylosaurus': 52099,\n",
              " 'parasites': 17634,\n",
              " 'childen': 52100,\n",
              " \"jenkins'\": 52101,\n",
              " 'metafiction': 52102,\n",
              " 'golem': 17635,\n",
              " 'indiscretion': 40860,\n",
              " \"reeves'\": 23383,\n",
              " \"inamorata's\": 57781,\n",
              " 'brittannica': 52104,\n",
              " 'adapt': 7916,\n",
              " \"russo's\": 30576,\n",
              " 'guitarists': 48246,\n",
              " 'abbott': 10553,\n",
              " 'abbots': 40861,\n",
              " 'lanisha': 17649,\n",
              " 'magickal': 40863,\n",
              " 'mattter': 52105,\n",
              " \"'willy\": 52106,\n",
              " 'pumpkins': 34716,\n",
              " 'stuntpeople': 52107,\n",
              " 'estimate': 30577,\n",
              " 'ugghhh': 40864,\n",
              " 'gameplay': 11309,\n",
              " \"wern't\": 52108,\n",
              " \"n'sync\": 40865,\n",
              " 'sickeningly': 16117,\n",
              " 'chiara': 40866,\n",
              " 'disturbed': 4011,\n",
              " 'portmanteau': 40867,\n",
              " 'ineffectively': 52109,\n",
              " \"duchonvey's\": 82143,\n",
              " \"nasty'\": 37519,\n",
              " 'purpose': 1285,\n",
              " 'lazers': 52112,\n",
              " 'lightened': 28105,\n",
              " 'kaliganj': 52113,\n",
              " 'popularism': 52114,\n",
              " \"damme's\": 18511,\n",
              " 'stylistics': 30578,\n",
              " 'mindgaming': 52115,\n",
              " 'spoilerish': 46449,\n",
              " \"'corny'\": 52117,\n",
              " 'boerner': 34718,\n",
              " 'olds': 6792,\n",
              " 'bakelite': 52118,\n",
              " 'renovated': 27639,\n",
              " 'forrester': 27640,\n",
              " \"lumiere's\": 52119,\n",
              " 'gaskets': 52024,\n",
              " 'needed': 884,\n",
              " 'smight': 34719,\n",
              " 'master': 1297,\n",
              " \"edie's\": 25905,\n",
              " 'seeber': 40868,\n",
              " 'hiya': 52120,\n",
              " 'fuzziness': 52121,\n",
              " 'genesis': 14897,\n",
              " 'rewards': 12607,\n",
              " 'enthrall': 30579,\n",
              " \"'about\": 40869,\n",
              " \"recollection's\": 52122,\n",
              " 'mutilated': 11039,\n",
              " 'fatherlands': 52123,\n",
              " \"fischer's\": 52124,\n",
              " 'positively': 5399,\n",
              " '270': 34705,\n",
              " 'ahmed': 34720,\n",
              " 'zatoichi': 9836,\n",
              " 'bannister': 13886,\n",
              " 'anniversaries': 52127,\n",
              " \"helm's\": 30580,\n",
              " \"'work'\": 52128,\n",
              " 'exclaimed': 34721,\n",
              " \"'unfunny'\": 52129,\n",
              " '274': 52029,\n",
              " 'feeling': 544,\n",
              " \"wanda's\": 52131,\n",
              " 'dolan': 33266,\n",
              " '278': 52133,\n",
              " 'peacoat': 52134,\n",
              " 'brawny': 40870,\n",
              " 'mishra': 40871,\n",
              " 'worlders': 40872,\n",
              " 'protags': 52135,\n",
              " 'skullcap': 52136,\n",
              " 'dastagir': 57596,\n",
              " 'affairs': 5622,\n",
              " 'wholesome': 7799,\n",
              " 'hymen': 52137,\n",
              " 'paramedics': 25246,\n",
              " 'unpersons': 52138,\n",
              " 'heavyarms': 52139,\n",
              " 'affaire': 52140,\n",
              " 'coulisses': 52141,\n",
              " 'hymer': 40873,\n",
              " 'kremlin': 52142,\n",
              " 'shipments': 30581,\n",
              " 'pixilated': 52143,\n",
              " \"'00s\": 30582,\n",
              " 'diminishing': 18512,\n",
              " 'cinematic': 1357,\n",
              " 'resonates': 14898,\n",
              " 'simplify': 40874,\n",
              " \"nature'\": 40875,\n",
              " 'temptresses': 40876,\n",
              " 'reverence': 16822,\n",
              " 'resonated': 19502,\n",
              " 'dailey': 34722,\n",
              " '2\\x85': 52144,\n",
              " 'treize': 27641,\n",
              " 'majo': 52145,\n",
              " 'kiya': 21910,\n",
              " 'woolnough': 52146,\n",
              " 'thanatos': 39797,\n",
              " 'sandoval': 35731,\n",
              " 'dorama': 40879,\n",
              " \"o'shaughnessy\": 52147,\n",
              " 'tech': 4988,\n",
              " 'fugitives': 32018,\n",
              " 'teck': 30583,\n",
              " \"'e'\": 76125,\n",
              " 'doesn’t': 40881,\n",
              " 'purged': 52149,\n",
              " 'saying': 657,\n",
              " \"martians'\": 41095,\n",
              " 'norliss': 23418,\n",
              " 'dickey': 27642,\n",
              " 'dicker': 52152,\n",
              " \"'sependipity\": 52153,\n",
              " 'padded': 8422,\n",
              " 'ordell': 57792,\n",
              " \"sturges'\": 40882,\n",
              " 'independentcritics': 52154,\n",
              " 'tempted': 5745,\n",
              " \"atkinson's\": 34724,\n",
              " 'hounded': 25247,\n",
              " 'apace': 52155,\n",
              " 'clicked': 15494,\n",
              " \"'humor'\": 30584,\n",
              " \"martino's\": 17177,\n",
              " \"'supporting\": 52156,\n",
              " 'warmongering': 52032,\n",
              " \"zemeckis's\": 34725,\n",
              " 'lube': 21911,\n",
              " 'shocky': 52157,\n",
              " 'plate': 7476,\n",
              " 'plata': 40883,\n",
              " 'sturgess': 40884,\n",
              " \"nerds'\": 40885,\n",
              " 'plato': 20600,\n",
              " 'plath': 34726,\n",
              " 'platt': 40886,\n",
              " 'mcnab': 52159,\n",
              " 'clumsiness': 27643,\n",
              " 'altogether': 3899,\n",
              " 'massacring': 42584,\n",
              " 'bicenntinial': 52160,\n",
              " 'skaal': 40887,\n",
              " 'droning': 14360,\n",
              " 'lds': 8776,\n",
              " 'jaguar': 21912,\n",
              " \"cale's\": 34727,\n",
              " 'nicely': 1777,\n",
              " 'mummy': 4588,\n",
              " \"lot's\": 18513,\n",
              " 'patch': 10086,\n",
              " 'kerkhof': 50202,\n",
              " \"leader's\": 52161,\n",
              " \"'movie\": 27644,\n",
              " 'uncomfirmed': 52162,\n",
              " 'heirloom': 40888,\n",
              " 'wrangle': 47360,\n",
              " 'emotion\\x85': 52163,\n",
              " \"'stargate'\": 52164,\n",
              " 'pinoy': 40889,\n",
              " 'conchatta': 40890,\n",
              " 'broeke': 41128,\n",
              " 'advisedly': 40891,\n",
              " \"barker's\": 17636,\n",
              " 'descours': 52166,\n",
              " 'lots': 772,\n",
              " 'lotr': 9259,\n",
              " 'irs': 9879,\n",
              " 'lott': 52167,\n",
              " 'xvi': 40892,\n",
              " 'irk': 34728,\n",
              " 'irl': 52168,\n",
              " 'ira': 6887,\n",
              " 'belzer': 21913,\n",
              " 'irc': 52169,\n",
              " 'ire': 27645,\n",
              " 'requisites': 40893,\n",
              " 'discipline': 7693,\n",
              " 'lyoko': 52961,\n",
              " 'extend': 11310,\n",
              " 'nature': 873,\n",
              " \"'dickie'\": 52170,\n",
              " 'optimist': 40894,\n",
              " 'lapping': 30586,\n",
              " 'superficial': 3900,\n",
              " 'vestment': 52171,\n",
              " 'extent': 2823,\n",
              " 'tendons': 52172,\n",
              " \"heller's\": 52173,\n",
              " 'quagmires': 52174,\n",
              " 'miyako': 52175,\n",
              " 'moocow': 20601,\n",
              " \"coles'\": 52176,\n",
              " 'lookit': 40895,\n",
              " 'ravenously': 52177,\n",
              " 'levitating': 40896,\n",
              " 'perfunctorily': 52178,\n",
              " 'lookin': 30587,\n",
              " \"lot'\": 40898,\n",
              " 'lookie': 52179,\n",
              " 'fearlessly': 34870,\n",
              " 'libyan': 52181,\n",
              " 'fondles': 40899,\n",
              " 'gopher': 35714,\n",
              " 'wearying': 40901,\n",
              " \"nz's\": 52182,\n",
              " 'minuses': 27646,\n",
              " 'puposelessly': 52183,\n",
              " 'shandling': 52184,\n",
              " 'decapitates': 31268,\n",
              " 'humming': 11929,\n",
              " \"'nother\": 40902,\n",
              " 'smackdown': 21914,\n",
              " 'underdone': 30588,\n",
              " 'frf': 40903,\n",
              " 'triviality': 52185,\n",
              " 'fro': 25248,\n",
              " 'bothers': 8777,\n",
              " \"'kensington\": 52186,\n",
              " 'much': 73,\n",
              " 'muco': 34730,\n",
              " 'wiseguy': 22615,\n",
              " \"richie's\": 27648,\n",
              " 'tonino': 40904,\n",
              " 'unleavened': 52187,\n",
              " 'fry': 11587,\n",
              " \"'tv'\": 40905,\n",
              " 'toning': 40906,\n",
              " 'obese': 14361,\n",
              " 'sensationalized': 30589,\n",
              " 'spiv': 40907,\n",
              " 'spit': 6259,\n",
              " 'arkin': 7364,\n",
              " 'charleton': 21915,\n",
              " 'jeon': 16823,\n",
              " 'boardroom': 21916,\n",
              " 'doubts': 4989,\n",
              " 'spin': 3084,\n",
              " 'hepo': 53083,\n",
              " 'wildcat': 27649,\n",
              " 'venoms': 10584,\n",
              " 'misconstrues': 52191,\n",
              " 'mesmerising': 18514,\n",
              " 'misconstrued': 40908,\n",
              " 'rescinds': 52192,\n",
              " 'prostrate': 52193,\n",
              " 'majid': 40909,\n",
              " 'climbed': 16479,\n",
              " 'canoeing': 34731,\n",
              " 'majin': 52195,\n",
              " 'animie': 57804,\n",
              " 'sylke': 40910,\n",
              " 'conditioned': 14899,\n",
              " 'waddell': 40911,\n",
              " '3\\x85': 52196,\n",
              " 'hyperdrive': 41188,\n",
              " 'conditioner': 34732,\n",
              " 'bricklayer': 53153,\n",
              " 'hong': 2576,\n",
              " 'memoriam': 52198,\n",
              " 'inventively': 30592,\n",
              " \"levant's\": 25249,\n",
              " 'portobello': 20638,\n",
              " 'remand': 52200,\n",
              " 'mummified': 19504,\n",
              " 'honk': 27650,\n",
              " 'spews': 19505,\n",
              " 'visitations': 40912,\n",
              " 'mummifies': 52201,\n",
              " 'cavanaugh': 25250,\n",
              " 'zeon': 23385,\n",
              " \"jungle's\": 40913,\n",
              " 'viertel': 34733,\n",
              " 'frenchmen': 27651,\n",
              " 'torpedoes': 52202,\n",
              " 'schlessinger': 52203,\n",
              " 'torpedoed': 34734,\n",
              " 'blister': 69876,\n",
              " 'cinefest': 52204,\n",
              " 'furlough': 34735,\n",
              " 'mainsequence': 52205,\n",
              " 'mentors': 40914,\n",
              " 'academic': 9094,\n",
              " 'stillness': 20602,\n",
              " 'academia': 40915,\n",
              " 'lonelier': 52206,\n",
              " 'nibby': 52207,\n",
              " \"losers'\": 52208,\n",
              " 'cineastes': 40916,\n",
              " 'corporate': 4449,\n",
              " 'massaging': 40917,\n",
              " 'bellow': 30593,\n",
              " 'absurdities': 19506,\n",
              " 'expetations': 53241,\n",
              " 'nyfiken': 40918,\n",
              " 'mehras': 75638,\n",
              " 'lasse': 52209,\n",
              " 'visability': 52210,\n",
              " 'militarily': 33946,\n",
              " \"elder'\": 52211,\n",
              " 'gainsbourg': 19023,\n",
              " 'hah': 20603,\n",
              " 'hai': 13420,\n",
              " 'haj': 34736,\n",
              " 'hak': 25251,\n",
              " 'hal': 4311,\n",
              " 'ham': 4892,\n",
              " 'duffer': 53259,\n",
              " 'haa': 52213,\n",
              " 'had': 66,\n",
              " 'advancement': 11930,\n",
              " 'hag': 16825,\n",
              " \"hand'\": 25252,\n",
              " 'hay': 13421,\n",
              " 'mcnamara': 20604,\n",
              " \"mozart's\": 52214,\n",
              " 'duffel': 30731,\n",
              " 'haq': 30594,\n",
              " 'har': 13887,\n",
              " 'has': 44,\n",
              " 'hat': 2401,\n",
              " 'hav': 40919,\n",
              " 'haw': 30595,\n",
              " 'figtings': 52215,\n",
              " 'elders': 15495,\n",
              " 'underpanted': 52216,\n",
              " 'pninson': 52217,\n",
              " 'unequivocally': 27652,\n",
              " \"barbara's\": 23673,\n",
              " \"bello'\": 52219,\n",
              " 'indicative': 12997,\n",
              " 'yawnfest': 40920,\n",
              " 'hexploitation': 52220,\n",
              " \"loder's\": 52221,\n",
              " 'sleuthing': 27653,\n",
              " \"justin's\": 32622,\n",
              " \"'ball\": 52222,\n",
              " \"'summer\": 52223,\n",
              " \"'demons'\": 34935,\n",
              " \"mormon's\": 52225,\n",
              " \"laughton's\": 34737,\n",
              " 'debell': 52226,\n",
              " 'shipyard': 39724,\n",
              " 'unabashedly': 30597,\n",
              " 'disks': 40401,\n",
              " 'crowd': 2290,\n",
              " 'crowe': 10087,\n",
              " \"vancouver's\": 56434,\n",
              " 'mosques': 34738,\n",
              " 'crown': 6627,\n",
              " 'culpas': 52227,\n",
              " 'crows': 27654,\n",
              " 'surrell': 53344,\n",
              " 'flowless': 52229,\n",
              " 'sheirk': 52230,\n",
              " \"'three\": 40923,\n",
              " \"peterson'\": 52231,\n",
              " 'ooverall': 52232,\n",
              " 'perchance': 40924,\n",
              " 'bottom': 1321,\n",
              " 'chabert': 53363,\n",
              " 'sneha': 52233,\n",
              " 'inhuman': 13888,\n",
              " 'ichii': 52234,\n",
              " 'ursla': 52235,\n",
              " 'completly': 30598,\n",
              " 'moviedom': 40925,\n",
              " 'raddick': 52236,\n",
              " 'brundage': 51995,\n",
              " 'brigades': 40926,\n",
              " 'starring': 1181,\n",
              " \"'goal'\": 52237,\n",
              " 'caskets': 52238,\n",
              " 'willcock': 52239,\n",
              " \"threesome's\": 52240,\n",
              " \"mosque'\": 52241,\n",
              " \"cover's\": 52242,\n",
              " 'spaceships': 17637,\n",
              " 'anomalous': 40927,\n",
              " 'ptsd': 27655,\n",
              " 'shirdan': 52243,\n",
              " 'obscenity': 21962,\n",
              " 'lemmings': 30599,\n",
              " 'duccio': 30600,\n",
              " \"levene's\": 52244,\n",
              " \"'gorby'\": 52245,\n",
              " \"teenager's\": 25255,\n",
              " 'marshall': 5340,\n",
              " 'honeymoon': 9095,\n",
              " 'shoots': 3231,\n",
              " 'despised': 12258,\n",
              " 'okabasho': 52246,\n",
              " 'fabric': 8289,\n",
              " 'cannavale': 18515,\n",
              " 'raped': 3537,\n",
              " \"tutt's\": 52247,\n",
              " 'grasping': 17638,\n",
              " 'despises': 18516,\n",
              " \"thief's\": 40928,\n",
              " 'rapes': 8926,\n",
              " 'raper': 52248,\n",
              " \"eyre'\": 27656,\n",
              " 'walchek': 52249,\n",
              " \"elmo's\": 23386,\n",
              " 'perfumes': 40929,\n",
              " 'spurting': 21918,\n",
              " \"exposition'\\x85\": 52250,\n",
              " 'denoting': 52251,\n",
              " 'thesaurus': 34740,\n",
              " \"shoot'\": 40930,\n",
              " 'bonejack': 49759,\n",
              " 'simpsonian': 52253,\n",
              " 'hebetude': 30601,\n",
              " \"hallow's\": 34741,\n",
              " 'desperation\\x85': 52254,\n",
              " 'incinerator': 34742,\n",
              " 'congratulations': 10308,\n",
              " 'humbled': 52255,\n",
              " \"else's\": 5924,\n",
              " 'trelkovski': 40845,\n",
              " \"rape'\": 52256,\n",
              " \"'chapters'\": 59386,\n",
              " '1600s': 52257,\n",
              " 'martian': 7253,\n",
              " 'nicest': 25256,\n",
              " 'eyred': 52259,\n",
              " 'passenger': 9457,\n",
              " 'disgrace': 6041,\n",
              " 'moderne': 52260,\n",
              " 'barrymore': 5120,\n",
              " 'yankovich': 52261,\n",
              " 'moderns': 40931,\n",
              " 'studliest': 52262,\n",
              " 'bedsheet': 52263,\n",
              " 'decapitation': 14900,\n",
              " 'slurring': 52264,\n",
              " \"'nunsploitation'\": 52265,\n",
              " \"'character'\": 34743,\n",
              " 'cambodia': 9880,\n",
              " 'rebelious': 52266,\n",
              " 'pasadena': 27657,\n",
              " 'crowne': 40932,\n",
              " \"'bedchamber\": 52267,\n",
              " 'conjectural': 52268,\n",
              " 'appologize': 52269,\n",
              " 'halfassing': 52270,\n",
              " 'paycheque': 57816,\n",
              " 'palms': 20606,\n",
              " \"'islands\": 52271,\n",
              " 'hawked': 40933,\n",
              " 'palme': 21919,\n",
              " 'conservatively': 40934,\n",
              " 'larp': 64007,\n",
              " 'palma': 5558,\n",
              " 'smelling': 21920,\n",
              " 'aragorn': 12998,\n",
              " 'hawker': 52272,\n",
              " 'hawkes': 52273,\n",
              " 'explosions': 3975,\n",
              " 'loren': 8059,\n",
              " \"pyle's\": 52274,\n",
              " 'shootout': 6704,\n",
              " \"mike's\": 18517,\n",
              " \"driscoll's\": 52275,\n",
              " 'cogsworth': 40935,\n",
              " \"britian's\": 52276,\n",
              " 'childs': 34744,\n",
              " \"portrait's\": 52277,\n",
              " 'chain': 3626,\n",
              " 'whoever': 2497,\n",
              " 'puttered': 52278,\n",
              " 'childe': 52279,\n",
              " 'maywether': 52280,\n",
              " 'chair': 3036,\n",
              " \"rance's\": 52281,\n",
              " 'machu': 34745,\n",
              " 'ballet': 4517,\n",
              " 'grapples': 34746,\n",
              " 'summerize': 76152,\n",
              " 'freelance': 30603,\n",
              " \"andrea's\": 52283,\n",
              " '\\x91very': 52284,\n",
              " 'coolidge': 45879,\n",
              " 'mache': 18518,\n",
              " 'balled': 52285,\n",
              " 'grappled': 40937,\n",
              " 'macha': 18519,\n",
              " 'underlining': 21921,\n",
              " 'macho': 5623,\n",
              " 'oversight': 19507,\n",
              " 'machi': 25257,\n",
              " 'verbally': 11311,\n",
              " 'tenacious': 21922,\n",
              " 'windshields': 40938,\n",
              " 'paychecks': 18557,\n",
              " 'jerk': 3396,\n",
              " \"good'\": 11931,\n",
              " 'prancer': 34748,\n",
              " 'prances': 21923,\n",
              " 'olympus': 52286,\n",
              " 'lark': 21924,\n",
              " 'embark': 10785,\n",
              " 'gloomy': 7365,\n",
              " 'jehaan': 52287,\n",
              " 'turaqui': 52288,\n",
              " \"child'\": 20607,\n",
              " 'locked': 2894,\n",
              " 'pranced': 52289,\n",
              " 'exact': 2588,\n",
              " 'unattuned': 52290,\n",
              " 'minute': 783,\n",
              " 'skewed': 16118,\n",
              " 'hodgins': 40940,\n",
              " 'skewer': 34749,\n",
              " 'think\\x85': 52291,\n",
              " 'rosenstein': 38765,\n",
              " 'helmit': 52292,\n",
              " 'wrestlemanias': 34750,\n",
              " 'hindered': 16826,\n",
              " \"martha's\": 30604,\n",
              " 'cheree': 52293,\n",
              " \"pluckin'\": 52294,\n",
              " 'ogles': 40941,\n",
              " 'heavyweight': 11932,\n",
              " 'aada': 82190,\n",
              " 'chopping': 11312,\n",
              " 'strongboy': 61534,\n",
              " 'hegemonic': 41342,\n",
              " 'adorns': 40942,\n",
              " 'xxth': 41346,\n",
              " 'nobuhiro': 34751,\n",
              " 'capitães': 52298,\n",
              " 'kavogianni': 52299,\n",
              " 'antwerp': 13422,\n",
              " 'celebrated': 6538,\n",
              " 'roarke': 52300,\n",
              " 'baggins': 40943,\n",
              " 'cheeseburgers': 31270,\n",
              " 'matras': 52301,\n",
              " \"nineties'\": 52302,\n",
              " \"'craig'\": 52303,\n",
              " 'celebrates': 12999,\n",
              " 'unintentionally': 3383,\n",
              " 'drafted': 14362,\n",
              " 'climby': 52304,\n",
              " '303': 52305,\n",
              " 'oldies': 18520,\n",
              " 'climbs': 9096,\n",
              " 'honour': 9655,\n",
              " 'plucking': 34752,\n",
              " '305': 30074,\n",
              " 'address': 5514,\n",
              " 'menjou': 40944,\n",
              " \"'freak'\": 42592,\n",
              " 'dwindling': 19508,\n",
              " 'benson': 9458,\n",
              " 'white’s': 52307,\n",
              " 'shamelessness': 40945,\n",
              " 'impacted': 21925,\n",
              " 'upatz': 52308,\n",
              " 'cusack': 3840,\n",
              " \"flavia's\": 37567,\n",
              " 'effette': 52309,\n",
              " 'influx': 34753,\n",
              " 'boooooooo': 52310,\n",
              " 'dimitrova': 52311,\n",
              " 'houseman': 13423,\n",
              " 'bigas': 25259,\n",
              " 'boylen': 52312,\n",
              " 'phillipenes': 52313,\n",
              " 'fakery': 40946,\n",
              " \"grandpa's\": 27658,\n",
              " 'darnell': 27659,\n",
              " 'undergone': 19509,\n",
              " 'handbags': 52315,\n",
              " 'perished': 21926,\n",
              " 'pooped': 37778,\n",
              " 'vigour': 27660,\n",
              " 'opposed': 3627,\n",
              " 'etude': 52316,\n",
              " \"caine's\": 11799,\n",
              " 'doozers': 52317,\n",
              " 'photojournals': 34754,\n",
              " 'perishes': 52318,\n",
              " 'constrains': 34755,\n",
              " 'migenes': 40948,\n",
              " 'consoled': 30605,\n",
              " 'alastair': 16827,\n",
              " 'wvs': 52319,\n",
              " 'ooooooh': 52320,\n",
              " 'approving': 34756,\n",
              " 'consoles': 40949,\n",
              " 'disparagement': 52064,\n",
              " 'futureistic': 52322,\n",
              " 'rebounding': 52323,\n",
              " \"'date\": 52324,\n",
              " 'gregoire': 52325,\n",
              " 'rutherford': 21927,\n",
              " 'americanised': 34757,\n",
              " 'novikov': 82196,\n",
              " 'following': 1042,\n",
              " 'munroe': 34758,\n",
              " \"morita'\": 52326,\n",
              " 'christenssen': 52327,\n",
              " 'oatmeal': 23106,\n",
              " 'fossey': 25260,\n",
              " 'livered': 40950,\n",
              " 'listens': 13000,\n",
              " \"'marci\": 76164,\n",
              " \"otis's\": 52330,\n",
              " 'thanking': 23387,\n",
              " 'maude': 16019,\n",
              " 'extensions': 34759,\n",
              " 'ameteurish': 52332,\n",
              " \"commender's\": 52333,\n",
              " 'agricultural': 27661,\n",
              " 'convincingly': 4518,\n",
              " 'fueled': 17639,\n",
              " 'mahattan': 54014,\n",
              " \"paris's\": 40952,\n",
              " 'vulkan': 52336,\n",
              " 'stapes': 52337,\n",
              " 'odysessy': 52338,\n",
              " 'harmon': 12259,\n",
              " 'surfing': 4252,\n",
              " 'halloran': 23494,\n",
              " 'unbelieveably': 49580,\n",
              " \"'offed'\": 52339,\n",
              " 'quadrant': 30607,\n",
              " 'inhabiting': 19510,\n",
              " 'nebbish': 34760,\n",
              " 'forebears': 40953,\n",
              " 'skirmish': 34761,\n",
              " 'ocassionally': 52340,\n",
              " \"'resist\": 52341,\n",
              " 'impactful': 21928,\n",
              " 'spicier': 52342,\n",
              " 'touristy': 40954,\n",
              " \"'football'\": 52343,\n",
              " 'webpage': 40955,\n",
              " 'exurbia': 52345,\n",
              " 'jucier': 52346,\n",
              " 'professors': 14901,\n",
              " 'structuring': 34762,\n",
              " 'jig': 30608,\n",
              " 'overlord': 40956,\n",
              " 'disconnect': 25261,\n",
              " 'sniffle': 82201,\n",
              " 'slimeball': 40957,\n",
              " 'jia': 40958,\n",
              " 'milked': 16828,\n",
              " 'banjoes': 40959,\n",
              " 'jim': 1237,\n",
              " 'workforces': 52348,\n",
              " 'jip': 52349,\n",
              " 'rotweiller': 52350,\n",
              " 'mundaneness': 34763,\n",
              " \"'ninja'\": 52351,\n",
              " \"dead'\": 11040,\n",
              " \"cipriani's\": 40960,\n",
              " 'modestly': 20608,\n",
              " \"professor'\": 52352,\n",
              " 'shacked': 40961,\n",
              " 'bashful': 34764,\n",
              " 'sorter': 23388,\n",
              " 'overpowering': 16120,\n",
              " 'workmanlike': 18521,\n",
              " 'henpecked': 27662,\n",
              " 'sorted': 18522,\n",
              " \"jōb's\": 52354,\n",
              " \"'always\": 52355,\n",
              " \"'baptists\": 34765,\n",
              " 'dreamcatchers': 52356,\n",
              " \"'silence'\": 52357,\n",
              " 'hickory': 21929,\n",
              " 'fun\\x97yet': 52358,\n",
              " 'breakumentary': 52359,\n",
              " 'didn': 15496,\n",
              " 'didi': 52360,\n",
              " 'pealing': 52361,\n",
              " 'dispite': 40962,\n",
              " \"italy's\": 25262,\n",
              " 'instability': 21930,\n",
              " 'quarter': 6539,\n",
              " 'quartet': 12608,\n",
              " 'padmé': 52362,\n",
              " \"'bleedmedry\": 52363,\n",
              " 'pahalniuk': 52364,\n",
              " 'honduras': 52365,\n",
              " 'bursting': 10786,\n",
              " \"pablo's\": 41465,\n",
              " 'irremediably': 52367,\n",
              " 'presages': 40963,\n",
              " 'bowlegged': 57832,\n",
              " 'dalip': 65183,\n",
              " 'entering': 6260,\n",
              " 'newsradio': 76172,\n",
              " 'presaged': 54150,\n",
              " \"giallo's\": 27663,\n",
              " 'bouyant': 40964,\n",
              " 'amerterish': 52368,\n",
              " 'rajni': 18523,\n",
              " 'leeves': 30610,\n",
              " 'macauley': 34767,\n",
              " 'seriously': 612,\n",
              " 'sugercoma': 52369,\n",
              " 'grimstead': 52370,\n",
              " \"'fairy'\": 52371,\n",
              " 'zenda': 30611,\n",
              " \"'twins'\": 52372,\n",
              " 'realisation': 17640,\n",
              " 'highsmith': 27664,\n",
              " 'raunchy': 7817,\n",
              " 'incentives': 40965,\n",
              " 'flatson': 52374,\n",
              " 'snooker': 35097,\n",
              " 'crazies': 16829,\n",
              " 'crazier': 14902,\n",
              " 'grandma': 7094,\n",
              " 'napunsaktha': 52375,\n",
              " 'workmanship': 30612,\n",
              " 'reisner': 52376,\n",
              " \"sanford's\": 61306,\n",
              " '\\x91doña': 52377,\n",
              " 'modest': 6108,\n",
              " \"everything's\": 19153,\n",
              " 'hamer': 40966,\n",
              " \"couldn't'\": 52379,\n",
              " 'quibble': 13001,\n",
              " 'socking': 52380,\n",
              " 'tingler': 21931,\n",
              " 'gutman': 52381,\n",
              " 'lachlan': 40967,\n",
              " 'tableaus': 52382,\n",
              " 'headbanger': 52383,\n",
              " 'spoken': 2847,\n",
              " 'cerebrally': 34768,\n",
              " \"'road\": 23490,\n",
              " 'tableaux': 21932,\n",
              " \"proust's\": 40968,\n",
              " 'periodical': 40969,\n",
              " \"shoveller's\": 52385,\n",
              " 'tamara': 25263,\n",
              " 'affords': 17641,\n",
              " 'concert': 3249,\n",
              " \"yara's\": 87955,\n",
              " 'someome': 52386,\n",
              " 'lingering': 8424,\n",
              " \"abraham's\": 41511,\n",
              " 'beesley': 34769,\n",
              " 'cherbourg': 34770,\n",
              " 'kagan': 28624,\n",
              " 'snatch': 9097,\n",
              " \"miyazaki's\": 9260,\n",
              " 'absorbs': 25264,\n",
              " \"koltai's\": 40970,\n",
              " 'tingled': 64027,\n",
              " 'crossroads': 19511,\n",
              " 'rehab': 16121,\n",
              " 'falworth': 52389,\n",
              " 'sequals': 52390,\n",
              " ...}"
            ]
          },
          "metadata": {},
          "execution_count": 7
        }
      ]
    },
    {
      "cell_type": "code",
      "source": [
        "x_train[0]"
      ],
      "metadata": {
        "colab": {
          "base_uri": "https://localhost:8080/"
        },
        "id": "g_kVcaIhpRDQ",
        "outputId": "8a5a7451-179e-4fb9-ddd9-46c8e0227a8c"
      },
      "execution_count": null,
      "outputs": [
        {
          "output_type": "execute_result",
          "data": {
            "text/plain": [
              "[1,\n",
              " 14,\n",
              " 22,\n",
              " 16,\n",
              " 43,\n",
              " 530,\n",
              " 973,\n",
              " 1622,\n",
              " 1385,\n",
              " 65,\n",
              " 458,\n",
              " 4468,\n",
              " 66,\n",
              " 3941,\n",
              " 4,\n",
              " 173,\n",
              " 36,\n",
              " 256,\n",
              " 5,\n",
              " 25,\n",
              " 100,\n",
              " 43,\n",
              " 838,\n",
              " 112,\n",
              " 50,\n",
              " 670,\n",
              " 2,\n",
              " 9,\n",
              " 35,\n",
              " 480,\n",
              " 284,\n",
              " 5,\n",
              " 150,\n",
              " 4,\n",
              " 172,\n",
              " 112,\n",
              " 167,\n",
              " 2,\n",
              " 336,\n",
              " 385,\n",
              " 39,\n",
              " 4,\n",
              " 172,\n",
              " 4536,\n",
              " 1111,\n",
              " 17,\n",
              " 546,\n",
              " 38,\n",
              " 13,\n",
              " 447,\n",
              " 4,\n",
              " 192,\n",
              " 50,\n",
              " 16,\n",
              " 6,\n",
              " 147,\n",
              " 2025,\n",
              " 19,\n",
              " 14,\n",
              " 22,\n",
              " 4,\n",
              " 1920,\n",
              " 4613,\n",
              " 469,\n",
              " 4,\n",
              " 22,\n",
              " 71,\n",
              " 87,\n",
              " 12,\n",
              " 16,\n",
              " 43,\n",
              " 530,\n",
              " 38,\n",
              " 76,\n",
              " 15,\n",
              " 13,\n",
              " 1247,\n",
              " 4,\n",
              " 22,\n",
              " 17,\n",
              " 515,\n",
              " 17,\n",
              " 12,\n",
              " 16,\n",
              " 626,\n",
              " 18,\n",
              " 2,\n",
              " 5,\n",
              " 62,\n",
              " 386,\n",
              " 12,\n",
              " 8,\n",
              " 316,\n",
              " 8,\n",
              " 106,\n",
              " 5,\n",
              " 4,\n",
              " 2223,\n",
              " 5244,\n",
              " 16,\n",
              " 480,\n",
              " 66,\n",
              " 3785,\n",
              " 33,\n",
              " 4,\n",
              " 130,\n",
              " 12,\n",
              " 16,\n",
              " 38,\n",
              " 619,\n",
              " 5,\n",
              " 25,\n",
              " 124,\n",
              " 51,\n",
              " 36,\n",
              " 135,\n",
              " 48,\n",
              " 25,\n",
              " 1415,\n",
              " 33,\n",
              " 6,\n",
              " 22,\n",
              " 12,\n",
              " 215,\n",
              " 28,\n",
              " 77,\n",
              " 52,\n",
              " 5,\n",
              " 14,\n",
              " 407,\n",
              " 16,\n",
              " 82,\n",
              " 2,\n",
              " 8,\n",
              " 4,\n",
              " 107,\n",
              " 117,\n",
              " 5952,\n",
              " 15,\n",
              " 256,\n",
              " 4,\n",
              " 2,\n",
              " 7,\n",
              " 3766,\n",
              " 5,\n",
              " 723,\n",
              " 36,\n",
              " 71,\n",
              " 43,\n",
              " 530,\n",
              " 476,\n",
              " 26,\n",
              " 400,\n",
              " 317,\n",
              " 46,\n",
              " 7,\n",
              " 4,\n",
              " 2,\n",
              " 1029,\n",
              " 13,\n",
              " 104,\n",
              " 88,\n",
              " 4,\n",
              " 381,\n",
              " 15,\n",
              " 297,\n",
              " 98,\n",
              " 32,\n",
              " 2071,\n",
              " 56,\n",
              " 26,\n",
              " 141,\n",
              " 6,\n",
              " 194,\n",
              " 7486,\n",
              " 18,\n",
              " 4,\n",
              " 226,\n",
              " 22,\n",
              " 21,\n",
              " 134,\n",
              " 476,\n",
              " 26,\n",
              " 480,\n",
              " 5,\n",
              " 144,\n",
              " 30,\n",
              " 5535,\n",
              " 18,\n",
              " 51,\n",
              " 36,\n",
              " 28,\n",
              " 224,\n",
              " 92,\n",
              " 25,\n",
              " 104,\n",
              " 4,\n",
              " 226,\n",
              " 65,\n",
              " 16,\n",
              " 38,\n",
              " 1334,\n",
              " 88,\n",
              " 12,\n",
              " 16,\n",
              " 283,\n",
              " 5,\n",
              " 16,\n",
              " 4472,\n",
              " 113,\n",
              " 103,\n",
              " 32,\n",
              " 15,\n",
              " 16,\n",
              " 5345,\n",
              " 19,\n",
              " 178,\n",
              " 32]"
            ]
          },
          "metadata": {},
          "execution_count": 8
        }
      ]
    },
    {
      "cell_type": "code",
      "source": [
        "# Create sequence\n",
        "x_train = pad_sequences(x_train, maxlen=maxlen)\n",
        "x_test = pad_sequences(x_test, maxlen=maxlen)"
      ],
      "metadata": {
        "id": "A9EMrR_xPxPM"
      },
      "execution_count": null,
      "outputs": []
    },
    {
      "cell_type": "code",
      "source": [
        "x_train.shape"
      ],
      "metadata": {
        "colab": {
          "base_uri": "https://localhost:8080/"
        },
        "id": "XvaBfJa1FU7S",
        "outputId": "e0c7d480-9fd1-49c4-a16d-85e1d911d824"
      },
      "execution_count": null,
      "outputs": [
        {
          "output_type": "execute_result",
          "data": {
            "text/plain": [
              "(25000, 100)"
            ]
          },
          "metadata": {},
          "execution_count": 49
        }
      ]
    },
    {
      "cell_type": "code",
      "source": [
        "x_train"
      ],
      "metadata": {
        "colab": {
          "base_uri": "https://localhost:8080/"
        },
        "id": "BcqS8uMWFXKl",
        "outputId": "3a9fb023-c301-4112-9439-4ea41c54de6b"
      },
      "execution_count": null,
      "outputs": [
        {
          "output_type": "execute_result",
          "data": {
            "text/plain": [
              "array([[1415,   33,    6, ...,   19,  178,   32],\n",
              "       [ 163,   11, 3215, ...,   16,  145,   95],\n",
              "       [1301,    4, 1873, ...,    7,  129,  113],\n",
              "       ...,\n",
              "       [  11,    6, 4065, ...,    4, 3586,    2],\n",
              "       [ 100, 2198,    8, ...,   12,    9,   23],\n",
              "       [  78, 1099,   17, ...,  204,  131,    9]], dtype=int32)"
            ]
          },
          "metadata": {},
          "execution_count": 50
        }
      ]
    },
    {
      "cell_type": "code",
      "source": [
        "import numpy as np\n"
      ],
      "metadata": {
        "colab": {
          "base_uri": "https://localhost:8080/"
        },
        "id": "QPjvlLJRFYf_",
        "outputId": "03cbc7fb-deec-4979-ac44-2d6e0682b854"
      },
      "execution_count": null,
      "outputs": [
        {
          "output_type": "execute_result",
          "data": {
            "text/plain": [
              "array([0, 1])"
            ]
          },
          "metadata": {},
          "execution_count": 27
        }
      ]
    },
    {
      "cell_type": "code",
      "source": [
        "# Créer un modèle LSTM simple\n",
        "model = Sequential()\n",
        "model.add(Embedding(num_words, 128, input_length=maxlen))\n",
        "model.add(LSTM(64, return_sequences = True))\n",
        "model.add(LSTM(128))\n",
        "model.add(Dense(1, activation='sigmoid'))\n"
      ],
      "metadata": {
        "id": "tnKURrCwFNSb"
      },
      "execution_count": null,
      "outputs": []
    },
    {
      "cell_type": "code",
      "source": [
        "# Compiler le modèle\n",
        "model.compile(loss='binary_crossentropy', optimizer='adam', metrics=['accuracy'])\n",
        "\n",
        "with tf.device('/device:GPU:0'):\n",
        "  early_stopping = tf.keras.callbacks.EarlyStopping(monitor='val_accuracy', patience=10, verbose=1,restore_best_weights=True)\n",
        "  history=model.fit(x_train,y_train,epochs=100, validation_split=0.2,batch_size=32,shuffle=True, callbacks=[early_stopping])\n"
      ],
      "metadata": {
        "colab": {
          "base_uri": "https://localhost:8080/"
        },
        "id": "MzMplcrGFQcl",
        "outputId": "a611a2a1-bd08-4657-d6aa-30aea1430c01"
      },
      "execution_count": null,
      "outputs": [
        {
          "output_type": "stream",
          "name": "stdout",
          "text": [
            "Epoch 1/100\n",
            "625/625 [==============================] - 115s 178ms/step - loss: 0.4222 - accuracy: 0.8019 - val_loss: 0.3579 - val_accuracy: 0.8444\n",
            "Epoch 2/100\n",
            "625/625 [==============================] - 111s 177ms/step - loss: 0.2513 - accuracy: 0.8993 - val_loss: 0.3854 - val_accuracy: 0.8428\n",
            "Epoch 3/100\n",
            "625/625 [==============================] - 110s 176ms/step - loss: 0.1658 - accuracy: 0.9381 - val_loss: 0.5187 - val_accuracy: 0.8362\n",
            "Epoch 4/100\n",
            "625/625 [==============================] - 112s 179ms/step - loss: 0.1120 - accuracy: 0.9608 - val_loss: 0.4996 - val_accuracy: 0.8282\n",
            "Epoch 5/100\n",
            "625/625 [==============================] - 114s 183ms/step - loss: 0.0759 - accuracy: 0.9743 - val_loss: 0.6218 - val_accuracy: 0.8262\n",
            "Epoch 6/100\n",
            "625/625 [==============================] - 114s 182ms/step - loss: 0.0582 - accuracy: 0.9804 - val_loss: 0.6729 - val_accuracy: 0.8286\n",
            "Epoch 7/100\n",
            "625/625 [==============================] - 115s 185ms/step - loss: 0.0421 - accuracy: 0.9865 - val_loss: 0.6293 - val_accuracy: 0.8196\n",
            "Epoch 8/100\n",
            "625/625 [==============================] - 114s 182ms/step - loss: 0.0325 - accuracy: 0.9895 - val_loss: 0.8614 - val_accuracy: 0.7720\n",
            "Epoch 9/100\n",
            "625/625 [==============================] - 114s 183ms/step - loss: 0.0432 - accuracy: 0.9864 - val_loss: 0.7944 - val_accuracy: 0.8276\n",
            "Epoch 10/100\n",
            "625/625 [==============================] - 116s 185ms/step - loss: 0.0213 - accuracy: 0.9937 - val_loss: 0.8402 - val_accuracy: 0.8146\n",
            "Epoch 11/100\n",
            "625/625 [==============================] - ETA: 0s - loss: 0.0179 - accuracy: 0.9945Restoring model weights from the end of the best epoch: 1.\n",
            "625/625 [==============================] - 115s 183ms/step - loss: 0.0179 - accuracy: 0.9945 - val_loss: 0.9397 - val_accuracy: 0.8170\n",
            "Epoch 11: early stopping\n"
          ]
        }
      ]
    },
    {
      "cell_type": "code",
      "source": [
        "# Évaluer le modèle\n",
        "loss, accuracy = model.evaluate(x_test, y_test)\n",
        "print(f'Loss: {loss}, Accuracy: {accuracy}')"
      ],
      "metadata": {
        "colab": {
          "base_uri": "https://localhost:8080/"
        },
        "id": "XXBF0AUmFSrE",
        "outputId": "951afaff-f163-4264-f855-eef57dbfa63a"
      },
      "execution_count": null,
      "outputs": [
        {
          "output_type": "stream",
          "name": "stdout",
          "text": [
            "782/782 [==============================] - 11s 14ms/step - loss: 0.3824 - accuracy: 0.8346\n",
            "Loss: 0.3823906183242798, Accuracy: 0.8345999717712402\n"
          ]
        }
      ]
    },
    {
      "cell_type": "code",
      "source": [
        "\n",
        "def predict_sentiment(text, model):\n",
        "    # Remove punctuations\n",
        "    text = text.lower()\n",
        "    text_without_punctuation = text.translate(str.maketrans('', '', string.punctuation))\n",
        "    tokens_id = []\n",
        "\n",
        "    # Split text into a list of tokens\n",
        "    tokens = text_without_punctuation.split()\n",
        "    for i in tokens:\n",
        "      tokens_id.append(vec[i])\n",
        "\n",
        "    print(tokens_id)\n",
        "\n",
        "\n",
        "    # Convert the text into sequences of word indices\n",
        "    text_sequence = pad_sequences([tokens_id], maxlen=100)  # Make sure to set maxlen according to your model\n",
        "\n",
        "    # Make the prediction\n",
        "    prediction = model.predict(text_sequence)\n",
        "    print(prediction)\n",
        "    # Interpret the prediction\n",
        "    if prediction[0] >= 0.5:\n",
        "        return \"Positive\"\n",
        "    else:\n",
        "        return \"Negative\"\n",
        "\n"
      ],
      "metadata": {
        "id": "lAxXujeWFso3"
      },
      "execution_count": null,
      "outputs": []
    },
    {
      "cell_type": "code",
      "source": [
        "import string\n",
        "text =\"Great work\"\n",
        "text.translate(str.maketrans('', '', string.punctuation))"
      ],
      "metadata": {
        "colab": {
          "base_uri": "https://localhost:8080/",
          "height": 36
        },
        "id": "dDy6B2btB4oU",
        "outputId": "334cf186-8fcd-4d1f-e98c-37cee23e73b4"
      },
      "execution_count": null,
      "outputs": [
        {
          "output_type": "execute_result",
          "data": {
            "text/plain": [
              "'Great work'"
            ],
            "application/vnd.google.colaboratory.intrinsic+json": {
              "type": "string"
            }
          },
          "metadata": {},
          "execution_count": 23
        }
      ]
    },
    {
      "cell_type": "code",
      "source": [
        "# Example of usage\n",
        "text = \"It was an excellent movie, I loved it!\"\n",
        "sentiment = predict_sentiment(text, model)\n",
        "print(f\"Predicted Sentiment: {sentiment}\")"
      ],
      "metadata": {
        "colab": {
          "base_uri": "https://localhost:8080/"
        },
        "id": "QFz0hWf9GRWL",
        "outputId": "b8e3947f-fbd3-4199-cb24-bb69f2c54846"
      },
      "execution_count": null,
      "outputs": [
        {
          "output_type": "stream",
          "name": "stdout",
          "text": [
            "[9, 13, 32, 318, 17, 10, 444, 9]\n",
            "1/1 [==============================] - 0s 19ms/step\n",
            "[[0.7337539]]\n",
            "Predicted Sentiment: Positive\n"
          ]
        }
      ]
    },
    {
      "cell_type": "code",
      "source": [
        "word = []\n",
        "id = []\n",
        "\n",
        "for i, j in zip(vec.keys(), vec.values()):\n",
        "  word.append(i)\n",
        "  id.append(j)"
      ],
      "metadata": {
        "id": "W5JutV1eM64M"
      },
      "execution_count": null,
      "outputs": []
    },
    {
      "cell_type": "code",
      "source": [
        "word[id.index(9)]"
      ],
      "metadata": {
        "colab": {
          "base_uri": "https://localhost:8080/",
          "height": 36
        },
        "id": "4raK7Y83NUU-",
        "outputId": "bc047374-77ba-4a98-e2cd-2f11fd60e57d"
      },
      "execution_count": null,
      "outputs": [
        {
          "output_type": "execute_result",
          "data": {
            "text/plain": [
              "'it'"
            ],
            "application/vnd.google.colaboratory.intrinsic+json": {
              "type": "string"
            }
          },
          "metadata": {},
          "execution_count": 32
        }
      ]
    },
    {
      "cell_type": "code",
      "source": [
        "# Example of usage\n",
        "text = \"The movie was a total disaster, with terrible acting and a boring storyline.\"\n",
        "sentiment = predict_sentiment(text, model)\n",
        "print(f\"Predicted Sentiment: {sentiment}\")"
      ],
      "metadata": {
        "colab": {
          "base_uri": "https://localhost:8080/"
        },
        "id": "8y8mlCZpGYUS",
        "outputId": "3df3ff4d-7f4b-4b4f-a7a9-c6998e88f3be"
      },
      "execution_count": null,
      "outputs": [
        {
          "output_type": "stream",
          "name": "stdout",
          "text": [
            "[1, 17, 13, 3, 961, 1687, 16, 391, 113, 2, 3, 354, 766]\n",
            "1/1 [==============================] - 0s 25ms/step\n",
            "[[0.9330401]]\n",
            "Predicted Sentiment: Positive\n"
          ]
        }
      ]
    },
    {
      "cell_type": "markdown",
      "source": [
        "# **TP: Prediction of Tesla Shareholder Price (Prédiction du Prix des Actions de Tesla)**"
      ],
      "metadata": {
        "id": "KMVy08xnYxvV"
      }
    },
    {
      "cell_type": "markdown",
      "source": [
        "1. Try to understand the code. what is the objective of this prediction.\n",
        "\n",
        "\n",
        "2. Normalize X and y using MinMaxscaler then split the output into train and test.\n",
        "\n",
        "3. Create a model baased on LSTM architecture to make prediction.\n",
        "\n",
        "4. Validate your model in the test dataset.\n",
        "\n",
        "5. Visualize curve of true labels and predicted labels in the same curve (use different colours)."
      ],
      "metadata": {
        "id": "hrvC2i3mfcK_"
      }
    },
    {
      "cell_type": "code",
      "source": [
        "import requests\n",
        "from io import BytesIO\n",
        "import pandas as pd\n",
        "\n",
        "def download_csv(spread_sheet_id):\n",
        "    try:\n",
        "        r = requests.get('https://docs.google.com/spreadsheet/ccc?key='+ spread_sheet_id + '&output=csv')\n",
        "        req_content = r.content\n",
        "        df = pd.read_csv(BytesIO(req_content))\n",
        "        return df\n",
        "    except Exception as e:\n",
        "        print(e)\n",
        "\n",
        "dataset_id = '1cosibeo803T_jmCMx6t-H0mqnk9NqB-cV80uflAzyLw'\n",
        "\n",
        "stockmarket_data = download_csv(dataset_id)"
      ],
      "metadata": {
        "id": "o49YvSKUZQvh"
      },
      "execution_count": null,
      "outputs": []
    },
    {
      "cell_type": "code",
      "source": [
        "\"\"\"\n",
        "-Open, High, Low, Close: share price at start, best, worst and the end of the day\n",
        "-Adj Close:  More reliable approximation of the value of a stock Updated closing price.\n",
        "             It takes into account: dividends, stock splits and new stock offers.\n",
        "-Volume: number of shares traded per day.\n",
        "\"\"\"\n",
        "\n",
        "\"\"\"\n",
        "-Ouverture, Haut, Bas, Clôture : prix de l'action au début, au meilleur, au pire et à la fin de la journée.\n",
        "-Clôture Ajustée : Une approximation plus fiable de la valeur d'une action. Prix de clôture mis à jour.\n",
        "Il prend en compte : les dividendes, les divisions d'actions et les nouvelles offres d'actions.\n",
        "-Volume : le nombre d'actions échangées par jour.\n",
        "\"\"\"\n",
        "stockmarket_data"
      ],
      "metadata": {
        "colab": {
          "base_uri": "https://localhost:8080/",
          "height": 423
        },
        "id": "ctZlaoI_b0Ut",
        "outputId": "f9bd0eb4-b1df-46f2-cf0f-5be8746f832b"
      },
      "execution_count": null,
      "outputs": [
        {
          "output_type": "execute_result",
          "data": {
            "text/plain": [
              "            Date        Open        High         Low       Close   Adj Close  \\\n",
              "0     2015-07-10   52.444000   52.599998   51.563999   51.830002   51.830002   \n",
              "1     2015-07-13   52.450001   52.509998   51.209999   52.431999   52.431999   \n",
              "2     2015-07-14   52.419998   53.198002   52.102001   53.130001   53.130001   \n",
              "3     2015-07-15   53.348000   53.498001   52.416000   52.627998   52.627998   \n",
              "4     2015-07-16   52.844002   53.439999   52.632000   53.335999   53.335999   \n",
              "...          ...         ...         ...         ...         ...         ...   \n",
              "1438  2021-03-26  641.869995  643.820007  599.890015  618.710022  618.710022   \n",
              "1439  2021-03-29  615.640015  616.479980  596.020020  611.289978  611.289978   \n",
              "1440  2021-03-30  601.750000  637.659973  591.010010  635.619995  635.619995   \n",
              "1441  2021-03-31  646.619995  672.000000  641.109985  667.929993  667.929993   \n",
              "1442  2021-04-01  688.369995  692.419983  659.419983  661.750000  661.750000   \n",
              "\n",
              "        Volume  \n",
              "0     13054500  \n",
              "1     14801500  \n",
              "2      9538000  \n",
              "3     10108000  \n",
              "4      8080000  \n",
              "...        ...  \n",
              "1438  33778400  \n",
              "1439  28637000  \n",
              "1440  39432400  \n",
              "1441  33337300  \n",
              "1442  35298400  \n",
              "\n",
              "[1443 rows x 7 columns]"
            ],
            "text/html": [
              "\n",
              "  <div id=\"df-f028ace5-70a5-4952-a546-a5d5c2293790\" class=\"colab-df-container\">\n",
              "    <div>\n",
              "<style scoped>\n",
              "    .dataframe tbody tr th:only-of-type {\n",
              "        vertical-align: middle;\n",
              "    }\n",
              "\n",
              "    .dataframe tbody tr th {\n",
              "        vertical-align: top;\n",
              "    }\n",
              "\n",
              "    .dataframe thead th {\n",
              "        text-align: right;\n",
              "    }\n",
              "</style>\n",
              "<table border=\"1\" class=\"dataframe\">\n",
              "  <thead>\n",
              "    <tr style=\"text-align: right;\">\n",
              "      <th></th>\n",
              "      <th>Date</th>\n",
              "      <th>Open</th>\n",
              "      <th>High</th>\n",
              "      <th>Low</th>\n",
              "      <th>Close</th>\n",
              "      <th>Adj Close</th>\n",
              "      <th>Volume</th>\n",
              "    </tr>\n",
              "  </thead>\n",
              "  <tbody>\n",
              "    <tr>\n",
              "      <th>0</th>\n",
              "      <td>2015-07-10</td>\n",
              "      <td>52.444000</td>\n",
              "      <td>52.599998</td>\n",
              "      <td>51.563999</td>\n",
              "      <td>51.830002</td>\n",
              "      <td>51.830002</td>\n",
              "      <td>13054500</td>\n",
              "    </tr>\n",
              "    <tr>\n",
              "      <th>1</th>\n",
              "      <td>2015-07-13</td>\n",
              "      <td>52.450001</td>\n",
              "      <td>52.509998</td>\n",
              "      <td>51.209999</td>\n",
              "      <td>52.431999</td>\n",
              "      <td>52.431999</td>\n",
              "      <td>14801500</td>\n",
              "    </tr>\n",
              "    <tr>\n",
              "      <th>2</th>\n",
              "      <td>2015-07-14</td>\n",
              "      <td>52.419998</td>\n",
              "      <td>53.198002</td>\n",
              "      <td>52.102001</td>\n",
              "      <td>53.130001</td>\n",
              "      <td>53.130001</td>\n",
              "      <td>9538000</td>\n",
              "    </tr>\n",
              "    <tr>\n",
              "      <th>3</th>\n",
              "      <td>2015-07-15</td>\n",
              "      <td>53.348000</td>\n",
              "      <td>53.498001</td>\n",
              "      <td>52.416000</td>\n",
              "      <td>52.627998</td>\n",
              "      <td>52.627998</td>\n",
              "      <td>10108000</td>\n",
              "    </tr>\n",
              "    <tr>\n",
              "      <th>4</th>\n",
              "      <td>2015-07-16</td>\n",
              "      <td>52.844002</td>\n",
              "      <td>53.439999</td>\n",
              "      <td>52.632000</td>\n",
              "      <td>53.335999</td>\n",
              "      <td>53.335999</td>\n",
              "      <td>8080000</td>\n",
              "    </tr>\n",
              "    <tr>\n",
              "      <th>...</th>\n",
              "      <td>...</td>\n",
              "      <td>...</td>\n",
              "      <td>...</td>\n",
              "      <td>...</td>\n",
              "      <td>...</td>\n",
              "      <td>...</td>\n",
              "      <td>...</td>\n",
              "    </tr>\n",
              "    <tr>\n",
              "      <th>1438</th>\n",
              "      <td>2021-03-26</td>\n",
              "      <td>641.869995</td>\n",
              "      <td>643.820007</td>\n",
              "      <td>599.890015</td>\n",
              "      <td>618.710022</td>\n",
              "      <td>618.710022</td>\n",
              "      <td>33778400</td>\n",
              "    </tr>\n",
              "    <tr>\n",
              "      <th>1439</th>\n",
              "      <td>2021-03-29</td>\n",
              "      <td>615.640015</td>\n",
              "      <td>616.479980</td>\n",
              "      <td>596.020020</td>\n",
              "      <td>611.289978</td>\n",
              "      <td>611.289978</td>\n",
              "      <td>28637000</td>\n",
              "    </tr>\n",
              "    <tr>\n",
              "      <th>1440</th>\n",
              "      <td>2021-03-30</td>\n",
              "      <td>601.750000</td>\n",
              "      <td>637.659973</td>\n",
              "      <td>591.010010</td>\n",
              "      <td>635.619995</td>\n",
              "      <td>635.619995</td>\n",
              "      <td>39432400</td>\n",
              "    </tr>\n",
              "    <tr>\n",
              "      <th>1441</th>\n",
              "      <td>2021-03-31</td>\n",
              "      <td>646.619995</td>\n",
              "      <td>672.000000</td>\n",
              "      <td>641.109985</td>\n",
              "      <td>667.929993</td>\n",
              "      <td>667.929993</td>\n",
              "      <td>33337300</td>\n",
              "    </tr>\n",
              "    <tr>\n",
              "      <th>1442</th>\n",
              "      <td>2021-04-01</td>\n",
              "      <td>688.369995</td>\n",
              "      <td>692.419983</td>\n",
              "      <td>659.419983</td>\n",
              "      <td>661.750000</td>\n",
              "      <td>661.750000</td>\n",
              "      <td>35298400</td>\n",
              "    </tr>\n",
              "  </tbody>\n",
              "</table>\n",
              "<p>1443 rows × 7 columns</p>\n",
              "</div>\n",
              "    <div class=\"colab-df-buttons\">\n",
              "\n",
              "  <div class=\"colab-df-container\">\n",
              "    <button class=\"colab-df-convert\" onclick=\"convertToInteractive('df-f028ace5-70a5-4952-a546-a5d5c2293790')\"\n",
              "            title=\"Convert this dataframe to an interactive table.\"\n",
              "            style=\"display:none;\">\n",
              "\n",
              "  <svg xmlns=\"http://www.w3.org/2000/svg\" height=\"24px\" viewBox=\"0 -960 960 960\">\n",
              "    <path d=\"M120-120v-720h720v720H120Zm60-500h600v-160H180v160Zm220 220h160v-160H400v160Zm0 220h160v-160H400v160ZM180-400h160v-160H180v160Zm440 0h160v-160H620v160ZM180-180h160v-160H180v160Zm440 0h160v-160H620v160Z\"/>\n",
              "  </svg>\n",
              "    </button>\n",
              "\n",
              "  <style>\n",
              "    .colab-df-container {\n",
              "      display:flex;\n",
              "      gap: 12px;\n",
              "    }\n",
              "\n",
              "    .colab-df-convert {\n",
              "      background-color: #E8F0FE;\n",
              "      border: none;\n",
              "      border-radius: 50%;\n",
              "      cursor: pointer;\n",
              "      display: none;\n",
              "      fill: #1967D2;\n",
              "      height: 32px;\n",
              "      padding: 0 0 0 0;\n",
              "      width: 32px;\n",
              "    }\n",
              "\n",
              "    .colab-df-convert:hover {\n",
              "      background-color: #E2EBFA;\n",
              "      box-shadow: 0px 1px 2px rgba(60, 64, 67, 0.3), 0px 1px 3px 1px rgba(60, 64, 67, 0.15);\n",
              "      fill: #174EA6;\n",
              "    }\n",
              "\n",
              "    .colab-df-buttons div {\n",
              "      margin-bottom: 4px;\n",
              "    }\n",
              "\n",
              "    [theme=dark] .colab-df-convert {\n",
              "      background-color: #3B4455;\n",
              "      fill: #D2E3FC;\n",
              "    }\n",
              "\n",
              "    [theme=dark] .colab-df-convert:hover {\n",
              "      background-color: #434B5C;\n",
              "      box-shadow: 0px 1px 3px 1px rgba(0, 0, 0, 0.15);\n",
              "      filter: drop-shadow(0px 1px 2px rgba(0, 0, 0, 0.3));\n",
              "      fill: #FFFFFF;\n",
              "    }\n",
              "  </style>\n",
              "\n",
              "    <script>\n",
              "      const buttonEl =\n",
              "        document.querySelector('#df-f028ace5-70a5-4952-a546-a5d5c2293790 button.colab-df-convert');\n",
              "      buttonEl.style.display =\n",
              "        google.colab.kernel.accessAllowed ? 'block' : 'none';\n",
              "\n",
              "      async function convertToInteractive(key) {\n",
              "        const element = document.querySelector('#df-f028ace5-70a5-4952-a546-a5d5c2293790');\n",
              "        const dataTable =\n",
              "          await google.colab.kernel.invokeFunction('convertToInteractive',\n",
              "                                                    [key], {});\n",
              "        if (!dataTable) return;\n",
              "\n",
              "        const docLinkHtml = 'Like what you see? Visit the ' +\n",
              "          '<a target=\"_blank\" href=https://colab.research.google.com/notebooks/data_table.ipynb>data table notebook</a>'\n",
              "          + ' to learn more about interactive tables.';\n",
              "        element.innerHTML = '';\n",
              "        dataTable['output_type'] = 'display_data';\n",
              "        await google.colab.output.renderOutput(dataTable, element);\n",
              "        const docLink = document.createElement('div');\n",
              "        docLink.innerHTML = docLinkHtml;\n",
              "        element.appendChild(docLink);\n",
              "      }\n",
              "    </script>\n",
              "  </div>\n",
              "\n",
              "\n",
              "<div id=\"df-60acf12c-d71a-4f6a-97c1-3efc46aa026e\">\n",
              "  <button class=\"colab-df-quickchart\" onclick=\"quickchart('df-60acf12c-d71a-4f6a-97c1-3efc46aa026e')\"\n",
              "            title=\"Suggest charts.\"\n",
              "            style=\"display:none;\">\n",
              "\n",
              "<svg xmlns=\"http://www.w3.org/2000/svg\" height=\"24px\"viewBox=\"0 0 24 24\"\n",
              "     width=\"24px\">\n",
              "    <g>\n",
              "        <path d=\"M19 3H5c-1.1 0-2 .9-2 2v14c0 1.1.9 2 2 2h14c1.1 0 2-.9 2-2V5c0-1.1-.9-2-2-2zM9 17H7v-7h2v7zm4 0h-2V7h2v10zm4 0h-2v-4h2v4z\"/>\n",
              "    </g>\n",
              "</svg>\n",
              "  </button>\n",
              "\n",
              "<style>\n",
              "  .colab-df-quickchart {\n",
              "      --bg-color: #E8F0FE;\n",
              "      --fill-color: #1967D2;\n",
              "      --hover-bg-color: #E2EBFA;\n",
              "      --hover-fill-color: #174EA6;\n",
              "      --disabled-fill-color: #AAA;\n",
              "      --disabled-bg-color: #DDD;\n",
              "  }\n",
              "\n",
              "  [theme=dark] .colab-df-quickchart {\n",
              "      --bg-color: #3B4455;\n",
              "      --fill-color: #D2E3FC;\n",
              "      --hover-bg-color: #434B5C;\n",
              "      --hover-fill-color: #FFFFFF;\n",
              "      --disabled-bg-color: #3B4455;\n",
              "      --disabled-fill-color: #666;\n",
              "  }\n",
              "\n",
              "  .colab-df-quickchart {\n",
              "    background-color: var(--bg-color);\n",
              "    border: none;\n",
              "    border-radius: 50%;\n",
              "    cursor: pointer;\n",
              "    display: none;\n",
              "    fill: var(--fill-color);\n",
              "    height: 32px;\n",
              "    padding: 0;\n",
              "    width: 32px;\n",
              "  }\n",
              "\n",
              "  .colab-df-quickchart:hover {\n",
              "    background-color: var(--hover-bg-color);\n",
              "    box-shadow: 0 1px 2px rgba(60, 64, 67, 0.3), 0 1px 3px 1px rgba(60, 64, 67, 0.15);\n",
              "    fill: var(--button-hover-fill-color);\n",
              "  }\n",
              "\n",
              "  .colab-df-quickchart-complete:disabled,\n",
              "  .colab-df-quickchart-complete:disabled:hover {\n",
              "    background-color: var(--disabled-bg-color);\n",
              "    fill: var(--disabled-fill-color);\n",
              "    box-shadow: none;\n",
              "  }\n",
              "\n",
              "  .colab-df-spinner {\n",
              "    border: 2px solid var(--fill-color);\n",
              "    border-color: transparent;\n",
              "    border-bottom-color: var(--fill-color);\n",
              "    animation:\n",
              "      spin 1s steps(1) infinite;\n",
              "  }\n",
              "\n",
              "  @keyframes spin {\n",
              "    0% {\n",
              "      border-color: transparent;\n",
              "      border-bottom-color: var(--fill-color);\n",
              "      border-left-color: var(--fill-color);\n",
              "    }\n",
              "    20% {\n",
              "      border-color: transparent;\n",
              "      border-left-color: var(--fill-color);\n",
              "      border-top-color: var(--fill-color);\n",
              "    }\n",
              "    30% {\n",
              "      border-color: transparent;\n",
              "      border-left-color: var(--fill-color);\n",
              "      border-top-color: var(--fill-color);\n",
              "      border-right-color: var(--fill-color);\n",
              "    }\n",
              "    40% {\n",
              "      border-color: transparent;\n",
              "      border-right-color: var(--fill-color);\n",
              "      border-top-color: var(--fill-color);\n",
              "    }\n",
              "    60% {\n",
              "      border-color: transparent;\n",
              "      border-right-color: var(--fill-color);\n",
              "    }\n",
              "    80% {\n",
              "      border-color: transparent;\n",
              "      border-right-color: var(--fill-color);\n",
              "      border-bottom-color: var(--fill-color);\n",
              "    }\n",
              "    90% {\n",
              "      border-color: transparent;\n",
              "      border-bottom-color: var(--fill-color);\n",
              "    }\n",
              "  }\n",
              "</style>\n",
              "\n",
              "  <script>\n",
              "    async function quickchart(key) {\n",
              "      const quickchartButtonEl =\n",
              "        document.querySelector('#' + key + ' button');\n",
              "      quickchartButtonEl.disabled = true;  // To prevent multiple clicks.\n",
              "      quickchartButtonEl.classList.add('colab-df-spinner');\n",
              "      try {\n",
              "        const charts = await google.colab.kernel.invokeFunction(\n",
              "            'suggestCharts', [key], {});\n",
              "      } catch (error) {\n",
              "        console.error('Error during call to suggestCharts:', error);\n",
              "      }\n",
              "      quickchartButtonEl.classList.remove('colab-df-spinner');\n",
              "      quickchartButtonEl.classList.add('colab-df-quickchart-complete');\n",
              "    }\n",
              "    (() => {\n",
              "      let quickchartButtonEl =\n",
              "        document.querySelector('#df-60acf12c-d71a-4f6a-97c1-3efc46aa026e button');\n",
              "      quickchartButtonEl.style.display =\n",
              "        google.colab.kernel.accessAllowed ? 'block' : 'none';\n",
              "    })();\n",
              "  </script>\n",
              "</div>\n",
              "    </div>\n",
              "  </div>\n"
            ]
          },
          "metadata": {},
          "execution_count": 2
        }
      ]
    },
    {
      "cell_type": "markdown",
      "source": [
        "* financial datasets can easily be downloaded from [here](https://finance.yahoo.com/quote/TSLA/history?period1=1436486400&period2=1594339200&interval=1d&filter=history&frequency=1d)"
      ],
      "metadata": {
        "id": "Q407fmZxcDFR"
      }
    },
    {
      "cell_type": "code",
      "source": [
        "import numpy as np\n",
        "import pandas as pd\n",
        "\n",
        "import matplotlib.pyplot as plt\n",
        "import seaborn as sns\n",
        "sns.set()\n",
        "\n",
        "def viz_ts(data, target,\n",
        "           color = 'red', timestamp = 'Date',\n",
        "           xlabel_freq = 100, figsize = (15,5), title = None):\n",
        "\n",
        "    n = len(data)\n",
        "\n",
        "    fig, axes = plt.subplots(1,1,figsize = (20,5))\n",
        "\n",
        "    axes.grid(c = 'white')\n",
        "\n",
        "    axes.plot(np.arange(0,n),\n",
        "             data[target], color = color)\n",
        "\n",
        "    x_labels_idx = np.arange(0, n, xlabel_freq)\n",
        "    x_labels = data[timestamp].iloc[x_labels_idx ]\n",
        "    axes.set_xticks(x_labels_idx)\n",
        "    axes.set_xticklabels(x_labels, rotation = 40)\n",
        "\n",
        "    if title is not None:\n",
        "        axes.set_title(title, size = 20)\n",
        "\n",
        "target = 'Adj Close'\n",
        "timestamp = 'Date'\n",
        "viz_ts(stockmarket_data, target, title = ' Tesla Shareholder ' +target)\n"
      ],
      "metadata": {
        "colab": {
          "base_uri": "https://localhost:8080/",
          "height": 533
        },
        "id": "UYKxZfljdYdT",
        "outputId": "f93e200c-ee14-4c5e-e071-a07feaee147d"
      },
      "execution_count": null,
      "outputs": [
        {
          "output_type": "display_data",
          "data": {
            "text/plain": [
              "<Figure size 2000x500 with 1 Axes>"
            ],
            "image/png": "[encoded data removed]"
          },
          "metadata": {}
        }
      ]
    },
    {
      "cell_type": "code",
      "source": [
        "from sklearn.preprocessing import MinMaxScaler\n",
        "from sklearn.model_selection import train_test_split\n",
        "from sklearn.metrics import mean_absolute_error\n",
        "\n",
        "def format_data_as_sequences(data, window_size, target_size = 1):\n",
        "\n",
        "    n = len(data)\n",
        "    data = data[[timestamp, target]]\n",
        "    X, y = [],[]\n",
        "\n",
        "    step = window_size+target_size\n",
        "    for i in range(0,n - step, step):\n",
        "        X.append(list(data[target].iloc[i:(i+window_size)]))\n",
        "        y.append(list(data[target].iloc[(i+window_size):(i+window_size+target_size)]))\n",
        "\n",
        "    return X,y\n",
        "\n",
        "\n",
        "window_size = 10 #Number of Days to Consider to Make Prediction\n",
        "X,y = format_data_as_sequences(stockmarket_data, window_size, target_size = 1)"
      ],
      "metadata": {
        "id": "qZuzRxfdfZVq"
      },
      "execution_count": null,
      "outputs": []
    },
    {
      "cell_type": "markdown",
      "metadata": {
        "id": "Mabs3PiYrAEi"
      },
      "source": [
        "# **Correction TP: Prediction of Tesla Shareholder Price (Prédiction du Prix des Actions de Tesla)**"
      ]
    },
    {
      "cell_type": "code",
      "metadata": {
        "id": "fkA8cVZWuaxK"
      },
      "source": [
        "import requests\n",
        "from io import BytesIO\n",
        "import pandas as pd\n",
        "\n",
        "def download_csv(spread_sheet_id):\n",
        "    try:\n",
        "        r = requests.get('https://docs.google.com/spreadsheet/ccc?key='+ spread_sheet_id + '&output=csv')\n",
        "        req_content = r.content\n",
        "        df = pd.read_csv(BytesIO(req_content))\n",
        "        return df\n",
        "    except Exception as e:\n",
        "        print(e)\n",
        "\n",
        "dataset_id = '1cosibeo803T_jmCMx6t-H0mqnk9NqB-cV80uflAzyLw'\n",
        "\n",
        "stockmarket_data = download_csv(dataset_id)"
      ],
      "execution_count": null,
      "outputs": []
    },
    {
      "cell_type": "markdown",
      "metadata": {
        "id": "sjqjF6UfvaFa"
      },
      "source": [
        "* financial datasets can easily be downloaded from [here](https://finance.yahoo.com/quote/TSLA/history?period1=1436486400&period2=1594339200&interval=1d&filter=history&frequency=1d)"
      ]
    },
    {
      "cell_type": "code",
      "metadata": {
        "colab": {
          "base_uri": "https://localhost:8080/",
          "height": 435
        },
        "id": "2-y2985SvEsF",
        "outputId": "33baf0d6-08f2-47e7-dc1b-b9dee5ff7da8"
      },
      "source": [
        "display(stockmarket_data)\n",
        "\"\"\"\n",
        "-Open, High, Low, Close: share price at start, best, worst and the end of the day\n",
        "-Adj Close:  More reliable approximation of the value of a stock Updated closing price.\n",
        "             It takes into account: dividends, stock splits and new stock offers.\n",
        "-Volume: number of shares traded per day.\n",
        "\"\"\""
      ],
      "execution_count": null,
      "outputs": [
        {
          "output_type": "display_data",
          "data": {
            "text/html": [
              "<div>\n",
              "<style scoped>\n",
              "    .dataframe tbody tr th:only-of-type {\n",
              "        vertical-align: middle;\n",
              "    }\n",
              "\n",
              "    .dataframe tbody tr th {\n",
              "        vertical-align: top;\n",
              "    }\n",
              "\n",
              "    .dataframe thead th {\n",
              "        text-align: right;\n",
              "    }\n",
              "</style>\n",
              "<table border=\"1\" class=\"dataframe\">\n",
              "  <thead>\n",
              "    <tr style=\"text-align: right;\">\n",
              "      <th></th>\n",
              "      <th>Date</th>\n",
              "      <th>Open</th>\n",
              "      <th>High</th>\n",
              "      <th>Low</th>\n",
              "      <th>Close</th>\n",
              "      <th>Adj Close</th>\n",
              "      <th>Volume</th>\n",
              "    </tr>\n",
              "  </thead>\n",
              "  <tbody>\n",
              "    <tr>\n",
              "      <th>0</th>\n",
              "      <td>2015-07-10</td>\n",
              "      <td>52.444000</td>\n",
              "      <td>52.599998</td>\n",
              "      <td>51.563999</td>\n",
              "      <td>51.830002</td>\n",
              "      <td>51.830002</td>\n",
              "      <td>13054500</td>\n",
              "    </tr>\n",
              "    <tr>\n",
              "      <th>1</th>\n",
              "      <td>2015-07-13</td>\n",
              "      <td>52.450001</td>\n",
              "      <td>52.509998</td>\n",
              "      <td>51.209999</td>\n",
              "      <td>52.431999</td>\n",
              "      <td>52.431999</td>\n",
              "      <td>14801500</td>\n",
              "    </tr>\n",
              "    <tr>\n",
              "      <th>2</th>\n",
              "      <td>2015-07-14</td>\n",
              "      <td>52.419998</td>\n",
              "      <td>53.198002</td>\n",
              "      <td>52.102001</td>\n",
              "      <td>53.130001</td>\n",
              "      <td>53.130001</td>\n",
              "      <td>9538000</td>\n",
              "    </tr>\n",
              "    <tr>\n",
              "      <th>3</th>\n",
              "      <td>2015-07-15</td>\n",
              "      <td>53.348000</td>\n",
              "      <td>53.498001</td>\n",
              "      <td>52.416000</td>\n",
              "      <td>52.627998</td>\n",
              "      <td>52.627998</td>\n",
              "      <td>10108000</td>\n",
              "    </tr>\n",
              "    <tr>\n",
              "      <th>4</th>\n",
              "      <td>2015-07-16</td>\n",
              "      <td>52.844002</td>\n",
              "      <td>53.439999</td>\n",
              "      <td>52.632000</td>\n",
              "      <td>53.335999</td>\n",
              "      <td>53.335999</td>\n",
              "      <td>8080000</td>\n",
              "    </tr>\n",
              "    <tr>\n",
              "      <th>...</th>\n",
              "      <td>...</td>\n",
              "      <td>...</td>\n",
              "      <td>...</td>\n",
              "      <td>...</td>\n",
              "      <td>...</td>\n",
              "      <td>...</td>\n",
              "      <td>...</td>\n",
              "    </tr>\n",
              "    <tr>\n",
              "      <th>1438</th>\n",
              "      <td>2021-03-26</td>\n",
              "      <td>641.869995</td>\n",
              "      <td>643.820007</td>\n",
              "      <td>599.890015</td>\n",
              "      <td>618.710022</td>\n",
              "      <td>618.710022</td>\n",
              "      <td>33778400</td>\n",
              "    </tr>\n",
              "    <tr>\n",
              "      <th>1439</th>\n",
              "      <td>2021-03-29</td>\n",
              "      <td>615.640015</td>\n",
              "      <td>616.479980</td>\n",
              "      <td>596.020020</td>\n",
              "      <td>611.289978</td>\n",
              "      <td>611.289978</td>\n",
              "      <td>28637000</td>\n",
              "    </tr>\n",
              "    <tr>\n",
              "      <th>1440</th>\n",
              "      <td>2021-03-30</td>\n",
              "      <td>601.750000</td>\n",
              "      <td>637.659973</td>\n",
              "      <td>591.010010</td>\n",
              "      <td>635.619995</td>\n",
              "      <td>635.619995</td>\n",
              "      <td>39432400</td>\n",
              "    </tr>\n",
              "    <tr>\n",
              "      <th>1441</th>\n",
              "      <td>2021-03-31</td>\n",
              "      <td>646.619995</td>\n",
              "      <td>672.000000</td>\n",
              "      <td>641.109985</td>\n",
              "      <td>667.929993</td>\n",
              "      <td>667.929993</td>\n",
              "      <td>33337300</td>\n",
              "    </tr>\n",
              "    <tr>\n",
              "      <th>1442</th>\n",
              "      <td>2021-04-01</td>\n",
              "      <td>688.369995</td>\n",
              "      <td>692.419983</td>\n",
              "      <td>659.419983</td>\n",
              "      <td>661.750000</td>\n",
              "      <td>661.750000</td>\n",
              "      <td>35298400</td>\n",
              "    </tr>\n",
              "  </tbody>\n",
              "</table>\n",
              "<p>1443 rows × 7 columns</p>\n",
              "</div>"
            ],
            "text/plain": [
              "            Date        Open        High  ...       Close   Adj Close    Volume\n",
              "0     2015-07-10   52.444000   52.599998  ...   51.830002   51.830002  13054500\n",
              "1     2015-07-13   52.450001   52.509998  ...   52.431999   52.431999  14801500\n",
              "2     2015-07-14   52.419998   53.198002  ...   53.130001   53.130001   9538000\n",
              "3     2015-07-15   53.348000   53.498001  ...   52.627998   52.627998  10108000\n",
              "4     2015-07-16   52.844002   53.439999  ...   53.335999   53.335999   8080000\n",
              "...          ...         ...         ...  ...         ...         ...       ...\n",
              "1438  2021-03-26  641.869995  643.820007  ...  618.710022  618.710022  33778400\n",
              "1439  2021-03-29  615.640015  616.479980  ...  611.289978  611.289978  28637000\n",
              "1440  2021-03-30  601.750000  637.659973  ...  635.619995  635.619995  39432400\n",
              "1441  2021-03-31  646.619995  672.000000  ...  667.929993  667.929993  33337300\n",
              "1442  2021-04-01  688.369995  692.419983  ...  661.750000  661.750000  35298400\n",
              "\n",
              "[1443 rows x 7 columns]"
            ]
          },
          "metadata": {
            "tags": []
          }
        },
        {
          "output_type": "execute_result",
          "data": {
            "application/vnd.google.colaboratory.intrinsic+json": {
              "type": "string"
            },
            "text/plain": [
              "'\\n-Open, High, Low, Close: share price at start, best, worst and the end of the day\\n-Adj Close:  More reliable approximation of the value of a stock Updated closing price.\\n             It takes into account: dividends, stock splits and new stock offers.\\n-Volume: number of shares traded per day. \\n'"
            ]
          },
          "metadata": {
            "tags": []
          },
          "execution_count": 2
        }
      ]
    },
    {
      "cell_type": "markdown",
      "metadata": {
        "id": "xlNtUa2mvtgw"
      },
      "source": [
        "#### **Data Viz**"
      ]
    },
    {
      "cell_type": "code",
      "metadata": {
        "colab": {
          "base_uri": "https://localhost:8080/",
          "height": 382
        },
        "id": "x4JPPff_vI9y",
        "outputId": "c4ab0d31-0787-4996-bcc2-5c1a646fb5be"
      },
      "source": [
        "import numpy as np\n",
        "import pandas as pd\n",
        "\n",
        "import matplotlib.pyplot as plt\n",
        "import seaborn as sns\n",
        "sns.set()\n",
        "\n",
        "def viz_ts(data, target,\n",
        "           color = 'red', timestamp = 'Date',\n",
        "           xlabel_freq = 100, figsize = (15,5), title = None):\n",
        "\n",
        "    n = len(data)\n",
        "\n",
        "    fig, axes = plt.subplots(1,1,figsize = (20,5))\n",
        "\n",
        "    axes.grid(c = 'white')\n",
        "\n",
        "    axes.plot(np.arange(0,n),\n",
        "             data[target], color = color)\n",
        "\n",
        "    x_labels_idx = np.arange(0, n, xlabel_freq)\n",
        "    x_labels = data[timestamp].iloc[x_labels_idx ]\n",
        "    axes.set_xticks(x_labels_idx)\n",
        "    axes.set_xticklabels(x_labels, rotation = 40)\n",
        "\n",
        "    if title is not None:\n",
        "        axes.set_title(title, size = 20)\n",
        "\n",
        "target = 'Adj Close'\n",
        "timestamp = 'Date'\n",
        "viz_ts(stockmarket_data, target, title = ' Tesla Shareholder ' +target)\n"
      ],
      "execution_count": null,
      "outputs": [
        {
          "output_type": "display_data",
          "data": {
            "image/png": "[encoded data removed]",
            "text/plain": [
              "<Figure size 1440x360 with 1 Axes>"
            ]
          },
          "metadata": {
            "tags": []
          }
        }
      ]
    },
    {
      "cell_type": "markdown",
      "metadata": {
        "id": "Vi5LAKEHwA8_"
      },
      "source": [
        "#### **Data Engineering**"
      ]
    },
    {
      "cell_type": "code",
      "metadata": {
        "id": "J9IAvb0gv6ZM"
      },
      "source": [
        "from sklearn.preprocessing import MinMaxScaler\n",
        "from sklearn.model_selection import train_test_split\n",
        "from sklearn.metrics import mean_absolute_error\n",
        "\n",
        "def format_data_as_sequences(data, window_size, target_size = 1):\n",
        "\n",
        "    n = len(data)\n",
        "    data = data[[timestamp, target]]\n",
        "    X, y = [],[]\n",
        "\n",
        "    step = window_size+target_size\n",
        "    for i in range(0,n - step, step):\n",
        "        X.append(list(data[target].iloc[i:(i+window_size)]))\n",
        "        y.append(list(data[target].iloc[(i+window_size):(i+window_size+target_size)]))\n",
        "\n",
        "    return X,y\n",
        "\n",
        "\n",
        "window_size = 10 #Number of Days to Consider to Make Prediction\n",
        "X,y = format_data_as_sequences(stockmarket_data, window_size, target_size = 1)\n",
        "\n",
        "#3\n",
        "scaler = MinMaxScaler(feature_range = (0,1))\n",
        "X_std,y_std = scaler.fit_transform(X), scaler.fit_transform(y)\n",
        "\n",
        "X_train, X_test, y_train, y_test = train_test_split(X_std, y_std, test_size = 0.25, random_state = 42)"
      ],
      "execution_count": null,
      "outputs": []
    },
    {
      "cell_type": "markdown",
      "metadata": {
        "id": "Si73a-SEwow3"
      },
      "source": [
        "#### **Model Design + Training**"
      ]
    },
    {
      "cell_type": "code",
      "metadata": {
        "colab": {
          "base_uri": "https://localhost:8080/"
        },
        "id": "pI8SlTw4wijx",
        "outputId": "db6907e1-ee85-4d03-f6ec-75cb948ae930"
      },
      "source": [
        "from tensorflow.keras.models import Model\n",
        "from tensorflow.keras.layers import Input, SimpleRNN, Dense\n",
        "\n",
        "#RNN Models expects (num_training_examples, num_timesteps, num_features)\n",
        "input_layer = Input(shape = (None,1), name = 'input_sequence')\n",
        "h = SimpleRNN(32, activation = 'tanh', return_sequences = False, name = 'rnn_unit')(input_layer)\n",
        "y = Dense(units = 1, activation = 'linear', name = 'shareholder_prediction')(h)\n",
        "\n",
        "my_rnn = Model(input_layer, y)\n",
        "my_rnn.compile(optimizer = 'rmsprop', loss = 'mse', metrics = ['mse'])\n",
        "my_rnn.summary()\n"
      ],
      "execution_count": null,
      "outputs": [
        {
          "output_type": "stream",
          "text": [
            "Model: \"model\"\n",
            "_________________________________________________________________\n",
            "Layer (type)                 Output Shape              Param #   \n",
            "=================================================================\n",
            "input_sequence (InputLayer)  [(None, None, 1)]         0         \n",
            "_________________________________________________________________\n",
            "rnn_unit (SimpleRNN)         (None, 32)                1088      \n",
            "_________________________________________________________________\n",
            "shareholder_prediction (Dens (None, 1)                 33        \n",
            "=================================================================\n",
            "Total params: 1,121\n",
            "Trainable params: 1,121\n",
            "Non-trainable params: 0\n",
            "_________________________________________________________________\n"
          ],
          "name": "stdout"
        }
      ]
    },
    {
      "cell_type": "code",
      "metadata": {
        "colab": {
          "base_uri": "https://localhost:8080/"
        },
        "id": "xuJ-Z1-lxA74",
        "outputId": "9f69216e-062a-443d-c8a7-6550cf636190"
      },
      "source": [
        "my_rnn.fit(X_train, y_train, epochs = 100, batch_size = 32)"
      ],
      "execution_count": null,
      "outputs": [
        {
          "output_type": "stream",
          "text": [
            "Epoch 1/100\n",
            "4/4 [==============================] - 1s 5ms/step - loss: 0.0526 - mse: 0.0526\n",
            "Epoch 2/100\n",
            "4/4 [==============================] - 0s 4ms/step - loss: 0.0033 - mse: 0.0033\n",
            "Epoch 3/100\n",
            "4/4 [==============================] - 0s 4ms/step - loss: 8.6827e-04 - mse: 8.6827e-04\n",
            "Epoch 4/100\n",
            "4/4 [==============================] - 0s 4ms/step - loss: 0.0016 - mse: 0.0016\n",
            "Epoch 5/100\n",
            "4/4 [==============================] - 0s 4ms/step - loss: 5.6146e-04 - mse: 5.6146e-04\n",
            "Epoch 6/100\n",
            "4/4 [==============================] - 0s 4ms/step - loss: 0.0066 - mse: 0.0066\n",
            "Epoch 7/100\n",
            "4/4 [==============================] - 0s 6ms/step - loss: 4.7900e-04 - mse: 4.7900e-04\n",
            "Epoch 8/100\n",
            "4/4 [==============================] - 0s 4ms/step - loss: 0.0038 - mse: 0.0038\n",
            "Epoch 9/100\n",
            "4/4 [==============================] - 0s 4ms/step - loss: 7.4958e-04 - mse: 7.4958e-04\n",
            "Epoch 10/100\n",
            "4/4 [==============================] - 0s 4ms/step - loss: 0.0199 - mse: 0.0199\n",
            "Epoch 11/100\n",
            "4/4 [==============================] - 0s 5ms/step - loss: 3.9267e-04 - mse: 3.9267e-04\n",
            "Epoch 12/100\n",
            "4/4 [==============================] - 0s 5ms/step - loss: 2.7313e-04 - mse: 2.7313e-04\n",
            "Epoch 13/100\n",
            "4/4 [==============================] - 0s 4ms/step - loss: 3.9534e-04 - mse: 3.9534e-04\n",
            "Epoch 14/100\n",
            "4/4 [==============================] - 0s 4ms/step - loss: 3.2846e-04 - mse: 3.2846e-04\n",
            "Epoch 15/100\n",
            "4/4 [==============================] - 0s 4ms/step - loss: 3.6479e-04 - mse: 3.6479e-04\n",
            "Epoch 16/100\n",
            "4/4 [==============================] - 0s 5ms/step - loss: 4.0526e-04 - mse: 4.0526e-04\n",
            "Epoch 17/100\n",
            "4/4 [==============================] - 0s 5ms/step - loss: 0.0019 - mse: 0.0019\n",
            "Epoch 18/100\n",
            "4/4 [==============================] - 0s 7ms/step - loss: 5.7541e-04 - mse: 5.7541e-04\n",
            "Epoch 19/100\n",
            "4/4 [==============================] - 0s 7ms/step - loss: 0.0019 - mse: 0.0019    \n",
            "Epoch 20/100\n",
            "4/4 [==============================] - 0s 5ms/step - loss: 8.3941e-04 - mse: 8.3941e-04\n",
            "Epoch 21/100\n",
            "4/4 [==============================] - 0s 4ms/step - loss: 2.7077e-04 - mse: 2.7077e-04\n",
            "Epoch 22/100\n",
            "4/4 [==============================] - 0s 7ms/step - loss: 5.7165e-04 - mse: 5.7165e-04\n",
            "Epoch 23/100\n",
            "4/4 [==============================] - 0s 6ms/step - loss: 0.0042 - mse: 0.0042\n",
            "Epoch 24/100\n",
            "4/4 [==============================] - 0s 5ms/step - loss: 0.0068 - mse: 0.0068\n",
            "Epoch 25/100\n",
            "4/4 [==============================] - 0s 5ms/step - loss: 1.8103e-04 - mse: 1.8103e-04\n",
            "Epoch 26/100\n",
            "4/4 [==============================] - 0s 5ms/step - loss: 2.2058e-04 - mse: 2.2058e-04\n",
            "Epoch 27/100\n",
            "4/4 [==============================] - 0s 5ms/step - loss: 3.2422e-04 - mse: 3.2422e-04\n",
            "Epoch 28/100\n",
            "4/4 [==============================] - 0s 4ms/step - loss: 2.7834e-04 - mse: 2.7834e-04\n",
            "Epoch 29/100\n",
            "4/4 [==============================] - 0s 6ms/step - loss: 2.9675e-04 - mse: 2.9675e-04\n",
            "Epoch 30/100\n",
            "4/4 [==============================] - 0s 5ms/step - loss: 3.1918e-04 - mse: 3.1918e-04\n",
            "Epoch 31/100\n",
            "4/4 [==============================] - 0s 4ms/step - loss: 0.0022 - mse: 0.0022\n",
            "Epoch 32/100\n",
            "4/4 [==============================] - 0s 4ms/step - loss: 3.0716e-04 - mse: 3.0716e-04\n",
            "Epoch 33/100\n",
            "4/4 [==============================] - 0s 4ms/step - loss: 0.0021 - mse: 0.0021\n",
            "Epoch 34/100\n",
            "4/4 [==============================] - 0s 6ms/step - loss: 1.5268e-04 - mse: 1.5268e-04\n",
            "Epoch 35/100\n",
            "4/4 [==============================] - 0s 4ms/step - loss: 3.5386e-04 - mse: 3.5386e-04\n",
            "Epoch 36/100\n",
            "4/4 [==============================] - 0s 4ms/step - loss: 9.9843e-04 - mse: 9.9843e-04\n",
            "Epoch 37/100\n",
            "4/4 [==============================] - 0s 4ms/step - loss: 0.0022 - mse: 0.0022\n",
            "Epoch 38/100\n",
            "4/4 [==============================] - 0s 4ms/step - loss: 3.0383e-04 - mse: 3.0383e-04\n",
            "Epoch 39/100\n",
            "4/4 [==============================] - 0s 4ms/step - loss: 2.6646e-04 - mse: 2.6646e-04\n",
            "Epoch 40/100\n",
            "4/4 [==============================] - 0s 5ms/step - loss: 0.0047 - mse: 0.0047\n",
            "Epoch 41/100\n",
            "4/4 [==============================] - 0s 4ms/step - loss: 2.2049e-04 - mse: 2.2049e-04\n",
            "Epoch 42/100\n",
            "4/4 [==============================] - 0s 5ms/step - loss: 2.1359e-04 - mse: 2.1359e-04\n",
            "Epoch 43/100\n",
            "4/4 [==============================] - 0s 4ms/step - loss: 0.0051 - mse: 0.0051\n",
            "Epoch 44/100\n",
            "4/4 [==============================] - 0s 4ms/step - loss: 2.6682e-04 - mse: 2.6682e-04\n",
            "Epoch 45/100\n",
            "4/4 [==============================] - 0s 4ms/step - loss: 1.9985e-04 - mse: 1.9985e-04\n",
            "Epoch 46/100\n",
            "4/4 [==============================] - 0s 5ms/step - loss: 1.8490e-04 - mse: 1.8490e-04\n",
            "Epoch 47/100\n",
            "4/4 [==============================] - 0s 5ms/step - loss: 0.0024 - mse: 0.0024\n",
            "Epoch 48/100\n",
            "4/4 [==============================] - 0s 5ms/step - loss: 2.2546e-04 - mse: 2.2546e-04\n",
            "Epoch 49/100\n",
            "4/4 [==============================] - 0s 7ms/step - loss: 6.7878e-04 - mse: 6.7878e-04\n",
            "Epoch 50/100\n",
            "4/4 [==============================] - 0s 6ms/step - loss: 2.3759e-04 - mse: 2.3759e-04\n",
            "Epoch 51/100\n",
            "4/4 [==============================] - 0s 6ms/step - loss: 2.2684e-04 - mse: 2.2684e-04\n",
            "Epoch 52/100\n",
            "4/4 [==============================] - 0s 6ms/step - loss: 4.4880e-04 - mse: 4.4880e-04\n",
            "Epoch 53/100\n",
            "4/4 [==============================] - 0s 7ms/step - loss: 0.0026 - mse: 0.0026\n",
            "Epoch 54/100\n",
            "4/4 [==============================] - 0s 5ms/step - loss: 1.8269e-04 - mse: 1.8269e-04\n",
            "Epoch 55/100\n",
            "4/4 [==============================] - 0s 5ms/step - loss: 2.1904e-04 - mse: 2.1904e-04\n",
            "Epoch 56/100\n",
            "4/4 [==============================] - 0s 5ms/step - loss: 4.7401e-04 - mse: 4.7401e-04\n",
            "Epoch 57/100\n",
            "4/4 [==============================] - 0s 4ms/step - loss: 3.4152e-04 - mse: 3.4152e-04\n",
            "Epoch 58/100\n",
            "4/4 [==============================] - 0s 7ms/step - loss: 2.2348e-04 - mse: 2.2348e-04\n",
            "Epoch 59/100\n",
            "4/4 [==============================] - 0s 4ms/step - loss: 3.7514e-04 - mse: 3.7514e-04\n",
            "Epoch 60/100\n",
            "4/4 [==============================] - 0s 4ms/step - loss: 0.0025 - mse: 0.0025\n",
            "Epoch 61/100\n",
            "4/4 [==============================] - 0s 4ms/step - loss: 5.0946e-04 - mse: 5.0946e-04\n",
            "Epoch 62/100\n",
            "4/4 [==============================] - 0s 6ms/step - loss: 2.5080e-04 - mse: 2.5080e-04\n",
            "Epoch 63/100\n",
            "4/4 [==============================] - 0s 6ms/step - loss: 1.9232e-04 - mse: 1.9232e-04\n",
            "Epoch 64/100\n",
            "4/4 [==============================] - 0s 5ms/step - loss: 3.9762e-04 - mse: 3.9762e-04\n",
            "Epoch 65/100\n",
            "4/4 [==============================] - 0s 4ms/step - loss: 1.6347e-04 - mse: 1.6347e-04\n",
            "Epoch 66/100\n",
            "4/4 [==============================] - 0s 4ms/step - loss: 2.5759e-04 - mse: 2.5759e-04\n",
            "Epoch 67/100\n",
            "4/4 [==============================] - 0s 5ms/step - loss: 1.8992e-04 - mse: 1.8992e-04\n",
            "Epoch 68/100\n",
            "4/4 [==============================] - 0s 5ms/step - loss: 4.7671e-04 - mse: 4.7671e-04\n",
            "Epoch 69/100\n",
            "4/4 [==============================] - 0s 6ms/step - loss: 4.1642e-04 - mse: 4.1642e-04\n",
            "Epoch 70/100\n",
            "4/4 [==============================] - 0s 5ms/step - loss: 9.7246e-04 - mse: 9.7246e-04\n",
            "Epoch 71/100\n",
            "4/4 [==============================] - 0s 4ms/step - loss: 2.5253e-04 - mse: 2.5253e-04\n",
            "Epoch 72/100\n",
            "4/4 [==============================] - 0s 6ms/step - loss: 1.5556e-04 - mse: 1.5556e-04\n",
            "Epoch 73/100\n",
            "4/4 [==============================] - 0s 5ms/step - loss: 7.4967e-04 - mse: 7.4967e-04\n",
            "Epoch 74/100\n",
            "4/4 [==============================] - 0s 5ms/step - loss: 6.8947e-04 - mse: 6.8947e-04\n",
            "Epoch 75/100\n",
            "4/4 [==============================] - 0s 4ms/step - loss: 2.0751e-04 - mse: 2.0751e-04\n",
            "Epoch 76/100\n",
            "4/4 [==============================] - 0s 5ms/step - loss: 1.5860e-04 - mse: 1.5860e-04\n",
            "Epoch 77/100\n",
            "4/4 [==============================] - 0s 5ms/step - loss: 0.0031 - mse: 0.0031\n",
            "Epoch 78/100\n",
            "4/4 [==============================] - 0s 7ms/step - loss: 1.7960e-04 - mse: 1.7960e-04\n",
            "Epoch 79/100\n",
            "4/4 [==============================] - 0s 5ms/step - loss: 1.8172e-04 - mse: 1.8172e-04\n",
            "Epoch 80/100\n",
            "4/4 [==============================] - 0s 5ms/step - loss: 2.9224e-04 - mse: 2.9224e-04\n",
            "Epoch 81/100\n",
            "4/4 [==============================] - 0s 5ms/step - loss: 1.4809e-04 - mse: 1.4809e-04\n",
            "Epoch 82/100\n",
            "4/4 [==============================] - 0s 5ms/step - loss: 3.1798e-04 - mse: 3.1798e-04\n",
            "Epoch 83/100\n",
            "4/4 [==============================] - 0s 5ms/step - loss: 2.4996e-04 - mse: 2.4996e-04\n",
            "Epoch 84/100\n",
            "4/4 [==============================] - 0s 5ms/step - loss: 1.4308e-04 - mse: 1.4308e-04\n",
            "Epoch 85/100\n",
            "4/4 [==============================] - 0s 5ms/step - loss: 2.5963e-04 - mse: 2.5963e-04\n",
            "Epoch 86/100\n",
            "4/4 [==============================] - 0s 5ms/step - loss: 7.0490e-04 - mse: 7.0490e-04\n",
            "Epoch 87/100\n",
            "4/4 [==============================] - 0s 5ms/step - loss: 6.7663e-04 - mse: 6.7663e-04\n",
            "Epoch 88/100\n",
            "4/4 [==============================] - 0s 4ms/step - loss: 3.0937e-04 - mse: 3.0937e-04\n",
            "Epoch 89/100\n",
            "4/4 [==============================] - 0s 5ms/step - loss: 2.1288e-04 - mse: 2.1288e-04\n",
            "Epoch 90/100\n",
            "4/4 [==============================] - 0s 6ms/step - loss: 7.9435e-04 - mse: 7.9435e-04\n",
            "Epoch 91/100\n",
            "4/4 [==============================] - 0s 9ms/step - loss: 1.3539e-04 - mse: 1.3539e-04\n",
            "Epoch 92/100\n",
            "4/4 [==============================] - 0s 4ms/step - loss: 3.1215e-04 - mse: 3.1215e-04\n",
            "Epoch 93/100\n",
            "4/4 [==============================] - 0s 5ms/step - loss: 1.8642e-04 - mse: 1.8642e-04\n",
            "Epoch 94/100\n",
            "4/4 [==============================] - 0s 5ms/step - loss: 0.0011 - mse: 0.0011\n",
            "Epoch 95/100\n",
            "4/4 [==============================] - 0s 5ms/step - loss: 1.4387e-04 - mse: 1.4387e-04\n",
            "Epoch 96/100\n",
            "4/4 [==============================] - 0s 6ms/step - loss: 0.0012 - mse: 0.0012\n",
            "Epoch 97/100\n",
            "4/4 [==============================] - 0s 6ms/step - loss: 1.8507e-04 - mse: 1.8507e-04\n",
            "Epoch 98/100\n",
            "4/4 [==============================] - 0s 4ms/step - loss: 1.9778e-04 - mse: 1.9778e-04\n",
            "Epoch 99/100\n",
            "4/4 [==============================] - 0s 4ms/step - loss: 2.0689e-04 - mse: 2.0689e-04\n",
            "Epoch 100/100\n",
            "4/4 [==============================] - 0s 5ms/step - loss: 3.0261e-04 - mse: 3.0261e-04\n"
          ],
          "name": "stdout"
        },
        {
          "output_type": "execute_result",
          "data": {
            "text/plain": [
              "<tensorflow.python.keras.callbacks.History at 0x7fc0cbe5aa90>"
            ]
          },
          "metadata": {
            "tags": []
          },
          "execution_count": 7
        }
      ]
    },
    {
      "cell_type": "markdown",
      "metadata": {
        "id": "4xxvqfs1yR6q"
      },
      "source": [
        "#### **Model Testing + Validation**"
      ]
    },
    {
      "cell_type": "code",
      "metadata": {
        "colab": {
          "base_uri": "https://localhost:8080/",
          "height": 614
        },
        "id": "jXnmXQDyw3xj",
        "outputId": "45ca6951-24f6-418f-ddb6-a5d0aa983733"
      },
      "source": [
        "def viz_predictions(y_test, y_hat, figsize = (20,8), title = None):\n",
        "    fig, axes = plt.subplots(figsize = figsize)\n",
        "\n",
        "    sns.lineplot(np.arange(0,len(y_test)), y_test.reshape(-1),\n",
        "                 color = 'darkblue', ax = axes, label = 'Truth', marker = 'o')\n",
        "    sns.lineplot(np.arange(0,len(y_test)), y_hat.reshape(-1),\n",
        "                 color = 'red', ax = axes, label = 'Prediction', marker = 'o')\n",
        "    axes.set_xlabel('X')\n",
        "    axes.set_ylabel('y')\n",
        "    plt.legend(loc = 'upper left', prop = {'size': 15})\n",
        "\n",
        "    if title is not None:\n",
        "        axes.set_title(title, size = 20)\n",
        "\n",
        "\n",
        "X_test_reshaped =  X_test.reshape(-1,window_size,1)\n",
        "y_hat = my_rnn.predict(X_test_reshaped)\n",
        "\n",
        "mae = mean_absolute_error(y_test, y_hat)\n",
        "\n",
        "title = 'RNN: #Neurons in Hidden Layer = ' + str(h.shape[1])  + ', Sequence Lengths = ' + str(X_train.shape[1]) + ', MAE = ' + \"%0.5f\"%mae\n",
        "viz_predictions(y_test, y_hat, figsize = (20,8), title = title)\n"
      ],
      "execution_count": null,
      "outputs": [
        {
          "output_type": "stream",
          "text": [
            "/usr/local/lib/python3.7/dist-packages/seaborn/_decorators.py:43: FutureWarning: Pass the following variables as keyword args: x, y. From version 0.12, the only valid positional argument will be `data`, and passing other arguments without an explicit keyword will result in an error or misinterpretation.\n",
            "  FutureWarning\n",
            "/usr/local/lib/python3.7/dist-packages/seaborn/_decorators.py:43: FutureWarning: Pass the following variables as keyword args: x, y. From version 0.12, the only valid positional argument will be `data`, and passing other arguments without an explicit keyword will result in an error or misinterpretation.\n",
            "  FutureWarning\n"
          ],
          "name": "stderr"
        },
        {
          "output_type": "display_data",
          "data": {
            "image/png": "[encoded data removed]",
            "text/plain": [
              "<Figure size 1440x576 with 1 Axes>"
            ]
          },
          "metadata": {
            "tags": []
          }
        }
      ]
    }
  ],
  "metadata": {
    "colab": {
      "provenance": []
    },
    "kernelspec": {
      "display_name": "Python 3",
      "name": "python3"
    },
    "language_info": {
      "name": "python"
    }
  },
  "nbformat": 4,
  "nbformat_minor": 0
}