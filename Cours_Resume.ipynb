{
  "nbformat": 4,
  "nbformat_minor": 0,
  "metadata": {
    "colab": {
      "provenance": []
    },
    "kernelspec": {
      "name": "python3",
      "display_name": "Python 3"
    },
    "language_info": {
      "name": "python"
    }
  },
  "cells": [
    {
      "cell_type": "markdown",
      "source": [
        "# Numpy"
      ],
      "metadata": {
        "id": "BE80XPfRPnx7"
      }
    },
    {
      "cell_type": "code",
      "source": [
        "# Importer le package numpy\n",
        "import numpy as np"
      ],
      "metadata": {
        "id": "Tw9gweYePuE9"
      },
      "execution_count": null,
      "outputs": []
    },
    {
      "cell_type": "code",
      "execution_count": null,
      "metadata": {
        "id": "UaTJqzLEO-tk"
      },
      "outputs": [],
      "source": [
        "# La documentation de numpy\n",
        "help(np)"
      ]
    },
    {
      "cell_type": "code",
      "source": [
        "# Créer un vecteur de taille 3\n",
        "vector = np.array([9,8,4])\n",
        "print(f\"Le vecteur est:\\n{vector}\\nLa taille du vecteur est:\\n{vector.shape}\")"
      ],
      "metadata": {
        "colab": {
          "base_uri": "https://localhost:8080/"
        },
        "id": "e0lJ2CvAP2Rl",
        "outputId": "0e121cae-d2ec-4896-beba-77e847e80e33"
      },
      "execution_count": null,
      "outputs": [
        {
          "output_type": "stream",
          "name": "stdout",
          "text": [
            "Le vecteur est:\n",
            "[9 8 4]\n",
            "La taille du vecteur est:\n",
            "(3,)\n"
          ]
        }
      ]
    },
    {
      "cell_type": "code",
      "source": [
        "# Créer une matrice de dimension (2,3)\n",
        "matrix = np.array([[2,4,5], [1,2,0]])\n",
        "print(f\"La matrice est :\\n{matrix}\\nLa dimension du vecteur est:\\n{matrix.shape}\")"
      ],
      "metadata": {
        "colab": {
          "base_uri": "https://localhost:8080/"
        },
        "id": "DtrfeepuQN7T",
        "outputId": "092de9ec-41ca-4d3b-8630-96dbd56cf1da"
      },
      "execution_count": null,
      "outputs": [
        {
          "output_type": "stream",
          "name": "stdout",
          "text": [
            "La matrice est :\n",
            "[[2 4 5]\n",
            " [1 2 0]]\n",
            "La dimension du vecteur est:\n",
            "(2, 3)\n"
          ]
        }
      ]
    },
    {
      "cell_type": "code",
      "source": [
        "# Créer une matrice de dimension (2,3) initialisée à 0\n",
        "matrix = np.zeros((2,3))\n",
        "print(f\"La matrice est :\\n{matrix}\\nLa dimension du vecteur est:\\n{matrix.shape}\")"
      ],
      "metadata": {
        "colab": {
          "base_uri": "https://localhost:8080/"
        },
        "id": "VXuYsvLvRRyX",
        "outputId": "22aeff80-d613-4c3a-d574-33888a25b31b"
      },
      "execution_count": null,
      "outputs": [
        {
          "output_type": "stream",
          "name": "stdout",
          "text": [
            "La matrice est :\n",
            "[[0. 0. 0.]\n",
            " [0. 0. 0.]]\n",
            "La dimension du vecteur est:\n",
            "(2, 3)\n"
          ]
        }
      ]
    },
    {
      "cell_type": "code",
      "source": [
        "# Créer une matrice de dimension (2,3) initialisée à 1\n",
        "matrix = np.ones((2,3))\n",
        "print(f\"La matrice est :\\n{matrix}\\nLa dimension du vecteur est:\\n{matrix.shape}\")"
      ],
      "metadata": {
        "colab": {
          "base_uri": "https://localhost:8080/"
        },
        "id": "-bRZOqbBRh8q",
        "outputId": "a1379c5e-1e18-4c6b-d652-6b711073708b"
      },
      "execution_count": null,
      "outputs": [
        {
          "output_type": "stream",
          "name": "stdout",
          "text": [
            "La matrice est :\n",
            "[[1. 1. 1.]\n",
            " [1. 1. 1.]]\n",
            "La dimension du vecteur est:\n",
            "(2, 3)\n"
          ]
        }
      ]
    },
    {
      "cell_type": "code",
      "source": [
        "# Créer une matrice de dimension (2,3) initialisée à 9\n",
        "matrix = np.full((2,3), 9)\n",
        "print(f\"La matrice est :\\n{matrix}\\nLa dimension du vecteur est:\\n{matrix.shape}\")"
      ],
      "metadata": {
        "colab": {
          "base_uri": "https://localhost:8080/"
        },
        "id": "WhUHi7XRRmf9",
        "outputId": "bb79521f-ed21-4ce8-db47-e1b5bfa0955a"
      },
      "execution_count": null,
      "outputs": [
        {
          "output_type": "stream",
          "name": "stdout",
          "text": [
            "La matrice est :\n",
            "[[9 9 9]\n",
            " [9 9 9]]\n",
            "La dimension du vecteur est:\n",
            "(2, 3)\n"
          ]
        }
      ]
    },
    {
      "cell_type": "code",
      "source": [
        "# Générer un vecteur aléatoire de taille dont les élément sont compris entre 1 et 5\n",
        "vector = np.linspace(1,5,10)\n",
        "print(f\"Le vecteur est:\\n{vector}\\nLa taille du vecteur est:\\n{vector.shape}\")"
      ],
      "metadata": {
        "colab": {
          "base_uri": "https://localhost:8080/"
        },
        "id": "6CLTzcc7gmqn",
        "outputId": "3052d1f8-03db-4cea-ae16-ddcd9d5269f3"
      },
      "execution_count": null,
      "outputs": [
        {
          "output_type": "stream",
          "name": "stdout",
          "text": [
            "Le vecteur est:\n",
            "[1.         1.44444444 1.88888889 2.33333333 2.77777778 3.22222222\n",
            " 3.66666667 4.11111111 4.55555556 5.        ]\n",
            "La taille du vecteur est:\n",
            "(10,)\n"
          ]
        }
      ]
    },
    {
      "cell_type": "code",
      "source": [
        "# Créer une matrice aléatoire suivant une distribution uniforme de dimension (5,4)\n",
        "matrix = np.random.rand(5,4)\n",
        "print(f\"La matrice est :\\n{matrix}\\nLa dimension du vecteur est:\\n{matrix.shape}\")"
      ],
      "metadata": {
        "colab": {
          "base_uri": "https://localhost:8080/"
        },
        "id": "kGbXO9ythj0Q",
        "outputId": "8a62ca38-eeaa-460d-a178-8794f796f289"
      },
      "execution_count": null,
      "outputs": [
        {
          "output_type": "stream",
          "name": "stdout",
          "text": [
            "La matrice est :\n",
            "[[0.12332786 0.10217774 0.65848381 0.1236371 ]\n",
            " [0.2295589  0.14673095 0.92125357 0.92516779]\n",
            " [0.9127768  0.05371393 0.33502013 0.771212  ]\n",
            " [0.40344172 0.25628726 0.01613367 0.0350469 ]\n",
            " [0.84303532 0.12630107 0.37086446 0.57431517]]\n",
            "La dimension du vecteur est:\n",
            "(5, 4)\n"
          ]
        }
      ]
    },
    {
      "cell_type": "code",
      "source": [
        "# Créer une matrice aléatoire suivant une distribution normale de dimension (5,4)\n",
        "matrix = np.random.randn(5,4)\n",
        "print(f\"La matrice est :\\n{matrix}\\nLa dimension du vecteur est:\\n{matrix.shape}\")"
      ],
      "metadata": {
        "colab": {
          "base_uri": "https://localhost:8080/"
        },
        "id": "IdDKB-TXiCQ1",
        "outputId": "9557d9dd-62c8-4213-c416-7c495ce2f2e5"
      },
      "execution_count": null,
      "outputs": [
        {
          "output_type": "stream",
          "name": "stdout",
          "text": [
            "La matrice est :\n",
            "[[ 0.69219421 -0.64106179  0.80961834 -0.57778373]\n",
            " [-0.30861969  1.47849239 -1.77586103  0.09000056]\n",
            " [-1.2388066  -0.96556868  0.81824781  1.67370366]\n",
            " [-0.47265541 -0.18851269 -0.07883512  1.38988871]\n",
            " [ 0.166392    0.07536031  0.9868846  -1.92928392]]\n",
            "La dimension du vecteur est:\n",
            "(5, 4)\n"
          ]
        }
      ]
    },
    {
      "cell_type": "markdown",
      "source": [
        "**Pairwise multiplication**"
      ],
      "metadata": {
        "id": "hDFpcqITlYhf"
      }
    },
    {
      "cell_type": "code",
      "source": [
        "# MULTIPLICATION ENTRE VECTEURs\n",
        "# La multiplication entre vecteurs est possiblie que si les vecteurs sont de même taille.\n",
        "# La sortie est un vecteur de même taille que les deux vecteurs\n",
        "\n",
        "vector1 = np.random.randn(5)\n",
        "vector2 = np.random.rand(5)\n",
        "\n",
        "pairwise = vector1*vector2\n",
        "print(f\"Le vecteur de sortie est:\\n{pairwise}\\nLa taille du vecteur est:\\n{pairwise.shape}\")"
      ],
      "metadata": {
        "colab": {
          "base_uri": "https://localhost:8080/"
        },
        "id": "s_AsX5Ofi4r-",
        "outputId": "6c34e4a4-7ba6-44b3-82e7-226b54e54120"
      },
      "execution_count": null,
      "outputs": [
        {
          "output_type": "stream",
          "name": "stdout",
          "text": [
            "Le vecteur de sortie est:\n",
            "[ 0.01607465 -0.28206204  0.64671521 -0.87554336 -0.80629549]\n",
            "La taille du vecteur est:\n",
            "(5,)\n"
          ]
        }
      ]
    },
    {
      "cell_type": "code",
      "source": [
        "# MULTIPLICATION ENTRE MATRICES\n",
        "# La multiplication entre matrices est possiblie que si les matrices sont de même taille.\n",
        "# La sortie est une matrice de même taille que les deux matrices\n",
        "\n",
        "vector1 = np.random.randn(5, 2)\n",
        "vector2 = np.random.rand(5, 2)\n",
        "\n",
        "pairwise = vector1*vector2\n",
        "print(f\"La matrice de sortie est:\\n{pairwise}\\nLa taille de la matrice est:\\n{pairwise.shape}\")"
      ],
      "metadata": {
        "colab": {
          "base_uri": "https://localhost:8080/"
        },
        "id": "zsCy6RJWlSst",
        "outputId": "cc6a5b31-8f3d-4acb-84cc-679968d58029"
      },
      "execution_count": null,
      "outputs": [
        {
          "output_type": "stream",
          "name": "stdout",
          "text": [
            "La matrice de sortie est:\n",
            "[[-0.43845231 -0.21752073]\n",
            " [ 0.37735281  0.12301385]\n",
            " [ 0.18328045  0.64514771]\n",
            " [-0.53149465  0.14952345]\n",
            " [-0.58474633 -0.56538565]]\n",
            "La taille de la matrice est:\n",
            "(5, 2)\n"
          ]
        }
      ]
    },
    {
      "cell_type": "code",
      "source": [
        "# MULTIPLICATION ENTRE VECTEUR ET MATRICE\n",
        "# La multiplication entre VECTEUR ET MATRICE est possiblie que si le nombre de colonnes de la matrice est égal à la taille du vecteur\n",
        "# La sortie est une matrice de même taille que la matrice\n",
        "\n",
        "vector1 = np.random.randn(5, 2)\n",
        "vector2 = np.random.rand(2)\n",
        "\n",
        "pairwise1 = vector1*vector2\n",
        "pairwise2 = vector2*vector1\n",
        "print(\"1 ER CAS:\")\n",
        "print(f\"La matrice de sortie est:\\n{pairwise1}\\nLa taille de la matrice est:\\n{pairwise1.shape}\")\n",
        "print()\n",
        "print(\"2 ÈME CAS:\")\n",
        "print(f\"La matrice de sortie est:\\n{pairwise2}\\nLa taille de la matrice est:\\n{pairwise2.shape}\")"
      ],
      "metadata": {
        "colab": {
          "base_uri": "https://localhost:8080/"
        },
        "id": "mbAbEQjrmUvY",
        "outputId": "44abecd9-2bc7-431c-c044-593b0abc31de"
      },
      "execution_count": null,
      "outputs": [
        {
          "output_type": "stream",
          "name": "stdout",
          "text": [
            "1 ER CAS:\n",
            "La matrice de sortie est:\n",
            "[[-1.38905653  0.0702349 ]\n",
            " [ 0.03813999  0.05295878]\n",
            " [ 1.82340946 -0.13640185]\n",
            " [ 0.33236966 -0.24771878]\n",
            " [-0.71260141  0.0798215 ]]\n",
            "La taille de la matrice est:\n",
            "(5, 2)\n",
            "\n",
            "2 ÈME CAS:\n",
            "La matrice de sortie est:\n",
            "[[-1.38905653  0.0702349 ]\n",
            " [ 0.03813999  0.05295878]\n",
            " [ 1.82340946 -0.13640185]\n",
            " [ 0.33236966 -0.24771878]\n",
            " [-0.71260141  0.0798215 ]]\n",
            "La taille de la matrice est:\n",
            "(5, 2)\n"
          ]
        }
      ]
    },
    {
      "cell_type": "code",
      "source": [],
      "metadata": {
        "id": "7wYeYQ4antxj"
      },
      "execution_count": null,
      "outputs": []
    },
    {
      "cell_type": "markdown",
      "source": [
        "**Dot product**"
      ],
      "metadata": {
        "id": "YY4l1C1gnumM"
      }
    },
    {
      "cell_type": "code",
      "source": [
        "# Le DOT PRODUCT ENTRE VECTEURS\n",
        "# Le dot product entre vecteurs est possiblie que si les vecteurs sont de même taille.\n",
        "# La sortie est un scalaire\n",
        "\n",
        "vector1 = np.random.randn(5)\n",
        "vector2 = np.random.rand(5)\n",
        "\n",
        "dot1 = vector1.dot(vector2)\n",
        "dot2 = vector2.dot(vector1)\n",
        "\n",
        "print(\"1 ER CAS\")\n",
        "print(f\"Le scalaire de sortie est:\\n{dot1}\")\n",
        "\n",
        "print(\"2 ÈME CAS\")\n",
        "print(f\"Le scalaire de sortie est:\\n{dot2}\")"
      ],
      "metadata": {
        "colab": {
          "base_uri": "https://localhost:8080/"
        },
        "id": "V-HsyKXNrEpj",
        "outputId": "16b88fdf-0330-4a29-e34d-6d8b2234603e"
      },
      "execution_count": null,
      "outputs": [
        {
          "output_type": "stream",
          "name": "stdout",
          "text": [
            "1 ER CAS\n",
            "Le scalaire de sortie est:\n",
            "1.0768735628019432\n",
            "2 ÈME CAS\n",
            "Le scalaire de sortie est:\n",
            "1.0768735628019432\n"
          ]
        }
      ]
    },
    {
      "cell_type": "code",
      "source": [
        "# DOT PRODUCT ENTRE MATRICES\n",
        "# Le Dot product entre A et B est possible que si le nombre de colonnes de A est égal au nombre de lignes de B\n",
        "# La sortie est une matrice de dimension le nombre de colonnes de A et le nombre de colonnes de B\n",
        "\n",
        "matrix1 = np.random.randn(5, 2)\n",
        "matrix2 = np.random.rand(2, 5)\n",
        "\n",
        "dot = matrix1.dot(matrix2)\n",
        "print(f\"La matrice de sortie est:\\n{dot}\\nLa taille de la matrice est:\\n{dot.shape}\")"
      ],
      "metadata": {
        "colab": {
          "base_uri": "https://localhost:8080/"
        },
        "id": "Q7c-Z8eXr6PY",
        "outputId": "8a3fc280-d81a-4841-9cbb-48f628a6405e"
      },
      "execution_count": null,
      "outputs": [
        {
          "output_type": "stream",
          "name": "stdout",
          "text": [
            "La matrice de sortie est:\n",
            "[[-0.26282919 -0.228402   -0.35022539 -0.20903043 -0.46832965]\n",
            " [ 0.00705422  0.01741155 -0.12267683  0.09598272 -0.22490056]\n",
            " [-0.46320242 -0.42696121 -0.33118542 -0.56411067 -0.31107562]\n",
            " [-1.07990686 -1.01100405 -0.58960636 -1.44004943 -0.39707897]\n",
            " [-0.55988156 -0.51462067 -0.41734981 -0.67019199 -0.40663995]]\n",
            "La taille de la matrice est:\n",
            "(5, 5)\n"
          ]
        }
      ]
    },
    {
      "cell_type": "code",
      "source": [
        "# DOT PRODUCT ENTRE VECTEURS ET MATRICES\n",
        "# Le DOT product entre vecteurs et matrices est possible que si la taille du vecteur est égal au nombre de colonnes de la matrice\n",
        "# La sortie est un vecteur de la taille le nombre de colonnes de la matrice\n",
        "\n",
        "matrix = np.random.randn(5, 2)\n",
        "vector = np.random.rand(5)\n",
        "\n",
        "dot = vector.dot(matrix)\n",
        "print(f\"La matrice de sortie est:\\n{dot}\\nLa taille du vecteur est:\\n{dot.shape}\")"
      ],
      "metadata": {
        "colab": {
          "base_uri": "https://localhost:8080/"
        },
        "id": "EXSFwm8lwish",
        "outputId": "5e05bb4d-d871-4597-bf25-7120fb83e269"
      },
      "execution_count": null,
      "outputs": [
        {
          "output_type": "stream",
          "name": "stdout",
          "text": [
            "La matrice de sortie est:\n",
            "[ 1.27246882 -0.50373729]\n",
            "La taille du vecteur est:\n",
            "(2,)\n"
          ]
        }
      ]
    },
    {
      "cell_type": "markdown",
      "source": [
        "np.linalg"
      ],
      "metadata": {
        "id": "HgZncVsH64KZ"
      }
    },
    {
      "cell_type": "markdown",
      "source": [
        "    Matrix and vector products\n",
        "    --------------------------\n",
        "    \n",
        "       multi_dot\n",
        "       matrix_power\n",
        "    \n",
        "    Decompositions\n",
        "    --------------\n",
        "    \n",
        "       cholesky\n",
        "       qr\n",
        "       svd\n",
        "    \n",
        "    Matrix eigenvalues\n",
        "    ------------------\n",
        "    \n",
        "       eig\n",
        "       eigh\n",
        "       eigvals\n",
        "       eigvalsh\n",
        "    \n",
        "    Norms and other numbers\n",
        "    -----------------------\n",
        "    \n",
        "       norm\n",
        "       cond\n",
        "       det\n",
        "       matrix_rank\n",
        "       slogdet\n",
        "    \n",
        "    Solving equations and inverting matrices\n",
        "    ----------------------------------------\n",
        "    \n",
        "       solve\n",
        "       tensorsolve\n",
        "       lstsq\n",
        "       inv\n",
        "       pinv\n",
        "       tensorinv"
      ],
      "metadata": {
        "id": "P_y8YaqlMhqP"
      }
    }
  ]
}