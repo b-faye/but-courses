{
  "nbformat": 4,
  "nbformat_minor": 0,
  "metadata": {
    "colab": {
      "provenance": []
    },
    "kernelspec": {
      "name": "python3",
      "display_name": "Python 3"
    },
    "language_info": {
      "name": "python"
    },
    "widgets": {
      "application/vnd.jupyter.widget-state+json": {
        "1a68370eca764ffd988193b301b45d8d": {
          "model_module": "@jupyter-widgets/controls",
          "model_name": "HBoxModel",
          "model_module_version": "1.5.0",
          "state": {
            "_dom_classes": [],
            "_model_module": "@jupyter-widgets/controls",
            "_model_module_version": "1.5.0",
            "_model_name": "HBoxModel",
            "_view_count": null,
            "_view_module": "@jupyter-widgets/controls",
            "_view_module_version": "1.5.0",
            "_view_name": "HBoxView",
            "box_style": "",
            "children": [
              "IPY_MODEL_8e745e4e375e40cfa7081b11ccb18b0e",
              "IPY_MODEL_65d3dc3dc8084c799ab528a139728283",
              "IPY_MODEL_436063960b4848b1b4437b2d0dbfc9eb"
            ],
            "layout": "IPY_MODEL_6af803fb7f6f442db995d66401e76144"
          }
        },
        "8e745e4e375e40cfa7081b11ccb18b0e": {
          "model_module": "@jupyter-widgets/controls",
          "model_name": "HTMLModel",
          "model_module_version": "1.5.0",
          "state": {
            "_dom_classes": [],
            "_model_module": "@jupyter-widgets/controls",
            "_model_module_version": "1.5.0",
            "_model_name": "HTMLModel",
            "_view_count": null,
            "_view_module": "@jupyter-widgets/controls",
            "_view_module_version": "1.5.0",
            "_view_name": "HTMLView",
            "description": "",
            "description_tooltip": null,
            "layout": "IPY_MODEL_8250911406e947feb92c9f751297883d",
            "placeholder": "​",
            "style": "IPY_MODEL_efe8794b719d4542a855a0a7ab9e0029",
            "value": "config.json: 100%"
          }
        },
        "65d3dc3dc8084c799ab528a139728283": {
          "model_module": "@jupyter-widgets/controls",
          "model_name": "FloatProgressModel",
          "model_module_version": "1.5.0",
          "state": {
            "_dom_classes": [],
            "_model_module": "@jupyter-widgets/controls",
            "_model_module_version": "1.5.0",
            "_model_name": "FloatProgressModel",
            "_view_count": null,
            "_view_module": "@jupyter-widgets/controls",
            "_view_module_version": "1.5.0",
            "_view_name": "ProgressView",
            "bar_style": "success",
            "description": "",
            "description_tooltip": null,
            "layout": "IPY_MODEL_ae0eee6f48714802ab9c0351c28d68d9",
            "max": 665,
            "min": 0,
            "orientation": "horizontal",
            "style": "IPY_MODEL_ba7c4b681fc3445db58ca590cac28699",
            "value": 665
          }
        },
        "436063960b4848b1b4437b2d0dbfc9eb": {
          "model_module": "@jupyter-widgets/controls",
          "model_name": "HTMLModel",
          "model_module_version": "1.5.0",
          "state": {
            "_dom_classes": [],
            "_model_module": "@jupyter-widgets/controls",
            "_model_module_version": "1.5.0",
            "_model_name": "HTMLModel",
            "_view_count": null,
            "_view_module": "@jupyter-widgets/controls",
            "_view_module_version": "1.5.0",
            "_view_name": "HTMLView",
            "description": "",
            "description_tooltip": null,
            "layout": "IPY_MODEL_a4040b3c806042d3a45b73a972fe906c",
            "placeholder": "​",
            "style": "IPY_MODEL_678899aa556d452fa2f4e0959958f0c9",
            "value": " 665/665 [00:00&lt;00:00, 16.6kB/s]"
          }
        },
        "6af803fb7f6f442db995d66401e76144": {
          "model_module": "@jupyter-widgets/base",
          "model_name": "LayoutModel",
          "model_module_version": "1.2.0",
          "state": {
            "_model_module": "@jupyter-widgets/base",
            "_model_module_version": "1.2.0",
            "_model_name": "LayoutModel",
            "_view_count": null,
            "_view_module": "@jupyter-widgets/base",
            "_view_module_version": "1.2.0",
            "_view_name": "LayoutView",
            "align_content": null,
            "align_items": null,
            "align_self": null,
            "border": null,
            "bottom": null,
            "display": null,
            "flex": null,
            "flex_flow": null,
            "grid_area": null,
            "grid_auto_columns": null,
            "grid_auto_flow": null,
            "grid_auto_rows": null,
            "grid_column": null,
            "grid_gap": null,
            "grid_row": null,
            "grid_template_areas": null,
            "grid_template_columns": null,
            "grid_template_rows": null,
            "height": null,
            "justify_content": null,
            "justify_items": null,
            "left": null,
            "margin": null,
            "max_height": null,
            "max_width": null,
            "min_height": null,
            "min_width": null,
            "object_fit": null,
            "object_position": null,
            "order": null,
            "overflow": null,
            "overflow_x": null,
            "overflow_y": null,
            "padding": null,
            "right": null,
            "top": null,
            "visibility": null,
            "width": null
          }
        },
        "8250911406e947feb92c9f751297883d": {
          "model_module": "@jupyter-widgets/base",
          "model_name": "LayoutModel",
          "model_module_version": "1.2.0",
          "state": {
            "_model_module": "@jupyter-widgets/base",
            "_model_module_version": "1.2.0",
            "_model_name": "LayoutModel",
            "_view_count": null,
            "_view_module": "@jupyter-widgets/base",
            "_view_module_version": "1.2.0",
            "_view_name": "LayoutView",
            "align_content": null,
            "align_items": null,
            "align_self": null,
            "border": null,
            "bottom": null,
            "display": null,
            "flex": null,
            "flex_flow": null,
            "grid_area": null,
            "grid_auto_columns": null,
            "grid_auto_flow": null,
            "grid_auto_rows": null,
            "grid_column": null,
            "grid_gap": null,
            "grid_row": null,
            "grid_template_areas": null,
            "grid_template_columns": null,
            "grid_template_rows": null,
            "height": null,
            "justify_content": null,
            "justify_items": null,
            "left": null,
            "margin": null,
            "max_height": null,
            "max_width": null,
            "min_height": null,
            "min_width": null,
            "object_fit": null,
            "object_position": null,
            "order": null,
            "overflow": null,
            "overflow_x": null,
            "overflow_y": null,
            "padding": null,
            "right": null,
            "top": null,
            "visibility": null,
            "width": null
          }
        },
        "efe8794b719d4542a855a0a7ab9e0029": {
          "model_module": "@jupyter-widgets/controls",
          "model_name": "DescriptionStyleModel",
          "model_module_version": "1.5.0",
          "state": {
            "_model_module": "@jupyter-widgets/controls",
            "_model_module_version": "1.5.0",
            "_model_name": "DescriptionStyleModel",
            "_view_count": null,
            "_view_module": "@jupyter-widgets/base",
            "_view_module_version": "1.2.0",
            "_view_name": "StyleView",
            "description_width": ""
          }
        },
        "ae0eee6f48714802ab9c0351c28d68d9": {
          "model_module": "@jupyter-widgets/base",
          "model_name": "LayoutModel",
          "model_module_version": "1.2.0",
          "state": {
            "_model_module": "@jupyter-widgets/base",
            "_model_module_version": "1.2.0",
            "_model_name": "LayoutModel",
            "_view_count": null,
            "_view_module": "@jupyter-widgets/base",
            "_view_module_version": "1.2.0",
            "_view_name": "LayoutView",
            "align_content": null,
            "align_items": null,
            "align_self": null,
            "border": null,
            "bottom": null,
            "display": null,
            "flex": null,
            "flex_flow": null,
            "grid_area": null,
            "grid_auto_columns": null,
            "grid_auto_flow": null,
            "grid_auto_rows": null,
            "grid_column": null,
            "grid_gap": null,
            "grid_row": null,
            "grid_template_areas": null,
            "grid_template_columns": null,
            "grid_template_rows": null,
            "height": null,
            "justify_content": null,
            "justify_items": null,
            "left": null,
            "margin": null,
            "max_height": null,
            "max_width": null,
            "min_height": null,
            "min_width": null,
            "object_fit": null,
            "object_position": null,
            "order": null,
            "overflow": null,
            "overflow_x": null,
            "overflow_y": null,
            "padding": null,
            "right": null,
            "top": null,
            "visibility": null,
            "width": null
          }
        },
        "ba7c4b681fc3445db58ca590cac28699": {
          "model_module": "@jupyter-widgets/controls",
          "model_name": "ProgressStyleModel",
          "model_module_version": "1.5.0",
          "state": {
            "_model_module": "@jupyter-widgets/controls",
            "_model_module_version": "1.5.0",
            "_model_name": "ProgressStyleModel",
            "_view_count": null,
            "_view_module": "@jupyter-widgets/base",
            "_view_module_version": "1.2.0",
            "_view_name": "StyleView",
            "bar_color": null,
            "description_width": ""
          }
        },
        "a4040b3c806042d3a45b73a972fe906c": {
          "model_module": "@jupyter-widgets/base",
          "model_name": "LayoutModel",
          "model_module_version": "1.2.0",
          "state": {
            "_model_module": "@jupyter-widgets/base",
            "_model_module_version": "1.2.0",
            "_model_name": "LayoutModel",
            "_view_count": null,
            "_view_module": "@jupyter-widgets/base",
            "_view_module_version": "1.2.0",
            "_view_name": "LayoutView",
            "align_content": null,
            "align_items": null,
            "align_self": null,
            "border": null,
            "bottom": null,
            "display": null,
            "flex": null,
            "flex_flow": null,
            "grid_area": null,
            "grid_auto_columns": null,
            "grid_auto_flow": null,
            "grid_auto_rows": null,
            "grid_column": null,
            "grid_gap": null,
            "grid_row": null,
            "grid_template_areas": null,
            "grid_template_columns": null,
            "grid_template_rows": null,
            "height": null,
            "justify_content": null,
            "justify_items": null,
            "left": null,
            "margin": null,
            "max_height": null,
            "max_width": null,
            "min_height": null,
            "min_width": null,
            "object_fit": null,
            "object_position": null,
            "order": null,
            "overflow": null,
            "overflow_x": null,
            "overflow_y": null,
            "padding": null,
            "right": null,
            "top": null,
            "visibility": null,
            "width": null
          }
        },
        "678899aa556d452fa2f4e0959958f0c9": {
          "model_module": "@jupyter-widgets/controls",
          "model_name": "DescriptionStyleModel",
          "model_module_version": "1.5.0",
          "state": {
            "_model_module": "@jupyter-widgets/controls",
            "_model_module_version": "1.5.0",
            "_model_name": "DescriptionStyleModel",
            "_view_count": null,
            "_view_module": "@jupyter-widgets/base",
            "_view_module_version": "1.2.0",
            "_view_name": "StyleView",
            "description_width": ""
          }
        },
        "aac45486d30346a58037d13858a336a0": {
          "model_module": "@jupyter-widgets/controls",
          "model_name": "HBoxModel",
          "model_module_version": "1.5.0",
          "state": {
            "_dom_classes": [],
            "_model_module": "@jupyter-widgets/controls",
            "_model_module_version": "1.5.0",
            "_model_name": "HBoxModel",
            "_view_count": null,
            "_view_module": "@jupyter-widgets/controls",
            "_view_module_version": "1.5.0",
            "_view_name": "HBoxView",
            "box_style": "",
            "children": [
              "IPY_MODEL_814b5fc52f994ed7a561d689f3bbb474",
              "IPY_MODEL_aafb9e4bfe144582bbcebf31a8545d3d",
              "IPY_MODEL_0e6c0e1c354142649da5db79484d8b0d"
            ],
            "layout": "IPY_MODEL_afbf3c97b1734370b36910386d899de4"
          }
        },
        "814b5fc52f994ed7a561d689f3bbb474": {
          "model_module": "@jupyter-widgets/controls",
          "model_name": "HTMLModel",
          "model_module_version": "1.5.0",
          "state": {
            "_dom_classes": [],
            "_model_module": "@jupyter-widgets/controls",
            "_model_module_version": "1.5.0",
            "_model_name": "HTMLModel",
            "_view_count": null,
            "_view_module": "@jupyter-widgets/controls",
            "_view_module_version": "1.5.0",
            "_view_name": "HTMLView",
            "description": "",
            "description_tooltip": null,
            "layout": "IPY_MODEL_253fa2bb4c5b4c039bdead1df815a300",
            "placeholder": "​",
            "style": "IPY_MODEL_fb44d09a090340f9aebdf18d4b031c90",
            "value": "model.safetensors: 100%"
          }
        },
        "aafb9e4bfe144582bbcebf31a8545d3d": {
          "model_module": "@jupyter-widgets/controls",
          "model_name": "FloatProgressModel",
          "model_module_version": "1.5.0",
          "state": {
            "_dom_classes": [],
            "_model_module": "@jupyter-widgets/controls",
            "_model_module_version": "1.5.0",
            "_model_name": "FloatProgressModel",
            "_view_count": null,
            "_view_module": "@jupyter-widgets/controls",
            "_view_module_version": "1.5.0",
            "_view_name": "ProgressView",
            "bar_style": "success",
            "description": "",
            "description_tooltip": null,
            "layout": "IPY_MODEL_be8a5a56958047e1958738416c07cd4b",
            "max": 548105171,
            "min": 0,
            "orientation": "horizontal",
            "style": "IPY_MODEL_c0a4d81a895b48ab990d98757c26a1aa",
            "value": 548105171
          }
        },
        "0e6c0e1c354142649da5db79484d8b0d": {
          "model_module": "@jupyter-widgets/controls",
          "model_name": "HTMLModel",
          "model_module_version": "1.5.0",
          "state": {
            "_dom_classes": [],
            "_model_module": "@jupyter-widgets/controls",
            "_model_module_version": "1.5.0",
            "_model_name": "HTMLModel",
            "_view_count": null,
            "_view_module": "@jupyter-widgets/controls",
            "_view_module_version": "1.5.0",
            "_view_name": "HTMLView",
            "description": "",
            "description_tooltip": null,
            "layout": "IPY_MODEL_1c704e4b1d06469aa617c9652b01de8a",
            "placeholder": "​",
            "style": "IPY_MODEL_f1c5056598444000a0311caacb8f39d9",
            "value": " 548M/548M [00:05&lt;00:00, 224MB/s]"
          }
        },
        "afbf3c97b1734370b36910386d899de4": {
          "model_module": "@jupyter-widgets/base",
          "model_name": "LayoutModel",
          "model_module_version": "1.2.0",
          "state": {
            "_model_module": "@jupyter-widgets/base",
            "_model_module_version": "1.2.0",
            "_model_name": "LayoutModel",
            "_view_count": null,
            "_view_module": "@jupyter-widgets/base",
            "_view_module_version": "1.2.0",
            "_view_name": "LayoutView",
            "align_content": null,
            "align_items": null,
            "align_self": null,
            "border": null,
            "bottom": null,
            "display": null,
            "flex": null,
            "flex_flow": null,
            "grid_area": null,
            "grid_auto_columns": null,
            "grid_auto_flow": null,
            "grid_auto_rows": null,
            "grid_column": null,
            "grid_gap": null,
            "grid_row": null,
            "grid_template_areas": null,
            "grid_template_columns": null,
            "grid_template_rows": null,
            "height": null,
            "justify_content": null,
            "justify_items": null,
            "left": null,
            "margin": null,
            "max_height": null,
            "max_width": null,
            "min_height": null,
            "min_width": null,
            "object_fit": null,
            "object_position": null,
            "order": null,
            "overflow": null,
            "overflow_x": null,
            "overflow_y": null,
            "padding": null,
            "right": null,
            "top": null,
            "visibility": null,
            "width": null
          }
        },
        "253fa2bb4c5b4c039bdead1df815a300": {
          "model_module": "@jupyter-widgets/base",
          "model_name": "LayoutModel",
          "model_module_version": "1.2.0",
          "state": {
            "_model_module": "@jupyter-widgets/base",
            "_model_module_version": "1.2.0",
            "_model_name": "LayoutModel",
            "_view_count": null,
            "_view_module": "@jupyter-widgets/base",
            "_view_module_version": "1.2.0",
            "_view_name": "LayoutView",
            "align_content": null,
            "align_items": null,
            "align_self": null,
            "border": null,
            "bottom": null,
            "display": null,
            "flex": null,
            "flex_flow": null,
            "grid_area": null,
            "grid_auto_columns": null,
            "grid_auto_flow": null,
            "grid_auto_rows": null,
            "grid_column": null,
            "grid_gap": null,
            "grid_row": null,
            "grid_template_areas": null,
            "grid_template_columns": null,
            "grid_template_rows": null,
            "height": null,
            "justify_content": null,
            "justify_items": null,
            "left": null,
            "margin": null,
            "max_height": null,
            "max_width": null,
            "min_height": null,
            "min_width": null,
            "object_fit": null,
            "object_position": null,
            "order": null,
            "overflow": null,
            "overflow_x": null,
            "overflow_y": null,
            "padding": null,
            "right": null,
            "top": null,
            "visibility": null,
            "width": null
          }
        },
        "fb44d09a090340f9aebdf18d4b031c90": {
          "model_module": "@jupyter-widgets/controls",
          "model_name": "DescriptionStyleModel",
          "model_module_version": "1.5.0",
          "state": {
            "_model_module": "@jupyter-widgets/controls",
            "_model_module_version": "1.5.0",
            "_model_name": "DescriptionStyleModel",
            "_view_count": null,
            "_view_module": "@jupyter-widgets/base",
            "_view_module_version": "1.2.0",
            "_view_name": "StyleView",
            "description_width": ""
          }
        },
        "be8a5a56958047e1958738416c07cd4b": {
          "model_module": "@jupyter-widgets/base",
          "model_name": "LayoutModel",
          "model_module_version": "1.2.0",
          "state": {
            "_model_module": "@jupyter-widgets/base",
            "_model_module_version": "1.2.0",
            "_model_name": "LayoutModel",
            "_view_count": null,
            "_view_module": "@jupyter-widgets/base",
            "_view_module_version": "1.2.0",
            "_view_name": "LayoutView",
            "align_content": null,
            "align_items": null,
            "align_self": null,
            "border": null,
            "bottom": null,
            "display": null,
            "flex": null,
            "flex_flow": null,
            "grid_area": null,
            "grid_auto_columns": null,
            "grid_auto_flow": null,
            "grid_auto_rows": null,
            "grid_column": null,
            "grid_gap": null,
            "grid_row": null,
            "grid_template_areas": null,
            "grid_template_columns": null,
            "grid_template_rows": null,
            "height": null,
            "justify_content": null,
            "justify_items": null,
            "left": null,
            "margin": null,
            "max_height": null,
            "max_width": null,
            "min_height": null,
            "min_width": null,
            "object_fit": null,
            "object_position": null,
            "order": null,
            "overflow": null,
            "overflow_x": null,
            "overflow_y": null,
            "padding": null,
            "right": null,
            "top": null,
            "visibility": null,
            "width": null
          }
        },
        "c0a4d81a895b48ab990d98757c26a1aa": {
          "model_module": "@jupyter-widgets/controls",
          "model_name": "ProgressStyleModel",
          "model_module_version": "1.5.0",
          "state": {
            "_model_module": "@jupyter-widgets/controls",
            "_model_module_version": "1.5.0",
            "_model_name": "ProgressStyleModel",
            "_view_count": null,
            "_view_module": "@jupyter-widgets/base",
            "_view_module_version": "1.2.0",
            "_view_name": "StyleView",
            "bar_color": null,
            "description_width": ""
          }
        },
        "1c704e4b1d06469aa617c9652b01de8a": {
          "model_module": "@jupyter-widgets/base",
          "model_name": "LayoutModel",
          "model_module_version": "1.2.0",
          "state": {
            "_model_module": "@jupyter-widgets/base",
            "_model_module_version": "1.2.0",
            "_model_name": "LayoutModel",
            "_view_count": null,
            "_view_module": "@jupyter-widgets/base",
            "_view_module_version": "1.2.0",
            "_view_name": "LayoutView",
            "align_content": null,
            "align_items": null,
            "align_self": null,
            "border": null,
            "bottom": null,
            "display": null,
            "flex": null,
            "flex_flow": null,
            "grid_area": null,
            "grid_auto_columns": null,
            "grid_auto_flow": null,
            "grid_auto_rows": null,
            "grid_column": null,
            "grid_gap": null,
            "grid_row": null,
            "grid_template_areas": null,
            "grid_template_columns": null,
            "grid_template_rows": null,
            "height": null,
            "justify_content": null,
            "justify_items": null,
            "left": null,
            "margin": null,
            "max_height": null,
            "max_width": null,
            "min_height": null,
            "min_width": null,
            "object_fit": null,
            "object_position": null,
            "order": null,
            "overflow": null,
            "overflow_x": null,
            "overflow_y": null,
            "padding": null,
            "right": null,
            "top": null,
            "visibility": null,
            "width": null
          }
        },
        "f1c5056598444000a0311caacb8f39d9": {
          "model_module": "@jupyter-widgets/controls",
          "model_name": "DescriptionStyleModel",
          "model_module_version": "1.5.0",
          "state": {
            "_model_module": "@jupyter-widgets/controls",
            "_model_module_version": "1.5.0",
            "_model_name": "DescriptionStyleModel",
            "_view_count": null,
            "_view_module": "@jupyter-widgets/base",
            "_view_module_version": "1.2.0",
            "_view_name": "StyleView",
            "description_width": ""
          }
        },
        "e58385f283b74a10bd4162dded26850c": {
          "model_module": "@jupyter-widgets/controls",
          "model_name": "HBoxModel",
          "model_module_version": "1.5.0",
          "state": {
            "_dom_classes": [],
            "_model_module": "@jupyter-widgets/controls",
            "_model_module_version": "1.5.0",
            "_model_name": "HBoxModel",
            "_view_count": null,
            "_view_module": "@jupyter-widgets/controls",
            "_view_module_version": "1.5.0",
            "_view_name": "HBoxView",
            "box_style": "",
            "children": [
              "IPY_MODEL_87a3a0b3cae84c35af36ff6821729bc4",
              "IPY_MODEL_06863ac7890f4f81b2cb78a42fa6e0b9",
              "IPY_MODEL_13984dba66bd46efa70ce579cce38f12"
            ],
            "layout": "IPY_MODEL_6ea7d4ef5553426fbefa3af9f7401150"
          }
        },
        "87a3a0b3cae84c35af36ff6821729bc4": {
          "model_module": "@jupyter-widgets/controls",
          "model_name": "HTMLModel",
          "model_module_version": "1.5.0",
          "state": {
            "_dom_classes": [],
            "_model_module": "@jupyter-widgets/controls",
            "_model_module_version": "1.5.0",
            "_model_name": "HTMLModel",
            "_view_count": null,
            "_view_module": "@jupyter-widgets/controls",
            "_view_module_version": "1.5.0",
            "_view_name": "HTMLView",
            "description": "",
            "description_tooltip": null,
            "layout": "IPY_MODEL_2ef0b32f8dc547ad8fac5bad657950e1",
            "placeholder": "​",
            "style": "IPY_MODEL_f834cc8d1ee04f9ca500e478828ca4e6",
            "value": "generation_config.json: 100%"
          }
        },
        "06863ac7890f4f81b2cb78a42fa6e0b9": {
          "model_module": "@jupyter-widgets/controls",
          "model_name": "FloatProgressModel",
          "model_module_version": "1.5.0",
          "state": {
            "_dom_classes": [],
            "_model_module": "@jupyter-widgets/controls",
            "_model_module_version": "1.5.0",
            "_model_name": "FloatProgressModel",
            "_view_count": null,
            "_view_module": "@jupyter-widgets/controls",
            "_view_module_version": "1.5.0",
            "_view_name": "ProgressView",
            "bar_style": "success",
            "description": "",
            "description_tooltip": null,
            "layout": "IPY_MODEL_2e338523d49b4ea49dfb76cf98e34a1e",
            "max": 124,
            "min": 0,
            "orientation": "horizontal",
            "style": "IPY_MODEL_84cf58d318b6440992dbeac212a49a3e",
            "value": 124
          }
        },
        "13984dba66bd46efa70ce579cce38f12": {
          "model_module": "@jupyter-widgets/controls",
          "model_name": "HTMLModel",
          "model_module_version": "1.5.0",
          "state": {
            "_dom_classes": [],
            "_model_module": "@jupyter-widgets/controls",
            "_model_module_version": "1.5.0",
            "_model_name": "HTMLModel",
            "_view_count": null,
            "_view_module": "@jupyter-widgets/controls",
            "_view_module_version": "1.5.0",
            "_view_name": "HTMLView",
            "description": "",
            "description_tooltip": null,
            "layout": "IPY_MODEL_84508d4f1f354c9a83c7cf852715fb46",
            "placeholder": "​",
            "style": "IPY_MODEL_b872e4c663d14c66b59e3d1a15a1f049",
            "value": " 124/124 [00:00&lt;00:00, 6.35kB/s]"
          }
        },
        "6ea7d4ef5553426fbefa3af9f7401150": {
          "model_module": "@jupyter-widgets/base",
          "model_name": "LayoutModel",
          "model_module_version": "1.2.0",
          "state": {
            "_model_module": "@jupyter-widgets/base",
            "_model_module_version": "1.2.0",
            "_model_name": "LayoutModel",
            "_view_count": null,
            "_view_module": "@jupyter-widgets/base",
            "_view_module_version": "1.2.0",
            "_view_name": "LayoutView",
            "align_content": null,
            "align_items": null,
            "align_self": null,
            "border": null,
            "bottom": null,
            "display": null,
            "flex": null,
            "flex_flow": null,
            "grid_area": null,
            "grid_auto_columns": null,
            "grid_auto_flow": null,
            "grid_auto_rows": null,
            "grid_column": null,
            "grid_gap": null,
            "grid_row": null,
            "grid_template_areas": null,
            "grid_template_columns": null,
            "grid_template_rows": null,
            "height": null,
            "justify_content": null,
            "justify_items": null,
            "left": null,
            "margin": null,
            "max_height": null,
            "max_width": null,
            "min_height": null,
            "min_width": null,
            "object_fit": null,
            "object_position": null,
            "order": null,
            "overflow": null,
            "overflow_x": null,
            "overflow_y": null,
            "padding": null,
            "right": null,
            "top": null,
            "visibility": null,
            "width": null
          }
        },
        "2ef0b32f8dc547ad8fac5bad657950e1": {
          "model_module": "@jupyter-widgets/base",
          "model_name": "LayoutModel",
          "model_module_version": "1.2.0",
          "state": {
            "_model_module": "@jupyter-widgets/base",
            "_model_module_version": "1.2.0",
            "_model_name": "LayoutModel",
            "_view_count": null,
            "_view_module": "@jupyter-widgets/base",
            "_view_module_version": "1.2.0",
            "_view_name": "LayoutView",
            "align_content": null,
            "align_items": null,
            "align_self": null,
            "border": null,
            "bottom": null,
            "display": null,
            "flex": null,
            "flex_flow": null,
            "grid_area": null,
            "grid_auto_columns": null,
            "grid_auto_flow": null,
            "grid_auto_rows": null,
            "grid_column": null,
            "grid_gap": null,
            "grid_row": null,
            "grid_template_areas": null,
            "grid_template_columns": null,
            "grid_template_rows": null,
            "height": null,
            "justify_content": null,
            "justify_items": null,
            "left": null,
            "margin": null,
            "max_height": null,
            "max_width": null,
            "min_height": null,
            "min_width": null,
            "object_fit": null,
            "object_position": null,
            "order": null,
            "overflow": null,
            "overflow_x": null,
            "overflow_y": null,
            "padding": null,
            "right": null,
            "top": null,
            "visibility": null,
            "width": null
          }
        },
        "f834cc8d1ee04f9ca500e478828ca4e6": {
          "model_module": "@jupyter-widgets/controls",
          "model_name": "DescriptionStyleModel",
          "model_module_version": "1.5.0",
          "state": {
            "_model_module": "@jupyter-widgets/controls",
            "_model_module_version": "1.5.0",
            "_model_name": "DescriptionStyleModel",
            "_view_count": null,
            "_view_module": "@jupyter-widgets/base",
            "_view_module_version": "1.2.0",
            "_view_name": "StyleView",
            "description_width": ""
          }
        },
        "2e338523d49b4ea49dfb76cf98e34a1e": {
          "model_module": "@jupyter-widgets/base",
          "model_name": "LayoutModel",
          "model_module_version": "1.2.0",
          "state": {
            "_model_module": "@jupyter-widgets/base",
            "_model_module_version": "1.2.0",
            "_model_name": "LayoutModel",
            "_view_count": null,
            "_view_module": "@jupyter-widgets/base",
            "_view_module_version": "1.2.0",
            "_view_name": "LayoutView",
            "align_content": null,
            "align_items": null,
            "align_self": null,
            "border": null,
            "bottom": null,
            "display": null,
            "flex": null,
            "flex_flow": null,
            "grid_area": null,
            "grid_auto_columns": null,
            "grid_auto_flow": null,
            "grid_auto_rows": null,
            "grid_column": null,
            "grid_gap": null,
            "grid_row": null,
            "grid_template_areas": null,
            "grid_template_columns": null,
            "grid_template_rows": null,
            "height": null,
            "justify_content": null,
            "justify_items": null,
            "left": null,
            "margin": null,
            "max_height": null,
            "max_width": null,
            "min_height": null,
            "min_width": null,
            "object_fit": null,
            "object_position": null,
            "order": null,
            "overflow": null,
            "overflow_x": null,
            "overflow_y": null,
            "padding": null,
            "right": null,
            "top": null,
            "visibility": null,
            "width": null
          }
        },
        "84cf58d318b6440992dbeac212a49a3e": {
          "model_module": "@jupyter-widgets/controls",
          "model_name": "ProgressStyleModel",
          "model_module_version": "1.5.0",
          "state": {
            "_model_module": "@jupyter-widgets/controls",
            "_model_module_version": "1.5.0",
            "_model_name": "ProgressStyleModel",
            "_view_count": null,
            "_view_module": "@jupyter-widgets/base",
            "_view_module_version": "1.2.0",
            "_view_name": "StyleView",
            "bar_color": null,
            "description_width": ""
          }
        },
        "84508d4f1f354c9a83c7cf852715fb46": {
          "model_module": "@jupyter-widgets/base",
          "model_name": "LayoutModel",
          "model_module_version": "1.2.0",
          "state": {
            "_model_module": "@jupyter-widgets/base",
            "_model_module_version": "1.2.0",
            "_model_name": "LayoutModel",
            "_view_count": null,
            "_view_module": "@jupyter-widgets/base",
            "_view_module_version": "1.2.0",
            "_view_name": "LayoutView",
            "align_content": null,
            "align_items": null,
            "align_self": null,
            "border": null,
            "bottom": null,
            "display": null,
            "flex": null,
            "flex_flow": null,
            "grid_area": null,
            "grid_auto_columns": null,
            "grid_auto_flow": null,
            "grid_auto_rows": null,
            "grid_column": null,
            "grid_gap": null,
            "grid_row": null,
            "grid_template_areas": null,
            "grid_template_columns": null,
            "grid_template_rows": null,
            "height": null,
            "justify_content": null,
            "justify_items": null,
            "left": null,
            "margin": null,
            "max_height": null,
            "max_width": null,
            "min_height": null,
            "min_width": null,
            "object_fit": null,
            "object_position": null,
            "order": null,
            "overflow": null,
            "overflow_x": null,
            "overflow_y": null,
            "padding": null,
            "right": null,
            "top": null,
            "visibility": null,
            "width": null
          }
        },
        "b872e4c663d14c66b59e3d1a15a1f049": {
          "model_module": "@jupyter-widgets/controls",
          "model_name": "DescriptionStyleModel",
          "model_module_version": "1.5.0",
          "state": {
            "_model_module": "@jupyter-widgets/controls",
            "_model_module_version": "1.5.0",
            "_model_name": "DescriptionStyleModel",
            "_view_count": null,
            "_view_module": "@jupyter-widgets/base",
            "_view_module_version": "1.2.0",
            "_view_name": "StyleView",
            "description_width": ""
          }
        },
        "0298bc2ce0d54b38908fc7dc4b9edb08": {
          "model_module": "@jupyter-widgets/controls",
          "model_name": "HBoxModel",
          "model_module_version": "1.5.0",
          "state": {
            "_dom_classes": [],
            "_model_module": "@jupyter-widgets/controls",
            "_model_module_version": "1.5.0",
            "_model_name": "HBoxModel",
            "_view_count": null,
            "_view_module": "@jupyter-widgets/controls",
            "_view_module_version": "1.5.0",
            "_view_name": "HBoxView",
            "box_style": "",
            "children": [
              "IPY_MODEL_4366475939f34ea28e04bcce7526fe41",
              "IPY_MODEL_823557227ffb44e9a68532ac9bc19b59",
              "IPY_MODEL_3004d1f3be3e42a8919689330249b65b"
            ],
            "layout": "IPY_MODEL_8a7119b0dd3f4890956e1f0feb2478b3"
          }
        },
        "4366475939f34ea28e04bcce7526fe41": {
          "model_module": "@jupyter-widgets/controls",
          "model_name": "HTMLModel",
          "model_module_version": "1.5.0",
          "state": {
            "_dom_classes": [],
            "_model_module": "@jupyter-widgets/controls",
            "_model_module_version": "1.5.0",
            "_model_name": "HTMLModel",
            "_view_count": null,
            "_view_module": "@jupyter-widgets/controls",
            "_view_module_version": "1.5.0",
            "_view_name": "HTMLView",
            "description": "",
            "description_tooltip": null,
            "layout": "IPY_MODEL_34bfc48150b648b89ff9058e58914585",
            "placeholder": "​",
            "style": "IPY_MODEL_20c46e0adc914d42812a3350bd22e890",
            "value": "vocab.json: 100%"
          }
        },
        "823557227ffb44e9a68532ac9bc19b59": {
          "model_module": "@jupyter-widgets/controls",
          "model_name": "FloatProgressModel",
          "model_module_version": "1.5.0",
          "state": {
            "_dom_classes": [],
            "_model_module": "@jupyter-widgets/controls",
            "_model_module_version": "1.5.0",
            "_model_name": "FloatProgressModel",
            "_view_count": null,
            "_view_module": "@jupyter-widgets/controls",
            "_view_module_version": "1.5.0",
            "_view_name": "ProgressView",
            "bar_style": "success",
            "description": "",
            "description_tooltip": null,
            "layout": "IPY_MODEL_774a796341594839a28af4d6285202b4",
            "max": 1042301,
            "min": 0,
            "orientation": "horizontal",
            "style": "IPY_MODEL_e3d0e22e5b4940cda94dd0cc192f76aa",
            "value": 1042301
          }
        },
        "3004d1f3be3e42a8919689330249b65b": {
          "model_module": "@jupyter-widgets/controls",
          "model_name": "HTMLModel",
          "model_module_version": "1.5.0",
          "state": {
            "_dom_classes": [],
            "_model_module": "@jupyter-widgets/controls",
            "_model_module_version": "1.5.0",
            "_model_name": "HTMLModel",
            "_view_count": null,
            "_view_module": "@jupyter-widgets/controls",
            "_view_module_version": "1.5.0",
            "_view_name": "HTMLView",
            "description": "",
            "description_tooltip": null,
            "layout": "IPY_MODEL_2896845c6e444bd69de9985d435249a4",
            "placeholder": "​",
            "style": "IPY_MODEL_8d5f20fedc93498e906fb1279ba8451a",
            "value": " 1.04M/1.04M [00:00&lt;00:00, 8.39MB/s]"
          }
        },
        "8a7119b0dd3f4890956e1f0feb2478b3": {
          "model_module": "@jupyter-widgets/base",
          "model_name": "LayoutModel",
          "model_module_version": "1.2.0",
          "state": {
            "_model_module": "@jupyter-widgets/base",
            "_model_module_version": "1.2.0",
            "_model_name": "LayoutModel",
            "_view_count": null,
            "_view_module": "@jupyter-widgets/base",
            "_view_module_version": "1.2.0",
            "_view_name": "LayoutView",
            "align_content": null,
            "align_items": null,
            "align_self": null,
            "border": null,
            "bottom": null,
            "display": null,
            "flex": null,
            "flex_flow": null,
            "grid_area": null,
            "grid_auto_columns": null,
            "grid_auto_flow": null,
            "grid_auto_rows": null,
            "grid_column": null,
            "grid_gap": null,
            "grid_row": null,
            "grid_template_areas": null,
            "grid_template_columns": null,
            "grid_template_rows": null,
            "height": null,
            "justify_content": null,
            "justify_items": null,
            "left": null,
            "margin": null,
            "max_height": null,
            "max_width": null,
            "min_height": null,
            "min_width": null,
            "object_fit": null,
            "object_position": null,
            "order": null,
            "overflow": null,
            "overflow_x": null,
            "overflow_y": null,
            "padding": null,
            "right": null,
            "top": null,
            "visibility": null,
            "width": null
          }
        },
        "34bfc48150b648b89ff9058e58914585": {
          "model_module": "@jupyter-widgets/base",
          "model_name": "LayoutModel",
          "model_module_version": "1.2.0",
          "state": {
            "_model_module": "@jupyter-widgets/base",
            "_model_module_version": "1.2.0",
            "_model_name": "LayoutModel",
            "_view_count": null,
            "_view_module": "@jupyter-widgets/base",
            "_view_module_version": "1.2.0",
            "_view_name": "LayoutView",
            "align_content": null,
            "align_items": null,
            "align_self": null,
            "border": null,
            "bottom": null,
            "display": null,
            "flex": null,
            "flex_flow": null,
            "grid_area": null,
            "grid_auto_columns": null,
            "grid_auto_flow": null,
            "grid_auto_rows": null,
            "grid_column": null,
            "grid_gap": null,
            "grid_row": null,
            "grid_template_areas": null,
            "grid_template_columns": null,
            "grid_template_rows": null,
            "height": null,
            "justify_content": null,
            "justify_items": null,
            "left": null,
            "margin": null,
            "max_height": null,
            "max_width": null,
            "min_height": null,
            "min_width": null,
            "object_fit": null,
            "object_position": null,
            "order": null,
            "overflow": null,
            "overflow_x": null,
            "overflow_y": null,
            "padding": null,
            "right": null,
            "top": null,
            "visibility": null,
            "width": null
          }
        },
        "20c46e0adc914d42812a3350bd22e890": {
          "model_module": "@jupyter-widgets/controls",
          "model_name": "DescriptionStyleModel",
          "model_module_version": "1.5.0",
          "state": {
            "_model_module": "@jupyter-widgets/controls",
            "_model_module_version": "1.5.0",
            "_model_name": "DescriptionStyleModel",
            "_view_count": null,
            "_view_module": "@jupyter-widgets/base",
            "_view_module_version": "1.2.0",
            "_view_name": "StyleView",
            "description_width": ""
          }
        },
        "774a796341594839a28af4d6285202b4": {
          "model_module": "@jupyter-widgets/base",
          "model_name": "LayoutModel",
          "model_module_version": "1.2.0",
          "state": {
            "_model_module": "@jupyter-widgets/base",
            "_model_module_version": "1.2.0",
            "_model_name": "LayoutModel",
            "_view_count": null,
            "_view_module": "@jupyter-widgets/base",
            "_view_module_version": "1.2.0",
            "_view_name": "LayoutView",
            "align_content": null,
            "align_items": null,
            "align_self": null,
            "border": null,
            "bottom": null,
            "display": null,
            "flex": null,
            "flex_flow": null,
            "grid_area": null,
            "grid_auto_columns": null,
            "grid_auto_flow": null,
            "grid_auto_rows": null,
            "grid_column": null,
            "grid_gap": null,
            "grid_row": null,
            "grid_template_areas": null,
            "grid_template_columns": null,
            "grid_template_rows": null,
            "height": null,
            "justify_content": null,
            "justify_items": null,
            "left": null,
            "margin": null,
            "max_height": null,
            "max_width": null,
            "min_height": null,
            "min_width": null,
            "object_fit": null,
            "object_position": null,
            "order": null,
            "overflow": null,
            "overflow_x": null,
            "overflow_y": null,
            "padding": null,
            "right": null,
            "top": null,
            "visibility": null,
            "width": null
          }
        },
        "e3d0e22e5b4940cda94dd0cc192f76aa": {
          "model_module": "@jupyter-widgets/controls",
          "model_name": "ProgressStyleModel",
          "model_module_version": "1.5.0",
          "state": {
            "_model_module": "@jupyter-widgets/controls",
            "_model_module_version": "1.5.0",
            "_model_name": "ProgressStyleModel",
            "_view_count": null,
            "_view_module": "@jupyter-widgets/base",
            "_view_module_version": "1.2.0",
            "_view_name": "StyleView",
            "bar_color": null,
            "description_width": ""
          }
        },
        "2896845c6e444bd69de9985d435249a4": {
          "model_module": "@jupyter-widgets/base",
          "model_name": "LayoutModel",
          "model_module_version": "1.2.0",
          "state": {
            "_model_module": "@jupyter-widgets/base",
            "_model_module_version": "1.2.0",
            "_model_name": "LayoutModel",
            "_view_count": null,
            "_view_module": "@jupyter-widgets/base",
            "_view_module_version": "1.2.0",
            "_view_name": "LayoutView",
            "align_content": null,
            "align_items": null,
            "align_self": null,
            "border": null,
            "bottom": null,
            "display": null,
            "flex": null,
            "flex_flow": null,
            "grid_area": null,
            "grid_auto_columns": null,
            "grid_auto_flow": null,
            "grid_auto_rows": null,
            "grid_column": null,
            "grid_gap": null,
            "grid_row": null,
            "grid_template_areas": null,
            "grid_template_columns": null,
            "grid_template_rows": null,
            "height": null,
            "justify_content": null,
            "justify_items": null,
            "left": null,
            "margin": null,
            "max_height": null,
            "max_width": null,
            "min_height": null,
            "min_width": null,
            "object_fit": null,
            "object_position": null,
            "order": null,
            "overflow": null,
            "overflow_x": null,
            "overflow_y": null,
            "padding": null,
            "right": null,
            "top": null,
            "visibility": null,
            "width": null
          }
        },
        "8d5f20fedc93498e906fb1279ba8451a": {
          "model_module": "@jupyter-widgets/controls",
          "model_name": "DescriptionStyleModel",
          "model_module_version": "1.5.0",
          "state": {
            "_model_module": "@jupyter-widgets/controls",
            "_model_module_version": "1.5.0",
            "_model_name": "DescriptionStyleModel",
            "_view_count": null,
            "_view_module": "@jupyter-widgets/base",
            "_view_module_version": "1.2.0",
            "_view_name": "StyleView",
            "description_width": ""
          }
        },
        "57f40e5e17944d3885e06315561e316f": {
          "model_module": "@jupyter-widgets/controls",
          "model_name": "HBoxModel",
          "model_module_version": "1.5.0",
          "state": {
            "_dom_classes": [],
            "_model_module": "@jupyter-widgets/controls",
            "_model_module_version": "1.5.0",
            "_model_name": "HBoxModel",
            "_view_count": null,
            "_view_module": "@jupyter-widgets/controls",
            "_view_module_version": "1.5.0",
            "_view_name": "HBoxView",
            "box_style": "",
            "children": [
              "IPY_MODEL_b67284c58d1c4d96af7495984ff89f65",
              "IPY_MODEL_f8f8d7431d024ea8a9421dc84dcc28d0",
              "IPY_MODEL_76c831f38b71437f89743225a7e520a0"
            ],
            "layout": "IPY_MODEL_9638e0d1841b4a13a475af9a063dee75"
          }
        },
        "b67284c58d1c4d96af7495984ff89f65": {
          "model_module": "@jupyter-widgets/controls",
          "model_name": "HTMLModel",
          "model_module_version": "1.5.0",
          "state": {
            "_dom_classes": [],
            "_model_module": "@jupyter-widgets/controls",
            "_model_module_version": "1.5.0",
            "_model_name": "HTMLModel",
            "_view_count": null,
            "_view_module": "@jupyter-widgets/controls",
            "_view_module_version": "1.5.0",
            "_view_name": "HTMLView",
            "description": "",
            "description_tooltip": null,
            "layout": "IPY_MODEL_43d2d80efe1f48028a7ca42b82578600",
            "placeholder": "​",
            "style": "IPY_MODEL_e0ba3a3bf9df4adb8d09787f853701a3",
            "value": "merges.txt: 100%"
          }
        },
        "f8f8d7431d024ea8a9421dc84dcc28d0": {
          "model_module": "@jupyter-widgets/controls",
          "model_name": "FloatProgressModel",
          "model_module_version": "1.5.0",
          "state": {
            "_dom_classes": [],
            "_model_module": "@jupyter-widgets/controls",
            "_model_module_version": "1.5.0",
            "_model_name": "FloatProgressModel",
            "_view_count": null,
            "_view_module": "@jupyter-widgets/controls",
            "_view_module_version": "1.5.0",
            "_view_name": "ProgressView",
            "bar_style": "success",
            "description": "",
            "description_tooltip": null,
            "layout": "IPY_MODEL_43c073ac59bf49649e27e7c48062f7dd",
            "max": 456318,
            "min": 0,
            "orientation": "horizontal",
            "style": "IPY_MODEL_011154e06ec94838af25a988ef8b7a47",
            "value": 456318
          }
        },
        "76c831f38b71437f89743225a7e520a0": {
          "model_module": "@jupyter-widgets/controls",
          "model_name": "HTMLModel",
          "model_module_version": "1.5.0",
          "state": {
            "_dom_classes": [],
            "_model_module": "@jupyter-widgets/controls",
            "_model_module_version": "1.5.0",
            "_model_name": "HTMLModel",
            "_view_count": null,
            "_view_module": "@jupyter-widgets/controls",
            "_view_module_version": "1.5.0",
            "_view_name": "HTMLView",
            "description": "",
            "description_tooltip": null,
            "layout": "IPY_MODEL_b727a07769ab46a7909f2220ffbff7eb",
            "placeholder": "​",
            "style": "IPY_MODEL_585ed16d45664a1aa33bbabfaf47a937",
            "value": " 456k/456k [00:00&lt;00:00, 13.4MB/s]"
          }
        },
        "9638e0d1841b4a13a475af9a063dee75": {
          "model_module": "@jupyter-widgets/base",
          "model_name": "LayoutModel",
          "model_module_version": "1.2.0",
          "state": {
            "_model_module": "@jupyter-widgets/base",
            "_model_module_version": "1.2.0",
            "_model_name": "LayoutModel",
            "_view_count": null,
            "_view_module": "@jupyter-widgets/base",
            "_view_module_version": "1.2.0",
            "_view_name": "LayoutView",
            "align_content": null,
            "align_items": null,
            "align_self": null,
            "border": null,
            "bottom": null,
            "display": null,
            "flex": null,
            "flex_flow": null,
            "grid_area": null,
            "grid_auto_columns": null,
            "grid_auto_flow": null,
            "grid_auto_rows": null,
            "grid_column": null,
            "grid_gap": null,
            "grid_row": null,
            "grid_template_areas": null,
            "grid_template_columns": null,
            "grid_template_rows": null,
            "height": null,
            "justify_content": null,
            "justify_items": null,
            "left": null,
            "margin": null,
            "max_height": null,
            "max_width": null,
            "min_height": null,
            "min_width": null,
            "object_fit": null,
            "object_position": null,
            "order": null,
            "overflow": null,
            "overflow_x": null,
            "overflow_y": null,
            "padding": null,
            "right": null,
            "top": null,
            "visibility": null,
            "width": null
          }
        },
        "43d2d80efe1f48028a7ca42b82578600": {
          "model_module": "@jupyter-widgets/base",
          "model_name": "LayoutModel",
          "model_module_version": "1.2.0",
          "state": {
            "_model_module": "@jupyter-widgets/base",
            "_model_module_version": "1.2.0",
            "_model_name": "LayoutModel",
            "_view_count": null,
            "_view_module": "@jupyter-widgets/base",
            "_view_module_version": "1.2.0",
            "_view_name": "LayoutView",
            "align_content": null,
            "align_items": null,
            "align_self": null,
            "border": null,
            "bottom": null,
            "display": null,
            "flex": null,
            "flex_flow": null,
            "grid_area": null,
            "grid_auto_columns": null,
            "grid_auto_flow": null,
            "grid_auto_rows": null,
            "grid_column": null,
            "grid_gap": null,
            "grid_row": null,
            "grid_template_areas": null,
            "grid_template_columns": null,
            "grid_template_rows": null,
            "height": null,
            "justify_content": null,
            "justify_items": null,
            "left": null,
            "margin": null,
            "max_height": null,
            "max_width": null,
            "min_height": null,
            "min_width": null,
            "object_fit": null,
            "object_position": null,
            "order": null,
            "overflow": null,
            "overflow_x": null,
            "overflow_y": null,
            "padding": null,
            "right": null,
            "top": null,
            "visibility": null,
            "width": null
          }
        },
        "e0ba3a3bf9df4adb8d09787f853701a3": {
          "model_module": "@jupyter-widgets/controls",
          "model_name": "DescriptionStyleModel",
          "model_module_version": "1.5.0",
          "state": {
            "_model_module": "@jupyter-widgets/controls",
            "_model_module_version": "1.5.0",
            "_model_name": "DescriptionStyleModel",
            "_view_count": null,
            "_view_module": "@jupyter-widgets/base",
            "_view_module_version": "1.2.0",
            "_view_name": "StyleView",
            "description_width": ""
          }
        },
        "43c073ac59bf49649e27e7c48062f7dd": {
          "model_module": "@jupyter-widgets/base",
          "model_name": "LayoutModel",
          "model_module_version": "1.2.0",
          "state": {
            "_model_module": "@jupyter-widgets/base",
            "_model_module_version": "1.2.0",
            "_model_name": "LayoutModel",
            "_view_count": null,
            "_view_module": "@jupyter-widgets/base",
            "_view_module_version": "1.2.0",
            "_view_name": "LayoutView",
            "align_content": null,
            "align_items": null,
            "align_self": null,
            "border": null,
            "bottom": null,
            "display": null,
            "flex": null,
            "flex_flow": null,
            "grid_area": null,
            "grid_auto_columns": null,
            "grid_auto_flow": null,
            "grid_auto_rows": null,
            "grid_column": null,
            "grid_gap": null,
            "grid_row": null,
            "grid_template_areas": null,
            "grid_template_columns": null,
            "grid_template_rows": null,
            "height": null,
            "justify_content": null,
            "justify_items": null,
            "left": null,
            "margin": null,
            "max_height": null,
            "max_width": null,
            "min_height": null,
            "min_width": null,
            "object_fit": null,
            "object_position": null,
            "order": null,
            "overflow": null,
            "overflow_x": null,
            "overflow_y": null,
            "padding": null,
            "right": null,
            "top": null,
            "visibility": null,
            "width": null
          }
        },
        "011154e06ec94838af25a988ef8b7a47": {
          "model_module": "@jupyter-widgets/controls",
          "model_name": "ProgressStyleModel",
          "model_module_version": "1.5.0",
          "state": {
            "_model_module": "@jupyter-widgets/controls",
            "_model_module_version": "1.5.0",
            "_model_name": "ProgressStyleModel",
            "_view_count": null,
            "_view_module": "@jupyter-widgets/base",
            "_view_module_version": "1.2.0",
            "_view_name": "StyleView",
            "bar_color": null,
            "description_width": ""
          }
        },
        "b727a07769ab46a7909f2220ffbff7eb": {
          "model_module": "@jupyter-widgets/base",
          "model_name": "LayoutModel",
          "model_module_version": "1.2.0",
          "state": {
            "_model_module": "@jupyter-widgets/base",
            "_model_module_version": "1.2.0",
            "_model_name": "LayoutModel",
            "_view_count": null,
            "_view_module": "@jupyter-widgets/base",
            "_view_module_version": "1.2.0",
            "_view_name": "LayoutView",
            "align_content": null,
            "align_items": null,
            "align_self": null,
            "border": null,
            "bottom": null,
            "display": null,
            "flex": null,
            "flex_flow": null,
            "grid_area": null,
            "grid_auto_columns": null,
            "grid_auto_flow": null,
            "grid_auto_rows": null,
            "grid_column": null,
            "grid_gap": null,
            "grid_row": null,
            "grid_template_areas": null,
            "grid_template_columns": null,
            "grid_template_rows": null,
            "height": null,
            "justify_content": null,
            "justify_items": null,
            "left": null,
            "margin": null,
            "max_height": null,
            "max_width": null,
            "min_height": null,
            "min_width": null,
            "object_fit": null,
            "object_position": null,
            "order": null,
            "overflow": null,
            "overflow_x": null,
            "overflow_y": null,
            "padding": null,
            "right": null,
            "top": null,
            "visibility": null,
            "width": null
          }
        },
        "585ed16d45664a1aa33bbabfaf47a937": {
          "model_module": "@jupyter-widgets/controls",
          "model_name": "DescriptionStyleModel",
          "model_module_version": "1.5.0",
          "state": {
            "_model_module": "@jupyter-widgets/controls",
            "_model_module_version": "1.5.0",
            "_model_name": "DescriptionStyleModel",
            "_view_count": null,
            "_view_module": "@jupyter-widgets/base",
            "_view_module_version": "1.2.0",
            "_view_name": "StyleView",
            "description_width": ""
          }
        },
        "76cb5600ff6943fdb4e0f9c5abb71e32": {
          "model_module": "@jupyter-widgets/controls",
          "model_name": "HBoxModel",
          "model_module_version": "1.5.0",
          "state": {
            "_dom_classes": [],
            "_model_module": "@jupyter-widgets/controls",
            "_model_module_version": "1.5.0",
            "_model_name": "HBoxModel",
            "_view_count": null,
            "_view_module": "@jupyter-widgets/controls",
            "_view_module_version": "1.5.0",
            "_view_name": "HBoxView",
            "box_style": "",
            "children": [
              "IPY_MODEL_569f30bb317c4610a898524af7b77c74",
              "IPY_MODEL_c8e92be971024e6380f86b500cf28da6",
              "IPY_MODEL_308c30a751bf4c9eb04db14054bfcd81"
            ],
            "layout": "IPY_MODEL_1e0936cf62f44c02becc745855ff8847"
          }
        },
        "569f30bb317c4610a898524af7b77c74": {
          "model_module": "@jupyter-widgets/controls",
          "model_name": "HTMLModel",
          "model_module_version": "1.5.0",
          "state": {
            "_dom_classes": [],
            "_model_module": "@jupyter-widgets/controls",
            "_model_module_version": "1.5.0",
            "_model_name": "HTMLModel",
            "_view_count": null,
            "_view_module": "@jupyter-widgets/controls",
            "_view_module_version": "1.5.0",
            "_view_name": "HTMLView",
            "description": "",
            "description_tooltip": null,
            "layout": "IPY_MODEL_373667c504944edebbd85431d8be5938",
            "placeholder": "​",
            "style": "IPY_MODEL_0ecd6936ec6e491aa96c110f45407fb7",
            "value": "tokenizer.json: 100%"
          }
        },
        "c8e92be971024e6380f86b500cf28da6": {
          "model_module": "@jupyter-widgets/controls",
          "model_name": "FloatProgressModel",
          "model_module_version": "1.5.0",
          "state": {
            "_dom_classes": [],
            "_model_module": "@jupyter-widgets/controls",
            "_model_module_version": "1.5.0",
            "_model_name": "FloatProgressModel",
            "_view_count": null,
            "_view_module": "@jupyter-widgets/controls",
            "_view_module_version": "1.5.0",
            "_view_name": "ProgressView",
            "bar_style": "success",
            "description": "",
            "description_tooltip": null,
            "layout": "IPY_MODEL_ed1afa1e5fe34cbd8fce1b550bc4f62f",
            "max": 1355256,
            "min": 0,
            "orientation": "horizontal",
            "style": "IPY_MODEL_4efea340bb46402fab20e6e94fd9365d",
            "value": 1355256
          }
        },
        "308c30a751bf4c9eb04db14054bfcd81": {
          "model_module": "@jupyter-widgets/controls",
          "model_name": "HTMLModel",
          "model_module_version": "1.5.0",
          "state": {
            "_dom_classes": [],
            "_model_module": "@jupyter-widgets/controls",
            "_model_module_version": "1.5.0",
            "_model_name": "HTMLModel",
            "_view_count": null,
            "_view_module": "@jupyter-widgets/controls",
            "_view_module_version": "1.5.0",
            "_view_name": "HTMLView",
            "description": "",
            "description_tooltip": null,
            "layout": "IPY_MODEL_c7993e0b54f043bd9b684e5cb71273cf",
            "placeholder": "​",
            "style": "IPY_MODEL_a998cfc751e44af4bd7befa7753afe8c",
            "value": " 1.36M/1.36M [00:00&lt;00:00, 20.8MB/s]"
          }
        },
        "1e0936cf62f44c02becc745855ff8847": {
          "model_module": "@jupyter-widgets/base",
          "model_name": "LayoutModel",
          "model_module_version": "1.2.0",
          "state": {
            "_model_module": "@jupyter-widgets/base",
            "_model_module_version": "1.2.0",
            "_model_name": "LayoutModel",
            "_view_count": null,
            "_view_module": "@jupyter-widgets/base",
            "_view_module_version": "1.2.0",
            "_view_name": "LayoutView",
            "align_content": null,
            "align_items": null,
            "align_self": null,
            "border": null,
            "bottom": null,
            "display": null,
            "flex": null,
            "flex_flow": null,
            "grid_area": null,
            "grid_auto_columns": null,
            "grid_auto_flow": null,
            "grid_auto_rows": null,
            "grid_column": null,
            "grid_gap": null,
            "grid_row": null,
            "grid_template_areas": null,
            "grid_template_columns": null,
            "grid_template_rows": null,
            "height": null,
            "justify_content": null,
            "justify_items": null,
            "left": null,
            "margin": null,
            "max_height": null,
            "max_width": null,
            "min_height": null,
            "min_width": null,
            "object_fit": null,
            "object_position": null,
            "order": null,
            "overflow": null,
            "overflow_x": null,
            "overflow_y": null,
            "padding": null,
            "right": null,
            "top": null,
            "visibility": null,
            "width": null
          }
        },
        "373667c504944edebbd85431d8be5938": {
          "model_module": "@jupyter-widgets/base",
          "model_name": "LayoutModel",
          "model_module_version": "1.2.0",
          "state": {
            "_model_module": "@jupyter-widgets/base",
            "_model_module_version": "1.2.0",
            "_model_name": "LayoutModel",
            "_view_count": null,
            "_view_module": "@jupyter-widgets/base",
            "_view_module_version": "1.2.0",
            "_view_name": "LayoutView",
            "align_content": null,
            "align_items": null,
            "align_self": null,
            "border": null,
            "bottom": null,
            "display": null,
            "flex": null,
            "flex_flow": null,
            "grid_area": null,
            "grid_auto_columns": null,
            "grid_auto_flow": null,
            "grid_auto_rows": null,
            "grid_column": null,
            "grid_gap": null,
            "grid_row": null,
            "grid_template_areas": null,
            "grid_template_columns": null,
            "grid_template_rows": null,
            "height": null,
            "justify_content": null,
            "justify_items": null,
            "left": null,
            "margin": null,
            "max_height": null,
            "max_width": null,
            "min_height": null,
            "min_width": null,
            "object_fit": null,
            "object_position": null,
            "order": null,
            "overflow": null,
            "overflow_x": null,
            "overflow_y": null,
            "padding": null,
            "right": null,
            "top": null,
            "visibility": null,
            "width": null
          }
        },
        "0ecd6936ec6e491aa96c110f45407fb7": {
          "model_module": "@jupyter-widgets/controls",
          "model_name": "DescriptionStyleModel",
          "model_module_version": "1.5.0",
          "state": {
            "_model_module": "@jupyter-widgets/controls",
            "_model_module_version": "1.5.0",
            "_model_name": "DescriptionStyleModel",
            "_view_count": null,
            "_view_module": "@jupyter-widgets/base",
            "_view_module_version": "1.2.0",
            "_view_name": "StyleView",
            "description_width": ""
          }
        },
        "ed1afa1e5fe34cbd8fce1b550bc4f62f": {
          "model_module": "@jupyter-widgets/base",
          "model_name": "LayoutModel",
          "model_module_version": "1.2.0",
          "state": {
            "_model_module": "@jupyter-widgets/base",
            "_model_module_version": "1.2.0",
            "_model_name": "LayoutModel",
            "_view_count": null,
            "_view_module": "@jupyter-widgets/base",
            "_view_module_version": "1.2.0",
            "_view_name": "LayoutView",
            "align_content": null,
            "align_items": null,
            "align_self": null,
            "border": null,
            "bottom": null,
            "display": null,
            "flex": null,
            "flex_flow": null,
            "grid_area": null,
            "grid_auto_columns": null,
            "grid_auto_flow": null,
            "grid_auto_rows": null,
            "grid_column": null,
            "grid_gap": null,
            "grid_row": null,
            "grid_template_areas": null,
            "grid_template_columns": null,
            "grid_template_rows": null,
            "height": null,
            "justify_content": null,
            "justify_items": null,
            "left": null,
            "margin": null,
            "max_height": null,
            "max_width": null,
            "min_height": null,
            "min_width": null,
            "object_fit": null,
            "object_position": null,
            "order": null,
            "overflow": null,
            "overflow_x": null,
            "overflow_y": null,
            "padding": null,
            "right": null,
            "top": null,
            "visibility": null,
            "width": null
          }
        },
        "4efea340bb46402fab20e6e94fd9365d": {
          "model_module": "@jupyter-widgets/controls",
          "model_name": "ProgressStyleModel",
          "model_module_version": "1.5.0",
          "state": {
            "_model_module": "@jupyter-widgets/controls",
            "_model_module_version": "1.5.0",
            "_model_name": "ProgressStyleModel",
            "_view_count": null,
            "_view_module": "@jupyter-widgets/base",
            "_view_module_version": "1.2.0",
            "_view_name": "StyleView",
            "bar_color": null,
            "description_width": ""
          }
        },
        "c7993e0b54f043bd9b684e5cb71273cf": {
          "model_module": "@jupyter-widgets/base",
          "model_name": "LayoutModel",
          "model_module_version": "1.2.0",
          "state": {
            "_model_module": "@jupyter-widgets/base",
            "_model_module_version": "1.2.0",
            "_model_name": "LayoutModel",
            "_view_count": null,
            "_view_module": "@jupyter-widgets/base",
            "_view_module_version": "1.2.0",
            "_view_name": "LayoutView",
            "align_content": null,
            "align_items": null,
            "align_self": null,
            "border": null,
            "bottom": null,
            "display": null,
            "flex": null,
            "flex_flow": null,
            "grid_area": null,
            "grid_auto_columns": null,
            "grid_auto_flow": null,
            "grid_auto_rows": null,
            "grid_column": null,
            "grid_gap": null,
            "grid_row": null,
            "grid_template_areas": null,
            "grid_template_columns": null,
            "grid_template_rows": null,
            "height": null,
            "justify_content": null,
            "justify_items": null,
            "left": null,
            "margin": null,
            "max_height": null,
            "max_width": null,
            "min_height": null,
            "min_width": null,
            "object_fit": null,
            "object_position": null,
            "order": null,
            "overflow": null,
            "overflow_x": null,
            "overflow_y": null,
            "padding": null,
            "right": null,
            "top": null,
            "visibility": null,
            "width": null
          }
        },
        "a998cfc751e44af4bd7befa7753afe8c": {
          "model_module": "@jupyter-widgets/controls",
          "model_name": "DescriptionStyleModel",
          "model_module_version": "1.5.0",
          "state": {
            "_model_module": "@jupyter-widgets/controls",
            "_model_module_version": "1.5.0",
            "_model_name": "DescriptionStyleModel",
            "_view_count": null,
            "_view_module": "@jupyter-widgets/base",
            "_view_module_version": "1.2.0",
            "_view_name": "StyleView",
            "description_width": ""
          }
        }
      }
    }
  },
  "cells": [
    {
      "cell_type": "markdown",
      "source": [
        "# **Visualize attention with BertViz**"
      ],
      "metadata": {
        "id": "fxVAerF3xzTV"
      }
    },
    {
      "cell_type": "markdown",
      "source": [
        "Ce lien permet d'avoir accés au notebook de bertviz et de visualiser le mécanismisme d'auto-attention: [BertViz](https://colab.research.google.com/github/davidarps/2022_course_embeddings_and_transformers/blob/main/Visualizing_Attention_with_BertViz.ipynb)"
      ],
      "metadata": {
        "id": "hKvooKODx6VN"
      }
    },
    {
      "cell_type": "markdown",
      "source": [
        "# **Tokenization with tiktoken**"
      ],
      "metadata": {
        "id": "cd-N1Vh24jTj"
      }
    },
    {
      "cell_type": "markdown",
      "source": [
        "**tiktoken est un tokenizer [BPE](https://en.wikipedia.org/wiki/Byte_pair_encoding) utilisé par les modèles d'OpenAI.**"
      ],
      "metadata": {
        "id": "zkJqNUSl-nuT"
      }
    },
    {
      "cell_type": "code",
      "source": [
        "! pip install tiktoken"
      ],
      "metadata": {
        "id": "C8QEZzC84wNi"
      },
      "execution_count": null,
      "outputs": []
    },
    {
      "cell_type": "code",
      "source": [
        "import tiktoken"
      ],
      "metadata": {
        "id": "VB5bvnzy7zOZ"
      },
      "execution_count": 3,
      "outputs": []
    },
    {
      "cell_type": "code",
      "source": [
        "# Import tiktoken, une bibliothèque de Huggingface utile pour avoir une idée de la taille d'un modèle avant de l'utiliser.\n",
        "import tiktoken\n",
        "\n",
        "# Récupérer le tokenizer de GPT-3\n",
        "encoding = tiktoken.encoding_for_model(\"davinci\")\n",
        "\n",
        "# Donner un texte en exemple et l'afficher\n",
        "text = \"We need to stop anthropomorphizing ChatGPT.\"\n",
        "print(f\"text: {text}\")\n",
        "\n",
        "# Tokenizer le texte et afficher la taille du vocabulaire sur lequel GPT-3 est entraîné\n",
        "token_integers = encoding.encode(text)\n",
        "print(f\"total number of tokens: {encoding.n_vocab}\")\n",
        "\n",
        "# Afficher la liste des tokens (ids) et les tokens correspondants (mots)\n",
        "print(f\"token integers: {token_integers}\")\n",
        "token_strings = [encoding.decode_single_token_bytes(token) for token in token_integers]\n",
        "print(f\"token strings: {token_strings}\")\n",
        "print(f\"number of tokens in text: {len(token_integers)}\")\n",
        "\n",
        "# Décoder les tokens (ids) pour reconstruire la phrase de départ (avant tokenization)\n",
        "encoded_decoded_text = encoding.decode(token_integers)\n",
        "print(f\"encoded-decoded text: {encoded_decoded_text}\")"
      ],
      "metadata": {
        "colab": {
          "base_uri": "https://localhost:8080/"
        },
        "id": "VUrobgWi4pVg",
        "outputId": "76507ea4-6aa0-42ed-cdcf-d6a66b4aa0a9"
      },
      "execution_count": null,
      "outputs": [
        {
          "output_type": "stream",
          "name": "stdout",
          "text": [
            "text: We need to stop anthropomorphizing ChatGPT.\n",
            "total number of tokens: 50257\n",
            "token integers: [1135, 761, 284, 2245, 17911, 25831, 2890, 24101, 38, 11571, 13]\n",
            "token strings: [b'We', b' need', b' to', b' stop', b' anthrop', b'omorph', b'izing', b' Chat', b'G', b'PT', b'.']\n",
            "number of tokens in text: 11\n",
            "encoded-decoded text: We need to stop anthropomorphizing ChatGPT.\n"
          ]
        }
      ]
    },
    {
      "cell_type": "markdown",
      "source": [
        "# **T5**"
      ],
      "metadata": {
        "id": "FbEpHBxijSrR"
      }
    },
    {
      "cell_type": "markdown",
      "source": [
        "## **Inference**"
      ],
      "metadata": {
        "id": "3Lk1uIT0n5Ve"
      }
    },
    {
      "cell_type": "markdown",
      "source": [
        "Cette approche permet de tester de manière directe le modèle T5 générique."
      ],
      "metadata": {
        "id": "t2fAJpOc_wta"
      }
    },
    {
      "cell_type": "code",
      "source": [
        "# Installer la bibliothèque transformers de HuggingFace pour avoir accés à T5\n",
        "! pip install transformers"
      ],
      "metadata": {
        "id": "9ei6VxMAjni8"
      },
      "execution_count": null,
      "outputs": []
    },
    {
      "cell_type": "code",
      "source": [
        "# Installer sentencepiece pour la tokenization (ici on utilise pas BPE)\n",
        "! pip install sentencepiece"
      ],
      "metadata": {
        "id": "g1FtTqKij7dR"
      },
      "execution_count": null,
      "outputs": []
    },
    {
      "cell_type": "code",
      "source": [
        "# Importer le tokiner et le modèle de T5\n",
        "from transformers import T5Tokenizer, T5ForConditionalGeneration\n",
        "\n",
        "# Charger le tokenizer pré-entraîné\n",
        "tokenizer = T5Tokenizer.from_pretrained(\"t5-small\")\n",
        "\n",
        "# Charger le modèle pré-entraîné\n",
        "model = T5ForConditionalGeneration.from_pretrained(\"t5-small\")\n",
        "\n",
        "# Spécifier la tâche à exécuter (ici, on fait de la traduction d'anglais vers l'allemand)\n",
        "task_prefix = \"translate English to German: \"\n",
        "\n",
        "# Donner deux phrases à traduire en guise d'exemple\n",
        "sentences = [\"The house is wonderful.\", \"I like to work in NYC.\"]\n",
        "\n",
        "# Tokeniser les deux phrases en concaténant avec la tâche cible (translate English to German)\n",
        "inputs = tokenizer([task_prefix + sentence for sentence in sentences], return_tensors=\"pt\", padding=True)"
      ],
      "metadata": {
        "id": "rkPDlAREjUs9"
      },
      "execution_count": null,
      "outputs": []
    },
    {
      "cell_type": "code",
      "source": [
        "# Afficher la sortie de la tokenisation\n",
        "inputs"
      ],
      "metadata": {
        "colab": {
          "base_uri": "https://localhost:8080/"
        },
        "id": "O0mht2uZkPD8",
        "outputId": "43a681da-2b11-42a2-fb26-5af1ce5a77ed"
      },
      "execution_count": 11,
      "outputs": [
        {
          "output_type": "execute_result",
          "data": {
            "text/plain": [
              "{'input_ids': tensor([[13959,  1566,    12,  2968,    10,    37,   629,    19,  1627,     5,\n",
              "             1,     0,     0],\n",
              "        [13959,  1566,    12,  2968,    10,    27,   114,    12,   161,    16,\n",
              "         13465,     5,     1]]), 'attention_mask': tensor([[1, 1, 1, 1, 1, 1, 1, 1, 1, 1, 1, 0, 0],\n",
              "        [1, 1, 1, 1, 1, 1, 1, 1, 1, 1, 1, 1, 1]])}"
            ]
          },
          "metadata": {},
          "execution_count": 11
        }
      ]
    },
    {
      "cell_type": "code",
      "source": [
        "# Afficher la taille de la matrice des ids obtenue après tokenisation\n",
        "inputs['input_ids'].shape"
      ],
      "metadata": {
        "colab": {
          "base_uri": "https://localhost:8080/"
        },
        "id": "xu-k0UdukU13",
        "outputId": "03cf04f5-c60c-4c55-b5e5-91e0cd2b8185"
      },
      "execution_count": 8,
      "outputs": [
        {
          "output_type": "execute_result",
          "data": {
            "text/plain": [
              "torch.Size([2, 13])"
            ]
          },
          "metadata": {},
          "execution_count": 8
        }
      ]
    },
    {
      "cell_type": "code",
      "source": [
        "# Tester l'encodeur du modèle T5\n",
        "encoder_output = model.encoder(input_ids=inputs[\"input_ids\"], attention_mask=inputs[\"attention_mask\"])\n",
        "print(encoder_output)\n",
        "print(encoder_output.keys())\n",
        "print(encoder_output[\"last_hidden_state\"].shape)"
      ],
      "metadata": {
        "colab": {
          "base_uri": "https://localhost:8080/"
        },
        "id": "byYQMMQjBfXO",
        "outputId": "348ecd77-df5d-4857-d0bc-84016288d3a1"
      },
      "execution_count": 21,
      "outputs": [
        {
          "output_type": "stream",
          "name": "stdout",
          "text": [
            "BaseModelOutputWithPastAndCrossAttentions(last_hidden_state=tensor([[[ 0.0154,  0.1263,  0.0301,  ..., -0.0117,  0.0373,  0.1015],\n",
            "         [-0.1926, -0.1285,  0.0228,  ..., -0.0339,  0.0535,  0.1575],\n",
            "         [ 0.0109, -0.0210,  0.0022,  ...,  0.0008, -0.0056, -0.0393],\n",
            "         ...,\n",
            "         [ 0.0756, -0.0119, -0.0273,  ..., -0.0044, -0.0505,  0.0554],\n",
            "         [ 0.0373, -0.1201,  0.2142,  ...,  0.1950,  0.0546, -0.1554],\n",
            "         [ 0.0321, -0.1309,  0.2183,  ...,  0.1683,  0.0588, -0.1607]],\n",
            "\n",
            "        [[ 0.0164,  0.1266,  0.0305,  ..., -0.0114,  0.0363,  0.0988],\n",
            "         [-0.0324, -0.0596, -0.0139,  ...,  0.0319, -0.0131,  0.0450],\n",
            "         [ 0.0098, -0.0204,  0.0016,  ...,  0.0017, -0.0040, -0.0397],\n",
            "         ...,\n",
            "         [-0.0303, -0.3878,  0.1376,  ..., -0.0516,  0.0796, -0.3034],\n",
            "         [ 0.0241, -0.1246,  0.0031,  ...,  0.0801, -0.2018, -0.0541],\n",
            "         [ 0.0946,  0.0095, -0.0317,  ..., -0.0046, -0.0563,  0.0309]]],\n",
            "       grad_fn=<MulBackward0>), past_key_values=None, hidden_states=None, attentions=None, cross_attentions=None)\n",
            "odict_keys(['last_hidden_state'])\n",
            "torch.Size([2, 13, 512])\n"
          ]
        }
      ]
    },
    {
      "cell_type": "code",
      "source": [
        "# Tester le décodeur du modèle T5 (cette méthode permet uniquement de prendre le décodeur pas la couche de logits pour la prédiction)\n",
        "decoder_output = model.decoder(input_ids=inputs[\"input_ids\"], attention_mask=inputs[\"attention_mask\"])\n",
        "print(decoder_output)\n",
        "print(decoder_output.keys())\n",
        "print(decoder_output[\"last_hidden_state\"].shape)"
      ],
      "metadata": {
        "colab": {
          "base_uri": "https://localhost:8080/"
        },
        "id": "wtK-GBSICg2L",
        "outputId": "bfde4939-c2ab-48d8-b4f7-50ee30e8a0e9"
      },
      "execution_count": 25,
      "outputs": [
        {
          "output_type": "stream",
          "name": "stdout",
          "text": [
            "BaseModelOutputWithPastAndCrossAttentions(last_hidden_state=tensor([[[ 4.0756e-02,  2.2054e-01, -9.8648e-02,  ...,  1.0998e-01,\n",
            "           4.5049e-05, -1.1511e-01],\n",
            "         [-4.2975e-02,  8.5212e-02, -2.6601e-02,  ...,  9.1395e-02,\n",
            "           2.6582e-04, -2.4325e-01],\n",
            "         [ 4.9926e-02,  2.8985e-02,  3.7887e-03,  ...,  1.1895e-01,\n",
            "           5.1045e-04,  3.9288e-02],\n",
            "         ...,\n",
            "         [-6.6533e-03, -6.9466e-03,  8.2814e-02,  ...,  8.2662e-02,\n",
            "           1.5332e-04, -1.0807e-01],\n",
            "         [-2.9056e-02,  4.2412e-02,  2.6476e-02,  ...,  6.4245e-02,\n",
            "           1.1994e-04,  6.3035e-02],\n",
            "         [-2.5118e-02,  3.7915e-02,  3.1097e-02,  ...,  6.8023e-02,\n",
            "           1.1328e-04,  4.0840e-02]],\n",
            "\n",
            "        [[ 4.0756e-02,  2.2054e-01, -9.8648e-02,  ...,  1.0998e-01,\n",
            "           4.5049e-05, -1.1511e-01],\n",
            "         [-4.2975e-02,  8.5212e-02, -2.6601e-02,  ...,  9.1395e-02,\n",
            "           2.6582e-04, -2.4325e-01],\n",
            "         [ 4.9926e-02,  2.8985e-02,  3.7887e-03,  ...,  1.1895e-01,\n",
            "           5.1045e-04,  3.9288e-02],\n",
            "         ...,\n",
            "         [-4.6145e-02,  2.3920e-01, -6.9621e-02,  ...,  1.0218e-01,\n",
            "          -2.5564e-04, -2.0135e-01],\n",
            "         [ 4.4017e-02,  1.9264e-01, -2.9997e-02,  ...,  8.8327e-02,\n",
            "           2.8541e-04, -2.7844e-02],\n",
            "         [ 7.4298e-03,  1.5940e-02,  6.7769e-02,  ...,  1.0964e-01,\n",
            "           1.6731e-04, -6.1269e-02]]], grad_fn=<MulBackward0>), past_key_values=((tensor([[[[ 0.4020, -1.1947, -2.1665,  ..., -2.2624, -1.4676,  0.8900],\n",
            "          [-0.4567, -0.5330,  0.9005,  ..., -2.5584, -0.2817,  0.0787],\n",
            "          [-0.5017, -0.3087,  0.5856,  ..., -1.2799,  0.8061, -1.3151],\n",
            "          ...,\n",
            "          [ 0.8822,  0.3299, -1.1180,  ..., -0.4515, -0.1813, -1.0115],\n",
            "          [-0.4865, -2.3323, -1.1428,  ..., -2.5693, -1.7539, -0.5693],\n",
            "          [-0.4865, -2.3323, -1.1428,  ..., -2.5693, -1.7539, -0.5693]],\n",
            "\n",
            "         [[ 1.1729, -1.8029,  0.8286,  ...,  1.2473,  0.3821,  2.5323],\n",
            "          [ 0.7718, -0.4050, -4.2384,  ...,  1.0912, -0.6179,  0.6042],\n",
            "          [-1.0595, -0.2554, -1.5071,  ..., -0.6133, -0.8172,  0.9760],\n",
            "          ...,\n",
            "          [-0.0718, -1.8361, -0.6670,  ..., -0.6290,  0.0926,  0.7815],\n",
            "          [-0.9565, -2.3581, -0.2478,  ...,  1.1193,  0.7770,  0.5377],\n",
            "          [-0.9565, -2.3581, -0.2478,  ...,  1.1193,  0.7770,  0.5377]],\n",
            "\n",
            "         [[ 1.7984, -0.4225, -0.1994,  ...,  0.9849,  1.0500, -0.0587],\n",
            "          [ 0.2809,  1.8780, -0.6515,  ..., -2.4665,  2.5489, -0.3501],\n",
            "          [-0.5854,  1.1516,  0.8504,  ...,  1.7440,  1.3668, -0.2232],\n",
            "          ...,\n",
            "          [ 1.0025,  0.1487, -0.5932,  ...,  1.4527,  1.2500,  0.1555],\n",
            "          [ 1.0704, -2.5709,  0.6892,  ..., -1.3349,  0.2768,  0.5756],\n",
            "          [ 1.0704, -2.5709,  0.6892,  ..., -1.3349,  0.2768,  0.5756]],\n",
            "\n",
            "         ...,\n",
            "\n",
            "         [[ 3.0022, -0.3829, -1.1843,  ..., -0.9048,  1.1100,  1.1291],\n",
            "          [ 2.7657,  1.4642,  0.3663,  ...,  0.7281, -0.3911,  0.6319],\n",
            "          [ 2.2537,  1.0927,  0.7179,  ...,  1.2832, -0.4283,  0.0405],\n",
            "          ...,\n",
            "          [ 0.2959, -2.4671, -1.4441,  ..., -0.3756,  1.3632, -0.3540],\n",
            "          [-0.6660,  2.2657,  0.3124,  ...,  1.4158, -2.9123, -1.1275],\n",
            "          [-0.6660,  2.2657,  0.3124,  ...,  1.4158, -2.9123, -1.1275]],\n",
            "\n",
            "         [[-1.8867,  0.4678, -1.5779,  ...,  1.4338,  0.4580,  1.2239],\n",
            "          [-2.6488, -0.8595, -0.6636,  ...,  1.4069,  0.7235,  0.8028],\n",
            "          [-1.5650, -0.6502, -4.2002,  ...,  0.8720,  1.1238, -0.3958],\n",
            "          ...,\n",
            "          [-0.7958, -0.5181, -1.6686,  ..., -0.1749,  0.6551,  0.6886],\n",
            "          [-6.0374, -1.1453, -1.5700,  ..., -1.3067, -0.1885,  1.6042],\n",
            "          [-6.0374, -1.1453, -1.5700,  ..., -1.3067, -0.1885,  1.6042]],\n",
            "\n",
            "         [[ 0.7804, -0.5717,  0.8148,  ...,  0.9940,  1.7622, -0.8145],\n",
            "          [-0.0299,  1.1429,  0.3250,  ...,  1.2330,  0.9747,  0.0523],\n",
            "          [ 0.0604,  0.6479,  0.1513,  ...,  0.6428,  0.4141,  0.0321],\n",
            "          ...,\n",
            "          [ 1.2619, -0.4575,  1.5478,  ...,  1.1051,  0.6808, -1.2374],\n",
            "          [ 0.0485, -0.0356, -0.0691,  ...,  0.6128, -0.2485, -0.2954],\n",
            "          [ 0.0485, -0.0356, -0.0691,  ...,  0.6128, -0.2485, -0.2954]]],\n",
            "\n",
            "\n",
            "        [[[ 0.4020, -1.1947, -2.1665,  ..., -2.2624, -1.4676,  0.8900],\n",
            "          [-0.4567, -0.5330,  0.9005,  ..., -2.5584, -0.2817,  0.0787],\n",
            "          [-0.5017, -0.3087,  0.5856,  ..., -1.2799,  0.8061, -1.3151],\n",
            "          ...,\n",
            "          [ 1.2580, -0.4743,  0.7601,  ..., -1.1998, -0.1159,  1.3976],\n",
            "          [-0.8118,  0.1542,  0.0627,  ..., -0.1274, -0.4982, -0.0704],\n",
            "          [ 0.8822,  0.3299, -1.1180,  ..., -0.4515, -0.1813, -1.0115]],\n",
            "\n",
            "         [[ 1.1729, -1.8029,  0.8286,  ...,  1.2473,  0.3821,  2.5323],\n",
            "          [ 0.7718, -0.4050, -4.2384,  ...,  1.0912, -0.6179,  0.6042],\n",
            "          [-1.0595, -0.2554, -1.5071,  ..., -0.6133, -0.8172,  0.9760],\n",
            "          ...,\n",
            "          [ 1.0861,  0.1375, -0.0801,  ...,  1.3912,  2.0632,  1.6341],\n",
            "          [-1.1496, -2.3143, -1.5079,  ...,  0.9651,  0.1605, -0.2859],\n",
            "          [-0.0718, -1.8361, -0.6670,  ..., -0.6290,  0.0926,  0.7815]],\n",
            "\n",
            "         [[ 1.7984, -0.4225, -0.1994,  ...,  0.9849,  1.0500, -0.0587],\n",
            "          [ 0.2809,  1.8780, -0.6515,  ..., -2.4665,  2.5489, -0.3501],\n",
            "          [-0.5854,  1.1516,  0.8504,  ...,  1.7440,  1.3668, -0.2232],\n",
            "          ...,\n",
            "          [-1.8369, -1.3363,  0.4342,  ..., -1.9354, -0.6948, -0.7997],\n",
            "          [ 1.6429, -2.1837,  0.8486,  ...,  0.3883, -0.7034, -0.1324],\n",
            "          [ 1.0025,  0.1487, -0.5932,  ...,  1.4527,  1.2500,  0.1555]],\n",
            "\n",
            "         ...,\n",
            "\n",
            "         [[ 3.0022, -0.3829, -1.1843,  ..., -0.9048,  1.1100,  1.1291],\n",
            "          [ 2.7657,  1.4642,  0.3663,  ...,  0.7281, -0.3911,  0.6319],\n",
            "          [ 2.2537,  1.0927,  0.7179,  ...,  1.2832, -0.4283,  0.0405],\n",
            "          ...,\n",
            "          [-0.1387, -1.0706, -0.0108,  ..., -1.0362,  1.7962, -0.3104],\n",
            "          [ 0.2513, -0.3596,  1.1476,  ...,  0.6515,  0.2477,  1.4682],\n",
            "          [ 0.2959, -2.4671, -1.4441,  ..., -0.3756,  1.3632, -0.3540]],\n",
            "\n",
            "         [[-1.8867,  0.4678, -1.5779,  ...,  1.4338,  0.4580,  1.2239],\n",
            "          [-2.6488, -0.8595, -0.6636,  ...,  1.4069,  0.7235,  0.8028],\n",
            "          [-1.5650, -0.6502, -4.2002,  ...,  0.8720,  1.1238, -0.3958],\n",
            "          ...,\n",
            "          [-0.5791, -0.4877, -1.5796,  ...,  0.2308, -0.0073,  0.1158],\n",
            "          [-1.3603, -1.2351, -1.5132,  ...,  0.3255, -0.0289, -0.4486],\n",
            "          [-0.7958, -0.5181, -1.6686,  ..., -0.1749,  0.6551,  0.6886]],\n",
            "\n",
            "         [[ 0.7804, -0.5717,  0.8148,  ...,  0.9940,  1.7622, -0.8145],\n",
            "          [-0.0299,  1.1429,  0.3250,  ...,  1.2330,  0.9747,  0.0523],\n",
            "          [ 0.0604,  0.6479,  0.1513,  ...,  0.6428,  0.4141,  0.0321],\n",
            "          ...,\n",
            "          [ 0.1438, -0.5538, -0.2541,  ..., -0.5345,  1.2464,  0.3316],\n",
            "          [ 0.4639, -0.3401, -0.3259,  ...,  0.6568,  0.4442, -0.4755],\n",
            "          [ 1.2619, -0.4575,  1.5478,  ...,  1.1051,  0.6808, -1.2374]]]],\n",
            "       grad_fn=<TransposeBackward0>), tensor([[[[ 7.4427e-01,  1.2719e+00, -9.5605e-01,  ..., -4.6666e-01,\n",
            "           -1.5687e-01, -1.7617e-01],\n",
            "          [ 1.6976e-01,  2.9012e-01, -5.3284e-03,  ..., -3.3251e-01,\n",
            "           -4.8512e-01,  3.3132e-02],\n",
            "          [-2.3353e+00,  1.9321e+00, -1.7242e+00,  ...,  5.2583e-01,\n",
            "           -1.8117e+00, -1.4468e+00],\n",
            "          ...,\n",
            "          [ 8.3276e-02,  1.1035e+00, -1.4480e+00,  ..., -4.2790e-01,\n",
            "            3.7018e-01,  1.2569e-01],\n",
            "          [ 2.4430e-01,  3.2305e-01, -2.2954e-01,  ...,  7.0326e-01,\n",
            "            2.8494e-01,  1.7667e-01],\n",
            "          [ 2.4430e-01,  3.2305e-01, -2.2954e-01,  ...,  7.0326e-01,\n",
            "            2.8494e-01,  1.7667e-01]],\n",
            "\n",
            "         [[ 7.8109e-01, -1.0712e+00,  3.6166e-01,  ..., -9.0412e-01,\n",
            "           -1.4761e+00,  6.8560e-01],\n",
            "          [ 9.0163e-01,  1.0684e+00, -7.1218e-02,  ...,  4.6274e-03,\n",
            "            3.1292e-01, -1.0122e+00],\n",
            "          [ 7.9983e-01,  3.2630e-01, -3.2484e-01,  ..., -1.5034e-01,\n",
            "            1.0946e+00, -4.3685e-01],\n",
            "          ...,\n",
            "          [ 2.0778e+00, -1.2436e+00, -2.7878e-01,  ...,  1.3303e-01,\n",
            "            1.6115e+00, -1.6080e+00],\n",
            "          [-1.6416e-01,  5.7965e-01, -4.2177e-01,  ..., -5.3154e-02,\n",
            "           -9.0629e-02, -2.6091e-01],\n",
            "          [-1.6416e-01,  5.7965e-01, -4.2177e-01,  ..., -5.3154e-02,\n",
            "           -9.0629e-02, -2.6091e-01]],\n",
            "\n",
            "         [[-2.2804e-01, -8.6494e-01,  1.8194e-01,  ..., -4.2977e-02,\n",
            "            3.1434e-01,  1.2847e+00],\n",
            "          [ 4.6377e-01, -7.9033e-01, -1.1159e+00,  ..., -1.3208e+00,\n",
            "           -1.0359e+00,  2.1715e-01],\n",
            "          [ 1.6585e-01,  6.8642e-01, -2.5363e-02,  ..., -2.6453e+00,\n",
            "            5.1139e-01,  1.0677e+00],\n",
            "          ...,\n",
            "          [-7.4282e-01,  3.8522e-01, -7.4126e-01,  ...,  9.3465e-02,\n",
            "           -9.2015e-01,  7.7789e-01],\n",
            "          [ 1.3425e-01,  2.9316e-01, -5.6067e-02,  ..., -8.8016e-02,\n",
            "           -8.8274e-01,  1.0571e-01],\n",
            "          [ 1.3425e-01,  2.9316e-01, -5.6067e-02,  ..., -8.8016e-02,\n",
            "           -8.8274e-01,  1.0571e-01]],\n",
            "\n",
            "         ...,\n",
            "\n",
            "         [[-1.4946e+00, -4.3885e-01, -3.5389e-01,  ..., -4.8310e-02,\n",
            "           -3.9383e-01,  1.0692e+00],\n",
            "          [-5.3740e-01, -1.5497e+00, -1.4741e+00,  ...,  7.8988e-01,\n",
            "            7.0981e-01,  7.6711e-01],\n",
            "          [-7.6308e-01, -2.8615e-02, -4.9440e-02,  ...,  1.4863e-01,\n",
            "           -1.3192e+00, -7.6913e-01],\n",
            "          ...,\n",
            "          [ 4.2309e-01, -5.4537e-01,  5.1885e-01,  ...,  5.4378e-01,\n",
            "           -6.7743e-01, -1.2099e+00],\n",
            "          [ 3.2518e-01, -2.0497e-01, -2.9561e-02,  ..., -2.6988e-01,\n",
            "            9.7269e-02, -1.0568e-01],\n",
            "          [ 3.2518e-01, -2.0497e-01, -2.9561e-02,  ..., -2.6988e-01,\n",
            "            9.7269e-02, -1.0568e-01]],\n",
            "\n",
            "         [[-1.8969e-02,  2.1630e-01,  1.8161e-01,  ..., -1.9125e-01,\n",
            "           -6.0774e-02, -1.5160e+00],\n",
            "          [ 7.4384e-01,  1.0521e+00,  2.0470e-01,  ..., -4.9602e-01,\n",
            "           -1.4007e-01, -1.3509e+00],\n",
            "          [ 1.0601e-01,  1.9597e-01,  2.5564e+00,  ...,  1.2238e+00,\n",
            "            6.2039e-01, -2.5314e+00],\n",
            "          ...,\n",
            "          [-1.2006e-01, -8.1763e-01, -1.2456e-01,  ...,  1.7470e-01,\n",
            "           -3.6113e-01, -1.1205e+00],\n",
            "          [-2.3741e-01, -4.8000e-02,  7.8948e-03,  ...,  5.3948e-02,\n",
            "            2.7783e-02, -1.5002e-01],\n",
            "          [-2.3741e-01, -4.8000e-02,  7.8948e-03,  ...,  5.3948e-02,\n",
            "            2.7783e-02, -1.5002e-01]],\n",
            "\n",
            "         [[ 1.6809e-01, -8.0305e-01,  7.4826e-01,  ..., -1.3025e+00,\n",
            "            4.0373e-01, -2.2054e-02],\n",
            "          [-1.6204e-01, -5.7320e-01,  4.3359e-01,  ..., -5.7908e-01,\n",
            "           -2.6676e-01, -5.2353e-02],\n",
            "          [ 3.2387e+00,  9.0003e-01, -7.3817e-01,  ..., -1.0149e+00,\n",
            "            1.5426e-01,  4.2637e-01],\n",
            "          ...,\n",
            "          [-8.4874e-02, -5.5894e-01,  1.0846e+00,  ..., -1.2484e+00,\n",
            "            1.1162e+00,  1.3824e+00],\n",
            "          [ 5.3252e-02, -7.6834e-01,  2.6697e-01,  ...,  2.2539e-01,\n",
            "           -1.8973e-01,  6.1827e-02],\n",
            "          [ 5.3252e-02, -7.6834e-01,  2.6697e-01,  ...,  2.2539e-01,\n",
            "           -1.8973e-01,  6.1827e-02]]],\n",
            "\n",
            "\n",
            "        [[[ 7.4427e-01,  1.2719e+00, -9.5605e-01,  ..., -4.6666e-01,\n",
            "           -1.5687e-01, -1.7617e-01],\n",
            "          [ 1.6976e-01,  2.9012e-01, -5.3284e-03,  ..., -3.3251e-01,\n",
            "           -4.8512e-01,  3.3132e-02],\n",
            "          [-2.3353e+00,  1.9321e+00, -1.7242e+00,  ...,  5.2583e-01,\n",
            "           -1.8117e+00, -1.4468e+00],\n",
            "          ...,\n",
            "          [-3.5969e-01,  7.6201e-01, -1.2128e+00,  ..., -2.7783e-01,\n",
            "            5.3677e-01,  1.2134e+00],\n",
            "          [-4.8030e-01,  4.6426e-03,  5.3411e-01,  ..., -1.3014e-01,\n",
            "           -1.5001e-01,  8.0994e-01],\n",
            "          [ 8.3276e-02,  1.1035e+00, -1.4480e+00,  ..., -4.2790e-01,\n",
            "            3.7018e-01,  1.2569e-01]],\n",
            "\n",
            "         [[ 7.8109e-01, -1.0712e+00,  3.6166e-01,  ..., -9.0412e-01,\n",
            "           -1.4761e+00,  6.8560e-01],\n",
            "          [ 9.0163e-01,  1.0684e+00, -7.1218e-02,  ...,  4.6274e-03,\n",
            "            3.1292e-01, -1.0122e+00],\n",
            "          [ 7.9983e-01,  3.2630e-01, -3.2484e-01,  ..., -1.5034e-01,\n",
            "            1.0946e+00, -4.3685e-01],\n",
            "          ...,\n",
            "          [-5.4253e-01, -4.4914e-01,  1.0084e+00,  ..., -1.2506e+00,\n",
            "           -2.0099e-03, -8.1346e-02],\n",
            "          [-9.9855e-01, -1.2381e-02,  3.0774e-01,  ..., -6.6269e-01,\n",
            "           -7.4214e-01, -7.8386e-01],\n",
            "          [ 2.0778e+00, -1.2436e+00, -2.7878e-01,  ...,  1.3303e-01,\n",
            "            1.6115e+00, -1.6080e+00]],\n",
            "\n",
            "         [[-2.2804e-01, -8.6494e-01,  1.8194e-01,  ..., -4.2977e-02,\n",
            "            3.1434e-01,  1.2847e+00],\n",
            "          [ 4.6377e-01, -7.9033e-01, -1.1159e+00,  ..., -1.3208e+00,\n",
            "           -1.0359e+00,  2.1715e-01],\n",
            "          [ 1.6585e-01,  6.8642e-01, -2.5363e-02,  ..., -2.6453e+00,\n",
            "            5.1139e-01,  1.0677e+00],\n",
            "          ...,\n",
            "          [ 5.6957e-01,  8.2884e-01, -5.2450e-01,  ...,  3.1843e-01,\n",
            "            4.5600e-01,  3.7943e-02],\n",
            "          [ 1.8432e+00,  4.9571e-01, -8.6826e-01,  ...,  1.4624e-01,\n",
            "           -1.6454e-01, -1.1793e+00],\n",
            "          [-7.4282e-01,  3.8522e-01, -7.4126e-01,  ...,  9.3465e-02,\n",
            "           -9.2015e-01,  7.7789e-01]],\n",
            "\n",
            "         ...,\n",
            "\n",
            "         [[-1.4946e+00, -4.3885e-01, -3.5389e-01,  ..., -4.8310e-02,\n",
            "           -3.9383e-01,  1.0692e+00],\n",
            "          [-5.3740e-01, -1.5497e+00, -1.4741e+00,  ...,  7.8988e-01,\n",
            "            7.0981e-01,  7.6711e-01],\n",
            "          [-7.6308e-01, -2.8615e-02, -4.9440e-02,  ...,  1.4863e-01,\n",
            "           -1.3192e+00, -7.6913e-01],\n",
            "          ...,\n",
            "          [-5.5764e-01, -1.1541e+00,  7.0845e-01,  ...,  2.1748e-01,\n",
            "           -1.1159e+00, -4.2437e-01],\n",
            "          [ 6.9365e-01, -7.9509e-01, -1.4705e+00,  ...,  1.0076e+00,\n",
            "           -4.9561e-01,  2.8027e-01],\n",
            "          [ 4.2309e-01, -5.4537e-01,  5.1885e-01,  ...,  5.4378e-01,\n",
            "           -6.7743e-01, -1.2099e+00]],\n",
            "\n",
            "         [[-1.8969e-02,  2.1630e-01,  1.8161e-01,  ..., -1.9125e-01,\n",
            "           -6.0774e-02, -1.5160e+00],\n",
            "          [ 7.4384e-01,  1.0521e+00,  2.0470e-01,  ..., -4.9602e-01,\n",
            "           -1.4007e-01, -1.3509e+00],\n",
            "          [ 1.0601e-01,  1.9597e-01,  2.5564e+00,  ...,  1.2238e+00,\n",
            "            6.2039e-01, -2.5314e+00],\n",
            "          ...,\n",
            "          [-2.7963e-01, -1.4497e-01,  4.2770e-01,  ..., -3.1899e-01,\n",
            "            2.7869e-01,  1.6774e-01],\n",
            "          [ 9.0307e-01, -1.6228e+00, -1.0878e-01,  ...,  4.2091e-01,\n",
            "           -2.2696e+00, -1.7732e-01],\n",
            "          [-1.2006e-01, -8.1763e-01, -1.2456e-01,  ...,  1.7470e-01,\n",
            "           -3.6113e-01, -1.1205e+00]],\n",
            "\n",
            "         [[ 1.6809e-01, -8.0305e-01,  7.4826e-01,  ..., -1.3025e+00,\n",
            "            4.0373e-01, -2.2054e-02],\n",
            "          [-1.6204e-01, -5.7320e-01,  4.3359e-01,  ..., -5.7908e-01,\n",
            "           -2.6676e-01, -5.2353e-02],\n",
            "          [ 3.2387e+00,  9.0003e-01, -7.3817e-01,  ..., -1.0149e+00,\n",
            "            1.5426e-01,  4.2637e-01],\n",
            "          ...,\n",
            "          [-8.8010e-01, -2.3233e+00,  3.8434e-02,  ..., -1.3739e+00,\n",
            "            3.1250e-01,  5.1651e-02],\n",
            "          [ 1.6020e+00, -1.4538e+00,  1.3189e+00,  ..., -2.8313e-01,\n",
            "            1.1269e+00,  1.3240e-02],\n",
            "          [-8.4874e-02, -5.5894e-01,  1.0846e+00,  ..., -1.2484e+00,\n",
            "            1.1162e+00,  1.3824e+00]]]], grad_fn=<TransposeBackward0>)), (tensor([[[[-7.4309e-02,  2.3944e-01,  1.3760e+00,  ..., -1.4187e-01,\n",
            "           -1.8485e+00, -1.2434e+00],\n",
            "          [-1.0862e-01,  4.9312e-01,  4.9577e-01,  ...,  5.4950e-01,\n",
            "           -6.7168e-01, -1.2425e+00],\n",
            "          [-1.7586e+00,  1.6973e+00,  4.1276e-01,  ..., -3.6411e-02,\n",
            "           -3.2898e-01, -2.9306e-01],\n",
            "          ...,\n",
            "          [ 5.3643e-01,  5.6267e-01,  5.9905e-01,  ...,  8.7090e-01,\n",
            "           -9.7321e-01, -5.2622e-01],\n",
            "          [ 1.2287e+00,  1.0048e+00,  1.9618e+00,  ...,  1.4206e+00,\n",
            "           -1.4547e+00,  1.4437e+00],\n",
            "          [ 1.2139e+00,  9.7736e-01,  2.0032e+00,  ...,  1.4083e+00,\n",
            "           -1.4393e+00,  1.4079e+00]],\n",
            "\n",
            "         [[-7.1874e-01, -4.7530e-01, -1.9220e+00,  ...,  1.1744e+00,\n",
            "            6.1728e-01,  1.9902e+00],\n",
            "          [-2.4564e-01, -2.4937e-01,  9.1654e-01,  ...,  7.0286e-01,\n",
            "            1.3236e+00, -3.4402e-03],\n",
            "          [-7.1273e-02,  8.9915e-01,  9.1272e-01,  ...,  1.3174e-01,\n",
            "            1.5148e-01,  7.0780e-01],\n",
            "          ...,\n",
            "          [ 2.3089e-01, -2.2542e+00, -2.7117e+00,  ...,  2.0071e+00,\n",
            "            1.6671e+00,  4.9841e-01],\n",
            "          [-5.6198e-01, -1.2882e+00, -4.4171e+00,  ...,  3.4834e+00,\n",
            "            9.0841e-01, -1.0911e-01],\n",
            "          [-5.6487e-01, -1.2719e+00, -4.4079e+00,  ...,  3.5077e+00,\n",
            "            8.7069e-01, -1.4187e-01]],\n",
            "\n",
            "         [[-2.0753e-01, -1.2834e+00, -1.2594e+00,  ...,  4.8814e-01,\n",
            "            1.2515e+00, -2.0923e+00],\n",
            "          [-9.0866e-01, -1.0437e-01,  1.4173e+00,  ..., -1.7920e-01,\n",
            "           -8.6950e-01, -1.5452e+00],\n",
            "          [-1.2548e-01,  2.6976e-01, -2.6370e+00,  ..., -5.2098e-01,\n",
            "            1.4158e+00, -3.9374e-01],\n",
            "          ...,\n",
            "          [-1.6502e+00,  6.4888e-01, -3.3431e-01,  ..., -8.8285e-01,\n",
            "            9.1536e-01,  8.2905e-01],\n",
            "          [-2.8559e+00, -4.1845e-01,  6.7769e-02,  ..., -5.3131e-01,\n",
            "            9.0713e-01,  1.5690e+00],\n",
            "          [-2.8535e+00, -4.3169e-01,  2.4112e-02,  ..., -5.6832e-01,\n",
            "            9.2088e-01,  1.5928e+00]],\n",
            "\n",
            "         ...,\n",
            "\n",
            "         [[ 1.7478e+00,  1.2070e+00, -1.8675e-01,  ...,  1.3955e+00,\n",
            "            1.1897e-01, -1.7421e+00],\n",
            "          [ 3.1811e+00, -1.3650e+00,  6.1640e-01,  ..., -3.1076e+00,\n",
            "           -1.1121e-01, -1.8178e-01],\n",
            "          [-1.0173e-01, -1.8357e+00,  9.4612e-01,  ..., -2.8497e-01,\n",
            "            5.1486e-01, -1.6802e+00],\n",
            "          ...,\n",
            "          [ 2.6753e+00,  6.1543e-01,  1.4535e-01,  ..., -6.1582e-02,\n",
            "            1.7779e+00, -4.4700e-01],\n",
            "          [ 8.2398e-01,  6.1922e-01, -6.9714e-02,  ..., -4.9988e-01,\n",
            "            1.2346e+00, -1.4073e+00],\n",
            "          [ 8.2328e-01,  6.0366e-01, -6.7948e-02,  ..., -5.2271e-01,\n",
            "            1.2527e+00, -1.4050e+00]],\n",
            "\n",
            "         [[ 2.4875e-01,  3.7790e+00, -1.2198e+00,  ..., -3.0553e-01,\n",
            "            1.1482e+00,  6.9455e-01],\n",
            "          [ 2.7047e+00,  2.1353e+00, -3.3594e-01,  ..., -1.4392e-01,\n",
            "            1.1894e+00,  5.4569e-01],\n",
            "          [-3.0095e-01,  7.2692e-01,  9.3385e-01,  ..., -1.6292e+00,\n",
            "            9.1490e-02,  1.1719e+00],\n",
            "          ...,\n",
            "          [ 3.2221e-02,  2.5107e+00, -7.2376e-01,  ..., -1.3927e+00,\n",
            "            1.2781e-01,  2.4008e-01],\n",
            "          [-1.3077e-01,  1.6016e+00, -5.8514e-01,  ..., -6.8631e-01,\n",
            "            4.9418e-01,  1.9961e-01],\n",
            "          [-1.4249e-01,  1.6182e+00, -6.0106e-01,  ..., -7.0893e-01,\n",
            "            4.7527e-01,  2.1169e-01]],\n",
            "\n",
            "         [[-1.1763e+00, -4.0149e-01, -7.2592e-01,  ..., -2.2340e-01,\n",
            "            5.3826e-01, -1.0412e-01],\n",
            "          [-1.3467e+00, -3.6620e-01, -6.8674e-01,  ...,  1.2027e-01,\n",
            "            6.7172e-01,  5.0993e-01],\n",
            "          [-1.7595e+00, -7.4581e-01, -7.2015e-01,  ...,  1.2146e+00,\n",
            "            2.2913e+00, -4.1433e-01],\n",
            "          ...,\n",
            "          [-1.5019e-01, -7.9524e-01, -1.2359e+00,  ...,  4.5509e-02,\n",
            "            1.3844e+00, -1.0710e-01],\n",
            "          [ 4.6318e-01, -2.2497e-01, -1.2217e-01,  ..., -6.8022e-01,\n",
            "            3.8852e-01,  2.7393e-02],\n",
            "          [ 4.2730e-01, -2.3369e-01, -1.1200e-01,  ..., -6.7421e-01,\n",
            "            4.0637e-01,  2.5756e-02]]],\n",
            "\n",
            "\n",
            "        [[[-7.4309e-02,  2.3944e-01,  1.3760e+00,  ..., -1.4187e-01,\n",
            "           -1.8485e+00, -1.2434e+00],\n",
            "          [-1.0862e-01,  4.9312e-01,  4.9577e-01,  ...,  5.4950e-01,\n",
            "           -6.7168e-01, -1.2425e+00],\n",
            "          [-1.7586e+00,  1.6973e+00,  4.1276e-01,  ..., -3.6411e-02,\n",
            "           -3.2898e-01, -2.9306e-01],\n",
            "          ...,\n",
            "          [-5.2218e-01,  1.0504e+00,  1.4501e+00,  ..., -8.7553e-01,\n",
            "            9.7238e-01, -1.6345e+00],\n",
            "          [-3.5660e-01, -3.6883e-01,  7.3588e-01,  ...,  8.6019e-01,\n",
            "            1.6916e-01,  4.2416e-01],\n",
            "          [ 3.8206e-01,  4.4972e-01,  6.0137e-01,  ...,  9.5294e-01,\n",
            "           -8.3229e-01, -5.0449e-01]],\n",
            "\n",
            "         [[-7.1874e-01, -4.7530e-01, -1.9220e+00,  ...,  1.1744e+00,\n",
            "            6.1728e-01,  1.9902e+00],\n",
            "          [-2.4564e-01, -2.4937e-01,  9.1654e-01,  ...,  7.0286e-01,\n",
            "            1.3236e+00, -3.4402e-03],\n",
            "          [-7.1273e-02,  8.9915e-01,  9.1272e-01,  ...,  1.3174e-01,\n",
            "            1.5148e-01,  7.0780e-01],\n",
            "          ...,\n",
            "          [-9.1626e-01, -4.9843e-01,  6.5647e-01,  ...,  8.1745e-02,\n",
            "           -6.6910e-01, -5.6334e-01],\n",
            "          [-4.1416e-01, -3.8694e-01, -3.4598e+00,  ...,  1.9028e+00,\n",
            "            5.8509e-02,  5.6664e-01],\n",
            "          [ 2.1085e-01, -2.2478e+00, -2.7948e+00,  ...,  2.0009e+00,\n",
            "            1.5881e+00,  6.3289e-01]],\n",
            "\n",
            "         [[-2.0753e-01, -1.2834e+00, -1.2594e+00,  ...,  4.8814e-01,\n",
            "            1.2515e+00, -2.0923e+00],\n",
            "          [-9.0866e-01, -1.0437e-01,  1.4173e+00,  ..., -1.7920e-01,\n",
            "           -8.6950e-01, -1.5452e+00],\n",
            "          [-1.2548e-01,  2.6976e-01, -2.6370e+00,  ..., -5.2098e-01,\n",
            "            1.4158e+00, -3.9374e-01],\n",
            "          ...,\n",
            "          [ 1.7498e+00, -2.4037e-02,  3.0295e-01,  ...,  6.4166e-01,\n",
            "           -2.1179e-01,  2.4596e+00],\n",
            "          [-2.3311e-01, -8.3373e-01, -8.6744e-01,  ..., -7.8249e-01,\n",
            "           -2.0582e-01, -6.7857e-01],\n",
            "          [-1.4908e+00,  7.8078e-01, -5.3592e-01,  ..., -9.7728e-01,\n",
            "            9.5267e-01,  8.6415e-01]],\n",
            "\n",
            "         ...,\n",
            "\n",
            "         [[ 1.7478e+00,  1.2070e+00, -1.8675e-01,  ...,  1.3955e+00,\n",
            "            1.1897e-01, -1.7421e+00],\n",
            "          [ 3.1811e+00, -1.3650e+00,  6.1640e-01,  ..., -3.1076e+00,\n",
            "           -1.1121e-01, -1.8178e-01],\n",
            "          [-1.0173e-01, -1.8357e+00,  9.4612e-01,  ..., -2.8497e-01,\n",
            "            5.1486e-01, -1.6802e+00],\n",
            "          ...,\n",
            "          [ 1.8829e+00, -7.4349e-01, -2.1034e+00,  ..., -1.1435e+00,\n",
            "           -1.0721e+00, -1.4613e+00],\n",
            "          [-7.5695e-03,  4.1250e-01, -5.9306e-01,  ..., -1.6008e+00,\n",
            "           -1.7868e-01,  2.2164e-01],\n",
            "          [ 2.5142e+00,  6.6503e-01,  1.8670e-01,  ...,  3.8625e-02,\n",
            "            1.5938e+00, -4.4892e-01]],\n",
            "\n",
            "         [[ 2.4875e-01,  3.7790e+00, -1.2198e+00,  ..., -3.0553e-01,\n",
            "            1.1482e+00,  6.9455e-01],\n",
            "          [ 2.7047e+00,  2.1353e+00, -3.3594e-01,  ..., -1.4392e-01,\n",
            "            1.1894e+00,  5.4569e-01],\n",
            "          [-3.0095e-01,  7.2692e-01,  9.3385e-01,  ..., -1.6292e+00,\n",
            "            9.1490e-02,  1.1719e+00],\n",
            "          ...,\n",
            "          [ 1.6638e+00,  2.7912e+00, -1.1372e+00,  ...,  1.5562e+00,\n",
            "           -5.0123e-03, -1.4496e+00],\n",
            "          [ 3.3766e-01,  1.0725e+00, -1.2371e+00,  ..., -1.3685e+00,\n",
            "            3.6401e-01, -1.0377e+00],\n",
            "          [-5.3636e-02,  2.6136e+00, -7.3132e-01,  ..., -1.2692e+00,\n",
            "            1.3649e-01,  1.1857e-01]],\n",
            "\n",
            "         [[-1.1763e+00, -4.0149e-01, -7.2592e-01,  ..., -2.2340e-01,\n",
            "            5.3826e-01, -1.0412e-01],\n",
            "          [-1.3467e+00, -3.6620e-01, -6.8674e-01,  ...,  1.2027e-01,\n",
            "            6.7172e-01,  5.0993e-01],\n",
            "          [-1.7595e+00, -7.4581e-01, -7.2015e-01,  ...,  1.2146e+00,\n",
            "            2.2913e+00, -4.1433e-01],\n",
            "          ...,\n",
            "          [ 2.3786e-01,  7.6842e-01, -2.2428e-01,  ..., -6.2421e-01,\n",
            "            4.8860e-01, -4.9106e-01],\n",
            "          [-8.9360e-01,  5.3991e-01, -3.5140e-01,  ...,  3.5171e-01,\n",
            "            1.0672e+00,  5.4583e-02],\n",
            "          [-1.6118e-01, -4.8470e-01, -1.2500e+00,  ...,  1.1976e-01,\n",
            "            1.4297e+00, -1.2999e-01]]]], grad_fn=<TransposeBackward0>), tensor([[[[-5.9835e-01,  5.5627e-01,  4.6244e-01,  ...,  2.8762e+00,\n",
            "           -1.6112e+00,  1.7282e+00],\n",
            "          [ 8.9720e-01,  2.7034e-01,  1.0561e+00,  ...,  2.3704e-01,\n",
            "            2.7291e-01, -1.5273e+00],\n",
            "          [ 1.5547e+00,  2.3843e+00, -3.9743e-01,  ..., -3.6409e+00,\n",
            "           -2.8692e+00,  9.1256e-01],\n",
            "          ...,\n",
            "          [-7.0375e-01,  1.4531e+00, -1.1001e+00,  ..., -9.6215e-02,\n",
            "           -5.1263e-01, -9.8176e-01],\n",
            "          [ 4.6750e-01,  6.4721e-02, -2.3717e-01,  ..., -1.3917e-01,\n",
            "           -3.8163e-01,  1.9563e-01],\n",
            "          [ 4.3692e-01,  7.9634e-02, -2.8213e-01,  ..., -1.1057e-01,\n",
            "           -3.6055e-01,  1.4573e-01]],\n",
            "\n",
            "         [[-2.8517e+00,  9.6331e-01,  1.1752e+00,  ..., -4.9841e-01,\n",
            "            1.2728e+00, -2.1091e+00],\n",
            "          [-6.8406e-01,  6.3422e-01, -9.2578e-01,  ...,  4.2388e-02,\n",
            "            2.2076e+00, -2.4692e+00],\n",
            "          [ 6.2121e-01, -2.4006e-01,  7.6530e-01,  ..., -2.0863e+00,\n",
            "            1.8571e+00, -2.7764e+00],\n",
            "          ...,\n",
            "          [-3.2962e-01,  1.2478e-02, -1.9331e-01,  ..., -2.2592e-01,\n",
            "            2.4777e+00, -2.5703e+00],\n",
            "          [-1.0804e+00, -2.9990e-01,  2.5373e-01,  ..., -4.3328e-01,\n",
            "            6.4447e-01, -9.1365e-01],\n",
            "          [-1.0526e+00, -3.0485e-01,  1.8285e-01,  ..., -4.1225e-01,\n",
            "            6.6773e-01, -8.8611e-01]],\n",
            "\n",
            "         [[ 3.4579e-01, -3.6808e-01, -1.1496e+00,  ..., -1.5439e+00,\n",
            "           -1.4709e+00, -2.2726e+00],\n",
            "          [-2.2569e+00, -2.3890e+00, -2.1635e-01,  ...,  1.4830e+00,\n",
            "            6.3856e-01, -2.1218e+00],\n",
            "          [ 2.4318e-01,  1.9407e-01, -3.1218e-01,  ..., -1.1886e+00,\n",
            "            1.4055e+00, -9.9232e-01],\n",
            "          ...,\n",
            "          [ 1.5426e+00,  1.4582e-01, -2.7088e-01,  ...,  6.3516e-01,\n",
            "            6.5958e-01,  9.8399e-01],\n",
            "          [ 2.3396e-01, -4.7714e-02,  1.4032e-01,  ...,  1.0712e-01,\n",
            "            4.7708e-01,  2.3701e-01],\n",
            "          [ 2.7118e-01, -4.2480e-02,  1.4284e-01,  ...,  1.4616e-01,\n",
            "            4.9843e-01,  2.5176e-01]],\n",
            "\n",
            "         ...,\n",
            "\n",
            "         [[ 1.0444e+00, -1.5715e+00, -2.4006e+00,  ...,  3.1402e+00,\n",
            "            1.5453e+00, -1.9221e+00],\n",
            "          [ 7.3862e-01, -1.2799e-01,  1.2454e+00,  ...,  1.5139e+00,\n",
            "           -3.7795e-01, -1.6236e+00],\n",
            "          [-2.1188e+00,  1.4526e+00, -1.3883e+00,  ...,  6.8435e-02,\n",
            "            2.1394e+00, -2.9156e+00],\n",
            "          ...,\n",
            "          [ 5.4992e-01, -9.3509e-01, -2.1164e-01,  ...,  7.4927e-02,\n",
            "            3.1206e+00, -2.6524e-01],\n",
            "          [ 7.2847e-02, -4.6384e-02,  1.8634e-02,  ...,  2.0979e-01,\n",
            "            1.3307e-01, -8.6879e-02],\n",
            "          [ 1.0447e-01, -1.1093e-01,  2.3529e-02,  ...,  2.5061e-01,\n",
            "            9.2107e-02, -1.1340e-01]],\n",
            "\n",
            "         [[ 3.8769e-01, -1.6897e+00, -2.2941e+00,  ...,  2.8540e+00,\n",
            "            1.9505e+00,  1.5134e+00],\n",
            "          [ 2.0971e+00, -2.6980e+00, -7.0973e-01,  ...,  6.9787e-01,\n",
            "           -4.6284e+00,  1.1534e+00],\n",
            "          [ 8.4059e-01,  4.5615e-01, -5.8860e+00,  ...,  1.6562e+00,\n",
            "           -1.6821e+00, -1.3230e+00],\n",
            "          ...,\n",
            "          [ 3.4549e-01, -5.3626e-02,  8.4717e-02,  ...,  2.3160e+00,\n",
            "            1.0062e-01, -1.0803e-01],\n",
            "          [-1.1049e-01, -1.8691e-01, -1.9502e-02,  ..., -6.1453e-02,\n",
            "           -1.0491e-02, -2.2965e-01],\n",
            "          [-1.1087e-01, -1.7903e-01,  4.1888e-03,  ..., -1.1384e-02,\n",
            "           -2.9317e-02, -2.1145e-01]],\n",
            "\n",
            "         [[ 4.8681e-01, -9.6026e-01,  2.3081e+00,  ...,  2.9424e+00,\n",
            "           -2.5764e+00,  1.1630e+00],\n",
            "          [ 1.9374e+00, -2.6263e+00,  2.1031e+00,  ...,  4.4999e-01,\n",
            "            1.7894e+00,  1.3765e+00],\n",
            "          [ 2.0306e+00, -4.6168e+00,  2.3116e+00,  ..., -2.1793e+00,\n",
            "           -1.5446e+00, -5.7486e-01],\n",
            "          ...,\n",
            "          [ 8.2757e-01,  5.6868e-01, -3.0423e+00,  ...,  6.4181e-01,\n",
            "           -1.5581e-01, -6.9385e-01],\n",
            "          [-2.5050e-01,  3.6997e-01,  1.1456e-01,  ..., -3.8570e-01,\n",
            "            2.9556e-01,  6.0607e-02],\n",
            "          [-2.7129e-01,  3.5001e-01,  8.0066e-02,  ..., -4.2997e-01,\n",
            "            2.1753e-01,  1.4725e-01]]],\n",
            "\n",
            "\n",
            "        [[[-5.9835e-01,  5.5627e-01,  4.6244e-01,  ...,  2.8762e+00,\n",
            "           -1.6112e+00,  1.7282e+00],\n",
            "          [ 8.9720e-01,  2.7034e-01,  1.0561e+00,  ...,  2.3704e-01,\n",
            "            2.7291e-01, -1.5273e+00],\n",
            "          [ 1.5547e+00,  2.3843e+00, -3.9743e-01,  ..., -3.6409e+00,\n",
            "           -2.8692e+00,  9.1256e-01],\n",
            "          ...,\n",
            "          [ 4.7223e-01,  3.4772e+00,  4.1893e-01,  ...,  2.9231e+00,\n",
            "            5.4982e-01, -3.5105e+00],\n",
            "          [-1.9619e+00,  5.5003e-01, -7.3623e-01,  ...,  2.9221e-01,\n",
            "           -1.4210e+00, -8.4548e-02],\n",
            "          [-7.1573e-01,  1.6184e+00, -1.1350e+00,  ..., -1.1771e-01,\n",
            "           -6.6682e-01, -8.8058e-01]],\n",
            "\n",
            "         [[-2.8517e+00,  9.6331e-01,  1.1752e+00,  ..., -4.9841e-01,\n",
            "            1.2728e+00, -2.1091e+00],\n",
            "          [-6.8406e-01,  6.3422e-01, -9.2578e-01,  ...,  4.2388e-02,\n",
            "            2.2076e+00, -2.4692e+00],\n",
            "          [ 6.2121e-01, -2.4006e-01,  7.6530e-01,  ..., -2.0863e+00,\n",
            "            1.8571e+00, -2.7764e+00],\n",
            "          ...,\n",
            "          [-4.1333e-01,  1.3756e+00, -1.5649e+00,  ...,  1.4642e-01,\n",
            "            6.2263e-01, -8.0112e-01],\n",
            "          [ 4.2446e-01, -1.2696e+00, -8.0347e-01,  ...,  5.4295e-01,\n",
            "            6.7564e-01, -2.0883e-01],\n",
            "          [-3.6752e-01, -2.1356e-01, -5.0528e-01,  ..., -1.5841e-01,\n",
            "            2.9485e+00, -2.7715e+00]],\n",
            "\n",
            "         [[ 3.4579e-01, -3.6808e-01, -1.1496e+00,  ..., -1.5439e+00,\n",
            "           -1.4709e+00, -2.2726e+00],\n",
            "          [-2.2569e+00, -2.3890e+00, -2.1635e-01,  ...,  1.4830e+00,\n",
            "            6.3856e-01, -2.1218e+00],\n",
            "          [ 2.4318e-01,  1.9407e-01, -3.1218e-01,  ..., -1.1886e+00,\n",
            "            1.4055e+00, -9.9232e-01],\n",
            "          ...,\n",
            "          [ 1.5831e+00, -2.7826e-01, -1.0371e+00,  ...,  3.3829e-01,\n",
            "           -3.5351e-01, -5.8341e-01],\n",
            "          [-3.4960e-01,  4.3422e-01,  9.7480e-01,  ...,  8.4940e-01,\n",
            "            2.4427e+00, -3.9223e-01],\n",
            "          [ 1.7582e+00,  1.5678e-01, -4.2470e-01,  ...,  7.8440e-01,\n",
            "            5.5028e-01,  9.2406e-01]],\n",
            "\n",
            "         ...,\n",
            "\n",
            "         [[ 1.0444e+00, -1.5715e+00, -2.4006e+00,  ...,  3.1402e+00,\n",
            "            1.5453e+00, -1.9221e+00],\n",
            "          [ 7.3862e-01, -1.2799e-01,  1.2454e+00,  ...,  1.5139e+00,\n",
            "           -3.7795e-01, -1.6236e+00],\n",
            "          [-2.1188e+00,  1.4526e+00, -1.3883e+00,  ...,  6.8435e-02,\n",
            "            2.1394e+00, -2.9156e+00],\n",
            "          ...,\n",
            "          [ 1.3351e+00, -1.1162e+00,  1.2745e+00,  ...,  1.2218e+00,\n",
            "           -1.6146e+00, -4.0010e+00],\n",
            "          [ 8.2917e-02, -3.1481e-01,  5.9300e-01,  ...,  1.1054e+00,\n",
            "            4.4221e-01,  1.7768e+00],\n",
            "          [ 2.0659e-01, -1.1651e+00, -2.9255e-01,  ...,  9.7432e-02,\n",
            "            3.2904e+00, -8.3165e-02]],\n",
            "\n",
            "         [[ 3.8769e-01, -1.6897e+00, -2.2941e+00,  ...,  2.8540e+00,\n",
            "            1.9505e+00,  1.5134e+00],\n",
            "          [ 2.0971e+00, -2.6980e+00, -7.0973e-01,  ...,  6.9787e-01,\n",
            "           -4.6284e+00,  1.1534e+00],\n",
            "          [ 8.4059e-01,  4.5615e-01, -5.8860e+00,  ...,  1.6562e+00,\n",
            "           -1.6821e+00, -1.3230e+00],\n",
            "          ...,\n",
            "          [ 1.1132e+00, -1.4331e+00,  7.1150e-01,  ...,  9.0511e-01,\n",
            "           -2.1219e+00, -3.2406e+00],\n",
            "          [ 2.4815e+00, -2.7397e+00,  3.3941e+00,  ..., -4.7591e-01,\n",
            "           -2.4543e+00, -8.0844e-01],\n",
            "          [ 4.8463e-02, -4.8211e-03,  2.2940e-02,  ...,  2.3160e+00,\n",
            "            9.1267e-02, -2.0114e-01]],\n",
            "\n",
            "         [[ 4.8681e-01, -9.6026e-01,  2.3081e+00,  ...,  2.9424e+00,\n",
            "           -2.5764e+00,  1.1630e+00],\n",
            "          [ 1.9374e+00, -2.6263e+00,  2.1031e+00,  ...,  4.4999e-01,\n",
            "            1.7894e+00,  1.3765e+00],\n",
            "          [ 2.0306e+00, -4.6168e+00,  2.3116e+00,  ..., -2.1793e+00,\n",
            "           -1.5446e+00, -5.7486e-01],\n",
            "          ...,\n",
            "          [-1.0532e+00, -6.8216e+00, -3.1257e+00,  ...,  4.3894e+00,\n",
            "           -5.8090e-01,  4.4655e+00],\n",
            "          [-1.9013e+00,  2.4361e+00, -1.0604e+00,  ..., -1.9830e+00,\n",
            "           -1.6767e+00,  3.6409e+00],\n",
            "          [ 4.7252e-01,  6.4867e-01, -2.8673e+00,  ...,  8.5987e-01,\n",
            "           -1.9113e-01, -7.2168e-01]]]], grad_fn=<TransposeBackward0>)), (tensor([[[[-1.0086e+00, -1.1984e-01,  8.0104e-01,  ...,  1.2236e-01,\n",
            "           -5.9533e-01,  3.7951e-01],\n",
            "          [-1.5403e+00, -1.7244e+00, -4.3796e-01,  ..., -1.2431e-01,\n",
            "            6.1687e-01,  1.0933e+00],\n",
            "          [-2.8636e+00,  1.0158e+00, -1.4542e+00,  ..., -4.8653e-01,\n",
            "           -1.7412e+00, -5.3647e-01],\n",
            "          ...,\n",
            "          [-2.8575e+00, -2.9566e-01, -9.8846e-01,  ..., -4.4436e-01,\n",
            "           -1.7707e-02, -8.9772e-01],\n",
            "          [-1.5672e+00, -7.0389e-01, -2.7450e-01,  ..., -1.5586e-01,\n",
            "           -2.9187e-01, -9.1621e-01],\n",
            "          [-1.5651e+00, -7.0011e-01, -3.3018e-01,  ..., -1.8498e-01,\n",
            "           -3.0050e-01, -8.5195e-01]],\n",
            "\n",
            "         [[-2.2378e+00, -2.7116e-01, -1.6849e+00,  ..., -1.2776e+00,\n",
            "           -9.1159e-01,  2.6824e-01],\n",
            "          [-2.7267e+00, -1.0012e+00, -1.3270e+00,  ...,  2.3956e-01,\n",
            "            7.5472e-01, -6.2347e-01],\n",
            "          [-2.4114e+00, -1.1906e-01, -2.1295e+00,  ..., -1.1194e+00,\n",
            "           -5.1453e-01, -5.1967e-01],\n",
            "          ...,\n",
            "          [-9.6178e-01,  3.0829e-01, -1.6156e+00,  ...,  4.7083e-01,\n",
            "           -3.1477e-01, -4.8779e-01],\n",
            "          [-6.2976e-01, -4.1713e-02, -3.2047e-01,  ...,  4.7613e-01,\n",
            "            3.7600e-02,  7.6630e-01],\n",
            "          [-6.6619e-01, -3.8708e-02, -3.5179e-01,  ...,  4.7727e-01,\n",
            "            5.1687e-02,  7.6323e-01]],\n",
            "\n",
            "         [[-4.1807e-01,  1.8582e+00,  2.8179e+00,  ...,  4.3833e-01,\n",
            "            1.0519e+00,  1.3863e+00],\n",
            "          [-2.2969e+00,  1.3989e+00,  3.3773e+00,  ..., -1.1095e-01,\n",
            "            1.2776e+00,  4.7502e-01],\n",
            "          [-2.7052e+00,  1.9227e+00,  2.9102e+00,  ...,  2.6001e-01,\n",
            "            9.9107e-01, -6.4074e-01],\n",
            "          ...,\n",
            "          [-2.5977e+00,  1.6453e+00,  2.8283e+00,  ...,  1.9056e+00,\n",
            "            1.7241e+00,  1.9316e-01],\n",
            "          [-1.3640e+00,  6.4622e-01,  2.0839e+00,  ...,  1.0809e+00,\n",
            "            7.2884e-01, -3.1067e-01],\n",
            "          [-1.3678e+00,  6.5111e-01,  2.0485e+00,  ...,  1.0729e+00,\n",
            "            7.5335e-01, -3.2222e-01]],\n",
            "\n",
            "         ...,\n",
            "\n",
            "         [[ 5.2503e-01, -2.0490e+00,  2.4325e-02,  ...,  2.1924e+00,\n",
            "            1.0835e+00,  6.6261e-01],\n",
            "          [-5.6207e-01, -2.1213e+00, -2.7784e+00,  ...,  2.3190e+00,\n",
            "            6.4825e-01,  1.0428e+00],\n",
            "          [-4.5386e-01,  8.2790e-01, -1.1566e+00,  ...,  1.8154e-01,\n",
            "            1.6309e+00,  5.3037e-01],\n",
            "          ...,\n",
            "          [ 6.1445e-01, -1.2597e+00, -6.1299e-01,  ...,  1.8728e+00,\n",
            "            1.0459e+00,  8.2967e-01],\n",
            "          [ 1.8028e-01, -2.0506e+00, -5.0410e-01,  ...,  2.2646e+00,\n",
            "            4.8430e-01,  1.4131e+00],\n",
            "          [ 1.9303e-01, -2.0545e+00, -4.5821e-01,  ...,  2.2777e+00,\n",
            "            4.7488e-01,  1.4160e+00]],\n",
            "\n",
            "         [[ 1.8360e+00, -2.0880e+00,  1.3849e+00,  ..., -7.0788e-01,\n",
            "            1.8692e+00, -5.7547e-01],\n",
            "          [ 3.4393e+00, -1.7826e+00,  9.6669e-02,  ...,  2.1163e-01,\n",
            "            2.1361e+00,  8.7551e-01],\n",
            "          [ 2.0158e+00,  1.4992e+00,  6.8292e-01,  ...,  2.3798e-01,\n",
            "            2.3925e+00,  1.7107e+00],\n",
            "          ...,\n",
            "          [ 1.4170e+00,  4.0071e-01,  5.0948e-01,  ..., -1.4605e+00,\n",
            "            1.0594e+00, -2.2798e+00],\n",
            "          [ 9.3708e-01,  1.6286e-01,  1.6486e-01,  ..., -1.1036e+00,\n",
            "            8.7825e-01, -4.8425e+00],\n",
            "          [ 9.5160e-01,  1.4418e-01,  1.2899e-01,  ..., -1.0554e+00,\n",
            "            8.7946e-01, -4.8152e+00]],\n",
            "\n",
            "         [[ 8.7270e-01,  2.3994e-01, -9.7377e-01,  ...,  5.1478e-01,\n",
            "            1.2407e+00,  2.1218e-01],\n",
            "          [-1.9742e-01,  8.0912e-02, -6.0575e-01,  ...,  5.1646e-01,\n",
            "            1.1236e-01,  6.0434e-01],\n",
            "          [ 5.2441e-01,  8.0617e-01, -2.5461e-01,  ...,  7.2951e-01,\n",
            "            7.7348e-01, -2.1534e-01],\n",
            "          ...,\n",
            "          [ 4.3084e-01,  9.0069e-01,  3.3698e-01,  ...,  9.8186e-01,\n",
            "           -6.5664e-02,  2.4799e-01],\n",
            "          [-4.7925e-01,  1.4813e+00, -1.5629e-01,  ...,  4.3746e-01,\n",
            "           -2.4853e-03,  4.9278e-01],\n",
            "          [-4.8762e-01,  1.4631e+00, -1.0612e-01,  ...,  4.3535e-01,\n",
            "            3.2643e-02,  4.5884e-01]]],\n",
            "\n",
            "\n",
            "        [[[-1.0086e+00, -1.1984e-01,  8.0104e-01,  ...,  1.2236e-01,\n",
            "           -5.9533e-01,  3.7951e-01],\n",
            "          [-1.5403e+00, -1.7244e+00, -4.3796e-01,  ..., -1.2431e-01,\n",
            "            6.1687e-01,  1.0933e+00],\n",
            "          [-2.8636e+00,  1.0158e+00, -1.4542e+00,  ..., -4.8653e-01,\n",
            "           -1.7412e+00, -5.3647e-01],\n",
            "          ...,\n",
            "          [ 5.1654e-01,  2.0350e+00,  3.7518e-01,  ...,  9.6556e-01,\n",
            "           -1.2529e+00, -1.1220e+00],\n",
            "          [-2.0151e+00,  6.8416e-01,  2.1868e-01,  ..., -2.9553e-01,\n",
            "           -1.2735e+00, -6.7254e-01],\n",
            "          [-2.6277e+00, -2.0982e-01, -7.4996e-01,  ..., -6.1851e-01,\n",
            "           -2.8465e-01, -9.0483e-01]],\n",
            "\n",
            "         [[-2.2378e+00, -2.7116e-01, -1.6849e+00,  ..., -1.2776e+00,\n",
            "           -9.1159e-01,  2.6824e-01],\n",
            "          [-2.7267e+00, -1.0012e+00, -1.3270e+00,  ...,  2.3956e-01,\n",
            "            7.5472e-01, -6.2347e-01],\n",
            "          [-2.4114e+00, -1.1906e-01, -2.1295e+00,  ..., -1.1194e+00,\n",
            "           -5.1453e-01, -5.1967e-01],\n",
            "          ...,\n",
            "          [-2.3206e+00, -9.6584e-01, -1.8887e+00,  ...,  7.3228e-01,\n",
            "           -1.1103e+00, -3.0344e-01],\n",
            "          [-1.0638e+00,  7.2917e-02, -1.8328e+00,  ..., -2.8772e-01,\n",
            "           -4.9125e-01,  1.0376e+00],\n",
            "          [-1.1419e+00,  4.1335e-01, -1.8160e+00,  ...,  2.0405e-01,\n",
            "           -4.7579e-01, -4.7310e-01]],\n",
            "\n",
            "         [[-4.1807e-01,  1.8582e+00,  2.8179e+00,  ...,  4.3833e-01,\n",
            "            1.0519e+00,  1.3863e+00],\n",
            "          [-2.2969e+00,  1.3989e+00,  3.3773e+00,  ..., -1.1095e-01,\n",
            "            1.2776e+00,  4.7502e-01],\n",
            "          [-2.7052e+00,  1.9227e+00,  2.9102e+00,  ...,  2.6001e-01,\n",
            "            9.9107e-01, -6.4074e-01],\n",
            "          ...,\n",
            "          [-1.4148e+00,  2.3139e+00,  2.9480e+00,  ...,  1.9808e-01,\n",
            "            1.5017e+00, -3.1350e-01],\n",
            "          [-1.8518e+00,  7.2919e-01,  2.7516e+00,  ...,  2.4804e-01,\n",
            "            1.6322e+00, -3.7162e-01],\n",
            "          [-2.5401e+00,  1.7145e+00,  2.4247e+00,  ...,  1.9511e+00,\n",
            "            1.5161e+00,  1.1705e-01]],\n",
            "\n",
            "         ...,\n",
            "\n",
            "         [[ 5.2503e-01, -2.0490e+00,  2.4325e-02,  ...,  2.1924e+00,\n",
            "            1.0835e+00,  6.6261e-01],\n",
            "          [-5.6207e-01, -2.1213e+00, -2.7784e+00,  ...,  2.3190e+00,\n",
            "            6.4825e-01,  1.0428e+00],\n",
            "          [-4.5386e-01,  8.2790e-01, -1.1566e+00,  ...,  1.8154e-01,\n",
            "            1.6309e+00,  5.3037e-01],\n",
            "          ...,\n",
            "          [-1.5516e+00,  2.6551e-01, -1.2797e+00,  ..., -7.2758e-01,\n",
            "            1.1483e+00,  1.3533e+00],\n",
            "          [ 7.0391e-01, -1.1662e+00,  7.7170e-01,  ...,  2.0144e+00,\n",
            "            1.0159e+00,  1.1212e+00],\n",
            "          [ 5.7996e-01, -1.2989e+00, -3.5998e-01,  ...,  1.6866e+00,\n",
            "            1.2847e+00,  7.5090e-01]],\n",
            "\n",
            "         [[ 1.8360e+00, -2.0880e+00,  1.3849e+00,  ..., -7.0788e-01,\n",
            "            1.8692e+00, -5.7547e-01],\n",
            "          [ 3.4393e+00, -1.7826e+00,  9.6669e-02,  ...,  2.1163e-01,\n",
            "            2.1361e+00,  8.7551e-01],\n",
            "          [ 2.0158e+00,  1.4992e+00,  6.8292e-01,  ...,  2.3798e-01,\n",
            "            2.3925e+00,  1.7107e+00],\n",
            "          ...,\n",
            "          [ 2.0840e+00, -1.8919e+00,  3.1322e-02,  ...,  2.5206e+00,\n",
            "            1.3763e+00,  2.2279e+00],\n",
            "          [ 1.5583e+00,  1.8954e-01,  1.0111e+00,  ..., -1.8110e+00,\n",
            "            1.6152e+00, -1.1058e-01],\n",
            "          [ 1.5170e+00,  2.1796e-01,  9.2903e-01,  ..., -1.7959e+00,\n",
            "            9.3714e-01, -2.3331e+00]],\n",
            "\n",
            "         [[ 8.7270e-01,  2.3994e-01, -9.7377e-01,  ...,  5.1478e-01,\n",
            "            1.2407e+00,  2.1218e-01],\n",
            "          [-1.9742e-01,  8.0912e-02, -6.0575e-01,  ...,  5.1646e-01,\n",
            "            1.1236e-01,  6.0434e-01],\n",
            "          [ 5.2441e-01,  8.0617e-01, -2.5461e-01,  ...,  7.2951e-01,\n",
            "            7.7348e-01, -2.1534e-01],\n",
            "          ...,\n",
            "          [ 6.8563e-01,  4.1268e-01, -7.9916e-01,  ...,  1.1349e+00,\n",
            "            4.3258e-02, -2.6651e-01],\n",
            "          [-1.3674e+00,  1.1607e+00, -6.1123e-01,  ...,  2.2622e+00,\n",
            "            6.2628e-01,  8.4587e-01],\n",
            "          [ 3.4332e-01,  9.0098e-01,  2.3799e-01,  ...,  1.1923e+00,\n",
            "           -8.0555e-02,  4.2784e-01]]]], grad_fn=<TransposeBackward0>), tensor([[[[ 1.7167e+00, -1.3874e+00,  9.3971e-01,  ...,  1.1602e-01,\n",
            "           -1.1713e+00,  5.8256e-02],\n",
            "          [ 6.6074e+00, -2.1377e+00, -6.5205e-01,  ..., -1.2096e+00,\n",
            "            9.7802e-02,  1.8641e-01],\n",
            "          [-1.5800e-01,  3.8630e+00, -2.2134e+00,  ..., -3.8751e-01,\n",
            "           -4.9035e-01, -9.0016e-01],\n",
            "          ...,\n",
            "          [ 7.1456e-01,  1.2103e+00, -1.2198e-01,  ...,  2.0232e-01,\n",
            "            2.1779e-01, -2.4995e-01],\n",
            "          [ 2.5140e-01, -1.1198e-01, -2.5232e-01,  ...,  3.6457e-01,\n",
            "           -2.6801e-01,  2.9802e-01],\n",
            "          [ 1.8373e-01, -7.8590e-02, -9.7324e-02,  ...,  3.2569e-01,\n",
            "           -1.6647e-01,  2.9292e-01]],\n",
            "\n",
            "         [[ 3.2853e-01,  1.2929e+00, -2.6194e+00,  ..., -1.2608e+00,\n",
            "            2.4614e+00, -2.7638e-01],\n",
            "          [-9.1328e-02, -2.5338e+00, -4.5092e+00,  ..., -2.5906e-01,\n",
            "            1.2791e+00,  1.0967e+00],\n",
            "          [-3.9254e+00,  5.4990e-01,  1.0725e+00,  ..., -4.9451e-01,\n",
            "            3.1666e+00, -5.9463e-03],\n",
            "          ...,\n",
            "          [-1.8189e+00, -1.1159e+00, -5.6719e-01,  ...,  8.4251e-01,\n",
            "            2.3599e-01,  2.7330e+00],\n",
            "          [-1.6377e-01,  4.8792e-01, -4.4956e-01,  ..., -1.0960e-01,\n",
            "            6.2849e-02,  1.3167e+00],\n",
            "          [-1.8881e-01,  5.3398e-01, -4.9000e-01,  ..., -1.2472e-01,\n",
            "            7.3789e-02,  1.3223e+00]],\n",
            "\n",
            "         [[ 3.5074e-01, -1.2785e+00,  9.5860e-01,  ...,  4.5600e-01,\n",
            "            3.9943e+00,  3.7879e-02],\n",
            "          [-1.1258e+00, -1.4258e-01, -7.8625e-01,  ...,  2.2655e+00,\n",
            "           -1.7096e-01, -3.1639e+00],\n",
            "          [-2.9751e+00, -1.2435e+00,  2.4190e+00,  ..., -1.0153e+00,\n",
            "            2.0046e+00,  6.1049e-01],\n",
            "          ...,\n",
            "          [-3.7555e-01,  2.5192e+00, -1.4178e+00,  ...,  3.1252e+00,\n",
            "            1.5758e+00,  3.0493e-01],\n",
            "          [-3.0771e-02,  3.9671e-01, -5.7834e-01,  ...,  6.3246e-01,\n",
            "           -1.8409e-01,  4.9940e-01],\n",
            "          [-3.4316e-02,  3.5689e-01, -5.8501e-01,  ...,  6.8586e-01,\n",
            "           -1.0353e-01,  5.2363e-01]],\n",
            "\n",
            "         ...,\n",
            "\n",
            "         [[-3.9364e-01,  8.3288e-01, -2.9839e-01,  ..., -7.4472e-01,\n",
            "           -2.0752e+00, -1.2656e+00],\n",
            "          [ 4.5030e-02,  2.5332e+00,  1.7584e+00,  ..., -6.5653e-01,\n",
            "           -3.3183e+00,  2.5734e-01],\n",
            "          [ 8.1706e-01, -6.5344e-01,  5.2743e-01,  ..., -9.4353e-01,\n",
            "           -3.0735e+00, -1.1288e-01],\n",
            "          ...,\n",
            "          [-6.6137e-02, -1.0857e+00, -1.3604e+00,  ..., -7.1501e-01,\n",
            "           -6.0120e-01,  1.0898e+00],\n",
            "          [ 1.9683e-01,  5.4109e-02, -3.1350e-01,  ..., -1.2031e-02,\n",
            "           -2.8751e-01, -2.2112e-01],\n",
            "          [ 2.0808e-01,  5.5075e-02, -3.1173e-01,  ...,  5.4342e-03,\n",
            "           -4.0090e-01, -2.2377e-01]],\n",
            "\n",
            "         [[ 1.2453e+00,  1.4763e-01,  5.0189e-02,  ...,  2.1217e+00,\n",
            "            1.8929e+00,  1.1486e-01],\n",
            "          [-1.7329e-01, -4.0172e-01,  3.1587e+00,  ...,  2.1001e+00,\n",
            "           -3.4064e+00,  2.3979e+00],\n",
            "          [-1.9646e+00,  3.2056e+00, -3.4223e+00,  ..., -1.6408e+00,\n",
            "           -1.8830e-01,  2.5299e+00],\n",
            "          ...,\n",
            "          [ 1.0419e+00,  1.6582e+00, -9.0591e-01,  ...,  1.4873e+00,\n",
            "            8.9942e-01,  2.2164e+00],\n",
            "          [ 1.4457e-03,  1.7310e-01,  4.0952e-01,  ..., -2.9446e-01,\n",
            "           -1.2413e-01,  2.9047e-01],\n",
            "          [-1.3634e-02,  1.1460e-01,  2.7108e-01,  ..., -2.1358e-01,\n",
            "           -1.2351e-01,  3.1761e-01]],\n",
            "\n",
            "         [[-2.6107e+00,  2.8795e+00,  1.8040e+00,  ..., -3.4276e+00,\n",
            "            1.3516e+00,  4.4630e-01],\n",
            "          [-1.8082e-01,  1.6193e+00, -1.4462e+00,  ..., -1.4606e+00,\n",
            "            3.1322e+00, -1.5430e+00],\n",
            "          [-2.1270e+00,  1.2719e+00,  1.7454e+00,  ..., -1.1953e+00,\n",
            "            3.7781e-01, -8.5594e-01],\n",
            "          ...,\n",
            "          [-1.4750e+00, -2.0627e+00,  1.6227e+00,  ..., -8.6680e-01,\n",
            "           -2.5204e-01,  7.1565e-01],\n",
            "          [-6.2060e-01, -1.7848e-01, -1.0878e-01,  ..., -4.9096e-01,\n",
            "           -2.2483e-01,  6.0400e-01],\n",
            "          [-5.6743e-01, -1.3155e-01, -8.6835e-02,  ..., -5.2787e-01,\n",
            "           -1.3440e-01,  6.0908e-01]]],\n",
            "\n",
            "\n",
            "        [[[ 1.7167e+00, -1.3874e+00,  9.3971e-01,  ...,  1.1602e-01,\n",
            "           -1.1713e+00,  5.8256e-02],\n",
            "          [ 6.6074e+00, -2.1377e+00, -6.5205e-01,  ..., -1.2096e+00,\n",
            "            9.7802e-02,  1.8641e-01],\n",
            "          [-1.5800e-01,  3.8630e+00, -2.2134e+00,  ..., -3.8751e-01,\n",
            "           -4.9035e-01, -9.0016e-01],\n",
            "          ...,\n",
            "          [ 2.4218e+00, -2.5562e+00,  1.0398e+00,  ..., -1.2755e+00,\n",
            "            4.1169e+00, -5.7238e-03],\n",
            "          [ 2.0225e-01, -1.0162e+00,  2.3355e-01,  ..., -3.6712e-02,\n",
            "            1.3609e+00, -1.5631e-01],\n",
            "          [ 4.0817e-01,  1.1313e+00, -3.3312e-01,  ...,  5.0601e-01,\n",
            "            2.5632e-02, -4.9048e-01]],\n",
            "\n",
            "         [[ 3.2853e-01,  1.2929e+00, -2.6194e+00,  ..., -1.2608e+00,\n",
            "            2.4614e+00, -2.7638e-01],\n",
            "          [-9.1328e-02, -2.5338e+00, -4.5092e+00,  ..., -2.5906e-01,\n",
            "            1.2791e+00,  1.0967e+00],\n",
            "          [-3.9254e+00,  5.4990e-01,  1.0725e+00,  ..., -4.9451e-01,\n",
            "            3.1666e+00, -5.9463e-03],\n",
            "          ...,\n",
            "          [-9.8102e-01, -1.7902e+00, -2.3613e+00,  ...,  6.2546e+00,\n",
            "           -5.9136e-02,  1.3645e+00],\n",
            "          [-5.5632e-02,  1.0045e+00,  1.8532e-01,  ...,  2.4468e-02,\n",
            "            7.0319e-01,  1.8874e+00],\n",
            "          [-2.1420e+00, -9.2333e-01, -1.8238e-01,  ...,  7.8606e-01,\n",
            "            6.7479e-01,  3.3683e+00]],\n",
            "\n",
            "         [[ 3.5074e-01, -1.2785e+00,  9.5860e-01,  ...,  4.5600e-01,\n",
            "            3.9943e+00,  3.7879e-02],\n",
            "          [-1.1258e+00, -1.4258e-01, -7.8625e-01,  ...,  2.2655e+00,\n",
            "           -1.7096e-01, -3.1639e+00],\n",
            "          [-2.9751e+00, -1.2435e+00,  2.4190e+00,  ..., -1.0153e+00,\n",
            "            2.0046e+00,  6.1049e-01],\n",
            "          ...,\n",
            "          [-3.1119e-01, -1.5730e+00, -6.1352e-01,  ..., -5.0318e-01,\n",
            "            8.6744e-01, -3.2129e+00],\n",
            "          [ 1.4581e+00,  1.1473e+00, -3.4320e+00,  ...,  2.8266e+00,\n",
            "            2.2294e+00,  1.8282e+00],\n",
            "          [-2.5475e-01,  3.1228e+00, -2.0963e+00,  ...,  3.2272e+00,\n",
            "            2.7438e+00,  2.2237e-01]],\n",
            "\n",
            "         ...,\n",
            "\n",
            "         [[-3.9364e-01,  8.3288e-01, -2.9839e-01,  ..., -7.4472e-01,\n",
            "           -2.0752e+00, -1.2656e+00],\n",
            "          [ 4.5030e-02,  2.5332e+00,  1.7584e+00,  ..., -6.5653e-01,\n",
            "           -3.3183e+00,  2.5734e-01],\n",
            "          [ 8.1706e-01, -6.5344e-01,  5.2743e-01,  ..., -9.4353e-01,\n",
            "           -3.0735e+00, -1.1288e-01],\n",
            "          ...,\n",
            "          [ 9.2181e-01,  8.5937e-02, -8.8359e-01,  ..., -2.4002e+00,\n",
            "           -1.8001e+00, -1.6667e+00],\n",
            "          [-2.0832e-01,  3.5982e+00, -3.5895e+00,  ..., -1.0531e+00,\n",
            "           -3.1030e+00, -1.0290e+00],\n",
            "          [ 1.0346e-01, -9.4578e-01, -2.0934e+00,  ..., -7.8198e-01,\n",
            "           -2.3188e-01,  1.4884e+00]],\n",
            "\n",
            "         [[ 1.2453e+00,  1.4763e-01,  5.0189e-02,  ...,  2.1217e+00,\n",
            "            1.8929e+00,  1.1486e-01],\n",
            "          [-1.7329e-01, -4.0172e-01,  3.1587e+00,  ...,  2.1001e+00,\n",
            "           -3.4064e+00,  2.3979e+00],\n",
            "          [-1.9646e+00,  3.2056e+00, -3.4223e+00,  ..., -1.6408e+00,\n",
            "           -1.8830e-01,  2.5299e+00],\n",
            "          ...,\n",
            "          [ 1.8362e+00, -1.1662e+00,  9.5932e-01,  ...,  5.4734e-01,\n",
            "            5.6521e-01,  5.7989e+00],\n",
            "          [ 6.4259e-01,  1.9834e+00, -1.6658e+00,  ..., -3.3844e-01,\n",
            "           -1.3237e+00,  6.2701e-02],\n",
            "          [ 1.7704e+00,  1.5615e+00, -7.3075e-01,  ...,  1.6444e+00,\n",
            "            1.0690e+00,  2.1825e+00]],\n",
            "\n",
            "         [[-2.6107e+00,  2.8795e+00,  1.8040e+00,  ..., -3.4276e+00,\n",
            "            1.3516e+00,  4.4630e-01],\n",
            "          [-1.8082e-01,  1.6193e+00, -1.4462e+00,  ..., -1.4606e+00,\n",
            "            3.1322e+00, -1.5430e+00],\n",
            "          [-2.1270e+00,  1.2719e+00,  1.7454e+00,  ..., -1.1953e+00,\n",
            "            3.7781e-01, -8.5594e-01],\n",
            "          ...,\n",
            "          [-2.8317e+00, -3.4739e-01,  1.6244e+00,  ..., -1.8480e-01,\n",
            "            1.6324e+00, -2.8123e+00],\n",
            "          [-8.8115e-01,  4.1504e-01, -8.7626e-03,  ...,  1.3107e+00,\n",
            "            8.7494e-01, -1.2687e+00],\n",
            "          [-1.2193e+00, -2.0647e+00,  1.5685e+00,  ..., -9.9589e-01,\n",
            "            2.1934e-01,  7.3451e-01]]]], grad_fn=<TransposeBackward0>)), (tensor([[[[-1.1567e+00,  5.5356e+00,  1.3413e+00,  ...,  4.8576e+00,\n",
            "            8.0442e-01,  2.2298e+00],\n",
            "          [-7.4962e-01,  4.6149e+00,  2.0956e+00,  ...,  2.1615e+00,\n",
            "            7.7454e-01,  4.0580e+00],\n",
            "          [-1.3131e+00,  2.5327e+00,  3.9957e-01,  ...,  5.1087e+00,\n",
            "           -1.4278e+00,  3.2204e-01],\n",
            "          ...,\n",
            "          [ 3.3072e+00,  3.4845e+00,  3.0339e+00,  ...,  2.4767e+00,\n",
            "           -4.3525e-01,  1.4004e+00],\n",
            "          [ 2.2708e+00,  3.4858e+00,  2.2012e+00,  ...,  3.1663e+00,\n",
            "           -4.6677e-01,  8.0892e-01],\n",
            "          [ 2.3073e+00,  3.5380e+00,  2.1372e+00,  ...,  3.2216e+00,\n",
            "           -4.7667e-01,  7.4636e-01]],\n",
            "\n",
            "         [[-1.1834e+00,  3.2922e+00, -1.8292e+00,  ...,  8.0085e-01,\n",
            "            2.3553e+00, -1.6916e-02],\n",
            "          [-4.5874e-01,  2.2431e+00, -1.5915e+00,  ...,  1.7815e+00,\n",
            "            2.1735e+00, -1.4436e+00],\n",
            "          [-4.5319e-02,  3.5692e+00, -3.1923e+00,  ...,  2.2314e+00,\n",
            "            1.2145e+00,  2.7738e-01],\n",
            "          ...,\n",
            "          [-1.5349e-01,  1.7641e+00, -1.1412e+00,  ...,  2.0157e+00,\n",
            "           -3.4101e-01,  3.3098e-01],\n",
            "          [-8.8981e-01,  9.7755e-01, -7.2659e-01,  ...,  1.0297e+00,\n",
            "           -4.5736e-01,  3.9048e-01],\n",
            "          [-9.0104e-01,  9.9256e-01, -7.2199e-01,  ...,  9.9794e-01,\n",
            "           -4.0012e-01,  4.2841e-01]],\n",
            "\n",
            "         [[ 7.6494e-02, -1.8709e+00, -1.9231e+00,  ...,  1.9169e+00,\n",
            "            1.8190e-01,  2.5379e+00],\n",
            "          [ 3.6782e-01, -2.5932e-01, -1.1219e+00,  ...,  1.8279e+00,\n",
            "            7.2172e-01,  2.0825e+00],\n",
            "          [ 1.6884e+00, -9.9747e-01, -7.2316e-01,  ...,  1.1481e+00,\n",
            "            1.1121e+00,  1.8642e+00],\n",
            "          ...,\n",
            "          [ 2.8959e+00, -1.8207e+00, -1.3569e+00,  ...,  2.5053e+00,\n",
            "            4.6826e-01,  3.8429e+00],\n",
            "          [ 1.8885e+00, -3.2531e+00, -1.2273e+00,  ...,  2.1929e+00,\n",
            "            2.0025e-01,  2.0111e+00],\n",
            "          [ 1.9308e+00, -3.2503e+00, -1.1885e+00,  ...,  2.2158e+00,\n",
            "            2.2641e-01,  2.0014e+00]],\n",
            "\n",
            "         ...,\n",
            "\n",
            "         [[-1.2428e+00,  1.0561e+00, -2.3454e-01,  ..., -2.5928e+00,\n",
            "            1.9076e+00, -3.5703e+00],\n",
            "          [-6.0407e-01, -7.9441e-01,  4.8178e-01,  ..., -1.5158e+00,\n",
            "            2.7689e+00, -3.5986e+00],\n",
            "          [-1.1675e+00,  7.3982e-01, -5.5468e-01,  ..., -4.9932e+00,\n",
            "            9.5268e-01, -2.3185e+00],\n",
            "          ...,\n",
            "          [-2.1923e-01, -7.2332e-01,  5.4069e-01,  ..., -4.1837e+00,\n",
            "            1.7445e+00, -3.7333e+00],\n",
            "          [-8.2917e-01, -4.0525e-03,  2.0848e-01,  ..., -2.9507e+00,\n",
            "            1.4152e+00, -2.6201e+00],\n",
            "          [-8.3211e-01,  5.3677e-03,  1.4456e-01,  ..., -2.8960e+00,\n",
            "            1.3974e+00, -2.6376e+00]],\n",
            "\n",
            "         [[ 1.8441e+00, -6.2579e-02, -8.6807e-02,  ..., -2.3101e+00,\n",
            "            1.9954e+00,  1.0588e+00],\n",
            "          [ 1.8832e+00,  1.9635e-01,  1.4834e-01,  ..., -1.0801e+00,\n",
            "            2.4774e+00,  2.3605e-02],\n",
            "          [ 1.3684e+00, -1.9988e+00, -8.5240e-02,  ..., -3.0951e+00,\n",
            "            2.9991e+00,  2.2498e-01],\n",
            "          ...,\n",
            "          [ 1.2186e+00, -5.6848e-01,  7.4905e-02,  ..., -1.5075e+00,\n",
            "            1.3388e+00,  1.1104e+00],\n",
            "          [ 4.4624e-01, -7.0348e-01,  1.6530e-01,  ..., -1.0335e+00,\n",
            "            7.7575e-01,  2.3979e-01],\n",
            "          [ 4.4977e-01, -7.2577e-01,  1.5383e-01,  ..., -1.0440e+00,\n",
            "            7.7978e-01,  2.0494e-01]],\n",
            "\n",
            "         [[-2.0000e+00, -2.3654e+00, -3.1347e+00,  ...,  3.3045e-01,\n",
            "           -2.4768e+00,  3.5035e-01],\n",
            "          [-1.4500e+00, -1.6275e+00, -2.8646e+00,  ...,  8.6375e-01,\n",
            "           -1.5715e+00,  1.9198e+00],\n",
            "          [-1.4659e+00, -1.5175e+00, -2.4058e+00,  ...,  2.2137e+00,\n",
            "           -7.1800e-01,  7.5888e-01],\n",
            "          ...,\n",
            "          [-9.8918e-01, -2.7709e+00, -8.6656e-01,  ...,  1.5828e+00,\n",
            "           -2.0306e+00, -7.4913e-01],\n",
            "          [-6.4231e-01, -1.1024e+00,  2.7373e-01,  ...,  1.0652e+00,\n",
            "           -5.4454e-01,  4.3408e-01],\n",
            "          [-6.4867e-01, -1.1942e+00,  2.2475e-01,  ...,  1.0287e+00,\n",
            "           -5.2632e-01,  4.4958e-01]]],\n",
            "\n",
            "\n",
            "        [[[-1.1567e+00,  5.5356e+00,  1.3413e+00,  ...,  4.8576e+00,\n",
            "            8.0442e-01,  2.2298e+00],\n",
            "          [-7.4962e-01,  4.6149e+00,  2.0956e+00,  ...,  2.1615e+00,\n",
            "            7.7454e-01,  4.0580e+00],\n",
            "          [-1.3131e+00,  2.5327e+00,  3.9957e-01,  ...,  5.1087e+00,\n",
            "           -1.4278e+00,  3.2204e-01],\n",
            "          ...,\n",
            "          [-3.6513e-01,  3.0358e+00,  5.1107e-01,  ...,  3.6684e+00,\n",
            "           -7.3747e-01,  1.1761e+00],\n",
            "          [-4.4504e-01,  6.2744e+00,  9.4443e-01,  ...,  4.5877e+00,\n",
            "            3.5919e-02,  1.0447e+00],\n",
            "          [ 2.9909e+00,  3.6135e+00,  2.7840e+00,  ...,  1.8997e+00,\n",
            "           -3.2500e-01,  1.1105e+00]],\n",
            "\n",
            "         [[-1.1834e+00,  3.2922e+00, -1.8292e+00,  ...,  8.0085e-01,\n",
            "            2.3553e+00, -1.6916e-02],\n",
            "          [-4.5874e-01,  2.2431e+00, -1.5915e+00,  ...,  1.7815e+00,\n",
            "            2.1735e+00, -1.4436e+00],\n",
            "          [-4.5319e-02,  3.5692e+00, -3.1923e+00,  ...,  2.2314e+00,\n",
            "            1.2145e+00,  2.7738e-01],\n",
            "          ...,\n",
            "          [-8.2275e-01,  1.8284e+00, -2.2583e+00,  ...,  2.3609e+00,\n",
            "            6.0912e-01, -6.8647e-01],\n",
            "          [-5.0266e-01,  2.0658e+00, -1.5179e+00,  ...,  3.0748e+00,\n",
            "            5.6393e-02,  4.0485e-01],\n",
            "          [-2.1348e-01,  1.6525e+00, -1.0531e+00,  ...,  1.9977e+00,\n",
            "           -2.7246e-01,  4.4568e-01]],\n",
            "\n",
            "         [[ 7.6494e-02, -1.8709e+00, -1.9231e+00,  ...,  1.9169e+00,\n",
            "            1.8190e-01,  2.5379e+00],\n",
            "          [ 3.6782e-01, -2.5932e-01, -1.1219e+00,  ...,  1.8279e+00,\n",
            "            7.2172e-01,  2.0825e+00],\n",
            "          [ 1.6884e+00, -9.9747e-01, -7.2316e-01,  ...,  1.1481e+00,\n",
            "            1.1121e+00,  1.8642e+00],\n",
            "          ...,\n",
            "          [ 4.0095e+00, -3.3037e+00, -1.6162e+00,  ...,  2.5880e+00,\n",
            "           -7.1007e-01,  2.4291e+00],\n",
            "          [ 3.3564e+00, -2.3361e+00, -3.7777e-01,  ...,  3.0883e+00,\n",
            "            2.1413e-01,  2.9958e+00],\n",
            "          [ 2.9808e+00, -1.6231e+00, -1.1569e+00,  ...,  2.3304e+00,\n",
            "            8.6861e-01,  3.8013e+00]],\n",
            "\n",
            "         ...,\n",
            "\n",
            "         [[-1.2428e+00,  1.0561e+00, -2.3454e-01,  ..., -2.5928e+00,\n",
            "            1.9076e+00, -3.5703e+00],\n",
            "          [-6.0407e-01, -7.9441e-01,  4.8178e-01,  ..., -1.5158e+00,\n",
            "            2.7689e+00, -3.5986e+00],\n",
            "          [-1.1675e+00,  7.3982e-01, -5.5468e-01,  ..., -4.9932e+00,\n",
            "            9.5268e-01, -2.3185e+00],\n",
            "          ...,\n",
            "          [-8.0482e-01, -1.1905e+00,  7.0004e-01,  ..., -2.3682e+00,\n",
            "            3.3582e+00, -3.9049e+00],\n",
            "          [-5.9815e-01, -5.1823e-02, -4.0749e-01,  ..., -3.7819e+00,\n",
            "            3.2509e-02, -4.6700e+00],\n",
            "          [ 5.9878e-02, -5.6612e-01,  5.8629e-01,  ..., -4.3181e+00,\n",
            "            1.9580e+00, -3.9893e+00]],\n",
            "\n",
            "         [[ 1.8441e+00, -6.2579e-02, -8.6807e-02,  ..., -2.3101e+00,\n",
            "            1.9954e+00,  1.0588e+00],\n",
            "          [ 1.8832e+00,  1.9635e-01,  1.4834e-01,  ..., -1.0801e+00,\n",
            "            2.4774e+00,  2.3605e-02],\n",
            "          [ 1.3684e+00, -1.9988e+00, -8.5240e-02,  ..., -3.0951e+00,\n",
            "            2.9991e+00,  2.2498e-01],\n",
            "          ...,\n",
            "          [ 4.2207e-01, -1.6323e+00, -2.2404e+00,  ..., -1.4226e+00,\n",
            "            1.4303e-01,  1.0355e-02],\n",
            "          [ 2.0493e+00, -1.8826e+00,  6.8083e-01,  ..., -8.6050e-01,\n",
            "            1.7544e+00, -5.3561e-01],\n",
            "          [ 1.3113e+00, -3.7415e-01,  2.9194e-01,  ..., -1.5914e+00,\n",
            "            1.6627e+00,  1.1570e+00]],\n",
            "\n",
            "         [[-2.0000e+00, -2.3654e+00, -3.1347e+00,  ...,  3.3045e-01,\n",
            "           -2.4768e+00,  3.5035e-01],\n",
            "          [-1.4500e+00, -1.6275e+00, -2.8646e+00,  ...,  8.6375e-01,\n",
            "           -1.5715e+00,  1.9198e+00],\n",
            "          [-1.4659e+00, -1.5175e+00, -2.4058e+00,  ...,  2.2137e+00,\n",
            "           -7.1800e-01,  7.5888e-01],\n",
            "          ...,\n",
            "          [-2.7502e+00,  2.1136e-02, -1.0595e+00,  ...,  6.4925e-02,\n",
            "           -8.6029e-01,  1.0769e+00],\n",
            "          [-1.9442e+00, -1.6965e+00, -1.5577e+00,  ...,  2.8167e-01,\n",
            "           -2.6854e+00, -1.5612e-01],\n",
            "          [-1.0679e+00, -2.8015e+00, -9.8722e-01,  ...,  1.6677e+00,\n",
            "           -2.1422e+00, -8.6204e-01]]]], grad_fn=<TransposeBackward0>), tensor([[[[-1.0423e+00, -4.2426e+00, -4.4998e-02,  ...,  3.3898e+00,\n",
            "           -3.2264e+00,  2.8153e+00],\n",
            "          [ 6.9903e-01, -2.5198e+00, -5.8434e-01,  ...,  3.5005e+00,\n",
            "           -1.5334e+00,  2.2158e+00],\n",
            "          [ 2.5421e+00, -1.7728e+00, -5.1571e-01,  ...,  8.1811e-01,\n",
            "           -2.7809e+00,  1.8900e+00],\n",
            "          ...,\n",
            "          [ 7.4250e-01, -1.2302e+00, -1.7002e+00,  ..., -7.7258e-02,\n",
            "           -1.0350e+00,  4.0122e+00],\n",
            "          [ 6.3549e-01, -7.9237e-01, -1.0069e+00,  ...,  5.5469e-01,\n",
            "           -8.6673e-01,  1.7807e+00],\n",
            "          [ 6.4382e-01, -8.3333e-01, -9.5046e-01,  ...,  5.0649e-01,\n",
            "           -8.7806e-01,  1.7605e+00]],\n",
            "\n",
            "         [[ 5.3586e-01,  4.4512e+00,  4.9439e-01,  ...,  2.9557e-01,\n",
            "            1.8548e-01,  2.3723e-01],\n",
            "          [ 3.1927e+00,  4.9032e+00, -7.9657e-01,  ..., -1.8186e+00,\n",
            "            1.6165e+00, -2.0847e+00],\n",
            "          [ 6.8671e-01,  2.6678e+00,  1.4461e+00,  ...,  1.5605e+00,\n",
            "           -8.6414e-02, -2.0292e+00],\n",
            "          ...,\n",
            "          [ 1.8982e-01,  1.2181e-01, -9.9536e-01,  ..., -1.3252e+00,\n",
            "           -1.3882e+00, -3.1943e+00],\n",
            "          [-2.1350e-01, -7.1666e-01, -5.6532e-01,  ...,  6.6069e-01,\n",
            "           -3.9264e-01, -1.5057e+00],\n",
            "          [-9.2299e-02, -7.5364e-01, -5.4907e-01,  ...,  6.4813e-01,\n",
            "           -3.3910e-01, -1.4290e+00]],\n",
            "\n",
            "         [[-2.9461e+00,  7.3700e-01,  1.1721e+00,  ...,  1.4744e+00,\n",
            "            2.2054e+00, -3.2203e+00],\n",
            "          [-3.3615e+00,  2.0107e+00, -1.5149e-01,  ..., -7.7288e-01,\n",
            "            3.5383e-01, -2.0058e+00],\n",
            "          [-1.8835e+00,  1.6344e+00,  1.4363e+00,  ...,  1.6282e+00,\n",
            "           -2.2523e+00, -4.0193e+00],\n",
            "          ...,\n",
            "          [-4.3617e-01, -9.7184e-01,  5.2314e-01,  ..., -1.7855e-01,\n",
            "           -1.5193e+00,  1.6788e-01],\n",
            "          [-8.2744e-02,  6.5059e-01,  5.9785e-02,  ..., -1.4573e-01,\n",
            "           -8.8820e-01,  2.9160e-01],\n",
            "          [-6.4822e-02,  6.4562e-01, -2.3551e-02,  ..., -1.1413e-01,\n",
            "           -8.4656e-01,  2.7112e-01]],\n",
            "\n",
            "         ...,\n",
            "\n",
            "         [[-5.1196e+00,  2.8135e+00,  5.6198e-01,  ..., -1.4493e+00,\n",
            "            1.4600e+00,  5.4444e-01],\n",
            "          [-3.9969e+00,  1.0751e+00, -2.3766e+00,  ..., -3.9619e+00,\n",
            "           -1.7385e+00,  6.2416e-01],\n",
            "          [-1.3565e+00,  5.5718e-01,  4.5199e-01,  ..., -8.7589e-01,\n",
            "            7.4510e-01,  1.6943e+00],\n",
            "          ...,\n",
            "          [ 2.7225e+00, -1.0906e+00,  1.5932e+00,  ...,  3.5205e-01,\n",
            "           -1.5502e-01, -2.0320e-01],\n",
            "          [ 2.0851e-01,  1.4558e-01,  2.5588e-01,  ..., -3.5591e-01,\n",
            "           -6.1907e-01,  1.9965e-01],\n",
            "          [ 1.6899e-01,  2.2756e-01,  2.6674e-01,  ..., -2.6904e-01,\n",
            "           -6.3069e-01,  2.1792e-01]],\n",
            "\n",
            "         [[ 3.1656e+00, -8.2680e-01, -3.2379e+00,  ...,  4.5147e-03,\n",
            "           -1.3671e+00, -2.5411e+00],\n",
            "          [ 2.8769e+00,  3.2273e+00, -4.1702e-01,  ..., -9.6597e-01,\n",
            "           -4.5420e-01, -5.1562e+00],\n",
            "          [ 6.8843e+00, -4.4417e-01, -2.0406e+00,  ...,  5.8243e-01,\n",
            "            1.9652e+00, -2.0742e+00],\n",
            "          ...,\n",
            "          [ 3.0745e-01, -5.3125e-01, -7.7027e-01,  ..., -1.7094e+00,\n",
            "            1.7063e+00, -2.5974e+00],\n",
            "          [-4.8624e-03,  7.5884e-02, -1.2060e-03,  ..., -3.2356e-01,\n",
            "            1.3615e+00, -6.2964e-01],\n",
            "          [ 3.8184e-02,  1.3017e-01,  8.7506e-02,  ..., -2.1379e-01,\n",
            "            1.2848e+00, -5.8384e-01]],\n",
            "\n",
            "         [[-6.6134e-01,  9.4568e-01, -1.1371e+00,  ..., -1.5674e+00,\n",
            "            4.7536e+00,  1.8724e-01],\n",
            "          [-3.2245e+00,  1.2246e+00,  8.6276e-01,  ...,  4.2128e+00,\n",
            "            5.9172e+00, -1.8758e+00],\n",
            "          [-4.8693e-01,  1.8514e+00, -3.5177e+00,  ...,  3.9851e+00,\n",
            "            5.8031e+00, -2.0825e+00],\n",
            "          ...,\n",
            "          [ 3.2404e+00, -8.8189e-01, -2.5404e+00,  ...,  2.3003e-01,\n",
            "            9.7526e-01,  7.0460e-01],\n",
            "          [ 1.0841e+00, -4.2887e-01, -1.8015e+00,  ...,  1.8817e-01,\n",
            "            3.5927e-01,  5.9729e-01],\n",
            "          [ 1.0667e+00, -4.2105e-01, -1.7942e+00,  ...,  1.0459e-01,\n",
            "            3.1796e-01,  5.7020e-01]]],\n",
            "\n",
            "\n",
            "        [[[-1.0423e+00, -4.2426e+00, -4.4998e-02,  ...,  3.3898e+00,\n",
            "           -3.2264e+00,  2.8153e+00],\n",
            "          [ 6.9903e-01, -2.5198e+00, -5.8434e-01,  ...,  3.5005e+00,\n",
            "           -1.5334e+00,  2.2158e+00],\n",
            "          [ 2.5421e+00, -1.7728e+00, -5.1571e-01,  ...,  8.1811e-01,\n",
            "           -2.7809e+00,  1.8900e+00],\n",
            "          ...,\n",
            "          [-1.0299e+00, -4.7102e-01,  1.0381e-02,  ..., -7.1811e-01,\n",
            "           -1.0600e+00,  1.9117e+00],\n",
            "          [ 2.2693e-01,  9.6312e-01,  5.2525e-01,  ..., -3.2150e+00,\n",
            "            5.8623e-01,  2.8193e+00],\n",
            "          [ 7.8007e-01, -1.1144e+00, -1.6528e+00,  ..., -7.8632e-02,\n",
            "           -9.0281e-01,  4.4872e+00]],\n",
            "\n",
            "         [[ 5.3586e-01,  4.4512e+00,  4.9439e-01,  ...,  2.9557e-01,\n",
            "            1.8548e-01,  2.3723e-01],\n",
            "          [ 3.1927e+00,  4.9032e+00, -7.9657e-01,  ..., -1.8186e+00,\n",
            "            1.6165e+00, -2.0847e+00],\n",
            "          [ 6.8671e-01,  2.6678e+00,  1.4461e+00,  ...,  1.5605e+00,\n",
            "           -8.6414e-02, -2.0292e+00],\n",
            "          ...,\n",
            "          [ 1.7678e+00,  5.8362e-01, -6.8440e-01,  ..., -1.3447e+00,\n",
            "           -1.5515e+00, -2.6863e+00],\n",
            "          [ 5.7030e-03, -1.4768e+00,  7.7143e-01,  ..., -1.2640e+00,\n",
            "            2.2801e+00, -8.8776e-01],\n",
            "          [ 2.7605e-01,  5.2198e-01, -1.0067e+00,  ..., -9.5126e-01,\n",
            "           -2.0355e+00, -2.8048e+00]],\n",
            "\n",
            "         [[-2.9461e+00,  7.3700e-01,  1.1721e+00,  ...,  1.4744e+00,\n",
            "            2.2054e+00, -3.2203e+00],\n",
            "          [-3.3615e+00,  2.0107e+00, -1.5149e-01,  ..., -7.7288e-01,\n",
            "            3.5383e-01, -2.0058e+00],\n",
            "          [-1.8835e+00,  1.6344e+00,  1.4363e+00,  ...,  1.6282e+00,\n",
            "           -2.2523e+00, -4.0193e+00],\n",
            "          ...,\n",
            "          [ 1.2116e-02,  4.2342e-01,  2.8145e+00,  ..., -3.3937e+00,\n",
            "           -2.7051e-01,  7.9343e-02],\n",
            "          [ 4.2053e-02, -8.1170e-01,  4.5587e-02,  ...,  1.4280e+00,\n",
            "           -4.5503e-01, -1.1788e-01],\n",
            "          [-6.2976e-01, -7.0139e-01,  1.1992e+00,  ..., -2.5176e-01,\n",
            "           -9.7542e-01, -3.2094e-02]],\n",
            "\n",
            "         ...,\n",
            "\n",
            "         [[-5.1196e+00,  2.8135e+00,  5.6198e-01,  ..., -1.4493e+00,\n",
            "            1.4600e+00,  5.4444e-01],\n",
            "          [-3.9969e+00,  1.0751e+00, -2.3766e+00,  ..., -3.9619e+00,\n",
            "           -1.7385e+00,  6.2416e-01],\n",
            "          [-1.3565e+00,  5.5718e-01,  4.5199e-01,  ..., -8.7589e-01,\n",
            "            7.4510e-01,  1.6943e+00],\n",
            "          ...,\n",
            "          [ 5.1796e+00,  1.8139e+00, -7.7165e-01,  ...,  9.8733e-01,\n",
            "           -3.3208e+00,  2.7907e+00],\n",
            "          [ 5.2644e-01, -9.3127e-01, -1.6802e-01,  ..., -7.0940e-02,\n",
            "           -1.6618e+00, -9.1212e-01],\n",
            "          [ 2.2957e+00, -6.3506e-01,  1.0609e+00,  ...,  4.5163e-01,\n",
            "           -9.9297e-01, -3.2617e-01]],\n",
            "\n",
            "         [[ 3.1656e+00, -8.2680e-01, -3.2379e+00,  ...,  4.5147e-03,\n",
            "           -1.3671e+00, -2.5411e+00],\n",
            "          [ 2.8769e+00,  3.2273e+00, -4.1702e-01,  ..., -9.6597e-01,\n",
            "           -4.5420e-01, -5.1562e+00],\n",
            "          [ 6.8843e+00, -4.4417e-01, -2.0406e+00,  ...,  5.8243e-01,\n",
            "            1.9652e+00, -2.0742e+00],\n",
            "          ...,\n",
            "          [ 1.3867e+00,  5.9590e-01,  1.0675e-01,  ..., -2.6819e+00,\n",
            "            6.0390e+00,  9.1307e-01],\n",
            "          [-1.4366e-01, -1.1700e+00, -2.2640e-01,  ...,  1.8231e-01,\n",
            "            4.8356e-01, -1.1433e+00],\n",
            "          [ 2.2672e-01, -8.4541e-01, -1.2576e+00,  ..., -1.8615e+00,\n",
            "            1.4693e+00, -3.1903e+00]],\n",
            "\n",
            "         [[-6.6134e-01,  9.4568e-01, -1.1371e+00,  ..., -1.5674e+00,\n",
            "            4.7536e+00,  1.8724e-01],\n",
            "          [-3.2245e+00,  1.2246e+00,  8.6276e-01,  ...,  4.2128e+00,\n",
            "            5.9172e+00, -1.8758e+00],\n",
            "          [-4.8693e-01,  1.8514e+00, -3.5177e+00,  ...,  3.9851e+00,\n",
            "            5.8031e+00, -2.0825e+00],\n",
            "          ...,\n",
            "          [ 3.6187e+00,  1.5098e-01, -2.1775e+00,  ...,  2.5927e+00,\n",
            "            2.4067e+00, -2.0503e+00],\n",
            "          [ 1.2985e+00,  7.5335e-01, -1.1967e+00,  ...,  5.2822e-01,\n",
            "            1.9380e+00,  2.2502e-02],\n",
            "          [ 3.3513e+00, -8.3696e-01, -2.3761e+00,  ...,  4.8548e-01,\n",
            "            1.2012e+00,  1.0625e+00]]]], grad_fn=<TransposeBackward0>)), (tensor([[[[-7.1275e-01,  1.3237e+00, -3.4677e+00,  ...,  1.7400e+00,\n",
            "            1.5358e+00,  2.5270e+00],\n",
            "          [ 1.6019e-01,  1.4687e-01, -3.2487e+00,  ...,  2.3953e+00,\n",
            "            2.3051e-02,  1.7497e+00],\n",
            "          [-1.2465e+00,  1.4802e+00, -3.6995e+00,  ...,  1.0604e+00,\n",
            "            1.0685e+00,  6.5425e-01],\n",
            "          ...,\n",
            "          [-9.2653e-01,  2.6860e+00, -3.9234e+00,  ..., -1.4239e+00,\n",
            "           -3.8407e-01,  2.1033e+00],\n",
            "          [-1.9030e-01,  2.0510e+00, -3.0888e+00,  ..., -7.1918e-01,\n",
            "            4.6956e-02,  1.6932e+00],\n",
            "          [-1.4576e-01,  2.1046e+00, -3.0493e+00,  ..., -7.8653e-01,\n",
            "           -1.5159e-03,  1.6500e+00]],\n",
            "\n",
            "         [[ 6.6416e-01, -3.5952e+00,  5.7607e-01,  ..., -1.1679e+00,\n",
            "            3.3139e+00,  2.9048e+00],\n",
            "          [-1.1464e+00, -3.5160e+00,  3.6669e-01,  ..., -1.0356e+00,\n",
            "            3.0814e+00,  3.8381e+00],\n",
            "          [-3.2209e-01, -4.1078e+00, -9.4255e-01,  ..., -6.3722e-01,\n",
            "            3.6131e+00,  1.8786e+00],\n",
            "          ...,\n",
            "          [-2.6176e+00, -2.4243e+00,  1.1166e+00,  ...,  7.3636e-01,\n",
            "            1.4757e+00,  4.2613e+00],\n",
            "          [-2.3457e+00, -2.2776e+00,  1.1828e+00,  ..., -5.4365e-02,\n",
            "            1.4066e+00,  2.4990e+00],\n",
            "          [-2.3446e+00, -2.3373e+00,  1.2257e+00,  ..., -7.9631e-02,\n",
            "            1.5223e+00,  2.5448e+00]],\n",
            "\n",
            "         [[ 7.1696e-01,  1.0656e+00, -5.0980e+00,  ..., -3.3472e+00,\n",
            "            6.6383e-01,  6.1137e-01],\n",
            "          [ 1.3609e+00,  1.5601e-01, -4.7348e+00,  ..., -2.4960e+00,\n",
            "            2.9309e-01,  7.9442e-01],\n",
            "          [ 1.9406e+00, -4.3063e-01, -4.8165e+00,  ..., -4.6107e+00,\n",
            "            9.1348e-01,  7.2843e-01],\n",
            "          ...,\n",
            "          [ 3.4792e+00,  2.3644e+00, -8.8001e+00,  ..., -2.0040e+00,\n",
            "            1.0270e+00, -2.1513e+00],\n",
            "          [ 2.2485e+00,  1.8984e+00, -5.1039e+00,  ..., -1.4854e+00,\n",
            "            6.2444e-02, -6.5806e-01],\n",
            "          [ 2.2370e+00,  1.9628e+00, -5.1991e+00,  ..., -1.5272e+00,\n",
            "            3.2388e-02, -6.3079e-01]],\n",
            "\n",
            "         ...,\n",
            "\n",
            "         [[ 4.1934e+00, -3.0045e-01, -1.2273e+00,  ...,  6.0761e-01,\n",
            "           -9.1940e-01, -3.8904e+00],\n",
            "          [ 3.3429e+00, -5.0488e-01, -1.8608e+00,  ...,  5.1832e-01,\n",
            "           -2.9857e-01, -3.4033e+00],\n",
            "          [ 3.2116e+00, -2.2122e+00, -8.6469e-01,  ...,  2.9869e-01,\n",
            "           -1.0187e+00, -3.9672e+00],\n",
            "          ...,\n",
            "          [ 2.2713e+00,  1.1249e+00, -2.1619e+00,  ...,  3.0326e-01,\n",
            "            9.4981e-02, -2.8449e+00],\n",
            "          [ 1.9313e+00,  1.1705e+00, -1.7415e+00,  ...,  5.3260e-01,\n",
            "           -4.7789e-01, -2.6572e+00],\n",
            "          [ 1.9321e+00,  1.1953e+00, -1.7301e+00,  ...,  5.4963e-01,\n",
            "           -5.3396e-01, -2.6892e+00]],\n",
            "\n",
            "         [[-1.3380e+00,  1.5096e+00, -4.9028e-01,  ..., -1.7917e+00,\n",
            "           -1.7993e+00,  1.9595e-01],\n",
            "          [ 6.7611e-01,  2.2346e+00, -1.7545e-01,  ..., -1.6183e+00,\n",
            "           -1.1976e+00, -8.3209e-02],\n",
            "          [-3.0317e-01,  3.3782e+00,  8.1191e-01,  ..., -2.2186e+00,\n",
            "           -9.6002e-01, -5.8570e-01],\n",
            "          ...,\n",
            "          [-4.0720e-01, -9.7283e-01, -5.2897e-01,  ..., -3.1227e+00,\n",
            "            1.2870e+00,  3.3794e-01],\n",
            "          [-4.4190e-01,  3.4215e-01,  4.2628e-01,  ..., -1.5130e+00,\n",
            "            7.4984e-01, -1.3970e-01],\n",
            "          [-4.4277e-01,  3.6745e-01,  4.1094e-01,  ..., -1.5081e+00,\n",
            "            7.8592e-01, -1.3963e-01]],\n",
            "\n",
            "         [[-4.9248e-01,  1.3486e+00, -1.1004e-01,  ..., -1.4793e+00,\n",
            "           -1.2852e+00,  9.6228e-01],\n",
            "          [-1.1630e+00,  3.1433e+00,  8.3613e-01,  ..., -9.4102e-01,\n",
            "           -1.4351e+00,  6.7424e-01],\n",
            "          [ 8.6998e-02,  1.6413e+00,  1.3492e+00,  ..., -1.5155e+00,\n",
            "           -2.4750e+00,  1.5176e-01],\n",
            "          ...,\n",
            "          [-6.3757e-01,  2.5035e+00,  1.4285e+00,  ..., -8.2535e-01,\n",
            "           -3.6159e-01,  3.6905e+00],\n",
            "          [ 5.1290e-02,  1.4109e+00,  1.4983e-01,  ...,  1.9618e-03,\n",
            "           -2.5092e-01,  1.6093e+00],\n",
            "          [ 6.3760e-02,  1.3723e+00,  2.3275e-01,  ..., -5.9068e-03,\n",
            "           -3.0597e-01,  1.5844e+00]]],\n",
            "\n",
            "\n",
            "        [[[-7.1275e-01,  1.3237e+00, -3.4677e+00,  ...,  1.7400e+00,\n",
            "            1.5358e+00,  2.5270e+00],\n",
            "          [ 1.6019e-01,  1.4687e-01, -3.2487e+00,  ...,  2.3953e+00,\n",
            "            2.3051e-02,  1.7497e+00],\n",
            "          [-1.2465e+00,  1.4802e+00, -3.6995e+00,  ...,  1.0604e+00,\n",
            "            1.0685e+00,  6.5425e-01],\n",
            "          ...,\n",
            "          [ 2.4871e-01,  1.3655e+00, -3.2177e+00,  ...,  3.3160e-01,\n",
            "           -1.4141e+00,  1.4028e+00],\n",
            "          [-7.8854e-01,  1.3321e+00, -4.8322e+00,  ..., -2.1223e-01,\n",
            "           -2.6957e-01,  2.6791e+00],\n",
            "          [-9.5809e-01,  2.8287e+00, -4.1264e+00,  ..., -8.9184e-01,\n",
            "           -7.2336e-02,  2.1076e+00]],\n",
            "\n",
            "         [[ 6.6416e-01, -3.5952e+00,  5.7607e-01,  ..., -1.1679e+00,\n",
            "            3.3139e+00,  2.9048e+00],\n",
            "          [-1.1464e+00, -3.5160e+00,  3.6669e-01,  ..., -1.0356e+00,\n",
            "            3.0814e+00,  3.8381e+00],\n",
            "          [-3.2209e-01, -4.1078e+00, -9.4255e-01,  ..., -6.3722e-01,\n",
            "            3.6131e+00,  1.8786e+00],\n",
            "          ...,\n",
            "          [-1.4155e+00, -2.9101e+00,  3.6382e+00,  ..., -2.5925e+00,\n",
            "            3.9070e+00,  4.7452e+00],\n",
            "          [ 3.3805e-01, -2.1139e+00,  7.5956e-01,  ..., -2.2905e+00,\n",
            "            3.6196e+00,  3.9174e+00],\n",
            "          [-2.5881e+00, -2.2874e+00,  8.1198e-01,  ...,  3.3318e-01,\n",
            "            1.2225e+00,  4.3807e+00]],\n",
            "\n",
            "         [[ 7.1696e-01,  1.0656e+00, -5.0980e+00,  ..., -3.3472e+00,\n",
            "            6.6383e-01,  6.1137e-01],\n",
            "          [ 1.3609e+00,  1.5601e-01, -4.7348e+00,  ..., -2.4960e+00,\n",
            "            2.9309e-01,  7.9442e-01],\n",
            "          [ 1.9406e+00, -4.3063e-01, -4.8165e+00,  ..., -4.6107e+00,\n",
            "            9.1348e-01,  7.2843e-01],\n",
            "          ...,\n",
            "          [ 2.2750e+00,  8.3894e-01, -5.6035e+00,  ..., -1.6467e+00,\n",
            "           -7.6822e-01,  2.2369e+00],\n",
            "          [ 4.3968e+00,  1.9428e+00, -6.4307e+00,  ..., -2.4417e+00,\n",
            "            3.9989e-01, -7.9214e-02],\n",
            "          [ 3.3569e+00,  2.3045e+00, -9.0760e+00,  ..., -2.0331e+00,\n",
            "            9.4617e-01, -2.2887e+00]],\n",
            "\n",
            "         ...,\n",
            "\n",
            "         [[ 4.1934e+00, -3.0045e-01, -1.2273e+00,  ...,  6.0761e-01,\n",
            "           -9.1940e-01, -3.8904e+00],\n",
            "          [ 3.3429e+00, -5.0488e-01, -1.8608e+00,  ...,  5.1832e-01,\n",
            "           -2.9857e-01, -3.4033e+00],\n",
            "          [ 3.2116e+00, -2.2122e+00, -8.6469e-01,  ...,  2.9869e-01,\n",
            "           -1.0187e+00, -3.9672e+00],\n",
            "          ...,\n",
            "          [ 3.1416e+00,  2.4635e+00, -2.2622e+00,  ...,  9.2173e-02,\n",
            "            4.5174e-01, -2.7066e+00],\n",
            "          [ 3.5315e+00,  2.8256e+00, -1.9965e+00,  ...,  5.8829e-01,\n",
            "           -5.6535e-01, -4.1347e+00],\n",
            "          [ 2.5187e+00,  1.3896e+00, -1.8649e+00,  ...,  6.1223e-01,\n",
            "           -1.4997e-01, -2.9916e+00]],\n",
            "\n",
            "         [[-1.3380e+00,  1.5096e+00, -4.9028e-01,  ..., -1.7917e+00,\n",
            "           -1.7993e+00,  1.9595e-01],\n",
            "          [ 6.7611e-01,  2.2346e+00, -1.7545e-01,  ..., -1.6183e+00,\n",
            "           -1.1976e+00, -8.3209e-02],\n",
            "          [-3.0317e-01,  3.3782e+00,  8.1191e-01,  ..., -2.2186e+00,\n",
            "           -9.6002e-01, -5.8570e-01],\n",
            "          ...,\n",
            "          [-3.7027e+00,  1.5294e+00,  3.3174e-01,  ..., -1.2233e+00,\n",
            "           -9.3174e-01, -1.6076e+00],\n",
            "          [-1.3492e+00,  8.6998e-01,  1.0482e+00,  ..., -2.7453e+00,\n",
            "           -6.0617e-01, -5.9941e-01],\n",
            "          [-6.0529e-01, -1.2650e+00, -4.2536e-01,  ..., -3.1270e+00,\n",
            "            1.2860e+00,  1.2187e-01]],\n",
            "\n",
            "         [[-4.9248e-01,  1.3486e+00, -1.1004e-01,  ..., -1.4793e+00,\n",
            "           -1.2852e+00,  9.6228e-01],\n",
            "          [-1.1630e+00,  3.1433e+00,  8.3613e-01,  ..., -9.4102e-01,\n",
            "           -1.4351e+00,  6.7424e-01],\n",
            "          [ 8.6998e-02,  1.6413e+00,  1.3492e+00,  ..., -1.5155e+00,\n",
            "           -2.4750e+00,  1.5176e-01],\n",
            "          ...,\n",
            "          [-1.3822e+00,  1.1689e+00,  2.4603e+00,  ..., -1.5785e+00,\n",
            "           -1.4655e-01,  2.7382e+00],\n",
            "          [-4.7377e-01,  1.3422e+00,  1.3695e+00,  ..., -1.8082e+00,\n",
            "           -1.0323e+00,  2.1039e+00],\n",
            "          [-6.3991e-01,  2.2969e+00,  1.2316e+00,  ..., -1.0556e+00,\n",
            "           -4.3389e-01,  3.3548e+00]]]], grad_fn=<TransposeBackward0>), tensor([[[[ 4.4848e-01, -2.0320e+00,  2.6764e+00,  ...,  5.9113e-01,\n",
            "            1.2688e-01,  3.8738e+00],\n",
            "          [ 1.2674e-01, -6.3379e-01,  3.8586e+00,  ...,  1.7751e+00,\n",
            "           -7.9158e-02,  3.8435e+00],\n",
            "          [-3.0998e-01, -3.2135e+00,  3.2168e+00,  ...,  2.8706e+00,\n",
            "            5.7325e-01,  3.5677e+00],\n",
            "          ...,\n",
            "          [ 3.1254e-01, -2.5200e+00,  2.3026e+00,  ...,  1.7199e+00,\n",
            "            1.7437e+00,  6.1751e-01],\n",
            "          [-9.5761e-02, -7.8313e-01, -2.8922e-02,  ...,  5.5520e-01,\n",
            "            6.8488e-01,  1.6559e-01],\n",
            "          [-1.5055e-01, -7.6614e-01, -1.0374e-01,  ...,  4.8423e-01,\n",
            "            7.2335e-01,  4.9270e-03]],\n",
            "\n",
            "         [[ 2.6727e+00, -8.2558e-01,  1.8339e+00,  ...,  4.9808e+00,\n",
            "            5.8088e+00,  1.8522e+00],\n",
            "          [-6.0637e-01, -1.5325e+00,  5.5254e-02,  ...,  2.1778e+00,\n",
            "            4.0321e+00,  6.9370e-01],\n",
            "          [-3.3970e+00,  5.3652e-01, -1.5947e+00,  ...,  2.6230e+00,\n",
            "            1.0826e+00, -3.6853e+00],\n",
            "          ...,\n",
            "          [-4.1392e-01, -1.0236e-01,  3.0240e+00,  ...,  3.3186e+00,\n",
            "            3.8686e+00,  2.1273e-01],\n",
            "          [-3.7647e-01, -7.6977e-01,  6.6148e-01,  ...,  1.6201e+00,\n",
            "            1.6098e+00, -7.0236e-02],\n",
            "          [-2.8139e-01, -7.5283e-01,  7.6261e-01,  ...,  1.5657e+00,\n",
            "            1.5324e+00, -1.2681e-01]],\n",
            "\n",
            "         [[ 1.3347e+00, -3.5206e+00,  2.5585e+00,  ...,  6.4527e-01,\n",
            "           -1.1867e+00, -1.0044e+00],\n",
            "          [ 1.4630e+00, -2.2049e+00,  1.3209e+00,  ...,  1.5761e+00,\n",
            "           -1.8070e+00, -2.3183e+00],\n",
            "          [ 1.2582e+00, -3.4355e+00,  3.8750e+00,  ...,  1.6277e+00,\n",
            "           -3.7745e-01, -1.4907e+00],\n",
            "          ...,\n",
            "          [-6.5970e-02, -1.0243e+00,  2.3819e+00,  ..., -1.4201e-01,\n",
            "           -2.3269e+00,  7.5734e-01],\n",
            "          [-7.4694e-02, -8.4576e-01,  1.6753e-01,  ...,  1.5363e-01,\n",
            "           -1.1369e+00,  5.7375e-01],\n",
            "          [-1.1970e-01, -6.8401e-01,  1.5132e-01,  ...,  7.6369e-02,\n",
            "           -1.1790e+00,  5.8263e-01]],\n",
            "\n",
            "         ...,\n",
            "\n",
            "         [[ 2.4108e+00,  1.5198e+00, -1.5465e+00,  ...,  3.7580e+00,\n",
            "            8.7954e-01, -2.1594e+00],\n",
            "          [ 4.7989e+00,  5.4888e-01, -9.5586e-01,  ...,  3.7038e+00,\n",
            "            2.5632e+00, -2.8907e+00],\n",
            "          [ 1.4694e+00,  2.9284e+00,  2.6160e-01,  ...,  2.2204e+00,\n",
            "            2.1612e+00,  1.6287e-02],\n",
            "          ...,\n",
            "          [ 3.4656e+00,  1.2861e+00, -1.4832e+00,  ...,  5.5941e-02,\n",
            "           -1.6943e+00, -1.7996e+00],\n",
            "          [ 9.2685e-01,  8.3076e-01,  8.7411e-01,  ..., -2.1836e-01,\n",
            "            1.9940e-01, -4.2319e-01],\n",
            "          [ 8.6584e-01,  8.1827e-01,  8.3987e-01,  ..., -2.4718e-01,\n",
            "            2.8093e-01, -4.9384e-01]],\n",
            "\n",
            "         [[ 3.1540e+00, -8.0835e-01,  1.7636e+00,  ..., -2.3388e+00,\n",
            "            3.5295e+00, -8.1202e-01],\n",
            "          [ 3.6964e+00, -1.2146e+00, -1.0030e-01,  ..., -2.7037e+00,\n",
            "            3.5717e+00,  1.1076e+00],\n",
            "          [-5.6311e-02, -1.1587e+00,  4.7323e+00,  ..., -2.4002e+00,\n",
            "            3.8402e+00, -1.7024e+00],\n",
            "          ...,\n",
            "          [ 4.9797e-01, -1.4538e+00,  1.5524e+00,  ..., -4.1352e-01,\n",
            "            2.6079e+00,  2.0935e-01],\n",
            "          [-1.1038e+00, -1.4899e+00,  8.0285e-01,  ..., -4.9064e-01,\n",
            "            1.1300e+00,  1.1181e-01],\n",
            "          [-1.0480e+00, -1.2915e+00,  7.0363e-01,  ..., -5.4354e-01,\n",
            "            1.0901e+00, -4.0412e-02]],\n",
            "\n",
            "         [[-4.1633e+00, -5.5661e+00,  1.2666e-01,  ..., -1.6778e+00,\n",
            "           -3.1398e-01,  6.8549e+00],\n",
            "          [-3.5855e+00, -5.0371e+00,  2.1239e+00,  ..., -4.4849e+00,\n",
            "           -7.5595e-01,  4.5034e+00],\n",
            "          [-1.6916e+00, -1.6294e+00, -2.3238e+00,  ..., -4.4058e+00,\n",
            "           -5.9247e-01,  5.4832e+00],\n",
            "          ...,\n",
            "          [-9.6616e-01,  9.7569e-01, -3.1215e+00,  ..., -4.4497e+00,\n",
            "           -7.4736e-01,  2.4430e+00],\n",
            "          [-6.0989e-01,  2.6275e-01, -5.5746e-01,  ..., -1.6368e+00,\n",
            "           -1.2035e+00,  6.3901e-01],\n",
            "          [-6.0481e-01,  2.7677e-01, -6.1387e-01,  ..., -1.6023e+00,\n",
            "           -1.1261e+00,  7.2313e-01]]],\n",
            "\n",
            "\n",
            "        [[[ 4.4848e-01, -2.0320e+00,  2.6764e+00,  ...,  5.9113e-01,\n",
            "            1.2688e-01,  3.8738e+00],\n",
            "          [ 1.2674e-01, -6.3379e-01,  3.8586e+00,  ...,  1.7751e+00,\n",
            "           -7.9158e-02,  3.8435e+00],\n",
            "          [-3.0998e-01, -3.2135e+00,  3.2168e+00,  ...,  2.8706e+00,\n",
            "            5.7325e-01,  3.5677e+00],\n",
            "          ...,\n",
            "          [ 2.9943e+00, -3.4564e+00,  2.9120e+00,  ...,  1.1856e+00,\n",
            "           -7.9021e-01, -6.0953e-02],\n",
            "          [-2.0366e-01, -2.1118e+00,  3.1478e+00,  ..., -1.2826e+00,\n",
            "           -5.8329e-01, -2.0488e+00],\n",
            "          [ 4.0348e-01, -2.0215e+00,  2.7465e+00,  ...,  1.6523e+00,\n",
            "            1.1053e+00,  1.2840e+00]],\n",
            "\n",
            "         [[ 2.6727e+00, -8.2558e-01,  1.8339e+00,  ...,  4.9808e+00,\n",
            "            5.8088e+00,  1.8522e+00],\n",
            "          [-6.0637e-01, -1.5325e+00,  5.5254e-02,  ...,  2.1778e+00,\n",
            "            4.0321e+00,  6.9370e-01],\n",
            "          [-3.3970e+00,  5.3652e-01, -1.5947e+00,  ...,  2.6230e+00,\n",
            "            1.0826e+00, -3.6853e+00],\n",
            "          ...,\n",
            "          [ 5.9182e+00, -3.3153e+00,  1.1692e+00,  ...,  4.9898e+00,\n",
            "            3.5337e+00,  4.8381e+00],\n",
            "          [ 6.6096e-02, -6.9101e-02,  5.6823e-01,  ...,  3.2542e+00,\n",
            "            3.6560e+00, -1.3319e+00],\n",
            "          [-3.0353e-01, -2.9831e-01,  3.1588e+00,  ...,  3.4066e+00,\n",
            "            3.3460e+00,  9.6181e-02]],\n",
            "\n",
            "         [[ 1.3347e+00, -3.5206e+00,  2.5585e+00,  ...,  6.4527e-01,\n",
            "           -1.1867e+00, -1.0044e+00],\n",
            "          [ 1.4630e+00, -2.2049e+00,  1.3209e+00,  ...,  1.5761e+00,\n",
            "           -1.8070e+00, -2.3183e+00],\n",
            "          [ 1.2582e+00, -3.4355e+00,  3.8750e+00,  ...,  1.6277e+00,\n",
            "           -3.7745e-01, -1.4907e+00],\n",
            "          ...,\n",
            "          [-3.3105e+00,  1.1393e+00,  2.2972e+00,  ...,  4.1125e+00,\n",
            "           -1.9046e+00,  2.5368e+00],\n",
            "          [-1.9389e+00, -2.1920e+00,  1.5278e+00,  ..., -1.6743e+00,\n",
            "           -1.6425e+00, -5.5029e-01],\n",
            "          [ 8.7170e-01, -1.5227e+00,  2.3423e+00,  ...,  4.3452e-02,\n",
            "           -1.8306e+00, -4.5736e-01]],\n",
            "\n",
            "         ...,\n",
            "\n",
            "         [[ 2.4108e+00,  1.5198e+00, -1.5465e+00,  ...,  3.7580e+00,\n",
            "            8.7954e-01, -2.1594e+00],\n",
            "          [ 4.7989e+00,  5.4888e-01, -9.5586e-01,  ...,  3.7038e+00,\n",
            "            2.5632e+00, -2.8907e+00],\n",
            "          [ 1.4694e+00,  2.9284e+00,  2.6160e-01,  ...,  2.2204e+00,\n",
            "            2.1612e+00,  1.6287e-02],\n",
            "          ...,\n",
            "          [ 3.9838e+00,  3.2882e+00, -4.4671e+00,  ..., -2.2684e+00,\n",
            "           -2.8454e+00, -1.6288e-01],\n",
            "          [-2.5656e-01,  1.6071e-01, -2.4088e+00,  ...,  4.1139e-01,\n",
            "            3.7766e+00, -1.3916e+00],\n",
            "          [ 3.3311e+00,  1.8757e+00, -9.0839e-01,  ...,  2.3907e-01,\n",
            "           -1.3533e+00, -1.7927e+00]],\n",
            "\n",
            "         [[ 3.1540e+00, -8.0835e-01,  1.7636e+00,  ..., -2.3388e+00,\n",
            "            3.5295e+00, -8.1202e-01],\n",
            "          [ 3.6964e+00, -1.2146e+00, -1.0030e-01,  ..., -2.7037e+00,\n",
            "            3.5717e+00,  1.1076e+00],\n",
            "          [-5.6311e-02, -1.1587e+00,  4.7323e+00,  ..., -2.4002e+00,\n",
            "            3.8402e+00, -1.7024e+00],\n",
            "          ...,\n",
            "          [-6.1114e-01,  4.2624e-01,  4.1158e+00,  ..., -6.9833e+00,\n",
            "            2.7698e+00, -2.1285e+00],\n",
            "          [-1.2955e+00, -2.6230e+00,  1.0661e+00,  ..., -2.1131e+00,\n",
            "            2.2436e+00, -2.9520e+00],\n",
            "          [ 3.8480e-02, -1.2473e+00,  1.2571e+00,  ..., -7.2497e-02,\n",
            "            3.2086e+00,  8.6325e-01]],\n",
            "\n",
            "         [[-4.1633e+00, -5.5661e+00,  1.2666e-01,  ..., -1.6778e+00,\n",
            "           -3.1398e-01,  6.8549e+00],\n",
            "          [-3.5855e+00, -5.0371e+00,  2.1239e+00,  ..., -4.4849e+00,\n",
            "           -7.5595e-01,  4.5034e+00],\n",
            "          [-1.6916e+00, -1.6294e+00, -2.3238e+00,  ..., -4.4058e+00,\n",
            "           -5.9247e-01,  5.4832e+00],\n",
            "          ...,\n",
            "          [ 1.6981e+00,  1.4682e+00,  1.4946e+00,  ..., -6.6456e+00,\n",
            "           -8.5699e-01,  1.8583e+00],\n",
            "          [ 2.9326e-01, -1.4373e+00, -1.5319e+00,  ..., -3.0466e+00,\n",
            "           -1.4767e+00,  2.7115e+00],\n",
            "          [-4.3039e-01,  8.8231e-01, -3.3021e+00,  ..., -4.8244e+00,\n",
            "           -4.7337e-01,  3.2072e+00]]]], grad_fn=<TransposeBackward0>)), (tensor([[[[ 1.4293e+00, -2.8083e+00,  5.5142e+00,  ..., -4.4557e-01,\n",
            "            2.0184e-01, -2.5598e+00],\n",
            "          [ 1.7876e+00, -2.1976e+00,  6.1572e+00,  ..., -1.0584e+00,\n",
            "            1.0183e+00, -3.0307e+00],\n",
            "          [ 6.8785e-01, -1.7677e+00,  3.9506e+00,  ..., -8.1303e-01,\n",
            "            3.0847e-01, -1.6151e+00],\n",
            "          ...,\n",
            "          [ 4.7244e-01, -5.6646e-01,  1.7085e+00,  ..., -2.6542e-01,\n",
            "           -3.5386e-01,  6.3151e-01],\n",
            "          [ 1.3122e+00, -6.0207e-01,  2.5148e+00,  ...,  9.4493e-02,\n",
            "           -8.0864e-01,  3.9401e-03],\n",
            "          [ 1.3018e+00, -6.2014e-01,  2.5432e+00,  ...,  1.0454e-01,\n",
            "           -8.6385e-01, -1.1357e-01]],\n",
            "\n",
            "         [[ 2.4403e+00, -1.3705e-01,  1.5373e+00,  ...,  1.4596e+00,\n",
            "            3.7307e-01, -4.4131e+00],\n",
            "          [ 1.2761e+00, -1.2080e-01,  2.7776e+00,  ...,  1.4820e+00,\n",
            "            2.1053e+00, -4.7274e+00],\n",
            "          [-1.4433e-02,  7.9374e-01,  6.5419e-01,  ...,  3.8878e-01,\n",
            "           -1.9234e-02, -3.2995e+00],\n",
            "          ...,\n",
            "          [ 1.2701e+00,  1.1824e+00,  3.7632e+00,  ...,  8.4415e-01,\n",
            "            2.4845e+00, -2.7942e+00],\n",
            "          [ 5.8925e-01,  1.4281e+00,  2.7670e+00,  ...,  2.7923e-01,\n",
            "            3.1911e+00, -1.9161e+00],\n",
            "          [ 6.1710e-01,  1.3685e+00,  2.8637e+00,  ...,  3.4595e-01,\n",
            "            3.2360e+00, -1.9503e+00]],\n",
            "\n",
            "         [[ 5.2321e-01, -1.5284e+00,  1.3331e+00,  ...,  1.4063e+00,\n",
            "            2.9414e+00,  2.3336e+00],\n",
            "          [ 1.1179e+00, -2.2081e+00,  1.6121e+00,  ...,  1.8741e+00,\n",
            "            4.3379e+00,  3.9227e+00],\n",
            "          [ 1.3887e+00, -1.3551e+00,  1.7453e+00,  ...,  3.5421e+00,\n",
            "            4.3522e+00,  1.7656e+00],\n",
            "          ...,\n",
            "          [-8.1607e-02, -1.2876e-01,  3.0250e+00,  ...,  2.4481e+00,\n",
            "            1.3324e+00, -4.5771e-01],\n",
            "          [-7.4739e-01, -7.4002e-01,  3.3537e+00,  ...,  2.7445e+00,\n",
            "            1.7648e+00,  7.7646e-01],\n",
            "          [-7.9203e-01, -8.0745e-01,  3.4577e+00,  ...,  2.7646e+00,\n",
            "            1.9067e+00,  8.0229e-01]],\n",
            "\n",
            "         ...,\n",
            "\n",
            "         [[ 3.5523e+00, -1.7258e+00, -3.5411e-01,  ...,  1.0521e+00,\n",
            "           -3.0281e+00,  2.3736e+00],\n",
            "          [ 4.0249e+00, -1.7665e+00,  1.0059e+00,  ...,  6.4675e-01,\n",
            "           -2.8104e+00,  2.4963e+00],\n",
            "          [ 2.2884e+00, -1.4241e+00,  4.3599e-01,  ..., -3.0631e-01,\n",
            "           -3.4402e+00,  1.8672e+00],\n",
            "          ...,\n",
            "          [ 3.5435e+00, -1.8100e+00, -3.4134e-01,  ..., -1.1299e-03,\n",
            "           -9.3291e-01,  2.6613e+00],\n",
            "          [ 4.0870e+00, -1.8875e+00,  2.4989e-01,  ..., -1.3673e+00,\n",
            "           -1.5015e+00,  3.6527e+00],\n",
            "          [ 4.1265e+00, -1.9952e+00,  2.2324e-01,  ..., -1.5236e+00,\n",
            "           -1.6469e+00,  3.7019e+00]],\n",
            "\n",
            "         [[ 2.9565e-01,  2.4940e+00,  3.0388e-01,  ..., -8.4704e-01,\n",
            "            3.1644e+00,  3.6971e+00],\n",
            "          [ 8.1100e-01,  1.1193e+00, -5.1836e-01,  ..., -9.6807e-01,\n",
            "            3.4013e+00,  4.2118e+00],\n",
            "          [ 2.2018e+00,  2.1329e+00, -3.6872e-01,  ..., -1.3041e+00,\n",
            "            2.5602e+00,  1.3111e+00],\n",
            "          ...,\n",
            "          [ 2.4766e+00,  3.2152e+00,  5.8444e-01,  ..., -1.0914e+00,\n",
            "            2.3253e+00,  1.4387e+00],\n",
            "          [ 1.5658e+00,  2.2857e+00,  2.4100e-01,  ..., -5.1745e-01,\n",
            "            2.6802e+00,  1.1052e+00],\n",
            "          [ 1.5171e+00,  2.2630e+00,  1.6717e-01,  ..., -3.6935e-01,\n",
            "            2.6372e+00,  1.0961e+00]],\n",
            "\n",
            "         [[ 1.5443e+00,  7.9169e-01, -1.5125e-01,  ...,  2.4236e-01,\n",
            "           -2.5661e+00,  6.3468e-01],\n",
            "          [ 2.1232e+00,  2.3663e+00,  2.1240e-01,  ..., -7.9026e-01,\n",
            "           -3.6970e+00,  2.2044e-01],\n",
            "          [ 3.5168e+00,  9.8250e-01, -7.6388e-01,  ..., -2.0702e-01,\n",
            "           -3.8516e+00,  8.8641e-01],\n",
            "          ...,\n",
            "          [ 1.3833e+00,  1.5651e+00, -2.5872e-01,  ...,  6.1346e-02,\n",
            "           -5.0966e+00, -8.5033e-01],\n",
            "          [ 1.7401e+00,  1.4363e+00,  8.3996e-02,  ...,  5.0389e-01,\n",
            "           -2.0950e+00, -4.8840e-01],\n",
            "          [ 1.7423e+00,  1.3817e+00,  1.0093e-01,  ...,  4.9236e-01,\n",
            "           -2.2706e+00, -4.8701e-01]]],\n",
            "\n",
            "\n",
            "        [[[ 1.4293e+00, -2.8083e+00,  5.5142e+00,  ..., -4.4557e-01,\n",
            "            2.0184e-01, -2.5598e+00],\n",
            "          [ 1.7876e+00, -2.1976e+00,  6.1572e+00,  ..., -1.0584e+00,\n",
            "            1.0183e+00, -3.0307e+00],\n",
            "          [ 6.8785e-01, -1.7677e+00,  3.9506e+00,  ..., -8.1303e-01,\n",
            "            3.0847e-01, -1.6151e+00],\n",
            "          ...,\n",
            "          [ 9.5081e-01,  5.8544e-02,  3.6589e+00,  ...,  2.0887e+00,\n",
            "           -2.5679e-01, -2.0594e+00],\n",
            "          [ 1.3017e+00,  4.1396e-01,  3.9795e+00,  ...,  2.4480e+00,\n",
            "            1.7586e+00, -1.2276e-01],\n",
            "          [ 9.0943e-01, -9.5360e-01,  1.4785e+00,  ..., -4.1779e-01,\n",
            "           -5.0907e-01,  3.1302e-01]],\n",
            "\n",
            "         [[ 2.4403e+00, -1.3705e-01,  1.5373e+00,  ...,  1.4596e+00,\n",
            "            3.7307e-01, -4.4131e+00],\n",
            "          [ 1.2761e+00, -1.2080e-01,  2.7776e+00,  ...,  1.4820e+00,\n",
            "            2.1053e+00, -4.7274e+00],\n",
            "          [-1.4433e-02,  7.9374e-01,  6.5419e-01,  ...,  3.8878e-01,\n",
            "           -1.9234e-02, -3.2995e+00],\n",
            "          ...,\n",
            "          [ 2.6688e+00,  1.2240e+00,  8.5637e-01,  ...,  7.1552e-01,\n",
            "            2.1442e+00, -3.1246e+00],\n",
            "          [ 9.0131e-01, -7.2551e-01,  3.3771e+00,  ...,  1.7238e+00,\n",
            "            1.9397e-01, -6.5841e-01],\n",
            "          [ 1.4812e+00,  6.3086e-01,  3.7515e+00,  ...,  1.3023e+00,\n",
            "            3.0609e+00, -2.4764e+00]],\n",
            "\n",
            "         [[ 5.2321e-01, -1.5284e+00,  1.3331e+00,  ...,  1.4063e+00,\n",
            "            2.9414e+00,  2.3336e+00],\n",
            "          [ 1.1179e+00, -2.2081e+00,  1.6121e+00,  ...,  1.8741e+00,\n",
            "            4.3379e+00,  3.9227e+00],\n",
            "          [ 1.3887e+00, -1.3551e+00,  1.7453e+00,  ...,  3.5421e+00,\n",
            "            4.3522e+00,  1.7656e+00],\n",
            "          ...,\n",
            "          [ 1.2554e+00, -2.2468e+00,  1.7702e+00,  ...,  8.9782e-01,\n",
            "            1.5882e+00,  1.8196e+00],\n",
            "          [-2.0854e+00, -1.7466e+00,  2.8169e-01,  ...,  1.3429e+00,\n",
            "            1.6322e+00, -1.5150e+00],\n",
            "          [ 1.2296e-01, -9.0132e-01,  3.0189e+00,  ...,  1.6574e+00,\n",
            "            9.1852e-01, -1.5189e-01]],\n",
            "\n",
            "         ...,\n",
            "\n",
            "         [[ 3.5523e+00, -1.7258e+00, -3.5411e-01,  ...,  1.0521e+00,\n",
            "           -3.0281e+00,  2.3736e+00],\n",
            "          [ 4.0249e+00, -1.7665e+00,  1.0059e+00,  ...,  6.4675e-01,\n",
            "           -2.8104e+00,  2.4963e+00],\n",
            "          [ 2.2884e+00, -1.4241e+00,  4.3599e-01,  ..., -3.0631e-01,\n",
            "           -3.4402e+00,  1.8672e+00],\n",
            "          ...,\n",
            "          [ 2.1368e+00, -7.3931e-01,  1.8720e+00,  ...,  4.5455e-01,\n",
            "           -2.6256e+00,  1.9978e+00],\n",
            "          [ 4.0141e+00, -3.1315e+00,  1.4098e+00,  ..., -7.9336e-01,\n",
            "           -6.8721e-01,  1.7478e+00],\n",
            "          [ 3.8625e+00, -2.1044e+00,  4.6834e-01,  ..., -7.4974e-01,\n",
            "           -3.7427e-01,  2.9708e+00]],\n",
            "\n",
            "         [[ 2.9565e-01,  2.4940e+00,  3.0388e-01,  ..., -8.4704e-01,\n",
            "            3.1644e+00,  3.6971e+00],\n",
            "          [ 8.1100e-01,  1.1193e+00, -5.1836e-01,  ..., -9.6807e-01,\n",
            "            3.4013e+00,  4.2118e+00],\n",
            "          [ 2.2018e+00,  2.1329e+00, -3.6872e-01,  ..., -1.3041e+00,\n",
            "            2.5602e+00,  1.3111e+00],\n",
            "          ...,\n",
            "          [ 2.5167e+00,  1.2693e+00, -5.8495e-01,  ...,  3.2737e-01,\n",
            "            1.5559e+00, -8.8169e-02],\n",
            "          [-3.8995e-01,  2.3761e+00, -3.2056e-01,  ..., -1.4348e+00,\n",
            "            1.3568e+00,  1.5856e+00],\n",
            "          [ 1.9170e+00,  3.2901e+00,  8.5522e-01,  ..., -8.6089e-01,\n",
            "            1.7699e+00,  2.1534e+00]],\n",
            "\n",
            "         [[ 1.5443e+00,  7.9169e-01, -1.5125e-01,  ...,  2.4236e-01,\n",
            "           -2.5661e+00,  6.3468e-01],\n",
            "          [ 2.1232e+00,  2.3663e+00,  2.1240e-01,  ..., -7.9026e-01,\n",
            "           -3.6970e+00,  2.2044e-01],\n",
            "          [ 3.5168e+00,  9.8250e-01, -7.6388e-01,  ..., -2.0702e-01,\n",
            "           -3.8516e+00,  8.8641e-01],\n",
            "          ...,\n",
            "          [ 2.0795e+00,  1.0743e+00, -1.2797e+00,  ...,  2.0065e+00,\n",
            "           -1.5971e+00, -2.7314e+00],\n",
            "          [ 1.0006e+00,  5.3702e-01, -1.5811e+00,  ...,  1.3325e+00,\n",
            "           -3.0973e+00, -1.1080e+00],\n",
            "          [ 1.4918e+00,  1.6168e+00, -2.1951e-02,  ...,  7.4348e-01,\n",
            "           -4.5985e+00, -8.0742e-01]]]], grad_fn=<TransposeBackward0>), tensor([[[[-9.3318e-02,  5.9908e+00, -2.5004e+00,  ..., -8.5902e-01,\n",
            "           -1.2067e+00,  1.6105e+00],\n",
            "          [-7.5107e-02,  7.4773e+00, -1.6965e+00,  ...,  2.0034e+00,\n",
            "           -9.4008e-01,  6.2701e+00],\n",
            "          [ 2.4574e-01,  6.0928e+00, -4.6378e+00,  ..., -3.0635e-01,\n",
            "            3.5183e+00,  5.4468e+00],\n",
            "          ...,\n",
            "          [ 5.9135e-01,  6.0786e+00,  8.5968e-01,  ..., -1.9969e+00,\n",
            "            6.3384e+00,  3.7723e+00],\n",
            "          [ 5.2750e-01,  4.3685e+00,  2.7024e-01,  ..., -3.9207e-01,\n",
            "            3.3862e+00,  2.3848e+00],\n",
            "          [ 7.6394e-01,  4.3575e+00,  7.5011e-02,  ..., -4.1585e-01,\n",
            "            3.2179e+00,  2.3661e+00]],\n",
            "\n",
            "         [[-1.6959e+00,  3.4209e+00, -1.8535e+00,  ...,  3.8713e+00,\n",
            "            2.2084e-02, -1.8086e+00],\n",
            "          [-1.9261e+00,  4.2995e+00, -5.2928e+00,  ...,  3.5117e+00,\n",
            "            4.9715e+00, -1.7581e+00],\n",
            "          [ 3.3698e-01,  2.6553e+00, -3.5614e+00,  ..., -9.4859e-01,\n",
            "           -4.7237e-01, -1.9987e-02],\n",
            "          ...,\n",
            "          [-1.4175e+00, -1.2989e+00, -2.1390e+00,  ...,  3.6407e+00,\n",
            "           -1.7001e+00,  3.6819e+00],\n",
            "          [-1.9074e+00, -4.7025e-01, -2.3568e-01,  ...,  2.3873e+00,\n",
            "            3.1054e-01,  2.0060e+00],\n",
            "          [-2.1068e+00, -8.7921e-01,  1.9648e-02,  ...,  2.3376e+00,\n",
            "            1.8084e-01,  1.9231e+00]],\n",
            "\n",
            "         [[ 6.1293e+00,  2.0884e+00, -2.5592e+00,  ..., -6.1115e+00,\n",
            "           -7.7432e-01, -5.3877e+00],\n",
            "          [ 7.3832e+00,  1.6768e+00, -4.1942e+00,  ..., -2.6315e+00,\n",
            "           -1.0253e+00, -2.0787e+00],\n",
            "          [ 6.1500e+00,  2.5448e+00, -4.7620e+00,  ..., -2.6332e+00,\n",
            "            3.0357e-02, -4.0919e+00],\n",
            "          ...,\n",
            "          [ 3.1533e+00, -1.4639e+00, -4.8932e+00,  ..., -2.2548e+00,\n",
            "            1.6433e-02, -6.7867e+00],\n",
            "          [ 2.0256e+00, -1.7425e+00, -2.0138e+00,  ..., -1.1857e+00,\n",
            "           -3.8272e-01, -4.2435e+00],\n",
            "          [ 1.8623e+00, -1.6820e+00, -1.8197e+00,  ..., -1.2504e+00,\n",
            "           -4.8824e-01, -4.2316e+00]],\n",
            "\n",
            "         ...,\n",
            "\n",
            "         [[-3.2213e+00,  1.9736e+00,  3.4569e+00,  ...,  2.4961e-01,\n",
            "            2.8306e+00, -1.0502e+00],\n",
            "          [-4.1685e+00,  4.7261e-01,  3.4927e+00,  ..., -5.8826e-01,\n",
            "            1.7282e+00, -2.8600e+00],\n",
            "          [ 1.2700e-01,  6.1009e+00,  3.5566e+00,  ...,  8.5886e-01,\n",
            "            1.4788e+00, -2.3753e+00],\n",
            "          ...,\n",
            "          [ 4.0568e-01,  2.4554e+00,  3.1521e+00,  ..., -1.7794e+00,\n",
            "            1.5234e+00, -8.7574e-01],\n",
            "          [ 8.1046e-01,  1.0678e+00,  2.8234e+00,  ..., -4.5464e-01,\n",
            "           -6.4541e-01, -1.8414e+00],\n",
            "          [ 8.7581e-01,  1.1373e+00,  2.8211e+00,  ..., -1.5626e-01,\n",
            "           -6.1475e-01, -1.8373e+00]],\n",
            "\n",
            "         [[-3.5984e+00, -5.6410e-01, -4.1662e+00,  ..., -2.7593e+00,\n",
            "           -3.1415e+00, -2.2584e+00],\n",
            "          [-3.7346e+00, -1.5394e+00, -3.7144e+00,  ..., -4.5602e+00,\n",
            "           -4.6505e+00, -2.7094e+00],\n",
            "          [-2.5248e+00, -1.8170e+00, -5.8437e+00,  ..., -1.2259e+00,\n",
            "           -2.2484e+00, -2.0971e+00],\n",
            "          ...,\n",
            "          [ 2.2818e+00,  1.4766e+00, -8.5256e-01,  ...,  2.4938e+00,\n",
            "            1.8663e+00, -2.9436e+00],\n",
            "          [ 1.2466e-01,  2.8233e+00, -9.0821e-02,  ...,  1.3030e+00,\n",
            "            1.0941e+00, -2.9470e+00],\n",
            "          [-5.7494e-02,  3.0885e+00, -3.1776e-02,  ...,  1.2168e+00,\n",
            "            1.0915e+00, -2.9321e+00]],\n",
            "\n",
            "         [[ 2.1113e+00,  4.4518e-01, -7.1186e-01,  ..., -3.9343e+00,\n",
            "           -7.0244e-01, -3.8292e-01],\n",
            "          [ 4.1495e+00, -8.3763e-01,  1.7820e-01,  ..., -3.7668e+00,\n",
            "            9.8619e-01, -1.7610e+00],\n",
            "          [ 4.6027e+00,  2.3984e-01, -9.8036e-01,  ..., -4.9977e+00,\n",
            "           -3.9876e-02,  2.3401e+00],\n",
            "          ...,\n",
            "          [ 8.7526e-01, -9.5197e-01, -3.6511e+00,  ...,  4.5927e-01,\n",
            "            2.3686e+00, -4.0909e-01],\n",
            "          [ 1.5944e+00,  8.0328e-01, -1.7378e+00,  ...,  2.7317e-01,\n",
            "            9.9879e-01,  1.0596e+00],\n",
            "          [ 1.4068e+00,  1.0481e+00, -1.7182e+00,  ...,  7.3874e-02,\n",
            "            1.1247e+00,  6.4495e-01]]],\n",
            "\n",
            "\n",
            "        [[[-9.3318e-02,  5.9908e+00, -2.5004e+00,  ..., -8.5902e-01,\n",
            "           -1.2067e+00,  1.6105e+00],\n",
            "          [-7.5107e-02,  7.4773e+00, -1.6965e+00,  ...,  2.0034e+00,\n",
            "           -9.4008e-01,  6.2701e+00],\n",
            "          [ 2.4574e-01,  6.0928e+00, -4.6378e+00,  ..., -3.0635e-01,\n",
            "            3.5183e+00,  5.4468e+00],\n",
            "          ...,\n",
            "          [-8.2648e-02,  6.4394e+00,  5.5624e-01,  ..., -2.8244e+00,\n",
            "            1.8009e+00,  3.6323e+00],\n",
            "          [ 8.2920e-01,  5.8894e+00,  2.2166e+00,  ..., -1.8564e+00,\n",
            "            3.1960e+00,  2.4309e+00],\n",
            "          [ 6.3457e-01,  6.7852e+00,  1.8473e+00,  ..., -2.2815e+00,\n",
            "            5.6167e+00,  3.0993e+00]],\n",
            "\n",
            "         [[-1.6959e+00,  3.4209e+00, -1.8535e+00,  ...,  3.8713e+00,\n",
            "            2.2084e-02, -1.8086e+00],\n",
            "          [-1.9261e+00,  4.2995e+00, -5.2928e+00,  ...,  3.5117e+00,\n",
            "            4.9715e+00, -1.7581e+00],\n",
            "          [ 3.3698e-01,  2.6553e+00, -3.5614e+00,  ..., -9.4859e-01,\n",
            "           -4.7237e-01, -1.9987e-02],\n",
            "          ...,\n",
            "          [ 2.4432e-01, -5.3777e+00, -9.0910e-01,  ...,  5.9569e+00,\n",
            "            2.1268e+00,  3.4227e+00],\n",
            "          [ 3.5533e+00,  7.2350e-01, -2.0218e+00,  ...,  5.0105e+00,\n",
            "            4.5487e-01,  1.2563e+00],\n",
            "          [ 3.7607e-01, -8.4981e-01, -8.4737e-01,  ...,  4.3802e+00,\n",
            "            2.5623e-02,  2.3101e+00]],\n",
            "\n",
            "         [[ 6.1293e+00,  2.0884e+00, -2.5592e+00,  ..., -6.1115e+00,\n",
            "           -7.7432e-01, -5.3877e+00],\n",
            "          [ 7.3832e+00,  1.6768e+00, -4.1942e+00,  ..., -2.6315e+00,\n",
            "           -1.0253e+00, -2.0787e+00],\n",
            "          [ 6.1500e+00,  2.5448e+00, -4.7620e+00,  ..., -2.6332e+00,\n",
            "            3.0357e-02, -4.0919e+00],\n",
            "          ...,\n",
            "          [-2.5075e+00, -6.3257e+00, -2.0691e+00,  ..., -3.8470e+00,\n",
            "           -4.9230e-01, -5.7185e+00],\n",
            "          [-1.7755e+00, -2.7872e+00, -4.8168e-01,  ..., -1.5057e+00,\n",
            "            3.3313e+00, -6.1919e+00],\n",
            "          [ 3.9945e-01, -2.1121e+00, -3.4342e+00,  ..., -1.9685e+00,\n",
            "            2.4875e-01, -5.3248e+00]],\n",
            "\n",
            "         ...,\n",
            "\n",
            "         [[-3.2213e+00,  1.9736e+00,  3.4569e+00,  ...,  2.4961e-01,\n",
            "            2.8306e+00, -1.0502e+00],\n",
            "          [-4.1685e+00,  4.7261e-01,  3.4927e+00,  ..., -5.8826e-01,\n",
            "            1.7282e+00, -2.8600e+00],\n",
            "          [ 1.2700e-01,  6.1009e+00,  3.5566e+00,  ...,  8.5886e-01,\n",
            "            1.4788e+00, -2.3753e+00],\n",
            "          ...,\n",
            "          [-7.9103e-01,  5.5807e+00,  6.7092e+00,  ..., -1.6182e-01,\n",
            "           -8.5526e-03,  2.1939e+00],\n",
            "          [-2.2287e+00,  2.0650e+00,  2.0325e+00,  ...,  1.8365e+00,\n",
            "            4.6251e-02, -2.4833e+00],\n",
            "          [ 6.2108e-03,  3.2574e+00,  4.3084e+00,  ..., -1.5140e+00,\n",
            "            1.7965e+00,  8.1084e-02]],\n",
            "\n",
            "         [[-3.5984e+00, -5.6410e-01, -4.1662e+00,  ..., -2.7593e+00,\n",
            "           -3.1415e+00, -2.2584e+00],\n",
            "          [-3.7346e+00, -1.5394e+00, -3.7144e+00,  ..., -4.5602e+00,\n",
            "           -4.6505e+00, -2.7094e+00],\n",
            "          [-2.5248e+00, -1.8170e+00, -5.8437e+00,  ..., -1.2259e+00,\n",
            "           -2.2484e+00, -2.0971e+00],\n",
            "          ...,\n",
            "          [-1.8327e+00,  4.4898e+00,  2.4618e+00,  ..., -3.3544e-01,\n",
            "           -2.1412e+00, -1.7148e+00],\n",
            "          [ 2.9494e-01,  1.6052e+00,  2.0103e+00,  ...,  2.7296e-01,\n",
            "           -5.2797e-01, -4.5938e+00],\n",
            "          [ 3.0605e+00,  1.0410e+00,  1.6743e-01,  ...,  8.6572e-01,\n",
            "            3.3323e+00, -2.1257e+00]],\n",
            "\n",
            "         [[ 2.1113e+00,  4.4518e-01, -7.1186e-01,  ..., -3.9343e+00,\n",
            "           -7.0244e-01, -3.8292e-01],\n",
            "          [ 4.1495e+00, -8.3763e-01,  1.7820e-01,  ..., -3.7668e+00,\n",
            "            9.8619e-01, -1.7610e+00],\n",
            "          [ 4.6027e+00,  2.3984e-01, -9.8036e-01,  ..., -4.9977e+00,\n",
            "           -3.9876e-02,  2.3401e+00],\n",
            "          ...,\n",
            "          [ 2.5659e+00,  1.1728e+00, -3.0526e+00,  ...,  2.8368e+00,\n",
            "            2.2049e+00, -2.0545e+00],\n",
            "          [ 7.2791e-01,  1.2574e+00,  4.1339e-01,  ..., -9.6063e-01,\n",
            "           -2.7074e+00, -1.0811e+00],\n",
            "          [ 2.7900e-01,  7.9370e-01, -3.4500e+00,  ...,  7.0824e-02,\n",
            "            1.1826e+00, -2.4767e+00]]]], grad_fn=<TransposeBackward0>))), hidden_states=None, attentions=None, cross_attentions=None)\n",
            "odict_keys(['last_hidden_state', 'past_key_values'])\n",
            "torch.Size([2, 13, 512])\n"
          ]
        }
      ]
    },
    {
      "cell_type": "code",
      "source": [
        "# Utiliser l'encodeur et le décodeur (le transformer) pour traduire.\n",
        "output_sequences = model.generate(\n",
        "\n",
        "    input_ids=inputs[\"input_ids\"],\n",
        "\n",
        "    attention_mask=inputs[\"attention_mask\"],\n",
        "\n",
        "    do_sample=False,  # disable sampling to test if batching affects output\n",
        "\n",
        ")\n",
        "\n",
        "# Afficher la sortie (des tokens en ids)\n",
        "print(output_sequences)\n",
        "print(output_sequences.shape)"
      ],
      "metadata": {
        "colab": {
          "base_uri": "https://localhost:8080/"
        },
        "id": "-onJSAsQjh4x",
        "outputId": "fa8a3d88-d5d0-4580-bcb3-93436c26cc21"
      },
      "execution_count": 27,
      "outputs": [
        {
          "output_type": "stream",
          "name": "stderr",
          "text": [
            "/usr/local/lib/python3.10/dist-packages/transformers/generation/utils.py:1273: UserWarning: Using the model-agnostic default `max_length` (=20) to control the generation length. We recommend setting `max_new_tokens` to control the maximum length of the generation.\n",
            "  warnings.warn(\n"
          ]
        },
        {
          "output_type": "stream",
          "name": "stdout",
          "text": [
            "tensor([[    0,   644,  4598,   229, 19250,     5,     1,     0,     0,     0],\n",
            "        [    0,  1674,     3,  5269,    15,  5462,    16, 13465,     5,     1]])\n",
            "torch.Size([2, 10])\n"
          ]
        }
      ]
    },
    {
      "cell_type": "code",
      "source": [
        "# Traduire les tokens (ids) en mots\n",
        "print(tokenizer.batch_decode(output_sequences, skip_special_tokens=True))"
      ],
      "metadata": {
        "colab": {
          "base_uri": "https://localhost:8080/"
        },
        "id": "DiSQlxE3lPAp",
        "outputId": "b91ddc16-7fb5-467c-f161-a250a097dbb2"
      },
      "execution_count": 13,
      "outputs": [
        {
          "output_type": "stream",
          "name": "stdout",
          "text": [
            "['Das Haus ist wunderbar.', 'Ich arbeite gerne in NYC.']\n"
          ]
        }
      ]
    },
    {
      "cell_type": "code",
      "source": [
        "# Test pour obtenir le token de l'id 0\n",
        "tokenizer.decode(0)"
      ],
      "metadata": {
        "colab": {
          "base_uri": "https://localhost:8080/",
          "height": 35
        },
        "id": "iWLsY6lHmEUA",
        "outputId": "6852076f-8dc6-491e-f6f3-1e632fd51829"
      },
      "execution_count": 16,
      "outputs": [
        {
          "output_type": "execute_result",
          "data": {
            "text/plain": [
              "'<pad>'"
            ],
            "application/vnd.google.colaboratory.intrinsic+json": {
              "type": "string"
            }
          },
          "metadata": {},
          "execution_count": 16
        }
      ]
    },
    {
      "cell_type": "code",
      "source": [
        "# Test pour obtenir le token de l'id 644\n",
        "tokenizer.decode(644)"
      ],
      "metadata": {
        "colab": {
          "base_uri": "https://localhost:8080/",
          "height": 35
        },
        "id": "PxUGVlj0mYGc",
        "outputId": "73200243-cb4e-4d69-af92-b32f328c35ef"
      },
      "execution_count": 17,
      "outputs": [
        {
          "output_type": "execute_result",
          "data": {
            "text/plain": [
              "'Das'"
            ],
            "application/vnd.google.colaboratory.intrinsic+json": {
              "type": "string"
            }
          },
          "metadata": {},
          "execution_count": 17
        }
      ]
    },
    {
      "cell_type": "markdown",
      "source": [
        "## **Training**"
      ],
      "metadata": {
        "id": "dWOxUwPnn9QF"
      }
    },
    {
      "cell_type": "markdown",
      "source": [
        "Cette partie permet d'orienter le modèle dans un domaine spécifique"
      ],
      "metadata": {
        "id": "pU06MBS9E9Jm"
      }
    },
    {
      "cell_type": "markdown",
      "source": [
        "### **Supervised method: Translation example**"
      ],
      "metadata": {
        "id": "ZwegIcYEqk6D"
      }
    },
    {
      "cell_type": "code",
      "source": [
        "# Importer le tokenizer et modèle T5\n",
        "from transformers import T5Tokenizer, T5ForConditionalGeneration\n",
        "\n",
        "# Charger le tokenizer et le modèle T5 pré-entraîné\n",
        "tokenizer = T5Tokenizer.from_pretrained(\"t5-small\")\n",
        "model = T5ForConditionalGeneration.from_pretrained(\"t5-small\")\n",
        "\n",
        "# Tokenizer le texte à traduire (on retourne seulement input_ids, pas attention_mask)\n",
        "input_ids = tokenizer(\"translate English to German: The house is wonderful.\", return_tensors=\"pt\").input_ids\n",
        "\n",
        "# Tokenizer la sortie escompter: la bonne traduction\n",
        "labels = tokenizer(\"Das Haus ist wunderbar.\", return_tensors=\"pt\").input_ids\n",
        "\n",
        "# Traduire le texte\n",
        "output = model(input_ids=input_ids, labels=labels)"
      ],
      "metadata": {
        "colab": {
          "base_uri": "https://localhost:8080/"
        },
        "id": "WynC2R89n_J-",
        "outputId": "e2319e69-4720-4d51-a656-d082aaff65aa"
      },
      "execution_count": 19,
      "outputs": [
        {
          "output_type": "stream",
          "name": "stderr",
          "text": [
            "Special tokens have been added in the vocabulary, make sure the associated word embeddings are fine-tuned or trained.\n"
          ]
        }
      ]
    },
    {
      "cell_type": "code",
      "source": [
        "# Type de sotie retourner par model\n",
        "type(output)"
      ],
      "metadata": {
        "colab": {
          "base_uri": "https://localhost:8080/"
        },
        "id": "VYHfxiYSoR1w",
        "outputId": "983d0593-e5c3-4de2-b880-2de1e2ad6566"
      },
      "execution_count": 21,
      "outputs": [
        {
          "output_type": "execute_result",
          "data": {
            "text/plain": [
              "transformers.modeling_outputs.Seq2SeqLMOutput"
            ]
          },
          "metadata": {},
          "execution_count": 21
        }
      ]
    },
    {
      "cell_type": "code",
      "source": [
        "# Les clés du dictionnaire de sortie\n",
        "output.keys()"
      ],
      "metadata": {
        "colab": {
          "base_uri": "https://localhost:8080/"
        },
        "id": "XWKxvtzWoaha",
        "outputId": "cea3cb90-e3b0-46e1-9b31-d52393850b5a"
      },
      "execution_count": 23,
      "outputs": [
        {
          "output_type": "execute_result",
          "data": {
            "text/plain": [
              "odict_keys(['loss', 'logits', 'past_key_values', 'encoder_last_hidden_state'])"
            ]
          },
          "metadata": {},
          "execution_count": 23
        }
      ]
    },
    {
      "cell_type": "code",
      "source": [
        "# Les logits sont les sorties de prédictions, qui correspond à une séquence avec des vecteurs de taille, la taille du vocabulaire\n",
        "output.logits.shape"
      ],
      "metadata": {
        "colab": {
          "base_uri": "https://localhost:8080/"
        },
        "id": "gBxo8uq9orDx",
        "outputId": "25331e1d-c7cb-40ef-d077-f8de026a0fe6"
      },
      "execution_count": 24,
      "outputs": [
        {
          "output_type": "execute_result",
          "data": {
            "text/plain": [
              "torch.Size([1, 6, 32128])"
            ]
          },
          "metadata": {},
          "execution_count": 24
        }
      ]
    },
    {
      "cell_type": "code",
      "source": [
        "# La loss (entropy dans ce cas)\n",
        "output.loss"
      ],
      "metadata": {
        "colab": {
          "base_uri": "https://localhost:8080/"
        },
        "id": "-aLNw9wQo60T",
        "outputId": "dbab91e2-0150-45f0-853c-6c5791689c18"
      },
      "execution_count": 28,
      "outputs": [
        {
          "output_type": "execute_result",
          "data": {
            "text/plain": [
              "tensor(0.2542, grad_fn=<NllLossBackward0>)"
            ]
          },
          "metadata": {},
          "execution_count": 28
        }
      ]
    },
    {
      "cell_type": "code",
      "source": [
        "# Exemple d'entrainement du modèle (code complet)\n",
        "from transformers import T5Tokenizer, T5ForConditionalGeneration, AdamW\n",
        "\n",
        "# Charger le tokenizer et le modèle\n",
        "tokenizer = T5Tokenizer.from_pretrained(\"t5-small\")\n",
        "model = T5ForConditionalGeneration.from_pretrained(\"t5-small\")\n",
        "\n",
        "# Créer un jeu de données\n",
        "source_texts = [\"translate English to German: The house is wonderful.\", ...]\n",
        "target_texts = [\"Das Haus ist wunderbar.\", ...]\n",
        "\n",
        "# Tokenizer les données\n",
        "tokenized_inputs = tokenizer(source_texts, return_tensors=\"pt\", padding=True, truncation=True)\n",
        "tokenized_labels = tokenizer(target_texts, return_tensors=\"pt\", padding=True, truncation=True)\n",
        "\n",
        "# Récupérer les ids\n",
        "input_ids = tokenized_inputs[\"input_ids\"]\n",
        "labels = tokenized_labels[\"input_ids\"]\n",
        "\n",
        "# Optimizer\n",
        "optimizer = AdamW(model.parameters(), lr=5e-5)\n",
        "\n",
        "# Entraîner le modèle\n",
        "num_epochs = 3\n",
        "for epoch in range(num_epochs):\n",
        "    model.train()\n",
        "\n",
        "    # Forward pass\n",
        "    outputs = model(input_ids=input_ids, labels=labels)\n",
        "    loss = outputs.loss\n",
        "\n",
        "    # Backward pass and optimization\n",
        "    optimizer.zero_grad()\n",
        "    loss.backward()\n",
        "    optimizer.step()\n",
        "\n",
        "    print(f'Epoch {epoch + 1}/{num_epochs}, Loss: {loss.item()}')\n",
        "\n",
        "# Sauvegarder le modèle\n",
        "model.save_pretrained(\"trained_t5_model\")\n"
      ],
      "metadata": {
        "id": "vEYtJZDnLgXC"
      },
      "execution_count": null,
      "outputs": []
    },
    {
      "cell_type": "markdown",
      "source": [
        "### **Unsupervised method with mask**"
      ],
      "metadata": {
        "id": "fC5NlV_fqpXY"
      }
    },
    {
      "cell_type": "code",
      "source": [
        "from transformers import T5Tokenizer, T5ForConditionalGeneration\n",
        "\n",
        "tokenizer = T5Tokenizer.from_pretrained(\"t5-small\")\n",
        "\n",
        "model = T5ForConditionalGeneration.from_pretrained(\"t5-small\")\n",
        "\n",
        "input_ids = tokenizer(\"The <extra_id_0> walks in <extra_id_1> park\", return_tensors=\"pt\").input_ids\n",
        "\n",
        "labels = tokenizer(\"<extra_id_0> cute dog <extra_id_1> the <extra_id_2>\", return_tensors=\"pt\").input_ids\n",
        "\n",
        "# the forward function automatically creates the correct decoder_input_ids\n",
        "\n",
        "loss = model(input_ids=input_ids, labels=labels).loss\n",
        "\n",
        "loss.item()"
      ],
      "metadata": {
        "colab": {
          "base_uri": "https://localhost:8080/"
        },
        "id": "uQvYqpNgqtK9",
        "outputId": "290fe617-1ac8-4511-ab56-c4805196a0eb"
      },
      "execution_count": 29,
      "outputs": [
        {
          "output_type": "stream",
          "name": "stderr",
          "text": [
            "Special tokens have been added in the vocabulary, make sure the associated word embeddings are fine-tuned or trained.\n"
          ]
        },
        {
          "output_type": "execute_result",
          "data": {
            "text/plain": [
              "3.7837319374084473"
            ]
          },
          "metadata": {},
          "execution_count": 29
        }
      ]
    },
    {
      "cell_type": "markdown",
      "source": [
        "# **GPT-1**"
      ],
      "metadata": {
        "id": "scDB6iK4v9Rk"
      }
    },
    {
      "cell_type": "markdown",
      "source": [
        "Pour tester le modèle, on peut utiliser l'application avec gradio: [GPT-1](https://huggingface.co/instruct-generalize/gpt-1)"
      ],
      "metadata": {
        "id": "5FYfdvjoP-T7"
      }
    },
    {
      "cell_type": "markdown",
      "source": [
        "# **GPT-2**"
      ],
      "metadata": {
        "id": "yiiGr2v7BgAh"
      }
    },
    {
      "cell_type": "markdown",
      "source": [
        "Tester le modèle sur, l'application gradio: [GPT-2](https://huggingface.co/gpt2)"
      ],
      "metadata": {
        "id": "VhsHu0IiQbP4"
      }
    },
    {
      "cell_type": "code",
      "source": [
        "# Installer la bibliothèque de HuggingFace transformers\n",
        "! pip install transformers"
      ],
      "metadata": {
        "colab": {
          "base_uri": "https://localhost:8080/"
        },
        "id": "lZuxbZnBBiJA",
        "outputId": "58d30630-cb67-469e-a11a-6b4fccecdcbc"
      },
      "execution_count": null,
      "outputs": [
        {
          "output_type": "stream",
          "name": "stdout",
          "text": [
            "Successfully installed huggingface-hub-0.17.3 safetensors-0.4.0 tokenizers-0.14.1 transformers-4.35.0\n"
          ]
        }
      ]
    },
    {
      "cell_type": "markdown",
      "source": [
        "## **Inference**"
      ],
      "metadata": {
        "id": "ShmditvrndcG"
      }
    },
    {
      "cell_type": "code",
      "source": [
        "# Importer la bibliothèque pipeline pour tester en inférence des modèles. set_seed permet d'avoir les mêmes résultats\n",
        "from transformers import pipeline, set_seed\n",
        "\n",
        "# Charger le modèle gpt-2\n",
        "generator = pipeline('text-generation', model='gpt2')\n",
        "\n",
        "# Fixer l'aléatoire\n",
        "set_seed(42)\n",
        "\n",
        "# Générer 5 textes, de taille maximale égale à 30, en prenant pour contexte  \"Hello, I'm a language model,\"\n",
        "generator(\"Hello, I'm a language model,\", max_length=30, num_return_sequences=5)\n"
      ],
      "metadata": {
        "colab": {
          "base_uri": "https://localhost:8080/",
          "height": 313,
          "referenced_widgets": [
            "1a68370eca764ffd988193b301b45d8d",
            "8e745e4e375e40cfa7081b11ccb18b0e",
            "65d3dc3dc8084c799ab528a139728283",
            "436063960b4848b1b4437b2d0dbfc9eb",
            "6af803fb7f6f442db995d66401e76144",
            "8250911406e947feb92c9f751297883d",
            "efe8794b719d4542a855a0a7ab9e0029",
            "ae0eee6f48714802ab9c0351c28d68d9",
            "ba7c4b681fc3445db58ca590cac28699",
            "a4040b3c806042d3a45b73a972fe906c",
            "678899aa556d452fa2f4e0959958f0c9",
            "aac45486d30346a58037d13858a336a0",
            "814b5fc52f994ed7a561d689f3bbb474",
            "aafb9e4bfe144582bbcebf31a8545d3d",
            "0e6c0e1c354142649da5db79484d8b0d",
            "afbf3c97b1734370b36910386d899de4",
            "253fa2bb4c5b4c039bdead1df815a300",
            "fb44d09a090340f9aebdf18d4b031c90",
            "be8a5a56958047e1958738416c07cd4b",
            "c0a4d81a895b48ab990d98757c26a1aa",
            "1c704e4b1d06469aa617c9652b01de8a",
            "f1c5056598444000a0311caacb8f39d9",
            "e58385f283b74a10bd4162dded26850c",
            "87a3a0b3cae84c35af36ff6821729bc4",
            "06863ac7890f4f81b2cb78a42fa6e0b9",
            "13984dba66bd46efa70ce579cce38f12",
            "6ea7d4ef5553426fbefa3af9f7401150",
            "2ef0b32f8dc547ad8fac5bad657950e1",
            "f834cc8d1ee04f9ca500e478828ca4e6",
            "2e338523d49b4ea49dfb76cf98e34a1e",
            "84cf58d318b6440992dbeac212a49a3e",
            "84508d4f1f354c9a83c7cf852715fb46",
            "b872e4c663d14c66b59e3d1a15a1f049",
            "0298bc2ce0d54b38908fc7dc4b9edb08",
            "4366475939f34ea28e04bcce7526fe41",
            "823557227ffb44e9a68532ac9bc19b59",
            "3004d1f3be3e42a8919689330249b65b",
            "8a7119b0dd3f4890956e1f0feb2478b3",
            "34bfc48150b648b89ff9058e58914585",
            "20c46e0adc914d42812a3350bd22e890",
            "774a796341594839a28af4d6285202b4",
            "e3d0e22e5b4940cda94dd0cc192f76aa",
            "2896845c6e444bd69de9985d435249a4",
            "8d5f20fedc93498e906fb1279ba8451a",
            "57f40e5e17944d3885e06315561e316f",
            "b67284c58d1c4d96af7495984ff89f65",
            "f8f8d7431d024ea8a9421dc84dcc28d0",
            "76c831f38b71437f89743225a7e520a0",
            "9638e0d1841b4a13a475af9a063dee75",
            "43d2d80efe1f48028a7ca42b82578600",
            "e0ba3a3bf9df4adb8d09787f853701a3",
            "43c073ac59bf49649e27e7c48062f7dd",
            "011154e06ec94838af25a988ef8b7a47",
            "b727a07769ab46a7909f2220ffbff7eb",
            "585ed16d45664a1aa33bbabfaf47a937",
            "76cb5600ff6943fdb4e0f9c5abb71e32",
            "569f30bb317c4610a898524af7b77c74",
            "c8e92be971024e6380f86b500cf28da6",
            "308c30a751bf4c9eb04db14054bfcd81",
            "1e0936cf62f44c02becc745855ff8847",
            "373667c504944edebbd85431d8be5938",
            "0ecd6936ec6e491aa96c110f45407fb7",
            "ed1afa1e5fe34cbd8fce1b550bc4f62f",
            "4efea340bb46402fab20e6e94fd9365d",
            "c7993e0b54f043bd9b684e5cb71273cf",
            "a998cfc751e44af4bd7befa7753afe8c"
          ]
        },
        "id": "iDLHngainiGd",
        "outputId": "03103a06-fc88-4b6e-f33a-4ed0f575d0d3"
      },
      "execution_count": 34,
      "outputs": [
        {
          "output_type": "display_data",
          "data": {
            "text/plain": [
              "config.json:   0%|          | 0.00/665 [00:00<?, ?B/s]"
            ],
            "application/vnd.jupyter.widget-view+json": {
              "version_major": 2,
              "version_minor": 0,
              "model_id": "1a68370eca764ffd988193b301b45d8d"
            }
          },
          "metadata": {}
        },
        {
          "output_type": "display_data",
          "data": {
            "text/plain": [
              "model.safetensors:   0%|          | 0.00/548M [00:00<?, ?B/s]"
            ],
            "application/vnd.jupyter.widget-view+json": {
              "version_major": 2,
              "version_minor": 0,
              "model_id": "aac45486d30346a58037d13858a336a0"
            }
          },
          "metadata": {}
        },
        {
          "output_type": "display_data",
          "data": {
            "text/plain": [
              "generation_config.json:   0%|          | 0.00/124 [00:00<?, ?B/s]"
            ],
            "application/vnd.jupyter.widget-view+json": {
              "version_major": 2,
              "version_minor": 0,
              "model_id": "e58385f283b74a10bd4162dded26850c"
            }
          },
          "metadata": {}
        },
        {
          "output_type": "display_data",
          "data": {
            "text/plain": [
              "vocab.json:   0%|          | 0.00/1.04M [00:00<?, ?B/s]"
            ],
            "application/vnd.jupyter.widget-view+json": {
              "version_major": 2,
              "version_minor": 0,
              "model_id": "0298bc2ce0d54b38908fc7dc4b9edb08"
            }
          },
          "metadata": {}
        },
        {
          "output_type": "display_data",
          "data": {
            "text/plain": [
              "merges.txt:   0%|          | 0.00/456k [00:00<?, ?B/s]"
            ],
            "application/vnd.jupyter.widget-view+json": {
              "version_major": 2,
              "version_minor": 0,
              "model_id": "57f40e5e17944d3885e06315561e316f"
            }
          },
          "metadata": {}
        },
        {
          "output_type": "display_data",
          "data": {
            "text/plain": [
              "tokenizer.json:   0%|          | 0.00/1.36M [00:00<?, ?B/s]"
            ],
            "application/vnd.jupyter.widget-view+json": {
              "version_major": 2,
              "version_minor": 0,
              "model_id": "76cb5600ff6943fdb4e0f9c5abb71e32"
            }
          },
          "metadata": {}
        },
        {
          "output_type": "stream",
          "name": "stderr",
          "text": [
            "Setting `pad_token_id` to `eos_token_id`:50256 for open-end generation.\n"
          ]
        },
        {
          "output_type": "execute_result",
          "data": {
            "text/plain": [
              "[{'generated_text': \"Hello, I'm a language model, but what I'm really doing is making a human-readable document. There are other languages, but those are\"},\n",
              " {'generated_text': \"Hello, I'm a language model, not a syntax model. That's why I like it. I've done a lot of programming projects.\\n\"},\n",
              " {'generated_text': \"Hello, I'm a language model, and I'll do it in no time!\\n\\nOne of the things we learned from talking to my friend\"},\n",
              " {'generated_text': \"Hello, I'm a language model, not a command line tool.\\n\\nIf my code is simple enough:\\n\\nif (use (string\"},\n",
              " {'generated_text': \"Hello, I'm a language model, I've been using Language in all my work. Just a small example, let's see a simplified example.\"}]"
            ]
          },
          "metadata": {},
          "execution_count": 34
        }
      ]
    },
    {
      "cell_type": "markdown",
      "source": [
        "## **Training**"
      ],
      "metadata": {
        "id": "lSq3KzL7npyv"
      }
    },
    {
      "cell_type": "markdown",
      "source": [
        "Cette approche permet aux développeur d'orienter le modèle vers un domaine précis."
      ],
      "metadata": {
        "id": "AIwrMk_DSFY5"
      }
    },
    {
      "cell_type": "code",
      "source": [
        "# Importer le modèle GPT-2 et son tokenizer\n",
        "from transformers import GPT2Tokenizer, GPT2Model\n",
        "\n",
        "# Charger le modèle GPT-2 et le tokenizer\n",
        "tokenizer = GPT2Tokenizer.from_pretrained('gpt2')\n",
        "model = GPT2Model.from_pretrained('gpt2')"
      ],
      "metadata": {
        "id": "b0g2gqa_n6CZ"
      },
      "execution_count": 43,
      "outputs": []
    },
    {
      "cell_type": "code",
      "source": [
        "# Prendre un texte pour exemple\n",
        "text = \"Replace me by any text you'd like.\""
      ],
      "metadata": {
        "id": "Wem2zgKZoH4A"
      },
      "execution_count": 30,
      "outputs": []
    },
    {
      "cell_type": "code",
      "source": [
        "# Tokenizer le texte d'exemple, pour les développeur tensorflow, on peut remplacer 'pt' par 'tf' pour avoir un tf.Tensor en sortie\n",
        "encoded_input = tokenizer(text, return_tensors='pt')\n",
        "encoded_input"
      ],
      "metadata": {
        "colab": {
          "base_uri": "https://localhost:8080/"
        },
        "id": "XuLU80qBoMHF",
        "outputId": "9acd665e-e185-41af-f3fb-983be0eb3d34"
      },
      "execution_count": 31,
      "outputs": [
        {
          "output_type": "execute_result",
          "data": {
            "text/plain": [
              "{'input_ids': tensor([[3041, 5372,  502,  416,  597, 2420,  345, 1549,  588,   13]]), 'attention_mask': tensor([[1, 1, 1, 1, 1, 1, 1, 1, 1, 1]])}"
            ]
          },
          "metadata": {},
          "execution_count": 31
        }
      ]
    },
    {
      "cell_type": "markdown",
      "source": [
        "**input_ids :**<br>\n",
        "    Il s'agit d'une séquence d'identifiants numériques qui représentent les mots ou les tokens dans le texte d'entrée. Chaque mot ou token est encodé sous forme d'un identifiant unique dans le vocabulaire du modèle. Dans votre exemple, la séquence d'input_ids est [3041, 5372, 502, 416, 597, 2420, 345, 1549, 588, 13].\n",
        "\n",
        "**attention_mask :**<br>\n",
        "    Il s'agit d'un masque binaire qui indique au modèle quels tokens dans la séquence d'entrée doivent être pris en compte et quels tokens doivent être ignorés lors du calcul des représentations. Un \"1\" dans le masque signifie que le token correspondant dans la séquence d'input_ids doit être pris en compte, tandis qu'un \"0\" signifie que le token doit être ignoré. Dans votre exemple, le masque d'attention est [1, 1, 1, 1, 1, 1, 1, 1, 1, 1], ce qui signifie que tous les tokens de la séquence d'input_ids doivent être pris en compte."
      ],
      "metadata": {
        "id": "eOwGWeQRxSQR"
      }
    },
    {
      "cell_type": "code",
      "source": [
        "# Afficher la taille du vocabulaire d'entraînement\n",
        "tokenizer.vocab_size"
      ],
      "metadata": {
        "colab": {
          "base_uri": "https://localhost:8080/"
        },
        "id": "PTrC8Hb2p85M",
        "outputId": "ba9541e5-c178-43d6-9658-20c90b917c5a"
      },
      "execution_count": null,
      "outputs": [
        {
          "output_type": "execute_result",
          "data": {
            "text/plain": [
              "50257"
            ]
          },
          "metadata": {},
          "execution_count": 12
        }
      ]
    },
    {
      "cell_type": "code",
      "source": [
        "# Encoder le texte\n",
        "output = model(**encoded_input)"
      ],
      "metadata": {
        "id": "PlghmiHgocMb"
      },
      "execution_count": 34,
      "outputs": []
    },
    {
      "cell_type": "code",
      "source": [
        "# Voir les clés du dictionnaire\n",
        "output.keys()"
      ],
      "metadata": {
        "colab": {
          "base_uri": "https://localhost:8080/"
        },
        "id": "MVts_a-gxMTO",
        "outputId": "4a248f0c-d716-4b3d-f6a2-70dfb4788067"
      },
      "execution_count": 45,
      "outputs": [
        {
          "output_type": "execute_result",
          "data": {
            "text/plain": [
              "odict_keys(['last_hidden_state', 'past_key_values'])"
            ]
          },
          "metadata": {},
          "execution_count": 45
        }
      ]
    },
    {
      "cell_type": "code",
      "source": [
        "# Voir la taille du dernier bloc du decoder\n",
        "output.last_hidden_state.shape"
      ],
      "metadata": {
        "colab": {
          "base_uri": "https://localhost:8080/"
        },
        "id": "-CXOKBSmT62C",
        "outputId": "0300030b-1e36-46c3-92d2-5dcd739dbaf6"
      },
      "execution_count": 35,
      "outputs": [
        {
          "output_type": "execute_result",
          "data": {
            "text/plain": [
              "torch.Size([1, 10, 768])"
            ]
          },
          "metadata": {},
          "execution_count": 35
        }
      ]
    },
    {
      "cell_type": "markdown",
      "source": [
        "Tout le modèle ne peuvent pas utiliser generate, pour utiliser generate avec cette approche, ça ne va pas marche, il faut utiliser un modèle qui a une tête de prédiction (**lm_head**) avec par exemple: GPT2Tokenizer, GPT2LMHeadModel (voir le code en bas."
      ],
      "metadata": {
        "id": "KH6Yk4A9W9-f"
      }
    },
    {
      "cell_type": "code",
      "source": [
        "import torch\n",
        "from transformers import GPT2Tokenizer, GPT2LMHeadModel\n",
        "\n",
        "# Charger le modèle GPT-2 et le tokenizer\n",
        "tokenizer = GPT2Tokenizer.from_pretrained('gpt2')\n",
        "model = GPT2LMHeadModel.from_pretrained('gpt2')\n",
        "\n",
        "# Texte d'entrée\n",
        "input_text = \"It is your,\"\n",
        "\n",
        "# Tokenization (tokenizer.encoder retourne uniquement input_ids, alors tokenizer retourne inputs_ids et attention_mask)\n",
        "input_ids = tokenizer.encode(input_text, return_tensors=\"pt\")\n",
        "\n",
        "# Génération\n",
        "output = model.generate(input_ids, max_new_tokens=100, do_sample=True, temperature=0.8, pad_token_id=model.config.eos_token_id)\n",
        "\n",
        "\n",
        "# Décodage de la sortie\n",
        "decoded_output = tokenizer.decode(output[0], skip_special_tokens=True)\n",
        "\n",
        "# Afficher le résultat\n",
        "print(decoded_output)\n"
      ],
      "metadata": {
        "colab": {
          "base_uri": "https://localhost:8080/"
        },
        "id": "WEfQ8MbsUhaH",
        "outputId": "708d5162-2f1f-405e-9515-3e86e08daad3"
      },
      "execution_count": 53,
      "outputs": [
        {
          "output_type": "stream",
          "name": "stdout",
          "text": [
            "It is your, it is yours. But to do the same for me, I need more than that. I need you to trust me, and I need you to find and let me know that you are mine. I have always been a man and a woman, and to have your support is a huge honor. Do not ever allow yourself to be treated like it is your own fault that I did not have a chance to live up to my name!\n",
            "\n",
            "And I want you to be able to tell me\n"
          ]
        }
      ]
    },
    {
      "cell_type": "code",
      "source": [
        "# On doit nécessaire avoir logits sur les keys pour pouvoir exploiter generate\n",
        "model(input_ids).keys()"
      ],
      "metadata": {
        "colab": {
          "base_uri": "https://localhost:8080/"
        },
        "id": "OrsMQcAwXdYl",
        "outputId": "b4de1999-6d53-4e64-a12c-5f0466bb6850"
      },
      "execution_count": 46,
      "outputs": [
        {
          "output_type": "execute_result",
          "data": {
            "text/plain": [
              "odict_keys(['logits', 'past_key_values'])"
            ]
          },
          "metadata": {},
          "execution_count": 46
        }
      ]
    },
    {
      "cell_type": "markdown",
      "source": [
        "# **GPT-3 and GPT-4**"
      ],
      "metadata": {
        "id": "nTeBEdLJxSUI"
      }
    },
    {
      "cell_type": "markdown",
      "source": [
        "A ma connaissance, le code n'est pas encore disponible sur des plateformes comme HuggingFace, mais pour faire des tests avec DALL-E (Génération d'images à partir de textes) et GPT-4 (communiquer en donnant en entrée du texte et/ou de l'image), on peut se connecter sur : [GPT](https://platform.openai.com/docs/overview)"
      ],
      "metadata": {
        "id": "xGAdIgt-afGt"
      }
    },
    {
      "cell_type": "markdown",
      "source": [
        "# **Other Chatbots to test**"
      ],
      "metadata": {
        "id": "lN3g-kvuZqlM"
      }
    },
    {
      "cell_type": "markdown",
      "source": [
        "On peut tester des chatbots autre que ChatGPT: [chatbots](https://24pm.com/intelligence-artificielle/ia-generative/965-les-llms-open-source-alternatifs-a-chatgpt-gpt)"
      ],
      "metadata": {
        "id": "lCuUmv_qbb_2"
      }
    },
    {
      "cell_type": "markdown",
      "source": [
        "# **Make ChatBot with GPT-2**"
      ],
      "metadata": {
        "id": "YdZ2tpN20zeb"
      }
    },
    {
      "cell_type": "code",
      "execution_count": null,
      "metadata": {
        "id": "Fgx9R_xw0zed"
      },
      "outputs": [],
      "source": [
        "# Install transformer package\n",
        "! pip install transformers"
      ]
    },
    {
      "cell_type": "code",
      "source": [
        "# Importer les packages nécessaires\n",
        "import os\n",
        "import csv\n",
        "import tensorflow as tf\n",
        "from transformers import TFGPT2LMHeadModel, GPT2Tokenizer, GPT2LMHeadModel\n",
        "import numpy as np\n",
        "\n",
        "import json\n",
        "import numpy as np\n",
        "import keras\n",
        "from keras.models import Sequential\n",
        "from keras.layers import Dense,Embedding,GlobalAveragePooling1D\n",
        "from keras.preprocessing.text import Tokenizer\n",
        "from keras.preprocessing.sequence import pad_sequences\n",
        "from sklearn.preprocessing import LabelEncoder"
      ],
      "metadata": {
        "id": "CfkexJzZ0zed"
      },
      "execution_count": 55,
      "outputs": []
    },
    {
      "cell_type": "markdown",
      "source": [
        "## **Load dataset**"
      ],
      "metadata": {
        "id": "9enCBoC9Mk-v"
      }
    },
    {
      "cell_type": "code",
      "source": [
        "# Charger le jeu de données\n",
        "with open('intents.json') as file:\n",
        "    data = json.load(file)\n"
      ],
      "metadata": {
        "id": "JAtryoHd0zef"
      },
      "execution_count": null,
      "outputs": []
    },
    {
      "cell_type": "code",
      "source": [
        "# Pour chaque question, on donne la réponse correspondante\n",
        "items = []\n",
        "for intent in data['intents']:\n",
        "    for patterns in intent['patterns']:\n",
        "        for responses in intent['responses']:\n",
        "            items.append((patterns, responses))\n",
        "\n",
        "items"
      ],
      "metadata": {
        "colab": {
          "base_uri": "https://localhost:8080/"
        },
        "outputId": "d7849881-ecd8-4ea9-ad6a-b28c1f0eb128",
        "id": "1vnecHCJ0zeg"
      },
      "execution_count": null,
      "outputs": [
        {
          "output_type": "execute_result",
          "data": {
            "text/plain": [
              "[('Hi there', 'Hello, thanks for asking'),\n",
              " ('Hi there', 'Good to see you again'),\n",
              " ('Hi there', 'Hi there, how can I help?'),\n",
              " ('How are you', 'Hello, thanks for asking'),\n",
              " ('How are you', 'Good to see you again'),\n",
              " ('How are you', 'Hi there, how can I help?'),\n",
              " ('Is anyone there?', 'Hello, thanks for asking'),\n",
              " ('Is anyone there?', 'Good to see you again'),\n",
              " ('Is anyone there?', 'Hi there, how can I help?'),\n",
              " ('Hey', 'Hello, thanks for asking'),\n",
              " ('Hey', 'Good to see you again'),\n",
              " ('Hey', 'Hi there, how can I help?'),\n",
              " ('Hola', 'Hello, thanks for asking'),\n",
              " ('Hola', 'Good to see you again'),\n",
              " ('Hola', 'Hi there, how can I help?'),\n",
              " ('Hello', 'Hello, thanks for asking'),\n",
              " ('Hello', 'Good to see you again'),\n",
              " ('Hello', 'Hi there, how can I help?'),\n",
              " ('Good day', 'Hello, thanks for asking'),\n",
              " ('Good day', 'Good to see you again'),\n",
              " ('Good day', 'Hi there, how can I help?'),\n",
              " ('Bye', 'See you!'),\n",
              " ('Bye', 'Have a nice day'),\n",
              " ('Bye', 'Bye! Come back again soon.'),\n",
              " ('See you later', 'See you!'),\n",
              " ('See you later', 'Have a nice day'),\n",
              " ('See you later', 'Bye! Come back again soon.'),\n",
              " ('Goodbye', 'See you!'),\n",
              " ('Goodbye', 'Have a nice day'),\n",
              " ('Goodbye', 'Bye! Come back again soon.'),\n",
              " ('Nice chatting to you, bye', 'See you!'),\n",
              " ('Nice chatting to you, bye', 'Have a nice day'),\n",
              " ('Nice chatting to you, bye', 'Bye! Come back again soon.'),\n",
              " ('Till next time', 'See you!'),\n",
              " ('Till next time', 'Have a nice day'),\n",
              " ('Till next time', 'Bye! Come back again soon.'),\n",
              " ('Thanks', 'Happy to help!'),\n",
              " ('Thanks', 'Any time!'),\n",
              " ('Thanks', 'My pleasure'),\n",
              " ('Thank you', 'Happy to help!'),\n",
              " ('Thank you', 'Any time!'),\n",
              " ('Thank you', 'My pleasure'),\n",
              " (\"That's helpful\", 'Happy to help!'),\n",
              " (\"That's helpful\", 'Any time!'),\n",
              " (\"That's helpful\", 'My pleasure'),\n",
              " ('Awesome, thanks', 'Happy to help!'),\n",
              " ('Awesome, thanks', 'Any time!'),\n",
              " ('Awesome, thanks', 'My pleasure'),\n",
              " ('Thanks for helping me', 'Happy to help!'),\n",
              " ('Thanks for helping me', 'Any time!'),\n",
              " ('Thanks for helping me', 'My pleasure'),\n",
              " ('How you could help me?',\n",
              "  'I can guide you through Adverse drug reaction list, Blood pressure tracking, Hospitals and Pharmacies'),\n",
              " ('How you could help me?',\n",
              "  'Offering support for Adverse drug reaction, Blood pressure, Hospitals and Pharmacies'),\n",
              " ('What you can do?',\n",
              "  'I can guide you through Adverse drug reaction list, Blood pressure tracking, Hospitals and Pharmacies'),\n",
              " ('What you can do?',\n",
              "  'Offering support for Adverse drug reaction, Blood pressure, Hospitals and Pharmacies'),\n",
              " ('What help you provide?',\n",
              "  'I can guide you through Adverse drug reaction list, Blood pressure tracking, Hospitals and Pharmacies'),\n",
              " ('What help you provide?',\n",
              "  'Offering support for Adverse drug reaction, Blood pressure, Hospitals and Pharmacies'),\n",
              " ('How you can be helpful?',\n",
              "  'I can guide you through Adverse drug reaction list, Blood pressure tracking, Hospitals and Pharmacies'),\n",
              " ('How you can be helpful?',\n",
              "  'Offering support for Adverse drug reaction, Blood pressure, Hospitals and Pharmacies'),\n",
              " ('What support is offered',\n",
              "  'I can guide you through Adverse drug reaction list, Blood pressure tracking, Hospitals and Pharmacies'),\n",
              " ('What support is offered',\n",
              "  'Offering support for Adverse drug reaction, Blood pressure, Hospitals and Pharmacies'),\n",
              " ('How to check Adverse drug reaction?',\n",
              "  'Navigating to Adverse drug reaction module'),\n",
              " ('Open adverse drugs module', 'Navigating to Adverse drug reaction module'),\n",
              " ('Give me a list of drugs causing adverse behavior',\n",
              "  'Navigating to Adverse drug reaction module'),\n",
              " ('List all drugs suitable for patient with adverse reaction',\n",
              "  'Navigating to Adverse drug reaction module'),\n",
              " ('Which drugs dont have adverse reaction?',\n",
              "  'Navigating to Adverse drug reaction module'),\n",
              " ('Open blood pressure module', 'Navigating to Blood Pressure module'),\n",
              " ('Task related to blood pressure', 'Navigating to Blood Pressure module'),\n",
              " ('Blood pressure data entry', 'Navigating to Blood Pressure module'),\n",
              " ('I want to log blood pressure results',\n",
              "  'Navigating to Blood Pressure module'),\n",
              " ('Blood pressure data management', 'Navigating to Blood Pressure module'),\n",
              " ('I want to search for blood pressure result history',\n",
              "  'Please provide Patient ID'),\n",
              " ('I want to search for blood pressure result history', 'Patient ID?'),\n",
              " ('Blood pressure for patient', 'Please provide Patient ID'),\n",
              " ('Blood pressure for patient', 'Patient ID?'),\n",
              " ('Load patient blood pressure result', 'Please provide Patient ID'),\n",
              " ('Load patient blood pressure result', 'Patient ID?'),\n",
              " ('Show blood pressure results for patient', 'Please provide Patient ID'),\n",
              " ('Show blood pressure results for patient', 'Patient ID?'),\n",
              " ('Find blood pressure results by ID', 'Please provide Patient ID'),\n",
              " ('Find blood pressure results by ID', 'Patient ID?'),\n",
              " ('Find me a pharmacy', 'Please provide pharmacy name'),\n",
              " ('Find pharmacy', 'Please provide pharmacy name'),\n",
              " ('List of pharmacies nearby', 'Please provide pharmacy name'),\n",
              " ('Locate pharmacy', 'Please provide pharmacy name'),\n",
              " ('Search pharmacy', 'Please provide pharmacy name'),\n",
              " ('Lookup for hospital', 'Please provide hospital name or location'),\n",
              " ('Searching for hospital to transfer patient',\n",
              "  'Please provide hospital name or location'),\n",
              " ('I want to search hospital data',\n",
              "  'Please provide hospital name or location'),\n",
              " ('Hospital lookup for patient', 'Please provide hospital name or location'),\n",
              " ('Looking up hospital details', 'Please provide hospital name or location')]"
            ]
          },
          "metadata": {},
          "execution_count": 85
        }
      ]
    },
    {
      "cell_type": "markdown",
      "source": [
        "## **Load model**"
      ],
      "metadata": {
        "id": "SdhyA7IvMoJH"
      }
    },
    {
      "cell_type": "code",
      "source": [
        "# Charger GPT-2 et son tokenizer\n",
        "tokenizer = GPT2Tokenizer.from_pretrained('gpt2', padding_side='left') # padding_side = \"left\" est obligatoire si on utilise padding sur le tokenizer\n",
        "model = TFGPT2LMHeadModel.from_pretrained('gpt2')"
      ],
      "metadata": {
        "colab": {
          "base_uri": "https://localhost:8080/"
        },
        "outputId": "623a5961-636f-47ab-a5b0-04ce0646f7d0",
        "id": "l2bcwCng0zeg"
      },
      "execution_count": 93,
      "outputs": [
        {
          "output_type": "stream",
          "name": "stderr",
          "text": [
            "All PyTorch model weights were used when initializing TFGPT2LMHeadModel.\n",
            "\n",
            "All the weights of TFGPT2LMHeadModel were initialized from the PyTorch model.\n",
            "If your task is similar to the task the model of the checkpoint was trained on, you can already use TFGPT2LMHeadModel for predictions without further training.\n"
          ]
        }
      ]
    },
    {
      "cell_type": "code",
      "source": [
        "# get_lm_head donne l'information que le modèle à une tête de prédiction et on peut utiliser generate\n",
        "model.get_lm_head"
      ],
      "metadata": {
        "colab": {
          "base_uri": "https://localhost:8080/"
        },
        "id": "woZV4qMcdtsZ",
        "outputId": "bf2bf3e0-b672-4a7c-fe4c-ddea2a409d76"
      },
      "execution_count": 63,
      "outputs": [
        {
          "output_type": "execute_result",
          "data": {
            "text/plain": [
              "<bound method TFPreTrainedModel.get_lm_head of <transformers.models.gpt2.modeling_tf_gpt2.TFGPT2LMHeadModel object at 0x7e68e40c6c80>>"
            ]
          },
          "metadata": {},
          "execution_count": 63
        }
      ]
    },
    {
      "cell_type": "code",
      "source": [
        "model.summary()"
      ],
      "metadata": {
        "colab": {
          "base_uri": "https://localhost:8080/"
        },
        "outputId": "37b6e344-a4cb-4809-c0ba-e0b54195c650",
        "id": "smHF91mK0zeg"
      },
      "execution_count": 64,
      "outputs": [
        {
          "output_type": "stream",
          "name": "stdout",
          "text": [
            "Model: \"tfgpt2lm_head_model\"\n",
            "_________________________________________________________________\n",
            " Layer (type)                Output Shape              Param #   \n",
            "=================================================================\n",
            " transformer (TFGPT2MainLay  multiple                  124439808 \n",
            " er)                                                             \n",
            "                                                                 \n",
            "=================================================================\n",
            "Total params: 124439808 (474.70 MB)\n",
            "Trainable params: 124439808 (474.70 MB)\n",
            "Non-trainable params: 0 (0.00 Byte)\n",
            "_________________________________________________________________\n"
          ]
        }
      ]
    },
    {
      "cell_type": "markdown",
      "source": [
        "## **Inference**"
      ],
      "metadata": {
        "id": "k4YVVis5MsYQ"
      }
    },
    {
      "cell_type": "code",
      "source": [
        "# token spécial qui permet d'arrêter la génération\n",
        "tokenizer.eos_token\n"
      ],
      "metadata": {
        "colab": {
          "base_uri": "https://localhost:8080/",
          "height": 35
        },
        "id": "oHF0Lm06rSFQ",
        "outputId": "41291df9-b55a-473c-ccd0-0ad2a9c493f9"
      },
      "execution_count": 65,
      "outputs": [
        {
          "output_type": "execute_result",
          "data": {
            "text/plain": [
              "'<|endoftext|>'"
            ],
            "application/vnd.google.colaboratory.intrinsic+json": {
              "type": "string"
            }
          },
          "metadata": {},
          "execution_count": 65
        }
      ]
    },
    {
      "cell_type": "code",
      "source": [
        "# Mettre le tokenizer de padding à eos\n",
        "tokenizer.pad_token = tokenizer.eos_token\n",
        "\n",
        "# Créer deux textes pour exemples\n",
        "text_list = [\"i am a man\", \"the boy is here but,\"]\n",
        "\n",
        "# Tokenizer les deux textes avec tensorflow\n",
        "tokenized_texts = tokenizer.batch_encode_plus(\n",
        "    text_list,\n",
        "    padding=True,        # Pad the sequences to the same length\n",
        "    truncation=True,     # Truncate sequences to a maximum length\n",
        "    return_tensors=\"tf\"  # Return tf\n",
        ")\n",
        "\n",
        "\n",
        "input_ids = tokenized_texts[\"input_ids\"]\n",
        "attention_mask = tokenized_texts[\"attention_mask\"]\n"
      ],
      "metadata": {
        "id": "A0R2sGm0pukB"
      },
      "execution_count": 94,
      "outputs": []
    },
    {
      "cell_type": "code",
      "source": [
        "# [50256, 50256,    72,   716,   257,   582] est complété avec 50256\n",
        "input_ids"
      ],
      "metadata": {
        "colab": {
          "base_uri": "https://localhost:8080/"
        },
        "id": "HeDMPM0LjmLV",
        "outputId": "e3ee3132-fe75-4adf-c0c4-07b025fdf62d"
      },
      "execution_count": 95,
      "outputs": [
        {
          "output_type": "execute_result",
          "data": {
            "text/plain": [
              "<tf.Tensor: shape=(2, 6), dtype=int32, numpy=\n",
              "array([[50256, 50256,    72,   716,   257,   582],\n",
              "       [ 1169,  2933,   318,   994,   475,    11]], dtype=int32)>"
            ]
          },
          "metadata": {},
          "execution_count": 95
        }
      ]
    },
    {
      "cell_type": "code",
      "source": [
        "# 0 pour ne pas tenir en compte les deux premiers tokens du premier vecteur\n",
        "attention_mask"
      ],
      "metadata": {
        "colab": {
          "base_uri": "https://localhost:8080/"
        },
        "id": "1ujQnqpQjqxJ",
        "outputId": "10891c82-6853-4c89-c67b-691fbcfb0626"
      },
      "execution_count": 96,
      "outputs": [
        {
          "output_type": "execute_result",
          "data": {
            "text/plain": [
              "<tf.Tensor: shape=(2, 6), dtype=int32, numpy=\n",
              "array([[0, 0, 1, 1, 1, 1],\n",
              "       [1, 1, 1, 1, 1, 1]], dtype=int32)>"
            ]
          },
          "metadata": {},
          "execution_count": 96
        }
      ]
    },
    {
      "cell_type": "code",
      "source": [
        "# Taille du vocabulaire\n",
        "tokenizer.vocab_size"
      ],
      "metadata": {
        "colab": {
          "base_uri": "https://localhost:8080/"
        },
        "id": "0ADsV998MY6k",
        "outputId": "4c85764b-698b-48e3-d8b4-a237e28109fe"
      },
      "execution_count": 74,
      "outputs": [
        {
          "output_type": "execute_result",
          "data": {
            "text/plain": [
              "50257"
            ]
          },
          "metadata": {},
          "execution_count": 74
        }
      ]
    },
    {
      "cell_type": "code",
      "source": [
        "# Prédire les ids avec generate\n",
        "output_ids = model.generate(input_ids, max_length=50, num_return_sequences=1, pad_token_id=tokenizer.eos_token_id)"
      ],
      "metadata": {
        "id": "SqVvgcYPrnfk"
      },
      "execution_count": 97,
      "outputs": []
    },
    {
      "cell_type": "code",
      "source": [
        "output_ids"
      ],
      "metadata": {
        "colab": {
          "base_uri": "https://localhost:8080/"
        },
        "id": "SpJFTawmLdgF",
        "outputId": "954b7960-c9d4-45e5-de04-5ab374742a16"
      },
      "execution_count": 98,
      "outputs": [
        {
          "output_type": "execute_result",
          "data": {
            "text/plain": [
              "<tf.Tensor: shape=(2, 50), dtype=int32, numpy=\n",
              "array([[50256, 50256,    72,   716,   257,   582,   508,   468,   587,\n",
              "          257,   636,   286,   262,   995,   329,   625,  1542,   812,\n",
              "           13,   314,   423,   587,   257,   636,   286,   262,   995,\n",
              "          329,   625,  1542,   812,    13,   314,   423,   587,   257,\n",
              "          636,   286,   262,   995,   329,   625,  1542,   812,    13,\n",
              "          314,   423,   587,   257,   636],\n",
              "       [ 1169,  2933,   318,   994,   475,    11,   314,  1101,   407,\n",
              "         1654,   611,   339,   338,  1016,   284,   307,  1498,   284,\n",
              "          466,   340,    13,   314,  1101,   407,  1654,   611,   339,\n",
              "          338,  1016,   284,   307,  1498,   284,   466,   340,    13,\n",
              "          314,  1101,   407,  1654,   611,   339,   338,  1016,   284,\n",
              "          307,  1498,   284,   466,   340]], dtype=int32)>"
            ]
          },
          "metadata": {},
          "execution_count": 98
        }
      ]
    },
    {
      "cell_type": "code",
      "source": [
        "# Decoder la génération du premier texte\n",
        "generated_text = tokenizer.decode(output_ids[0], skip_special_tokens=True)\n",
        "print(generated_text)"
      ],
      "metadata": {
        "colab": {
          "base_uri": "https://localhost:8080/"
        },
        "id": "9zP3o78GLbbt",
        "outputId": "282e4c94-8c7a-4ec5-aadf-8521159088f5"
      },
      "execution_count": 99,
      "outputs": [
        {
          "output_type": "stream",
          "name": "stdout",
          "text": [
            "i am a man who has been a part of the world for over 30 years. I have been a part of the world for over 30 years. I have been a part of the world for over 30 years. I have been a part\n"
          ]
        }
      ]
    },
    {
      "cell_type": "code",
      "source": [
        "# Decoder la génération du deuxième texte\n",
        "generated_text = tokenizer.decode(output_ids[1], skip_special_tokens=True)\n",
        "print(generated_text)"
      ],
      "metadata": {
        "colab": {
          "base_uri": "https://localhost:8080/"
        },
        "id": "5ZKozVwQmdEm",
        "outputId": "3fa44fc6-4e0d-458a-f272-57a152c844a8"
      },
      "execution_count": 100,
      "outputs": [
        {
          "output_type": "stream",
          "name": "stdout",
          "text": [
            "the boy is here but, I'm not sure if he's going to be able to do it. I'm not sure if he's going to be able to do it. I'm not sure if he's going to be able to do it\n"
          ]
        }
      ]
    },
    {
      "cell_type": "markdown",
      "source": [
        "## **Test training**"
      ],
      "metadata": {
        "id": "nuTraqbMNB37"
      }
    },
    {
      "cell_type": "code",
      "source": [
        "tokenizer.pad_token = tokenizer.eos_token\n",
        "\n",
        "text_list = [\"i am a man\", \"the boy is here\"]\n",
        "\n",
        "\n",
        "tokenized_texts = tokenizer.batch_encode_plus(\n",
        "    text_list,\n",
        "    padding=True,        # Pad the sequences to the same length\n",
        "    truncation=True,     # Truncate sequences to a maximum length\n",
        "    return_tensors=\"tf\"  # Return tf\n",
        ")\n",
        "\n",
        "input_ids = tokenized_texts[\"input_ids\"]\n",
        "attention_mask = tokenized_texts[\"attention_mask\"]"
      ],
      "metadata": {
        "id": "NCbpMfNBNLhL"
      },
      "execution_count": 101,
      "outputs": []
    },
    {
      "cell_type": "code",
      "source": [
        "input_ids"
      ],
      "metadata": {
        "colab": {
          "base_uri": "https://localhost:8080/"
        },
        "id": "B_xs-cogrccP",
        "outputId": "de3c1e39-df4f-48a6-a352-70ee754787f6"
      },
      "execution_count": 102,
      "outputs": [
        {
          "output_type": "execute_result",
          "data": {
            "text/plain": [
              "<tf.Tensor: shape=(2, 4), dtype=int32, numpy=\n",
              "array([[  72,  716,  257,  582],\n",
              "       [1169, 2933,  318,  994]], dtype=int32)>"
            ]
          },
          "metadata": {},
          "execution_count": 102
        }
      ]
    },
    {
      "cell_type": "code",
      "source": [
        "dec_output = model(input_ids)"
      ],
      "metadata": {
        "id": "n10npsTiLx8C"
      },
      "execution_count": 103,
      "outputs": []
    },
    {
      "cell_type": "code",
      "source": [
        "dec_output.keys()"
      ],
      "metadata": {
        "colab": {
          "base_uri": "https://localhost:8080/"
        },
        "id": "3bJ8UakAMGPM",
        "outputId": "471448d3-d78a-4873-8538-263ce01dcb81"
      },
      "execution_count": 104,
      "outputs": [
        {
          "output_type": "execute_result",
          "data": {
            "text/plain": [
              "odict_keys(['logits', 'past_key_values'])"
            ]
          },
          "metadata": {},
          "execution_count": 104
        }
      ]
    },
    {
      "cell_type": "code",
      "source": [
        "dec_output['logits'].shape"
      ],
      "metadata": {
        "colab": {
          "base_uri": "https://localhost:8080/"
        },
        "id": "1V2wY1YiMKbE",
        "outputId": "656ce515-43e3-443a-d700-4c2330cfdc8d"
      },
      "execution_count": 105,
      "outputs": [
        {
          "output_type": "execute_result",
          "data": {
            "text/plain": [
              "TensorShape([2, 4, 50257])"
            ]
          },
          "metadata": {},
          "execution_count": 105
        }
      ]
    },
    {
      "cell_type": "markdown",
      "source": [
        "## **Create the chatbot**"
      ],
      "metadata": {
        "id": "6g9_RXBhNrxk"
      }
    },
    {
      "cell_type": "code",
      "source": [
        "# Séparer les inputs et outputs\n",
        "input_ids = []\n",
        "output_ids = []\n",
        "for item in items:\n",
        "    input_ids.append(item[0])\n",
        "    output_ids.append(item[1])"
      ],
      "metadata": {
        "id": "6-f5OFOR0zeh"
      },
      "execution_count": null,
      "outputs": []
    },
    {
      "cell_type": "code",
      "source": [
        "# Afficher input\n",
        "input_ids[:10]"
      ],
      "metadata": {
        "colab": {
          "base_uri": "https://localhost:8080/"
        },
        "outputId": "936f1afe-63fb-4913-bdea-7bfd925cffcd",
        "id": "CEhVFvfM0zeh"
      },
      "execution_count": null,
      "outputs": [
        {
          "output_type": "execute_result",
          "data": {
            "text/plain": [
              "['Hi there',\n",
              " 'Hi there',\n",
              " 'Hi there',\n",
              " 'How are you',\n",
              " 'How are you',\n",
              " 'How are you',\n",
              " 'Is anyone there?',\n",
              " 'Is anyone there?',\n",
              " 'Is anyone there?',\n",
              " 'Hey']"
            ]
          },
          "metadata": {},
          "execution_count": 87
        }
      ]
    },
    {
      "cell_type": "code",
      "source": [
        "# Afficher output\n",
        "output_ids[:10]"
      ],
      "metadata": {
        "colab": {
          "base_uri": "https://localhost:8080/"
        },
        "outputId": "c16988fc-8c83-4e27-9bce-0ff29d329b62",
        "id": "F7_oh4z60zei"
      },
      "execution_count": null,
      "outputs": [
        {
          "output_type": "execute_result",
          "data": {
            "text/plain": [
              "['Hello, thanks for asking',\n",
              " 'Good to see you again',\n",
              " 'Hi there, how can I help?',\n",
              " 'Hello, thanks for asking',\n",
              " 'Good to see you again',\n",
              " 'Hi there, how can I help?',\n",
              " 'Hello, thanks for asking',\n",
              " 'Good to see you again',\n",
              " 'Hi there, how can I help?',\n",
              " 'Hello, thanks for asking']"
            ]
          },
          "metadata": {},
          "execution_count": 88
        }
      ]
    },
    {
      "cell_type": "code",
      "source": [
        "len(output_ids)"
      ],
      "metadata": {
        "colab": {
          "base_uri": "https://localhost:8080/"
        },
        "id": "0At9J14huTgZ",
        "outputId": "45c309bf-a36c-4ec6-ddf3-999be0894953"
      },
      "execution_count": null,
      "outputs": [
        {
          "output_type": "execute_result",
          "data": {
            "text/plain": [
              "91"
            ]
          },
          "metadata": {},
          "execution_count": 67
        }
      ]
    },
    {
      "cell_type": "code",
      "source": [
        "# Tokonizer les inputs et outputs\n",
        "tokenizer.pad_token = tokenizer.eos_token\n",
        "input_ids = tokenizer.batch_encode_plus(\n",
        "    input_ids,\n",
        "    padding='max_length',\n",
        "    max_length=20,        # Pad the sequences to the same length\n",
        "    truncation=True,     # Truncate sequences to a maximum length\n",
        "    return_tensors=\"tf\"  # Return tf\n",
        ")\n",
        "input_ids = input_ids[\"input_ids\"]\n",
        "output_ids = tokenizer.batch_encode_plus(\n",
        "    output_ids,\n",
        "    padding='max_length',\n",
        "    max_length=20,\n",
        "    truncation=True,     # Truncate sequences to a maximum length\n",
        "    return_tensors=\"tf\"  # Return tf\n",
        ")\n",
        "output_ids = output_ids[\"input_ids\"]"
      ],
      "metadata": {
        "id": "NInofpYm0zei"
      },
      "execution_count": null,
      "outputs": []
    },
    {
      "cell_type": "code",
      "source": [
        "# Afficher le vocabulaire\n",
        "tokenizer.vocab_size"
      ],
      "metadata": {
        "colab": {
          "base_uri": "https://localhost:8080/"
        },
        "outputId": "cee19e56-8d1d-464f-c7a4-74ec1bf9d6e1",
        "id": "bdT6k1WS0zek"
      },
      "execution_count": null,
      "outputs": [
        {
          "output_type": "execute_result",
          "data": {
            "text/plain": [
              "50257"
            ]
          },
          "metadata": {},
          "execution_count": 91
        }
      ]
    },
    {
      "cell_type": "code",
      "source": [
        "input_ids[:10]"
      ],
      "metadata": {
        "colab": {
          "base_uri": "https://localhost:8080/"
        },
        "outputId": "a7ad7605-c621-42dc-f206-3e54c00a518b",
        "id": "-yCBhq2s0zek"
      },
      "execution_count": null,
      "outputs": [
        {
          "output_type": "execute_result",
          "data": {
            "text/plain": [
              "<tf.Tensor: shape=(10, 20), dtype=int32, numpy=\n",
              "array([[17250,   612, 50256, 50256, 50256, 50256, 50256, 50256, 50256,\n",
              "        50256, 50256, 50256, 50256, 50256, 50256, 50256, 50256, 50256,\n",
              "        50256, 50256],\n",
              "       [17250,   612, 50256, 50256, 50256, 50256, 50256, 50256, 50256,\n",
              "        50256, 50256, 50256, 50256, 50256, 50256, 50256, 50256, 50256,\n",
              "        50256, 50256],\n",
              "       [17250,   612, 50256, 50256, 50256, 50256, 50256, 50256, 50256,\n",
              "        50256, 50256, 50256, 50256, 50256, 50256, 50256, 50256, 50256,\n",
              "        50256, 50256],\n",
              "       [ 2437,   389,   345, 50256, 50256, 50256, 50256, 50256, 50256,\n",
              "        50256, 50256, 50256, 50256, 50256, 50256, 50256, 50256, 50256,\n",
              "        50256, 50256],\n",
              "       [ 2437,   389,   345, 50256, 50256, 50256, 50256, 50256, 50256,\n",
              "        50256, 50256, 50256, 50256, 50256, 50256, 50256, 50256, 50256,\n",
              "        50256, 50256],\n",
              "       [ 2437,   389,   345, 50256, 50256, 50256, 50256, 50256, 50256,\n",
              "        50256, 50256, 50256, 50256, 50256, 50256, 50256, 50256, 50256,\n",
              "        50256, 50256],\n",
              "       [ 3792,  2687,   612,    30, 50256, 50256, 50256, 50256, 50256,\n",
              "        50256, 50256, 50256, 50256, 50256, 50256, 50256, 50256, 50256,\n",
              "        50256, 50256],\n",
              "       [ 3792,  2687,   612,    30, 50256, 50256, 50256, 50256, 50256,\n",
              "        50256, 50256, 50256, 50256, 50256, 50256, 50256, 50256, 50256,\n",
              "        50256, 50256],\n",
              "       [ 3792,  2687,   612,    30, 50256, 50256, 50256, 50256, 50256,\n",
              "        50256, 50256, 50256, 50256, 50256, 50256, 50256, 50256, 50256,\n",
              "        50256, 50256],\n",
              "       [10814, 50256, 50256, 50256, 50256, 50256, 50256, 50256, 50256,\n",
              "        50256, 50256, 50256, 50256, 50256, 50256, 50256, 50256, 50256,\n",
              "        50256, 50256]], dtype=int32)>"
            ]
          },
          "metadata": {},
          "execution_count": 81
        }
      ]
    },
    {
      "cell_type": "code",
      "source": [
        "input_ids.shape"
      ],
      "metadata": {
        "colab": {
          "base_uri": "https://localhost:8080/"
        },
        "outputId": "f0312671-93f9-4c6a-8f40-fcc3857393a2",
        "id": "-h2sViPc0zel"
      },
      "execution_count": null,
      "outputs": [
        {
          "output_type": "execute_result",
          "data": {
            "text/plain": [
              "TensorShape([91, 20])"
            ]
          },
          "metadata": {},
          "execution_count": 100
        }
      ]
    },
    {
      "cell_type": "code",
      "source": [
        "output_ids[:10]"
      ],
      "metadata": {
        "colab": {
          "base_uri": "https://localhost:8080/"
        },
        "outputId": "2a31bda1-ce9c-4eb2-d622-2e58a53f5003",
        "id": "s-w-IXkj0zel"
      },
      "execution_count": null,
      "outputs": [
        {
          "output_type": "execute_result",
          "data": {
            "text/plain": [
              "<tf.Tensor: shape=(10, 20), dtype=int32, numpy=\n",
              "array([[15496,    11,  5176,   329,  4737, 50256, 50256, 50256, 50256,\n",
              "        50256, 50256, 50256, 50256, 50256, 50256, 50256, 50256, 50256,\n",
              "        50256, 50256],\n",
              "       [10248,   284,   766,   345,   757, 50256, 50256, 50256, 50256,\n",
              "        50256, 50256, 50256, 50256, 50256, 50256, 50256, 50256, 50256,\n",
              "        50256, 50256],\n",
              "       [17250,   612,    11,   703,   460,   314,  1037,    30, 50256,\n",
              "        50256, 50256, 50256, 50256, 50256, 50256, 50256, 50256, 50256,\n",
              "        50256, 50256],\n",
              "       [15496,    11,  5176,   329,  4737, 50256, 50256, 50256, 50256,\n",
              "        50256, 50256, 50256, 50256, 50256, 50256, 50256, 50256, 50256,\n",
              "        50256, 50256],\n",
              "       [10248,   284,   766,   345,   757, 50256, 50256, 50256, 50256,\n",
              "        50256, 50256, 50256, 50256, 50256, 50256, 50256, 50256, 50256,\n",
              "        50256, 50256],\n",
              "       [17250,   612,    11,   703,   460,   314,  1037,    30, 50256,\n",
              "        50256, 50256, 50256, 50256, 50256, 50256, 50256, 50256, 50256,\n",
              "        50256, 50256],\n",
              "       [15496,    11,  5176,   329,  4737, 50256, 50256, 50256, 50256,\n",
              "        50256, 50256, 50256, 50256, 50256, 50256, 50256, 50256, 50256,\n",
              "        50256, 50256],\n",
              "       [10248,   284,   766,   345,   757, 50256, 50256, 50256, 50256,\n",
              "        50256, 50256, 50256, 50256, 50256, 50256, 50256, 50256, 50256,\n",
              "        50256, 50256],\n",
              "       [17250,   612,    11,   703,   460,   314,  1037,    30, 50256,\n",
              "        50256, 50256, 50256, 50256, 50256, 50256, 50256, 50256, 50256,\n",
              "        50256, 50256],\n",
              "       [15496,    11,  5176,   329,  4737, 50256, 50256, 50256, 50256,\n",
              "        50256, 50256, 50256, 50256, 50256, 50256, 50256, 50256, 50256,\n",
              "        50256, 50256]], dtype=int32)>"
            ]
          },
          "metadata": {},
          "execution_count": 82
        }
      ]
    },
    {
      "cell_type": "code",
      "source": [
        "# Définir la taille du batch\n",
        "batch_size = 16\n",
        "\n",
        "# Créer un générateur\n",
        "class CustomDataGenerator(tf.keras.utils.Sequence):\n",
        "    def __init__(self, input_ids, output_ids, batch_size, shuffle=True):\n",
        "        self.input_ids = input_ids\n",
        "        self.output_ids = output_ids\n",
        "        self.batch_size = batch_size\n",
        "        self.shuffle = shuffle\n",
        "        self.indices = np.arange(len(input_ids))\n",
        "        if self.shuffle:\n",
        "            np.random.shuffle(self.indices)\n",
        "\n",
        "    def __len__(self):\n",
        "        return int(np.ceil(len(self.input_ids) / self.batch_size))\n",
        "\n",
        "    def __getitem__(self, index):\n",
        "        batch_indices = self.indices[index * self.batch_size:(index + 1) * self.batch_size]\n",
        "        batch_input_ids = self.input_ids[batch_indices]\n",
        "        batch_output_ids = self.output_ids[batch_indices]\n",
        "\n",
        "        return (batch_input_ids, batch_output_ids)\n",
        "\n",
        "    def on_epoch_end(self):\n",
        "        if self.shuffle:\n",
        "            np.random.shuffle(self.indices)\n",
        "\n",
        "# Initialiser le générateur\n",
        "data_generator = CustomDataGenerator(input_ids, output_ids, batch_size)\n",
        "\n"
      ],
      "metadata": {
        "id": "CTQnYQpz0zel"
      },
      "execution_count": null,
      "outputs": []
    },
    {
      "cell_type": "code",
      "source": [
        "# Définir les paramètres d'apprentissage\n",
        "num_epochs = 5\n",
        "optimizer = tf.keras.optimizers.Adam(learning_rate=5e-5)\n",
        "learning_rate = tf.keras.optimizers.schedules.PolynomialDecay(\n",
        "    5e-4,\n",
        "    decay_steps=len(data_generator) * num_epochs,\n",
        "    end_learning_rate=0.0,\n",
        ")\n",
        "loss = tf.keras.losses.SparseCategoricalCrossentropy(from_logits=True)\n",
        "model.compile(\n",
        "    optimizer=tf.keras.optimizers.Adam(learning_rate),\n",
        "    loss=loss,\n",
        "    weighted_metrics=[\"accuracy\"],\n",
        ")"
      ],
      "metadata": {
        "id": "WNQ9Flez0zem"
      },
      "execution_count": null,
      "outputs": []
    },
    {
      "cell_type": "code",
      "source": [
        "# Entraîner le modèle\n",
        "model.fit(input_ids, output_ids, batch_size=batch_size,epochs=num_epochs)\n",
        "\n",
        "# Sauvegarder le modèle\n",
        "model.save_pretrained('chatbot_model')"
      ],
      "metadata": {
        "colab": {
          "base_uri": "https://localhost:8080/"
        },
        "outputId": "9ca5129b-a5a3-4d96-c4a2-3fafc11c5bea",
        "id": "kwXsyN_z0zem"
      },
      "execution_count": null,
      "outputs": [
        {
          "output_type": "stream",
          "name": "stdout",
          "text": [
            "Epoch 1/5\n",
            "6/6 [==============================] - 132s 14s/step - loss: 5.6413 - accuracy: 0.4429\n",
            "Epoch 2/5\n",
            "6/6 [==============================] - 65s 10s/step - loss: 2.3564 - accuracy: 0.6824\n",
            "Epoch 3/5\n",
            "6/6 [==============================] - 54s 9s/step - loss: 1.7913 - accuracy: 0.6874\n",
            "Epoch 4/5\n",
            "6/6 [==============================] - 56s 9s/step - loss: 1.5518 - accuracy: 0.6896\n",
            "Epoch 5/5\n",
            "6/6 [==============================] - 61s 10s/step - loss: 1.4492 - accuracy: 0.6951\n"
          ]
        }
      ]
    },
    {
      "cell_type": "code",
      "source": [
        "a = tokenizer.batch_encode_plus(\n",
        "    [\"hello\"],\n",
        "    padding=True,        # Pad the sequences to the same length\n",
        "    truncation=True,     # Truncate sequences to a maximum length\n",
        "    return_tensors=\"tf\"  # Return tf\n",
        ")['input_ids']"
      ],
      "metadata": {
        "id": "oJ81JJPMzPd2"
      },
      "execution_count": null,
      "outputs": []
    },
    {
      "cell_type": "code",
      "source": [
        "output_ids = model.generate(a, max_length=50, pad_token_id=tokenizer.eos_token_id, no_repeat_ngram_size=2)"
      ],
      "metadata": {
        "id": "ZhDVT3ZSzuNT"
      },
      "execution_count": null,
      "outputs": []
    },
    {
      "cell_type": "code",
      "source": [
        "tokenizer.decode(output_ids[0], skip_special_tokens=True)"
      ],
      "metadata": {
        "colab": {
          "base_uri": "https://localhost:8080/",
          "height": 36
        },
        "id": "fvehBw4y2QEh",
        "outputId": "31c2c831-b9d2-452a-9ea4-00a263f4c17a"
      },
      "execution_count": null,
      "outputs": [
        {
          "output_type": "execute_result",
          "data": {
            "text/plain": [
              "'how are you can provide you provide Adverseverse'"
            ],
            "application/vnd.google.colaboratory.intrinsic+json": {
              "type": "string"
            }
          },
          "metadata": {},
          "execution_count": 158
        }
      ]
    },
    {
      "cell_type": "code",
      "source": [
        "#tokenizer = GPT2Tokenizer.from_pretrained(\"gpt2\", padding_side=\"left\")\n",
        "#model = TFGPT2LMHeadModel.from_pretrained(\"chatbot_model\")\n",
        "#tokenizer.pad_token = tokenizer.eos_token\n",
        "\n",
        "def test():\n",
        "    while True:\n",
        "        input_text = input(\"User: \")\n",
        "        input_tokenized =  tokenizer.batch_encode_plus(\n",
        "                [input_text],\n",
        "                padding=True,        # Pad the sequences to the same length\n",
        "                truncation=True,     # Truncate sequences to a maximum length\n",
        "                return_tensors=\"tf\"  # Return tf\n",
        "        )\n",
        "        input_ids = input_tokenized['input_ids']\n",
        "\n",
        "        # Calculate the maximum length for generation based on the length of input_ids\n",
        "\n",
        "\n",
        "        output_ids = model.generate(input_ids, max_length=50, pad_token_id=tokenizer.eos_token_id, no_repeat_ngram_size=2)\n",
        "\n",
        "        output_text = tokenizer.decode(output_ids[0], skip_special_tokens=True)\n",
        "        print(\"Bot:\", output_text)\n"
      ],
      "metadata": {
        "id": "W8gfqnZ50zem"
      },
      "execution_count": null,
      "outputs": []
    },
    {
      "cell_type": "code",
      "source": [
        "test()"
      ],
      "metadata": {
        "colab": {
          "base_uri": "https://localhost:8080/",
          "height": 520
        },
        "id": "mpHOPM6R9WqE",
        "outputId": "08c539ac-d230-4ab4-ddfa-09a7c0b0a71e"
      },
      "execution_count": null,
      "outputs": [
        {
          "output_type": "stream",
          "name": "stdout",
          "text": [
            "User: hello\n",
            "Bot: helloHello\n",
            "User: Hi there\n",
            "Bot: Hi there to provide you provide Adverseverse\n",
            "User: how are you\n",
            "Bot: how are you can provide you provide Adverseverse\n",
            "User: no thanks\n",
            "Bot: no thanks!!\n",
            "User: how you could help me\n",
            "Bot: how you could help me provide Adverseverse Ad Ad\n"
          ]
        },
        {
          "output_type": "error",
          "ename": "KeyboardInterrupt",
          "evalue": "ignored",
          "traceback": [
            "\u001b[0;31m---------------------------------------------------------------------------\u001b[0m",
            "\u001b[0;31mKeyboardInterrupt\u001b[0m                         Traceback (most recent call last)",
            "\u001b[0;32m<ipython-input-164-fbd55f77ab7c>\u001b[0m in \u001b[0;36m<cell line: 1>\u001b[0;34m()\u001b[0m\n\u001b[0;32m----> 1\u001b[0;31m \u001b[0mtest\u001b[0m\u001b[0;34m(\u001b[0m\u001b[0;34m)\u001b[0m\u001b[0;34m\u001b[0m\u001b[0;34m\u001b[0m\u001b[0m\n\u001b[0m",
            "\u001b[0;32m<ipython-input-163-b192941af431>\u001b[0m in \u001b[0;36mtest\u001b[0;34m()\u001b[0m\n\u001b[1;32m      5\u001b[0m \u001b[0;32mdef\u001b[0m \u001b[0mtest\u001b[0m\u001b[0;34m(\u001b[0m\u001b[0;34m)\u001b[0m\u001b[0;34m:\u001b[0m\u001b[0;34m\u001b[0m\u001b[0;34m\u001b[0m\u001b[0m\n\u001b[1;32m      6\u001b[0m     \u001b[0;32mwhile\u001b[0m \u001b[0;32mTrue\u001b[0m\u001b[0;34m:\u001b[0m\u001b[0;34m\u001b[0m\u001b[0;34m\u001b[0m\u001b[0m\n\u001b[0;32m----> 7\u001b[0;31m         \u001b[0minput_text\u001b[0m \u001b[0;34m=\u001b[0m \u001b[0minput\u001b[0m\u001b[0;34m(\u001b[0m\u001b[0;34m\"User: \"\u001b[0m\u001b[0;34m)\u001b[0m\u001b[0;34m\u001b[0m\u001b[0;34m\u001b[0m\u001b[0m\n\u001b[0m\u001b[1;32m      8\u001b[0m         input_tokenized =  tokenizer.batch_encode_plus(\n\u001b[1;32m      9\u001b[0m                 \u001b[0;34m[\u001b[0m\u001b[0minput_text\u001b[0m\u001b[0;34m]\u001b[0m\u001b[0;34m,\u001b[0m\u001b[0;34m\u001b[0m\u001b[0;34m\u001b[0m\u001b[0m\n",
            "\u001b[0;32m/usr/local/lib/python3.10/dist-packages/ipykernel/kernelbase.py\u001b[0m in \u001b[0;36mraw_input\u001b[0;34m(self, prompt)\u001b[0m\n\u001b[1;32m    849\u001b[0m                 \u001b[0;34m\"raw_input was called, but this frontend does not support input requests.\"\u001b[0m\u001b[0;34m\u001b[0m\u001b[0;34m\u001b[0m\u001b[0m\n\u001b[1;32m    850\u001b[0m             )\n\u001b[0;32m--> 851\u001b[0;31m         return self._input_request(str(prompt),\n\u001b[0m\u001b[1;32m    852\u001b[0m             \u001b[0mself\u001b[0m\u001b[0;34m.\u001b[0m\u001b[0m_parent_ident\u001b[0m\u001b[0;34m,\u001b[0m\u001b[0;34m\u001b[0m\u001b[0;34m\u001b[0m\u001b[0m\n\u001b[1;32m    853\u001b[0m             \u001b[0mself\u001b[0m\u001b[0;34m.\u001b[0m\u001b[0m_parent_header\u001b[0m\u001b[0;34m,\u001b[0m\u001b[0;34m\u001b[0m\u001b[0;34m\u001b[0m\u001b[0m\n",
            "\u001b[0;32m/usr/local/lib/python3.10/dist-packages/ipykernel/kernelbase.py\u001b[0m in \u001b[0;36m_input_request\u001b[0;34m(self, prompt, ident, parent, password)\u001b[0m\n\u001b[1;32m    893\u001b[0m             \u001b[0;32mexcept\u001b[0m \u001b[0mKeyboardInterrupt\u001b[0m\u001b[0;34m:\u001b[0m\u001b[0;34m\u001b[0m\u001b[0;34m\u001b[0m\u001b[0m\n\u001b[1;32m    894\u001b[0m                 \u001b[0;31m# re-raise KeyboardInterrupt, to truncate traceback\u001b[0m\u001b[0;34m\u001b[0m\u001b[0;34m\u001b[0m\u001b[0m\n\u001b[0;32m--> 895\u001b[0;31m                 \u001b[0;32mraise\u001b[0m \u001b[0mKeyboardInterrupt\u001b[0m\u001b[0;34m(\u001b[0m\u001b[0;34m\"Interrupted by user\"\u001b[0m\u001b[0;34m)\u001b[0m \u001b[0;32mfrom\u001b[0m \u001b[0;32mNone\u001b[0m\u001b[0;34m\u001b[0m\u001b[0;34m\u001b[0m\u001b[0m\n\u001b[0m\u001b[1;32m    896\u001b[0m             \u001b[0;32mexcept\u001b[0m \u001b[0mException\u001b[0m \u001b[0;32mas\u001b[0m \u001b[0me\u001b[0m\u001b[0;34m:\u001b[0m\u001b[0;34m\u001b[0m\u001b[0;34m\u001b[0m\u001b[0m\n\u001b[1;32m    897\u001b[0m                 \u001b[0mself\u001b[0m\u001b[0;34m.\u001b[0m\u001b[0mlog\u001b[0m\u001b[0;34m.\u001b[0m\u001b[0mwarning\u001b[0m\u001b[0;34m(\u001b[0m\u001b[0;34m\"Invalid Message:\"\u001b[0m\u001b[0;34m,\u001b[0m \u001b[0mexc_info\u001b[0m\u001b[0;34m=\u001b[0m\u001b[0;32mTrue\u001b[0m\u001b[0;34m)\u001b[0m\u001b[0;34m\u001b[0m\u001b[0;34m\u001b[0m\u001b[0m\n",
            "\u001b[0;31mKeyboardInterrupt\u001b[0m: Interrupted by user"
          ]
        }
      ]
    },
    {
      "cell_type": "markdown",
      "source": [
        "https://mrmaheshrajput.medium.com/how-to-build-an-intelligent-qa-chatbot-on-your-data-with-llm-or-chatgpt-d0009d256dce"
      ],
      "metadata": {
        "id": "sz0XxU9v9olZ"
      }
    },
    {
      "cell_type": "markdown",
      "source": [
        "# **Fine-tune GPT2 for specific domain and language**"
      ],
      "metadata": {
        "id": "WgnFIcOo-6l-"
      }
    },
    {
      "cell_type": "code",
      "source": [
        "!pip install git+https://github.com/keras-team/keras-nlp.git -q"
      ],
      "metadata": {
        "colab": {
          "base_uri": "https://localhost:8080/"
        },
        "id": "YkCuhWUI-_US",
        "outputId": "f41c7b79-fc0e-416a-c930-70bbd7075519"
      },
      "execution_count": null,
      "outputs": [
        {
          "output_type": "stream",
          "name": "stdout",
          "text": [
            "  Installing build dependencies ... \u001b[?25l\u001b[?25hdone\n",
            "  Getting requirements to build wheel ... \u001b[?25l\u001b[?25hdone\n",
            "  Preparing metadata (pyproject.toml) ... \u001b[?25l\u001b[?25hdone\n",
            "\u001b[2K     \u001b[90m━━━━━━━━━━━━━━━━━━━━━━━━━━━━━━━━━━━━━━━\u001b[0m \u001b[32m950.8/950.8 kB\u001b[0m \u001b[31m5.4 MB/s\u001b[0m eta \u001b[36m0:00:00\u001b[0m\n",
            "\u001b[2K     \u001b[90m━━━━━━━━━━━━━━━━━━━━━━━━━━━━━━━━━━━━━━━━\u001b[0m \u001b[32m6.5/6.5 MB\u001b[0m \u001b[31m10.8 MB/s\u001b[0m eta \u001b[36m0:00:00\u001b[0m\n",
            "\u001b[2K     \u001b[90m━━━━━━━━━━━━━━━━━━━━━━━━━━━━━━━━━━━━━━━\u001b[0m \u001b[32m489.8/489.8 MB\u001b[0m \u001b[31m3.3 MB/s\u001b[0m eta \u001b[36m0:00:00\u001b[0m\n",
            "\u001b[2K     \u001b[90m━━━━━━━━━━━━━━━━━━━━━━━━━━━━━━━━━━━━━━━━\u001b[0m \u001b[32m1.0/1.0 MB\u001b[0m \u001b[31m41.5 MB/s\u001b[0m eta \u001b[36m0:00:00\u001b[0m\n",
            "\u001b[2K     \u001b[90m━━━━━━━━━━━━━━━━━━━━━━━━━━━━━━━━━━━━━━━━\u001b[0m \u001b[32m77.9/77.9 kB\u001b[0m \u001b[31m7.5 MB/s\u001b[0m eta \u001b[36m0:00:00\u001b[0m\n",
            "\u001b[2K     \u001b[90m━━━━━━━━━━━━━━━━━━━━━━━━━━━━━━━━━━━━━━━━\u001b[0m \u001b[32m5.5/5.5 MB\u001b[0m \u001b[31m69.0 MB/s\u001b[0m eta \u001b[36m0:00:00\u001b[0m\n",
            "\u001b[2K     \u001b[90m━━━━━━━━━━━━━━━━━━━━━━━━━━━━━━━━━━━━━━\u001b[0m \u001b[32m440.7/440.7 kB\u001b[0m \u001b[31m35.4 MB/s\u001b[0m eta \u001b[36m0:00:00\u001b[0m\n",
            "\u001b[2K     \u001b[90m━━━━━━━━━━━━━━━━━━━━━━━━━━━━━━━━━━━━━━━━\u001b[0m \u001b[32m1.7/1.7 MB\u001b[0m \u001b[31m53.9 MB/s\u001b[0m eta \u001b[36m0:00:00\u001b[0m\n",
            "\u001b[?25h  Building wheel for keras-nlp (pyproject.toml) ... \u001b[?25l\u001b[?25hdone\n"
          ]
        }
      ]
    },
    {
      "cell_type": "code",
      "source": [
        "import os\n",
        "os.environ[\"KERAS_BACKEND\"] = \"jax\"  # or \"tensorflow\" or \"torch\"\n",
        "import keras_nlp\n",
        "import tensorflow as tf\n",
        "import keras_core as keras\n",
        "import time"
      ],
      "metadata": {
        "colab": {
          "base_uri": "https://localhost:8080/"
        },
        "id": "waBVEZDY_IS0",
        "outputId": "05ea27c8-adbf-40d2-c1c9-94456b68d317"
      },
      "execution_count": null,
      "outputs": [
        {
          "output_type": "stream",
          "name": "stdout",
          "text": [
            "Using JAX backend.\n"
          ]
        }
      ]
    },
    {
      "cell_type": "code",
      "source": [
        "preprocessor = keras_nlp.models.GPT2CausalLMPreprocessor.from_preset(\n",
        "    \"gpt2_base_en\",\n",
        "    sequence_length=128,\n",
        ")\n",
        "gpt2_lm = keras_nlp.models.GPT2CausalLM.from_preset(\n",
        "    \"gpt2_base_en\", preprocessor=preprocessor\n",
        ")"
      ],
      "metadata": {
        "id": "f2Ee8HdK_bmP"
      },
      "execution_count": null,
      "outputs": []
    },
    {
      "cell_type": "code",
      "source": [
        "# Generate a text\n",
        "output = gpt2_lm.generate(\"The goal of apple company\", max_length=200)\n",
        "print(\"\\nGPT-2 output:\")\n",
        "print(output)"
      ],
      "metadata": {
        "colab": {
          "base_uri": "https://localhost:8080/"
        },
        "id": "VgwbyqaL_n6X",
        "outputId": "507d454a-d107-4836-cf75-32ee9e254530"
      },
      "execution_count": null,
      "outputs": [
        {
          "output_type": "stream",
          "name": "stdout",
          "text": [
            "\n",
            "GPT-2 output:\n",
            "The goal of apple company, Inc. was to make a better apple.\n",
            "\n",
            "\"I don't know how you would describe it, but the apple is the best apple we ever tasted, so we're very pleased with it,\" said Steve Hirsch, Apple's president and CEO. \"It is one of the best apples ever.\"\n",
            "\n",
            "The company is now working with the U.S. Department of Agriculture to develop and sell the apple.\n",
            "\n",
            "The company is currently testing its product on apples grown by farmers in the Midwest, and is also working with the U.S. Department of Agriculture to test its products on apples grown in the Midwest.\n",
            "\n",
            "Apple's apple has been the focus of controversy since its introduction in 2007 and its reputation has been tarnished by its poor quality.\n",
            "\n",
            "Apple's reputation has been tarnished by a series of lawsuits that it has filed against the U.S. government, which is investigating the company for fraud.\n",
            "\n",
            "Apple is\n"
          ]
        }
      ]
    },
    {
      "cell_type": "code",
      "source": [
        "# Generate a text\n",
        "output = gpt2_lm.generate(\"steave jobs\", max_length=200)\n",
        "print(\"\\nGPT-2 output:\")\n",
        "print(output)"
      ],
      "metadata": {
        "id": "bgmDuYcZEvfO"
      },
      "execution_count": null,
      "outputs": []
    },
    {
      "cell_type": "markdown",
      "source": [
        "## **Fine-tune GPT2**"
      ],
      "metadata": {
        "id": "isWP9prXAiDY"
      }
    },
    {
      "cell_type": "code",
      "source": [
        "import tensorflow_datasets as tfds\n",
        "\n",
        "reddit_ds = tfds.load(\"reddit_tifu\", split=\"train\", as_supervised=True)"
      ],
      "metadata": {
        "colab": {
          "base_uri": "https://localhost:8080/",
          "height": 150,
          "referenced_widgets": [
            "128fd3b22bce4cd385646944ad88deef",
            "cdedfffdf48842d68269bd8a9afd1877",
            "97389f5c8ac542669bebef3387796b9f",
            "906d1576daf944ea9fc94a9502ccec20",
            "bbc4af8234664b33aebfe21279033f8c",
            "522627eb358848f1b4f2ff204f114793",
            "73050f3adcde446d8a1d49587f1254ee",
            "9862c3f525cd4f59959c4917130369bf",
            "72bc01742a4d4fa8801fa5ba1bb54dc7",
            "45945f24ca594447be4e532e2063875b",
            "7d40b58023374226a7c7940b2faf7b86",
            "5b3970b4955d4824ae26c40d2168bd97",
            "681ae650a5044862bf7d67fc8d0e15ad",
            "d686238472e3497e8d23105ebb174b46",
            "b541689a959c4929a2ab607b5fa56484",
            "34edf06132c0462baebb76e9fdc66b15",
            "622d394feedd41b4b13671b68a76fa1f",
            "e2e5609c68cc49fcb8ab1e95539ce7d7",
            "4b8007dff53344e59d7d64798f932186",
            "520c264f94044242b8b8c0adad3ff41f",
            "18328ec1f3664065b4079d6c18eb9d59",
            "8b865e23199242159a7825825c4fad20",
            "bc2a8f8c16384f9db95bc88ad7961bf6",
            "e02b0564a06a472586bb44a29f6fd31b",
            "32ee88fde4414ebaaedcc3c2d2f7cb35",
            "651e69f0a5324724a1ce66f1e5656b83",
            "4ab7682aa22449829a52cbeee5768c6f",
            "51ab58a308e74d6d8485fd6df220ff7b",
            "b3f584248e01408683de1ef12a764f96",
            "13950f972b2440d48023576363bb0952",
            "bdc2220502fb483ba34aa45e2f721b12",
            "14dfd524ce4a41229f7cd7fac0b66586",
            "99d07688c3a64a27917a870883556a5f",
            "43289f2d5bc1433bbb982f0ee1756e09",
            "e0291b9c937742aaacaf3633ccb479e0",
            "1014be07f4c94c0ebfe8f76aa20f1797",
            "b4e149eadb554884b842fbd5eeaf20fb",
            "6b501a649dc3464ca349ac4e4cf3484d",
            "b311ac45d2e64c989a88ba6eb0a15351",
            "589e4afca3b94c88aafba01d17bc73c9",
            "6591cc24dd0c4c1da49d026ce3b19e23",
            "d586f944c10348acacca1a426f354fe8",
            "abf05f8a86fd428991f863abf4b13be6",
            "4110891cfb30448eb6603042ca88b8a1",
            "b153996e386348f0a5ce7b44966feaff",
            "5684ea80d5f34ab0a64e107f6ccf88f7",
            "908d62bc73ed443faadd167d74456f77",
            "1a6d2e28d59b44709fcb8c2cc9f93472",
            "793334c5948a4a82a3297005f0ab5eee",
            "63c89283ec1540f692d2106a06520edb",
            "5edbb348854c46a9bb24a855db8c87e5",
            "a93e57e824c744f7a30202763b3749c1",
            "82102ffd6a5944d18df7b4df973fdea9",
            "58f4baa495554a5394dfdfeb0db8839d",
            "84e77c2f15a04857b9a78d9f0a4b7747",
            "79cd2b9fbc4b4099bf2f7e9557b2d4d5",
            "ef143ae9e6fb4ac9a6419419e01b75e4",
            "2862b42bec704b32ab9d5170e5366136",
            "60e3972f4d53476eb82ab432d288fd7e",
            "e5c1a73a7eaa4f3681592f40caedadfb",
            "04eadcb603e14ffda2df3ad9a7597ce1",
            "ba0d2d13d9294af3b4da6e94fed70b91",
            "90851cba130749bca9705f134a1d3e2f",
            "4eea3db910064a35bf44652807a5d72f",
            "3a6eb36aa96e4571956691a98b4e794a",
            "0eb1969561f24033996fdc7fa5476a5b"
          ]
        },
        "id": "jvjae3IqAkxR",
        "outputId": "98a44f86-1d71-4202-fe04-d43844d924bf"
      },
      "execution_count": null,
      "outputs": [
        {
          "output_type": "stream",
          "name": "stdout",
          "text": [
            "Downloading and preparing dataset 639.54 MiB (download: 639.54 MiB, generated: 141.46 MiB, total: 781.00 MiB) to /root/tensorflow_datasets/reddit_tifu/short/1.1.2...\n"
          ]
        },
        {
          "output_type": "display_data",
          "data": {
            "text/plain": [
              "Dl Completed...: 0 url [00:00, ? url/s]"
            ],
            "application/vnd.jupyter.widget-view+json": {
              "version_major": 2,
              "version_minor": 0,
              "model_id": "128fd3b22bce4cd385646944ad88deef"
            }
          },
          "metadata": {}
        },
        {
          "output_type": "display_data",
          "data": {
            "text/plain": [
              "Dl Size...: 0 MiB [00:00, ? MiB/s]"
            ],
            "application/vnd.jupyter.widget-view+json": {
              "version_major": 2,
              "version_minor": 0,
              "model_id": "5b3970b4955d4824ae26c40d2168bd97"
            }
          },
          "metadata": {}
        },
        {
          "output_type": "display_data",
          "data": {
            "text/plain": [
              "Extraction completed...: 0 file [00:00, ? file/s]"
            ],
            "application/vnd.jupyter.widget-view+json": {
              "version_major": 2,
              "version_minor": 0,
              "model_id": "bc2a8f8c16384f9db95bc88ad7961bf6"
            }
          },
          "metadata": {}
        },
        {
          "output_type": "display_data",
          "data": {
            "text/plain": [
              "Generating splits...:   0%|          | 0/1 [00:00<?, ? splits/s]"
            ],
            "application/vnd.jupyter.widget-view+json": {
              "version_major": 2,
              "version_minor": 0,
              "model_id": "43289f2d5bc1433bbb982f0ee1756e09"
            }
          },
          "metadata": {}
        },
        {
          "output_type": "display_data",
          "data": {
            "text/plain": [
              "Generating train examples...:   0%|          | 0/79740 [00:00<?, ? examples/s]"
            ],
            "application/vnd.jupyter.widget-view+json": {
              "version_major": 2,
              "version_minor": 0,
              "model_id": "b153996e386348f0a5ce7b44966feaff"
            }
          },
          "metadata": {}
        },
        {
          "output_type": "display_data",
          "data": {
            "text/plain": [
              "Shuffling /root/tensorflow_datasets/reddit_tifu/short/1.1.2.incompleteXTPWMX/reddit_tifu-train.tfrecord*...:  …"
            ],
            "application/vnd.jupyter.widget-view+json": {
              "version_major": 2,
              "version_minor": 0,
              "model_id": "79cd2b9fbc4b4099bf2f7e9557b2d4d5"
            }
          },
          "metadata": {}
        },
        {
          "output_type": "stream",
          "name": "stdout",
          "text": [
            "Dataset reddit_tifu downloaded and prepared to /root/tensorflow_datasets/reddit_tifu/short/1.1.2. Subsequent calls will reuse this data.\n"
          ]
        }
      ]
    },
    {
      "cell_type": "code",
      "source": [
        "reddit_ds"
      ],
      "metadata": {
        "colab": {
          "base_uri": "https://localhost:8080/"
        },
        "id": "FDHk8xOVCIOK",
        "outputId": "ce88c052-8ae0-406c-9aa2-7a8545a8072c"
      },
      "execution_count": null,
      "outputs": [
        {
          "output_type": "execute_result",
          "data": {
            "text/plain": [
              "<_PrefetchDataset element_spec=(TensorSpec(shape=(), dtype=tf.string, name=None), TensorSpec(shape=(), dtype=tf.string, name=None))>"
            ]
          },
          "metadata": {},
          "execution_count": 7
        }
      ]
    },
    {
      "cell_type": "code",
      "source": [
        "for document, title in reddit_ds:\n",
        "    print(document.numpy())\n",
        "    print(title.numpy())\n",
        "    break"
      ],
      "metadata": {
        "colab": {
          "base_uri": "https://localhost:8080/"
        },
        "id": "dWccJcP2Byz9",
        "outputId": "bcef1398-dda2-4ce1-dcdc-af54fb7680e6"
      },
      "execution_count": null,
      "outputs": [
        {
          "output_type": "stream",
          "name": "stdout",
          "text": [
            "b\"me and a friend decided to go to the beach last sunday. we loaded up and headed out. we were about half way there when i decided that i was not leaving till i had seafood. \\n\\nnow i'm not talking about red lobster. no friends i'm talking about a low country boil. i found the restaurant and got directions. i don't know if any of you have heard about the crab shack on tybee island but let me tell you it's worth it. \\n\\nwe arrived and was seated quickly. we decided to get a seafood sampler for two and split it. the waitress bought it out on separate platters for us. the amount of food was staggering. two types of crab, shrimp, mussels, crawfish, andouille sausage, red potatoes, and corn on the cob. i managed to finish it and some of my friends crawfish and mussels. it was a day to be a fat ass. we finished paid for our food and headed to the beach. \\n\\nfunny thing about seafood. it runs through me faster than a kenyan \\n\\nwe arrived and walked around a bit. it was about 45min since we arrived at the beach when i felt a rumble from the depths of my stomach. i ignored it i didn't want my stomach to ruin our fun. i pushed down the feeling and continued. about 15min later the feeling was back and stronger than before. again i ignored it and continued. 5min later it felt like a nuclear reactor had just exploded in my stomach. i started running. i yelled to my friend to hurry the fuck up. \\n\\nrunning in sand is extremely hard if you did not know this. we got in his car and i yelled at him to floor it. my stomach was screaming and if he didn't hurry i was gonna have this baby in his car and it wasn't gonna be pretty. after a few red lights and me screaming like a woman in labor we made it to the store. \\n\\ni practically tore his car door open and ran inside. i ran to the bathroom opened the door and barely got my pants down before the dam burst and a flood of shit poured from my ass. \\n\\ni finished up when i felt something wet on my ass. i rubbed it thinking it was back splash. no, mass was covered in the after math of me abusing the toilet. i grabbed all the paper towels i could and gave my self a whores bath right there. \\n\\ni sprayed the bathroom down with the air freshener and left. an elderly lady walked in quickly and closed the door. i was just about to walk away when i heard gag. instead of walking i ran. i got to the car and told him to get the hell out of there.\"\n",
            "b'liking seafood'\n"
          ]
        }
      ]
    },
    {
      "cell_type": "code",
      "source": [
        "train_ds = (\n",
        "    reddit_ds.map(lambda document, _: document)\n",
        "    .batch(32)\n",
        "    .cache()\n",
        "    .prefetch(tf.data.AUTOTUNE)\n",
        ")"
      ],
      "metadata": {
        "id": "jYQyGXKoCQTE"
      },
      "execution_count": null,
      "outputs": []
    },
    {
      "cell_type": "code",
      "source": [
        "train_ds = train_ds.take(500)\n",
        "num_epochs = 1\n",
        "\n",
        "# Linearly decaying learning rate.\n",
        "learning_rate = keras.optimizers.schedules.PolynomialDecay(\n",
        "    5e-5,\n",
        "    decay_steps=train_ds.cardinality() * num_epochs,\n",
        "    end_learning_rate=0.0,\n",
        ")\n",
        "loss = keras.losses.SparseCategoricalCrossentropy(from_logits=True)\n",
        "gpt2_lm.compile(\n",
        "    optimizer=keras.optimizers.Adam(learning_rate),\n",
        "    loss=loss,\n",
        "    weighted_metrics=[\"accuracy\"],\n",
        ")\n",
        "\n",
        "gpt2_lm.fit(train_ds, epochs=num_epochs)"
      ],
      "metadata": {
        "id": "wGL-sixsCU0J"
      },
      "execution_count": null,
      "outputs": []
    },
    {
      "cell_type": "code",
      "source": [
        "output = gpt2_lm.generate(\"I like basketball\", max_length=200)\n",
        "print(\"\\nGPT-2 output:\")\n",
        "print(output)"
      ],
      "metadata": {
        "id": "rXO7m1YWCkWw"
      },
      "execution_count": null,
      "outputs": []
    },
    {
      "cell_type": "code",
      "source": [
        "# SEARCH FOR TOP-K\n",
        "# Use a string identifier.\n",
        "gpt2_lm.compile(sampler=\"top_k\")\n",
        "output = gpt2_lm.generate(\"I like basketball\", max_length=200)\n",
        "print(\"\\nGPT-2 output:\")\n",
        "print(output)\n",
        "\n",
        "# Use a `Sampler` instance. `GreedySampler` tends to repeat itself,\n",
        "greedy_sampler = keras_nlp.samplers.GreedySampler()\n",
        "gpt2_lm.compile(sampler=greedy_sampler)\n",
        "\n",
        "output = gpt2_lm.generate(\"I like basketball\", max_length=200)\n",
        "print(\"\\nGPT-2 output:\")\n",
        "print(output)"
      ],
      "metadata": {
        "id": "4mvfao_UC8TC"
      },
      "execution_count": null,
      "outputs": []
    },
    {
      "cell_type": "markdown",
      "source": [
        "## **Finetune on Chinese Poem Dataset**"
      ],
      "metadata": {
        "id": "EqrUlGcODn-_"
      }
    },
    {
      "cell_type": "code",
      "source": [
        "!git clone https://github.com/chinese-poetry/chinese-poetry.git"
      ],
      "metadata": {
        "id": "tqCf2RArDciN"
      },
      "execution_count": null,
      "outputs": []
    },
    {
      "cell_type": "code",
      "source": [
        "import os\n",
        "import json\n",
        "\n",
        "poem_collection = []\n",
        "for file in os.listdir(\"chinese-poetry/全唐诗\"):\n",
        "    if \".json\" not in file or \"poet\" not in file:\n",
        "        continue\n",
        "    full_filename = \"%s/%s\" % (\"chinese-poetry/全唐诗\", file)\n",
        "    with open(full_filename, \"r\") as f:\n",
        "        content = json.load(f)\n",
        "        poem_collection.extend(content)\n",
        "\n",
        "paragraphs = [\"\".join(data[\"paragraphs\"]) for data in poem_collection]"
      ],
      "metadata": {
        "id": "1jCeYrXTDy2r"
      },
      "execution_count": null,
      "outputs": []
    },
    {
      "cell_type": "code",
      "source": [
        "print(paragraphs[0])"
      ],
      "metadata": {
        "id": "BxCPWGhGD12K"
      },
      "execution_count": null,
      "outputs": []
    },
    {
      "cell_type": "code",
      "source": [
        "train_ds = (\n",
        "    tf.data.Dataset.from_tensor_slices(paragraphs)\n",
        "    .batch(16)\n",
        "    .cache()\n",
        "    .prefetch(tf.data.AUTOTUNE)\n",
        ")\n",
        "\n",
        "# Running through the whole dataset takes long, only take `500` and run 1\n",
        "# epochs for demo purposes.\n",
        "train_ds = train_ds.take(500)\n",
        "num_epochs = 1\n",
        "\n",
        "learning_rate = keras.optimizers.schedules.PolynomialDecay(\n",
        "    5e-4,\n",
        "    decay_steps=train_ds.cardinality() * num_epochs,\n",
        "    end_learning_rate=0.0,\n",
        ")\n",
        "loss = keras.losses.SparseCategoricalCrossentropy(from_logits=True)\n",
        "gpt2_lm.compile(\n",
        "    optimizer=keras.optimizers.Adam(learning_rate),\n",
        "    loss=loss,\n",
        "    weighted_metrics=[\"accuracy\"],\n",
        ")\n",
        "\n",
        "gpt2_lm.fit(train_ds, epochs=num_epochs)"
      ],
      "metadata": {
        "id": "mOzOroA3D5qu"
      },
      "execution_count": null,
      "outputs": []
    },
    {
      "cell_type": "code",
      "source": [
        "output = gpt2_lm.generate(\"昨夜雨疏风骤\", max_length=200)\n",
        "print(output)"
      ],
      "metadata": {
        "id": "vfoJGYQwEAd9"
      },
      "execution_count": null,
      "outputs": []
    }
  ]
}