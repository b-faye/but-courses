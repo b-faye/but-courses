{
  "nbformat": 4,
  "nbformat_minor": 0,
  "metadata": {
    "colab": {
      "provenance": []
    },
    "kernelspec": {
      "name": "python3",
      "display_name": "Python 3"
    },
    "language_info": {
      "name": "python"
    }
  },
  "cells": [
    {
      "cell_type": "markdown",
      "source": [
        "## **Topic Bert**"
      ],
      "metadata": {
        "id": "APY7R-B75-PT"
      }
    },
    {
      "cell_type": "code",
      "source": [
        "from bertopic import BERTopic\n",
        "from sklearn.datasets import fetch_20newsgroups\n",
        "\n",
        "docs = fetch_20newsgroups(subset='all')['data']\n",
        "topic_model = BERTopic()\n",
        "topics, probabilities = topic_model.fit_transform(docs[:100])\n"
      ],
      "metadata": {
        "id": "nsjX_Wfp0uiK"
      },
      "execution_count": null,
      "outputs": []
    },
    {
      "cell_type": "code",
      "source": [
        "topics"
      ],
      "metadata": {
        "colab": {
          "base_uri": "https://localhost:8080/"
        },
        "id": "UD-6qaeg1_mB",
        "outputId": "6f5409b4-ebe1-4b4c-e374-17906c3664f4"
      },
      "execution_count": null,
      "outputs": [
        {
          "output_type": "execute_result",
          "data": {
            "text/plain": [
              "[3,\n",
              " 0,\n",
              " -1,\n",
              " 0,\n",
              " 0,\n",
              " -1,\n",
              " 1,\n",
              " 3,\n",
              " 3,\n",
              " 2,\n",
              " 2,\n",
              " 1,\n",
              " 2,\n",
              " -1,\n",
              " 2,\n",
              " -1,\n",
              " 0,\n",
              " -1,\n",
              " -1,\n",
              " -1,\n",
              " -1,\n",
              " -1,\n",
              " 0,\n",
              " -1,\n",
              " 3,\n",
              " 1,\n",
              " 1,\n",
              " 0,\n",
              " 0,\n",
              " 2,\n",
              " -1,\n",
              " 1,\n",
              " 0,\n",
              " 3,\n",
              " -1,\n",
              " 0,\n",
              " 0,\n",
              " 1,\n",
              " -1,\n",
              " 1,\n",
              " 1,\n",
              " -1,\n",
              " -1,\n",
              " -1,\n",
              " 3,\n",
              " 0,\n",
              " 0,\n",
              " -1,\n",
              " 1,\n",
              " -1,\n",
              " -1,\n",
              " -1,\n",
              " 1,\n",
              " 0,\n",
              " -1,\n",
              " 1,\n",
              " 2,\n",
              " 0,\n",
              " 2,\n",
              " 1,\n",
              " 3,\n",
              " 0,\n",
              " -1,\n",
              " -1,\n",
              " 2,\n",
              " 1,\n",
              " 3,\n",
              " 1,\n",
              " 0,\n",
              " 0,\n",
              " 0,\n",
              " -1,\n",
              " -1,\n",
              " 1,\n",
              " 1,\n",
              " 1,\n",
              " 3,\n",
              " 0,\n",
              " 2,\n",
              " 3,\n",
              " -1,\n",
              " -1,\n",
              " 0,\n",
              " -1,\n",
              " -1,\n",
              " 2,\n",
              " 2,\n",
              " -1,\n",
              " -1,\n",
              " 2,\n",
              " 3,\n",
              " 2,\n",
              " 2,\n",
              " 0,\n",
              " -1,\n",
              " 0,\n",
              " 0,\n",
              " 3,\n",
              " 1,\n",
              " 0]"
            ]
          },
          "metadata": {},
          "execution_count": 54
        }
      ]
    },
    {
      "cell_type": "code",
      "source": [
        "probabilities"
      ],
      "metadata": {
        "colab": {
          "base_uri": "https://localhost:8080/"
        },
        "id": "y7_V3EWl5mlF",
        "outputId": "6b41123a-adff-4330-cdda-9ccd6e10c77c"
      },
      "execution_count": null,
      "outputs": [
        {
          "output_type": "execute_result",
          "data": {
            "text/plain": [
              "array([1.        , 1.        , 0.        , 1.        , 0.99392061,\n",
              "       0.        , 1.        , 1.        , 0.9902732 , 1.        ,\n",
              "       1.        , 1.        , 1.        , 0.        , 0.97242466,\n",
              "       0.        , 0.86348717, 0.        , 0.        , 0.        ,\n",
              "       0.        , 0.        , 1.        , 0.        , 1.        ,\n",
              "       1.        , 1.        , 0.69180451, 1.        , 1.        ,\n",
              "       0.        , 1.        , 1.        , 1.        , 0.        ,\n",
              "       0.94337058, 0.93586901, 1.        , 0.        , 0.9517817 ,\n",
              "       0.90689897, 0.        , 0.        , 0.        , 1.        ,\n",
              "       1.        , 1.        , 0.        , 0.94184772, 0.        ,\n",
              "       0.        , 0.        , 1.        , 0.69517268, 0.        ,\n",
              "       0.88935723, 1.        , 0.94343116, 1.        , 0.94982853,\n",
              "       1.        , 0.76040913, 0.        , 0.        , 0.98247802,\n",
              "       1.        , 1.        , 0.9166383 , 0.88837485, 1.        ,\n",
              "       0.9865659 , 0.        , 0.        , 0.99278062, 1.        ,\n",
              "       1.        , 1.        , 0.9749329 , 0.96628709, 1.        ,\n",
              "       0.        , 0.        , 0.77131053, 0.        , 0.        ,\n",
              "       1.        , 0.79010932, 0.        , 0.        , 1.        ,\n",
              "       0.96939334, 1.        , 1.        , 1.        , 0.        ,\n",
              "       0.76659909, 1.        , 1.        , 0.97295353, 0.74334239])"
            ]
          },
          "metadata": {},
          "execution_count": 55
        }
      ]
    },
    {
      "cell_type": "code",
      "source": [
        "print(\"docs: {}\\n\".format(topic_model.get_representative_docs()))\n",
        "print(topic_model.get_topic_info())\n",
        "\n"
      ],
      "metadata": {
        "colab": {
          "base_uri": "https://localhost:8080/"
        },
        "id": "kEwYGxhI4UYm",
        "outputId": "47ee6984-7536-4ba2-e4e5-a3a74132b901"
      },
      "execution_count": null,
      "outputs": [
        {
          "output_type": "stream",
          "name": "stdout",
          "text": [
            "docs: {-1: ['From: sera@zuma.UUCP (Serdar Argic)\\nSubject: Muslim women and children were raped and massacred by the Armenians.\\nReply-To: sera@zuma.UUCP (Serdar Argic)\\nDistribution: world\\nLines: 51\\n\\nIn article <737257015@marlin.cs.duke.edu> wiener@duke.cs.duke.edu (Eduard Wiener) writes:\\n\\n>    culture was in Russia proper, not in the Ukraine.  I think\\n>    all these attempts to prove that Russians are descendants of\\n>    Finns, Ukrainians of Tatars, Bulgarians of Bashkirs, and\\n>    Croats of Iranians are based more on speculation than evidence.\\n\\nOwieneramus. Always has to stick his \\'ASALA/SDPA/ARF\\' made nose into \\nevery discussion with non-points and lies. Well, still anxiously\\nawaiting...\\n\\n\\nSource: Cemal Kutay, \"Ottoman Empire,\" vol. II., p. 188.    \\n\\n\"The atrocities and massacres which have been committed for a long time\\n against the Muslim population within the Armenian Republic have been \\n confirmed with very accurate information, and the observations made by\\n Rawlinson, the British representative in Erzurum, have confirmed that\\n these atrocities are being committed by the Armenians. The United States\\n delegation of General Harbord has seen the thousands of refugees who came \\n to take refuge with Kazim Karabekir\\'s soldiers, hungry and miserable, \\n their children and wives, their properties destroyed, and the delegation\\n was a witness to the cruelties. Many Muslim villages have been destroyed\\n by the soldiers of Armenian troops armed with cannons and machine guns\\n before the eyes of Karabekir\\'s troops and the people. When it was hoped\\n that this operation would end, unfortunately since the beginning of \\n February the cruelties inflicted on the Muslim population of the region\\n of Shuraghel, Akpazar, Zarshad, and Childir have increased. According\\n to documented information, 28 Muslim villages have been destroyed in the\\n aforementioned region, more than 2,000 people have been slaughtered,\\n many possessions and livestock have been seized, young Muslim women\\n have been taken to Kars and Gumru, thousands of women and children who\\n were able to flee their villages were beaten, raped and massacred in the\\n mountains, and this aggression against the properties, lives, chastity \\n and honour of the Muslims continued. It was the responsibility of the\\n Armenian Government that the cruelties and massacres be stopped in order \\n to alleviate the tensions of Muslim public opinion due to the atrocities \\n committed by the Armenians, that the possessions taken from the Muslims\\n be returned and that indemnities be paid, that the properties, lives,\\n and honour of the Muslims be protected.\"\\n\\n\\nSerdar Argic\\n\\n                           \\'We closed the roads and mountain passes that \\n                            might serve as ways of escape for the Turks \\n                            and then proceeded in the work of extermination.\\'\\n                                                  (Ohanus Appressian - 1919)\\n                           \\'In Soviet Armenia today there no longer exists \\n                            a single Turkish soul.\\' (Sahak Melkonian - 1920)\\n\\n', 'From: hilmi-er@dsv.su.se (Hilmi Eren)\\nSubject: Re: ARMENIA SAYS IT COULD SHOOT DOWN TURKISH PLANES (Henrik)\\nLines: 95\\nNntp-Posting-Host: viktoria.dsv.su.se\\nReply-To: hilmi-er@dsv.su.se (Hilmi Eren)\\nOrganization: Dept. of Computer and Systems Sciences, Stockholm University\\n\\n\\n\\n\\n|>The student of \"regional killings\" alias Davidian (not the Davidian religios sect) writes:\\n\\n\\n|>Greater Armenia would stretch from Karabakh, to the Black Sea, to the\\n|>Mediterranean, so if you use the term \"Greater Armenia\" use it with care.\\n\\n\\n\\tFinally you said what you dream about. Mediterranean???? That was new....\\n\\tThe area will be \"greater\" after some years, like your \"holocaust\" numbers......\\n\\n\\n\\n\\n|>It has always been up to the Azeris to end their announced winning of Karabakh \\n|>by removing the Armenians! When the president of Azerbaijan, Elchibey, came to \\n|>power last year, he announced he would be be \"swimming in Lake Sevan [in \\n|>Armeniaxn] by July\".\\n\\t\\t*****\\n\\tIs\\'t July in USA now????? Here in Sweden it\\'s April and still cold.\\n\\tOr have you changed your calendar???\\n\\n\\n|>Well, he was wrong! If Elchibey is going to shell the \\n|>Armenians of Karabakh from Aghdam, his people will pay the price! If Elchibey \\n\\t\\t\\t\\t\\t\\t    ****************\\n|>is going to shell Karabakh from Fizuli his people will pay the price! If \\n\\t\\t\\t\\t\\t\\t    ******************\\n|>Elchibey thinks he can get away with bombing Armenia from the hills of \\n|>Kelbajar, his people will pay the price. \\n\\t\\t\\t    ***************\\n\\n\\n\\tNOTHING OF THE MENTIONED IS TRUE, BUT LET SAY IT\\'s TRUE.\\n\\t\\n\\tSHALL THE AZERI WOMEN AND CHILDREN GOING TO PAY THE PRICE WITH\\n\\t\\t\\t\\t\\t\\t    **************\\n\\tBEING RAPED, KILLED AND TORTURED BY THE ARMENIANS??????????\\n\\t\\n\\tHAVE YOU HEARDED SOMETHING CALLED: \"GENEVA CONVENTION\"???????\\n\\tYOU FACIST!!!!!\\n\\n\\n\\n\\tOhhh i forgot, this is how Armenians fight, nobody has forgot\\n\\tyou killings, rapings and torture against the Kurds and Turks once\\n\\tupon a time!\\n      \\n       \\n\\n|>And anyway, this \"60 \\n|>Kurd refugee\" story, as have other stories, are simple fabrications sourced in \\n|>Baku, modified in Ankara. Other examples of this are Armenia has no border \\n|>with Iran, and the ridiculous story of the \"intercepting\" of Armenian military \\n|>conversations as appeared in the New York Times supposedly translated by \\n|>somebody unknown, from Armenian into Azeri Turkish, submitted by an unnamed \\n|>\"special correspondent\" to the NY Times from Baku. Real accurate!\\n\\nOhhhh so swedish RedCross workers do lie they too? What ever you say\\n\"regional killer\", if you don\\'t like the person then shoot him that\\'s your policy.....l\\n\\n\\n|>[HE]\\tSearch Turkish planes? You don\\'t know what you are talking about.<-------\\n|>[HE]\\tsince it\\'s content is announced to be weapons? \\t\\t\\t\\ti\\t \\n\\t\\t\\t\\t\\t\\t\\t\\t\\t\\ti\\n|>Well, big mouth Ozal said military weapons are being provided to Azerbaijan\\ti\\n|>from Turkey, yet Demirel and others say no. No wonder you are so confused!\\ti\\n\\t\\t\\t\\t\\t\\t\\t\\t\\t\\ti\\n\\t\\t\\t\\t\\t\\t\\t\\t\\t\\ti\\n\\tConfused?????\\t\\t\\t\\t\\t\\t\\t\\ti\\n\\tYou facist when you delete text don\\'t change it, i wrote:\\t\\ti\\n\\t\\t\\t\\t\\t\\t\\t\\t\\t\\ti\\n        Search Turkish planes? You don\\'t know what you are talking about.\\ti\\n        Turkey\\'s government has announced that it\\'s giving weapons  <-----------i\\n        to Azerbadjan since Armenia started to attack Azerbadjan\\t\\t\\n        it self, not the Karabag province. So why search a plane for weapons\\t\\n        since it\\'s content is announced to be weapons?   \\n\\n\\tIf there is one that\\'s confused then that\\'s you! We have the right (and we do)\\n\\tto give weapons to the Azeris, since Armenians started the fight in Azerbadjan!\\n \\n\\n|>You are correct, all Turkish planes should be simply shot down! Nice, slow\\n|>moving air transports!\\n\\n\\tShoot down with what? Armenian bread and butter? Or the arms and personel \\n\\tof the Russian army?\\n\\n\\n\\n\\nHilmi Eren\\nStockholm University\\n', 'From: pmetzger@snark.shearson.com (Perry E. Metzger)\\nSubject: Re: text of White House announcement and Q&As on clipper chip encryption\\nOrganization: Partnership for an America Free Drug\\nDistribution: na\\nLines: 104\\n\\nrlward1@afterlife.ncsc.mil (Robert Ward) writes:\\n>In article <bontchev.734981805@fbihh> bontchev@fbihh.informatik.uni-hamburg.de writes:\\n>>and since the US constitutions guarantees the right to every American\\n>>to bear arms, why is not every American entitled, as a matter of\\n>\\n>Have you read the applicable part of the Constitution and interpreted it IN \\n>CONTEXT?  If not, please do so before posting this misinterpretation again.\\n>It refers to the right of the people to organize a militia, not for individuals \\n>to carry handguns, grenades, and assault rifles.  \\n\\nThe Supreme Court seems to disagree with you -- they have stated that\\n\"the people\" is a term of art refering to an individual right, and\\nhave explicitly mentioned the second amendment as an example.\\n\\nI quote:\\n\\n  \"... \\'the people\\' seems to have been a term of art employed in\\n  select parts of the Constitution.  The Preamble declares that the\\n  Constitution is ordained, and established by \\'the people of the\\n  the U.S.\\'  The Second Amendment protects the right of the people\\n  to keep and bear Arms ....\"\\n\\t- Supreme Court of the U.S.,  U.S. v. Uerdugo-Uriquidez (1990).\\n\\nFurthermore, in the Miller decision, they only permitted prosecution\\nfor possession of a sawed-off shotgun because the defense had not\\npresented testimony and they therefore accepted the argument of the\\ngovernment that such weapons have no military value -- they held that\\nthe amendment protected the individual right to possess military\\nweapons. Unfortunately, no second amendment case has successfully\\ngotten to the court in fifty years. However, that does not change the\\ninterpretation.\\n\\nFurthermore, it appears that others disagree with you as well, vis:\\n\\n \"The conclusion is thus inescapable that the history, concept,\\n  and wording of the Second Amendment to the Constitution of the\\n  United States, as well as its interpretation by every major\\n  commentator and court in the first half-century after its ratifi-\\n  cation, indicates that what is protected is an individual right\\n  of a private citizen to own and carry firearms in a peaceful manner.\"\\n   - Report of the Subcommittee on the Constitution of the\\n     Committee on the Judiciary, United States Senate,\\n     97th Congress, Second Session ( February 1982 )\\n\\nYou might rightfully ask \"well then, what does that first bit about\\nmilitias mean?\"\\n\\nWell, \"militia\" in historical context basically means the whole of the\\nadult males of the country. (Indeed, the U.S. Code still defines\\n\"militia\" as all armed men over the age of 17).\\n\\n   \"The Militia comprised all males physically capable of acting\\n    in concert for the common defense ....  And ... these men were\\n    expected to appear bearing arms supplied by themselves and of\\n    the kind in common use at the time.\"\\n\\t- Supreme Court of the United States,  U.S. v. Miller (1939).\\n\\nThe reason for the phrase being there was to explain the rationale\\nbehind the amendment, which was this: by depending on the people to\\nbear arms in defense of the country, no centralization of military\\npower could ever occur which would permit tyranny -- in short, the\\ngovernment would remain perpetually in fear of the people, rather than\\nthe other way around.\\n\\n   \"No free man shall ever be debarred the use of arms.  The strongest reason\\n   for the people to retain the right to keep and bear arms is, as a last\\n   resort, to protect themselves against tyranny in government.\"\\n     - Thomas Jefferson, Proposal Virginia Constitution, June 1776\\n       1 Thomas Jefferson Papers, 334 (C. J. Boyd, Ed., 1950).\\n\\n   \"And what country can preserve its liberties, if its rulers are not\\n   warned from time to time that this people preserve the spirit of\\n   resistance ?  Let them take arms ... The tree of liberty must be\\n   refreshed from time to time, with the blood of patriots and tyrants.\"\\n     - Thomas Jefferson (letter to William S. Smith, 1787, in\\n       Jefferson, On Democracy 20, S. Padover, ed., 1939).\\n\\n   \"Before a standing army can rule, the people must be disarmed;\\n   as they are in almost every kingdom of Europe.  The supreme\\n   power in America cannot enforce unjust laws by the sword;\\n   because the whole body of the people are armed, and constitute\\n   a force superior to any bands of regular troops that can be, on\\n   any pretense, raised in the United States.\"\\n     - Noah Webster, \"An Examination into the Leading Principles\\n       of the Federal Constitution\" (1787), in Pamphlets on the\\n       Constitution of the United States (P. Ford, 1888).\\n\\nYou may disagree with the second amendment, and wish that it be\\nrepealed, but please do not pretend that it isn\\'t there and that it\\ndoesn\\'t mean what it says. You might argue that conditions have\\nchanged and that it should no longer be present, but you can\\'t imagine\\nit away.\\n\\nI could fill a book with detailed argumentation. Many have already.\\n\\nHowever, none of this has anything to do with cryptography.  Lets get\\nit out of here. If you insist on discussing this, please do it in\\ntalk.politics.guns, where people will gladly discuss this matter with\\nyou.\\n\\n--\\nPerry Metzger\\t\\tpmetzger@shearson.com\\n--\\nLaissez faire, laissez passer. Le monde va de lui meme.\\n'], 0: [\"From: jcmorris@mbunix.mitre.org (Morris)\\nSubject: Re: Soundblaster IRQ and Port settings\\nNntp-Posting-Host: mbunix.mitre.org\\nOrganization: The MITRE Corporation, Bedford, MA\\nLines: 42\\n\\n[discussing the use of IRQ 7]\\n\\nIn  recent article msprague@superior.mcwbst311b (Mike Sprague) writes:\\n\\n>I as a number of poeple in this thread have already written\\n>(I can't prove it's true, but I believe it), LPT1 does not\\n>actually use IRQ7, even though that interrupt is supposed to\\n>be dedicated to LPT1.\\n\\nTo put it a little differently:\\n\\n - IRQ 7 is the de facto standard interrupt assigned to be used by the\\n   printer adapter to announce its completion of some activity.\\n\\n - DOS doesn't monitor IRQ 7; it uses other means to determine when it's\\n   time to send out another byte to the printer.\\n\\n - Most (all?) (hardware) printer adapters have the ability to disable\\n   the use of IRQ 7, usually by merely breaking the connection between\\n   the ISA pin and the associated driver.  Other adapters control the\\n   IRQ line by a tri-state driver, and by programming just leave it\\n   in the high-impedence mode.\\n\\n - Unfortunately, there are a lot of adapter cards which use bistate\\n   drivers (i.e., either assert high or assert low) for the IRQ lines\\n   rather than tristate drivers (assert high, assert low, or don't\\n   assert anything).  The presence of such a card on an IRQ line precludes\\n   the use of that IRQ by any other adapter unless it is physically \\n   disconnected by a jumper.\\n\\n   (Incidentally, note that there's no requirement that a card hold\\n   the IRQ line low when no interrupt is desired.  If that were true\\n   you would have to somehow tie down all unconnected IRQ lines, and\\n   that certainly isn't a requirement.)\\n\\n - Non-DOS operating systems (OS/2, NT (?), various Unices or whatever the\\n   proper plural of Unix might be) require the use of IRQ 7 for performance\\n   reasons.  \\n\\nAnd the SB16, alas, is one of the cards which uses bistate drivers.\\n\\nJoe Morris / MITRE  (jcmorris@mitre.org)\\n\", 'From: guyd@austin.ibm.com (Guy Dawson)\\nSubject: Re: IDE vs SCSI, DMA and detach\\nOriginator: guyd@pal500.austin.ibm.com\\nOrganization: IBM Austin\\nLines: 60\\n\\n\\nIn article <1993Apr19.034517.12820@julian.uwo.ca>, wlsmith@valve.heart.rri.uwo.ca (Wayne Smith) writes:\\n> In article <RICHK.93Apr15075248@gozer.grebyn.com> richk@grebyn.com (Richard Krehbiel) writes:\\n> >>     Can anyone explain in fairly simple terms why, if I get OS/2, I might \\n> >>   need an SCSI controler rather than an IDE.  Will performance suffer that\\n> >>   much?  For a 200MB or so drive?  If I don\\'t have a tape drive or CD-ROM?\\n> >>   Any help would be appreciated.\\n> \\n> >So, when you\\'ve got multi-tasking, you want to increase performance by\\n> >increasing the amount of overlapping you do.\\n> >\\n> >One way is with DMA or bus mastering.  Either of these make it\\n> >possible for I/O devices to move their data into and out of memory\\n> >without interrupting the CPU.  The alternative is for the CPU to move\\n> >the data.  There are several SCSI interface cards that allow DMA and\\n> >bus mastering.\\n>  ^^^^^^^^^^^^\\n> How do you do bus-mastering on the ISA bus?\\n> \\n> >IDE, however, is defined by the standard AT interface\\n> >created for the IBM PC AT, which requires the CPU to move all the data\\n> >bytes, with no DMA.\\n> \\n> If we\\'re talking ISA (AT) bus here, then you can only have 1 DMA channel\\n> active at any one time, presumably transferring data from a single device.\\n> So even though you can have at least 7 devices on a SCSI bus, explain how\\n> all 7 of those devices can to DMA transfers through a single SCSI card\\n> to the ISA-AT bus at the same time.\\n\\nThink!\\n\\nIt\\'s the SCSI card doing the DMA transfers NOT the disks...\\n\\nThe SCSI card can do DMA transfers containing data from any of the SCSI devices\\nit is attached when it wants to.\\n\\nAn important feature of SCSI is the ability to detach a device. This frees the\\nSCSI bus for other devices. This is typically used in a multi-tasking OS to\\nstart transfers on several devices. While each device is seeking the data the\\nbus is free for other commands and data transfers. When the devices are\\nready to transfer the data they can aquire the bus and send the data.\\n\\nOn an IDE bus when you start a transfer the bus is busy until the disk has seeked\\nthe data and transfered it. This is typically a 10-20ms second lock out for other\\nprocesses wanting the bus irrespective of transfer time.\\n\\n> \\n> Also, I\\'m still trying to track down a copy of IBM\\'s AT reference book,\\n> but from their PC technical manual (page 2-93):\\n> \\n> \"The (FDD) adapter is buffered on the I.O bus and uses the System Board\\n> direct memory access (DMA) for record data transfers.\"\\n> I expect to see something similar for the PC-AT HDD adapter.  \\n> So the lowly low-density original PC FDD card used DMA and the PC-AT\\n> HDD controller doesn\\'t!?!?  That makes real sense.\\n-- \\n-- -----------------------------------------------------------------------------\\nGuy Dawson - Hoskyns Group Plc.\\n        guyd@hoskyns.co.uk  Tel Hoskyns UK     -  71 251 2128\\n        guyd@austin.ibm.com Tel IBM Austin USA - 512 838 3377\\n', \"From: buzz@apple.com (Steve Bollinger)\\nSubject: Re: Stereo sound problem (?) on mac games\\nOrganization: Apple Computer, Inc.\\nLines: 68\\n\\nIn article <ingemar.735296165@isy> Ingemar Ragnemalm, ingemar@isy.liu.se\\nwrites:\\n>>Enter game developers. The sound driver and current sound manager are\\n>>inconveniently lame for making games.\\n>\\n>The Sound Driver is pretty ok, since it's fast. Sound Manager used by the\\n>book is *useless*. Disposing of sound channels as soon as sound has\\ncompleted\\n>is out of the question for games with smooth animation. (It's too slow.)\\n\\nWhy would you dispose a channel if you are going to play more\\nsounds soon? If you are trying to write a game, you shouldn't\\nbe using SndPlay. Instead, make a channel and use BufferCmds\\nto play sounds on it. It works great. You can add CallBacks to\\nthe channel also to let you know when the channel is getting\\nempty. Before it gets empty.\\n\\n>\\n>The Sound Driver is so much snappier than Sound Manager. Unfortunately,\\n>System 7 supports it poorly, making programs crash occasionally.\\n>\\n>>The moral of the story is to developers: DON'T CHEAT!\\n>\\n>Well, I want my code to work on old systems too. I don't know about sys\\n7.1,\\n>but at least on 6.0.7, there are bugs in the Sound Manager that causes\\n>channels to hang (with no error message). This happends when I keep a\\n>channel open for long periods - necessary for performance - and play many\\n>sounds, stopping sounds halfway. Callbacks seems not to be reliable.\\n>Then only way I can safely tell if a sound has stopped playing is to\\n>inspect private variables in the channel (QHead, I think it was), and the\\n>only way I have found to tell if a channel is hung is to inspect an\\n>*undocumented* flag and modify it.\\n\\nCallbacks are very reliable, I found them 100% reliable, even\\nunder System 4.1. I was doing continuous background sound with\\ninterrupting sound effects on System 6.0 with the IM-V\\ndocumentation.\\n\\nYou probably were cancelling your callback commands out of\\nyour channels, of course you didn't get called. In general, if\\nyou have problems with sounds working when you play one per\\nchannel and then close the channel (with the related\\nslowdown), but then when you play more than one you don't\\nwork, then you are adding more than one synthesizer to a\\nchannel, possibly the same one multiple times. This might be\\nbecause you are calling SndPlay on a preexisting channel with\\na sound resource which adds the sampled sound synthesizer to\\nthe channel first thing before it plays. Most sampled sounds\\nhave this command at the start of them. You need to resedit\\nthe sound and remove that command, then when you create your\\nchannel, specify the sampled sound synthesizer to be the\\nchannel's synth. Then you can use asynch sndplay's all you\\nwant. You'll probably want to switch to BufferCmd's, since you\\nare going to have to use SndDoCommand anyway to add callbacks.\\n\\nNow before you go ahead and tell me I am full of it, and the\\nsound manager doesn't work for games, remember, Spectre uses\\nit. And it works great. If Spectre can spare the CPU time, you\\ncan too.\\n\\nOne little disclaimer: There are some out there who say the\\nSound Manager in the IIsi can't be made to work right. I'm not\\nsure either way, but I know for sure that you can make your\\nsounds work 100% correctly on every other machine using the\\nSound Manager.\\n\\n-Steve\\n\"], 1: ['From: robinson@cogsci.Berkeley.EDU (Michael Robinson)\\nSubject: Krypto cables (was Re: Cobra Locks)\\nOrganization: Institute of Cognitive Studies, U.C. Berkeley\\nLines: 51\\nDistribution: usa\\nNNTP-Posting-Host: cogsci.berkeley.edu\\n\\nIn article <1993Apr20.184432.21485@research.nj.nec.com> behanna@syl.nj.nec.com (Chris BeHanna) writes:\\n>\\tFor the same money, you can get a Kryptonite cable lock, which is\\n>anywhere from 1/2\" to 7/8\" thick steel cable (looks like steel rope), shielded\\n>in a flexible covering to protect your bike\\'s finish, and has a barrel-type\\n>locking mechanism.  I don\\'t know if it\\'s adjustable, but my source says it\\'s\\n>more difficult to pick than most locks, and the cable tends to squish flat\\n>in bolt-cutter jaws rather than shear (5/8\" model).\\n>\\n>\\tFYI, I\\'ll be getting a Krypto cable next paycheck.\\n\\nA word of warning, though:  Kryptonite also sells almost useless cable\\nlocks under the Kryptonite name.\\n\\nWhen I obtained my second motorcycle, I migrated one of my Kryptonite \\nU-locks from my bicycle to the new bike.  I then went out shopping for\\na new lock for the bicycle.\\n\\nFor about the same money ($20) I had the choice of a Kryptonite cable lock\\n(advantages: lock front and back wheels on bicycle and keep them both,\\nKryptonite name) or a cheesy no-name U-lock (advantages: real steel).\\nI chose the Kryptonite cable.  After less than a week, I took it back in\\ndisgust and exchanged it for the cheesy no-name U-lock.\\n\\nFirst, the Krypto cable I bought is not made by Kryptonite, is not covered by\\nthe Kryptonite guarantee, and doesn\\'t even approach Kryptonite standards of\\nquality and quality assurance.  It is just some generic made-in-Taiwan cable\\nlock with the Kryptonite name on it.\\n\\nSecondly, the latch engagement mechanism is something of a joke.  I\\ndon\\'t know if mine was a particularly poor example, but it was often\\nquite frustrating to get the latch to positively engage, and sometimes\\nit would seem to engage, only to fall open when I went to unlock it.\\n\\nThirdly, the lock has a little plastic door on the keyway which serves\\nthe sole purpose of frustrating any attempt to insert the key in the \\ndark.  I didn\\'t try it (obviously), but I have my doubts that the \\nlock mechanism would stand up to an \"insert screwdriver and TORQUE\"\\nattack.\\n\\nFourthly, the cable was not, in my opinion, of sufficient thickness to \\ndeter theft (for my piece of crap bicycle, that is).  All cables suffer the\\nweakness that they can be cut a few strands at a time.  If you are patient\\nyou can cut cables with fingernail clippers.  Aviation snips would go \\nthrough the cable in well under a minute.\\n\\n\\n\\n-- \\n  ----------------------------------------------------------------------------\\n  Michael Robinson                          UUCP:   ucbvax!cogsci!robinson\\n                                        INTERNET: robinson@cogsci.berkeley.edu\\n', 'From: servalan@access.digex.com (Servalan)\\nSubject: Re: Screw the people, crypto is for hard-core hackers & spooks  only\\nOrganization: Express Access Online Communications USA\\nLines: 38\\nNNTP-Posting-Host: access.digex.net\\n\\nIn article <1993Apr22.223906.25929@lehman.com> pmetzger@snark.shearson.com (Perry E. Metzger) writes:\\n>Qualcomm had spare cycles in the DSPs for their new CDMA digital\\n>cellular phones. They wanted to put strong crypto into them since they\\n>had the capacity. The government decided to \"discourage\" them.\\n\\nYou\\'re blowing smoke.  Qualcomm wants to sell to nice, lucrative overseas\\nmarkets like Japan and the EC.  The government told them \"don\\'t do encryption\\nif you ever hope to export this technology\".  The reason that CDMA doesn\\'t\\nhave encryption is NOT because the G-men came a\\'knocking at Qualcomm\\'s door.\\nIt\\'s because Qualcomm doesn\\'t think that the US market for digital cellular\\nis big enough for them.  This is just the International Traffic in Arms\\nRegulations all over again.\\n\\nIf you don\\'t believe me, call Qualcomm and ASK THEM.  Don\\'t just throw\\nout conspicracy theories.  At least, don\\'t do it on sci.crypt--there are\\nwhole other newsgroups devoted to this kind of uninformed claptrap.\\n\\n>any \"normal\" company trying to put one out will likely get a visit\\n>from the boys in the dark suits from Washington, just like Qualcomm\\n>did. I suspect that companies like Cylink are tolerated because their\\n>products are too expensive.\\n\\nHah.  They\\'re not that much more expensive.  Besides, if a drug dealer\\ncan afford a Rolex and a Mercedes, he can darn well afford Cylink phones.\\nNo, Cylink sells their phones because they\\'re willing to make different\\nstuff for domestic use vs. export.  Qualcomm isn\\'t.  So Cylink makes\\nmoney--that\\'s capitalism, comrade.\\n\\n>Someone out there WILL build a unit to do all this. Better yet,\\n>prehaps someone will produce a package that turns any 486 box with a\\n>sound card into a secure phone.\\n\\n\"Someone\" this and \"someone\" that.  If you think it\\'s so easy, why are\\nyou whining on the net instead of getting your butt in gear and writing\\nit?  Your name would become known and loved by dozens!  But no, that would\\nrequire actual EFFORT.\\n\\n\\t\\t\\t\\t\\t-= Servalan =-\\n', 'Subject: Re: BD\\'s did themselves--you\\'re all paranoid freaks\\nFrom: kmcvay@oneb.almanac.bc.ca (Ken Mcvay)\\nOrganization: The Old Frog\\'s Almanac\\nLines: 45\\n\\nIn article <C5wMp5.5u9@boi.hp.com> jeffw@boi.hp.com (jeff waldeck) writes:\\n\\n>Where did you hear about the thermal imaging? I haven\\'t heard this yet \\n>(not that I doubt it, I\\'m just looking for sources...) \\n\\nThis was reported in Canadian papers Thursday, 22 April - I _think_ the\\nsource was UPI, but don\\'t recall for certain.\\n\\n>It seems to me that if they did have this kind of info, they could\\n>broadcast it and it would resolve (or at least help to resolve) alot\\n>of doubt in people\\'s minds. \\n\\n>Personally, the way the (FBI/BATF/Reno/etc) is claiming all sorts of\\n>things without offering one shred of proof (other than their \"good word\")\\n>is very suspicious to me. A picture is worth a thousand words...\\n\\nI understand that at least two goverment investigations have been ordered,\\nso we may learn more during their hearings. \\n\\n>I sincerely hope you are right and it turns out (with indisputable\\n>proof broadcast across our land) that the Government groups had nothing\\n>to do with the fire. But until I see such proof, I think it is just as\\n>likely that a tank did knock over a lantern as Koresh torching the place.\\n>The only \"evidence\" I have seen is a tank crashing through the front\\n>wall, withdrawing, and seconds later flames are seen (the first flames\\n>on the video) erupting from this very same spot. Coincidence? Perhaps.\\n\\nTough call without more investigation, but if the thermal imaging story\\nholds up, I think the government will be more credable... of course,\\nparanoia fans won\\'t believe their results anyway, will they?\\n\\n>If such proof exists, the Government should publish it and put all this\\n>speculation to rest.\\n\\nHear, hear! I\\'d also like to see the autopsy reports confirm news reports\\nthat multiple victims were found shot (in the head), and in positions\\ninconsistent with fire victims. It is simply too early to draw conclusions\\neither way about this nasty incident, but I tend to believe the government\\nside.\\n\\n-- \\nThe Old Frog\\'s Almanac - A Salute to That Old Frog Hisse\\'f, Ryugen Fisher \\n     (604) 245-3205 (v32) (604) 245-4366 (2400x4) SCO XENIX 2.3.2 GT \\n  Ladysmith, British Columbia, CANADA. Serving Central Vancouver Island  \\nwith public access UseNet and Internet Mail - home to the Holocaust Almanac\\n'], 2: ['From: pharvey@quack.kfu.com (Paul Harvey)\\nSubject: Re: Clarification of personal position\\nOrganization: The Duck Pond public unix: +1 408 249 9630, log in as \\'guest\\'.\\nLines: 26\\n\\nIn article <C5rBHt.Fw4@athena.cs.uga.edu> \\nhudson@athena.cs.uga.edu (Paul Hudson Jr) writes:\\n>In article <C5MuIw.AqC@mailer.cc.fsu.edu> \\ndlecoint@garnet.acns.fsu.edu (Darius_Lecointe) writes:\\n>>If it were a sin to violate Sunday no one could\\n>>ever be forgiven for that for Jesus never kept Sunday holy.  He only\\n>>recognized one day of the seven as holy.\\n>Jesus also recognized other holy days, like the Passover.  Acts 15 says \\n>that no more should be layed on the Gentiles than that which is necessary.\\n>The sabbath is not in the list, nor do any of the epistles instruct people\\n>to keep the 7th day, while Christians were living among people who did not\\n>keep the 7th day.  It looks like that would have been a problem.\\n>Instead, we have Scriptures telling us that all days can be esteemed alike\\n>(Romans 14:5) and that no man should judge us in regard to what kind of\\n>food we eat, Jewish holy days we keep, or _in regard to the sabbath. (Col. 2.)\\n>>The\\n>>question is \"On what authority do we proclaim that the requirements of the\\n>>fourth commandment are no longer relevant to modern Christians?\"\\n>I don\\'t think that the Sabbath, or any other command of the law is totally\\n>irrelevant to modern Christians, but what about Collosions 2, where it says\\n>that we are not to be judged in regard to the keeping of the sabbath?\\n\\nWhy are you running away from the word of Jesus? Has somebody superseded\\nthe word of Jesus? If you don\\'t follow the morality of the Ten\\nCommandments and the Law and the Prophets and the word of Jesus, whose\\nmorality do you follow?\\n', 'From: rodger@zeisler.lonestar.org (Rodger B. Zeisler)\\nSubject: 05/28/93 PastorTalk\\nOrganization: Rodger B. Zeisler, Plano, Tx USA\\nLines: 97\\n\\n\\n                        -= PASTORTALK =-\\n\\n  A weekly dialogue with a local pastor on the news of the day\\n\\n                      by Carl (Gene) Wilkes \\n\\n                       Startext: MC344578 \\n                     CompuServe: 70423,600\\n                       Internet: 70423.600@compuserve.com\\n\\n                   -= THIS WEEK\\'S THOUGHTS =-\\n\\nLast week the Supreme Court refused without comment to hear an\\nappeal by Rensselaer, IN, school officials desiring the\\ndistribution of Bibles in their public schools (REL65, 5/21). A\\nlower court had banned the local Gideons, an international Bible-\\ndistribution group, from passing out Bibles to fifth-graders. The\\nACLU\\'s Barry Lynn was quoted as saying that the court\\'s action\\nprotected the \"religious neutrality of our public schools.\" He also\\nsaid that schools must serve students of \"all faiths and none.\"\\nSchools were not to be a \"bazaar where rival religious groups\\ncompete for converts,\" according to Lynn.\\n\\nSeveral Gideons, men who are responsible for putting Bibles in\\nhospitals and hotels, are members of our church. They tell of\\nsimilar stories where they are only allowed to distribute Bibles on\\nsidewalks around the schools, but cannot go inside the schools.\\nThey tell of mild harassment by parents who do not want their\\nchildren receiving a Bible from a stranger. They are willing to\\ncontinue their work at a distance, but find the school\\'s position\\nsomewhat disheartening.\\n\\nI understand rationally and logically the court\\'s position. And, I\\ncan see the sense of fairness for all groups. But, on the other\\nhand, when does \"neutrality\" become \"nihilism?\" When does plurality\\nturn into no position at all?\\n\\nI see a couple of ironies here. One is that we can pass out condoms\\nbut not Bibles in our schools. Think on that one for a moment.\\n\\nThe other is that while we are seeking \"religious neutrality\" in\\nour schools, countries like Russia--who, by the way, practiced\\n\"religious neutrality\" for the past seventy years--are making the \\nBible part of their public school curriculum. When I was in St.\\nPetersburg in March, the church we worked with had trained over 100\\npublic school teachers to teach the Bible, and the government had\\nrequested hundreds more! I recently heard a medical doctor who is\\npresident of the Gideon chapter in Moscow tell how they are eagerly\\ninvited to the University of Moscow to distribute Bibles to the\\nstudents and are given class time to explain its contents. I\\nremember seeing a photograph of this doctor holding a Bible and\\nspeaking to the university students standing under a statue of\\nLenin. Now, that\\'s ironic!\\n\\nI admit two things: 1) We are a pluralistic society, and all faiths\\nhave equal footing. This is what our country was founded on. 2) To\\nallow every group on school grounds could create a bazaar-like\\natmosphere. Each city must work to be inclusive of all religions\\nand provide a hearing for them. 3)--I know I said two--The vitality\\nof religious faith is not dependent upon whether or not the public\\narena acknowledges it as valid.\\n\\nHowever--and you knew this was coming--I believe, disallowing the\\ndistribution of the Bible by law-abiding, caring adults in our\\nschools only signals once again our culture\\'s movement away from a\\nsingular base from which we as individuals and as a nation can make\\nmoral and ethical decisions.\\n\\nWhat do you think? \\n\\n                         -= MAIL BOX =-\\n(Let me know if you do not want me to print your letter or your\\nname.)\\n\\nGood column [re: TIME coverstory about teen sexuality]; I agree\\nwith moral education from home, but some homes don\\'t have the kinds\\nof morals I want taught.  One family I worked with smoked dope as\\ntheir primary family activity.  Another acted like incest was OK.\\nFamilies, no matter where they are, are often a lot sicker than\\nwe\\'d like to believe.\\n\\nFrom: John Hightower, MC 407602\\n\\nJohn,\\n\\nI agree that the \"home\" ain\\'t what it used to be, and some homes\\nare NOT the place to learn value-based sexuality. I still believe\\nthat this is where the church can come into play. I know, those\\nfamilies you speak of may not come to a church to seek information,\\nbut the help does not need to be in a church building...I believe\\nthat the youth from the families you mentioned will probably\\ndisregard the value-free information at school, too.\\n\\n(#) WRITER\\'S NOTE: The views of this column do not necessarily\\nreflect the views of members of or the church, Legacy Drive Baptist\\nChurch, Plano, TX.\\n', 'From: Thyagi@cup.portal.com (Thyagi Morgoth NagaSiva)\\nSubject: Re: OTO, the Ancient Order of Oriental Templars\\nOrganization: The Portal System (TM)\\nDistribution: world\\n  <1993Apr14.130150.28931@lynx.dac.northeastern.edu> <79615@cup.portal.com>\\n  <1qn5rn$q7p@csugrad.cs.vt.edu>\\nLines: 144\\n\\n930418\\n\\nDo what thou wilt shall be the whole of the Law. [Honestly.]\\nThe word of Sin is Restriction. [Would I kid you?]\\n\\n\\nDoes one man\\'s words encompass the majestic vision of thousands\\nof individuals?  Quoting a man is not the same as quoting the\\nOrder.  Taken out of context, words can be interpreted much\\ndifferently than had one applied them within the confines of\\ntheir original expression.\\n\\nI think this is the case regarding Hymenaeus Beta, Frater Superior \\nof the Order to which I belong.  When he included that bit\\nfrom Merlinus X\\' he did us all a service.  He showed us the extremes\\nto which Order members have been known to go in their fervor.\\nI have little knowledge regarding Reuss\\' background, but surely\\nhe was an unusual man, and he was an important force in the Order \\nfor many years.\\n\\nYet as people change so do Orders change, and while we look back\\nso carefully at the dirty laundry of O.T.O. remember that this is\\nonly the surface skim and that many perspectives are now encompassed\\nwhich extend beyond any one individual.  I hope to show that there\\nwas and is much room for a difference of opinion within the Order\\nitself, perhaps by testing the limits myself.\\n\\n\\nLet us examine this issue a bit more closely....\\n\\n\"In 1895, Karl Kellner (1850-1905), a wealthy Austrian industrialist\\nand paper chemist, as well as a high-grade Mason, founded the Ordo\\nTempli Orientis.  Kellner had traveled widely in the East, where he\\nmet three adepts who instructed him specific magical practices.  \\nKellner\\'s efforts to develop the Order were later assisted by Franz\\nHartmann, Heinrich Klein and Theodore Reuss, who had worked together\\nprior to joining the O.T.O.  The Order was first proclaimed in 1902\\nin Reuss\\'s Masonic publication, \\'Oriflamme\\'.  On Kellner\\'s death,\\nReuss succeeded him as Outer Head [O.H.O.].  The \\'Jubilee\\' edition of\\nthe \\'Oriflamme\\', published in 1912, announced that the Order taught\\nsecret of sexual magic.\\n \\n\"Theodore Reuss was an interesting character.  Born June 28, 1855 in\\nAugsburg, he entered Masonry in 1876.  He was a singer, journalist and\\npossibly a spy for the Prussian political police, infiltrating the Socialist\\nLeague founded by Karl Marx\\'s daughter and her husband.  Reuss was\\nlater associated with William Wynn Westcott, a leader of the Golden\\nDawn, who later introduced him to John Yarker.  Yarker chartered Reuss to\\nfound the Rites of Memphis and Mizraim in Germany.  After several\\nattempts to concretize various Masonic Rites, Reuss settled on the\\ndevelopment of the O.T.O.\\n\\n\"The Order experienced reasonably steady growth under Reuss\\' leadership.\\nFor example, he chartered Papus in France, Rudolph Steiner in Berlin\\nand H. Spencer Lewis in the USA.  In 1912, the historic meeting between\\nReuss and Crowley occurred.  Crowley wrote that Reuss came to him and\\naccused him of revealing Order secrets.  When Crowley looked at it afresh,\\nthe initiated interpretation of sexual magick unfolded itself to him for\\nthe first time.  Reuss appointed Crowley as Supreme and Holy King of all\\nthe English speaking world, and it was this authorization that he invoked\\nwhen publishing the material of the Equinox.\\n\\n\"Reuss resigned as Outer Head of the Order in 1922 after suffering a\\nstroke and named Crowley his successor.  All was well until 1925 when\\n_The Book of the Law_ was translated into German.  There was a break\\nin the continuity of the Order.  Manyk members split with the new O.H.O.\\nover the book, which Crowley was actively promulgating through the Order.\\nHe had earlier revise dthe Order rituals at Reuss\\'s request, deeply\\ninfusing the doctrines of the New Aeon revelation.\"\\n\\n_An Introduction to the History of the O.T.O._, by Ad Veritatem IX\\'\\n\\nWithin _Equinox III:10_, Edited by \\n  Hymenaeus Beta, Frater Superior, Rex Summus Sanctissimus,\\n    Caliph of the United States of America,\\n      Published by Samuel Weiser, 1990.\\n\\n\\n\\nThere are many possible reasons that our Frater Superior included this\\nmaterial in _Equinox III:10_.  And this is the real point, is it not?\\nWhy did he wish to publish such things about the history of his own\\norganization?  Does he represent a dogmatic threat to the principle\\nof Thelema?  Or is he exercising his True Will and putting forth very\\ncomplex pictures with no easy answers?  A picture which leaves room\\nfor very many interpretations.\\n\\nIt is quite easy for me to see, for example, that all of O.T.O. derived\\nout of the dribble of faltering Masonry, purchased by clever hucksters\\nwith an ounce of courage and some writing ability to aid them.  And I\\ncan take that all the way down to our present Caliph, whose feeble\\nsupport of the \\'Law of Thelema\\' is laughable at best.\\n\\nWould I be thrown out of the Order for speaking in this way?  \\nWill I?  \\nI think not.\\nWhy?  Because my Frater will see it as a perspective, an interjection\\nI am using as an example.  My illustration shows that we may express things\\nin the context of a larger work and the true significance of this may be\\nquite difficult to apprehend at first.\\n\\nSo it may be with OTO and Merlinus X\\'.  Please look O.T.O. more carefully.\\nI do not support Reuss\\'s words myself, as I am not qualified to assess\\nthem, and I am critical of their pomposity.  If I who am a member of\\nthe Order take such a stand and am allowed to continue doing so, then\\nwhat can this say about the health of the Order?  Does it mean that\\nthe Order has \\'gone soft\\' and abandoned its moral principles?  Or\\ndoes it mean that it is strong in its ability to let the will of\\nuniversal kinship arise on its own, not shackled by some dogmatic\\nrequirement?  How shall we resolve these two possibilities?\\n\\n\\nI find a high calibre of individual associated with Ordo Templi Orientis.\\nThey are often quite intelligent and sometimes very well versed in arcane\\nor usual information.  They are quite often artists and geniuses.  \\nHaving met some 20 longstanding members in the SF Bay Area (many who are or\\nwere very heavily involved with the Order), I can vouch for the integrity\\nof the organization as it stands.\\n\\nI have sometimes questioned the policy of Hymenaeus Beta.  In these moments \\nI followed my intuition, and I\\'ve found little to stop me from requesting\\na Second initiation from a different O.T.O. body.  I\\'m happily participating\\nin social groups (Feasts or Initiations) and have come to know the Gnostic\\nMass well enough for my tastes.\\n \\n\\nThis doesn\\'t make me an authority on Order politics and explanations, however.\\nI can only hypothesize and relay to you what I understand based on my\\nlimited contact with other members.\\n\\nI urge you not to take the words of Merlinus X too far.  There are many\\nways to interpret words, and many people who have become involved with\\nthe Order feel very strongly about the sanctity of personal freedom\\nand the preservation of individual vision.\\n\\nI welcome other comment on this issue and will be writing more in response\\nto other posts in this thread.\\n\\n\\nInvoke me under my stars.  Love is the law, love under will.\\n\\nI am I!\\n\\nFrater (I) Nigris (DCLXVI) CCCXXXIII\\n'], 3: [\"From: cs902043@ariel.yorku.ca (SHAWN LUDDINGTON)\\nSubject: Re: 1993 NHL Draft\\nOrganization: York University, Toronto, Canada\\nLines: 51\\n\\nIn article <93109.134719IO91748@MAINE.MAINE.EDU> Jon Carr <IO91748@MAINE.MAINE.EDU> writes:\\n>When is the draft this year?  And will there be any coverage?\\n>I know the upcomming NFL draft is on ESPN.\\n>\\n>Anyone got the details?\\n>\\n>Paul Kariya 1993 #1 Pick! (No. 2 perhaps?  He won't last long!) :-)\\n>\\nI don't know the exact coverage in the states.  In Canada it is covered\\nby TSN, so maybe ESPN will grab their coverage!  I don't know!\\n\\nAs for the picks\\nOttawa picks #1 which means it is almost 100% that Alexander Daigle will \\ngo #1. He'll either stay or be traded in Montreal or Quebec.  IMO I would\\ntake Kariya.  He should alot of leadership in the NCAA and so far in\\nthe World Championships.  Daigle didn't show this for his junior team.\\n\\nSan Jose will then get Kariya.\\n\\nTampa Bay will either go for a russian Kozlov (I think that's it) or a \\n    defenseman Rob Niedemeyer (probably spelt the last name wrong)\\n\\nBecause of expansion I won't go further but I will name other of the\\nblue chip prospects\\n\\n   - Chris Gratton\\n   - Chris Pridham\\n   - a swedish player who I can't remember his name\\n\\nDraft Order\\n-----------\\n1) Ottawa\\n2) San Jose\\n3) Tampa Bay\\n4) South Florida or Anahiem\\n5) South Florida or Anahiem\\n6) Hartford\\n7) Edmonton\\n8) Dallas\\n9) NY Rangers\\n10) Philadelphia\\n\\nthe 8th thru 10th picks could be wrong - I don't have the standings here\\nand am guessing \\n\\n(In my mind there are 8 top notch prospects in the draft, with Kariya \\n leading the way but not going #1)\\n\\nShawn - GO CAPS (two first round picks for the next three years - THANKS\\n                 ST.LOUIS or should I say RON CARON and SCOTT STEVENS)\\n\\n\", 'From: franjion@spot.Colorado.EDU (John Franjione)\\nSubject: Re: Relative value of players\\nNntp-Posting-Host: spot.colorado.edu\\nOrganization: University of Colorado, Boulder\\nLines: 43\\n\\nkime@mongoose.torolab.ibm.com (Edward Kim) writes:\\n\\n>It is doubtful that the blue jays would have won the AL east without Morris.\\n>Last year, when the team went 13-15 for the month of August, and all the \\n>other starters were being shelled, and Milwaukee was making a charge,\\n>Morris went 5-1 with a pretty good era (I can\\'t remember exactly).\\n>Also, let\\'s not underestimate the importance his 240+ innings to save \\n>the bullpen every fifth day.  If he didn\\'t help us win the AL east, forget\\n>about the pennent and the world series.\\n\\n>His run support was high (5.98 runs) but so was Stottlemyer\\'s (5.90 runs)\\n>and he won only 12 games.  I do remember Morris winning an inordinate number of\\n>6-5 and 8-6 ballgames, but this is to his credit.  He pitched only as good\\n>as he needed to be.  When he was up 6-1 in a ballgame, he just put it in cruise\\n>control and threw the ball up there and let the batters \"get themseleves out\"\\n>(I hate this expression!).  An inexperienced pitcher would wear himself out \\n>trying to make perfect pitches to keep his era down.  But Morris, being a \\n>veteran pitcher, knows that winning is the only thing that really matters in\\n>baseball.  By saving himself, he was able to reach back for that little extra\\n>(I hate this too!) when the game was on the line.\\n\\nI don\\'t buy this at all.  I think things are colored to a very large\\ndegree of preconceived notions of who the players involved are.  Try\\nthis exercise:\\n\\nXXX is pitching today.  His team scores 4 in the first inning, and 3\\nin the fourth.  XXX gives up 0 in the 1st through 4th.  In the fifth,\\nhe gives up 3 runs.  In the 6th, he gives up 2 more.  The score is now\\n7-5, with XXX\\'s team still on top.\\n\\nI contend that if XXX were Jack Morris, the assessment would be \"he is\\na gutty veteran who pitches only as well as he has to to win.\"\\n\\nIf XXX were Mike Trmbley, the assessment would be \"he is an\\ninexperienced rookie who doesn\\'t know how to pitch.  Needs more\\nseasoning.  Send him to AAA.  Or to the spice rack.\"\\n\\n\\n-- \\nJohn Franjione\\nDepartment of Chemical Engineering\\nUniversity of Colorado, Boulder\\nfranjion@spot.colorado.edu\\n', \"From: cabanrf@wkuvx1.bitnet\\nSubject: Re: My Belated Predictions (NL)\\nOrganization: Western Kentucky University, Bowling Green, KY\\nLines: 56\\n\\nIn article <mssC4zyo8.JsC@netcom.com>, mss@netcom.com (Mark Singer) writes:\\n> In article <Apr.4.19.42.08.1993.12176@pilot.njin.net> gajarsky@pilot.njin.net (Bob Gajarsky - Hobokenite) writes:\\n>>i've said the braves would improve by injury as well.  here's how.\\n>>\\n>>javier lopez is a better catcher than greg olson.\\n>>ryan klasko is a better firstbaseman than bream.\\n>> chipper jones is a better shortstop than anyone the braves\\n>> put out there.\\n>>\\n>>mel nieves is better than nixon/sanders.\\n>>\\n>>that's how. it FORCES them to play the young guys.\\n>>\\n>>- bob gaj\\n> \\n> I continue to be amazed at these comments.  While Lopez might *some\\n> day* be a better catcher than Olson, I find it totally amazing for\\n> you to suggest that this 22 year-old with three seasons of professional\\n> baseball is *now* better than Olson, a five-year MLB veteran who is\\n> noted for his ability to call a game, and who has a better-than-average\\n> arm.  Oh, perhaps you are talking about hitting.  Well, sure, Lopez\\n> *might* hit better.  Perhaps he *probably* will.\\n> \\n> But has there ever in the history of baseball been a 22-year-old (or\\n> younger) *rookie* catcher who compared favorably among all league\\n> catchers in terms of defense and brought a .247 bat?  Wasn't it \\n\\nYes, Ivan Rodriguez, last year.  Batted .260 and threw out 51% of the\\nbaserunners.  Not too shabby for a rookie from AA.  20 years old last\\nyear.\\n\\n> Sandy Alomar who was supposed to be that good in his rookie year?\\n> Not.  Wasn't it Benito Santiago who was supposed to be that good\\n> in his rookie year?  Not.\\n> \\n> I can continue this thread with the others mentioned, but you get\\n> the point.  You and others seem to be so quick to dismiss the \\n> seasoned veterans in favor of the hot *young* rookies.  Perhaps -\\n> just perhaps - the management team of the pennant-winning Braves\\n> knows something more than you do.  And perhaps what they know is\\n> that very, very few 21- and 22-year old rookies come up to the majors\\n> and make an impact. \\n> \\n> \\n> --\\tThe Beastmaster\\n> \\n> \\n>  \\n> -- \\n> Mark Singer    \\n> mss@netcom.com\\n-- \\nRoy F. Cabaniss......................*Wait till Tommy meets the Lord and\\nWestern Kentucky University..........*finds out that He's wearing pinstripes.\\nAll opinions contained herein........*Gaylord Perry (talking about Lasorda)\\nAre all mine own, and that's the sin.*Baseball, what a way to spend a day!!\\n\"]}\n",
            "\n",
            "   Topic  Count              Name  \\\n",
            "0     -1     32  -1_the_and_of_to   \n",
            "1      0     24  0_the_to_for_and   \n",
            "2      1     18    1_the_to_of_in   \n",
            "3      2     14  2_the_of_to_that   \n",
            "4      3     12   3_the_to_and_he   \n",
            "\n",
            "                                     Representation  \\\n",
            "0  [the, and, of, to, in, you, that, from, for, it]   \n",
            "1    [the, to, for, and, is, of, have, you, it, in]   \n",
            "2    [the, to, of, in, is, that, and, it, for, you]   \n",
            "3    [the, of, to, that, in, is, and, it, are, you]   \n",
            "4     [the, to, and, he, in, is, of, be, they, for]   \n",
            "\n",
            "                                 Representative_Docs  \n",
            "0  [From: sera@zuma.UUCP (Serdar Argic)\\nSubject:...  \n",
            "1  [From: jcmorris@mbunix.mitre.org (Morris)\\nSub...  \n",
            "2  [From: robinson@cogsci.Berkeley.EDU (Michael R...  \n",
            "3  [From: pharvey@quack.kfu.com (Paul Harvey)\\nSu...  \n",
            "4  [From: cs902043@ariel.yorku.ca (SHAWN LUDDINGT...  \n"
          ]
        }
      ]
    },
    {
      "cell_type": "code",
      "source": [],
      "metadata": {
        "id": "6iro3J-N9wOY"
      },
      "execution_count": null,
      "outputs": []
    },
    {
      "cell_type": "code",
      "source": [
        "bar_chart = topic_model.visualize_barchart(n_words=5)\n",
        "bar_chart.show()"
      ],
      "metadata": {
        "colab": {
          "base_uri": "https://localhost:8080/",
          "height": 342
        },
        "id": "IbWB8tOg4_ZJ",
        "outputId": "5b3ec7ab-69a9-4c0c-f366-acd8575f27cd"
      },
      "execution_count": null,
      "outputs": [
        {
          "output_type": "display_data",
          "data": {
            "text/html": [
              "<html>\n",
              "<head><meta charset=\"utf-8\" /></head>\n",
              "<body>\n",
              "    <div>            <script src=\"https://cdnjs.cloudflare.com/ajax/libs/mathjax/2.7.5/MathJax.js?config=TeX-AMS-MML_SVG\"></script><script type=\"text/javascript\">if (window.MathJax && window.MathJax.Hub && window.MathJax.Hub.Config) {window.MathJax.Hub.Config({SVG: {font: \"STIX-Web\"}});}</script>                <script type=\"text/javascript\">window.PlotlyConfig = {MathJaxConfig: 'local'};</script>\n",
              "        <script charset=\"utf-8\" src=\"https://cdn.plot.ly/plotly-2.24.1.min.js\"></script>                <div id=\"f93e97c6-4e43-4f23-8d92-2e72eb890db3\" class=\"plotly-graph-div\" style=\"height:325.0px; width:1000px;\"></div>            <script type=\"text/javascript\">                                    window.PLOTLYENV=window.PLOTLYENV || {};                                    if (document.getElementById(\"f93e97c6-4e43-4f23-8d92-2e72eb890db3\")) {                    Plotly.newPlot(                        \"f93e97c6-4e43-4f23-8d92-2e72eb890db3\",                        [{\"marker\":{\"color\":\"#D55E00\"},\"orientation\":\"h\",\"x\":[0.05006742584213307,0.05060228996029092,0.05087857722867811,0.061387816527720816,0.07359832763180495],\"y\":[\"is  \",\"and  \",\"for  \",\"to  \",\"the  \"],\"type\":\"bar\",\"xaxis\":\"x\",\"yaxis\":\"y\"},{\"marker\":{\"color\":\"#0072B2\"},\"orientation\":\"h\",\"x\":[0.045670177171818586,0.047006047117273596,0.04814867445520895,0.0482218910549232,0.08144197690070117],\"y\":[\"is  \",\"in  \",\"of  \",\"to  \",\"the  \"],\"type\":\"bar\",\"xaxis\":\"x2\",\"yaxis\":\"y2\"},{\"marker\":{\"color\":\"#CC79A7\"},\"orientation\":\"h\",\"x\":[0.04768230718666824,0.04820710052311792,0.057981869689669646,0.07211337248779706,0.0931643145784136],\"y\":[\"in  \",\"that  \",\"to  \",\"of  \",\"the  \"],\"type\":\"bar\",\"xaxis\":\"x3\",\"yaxis\":\"y3\"},{\"marker\":{\"color\":\"#E69F00\"},\"orientation\":\"h\",\"x\":[0.030280753637451956,0.030835275789571997,0.033760779556624695,0.035308947992581455,0.052054507618534585],\"y\":[\"in  \",\"he  \",\"and  \",\"to  \",\"the  \"],\"type\":\"bar\",\"xaxis\":\"x4\",\"yaxis\":\"y4\"}],                        {\"template\":{\"data\":{\"barpolar\":[{\"marker\":{\"line\":{\"color\":\"white\",\"width\":0.5},\"pattern\":{\"fillmode\":\"overlay\",\"size\":10,\"solidity\":0.2}},\"type\":\"barpolar\"}],\"bar\":[{\"error_x\":{\"color\":\"#2a3f5f\"},\"error_y\":{\"color\":\"#2a3f5f\"},\"marker\":{\"line\":{\"color\":\"white\",\"width\":0.5},\"pattern\":{\"fillmode\":\"overlay\",\"size\":10,\"solidity\":0.2}},\"type\":\"bar\"}],\"carpet\":[{\"aaxis\":{\"endlinecolor\":\"#2a3f5f\",\"gridcolor\":\"#C8D4E3\",\"linecolor\":\"#C8D4E3\",\"minorgridcolor\":\"#C8D4E3\",\"startlinecolor\":\"#2a3f5f\"},\"baxis\":{\"endlinecolor\":\"#2a3f5f\",\"gridcolor\":\"#C8D4E3\",\"linecolor\":\"#C8D4E3\",\"minorgridcolor\":\"#C8D4E3\",\"startlinecolor\":\"#2a3f5f\"},\"type\":\"carpet\"}],\"choropleth\":[{\"colorbar\":{\"outlinewidth\":0,\"ticks\":\"\"},\"type\":\"choropleth\"}],\"contourcarpet\":[{\"colorbar\":{\"outlinewidth\":0,\"ticks\":\"\"},\"type\":\"contourcarpet\"}],\"contour\":[{\"colorbar\":{\"outlinewidth\":0,\"ticks\":\"\"},\"colorscale\":[[0.0,\"#0d0887\"],[0.1111111111111111,\"#46039f\"],[0.2222222222222222,\"#7201a8\"],[0.3333333333333333,\"#9c179e\"],[0.4444444444444444,\"#bd3786\"],[0.5555555555555556,\"#d8576b\"],[0.6666666666666666,\"#ed7953\"],[0.7777777777777778,\"#fb9f3a\"],[0.8888888888888888,\"#fdca26\"],[1.0,\"#f0f921\"]],\"type\":\"contour\"}],\"heatmapgl\":[{\"colorbar\":{\"outlinewidth\":0,\"ticks\":\"\"},\"colorscale\":[[0.0,\"#0d0887\"],[0.1111111111111111,\"#46039f\"],[0.2222222222222222,\"#7201a8\"],[0.3333333333333333,\"#9c179e\"],[0.4444444444444444,\"#bd3786\"],[0.5555555555555556,\"#d8576b\"],[0.6666666666666666,\"#ed7953\"],[0.7777777777777778,\"#fb9f3a\"],[0.8888888888888888,\"#fdca26\"],[1.0,\"#f0f921\"]],\"type\":\"heatmapgl\"}],\"heatmap\":[{\"colorbar\":{\"outlinewidth\":0,\"ticks\":\"\"},\"colorscale\":[[0.0,\"#0d0887\"],[0.1111111111111111,\"#46039f\"],[0.2222222222222222,\"#7201a8\"],[0.3333333333333333,\"#9c179e\"],[0.4444444444444444,\"#bd3786\"],[0.5555555555555556,\"#d8576b\"],[0.6666666666666666,\"#ed7953\"],[0.7777777777777778,\"#fb9f3a\"],[0.8888888888888888,\"#fdca26\"],[1.0,\"#f0f921\"]],\"type\":\"heatmap\"}],\"histogram2dcontour\":[{\"colorbar\":{\"outlinewidth\":0,\"ticks\":\"\"},\"colorscale\":[[0.0,\"#0d0887\"],[0.1111111111111111,\"#46039f\"],[0.2222222222222222,\"#7201a8\"],[0.3333333333333333,\"#9c179e\"],[0.4444444444444444,\"#bd3786\"],[0.5555555555555556,\"#d8576b\"],[0.6666666666666666,\"#ed7953\"],[0.7777777777777778,\"#fb9f3a\"],[0.8888888888888888,\"#fdca26\"],[1.0,\"#f0f921\"]],\"type\":\"histogram2dcontour\"}],\"histogram2d\":[{\"colorbar\":{\"outlinewidth\":0,\"ticks\":\"\"},\"colorscale\":[[0.0,\"#0d0887\"],[0.1111111111111111,\"#46039f\"],[0.2222222222222222,\"#7201a8\"],[0.3333333333333333,\"#9c179e\"],[0.4444444444444444,\"#bd3786\"],[0.5555555555555556,\"#d8576b\"],[0.6666666666666666,\"#ed7953\"],[0.7777777777777778,\"#fb9f3a\"],[0.8888888888888888,\"#fdca26\"],[1.0,\"#f0f921\"]],\"type\":\"histogram2d\"}],\"histogram\":[{\"marker\":{\"pattern\":{\"fillmode\":\"overlay\",\"size\":10,\"solidity\":0.2}},\"type\":\"histogram\"}],\"mesh3d\":[{\"colorbar\":{\"outlinewidth\":0,\"ticks\":\"\"},\"type\":\"mesh3d\"}],\"parcoords\":[{\"line\":{\"colorbar\":{\"outlinewidth\":0,\"ticks\":\"\"}},\"type\":\"parcoords\"}],\"pie\":[{\"automargin\":true,\"type\":\"pie\"}],\"scatter3d\":[{\"line\":{\"colorbar\":{\"outlinewidth\":0,\"ticks\":\"\"}},\"marker\":{\"colorbar\":{\"outlinewidth\":0,\"ticks\":\"\"}},\"type\":\"scatter3d\"}],\"scattercarpet\":[{\"marker\":{\"colorbar\":{\"outlinewidth\":0,\"ticks\":\"\"}},\"type\":\"scattercarpet\"}],\"scattergeo\":[{\"marker\":{\"colorbar\":{\"outlinewidth\":0,\"ticks\":\"\"}},\"type\":\"scattergeo\"}],\"scattergl\":[{\"marker\":{\"colorbar\":{\"outlinewidth\":0,\"ticks\":\"\"}},\"type\":\"scattergl\"}],\"scattermapbox\":[{\"marker\":{\"colorbar\":{\"outlinewidth\":0,\"ticks\":\"\"}},\"type\":\"scattermapbox\"}],\"scatterpolargl\":[{\"marker\":{\"colorbar\":{\"outlinewidth\":0,\"ticks\":\"\"}},\"type\":\"scatterpolargl\"}],\"scatterpolar\":[{\"marker\":{\"colorbar\":{\"outlinewidth\":0,\"ticks\":\"\"}},\"type\":\"scatterpolar\"}],\"scatter\":[{\"fillpattern\":{\"fillmode\":\"overlay\",\"size\":10,\"solidity\":0.2},\"type\":\"scatter\"}],\"scatterternary\":[{\"marker\":{\"colorbar\":{\"outlinewidth\":0,\"ticks\":\"\"}},\"type\":\"scatterternary\"}],\"surface\":[{\"colorbar\":{\"outlinewidth\":0,\"ticks\":\"\"},\"colorscale\":[[0.0,\"#0d0887\"],[0.1111111111111111,\"#46039f\"],[0.2222222222222222,\"#7201a8\"],[0.3333333333333333,\"#9c179e\"],[0.4444444444444444,\"#bd3786\"],[0.5555555555555556,\"#d8576b\"],[0.6666666666666666,\"#ed7953\"],[0.7777777777777778,\"#fb9f3a\"],[0.8888888888888888,\"#fdca26\"],[1.0,\"#f0f921\"]],\"type\":\"surface\"}],\"table\":[{\"cells\":{\"fill\":{\"color\":\"#EBF0F8\"},\"line\":{\"color\":\"white\"}},\"header\":{\"fill\":{\"color\":\"#C8D4E3\"},\"line\":{\"color\":\"white\"}},\"type\":\"table\"}]},\"layout\":{\"annotationdefaults\":{\"arrowcolor\":\"#2a3f5f\",\"arrowhead\":0,\"arrowwidth\":1},\"autotypenumbers\":\"strict\",\"coloraxis\":{\"colorbar\":{\"outlinewidth\":0,\"ticks\":\"\"}},\"colorscale\":{\"diverging\":[[0,\"#8e0152\"],[0.1,\"#c51b7d\"],[0.2,\"#de77ae\"],[0.3,\"#f1b6da\"],[0.4,\"#fde0ef\"],[0.5,\"#f7f7f7\"],[0.6,\"#e6f5d0\"],[0.7,\"#b8e186\"],[0.8,\"#7fbc41\"],[0.9,\"#4d9221\"],[1,\"#276419\"]],\"sequential\":[[0.0,\"#0d0887\"],[0.1111111111111111,\"#46039f\"],[0.2222222222222222,\"#7201a8\"],[0.3333333333333333,\"#9c179e\"],[0.4444444444444444,\"#bd3786\"],[0.5555555555555556,\"#d8576b\"],[0.6666666666666666,\"#ed7953\"],[0.7777777777777778,\"#fb9f3a\"],[0.8888888888888888,\"#fdca26\"],[1.0,\"#f0f921\"]],\"sequentialminus\":[[0.0,\"#0d0887\"],[0.1111111111111111,\"#46039f\"],[0.2222222222222222,\"#7201a8\"],[0.3333333333333333,\"#9c179e\"],[0.4444444444444444,\"#bd3786\"],[0.5555555555555556,\"#d8576b\"],[0.6666666666666666,\"#ed7953\"],[0.7777777777777778,\"#fb9f3a\"],[0.8888888888888888,\"#fdca26\"],[1.0,\"#f0f921\"]]},\"colorway\":[\"#636efa\",\"#EF553B\",\"#00cc96\",\"#ab63fa\",\"#FFA15A\",\"#19d3f3\",\"#FF6692\",\"#B6E880\",\"#FF97FF\",\"#FECB52\"],\"font\":{\"color\":\"#2a3f5f\"},\"geo\":{\"bgcolor\":\"white\",\"lakecolor\":\"white\",\"landcolor\":\"white\",\"showlakes\":true,\"showland\":true,\"subunitcolor\":\"#C8D4E3\"},\"hoverlabel\":{\"align\":\"left\"},\"hovermode\":\"closest\",\"mapbox\":{\"style\":\"light\"},\"paper_bgcolor\":\"white\",\"plot_bgcolor\":\"white\",\"polar\":{\"angularaxis\":{\"gridcolor\":\"#EBF0F8\",\"linecolor\":\"#EBF0F8\",\"ticks\":\"\"},\"bgcolor\":\"white\",\"radialaxis\":{\"gridcolor\":\"#EBF0F8\",\"linecolor\":\"#EBF0F8\",\"ticks\":\"\"}},\"scene\":{\"xaxis\":{\"backgroundcolor\":\"white\",\"gridcolor\":\"#DFE8F3\",\"gridwidth\":2,\"linecolor\":\"#EBF0F8\",\"showbackground\":true,\"ticks\":\"\",\"zerolinecolor\":\"#EBF0F8\"},\"yaxis\":{\"backgroundcolor\":\"white\",\"gridcolor\":\"#DFE8F3\",\"gridwidth\":2,\"linecolor\":\"#EBF0F8\",\"showbackground\":true,\"ticks\":\"\",\"zerolinecolor\":\"#EBF0F8\"},\"zaxis\":{\"backgroundcolor\":\"white\",\"gridcolor\":\"#DFE8F3\",\"gridwidth\":2,\"linecolor\":\"#EBF0F8\",\"showbackground\":true,\"ticks\":\"\",\"zerolinecolor\":\"#EBF0F8\"}},\"shapedefaults\":{\"line\":{\"color\":\"#2a3f5f\"}},\"ternary\":{\"aaxis\":{\"gridcolor\":\"#DFE8F3\",\"linecolor\":\"#A2B1C6\",\"ticks\":\"\"},\"baxis\":{\"gridcolor\":\"#DFE8F3\",\"linecolor\":\"#A2B1C6\",\"ticks\":\"\"},\"bgcolor\":\"white\",\"caxis\":{\"gridcolor\":\"#DFE8F3\",\"linecolor\":\"#A2B1C6\",\"ticks\":\"\"}},\"title\":{\"x\":0.05},\"xaxis\":{\"automargin\":true,\"gridcolor\":\"#EBF0F8\",\"linecolor\":\"#EBF0F8\",\"ticks\":\"\",\"title\":{\"standoff\":15},\"zerolinecolor\":\"#EBF0F8\",\"zerolinewidth\":2},\"yaxis\":{\"automargin\":true,\"gridcolor\":\"#EBF0F8\",\"linecolor\":\"#EBF0F8\",\"ticks\":\"\",\"title\":{\"standoff\":15},\"zerolinecolor\":\"#EBF0F8\",\"zerolinewidth\":2}}},\"xaxis\":{\"anchor\":\"y\",\"domain\":[0.0,0.175],\"showgrid\":true},\"yaxis\":{\"anchor\":\"x\",\"domain\":[0.0,1.0],\"showgrid\":true},\"xaxis2\":{\"anchor\":\"y2\",\"domain\":[0.275,0.45],\"showgrid\":true},\"yaxis2\":{\"anchor\":\"x2\",\"domain\":[0.0,1.0],\"showgrid\":true},\"xaxis3\":{\"anchor\":\"y3\",\"domain\":[0.55,0.7250000000000001],\"showgrid\":true},\"yaxis3\":{\"anchor\":\"x3\",\"domain\":[0.0,1.0],\"showgrid\":true},\"xaxis4\":{\"anchor\":\"y4\",\"domain\":[0.825,1.0],\"showgrid\":true},\"yaxis4\":{\"anchor\":\"x4\",\"domain\":[0.0,1.0],\"showgrid\":true},\"annotations\":[{\"font\":{\"size\":16},\"showarrow\":false,\"text\":\"Topic 0\",\"x\":0.0875,\"xanchor\":\"center\",\"xref\":\"paper\",\"y\":1.0,\"yanchor\":\"bottom\",\"yref\":\"paper\"},{\"font\":{\"size\":16},\"showarrow\":false,\"text\":\"Topic 1\",\"x\":0.36250000000000004,\"xanchor\":\"center\",\"xref\":\"paper\",\"y\":1.0,\"yanchor\":\"bottom\",\"yref\":\"paper\"},{\"font\":{\"size\":16},\"showarrow\":false,\"text\":\"Topic 2\",\"x\":0.6375000000000001,\"xanchor\":\"center\",\"xref\":\"paper\",\"y\":1.0,\"yanchor\":\"bottom\",\"yref\":\"paper\"},{\"font\":{\"size\":16},\"showarrow\":false,\"text\":\"Topic 3\",\"x\":0.9125,\"xanchor\":\"center\",\"xref\":\"paper\",\"y\":1.0,\"yanchor\":\"bottom\",\"yref\":\"paper\"}],\"title\":{\"font\":{\"size\":22,\"color\":\"Black\"},\"text\":\"Topic Word Scores\",\"x\":0.5,\"xanchor\":\"center\",\"yanchor\":\"top\"},\"hoverlabel\":{\"font\":{\"size\":16,\"family\":\"Rockwell\"},\"bgcolor\":\"white\"},\"showlegend\":false,\"width\":1000,\"height\":325.0},                        {\"responsive\": true}                    ).then(function(){\n",
              "                            \n",
              "var gd = document.getElementById('f93e97c6-4e43-4f23-8d92-2e72eb890db3');\n",
              "var x = new MutationObserver(function (mutations, observer) {{\n",
              "        var display = window.getComputedStyle(gd).display;\n",
              "        if (!display || display === 'none') {{\n",
              "            console.log([gd, 'removed!']);\n",
              "            Plotly.purge(gd);\n",
              "            observer.disconnect();\n",
              "        }}\n",
              "}});\n",
              "\n",
              "// Listen for the removal of the full notebook cells\n",
              "var notebookContainer = gd.closest('#notebook-container');\n",
              "if (notebookContainer) {{\n",
              "    x.observe(notebookContainer, {childList: true});\n",
              "}}\n",
              "\n",
              "// Listen for the clearing of the current output cell\n",
              "var outputEl = gd.closest('.output');\n",
              "if (outputEl) {{\n",
              "    x.observe(outputEl, {childList: true});\n",
              "}}\n",
              "\n",
              "                        })                };                            </script>        </div>\n",
              "</body>\n",
              "</html>"
            ]
          },
          "metadata": {}
        }
      ]
    },
    {
      "cell_type": "code",
      "source": [
        "map_chart = topic_model.visualize_topics()\n",
        "map_chart.show()"
      ],
      "metadata": {
        "colab": {
          "base_uri": "https://localhost:8080/",
          "height": 667
        },
        "id": "qrkvfsYS5I4W",
        "outputId": "b44781ab-bae5-4d27-c4a4-1b520003e47b"
      },
      "execution_count": null,
      "outputs": [
        {
          "output_type": "display_data",
          "data": {
            "text/html": [
              "<html>\n",
              "<head><meta charset=\"utf-8\" /></head>\n",
              "<body>\n",
              "    <div>            <script src=\"https://cdnjs.cloudflare.com/ajax/libs/mathjax/2.7.5/MathJax.js?config=TeX-AMS-MML_SVG\"></script><script type=\"text/javascript\">if (window.MathJax && window.MathJax.Hub && window.MathJax.Hub.Config) {window.MathJax.Hub.Config({SVG: {font: \"STIX-Web\"}});}</script>                <script type=\"text/javascript\">window.PlotlyConfig = {MathJaxConfig: 'local'};</script>\n",
              "        <script charset=\"utf-8\" src=\"https://cdn.plot.ly/plotly-2.24.1.min.js\"></script>                <div id=\"ab0e32e6-9b7c-422b-8907-8ae77bf44599\" class=\"plotly-graph-div\" style=\"height:650px; width:650px;\"></div>            <script type=\"text/javascript\">                                    window.PLOTLYENV=window.PLOTLYENV || {};                                    if (document.getElementById(\"ab0e32e6-9b7c-422b-8907-8ae77bf44599\")) {                    Plotly.newPlot(                        \"ab0e32e6-9b7c-422b-8907-8ae77bf44599\",                        [{\"customdata\":[[0,\"the | to | for | and | is\",24],[1,\"the | to | of | in | is\",18],[2,\"the | of | to | that | in\",14],[3,\"the | to | and | he | in\",12]],\"hovertemplate\":\"\\u003cb\\u003eTopic %{customdata[0]}\\u003c\\u002fb\\u003e\\u003cbr\\u003e%{customdata[1]}\\u003cbr\\u003eSize: %{customdata[2]}\",\"legendgroup\":\"\",\"marker\":{\"color\":\"#B0BEC5\",\"size\":[24,18,14,12],\"sizemode\":\"area\",\"sizeref\":0.015,\"symbol\":\"circle\",\"line\":{\"color\":\"DarkSlateGrey\",\"width\":2}},\"mode\":\"markers\",\"name\":\"\",\"orientation\":\"v\",\"showlegend\":false,\"x\":[17.559452056884766,18.135473251342773,18.684431076049805,17.083650588989258],\"xaxis\":\"x\",\"y\":[19.58008575439453,20.113086700439453,19.325815200805664,17.835350036621094],\"yaxis\":\"y\",\"type\":\"scatter\"}],                        {\"template\":{\"data\":{\"barpolar\":[{\"marker\":{\"line\":{\"color\":\"white\",\"width\":0.5},\"pattern\":{\"fillmode\":\"overlay\",\"size\":10,\"solidity\":0.2}},\"type\":\"barpolar\"}],\"bar\":[{\"error_x\":{\"color\":\"rgb(36,36,36)\"},\"error_y\":{\"color\":\"rgb(36,36,36)\"},\"marker\":{\"line\":{\"color\":\"white\",\"width\":0.5},\"pattern\":{\"fillmode\":\"overlay\",\"size\":10,\"solidity\":0.2}},\"type\":\"bar\"}],\"carpet\":[{\"aaxis\":{\"endlinecolor\":\"rgb(36,36,36)\",\"gridcolor\":\"white\",\"linecolor\":\"white\",\"minorgridcolor\":\"white\",\"startlinecolor\":\"rgb(36,36,36)\"},\"baxis\":{\"endlinecolor\":\"rgb(36,36,36)\",\"gridcolor\":\"white\",\"linecolor\":\"white\",\"minorgridcolor\":\"white\",\"startlinecolor\":\"rgb(36,36,36)\"},\"type\":\"carpet\"}],\"choropleth\":[{\"colorbar\":{\"outlinewidth\":1,\"tickcolor\":\"rgb(36,36,36)\",\"ticks\":\"outside\"},\"type\":\"choropleth\"}],\"contourcarpet\":[{\"colorbar\":{\"outlinewidth\":1,\"tickcolor\":\"rgb(36,36,36)\",\"ticks\":\"outside\"},\"type\":\"contourcarpet\"}],\"contour\":[{\"colorbar\":{\"outlinewidth\":1,\"tickcolor\":\"rgb(36,36,36)\",\"ticks\":\"outside\"},\"colorscale\":[[0.0,\"#440154\"],[0.1111111111111111,\"#482878\"],[0.2222222222222222,\"#3e4989\"],[0.3333333333333333,\"#31688e\"],[0.4444444444444444,\"#26828e\"],[0.5555555555555556,\"#1f9e89\"],[0.6666666666666666,\"#35b779\"],[0.7777777777777778,\"#6ece58\"],[0.8888888888888888,\"#b5de2b\"],[1.0,\"#fde725\"]],\"type\":\"contour\"}],\"heatmapgl\":[{\"colorbar\":{\"outlinewidth\":1,\"tickcolor\":\"rgb(36,36,36)\",\"ticks\":\"outside\"},\"colorscale\":[[0.0,\"#440154\"],[0.1111111111111111,\"#482878\"],[0.2222222222222222,\"#3e4989\"],[0.3333333333333333,\"#31688e\"],[0.4444444444444444,\"#26828e\"],[0.5555555555555556,\"#1f9e89\"],[0.6666666666666666,\"#35b779\"],[0.7777777777777778,\"#6ece58\"],[0.8888888888888888,\"#b5de2b\"],[1.0,\"#fde725\"]],\"type\":\"heatmapgl\"}],\"heatmap\":[{\"colorbar\":{\"outlinewidth\":1,\"tickcolor\":\"rgb(36,36,36)\",\"ticks\":\"outside\"},\"colorscale\":[[0.0,\"#440154\"],[0.1111111111111111,\"#482878\"],[0.2222222222222222,\"#3e4989\"],[0.3333333333333333,\"#31688e\"],[0.4444444444444444,\"#26828e\"],[0.5555555555555556,\"#1f9e89\"],[0.6666666666666666,\"#35b779\"],[0.7777777777777778,\"#6ece58\"],[0.8888888888888888,\"#b5de2b\"],[1.0,\"#fde725\"]],\"type\":\"heatmap\"}],\"histogram2dcontour\":[{\"colorbar\":{\"outlinewidth\":1,\"tickcolor\":\"rgb(36,36,36)\",\"ticks\":\"outside\"},\"colorscale\":[[0.0,\"#440154\"],[0.1111111111111111,\"#482878\"],[0.2222222222222222,\"#3e4989\"],[0.3333333333333333,\"#31688e\"],[0.4444444444444444,\"#26828e\"],[0.5555555555555556,\"#1f9e89\"],[0.6666666666666666,\"#35b779\"],[0.7777777777777778,\"#6ece58\"],[0.8888888888888888,\"#b5de2b\"],[1.0,\"#fde725\"]],\"type\":\"histogram2dcontour\"}],\"histogram2d\":[{\"colorbar\":{\"outlinewidth\":1,\"tickcolor\":\"rgb(36,36,36)\",\"ticks\":\"outside\"},\"colorscale\":[[0.0,\"#440154\"],[0.1111111111111111,\"#482878\"],[0.2222222222222222,\"#3e4989\"],[0.3333333333333333,\"#31688e\"],[0.4444444444444444,\"#26828e\"],[0.5555555555555556,\"#1f9e89\"],[0.6666666666666666,\"#35b779\"],[0.7777777777777778,\"#6ece58\"],[0.8888888888888888,\"#b5de2b\"],[1.0,\"#fde725\"]],\"type\":\"histogram2d\"}],\"histogram\":[{\"marker\":{\"line\":{\"color\":\"white\",\"width\":0.6}},\"type\":\"histogram\"}],\"mesh3d\":[{\"colorbar\":{\"outlinewidth\":1,\"tickcolor\":\"rgb(36,36,36)\",\"ticks\":\"outside\"},\"type\":\"mesh3d\"}],\"parcoords\":[{\"line\":{\"colorbar\":{\"outlinewidth\":1,\"tickcolor\":\"rgb(36,36,36)\",\"ticks\":\"outside\"}},\"type\":\"parcoords\"}],\"pie\":[{\"automargin\":true,\"type\":\"pie\"}],\"scatter3d\":[{\"line\":{\"colorbar\":{\"outlinewidth\":1,\"tickcolor\":\"rgb(36,36,36)\",\"ticks\":\"outside\"}},\"marker\":{\"colorbar\":{\"outlinewidth\":1,\"tickcolor\":\"rgb(36,36,36)\",\"ticks\":\"outside\"}},\"type\":\"scatter3d\"}],\"scattercarpet\":[{\"marker\":{\"colorbar\":{\"outlinewidth\":1,\"tickcolor\":\"rgb(36,36,36)\",\"ticks\":\"outside\"}},\"type\":\"scattercarpet\"}],\"scattergeo\":[{\"marker\":{\"colorbar\":{\"outlinewidth\":1,\"tickcolor\":\"rgb(36,36,36)\",\"ticks\":\"outside\"}},\"type\":\"scattergeo\"}],\"scattergl\":[{\"marker\":{\"colorbar\":{\"outlinewidth\":1,\"tickcolor\":\"rgb(36,36,36)\",\"ticks\":\"outside\"}},\"type\":\"scattergl\"}],\"scattermapbox\":[{\"marker\":{\"colorbar\":{\"outlinewidth\":1,\"tickcolor\":\"rgb(36,36,36)\",\"ticks\":\"outside\"}},\"type\":\"scattermapbox\"}],\"scatterpolargl\":[{\"marker\":{\"colorbar\":{\"outlinewidth\":1,\"tickcolor\":\"rgb(36,36,36)\",\"ticks\":\"outside\"}},\"type\":\"scatterpolargl\"}],\"scatterpolar\":[{\"marker\":{\"colorbar\":{\"outlinewidth\":1,\"tickcolor\":\"rgb(36,36,36)\",\"ticks\":\"outside\"}},\"type\":\"scatterpolar\"}],\"scatter\":[{\"fillpattern\":{\"fillmode\":\"overlay\",\"size\":10,\"solidity\":0.2},\"type\":\"scatter\"}],\"scatterternary\":[{\"marker\":{\"colorbar\":{\"outlinewidth\":1,\"tickcolor\":\"rgb(36,36,36)\",\"ticks\":\"outside\"}},\"type\":\"scatterternary\"}],\"surface\":[{\"colorbar\":{\"outlinewidth\":1,\"tickcolor\":\"rgb(36,36,36)\",\"ticks\":\"outside\"},\"colorscale\":[[0.0,\"#440154\"],[0.1111111111111111,\"#482878\"],[0.2222222222222222,\"#3e4989\"],[0.3333333333333333,\"#31688e\"],[0.4444444444444444,\"#26828e\"],[0.5555555555555556,\"#1f9e89\"],[0.6666666666666666,\"#35b779\"],[0.7777777777777778,\"#6ece58\"],[0.8888888888888888,\"#b5de2b\"],[1.0,\"#fde725\"]],\"type\":\"surface\"}],\"table\":[{\"cells\":{\"fill\":{\"color\":\"rgb(237,237,237)\"},\"line\":{\"color\":\"white\"}},\"header\":{\"fill\":{\"color\":\"rgb(217,217,217)\"},\"line\":{\"color\":\"white\"}},\"type\":\"table\"}]},\"layout\":{\"annotationdefaults\":{\"arrowhead\":0,\"arrowwidth\":1},\"autotypenumbers\":\"strict\",\"coloraxis\":{\"colorbar\":{\"outlinewidth\":1,\"tickcolor\":\"rgb(36,36,36)\",\"ticks\":\"outside\"}},\"colorscale\":{\"diverging\":[[0.0,\"rgb(103,0,31)\"],[0.1,\"rgb(178,24,43)\"],[0.2,\"rgb(214,96,77)\"],[0.3,\"rgb(244,165,130)\"],[0.4,\"rgb(253,219,199)\"],[0.5,\"rgb(247,247,247)\"],[0.6,\"rgb(209,229,240)\"],[0.7,\"rgb(146,197,222)\"],[0.8,\"rgb(67,147,195)\"],[0.9,\"rgb(33,102,172)\"],[1.0,\"rgb(5,48,97)\"]],\"sequential\":[[0.0,\"#440154\"],[0.1111111111111111,\"#482878\"],[0.2222222222222222,\"#3e4989\"],[0.3333333333333333,\"#31688e\"],[0.4444444444444444,\"#26828e\"],[0.5555555555555556,\"#1f9e89\"],[0.6666666666666666,\"#35b779\"],[0.7777777777777778,\"#6ece58\"],[0.8888888888888888,\"#b5de2b\"],[1.0,\"#fde725\"]],\"sequentialminus\":[[0.0,\"#440154\"],[0.1111111111111111,\"#482878\"],[0.2222222222222222,\"#3e4989\"],[0.3333333333333333,\"#31688e\"],[0.4444444444444444,\"#26828e\"],[0.5555555555555556,\"#1f9e89\"],[0.6666666666666666,\"#35b779\"],[0.7777777777777778,\"#6ece58\"],[0.8888888888888888,\"#b5de2b\"],[1.0,\"#fde725\"]]},\"colorway\":[\"#1F77B4\",\"#FF7F0E\",\"#2CA02C\",\"#D62728\",\"#9467BD\",\"#8C564B\",\"#E377C2\",\"#7F7F7F\",\"#BCBD22\",\"#17BECF\"],\"font\":{\"color\":\"rgb(36,36,36)\"},\"geo\":{\"bgcolor\":\"white\",\"lakecolor\":\"white\",\"landcolor\":\"white\",\"showlakes\":true,\"showland\":true,\"subunitcolor\":\"white\"},\"hoverlabel\":{\"align\":\"left\"},\"hovermode\":\"closest\",\"mapbox\":{\"style\":\"light\"},\"paper_bgcolor\":\"white\",\"plot_bgcolor\":\"white\",\"polar\":{\"angularaxis\":{\"gridcolor\":\"rgb(232,232,232)\",\"linecolor\":\"rgb(36,36,36)\",\"showgrid\":false,\"showline\":true,\"ticks\":\"outside\"},\"bgcolor\":\"white\",\"radialaxis\":{\"gridcolor\":\"rgb(232,232,232)\",\"linecolor\":\"rgb(36,36,36)\",\"showgrid\":false,\"showline\":true,\"ticks\":\"outside\"}},\"scene\":{\"xaxis\":{\"backgroundcolor\":\"white\",\"gridcolor\":\"rgb(232,232,232)\",\"gridwidth\":2,\"linecolor\":\"rgb(36,36,36)\",\"showbackground\":true,\"showgrid\":false,\"showline\":true,\"ticks\":\"outside\",\"zeroline\":false,\"zerolinecolor\":\"rgb(36,36,36)\"},\"yaxis\":{\"backgroundcolor\":\"white\",\"gridcolor\":\"rgb(232,232,232)\",\"gridwidth\":2,\"linecolor\":\"rgb(36,36,36)\",\"showbackground\":true,\"showgrid\":false,\"showline\":true,\"ticks\":\"outside\",\"zeroline\":false,\"zerolinecolor\":\"rgb(36,36,36)\"},\"zaxis\":{\"backgroundcolor\":\"white\",\"gridcolor\":\"rgb(232,232,232)\",\"gridwidth\":2,\"linecolor\":\"rgb(36,36,36)\",\"showbackground\":true,\"showgrid\":false,\"showline\":true,\"ticks\":\"outside\",\"zeroline\":false,\"zerolinecolor\":\"rgb(36,36,36)\"}},\"shapedefaults\":{\"fillcolor\":\"black\",\"line\":{\"width\":0},\"opacity\":0.3},\"ternary\":{\"aaxis\":{\"gridcolor\":\"rgb(232,232,232)\",\"linecolor\":\"rgb(36,36,36)\",\"showgrid\":false,\"showline\":true,\"ticks\":\"outside\"},\"baxis\":{\"gridcolor\":\"rgb(232,232,232)\",\"linecolor\":\"rgb(36,36,36)\",\"showgrid\":false,\"showline\":true,\"ticks\":\"outside\"},\"bgcolor\":\"white\",\"caxis\":{\"gridcolor\":\"rgb(232,232,232)\",\"linecolor\":\"rgb(36,36,36)\",\"showgrid\":false,\"showline\":true,\"ticks\":\"outside\"}},\"title\":{\"x\":0.05},\"xaxis\":{\"automargin\":true,\"gridcolor\":\"rgb(232,232,232)\",\"linecolor\":\"rgb(36,36,36)\",\"showgrid\":false,\"showline\":true,\"ticks\":\"outside\",\"title\":{\"standoff\":15},\"zeroline\":false,\"zerolinecolor\":\"rgb(36,36,36)\"},\"yaxis\":{\"automargin\":true,\"gridcolor\":\"rgb(232,232,232)\",\"linecolor\":\"rgb(36,36,36)\",\"showgrid\":false,\"showline\":true,\"ticks\":\"outside\",\"title\":{\"standoff\":15},\"zeroline\":false,\"zerolinecolor\":\"rgb(36,36,36)\"}}},\"xaxis\":{\"anchor\":\"y\",\"domain\":[0.0,1.0],\"title\":{\"text\":\"\"},\"visible\":false,\"range\":[14.521103000640869,21.487095737457274]},\"yaxis\":{\"anchor\":\"x\",\"domain\":[0.0,1.0],\"title\":{\"text\":\"\"},\"visible\":false,\"range\":[15.16004753112793,23.13004970550537]},\"legend\":{\"tracegroupgap\":0,\"itemsizing\":\"constant\"},\"margin\":{\"t\":60},\"title\":{\"font\":{\"size\":22,\"color\":\"Black\"},\"text\":\"\\u003cb\\u003eIntertopic Distance Map\\u003c\\u002fb\\u003e\",\"y\":0.95,\"x\":0.5,\"xanchor\":\"center\",\"yanchor\":\"top\"},\"hoverlabel\":{\"font\":{\"size\":16,\"family\":\"Rockwell\"},\"bgcolor\":\"white\"},\"width\":650,\"height\":650,\"sliders\":[{\"active\":0,\"pad\":{\"t\":50},\"steps\":[{\"args\":[{\"marker.color\":[[\"red\",\"#B0BEC5\",\"#B0BEC5\",\"#B0BEC5\"]]}],\"label\":\"Topic 0\",\"method\":\"update\"},{\"args\":[{\"marker.color\":[[\"#B0BEC5\",\"red\",\"#B0BEC5\",\"#B0BEC5\"]]}],\"label\":\"Topic 1\",\"method\":\"update\"},{\"args\":[{\"marker.color\":[[\"#B0BEC5\",\"#B0BEC5\",\"red\",\"#B0BEC5\"]]}],\"label\":\"Topic 2\",\"method\":\"update\"},{\"args\":[{\"marker.color\":[[\"#B0BEC5\",\"#B0BEC5\",\"#B0BEC5\",\"red\"]]}],\"label\":\"Topic 3\",\"method\":\"update\"}]}],\"shapes\":[{\"line\":{\"color\":\"#CFD8DC\",\"width\":2},\"type\":\"line\",\"x0\":18.004099369049072,\"x1\":18.004099369049072,\"y0\":15.16004753112793,\"y1\":23.13004970550537},{\"line\":{\"color\":\"#9E9E9E\",\"width\":2},\"type\":\"line\",\"x0\":14.521103000640869,\"x1\":21.487095737457274,\"y0\":19.14504861831665,\"y1\":19.14504861831665}],\"annotations\":[{\"showarrow\":false,\"text\":\"D1\",\"x\":14.521103000640869,\"y\":19.14504861831665,\"yshift\":10},{\"showarrow\":false,\"text\":\"D2\",\"x\":18.004099369049072,\"xshift\":10,\"y\":23.13004970550537}]},                        {\"responsive\": true}                    ).then(function(){\n",
              "                            \n",
              "var gd = document.getElementById('ab0e32e6-9b7c-422b-8907-8ae77bf44599');\n",
              "var x = new MutationObserver(function (mutations, observer) {{\n",
              "        var display = window.getComputedStyle(gd).display;\n",
              "        if (!display || display === 'none') {{\n",
              "            console.log([gd, 'removed!']);\n",
              "            Plotly.purge(gd);\n",
              "            observer.disconnect();\n",
              "        }}\n",
              "}});\n",
              "\n",
              "// Listen for the removal of the full notebook cells\n",
              "var notebookContainer = gd.closest('#notebook-container');\n",
              "if (notebookContainer) {{\n",
              "    x.observe(notebookContainer, {childList: true});\n",
              "}}\n",
              "\n",
              "// Listen for the clearing of the current output cell\n",
              "var outputEl = gd.closest('.output');\n",
              "if (outputEl) {{\n",
              "    x.observe(outputEl, {childList: true});\n",
              "}}\n",
              "\n",
              "                        })                };                            </script>        </div>\n",
              "</body>\n",
              "</html>"
            ]
          },
          "metadata": {}
        }
      ]
    },
    {
      "cell_type": "markdown",
      "source": [
        "## **Topic Bert**"
      ],
      "metadata": {
        "id": "rdkd0VuQ6BR2"
      }
    },
    {
      "cell_type": "code",
      "source": [
        "from bertopic import BERTopic\n",
        "from sklearn.datasets import fetch_20newsgroups\n",
        "from sentence_transformers import SentenceTransformer\n",
        "\n",
        "#docs = fetch_20newsgroups(subset='all')['data']\n",
        "sentence_model = SentenceTransformer(\"all-MiniLM-L6-v2\")\n",
        "topic_model = BERTopic(embedding_model=sentence_model)\n",
        "topics, probabilities = topic_model.fit_transform(docs[:500])\n"
      ],
      "metadata": {
        "id": "XwWe7QF26DQZ"
      },
      "execution_count": null,
      "outputs": []
    },
    {
      "cell_type": "code",
      "source": [
        "print(\"docs: {}\\n\".format(topic_model.get_representative_docs()))\n",
        "print(topic_model.get_topic_info())"
      ],
      "metadata": {
        "colab": {
          "base_uri": "https://localhost:8080/"
        },
        "id": "RN4RJz2q8NKH",
        "outputId": "e32940b7-c900-4d13-f74e-f555e995fdf6"
      },
      "execution_count": null,
      "outputs": [
        {
          "output_type": "stream",
          "name": "stdout",
          "text": [
            "docs: {0: ['From: viking@iastate.edu (Dan Sorenson)\\nSubject: Re: guns=Amex AND new name.....\\nOrganization: Iowa State University, Ames IA\\nLines: 107\\n\\nThomas Parsli <thomasp@ifi.uio.no> writes:\\n\\n\\tRemember me, Tom?  I hope you\\'ll respond, and I seem to\\nbe a Voice of Reason or some such (I\\'ve been recieving fan mail,\\nso naturally my ego is somehwat inflated of late), and hope to\\nmake a few points here.\\n\\n>I have NEVER spoken for a ban against guns in America !\\n>What I\\'ve said is that there seems to be to MANY of them, and especially\\n>to many in wrong hands....\\n\\n\\tAnd our argument is that you cannot remove them from the people\\nwho need restricting and not remove them from the people who don\\'t.  A\\nfairly simple problem, given our size and numbers.  Do you agree?  We\\nall believe criminals, particularly violent criminals, should not have\\nfirearms.  The problem is making a law that does this without trodding\\nupon the rights of the vast majority.  Nobody here seems to be able to\\ndo it, and I doubt anybody in Norway can either.  Thus, we are left with\\na philosophical difference: does the safety of a few justify restricting\\nthe many?  We say \"no,\" while others say \"yes.\"\\n\\n>Now IF you would like to reduce the number, how would you do it without\\n>affecting good/responcible gun owners ??\\n\\n\\tCan you provide a method that cannot be abused?  I doubt it.\\n\\n>I DO believe in a persons freedom.\\n>What I don\\'t believe is that you can have it all and don\\'t pay for it.\\n\\n\\tOf course.  This is not in contention.  What is in contention\\nis how much one has to pay.\\n\\n>MOST europeans believe in a society of individuals, and that you HAVE\\n>to give \\'a little\\' to make that society work.\\n\\n\\tIt is this \"giving a little\" that makes Americans wary...\\nWe have seen this argument before.  You might remember how a\\nChamberlain \"gave a little\" to a particular fascist/short asshole,\\nand how such \"appeasement\" worked.  While it might work in some\\ninstances, it doesn\\'t work in others, and since we cannot predict\\nthe future we must be cautious in using actions that have a\\nhistory of failure.\\n\\n>Cars and guns should really not be mixed, I just tried to make a point.\\n>Like America, Norway has some spaces you have to cross to get from a to b,\\n>so a car is essential in most parts....\\n>Guns on the other hand are not essential in Norway, so we don\\'t \\n>argue that IF we \\'banned\\' guns we HAVE to ban cars.....\\n\\n\\tCars are not essential in Norway any more than they are in\\nthe USA.  I\\'m willing to bet that you have neighbors that would be\\nwilling to drive you anywhere you wanted to go for a price.  Thus,\\ncars are not essential for your transportation.  However, the\\narguments presented show that, since cars are used to kill far more\\npeople than guns in the USA, it makes much more sense to restrict\\ncars than it does guns.  How one defines \"essential\" often depends\\nupon what one is willing to go through for that service.  When we\\nlook at the raw data, such comparisons are not individually weighed.\\n\\n>EVERYONE who believe that Hitler and WW2 could be avoided if there were\\n>more guns in Germany in the 30\\'s: PLEASE read some HISTORY!\\n\\n\\tThis depends upon what the populace was willing to do.  As\\nDesert Storm proved, even an armed populace won\\'t just revolt even\\nwhen given a chance.  Still, would Hitler have done all that he did\\nwith an armed populace?  We have to wonder, as some of his first\\nacts were to confiscate firearms.  Other points in history show\\nthat dictators were overthrown by arms in the hands of the populace.\\nThus, we\\'re left wondering if Hitler would have been overthrown\\nor if King George was just unlucky in keeping the USA as a colony.\\nOne can argue both sides; one also has to live with each action.\\n\\n>Is this discussion about\\n>1. Banning weapons for ALL Americans\\n>            or\\n>2. Making it harder for criminals to get one ??\\n\\n\\tIt is about #2, but so far all proposals to curtail #2 have\\nwound up enforcing #1 as well.  I only wish that \"or\" was so logical.\\n\\n>Change of name.......\\n\\n\\tThat was, on my part, purely in jest.  I merely pointed out\\nhow we were from similar backgrounds racially, but of wholly different\\nbackgrounds politically.  I thought this would underscore my point on\\nhow our cultures were so different despite similar heritage.\\n\\n>Did the BATF get the warrant for a gun search only or was there other reasons.\\n>(Child abuse for instance)\\n\\n\\tBATF can *only* enforce gun/tobaccco/alcohol violations.  Child\\nabuse is a matter for the individual states and local authorities.\\n\\n>Doesn\\'t the people reading this newsgroup have access to the clari.news.* \\n>hierarcy ??  (Some seems rather mis/unInformed)\\n\\n\\tThat hierarchy is a paid-for feed at many sites.  Most people do\\nnot get it for this reason, and I suspect money, not censorship, is the\\nmain reason.  Do you get alt.sex* at your site?  I can\\'t read it here\\nbecause of censorship and legal fears, so again our differences show.\\nYou have topless sunbathing, and in the USA we can watch a murder every\\nfifteen seconds and yet breasts are forbidden on television.\\n\\n< Dan Sorenson, DoD #1066 z1dan@exnet.iastate.edu viking@iastate.edu >\\n<  ISU only censors what I read, not what I say.  Don\\'t blame them.  >\\n<     USENET: Post to exotic, distant machines.  Meet exciting,      >\\n<                 unusual people.  And flame them.                   >\\n', 'From: dlecoint@garnet.acns.fsu.edu (Darius_Lecointe)\\nSubject: Re: Sabbath Admissions 5of5\\nOrganization: Florida State University\\nLines: 227\\n\\nSomeone sent me this FAQ by E-mail and I post my response here.\\n\\n[I\\'m not enforcing the inclusion limits on this FAQ because most\\nof our readers probably haven\\'t seen it.  --clh]\\n\\nChrist warns that anyone who \"breaks one of the least of these\\ncommandments *and* teaches otheres to do the same will be called least in\\nthe kingdom of heaven\" (Matt. 5:19.  This FAQ is so full of error that I\\nmust respond to it.  I hope that whoever maintains will remove from it the\\npartisan theology.\\n\\n| > Brothers and Sisters,\\n| > \\n| >   Being new to the faith and examining the Decalogue closely, I\\'ve noticed the\\n| > fourth commandment is pretty specific about \"keeping the Sabbath day.\"  It\\n| > states the 7th day( Saturday ) is the Sabbath while most Christian religions\\n| > keep( or atleast go to church ) on Sunday.  What\\'s up?\\n| \\n| This is a frequently asked question.  Every time it arises, it causes\\n| months of debate.  So let me see if I can answer you directly.\\n| Basically it\\'s because the Law was given to Moses as part of a\\n| specific covenanent with the Jews.  Most of us aren\\'t Jews, so we\\n| aren\\'t part of that covenant.  There was an argument early in\\n| Christian history about whether the Mosaic laws should apply to\\n| Gentiles who became Christians.  You can see the account of this\\n| debate in Acts 15.  The main question there was circumcision, but\\n| keeping the Sabbath would be part of it as well.  The apostles\\n| concluded that we need not become Jews in order to become Christians,\\n| and therefore that rules such as circumcision did not apply to us.\\n\\n1.  The law was known to man before it was revealed on Mount Sinai.  Rom\\n4:15 notes that \"where no law is, there is no transgression.\"  Not only\\ndid sin exist before Sinai (Eden), but the Sabbath was kept before it\\nwas revealed on Sinai (Ex 16).\\n\\n2.  The problem with the first covenant was not the law, but the promise\\nwhich undergirded it.  God wanted to perform his will in the lives of the\\npeople, but in their ignorance after 400 years of slavery, they promised\\n\"what ever He says to do we will do.\"  That is why the new covenant is\\nbased on \"better promises\" (Heb. 8:6).  Rather than do away with the law\\nGod promised to \"put my laws in their minds and write them on their\\nhearts\" (Heb. 8:10).\\n\\n3.  Including the Sabbath in the Acts 15 is selective inclusion.  The\\nSabbath was more important to the Jews than circumcision.  If any attempt\\nhad been made to do away with the Sabbath the reaction would have been\\neven more strident than is recorded in Acts 15.  Do not confuse the weekly\\nSabbath of the Decalogue with the ceremonial sabbaths which could occur at\\nany time of the week and were part of the law (ceremonial) which was\\n*added* because of transgression (of the moral law) (Gal 3:19).\\n\\n4.  Israel stands for God\\'s people of all time.  That is why God *grafted*\\nthe Gentiles in.  Roma 9:4 says that the adoption, the glory, the\\ncovenants, the giving of the law, the service of God and the promises\\nbelong to Israelites.   In explanation Paul makes it clear that being born\\ninto Israel is not enough \"For they are not all Israel, which are of\\nIsrael\" v 6.  Then in Gal 3:19 he says \"if ye be Christ\\'s, then are ye\\nAbraham\\'s seed, and heirs according to the promise.\"  All Christians are\\nAbraham\\'s seed, Jews, Israelites.  Not physically, for that is not the\\ncriterion, but spiritually.  We are joint heirs with Jesus based on the\\npromise God made to all his people the Israelites.\\n\\n| \\n| While Christians agree that the OT Laws do not all apply to us,\\n| because some of them are part of a specific covenanent with the Jews,\\n| we also expect to see some similarity between the things God expected\\n| from the Jews and the things he expects from us.  After all, it\\'s the\\n| same God.  However there are several ways of dealing with this.\\n| \\n| These days the most common approach is to separate the OT commandments\\n| into \"moral\" and \"ceremonial\".  Ceremonial commandments apply only to\\n| the Jews.  They are part of the specific Mosaic covenant.  These are\\n| thinsg like the kosher laws and circumcision.  Moral laws apply to\\n| everyone.  Most of the 10 commands are part of the moral law, except\\n| for the commandment about the Sabbath.  I believe most people who take\\n| this approach would say that the specific requirement to worship on\\n| the Sabbath is part of the ceremonial law, but a general obligation to\\n| worship regularly is part of the general moral law.  Thus Christians\\n| are free to choose the specific time we worship.\\n\\nPeople would probably agree but they are wrong.  How can the Sabbath\\ncommandment be ceremonial when it is part of a law which predates the\\nceremonial laws?  You are not free to choose your time of worship.  Even\\nif you were why do you follow a day of worship which has its origins in pagan\\nsun worship.  Would you rather give up a day which God blessed,\\nsanctified, and hallowed in exchange for one which all church leaders\\nagree has not biblical foundation (see Sabbath Admissions in\\nsoc.religion.christian.bible-study).\\n| \\n| A more radical approach (which is generally connected with John Calvin\\n| and the Reformed tradition) says that the Law as a whole is no longer\\n| binding.  Instead, we are entirely under grace, and our behavior\\n| should be guided solely by love.  Portions of the OT Law are still\\n| useful as guidance.  But they are not properly speaking legally\\n| binding on us.  In practice most people who take this position do not\\n| believe it is safe to leave Christians without moral guidannce.  While\\n| we may no longer be under Law, as sinners, it\\'s not safe for us to go\\n| into situations with no principles to guide us.  We\\'re too good at\\n| self-justification for that to be safe.  Thus Christians do have moral\\n| guidance, from things like Jesus\\' teachings, Paul\\'s advice, etc.\\n| These may not be precisely a Law, but they serve much the same\\n| function as, and have largely the same content as, the \"moral law\" in\\n| the previous analysis.  While Calvin would deny that we have a fixed\\n| legal responsibility to worship on any specific day, he would say that\\n| given human weakness, the discipline of regular worship is important.\\n| \\nI do not care what Calvin or any theologian says.  My guide is what God\\nsays.  If being not under the law means we do not have to keep the law,\\nwhy is it that the only section of the law we have trouble with is the\\nSabbath commandment, which is the only one God thought was important\\nenough to say *REMEMBER*?  If you study the word deeply you will note that\\nthe message is that we are no longer under the condemnation of the law but\\nfreed by the grace of God.  If a cop pulls me over for speeding, then in\\ncourt I ask for mercy and the judge does not throw the book at me but gives me\\ngrace, do I walk out of the court saying \"I can now go on speeding, for I\\nam now under grace?\"  Being under grace I now drive within the speed\\nlimit.  Paul adds to it in Rom. 3:31 \"Di we then make void the law through\\nfaith?  God forbid: yea, we establish the law.\"  \"Wherefore the law is\\nholy, and the commandment holy, and just, and good\" (Rom. 7:12).\\n\\n| In both analyses, the specific day is not an issue.  As a matter of\\n| tradition, we worship on Sunday as a memorial of Christ\\'s\\n| resurrection.  There\\'s some debate about what Acts shows about early\\n| Christian worship.  The most common analysis is that is shows Jewish\\n| Christians continuing to go to Jewish services on the Sabbath, but\\n| that specifically Christian service were not necessarily held then.\\n| Act 20:7 shows worship on the first day (Sunday), and I Cor 16:2 also\\n| implies gatherings on that day.\\n| \\n| There are a few groups that continue to believe Christians have to\\n| worship on the Sabbath (Saturday).  The best-known are the Seventh-Day\\n| Adventists and Jehovah\\'s Witnesses.  They argue that Act 20:7 is not a\\n| regular worship service, but a special meeting to see Paul off, and\\n| that I Cor 16:2 doesn\\'t explicitly say it\\'s a regular worship service.\\n\\nDo you prefer implication to fact?  A careful study of the Acts 20 shows\\nthat the meeting was on Saturday night and that on Sunday morning Paul did\\nnot go to a worship service, but set off on a long journey by foot to\\nAssos.  In ICor 16 there is no way you can equate \"lay by him in store\"\\nwith \"go to a worship service.\"\\n| \\n| It\\'s clear that this issue was a contested one in Paul\\'s time.  See\\n| Rom 14:5.  Paul\\'s advice is that we should be very careful about\\n| judging each other on issues like this.  One person sees a specific\\n| day as mandated by God, while another does not.  He who observes that\\n| specific day does it in honor of the Lord.  He who believes his\\n| worship is free of such restrictions also does it in honor of the\\n| Lord.  (Those who believe that the Sabbath is still mandated argue\\n| that Paul is not referring to Sabbath worship here.  Note however Col\\n| 2:16, which says something similar but briefer.  It explicitly\\n| mentions Sabbath.)\\n\\nWrong.  These are the sabbath days of the ceremonial law, not the Sabbath\\nday of the moral law.\\n| \\n| There are some differences among Christians about use of the word\\n| \"Sabbath\".  Originally the term referred to the 7th Day, the Jewish\\n| day of worship.  Many Christians now use it to refer to Sunday, the\\n| day of Christian worship.  They do this largely so that they can apply\\n| the 4th (or whatever -- there are a couple of different numbering\\n| schemes) commandment to it.  Reformed tradition does not do this.  It\\n| distinguishes between the Sabbath -- which is the observance mandated\\n| for Jews, and the Lord\\'s Day -- which is the free Christian worship.\\n| (The only reference I can find to this in the NT is Rev 1:10.)  There\\n| are also differences about laws regarding this day.  Many Christians\\n| support \"blue laws\", both in secular law and church law, setting aside\\n| that day and causing people to spend it in worship.  The more radical\\n| anti-legal approach sees such regulations as a return to the Jewish\\n| Sabbath, which is not appropriate to the free Christian worship of the\\n| Lord\\'s Day.\\n| \\nWhy would you prefer to twist and turn, relying on different arguments\\nwhich conflict with each other, rather than obey a simple request from a\\nGod who loved you enough to die for you.  Jesus died because the law could\\nnot be changed.  Why bother to die in order to meet the demands of a\\nbroken law if all you need to do is change the law.  Penalties for law\\nbreaking means the law is immutable.  That is why it is no sin not to\\nfollow the demands of the ceremonial laws.  It will always be a sin to\\nmake false gods, to violate God\\'s name, to break the Sabbath, to steal, to\\nkill, etc.  Except it you disagree.  But then your opinion has no weight\\nwhen placed next to the word of God.\\n\\nDarius\\n\\n[It\\'s not clear how much more needs to be said other than the FAQ.  I\\nthink Paul\\'s comments on esteeming one day over another (Rom 14) is\\nprobably all that needs to be said.  I accept that Darius is doing\\nwhat he does in honor of the Lord.  I just wish he might equally\\naccept that those who \"esteem all days alike\" are similarly doing\\ntheir best to honor the Lord.\\n\\nHowever I\\'d like to be clear that I do not think there\\'s unambiguous\\nproof that regular Christian worship was on the first day.  As I\\nindicated, there are responses on both of the passages cited.\\n\\nThe difficulty with both of these passages is that they are actually\\nabout something else.  They both look like they are talking about\\nnnregular Christian meetings, but neither explicitly says \"and they\\ngathered every Sunday for worship\".  We get various pieces of\\ninformation, but nothing aimed at answering this question.  \\n\\nAct 2:26 describes Christians as participating both in Jewish temple\\nworship and in Christian communion services in homes.  Obviously the\\ntemple worship is on the Sabbath.  Acts 13:44 is an example of\\nChristians participating in them.  Unfortunately it doesn\\'t tell us\\nwhat day Christians met in their houses.  Acts 20:7, despite Darius\\'\\nconfusion, is described by Acts as occuring on Sunday.  (I see no\\nreason to impose modern definitions of when days start, when the\\nBiblical text is clear about what was meant.)  The wording implies to\\nme that this was a normal meeting.  It doesn\\'t say they gathered to\\nsee Paul off, but that when they were gathered for breaking bread,\\nPaul talked about his upcoming travel.  But that\\'s just not explicit\\nenough to be really convincing.  Similarly with 1 Cor 16:2.  It says\\nthat on the first day they should set aside money for Paul\\'s\\ncollection.  Now if you want to believe that they gathered specially\\nto do this, or that they did it in their homes, I can\\'t disprove it,\\nbut the obvious time for a congregation to take an offering would be\\nwhen they normally gather for worship, and if they were expected to do\\nit in their homes there would be no reason to mention a specific day.\\nSo I think the most obvious reading of this is that \"on the first day\\nof every week\" simply means every time they gather for worship.  \\n\\nI think the reason we have only implications and not clear statements\\nis that the NT authors assumed that their readers knew when Christian\\nworship was.\\n\\n--clh]\\n', 'From: frank@D012S658.uucp (Frank O\\'Dwyer)\\nSubject: Re: Theism and Fanatism (was: Islamic Genocide)\\nOrganization: Siemens-Nixdorf AG\\nLines: 323\\nNNTP-Posting-Host: d012s658.ap.mchp.sni.de\\n\\nIn article <16BB8D25C.I3150101@dbstu1.rz.tu-bs.de> I3150101@dbstu1.rz.tu-bs.de (Benedikt Rosenau) writes:\\n#In article <1r3tqo$ook@horus.ap.mchp.sni.de>\\n#frank@D012S658.uucp (Frank O\\'Dwyer) writes:\\n# \\n#>#>|>#>#Theism is strongly correlated with irrational belief in absolutes. Irrational\\n#>#>|>#>#belief in absolutes is strongly correlated with fanatism.\\n#>#\\n#>#(deletion)\\n#>#\\n#>#>|Theism is correlated with fanaticism. I have neither said that all fanatism\\n#>#>|is caused by theism nor that all theism leads to fanatism. The point is,\\n#>#>|theism increases the chance of becoming a fanatic. One could of course\\n#>#>|argue that would be fanatics tend towards theism (for example), but I just\\n#>#>|have to loook at the times in history when theism was the dominant ideology\\n#>#>|to invalidate that conclusion that that is the basic mechanism behind it.\\n#>#>\\n#>#>IMO, the influence of Stalin, or for that matter, Ayn Rand, invalidates your\\n#>#>assumption that theism is the factor to be considered.\\n#>#\\n#>#Bogus. I just said that theism is not the only factor for fanatism.\\n#>#The point is that theism is *a* factor.\\n#>\\n#>That\\'s your claim; now back it up.  I consider your argument as useful\\n#>as the following:  Belief is strongly correlated with fanaticism.  Therefore\\n#>belief is *a* factor in fanaticism.  True, and utterly useless.  (Note, this\\n#>is *any* belief, not belief in Gods)\\n#>\\n# \\n#Tiring to say the least. I have backed it up, read the first statement.\\n\\nI have read it.  Conspicuous by its absence is any evidence or point.\\n\\n# \\n#The latter is the fallacy of the wrong analogy. Saying someone believes\\n#something is hardly an information about the person at all. Saying someone\\n#is a theist holds much more information. Further, the correlation between\\n#theists and fanatism is higher than that between belief at all and fanatism\\n#because of the special features of theistic belief.\\n\\nTruth by blatant assertion.  Evidence?\\n# \\n# \\n#>#>Gullibility,\\n#>#>blind obedience to authority, lack of scepticism, and so on, are all more\\n#>#>reliable indicators.  And the really dangerous people - the sources of\\n#>#>fanaticism - are often none of these things.  They are cynical manipulators\\n#>#>of the gullible, who know precisely what they are doing.\\n#>#\\n#>#That\\'s a claim you have to support. Please note that especially in the\\n#>#field of theism, the leaders believe what they say.\\n#>\\n#>If you believe that, you\\'re incredibly naive.\\n#>\\n# \\n#You, Frank O\\'Dwyer, are living in a dream world. I wonder if there is any\\n#base of discussion left after such a statement. As a matter of fact, I think\\n#you are ignorant of human nature. Even when one starts with something one does\\n#not believe, one gets easily fooled into actually believing what one says.\\n# \\n#To give you the benefit of the doubt, prove your statement.\\n\\nThe onus of proof is on you, sunshine.  What makes you think that\\ntheist leaders believe what they say?  Especially when they say\\none thing and do another, or say one thing closely followed by its\\nopposite?  The practice is not restricted to theism, but it\\'s there\\nfor anyone to see.  It\\'s almost an epidemic in this country.\\n\\nJust for instance, if it is harder for a camel to pass thru\\' the eye\\nof a needle, why is the Catholic church such a wealthy land-owner?  Why\\nare there churches to the square inch in my country?\\n# \\n#>#>Now, *some*\\n#>#>brands of theism, and more precisely *some* theists, do tend to fanaticism,\\n#>#>I grant you.  To tar all theists with this brush is bigotry, not a reasoned\\n#>#>argument - and it reads to me like a warm-up for censorship and restriction\\n#>#>of religious freedom.  Ever read Animal Farm?\\n#>#>\\n#>#That\\'s a straw man. And as usually in discussions with you one has to\\n#>#repeat it: Read what I have written above: not every theism leads to\\n#>#fanatism, and not all fanatism is caused by theism. The point is,\\n#>#there is a correlation, and it comes from innate features of theism.\\n#>\\n#>No, some of it comes from features which *some* theism has in common\\n#>with *some* fanaticism.    Your last statement simply isn\\'t implied by\\n#>what you say before, because you\\'re trying to sneak in \"innate features\\n#>of [all] theism\".  The word you\\'re groping for is \"some\".\\n#>\\n# \\n#Bogus again. Not all theism as is is fanatic. However, the rest already\\n#gives backup for the statement about the correlation about fanatism and\\n#theism. And further, the specialty of other theistic beliefs allows them\\n#to switch to fanatism easily. It takes just a nifty improvement in the\\n#theology.\\n\\nTruth by blatant assertion.  \\n# \\n# \\n#>#Gullibility, by the way, is one of them.\\n#>\\n#>No shit, Sherlock.  So why not talk about gullibility instead of theism,\\n#>since it seems a whole lot more relevant to the case you have, as opposed\\n#>to the case you are trying to make?\\n#>\\n# \\n#Because there is more about theism that the attraction to gullible people\\n#causing the correlation. And the whole discussion started that way by the\\n#statement that theism is meaningfully correlated to fanatism, which you\\n#challenged.\\n\\nIndeed I did.  As I recall, I asked for evidence.  What is the correlation\\nof which you speak?  \\n# \\n# \\n#>#And to say that I am going to forbid religion is another of your straw\\n#>#men. Interesting that you have nothing better to offer.\\n#>\\n#>I said it reads like a warm up to that.  That\\'s because it\\'s an irrational\\n#>and bogus tirade, and has no other use than creating a nice Them/Us\\n#>split in the minds of excitable people such as are to be found on either\\n#>side of church walls.\\n#>\\n# \\n#Blah blah blah. I am quite well aware that giving everyone their rights\\n#protects me better from fanatics than the other way round.\\n\\nOf course, other people are always fanatics, never oneself.  Your\\nwish to slur all theists seems pretty fanatical to me.\\n# \\n#It is quite nice to see that you are actually implying a connection between\\n#that argument and the rise of fanatism. So far, it is just another of your\\n#assertions.\\n\\nSo?  You can do it.\\n# \\n# \\n#>#>|>(2)  Define \"irrational belief\".  e.g., is it rational to believe that\\n#>#>|>     reason is always useful?\\n#>#>|>\\n#>#>|\\n#>#>|Irrational belief is belief that is not based upon reason. The latter has\\n#>#>|been discussed for a long time with Charley Wingate. One point is that\\n#>#>|the beliefs violate reason often, and another that a process that does\\n#>#>|not lend itself to rational analysis does not contain reliable information.\\n#>#>\\n#>#>Well, there is a glaring paradox here:  an argument that reason is useful\\n#>#>based on reason would be circular, and argument not based on reason would\\n#>#>be irrational.  Which is it?\\n#>#>\\n#>#That\\'s bogus. Self reference is not circular. And since the evaluation of\\n#>#usefulness is possible within rational systems, it is allowed.\\n#>\\n#>O.K., it\\'s oval.  It\\'s still begging the question, however.  And though\\n#>that certainly is allowed, it\\'s not rational.  And you claiming to be\\n#>rational and all.\\n#>\\n# \\n#Another of your assertions. No proof, no evidence, just claims.\\n\\nHey - I learned it from you. Did I do good?\\n# \\n# \\n#>At the risk of repeating myself, and hearing \"we had that before\" [we\\n#>didn\\'t hear a _refutation_ before, so we\\'re back.   Deal with it] :\\n#>you can\\'t use reason to demonstrate that reason is useful.  Someone\\n#>who thinks reason is crap won\\'t buy it, you see.\\n#>\\n# \\n#That is unusually weak even for you. The latter implies that my proof\\n#depends on their opinion. Somehow who does not accept that there are\\n#triangles won\\'t accept Pythagoras. Wow, that\\'s an incredible insight.\\n#I don\\'t have to prove them wrong in their opinion. It is possible to\\n#show that their systems leave out useful information respectively claims\\n#unreliable or even absurd statements to be information.\\n\\nTotally circular, and totally useless.\\n# \\n#Their wish to believe makes them believe. Things are judges by their appeal,\\n#and not by their information. It makes you feel good when you believe that\\n#may be good for them, but it contains zillions of possible pitfalls. From\\n#belief despite contrary evidence to the bogus proofs they attempt.\\n\\nTruth by blatant assertion.  I\\'ve seen as many bogus proofs of the \\nnon-existence of gods as I have of their existence.\\n\\n# \\n#Rational systems, by the way, does not mean that every data has to come from\\n#logical analysis, the point is that the evaluation of the data does not\\n#contradict logic. It easily follows that such a system does not allows to\\n#evaluate if its rational in itself. Yes, it is possible to evaluate that\\n#it is rational in a system that is not rational by the fallacies of that\\n#system, but since the validity of the axioms is agreed upon, that has as\\n#little impact as the possibility of a demon ala Descartes.\\n\\nThis just doesn\\'t parse, sorry.\\n# \\n#So far it just a matter of consistency. I use ratiional arguments to show\\n#that my system is consistent or that theirs isn\\'t. The evaluation of the\\n\\nNor this.\\n#predictions does not need rationality. It does not contradict, however.\\n# \\n# \\n#>#Your argument is as silly as proving mathematical statements needs mathematics\\n#>#and mathematics are therfore circular.\\n#>\\n#>Anybody else think Godel was silly?\\n#>\\n# \\n#Stream of consciousness typing? What is that supposed to mean?\\n# \\n# \\n#>#>The first part of the second statement contains no information, because\\n#>#>you don\\'t say what \"the beliefs\" are.  If \"the beliefs\" are strong theism\\n#>#>and/or strong atheism, then your statement is not in general true.  The\\n#>#>second part of your sentence is patently false - counterexample: an\\n#>#>axiomatic datum does not lend itself to rational analysis, but is\\n#>#>assumed to contain reliable information regardless of what process is\\n#>#>used to obtain it.\\n#>#>\\n#>#\\n#>#I\\'ve been speaking of religious systems with contradictory definitions\\n#>#of god here.\\n#>#\\n#>#An axiomatic datum lends itself to rational analysis, what you say here\\n#>#is a an often refuted fallacy. Have a look at the discussion of the\\n#>#axiom of choice. And further, one can evaluate axioms in larger systems\\n#>#out of which they are usually derived. \"I exist\" is derived, if you want\\n#>#it that way.\\n#>#\\n#>#Further, one can test the consistency and so on of a set of axioms.\\n#>#\\n#>#what is it you are trying to say?\\n#>\\n#>That at some point, people always wind up saying \"this datum is reliable\"\\n#>for no particular reason at all.  Example: \"I am not dreaming\".\\n#>\\n# \\n#Nope. There is evidence for it. The trick is that the choice of an axiomatic\\n#basis of a system is difficult, because the possibilities are interwoven.\\n#One therefore chooses that with the least assumptions or with assumptions\\n#that are necessary to get information out of the system anyway.\\n\\nI\\'d like to see this alleged evidence.\\n# \\n#One does not need to define axioms in order to define an evaluation method\\n#for usefulness, the foundation is laid by how one feels at all (that\\'s not\\n#how one feels about it).\\n\\nI see.  You have no irrational beliefs.  But then, fanatics never do, do\\nthey?\\n\\n# \\n#>#>|Compared the evidence theists have for their claims to the strength of\\n#>#>|their demands makes the whole thing not only irrational but antirational.\\n#>#>\\n#>#>I can\\'t agree with this until you are specific - *which* theism?  To\\n#>#>say that all theism is necessarily antirational requires a proof which\\n#>#>I suspect you do not have.\\n#>#>\\n#>#\\n#>#Using the traditonal definition of gods. Personal, supernatural entities\\n#>#with objective effects on this world. Usually connected to morals and/or\\n#>#the way the world works.\\n#>\\n#>IMO, any belief about such gods is necessarily irrational.  That does\\n#>not mean that people who hold them are in principle opposed to the exercise of\\n#>intelligence.  Some atheists are also scientists, for example.\\n#>\\n# \\n#They don\\'t use theism when doing science. Or it wouldn\\'t be science. Please\\n#note that subjective data lend themselves to a scientific treatment as well.\\n#They just prohibit formulating them as objective statements.\\n\\nErgo, nothing is objective.  Fair enough.\\n# \\n# \\n#>#>|The affinity to fanatism is easily seen. It has to be true because I believe\\n#>#>|it is nothing more than a work hypothesis. However, the beliefs say they are\\n#>#>|more than a work hypothesis.\\n#>#>\\n#>#>I don\\'t understand this.  Can you formalise your argument?\\n#>#\\n#>#Person A believes system B becuase it sounds so nice. That does not make\\n#>#B true, it is at best a work hypothesis. However, the content of B is that\\n#>#it is true AND that it is more than a work hypothesis. Testing or evaluating\\n#>#evidence for or against it  therefore dismissed because B (already believed)\\n#>#says it is wronG/ a waste  of time/ not possible. Depending on the further\\n#>#contents of B Amalekites/Idolaters/Protestants are to be killed, this can\\n#>#have interesting effects.\\n#>\\n#>Peculiar definition of interesting, but sure.  Now show that a belief\\n#>in gods entails the further contents of which you speak.   Why aren\\'t my\\n#>catholic neighbours out killing the protestants, for example?   Maybe they\\n#>don\\'t believe in it.  Maybe it\\'s the conjunction of \"B asserts B\" and\\n#>\"jail/kill dissenters\" that is important, and the belief in gods is\\n#>entirely irrelevant.  It certainly seems so to me, but then I have no\\n#>axe to grind here.\\n#>\\n# \\n#The example with your neighbours is a fallacy. That *your* neighbours don\\'t\\n#says little about others. And there were times when exactly that happened.\\n\\nNope, it\\'s not a fallacy.   It just doesn\\'t go to the correlation you\\nwish to see.\\n# \\n#And tell me, when it is not irrelevant, why are such statements about\\n#Amalekites and Idolaters in the Holy Books? Please note that one could\\n#edit them out when they are not relevant anymore. Because gods don\\'t err?\\n#What does that say about that message?\\n\\nExcuse me - THE Holy Books?\\n# \\n#And how come we had theists saying genocides ordered by god are ok. A god\\n#is the easiest way to excuse anything, and therefore highly attracting to\\n#fanatics. Not to mention the effect interpretation by these fanatics can\\n#have on the rest of the believers. Happens again and again and again.\\n\\nA god is neither the easiest way to excuse anything, nor the only way.\\n\\n\\n-- \\nFrank O\\'Dwyer                                  \\'I\\'m not hatching That\\'\\nodwyer@sse.ie                                  from \"Hens\",  by Evelyn Conlon\\n'], 1: ['From: franjion@spot.Colorado.EDU (John Franjione)\\nSubject: Re: Relative value of players\\nNntp-Posting-Host: spot.colorado.edu\\nOrganization: University of Colorado, Boulder\\nLines: 43\\n\\nkime@mongoose.torolab.ibm.com (Edward Kim) writes:\\n\\n>It is doubtful that the blue jays would have won the AL east without Morris.\\n>Last year, when the team went 13-15 for the month of August, and all the \\n>other starters were being shelled, and Milwaukee was making a charge,\\n>Morris went 5-1 with a pretty good era (I can\\'t remember exactly).\\n>Also, let\\'s not underestimate the importance his 240+ innings to save \\n>the bullpen every fifth day.  If he didn\\'t help us win the AL east, forget\\n>about the pennent and the world series.\\n\\n>His run support was high (5.98 runs) but so was Stottlemyer\\'s (5.90 runs)\\n>and he won only 12 games.  I do remember Morris winning an inordinate number of\\n>6-5 and 8-6 ballgames, but this is to his credit.  He pitched only as good\\n>as he needed to be.  When he was up 6-1 in a ballgame, he just put it in cruise\\n>control and threw the ball up there and let the batters \"get themseleves out\"\\n>(I hate this expression!).  An inexperienced pitcher would wear himself out \\n>trying to make perfect pitches to keep his era down.  But Morris, being a \\n>veteran pitcher, knows that winning is the only thing that really matters in\\n>baseball.  By saving himself, he was able to reach back for that little extra\\n>(I hate this too!) when the game was on the line.\\n\\nI don\\'t buy this at all.  I think things are colored to a very large\\ndegree of preconceived notions of who the players involved are.  Try\\nthis exercise:\\n\\nXXX is pitching today.  His team scores 4 in the first inning, and 3\\nin the fourth.  XXX gives up 0 in the 1st through 4th.  In the fifth,\\nhe gives up 3 runs.  In the 6th, he gives up 2 more.  The score is now\\n7-5, with XXX\\'s team still on top.\\n\\nI contend that if XXX were Jack Morris, the assessment would be \"he is\\na gutty veteran who pitches only as well as he has to to win.\"\\n\\nIf XXX were Mike Trmbley, the assessment would be \"he is an\\ninexperienced rookie who doesn\\'t know how to pitch.  Needs more\\nseasoning.  Send him to AAA.  Or to the spice rack.\"\\n\\n\\n-- \\nJohn Franjione\\nDepartment of Chemical Engineering\\nUniversity of Colorado, Boulder\\nfranjion@spot.colorado.edu\\n', 'From: epritcha@s.psych.uiuc.edu ( Evan Pritchard)\\nSubject: Re: div. and conf. names\\nDistribution: na\\nOrganization: UIUC Department of Psychology\\nLines: 59\\n\\nmaynard@ramsey.cs.laurentian.ca (Roger Maynard) writes:\\n>In <115873@bu.edu> Jason Gibson writes:\\n\\n>>I can live with the other changes that have been made (e.g. the playoff format\\n>>change), but the change to the division and conference names really annoys me.\\n>>\"Batman\" was on TSN last night saying that changing the names would make the\\n>>game easier for the \"occasional fan to follow\".  He should have said what he\\n>>meant: that changing the names will make the game easier for _Americans_ in \\n>>non-hockey cities to follow.  I don\\'t know of too many of my friends who had \\n>>a hard time following which teams were in each division. Even a minimal amount\\n>>of exposure to the game allows a person to quickly pick up on this.\\n\\n>There is nothing wrong with making the game easier for \"_Americans_\" to\\n>follow.  The more fans the merrier and even if you dislike the \"occasional\"\\n>fan there is always the chance that these fans will become fanatics.\\n\\n>I am glad that the names are being changed for another reason.  The names\\n>Patrick, Smythe, Norris, Adams and Campbell are all the names of so-called\\n>\"builders\" of the game.  This is the same type of thinking that put Stein\\n>in the Hall of Fame.  This is absolute nonsense.  The real builders of the\\n>game are Richard, Morenz, Howe, Conacher, Orr, etc.  If you are going to\\n>name the divisions after people at least name the divisions after people\\n>who deserve it.\\n\\n\\tI think that you are incorrect, Roger.  Patrick,\\nSmythe and Adams all played or coached in the league before becoming\\nfront office types.  Hence, they did help build the league, although\\nthey were not great players themselves.  \\n\\n\\tI agree that a name is a name is a name, and if some people\\nhave trouble with names that are not easily processed by the fans,\\nthen changing them to names that are more easily processed seems like\\na reasonable idea.  If we can get people in the (arena) door by being\\nuncomplicated, then let\\'s do so.  Once we have them, they will realize\\nwhat a great game hockey is, and we can then teach them something\\nabotu the history of the game.  \\n \\n>The history of the names can be put rather succinctly.  All of the aforemen-\\n>tioned used the game of hockey to make money.  Can you imagine a Pocklington\\n>division?  A Ballard division?  Or how about a Green division?\\n\\n\\tNo, I would not want to see a Ballard division.  But to say\\nthat these owners are assholes, hence all NHL management people are\\nassholes would be fallacious.  Conn Smythe, for example, was a classy\\nindividual (from what I have heard). \\n\\n\\tAlso, isn\\'t the point of \"professional\" hockey to make money\\nfor all those involved, which would include the players.  What I think\\nyou might be saying is that the players have not made as much money as\\nshould have been their due, and it is the players that are what make\\nthe game great not the people who put them on the ice, so naming\\ndivision after management people rather than players is adding insult\\n(in the form of lesser recognition) to injury (less money than was\\ndeserved).   \\n\\n_______________________\\nEvan Pritchard --------  Number 1 or 9 depending on the hockey pool \\n=======================\\nepritcha@psych.uiuc.edu  \\n', 'From: mss@netcom.com (Mark Singer)\\nSubject: Re: Young Catchers\\nOrganization: Netcom Online Communications Services (408-241-9760 login: guest)\\nLines: 143\\n\\nIn article <7862@blue.cis.pitt.edu> genetic+@pitt.edu (David M. Tate) writes:\\n>mss@netcom.com (Mark Singer) said:\\n>\\n>>I meant that one should not let the exception make the rule.  \\n>\\n>It\\'s not an exception.  Good players come up young; most players who come\\n>up young will be good.  This has always been the rule.\\n\\n\\nAre most players who come up young always good when they\\'re young, or\\nlater?\\n\\n>Worse: it\\'s not a \"shift\".  This is the way it has *always* been.  Several\\n>detailed studies of this have been done, and they\\'ve all shown that players\\n>aren\\'t coming up any younger or older than in the past, and they aren\\'t \\n>playing any more or less in the minors than they used to.  The only thing\\n>that shifts is our memories of the \"good old days\" :-).\\n\\nDamn.  I was afraid you would say that!\\n\\n>\\n>But all after the fact, which makes it *not* applicable to the current\\n>discussion, which is about how you decide whether to play the rookie who\\n>hasn\\'t \"established himself\" in the majors over the mediocre veteran.  The\\n>Padres played Santiago that year because they clearly had nobody else worth\\n>playing.  \\n\\nWell, perhaps if the Braves had no one else worth playing this year it\\nwould be Lopez in there.  But they do have others worth playing, at\\nleast in *their* opinion.  And I happen to agree.\\n\\n>\\n>>>>Both of these young men were highly touted defensive catchers,\\n>>>>expected to be among the best ever in baseball.  \\n>\\n>Not by rec.sport.baseball consensus.  That may sound like an incredibly\\n>arrogant comment, but I\\'ve found that the SDCN consensus (when one exists)\\n>is right far more often than the media consensus or the opinions of \"baseball\\n>people\" affiliated with MLB.  \\n\\nI can believe that.  I\\'m a newbie here, so I\\'ll take your word.  But\\nAlomar *is* a fine defensive catcher, which was my statement above.\\nThat is a solid reason for bringing him up at a tender age, as long\\nas they feel he can also hit a bit.  Lopez does not have such a\\nconsensus about his defensive prowess, and imho that is enough to\\ngive him that dreaded \"seasoning\".\\n\\n>\\n>>I don\\'t know \"who knows\".  I suppose the same people (or similar) who\\n>>\"know\" he will be better than some other catcher.  These are, of \\n>>course, just differing opinions.  I read that his arm is not that\\n>>strong (I suppose somewhere there is some measurement of SB ratios)\\n>>and that he is still learning to call a game.  That latter skill may\\n>>be difficult to project on someone without an intimate knowledge of\\n>>his performance, but it is a tangible skill.\\n>\\n>I disagree, in that I don\\'t think it *is* a _tangible_ skill, any more than\\n>leadership is.  I don\\'t deny that it is a *real* skill, and that some catchers\\n>may be much better than others at it, but I really don\\'t see any way that we\\n>could ever know who they are.  Nichols\\'s Law of Catcher Defense is eerily\\n>accurate far too often for me to take defensive assessments of catchers very\\n>seriously.\\n\\nSorry.  New.  Don\\'t know Nichols\\' Law.  Don\\'t believe in catchers\\'\\nera.  But I am interested in pitchers\\' eras with different catchers.\\nAny info on that?\\n\\n>\\n>\\n>Absolutely.  The evidence is piling up, year after year.  The only other\\n>alternative is that the Braves really don\\'t *know* that their young players\\n>are, on average, better than their current starters.  I\\'m not ruling out that\\n>kind of gross incompetence, but I think the salary-schedule explanation is\\n>more charitable.\\n\\nIn other words, we know more than they do, so the only logic behind \\na different decision than we would make must be financial.  I presume\\nwe feel this way about other franchises than Atlanta, no?\\n\\n>\\n>Consider: we *know* that the Braves are about the strongest team in baseball\\n>right now, even with Olson and Lemke and Nixon and Bream in the lineup.  They\\n>have as good a chance of repeating as champs this year as any team ever has.\\n>It actually makes some sense to say \"rather than making our team marginally\\n>better this year by bringing up the young studs and dumping the elderly, let\\'s\\n>go ahead and compete this year with what we have, and then bring up the studs\\n>only as we *have* to, so that we\\'ll still have them under reserve three years\\n>from now and beyond when the current team will be collecting pensions.\"\\n>\\n>Is it fair to the young players?  No.  Does it make organizational sense? \\n>I think it does.\\n\\nWell if it does make organizational sense, one can hardly fault them\\nfor their decisions.  I mean, please don\\'t tell me how to run my\\nbusiness.  Especially when I\\'m being successful.\\n\\n>\\n> C:\\tI could make it 107 or 108 wins if you let me bring up Lopez.\\n>\\n>>S:\\tListen, Bobby.  I\\'d like to.  But the way I see it, if he hits\\n>>\\tthe big club this year we\\'ll be paying mega-arbitration bucks\\n>>\\tdown the road in a couple of years and there\\'s no way I want\\n>>\\tto do that.\\n>\\n>...and continues with\\n>\\n>\\tWe can win without him, and then _keep_ winning next year with him.\\n>\\tHow\\'s that?\\n\\nI\\'m sure you could be right.  You could also be smoking some illegal\\nsubstance.\\n\\n(Hey.  That\\'s a joke.  Don\\'t get offended.  Please.)\\n\\n>\\n>Hey, I\\'d love to be wrong about this.  If you think it\\'s unlikely, I\\'d love\\n>to know why.  Don\\'t cite anybody\\'s innate ethical rectitude, though, unless\\n>you know them personally.\\n>\\n>\\nWell, I can\\'t cite anyone\\'s ethical rectitude because I don\\'t know\\nwhat it means.  :)\\n\\nBut again, if it makes organizational sense, then so be it.  Baseball\\nis a business, and if there is a solid business reason for keeping\\nLopez on the farm then that\\'s what the Braves *should* do.\\n\\nI happen to believe that it\\'s a baseball decision.  While you from\\nyour armchair may disagee, I don\\'t.  I think there is a lot of\\nevidence to suggest the decision they made.  I predicted it among\\nlarge guffaws from several at the start of spring training.  I\\nthink it is a very *normal* decision to have made.  It is certainly\\nmore reversible than to have started Lopez in the bigs and have\\nreleased one of their catchers.  Sure, it may be conservative.  It\\nmay also be logical.  I don\\'t know what ethics have to do with it.\\nSeems like pretty good common sense to me.\\n\\n--\\tThe Beastmaster\\n\\n\\n-- \\nMark Singer    \\nmss@netcom.com\\n']}\n",
            "\n",
            "   Topic  Count             Name  \\\n",
            "0      0    449  0_the_to_of_and   \n",
            "1      1     51  1_the_to_in_and   \n",
            "\n",
            "                                   Representation  \\\n",
            "0  [the, to, of, and, in, is, that, it, you, for]   \n",
            "1   [the, to, in, and, edu, that, of, is, it, he]   \n",
            "\n",
            "                                 Representative_Docs  \n",
            "0  [From: viking@iastate.edu (Dan Sorenson)\\nSubj...  \n",
            "1  [From: franjion@spot.Colorado.EDU (John Franji...  \n"
          ]
        }
      ]
    },
    {
      "cell_type": "code",
      "source": [
        "# Reduce the number of topics\n",
        "topic_model.reduce_topics(docs[:500], nr_topics=10)"
      ],
      "metadata": {
        "id": "D1peCUjb7cLV"
      },
      "execution_count": null,
      "outputs": []
    },
    {
      "cell_type": "code",
      "source": [
        "bar_chart = topic_model.visualize_barchart(n_words=5)\n",
        "bar_chart.show()"
      ],
      "metadata": {
        "colab": {
          "base_uri": "https://localhost:8080/",
          "height": 342
        },
        "id": "qc8d9n-X8lzQ",
        "outputId": "9d7eb0ef-2e60-434a-d1fd-4e59fad5fbdb"
      },
      "execution_count": null,
      "outputs": [
        {
          "output_type": "display_data",
          "data": {
            "text/html": [
              "<html>\n",
              "<head><meta charset=\"utf-8\" /></head>\n",
              "<body>\n",
              "    <div>            <script src=\"https://cdnjs.cloudflare.com/ajax/libs/mathjax/2.7.5/MathJax.js?config=TeX-AMS-MML_SVG\"></script><script type=\"text/javascript\">if (window.MathJax && window.MathJax.Hub && window.MathJax.Hub.Config) {window.MathJax.Hub.Config({SVG: {font: \"STIX-Web\"}});}</script>                <script type=\"text/javascript\">window.PlotlyConfig = {MathJaxConfig: 'local'};</script>\n",
              "        <script charset=\"utf-8\" src=\"https://cdn.plot.ly/plotly-2.24.1.min.js\"></script>                <div id=\"601daf68-5f94-49c1-aa1b-6b83e3d9867a\" class=\"plotly-graph-div\" style=\"height:325.0px; width:1000px;\"></div>            <script type=\"text/javascript\">                                    window.PLOTLYENV=window.PLOTLYENV || {};                                    if (document.getElementById(\"601daf68-5f94-49c1-aa1b-6b83e3d9867a\")) {                    Plotly.newPlot(                        \"601daf68-5f94-49c1-aa1b-6b83e3d9867a\",                        [{\"marker\":{\"color\":\"#D55E00\"},\"orientation\":\"h\",\"x\":[0.052055211135785526,0.05841102859903539,0.06949200622103519,0.0726753620380519,0.11342970816067244],\"y\":[\"in  \",\"and  \",\"of  \",\"to  \",\"the  \"],\"type\":\"bar\",\"xaxis\":\"x\",\"yaxis\":\"y\"},{\"marker\":{\"color\":\"#0072B2\"},\"orientation\":\"h\",\"x\":[0.04278677875695729,0.04583560828637624,0.049821611624742905,0.05331933002896095,0.08621418528383151],\"y\":[\"edu  \",\"and  \",\"in  \",\"to  \",\"the  \"],\"type\":\"bar\",\"xaxis\":\"x2\",\"yaxis\":\"y2\"}],                        {\"template\":{\"data\":{\"barpolar\":[{\"marker\":{\"line\":{\"color\":\"white\",\"width\":0.5},\"pattern\":{\"fillmode\":\"overlay\",\"size\":10,\"solidity\":0.2}},\"type\":\"barpolar\"}],\"bar\":[{\"error_x\":{\"color\":\"#2a3f5f\"},\"error_y\":{\"color\":\"#2a3f5f\"},\"marker\":{\"line\":{\"color\":\"white\",\"width\":0.5},\"pattern\":{\"fillmode\":\"overlay\",\"size\":10,\"solidity\":0.2}},\"type\":\"bar\"}],\"carpet\":[{\"aaxis\":{\"endlinecolor\":\"#2a3f5f\",\"gridcolor\":\"#C8D4E3\",\"linecolor\":\"#C8D4E3\",\"minorgridcolor\":\"#C8D4E3\",\"startlinecolor\":\"#2a3f5f\"},\"baxis\":{\"endlinecolor\":\"#2a3f5f\",\"gridcolor\":\"#C8D4E3\",\"linecolor\":\"#C8D4E3\",\"minorgridcolor\":\"#C8D4E3\",\"startlinecolor\":\"#2a3f5f\"},\"type\":\"carpet\"}],\"choropleth\":[{\"colorbar\":{\"outlinewidth\":0,\"ticks\":\"\"},\"type\":\"choropleth\"}],\"contourcarpet\":[{\"colorbar\":{\"outlinewidth\":0,\"ticks\":\"\"},\"type\":\"contourcarpet\"}],\"contour\":[{\"colorbar\":{\"outlinewidth\":0,\"ticks\":\"\"},\"colorscale\":[[0.0,\"#0d0887\"],[0.1111111111111111,\"#46039f\"],[0.2222222222222222,\"#7201a8\"],[0.3333333333333333,\"#9c179e\"],[0.4444444444444444,\"#bd3786\"],[0.5555555555555556,\"#d8576b\"],[0.6666666666666666,\"#ed7953\"],[0.7777777777777778,\"#fb9f3a\"],[0.8888888888888888,\"#fdca26\"],[1.0,\"#f0f921\"]],\"type\":\"contour\"}],\"heatmapgl\":[{\"colorbar\":{\"outlinewidth\":0,\"ticks\":\"\"},\"colorscale\":[[0.0,\"#0d0887\"],[0.1111111111111111,\"#46039f\"],[0.2222222222222222,\"#7201a8\"],[0.3333333333333333,\"#9c179e\"],[0.4444444444444444,\"#bd3786\"],[0.5555555555555556,\"#d8576b\"],[0.6666666666666666,\"#ed7953\"],[0.7777777777777778,\"#fb9f3a\"],[0.8888888888888888,\"#fdca26\"],[1.0,\"#f0f921\"]],\"type\":\"heatmapgl\"}],\"heatmap\":[{\"colorbar\":{\"outlinewidth\":0,\"ticks\":\"\"},\"colorscale\":[[0.0,\"#0d0887\"],[0.1111111111111111,\"#46039f\"],[0.2222222222222222,\"#7201a8\"],[0.3333333333333333,\"#9c179e\"],[0.4444444444444444,\"#bd3786\"],[0.5555555555555556,\"#d8576b\"],[0.6666666666666666,\"#ed7953\"],[0.7777777777777778,\"#fb9f3a\"],[0.8888888888888888,\"#fdca26\"],[1.0,\"#f0f921\"]],\"type\":\"heatmap\"}],\"histogram2dcontour\":[{\"colorbar\":{\"outlinewidth\":0,\"ticks\":\"\"},\"colorscale\":[[0.0,\"#0d0887\"],[0.1111111111111111,\"#46039f\"],[0.2222222222222222,\"#7201a8\"],[0.3333333333333333,\"#9c179e\"],[0.4444444444444444,\"#bd3786\"],[0.5555555555555556,\"#d8576b\"],[0.6666666666666666,\"#ed7953\"],[0.7777777777777778,\"#fb9f3a\"],[0.8888888888888888,\"#fdca26\"],[1.0,\"#f0f921\"]],\"type\":\"histogram2dcontour\"}],\"histogram2d\":[{\"colorbar\":{\"outlinewidth\":0,\"ticks\":\"\"},\"colorscale\":[[0.0,\"#0d0887\"],[0.1111111111111111,\"#46039f\"],[0.2222222222222222,\"#7201a8\"],[0.3333333333333333,\"#9c179e\"],[0.4444444444444444,\"#bd3786\"],[0.5555555555555556,\"#d8576b\"],[0.6666666666666666,\"#ed7953\"],[0.7777777777777778,\"#fb9f3a\"],[0.8888888888888888,\"#fdca26\"],[1.0,\"#f0f921\"]],\"type\":\"histogram2d\"}],\"histogram\":[{\"marker\":{\"pattern\":{\"fillmode\":\"overlay\",\"size\":10,\"solidity\":0.2}},\"type\":\"histogram\"}],\"mesh3d\":[{\"colorbar\":{\"outlinewidth\":0,\"ticks\":\"\"},\"type\":\"mesh3d\"}],\"parcoords\":[{\"line\":{\"colorbar\":{\"outlinewidth\":0,\"ticks\":\"\"}},\"type\":\"parcoords\"}],\"pie\":[{\"automargin\":true,\"type\":\"pie\"}],\"scatter3d\":[{\"line\":{\"colorbar\":{\"outlinewidth\":0,\"ticks\":\"\"}},\"marker\":{\"colorbar\":{\"outlinewidth\":0,\"ticks\":\"\"}},\"type\":\"scatter3d\"}],\"scattercarpet\":[{\"marker\":{\"colorbar\":{\"outlinewidth\":0,\"ticks\":\"\"}},\"type\":\"scattercarpet\"}],\"scattergeo\":[{\"marker\":{\"colorbar\":{\"outlinewidth\":0,\"ticks\":\"\"}},\"type\":\"scattergeo\"}],\"scattergl\":[{\"marker\":{\"colorbar\":{\"outlinewidth\":0,\"ticks\":\"\"}},\"type\":\"scattergl\"}],\"scattermapbox\":[{\"marker\":{\"colorbar\":{\"outlinewidth\":0,\"ticks\":\"\"}},\"type\":\"scattermapbox\"}],\"scatterpolargl\":[{\"marker\":{\"colorbar\":{\"outlinewidth\":0,\"ticks\":\"\"}},\"type\":\"scatterpolargl\"}],\"scatterpolar\":[{\"marker\":{\"colorbar\":{\"outlinewidth\":0,\"ticks\":\"\"}},\"type\":\"scatterpolar\"}],\"scatter\":[{\"fillpattern\":{\"fillmode\":\"overlay\",\"size\":10,\"solidity\":0.2},\"type\":\"scatter\"}],\"scatterternary\":[{\"marker\":{\"colorbar\":{\"outlinewidth\":0,\"ticks\":\"\"}},\"type\":\"scatterternary\"}],\"surface\":[{\"colorbar\":{\"outlinewidth\":0,\"ticks\":\"\"},\"colorscale\":[[0.0,\"#0d0887\"],[0.1111111111111111,\"#46039f\"],[0.2222222222222222,\"#7201a8\"],[0.3333333333333333,\"#9c179e\"],[0.4444444444444444,\"#bd3786\"],[0.5555555555555556,\"#d8576b\"],[0.6666666666666666,\"#ed7953\"],[0.7777777777777778,\"#fb9f3a\"],[0.8888888888888888,\"#fdca26\"],[1.0,\"#f0f921\"]],\"type\":\"surface\"}],\"table\":[{\"cells\":{\"fill\":{\"color\":\"#EBF0F8\"},\"line\":{\"color\":\"white\"}},\"header\":{\"fill\":{\"color\":\"#C8D4E3\"},\"line\":{\"color\":\"white\"}},\"type\":\"table\"}]},\"layout\":{\"annotationdefaults\":{\"arrowcolor\":\"#2a3f5f\",\"arrowhead\":0,\"arrowwidth\":1},\"autotypenumbers\":\"strict\",\"coloraxis\":{\"colorbar\":{\"outlinewidth\":0,\"ticks\":\"\"}},\"colorscale\":{\"diverging\":[[0,\"#8e0152\"],[0.1,\"#c51b7d\"],[0.2,\"#de77ae\"],[0.3,\"#f1b6da\"],[0.4,\"#fde0ef\"],[0.5,\"#f7f7f7\"],[0.6,\"#e6f5d0\"],[0.7,\"#b8e186\"],[0.8,\"#7fbc41\"],[0.9,\"#4d9221\"],[1,\"#276419\"]],\"sequential\":[[0.0,\"#0d0887\"],[0.1111111111111111,\"#46039f\"],[0.2222222222222222,\"#7201a8\"],[0.3333333333333333,\"#9c179e\"],[0.4444444444444444,\"#bd3786\"],[0.5555555555555556,\"#d8576b\"],[0.6666666666666666,\"#ed7953\"],[0.7777777777777778,\"#fb9f3a\"],[0.8888888888888888,\"#fdca26\"],[1.0,\"#f0f921\"]],\"sequentialminus\":[[0.0,\"#0d0887\"],[0.1111111111111111,\"#46039f\"],[0.2222222222222222,\"#7201a8\"],[0.3333333333333333,\"#9c179e\"],[0.4444444444444444,\"#bd3786\"],[0.5555555555555556,\"#d8576b\"],[0.6666666666666666,\"#ed7953\"],[0.7777777777777778,\"#fb9f3a\"],[0.8888888888888888,\"#fdca26\"],[1.0,\"#f0f921\"]]},\"colorway\":[\"#636efa\",\"#EF553B\",\"#00cc96\",\"#ab63fa\",\"#FFA15A\",\"#19d3f3\",\"#FF6692\",\"#B6E880\",\"#FF97FF\",\"#FECB52\"],\"font\":{\"color\":\"#2a3f5f\"},\"geo\":{\"bgcolor\":\"white\",\"lakecolor\":\"white\",\"landcolor\":\"white\",\"showlakes\":true,\"showland\":true,\"subunitcolor\":\"#C8D4E3\"},\"hoverlabel\":{\"align\":\"left\"},\"hovermode\":\"closest\",\"mapbox\":{\"style\":\"light\"},\"paper_bgcolor\":\"white\",\"plot_bgcolor\":\"white\",\"polar\":{\"angularaxis\":{\"gridcolor\":\"#EBF0F8\",\"linecolor\":\"#EBF0F8\",\"ticks\":\"\"},\"bgcolor\":\"white\",\"radialaxis\":{\"gridcolor\":\"#EBF0F8\",\"linecolor\":\"#EBF0F8\",\"ticks\":\"\"}},\"scene\":{\"xaxis\":{\"backgroundcolor\":\"white\",\"gridcolor\":\"#DFE8F3\",\"gridwidth\":2,\"linecolor\":\"#EBF0F8\",\"showbackground\":true,\"ticks\":\"\",\"zerolinecolor\":\"#EBF0F8\"},\"yaxis\":{\"backgroundcolor\":\"white\",\"gridcolor\":\"#DFE8F3\",\"gridwidth\":2,\"linecolor\":\"#EBF0F8\",\"showbackground\":true,\"ticks\":\"\",\"zerolinecolor\":\"#EBF0F8\"},\"zaxis\":{\"backgroundcolor\":\"white\",\"gridcolor\":\"#DFE8F3\",\"gridwidth\":2,\"linecolor\":\"#EBF0F8\",\"showbackground\":true,\"ticks\":\"\",\"zerolinecolor\":\"#EBF0F8\"}},\"shapedefaults\":{\"line\":{\"color\":\"#2a3f5f\"}},\"ternary\":{\"aaxis\":{\"gridcolor\":\"#DFE8F3\",\"linecolor\":\"#A2B1C6\",\"ticks\":\"\"},\"baxis\":{\"gridcolor\":\"#DFE8F3\",\"linecolor\":\"#A2B1C6\",\"ticks\":\"\"},\"bgcolor\":\"white\",\"caxis\":{\"gridcolor\":\"#DFE8F3\",\"linecolor\":\"#A2B1C6\",\"ticks\":\"\"}},\"title\":{\"x\":0.05},\"xaxis\":{\"automargin\":true,\"gridcolor\":\"#EBF0F8\",\"linecolor\":\"#EBF0F8\",\"ticks\":\"\",\"title\":{\"standoff\":15},\"zerolinecolor\":\"#EBF0F8\",\"zerolinewidth\":2},\"yaxis\":{\"automargin\":true,\"gridcolor\":\"#EBF0F8\",\"linecolor\":\"#EBF0F8\",\"ticks\":\"\",\"title\":{\"standoff\":15},\"zerolinecolor\":\"#EBF0F8\",\"zerolinewidth\":2}}},\"xaxis\":{\"anchor\":\"y\",\"domain\":[0.0,0.175],\"showgrid\":true},\"yaxis\":{\"anchor\":\"x\",\"domain\":[0.0,1.0],\"showgrid\":true},\"xaxis2\":{\"anchor\":\"y2\",\"domain\":[0.275,0.45],\"showgrid\":true},\"yaxis2\":{\"anchor\":\"x2\",\"domain\":[0.0,1.0],\"showgrid\":true},\"xaxis3\":{\"anchor\":\"y3\",\"domain\":[0.55,0.7250000000000001],\"showgrid\":true},\"yaxis3\":{\"anchor\":\"x3\",\"domain\":[0.0,1.0],\"showgrid\":true},\"xaxis4\":{\"anchor\":\"y4\",\"domain\":[0.825,1.0],\"showgrid\":true},\"yaxis4\":{\"anchor\":\"x4\",\"domain\":[0.0,1.0],\"showgrid\":true},\"annotations\":[{\"font\":{\"size\":16},\"showarrow\":false,\"text\":\"Topic 0\",\"x\":0.0875,\"xanchor\":\"center\",\"xref\":\"paper\",\"y\":1.0,\"yanchor\":\"bottom\",\"yref\":\"paper\"},{\"font\":{\"size\":16},\"showarrow\":false,\"text\":\"Topic 1\",\"x\":0.36250000000000004,\"xanchor\":\"center\",\"xref\":\"paper\",\"y\":1.0,\"yanchor\":\"bottom\",\"yref\":\"paper\"}],\"title\":{\"font\":{\"size\":22,\"color\":\"Black\"},\"text\":\"Topic Word Scores\",\"x\":0.5,\"xanchor\":\"center\",\"yanchor\":\"top\"},\"hoverlabel\":{\"font\":{\"size\":16,\"family\":\"Rockwell\"},\"bgcolor\":\"white\"},\"showlegend\":false,\"width\":1000,\"height\":325.0},                        {\"responsive\": true}                    ).then(function(){\n",
              "                            \n",
              "var gd = document.getElementById('601daf68-5f94-49c1-aa1b-6b83e3d9867a');\n",
              "var x = new MutationObserver(function (mutations, observer) {{\n",
              "        var display = window.getComputedStyle(gd).display;\n",
              "        if (!display || display === 'none') {{\n",
              "            console.log([gd, 'removed!']);\n",
              "            Plotly.purge(gd);\n",
              "            observer.disconnect();\n",
              "        }}\n",
              "}});\n",
              "\n",
              "// Listen for the removal of the full notebook cells\n",
              "var notebookContainer = gd.closest('#notebook-container');\n",
              "if (notebookContainer) {{\n",
              "    x.observe(notebookContainer, {childList: true});\n",
              "}}\n",
              "\n",
              "// Listen for the clearing of the current output cell\n",
              "var outputEl = gd.closest('.output');\n",
              "if (outputEl) {{\n",
              "    x.observe(outputEl, {childList: true});\n",
              "}}\n",
              "\n",
              "                        })                };                            </script>        </div>\n",
              "</body>\n",
              "</html>"
            ]
          },
          "metadata": {}
        }
      ]
    },
    {
      "cell_type": "markdown",
      "source": [
        "## **Topic Bert**"
      ],
      "metadata": {
        "id": "gJ_CzYkc9QMT"
      }
    },
    {
      "cell_type": "code",
      "source": [
        "from bertopic import BERTopic\n",
        "from sklearn.datasets import fetch_20newsgroups\n",
        "from sklearn.feature_extraction.text import CountVectorizer\n",
        "\n",
        "vectorizer_model = CountVectorizer(ngram_range=(1, 2), stop_words=\"english\")\n",
        "\n",
        "\n",
        "docs = fetch_20newsgroups(subset='all')['data']\n",
        "model = BERTopic(top_n_words=15,\n",
        "                 nr_topics=\"auto\",\n",
        "                 embedding_model=\"all-MiniLM-L6-v2\",\n",
        "                 verbose=True,\n",
        "                 vectorizer_model=vectorizer_model\n",
        "                 )\n",
        "topics, probabilities = topic_model.fit_transform(docs[:100])\n",
        "\n",
        "\n",
        "\n",
        "\n"
      ],
      "metadata": {
        "colab": {
          "base_uri": "https://localhost:8080/"
        },
        "id": "_bkj0eec9SV2",
        "outputId": "14979e21-56c0-4996-fada-0cd287df3985"
      },
      "execution_count": null,
      "outputs": [
        {
          "output_type": "stream",
          "name": "stderr",
          "text": [
            "2023-12-08 15:05:50,230 - BERTopic - Embedding - Transforming documents to embeddings.\n",
            "2023-12-08 15:06:20,477 - BERTopic - Embedding - Completed ✓\n",
            "2023-12-08 15:06:20,482 - BERTopic - Dimensionality - Fitting the dimensionality reduction algorithm\n",
            "2023-12-08 15:06:24,941 - BERTopic - Dimensionality - Completed ✓\n",
            "2023-12-08 15:06:24,945 - BERTopic - Cluster - Start clustering the reduced embeddings\n",
            "2023-12-08 15:06:24,959 - BERTopic - Cluster - Completed ✓\n"
          ]
        }
      ]
    },
    {
      "cell_type": "code",
      "source": [
        "print(topic_model.get_topic_info())\n"
      ],
      "metadata": {
        "colab": {
          "base_uri": "https://localhost:8080/"
        },
        "id": "dhVFgmuR9xef",
        "outputId": "5757d15e-3107-4ddf-c708-a00f7d075742"
      },
      "execution_count": null,
      "outputs": [
        {
          "output_type": "stream",
          "name": "stdout",
          "text": [
            "   Topic  Count               Name  \\\n",
            "0     -1     26   -1_the_and_to_of   \n",
            "1      0     22     0_the_in_to_of   \n",
            "2      1     21   1_the_to_for_and   \n",
            "3      2     19    2_the_of_and_to   \n",
            "4      3     12  3_det_nyr_the_tor   \n",
            "\n",
            "                                     Representation  \\\n",
            "0  [the, and, to, of, in, that, edu, from, it, you]   \n",
            "1    [the, in, to, of, is, it, that, you, and, com]   \n",
            "2    [the, to, for, and, is, of, it, you, have, in]   \n",
            "3   [the, of, and, to, in, that, is, it, you, from]   \n",
            "4  [det, nyr, the, tor, bos, mtl, chi, la, pit, to]   \n",
            "\n",
            "                                 Representative_Docs  \n",
            "0  [From: npet@bnr.ca (Nick Pettefar)\\nSubject: R...  \n",
            "1  [From: servalan@access.digex.com (Servalan)\\nS...  \n",
            "2  [From: jcmorris@mbunix.mitre.org (Morris)\\nSub...  \n",
            "3  [From: rodger@zeisler.lonestar.org (Rodger B. ...  \n",
            "4  [From: cabanrf@wkuvx1.bitnet\\nSubject: Re: My ...  \n"
          ]
        }
      ]
    },
    {
      "cell_type": "markdown",
      "source": [
        "## **LDA**"
      ],
      "metadata": {
        "id": "PNAiG6KS-pXF"
      }
    },
    {
      "cell_type": "code",
      "source": [
        "from sklearn.feature_extraction.text import CountVectorizer\n",
        "from sklearn.decomposition import LatentDirichletAllocation\n",
        "\n",
        "texts = [\n",
        "    \"The principles of physics explain the behavior of matter and energy in the universe.\",\n",
        "    \"Python is a widely-used programming language in the field of computer science.\",\n",
        "    \"Mathematics is essential for understanding the structure and patterns in our world.\",\n",
        "    \"In computer science, algorithms play a crucial role in solving computational problems.\",\n",
        "    \"Newton's laws of motion describe the relationship between a body and the forces acting on it.\",\n",
        "    \"Artificial intelligence is a rapidly evolving field with applications in various industries.\",\n",
        "]\n",
        "\n",
        "\n",
        "vectorizer = CountVectorizer(max_df=0.85, max_features=1000, stop_words='english')\n",
        "X = vectorizer.fit_transform(texts)\n",
        "\n",
        "lda_model = LatentDirichletAllocation(n_components=3, random_state=42)\n",
        "lda_topic_matrix = lda_model.fit_transform(X)\n",
        "\n",
        "print(lda_topic_matrix)\n"
      ],
      "metadata": {
        "colab": {
          "base_uri": "https://localhost:8080/"
        },
        "id": "dvRJrjp2-rbd",
        "outputId": "298e73be-8b6f-42e4-b592-6b53bf6beb9b"
      },
      "execution_count": null,
      "outputs": [
        {
          "output_type": "stream",
          "name": "stdout",
          "text": [
            "[[0.91575029 0.0421745  0.04207521]\n",
            " [0.92397515 0.03867478 0.03735007]\n",
            " [0.04784919 0.04802717 0.90412364]\n",
            " [0.93269355 0.03368767 0.03361878]\n",
            " [0.0418672  0.04202243 0.91611037]\n",
            " [0.03753095 0.9252278  0.03724125]]\n"
          ]
        }
      ]
    },
    {
      "cell_type": "markdown",
      "source": [
        "## **SentenceTransformer**"
      ],
      "metadata": {
        "id": "xUf3rKoRCXHy"
      }
    },
    {
      "cell_type": "code",
      "source": [
        "from sentence_transformers import SentenceTransformer\n",
        "from sklearn.cluster import KMeans\n",
        "\n",
        "texts = [\n",
        "    \"The principles of physics explain the behavior of matter and energy in the universe.\",\n",
        "    \"Python is a widely-used programming language in the field of computer science.\",\n",
        "    \"Mathematics is essential for understanding the structure and patterns in our world.\",\n",
        "    \"In computer science, algorithms play a crucial role in solving computational problems.\",\n",
        "    \"Newton's laws of motion describe the relationship between a body and the forces acting on it.\",\n",
        "    \"Artificial intelligence is a rapidly evolving field with applications in various industries.\",\n",
        "]\n",
        "model = SentenceTransformer('distilbert-base-nli-mean-tokens')\n",
        "embeddings = model.encode(texts, show_progress_bar=True)\n",
        "\n",
        "kmeans = KMeans(n_clusters=3, random_state=42)\n",
        "kmeans.fit(embeddings)\n",
        "\n",
        "print(kmeans.labels_)\n"
      ],
      "metadata": {
        "colab": {
          "base_uri": "https://localhost:8080/",
          "height": 450,
          "referenced_widgets": [
            "ec8b38a0e7cc4f78abe7307f7225d805",
            "d0397e5a3e0e4a9985e668ad23f9acda",
            "da7366af447240548957c32480a1f68c",
            "c51d91a47cc54e1dacb7cc6c49e9c1ff",
            "a6b99d0853c140d8a887f07dff9fc343",
            "726439415ae9494aa89e88a0188b0cc8",
            "af84a3e755d645a1a1abdadea9b148f3",
            "5c47db3c5b134d4db20a6fbcdb500782",
            "f4b511a61d3f4595bb116d6ecf7438fc",
            "111b4e8675914af7bdcf66faaa1ff3bd",
            "5266df2763b64b009c215a949c9a4f3e",
            "4e35e687521647c084c792224ac730d8",
            "6f0f1eddcb0d4feb88f7583f345f342b",
            "c038c5ace0be4103868dd22ac3860ce8",
            "388e6e0fc9144d18866ae1dde860d89b",
            "91e63b7cff2d4f3aa2e6b2626e491f98",
            "2e0f55bf086042e6ad31338fe30a61ed",
            "41d16f79f2e041ce8338029a3c414d7b",
            "ac3a19f0ffde4341a216d3cc6c543dca",
            "6b465bfd798a4dce9f343ea3617174f8",
            "e2cc05cc1647456ba5c36089d0e2b267",
            "9251d4e8a9274159b6708ac401d21bb1",
            "2ed2920dbc9b484597d0efe0f78e279b",
            "d45e5bebcfef4ff98025fab3119c1ff3",
            "1cc79274645f49379b5535264e8fb6e9",
            "03fb749438e844f084bc6b2eca290569",
            "43865e120f5243839251fe73cb2601e8",
            "cb7e1facbf8e490f9589c39b03e84533",
            "eca086b3164b4ee7ba3870ec0943b1b1",
            "45c95ff5d3ca485792df63ece0691a46",
            "bbb5e8734a364e35baf878fb3c32441d",
            "1cc604f973684320923ebb32dea3c6cb",
            "81aa91c935cc4487a2c0a1949adae1d6",
            "2ecf641f825140988b6e29d4643e6823",
            "b6b45fe6b131482f8f6fd65a1794e0a9",
            "0f93210e8c614c868d5fcefec8f661ba",
            "ea5b6874a1494589a6a8dd1ceef6a5e9",
            "1428a7d3f4074b018c03fd086d46dc27",
            "fa4c7d6e6cda436d8d36b948f4f5e332",
            "ebac44f94e524e7d8c6145218fc0632d",
            "5b80c94b8df04f149399dd3b9f4889fa",
            "91314342d910490cabac23000e0fa25f",
            "f0504727dc8a4707a15eba05c6bad610",
            "019f554a0eee4fa2bc194cd5b1a2f8be",
            "976143f2a06f452c81127db806063b94",
            "c3f0b065dbdf434faa922892c172ec12",
            "15e5504d0f344fcabc2faccc96bab9b0",
            "40336968d24048b5a8e8d58935c0a2d3",
            "13a9edf5a8a24349a0153d14edb85ab6",
            "b29c6f5227e745cea0766838ce023655",
            "174bbe5c364d4fd0a2b8ab9770a26473",
            "b69d320dda9441c69824d2dd2368c353",
            "0391ac47bb0e43b387bbc0bcab2789ad",
            "09ab2147e9dc4434820f93afaa47f26f",
            "d05cc748467e447eb9a57dca6d4604e6",
            "b2d696333aa94e89bcc2917751bbcfc1",
            "744e2ba3951847a88a186fa3a5df6bf7",
            "5e6ff0c6452e4a8e95ce215fe1eb8aa1",
            "1143700212fe40c19c91981afd77bf2e",
            "0e15a51ac00d452795aedcb9679ceaea",
            "91fafb261ce34d13be63d31c29333fa8",
            "fa14c31cb3644a94b7e6207aa5eb1b3b",
            "53cc3daf8bfd407388222dba62acb1e3",
            "93fb5ba1c2234f8e9f74acd0cd6b93f9",
            "843a3414e13043cfab9fd54f0bba0d5f",
            "06d67ae09a544941a499eaf766345320",
            "ac152d31131f421cbb3a9a5998b77557",
            "49ff5c40dc9241b1b07289ee5f0f7944",
            "03e8284086984d1ea5a2251928773350",
            "7e3a370d4bc646a385a63e594d7ea2be",
            "3b1ff853931a466699ebbfb208f486c3",
            "88155a6399aa4f25ae60a26c69b1b95f",
            "8afa8f3c676d4aa5b49719e6e62af2db",
            "fd2e4f47d8ec4d22b338082cc29f4c9a",
            "327efab6e34a499786bf3de74668ae68",
            "0c36be2f553247d4b876022141df7958",
            "ec3bb3426ae24e3495dfba006b926d1e",
            "47f4ab7352864fea87ab2495a54936a7",
            "f6b8dc2f3d394409afdb6e45f67d9c6f",
            "a180d67a7ed04bd78b23d57952a3f30b",
            "7de70173b3eb471b998f4d76298a7f8d",
            "7d544e64ef8c404cbb56a3e03a0305a2",
            "870514ae419a42ca8ce6a77f70f42e95",
            "27212d48fa1e4111be9da02132a4470d",
            "b0533876192d491e9047e3cc09af91ce",
            "71b11e196520429abc10196ded62cd6a",
            "656e76655a724878b19e6ef7b95ab75a",
            "900f97c647a44260af55f0edfad1f981",
            "b7199dd285164a78812262b92a76aa06",
            "e85ca09cf25d44c9945e474275c0b854",
            "37fe519eb32742758ec59176f76af400",
            "b7ac1708822b468ab5389320e687a614",
            "2dab4c11d7c540b782ecdc658769b1ef",
            "4f91e05d4374400cb70d63c672dd72c2",
            "d4a8366a3c1846beb863315776b4ea69",
            "fd9abb3d73bd46a29adb5414ea0b1e74",
            "1bed386e1a4d44ddbed3df7bfe0d2b2b",
            "518beed606ab45759267e5749e863390",
            "5297e56294724939bc44f202a4774227",
            "cd6b5f217fa848409f71a582bf933a4f",
            "108ed05438ef459f87ac776407fd5306",
            "952c85e666924634a2df1bd53cef3789",
            "57fdf42793d4461a9e9ca7042b4fb1a3",
            "94aa51fc75ff41cd8ff2299b2d0500a7",
            "270f7b3c1f3843efbd95dc7667de6e56",
            "f575ed54179448b2bbad9054ddd72fa6",
            "af20bc922d094ddb88e43dc8c81ad916",
            "820fccc5c4f4423889c03e55c96596b1",
            "412c06811d6e431ca0a98663bccce4c0",
            "bdeb27cb5dc34705a9a9f7160bcc6f54",
            "c18425397cb14265af9ad3b57801adfa",
            "dbe756149eec466ba5b0f709a4347644",
            "b23451f4d5e14732b42bd725bfe2d3df",
            "72ce576b95b44316958245d8b448e352",
            "8247cdc768c6456ea9f0a7abd0c889ae",
            "536779c6eb0244a3b5c0e9bee5cc9ade",
            "e65c34eb10fd4eb38b72d09d53bcf662",
            "40faafb5e0744d76919d74ba8c145fc6",
            "857602013bb844ddaa5713cf7e0aa1a2",
            "56b794b945f141c4b36b54b27794bdb8",
            "ea4ea4c7f5524a778ba3d185faf0cb71",
            "fdb5ffedb7044e46a90e236e3fce939f",
            "4d5eba34f6df48909651c4dc9665fbbe",
            "d899cddc68e54c8d84f36dca29d8e201",
            "76914922a1da40edb2a0c763f0173788",
            "746dbc589fff47b198c18122cc49d33a",
            "ee3118207ee84a528d2332c1669b06f1",
            "e76732cc01b4410eb935768cf1f05d31",
            "8f7560f2e44147b78fe8ae68a99d3d46",
            "e131b9c0ae6e4ab4a6afdfa68b71caa7",
            "617ac2cf0c0b4e88828f52465105b64b",
            "64cc484556164aae8a5a63b962addffc",
            "79e0b7226d724b3aa1ab8ec090aa8859",
            "cafdc91fbac2423a97bb86da2b2731da",
            "df788d978cd44380b59511b9d9532128",
            "781c408fce824fa0895bd7fbae6bd7c0",
            "20ec89acb0fd4534af95fd6baed78505",
            "13e5bc846adb4a1d961994d71d9499d7",
            "cf220215420b4c438470c26409f16eac",
            "aafc45504b7f41a79615ee5fc372a1e4",
            "6bd8d6ff9ac44cc29c804b15cbb7f590",
            "7926f119ccd4446dbd463bf4a05208a9",
            "941c91895ee746a8aa97d2d26e4241c4"
          ]
        },
        "id": "MH1Y_Zm5Bcjz",
        "outputId": "ce234340-f09a-4cd1-9258-cf5bc5bdaef6"
      },
      "execution_count": null,
      "outputs": [
        {
          "output_type": "display_data",
          "data": {
            "text/plain": [
              ".gitattributes:   0%|          | 0.00/690 [00:00<?, ?B/s]"
            ],
            "application/vnd.jupyter.widget-view+json": {
              "version_major": 2,
              "version_minor": 0,
              "model_id": "ec8b38a0e7cc4f78abe7307f7225d805"
            }
          },
          "metadata": {}
        },
        {
          "output_type": "display_data",
          "data": {
            "text/plain": [
              "1_Pooling/config.json:   0%|          | 0.00/190 [00:00<?, ?B/s]"
            ],
            "application/vnd.jupyter.widget-view+json": {
              "version_major": 2,
              "version_minor": 0,
              "model_id": "4e35e687521647c084c792224ac730d8"
            }
          },
          "metadata": {}
        },
        {
          "output_type": "display_data",
          "data": {
            "text/plain": [
              "README.md:   0%|          | 0.00/3.99k [00:00<?, ?B/s]"
            ],
            "application/vnd.jupyter.widget-view+json": {
              "version_major": 2,
              "version_minor": 0,
              "model_id": "2ed2920dbc9b484597d0efe0f78e279b"
            }
          },
          "metadata": {}
        },
        {
          "output_type": "display_data",
          "data": {
            "text/plain": [
              "config.json:   0%|          | 0.00/550 [00:00<?, ?B/s]"
            ],
            "application/vnd.jupyter.widget-view+json": {
              "version_major": 2,
              "version_minor": 0,
              "model_id": "2ecf641f825140988b6e29d4643e6823"
            }
          },
          "metadata": {}
        },
        {
          "output_type": "display_data",
          "data": {
            "text/plain": [
              "config_sentence_transformers.json:   0%|          | 0.00/122 [00:00<?, ?B/s]"
            ],
            "application/vnd.jupyter.widget-view+json": {
              "version_major": 2,
              "version_minor": 0,
              "model_id": "976143f2a06f452c81127db806063b94"
            }
          },
          "metadata": {}
        },
        {
          "output_type": "display_data",
          "data": {
            "text/plain": [
              "pytorch_model.bin:   0%|          | 0.00/265M [00:00<?, ?B/s]"
            ],
            "application/vnd.jupyter.widget-view+json": {
              "version_major": 2,
              "version_minor": 0,
              "model_id": "b2d696333aa94e89bcc2917751bbcfc1"
            }
          },
          "metadata": {}
        },
        {
          "output_type": "display_data",
          "data": {
            "text/plain": [
              "sentence_bert_config.json:   0%|          | 0.00/53.0 [00:00<?, ?B/s]"
            ],
            "application/vnd.jupyter.widget-view+json": {
              "version_major": 2,
              "version_minor": 0,
              "model_id": "ac152d31131f421cbb3a9a5998b77557"
            }
          },
          "metadata": {}
        },
        {
          "output_type": "display_data",
          "data": {
            "text/plain": [
              "special_tokens_map.json:   0%|          | 0.00/112 [00:00<?, ?B/s]"
            ],
            "application/vnd.jupyter.widget-view+json": {
              "version_major": 2,
              "version_minor": 0,
              "model_id": "47f4ab7352864fea87ab2495a54936a7"
            }
          },
          "metadata": {}
        },
        {
          "output_type": "display_data",
          "data": {
            "text/plain": [
              "tokenizer.json:   0%|          | 0.00/466k [00:00<?, ?B/s]"
            ],
            "application/vnd.jupyter.widget-view+json": {
              "version_major": 2,
              "version_minor": 0,
              "model_id": "b7199dd285164a78812262b92a76aa06"
            }
          },
          "metadata": {}
        },
        {
          "output_type": "display_data",
          "data": {
            "text/plain": [
              "tokenizer_config.json:   0%|          | 0.00/450 [00:00<?, ?B/s]"
            ],
            "application/vnd.jupyter.widget-view+json": {
              "version_major": 2,
              "version_minor": 0,
              "model_id": "cd6b5f217fa848409f71a582bf933a4f"
            }
          },
          "metadata": {}
        },
        {
          "output_type": "display_data",
          "data": {
            "text/plain": [
              "vocab.txt:   0%|          | 0.00/232k [00:00<?, ?B/s]"
            ],
            "application/vnd.jupyter.widget-view+json": {
              "version_major": 2,
              "version_minor": 0,
              "model_id": "c18425397cb14265af9ad3b57801adfa"
            }
          },
          "metadata": {}
        },
        {
          "output_type": "display_data",
          "data": {
            "text/plain": [
              "modules.json:   0%|          | 0.00/229 [00:00<?, ?B/s]"
            ],
            "application/vnd.jupyter.widget-view+json": {
              "version_major": 2,
              "version_minor": 0,
              "model_id": "fdb5ffedb7044e46a90e236e3fce939f"
            }
          },
          "metadata": {}
        },
        {
          "output_type": "display_data",
          "data": {
            "text/plain": [
              "Batches:   0%|          | 0/1 [00:00<?, ?it/s]"
            ],
            "application/vnd.jupyter.widget-view+json": {
              "version_major": 2,
              "version_minor": 0,
              "model_id": "79e0b7226d724b3aa1ab8ec090aa8859"
            }
          },
          "metadata": {}
        },
        {
          "output_type": "stream",
          "name": "stdout",
          "text": [
            "[1 0 2 2 1 0]\n"
          ]
        }
      ]
    },
    {
      "cell_type": "markdown",
      "source": [
        "## **Doc2Vec**"
      ],
      "metadata": {
        "id": "bnNN2c_-CdlK"
      }
    },
    {
      "cell_type": "code",
      "source": [
        "from gensim.models.doc2vec import Doc2Vec, TaggedDocument\n",
        "\n",
        "texts = [\n",
        "    \"The principles of physics explain the behavior of matter and energy in the universe.\",\n",
        "    \"Python is a widely-used programming language in the field of computer science.\",\n",
        "    \"Mathematics is essential for understanding the structure and patterns in our world.\",\n",
        "    \"In computer science, algorithms play a crucial role in solving computational problems.\",\n",
        "    \"Newton's laws of motion describe the relationship between a body and the forces acting on it.\",\n",
        "    \"Artificial intelligence is a rapidly evolving field with applications in various industries.\",\n",
        "]\n",
        "# Preprocess texts and create tagged documents\n",
        "tagged_data = [TaggedDocument(words=text.split(), tags=[str(i)]) for i, text in enumerate(texts)]\n",
        "\n",
        "# Train Doc2Vec model\n",
        "doc2vec_model = Doc2Vec(vector_size=100, window=5, min_count=1, workers=4, epochs=100)\n",
        "doc2vec_model.build_vocab(tagged_data)\n",
        "doc2vec_model.train(tagged_data, total_examples=doc2vec_model.corpus_count, epochs=doc2vec_model.epochs)\n",
        "\n",
        "# Get document vectors\n",
        "doc_vectors = [doc2vec_model.infer_vector(text.split()) for text in texts]\n",
        "\n",
        "# Display results\n",
        "print(doc_vectors)\n"
      ],
      "metadata": {
        "colab": {
          "base_uri": "https://localhost:8080/"
        },
        "id": "A5IYAgeiBwGY",
        "outputId": "5a884c50-7b2c-4324-afae-044e872453dc"
      },
      "execution_count": null,
      "outputs": [
        {
          "output_type": "stream",
          "name": "stdout",
          "text": [
            "[array([-0.04468578, -0.03172525, -0.02336094,  0.02108237, -0.0043058 ,\n",
            "       -0.04247472,  0.00817306,  0.05366248, -0.01677766, -0.01404194,\n",
            "       -0.02098143, -0.01483755,  0.01972649,  0.00623768,  0.01866548,\n",
            "       -0.01819881, -0.00574904,  0.02255074, -0.01387547,  0.01134918,\n",
            "        0.00279183, -0.00150497,  0.01626148,  0.0009281 , -0.02040142,\n",
            "       -0.00098944, -0.04620254, -0.02118087, -0.02455159, -0.02195866,\n",
            "        0.03613842, -0.0016514 ,  0.0247794 , -0.01020949,  0.00130957,\n",
            "        0.03362888, -0.02358495, -0.02751656, -0.02398572, -0.0220746 ,\n",
            "       -0.00488604,  0.00876167, -0.00815369, -0.04173892, -0.01628377,\n",
            "       -0.02182982,  0.00012938, -0.00464728,  0.00939182, -0.0081459 ,\n",
            "       -0.00802651, -0.01891498, -0.01747006, -0.01129803, -0.00710436,\n",
            "       -0.00338911,  0.02110584,  0.02394428, -0.02000761,  0.01171236,\n",
            "        0.04611248,  0.01497415,  0.02490227,  0.01155229,  0.00208763,\n",
            "        0.02899683,  0.00492817,  0.01917089, -0.026857  ,  0.02232322,\n",
            "       -0.01162123, -0.00393043,  0.00022499, -0.00883257,  0.04978024,\n",
            "       -0.00238813,  0.01620335, -0.05508804, -0.02242106, -0.00098916,\n",
            "       -0.03012311,  0.02810738, -0.04494794,  0.01418619, -0.02305231,\n",
            "        0.01668048, -0.00053549, -0.01538567, -0.00029026,  0.02063374,\n",
            "       -0.01410804,  0.00239543, -0.01602948, -0.02612654,  0.02163143,\n",
            "        0.04089747, -0.0231396 ,  0.00396906,  0.00427124, -0.01398925],\n",
            "      dtype=float32), array([-0.03902015, -0.01810168, -0.01183355,  0.02373097, -0.0023911 ,\n",
            "       -0.03202871,  0.00598939,  0.04720591, -0.0159906 , -0.00961624,\n",
            "       -0.01459299, -0.01199779,  0.0195394 ,  0.00283947,  0.01582241,\n",
            "       -0.01960083, -0.00537965,  0.01257593, -0.00789776,  0.01132053,\n",
            "        0.00717169,  0.00223327,  0.01175127, -0.00300992, -0.01909323,\n",
            "       -0.00451054, -0.03297419, -0.01416896, -0.01883758, -0.01856508,\n",
            "        0.03069485, -0.00352735,  0.01975733, -0.01026915,  0.00318384,\n",
            "        0.02722707, -0.01742499, -0.02229746, -0.01763024, -0.02296574,\n",
            "       -0.00609394,  0.0118878 , -0.00577404, -0.03520481, -0.00739934,\n",
            "       -0.00964016,  0.00561183, -0.00253138,  0.00035972, -0.00285531,\n",
            "       -0.00501377, -0.01266845, -0.00973281, -0.01848924, -0.00267819,\n",
            "       -0.00165374,  0.01439311,  0.02482926, -0.01601867,  0.01188401,\n",
            "        0.0362433 ,  0.01272413,  0.02038327,  0.01033239,  0.00362903,\n",
            "        0.02858262,  0.00209728,  0.02091707, -0.02399412,  0.01685491,\n",
            "       -0.01036838, -0.00222003,  0.00034803, -0.00265654,  0.03834551,\n",
            "        0.00325074,  0.01397147, -0.03940925, -0.02128047, -0.00570528,\n",
            "       -0.0191952 ,  0.02715799, -0.04138697,  0.01370002, -0.02681237,\n",
            "        0.00872107, -0.00476695, -0.01152802, -0.00308819,  0.0103635 ,\n",
            "       -0.01315426,  0.00206523, -0.01416133, -0.01377365,  0.01182062,\n",
            "        0.03347745, -0.016726  ,  0.00715712,  0.0090972 , -0.00913196],\n",
            "      dtype=float32), array([-4.5262951e-02, -3.3290122e-02, -1.9012017e-02,  2.3993343e-02,\n",
            "        4.3509654e-03, -3.9259307e-02,  1.1644442e-02,  4.9313273e-02,\n",
            "       -1.4233429e-02, -9.9238269e-03, -1.3311857e-02, -1.3008762e-02,\n",
            "        2.3339124e-02,  8.0023902e-03,  2.6369691e-02, -1.3134212e-02,\n",
            "       -3.4338112e-03,  2.0483350e-02, -1.0611183e-02,  1.1395056e-02,\n",
            "       -7.3123345e-05,  4.2576450e-03,  2.1766333e-02,  2.9863960e-03,\n",
            "       -1.6699290e-02, -8.2604727e-03, -4.1279342e-02, -1.6646378e-02,\n",
            "       -2.5682891e-02, -1.5486957e-02,  3.4764893e-02,  1.0341186e-03,\n",
            "        2.7573546e-02, -1.0991031e-02, -4.5222491e-03,  3.3910412e-02,\n",
            "       -2.2734670e-02, -2.8960222e-02, -1.5091064e-02, -2.6048312e-02,\n",
            "       -1.4140339e-03,  9.8003326e-03, -1.3645528e-03, -4.2927667e-02,\n",
            "       -1.7996283e-02, -1.3800323e-02, -3.5249402e-03, -3.3755249e-03,\n",
            "        2.7440018e-03, -5.5156727e-03, -1.0847558e-02, -1.8436069e-02,\n",
            "       -1.7968439e-02, -1.4021606e-02, -3.3529208e-03,  2.2593935e-03,\n",
            "        2.2741146e-02,  3.1134447e-02, -9.4333570e-03,  1.4795409e-02,\n",
            "        4.0882356e-02,  1.6335484e-02,  2.8168250e-02,  1.0380209e-02,\n",
            "       -3.1670050e-03,  3.9087415e-02,  6.4273309e-03,  2.3745155e-02,\n",
            "       -2.6892867e-02,  2.4404278e-02, -1.5102921e-02,  1.1591389e-03,\n",
            "       -1.0493009e-03, -5.2323896e-03,  4.7551908e-02, -4.1738492e-03,\n",
            "        7.8371977e-03, -5.1939707e-02, -2.2635603e-02, -4.9626513e-04,\n",
            "       -3.4277525e-02,  3.1306855e-02, -4.8769668e-02,  1.6739091e-02,\n",
            "       -2.8810076e-02,  1.8471368e-02,  2.0282101e-03, -1.4466037e-02,\n",
            "        6.3351099e-04,  1.9847618e-02, -6.8060854e-03,  1.3451066e-03,\n",
            "       -1.4015305e-02, -1.7468922e-02,  1.8247966e-02,  3.8143296e-02,\n",
            "       -2.7596947e-02,  1.8507162e-03,  7.6672384e-03, -1.1575428e-02],\n",
            "      dtype=float32), array([-4.96925525e-02, -2.39353310e-02, -2.09608544e-02,  2.27160584e-02,\n",
            "       -6.24143612e-03, -4.20617200e-02,  6.57137763e-03,  5.15264235e-02,\n",
            "       -1.62949208e-02, -6.82661170e-03, -1.62738301e-02, -2.07735747e-02,\n",
            "        2.35693529e-02,  1.58834308e-02,  2.46251300e-02, -1.89486854e-02,\n",
            "       -2.21738272e-04,  1.71578396e-02, -6.03082264e-03,  1.56578626e-02,\n",
            "        1.06791193e-02,  2.16027227e-04,  2.07278412e-02,  6.17236423e-04,\n",
            "       -2.01929770e-02, -5.12621272e-03, -4.70933281e-02, -1.54421441e-02,\n",
            "       -2.44123358e-02, -2.12894455e-02,  3.45508344e-02,  2.03138823e-03,\n",
            "        2.12979410e-02, -1.68774277e-02,  4.19479096e-03,  3.55581455e-02,\n",
            "       -2.43516546e-02, -2.29562949e-02, -1.53579451e-02, -2.99588889e-02,\n",
            "       -5.69152785e-03,  8.70355591e-03, -3.85120302e-03, -4.10094969e-02,\n",
            "       -1.52316317e-02, -1.05848573e-02,  3.29803617e-04, -3.94728314e-03,\n",
            "        2.89388839e-03, -5.20633440e-03, -7.80839007e-03, -1.83228403e-02,\n",
            "       -1.55957332e-02, -1.80726107e-02, -1.15311081e-02, -4.84524295e-03,\n",
            "        1.33714136e-02,  3.08177993e-02, -1.37383211e-02,  1.01665622e-02,\n",
            "        4.97711189e-02,  2.24013142e-02,  1.92127135e-02,  9.75791737e-03,\n",
            "       -2.28261785e-03,  3.44139673e-02, -4.59200284e-03,  1.96982585e-02,\n",
            "       -2.67002732e-02,  1.84633266e-02, -1.41958846e-02, -1.06129870e-02,\n",
            "        1.29018957e-03, -1.34849327e-03,  4.64078784e-02, -1.13124633e-03,\n",
            "        1.86629668e-02, -5.52429743e-02, -2.68738959e-02, -1.42491166e-03,\n",
            "       -2.87619028e-02,  2.72376705e-02, -5.36227897e-02,  2.12867185e-02,\n",
            "       -3.27172577e-02,  1.49684055e-02, -1.28451793e-05, -2.20037065e-02,\n",
            "       -5.26463659e-03,  1.86686721e-02, -1.49502745e-02,  1.30650471e-03,\n",
            "       -1.50577342e-02, -2.01919638e-02,  1.93988457e-02,  4.30796333e-02,\n",
            "       -3.01392023e-02,  7.90283736e-03,  8.37127771e-03, -1.96174979e-02],\n",
            "      dtype=float32), array([-6.1166283e-02, -3.7394430e-02, -2.4373004e-02,  3.4960620e-02,\n",
            "       -4.1826931e-03, -6.1662208e-02,  1.1381473e-02,  6.8989061e-02,\n",
            "       -2.0926131e-02, -1.6118614e-02, -1.8400313e-02, -2.2820182e-02,\n",
            "        2.5739064e-02,  1.7525449e-02,  3.0258231e-02, -2.4226084e-02,\n",
            "       -6.5078065e-03,  2.3510929e-02, -1.3714314e-02,  1.0735511e-02,\n",
            "        1.0464722e-02,  8.6320471e-03,  3.4292914e-02, -7.3348312e-04,\n",
            "       -2.3446562e-02, -6.6064317e-03, -5.8904625e-02, -2.3365222e-02,\n",
            "       -3.1786568e-02, -2.3650231e-02,  4.8992809e-02,  6.1193254e-04,\n",
            "        2.9250011e-02, -2.0356091e-02, -1.2999782e-03,  5.3863734e-02,\n",
            "       -3.3198748e-02, -4.1146334e-02, -2.9363567e-02, -3.2966260e-02,\n",
            "       -4.3833046e-03,  1.4225455e-02, -9.9380622e-03, -6.0803514e-02,\n",
            "       -1.9093918e-02, -2.2782728e-02,  4.1782092e-03, -1.6788552e-02,\n",
            "        9.6438350e-03, -1.0924017e-02, -9.8285479e-03, -2.0637795e-02,\n",
            "       -2.1506041e-02, -2.1955103e-02, -1.4110861e-02, -2.8070207e-03,\n",
            "        2.2318492e-02,  3.0527597e-02, -2.5999648e-02,  1.6908770e-02,\n",
            "        6.1370581e-02,  2.4129031e-02,  3.0738970e-02,  1.9687107e-02,\n",
            "       -2.8827707e-03,  4.5693118e-02, -8.7993930e-04,  2.9309029e-02,\n",
            "       -3.3809062e-02,  2.7821286e-02, -1.0572197e-02, -9.7502088e-03,\n",
            "        7.8108432e-03, -7.5958385e-03,  6.4041518e-02, -2.1101320e-03,\n",
            "        1.8929398e-02, -7.2818756e-02, -3.4667518e-02, -6.6290377e-03,\n",
            "       -4.0976521e-02,  3.9689302e-02, -6.7843318e-02,  2.2568926e-02,\n",
            "       -3.3934683e-02,  1.3602452e-02,  5.9347654e-05, -2.8717982e-02,\n",
            "       -1.0294539e-02,  3.2032155e-02, -8.1133777e-03,  2.4608080e-03,\n",
            "       -1.5464879e-02, -2.8515087e-02,  2.0942451e-02,  4.8501890e-02,\n",
            "       -3.8860817e-02,  6.2347348e-03,  6.0915430e-03, -2.0009037e-02],\n",
            "      dtype=float32), array([-0.04352763, -0.03416832, -0.01652034,  0.02427612,  0.00106751,\n",
            "       -0.04437577,  0.0061694 ,  0.04849862, -0.01814583, -0.01346301,\n",
            "       -0.02245952, -0.00894265,  0.01978202,  0.01456302,  0.02125636,\n",
            "       -0.01420627,  0.00133317,  0.02070241, -0.0088492 ,  0.01347923,\n",
            "        0.00815127,  0.00358591,  0.01885292,  0.0015915 , -0.02096435,\n",
            "       -0.00296121, -0.04247772, -0.01625381, -0.01943882, -0.01891262,\n",
            "        0.03288506,  0.00385251,  0.02806789, -0.01596597,  0.00331216,\n",
            "        0.03938765, -0.02012015, -0.03014805, -0.02406209, -0.02042842,\n",
            "       -0.00444427,  0.00797324,  0.00073232, -0.03916742, -0.00884814,\n",
            "       -0.00981842,  0.00576191, -0.00881642,  0.00264118, -0.00520204,\n",
            "       -0.00404113, -0.01858982, -0.01789349, -0.02221633, -0.00672565,\n",
            "       -0.00222309,  0.01798135,  0.02553014, -0.01873968,  0.01052924,\n",
            "        0.04312481,  0.02035196,  0.02032077,  0.01804509, -0.0010851 ,\n",
            "        0.03329799, -0.00082678,  0.02246255, -0.02723681,  0.02512129,\n",
            "       -0.01122503, -0.00257245,  0.00273459, -0.00097647,  0.04896593,\n",
            "       -0.00026378,  0.01268086, -0.05740384, -0.02909411, -0.00350647,\n",
            "       -0.03086469,  0.03111081, -0.04730755,  0.01596324, -0.02755454,\n",
            "        0.0132737 , -0.00607456, -0.0200578 , -0.00759814,  0.02297339,\n",
            "       -0.0073625 ,  0.00230365, -0.01489233, -0.02447332,  0.01640421,\n",
            "        0.0346932 , -0.02535325,  0.00467526,  0.00613157, -0.01375185],\n",
            "      dtype=float32)]\n"
          ]
        }
      ]
    },
    {
      "cell_type": "code",
      "source": [
        "# Apply K-Means clustering\n",
        "num_topics = 3  # Specify the number of topics\n",
        "kmeans = KMeans(n_clusters=num_topics, random_state=42)\n",
        "kmeans.fit(doc_vectors)\n",
        "\n",
        "# Assign cluster labels to the texts\n",
        "cluster_labels = kmeans.labels_\n",
        "\n",
        "# Display results\n",
        "df = pd.DataFrame({'text': texts, 'cluster': cluster_labels})\n",
        "print(df)"
      ],
      "metadata": {
        "colab": {
          "base_uri": "https://localhost:8080/"
        },
        "id": "gM8fm5IUCKMS",
        "outputId": "c521159a-d5ee-4201-db44-6a99daa0e9df"
      },
      "execution_count": null,
      "outputs": [
        {
          "output_type": "stream",
          "name": "stdout",
          "text": [
            "                                                text  cluster\n",
            "0  The principles of physics explain the behavior...        1\n",
            "1  Python is a widely-used programming language i...        2\n",
            "2  Mathematics is essential for understanding the...        1\n",
            "3  In computer science, algorithms play a crucial...        1\n",
            "4  Newton's laws of motion describe the relations...        0\n",
            "5  Artificial intelligence is a rapidly evolving ...        1\n"
          ]
        }
      ]
    }
  ]
}