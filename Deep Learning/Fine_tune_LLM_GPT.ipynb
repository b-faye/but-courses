{
  "nbformat": 4,
  "nbformat_minor": 0,
  "metadata": {
    "colab": {
      "provenance": []
    },
    "kernelspec": {
      "name": "python3",
      "display_name": "Python 3"
    },
    "language_info": {
      "name": "python"
    },
    "widgets": {
      "application/vnd.jupyter.widget-state+json": {
        "64b7970b2bf84d3c975ed4944129c3a8": {
          "model_module": "@jupyter-widgets/controls",
          "model_name": "HBoxModel",
          "model_module_version": "1.5.0",
          "state": {
            "_dom_classes": [],
            "_model_module": "@jupyter-widgets/controls",
            "_model_module_version": "1.5.0",
            "_model_name": "HBoxModel",
            "_view_count": null,
            "_view_module": "@jupyter-widgets/controls",
            "_view_module_version": "1.5.0",
            "_view_name": "HBoxView",
            "box_style": "",
            "children": [
              "IPY_MODEL_d51ac26d9231406ebde1b014679be58f",
              "IPY_MODEL_93ef7a1a40664716b551f5f60c5bb9a3",
              "IPY_MODEL_0d0c4e567fc9471191a34f6e8379026d"
            ],
            "layout": "IPY_MODEL_b06f832b87544e6691e5e730a60376e5"
          }
        },
        "d51ac26d9231406ebde1b014679be58f": {
          "model_module": "@jupyter-widgets/controls",
          "model_name": "HTMLModel",
          "model_module_version": "1.5.0",
          "state": {
            "_dom_classes": [],
            "_model_module": "@jupyter-widgets/controls",
            "_model_module_version": "1.5.0",
            "_model_name": "HTMLModel",
            "_view_count": null,
            "_view_module": "@jupyter-widgets/controls",
            "_view_module_version": "1.5.0",
            "_view_name": "HTMLView",
            "description": "",
            "description_tooltip": null,
            "layout": "IPY_MODEL_695ef59261624eae96db9b7c0f5dd5a8",
            "placeholder": "​",
            "style": "IPY_MODEL_65ceea9362be43869e9d5940dc30406e",
            "value": "Dl Completed...: 100%"
          }
        },
        "93ef7a1a40664716b551f5f60c5bb9a3": {
          "model_module": "@jupyter-widgets/controls",
          "model_name": "FloatProgressModel",
          "model_module_version": "1.5.0",
          "state": {
            "_dom_classes": [],
            "_model_module": "@jupyter-widgets/controls",
            "_model_module_version": "1.5.0",
            "_model_name": "FloatProgressModel",
            "_view_count": null,
            "_view_module": "@jupyter-widgets/controls",
            "_view_module_version": "1.5.0",
            "_view_name": "ProgressView",
            "bar_style": "success",
            "description": "",
            "description_tooltip": null,
            "layout": "IPY_MODEL_f252ff9d339045d3970d1d5b7c71cb2f",
            "max": 1,
            "min": 0,
            "orientation": "horizontal",
            "style": "IPY_MODEL_d714a7c7a4b946e7b6404ebd977831cb",
            "value": 1
          }
        },
        "0d0c4e567fc9471191a34f6e8379026d": {
          "model_module": "@jupyter-widgets/controls",
          "model_name": "HTMLModel",
          "model_module_version": "1.5.0",
          "state": {
            "_dom_classes": [],
            "_model_module": "@jupyter-widgets/controls",
            "_model_module_version": "1.5.0",
            "_model_name": "HTMLModel",
            "_view_count": null,
            "_view_module": "@jupyter-widgets/controls",
            "_view_module_version": "1.5.0",
            "_view_name": "HTMLView",
            "description": "",
            "description_tooltip": null,
            "layout": "IPY_MODEL_ec16427790784dad8039de2ec94a1431",
            "placeholder": "​",
            "style": "IPY_MODEL_9a852bd8889f40fd987195dd8992251f",
            "value": " 1/1 [00:23&lt;00:00, 23.90s/ url]"
          }
        },
        "b06f832b87544e6691e5e730a60376e5": {
          "model_module": "@jupyter-widgets/base",
          "model_name": "LayoutModel",
          "model_module_version": "1.2.0",
          "state": {
            "_model_module": "@jupyter-widgets/base",
            "_model_module_version": "1.2.0",
            "_model_name": "LayoutModel",
            "_view_count": null,
            "_view_module": "@jupyter-widgets/base",
            "_view_module_version": "1.2.0",
            "_view_name": "LayoutView",
            "align_content": null,
            "align_items": null,
            "align_self": null,
            "border": null,
            "bottom": null,
            "display": null,
            "flex": null,
            "flex_flow": null,
            "grid_area": null,
            "grid_auto_columns": null,
            "grid_auto_flow": null,
            "grid_auto_rows": null,
            "grid_column": null,
            "grid_gap": null,
            "grid_row": null,
            "grid_template_areas": null,
            "grid_template_columns": null,
            "grid_template_rows": null,
            "height": null,
            "justify_content": null,
            "justify_items": null,
            "left": null,
            "margin": null,
            "max_height": null,
            "max_width": null,
            "min_height": null,
            "min_width": null,
            "object_fit": null,
            "object_position": null,
            "order": null,
            "overflow": null,
            "overflow_x": null,
            "overflow_y": null,
            "padding": null,
            "right": null,
            "top": null,
            "visibility": null,
            "width": null
          }
        },
        "695ef59261624eae96db9b7c0f5dd5a8": {
          "model_module": "@jupyter-widgets/base",
          "model_name": "LayoutModel",
          "model_module_version": "1.2.0",
          "state": {
            "_model_module": "@jupyter-widgets/base",
            "_model_module_version": "1.2.0",
            "_model_name": "LayoutModel",
            "_view_count": null,
            "_view_module": "@jupyter-widgets/base",
            "_view_module_version": "1.2.0",
            "_view_name": "LayoutView",
            "align_content": null,
            "align_items": null,
            "align_self": null,
            "border": null,
            "bottom": null,
            "display": null,
            "flex": null,
            "flex_flow": null,
            "grid_area": null,
            "grid_auto_columns": null,
            "grid_auto_flow": null,
            "grid_auto_rows": null,
            "grid_column": null,
            "grid_gap": null,
            "grid_row": null,
            "grid_template_areas": null,
            "grid_template_columns": null,
            "grid_template_rows": null,
            "height": null,
            "justify_content": null,
            "justify_items": null,
            "left": null,
            "margin": null,
            "max_height": null,
            "max_width": null,
            "min_height": null,
            "min_width": null,
            "object_fit": null,
            "object_position": null,
            "order": null,
            "overflow": null,
            "overflow_x": null,
            "overflow_y": null,
            "padding": null,
            "right": null,
            "top": null,
            "visibility": null,
            "width": null
          }
        },
        "65ceea9362be43869e9d5940dc30406e": {
          "model_module": "@jupyter-widgets/controls",
          "model_name": "DescriptionStyleModel",
          "model_module_version": "1.5.0",
          "state": {
            "_model_module": "@jupyter-widgets/controls",
            "_model_module_version": "1.5.0",
            "_model_name": "DescriptionStyleModel",
            "_view_count": null,
            "_view_module": "@jupyter-widgets/base",
            "_view_module_version": "1.2.0",
            "_view_name": "StyleView",
            "description_width": ""
          }
        },
        "f252ff9d339045d3970d1d5b7c71cb2f": {
          "model_module": "@jupyter-widgets/base",
          "model_name": "LayoutModel",
          "model_module_version": "1.2.0",
          "state": {
            "_model_module": "@jupyter-widgets/base",
            "_model_module_version": "1.2.0",
            "_model_name": "LayoutModel",
            "_view_count": null,
            "_view_module": "@jupyter-widgets/base",
            "_view_module_version": "1.2.0",
            "_view_name": "LayoutView",
            "align_content": null,
            "align_items": null,
            "align_self": null,
            "border": null,
            "bottom": null,
            "display": null,
            "flex": null,
            "flex_flow": null,
            "grid_area": null,
            "grid_auto_columns": null,
            "grid_auto_flow": null,
            "grid_auto_rows": null,
            "grid_column": null,
            "grid_gap": null,
            "grid_row": null,
            "grid_template_areas": null,
            "grid_template_columns": null,
            "grid_template_rows": null,
            "height": null,
            "justify_content": null,
            "justify_items": null,
            "left": null,
            "margin": null,
            "max_height": null,
            "max_width": null,
            "min_height": null,
            "min_width": null,
            "object_fit": null,
            "object_position": null,
            "order": null,
            "overflow": null,
            "overflow_x": null,
            "overflow_y": null,
            "padding": null,
            "right": null,
            "top": null,
            "visibility": null,
            "width": "20px"
          }
        },
        "d714a7c7a4b946e7b6404ebd977831cb": {
          "model_module": "@jupyter-widgets/controls",
          "model_name": "ProgressStyleModel",
          "model_module_version": "1.5.0",
          "state": {
            "_model_module": "@jupyter-widgets/controls",
            "_model_module_version": "1.5.0",
            "_model_name": "ProgressStyleModel",
            "_view_count": null,
            "_view_module": "@jupyter-widgets/base",
            "_view_module_version": "1.2.0",
            "_view_name": "StyleView",
            "bar_color": null,
            "description_width": ""
          }
        },
        "ec16427790784dad8039de2ec94a1431": {
          "model_module": "@jupyter-widgets/base",
          "model_name": "LayoutModel",
          "model_module_version": "1.2.0",
          "state": {
            "_model_module": "@jupyter-widgets/base",
            "_model_module_version": "1.2.0",
            "_model_name": "LayoutModel",
            "_view_count": null,
            "_view_module": "@jupyter-widgets/base",
            "_view_module_version": "1.2.0",
            "_view_name": "LayoutView",
            "align_content": null,
            "align_items": null,
            "align_self": null,
            "border": null,
            "bottom": null,
            "display": null,
            "flex": null,
            "flex_flow": null,
            "grid_area": null,
            "grid_auto_columns": null,
            "grid_auto_flow": null,
            "grid_auto_rows": null,
            "grid_column": null,
            "grid_gap": null,
            "grid_row": null,
            "grid_template_areas": null,
            "grid_template_columns": null,
            "grid_template_rows": null,
            "height": null,
            "justify_content": null,
            "justify_items": null,
            "left": null,
            "margin": null,
            "max_height": null,
            "max_width": null,
            "min_height": null,
            "min_width": null,
            "object_fit": null,
            "object_position": null,
            "order": null,
            "overflow": null,
            "overflow_x": null,
            "overflow_y": null,
            "padding": null,
            "right": null,
            "top": null,
            "visibility": null,
            "width": null
          }
        },
        "9a852bd8889f40fd987195dd8992251f": {
          "model_module": "@jupyter-widgets/controls",
          "model_name": "DescriptionStyleModel",
          "model_module_version": "1.5.0",
          "state": {
            "_model_module": "@jupyter-widgets/controls",
            "_model_module_version": "1.5.0",
            "_model_name": "DescriptionStyleModel",
            "_view_count": null,
            "_view_module": "@jupyter-widgets/base",
            "_view_module_version": "1.2.0",
            "_view_name": "StyleView",
            "description_width": ""
          }
        },
        "23e0bb3c576b4168835e1cbb6a7c4565": {
          "model_module": "@jupyter-widgets/controls",
          "model_name": "HBoxModel",
          "model_module_version": "1.5.0",
          "state": {
            "_dom_classes": [],
            "_model_module": "@jupyter-widgets/controls",
            "_model_module_version": "1.5.0",
            "_model_name": "HBoxModel",
            "_view_count": null,
            "_view_module": "@jupyter-widgets/controls",
            "_view_module_version": "1.5.0",
            "_view_name": "HBoxView",
            "box_style": "",
            "children": [
              "IPY_MODEL_5726fcfea44c4d25b0007f324cdca472",
              "IPY_MODEL_30c91d37112b40cfbe119c2311b34cee",
              "IPY_MODEL_be3c0742172047439937cce7914e6c99"
            ],
            "layout": "IPY_MODEL_86f0fd7aabc14392a928466d7fc42fa6"
          }
        },
        "5726fcfea44c4d25b0007f324cdca472": {
          "model_module": "@jupyter-widgets/controls",
          "model_name": "HTMLModel",
          "model_module_version": "1.5.0",
          "state": {
            "_dom_classes": [],
            "_model_module": "@jupyter-widgets/controls",
            "_model_module_version": "1.5.0",
            "_model_name": "HTMLModel",
            "_view_count": null,
            "_view_module": "@jupyter-widgets/controls",
            "_view_module_version": "1.5.0",
            "_view_name": "HTMLView",
            "description": "",
            "description_tooltip": null,
            "layout": "IPY_MODEL_b1a37d88bbd44c85af0d97e808788a0e",
            "placeholder": "​",
            "style": "IPY_MODEL_dc6b95feaeab436093e8bc35369043b9",
            "value": "Dl Size...: 100%"
          }
        },
        "30c91d37112b40cfbe119c2311b34cee": {
          "model_module": "@jupyter-widgets/controls",
          "model_name": "FloatProgressModel",
          "model_module_version": "1.5.0",
          "state": {
            "_dom_classes": [],
            "_model_module": "@jupyter-widgets/controls",
            "_model_module_version": "1.5.0",
            "_model_name": "FloatProgressModel",
            "_view_count": null,
            "_view_module": "@jupyter-widgets/controls",
            "_view_module_version": "1.5.0",
            "_view_name": "ProgressView",
            "bar_style": "success",
            "description": "",
            "description_tooltip": null,
            "layout": "IPY_MODEL_041a6766299149a7a95cfec18bacdcc1",
            "max": 1,
            "min": 0,
            "orientation": "horizontal",
            "style": "IPY_MODEL_010177e247c14de58fe3c7b253bf12e3",
            "value": 1
          }
        },
        "be3c0742172047439937cce7914e6c99": {
          "model_module": "@jupyter-widgets/controls",
          "model_name": "HTMLModel",
          "model_module_version": "1.5.0",
          "state": {
            "_dom_classes": [],
            "_model_module": "@jupyter-widgets/controls",
            "_model_module_version": "1.5.0",
            "_model_name": "HTMLModel",
            "_view_count": null,
            "_view_module": "@jupyter-widgets/controls",
            "_view_module_version": "1.5.0",
            "_view_name": "HTMLView",
            "description": "",
            "description_tooltip": null,
            "layout": "IPY_MODEL_41054901008345da870382f531c530ac",
            "placeholder": "​",
            "style": "IPY_MODEL_8e095c9d67f04bce8407781616743667",
            "value": " 639/639 [00:23&lt;00:00, 53.29 MiB/s]"
          }
        },
        "86f0fd7aabc14392a928466d7fc42fa6": {
          "model_module": "@jupyter-widgets/base",
          "model_name": "LayoutModel",
          "model_module_version": "1.2.0",
          "state": {
            "_model_module": "@jupyter-widgets/base",
            "_model_module_version": "1.2.0",
            "_model_name": "LayoutModel",
            "_view_count": null,
            "_view_module": "@jupyter-widgets/base",
            "_view_module_version": "1.2.0",
            "_view_name": "LayoutView",
            "align_content": null,
            "align_items": null,
            "align_self": null,
            "border": null,
            "bottom": null,
            "display": null,
            "flex": null,
            "flex_flow": null,
            "grid_area": null,
            "grid_auto_columns": null,
            "grid_auto_flow": null,
            "grid_auto_rows": null,
            "grid_column": null,
            "grid_gap": null,
            "grid_row": null,
            "grid_template_areas": null,
            "grid_template_columns": null,
            "grid_template_rows": null,
            "height": null,
            "justify_content": null,
            "justify_items": null,
            "left": null,
            "margin": null,
            "max_height": null,
            "max_width": null,
            "min_height": null,
            "min_width": null,
            "object_fit": null,
            "object_position": null,
            "order": null,
            "overflow": null,
            "overflow_x": null,
            "overflow_y": null,
            "padding": null,
            "right": null,
            "top": null,
            "visibility": null,
            "width": null
          }
        },
        "b1a37d88bbd44c85af0d97e808788a0e": {
          "model_module": "@jupyter-widgets/base",
          "model_name": "LayoutModel",
          "model_module_version": "1.2.0",
          "state": {
            "_model_module": "@jupyter-widgets/base",
            "_model_module_version": "1.2.0",
            "_model_name": "LayoutModel",
            "_view_count": null,
            "_view_module": "@jupyter-widgets/base",
            "_view_module_version": "1.2.0",
            "_view_name": "LayoutView",
            "align_content": null,
            "align_items": null,
            "align_self": null,
            "border": null,
            "bottom": null,
            "display": null,
            "flex": null,
            "flex_flow": null,
            "grid_area": null,
            "grid_auto_columns": null,
            "grid_auto_flow": null,
            "grid_auto_rows": null,
            "grid_column": null,
            "grid_gap": null,
            "grid_row": null,
            "grid_template_areas": null,
            "grid_template_columns": null,
            "grid_template_rows": null,
            "height": null,
            "justify_content": null,
            "justify_items": null,
            "left": null,
            "margin": null,
            "max_height": null,
            "max_width": null,
            "min_height": null,
            "min_width": null,
            "object_fit": null,
            "object_position": null,
            "order": null,
            "overflow": null,
            "overflow_x": null,
            "overflow_y": null,
            "padding": null,
            "right": null,
            "top": null,
            "visibility": null,
            "width": null
          }
        },
        "dc6b95feaeab436093e8bc35369043b9": {
          "model_module": "@jupyter-widgets/controls",
          "model_name": "DescriptionStyleModel",
          "model_module_version": "1.5.0",
          "state": {
            "_model_module": "@jupyter-widgets/controls",
            "_model_module_version": "1.5.0",
            "_model_name": "DescriptionStyleModel",
            "_view_count": null,
            "_view_module": "@jupyter-widgets/base",
            "_view_module_version": "1.2.0",
            "_view_name": "StyleView",
            "description_width": ""
          }
        },
        "041a6766299149a7a95cfec18bacdcc1": {
          "model_module": "@jupyter-widgets/base",
          "model_name": "LayoutModel",
          "model_module_version": "1.2.0",
          "state": {
            "_model_module": "@jupyter-widgets/base",
            "_model_module_version": "1.2.0",
            "_model_name": "LayoutModel",
            "_view_count": null,
            "_view_module": "@jupyter-widgets/base",
            "_view_module_version": "1.2.0",
            "_view_name": "LayoutView",
            "align_content": null,
            "align_items": null,
            "align_self": null,
            "border": null,
            "bottom": null,
            "display": null,
            "flex": null,
            "flex_flow": null,
            "grid_area": null,
            "grid_auto_columns": null,
            "grid_auto_flow": null,
            "grid_auto_rows": null,
            "grid_column": null,
            "grid_gap": null,
            "grid_row": null,
            "grid_template_areas": null,
            "grid_template_columns": null,
            "grid_template_rows": null,
            "height": null,
            "justify_content": null,
            "justify_items": null,
            "left": null,
            "margin": null,
            "max_height": null,
            "max_width": null,
            "min_height": null,
            "min_width": null,
            "object_fit": null,
            "object_position": null,
            "order": null,
            "overflow": null,
            "overflow_x": null,
            "overflow_y": null,
            "padding": null,
            "right": null,
            "top": null,
            "visibility": null,
            "width": "20px"
          }
        },
        "010177e247c14de58fe3c7b253bf12e3": {
          "model_module": "@jupyter-widgets/controls",
          "model_name": "ProgressStyleModel",
          "model_module_version": "1.5.0",
          "state": {
            "_model_module": "@jupyter-widgets/controls",
            "_model_module_version": "1.5.0",
            "_model_name": "ProgressStyleModel",
            "_view_count": null,
            "_view_module": "@jupyter-widgets/base",
            "_view_module_version": "1.2.0",
            "_view_name": "StyleView",
            "bar_color": null,
            "description_width": ""
          }
        },
        "41054901008345da870382f531c530ac": {
          "model_module": "@jupyter-widgets/base",
          "model_name": "LayoutModel",
          "model_module_version": "1.2.0",
          "state": {
            "_model_module": "@jupyter-widgets/base",
            "_model_module_version": "1.2.0",
            "_model_name": "LayoutModel",
            "_view_count": null,
            "_view_module": "@jupyter-widgets/base",
            "_view_module_version": "1.2.0",
            "_view_name": "LayoutView",
            "align_content": null,
            "align_items": null,
            "align_self": null,
            "border": null,
            "bottom": null,
            "display": null,
            "flex": null,
            "flex_flow": null,
            "grid_area": null,
            "grid_auto_columns": null,
            "grid_auto_flow": null,
            "grid_auto_rows": null,
            "grid_column": null,
            "grid_gap": null,
            "grid_row": null,
            "grid_template_areas": null,
            "grid_template_columns": null,
            "grid_template_rows": null,
            "height": null,
            "justify_content": null,
            "justify_items": null,
            "left": null,
            "margin": null,
            "max_height": null,
            "max_width": null,
            "min_height": null,
            "min_width": null,
            "object_fit": null,
            "object_position": null,
            "order": null,
            "overflow": null,
            "overflow_x": null,
            "overflow_y": null,
            "padding": null,
            "right": null,
            "top": null,
            "visibility": null,
            "width": null
          }
        },
        "8e095c9d67f04bce8407781616743667": {
          "model_module": "@jupyter-widgets/controls",
          "model_name": "DescriptionStyleModel",
          "model_module_version": "1.5.0",
          "state": {
            "_model_module": "@jupyter-widgets/controls",
            "_model_module_version": "1.5.0",
            "_model_name": "DescriptionStyleModel",
            "_view_count": null,
            "_view_module": "@jupyter-widgets/base",
            "_view_module_version": "1.2.0",
            "_view_name": "StyleView",
            "description_width": ""
          }
        },
        "bb310f45aba4449d8cc5a5d3f5d01345": {
          "model_module": "@jupyter-widgets/controls",
          "model_name": "HBoxModel",
          "model_module_version": "1.5.0",
          "state": {
            "_dom_classes": [],
            "_model_module": "@jupyter-widgets/controls",
            "_model_module_version": "1.5.0",
            "_model_name": "HBoxModel",
            "_view_count": null,
            "_view_module": "@jupyter-widgets/controls",
            "_view_module_version": "1.5.0",
            "_view_name": "HBoxView",
            "box_style": "",
            "children": [
              "IPY_MODEL_a753db8facfa48cfbea71f653c180ca6",
              "IPY_MODEL_bcdb4f75151649578a7f8c66c642f255",
              "IPY_MODEL_31e54242490447b1a30f22b0f661f450"
            ],
            "layout": "IPY_MODEL_df1feb4d8b8f42938c34f776b39c5b8f"
          }
        },
        "a753db8facfa48cfbea71f653c180ca6": {
          "model_module": "@jupyter-widgets/controls",
          "model_name": "HTMLModel",
          "model_module_version": "1.5.0",
          "state": {
            "_dom_classes": [],
            "_model_module": "@jupyter-widgets/controls",
            "_model_module_version": "1.5.0",
            "_model_name": "HTMLModel",
            "_view_count": null,
            "_view_module": "@jupyter-widgets/controls",
            "_view_module_version": "1.5.0",
            "_view_name": "HTMLView",
            "description": "",
            "description_tooltip": null,
            "layout": "IPY_MODEL_247e2abbb77e4473a12d1ff6dfc4b98b",
            "placeholder": "​",
            "style": "IPY_MODEL_5750df41026c450ab59bac1c81fdbd28",
            "value": "Extraction completed...: "
          }
        },
        "bcdb4f75151649578a7f8c66c642f255": {
          "model_module": "@jupyter-widgets/controls",
          "model_name": "FloatProgressModel",
          "model_module_version": "1.5.0",
          "state": {
            "_dom_classes": [],
            "_model_module": "@jupyter-widgets/controls",
            "_model_module_version": "1.5.0",
            "_model_name": "FloatProgressModel",
            "_view_count": null,
            "_view_module": "@jupyter-widgets/controls",
            "_view_module_version": "1.5.0",
            "_view_name": "ProgressView",
            "bar_style": "success",
            "description": "",
            "description_tooltip": null,
            "layout": "IPY_MODEL_148392bd93cf47a597d438e78b59edae",
            "max": 1,
            "min": 0,
            "orientation": "horizontal",
            "style": "IPY_MODEL_7c7b02bf04ec43caa102054f7af72df8",
            "value": 0
          }
        },
        "31e54242490447b1a30f22b0f661f450": {
          "model_module": "@jupyter-widgets/controls",
          "model_name": "HTMLModel",
          "model_module_version": "1.5.0",
          "state": {
            "_dom_classes": [],
            "_model_module": "@jupyter-widgets/controls",
            "_model_module_version": "1.5.0",
            "_model_name": "HTMLModel",
            "_view_count": null,
            "_view_module": "@jupyter-widgets/controls",
            "_view_module_version": "1.5.0",
            "_view_name": "HTMLView",
            "description": "",
            "description_tooltip": null,
            "layout": "IPY_MODEL_f0b6182f261e4a44a36e7340259e0e8a",
            "placeholder": "​",
            "style": "IPY_MODEL_9b690b458fa4474da46d5a02f9a9d621",
            "value": " 0/0 [00:23&lt;?, ? file/s]"
          }
        },
        "df1feb4d8b8f42938c34f776b39c5b8f": {
          "model_module": "@jupyter-widgets/base",
          "model_name": "LayoutModel",
          "model_module_version": "1.2.0",
          "state": {
            "_model_module": "@jupyter-widgets/base",
            "_model_module_version": "1.2.0",
            "_model_name": "LayoutModel",
            "_view_count": null,
            "_view_module": "@jupyter-widgets/base",
            "_view_module_version": "1.2.0",
            "_view_name": "LayoutView",
            "align_content": null,
            "align_items": null,
            "align_self": null,
            "border": null,
            "bottom": null,
            "display": null,
            "flex": null,
            "flex_flow": null,
            "grid_area": null,
            "grid_auto_columns": null,
            "grid_auto_flow": null,
            "grid_auto_rows": null,
            "grid_column": null,
            "grid_gap": null,
            "grid_row": null,
            "grid_template_areas": null,
            "grid_template_columns": null,
            "grid_template_rows": null,
            "height": null,
            "justify_content": null,
            "justify_items": null,
            "left": null,
            "margin": null,
            "max_height": null,
            "max_width": null,
            "min_height": null,
            "min_width": null,
            "object_fit": null,
            "object_position": null,
            "order": null,
            "overflow": null,
            "overflow_x": null,
            "overflow_y": null,
            "padding": null,
            "right": null,
            "top": null,
            "visibility": null,
            "width": null
          }
        },
        "247e2abbb77e4473a12d1ff6dfc4b98b": {
          "model_module": "@jupyter-widgets/base",
          "model_name": "LayoutModel",
          "model_module_version": "1.2.0",
          "state": {
            "_model_module": "@jupyter-widgets/base",
            "_model_module_version": "1.2.0",
            "_model_name": "LayoutModel",
            "_view_count": null,
            "_view_module": "@jupyter-widgets/base",
            "_view_module_version": "1.2.0",
            "_view_name": "LayoutView",
            "align_content": null,
            "align_items": null,
            "align_self": null,
            "border": null,
            "bottom": null,
            "display": null,
            "flex": null,
            "flex_flow": null,
            "grid_area": null,
            "grid_auto_columns": null,
            "grid_auto_flow": null,
            "grid_auto_rows": null,
            "grid_column": null,
            "grid_gap": null,
            "grid_row": null,
            "grid_template_areas": null,
            "grid_template_columns": null,
            "grid_template_rows": null,
            "height": null,
            "justify_content": null,
            "justify_items": null,
            "left": null,
            "margin": null,
            "max_height": null,
            "max_width": null,
            "min_height": null,
            "min_width": null,
            "object_fit": null,
            "object_position": null,
            "order": null,
            "overflow": null,
            "overflow_x": null,
            "overflow_y": null,
            "padding": null,
            "right": null,
            "top": null,
            "visibility": null,
            "width": null
          }
        },
        "5750df41026c450ab59bac1c81fdbd28": {
          "model_module": "@jupyter-widgets/controls",
          "model_name": "DescriptionStyleModel",
          "model_module_version": "1.5.0",
          "state": {
            "_model_module": "@jupyter-widgets/controls",
            "_model_module_version": "1.5.0",
            "_model_name": "DescriptionStyleModel",
            "_view_count": null,
            "_view_module": "@jupyter-widgets/base",
            "_view_module_version": "1.2.0",
            "_view_name": "StyleView",
            "description_width": ""
          }
        },
        "148392bd93cf47a597d438e78b59edae": {
          "model_module": "@jupyter-widgets/base",
          "model_name": "LayoutModel",
          "model_module_version": "1.2.0",
          "state": {
            "_model_module": "@jupyter-widgets/base",
            "_model_module_version": "1.2.0",
            "_model_name": "LayoutModel",
            "_view_count": null,
            "_view_module": "@jupyter-widgets/base",
            "_view_module_version": "1.2.0",
            "_view_name": "LayoutView",
            "align_content": null,
            "align_items": null,
            "align_self": null,
            "border": null,
            "bottom": null,
            "display": null,
            "flex": null,
            "flex_flow": null,
            "grid_area": null,
            "grid_auto_columns": null,
            "grid_auto_flow": null,
            "grid_auto_rows": null,
            "grid_column": null,
            "grid_gap": null,
            "grid_row": null,
            "grid_template_areas": null,
            "grid_template_columns": null,
            "grid_template_rows": null,
            "height": null,
            "justify_content": null,
            "justify_items": null,
            "left": null,
            "margin": null,
            "max_height": null,
            "max_width": null,
            "min_height": null,
            "min_width": null,
            "object_fit": null,
            "object_position": null,
            "order": null,
            "overflow": null,
            "overflow_x": null,
            "overflow_y": null,
            "padding": null,
            "right": null,
            "top": null,
            "visibility": null,
            "width": "20px"
          }
        },
        "7c7b02bf04ec43caa102054f7af72df8": {
          "model_module": "@jupyter-widgets/controls",
          "model_name": "ProgressStyleModel",
          "model_module_version": "1.5.0",
          "state": {
            "_model_module": "@jupyter-widgets/controls",
            "_model_module_version": "1.5.0",
            "_model_name": "ProgressStyleModel",
            "_view_count": null,
            "_view_module": "@jupyter-widgets/base",
            "_view_module_version": "1.2.0",
            "_view_name": "StyleView",
            "bar_color": null,
            "description_width": ""
          }
        },
        "f0b6182f261e4a44a36e7340259e0e8a": {
          "model_module": "@jupyter-widgets/base",
          "model_name": "LayoutModel",
          "model_module_version": "1.2.0",
          "state": {
            "_model_module": "@jupyter-widgets/base",
            "_model_module_version": "1.2.0",
            "_model_name": "LayoutModel",
            "_view_count": null,
            "_view_module": "@jupyter-widgets/base",
            "_view_module_version": "1.2.0",
            "_view_name": "LayoutView",
            "align_content": null,
            "align_items": null,
            "align_self": null,
            "border": null,
            "bottom": null,
            "display": null,
            "flex": null,
            "flex_flow": null,
            "grid_area": null,
            "grid_auto_columns": null,
            "grid_auto_flow": null,
            "grid_auto_rows": null,
            "grid_column": null,
            "grid_gap": null,
            "grid_row": null,
            "grid_template_areas": null,
            "grid_template_columns": null,
            "grid_template_rows": null,
            "height": null,
            "justify_content": null,
            "justify_items": null,
            "left": null,
            "margin": null,
            "max_height": null,
            "max_width": null,
            "min_height": null,
            "min_width": null,
            "object_fit": null,
            "object_position": null,
            "order": null,
            "overflow": null,
            "overflow_x": null,
            "overflow_y": null,
            "padding": null,
            "right": null,
            "top": null,
            "visibility": null,
            "width": null
          }
        },
        "9b690b458fa4474da46d5a02f9a9d621": {
          "model_module": "@jupyter-widgets/controls",
          "model_name": "DescriptionStyleModel",
          "model_module_version": "1.5.0",
          "state": {
            "_model_module": "@jupyter-widgets/controls",
            "_model_module_version": "1.5.0",
            "_model_name": "DescriptionStyleModel",
            "_view_count": null,
            "_view_module": "@jupyter-widgets/base",
            "_view_module_version": "1.2.0",
            "_view_name": "StyleView",
            "description_width": ""
          }
        },
        "39b40a66f3b2496080201d61884d64ea": {
          "model_module": "@jupyter-widgets/controls",
          "model_name": "HBoxModel",
          "model_module_version": "1.5.0",
          "state": {
            "_dom_classes": [],
            "_model_module": "@jupyter-widgets/controls",
            "_model_module_version": "1.5.0",
            "_model_name": "HBoxModel",
            "_view_count": null,
            "_view_module": "@jupyter-widgets/controls",
            "_view_module_version": "1.5.0",
            "_view_name": "HBoxView",
            "box_style": "",
            "children": [
              "IPY_MODEL_eb8f9a9b4da84d2d9986f1e465674449",
              "IPY_MODEL_a1a943e150ac4aae9953cea773c1b0ae",
              "IPY_MODEL_237b087244c04d47af0b16d53ae4c405"
            ],
            "layout": "IPY_MODEL_3739a97edd4345fca782545e6c24969b"
          }
        },
        "eb8f9a9b4da84d2d9986f1e465674449": {
          "model_module": "@jupyter-widgets/controls",
          "model_name": "HTMLModel",
          "model_module_version": "1.5.0",
          "state": {
            "_dom_classes": [],
            "_model_module": "@jupyter-widgets/controls",
            "_model_module_version": "1.5.0",
            "_model_name": "HTMLModel",
            "_view_count": null,
            "_view_module": "@jupyter-widgets/controls",
            "_view_module_version": "1.5.0",
            "_view_name": "HTMLView",
            "description": "",
            "description_tooltip": null,
            "layout": "IPY_MODEL_abd0ad2af13a49be8962719305a756a3",
            "placeholder": "​",
            "style": "IPY_MODEL_f95a2b77f4ca45b3bca0fd96cddb6cef",
            "value": "Generating splits...: 100%"
          }
        },
        "a1a943e150ac4aae9953cea773c1b0ae": {
          "model_module": "@jupyter-widgets/controls",
          "model_name": "FloatProgressModel",
          "model_module_version": "1.5.0",
          "state": {
            "_dom_classes": [],
            "_model_module": "@jupyter-widgets/controls",
            "_model_module_version": "1.5.0",
            "_model_name": "FloatProgressModel",
            "_view_count": null,
            "_view_module": "@jupyter-widgets/controls",
            "_view_module_version": "1.5.0",
            "_view_name": "ProgressView",
            "bar_style": "",
            "description": "",
            "description_tooltip": null,
            "layout": "IPY_MODEL_8c8fcf8ec45444278954d9e2fe59404e",
            "max": 1,
            "min": 0,
            "orientation": "horizontal",
            "style": "IPY_MODEL_ee01dfbf16a846d1ad93998c8341d409",
            "value": 1
          }
        },
        "237b087244c04d47af0b16d53ae4c405": {
          "model_module": "@jupyter-widgets/controls",
          "model_name": "HTMLModel",
          "model_module_version": "1.5.0",
          "state": {
            "_dom_classes": [],
            "_model_module": "@jupyter-widgets/controls",
            "_model_module_version": "1.5.0",
            "_model_name": "HTMLModel",
            "_view_count": null,
            "_view_module": "@jupyter-widgets/controls",
            "_view_module_version": "1.5.0",
            "_view_name": "HTMLView",
            "description": "",
            "description_tooltip": null,
            "layout": "IPY_MODEL_bbe6fdb0739f45be8256fb62b55550d9",
            "placeholder": "​",
            "style": "IPY_MODEL_75e2a5da1b9743d1814d3d0dd23a49c2",
            "value": " 1/1 [00:35&lt;00:00, 35.16s/ splits]"
          }
        },
        "3739a97edd4345fca782545e6c24969b": {
          "model_module": "@jupyter-widgets/base",
          "model_name": "LayoutModel",
          "model_module_version": "1.2.0",
          "state": {
            "_model_module": "@jupyter-widgets/base",
            "_model_module_version": "1.2.0",
            "_model_name": "LayoutModel",
            "_view_count": null,
            "_view_module": "@jupyter-widgets/base",
            "_view_module_version": "1.2.0",
            "_view_name": "LayoutView",
            "align_content": null,
            "align_items": null,
            "align_self": null,
            "border": null,
            "bottom": null,
            "display": null,
            "flex": null,
            "flex_flow": null,
            "grid_area": null,
            "grid_auto_columns": null,
            "grid_auto_flow": null,
            "grid_auto_rows": null,
            "grid_column": null,
            "grid_gap": null,
            "grid_row": null,
            "grid_template_areas": null,
            "grid_template_columns": null,
            "grid_template_rows": null,
            "height": null,
            "justify_content": null,
            "justify_items": null,
            "left": null,
            "margin": null,
            "max_height": null,
            "max_width": null,
            "min_height": null,
            "min_width": null,
            "object_fit": null,
            "object_position": null,
            "order": null,
            "overflow": null,
            "overflow_x": null,
            "overflow_y": null,
            "padding": null,
            "right": null,
            "top": null,
            "visibility": "hidden",
            "width": null
          }
        },
        "abd0ad2af13a49be8962719305a756a3": {
          "model_module": "@jupyter-widgets/base",
          "model_name": "LayoutModel",
          "model_module_version": "1.2.0",
          "state": {
            "_model_module": "@jupyter-widgets/base",
            "_model_module_version": "1.2.0",
            "_model_name": "LayoutModel",
            "_view_count": null,
            "_view_module": "@jupyter-widgets/base",
            "_view_module_version": "1.2.0",
            "_view_name": "LayoutView",
            "align_content": null,
            "align_items": null,
            "align_self": null,
            "border": null,
            "bottom": null,
            "display": null,
            "flex": null,
            "flex_flow": null,
            "grid_area": null,
            "grid_auto_columns": null,
            "grid_auto_flow": null,
            "grid_auto_rows": null,
            "grid_column": null,
            "grid_gap": null,
            "grid_row": null,
            "grid_template_areas": null,
            "grid_template_columns": null,
            "grid_template_rows": null,
            "height": null,
            "justify_content": null,
            "justify_items": null,
            "left": null,
            "margin": null,
            "max_height": null,
            "max_width": null,
            "min_height": null,
            "min_width": null,
            "object_fit": null,
            "object_position": null,
            "order": null,
            "overflow": null,
            "overflow_x": null,
            "overflow_y": null,
            "padding": null,
            "right": null,
            "top": null,
            "visibility": null,
            "width": null
          }
        },
        "f95a2b77f4ca45b3bca0fd96cddb6cef": {
          "model_module": "@jupyter-widgets/controls",
          "model_name": "DescriptionStyleModel",
          "model_module_version": "1.5.0",
          "state": {
            "_model_module": "@jupyter-widgets/controls",
            "_model_module_version": "1.5.0",
            "_model_name": "DescriptionStyleModel",
            "_view_count": null,
            "_view_module": "@jupyter-widgets/base",
            "_view_module_version": "1.2.0",
            "_view_name": "StyleView",
            "description_width": ""
          }
        },
        "8c8fcf8ec45444278954d9e2fe59404e": {
          "model_module": "@jupyter-widgets/base",
          "model_name": "LayoutModel",
          "model_module_version": "1.2.0",
          "state": {
            "_model_module": "@jupyter-widgets/base",
            "_model_module_version": "1.2.0",
            "_model_name": "LayoutModel",
            "_view_count": null,
            "_view_module": "@jupyter-widgets/base",
            "_view_module_version": "1.2.0",
            "_view_name": "LayoutView",
            "align_content": null,
            "align_items": null,
            "align_self": null,
            "border": null,
            "bottom": null,
            "display": null,
            "flex": null,
            "flex_flow": null,
            "grid_area": null,
            "grid_auto_columns": null,
            "grid_auto_flow": null,
            "grid_auto_rows": null,
            "grid_column": null,
            "grid_gap": null,
            "grid_row": null,
            "grid_template_areas": null,
            "grid_template_columns": null,
            "grid_template_rows": null,
            "height": null,
            "justify_content": null,
            "justify_items": null,
            "left": null,
            "margin": null,
            "max_height": null,
            "max_width": null,
            "min_height": null,
            "min_width": null,
            "object_fit": null,
            "object_position": null,
            "order": null,
            "overflow": null,
            "overflow_x": null,
            "overflow_y": null,
            "padding": null,
            "right": null,
            "top": null,
            "visibility": null,
            "width": null
          }
        },
        "ee01dfbf16a846d1ad93998c8341d409": {
          "model_module": "@jupyter-widgets/controls",
          "model_name": "ProgressStyleModel",
          "model_module_version": "1.5.0",
          "state": {
            "_model_module": "@jupyter-widgets/controls",
            "_model_module_version": "1.5.0",
            "_model_name": "ProgressStyleModel",
            "_view_count": null,
            "_view_module": "@jupyter-widgets/base",
            "_view_module_version": "1.2.0",
            "_view_name": "StyleView",
            "bar_color": null,
            "description_width": ""
          }
        },
        "bbe6fdb0739f45be8256fb62b55550d9": {
          "model_module": "@jupyter-widgets/base",
          "model_name": "LayoutModel",
          "model_module_version": "1.2.0",
          "state": {
            "_model_module": "@jupyter-widgets/base",
            "_model_module_version": "1.2.0",
            "_model_name": "LayoutModel",
            "_view_count": null,
            "_view_module": "@jupyter-widgets/base",
            "_view_module_version": "1.2.0",
            "_view_name": "LayoutView",
            "align_content": null,
            "align_items": null,
            "align_self": null,
            "border": null,
            "bottom": null,
            "display": null,
            "flex": null,
            "flex_flow": null,
            "grid_area": null,
            "grid_auto_columns": null,
            "grid_auto_flow": null,
            "grid_auto_rows": null,
            "grid_column": null,
            "grid_gap": null,
            "grid_row": null,
            "grid_template_areas": null,
            "grid_template_columns": null,
            "grid_template_rows": null,
            "height": null,
            "justify_content": null,
            "justify_items": null,
            "left": null,
            "margin": null,
            "max_height": null,
            "max_width": null,
            "min_height": null,
            "min_width": null,
            "object_fit": null,
            "object_position": null,
            "order": null,
            "overflow": null,
            "overflow_x": null,
            "overflow_y": null,
            "padding": null,
            "right": null,
            "top": null,
            "visibility": null,
            "width": null
          }
        },
        "75e2a5da1b9743d1814d3d0dd23a49c2": {
          "model_module": "@jupyter-widgets/controls",
          "model_name": "DescriptionStyleModel",
          "model_module_version": "1.5.0",
          "state": {
            "_model_module": "@jupyter-widgets/controls",
            "_model_module_version": "1.5.0",
            "_model_name": "DescriptionStyleModel",
            "_view_count": null,
            "_view_module": "@jupyter-widgets/base",
            "_view_module_version": "1.2.0",
            "_view_name": "StyleView",
            "description_width": ""
          }
        },
        "35a714c328c64192998a8438d7227ab3": {
          "model_module": "@jupyter-widgets/controls",
          "model_name": "HBoxModel",
          "model_module_version": "1.5.0",
          "state": {
            "_dom_classes": [],
            "_model_module": "@jupyter-widgets/controls",
            "_model_module_version": "1.5.0",
            "_model_name": "HBoxModel",
            "_view_count": null,
            "_view_module": "@jupyter-widgets/controls",
            "_view_module_version": "1.5.0",
            "_view_name": "HBoxView",
            "box_style": "",
            "children": [
              "IPY_MODEL_42c68f77c9934a48800d2a5a6652b46d",
              "IPY_MODEL_c56007366dcf4ab78699bacaad004770",
              "IPY_MODEL_19005958bc884c86afe157c8d104be87"
            ],
            "layout": "IPY_MODEL_8c4a6c6aeb9e46d2849d53662e2dadb4"
          }
        },
        "42c68f77c9934a48800d2a5a6652b46d": {
          "model_module": "@jupyter-widgets/controls",
          "model_name": "HTMLModel",
          "model_module_version": "1.5.0",
          "state": {
            "_dom_classes": [],
            "_model_module": "@jupyter-widgets/controls",
            "_model_module_version": "1.5.0",
            "_model_name": "HTMLModel",
            "_view_count": null,
            "_view_module": "@jupyter-widgets/controls",
            "_view_module_version": "1.5.0",
            "_view_name": "HTMLView",
            "description": "",
            "description_tooltip": null,
            "layout": "IPY_MODEL_1e86e09a8b454fc399aa3de0727cadf9",
            "placeholder": "​",
            "style": "IPY_MODEL_07f74f862f88412aaf3700c8704c42ae",
            "value": "Generating train examples...:  98%"
          }
        },
        "c56007366dcf4ab78699bacaad004770": {
          "model_module": "@jupyter-widgets/controls",
          "model_name": "FloatProgressModel",
          "model_module_version": "1.5.0",
          "state": {
            "_dom_classes": [],
            "_model_module": "@jupyter-widgets/controls",
            "_model_module_version": "1.5.0",
            "_model_name": "FloatProgressModel",
            "_view_count": null,
            "_view_module": "@jupyter-widgets/controls",
            "_view_module_version": "1.5.0",
            "_view_name": "ProgressView",
            "bar_style": "",
            "description": "",
            "description_tooltip": null,
            "layout": "IPY_MODEL_db8989b04e314586a8c0ed2953ee965d",
            "max": 79740,
            "min": 0,
            "orientation": "horizontal",
            "style": "IPY_MODEL_34afcf839d454865ad6e01d6cfcd36ba",
            "value": 79740
          }
        },
        "19005958bc884c86afe157c8d104be87": {
          "model_module": "@jupyter-widgets/controls",
          "model_name": "HTMLModel",
          "model_module_version": "1.5.0",
          "state": {
            "_dom_classes": [],
            "_model_module": "@jupyter-widgets/controls",
            "_model_module_version": "1.5.0",
            "_model_name": "HTMLModel",
            "_view_count": null,
            "_view_module": "@jupyter-widgets/controls",
            "_view_module_version": "1.5.0",
            "_view_name": "HTMLView",
            "description": "",
            "description_tooltip": null,
            "layout": "IPY_MODEL_8c9d6fb9897044a38ced3d54b947a5d9",
            "placeholder": "​",
            "style": "IPY_MODEL_5f928e603ee74bcebf9bf7e42e897274",
            "value": " 78076/79740 [00:33&lt;00:00, 2011.31 examples/s]"
          }
        },
        "8c4a6c6aeb9e46d2849d53662e2dadb4": {
          "model_module": "@jupyter-widgets/base",
          "model_name": "LayoutModel",
          "model_module_version": "1.2.0",
          "state": {
            "_model_module": "@jupyter-widgets/base",
            "_model_module_version": "1.2.0",
            "_model_name": "LayoutModel",
            "_view_count": null,
            "_view_module": "@jupyter-widgets/base",
            "_view_module_version": "1.2.0",
            "_view_name": "LayoutView",
            "align_content": null,
            "align_items": null,
            "align_self": null,
            "border": null,
            "bottom": null,
            "display": null,
            "flex": null,
            "flex_flow": null,
            "grid_area": null,
            "grid_auto_columns": null,
            "grid_auto_flow": null,
            "grid_auto_rows": null,
            "grid_column": null,
            "grid_gap": null,
            "grid_row": null,
            "grid_template_areas": null,
            "grid_template_columns": null,
            "grid_template_rows": null,
            "height": null,
            "justify_content": null,
            "justify_items": null,
            "left": null,
            "margin": null,
            "max_height": null,
            "max_width": null,
            "min_height": null,
            "min_width": null,
            "object_fit": null,
            "object_position": null,
            "order": null,
            "overflow": null,
            "overflow_x": null,
            "overflow_y": null,
            "padding": null,
            "right": null,
            "top": null,
            "visibility": "hidden",
            "width": null
          }
        },
        "1e86e09a8b454fc399aa3de0727cadf9": {
          "model_module": "@jupyter-widgets/base",
          "model_name": "LayoutModel",
          "model_module_version": "1.2.0",
          "state": {
            "_model_module": "@jupyter-widgets/base",
            "_model_module_version": "1.2.0",
            "_model_name": "LayoutModel",
            "_view_count": null,
            "_view_module": "@jupyter-widgets/base",
            "_view_module_version": "1.2.0",
            "_view_name": "LayoutView",
            "align_content": null,
            "align_items": null,
            "align_self": null,
            "border": null,
            "bottom": null,
            "display": null,
            "flex": null,
            "flex_flow": null,
            "grid_area": null,
            "grid_auto_columns": null,
            "grid_auto_flow": null,
            "grid_auto_rows": null,
            "grid_column": null,
            "grid_gap": null,
            "grid_row": null,
            "grid_template_areas": null,
            "grid_template_columns": null,
            "grid_template_rows": null,
            "height": null,
            "justify_content": null,
            "justify_items": null,
            "left": null,
            "margin": null,
            "max_height": null,
            "max_width": null,
            "min_height": null,
            "min_width": null,
            "object_fit": null,
            "object_position": null,
            "order": null,
            "overflow": null,
            "overflow_x": null,
            "overflow_y": null,
            "padding": null,
            "right": null,
            "top": null,
            "visibility": null,
            "width": null
          }
        },
        "07f74f862f88412aaf3700c8704c42ae": {
          "model_module": "@jupyter-widgets/controls",
          "model_name": "DescriptionStyleModel",
          "model_module_version": "1.5.0",
          "state": {
            "_model_module": "@jupyter-widgets/controls",
            "_model_module_version": "1.5.0",
            "_model_name": "DescriptionStyleModel",
            "_view_count": null,
            "_view_module": "@jupyter-widgets/base",
            "_view_module_version": "1.2.0",
            "_view_name": "StyleView",
            "description_width": ""
          }
        },
        "db8989b04e314586a8c0ed2953ee965d": {
          "model_module": "@jupyter-widgets/base",
          "model_name": "LayoutModel",
          "model_module_version": "1.2.0",
          "state": {
            "_model_module": "@jupyter-widgets/base",
            "_model_module_version": "1.2.0",
            "_model_name": "LayoutModel",
            "_view_count": null,
            "_view_module": "@jupyter-widgets/base",
            "_view_module_version": "1.2.0",
            "_view_name": "LayoutView",
            "align_content": null,
            "align_items": null,
            "align_self": null,
            "border": null,
            "bottom": null,
            "display": null,
            "flex": null,
            "flex_flow": null,
            "grid_area": null,
            "grid_auto_columns": null,
            "grid_auto_flow": null,
            "grid_auto_rows": null,
            "grid_column": null,
            "grid_gap": null,
            "grid_row": null,
            "grid_template_areas": null,
            "grid_template_columns": null,
            "grid_template_rows": null,
            "height": null,
            "justify_content": null,
            "justify_items": null,
            "left": null,
            "margin": null,
            "max_height": null,
            "max_width": null,
            "min_height": null,
            "min_width": null,
            "object_fit": null,
            "object_position": null,
            "order": null,
            "overflow": null,
            "overflow_x": null,
            "overflow_y": null,
            "padding": null,
            "right": null,
            "top": null,
            "visibility": null,
            "width": null
          }
        },
        "34afcf839d454865ad6e01d6cfcd36ba": {
          "model_module": "@jupyter-widgets/controls",
          "model_name": "ProgressStyleModel",
          "model_module_version": "1.5.0",
          "state": {
            "_model_module": "@jupyter-widgets/controls",
            "_model_module_version": "1.5.0",
            "_model_name": "ProgressStyleModel",
            "_view_count": null,
            "_view_module": "@jupyter-widgets/base",
            "_view_module_version": "1.2.0",
            "_view_name": "StyleView",
            "bar_color": null,
            "description_width": ""
          }
        },
        "8c9d6fb9897044a38ced3d54b947a5d9": {
          "model_module": "@jupyter-widgets/base",
          "model_name": "LayoutModel",
          "model_module_version": "1.2.0",
          "state": {
            "_model_module": "@jupyter-widgets/base",
            "_model_module_version": "1.2.0",
            "_model_name": "LayoutModel",
            "_view_count": null,
            "_view_module": "@jupyter-widgets/base",
            "_view_module_version": "1.2.0",
            "_view_name": "LayoutView",
            "align_content": null,
            "align_items": null,
            "align_self": null,
            "border": null,
            "bottom": null,
            "display": null,
            "flex": null,
            "flex_flow": null,
            "grid_area": null,
            "grid_auto_columns": null,
            "grid_auto_flow": null,
            "grid_auto_rows": null,
            "grid_column": null,
            "grid_gap": null,
            "grid_row": null,
            "grid_template_areas": null,
            "grid_template_columns": null,
            "grid_template_rows": null,
            "height": null,
            "justify_content": null,
            "justify_items": null,
            "left": null,
            "margin": null,
            "max_height": null,
            "max_width": null,
            "min_height": null,
            "min_width": null,
            "object_fit": null,
            "object_position": null,
            "order": null,
            "overflow": null,
            "overflow_x": null,
            "overflow_y": null,
            "padding": null,
            "right": null,
            "top": null,
            "visibility": null,
            "width": null
          }
        },
        "5f928e603ee74bcebf9bf7e42e897274": {
          "model_module": "@jupyter-widgets/controls",
          "model_name": "DescriptionStyleModel",
          "model_module_version": "1.5.0",
          "state": {
            "_model_module": "@jupyter-widgets/controls",
            "_model_module_version": "1.5.0",
            "_model_name": "DescriptionStyleModel",
            "_view_count": null,
            "_view_module": "@jupyter-widgets/base",
            "_view_module_version": "1.2.0",
            "_view_name": "StyleView",
            "description_width": ""
          }
        },
        "8cebd60d22df451b9ba5089f3ba04881": {
          "model_module": "@jupyter-widgets/controls",
          "model_name": "HBoxModel",
          "model_module_version": "1.5.0",
          "state": {
            "_dom_classes": [],
            "_model_module": "@jupyter-widgets/controls",
            "_model_module_version": "1.5.0",
            "_model_name": "HBoxModel",
            "_view_count": null,
            "_view_module": "@jupyter-widgets/controls",
            "_view_module_version": "1.5.0",
            "_view_name": "HBoxView",
            "box_style": "",
            "children": [
              "IPY_MODEL_0f580f5b5fd04ab8a5c9263409834fb6",
              "IPY_MODEL_8f3e1b1dd89d49a1832b4b7aebfc750d",
              "IPY_MODEL_fac76fff70c8457f853860325e675764"
            ],
            "layout": "IPY_MODEL_07f9fc75f9c94c08932e2b5a126cc005"
          }
        },
        "0f580f5b5fd04ab8a5c9263409834fb6": {
          "model_module": "@jupyter-widgets/controls",
          "model_name": "HTMLModel",
          "model_module_version": "1.5.0",
          "state": {
            "_dom_classes": [],
            "_model_module": "@jupyter-widgets/controls",
            "_model_module_version": "1.5.0",
            "_model_name": "HTMLModel",
            "_view_count": null,
            "_view_module": "@jupyter-widgets/controls",
            "_view_module_version": "1.5.0",
            "_view_name": "HTMLView",
            "description": "",
            "description_tooltip": null,
            "layout": "IPY_MODEL_ac7400a33d0a4c80a772ef0c85658229",
            "placeholder": "​",
            "style": "IPY_MODEL_b3b8ea57d76b4285951a67b30f780a39",
            "value": "Shuffling /root/tensorflow_datasets/reddit_tifu/short/1.1.2.incompleteRQF73V/reddit_tifu-train.tfrecord*...:  94%"
          }
        },
        "8f3e1b1dd89d49a1832b4b7aebfc750d": {
          "model_module": "@jupyter-widgets/controls",
          "model_name": "FloatProgressModel",
          "model_module_version": "1.5.0",
          "state": {
            "_dom_classes": [],
            "_model_module": "@jupyter-widgets/controls",
            "_model_module_version": "1.5.0",
            "_model_name": "FloatProgressModel",
            "_view_count": null,
            "_view_module": "@jupyter-widgets/controls",
            "_view_module_version": "1.5.0",
            "_view_name": "ProgressView",
            "bar_style": "",
            "description": "",
            "description_tooltip": null,
            "layout": "IPY_MODEL_04818a738093456e891ca04a4e1fc6e4",
            "max": 79740,
            "min": 0,
            "orientation": "horizontal",
            "style": "IPY_MODEL_e87acc1596934a54a8356ccfbb362ea3",
            "value": 79740
          }
        },
        "fac76fff70c8457f853860325e675764": {
          "model_module": "@jupyter-widgets/controls",
          "model_name": "HTMLModel",
          "model_module_version": "1.5.0",
          "state": {
            "_dom_classes": [],
            "_model_module": "@jupyter-widgets/controls",
            "_model_module_version": "1.5.0",
            "_model_name": "HTMLModel",
            "_view_count": null,
            "_view_module": "@jupyter-widgets/controls",
            "_view_module_version": "1.5.0",
            "_view_name": "HTMLView",
            "description": "",
            "description_tooltip": null,
            "layout": "IPY_MODEL_61045bcb47a9440cb1dee5404da7ec01",
            "placeholder": "​",
            "style": "IPY_MODEL_4a0b1826ca2843c885479ad68bd758dd",
            "value": " 75246/79740 [00:00&lt;00:00, 125381.40 examples/s]"
          }
        },
        "07f9fc75f9c94c08932e2b5a126cc005": {
          "model_module": "@jupyter-widgets/base",
          "model_name": "LayoutModel",
          "model_module_version": "1.2.0",
          "state": {
            "_model_module": "@jupyter-widgets/base",
            "_model_module_version": "1.2.0",
            "_model_name": "LayoutModel",
            "_view_count": null,
            "_view_module": "@jupyter-widgets/base",
            "_view_module_version": "1.2.0",
            "_view_name": "LayoutView",
            "align_content": null,
            "align_items": null,
            "align_self": null,
            "border": null,
            "bottom": null,
            "display": null,
            "flex": null,
            "flex_flow": null,
            "grid_area": null,
            "grid_auto_columns": null,
            "grid_auto_flow": null,
            "grid_auto_rows": null,
            "grid_column": null,
            "grid_gap": null,
            "grid_row": null,
            "grid_template_areas": null,
            "grid_template_columns": null,
            "grid_template_rows": null,
            "height": null,
            "justify_content": null,
            "justify_items": null,
            "left": null,
            "margin": null,
            "max_height": null,
            "max_width": null,
            "min_height": null,
            "min_width": null,
            "object_fit": null,
            "object_position": null,
            "order": null,
            "overflow": null,
            "overflow_x": null,
            "overflow_y": null,
            "padding": null,
            "right": null,
            "top": null,
            "visibility": "hidden",
            "width": null
          }
        },
        "ac7400a33d0a4c80a772ef0c85658229": {
          "model_module": "@jupyter-widgets/base",
          "model_name": "LayoutModel",
          "model_module_version": "1.2.0",
          "state": {
            "_model_module": "@jupyter-widgets/base",
            "_model_module_version": "1.2.0",
            "_model_name": "LayoutModel",
            "_view_count": null,
            "_view_module": "@jupyter-widgets/base",
            "_view_module_version": "1.2.0",
            "_view_name": "LayoutView",
            "align_content": null,
            "align_items": null,
            "align_self": null,
            "border": null,
            "bottom": null,
            "display": null,
            "flex": null,
            "flex_flow": null,
            "grid_area": null,
            "grid_auto_columns": null,
            "grid_auto_flow": null,
            "grid_auto_rows": null,
            "grid_column": null,
            "grid_gap": null,
            "grid_row": null,
            "grid_template_areas": null,
            "grid_template_columns": null,
            "grid_template_rows": null,
            "height": null,
            "justify_content": null,
            "justify_items": null,
            "left": null,
            "margin": null,
            "max_height": null,
            "max_width": null,
            "min_height": null,
            "min_width": null,
            "object_fit": null,
            "object_position": null,
            "order": null,
            "overflow": null,
            "overflow_x": null,
            "overflow_y": null,
            "padding": null,
            "right": null,
            "top": null,
            "visibility": null,
            "width": null
          }
        },
        "b3b8ea57d76b4285951a67b30f780a39": {
          "model_module": "@jupyter-widgets/controls",
          "model_name": "DescriptionStyleModel",
          "model_module_version": "1.5.0",
          "state": {
            "_model_module": "@jupyter-widgets/controls",
            "_model_module_version": "1.5.0",
            "_model_name": "DescriptionStyleModel",
            "_view_count": null,
            "_view_module": "@jupyter-widgets/base",
            "_view_module_version": "1.2.0",
            "_view_name": "StyleView",
            "description_width": ""
          }
        },
        "04818a738093456e891ca04a4e1fc6e4": {
          "model_module": "@jupyter-widgets/base",
          "model_name": "LayoutModel",
          "model_module_version": "1.2.0",
          "state": {
            "_model_module": "@jupyter-widgets/base",
            "_model_module_version": "1.2.0",
            "_model_name": "LayoutModel",
            "_view_count": null,
            "_view_module": "@jupyter-widgets/base",
            "_view_module_version": "1.2.0",
            "_view_name": "LayoutView",
            "align_content": null,
            "align_items": null,
            "align_self": null,
            "border": null,
            "bottom": null,
            "display": null,
            "flex": null,
            "flex_flow": null,
            "grid_area": null,
            "grid_auto_columns": null,
            "grid_auto_flow": null,
            "grid_auto_rows": null,
            "grid_column": null,
            "grid_gap": null,
            "grid_row": null,
            "grid_template_areas": null,
            "grid_template_columns": null,
            "grid_template_rows": null,
            "height": null,
            "justify_content": null,
            "justify_items": null,
            "left": null,
            "margin": null,
            "max_height": null,
            "max_width": null,
            "min_height": null,
            "min_width": null,
            "object_fit": null,
            "object_position": null,
            "order": null,
            "overflow": null,
            "overflow_x": null,
            "overflow_y": null,
            "padding": null,
            "right": null,
            "top": null,
            "visibility": null,
            "width": null
          }
        },
        "e87acc1596934a54a8356ccfbb362ea3": {
          "model_module": "@jupyter-widgets/controls",
          "model_name": "ProgressStyleModel",
          "model_module_version": "1.5.0",
          "state": {
            "_model_module": "@jupyter-widgets/controls",
            "_model_module_version": "1.5.0",
            "_model_name": "ProgressStyleModel",
            "_view_count": null,
            "_view_module": "@jupyter-widgets/base",
            "_view_module_version": "1.2.0",
            "_view_name": "StyleView",
            "bar_color": null,
            "description_width": ""
          }
        },
        "61045bcb47a9440cb1dee5404da7ec01": {
          "model_module": "@jupyter-widgets/base",
          "model_name": "LayoutModel",
          "model_module_version": "1.2.0",
          "state": {
            "_model_module": "@jupyter-widgets/base",
            "_model_module_version": "1.2.0",
            "_model_name": "LayoutModel",
            "_view_count": null,
            "_view_module": "@jupyter-widgets/base",
            "_view_module_version": "1.2.0",
            "_view_name": "LayoutView",
            "align_content": null,
            "align_items": null,
            "align_self": null,
            "border": null,
            "bottom": null,
            "display": null,
            "flex": null,
            "flex_flow": null,
            "grid_area": null,
            "grid_auto_columns": null,
            "grid_auto_flow": null,
            "grid_auto_rows": null,
            "grid_column": null,
            "grid_gap": null,
            "grid_row": null,
            "grid_template_areas": null,
            "grid_template_columns": null,
            "grid_template_rows": null,
            "height": null,
            "justify_content": null,
            "justify_items": null,
            "left": null,
            "margin": null,
            "max_height": null,
            "max_width": null,
            "min_height": null,
            "min_width": null,
            "object_fit": null,
            "object_position": null,
            "order": null,
            "overflow": null,
            "overflow_x": null,
            "overflow_y": null,
            "padding": null,
            "right": null,
            "top": null,
            "visibility": null,
            "width": null
          }
        },
        "4a0b1826ca2843c885479ad68bd758dd": {
          "model_module": "@jupyter-widgets/controls",
          "model_name": "DescriptionStyleModel",
          "model_module_version": "1.5.0",
          "state": {
            "_model_module": "@jupyter-widgets/controls",
            "_model_module_version": "1.5.0",
            "_model_name": "DescriptionStyleModel",
            "_view_count": null,
            "_view_module": "@jupyter-widgets/base",
            "_view_module_version": "1.2.0",
            "_view_name": "StyleView",
            "description_width": ""
          }
        }
      }
    }
  },
  "cells": [
    {
      "cell_type": "markdown",
      "source": [
        "**<h1><center>Bilal FAYE - 2023</center></h1>**"
      ],
      "metadata": {
        "id": "rWIBq1TL4n_J"
      }
    },
    {
      "cell_type": "markdown",
      "source": [
        "# **GPT2Model**"
      ],
      "metadata": {
        "id": "Sbo-KvIpzUNP"
      }
    },
    {
      "cell_type": "code",
      "execution_count": null,
      "metadata": {
        "id": "05DsZme7y6sp"
      },
      "outputs": [],
      "source": [
        "# Import tokenizer and model\n",
        "from transformers import GPT2Tokenizer, GPT2Model"
      ]
    },
    {
      "cell_type": "code",
      "source": [
        "# Load the pre-trained model\n",
        "tokenizer = GPT2Tokenizer.from_pretrained(\"gpt2\")\n",
        "model = GPT2Model.from_pretrained(\"gpt2\")"
      ],
      "metadata": {
        "id": "Rkcy0eua0JsO"
      },
      "execution_count": null,
      "outputs": []
    },
    {
      "cell_type": "code",
      "source": [
        "# Test the tokenizer\n",
        "text = \"I play football.\"\n",
        "tokens1 = tokenizer(text)\n",
        "tokens2 = tokenizer.encode(text)\n",
        "tokens3 = tokenizer.batch_encode_plus([text])\n",
        "print(f\"Tokens 1: {tokens1}\\n\")\n",
        "print(f\"Tokens 2: {tokens2}\\n\")\n",
        "print(f\"Tokens 3: {tokens3}\\n\")\n",
        "print(f\"The token of id: {tokens1['input_ids'][0]} is {tokenizer.decode(tokens1['input_ids'][0])}\")"
      ],
      "metadata": {
        "colab": {
          "base_uri": "https://localhost:8080/"
        },
        "id": "O-0EoMAi0nsB",
        "outputId": "88430fda-6139-44e7-b361-c59276482da3"
      },
      "execution_count": null,
      "outputs": [
        {
          "output_type": "stream",
          "name": "stdout",
          "text": [
            "Tokens 1: {'input_ids': [40, 711, 4346, 13], 'attention_mask': [1, 1, 1, 1]}\n",
            "\n",
            "Tokens 2: [40, 711, 4346, 13]\n",
            "\n",
            "Tokens 3: {'input_ids': [[40, 711, 4346, 13]], 'attention_mask': [[1, 1, 1, 1]]}\n",
            "\n",
            "The token of id: 40 is I\n"
          ]
        }
      ]
    },
    {
      "cell_type": "code",
      "source": [
        "# Test the tokenizer adding padding (tensorflow)\n",
        "tokenizer.pad_token = tokenizer.eos_token # add this line to specify the padding token\n",
        "text = [\"I play football\", \"I go to school.\"]\n",
        "tokens1 = tokenizer(text, return_tensors='tf', padding='max_length', max_length=10, truncation=True)\n",
        "# tokens2 = tokenizer.encode(text, return_tensors='tf', padding='max_length', max_length=10, truncation=True) not work for lists\n",
        "tokens3 = tokenizer.batch_encode_plus(text, return_tensors='tf', padding='max_length', max_length=10, truncation=True)\n",
        "print(f\"Tokens 1: {tokens1}\\n\")\n",
        "# print(f\"Tokens 2: {tokens2}\\n\")\n",
        "print(f\"Tokens 3: {tokens3}\\n\")"
      ],
      "metadata": {
        "colab": {
          "base_uri": "https://localhost:8080/"
        },
        "id": "YXeVeMa89ayA",
        "outputId": "2bd44c3d-a46c-4dc0-9636-4a8259fdb729"
      },
      "execution_count": null,
      "outputs": [
        {
          "output_type": "stream",
          "name": "stdout",
          "text": [
            "Tokens 1: {'input_ids': <tf.Tensor: shape=(2, 10), dtype=int32, numpy=\n",
            "array([[   40,   711,  4346, 50256, 50256, 50256, 50256, 50256, 50256,\n",
            "        50256],\n",
            "       [   40,   467,   284,  1524,    13, 50256, 50256, 50256, 50256,\n",
            "        50256]], dtype=int32)>, 'attention_mask': <tf.Tensor: shape=(2, 10), dtype=int32, numpy=\n",
            "array([[1, 1, 1, 0, 0, 0, 0, 0, 0, 0],\n",
            "       [1, 1, 1, 1, 1, 0, 0, 0, 0, 0]], dtype=int32)>}\n",
            "\n",
            "Tokens 3: {'input_ids': <tf.Tensor: shape=(2, 10), dtype=int32, numpy=\n",
            "array([[   40,   711,  4346, 50256, 50256, 50256, 50256, 50256, 50256,\n",
            "        50256],\n",
            "       [   40,   467,   284,  1524,    13, 50256, 50256, 50256, 50256,\n",
            "        50256]], dtype=int32)>, 'attention_mask': <tf.Tensor: shape=(2, 10), dtype=int32, numpy=\n",
            "array([[1, 1, 1, 0, 0, 0, 0, 0, 0, 0],\n",
            "       [1, 1, 1, 1, 1, 0, 0, 0, 0, 0]], dtype=int32)>}\n",
            "\n"
          ]
        }
      ]
    },
    {
      "cell_type": "code",
      "source": [
        "# Test the tokenizer adding padding (pytorch)\n",
        "tokenizer.pad_token = tokenizer.eos_token # add this line to specify the padding token\n",
        "text = [\"I play football\", \"I go to school.\"]\n",
        "tokens1 = tokenizer(text, return_tensors='pt', padding='max_length', max_length=10, truncation=True)\n",
        "# tokens2 = tokenizer.encode(text, return_tensors='pt', padding='max_length', max_length=10, truncation=True) not work for lists\n",
        "tokens3 = tokenizer.batch_encode_plus(text, return_tensors='pt', padding='max_length', max_length=10, truncation=True)\n",
        "print(f\"Tokens 1: {tokens1}\\n\")\n",
        "# print(f\"Tokens 2: {tokens2}\\n\")\n",
        "print(f\"Tokens 3: {tokens3}\\n\")"
      ],
      "metadata": {
        "colab": {
          "base_uri": "https://localhost:8080/"
        },
        "id": "3sL35Bxt1mkd",
        "outputId": "fe1a2564-c236-4c46-e1f3-ffe678ec0323"
      },
      "execution_count": null,
      "outputs": [
        {
          "output_type": "stream",
          "name": "stdout",
          "text": [
            "Tokens 1: {'input_ids': tensor([[   40,   711,  4346, 50256, 50256, 50256, 50256, 50256, 50256, 50256],\n",
            "        [   40,   467,   284,  1524,    13, 50256, 50256, 50256, 50256, 50256]]), 'attention_mask': tensor([[1, 1, 1, 0, 0, 0, 0, 0, 0, 0],\n",
            "        [1, 1, 1, 1, 1, 0, 0, 0, 0, 0]])}\n",
            "\n",
            "Tokens 3: {'input_ids': tensor([[   40,   711,  4346, 50256, 50256, 50256, 50256, 50256, 50256, 50256],\n",
            "        [   40,   467,   284,  1524,    13, 50256, 50256, 50256, 50256, 50256]]), 'attention_mask': tensor([[1, 1, 1, 0, 0, 0, 0, 0, 0, 0],\n",
            "        [1, 1, 1, 1, 1, 0, 0, 0, 0, 0]])}\n",
            "\n"
          ]
        }
      ]
    },
    {
      "cell_type": "code",
      "source": [
        "# See model's output\n",
        "outputs1 = model(input_ids=tokens3[\"input_ids\"])\n",
        "outputs2 = model(input_ids=tokens3[\"input_ids\"], attention_mask=tokens3[\"attention_mask\"])\n",
        "outputs3 = model(**tokens3)\n",
        "print(f\"Outputs 1: {outputs1.keys()}\\n\")\n",
        "print(f\"Outputs 2: {outputs2.keys()}\\n\")\n",
        "print(f\"Outputs 3: {outputs3.keys()}\\n\")"
      ],
      "metadata": {
        "colab": {
          "base_uri": "https://localhost:8080/"
        },
        "id": "3yPiUFCJ6H_N",
        "outputId": "8b65818a-fa68-4f69-8790-7d02f9c62022"
      },
      "execution_count": null,
      "outputs": [
        {
          "output_type": "stream",
          "name": "stdout",
          "text": [
            "Outputs 1: odict_keys(['last_hidden_state', 'past_key_values'])\n",
            "\n",
            "Outputs 2: odict_keys(['last_hidden_state', 'past_key_values'])\n",
            "\n",
            "Outputs 3: odict_keys(['last_hidden_state', 'past_key_values'])\n",
            "\n"
          ]
        }
      ]
    },
    {
      "cell_type": "code",
      "source": [
        "# last_hidden_state : last block's output\n",
        "outputs1.last_hidden_state.shape"
      ],
      "metadata": {
        "colab": {
          "base_uri": "https://localhost:8080/"
        },
        "id": "5iXz7U81-Vyo",
        "outputId": "e53ea4b6-05db-4ff0-8c4f-057ac1f0125a"
      },
      "execution_count": null,
      "outputs": [
        {
          "output_type": "execute_result",
          "data": {
            "text/plain": [
              "torch.Size([2, 10, 768])"
            ]
          },
          "metadata": {},
          "execution_count": 35
        }
      ]
    },
    {
      "cell_type": "code",
      "source": [
        "# past_key_values: key and value of each block: 12 blocks -> tuple (key, value)\n",
        "len(outputs1.past_key_values)"
      ],
      "metadata": {
        "colab": {
          "base_uri": "https://localhost:8080/"
        },
        "id": "fpAPDxVs-noS",
        "outputId": "6e9dcd9b-4f8a-419d-a2af-95553303b8cc"
      },
      "execution_count": null,
      "outputs": [
        {
          "output_type": "execute_result",
          "data": {
            "text/plain": [
              "12"
            ]
          },
          "metadata": {},
          "execution_count": 40
        }
      ]
    },
    {
      "cell_type": "markdown",
      "source": [
        "**Fine-tune GPT2Model for classification task with pytorch**"
      ],
      "metadata": {
        "id": "_b-j_pUaClDd"
      }
    },
    {
      "cell_type": "code",
      "source": [
        "# Import\n",
        "import torch\n",
        "import torch.nn as nn\n",
        "from torch.utils.data import Dataset, DataLoader\n",
        "from torch.optim import AdamW\n",
        "import torch.nn.functional as F"
      ],
      "metadata": {
        "id": "3HnEyaz1CZvI"
      },
      "execution_count": null,
      "outputs": []
    },
    {
      "cell_type": "code",
      "source": [
        "# Example data\n",
        "reviews = [\n",
        "    \"It was amazing!\",\n",
        "    \"I absolutely hated it.\",\n",
        "    \"It's quite average.\",\n",
        "    \"Fantastic experience!\",\n",
        "    \"Terrible service.\",\n",
        "    \"Not bad, but could be better.\",\n",
        "    \"I loved every moment!\",\n",
        "    \"Awful product, don't buy.\",\n",
        "    \"It's okay, nothing special.\",\n",
        "    \"Incredible performance!\",\n",
        "    \"Disappointing outcome.\",\n",
        "    \"So-so, not impressed.\"\n",
        "]\n",
        "\n",
        "# Labels\n",
        "labels = [2, 0, 1, 2, 0, 1, 2, 0, 1, 2, 0, 1]  # 2 for positive, 0 for negative, 1 for neutral"
      ],
      "metadata": {
        "id": "hzbDUZTSDRps"
      },
      "execution_count": null,
      "outputs": []
    },
    {
      "cell_type": "code",
      "source": [
        "# Tokenize with batch_encode_plus\n",
        "tokenizer.pad_token = tokenizer.eos_token\n",
        "encoding = tokenizer.batch_encode_plus(reviews, return_tensors='pt', padding='max_length', max_length=10, truncation=True)\n",
        "encoding"
      ],
      "metadata": {
        "colab": {
          "base_uri": "https://localhost:8080/"
        },
        "id": "-sLs3JfhEUkN",
        "outputId": "997d2304-de6f-4418-8bf2-6bd9581f8056"
      },
      "execution_count": null,
      "outputs": [
        {
          "output_type": "execute_result",
          "data": {
            "text/plain": [
              "{'input_ids': tensor([[ 1026,   373,  4998,     0, 50256, 50256, 50256, 50256, 50256, 50256],\n",
              "        [   40,  5543, 16563,   340,    13, 50256, 50256, 50256, 50256, 50256],\n",
              "        [ 1026,   338,  2407,  2811,    13, 50256, 50256, 50256, 50256, 50256],\n",
              "        [   37,   415,  3477,  1998,     0, 50256, 50256, 50256, 50256, 50256],\n",
              "        [15156,  5547,  2139,    13, 50256, 50256, 50256, 50256, 50256, 50256],\n",
              "        [ 3673,  2089,    11,   475,   714,   307,  1365,    13, 50256, 50256],\n",
              "        [   40,  6151,   790,  2589,     0, 50256, 50256, 50256, 50256, 50256],\n",
              "        [23155,   913,  1720,    11,   836,   470,  2822,    13, 50256, 50256],\n",
              "        [ 1026,   338,  8788,    11,  2147,  2041,    13, 50256, 50256, 50256],\n",
              "        [25517, 26260,  2854,     0, 50256, 50256, 50256, 50256, 50256, 50256],\n",
              "        [ 7279,  1324,  1563,   278,  8055,    13, 50256, 50256, 50256, 50256],\n",
              "        [ 2396,    12,   568,    11,   407, 12617,    13, 50256, 50256, 50256]]), 'attention_mask': tensor([[1, 1, 1, 1, 0, 0, 0, 0, 0, 0],\n",
              "        [1, 1, 1, 1, 1, 0, 0, 0, 0, 0],\n",
              "        [1, 1, 1, 1, 1, 0, 0, 0, 0, 0],\n",
              "        [1, 1, 1, 1, 1, 0, 0, 0, 0, 0],\n",
              "        [1, 1, 1, 1, 0, 0, 0, 0, 0, 0],\n",
              "        [1, 1, 1, 1, 1, 1, 1, 1, 0, 0],\n",
              "        [1, 1, 1, 1, 1, 0, 0, 0, 0, 0],\n",
              "        [1, 1, 1, 1, 1, 1, 1, 1, 0, 0],\n",
              "        [1, 1, 1, 1, 1, 1, 1, 0, 0, 0],\n",
              "        [1, 1, 1, 1, 0, 0, 0, 0, 0, 0],\n",
              "        [1, 1, 1, 1, 1, 1, 0, 0, 0, 0],\n",
              "        [1, 1, 1, 1, 1, 1, 1, 0, 0, 0]])}"
            ]
          },
          "metadata": {},
          "execution_count": 51
        }
      ]
    },
    {
      "cell_type": "code",
      "source": [
        "# Create a DataLoader\n",
        "class CustomDataset(Dataset):\n",
        "    def __init__(self, input_ids, attention_mask, labels):\n",
        "        self.input_ids = input_ids\n",
        "        self.attention_mask = attention_mask\n",
        "        self.labels = labels\n",
        "\n",
        "    def __len__(self):\n",
        "        return len(self.input_ids)\n",
        "\n",
        "    def __getitem__(self, idx):\n",
        "        return {\n",
        "            'input_ids': self.input_ids[idx],\n",
        "            'attention_mask': self.attention_mask[idx],\n",
        "            'labels': torch.tensor(self.labels[idx])\n",
        "        }\n",
        "\n",
        "# Create Dataset Instance\n",
        "dataset = CustomDataset(encoding['input_ids'], encoding['attention_mask'], labels)\n",
        "\n",
        "# Create the DataLoader\n",
        "dataloader = DataLoader(dataset, batch_size=2, shuffle=True)"
      ],
      "metadata": {
        "id": "LB9q6UcvEpEg"
      },
      "execution_count": null,
      "outputs": []
    },
    {
      "cell_type": "code",
      "source": [
        "# GPT-2 for classification\n",
        "class CustomGPT2Classifier(nn.Module):\n",
        "    def __init__(self, gpt2_model, num_labels):\n",
        "        super(CustomGPT2Classifier, self).__init__()\n",
        "        self.gpt2 = gpt2_model\n",
        "        self.classifier = nn.Linear(self.gpt2.config.hidden_size, num_labels)\n",
        "\n",
        "    def forward(self, input_ids, attention_mask=None):\n",
        "        gpt2_outputs = self.gpt2(input_ids, attention_mask=attention_mask)\n",
        "        last_hidden_state = gpt2_outputs.last_hidden_state\n",
        "        pooled_output = torch.mean(last_hidden_state, dim=1)  # sequence's mean\n",
        "        logits = self.classifier(pooled_output)\n",
        "        # Apply softmax\n",
        "        probs = F.softmax(logits, dim=1)\n",
        "        return probs"
      ],
      "metadata": {
        "id": "i6YJiKhnE6j3"
      },
      "execution_count": null,
      "outputs": []
    },
    {
      "cell_type": "code",
      "source": [
        "# Create the model\n",
        "num_labels = 3\n",
        "gpt_model = GPT2Model.from_pretrained('gpt2')\n",
        "\n",
        "# Freeze gpt\n",
        "for parameter in gpt_model.parameters():\n",
        "  parameter.requires_grad = False\n",
        "\n",
        "classifier_model = CustomGPT2Classifier(gpt_model, num_labels)\n",
        "\n",
        "# Training parameters\n",
        "epochs = 1\n",
        "learning_rate = 5e-5\n",
        "optimizer = AdamW(classifier_model.parameters(), lr=learning_rate)\n",
        "\n",
        "# Loss (CrossEntropyLoss for classification)\n",
        "criterion = nn.CrossEntropyLoss()\n"
      ],
      "metadata": {
        "id": "zP3wcLgHGcwW"
      },
      "execution_count": null,
      "outputs": []
    },
    {
      "cell_type": "code",
      "source": [
        "# Training\n",
        "classifier_model.train()\n",
        "for epoch in range(epochs):\n",
        "    for batch in dataloader:\n",
        "\n",
        "        input_ids = batch['input_ids']\n",
        "        attention_mask = batch['attention_mask']\n",
        "        labels = batch['labels']\n",
        "\n",
        "        optimizer.zero_grad()\n",
        "        logits = classifier_model(input_ids, attention_mask=attention_mask)\n",
        "        loss = criterion(logits, labels)\n",
        "        loss.backward()\n",
        "        optimizer.step()"
      ],
      "metadata": {
        "id": "5Bv6XdAsHgJR"
      },
      "execution_count": null,
      "outputs": []
    },
    {
      "cell_type": "code",
      "source": [
        "# Save the weights of trained model\n",
        "torch.save(classifier_model.state_dict(), \"classifier_model.pt\")"
      ],
      "metadata": {
        "id": "saWQf4EgHtMS"
      },
      "execution_count": null,
      "outputs": []
    },
    {
      "cell_type": "code",
      "source": [
        "# Load model\n",
        "tokenizer = GPT2Tokenizer.from_pretrained('gpt2')\n",
        "tokenizer.pad_token = tokenizer.eos_token\n",
        "\n",
        "gpt2_model = GPT2Model.from_pretrained('gpt2')\n",
        "\n",
        "num_labels = 3\n",
        "classifier_model = CustomGPT2Classifier(gpt2_model, num_labels)\n",
        "\n",
        "classifier_model.load_state_dict(torch.load(\"classifier_model.pt\"))"
      ],
      "metadata": {
        "colab": {
          "base_uri": "https://localhost:8080/"
        },
        "id": "B4Z0GtsLH0FM",
        "outputId": "7f31a302-5baf-4644-eb22-795d203fd9e0"
      },
      "execution_count": null,
      "outputs": [
        {
          "output_type": "execute_result",
          "data": {
            "text/plain": [
              "<All keys matched successfully>"
            ]
          },
          "metadata": {},
          "execution_count": 61
        }
      ]
    },
    {
      "cell_type": "code",
      "source": [
        "# Inference\n",
        "tokenizer = GPT2Tokenizer.from_pretrained('gpt2')\n",
        "tokenizer.pad_token = tokenizer.eos_token\n",
        "test = tokenizer.batch_encode_plus([\"I love this.\"], return_tensors='pt', padding='max_length', max_length=50, truncation=True)\n",
        "classifier_model.eval()\n",
        "with torch.no_grad():\n",
        "  output = classifier_model(input_ids=test[\"input_ids\"], attention_mask=test[\"attention_mask\"])\n",
        "\n",
        "print(f\"Predictions: {output}\")\n",
        "print(f\"Class: {output.argmax(-1).item()}\")"
      ],
      "metadata": {
        "colab": {
          "base_uri": "https://localhost:8080/"
        },
        "id": "UlerINVDIO59",
        "outputId": "e3adc7a0-bdde-4f16-b9d6-88e8145053a5"
      },
      "execution_count": null,
      "outputs": [
        {
          "output_type": "stream",
          "name": "stdout",
          "text": [
            "Predictions: tensor([[2.7371e-05, 1.0693e-01, 8.9304e-01]])\n",
            "Class: 2\n"
          ]
        }
      ]
    },
    {
      "cell_type": "markdown",
      "source": [
        "# **GPT2LMHeadModel**"
      ],
      "metadata": {
        "id": "igNeGOw0JHhP"
      }
    },
    {
      "cell_type": "code",
      "source": [
        "# Import model and tokenizer\n",
        "from transformers import GPT2LMHeadModel, GPT2Tokenizer"
      ],
      "metadata": {
        "id": "-5GRrOHHJp0o"
      },
      "execution_count": null,
      "outputs": []
    },
    {
      "cell_type": "code",
      "source": [
        "# See model's output\n",
        "model = GPT2LMHeadModel.from_pretrained(\"gpt2\")\n",
        "tokenizer = GPT2Tokenizer.from_pretrained(\"gpt2\")\n",
        "tokenizer.pad_token = tokenizer.eos_token\n",
        "texts = [\"I play football\", \"I go to school.\"]\n",
        "tokens = tokenizer.batch_encode_plus(texts, return_tensors='pt', padding='max_length', max_length=10, truncation=True)\n",
        "outputs = model(**tokens)\n",
        "print(f\"Ouput: {outputs.keys()}\")"
      ],
      "metadata": {
        "colab": {
          "base_uri": "https://localhost:8080/"
        },
        "id": "Mhdp7o5VJ_-J",
        "outputId": "1e0fd415-7469-4f49-f57f-9220e4c02698"
      },
      "execution_count": null,
      "outputs": [
        {
          "output_type": "stream",
          "name": "stdout",
          "text": [
            "Ouput: odict_keys(['logits', 'past_key_values'])\n"
          ]
        }
      ]
    },
    {
      "cell_type": "code",
      "source": [
        "# See the logits\n",
        "outputs.logits.shape"
      ],
      "metadata": {
        "colab": {
          "base_uri": "https://localhost:8080/"
        },
        "id": "OMiWS3EiLIED",
        "outputId": "3a69e1da-653c-4290-a780-734062d9808a"
      },
      "execution_count": null,
      "outputs": [
        {
          "output_type": "execute_result",
          "data": {
            "text/plain": [
              "torch.Size([2, 10, 50257])"
            ]
          },
          "metadata": {},
          "execution_count": 72
        }
      ]
    },
    {
      "cell_type": "code",
      "source": [
        "# Generator\n",
        "prompt = \"Artificial Intelligence is\"\n",
        "\n",
        "input_ids = tokenizer.encode(prompt, return_tensors=\"pt\")\n",
        "\n",
        "output = model.generate(input_ids, max_new_tokens=100, do_sample=True, temperature=0.8, pad_token_id=model.config.eos_token_id)\n",
        "\n",
        "decoded_output = tokenizer.decode(output[0], skip_special_tokens=True)\n",
        "\n",
        "print(decoded_output)"
      ],
      "metadata": {
        "colab": {
          "base_uri": "https://localhost:8080/"
        },
        "id": "8oGqPfdQLf2q",
        "outputId": "c22e32ef-e503-4da7-9d9d-4a62488016ad"
      },
      "execution_count": null,
      "outputs": [
        {
          "output_type": "stream",
          "name": "stdout",
          "text": [
            "Artificial Intelligence is already on the horizon. Companies like Microsoft and Tencent have tried to build the next generation of artificial intelligence, but the tools aren't there yet.\n"
          ]
        }
      ]
    },
    {
      "cell_type": "markdown",
      "source": [
        "**GPT2LMHeadModel for Question Answering**"
      ],
      "metadata": {
        "id": "5LXE8ljWNLHy"
      }
    },
    {
      "cell_type": "code",
      "source": [
        "import torch\n",
        "from torch.utils.data import Dataset, DataLoader\n",
        "from transformers import GPT2LMHeadModel, GPT2Tokenizer\n",
        "from transformers import get_linear_schedule_with_warmup\n",
        "from torch.optim import AdamW"
      ],
      "metadata": {
        "id": "rinqxxh4NRS_"
      },
      "execution_count": null,
      "outputs": []
    },
    {
      "cell_type": "code",
      "source": [
        "# Load pre-trained GPT-2 tokenizer and model\n",
        "tokenizer = GPT2Tokenizer.from_pretrained('gpt2')\n",
        "tokenizer.pad_token = tokenizer.eos_token\n",
        "model = GPT2LMHeadModel.from_pretrained('gpt2')"
      ],
      "metadata": {
        "id": "2b-MqnuTNfmG"
      },
      "execution_count": null,
      "outputs": []
    },
    {
      "cell_type": "code",
      "source": [
        "# Sample dialogue dataset\n",
        "questions = [\n",
        "    \"Hi, how are you?\",\n",
        "    \"What's your favorite color?\"\n",
        "]\n",
        "\n",
        "answers = [\n",
        "    \"I'm good, thanks!\",\n",
        "    \"I don't have one. What's yours?\",\n",
        "]"
      ],
      "metadata": {
        "id": "vMHI4vGMNlsL"
      },
      "execution_count": null,
      "outputs": []
    },
    {
      "cell_type": "code",
      "source": [
        "# Tokenize and pad the dataset using batch_encode_plus\n",
        "tokenized_inputs = tokenizer.batch_encode_plus(questions, return_tensors='pt', padding='max_length', max_length=10)[\"input_ids\"]\n",
        "tokenized_labels = tokenizer.batch_encode_plus(answers, return_tensors='pt', padding='max_length', max_length=10)[\"input_ids\"]"
      ],
      "metadata": {
        "id": "Kaj2uw7ON1tb"
      },
      "execution_count": null,
      "outputs": []
    },
    {
      "cell_type": "code",
      "source": [
        "# Make custom dataset\n",
        "class CustomDataset(Dataset):\n",
        "    def __init__(self, input_ids, labels):\n",
        "        self.input_ids = input_ids\n",
        "        self.labels = labels\n",
        "\n",
        "    def __len__(self):\n",
        "        return len(self.input_ids)\n",
        "\n",
        "    def __getitem__(self, idx):\n",
        "        return self.input_ids[idx], self.labels[idx]\n",
        "\n",
        "dataset = CustomDataset(tokenized_inputs, tokenized_labels)\n",
        "dataloader = DataLoader(dataset, batch_size=2, shuffle=True)"
      ],
      "metadata": {
        "id": "KPBJKaMATJrR"
      },
      "execution_count": null,
      "outputs": []
    },
    {
      "cell_type": "code",
      "source": [
        "# Training parameters\n",
        "epochs = 1\n",
        "learning_rate = 5e-5\n",
        "\n",
        "# Optimizer and scheduler\n",
        "optimizer = AdamW(model.parameters(), lr=learning_rate)\n",
        "total_steps = len(dataloader) * epochs\n",
        "# Adjust learning rate during training for example\n",
        "scheduler = get_linear_schedule_with_warmup(optimizer, num_warmup_steps=0, num_training_steps=total_steps)\n",
        "\n",
        "# Training loop\n",
        "for epoch in range(epochs):\n",
        "    for batch in dataloader:\n",
        "        optimizer.zero_grad()\n",
        "        input_ids, labels = batch\n",
        "\n",
        "        outputs = model(input_ids, labels=labels)\n",
        "        loss = outputs.loss\n",
        "        loss.backward()\n",
        "        optimizer.step()\n",
        "        scheduler.step()\n",
        "\n",
        "# Save the fine-tuned model\n",
        "model.save_pretrained(\"chatbot_model\")\n",
        "tokenizer.save_pretrained(\"chatbot_model\")\n"
      ],
      "metadata": {
        "colab": {
          "base_uri": "https://localhost:8080/"
        },
        "id": "djbGJFj-TUYm",
        "outputId": "ac7cd9c1-59f8-4a6b-ac48-d651f69dcbaf"
      },
      "execution_count": null,
      "outputs": [
        {
          "output_type": "execute_result",
          "data": {
            "text/plain": [
              "('chatbot_model/tokenizer_config.json',\n",
              " 'chatbot_model/special_tokens_map.json',\n",
              " 'chatbot_model/vocab.json',\n",
              " 'chatbot_model/merges.txt',\n",
              " 'chatbot_model/added_tokens.json')"
            ]
          },
          "metadata": {},
          "execution_count": 91
        }
      ]
    },
    {
      "cell_type": "code",
      "source": [
        "# Load the trained chatbot\n",
        "from transformers import GPT2LMHeadModel, GPT2Tokenizer\n",
        "\n",
        "# Replace 'path/to/your/model' with the actual path where you saved your fine-tuned model\n",
        "model_path = 'chatbot_model'\n",
        "# Load the fine-tuned GPT-2 model\n",
        "model = GPT2LMHeadModel.from_pretrained(model_path)\n",
        "# Load the tokenizer associated with the model\n",
        "tokenizer = GPT2Tokenizer.from_pretrained(model_path)"
      ],
      "metadata": {
        "id": "hFFQw8WFUdHz"
      },
      "execution_count": null,
      "outputs": []
    },
    {
      "cell_type": "code",
      "source": [
        "# Input prompt for generation\n",
        "prompt = \"What is Artificial Intelligence?\"\n",
        "\n",
        "# Tokenize the prompt\n",
        "input_ids = tokenizer.encode(prompt, return_tensors=\"pt\")\n",
        "\n",
        "# Generate text\n",
        "output = model.generate(input_ids, max_length=100, num_return_sequences=1, no_repeat_ngram_size=2, top_k=50, top_p=0.95, pad_token_id=tokenizer.pad_token_id, eos_token_id=tokenizer.eos_token_id, do_sample=True)\n",
        "\n",
        "# Decode and print the generated text\n",
        "generated_text = tokenizer.decode(output[0], skip_special_tokens=True)\n",
        "generated_text"
      ],
      "metadata": {
        "colab": {
          "base_uri": "https://localhost:8080/",
          "height": 69
        },
        "id": "it6eCvWUUqJS",
        "outputId": "5bb0239c-f1ff-4a51-8951-08f5bcf83e7b"
      },
      "execution_count": null,
      "outputs": [
        {
          "output_type": "execute_result",
          "data": {
            "text/plain": [
              "\"What is Artificial Intelligence?\\n\\nThe main question facing the artificial intelligence industry is what to do to keep it from being hijacked by other tech companies.\\n. I have been around since the 1980s, so there are some really interesting companies you can use to help. (It's best not to take any chances!)\\n (There are several different ways of using your skills, in the same way I didn't list a few more here.\""
            ],
            "application/vnd.google.colaboratory.intrinsic+json": {
              "type": "string"
            }
          },
          "metadata": {},
          "execution_count": 93
        }
      ]
    },
    {
      "cell_type": "code",
      "source": [
        "output.shape"
      ],
      "metadata": {
        "colab": {
          "base_uri": "https://localhost:8080/"
        },
        "id": "TePyxiAXU8l-",
        "outputId": "8918111b-7f3d-4958-b422-98848f8b3756"
      },
      "execution_count": null,
      "outputs": [
        {
          "output_type": "execute_result",
          "data": {
            "text/plain": [
              "torch.Size([1, 90])"
            ]
          },
          "metadata": {},
          "execution_count": 94
        }
      ]
    },
    {
      "cell_type": "markdown",
      "source": [
        "# **GPT2LMHeadModel in tensorflow for QA task**"
      ],
      "metadata": {
        "id": "isiCNe7sVfFN"
      }
    },
    {
      "cell_type": "code",
      "source": [
        "from transformers import TFGPT2LMHeadModel, GPT2Tokenizer\n",
        "import json\n",
        "import numpy as np\n",
        "import tensorflow as tf\n"
      ],
      "metadata": {
        "id": "BVE-WwDvVkK-"
      },
      "execution_count": null,
      "outputs": []
    },
    {
      "cell_type": "code",
      "source": [
        "# Load model\n",
        "tokenizer = GPT2Tokenizer.from_pretrained('gpt2')\n",
        "model = TFGPT2LMHeadModel.from_pretrained('gpt2')"
      ],
      "metadata": {
        "id": "PWYh7f-4WUzE"
      },
      "execution_count": null,
      "outputs": []
    },
    {
      "cell_type": "code",
      "source": [
        "model.summary()"
      ],
      "metadata": {
        "colab": {
          "base_uri": "https://localhost:8080/"
        },
        "id": "irYTAEjtWttR",
        "outputId": "bdcf2e86-e0da-4e6d-97a4-82bcfb3e1f87"
      },
      "execution_count": null,
      "outputs": [
        {
          "output_type": "stream",
          "name": "stdout",
          "text": [
            "Model: \"tfgpt2lm_head_model\"\n",
            "_________________________________________________________________\n",
            " Layer (type)                Output Shape              Param #   \n",
            "=================================================================\n",
            " transformer (TFGPT2MainLay  multiple                  124439808 \n",
            " er)                                                             \n",
            "                                                                 \n",
            "=================================================================\n",
            "Total params: 124439808 (474.70 MB)\n",
            "Trainable params: 124439808 (474.70 MB)\n",
            "Non-trainable params: 0 (0.00 Byte)\n",
            "_________________________________________________________________\n"
          ]
        }
      ]
    },
    {
      "cell_type": "code",
      "source": [
        "# Load the data\n",
        "with open('intents.json') as file:\n",
        "    data = json.load(file)\n",
        "items = []\n",
        "for intent in data['intents']:\n",
        "    for patterns in intent['patterns']:\n",
        "        for responses in intent['responses']:\n",
        "            items.append((patterns, responses))\n",
        "\n",
        "items[:10]"
      ],
      "metadata": {
        "colab": {
          "base_uri": "https://localhost:8080/"
        },
        "id": "2lMqATRpWyCn",
        "outputId": "16b33462-5873-4b47-ef26-64961ff6bcb4"
      },
      "execution_count": null,
      "outputs": [
        {
          "output_type": "execute_result",
          "data": {
            "text/plain": [
              "[('Hi there', 'Hello, thanks for asking'),\n",
              " ('Hi there', 'Good to see you again'),\n",
              " ('Hi there', 'Hi there, how can I help?'),\n",
              " ('How are you', 'Hello, thanks for asking'),\n",
              " ('How are you', 'Good to see you again'),\n",
              " ('How are you', 'Hi there, how can I help?'),\n",
              " ('Is anyone there?', 'Hello, thanks for asking'),\n",
              " ('Is anyone there?', 'Good to see you again'),\n",
              " ('Is anyone there?', 'Hi there, how can I help?'),\n",
              " ('Hey', 'Hello, thanks for asking')]"
            ]
          },
          "metadata": {},
          "execution_count": 100
        }
      ]
    },
    {
      "cell_type": "code",
      "source": [
        "# Create question list as input_ids and answer list as output_ids\n",
        "input_ids = []\n",
        "output_ids = []\n",
        "for item in items:\n",
        "    input_ids.append(item[0])\n",
        "    output_ids.append(item[1])\n"
      ],
      "metadata": {
        "id": "qkFADHJ_XZQJ"
      },
      "execution_count": null,
      "outputs": []
    },
    {
      "cell_type": "code",
      "source": [
        "input_ids[:10]"
      ],
      "metadata": {
        "colab": {
          "base_uri": "https://localhost:8080/"
        },
        "id": "N5AGE6EFXqJ7",
        "outputId": "e3b7245c-f152-45d3-e069-24c85c31b602"
      },
      "execution_count": null,
      "outputs": [
        {
          "output_type": "execute_result",
          "data": {
            "text/plain": [
              "['Hi there',\n",
              " 'Hi there',\n",
              " 'Hi there',\n",
              " 'How are you',\n",
              " 'How are you',\n",
              " 'How are you',\n",
              " 'Is anyone there?',\n",
              " 'Is anyone there?',\n",
              " 'Is anyone there?',\n",
              " 'Hey']"
            ]
          },
          "metadata": {},
          "execution_count": 105
        }
      ]
    },
    {
      "cell_type": "code",
      "source": [
        "output_ids[:10]"
      ],
      "metadata": {
        "colab": {
          "base_uri": "https://localhost:8080/"
        },
        "id": "yD4zqQMlXqyx",
        "outputId": "6fdd4990-16a0-40dc-d1e7-29fd52148f13"
      },
      "execution_count": null,
      "outputs": [
        {
          "output_type": "execute_result",
          "data": {
            "text/plain": [
              "['Hello, thanks for asking',\n",
              " 'Good to see you again',\n",
              " 'Hi there, how can I help?',\n",
              " 'Hello, thanks for asking',\n",
              " 'Good to see you again',\n",
              " 'Hi there, how can I help?',\n",
              " 'Hello, thanks for asking',\n",
              " 'Good to see you again',\n",
              " 'Hi there, how can I help?',\n",
              " 'Hello, thanks for asking']"
            ]
          },
          "metadata": {},
          "execution_count": 106
        }
      ]
    },
    {
      "cell_type": "code",
      "source": [
        "tokenizer.pad_token = tokenizer.eos_token\n",
        "input_ids = tokenizer.batch_encode_plus(input_ids, return_tensors='tf', padding='max_length', max_length=20)[\"input_ids\"]\n",
        "output_ids = tokenizer.batch_encode_plus(output_ids, return_tensors='tf', padding='max_length', max_length=20)[\"input_ids\"]"
      ],
      "metadata": {
        "id": "oB1HqOH7X745"
      },
      "execution_count": null,
      "outputs": []
    },
    {
      "cell_type": "code",
      "source": [
        "input_ids"
      ],
      "metadata": {
        "colab": {
          "base_uri": "https://localhost:8080/"
        },
        "id": "ToBC4cIYYQar",
        "outputId": "34bd81e7-2c8a-4d9e-fc39-2a963526dae0"
      },
      "execution_count": null,
      "outputs": [
        {
          "output_type": "execute_result",
          "data": {
            "text/plain": [
              "<tf.Tensor: shape=(91, 20), dtype=int32, numpy=\n",
              "array([[17250,   612, 50256, ..., 50256, 50256, 50256],\n",
              "       [17250,   612, 50256, ..., 50256, 50256, 50256],\n",
              "       [17250,   612, 50256, ..., 50256, 50256, 50256],\n",
              "       ...,\n",
              "       [   40,   765,   284, ..., 50256, 50256, 50256],\n",
              "       [   39,  3531, 35847, ..., 50256, 50256, 50256],\n",
              "       [15784,   510,  4436, ..., 50256, 50256, 50256]], dtype=int32)>"
            ]
          },
          "metadata": {},
          "execution_count": 108
        }
      ]
    },
    {
      "cell_type": "code",
      "source": [
        "output_ids"
      ],
      "metadata": {
        "colab": {
          "base_uri": "https://localhost:8080/"
        },
        "id": "qDywp-5qYTmC",
        "outputId": "ada96073-78ac-4077-989e-c64acff7fddb"
      },
      "execution_count": null,
      "outputs": [
        {
          "output_type": "execute_result",
          "data": {
            "text/plain": [
              "<tf.Tensor: shape=(91, 20), dtype=int32, numpy=\n",
              "array([[15496,    11,  5176, ..., 50256, 50256, 50256],\n",
              "       [10248,   284,   766, ..., 50256, 50256, 50256],\n",
              "       [17250,   612,    11, ..., 50256, 50256, 50256],\n",
              "       ...,\n",
              "       [ 5492,  2148,  4436, ..., 50256, 50256, 50256],\n",
              "       [ 5492,  2148,  4436, ..., 50256, 50256, 50256],\n",
              "       [ 5492,  2148,  4436, ..., 50256, 50256, 50256]], dtype=int32)>"
            ]
          },
          "metadata": {},
          "execution_count": 109
        }
      ]
    },
    {
      "cell_type": "code",
      "source": [
        "# Create a Data Generator\n",
        "class CustomDataGenerator(tf.keras.utils.Sequence):\n",
        "    def __init__(self, input_ids, output_ids, batch_size, shuffle=True):\n",
        "        self.input_ids = input_ids\n",
        "        self.output_ids = output_ids\n",
        "        self.batch_size = batch_size\n",
        "        self.shuffle = shuffle\n",
        "        self.indices = np.arange(len(input_ids))\n",
        "        if self.shuffle:\n",
        "            np.random.shuffle(self.indices)\n",
        "\n",
        "    def __len__(self):\n",
        "        return int(np.ceil(len(self.input_ids) / self.batch_size))\n",
        "\n",
        "    def __getitem__(self, index):\n",
        "        batch_indices = self.indices[index * self.batch_size:(index + 1) * self.batch_size]\n",
        "        batch_input_ids = self.input_ids[batch_indices]\n",
        "        batch_output_ids = self.output_ids[batch_indices]\n",
        "\n",
        "        return (batch_input_ids, batch_output_ids)\n",
        "\n",
        "    def on_epoch_end(self):\n",
        "        if self.shuffle:\n",
        "            np.random.shuffle(self.indices)\n",
        "\n",
        "data_generator = CustomDataGenerator(input_ids, output_ids, 16)"
      ],
      "metadata": {
        "id": "9mTrpbqiYmEQ"
      },
      "execution_count": null,
      "outputs": []
    },
    {
      "cell_type": "code",
      "source": [
        "# Define training parameters\n",
        "num_epochs = 1\n",
        "optimizer = tf.keras.optimizers.Adam(learning_rate=5e-5)\n",
        "learning_rate = tf.keras.optimizers.schedules.PolynomialDecay(\n",
        "    5e-4,\n",
        "    decay_steps=len(data_generator) * num_epochs,\n",
        "    end_learning_rate=0.0,\n",
        ")\n",
        "loss = tf.keras.losses.SparseCategoricalCrossentropy(from_logits=True)\n",
        "model.compile(\n",
        "    optimizer=tf.keras.optimizers.Adam(learning_rate),\n",
        "    loss=loss,\n",
        "    weighted_metrics=[\"accuracy\"],\n",
        ")"
      ],
      "metadata": {
        "id": "9ZbK2k5BZI1p"
      },
      "execution_count": null,
      "outputs": []
    },
    {
      "cell_type": "code",
      "source": [
        "# Train model\n",
        "model.fit(input_ids, output_ids, batch_size=16, epochs=num_epochs)\n",
        "\n",
        "# save the model\n",
        "model.save_pretrained('chatbot_model')"
      ],
      "metadata": {
        "colab": {
          "base_uri": "https://localhost:8080/"
        },
        "id": "VuBbwyTtZZHE",
        "outputId": "e6681c8b-a3b3-4d55-8ab8-31a0f9767c40"
      },
      "execution_count": null,
      "outputs": [
        {
          "output_type": "stream",
          "name": "stdout",
          "text": [
            "6/6 [==============================] - 87s 8s/step - loss: 5.2555 - accuracy: 0.5077\n"
          ]
        }
      ]
    },
    {
      "cell_type": "code",
      "source": [
        "# Load the saved model\n",
        "tokenizer = GPT2Tokenizer.from_pretrained(\"gpt2\", padding_side=\"left\")\n",
        "#model = TFGPT2LMHeadModel.from_pretrained(\"chatbot_model\")\n",
        "tokenizer.pad_token = tokenizer.eos_token"
      ],
      "metadata": {
        "id": "9tjYu9HBZi-U"
      },
      "execution_count": null,
      "outputs": []
    },
    {
      "cell_type": "code",
      "source": [
        "# Create the bot\n",
        "def test():\n",
        "    while True:\n",
        "        input_text = input(\"User: \")\n",
        "        input_ids = tokenizer.batch_encode_plus([input_text], return_tensors='tf', padding='max_length', max_length=20)[\"input_ids\"]\n",
        "\n",
        "        # Calculate the maximum length for generation based on the length of input_ids\n",
        "\n",
        "\n",
        "        output_ids = model.generate(input_ids, max_length=100, num_return_sequences=1, no_repeat_ngram_size=2, top_k=50, top_p=0.95, pad_token_id=tokenizer.pad_token_id, eos_token_id=tokenizer.eos_token_id, do_sample=True)\n",
        "\n",
        "\n",
        "        output_text = tokenizer.decode(output_ids[0], skip_special_tokens=True)\n",
        "        print(\"Bot:\", output_text)"
      ],
      "metadata": {
        "id": "7IpJcnPnaHQZ"
      },
      "execution_count": null,
      "outputs": []
    },
    {
      "cell_type": "code",
      "source": [
        "test()"
      ],
      "metadata": {
        "colab": {
          "base_uri": "https://localhost:8080/",
          "height": 413
        },
        "id": "xd5fJexRaXwF",
        "outputId": "2c55a32a-d83c-4a6c-cee5-c3acf6f0339a"
      },
      "execution_count": null,
      "outputs": [
        {
          "output_type": "stream",
          "name": "stdout",
          "text": [
            "User: what is football?\n",
            "Bot: what is football?\n",
            "\n",
            "Football is the game of football, a game that players play as a team. Football has a certain level of respectability that makes you feel respected. In sports, however, football is not as easy to play when your team is on the offensive. It is a physical affair, and it can be difficult to have a positive reaction to it. Players are always playing with their bodies or in\n"
          ]
        },
        {
          "output_type": "error",
          "ename": "KeyboardInterrupt",
          "evalue": "ignored",
          "traceback": [
            "\u001b[0;31m---------------------------------------------------------------------------\u001b[0m",
            "\u001b[0;31mKeyboardInterrupt\u001b[0m                         Traceback (most recent call last)",
            "\u001b[0;32m<ipython-input-146-fbd55f77ab7c>\u001b[0m in \u001b[0;36m<cell line: 1>\u001b[0;34m()\u001b[0m\n\u001b[0;32m----> 1\u001b[0;31m \u001b[0mtest\u001b[0m\u001b[0;34m(\u001b[0m\u001b[0;34m)\u001b[0m\u001b[0;34m\u001b[0m\u001b[0;34m\u001b[0m\u001b[0m\n\u001b[0m",
            "\u001b[0;32m<ipython-input-143-ede34999bce0>\u001b[0m in \u001b[0;36mtest\u001b[0;34m()\u001b[0m\n\u001b[1;32m      2\u001b[0m \u001b[0;32mdef\u001b[0m \u001b[0mtest\u001b[0m\u001b[0;34m(\u001b[0m\u001b[0;34m)\u001b[0m\u001b[0;34m:\u001b[0m\u001b[0;34m\u001b[0m\u001b[0;34m\u001b[0m\u001b[0m\n\u001b[1;32m      3\u001b[0m     \u001b[0;32mwhile\u001b[0m \u001b[0;32mTrue\u001b[0m\u001b[0;34m:\u001b[0m\u001b[0;34m\u001b[0m\u001b[0;34m\u001b[0m\u001b[0m\n\u001b[0;32m----> 4\u001b[0;31m         \u001b[0minput_text\u001b[0m \u001b[0;34m=\u001b[0m \u001b[0minput\u001b[0m\u001b[0;34m(\u001b[0m\u001b[0;34m\"User: \"\u001b[0m\u001b[0;34m)\u001b[0m\u001b[0;34m\u001b[0m\u001b[0;34m\u001b[0m\u001b[0m\n\u001b[0m\u001b[1;32m      5\u001b[0m         \u001b[0minput_ids\u001b[0m \u001b[0;34m=\u001b[0m \u001b[0mtokenizer\u001b[0m\u001b[0;34m.\u001b[0m\u001b[0mbatch_encode_plus\u001b[0m\u001b[0;34m(\u001b[0m\u001b[0;34m[\u001b[0m\u001b[0minput_text\u001b[0m\u001b[0;34m]\u001b[0m\u001b[0;34m,\u001b[0m \u001b[0mreturn_tensors\u001b[0m\u001b[0;34m=\u001b[0m\u001b[0;34m'tf'\u001b[0m\u001b[0;34m,\u001b[0m \u001b[0mpadding\u001b[0m\u001b[0;34m=\u001b[0m\u001b[0;34m'max_length'\u001b[0m\u001b[0;34m,\u001b[0m \u001b[0mmax_length\u001b[0m\u001b[0;34m=\u001b[0m\u001b[0;36m20\u001b[0m\u001b[0;34m)\u001b[0m\u001b[0;34m[\u001b[0m\u001b[0;34m\"input_ids\"\u001b[0m\u001b[0;34m]\u001b[0m\u001b[0;34m\u001b[0m\u001b[0;34m\u001b[0m\u001b[0m\n\u001b[1;32m      6\u001b[0m \u001b[0;34m\u001b[0m\u001b[0m\n",
            "\u001b[0;32m/usr/local/lib/python3.10/dist-packages/ipykernel/kernelbase.py\u001b[0m in \u001b[0;36mraw_input\u001b[0;34m(self, prompt)\u001b[0m\n\u001b[1;32m    849\u001b[0m                 \u001b[0;34m\"raw_input was called, but this frontend does not support input requests.\"\u001b[0m\u001b[0;34m\u001b[0m\u001b[0;34m\u001b[0m\u001b[0m\n\u001b[1;32m    850\u001b[0m             )\n\u001b[0;32m--> 851\u001b[0;31m         return self._input_request(str(prompt),\n\u001b[0m\u001b[1;32m    852\u001b[0m             \u001b[0mself\u001b[0m\u001b[0;34m.\u001b[0m\u001b[0m_parent_ident\u001b[0m\u001b[0;34m,\u001b[0m\u001b[0;34m\u001b[0m\u001b[0;34m\u001b[0m\u001b[0m\n\u001b[1;32m    853\u001b[0m             \u001b[0mself\u001b[0m\u001b[0;34m.\u001b[0m\u001b[0m_parent_header\u001b[0m\u001b[0;34m,\u001b[0m\u001b[0;34m\u001b[0m\u001b[0;34m\u001b[0m\u001b[0m\n",
            "\u001b[0;32m/usr/local/lib/python3.10/dist-packages/ipykernel/kernelbase.py\u001b[0m in \u001b[0;36m_input_request\u001b[0;34m(self, prompt, ident, parent, password)\u001b[0m\n\u001b[1;32m    893\u001b[0m             \u001b[0;32mexcept\u001b[0m \u001b[0mKeyboardInterrupt\u001b[0m\u001b[0;34m:\u001b[0m\u001b[0;34m\u001b[0m\u001b[0;34m\u001b[0m\u001b[0m\n\u001b[1;32m    894\u001b[0m                 \u001b[0;31m# re-raise KeyboardInterrupt, to truncate traceback\u001b[0m\u001b[0;34m\u001b[0m\u001b[0;34m\u001b[0m\u001b[0m\n\u001b[0;32m--> 895\u001b[0;31m                 \u001b[0;32mraise\u001b[0m \u001b[0mKeyboardInterrupt\u001b[0m\u001b[0;34m(\u001b[0m\u001b[0;34m\"Interrupted by user\"\u001b[0m\u001b[0;34m)\u001b[0m \u001b[0;32mfrom\u001b[0m \u001b[0;32mNone\u001b[0m\u001b[0;34m\u001b[0m\u001b[0;34m\u001b[0m\u001b[0m\n\u001b[0m\u001b[1;32m    896\u001b[0m             \u001b[0;32mexcept\u001b[0m \u001b[0mException\u001b[0m \u001b[0;32mas\u001b[0m \u001b[0me\u001b[0m\u001b[0;34m:\u001b[0m\u001b[0;34m\u001b[0m\u001b[0;34m\u001b[0m\u001b[0m\n\u001b[1;32m    897\u001b[0m                 \u001b[0mself\u001b[0m\u001b[0;34m.\u001b[0m\u001b[0mlog\u001b[0m\u001b[0;34m.\u001b[0m\u001b[0mwarning\u001b[0m\u001b[0;34m(\u001b[0m\u001b[0;34m\"Invalid Message:\"\u001b[0m\u001b[0;34m,\u001b[0m \u001b[0mexc_info\u001b[0m\u001b[0;34m=\u001b[0m\u001b[0;32mTrue\u001b[0m\u001b[0;34m)\u001b[0m\u001b[0;34m\u001b[0m\u001b[0;34m\u001b[0m\u001b[0m\n",
            "\u001b[0;31mKeyboardInterrupt\u001b[0m: Interrupted by user"
          ]
        }
      ]
    },
    {
      "cell_type": "markdown",
      "source": [
        "# **Fine-tuning GPT-2 with KerasNLP is the easiest way**"
      ],
      "metadata": {
        "id": "RB9l-0kMc8J3"
      }
    },
    {
      "cell_type": "code",
      "source": [
        "# Install keras 3\n",
        "! pip install keras --upgrade"
      ],
      "metadata": {
        "id": "mAt68NuJiwG7"
      },
      "execution_count": null,
      "outputs": []
    },
    {
      "cell_type": "code",
      "source": [
        "# Install keras for nlp and keras for cv\n",
        "!pip install keras-cv\n",
        "!pip install keras-nlp"
      ],
      "metadata": {
        "colab": {
          "base_uri": "https://localhost:8080/"
        },
        "id": "uA00x5ZZjEGT",
        "outputId": "5f79dacd-269b-468d-e606-5fa03df77828"
      },
      "execution_count": null,
      "outputs": [
        {
          "output_type": "stream",
          "name": "stdout",
          "text": [
            "Successfully installed keras-2.15.0 keras-nlp-0.6.3 tensorboard-2.15.1 tensorflow-2.15.0.post1 tensorflow-estimator-2.15.0 tensorflow-text-2.15.0\n"
          ]
        }
      ]
    },
    {
      "cell_type": "code",
      "source": [
        "import os\n",
        "os.environ[\"KERAS_BACKEND\"] = \"jax\"  # or \"tensorflow\" or \"torch\"\n",
        "import keras_nlp\n",
        "import tensorflow as tf\n",
        "import keras_core as keras\n",
        "import time"
      ],
      "metadata": {
        "colab": {
          "base_uri": "https://localhost:8080/"
        },
        "id": "-f7_1_bygyq2",
        "outputId": "3ff87445-f940-4521-823e-58356bd37daf"
      },
      "execution_count": null,
      "outputs": [
        {
          "output_type": "stream",
          "name": "stdout",
          "text": [
            "Using JAX backend.\n"
          ]
        }
      ]
    },
    {
      "cell_type": "code",
      "source": [
        "# Load GPT and tokienizer\n",
        "preprocessor = keras_nlp.models.GPT2CausalLMPreprocessor.from_preset(\n",
        "    \"gpt2_base_en\",\n",
        "    sequence_length=128,\n",
        ")\n",
        "gpt2_lm = keras_nlp.models.GPT2CausalLM.from_preset(\n",
        "    \"gpt2_base_en\", preprocessor=preprocessor\n",
        ")"
      ],
      "metadata": {
        "colab": {
          "base_uri": "https://localhost:8080/"
        },
        "id": "gDiWUkchlUaj",
        "outputId": "81c331cb-2339-4d33-a124-f5102b214300"
      },
      "execution_count": null,
      "outputs": [
        {
          "output_type": "stream",
          "name": "stdout",
          "text": [
            "Downloading data from https://storage.googleapis.com/keras-nlp/models/gpt2_base_en/v1/vocab.json\n",
            "\u001b[1m1042301/1042301\u001b[0m \u001b[32m━━━━━━━━━━━━━━━━━━━━\u001b[0m\u001b[37m\u001b[0m \u001b[1m0s\u001b[0m 0us/step\n",
            "Downloading data from https://storage.googleapis.com/keras-nlp/models/gpt2_base_en/v1/merges.txt\n",
            "\u001b[1m456318/456318\u001b[0m \u001b[32m━━━━━━━━━━━━━━━━━━━━\u001b[0m\u001b[37m\u001b[0m \u001b[1m0s\u001b[0m 1us/step\n",
            "Downloading data from https://storage.googleapis.com/keras-nlp/models/gpt2_base_en/v1/model.h5\n",
            "\u001b[1m497986112/497986112\u001b[0m \u001b[32m━━━━━━━━━━━━━━━━━━━━\u001b[0m\u001b[37m\u001b[0m \u001b[1m17s\u001b[0m 0us/step\n"
          ]
        }
      ]
    },
    {
      "cell_type": "code",
      "source": [
        "gpt2_lm.summary()"
      ],
      "metadata": {
        "colab": {
          "base_uri": "https://localhost:8080/",
          "height": 402
        },
        "id": "1FT3RA_Glbrj",
        "outputId": "68884f74-9e48-4e5e-fed1-731ad60f51da"
      },
      "execution_count": null,
      "outputs": [
        {
          "output_type": "display_data",
          "data": {
            "text/plain": [
              "\u001b[1mPreprocessor: \"gpt2_causal_lm_preprocessor\"\u001b[0m\n"
            ],
            "text/html": [
              "<pre style=\"white-space:pre;overflow-x:auto;line-height:normal;font-family:Menlo,'DejaVu Sans Mono',consolas,'Courier New',monospace\"><span style=\"font-weight: bold\">Preprocessor: \"gpt2_causal_lm_preprocessor\"</span>\n",
              "</pre>\n"
            ]
          },
          "metadata": {}
        },
        {
          "output_type": "display_data",
          "data": {
            "text/plain": [
              "┏━━━━━━━━━━━━━━━━━━━━━━━━━━━━━━━━━━━━━━━━━━━━━━━━━━━━┳━━━━━━━━━━━━━━━━━━━━━━━━━━━━━━━━━━━━━━━━━━━━━━━━━━━━━┓\n",
              "┃\u001b[1m \u001b[0m\u001b[1mTokenizer (type)                                  \u001b[0m\u001b[1m \u001b[0m┃\u001b[1m \u001b[0m\u001b[1m                                            Vocab #\u001b[0m\u001b[1m \u001b[0m┃\n",
              "┡━━━━━━━━━━━━━━━━━━━━━━━━━━━━━━━━━━━━━━━━━━━━━━━━━━━━╇━━━━━━━━━━━━━━━━━━━━━━━━━━━━━━━━━━━━━━━━━━━━━━━━━━━━━┩\n",
              "│ gpt2_tokenizer (\u001b[38;5;33mGPT2Tokenizer\u001b[0m)                     │                                              \u001b[38;5;34m50,257\u001b[0m │\n",
              "└────────────────────────────────────────────────────┴─────────────────────────────────────────────────────┘\n"
            ],
            "text/html": [
              "<pre style=\"white-space:pre;overflow-x:auto;line-height:normal;font-family:Menlo,'DejaVu Sans Mono',consolas,'Courier New',monospace\">┏━━━━━━━━━━━━━━━━━━━━━━━━━━━━━━━━━━━━━━━━━━━━━━━━━━━━┳━━━━━━━━━━━━━━━━━━━━━━━━━━━━━━━━━━━━━━━━━━━━━━━━━━━━━┓\n",
              "┃<span style=\"font-weight: bold\"> Tokenizer (type)                                   </span>┃<span style=\"font-weight: bold\">                                             Vocab # </span>┃\n",
              "┡━━━━━━━━━━━━━━━━━━━━━━━━━━━━━━━━━━━━━━━━━━━━━━━━━━━━╇━━━━━━━━━━━━━━━━━━━━━━━━━━━━━━━━━━━━━━━━━━━━━━━━━━━━━┩\n",
              "│ gpt2_tokenizer (<span style=\"color: #0087ff; text-decoration-color: #0087ff\">GPT2Tokenizer</span>)                     │                                              <span style=\"color: #00af00; text-decoration-color: #00af00\">50,257</span> │\n",
              "└────────────────────────────────────────────────────┴─────────────────────────────────────────────────────┘\n",
              "</pre>\n"
            ]
          },
          "metadata": {}
        },
        {
          "output_type": "display_data",
          "data": {
            "text/plain": [
              "\u001b[1mModel: \"gpt2_causal_lm\"\u001b[0m\n"
            ],
            "text/html": [
              "<pre style=\"white-space:pre;overflow-x:auto;line-height:normal;font-family:Menlo,'DejaVu Sans Mono',consolas,'Courier New',monospace\"><span style=\"font-weight: bold\">Model: \"gpt2_causal_lm\"</span>\n",
              "</pre>\n"
            ]
          },
          "metadata": {}
        },
        {
          "output_type": "display_data",
          "data": {
            "text/plain": [
              "┏━━━━━━━━━━━━━━━━━━━━━━━━━━━━━━━┳━━━━━━━━━━━━━━━━━━━━━━━━━━━┳━━━━━━━━━━━━━┳━━━━━━━━━━━━━━━━━━━━━━━━━━━━━━━━┓\n",
              "┃\u001b[1m \u001b[0m\u001b[1mLayer (type)                 \u001b[0m\u001b[1m \u001b[0m┃\u001b[1m \u001b[0m\u001b[1mOutput Shape             \u001b[0m\u001b[1m \u001b[0m┃\u001b[1m \u001b[0m\u001b[1m    Param #\u001b[0m\u001b[1m \u001b[0m┃\u001b[1m \u001b[0m\u001b[1mConnected to                  \u001b[0m\u001b[1m \u001b[0m┃\n",
              "┡━━━━━━━━━━━━━━━━━━━━━━━━━━━━━━━╇━━━━━━━━━━━━━━━━━━━━━━━━━━━╇━━━━━━━━━━━━━╇━━━━━━━━━━━━━━━━━━━━━━━━━━━━━━━━┩\n",
              "│ padding_mask (\u001b[38;5;33mInputLayer\u001b[0m)     │ (\u001b[38;5;45mNone\u001b[0m, \u001b[38;5;45mNone\u001b[0m)              │           \u001b[38;5;34m0\u001b[0m │ -                              │\n",
              "├───────────────────────────────┼───────────────────────────┼─────────────┼────────────────────────────────┤\n",
              "│ token_ids (\u001b[38;5;33mInputLayer\u001b[0m)        │ (\u001b[38;5;45mNone\u001b[0m, \u001b[38;5;45mNone\u001b[0m)              │           \u001b[38;5;34m0\u001b[0m │ -                              │\n",
              "├───────────────────────────────┼───────────────────────────┼─────────────┼────────────────────────────────┤\n",
              "│ gpt2_backbone (\u001b[38;5;33mGPT2Backbone\u001b[0m)  │ (\u001b[38;5;45mNone\u001b[0m, \u001b[38;5;45mNone\u001b[0m, \u001b[38;5;34m768\u001b[0m)         │ \u001b[38;5;34m124,439,808\u001b[0m │ padding_mask[\u001b[38;5;34m0\u001b[0m][\u001b[38;5;34m0\u001b[0m],            │\n",
              "│                               │                           │             │ token_ids[\u001b[38;5;34m0\u001b[0m][\u001b[38;5;34m0\u001b[0m]                │\n",
              "├───────────────────────────────┼───────────────────────────┼─────────────┼────────────────────────────────┤\n",
              "│ token_embedding               │ (\u001b[38;5;45mNone\u001b[0m, \u001b[38;5;45mNone\u001b[0m, \u001b[38;5;34m50257\u001b[0m)       │  \u001b[38;5;34m38,597,376\u001b[0m │ gpt2_backbone[\u001b[38;5;34m0\u001b[0m][\u001b[38;5;34m0\u001b[0m]            │\n",
              "│ (\u001b[38;5;33mReversibleEmbedding\u001b[0m)         │                           │             │                                │\n",
              "└───────────────────────────────┴───────────────────────────┴─────────────┴────────────────────────────────┘\n"
            ],
            "text/html": [
              "<pre style=\"white-space:pre;overflow-x:auto;line-height:normal;font-family:Menlo,'DejaVu Sans Mono',consolas,'Courier New',monospace\">┏━━━━━━━━━━━━━━━━━━━━━━━━━━━━━━━┳━━━━━━━━━━━━━━━━━━━━━━━━━━━┳━━━━━━━━━━━━━┳━━━━━━━━━━━━━━━━━━━━━━━━━━━━━━━━┓\n",
              "┃<span style=\"font-weight: bold\"> Layer (type)                  </span>┃<span style=\"font-weight: bold\"> Output Shape              </span>┃<span style=\"font-weight: bold\">     Param # </span>┃<span style=\"font-weight: bold\"> Connected to                   </span>┃\n",
              "┡━━━━━━━━━━━━━━━━━━━━━━━━━━━━━━━╇━━━━━━━━━━━━━━━━━━━━━━━━━━━╇━━━━━━━━━━━━━╇━━━━━━━━━━━━━━━━━━━━━━━━━━━━━━━━┩\n",
              "│ padding_mask (<span style=\"color: #0087ff; text-decoration-color: #0087ff\">InputLayer</span>)     │ (<span style=\"color: #00d7ff; text-decoration-color: #00d7ff\">None</span>, <span style=\"color: #00d7ff; text-decoration-color: #00d7ff\">None</span>)              │           <span style=\"color: #00af00; text-decoration-color: #00af00\">0</span> │ -                              │\n",
              "├───────────────────────────────┼───────────────────────────┼─────────────┼────────────────────────────────┤\n",
              "│ token_ids (<span style=\"color: #0087ff; text-decoration-color: #0087ff\">InputLayer</span>)        │ (<span style=\"color: #00d7ff; text-decoration-color: #00d7ff\">None</span>, <span style=\"color: #00d7ff; text-decoration-color: #00d7ff\">None</span>)              │           <span style=\"color: #00af00; text-decoration-color: #00af00\">0</span> │ -                              │\n",
              "├───────────────────────────────┼───────────────────────────┼─────────────┼────────────────────────────────┤\n",
              "│ gpt2_backbone (<span style=\"color: #0087ff; text-decoration-color: #0087ff\">GPT2Backbone</span>)  │ (<span style=\"color: #00d7ff; text-decoration-color: #00d7ff\">None</span>, <span style=\"color: #00d7ff; text-decoration-color: #00d7ff\">None</span>, <span style=\"color: #00af00; text-decoration-color: #00af00\">768</span>)         │ <span style=\"color: #00af00; text-decoration-color: #00af00\">124,439,808</span> │ padding_mask[<span style=\"color: #00af00; text-decoration-color: #00af00\">0</span>][<span style=\"color: #00af00; text-decoration-color: #00af00\">0</span>],            │\n",
              "│                               │                           │             │ token_ids[<span style=\"color: #00af00; text-decoration-color: #00af00\">0</span>][<span style=\"color: #00af00; text-decoration-color: #00af00\">0</span>]                │\n",
              "├───────────────────────────────┼───────────────────────────┼─────────────┼────────────────────────────────┤\n",
              "│ token_embedding               │ (<span style=\"color: #00d7ff; text-decoration-color: #00d7ff\">None</span>, <span style=\"color: #00d7ff; text-decoration-color: #00d7ff\">None</span>, <span style=\"color: #00af00; text-decoration-color: #00af00\">50257</span>)       │  <span style=\"color: #00af00; text-decoration-color: #00af00\">38,597,376</span> │ gpt2_backbone[<span style=\"color: #00af00; text-decoration-color: #00af00\">0</span>][<span style=\"color: #00af00; text-decoration-color: #00af00\">0</span>]            │\n",
              "│ (<span style=\"color: #0087ff; text-decoration-color: #0087ff\">ReversibleEmbedding</span>)         │                           │             │                                │\n",
              "└───────────────────────────────┴───────────────────────────┴─────────────┴────────────────────────────────┘\n",
              "</pre>\n"
            ]
          },
          "metadata": {}
        },
        {
          "output_type": "display_data",
          "data": {
            "text/plain": [
              "\u001b[1m Total params: \u001b[0m\u001b[38;5;34m124,439,808\u001b[0m (474.70 MB)\n"
            ],
            "text/html": [
              "<pre style=\"white-space:pre;overflow-x:auto;line-height:normal;font-family:Menlo,'DejaVu Sans Mono',consolas,'Courier New',monospace\"><span style=\"font-weight: bold\"> Total params: </span><span style=\"color: #00af00; text-decoration-color: #00af00\">124,439,808</span> (474.70 MB)\n",
              "</pre>\n"
            ]
          },
          "metadata": {}
        },
        {
          "output_type": "display_data",
          "data": {
            "text/plain": [
              "\u001b[1m Trainable params: \u001b[0m\u001b[38;5;34m124,439,808\u001b[0m (474.70 MB)\n"
            ],
            "text/html": [
              "<pre style=\"white-space:pre;overflow-x:auto;line-height:normal;font-family:Menlo,'DejaVu Sans Mono',consolas,'Courier New',monospace\"><span style=\"font-weight: bold\"> Trainable params: </span><span style=\"color: #00af00; text-decoration-color: #00af00\">124,439,808</span> (474.70 MB)\n",
              "</pre>\n"
            ]
          },
          "metadata": {}
        },
        {
          "output_type": "display_data",
          "data": {
            "text/plain": [
              "\u001b[1m Non-trainable params: \u001b[0m\u001b[38;5;34m0\u001b[0m (0.00 B)\n"
            ],
            "text/html": [
              "<pre style=\"white-space:pre;overflow-x:auto;line-height:normal;font-family:Menlo,'DejaVu Sans Mono',consolas,'Courier New',monospace\"><span style=\"font-weight: bold\"> Non-trainable params: </span><span style=\"color: #00af00; text-decoration-color: #00af00\">0</span> (0.00 B)\n",
              "</pre>\n"
            ]
          },
          "metadata": {}
        }
      ]
    },
    {
      "cell_type": "code",
      "source": [
        "# Backbone decoder\n",
        "backbone_decoder = keras_nlp.models.GPT2Backbone.from_preset(\"gpt2_base_en\")\n",
        "backbone_decoder.summary()"
      ],
      "metadata": {
        "colab": {
          "base_uri": "https://localhost:8080/",
          "height": 1000
        },
        "id": "YjldUnkTmIS3",
        "outputId": "88e8ef70-d1a8-4d94-b625-ca351cc30c80"
      },
      "execution_count": null,
      "outputs": [
        {
          "output_type": "display_data",
          "data": {
            "text/plain": [
              "\u001b[1mModel: \"gpt2_backbone_1\"\u001b[0m\n"
            ],
            "text/html": [
              "<pre style=\"white-space:pre;overflow-x:auto;line-height:normal;font-family:Menlo,'DejaVu Sans Mono',consolas,'Courier New',monospace\"><span style=\"font-weight: bold\">Model: \"gpt2_backbone_1\"</span>\n",
              "</pre>\n"
            ]
          },
          "metadata": {}
        },
        {
          "output_type": "display_data",
          "data": {
            "text/plain": [
              "┏━━━━━━━━━━━━━━━━━━━━━━━━━━━┳━━━━━━━━━━━━━━━━━━━━━━━━┳━━━━━━━━━━━━┳━━━━━━━━━━━━━━━━━━━━━━━━━━━━┓\n",
              "┃\u001b[1m \u001b[0m\u001b[1mLayer (type)             \u001b[0m\u001b[1m \u001b[0m┃\u001b[1m \u001b[0m\u001b[1mOutput Shape          \u001b[0m\u001b[1m \u001b[0m┃\u001b[1m \u001b[0m\u001b[1m   Param #\u001b[0m\u001b[1m \u001b[0m┃\u001b[1m \u001b[0m\u001b[1mConnected to              \u001b[0m\u001b[1m \u001b[0m┃\n",
              "┡━━━━━━━━━━━━━━━━━━━━━━━━━━━╇━━━━━━━━━━━━━━━━━━━━━━━━╇━━━━━━━━━━━━╇━━━━━━━━━━━━━━━━━━━━━━━━━━━━┩\n",
              "│ token_ids (\u001b[38;5;33mInputLayer\u001b[0m)    │ (\u001b[38;5;45mNone\u001b[0m, \u001b[38;5;45mNone\u001b[0m)           │          \u001b[38;5;34m0\u001b[0m │ -                          │\n",
              "├───────────────────────────┼────────────────────────┼────────────┼────────────────────────────┤\n",
              "│ token_embedding           │ (\u001b[38;5;45mNone\u001b[0m, \u001b[38;5;45mNone\u001b[0m, \u001b[38;5;34m768\u001b[0m)      │ \u001b[38;5;34m38,597,376\u001b[0m │ token_ids[\u001b[38;5;34m0\u001b[0m][\u001b[38;5;34m0\u001b[0m]            │\n",
              "│ (\u001b[38;5;33mReversibleEmbedding\u001b[0m)     │                        │            │                            │\n",
              "├───────────────────────────┼────────────────────────┼────────────┼────────────────────────────┤\n",
              "│ position_embedding        │ (\u001b[38;5;45mNone\u001b[0m, \u001b[38;5;45mNone\u001b[0m, \u001b[38;5;34m768\u001b[0m)      │    \u001b[38;5;34m786,432\u001b[0m │ token_embedding[\u001b[38;5;34m0\u001b[0m][\u001b[38;5;34m0\u001b[0m]      │\n",
              "│ (\u001b[38;5;33mPositionEmbedding\u001b[0m)       │                        │            │                            │\n",
              "├───────────────────────────┼────────────────────────┼────────────┼────────────────────────────┤\n",
              "│ embeddings_add (\u001b[38;5;33mAdd\u001b[0m)      │ (\u001b[38;5;45mNone\u001b[0m, \u001b[38;5;45mNone\u001b[0m, \u001b[38;5;34m768\u001b[0m)      │          \u001b[38;5;34m0\u001b[0m │ token_embedding[\u001b[38;5;34m0\u001b[0m][\u001b[38;5;34m0\u001b[0m],     │\n",
              "│                           │                        │            │ position_embedding[\u001b[38;5;34m0\u001b[0m][\u001b[38;5;34m0\u001b[0m]   │\n",
              "├───────────────────────────┼────────────────────────┼────────────┼────────────────────────────┤\n",
              "│ embeddings_dropout        │ (\u001b[38;5;45mNone\u001b[0m, \u001b[38;5;45mNone\u001b[0m, \u001b[38;5;34m768\u001b[0m)      │          \u001b[38;5;34m0\u001b[0m │ embeddings_add[\u001b[38;5;34m0\u001b[0m][\u001b[38;5;34m0\u001b[0m]       │\n",
              "│ (\u001b[38;5;33mDropout\u001b[0m)                 │                        │            │                            │\n",
              "├───────────────────────────┼────────────────────────┼────────────┼────────────────────────────┤\n",
              "│ padding_mask (\u001b[38;5;33mInputLayer\u001b[0m) │ (\u001b[38;5;45mNone\u001b[0m, \u001b[38;5;45mNone\u001b[0m)           │          \u001b[38;5;34m0\u001b[0m │ -                          │\n",
              "├───────────────────────────┼────────────────────────┼────────────┼────────────────────────────┤\n",
              "│ transformer_layer_0       │ (\u001b[38;5;45mNone\u001b[0m, \u001b[38;5;45mNone\u001b[0m, \u001b[38;5;34m768\u001b[0m)      │  \u001b[38;5;34m7,087,872\u001b[0m │ embeddings_dropout[\u001b[38;5;34m0\u001b[0m][\u001b[38;5;34m0\u001b[0m],  │\n",
              "│ (\u001b[38;5;33mTransformerDecoder\u001b[0m)      │                        │            │ padding_mask[\u001b[38;5;34m0\u001b[0m][\u001b[38;5;34m0\u001b[0m]         │\n",
              "├───────────────────────────┼────────────────────────┼────────────┼────────────────────────────┤\n",
              "│ transformer_layer_1       │ (\u001b[38;5;45mNone\u001b[0m, \u001b[38;5;45mNone\u001b[0m, \u001b[38;5;34m768\u001b[0m)      │  \u001b[38;5;34m7,087,872\u001b[0m │ transformer_layer_0[\u001b[38;5;34m0\u001b[0m][\u001b[38;5;34m0\u001b[0m], │\n",
              "│ (\u001b[38;5;33mTransformerDecoder\u001b[0m)      │                        │            │ padding_mask[\u001b[38;5;34m0\u001b[0m][\u001b[38;5;34m0\u001b[0m]         │\n",
              "├───────────────────────────┼────────────────────────┼────────────┼────────────────────────────┤\n",
              "│ transformer_layer_2       │ (\u001b[38;5;45mNone\u001b[0m, \u001b[38;5;45mNone\u001b[0m, \u001b[38;5;34m768\u001b[0m)      │  \u001b[38;5;34m7,087,872\u001b[0m │ transformer_layer_1[\u001b[38;5;34m0\u001b[0m][\u001b[38;5;34m0\u001b[0m], │\n",
              "│ (\u001b[38;5;33mTransformerDecoder\u001b[0m)      │                        │            │ padding_mask[\u001b[38;5;34m0\u001b[0m][\u001b[38;5;34m0\u001b[0m]         │\n",
              "├───────────────────────────┼────────────────────────┼────────────┼────────────────────────────┤\n",
              "│ transformer_layer_3       │ (\u001b[38;5;45mNone\u001b[0m, \u001b[38;5;45mNone\u001b[0m, \u001b[38;5;34m768\u001b[0m)      │  \u001b[38;5;34m7,087,872\u001b[0m │ transformer_layer_2[\u001b[38;5;34m0\u001b[0m][\u001b[38;5;34m0\u001b[0m], │\n",
              "│ (\u001b[38;5;33mTransformerDecoder\u001b[0m)      │                        │            │ padding_mask[\u001b[38;5;34m0\u001b[0m][\u001b[38;5;34m0\u001b[0m]         │\n",
              "├───────────────────────────┼────────────────────────┼────────────┼────────────────────────────┤\n",
              "│ transformer_layer_4       │ (\u001b[38;5;45mNone\u001b[0m, \u001b[38;5;45mNone\u001b[0m, \u001b[38;5;34m768\u001b[0m)      │  \u001b[38;5;34m7,087,872\u001b[0m │ transformer_layer_3[\u001b[38;5;34m0\u001b[0m][\u001b[38;5;34m0\u001b[0m], │\n",
              "│ (\u001b[38;5;33mTransformerDecoder\u001b[0m)      │                        │            │ padding_mask[\u001b[38;5;34m0\u001b[0m][\u001b[38;5;34m0\u001b[0m]         │\n",
              "├───────────────────────────┼────────────────────────┼────────────┼────────────────────────────┤\n",
              "│ transformer_layer_5       │ (\u001b[38;5;45mNone\u001b[0m, \u001b[38;5;45mNone\u001b[0m, \u001b[38;5;34m768\u001b[0m)      │  \u001b[38;5;34m7,087,872\u001b[0m │ transformer_layer_4[\u001b[38;5;34m0\u001b[0m][\u001b[38;5;34m0\u001b[0m], │\n",
              "│ (\u001b[38;5;33mTransformerDecoder\u001b[0m)      │                        │            │ padding_mask[\u001b[38;5;34m0\u001b[0m][\u001b[38;5;34m0\u001b[0m]         │\n",
              "├───────────────────────────┼────────────────────────┼────────────┼────────────────────────────┤\n",
              "│ transformer_layer_6       │ (\u001b[38;5;45mNone\u001b[0m, \u001b[38;5;45mNone\u001b[0m, \u001b[38;5;34m768\u001b[0m)      │  \u001b[38;5;34m7,087,872\u001b[0m │ transformer_layer_5[\u001b[38;5;34m0\u001b[0m][\u001b[38;5;34m0\u001b[0m], │\n",
              "│ (\u001b[38;5;33mTransformerDecoder\u001b[0m)      │                        │            │ padding_mask[\u001b[38;5;34m0\u001b[0m][\u001b[38;5;34m0\u001b[0m]         │\n",
              "├───────────────────────────┼────────────────────────┼────────────┼────────────────────────────┤\n",
              "│ transformer_layer_7       │ (\u001b[38;5;45mNone\u001b[0m, \u001b[38;5;45mNone\u001b[0m, \u001b[38;5;34m768\u001b[0m)      │  \u001b[38;5;34m7,087,872\u001b[0m │ transformer_layer_6[\u001b[38;5;34m0\u001b[0m][\u001b[38;5;34m0\u001b[0m], │\n",
              "│ (\u001b[38;5;33mTransformerDecoder\u001b[0m)      │                        │            │ padding_mask[\u001b[38;5;34m0\u001b[0m][\u001b[38;5;34m0\u001b[0m]         │\n",
              "├───────────────────────────┼────────────────────────┼────────────┼────────────────────────────┤\n",
              "│ transformer_layer_8       │ (\u001b[38;5;45mNone\u001b[0m, \u001b[38;5;45mNone\u001b[0m, \u001b[38;5;34m768\u001b[0m)      │  \u001b[38;5;34m7,087,872\u001b[0m │ transformer_layer_7[\u001b[38;5;34m0\u001b[0m][\u001b[38;5;34m0\u001b[0m], │\n",
              "│ (\u001b[38;5;33mTransformerDecoder\u001b[0m)      │                        │            │ padding_mask[\u001b[38;5;34m0\u001b[0m][\u001b[38;5;34m0\u001b[0m]         │\n",
              "├───────────────────────────┼────────────────────────┼────────────┼────────────────────────────┤\n",
              "│ transformer_layer_9       │ (\u001b[38;5;45mNone\u001b[0m, \u001b[38;5;45mNone\u001b[0m, \u001b[38;5;34m768\u001b[0m)      │  \u001b[38;5;34m7,087,872\u001b[0m │ transformer_layer_8[\u001b[38;5;34m0\u001b[0m][\u001b[38;5;34m0\u001b[0m], │\n",
              "│ (\u001b[38;5;33mTransformerDecoder\u001b[0m)      │                        │            │ padding_mask[\u001b[38;5;34m0\u001b[0m][\u001b[38;5;34m0\u001b[0m]         │\n",
              "├───────────────────────────┼────────────────────────┼────────────┼────────────────────────────┤\n",
              "│ transformer_layer_10      │ (\u001b[38;5;45mNone\u001b[0m, \u001b[38;5;45mNone\u001b[0m, \u001b[38;5;34m768\u001b[0m)      │  \u001b[38;5;34m7,087,872\u001b[0m │ transformer_layer_9[\u001b[38;5;34m0\u001b[0m][\u001b[38;5;34m0\u001b[0m], │\n",
              "│ (\u001b[38;5;33mTransformerDecoder\u001b[0m)      │                        │            │ padding_mask[\u001b[38;5;34m0\u001b[0m][\u001b[38;5;34m0\u001b[0m]         │\n",
              "├───────────────────────────┼────────────────────────┼────────────┼────────────────────────────┤\n",
              "│ transformer_layer_11      │ (\u001b[38;5;45mNone\u001b[0m, \u001b[38;5;45mNone\u001b[0m, \u001b[38;5;34m768\u001b[0m)      │  \u001b[38;5;34m7,087,872\u001b[0m │ transformer_layer_10[\u001b[38;5;34m0\u001b[0m][\u001b[38;5;34m0\u001b[0m… │\n",
              "│ (\u001b[38;5;33mTransformerDecoder\u001b[0m)      │                        │            │ padding_mask[\u001b[38;5;34m0\u001b[0m][\u001b[38;5;34m0\u001b[0m]         │\n",
              "├───────────────────────────┼────────────────────────┼────────────┼────────────────────────────┤\n",
              "│ layer_norm                │ (\u001b[38;5;45mNone\u001b[0m, \u001b[38;5;45mNone\u001b[0m, \u001b[38;5;34m768\u001b[0m)      │      \u001b[38;5;34m1,536\u001b[0m │ transformer_layer_11[\u001b[38;5;34m0\u001b[0m][\u001b[38;5;34m0\u001b[0m] │\n",
              "│ (\u001b[38;5;33mLayerNormalization\u001b[0m)      │                        │            │                            │\n",
              "└───────────────────────────┴────────────────────────┴────────────┴────────────────────────────┘\n"
            ],
            "text/html": [
              "<pre style=\"white-space:pre;overflow-x:auto;line-height:normal;font-family:Menlo,'DejaVu Sans Mono',consolas,'Courier New',monospace\">┏━━━━━━━━━━━━━━━━━━━━━━━━━━━┳━━━━━━━━━━━━━━━━━━━━━━━━┳━━━━━━━━━━━━┳━━━━━━━━━━━━━━━━━━━━━━━━━━━━┓\n",
              "┃<span style=\"font-weight: bold\"> Layer (type)              </span>┃<span style=\"font-weight: bold\"> Output Shape           </span>┃<span style=\"font-weight: bold\">    Param # </span>┃<span style=\"font-weight: bold\"> Connected to               </span>┃\n",
              "┡━━━━━━━━━━━━━━━━━━━━━━━━━━━╇━━━━━━━━━━━━━━━━━━━━━━━━╇━━━━━━━━━━━━╇━━━━━━━━━━━━━━━━━━━━━━━━━━━━┩\n",
              "│ token_ids (<span style=\"color: #0087ff; text-decoration-color: #0087ff\">InputLayer</span>)    │ (<span style=\"color: #00d7ff; text-decoration-color: #00d7ff\">None</span>, <span style=\"color: #00d7ff; text-decoration-color: #00d7ff\">None</span>)           │          <span style=\"color: #00af00; text-decoration-color: #00af00\">0</span> │ -                          │\n",
              "├───────────────────────────┼────────────────────────┼────────────┼────────────────────────────┤\n",
              "│ token_embedding           │ (<span style=\"color: #00d7ff; text-decoration-color: #00d7ff\">None</span>, <span style=\"color: #00d7ff; text-decoration-color: #00d7ff\">None</span>, <span style=\"color: #00af00; text-decoration-color: #00af00\">768</span>)      │ <span style=\"color: #00af00; text-decoration-color: #00af00\">38,597,376</span> │ token_ids[<span style=\"color: #00af00; text-decoration-color: #00af00\">0</span>][<span style=\"color: #00af00; text-decoration-color: #00af00\">0</span>]            │\n",
              "│ (<span style=\"color: #0087ff; text-decoration-color: #0087ff\">ReversibleEmbedding</span>)     │                        │            │                            │\n",
              "├───────────────────────────┼────────────────────────┼────────────┼────────────────────────────┤\n",
              "│ position_embedding        │ (<span style=\"color: #00d7ff; text-decoration-color: #00d7ff\">None</span>, <span style=\"color: #00d7ff; text-decoration-color: #00d7ff\">None</span>, <span style=\"color: #00af00; text-decoration-color: #00af00\">768</span>)      │    <span style=\"color: #00af00; text-decoration-color: #00af00\">786,432</span> │ token_embedding[<span style=\"color: #00af00; text-decoration-color: #00af00\">0</span>][<span style=\"color: #00af00; text-decoration-color: #00af00\">0</span>]      │\n",
              "│ (<span style=\"color: #0087ff; text-decoration-color: #0087ff\">PositionEmbedding</span>)       │                        │            │                            │\n",
              "├───────────────────────────┼────────────────────────┼────────────┼────────────────────────────┤\n",
              "│ embeddings_add (<span style=\"color: #0087ff; text-decoration-color: #0087ff\">Add</span>)      │ (<span style=\"color: #00d7ff; text-decoration-color: #00d7ff\">None</span>, <span style=\"color: #00d7ff; text-decoration-color: #00d7ff\">None</span>, <span style=\"color: #00af00; text-decoration-color: #00af00\">768</span>)      │          <span style=\"color: #00af00; text-decoration-color: #00af00\">0</span> │ token_embedding[<span style=\"color: #00af00; text-decoration-color: #00af00\">0</span>][<span style=\"color: #00af00; text-decoration-color: #00af00\">0</span>],     │\n",
              "│                           │                        │            │ position_embedding[<span style=\"color: #00af00; text-decoration-color: #00af00\">0</span>][<span style=\"color: #00af00; text-decoration-color: #00af00\">0</span>]   │\n",
              "├───────────────────────────┼────────────────────────┼────────────┼────────────────────────────┤\n",
              "│ embeddings_dropout        │ (<span style=\"color: #00d7ff; text-decoration-color: #00d7ff\">None</span>, <span style=\"color: #00d7ff; text-decoration-color: #00d7ff\">None</span>, <span style=\"color: #00af00; text-decoration-color: #00af00\">768</span>)      │          <span style=\"color: #00af00; text-decoration-color: #00af00\">0</span> │ embeddings_add[<span style=\"color: #00af00; text-decoration-color: #00af00\">0</span>][<span style=\"color: #00af00; text-decoration-color: #00af00\">0</span>]       │\n",
              "│ (<span style=\"color: #0087ff; text-decoration-color: #0087ff\">Dropout</span>)                 │                        │            │                            │\n",
              "├───────────────────────────┼────────────────────────┼────────────┼────────────────────────────┤\n",
              "│ padding_mask (<span style=\"color: #0087ff; text-decoration-color: #0087ff\">InputLayer</span>) │ (<span style=\"color: #00d7ff; text-decoration-color: #00d7ff\">None</span>, <span style=\"color: #00d7ff; text-decoration-color: #00d7ff\">None</span>)           │          <span style=\"color: #00af00; text-decoration-color: #00af00\">0</span> │ -                          │\n",
              "├───────────────────────────┼────────────────────────┼────────────┼────────────────────────────┤\n",
              "│ transformer_layer_0       │ (<span style=\"color: #00d7ff; text-decoration-color: #00d7ff\">None</span>, <span style=\"color: #00d7ff; text-decoration-color: #00d7ff\">None</span>, <span style=\"color: #00af00; text-decoration-color: #00af00\">768</span>)      │  <span style=\"color: #00af00; text-decoration-color: #00af00\">7,087,872</span> │ embeddings_dropout[<span style=\"color: #00af00; text-decoration-color: #00af00\">0</span>][<span style=\"color: #00af00; text-decoration-color: #00af00\">0</span>],  │\n",
              "│ (<span style=\"color: #0087ff; text-decoration-color: #0087ff\">TransformerDecoder</span>)      │                        │            │ padding_mask[<span style=\"color: #00af00; text-decoration-color: #00af00\">0</span>][<span style=\"color: #00af00; text-decoration-color: #00af00\">0</span>]         │\n",
              "├───────────────────────────┼────────────────────────┼────────────┼────────────────────────────┤\n",
              "│ transformer_layer_1       │ (<span style=\"color: #00d7ff; text-decoration-color: #00d7ff\">None</span>, <span style=\"color: #00d7ff; text-decoration-color: #00d7ff\">None</span>, <span style=\"color: #00af00; text-decoration-color: #00af00\">768</span>)      │  <span style=\"color: #00af00; text-decoration-color: #00af00\">7,087,872</span> │ transformer_layer_0[<span style=\"color: #00af00; text-decoration-color: #00af00\">0</span>][<span style=\"color: #00af00; text-decoration-color: #00af00\">0</span>], │\n",
              "│ (<span style=\"color: #0087ff; text-decoration-color: #0087ff\">TransformerDecoder</span>)      │                        │            │ padding_mask[<span style=\"color: #00af00; text-decoration-color: #00af00\">0</span>][<span style=\"color: #00af00; text-decoration-color: #00af00\">0</span>]         │\n",
              "├───────────────────────────┼────────────────────────┼────────────┼────────────────────────────┤\n",
              "│ transformer_layer_2       │ (<span style=\"color: #00d7ff; text-decoration-color: #00d7ff\">None</span>, <span style=\"color: #00d7ff; text-decoration-color: #00d7ff\">None</span>, <span style=\"color: #00af00; text-decoration-color: #00af00\">768</span>)      │  <span style=\"color: #00af00; text-decoration-color: #00af00\">7,087,872</span> │ transformer_layer_1[<span style=\"color: #00af00; text-decoration-color: #00af00\">0</span>][<span style=\"color: #00af00; text-decoration-color: #00af00\">0</span>], │\n",
              "│ (<span style=\"color: #0087ff; text-decoration-color: #0087ff\">TransformerDecoder</span>)      │                        │            │ padding_mask[<span style=\"color: #00af00; text-decoration-color: #00af00\">0</span>][<span style=\"color: #00af00; text-decoration-color: #00af00\">0</span>]         │\n",
              "├───────────────────────────┼────────────────────────┼────────────┼────────────────────────────┤\n",
              "│ transformer_layer_3       │ (<span style=\"color: #00d7ff; text-decoration-color: #00d7ff\">None</span>, <span style=\"color: #00d7ff; text-decoration-color: #00d7ff\">None</span>, <span style=\"color: #00af00; text-decoration-color: #00af00\">768</span>)      │  <span style=\"color: #00af00; text-decoration-color: #00af00\">7,087,872</span> │ transformer_layer_2[<span style=\"color: #00af00; text-decoration-color: #00af00\">0</span>][<span style=\"color: #00af00; text-decoration-color: #00af00\">0</span>], │\n",
              "│ (<span style=\"color: #0087ff; text-decoration-color: #0087ff\">TransformerDecoder</span>)      │                        │            │ padding_mask[<span style=\"color: #00af00; text-decoration-color: #00af00\">0</span>][<span style=\"color: #00af00; text-decoration-color: #00af00\">0</span>]         │\n",
              "├───────────────────────────┼────────────────────────┼────────────┼────────────────────────────┤\n",
              "│ transformer_layer_4       │ (<span style=\"color: #00d7ff; text-decoration-color: #00d7ff\">None</span>, <span style=\"color: #00d7ff; text-decoration-color: #00d7ff\">None</span>, <span style=\"color: #00af00; text-decoration-color: #00af00\">768</span>)      │  <span style=\"color: #00af00; text-decoration-color: #00af00\">7,087,872</span> │ transformer_layer_3[<span style=\"color: #00af00; text-decoration-color: #00af00\">0</span>][<span style=\"color: #00af00; text-decoration-color: #00af00\">0</span>], │\n",
              "│ (<span style=\"color: #0087ff; text-decoration-color: #0087ff\">TransformerDecoder</span>)      │                        │            │ padding_mask[<span style=\"color: #00af00; text-decoration-color: #00af00\">0</span>][<span style=\"color: #00af00; text-decoration-color: #00af00\">0</span>]         │\n",
              "├───────────────────────────┼────────────────────────┼────────────┼────────────────────────────┤\n",
              "│ transformer_layer_5       │ (<span style=\"color: #00d7ff; text-decoration-color: #00d7ff\">None</span>, <span style=\"color: #00d7ff; text-decoration-color: #00d7ff\">None</span>, <span style=\"color: #00af00; text-decoration-color: #00af00\">768</span>)      │  <span style=\"color: #00af00; text-decoration-color: #00af00\">7,087,872</span> │ transformer_layer_4[<span style=\"color: #00af00; text-decoration-color: #00af00\">0</span>][<span style=\"color: #00af00; text-decoration-color: #00af00\">0</span>], │\n",
              "│ (<span style=\"color: #0087ff; text-decoration-color: #0087ff\">TransformerDecoder</span>)      │                        │            │ padding_mask[<span style=\"color: #00af00; text-decoration-color: #00af00\">0</span>][<span style=\"color: #00af00; text-decoration-color: #00af00\">0</span>]         │\n",
              "├───────────────────────────┼────────────────────────┼────────────┼────────────────────────────┤\n",
              "│ transformer_layer_6       │ (<span style=\"color: #00d7ff; text-decoration-color: #00d7ff\">None</span>, <span style=\"color: #00d7ff; text-decoration-color: #00d7ff\">None</span>, <span style=\"color: #00af00; text-decoration-color: #00af00\">768</span>)      │  <span style=\"color: #00af00; text-decoration-color: #00af00\">7,087,872</span> │ transformer_layer_5[<span style=\"color: #00af00; text-decoration-color: #00af00\">0</span>][<span style=\"color: #00af00; text-decoration-color: #00af00\">0</span>], │\n",
              "│ (<span style=\"color: #0087ff; text-decoration-color: #0087ff\">TransformerDecoder</span>)      │                        │            │ padding_mask[<span style=\"color: #00af00; text-decoration-color: #00af00\">0</span>][<span style=\"color: #00af00; text-decoration-color: #00af00\">0</span>]         │\n",
              "├───────────────────────────┼────────────────────────┼────────────┼────────────────────────────┤\n",
              "│ transformer_layer_7       │ (<span style=\"color: #00d7ff; text-decoration-color: #00d7ff\">None</span>, <span style=\"color: #00d7ff; text-decoration-color: #00d7ff\">None</span>, <span style=\"color: #00af00; text-decoration-color: #00af00\">768</span>)      │  <span style=\"color: #00af00; text-decoration-color: #00af00\">7,087,872</span> │ transformer_layer_6[<span style=\"color: #00af00; text-decoration-color: #00af00\">0</span>][<span style=\"color: #00af00; text-decoration-color: #00af00\">0</span>], │\n",
              "│ (<span style=\"color: #0087ff; text-decoration-color: #0087ff\">TransformerDecoder</span>)      │                        │            │ padding_mask[<span style=\"color: #00af00; text-decoration-color: #00af00\">0</span>][<span style=\"color: #00af00; text-decoration-color: #00af00\">0</span>]         │\n",
              "├───────────────────────────┼────────────────────────┼────────────┼────────────────────────────┤\n",
              "│ transformer_layer_8       │ (<span style=\"color: #00d7ff; text-decoration-color: #00d7ff\">None</span>, <span style=\"color: #00d7ff; text-decoration-color: #00d7ff\">None</span>, <span style=\"color: #00af00; text-decoration-color: #00af00\">768</span>)      │  <span style=\"color: #00af00; text-decoration-color: #00af00\">7,087,872</span> │ transformer_layer_7[<span style=\"color: #00af00; text-decoration-color: #00af00\">0</span>][<span style=\"color: #00af00; text-decoration-color: #00af00\">0</span>], │\n",
              "│ (<span style=\"color: #0087ff; text-decoration-color: #0087ff\">TransformerDecoder</span>)      │                        │            │ padding_mask[<span style=\"color: #00af00; text-decoration-color: #00af00\">0</span>][<span style=\"color: #00af00; text-decoration-color: #00af00\">0</span>]         │\n",
              "├───────────────────────────┼────────────────────────┼────────────┼────────────────────────────┤\n",
              "│ transformer_layer_9       │ (<span style=\"color: #00d7ff; text-decoration-color: #00d7ff\">None</span>, <span style=\"color: #00d7ff; text-decoration-color: #00d7ff\">None</span>, <span style=\"color: #00af00; text-decoration-color: #00af00\">768</span>)      │  <span style=\"color: #00af00; text-decoration-color: #00af00\">7,087,872</span> │ transformer_layer_8[<span style=\"color: #00af00; text-decoration-color: #00af00\">0</span>][<span style=\"color: #00af00; text-decoration-color: #00af00\">0</span>], │\n",
              "│ (<span style=\"color: #0087ff; text-decoration-color: #0087ff\">TransformerDecoder</span>)      │                        │            │ padding_mask[<span style=\"color: #00af00; text-decoration-color: #00af00\">0</span>][<span style=\"color: #00af00; text-decoration-color: #00af00\">0</span>]         │\n",
              "├───────────────────────────┼────────────────────────┼────────────┼────────────────────────────┤\n",
              "│ transformer_layer_10      │ (<span style=\"color: #00d7ff; text-decoration-color: #00d7ff\">None</span>, <span style=\"color: #00d7ff; text-decoration-color: #00d7ff\">None</span>, <span style=\"color: #00af00; text-decoration-color: #00af00\">768</span>)      │  <span style=\"color: #00af00; text-decoration-color: #00af00\">7,087,872</span> │ transformer_layer_9[<span style=\"color: #00af00; text-decoration-color: #00af00\">0</span>][<span style=\"color: #00af00; text-decoration-color: #00af00\">0</span>], │\n",
              "│ (<span style=\"color: #0087ff; text-decoration-color: #0087ff\">TransformerDecoder</span>)      │                        │            │ padding_mask[<span style=\"color: #00af00; text-decoration-color: #00af00\">0</span>][<span style=\"color: #00af00; text-decoration-color: #00af00\">0</span>]         │\n",
              "├───────────────────────────┼────────────────────────┼────────────┼────────────────────────────┤\n",
              "│ transformer_layer_11      │ (<span style=\"color: #00d7ff; text-decoration-color: #00d7ff\">None</span>, <span style=\"color: #00d7ff; text-decoration-color: #00d7ff\">None</span>, <span style=\"color: #00af00; text-decoration-color: #00af00\">768</span>)      │  <span style=\"color: #00af00; text-decoration-color: #00af00\">7,087,872</span> │ transformer_layer_10[<span style=\"color: #00af00; text-decoration-color: #00af00\">0</span>][<span style=\"color: #00af00; text-decoration-color: #00af00\">0</span>… │\n",
              "│ (<span style=\"color: #0087ff; text-decoration-color: #0087ff\">TransformerDecoder</span>)      │                        │            │ padding_mask[<span style=\"color: #00af00; text-decoration-color: #00af00\">0</span>][<span style=\"color: #00af00; text-decoration-color: #00af00\">0</span>]         │\n",
              "├───────────────────────────┼────────────────────────┼────────────┼────────────────────────────┤\n",
              "│ layer_norm                │ (<span style=\"color: #00d7ff; text-decoration-color: #00d7ff\">None</span>, <span style=\"color: #00d7ff; text-decoration-color: #00d7ff\">None</span>, <span style=\"color: #00af00; text-decoration-color: #00af00\">768</span>)      │      <span style=\"color: #00af00; text-decoration-color: #00af00\">1,536</span> │ transformer_layer_11[<span style=\"color: #00af00; text-decoration-color: #00af00\">0</span>][<span style=\"color: #00af00; text-decoration-color: #00af00\">0</span>] │\n",
              "│ (<span style=\"color: #0087ff; text-decoration-color: #0087ff\">LayerNormalization</span>)      │                        │            │                            │\n",
              "└───────────────────────────┴────────────────────────┴────────────┴────────────────────────────┘\n",
              "</pre>\n"
            ]
          },
          "metadata": {}
        },
        {
          "output_type": "display_data",
          "data": {
            "text/plain": [
              "\u001b[1m Total params: \u001b[0m\u001b[38;5;34m124,439,808\u001b[0m (474.70 MB)\n"
            ],
            "text/html": [
              "<pre style=\"white-space:pre;overflow-x:auto;line-height:normal;font-family:Menlo,'DejaVu Sans Mono',consolas,'Courier New',monospace\"><span style=\"font-weight: bold\"> Total params: </span><span style=\"color: #00af00; text-decoration-color: #00af00\">124,439,808</span> (474.70 MB)\n",
              "</pre>\n"
            ]
          },
          "metadata": {}
        },
        {
          "output_type": "display_data",
          "data": {
            "text/plain": [
              "\u001b[1m Trainable params: \u001b[0m\u001b[38;5;34m124,439,808\u001b[0m (474.70 MB)\n"
            ],
            "text/html": [
              "<pre style=\"white-space:pre;overflow-x:auto;line-height:normal;font-family:Menlo,'DejaVu Sans Mono',consolas,'Courier New',monospace\"><span style=\"font-weight: bold\"> Trainable params: </span><span style=\"color: #00af00; text-decoration-color: #00af00\">124,439,808</span> (474.70 MB)\n",
              "</pre>\n"
            ]
          },
          "metadata": {}
        },
        {
          "output_type": "display_data",
          "data": {
            "text/plain": [
              "\u001b[1m Non-trainable params: \u001b[0m\u001b[38;5;34m0\u001b[0m (0.00 B)\n"
            ],
            "text/html": [
              "<pre style=\"white-space:pre;overflow-x:auto;line-height:normal;font-family:Menlo,'DejaVu Sans Mono',consolas,'Courier New',monospace\"><span style=\"font-weight: bold\"> Non-trainable params: </span><span style=\"color: #00af00; text-decoration-color: #00af00\">0</span> (0.00 B)\n",
              "</pre>\n"
            ]
          },
          "metadata": {}
        }
      ]
    },
    {
      "cell_type": "code",
      "source": [
        "# Generate a text\n",
        "output = gpt2_lm.generate(\"The goal of apple company is \", max_length=200)\n",
        "print(\"\\nGPT-2 output:\")\n",
        "print(output)"
      ],
      "metadata": {
        "colab": {
          "base_uri": "https://localhost:8080/"
        },
        "id": "g1yFsWGkmTFB",
        "outputId": "ba83822c-e30b-40ed-93c8-ed6490aafc75"
      },
      "execution_count": null,
      "outputs": [
        {
          "output_type": "stream",
          "name": "stdout",
          "text": [
            "\n",
            "GPT-2 output:\n",
            "The goal of apple company is  to create a better apple.  It is a product that is a good quality apple, but also an apple that is a good quality apple.  Apple is a natural product, and apple is a product that you need to get to know and enjoy.  The apple is a good apple that you should be able to eat.  If you are not sure about the quality of apple, then you are not a good apple, so you should be a good apple.  Apple products are good for you.  They make you feel good and you will enjoy them.  The more you enjoy a product, the better it will feel.  It makes you feel good, so you should like it.  The best apple products are good for your health, and the best apple products are good for your health.  So, you should try to find the best apple products.  It is important\n"
          ]
        }
      ]
    },
    {
      "cell_type": "code",
      "source": [
        "# Load data\n",
        "import tensorflow_datasets as tfds\n",
        "reddit_ds = tfds.load(\"reddit_tifu\", split=\"train\", as_supervised=True)"
      ],
      "metadata": {
        "colab": {
          "base_uri": "https://localhost:8080/",
          "height": 148,
          "referenced_widgets": [
            "64b7970b2bf84d3c975ed4944129c3a8",
            "d51ac26d9231406ebde1b014679be58f",
            "93ef7a1a40664716b551f5f60c5bb9a3",
            "0d0c4e567fc9471191a34f6e8379026d",
            "b06f832b87544e6691e5e730a60376e5",
            "695ef59261624eae96db9b7c0f5dd5a8",
            "65ceea9362be43869e9d5940dc30406e",
            "f252ff9d339045d3970d1d5b7c71cb2f",
            "d714a7c7a4b946e7b6404ebd977831cb",
            "ec16427790784dad8039de2ec94a1431",
            "9a852bd8889f40fd987195dd8992251f",
            "23e0bb3c576b4168835e1cbb6a7c4565",
            "5726fcfea44c4d25b0007f324cdca472",
            "30c91d37112b40cfbe119c2311b34cee",
            "be3c0742172047439937cce7914e6c99",
            "86f0fd7aabc14392a928466d7fc42fa6",
            "b1a37d88bbd44c85af0d97e808788a0e",
            "dc6b95feaeab436093e8bc35369043b9",
            "041a6766299149a7a95cfec18bacdcc1",
            "010177e247c14de58fe3c7b253bf12e3",
            "41054901008345da870382f531c530ac",
            "8e095c9d67f04bce8407781616743667",
            "bb310f45aba4449d8cc5a5d3f5d01345",
            "a753db8facfa48cfbea71f653c180ca6",
            "bcdb4f75151649578a7f8c66c642f255",
            "31e54242490447b1a30f22b0f661f450",
            "df1feb4d8b8f42938c34f776b39c5b8f",
            "247e2abbb77e4473a12d1ff6dfc4b98b",
            "5750df41026c450ab59bac1c81fdbd28",
            "148392bd93cf47a597d438e78b59edae",
            "7c7b02bf04ec43caa102054f7af72df8",
            "f0b6182f261e4a44a36e7340259e0e8a",
            "9b690b458fa4474da46d5a02f9a9d621",
            "39b40a66f3b2496080201d61884d64ea",
            "eb8f9a9b4da84d2d9986f1e465674449",
            "a1a943e150ac4aae9953cea773c1b0ae",
            "237b087244c04d47af0b16d53ae4c405",
            "3739a97edd4345fca782545e6c24969b",
            "abd0ad2af13a49be8962719305a756a3",
            "f95a2b77f4ca45b3bca0fd96cddb6cef",
            "8c8fcf8ec45444278954d9e2fe59404e",
            "ee01dfbf16a846d1ad93998c8341d409",
            "bbe6fdb0739f45be8256fb62b55550d9",
            "75e2a5da1b9743d1814d3d0dd23a49c2",
            "35a714c328c64192998a8438d7227ab3",
            "42c68f77c9934a48800d2a5a6652b46d",
            "c56007366dcf4ab78699bacaad004770",
            "19005958bc884c86afe157c8d104be87",
            "8c4a6c6aeb9e46d2849d53662e2dadb4",
            "1e86e09a8b454fc399aa3de0727cadf9",
            "07f74f862f88412aaf3700c8704c42ae",
            "db8989b04e314586a8c0ed2953ee965d",
            "34afcf839d454865ad6e01d6cfcd36ba",
            "8c9d6fb9897044a38ced3d54b947a5d9",
            "5f928e603ee74bcebf9bf7e42e897274",
            "8cebd60d22df451b9ba5089f3ba04881",
            "0f580f5b5fd04ab8a5c9263409834fb6",
            "8f3e1b1dd89d49a1832b4b7aebfc750d",
            "fac76fff70c8457f853860325e675764",
            "07f9fc75f9c94c08932e2b5a126cc005",
            "ac7400a33d0a4c80a772ef0c85658229",
            "b3b8ea57d76b4285951a67b30f780a39",
            "04818a738093456e891ca04a4e1fc6e4",
            "e87acc1596934a54a8356ccfbb362ea3",
            "61045bcb47a9440cb1dee5404da7ec01",
            "4a0b1826ca2843c885479ad68bd758dd"
          ]
        },
        "id": "U6wuDp6Qn3iz",
        "outputId": "9f94ef5f-bd9c-4da9-d848-a5fe43f92f6f"
      },
      "execution_count": null,
      "outputs": [
        {
          "output_type": "stream",
          "name": "stdout",
          "text": [
            "Downloading and preparing dataset 639.54 MiB (download: 639.54 MiB, generated: 141.46 MiB, total: 781.00 MiB) to /root/tensorflow_datasets/reddit_tifu/short/1.1.2...\n"
          ]
        },
        {
          "output_type": "display_data",
          "data": {
            "text/plain": [
              "Dl Completed...: 0 url [00:00, ? url/s]"
            ],
            "application/vnd.jupyter.widget-view+json": {
              "version_major": 2,
              "version_minor": 0,
              "model_id": "64b7970b2bf84d3c975ed4944129c3a8"
            }
          },
          "metadata": {}
        },
        {
          "output_type": "display_data",
          "data": {
            "text/plain": [
              "Dl Size...: 0 MiB [00:00, ? MiB/s]"
            ],
            "application/vnd.jupyter.widget-view+json": {
              "version_major": 2,
              "version_minor": 0,
              "model_id": "23e0bb3c576b4168835e1cbb6a7c4565"
            }
          },
          "metadata": {}
        },
        {
          "output_type": "display_data",
          "data": {
            "text/plain": [
              "Extraction completed...: 0 file [00:00, ? file/s]"
            ],
            "application/vnd.jupyter.widget-view+json": {
              "version_major": 2,
              "version_minor": 0,
              "model_id": "bb310f45aba4449d8cc5a5d3f5d01345"
            }
          },
          "metadata": {}
        },
        {
          "output_type": "display_data",
          "data": {
            "text/plain": [
              "Generating splits...:   0%|          | 0/1 [00:00<?, ? splits/s]"
            ],
            "application/vnd.jupyter.widget-view+json": {
              "version_major": 2,
              "version_minor": 0,
              "model_id": "39b40a66f3b2496080201d61884d64ea"
            }
          },
          "metadata": {}
        },
        {
          "output_type": "display_data",
          "data": {
            "text/plain": [
              "Generating train examples...:   0%|          | 0/79740 [00:00<?, ? examples/s]"
            ],
            "application/vnd.jupyter.widget-view+json": {
              "version_major": 2,
              "version_minor": 0,
              "model_id": "35a714c328c64192998a8438d7227ab3"
            }
          },
          "metadata": {}
        },
        {
          "output_type": "display_data",
          "data": {
            "text/plain": [
              "Shuffling /root/tensorflow_datasets/reddit_tifu/short/1.1.2.incompleteRQF73V/reddit_tifu-train.tfrecord*...:  …"
            ],
            "application/vnd.jupyter.widget-view+json": {
              "version_major": 2,
              "version_minor": 0,
              "model_id": "8cebd60d22df451b9ba5089f3ba04881"
            }
          },
          "metadata": {}
        },
        {
          "output_type": "stream",
          "name": "stdout",
          "text": [
            "Dataset reddit_tifu downloaded and prepared to /root/tensorflow_datasets/reddit_tifu/short/1.1.2. Subsequent calls will reuse this data.\n"
          ]
        }
      ]
    },
    {
      "cell_type": "code",
      "source": [
        "reddit_ds"
      ],
      "metadata": {
        "colab": {
          "base_uri": "https://localhost:8080/"
        },
        "id": "F2wHnPGdoH9l",
        "outputId": "dd79c827-d02f-46fa-fe4a-aac959e26d19"
      },
      "execution_count": null,
      "outputs": [
        {
          "output_type": "execute_result",
          "data": {
            "text/plain": [
              "<_PrefetchDataset element_spec=(TensorSpec(shape=(), dtype=tf.string, name=None), TensorSpec(shape=(), dtype=tf.string, name=None))>"
            ]
          },
          "metadata": {},
          "execution_count": 10
        }
      ]
    },
    {
      "cell_type": "code",
      "source": [
        "# See the document and title\n",
        "for document, title in reddit_ds:\n",
        "    print(document.numpy())\n",
        "    print(title.numpy())\n",
        "    break"
      ],
      "metadata": {
        "colab": {
          "base_uri": "https://localhost:8080/"
        },
        "id": "Qvk1GHUOoggN",
        "outputId": "4fa4602b-82bd-4be3-87f9-c6edadd58f55"
      },
      "execution_count": null,
      "outputs": [
        {
          "output_type": "stream",
          "name": "stdout",
          "text": [
            "b\"me and a friend decided to go to the beach last sunday. we loaded up and headed out. we were about half way there when i decided that i was not leaving till i had seafood. \\n\\nnow i'm not talking about red lobster. no friends i'm talking about a low country boil. i found the restaurant and got directions. i don't know if any of you have heard about the crab shack on tybee island but let me tell you it's worth it. \\n\\nwe arrived and was seated quickly. we decided to get a seafood sampler for two and split it. the waitress bought it out on separate platters for us. the amount of food was staggering. two types of crab, shrimp, mussels, crawfish, andouille sausage, red potatoes, and corn on the cob. i managed to finish it and some of my friends crawfish and mussels. it was a day to be a fat ass. we finished paid for our food and headed to the beach. \\n\\nfunny thing about seafood. it runs through me faster than a kenyan \\n\\nwe arrived and walked around a bit. it was about 45min since we arrived at the beach when i felt a rumble from the depths of my stomach. i ignored it i didn't want my stomach to ruin our fun. i pushed down the feeling and continued. about 15min later the feeling was back and stronger than before. again i ignored it and continued. 5min later it felt like a nuclear reactor had just exploded in my stomach. i started running. i yelled to my friend to hurry the fuck up. \\n\\nrunning in sand is extremely hard if you did not know this. we got in his car and i yelled at him to floor it. my stomach was screaming and if he didn't hurry i was gonna have this baby in his car and it wasn't gonna be pretty. after a few red lights and me screaming like a woman in labor we made it to the store. \\n\\ni practically tore his car door open and ran inside. i ran to the bathroom opened the door and barely got my pants down before the dam burst and a flood of shit poured from my ass. \\n\\ni finished up when i felt something wet on my ass. i rubbed it thinking it was back splash. no, mass was covered in the after math of me abusing the toilet. i grabbed all the paper towels i could and gave my self a whores bath right there. \\n\\ni sprayed the bathroom down with the air freshener and left. an elderly lady walked in quickly and closed the door. i was just about to walk away when i heard gag. instead of walking i ran. i got to the car and told him to get the hell out of there.\"\n",
            "b'liking seafood'\n"
          ]
        }
      ]
    },
    {
      "cell_type": "code",
      "source": [
        "# Make data into batch\n",
        "train_ds = (\n",
        "    reddit_ds.map(lambda document, _: document)\n",
        "    .batch(32)\n",
        "    .cache()\n",
        "    .prefetch(tf.data.AUTOTUNE)\n",
        ")"
      ],
      "metadata": {
        "id": "HggsX0WDoiJ_"
      },
      "execution_count": null,
      "outputs": []
    },
    {
      "cell_type": "code",
      "source": [
        "train_ds = train_ds.take(500)\n",
        "num_epochs = 1\n",
        "\n",
        "# Linearly decaying learning rate.\n",
        "learning_rate = keras.optimizers.schedules.PolynomialDecay(\n",
        "    5e-5,\n",
        "    decay_steps=train_ds.cardinality() * num_epochs,\n",
        "    end_learning_rate=0.0,\n",
        ")\n",
        "loss = keras.losses.SparseCategoricalCrossentropy(from_logits=True)\n",
        "gpt2_lm.compile(\n",
        "    optimizer=keras.optimizers.Adam(learning_rate),\n",
        "    loss=loss,\n",
        "    weighted_metrics=[\"accuracy\"],\n",
        ")\n",
        "\n",
        "gpt2_lm.fit(train_ds, epochs=num_epochs)"
      ],
      "metadata": {
        "id": "rcJ7wFBBo0dI"
      },
      "execution_count": null,
      "outputs": []
    },
    {
      "cell_type": "code",
      "source": [
        "# SEARCH FOR TOP-K\n",
        "# Top-k Sampling: This strategy involves sampling from the top-k most likely next tokens, where k is a hyperparameter. It introduces randomness while still constraining the possibilities.\n",
        "gpt2_lm.compile(sampler=\"top_k\")\n",
        "output = gpt2_lm.generate(\"I like basketball\", max_length=200)\n",
        "print(\"\\nGPT-2 output:\")\n",
        "print(output)\n",
        "\n",
        "# Greedy Sampling: This strategy selects the token with the highest predicted probability as the next token. It tends to produce coherent but sometimes repetitive text.\n",
        "greedy_sampler = keras_nlp.samplers.GreedySampler()\n",
        "gpt2_lm.compile(sampler=greedy_sampler)\n",
        "output = gpt2_lm.generate(\"I like basketball\", max_length=200)\n",
        "print(\"\\nGPT-2 output:\")\n",
        "print(output)"
      ],
      "metadata": {
        "colab": {
          "base_uri": "https://localhost:8080/"
        },
        "id": "1UJAsv9QpKtm",
        "outputId": "c529173d-e9d4-421e-b3a9-e230d16c26d4"
      },
      "execution_count": null,
      "outputs": [
        {
          "output_type": "stream",
          "name": "stdout",
          "text": [
            "\n",
            "GPT-2 output:\n",
            "I like basketball, but I'm a big fan of the game, too. I'm a big believer in the game. I love the game. I'm a big believer in the game's culture. I love the game and I love the culture. It's a great way to get out and have fun, but it can be a lot more fun if you're not doing the things that we all do in the NBA. And I know it will be fun for us to have a great time, but we'll see what it's like. I think we'll get there. I'm not going into it in the wrong way. I'm going into it in the right way.\n",
            "\n",
            "What do you think about the Lakers' new coach?\n",
            "\n",
            "We have a lot of young guys that want to play, but we don't have a lot of young guys that can play. I think they're ready, we're going to get them. I think we have a lot of\n",
            "\n",
            "GPT-2 output:\n",
            "I like basketball. I like to play it. I like to watch it. I like to watch it. I like to watch it. I like to watch it. I like to watch it. I like to watch it. I like to watch it. I like to watch it. I like to watch it. I like to watch it. I like to watch it. I like to watch it. I like to watch it. I like to watch it. I like to watch it. I like to watch it. I like to watch it. I like to watch it. I like to watch it. I like to watch it. I like to watch it. I like to watch it. I like to watch it. I like to watch it. I like to watch it. I like to watch it. I like to watch it. I like to watch it. I like to watch it. I like to watch it. I like to watch it. I like to\n"
          ]
        }
      ]
    },
    {
      "cell_type": "code",
      "source": [
        "help(gpt2_lm)"
      ],
      "metadata": {
        "colab": {
          "base_uri": "https://localhost:8080/"
        },
        "id": "DHKDjaJ6qivQ",
        "outputId": "29d26db2-e185-45b8-f76b-9fdc45f4da5e"
      },
      "execution_count": null,
      "outputs": [
        {
          "output_type": "stream",
          "name": "stdout",
          "text": [
            "Help on GPT2CausalLM in module keras_nlp.src.models.gpt2.gpt2_causal_lm object:\n",
            "\n",
            "class GPT2CausalLM(keras_nlp.src.models.generative_task.GenerativeTask)\n",
            " |  GPT2CausalLM(backbone, preprocessor=None, **kwargs)\n",
            " |  \n",
            " |  An end-to-end GPT2 model for causal language modeling.\n",
            " |  \n",
            " |  A causal language model (LM) predicts the next token based on previous\n",
            " |  tokens. This task setup can be used to train the model unsupervised on\n",
            " |  plain text input, or to autoregressively generate plain text similar to\n",
            " |  the data used for training. This task can be used for pre-training or\n",
            " |  fine-tuning a GPT-2 model, simply by calling `fit()`.\n",
            " |  \n",
            " |  This model has a `generate()` method, which generates text based on a\n",
            " |  prompt. The generation strategy used is controlled by an additional\n",
            " |  `sampler` argument on `compile()`. You can recompile the model with\n",
            " |  different `keras_nlp.samplers` objects to control the generation. By\n",
            " |  default, `\"top_k\"` sampling will be used.\n",
            " |  \n",
            " |  This model can optionally be configured with a `preprocessor` layer, in\n",
            " |  which case it will automatically apply preprocessing to string inputs during\n",
            " |  `fit()`, `predict()`, `evaluate()` and `generate()`. This is done by default\n",
            " |  when creating the model with `from_preset()`.\n",
            " |  \n",
            " |  Disclaimer: Pre-trained models are provided on an \"as is\" basis, without\n",
            " |  warranties or conditions of any kind. The underlying model is provided by a\n",
            " |  third party and subject to a separate license, available\n",
            " |  [here](https://github.com/openai/gpt-2).\n",
            " |  \n",
            " |  Args:\n",
            " |      backbone: A `keras_nlp.models.GPT2Backbone` instance.\n",
            " |      preprocessor: A `keras_nlp.models.GPT2CausalLMPreprocessor` or `None`.\n",
            " |          If `None`, this model will not apply preprocessing, and inputs\n",
            " |          should be preprocessed before calling the model.\n",
            " |  \n",
            " |  Examples:\n",
            " |  \n",
            " |  Use `generate()` to do text generation.\n",
            " |  ```python\n",
            " |  gpt2_lm = keras_nlp.models.GPT2CausalLM.from_preset(\"gpt2_base_en\")\n",
            " |  gpt2_lm.generate(\"I want to say\", max_length=30)\n",
            " |  \n",
            " |  # Generate with batched prompts.\n",
            " |  gpt2_lm.generate([\"This is a\", \"Where are you\"], max_length=30)\n",
            " |  ```\n",
            " |  \n",
            " |  Compile the `generate()` function with a custom sampler.\n",
            " |  ```python\n",
            " |  gpt2_lm = keras_nlp.models.GPT2CausalLM.from_preset(\"gpt2_base_en\")\n",
            " |  gpt2_lm.compile(sampler=\"greedy\")\n",
            " |  gpt2_lm.generate(\"I want to say\", max_length=30)\n",
            " |  \n",
            " |  gpt2_lm.compile(sampler=keras_nlp.samplers.BeamSampler(num_beams=2))\n",
            " |  gpt2_lm.generate(\"I want to say\", max_length=30)\n",
            " |  ```\n",
            " |  \n",
            " |  Use `generate()` without preprocessing.\n",
            " |  ```python\n",
            " |  # Prompt the model with `5338, 318` (the token ids for `\"Who is\"`).\n",
            " |  # Use `\"padding_mask\"` to indicate values that should not be overridden.\n",
            " |  prompt = {\n",
            " |      \"token_ids\": np.array([[5338, 318, 0, 0, 0]] * 2),\n",
            " |      \"padding_mask\": np.array([[1, 1, 0, 0, 0]] * 2),\n",
            " |  }\n",
            " |  \n",
            " |  gpt2_lm = keras_nlp.models.GPT2CausalLM.from_preset(\n",
            " |      \"gpt2_base_en\",\n",
            " |      preprocessor=None,\n",
            " |  )\n",
            " |  gpt2_lm.generate(prompt)\n",
            " |  ```\n",
            " |  \n",
            " |  Call `fit()` on a single batch.\n",
            " |  ```python\n",
            " |  features = [\"The quick brown fox jumped.\", \"I forgot my homework.\"]\n",
            " |  gpt2_lm = keras_nlp.models.GPT2CausalLM.from_preset(\"gpt2_base_en\")\n",
            " |  gpt2_lm.fit(x=features, batch_size=2)\n",
            " |  ```\n",
            " |  \n",
            " |  Call `fit()` without preprocessing.\n",
            " |  ```python\n",
            " |  x = {\n",
            " |      \"token_ids\": np.array([[50256, 1, 2, 3, 4]] * 2),\n",
            " |      \"padding_mask\": np.array([[1, 1, 1, 1, 1]] * 2),\n",
            " |  }\n",
            " |  y = np.array([[1, 2, 3, 4, 50256]] * 2)\n",
            " |  sw = np.array([[1, 1, 1, 1, 1]] * 2)\n",
            " |  \n",
            " |  gpt2_lm = keras_nlp.models.GPT2CausalLM.from_preset(\n",
            " |      \"gpt2_base_en\",\n",
            " |      preprocessor=None,\n",
            " |  )\n",
            " |  gpt2_lm.fit(x=x, y=y, sample_weight=sw, batch_size=2)\n",
            " |  ```\n",
            " |  \n",
            " |  Custom backbone and vocabulary.\n",
            " |  ```python\n",
            " |  features = [\"a quick fox.\", \"a fox quick.\"]\n",
            " |  vocab = {\"<|endoftext|>\": 0, \"a\": 4, \"Ġquick\": 5, \"Ġfox\": 6}\n",
            " |  merges = [\"Ġ q\", \"u i\", \"c k\", \"ui ck\", \"Ġq uick\"]\n",
            " |  merges += [\"Ġ f\", \"o x\", \"Ġf ox\"]\n",
            " |  \n",
            " |  tokenizer = keras_nlp.models.GPT2Tokenizer(\n",
            " |      vocabulary=vocab,\n",
            " |      merges=merges,\n",
            " |  )\n",
            " |  preprocessor = keras_nlp.models.GPT2CausalLMPreprocessor(\n",
            " |      tokenizer=tokenizer,\n",
            " |      sequence_length=128,\n",
            " |  )\n",
            " |  backbone = keras_nlp.models.GPT2Backbone(\n",
            " |      vocabulary_size=30552,\n",
            " |      num_layers=4,\n",
            " |      num_heads=4,\n",
            " |      hidden_dim=256,\n",
            " |      intermediate_dim=512,\n",
            " |      max_sequence_length=128,\n",
            " |  )\n",
            " |  gpt2_lm = keras_nlp.models.GPT2CausalLM(\n",
            " |      backbone=backbone,\n",
            " |      preprocessor=preprocessor,\n",
            " |  )\n",
            " |  gpt2_lm.fit(x=features, batch_size=2)\n",
            " |  ```\n",
            " |  \n",
            " |  Method resolution order:\n",
            " |      GPT2CausalLM\n",
            " |      keras_nlp.src.models.generative_task.GenerativeTask\n",
            " |      keras_nlp.src.models.task.Task\n",
            " |      keras_nlp.src.utils.pipeline_model.PipelineModel\n",
            " |      keras_core.src.models.functional.Functional\n",
            " |      keras_core.src.ops.function.Function\n",
            " |      keras_core.src.models.model.Model\n",
            " |      keras_core.src.backend.jax.trainer.JAXTrainer\n",
            " |      keras_core.src.trainers.trainer.Trainer\n",
            " |      keras_core.src.layers.layer.Layer\n",
            " |      keras_core.src.backend.jax.layer.JaxLayer\n",
            " |      keras_core.src.ops.operation.Operation\n",
            " |      builtins.object\n",
            " |  \n",
            " |  Methods defined here:\n",
            " |  \n",
            " |  __init__(self, backbone, preprocessor=None, **kwargs)\n",
            " |      Initialize self.  See help(type(self)) for accurate signature.\n",
            " |  \n",
            " |  call_with_cache(self, token_ids, cache, cache_update_index)\n",
            " |      Forward pass of `GPT2CausalLM` with cache.\n",
            " |      \n",
            " |      `call_with_cache` adds an additional forward pass for the model for\n",
            " |      autoregressive inference. Unlike calling the model directly, this method\n",
            " |      allows caching previous key/value Tensors in multi-head attention layer,\n",
            " |      and avoids recomputing the outputs of seen tokens.\n",
            " |      \n",
            " |      Args:\n",
            " |          token_ids: a dense int Tensor with shape `(batch_size, max_length)`.\n",
            " |          cache: a dense float Tensor, the cache of key and value.\n",
            " |          cache_update_index: int, or int Tensor. The index of current inputs in the\n",
            " |              whole sequence.\n",
            " |      \n",
            " |      Returns:\n",
            " |          A (logits, hidden_states, cache) tuple. Where `logits` is the\n",
            " |          language model logits for the input token_ids, `hidden_states` is\n",
            " |          the final hidden representation of the input tokens, and `cache` is\n",
            " |          the decoding cache.\n",
            " |  \n",
            " |  generate_step(self, inputs, end_token_id=None)\n",
            " |      A compilable generation function for a single batch of inputs.\n",
            " |      \n",
            " |      This function represents the inner, XLA-compilable, generation function\n",
            " |      for a single batch of inputs. Inputs should have the same structure as\n",
            " |      model inputs, a dictionary with keys `\"token_ids\"` and `\"padding_mask\"`.\n",
            " |      \n",
            " |      Args:\n",
            " |          inputs: A dictionary with two keys `\"token_ids\"` and\n",
            " |              `\"padding_mask\"` and batched tensor values.\n",
            " |          end_token_id: The id of the end token to stop on. If all\n",
            " |              sequences have produced a new `end_token_id`, generation\n",
            " |              will stop.\n",
            " |  \n",
            " |  ----------------------------------------------------------------------\n",
            " |  Class methods defined here:\n",
            " |  \n",
            " |  from_preset(*args, **kwargs) from builtins.type\n",
            " |      Instantiate GPT2CausalLM model from preset architecture and weights.\n",
            " |      \n",
            " |      Args:\n",
            " |          preset: string. Must be one of \"gpt2_base_en\", \"gpt2_medium_en\", \"gpt2_large_en\", \"gpt2_extra_large_en\", \"gpt2_base_en_cnn_dailymail\".\n",
            " |          load_weights: Whether to load pre-trained weights into model.\n",
            " |              Defaults to `True`.\n",
            " |      \n",
            " |      Examples:\n",
            " |      ```python\n",
            " |      # Load architecture and weights from preset\n",
            " |      model = GPT2CausalLM.from_preset(\"gpt2_base_en\")\n",
            " |      \n",
            " |      # Load randomly initialized model from preset architecture\n",
            " |      model = GPT2CausalLM.from_preset(\n",
            " |          \"gpt2_base_en\",\n",
            " |          load_weights=False\n",
            " |      )\n",
            " |      ```\n",
            " |  \n",
            " |  ----------------------------------------------------------------------\n",
            " |  Readonly properties defined here:\n",
            " |  \n",
            " |  backbone_cls\n",
            " |  \n",
            " |  preprocessor_cls\n",
            " |  \n",
            " |  presets\n",
            " |  \n",
            " |  ----------------------------------------------------------------------\n",
            " |  Methods inherited from keras_nlp.src.models.generative_task.GenerativeTask:\n",
            " |  \n",
            " |  compile(self, *args, run_eagerly=False, jit_compile=True, sampler='top_k', **kwargs)\n",
            " |      Configures the model for training.\n",
            " |      \n",
            " |      Example:\n",
            " |      \n",
            " |      ```python\n",
            " |      model.compile(\n",
            " |          optimizer=keras_core.optimizers.Adam(learning_rate=1e-3),\n",
            " |          loss=keras_core.losses.BinaryCrossentropy(),\n",
            " |          metrics=[\n",
            " |              keras_core.metrics.BinaryAccuracy(),\n",
            " |              keras_core.metrics.FalseNegatives(),\n",
            " |          ],\n",
            " |      )\n",
            " |      ```\n",
            " |      \n",
            " |      Args:\n",
            " |          optimizer: String (name of optimizer) or optimizer instance. See\n",
            " |              `keras_core.optimizers`.\n",
            " |          loss: Loss function. May be a string (name of loss function), or\n",
            " |              a `keras_core.losses.Loss` instance. See `keras_core.losses`. A\n",
            " |              loss function is any callable with the signature\n",
            " |              `loss = fn(y_true, y_pred)`, where `y_true` are the ground truth\n",
            " |              values, and `y_pred` are the model's predictions.\n",
            " |              `y_true` should have shape `(batch_size, d0, .. dN)`\n",
            " |              (except in the case of sparse loss functions such as\n",
            " |              sparse categorical crossentropy which expects integer arrays of\n",
            " |              shape `(batch_size, d0, .. dN-1)`).\n",
            " |              `y_pred` should have shape `(batch_size, d0, .. dN)`.\n",
            " |              The loss function should return a float tensor.\n",
            " |          loss_weights: Optional list or dictionary specifying scalar\n",
            " |              coefficients (Python floats) to weight the loss contributions of\n",
            " |              different model outputs. The loss value that will be minimized\n",
            " |              by the model will then be the *weighted sum* of all individual\n",
            " |              losses, weighted by the `loss_weights` coefficients.  If a list,\n",
            " |              it is expected to have a 1:1 mapping to the model's outputs. If\n",
            " |              a dict, it is expected to map output names (strings) to scalar\n",
            " |              coefficients.\n",
            " |          metrics: List of metrics to be evaluated by the model during\n",
            " |              training and testing. Each of this can be a string (name of a\n",
            " |              built-in function), function or a `keras_core.metrics.Metric`\n",
            " |              instance. See `keras_core.metrics`. Typically you will use\n",
            " |              `metrics=['accuracy']`. A function is any callable with the\n",
            " |              signature `result = fn(y_true, _pred)`. To specify different\n",
            " |              metrics for different outputs of a multi-output model, you could\n",
            " |              also pass a dictionary, such as\n",
            " |              `metrics={'a':'accuracy', 'b':['accuracy', 'mse']}`.\n",
            " |              You can also pass a list to specify a metric or a list of\n",
            " |              metrics for each output, such as\n",
            " |              `metrics=[['accuracy'], ['accuracy', 'mse']]`\n",
            " |              or `metrics=['accuracy', ['accuracy', 'mse']]`. When you pass\n",
            " |              the strings 'accuracy' or 'acc', we convert this to one of\n",
            " |              `keras_core.metrics.BinaryAccuracy`,\n",
            " |              `keras_core.metrics.CategoricalAccuracy`,\n",
            " |              `keras_core.metrics.SparseCategoricalAccuracy` based on the\n",
            " |              shapes of the targets and of the model output. A similar\n",
            " |              conversion is done for the strings `\"crossentropy\"`\n",
            " |              and `\"ce\"` as well.\n",
            " |              The metrics passed here are evaluated without sample weighting;\n",
            " |              if you would like sample weighting to apply, you can specify\n",
            " |              your metrics via the `weighted_metrics` argument instead.\n",
            " |          weighted_metrics: List of metrics to be evaluated and weighted by\n",
            " |              `sample_weight` or `class_weight` during training and testing.\n",
            " |          run_eagerly: Bool. If `True`, this model's forward pass\n",
            " |               will never be compiled. It is recommended to leave this\n",
            " |               as `False` when training (for best performance),\n",
            " |               and to set it to `True` when debugging.\n",
            " |          steps_per_execution: Int. The number of batches to run\n",
            " |              during each a single compiled function call. Running multiple\n",
            " |              batches inside a single a single compiled function call can\n",
            " |              greatly improve performance on TPUs or small models with a large\n",
            " |              Python overhead. At most, one full epoch will be run each\n",
            " |              execution. If a number larger than the size of the epoch is\n",
            " |              passed, the execution will be truncated to the size of the\n",
            " |              epoch. Note that if `steps_per_execution` is set to `N`,\n",
            " |              `Callback.on_batch_begin` and `Callback.on_batch_end` methods\n",
            " |              will only be called every `N` batches (i.e. before/after\n",
            " |              each compiled function execution).\n",
            " |              Not supported with the PyTorch backend.\n",
            " |          jit_compile: Bool or `\"auto\"`. Whether to use XLA compilation when\n",
            " |              compiling a model. Not supported with the PyTorch backend.\n",
            " |              If `\"auto\"`, XLA compilation will be enabled if the\n",
            " |              the model supports it, and disabled otherwise.\n",
            " |          auto_scale_loss: Bool. If `True` and the model dtype policy is\n",
            " |              `\"mixed_float16\"`, the passed optimizer will be automatically\n",
            " |              wrapped in a `LossScaleOptimizer`, which will dynamically\n",
            " |              scale the loss to prevent underflow.\n",
            " |  \n",
            " |  generate(self, inputs, max_length=None)\n",
            " |      Generate text given prompt `inputs`.\n",
            " |      \n",
            " |      This method generates text based on given `inputs`. The sampling method\n",
            " |      used for generation can be set via the `compile()` method.\n",
            " |      \n",
            " |      If `inputs` are a `tf.data.Dataset`, outputs will be generated\n",
            " |      \"batch-by-batch\" and concatenated. Otherwise, all inputs will be handled\n",
            " |      as a single batch.\n",
            " |      \n",
            " |      If a `preprocessor` is attached to the model, `inputs` will be\n",
            " |      preprocessed inside the `generate()` function and should match the\n",
            " |      structure expected by the `preprocessor` layer (usually raw strings).\n",
            " |      If a `preprocessor` is not attached, inputs should match the structure\n",
            " |      expected by the `backbone`. See the example usage above for a\n",
            " |      demonstration of each.\n",
            " |      \n",
            " |      Args:\n",
            " |          inputs: python data, tensor data, or a `tf.data.Dataset`. If a\n",
            " |              `preprocessor` is attached to the model, `inputs` should match\n",
            " |              the structure expected by the `preprocessor` layer. If a\n",
            " |              `preprocessor` is not attached, `inputs` should match the\n",
            " |              structure expected the `backbone` model.\n",
            " |          max_length: Optional. int. The max length of the generated sequence.\n",
            " |              Will default to the max configured `sequence_length` of the\n",
            " |              `preprocessor`. If `preprocessor` is `None`, `inputs` should be\n",
            " |              should be padded to the desired maximum length and this argument\n",
            " |              will be ignored.\n",
            " |  \n",
            " |  make_generate_function(self)\n",
            " |      Create or return the compiled generation function.\n",
            " |  \n",
            " |  ----------------------------------------------------------------------\n",
            " |  Methods inherited from keras_nlp.src.models.task.Task:\n",
            " |  \n",
            " |  __setattr__(self, name, value)\n",
            " |      Implement setattr(self, name, value).\n",
            " |  \n",
            " |  get_config(self)\n",
            " |      Returns the config of the object.\n",
            " |      \n",
            " |      An object config is a Python dictionary (serializable)\n",
            " |      containing the information needed to re-instantiate it.\n",
            " |  \n",
            " |  preprocess_samples(self, x, y=None, sample_weight=None)\n",
            " |      An overridable function which preprocesses entire samples.\n",
            " |  \n",
            " |  summary(self, line_length=None, positions=None, print_fn=None, **kwargs)\n",
            " |      Override `model.summary()` to show a preprocessor if set.\n",
            " |  \n",
            " |  ----------------------------------------------------------------------\n",
            " |  Class methods inherited from keras_nlp.src.models.task.Task:\n",
            " |  \n",
            " |  __init_subclass__(**kwargs) from builtins.type\n",
            " |      This method is called when a class is subclassed.\n",
            " |      \n",
            " |      The default implementation does nothing. It may be\n",
            " |      overridden to extend subclasses.\n",
            " |  \n",
            " |  from_config(config) from builtins.type\n",
            " |      Creates a layer from its config.\n",
            " |      \n",
            " |      This method is the reverse of `get_config`,\n",
            " |      capable of instantiating the same layer from the config\n",
            " |      dictionary. It does not handle layer connectivity\n",
            " |      (handled by Network), nor weights (handled by `set_weights`).\n",
            " |      \n",
            " |      Args:\n",
            " |          config: A Python dictionary, typically the\n",
            " |              output of get_config.\n",
            " |      \n",
            " |      Returns:\n",
            " |          A layer instance.\n",
            " |  \n",
            " |  ----------------------------------------------------------------------\n",
            " |  Readonly properties inherited from keras_nlp.src.models.task.Task:\n",
            " |  \n",
            " |  layers\n",
            " |  \n",
            " |  ----------------------------------------------------------------------\n",
            " |  Data descriptors inherited from keras_nlp.src.models.task.Task:\n",
            " |  \n",
            " |  backbone\n",
            " |      A `keras.Model` instance providing the backbone submodel.\n",
            " |  \n",
            " |  preprocessor\n",
            " |      A `keras.layers.Layer` instance used to preprocess inputs.\n",
            " |  \n",
            " |  ----------------------------------------------------------------------\n",
            " |  Methods inherited from keras_nlp.src.utils.pipeline_model.PipelineModel:\n",
            " |  \n",
            " |  evaluate(self, x=None, y=None, batch_size=None, sample_weight=None, **kwargs)\n",
            " |      Returns the loss value & metrics values for the model in test mode.\n",
            " |      \n",
            " |      Computation is done in batches (see the `batch_size` arg.)\n",
            " |      \n",
            " |      Args:\n",
            " |          x: Input data. It could be:\n",
            " |              - A NumPy array (or array-like), or a list of arrays\n",
            " |                  (in case the model has multiple inputs).\n",
            " |              - A tensor, or a list of tensors\n",
            " |                  (in case the model has multiple inputs).\n",
            " |              - A dict mapping input names to the corresponding array/tensors,\n",
            " |                  if the model has named inputs.\n",
            " |              - A `tf.data.Dataset`. Should return a tuple\n",
            " |                  of either `(inputs, targets)` or\n",
            " |                  `(inputs, targets, sample_weights)`.\n",
            " |              - A generator or `keras_core.utils.PyDataset` returning\n",
            " |                  `(inputs, targets)` or `(inputs, targets, sample_weights)`.\n",
            " |          y: Target data. Like the input data `x`, it could be either NumPy\n",
            " |              array(s) or backend-native tensor(s).\n",
            " |              If `x` is a `tf.data.Dataset` or `keras_core.utils.PyDataset`\n",
            " |              instance, `y` should not be specified\n",
            " |              (since targets will be obtained from the iterator/dataset).\n",
            " |          batch_size: Integer or `None`. Number of samples per batch of\n",
            " |              computation. If unspecified, `batch_size` will default to 32. Do\n",
            " |              not specify the `batch_size` if your data is in the form of a\n",
            " |              dataset, generators, or `keras_core.utils.PyDataset` instances\n",
            " |              (since they generate batches).\n",
            " |          verbose: `\"auto\"`, 0, 1, or 2. Verbosity mode.\n",
            " |              0 = silent, 1 = progress bar, 2 = single line.\n",
            " |              `\"auto\"` becomes 1 for most cases.\n",
            " |              Note that the progress bar is not\n",
            " |              particularly useful when logged to a file, so `verbose=2` is\n",
            " |              recommended when not running interactively\n",
            " |              (e.g. in a production environment). Defaults to `\"auto\"`.\n",
            " |          sample_weight: Optional NumPy array of weights for the test samples,\n",
            " |              used for weighting the loss function. You can either pass a flat\n",
            " |              (1D) NumPy array with the same length as the input samples\n",
            " |              (1:1 mapping between weights and samples), or in the case of\n",
            " |              temporal data, you can pass a 2D array with shape `(samples,\n",
            " |              sequence_length)`, to apply a different weight to every\n",
            " |              timestep of every sample. This argument is not supported when\n",
            " |              `x` is a dataset, instead pass sample weights as the third\n",
            " |              element of `x`.\n",
            " |          steps: Integer or `None`. Total number of steps (batches of samples)\n",
            " |              before declaring the evaluation round finished. Ignored with the\n",
            " |              default value of `None`. If `x` is a `tf.data.Dataset` and\n",
            " |              `steps` is `None`, evaluation will run until the dataset\n",
            " |              is exhausted.\n",
            " |          callbacks: List of `keras_core.callbacks.Callback` instances.\n",
            " |              List of callbacks to apply during evaluation.\n",
            " |          return_dict: If `True`, loss and metric results are returned as a\n",
            " |              dict, with each key being the name of the metric.\n",
            " |              If `False`, they are returned as a list.\n",
            " |      \n",
            " |      Returns:\n",
            " |          Scalar test loss (if the model has a single output and no metrics)\n",
            " |          or list of scalars (if the model has multiple outputs\n",
            " |          and/or metrics). The attribute `model.metrics_names` will give you\n",
            " |          the display labels for the scalar outputs.\n",
            " |  \n",
            " |  fit(self, x=None, y=None, batch_size=None, sample_weight=None, validation_data=None, validation_split=None, **kwargs)\n",
            " |      Trains the model for a fixed number of epochs (dataset iterations).\n",
            " |      \n",
            " |      Args:\n",
            " |          x: Input data. It could be:\n",
            " |            - A NumPy array (or array-like), or a list of arrays\n",
            " |              (in case the model has multiple inputs).\n",
            " |            - A tensor, or a list of tensors\n",
            " |              (in case the model has multiple inputs).\n",
            " |            - A dict mapping input names to the corresponding array/tensors,\n",
            " |              if the model has named inputs.\n",
            " |            - A `tf.data.Dataset`. Should return a tuple\n",
            " |              of either `(inputs, targets)` or\n",
            " |              `(inputs, targets, sample_weights)`.\n",
            " |            - A `keras_core.utils.PyDataset` returning `(inputs,\n",
            " |              targets)` or `(inputs, targets, sample_weights)`.\n",
            " |          y: Target data. Like the input data `x`,\n",
            " |              it could be either NumPy array(s) or backend-native tensor(s).\n",
            " |              If `x` is a dataset, generator,\n",
            " |              or `keras_core.utils.PyDataset` instance, `y` should\n",
            " |              not be specified (since targets will be obtained from `x`).\n",
            " |          batch_size: Integer or `None`.\n",
            " |              Number of samples per gradient update.\n",
            " |              If unspecified, `batch_size` will default to 32.\n",
            " |              Do not specify the `batch_size` if your data is in the\n",
            " |              form of datasets, generators, or `keras_core.utils.PyDataset`\n",
            " |              instances (since they generate batches).\n",
            " |          epochs: Integer. Number of epochs to train the model.\n",
            " |              An epoch is an iteration over the entire `x` and `y`\n",
            " |              data provided\n",
            " |              (unless the `steps_per_epoch` flag is set to\n",
            " |              something other than None).\n",
            " |              Note that in conjunction with `initial_epoch`,\n",
            " |              `epochs` is to be understood as \"final epoch\".\n",
            " |              The model is not trained for a number of iterations\n",
            " |              given by `epochs`, but merely until the epoch\n",
            " |              of index `epochs` is reached.\n",
            " |          verbose: `\"auto\"`, 0, 1, or 2. Verbosity mode.\n",
            " |              0 = silent, 1 = progress bar, 2 = one line per epoch.\n",
            " |              \"auto\" becomes 1 for most cases.\n",
            " |              Note that the progress bar is not\n",
            " |              particularly useful when logged to a file,\n",
            " |              so `verbose=2` is recommended when not running interactively\n",
            " |              (e.g., in a production environment). Defaults to `\"auto\"`.\n",
            " |          callbacks: List of `keras_core.callbacks.Callback` instances.\n",
            " |              List of callbacks to apply during training.\n",
            " |              See `keras_core.callbacks`. Note\n",
            " |              `keras_core.callbacks.ProgbarLogger` and\n",
            " |              `keras_core.callbacks.History` callbacks are created\n",
            " |              automatically and need not be passed to `model.fit()`.\n",
            " |              `keras_core.callbacks.ProgbarLogger` is created\n",
            " |              or not based on the `verbose` argument in `model.fit()`.\n",
            " |          validation_split: Float between 0 and 1.\n",
            " |              Fraction of the training data to be used as validation data.\n",
            " |              The model will set apart this fraction of the training data,\n",
            " |              will not train on it, and will evaluate\n",
            " |              the loss and any model metrics\n",
            " |              on this data at the end of each epoch.\n",
            " |              The validation data is selected from the last samples\n",
            " |              in the `x` and `y` data provided, before shuffling. This\n",
            " |              argument is not supported when `x` is a dataset, generator or\n",
            " |              `keras_core.utils.PyDataset` instance.\n",
            " |              If both `validation_data` and `validation_split` are provided,\n",
            " |              `validation_data` will override `validation_split`.\n",
            " |          validation_data: Data on which to evaluate\n",
            " |              the loss and any model metrics at the end of each epoch.\n",
            " |              The model will not be trained on this data. Thus, note the fact\n",
            " |              that the validation loss of data provided using\n",
            " |              `validation_split` or `validation_data` is not affected by\n",
            " |              regularization layers like noise and dropout.\n",
            " |              `validation_data` will override `validation_split`.\n",
            " |              `validation_data` could be:\n",
            " |                - A tuple `(x_val, y_val)` of NumPy arrays or tensors.\n",
            " |                - A tuple `(x_val, y_val, val_sample_weights)` of NumPy\n",
            " |                  arrays.\n",
            " |                - A `tf.data.Dataset`.\n",
            " |                - A Python generator or `keras_core.utils.PyDataset` returning\n",
            " |                `(inputs, targets)` or `(inputs, targets, sample_weights)`.\n",
            " |          shuffle: Boolean, whether to shuffle the training data\n",
            " |              before each epoch. This argument is\n",
            " |              ignored when `x` is a generator or a `tf.data.Dataset`.\n",
            " |          class_weight: Optional dictionary mapping class indices (integers)\n",
            " |              to a weight (float) value, used for weighting the loss function\n",
            " |              (during training only).\n",
            " |              This can be useful to tell the model to\n",
            " |              \"pay more attention\" to samples from\n",
            " |              an under-represented class. When `class_weight` is specified\n",
            " |              and targets have a rank of 2 or greater, either `y` must be\n",
            " |              one-hot encoded, or an explicit final dimension of `1` must\n",
            " |              be included for sparse class labels.\n",
            " |          sample_weight: Optional NumPy array of weights for\n",
            " |              the training samples, used for weighting the loss function\n",
            " |              (during training only). You can either pass a flat (1D)\n",
            " |              NumPy array with the same length as the input samples\n",
            " |              (1:1 mapping between weights and samples),\n",
            " |              or in the case of temporal data,\n",
            " |              you can pass a 2D array with shape\n",
            " |              `(samples, sequence_length)`,\n",
            " |              to apply a different weight to every timestep of every sample.\n",
            " |              This argument is not supported when `x` is a dataset, generator,\n",
            " |              or `keras_core.utils.PyDataset` instance, instead provide the\n",
            " |              sample_weights as the third element of `x`.\n",
            " |              Note that sample weighting does not apply to metrics specified\n",
            " |              via the `metrics` argument in `compile()`. To apply sample\n",
            " |              weighting to your metrics, you can specify them via the\n",
            " |              `weighted_metrics` in `compile()` instead.\n",
            " |          initial_epoch: Integer.\n",
            " |              Epoch at which to start training\n",
            " |              (useful for resuming a previous training run).\n",
            " |          steps_per_epoch: Integer or `None`.\n",
            " |              Total number of steps (batches of samples)\n",
            " |              before declaring one epoch finished and starting the\n",
            " |              next epoch. When training with input tensors such as\n",
            " |              backend-native tensors, the default `None` is equal to\n",
            " |              the number of samples in your dataset divided by\n",
            " |              the batch size, or 1 if that cannot be determined. If `x` is a\n",
            " |              `tf.data.Dataset`, and `steps_per_epoch`\n",
            " |              is `None`, the epoch will run until the input dataset is\n",
            " |              exhausted.  When passing an infinitely repeating dataset, you\n",
            " |              must specify the `steps_per_epoch` argument. If\n",
            " |              `steps_per_epoch=-1` the training will run indefinitely with an\n",
            " |              infinitely repeating dataset.\n",
            " |          validation_steps: Only relevant if `validation_data` is provided.\n",
            " |              Total number of steps (batches of\n",
            " |              samples) to draw before stopping when performing validation\n",
            " |              at the end of every epoch. If `validation_steps` is `None`,\n",
            " |              validation will run until the `validation_data` dataset is\n",
            " |              exhausted. In the case of an infinitely repeated dataset, it\n",
            " |              will run into an infinite loop. If `validation_steps` is\n",
            " |              specified and only part of the dataset will be consumed, the\n",
            " |              evaluation will start from the beginning of the dataset at each\n",
            " |              epoch. This ensures that the same validation samples are used\n",
            " |              every time.\n",
            " |          validation_batch_size: Integer or `None`.\n",
            " |              Number of samples per validation batch.\n",
            " |              If unspecified, will default to `batch_size`.\n",
            " |              Do not specify the `validation_batch_size` if your data is in\n",
            " |              the form of datasets or `keras_core.utils.PyDataset`\n",
            " |              instances (since they generate batches).\n",
            " |          validation_freq: Only relevant if validation data is provided.\n",
            " |            Specifies how many training epochs to run\n",
            " |            before a new validation run is performed, e.g. `validation_freq=2`\n",
            " |            runs validation every 2 epochs.\n",
            " |      \n",
            " |      Unpacking behavior for iterator-like inputs:\n",
            " |          A common pattern is to pass an iterator like object such as a\n",
            " |          `tf.data.Dataset` or a `keras_core.utils.PyDataset` to `fit()`,\n",
            " |          which will in fact yield not only features (`x`)\n",
            " |          but optionally targets (`y`) and sample weights (`sample_weight`).\n",
            " |          Keras requires that the output of such iterator-likes be\n",
            " |          unambiguous. The iterator should return a tuple\n",
            " |          of length 1, 2, or 3, where the optional second and third elements\n",
            " |          will be used for `y` and `sample_weight` respectively.\n",
            " |          Any other type provided will be wrapped in\n",
            " |          a length-one tuple, effectively treating everything as `x`. When\n",
            " |          yielding dicts, they should still adhere to the top-level tuple\n",
            " |          structure,\n",
            " |          e.g. `({\"x0\": x0, \"x1\": x1}, y)`. Keras will not attempt to separate\n",
            " |          features, targets, and weights from the keys of a single dict.\n",
            " |          A notable unsupported data type is the `namedtuple`. The reason is\n",
            " |          that it behaves like both an ordered datatype (tuple) and a mapping\n",
            " |          datatype (dict). So given a namedtuple of the form:\n",
            " |          `namedtuple(\"example_tuple\", [\"y\", \"x\"])`\n",
            " |          it is ambiguous whether to reverse the order of the elements when\n",
            " |          interpreting the value. Even worse is a tuple of the form:\n",
            " |          `namedtuple(\"other_tuple\", [\"x\", \"y\", \"z\"])`\n",
            " |          where it is unclear if the tuple was intended to be unpacked\n",
            " |          into `x`, `y`, and `sample_weight` or passed through\n",
            " |          as a single element to `x`.\n",
            " |      \n",
            " |      Returns:\n",
            " |          A `History` object. Its `History.history` attribute is\n",
            " |          a record of training loss values and metrics values\n",
            " |          at successive epochs, as well as validation loss values\n",
            " |          and validation metrics values (if applicable).\n",
            " |  \n",
            " |  predict(self, x=None, batch_size=None, **kwargs)\n",
            " |      Generates output predictions for the input samples.\n",
            " |      \n",
            " |      Computation is done in batches. This method is designed for batch\n",
            " |      processing of large numbers of inputs. It is not intended for use inside\n",
            " |      of loops that iterate over your data and process small numbers of inputs\n",
            " |      at a time.\n",
            " |      \n",
            " |      For small numbers of inputs that fit in one batch,\n",
            " |      directly use `__call__()` for faster execution, e.g.,\n",
            " |      `model(x)`, or `model(x, training=False)` if you have layers such as\n",
            " |      `BatchNormalization` that behave differently during\n",
            " |      inference.\n",
            " |      \n",
            " |      Note: See [this FAQ entry](\n",
            " |      https://keras.io/getting_started/faq/#whats-the-difference-between-model-methods-predict-and-call)\n",
            " |      for more details about the difference between `Model` methods\n",
            " |      `predict()` and `__call__()`.\n",
            " |      \n",
            " |      Args:\n",
            " |          x: Input samples. It could be:\n",
            " |              - A NumPy array (or array-like), or a list of arrays\n",
            " |                  (in case the model has multiple inputs).\n",
            " |              - A tensor, or a list of tensors\n",
            " |                  (in case the model has multiple inputs).\n",
            " |              - A `tf.data.Dataset`.\n",
            " |              - A `keras_core.utils.PyDataset` instance.\n",
            " |          batch_size: Integer or `None`.\n",
            " |              Number of samples per batch.\n",
            " |              If unspecified, `batch_size` will default to 32.\n",
            " |              Do not specify the `batch_size` if your data is in the\n",
            " |              form of dataset, generators, or `keras_core.utils.PyDataset`\n",
            " |              instances (since they generate batches).\n",
            " |          verbose: `\"auto\"`, 0, 1, or 2. Verbosity mode.\n",
            " |              0 = silent, 1 = progress bar, 2 = single line.\n",
            " |              `\"auto\"` becomes 1 for most cases. Note that the progress bar\n",
            " |              is not particularly useful when logged to a file,\n",
            " |              so `verbose=2` is recommended when not running interactively\n",
            " |              (e.g. in a production environment). Defaults to `\"auto\"`.\n",
            " |          steps: Total number of steps (batches of samples)\n",
            " |              before declaring the prediction round finished.\n",
            " |              Ignored with the default value of `None`.\n",
            " |              If `x` is a `tf.data.Dataset` and `steps` is `None`,\n",
            " |              `predict()` will run until the input dataset is exhausted.\n",
            " |          callbacks: List of `keras_core.callbacks.Callback` instances.\n",
            " |              List of callbacks to apply during prediction.\n",
            " |      \n",
            " |      Returns:\n",
            " |          NumPy array(s) of predictions.\n",
            " |  \n",
            " |  predict_on_batch(self, x, **kwargs)\n",
            " |      Returns predictions for a single batch of samples.\n",
            " |      \n",
            " |      Args:\n",
            " |          x: Input data. It must be array-like.\n",
            " |      \n",
            " |      Returns:\n",
            " |          NumPy array(s) of predictions.\n",
            " |  \n",
            " |  preprocess_features(self, x)\n",
            " |      An overridable function which preprocesses features.\n",
            " |  \n",
            " |  preprocess_labels(self, y)\n",
            " |      An overridable function which preprocesses labels.\n",
            " |  \n",
            " |  test_on_batch(self, x, y=None, sample_weight=None, **kwargs)\n",
            " |      Test the model on a single batch of samples.\n",
            " |      \n",
            " |      Args:\n",
            " |          x: Input data. Must be array-like.\n",
            " |          y: Target data. Must be array-like.\n",
            " |          sample_weight: Optional array of the same length as x, containing\n",
            " |              weights to apply to the model's loss for each sample.\n",
            " |              In the case of temporal data, you can pass a 2D array\n",
            " |              with shape `(samples, sequence_length)`, to apply a different\n",
            " |              weight to every timestep of every sample.\n",
            " |          return_dict: If `True`, loss and metric results are returned as a\n",
            " |              dict, with each key being the name of the metric. If `False`,\n",
            " |              they are returned as a list.\n",
            " |      \n",
            " |      Returns:\n",
            " |          A scalar loss value (when no metrics and `return_dict=False`),\n",
            " |          a list of loss and metric values\n",
            " |          (if there are metrics and `return_dict=False`), or a dict of\n",
            " |          metric and loss values (if `return_dict=True`).\n",
            " |  \n",
            " |  train_on_batch(self, x, y=None, sample_weight=None, **kwargs)\n",
            " |      Runs a single gradient update on a single batch of data.\n",
            " |      \n",
            " |      Args:\n",
            " |          x: Input data. Must be array-like.\n",
            " |          y: Target data. Must be array-like.\n",
            " |          sample_weight: Optional array of the same length as x, containing\n",
            " |              weights to apply to the model's loss for each sample.\n",
            " |              In the case of temporal data, you can pass a 2D array\n",
            " |              with shape `(samples, sequence_length)`, to apply a different\n",
            " |              weight to every timestep of every sample.\n",
            " |          class_weight: Optional dictionary mapping class indices (integers)\n",
            " |              to a weight (float) to apply to the model's loss for the samples\n",
            " |              from this class during training. This can be useful to tell the\n",
            " |              model to \"pay more attention\" to samples from an\n",
            " |              under-represented class. When `class_weight` is specified\n",
            " |              and targets have a rank of 2 or greater, either `y` must\n",
            " |              be one-hot encoded, or an explicit final dimension of 1\n",
            " |              must be included for sparse class labels.\n",
            " |          return_dict: If `True`, loss and metric results are returned as a\n",
            " |              dict, with each key being the name of the metric. If `False`,\n",
            " |              they are returned as a list.\n",
            " |      \n",
            " |      Returns:\n",
            " |          A scalar loss value (when no metrics and `return_dict=False`),\n",
            " |          a list of loss and metric values\n",
            " |          (if there are metrics and `return_dict=False`), or a dict of\n",
            " |          metric and loss values (if `return_dict=True`).\n",
            " |  \n",
            " |  ----------------------------------------------------------------------\n",
            " |  Methods inherited from keras_core.src.models.functional.Functional:\n",
            " |  \n",
            " |  add_loss(self, loss)\n",
            " |      Can be called inside of the `call()` method to add a scalar loss.\n",
            " |      \n",
            " |      Example:\n",
            " |      \n",
            " |      ```python\n",
            " |      class MyLayer(Layer):\n",
            " |          ...\n",
            " |          def call(self, x):\n",
            " |              self.add_loss(ops.sum(x))\n",
            " |              return x\n",
            " |      ```\n",
            " |  \n",
            " |  build(self, input_shape)\n",
            " |  \n",
            " |  call(self, inputs, training=None, mask=None)\n",
            " |      Computes output tensors for new inputs.\n",
            " |  \n",
            " |  compute_output_spec(self, inputs, training=None, mask=None)\n",
            " |  \n",
            " |  ----------------------------------------------------------------------\n",
            " |  Readonly properties inherited from keras_core.src.models.functional.Functional:\n",
            " |  \n",
            " |  input\n",
            " |      Retrieves the input tensor(s) of a symbolic operation.\n",
            " |      \n",
            " |      Only returns the tensor(s) corresponding to the *first time*\n",
            " |      the operation was called.\n",
            " |      \n",
            " |      Returns:\n",
            " |          Input tensor or list of input tensors.\n",
            " |  \n",
            " |  input_shape\n",
            " |  \n",
            " |  output\n",
            " |      Retrieves the output tensor(s) of a layer.\n",
            " |      \n",
            " |      Only returns the tensor(s) corresponding to the *first time*\n",
            " |      the operation was called.\n",
            " |      \n",
            " |      Returns:\n",
            " |          Output tensor or list of output tensors.\n",
            " |  \n",
            " |  output_shape\n",
            " |  \n",
            " |  ----------------------------------------------------------------------\n",
            " |  Data descriptors inherited from keras_core.src.models.functional.Functional:\n",
            " |  \n",
            " |  input_spec\n",
            " |  \n",
            " |  ----------------------------------------------------------------------\n",
            " |  Readonly properties inherited from keras_core.src.ops.function.Function:\n",
            " |  \n",
            " |  inputs\n",
            " |  \n",
            " |  operations\n",
            " |  \n",
            " |  outputs\n",
            " |  \n",
            " |  ----------------------------------------------------------------------\n",
            " |  Methods inherited from keras_core.src.models.model.Model:\n",
            " |  \n",
            " |  build_from_config(self, config)\n",
            " |      Builds the layer's states with the supplied config dict.\n",
            " |      \n",
            " |      By default, this method calls the `build(config[\"input_shape\"])` method,\n",
            " |      which creates weights based on the layer's input shape in the supplied\n",
            " |      config. If your config contains other information needed to load the\n",
            " |      layer's state, you should override this method.\n",
            " |      \n",
            " |      Args:\n",
            " |          config: Dict containing the input shape associated with this layer.\n",
            " |  \n",
            " |  export(self, filepath, format='tf_saved_model')\n",
            " |      [TF backend only]* Create a TF SavedModel artifact for inference\n",
            " |      (e.g. via TF-Serving).\n",
            " |      \n",
            " |      **Note:** This can currently only be used with the TF backend.\n",
            " |      \n",
            " |      This method lets you export a model to a lightweight SavedModel artifact\n",
            " |      that contains the model's forward pass only (its `call()` method)\n",
            " |      and can be served via e.g. TF-Serving. The forward pass is registered\n",
            " |      under the name `serve()` (see example below).\n",
            " |      \n",
            " |      The original code of the model (including any custom layers you may\n",
            " |      have used) is *no longer* necessary to reload the artifact -- it is\n",
            " |      entirely standalone.\n",
            " |      \n",
            " |      Args:\n",
            " |          filepath: `str` or `pathlib.Path` object. Path where to save\n",
            " |              the artifact.\n",
            " |      \n",
            " |      Example:\n",
            " |      \n",
            " |      ```python\n",
            " |      # Create the artifact\n",
            " |      model.export(\"path/to/location\")\n",
            " |      \n",
            " |      # Later, in a different process / environment...\n",
            " |      reloaded_artifact = tf.saved_model.load(\"path/to/location\")\n",
            " |      predictions = reloaded_artifact.serve(input_data)\n",
            " |      ```\n",
            " |      \n",
            " |      If you would like to customize your serving endpoints, you can\n",
            " |      use the lower-level `keras_core.export.ExportArchive` class. The\n",
            " |      `export()` method relies on `ExportArchive` internally.\n",
            " |  \n",
            " |  get_layer(self, name=None, index=None)\n",
            " |      Retrieves a layer based on either its name (unique) or index.\n",
            " |      \n",
            " |      If `name` and `index` are both provided, `index` will take precedence.\n",
            " |      Indices are based on order of horizontal graph traversal (bottom-up).\n",
            " |      \n",
            " |      Args:\n",
            " |          name: String, name of layer.\n",
            " |          index: Integer, index of layer.\n",
            " |      \n",
            " |      Returns:\n",
            " |          A layer instance.\n",
            " |  \n",
            " |  load_weights(self, filepath, skip_mismatch=False, **kwargs)\n",
            " |      Load weights from a file saved via `save_weights()`.\n",
            " |      \n",
            " |      Weights are loaded based on the network's\n",
            " |      topology. This means the architecture should be the same as when the\n",
            " |      weights were saved. Note that layers that don't have weights are not\n",
            " |      taken into account in the topological ordering, so adding or removing\n",
            " |      layers is fine as long as they don't have weights.\n",
            " |      \n",
            " |      **Partial weight loading**\n",
            " |      \n",
            " |      If you have modified your model, for instance by adding a new layer\n",
            " |      (with weights) or by changing the shape of the weights of a layer,\n",
            " |      you can choose to ignore errors and continue loading\n",
            " |      by setting `skip_mismatch=True`. In this case any layer with\n",
            " |      mismatching weights will be skipped. A warning will be displayed\n",
            " |      for each skipped layer.\n",
            " |      \n",
            " |      Args:\n",
            " |          filepath: String, path to the weights file to load.\n",
            " |              It can either be a `.weights.h5` file\n",
            " |              or a legacy `.h5` weights file.\n",
            " |          skip_mismatch: Boolean, whether to skip loading of layers where\n",
            " |              there is a mismatch in the number of weights, or a mismatch in\n",
            " |              the shape of the weights.\n",
            " |  \n",
            " |  save(self, filepath, overwrite=True, **kwargs)\n",
            " |      Saves a model as a `.keras` file.\n",
            " |      \n",
            " |      Args:\n",
            " |          filepath: `str` or `pathlib.Path` object.\n",
            " |              Path where to save the model. Must end in `.keras`.\n",
            " |          overwrite: Whether we should overwrite any existing model\n",
            " |              at the target location, or instead ask the user\n",
            " |              via an interactive prompt.\n",
            " |          save_format: Format to use, as a string. Only the `\"keras\"`\n",
            " |              format is supported at this time.\n",
            " |      \n",
            " |      Example:\n",
            " |      \n",
            " |      ```python\n",
            " |      model = keras_core.Sequential(\n",
            " |          [\n",
            " |              keras_core.layers.Dense(5, input_shape=(3,)),\n",
            " |              keras_core.layers.Softmax(),\n",
            " |          ],\n",
            " |      )\n",
            " |      model.save(\"model.keras\")\n",
            " |      loaded_model = keras_core.saving.load_model(\"model.keras\")\n",
            " |      x = keras.random.uniform((10, 3))\n",
            " |      assert np.allclose(model.predict(x), loaded_model.predict(x))\n",
            " |      ```\n",
            " |      \n",
            " |      Note that `model.save()` is an alias for\n",
            " |      `keras_core.saving.save_model()`.\n",
            " |      \n",
            " |      The saved `.keras` file contains:\n",
            " |      \n",
            " |      - The model's configuration (architecture)\n",
            " |      - The model's weights\n",
            " |      - The model's optimizer's state (if any)\n",
            " |      \n",
            " |      Thus models can be reinstantiated in the exact same state.\n",
            " |  \n",
            " |  save_weights(self, filepath, overwrite=True)\n",
            " |      Saves all layer weights to a `.weights.h5` file.\n",
            " |      \n",
            " |      Args:\n",
            " |          filepath: `str` or `pathlib.Path` object.\n",
            " |              Path where to save the model. Must end in `.weights.h5`.\n",
            " |          overwrite: Whether we should overwrite any existing model\n",
            " |              at the target location, or instead ask the user\n",
            " |              via an interactive prompt.\n",
            " |  \n",
            " |  to_json(self, **kwargs)\n",
            " |      Returns a JSON string containing the network configuration.\n",
            " |      \n",
            " |      To load a network from a JSON save file, use\n",
            " |      `keras.models.model_from_json(json_string, custom_objects={...})`.\n",
            " |      \n",
            " |      Args:\n",
            " |          **kwargs: Additional keyword arguments to be passed to\n",
            " |              `json.dumps()`.\n",
            " |      \n",
            " |      Returns:\n",
            " |          A JSON string.\n",
            " |  \n",
            " |  ----------------------------------------------------------------------\n",
            " |  Static methods inherited from keras_core.src.models.model.Model:\n",
            " |  \n",
            " |  __new__(cls, *args, **kwargs)\n",
            " |      Create and return a new object.  See help(type) for accurate signature.\n",
            " |  \n",
            " |  ----------------------------------------------------------------------\n",
            " |  Methods inherited from keras_core.src.backend.jax.trainer.JAXTrainer:\n",
            " |  \n",
            " |  compute_loss_and_updates(self, trainable_variables, non_trainable_variables, x, y, sample_weight, training=False, optimizer_variables=None)\n",
            " |      This method is stateless and is intended for use with jax.grad.\n",
            " |  \n",
            " |  jax_state_sync(self)\n",
            " |  \n",
            " |  make_predict_function(self, force=False)\n",
            " |  \n",
            " |  make_test_function(self, force=False)\n",
            " |  \n",
            " |  make_train_function(self, force=False)\n",
            " |  \n",
            " |  predict_step(self, state, data)\n",
            " |  \n",
            " |  test_step(self, state, data)\n",
            " |  \n",
            " |  train_step(self, state, data)\n",
            " |  \n",
            " |  ----------------------------------------------------------------------\n",
            " |  Methods inherited from keras_core.src.trainers.trainer.Trainer:\n",
            " |  \n",
            " |  compile_from_config(self, config)\n",
            " |      Compiles the model with the information given in config.\n",
            " |      \n",
            " |      This method uses the information in the config (optimizer, loss,\n",
            " |      metrics, etc.) to compile the model.\n",
            " |      \n",
            " |      Args:\n",
            " |          config: Dict containing information for compiling the model.\n",
            " |  \n",
            " |  compute_loss(self, x=None, y=None, y_pred=None, sample_weight=None, allow_empty=False)\n",
            " |      Compute the total loss, validate it, and return it.\n",
            " |      \n",
            " |      Subclasses can optionally override this method to provide custom loss\n",
            " |      computation logic.\n",
            " |      \n",
            " |      Example:\n",
            " |      \n",
            " |      ```python\n",
            " |      class MyModel(Model):\n",
            " |          def __init__(self, *args, **kwargs):\n",
            " |              super().__init__(*args, **kwargs)\n",
            " |              self.loss_tracker = metrics.Mean(name='loss')\n",
            " |      \n",
            " |          def compute_loss(self, x, y, y_pred, sample_weight):\n",
            " |              loss = ops.means((y_pred - y) ** 2)\n",
            " |              loss += ops.sum(self.losses)\n",
            " |              self.loss_tracker.update_state(loss)\n",
            " |              return loss\n",
            " |      \n",
            " |          def reset_metrics(self):\n",
            " |              self.loss_tracker.reset_state()\n",
            " |      \n",
            " |          @property\n",
            " |          def metrics(self):\n",
            " |              return [self.loss_tracker]\n",
            " |      \n",
            " |      inputs = layers.Input(shape=(10,), name='my_input')\n",
            " |      outputs = layers.Dense(10)(inputs)\n",
            " |      model = MyModel(inputs, outputs)\n",
            " |      model.add_loss(ops.sum(outputs))\n",
            " |      \n",
            " |      optimizer = SGD()\n",
            " |      model.compile(optimizer, loss='mse', steps_per_execution=10)\n",
            " |      dataset = ...\n",
            " |      model.fit(dataset, epochs=2, steps_per_epoch=10)\n",
            " |      print(f\"Custom loss: {model.loss_tracker.result()}\")\n",
            " |      ```\n",
            " |      \n",
            " |      Args:\n",
            " |          x: Input data.\n",
            " |          y: Target data.\n",
            " |          y_pred: Predictions returned by the model (output of `model(x)`)\n",
            " |          sample_weight: Sample weights for weighting the loss function.\n",
            " |          allow_empty: If `False`, the method will error out if\n",
            " |              no loss has been computed by the model. If `True`, then\n",
            " |              if no loss is computed, the method returns 0.\n",
            " |      \n",
            " |      Returns:\n",
            " |          The total loss as a scalar tensor, or `None` if no loss results\n",
            " |          (which is the case when called by `Model.test_step`).\n",
            " |  \n",
            " |  compute_metrics(self, x, y, y_pred, sample_weight=None)\n",
            " |      Update metric states and collect all metrics to be returned.\n",
            " |      \n",
            " |      Subclasses can optionally override this method to provide custom metric\n",
            " |      updating and collection logic.\n",
            " |      \n",
            " |      Example:\n",
            " |      \n",
            " |      ```python\n",
            " |      class MyModel(Sequential):\n",
            " |          def compute_metrics(self, x, y, y_pred, sample_weight):\n",
            " |              # This super call updates `self.compiled_metrics` and returns\n",
            " |              # results for all metrics listed in `self.metrics`.\n",
            " |              metric_results = super().compute_metrics(\n",
            " |                  x, y, y_pred, sample_weight)\n",
            " |      \n",
            " |              # Note that `self.custom_metric` is not listed\n",
            " |              # in `self.metrics`.\n",
            " |              self.custom_metric.update_state(x, y, y_pred, sample_weight)\n",
            " |              metric_results['metric_name'] = self.custom_metric.result()\n",
            " |              return metric_results\n",
            " |      ```\n",
            " |      \n",
            " |      Args:\n",
            " |          x: Input data.\n",
            " |          y: Target data.\n",
            " |          y_pred: Predictions returned by the model output of `model.call(x)`.\n",
            " |          sample_weight: Sample weights for weighting the loss function.\n",
            " |      \n",
            " |      Returns:\n",
            " |          A `dict` containing values that will be passed to\n",
            " |          `keras_core.callbacks.CallbackList.on_train_batch_end()`. Typically,\n",
            " |          the values of the metrics listed in `self.metrics` are returned.\n",
            " |          Example: `{'loss': 0.2, 'accuracy': 0.7}`.\n",
            " |  \n",
            " |  get_compile_config(self)\n",
            " |      Returns a serialized config with information for compiling the model.\n",
            " |      \n",
            " |      This method returns a config dictionary containing all the information\n",
            " |      (optimizer, loss, metrics, etc.) with which the model was compiled.\n",
            " |      \n",
            " |      Returns:\n",
            " |          A dict containing information for compiling the model.\n",
            " |  \n",
            " |  get_metrics_result(self)\n",
            " |      Returns the model's metrics values as a dict.\n",
            " |      \n",
            " |      If any of the metric result is a dict (containing multiple metrics),\n",
            " |      each of them gets added to the top level returned dict of this method.\n",
            " |      \n",
            " |      Returns:\n",
            " |          A `dict` containing values of the metrics listed in `self.metrics`.\n",
            " |          Example: `{'loss': 0.2, 'accuracy': 0.7}`.\n",
            " |  \n",
            " |  reset_metrics(self)\n",
            " |  \n",
            " |  ----------------------------------------------------------------------\n",
            " |  Readonly properties inherited from keras_core.src.trainers.trainer.Trainer:\n",
            " |  \n",
            " |  metrics\n",
            " |  \n",
            " |  metrics_names\n",
            " |  \n",
            " |  metrics_variables\n",
            " |  \n",
            " |  ----------------------------------------------------------------------\n",
            " |  Data descriptors inherited from keras_core.src.trainers.trainer.Trainer:\n",
            " |  \n",
            " |  __dict__\n",
            " |      dictionary for instance variables (if defined)\n",
            " |  \n",
            " |  __weakref__\n",
            " |      list of weak references to the object (if defined)\n",
            " |  \n",
            " |  jit_compile\n",
            " |  \n",
            " |  run_eagerly\n",
            " |  \n",
            " |  ----------------------------------------------------------------------\n",
            " |  Methods inherited from keras_core.src.layers.layer.Layer:\n",
            " |  \n",
            " |  __call__(self, *args, **kwargs)\n",
            " |      Call self as a function.\n",
            " |  \n",
            " |  __repr__(self)\n",
            " |      Return repr(self).\n",
            " |  \n",
            " |  __str__(self)\n",
            " |      Return str(self).\n",
            " |  \n",
            " |  add_metric(self)\n",
            " |  \n",
            " |  add_variable(self, shape, initializer, dtype=None, trainable=True, regularizer=None, constraint=None, name=None)\n",
            " |      Add a weight variable to the layer.\n",
            " |      \n",
            " |      Alias of `add_weight()`.\n",
            " |  \n",
            " |  add_weight(self, shape, initializer, dtype=None, trainable=True, regularizer=None, constraint=None, name=None)\n",
            " |      Add a weight variable to the layer.\n",
            " |      \n",
            " |      Args:\n",
            " |          shape: Shape tuple for the variable.\n",
            " |              Must be fully-defined (no `None` entries).\n",
            " |          initializer: Initializer object to use to\n",
            " |              populate the initial variable value,\n",
            " |              or string name of a built-in initializer\n",
            " |              (e.g. `\"random_normal\"`).\n",
            " |          dtype: Dtype of the variable to create,\n",
            " |              e.g. `\"float32\"`.\n",
            " |          trainable: Boolean, whether the variable should\n",
            " |              be trainable via backprop or whether its\n",
            " |              updates are managed manually.\n",
            " |          constraint: Contrainst object to call on the\n",
            " |              variable after any optimizer update,\n",
            " |              or string name of a built-in constraint.\n",
            " |          name: String name of the variable. Useful\n",
            " |              for debugging purposes.\n",
            " |  \n",
            " |  compute_mask(self, inputs, previous_mask)\n",
            " |  \n",
            " |  compute_output_shape(self, *args, **kwargs)\n",
            " |  \n",
            " |  count_params(self)\n",
            " |      Count the total number of scalars composing the weights.\n",
            " |      \n",
            " |      Returns:\n",
            " |          An integer count.\n",
            " |  \n",
            " |  get_build_config(self)\n",
            " |      Returns a dictionary with the layer's input shape.\n",
            " |      \n",
            " |      This method returns a config dict that can be used by\n",
            " |      `build_from_config(config)` to create all states (e.g. Variables and\n",
            " |      Lookup tables) needed by the layer.\n",
            " |      \n",
            " |      By default, the config only contains the input shape that the layer\n",
            " |      was built with. If you're writing a custom layer that creates state in\n",
            " |      an unusual way, you should override this method to make sure this state\n",
            " |      is already created when Keras attempts to load its value upon model\n",
            " |      loading.\n",
            " |      \n",
            " |      Returns:\n",
            " |          A dict containing the input shape associated with the layer.\n",
            " |  \n",
            " |  get_weights(self)\n",
            " |      Return the values of `layer.weights` as a list of NumPy arrays.\n",
            " |  \n",
            " |  load_own_variables(self, store)\n",
            " |      Loads the state of the layer.\n",
            " |      \n",
            " |      You can override this method to take full control of how the state of\n",
            " |      the layer is loaded upon calling `keras.models.load_model()`.\n",
            " |      \n",
            " |      Args:\n",
            " |          store: Dict from which the state of the model will be loaded.\n",
            " |  \n",
            " |  save_own_variables(self, store)\n",
            " |      Saves the state of the layer.\n",
            " |      \n",
            " |      You can override this method to take full control of how the state of\n",
            " |      the layer is saved upon calling `model.save()`.\n",
            " |      \n",
            " |      Args:\n",
            " |          store: Dict where the state of the model will be saved.\n",
            " |  \n",
            " |  set_weights(self, weights)\n",
            " |      Sets the values of `layer.weights` from a list of NumPy arrays.\n",
            " |  \n",
            " |  stateless_call(self, trainable_variables, non_trainable_variables, *args, return_losses=False, **kwargs)\n",
            " |      Call the layer without any side effects.\n",
            " |      \n",
            " |      Args:\n",
            " |          trainable_variables: List of trainable variables of the model.\n",
            " |          non_trainable_variables: List of non-trainable variables of the\n",
            " |              model.\n",
            " |          *args: Positional argumets to be passed to `call()`.\n",
            " |          return_losses: If `True`, `stateless_call()` will return the list of\n",
            " |              losses created during `call()` as part of its return values.\n",
            " |          **kwargs: Keyword arguments to be passed to `call()`.\n",
            " |      \n",
            " |      Returns:\n",
            " |          A tuple. By default, returns `(outputs, non_trainable_variables)`.\n",
            " |              If `return_losses = True`, then returns\n",
            " |              `(outputs, non_trainable_variables, losses)`.\n",
            " |      \n",
            " |      Note: `non_trainable_variables` include not only non-trainable weights\n",
            " |      such as `BatchNormalization` statistics, but also RNG seed state\n",
            " |      (if there are any random operations part of the layer, such as dropout),\n",
            " |      and `Metric` state (if there are any metrics attached to the layer).\n",
            " |      These are all elements of state of the layer.\n",
            " |      \n",
            " |      Example:\n",
            " |      \n",
            " |      ```python\n",
            " |      model = ...\n",
            " |      data = ...\n",
            " |      trainable_variables = model.trainable_variables\n",
            " |      non_trainable_variables = model.non_trainable_variables\n",
            " |      # Call the model with zero side effects\n",
            " |      outputs, non_trainable_variables = model.stateless_call(\n",
            " |          trainable_variables,\n",
            " |          non_trainable_variables,\n",
            " |          data,\n",
            " |      )\n",
            " |      # Attach the updated state to the model\n",
            " |      # (until you do this, the model is still in its pre-call state).\n",
            " |      for ref_var, value in zip(\n",
            " |          model.non_trainable_variables, non_trainable_variables\n",
            " |      ):\n",
            " |          ref_var.assign(value)\n",
            " |      ```\n",
            " |  \n",
            " |  ----------------------------------------------------------------------\n",
            " |  Readonly properties inherited from keras_core.src.layers.layer.Layer:\n",
            " |  \n",
            " |  compute_dtype\n",
            " |      The dtype of the computations performed by the layer.\n",
            " |  \n",
            " |  dtype\n",
            " |      Alias of `layer.variable_dtype`.\n",
            " |  \n",
            " |  input_dtype\n",
            " |      The dtype layer inputs should be converted to.\n",
            " |  \n",
            " |  losses\n",
            " |      List of scalar losses added via `add_loss()` during layer call.\n",
            " |  \n",
            " |  non_trainable_variables\n",
            " |      List of all non-trainable layer state.\n",
            " |      \n",
            " |      This extends `layer.non_trainable_weights` to include all state used by\n",
            " |      the layer including state for metrics and `SeedGenerator`s.\n",
            " |  \n",
            " |  non_trainable_weights\n",
            " |      List of all non-trainable weight variables of the layer.\n",
            " |      \n",
            " |      These are the weights that should not be updated by the optimizer during\n",
            " |      training. Unlike, `layer.non_trainable_variables` this excludes metric\n",
            " |      state and random seeds.\n",
            " |  \n",
            " |  trainable_variables\n",
            " |      List of all trainable layer state.\n",
            " |      \n",
            " |      This is equivalent to `layer.trainable_weights`.\n",
            " |  \n",
            " |  trainable_weights\n",
            " |      List of all trainable weight variables of the layer.\n",
            " |      \n",
            " |      These are the weights that get updated by the optimizer during training.\n",
            " |  \n",
            " |  variable_dtype\n",
            " |      The dtype of the state (weights) of the layer.\n",
            " |  \n",
            " |  variables\n",
            " |      List of all layer state, including random seeds.\n",
            " |      \n",
            " |      This extends `layer.weights` to include all state used by the layer\n",
            " |      including `SeedGenerator`s.\n",
            " |      \n",
            " |      Note that metrics variables are not included here, use\n",
            " |      `metrics_variables` to visit all the metric variables.\n",
            " |  \n",
            " |  weights\n",
            " |      List of all weight variables of the layer.\n",
            " |      \n",
            " |      Unlike, `layer.variables` this excludes metric state and random seeds.\n",
            " |  \n",
            " |  ----------------------------------------------------------------------\n",
            " |  Data descriptors inherited from keras_core.src.layers.layer.Layer:\n",
            " |  \n",
            " |  supports_masking\n",
            " |      Whether this layer supports computing a mask using `compute_mask`.\n",
            " |  \n",
            " |  trainable\n",
            " |      Settable boolean, whether this layer should be trainable or not.\n",
            " |  \n",
            " |  ----------------------------------------------------------------------\n",
            " |  Methods inherited from keras_core.src.ops.operation.Operation:\n",
            " |  \n",
            " |  symbolic_call(self, *args, **kwargs)\n",
            "\n"
          ]
        }
      ]
    },
    {
      "cell_type": "markdown",
      "source": [
        "**NB: We can use the same to train the model in an other language**"
      ],
      "metadata": {
        "id": "H6II-0uvpvka"
      }
    },
    {
      "cell_type": "markdown",
      "source": [
        "# **LoRA: Low-Rank Adaptation**"
      ],
      "metadata": {
        "id": "8qhydYmFmLXb"
      }
    },
    {
      "cell_type": "markdown",
      "source": [
        "![image.png](data:image/png;base64,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)"
      ],
      "metadata": {
        "id": "HicDzV9XnLFd"
      }
    },
    {
      "cell_type": "markdown",
      "source": [
        "Le Low-Rank Adaptation (LoRA) fonctionne en exploitant la structure sous-jacente des matrices de poids dans un modèle, généralement des modèles de langage tels que les transformers. Voici quelques détails techniques et raisons pour lesquelles cela peut être efficace :\n",
        "\n",
        "**Approximation de Faible Rang :** LoRA repose sur l'idée que les matrices de poids des modèles peuvent souvent être approximées par des matrices de rang inférieur sans perdre significativement en capacité de représentation. Cela signifie qu'une grande partie de l'information est contenue dans un sous-espace de dimension réduite.\n",
        "\n",
        "**Réduction de la Dimensionnalité :** En réduisant la dimensionnalité des matrices de poids, on réduit le nombre de paramètres à ajuster lors du fine-tuning. Cela a un impact positif sur les ressources computationnelles nécessaires pour la mise à jour des poids du modèle.\n",
        "\n",
        "**Accélérer le Fine-Tuning :** En limitant le nombre de paramètres à ajuster, LoRA accélère le processus de fine-tuning, ce qui est particulièrement important dans des scénarios où le coût computationnel est un facteur limitant.\n",
        "\n",
        "**Régularisation Naturelle :** L'approximation à faible rang peut agir comme une forme de régularisation, aidant à prévenir le surajustement (overfitting) aux données d'entraînement. Cela peut être particulièrement utile lorsque les données de fine-tuning sont limitées.\n",
        "\n",
        "**Transférabilité des Connaissances :** LoRA permet de transférer plus efficacement les connaissances acquises pendant l'entraînement initial du modèle vers la tâche spécifique de fine-tuning, car une grande partie de la structure sous-jacente est préservée."
      ],
      "metadata": {
        "id": "V1uoIKFMqjp2"
      }
    },
    {
      "cell_type": "code",
      "source": [
        "import math\n",
        "\n",
        "\n",
        "class LoraLayer(keras.layers.Layer):\n",
        "    def __init__(\n",
        "        self,\n",
        "        original_layer,\n",
        "        rank=8,\n",
        "        alpha=32,\n",
        "        trainable=False,\n",
        "        **kwargs,\n",
        "    ):\n",
        "        # We want to keep the name of this layer the same as the original\n",
        "        # dense layer.\n",
        "        original_layer_config = original_layer.get_config()\n",
        "        name = original_layer_config[\"name\"]\n",
        "\n",
        "        kwargs.pop(\"name\", None)\n",
        "\n",
        "        super().__init__(name=name, trainable=trainable, **kwargs)\n",
        "\n",
        "        self.rank = rank\n",
        "        self.alpha = alpha\n",
        "\n",
        "        self._scale = alpha / rank\n",
        "\n",
        "        self._num_heads = original_layer_config[\"output_shape\"][-2]\n",
        "        self._hidden_dim = self._num_heads * original_layer_config[\"output_shape\"][-1]\n",
        "\n",
        "        # Layers.\n",
        "\n",
        "        # Original dense layer.\n",
        "        self.original_layer = original_layer\n",
        "        # No matter whether we are training the model or are in inference mode,\n",
        "        # this layer should be frozen.\n",
        "        self.original_layer.trainable = False\n",
        "\n",
        "        # LoRA dense layers.\n",
        "        self.A = keras.layers.Dense(\n",
        "            units=rank,\n",
        "            use_bias=False,\n",
        "            # Note: the original paper mentions that normal distribution was\n",
        "            # used for initialization. However, the official LoRA implementation\n",
        "            # uses \"Kaiming/He Initialization\".\n",
        "            kernel_initializer=keras.initializers.VarianceScaling(\n",
        "                scale=math.sqrt(5), mode=\"fan_in\", distribution=\"uniform\"\n",
        "            ),\n",
        "            trainable=trainable,\n",
        "            name=f\"lora_A\",\n",
        "        )\n",
        "        # B has the same `equation` and `output_shape` as the original layer.\n",
        "        # `equation = abc,cde->abde`, where `a`: batch size, `b`: sequence\n",
        "        # length, `c`: `hidden_dim`, `d`: `num_heads`,\n",
        "        # `e`: `hidden_dim//num_heads`. The only difference is that in layer `B`,\n",
        "        # `c` represents `rank`.\n",
        "        self.B = keras.layers.EinsumDense(\n",
        "            equation=original_layer_config[\"equation\"],\n",
        "            output_shape=original_layer_config[\"output_shape\"],\n",
        "            kernel_initializer=\"zeros\",\n",
        "            trainable=trainable,\n",
        "            name=f\"lora_B\",\n",
        "        )\n",
        "\n",
        "    def call(self, inputs):\n",
        "        original_output = self.original_layer(inputs)\n",
        "        if self.trainable:\n",
        "            # If we are fine-tuning the model, we will add LoRA layers' output\n",
        "            # to the original layer's output.\n",
        "            lora_output = self.B(self.A(inputs)) * self._scale\n",
        "            return original_output + lora_output\n",
        "\n",
        "        # If we are in inference mode, we \"merge\" the LoRA layers' weights into\n",
        "        # the original layer's weights - more on this in the text generation\n",
        "        # section!\n",
        "        return original_output"
      ],
      "metadata": {
        "id": "1CKgqolkrKL6"
      },
      "execution_count": null,
      "outputs": []
    },
    {
      "cell_type": "code",
      "source": [
        "# Load the original model.\n",
        "preprocessor = keras_nlp.models.GPT2CausalLMPreprocessor.from_preset(\n",
        "    \"gpt2_base_en\",\n",
        "    sequence_length=128,\n",
        ")\n",
        "lora_model = keras_nlp.models.GPT2CausalLM.from_preset(\n",
        "    \"gpt2_base_en\",\n",
        "    preprocessor=preprocessor,\n",
        ")"
      ],
      "metadata": {
        "id": "el8r59rXrVqi"
      },
      "execution_count": null,
      "outputs": []
    },
    {
      "cell_type": "code",
      "source": [
        "for layer_idx in range(lora_model.backbone.num_layers):\n",
        "    # Change query dense layer.\n",
        "    decoder_layer = lora_model.backbone.get_layer(f\"transformer_layer_{layer_idx}\")\n",
        "    self_attention_layer = decoder_layer._self_attention_layer\n",
        "    # Allow mutation to Keras layer state.\n",
        "    self_attention_layer._tracker.locked = False\n",
        "\n",
        "    # Change query dense layer.\n",
        "    self_attention_layer._query_dense = LoraLayer(\n",
        "        self_attention_layer._query_dense,\n",
        "        rank=RANK,\n",
        "        alpha=ALPHA,\n",
        "        trainable=True,\n",
        "    )\n",
        "\n",
        "    # Change value dense layer.\n",
        "    self_attention_layer._value_dense = LoraLayer(\n",
        "        self_attention_layer._value_dense,\n",
        "        rank=RANK,\n",
        "        alpha=ALPHA,\n",
        "        trainable=True,\n",
        "    )"
      ],
      "metadata": {
        "id": "f04QEvE7rXPn"
      },
      "execution_count": null,
      "outputs": []
    },
    {
      "cell_type": "code",
      "source": [
        "# Test the model\n",
        "lora_model(preprocessor([\"LoRA is very useful for quick LLM finetuning\"])[0])\n",
        "pass"
      ],
      "metadata": {
        "id": "jEL5SDUyr46w"
      },
      "execution_count": null,
      "outputs": []
    },
    {
      "cell_type": "code",
      "source": [
        "for layer in lora_model._flatten_layers():\n",
        "    lst_of_sublayers = list(layer._flatten_layers())\n",
        "\n",
        "    if len(lst_of_sublayers) == 1:  # \"leaves of the model\"\n",
        "        if layer.name in [\"lora_A\", \"lora_B\"]:\n",
        "            layer.trainable = True\n",
        "        else:\n",
        "            layer.trainable = False"
      ],
      "metadata": {
        "id": "m63wxKelsAQi"
      },
      "execution_count": null,
      "outputs": []
    },
    {
      "cell_type": "code",
      "source": [
        "lora_model.summary()"
      ],
      "metadata": {
        "id": "eIZAd16OsI0z"
      },
      "execution_count": null,
      "outputs": []
    },
    {
      "cell_type": "code",
      "source": [
        "gpu_memory_callback = GPUMemoryCallback(\n",
        "    target_batches=[5, 10, 25, 50, 100, 150, 200, 300, 400, 500],\n",
        "    print_stats=True,\n",
        ")\n",
        "\n",
        "optimizer, loss = get_optimizer_and_loss()\n",
        "\n",
        "lora_model.compile(\n",
        "    optimizer=optimizer,\n",
        "    loss=loss,\n",
        "    weighted_metrics=[\"accuracy\"],\n",
        ")\n",
        "\n",
        "lora_model.fit(\n",
        "    train_ds,\n",
        "    epochs=EPOCHS,\n",
        "    callbacks=[gpu_memory_callback],\n",
        ")\n",
        "lora_model_memory_usage = gpu_memory_callback.memory_usage"
      ],
      "metadata": {
        "id": "9cscQDjSsdft"
      },
      "execution_count": null,
      "outputs": []
    },
    {
      "cell_type": "code",
      "source": [
        "plt.bar(\n",
        "    [\"GPT-2\", \"LoRA GPT-2\"],\n",
        "    [max(gpt2_lm_memory_usage), max(lora_model_memory_usage)],\n",
        "    color=[\"red\", \"blue\"],\n",
        ")\n",
        "\n",
        "plt.xlabel(\"Time\")\n",
        "plt.ylabel(\"GPU Memory Usage (in GB)\")\n",
        "\n",
        "plt.title(\"GPU Memory Usage Comparison\")\n",
        "plt.legend()\n",
        "plt.show()"
      ],
      "metadata": {
        "id": "E6RzItsFsgkk"
      },
      "execution_count": null,
      "outputs": []
    },
    {
      "cell_type": "markdown",
      "source": [
        "**Merge weights and generate text!**\n",
        "\n",
        "One of the biggest advantages of LoRA over other adapter methods is that it does not incur any additional inference latency. Let's understand why.\n",
        "\n",
        "Recall our LoRA equation: output = W0x + b0 + BAx. We can rewrite this as: output = = Wx + b0 = (W0 + BA)x + b0, where W = W0 + BA. This means that if we merge the weights of the original model and the adapter, we will be essentially doing the same computation as the original model!"
      ],
      "metadata": {
        "id": "vqa96uyNuXog"
      }
    },
    {
      "cell_type": "code",
      "source": [
        "for layer_idx in range(lora_model.backbone.num_layers):\n",
        "    self_attention_layer = lora_model.backbone.get_layer(\n",
        "        f\"transformer_layer_{layer_idx}\"\n",
        "    )._self_attention_layer\n",
        "\n",
        "    # Merge query dense layer.\n",
        "    query_lora_layer = self_attention_layer._query_dense\n",
        "\n",
        "    A_weights = query_lora_layer.A.kernel  # (768, 1) (a, b)\n",
        "    B_weights = query_lora_layer.B.kernel  # (1, 12, 64) (b, c, d) 12: num_head and 64: 768//12 = dim/num_head\n",
        "    increment_weights = tf.einsum(\"ab,bcd->acd\", A_weights, B_weights) * (ALPHA / RANK)\n",
        "    query_lora_layer.original_layer.kernel.assign_add(increment_weights)\n",
        "\n",
        "    # Merge value dense layer.\n",
        "    value_lora_layer = self_attention_layer._value_dense\n",
        "\n",
        "    A_weights = value_lora_layer.A.kernel  # (768, 1) (a, b)\n",
        "    B_weights = value_lora_layer.B.kernel  # (1, 12, 64) (b, c, d)\n",
        "    increment_weights = tf.einsum(\"ab,bcd->acd\", A_weights, B_weights) * (ALPHA / RANK)\n",
        "    value_lora_layer.original_layer.kernel.assign_add(increment_weights)\n"
      ],
      "metadata": {
        "id": "AnbqVfUqucoq"
      },
      "execution_count": null,
      "outputs": []
    },
    {
      "cell_type": "code",
      "source": [
        "# Freezing weights not necessary during generation since no weights are updated.\n",
        "generate_text(lora_model, \"I like basketball\", max_length=MAX_GENERATION_LENGTH)\n",
        "generate_text(\n",
        "    lora_model, \"The first time\", max_length=MAX_GENERATION_LENGTH\n",
        ")\n"
      ],
      "metadata": {
        "id": "Swx4vNMCvQqX"
      },
      "execution_count": null,
      "outputs": []
    }
  ]
}