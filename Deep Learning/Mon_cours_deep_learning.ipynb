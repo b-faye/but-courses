{
 "cells": [
  {
   "cell_type": "markdown",
   "metadata": {
    "id": "iY3uHZYkJ6bq"
   },
   "source": [
    "**Les packages deep Learning**\n",
    "\n",
    "\n",
    "1.   Tensorflow - Google\n",
    "2.   PyTorch - Facebook AI research\n",
    "3.   Keras - Fraçois Chollet (now at Google)\n",
    "4.   Chainer - Company in Japan\n",
    "5.   Caffee - Barkeley vision and learning center\n",
    "6.   Microsoft\n",
    "\n",
    "\n",
    "\n",
    "\n",
    "\n"
   ]
  },
  {
   "cell_type": "markdown",
   "metadata": {
    "id": "c0Tbx8y-K6YO"
   },
   "source": [
    "**Implement a neuronal network in keras**\n",
    "\n",
    "\n",
    "1.   Prepare inputs( image, video, audio, text)\n",
    "2.   Define the ANN model( MLP, CNN, RNN)\n",
    "3.   Optimizers ( SGD, RMSprop, Adam)\n",
    "4.   Loss function ( MSE, MAE, cross entropy )\n",
    "5.   Train and evaluate model\n",
    "\n",
    "\n",
    "\n",
    "\n",
    "\n"
   ]
  },
  {
   "cell_type": "markdown",
   "metadata": {
    "id": "HejFZ64yMQU4"
   },
   "source": [
    "**Procedure to implement an ANN in keras**"
   ]
  },
  {
   "cell_type": "code",
   "execution_count": null,
   "metadata": {
    "id": "cT0BxScKMhKq"
   },
   "outputs": [],
   "source": [
    "from tensorflow import keras"
   ]
  },
  {
   "cell_type": "code",
   "execution_count": 1,
   "metadata": {
    "id": "ovVWYd_1PBHF"
   },
   "outputs": [],
   "source": [
    "import numpy as np"
   ]
  },
  {
   "cell_type": "code",
   "execution_count": null,
   "metadata": {
    "id": "-Ri-7uf7Mtjl"
   },
   "outputs": [],
   "source": [
    "# Define the ANN model\n",
    "model = keras.models.Sequential()\n",
    "model.add(keras.layers.Dense(units=64, input_dim=100), input_shape=X_train.shape[1:]) # input_dim: taille de l'entrée\n",
    "model.add(keras.layers.Activation(activation=='relu'))\n",
    "model.add(keras.layers.Dense(units=10))\n",
    "model.add(keras.layers.Activation(activation='softmax'))\n",
    "\n",
    "# optimizers and loss function\n",
    "model.compile(optimizers='sgd', loss='categorical_crossentropy', metrics= ['accuracy'])\n",
    "\n",
    "# Train and evaluate the model\n",
    "model.fit(X_train, y_train, batch_size=32, epochs=10)"
   ]
  },
  {
   "cell_type": "markdown",
   "metadata": {
    "id": "s5G5CTjwQwbc"
   },
   "source": [
    "**Convolutional Neuronal Network - Sequential model**\n",
    "\n",
    "\n",
    "\n",
    "*   Input dimension 4D - [N_train, Height, Width, chanels]\n",
    "*   N_train = Number of train, Height = height of the image, width = width of image, For RGB image channels = 3, For gray scale image channel = 1\n",
    "\n"
   ]
  },
  {
   "cell_type": "code",
   "execution_count": null,
   "metadata": {
    "id": "xRafYbvJSiHX"
   },
   "outputs": [],
   "source": [
    "model = keras.models.Sequential()\n",
    "# input: 100x100 images with 3 channels -> (100, 100, 3) tensors\n",
    "# this applies 32 convolution filters of size 3x3 each\n",
    "\n",
    "model.add(keras.layers.Conv2D(filters=32, kernel_size=(3,3),activation='relu', input_shape=(100,100,3))\n",
    "model.add(keras.layers.Conv2D(filters=32, kernel_size=(3,3),activation='relu')\n",
    "model.add(keras.layers.MaxPool2D(pool_size=(2,2)))\n",
    "model.add(keras.layers.Dropout(0.25)) # Eliminer les noeuds non utiles\n",
    "\n",
    "model.add(keras.layers.Conv2D(filters=64, kernel_size=(3,3), activation='relu'))\n",
    "model.add(keras.layers.Conv2D(filters=64, kernel_size=(3,3), activation='relu'))\n",
    "model.add(keras.layers.MaxPool2D(pool_size=(2,2)))\n",
    "model.add(keras.layers.Dropout(0.25))\n",
    "model.add(keras.layers.Dense(units=10, activation='softmax'))\n",
    "\n",
    "sgd = keras.optimizers.SGD(learning_rate=0.01, decay = 1e-6, momentum=0.9, nesterov=True)\n",
    "model.optimizers(optimizers=sgd, loss='categorical_crossentropy')\n",
    "\n",
    "model.fit(X_train, y_train, batch_size=32, epochs=10)\n",
    "score = model.evaluate(X_test, y_test, batch_size=32)"
   ]
  },
  {
   "cell_type": "markdown",
   "metadata": {
    "id": "9dLdSv9eVNzJ"
   },
   "source": [
    "**Simple MLP network - Functional model**"
   ]
  },
  {
   "cell_type": "code",
   "execution_count": null,
   "metadata": {
    "id": "37XdPeYYVWFm"
   },
   "outputs": [],
   "source": [
    "from keras.models import Model\n",
    "from keras.layers import Input, Dense\n",
    "\n",
    "# this returns a tensor\n",
    "inputs = Input(shape=(784,))\n",
    "\n",
    "x = Dense(64, activation='relu')(inputs)\n",
    "x = Dense(64, activation='relu')(x)\n",
    "predictions = Dense(10, activation='softmax')(x)\n",
    "\n",
    "model = Model(inputs= inputs, outputs =predictions)\n",
    "model.compile(optimizer = 'rmsprop', loss='categorical_crossentropy', metrics = ['accuracy'])\n",
    "model.fit(X_train, y_train)"
   ]
  },
  {
   "cell_type": "markdown",
   "metadata": {
    "id": "Dz_e9QKphiWd"
   },
   "source": [
    "**Recurrent Neuronal Network - RNN**\n",
    "\n",
    "\n",
    "1.   RNNs are used on sequential data, text, audio, Genomes, etc.\n",
    "2.   Recurrents networks are of three types\n",
    "  *   Vanilla RNN\n",
    "  *   LSTM\n",
    "  *   GRU\n",
    "4.   The output at time \"t\" is dependent  on current input and previous values\n",
    "\n",
    "\n",
    "\n",
    "\n",
    "\n"
   ]
  },
  {
   "cell_type": "code",
   "execution_count": null,
   "metadata": {
    "id": "ztNCDR8RjXAr"
   },
   "outputs": [],
   "source": [
    "from keras.layers import Dense, LSTM, Embedding, Dropout\n",
    "from keras.models import Sequential\n",
    "\n",
    "model = Sequential()\n",
    "model.add(Embedding(input_dim=vocabulaire_size, output_dim=dim_of_output, input_length=timestamp)) # input_length: max len of sequences\n",
    "model.add(LSTM(128))\n",
    "model.add(Dense(1, activation='sigmoid'))\n",
    "\n",
    "model.compile(loss='binary_crossentropy', optimizer='rmsprop', metrics = ['accuracy'])\n",
    "\n",
    "model.fit(X_train, y_train, batch_size=16, epochs=10)\n",
    "score = model.evaluate(X_test, y_test, batch_size=16)"
   ]
  },
  {
   "cell_type": "markdown",
   "metadata": {
    "id": "fE7GhNi0leJS"
   },
   "source": [
    "**Covolution layers**\n",
    "\n",
    "• 1D Conv\n",
    "\n",
    "Applications: Audio signal processing, Natural language processing\n",
    "\n",
    "• 2D Conv\n",
    "\n",
    "Applications: Computer vision ‐ Images\n",
    "\n",
    "• 3D Conv\n",
    "\n",
    "Applications: Computer vision – Videos (Convolution along temporal dimension)\n",
    "\n",
    "• Max Polling, Average Polling\n",
    "\n"
   ]
  },
  {
   "cell_type": "markdown",
   "metadata": {
    "id": "zenrV0T6nCLW"
   },
   "source": [
    "**General layers**\n",
    "\n",
    "*   Dense\n",
    "*   Dropout\n",
    "*   Embedding\n",
    "*   Flatten\n",
    "\n",
    "\n",
    "\n"
   ]
  },
  {
   "cell_type": "markdown",
   "metadata": {
    "id": "zuFhB_kznfUF"
   },
   "source": [
    "**Optimization**\n",
    "\n",
    "SGD – Stochastic gradient descent\n",
    "\n",
    "SGD with momentum\n",
    "\n",
    "Adam\n",
    "\n",
    "AdaGrad\n",
    "\n",
    "RMSprop\n",
    "\n",
    "AdaDelta"
   ]
  },
  {
   "cell_type": "markdown",
   "metadata": {
    "id": "VIvtuNsfoo82"
   },
   "source": [
    "**Loading and saving keras models**"
   ]
  },
  {
   "cell_type": "code",
   "execution_count": null,
   "metadata": {
    "id": "FuxvsDvWotHs"
   },
   "outputs": [],
   "source": [
    "from keras.models import load_model\n",
    "\n",
    "model.save('my_model.h5') # Enrégistrer le modèle\n",
    "del model # supprimer le modèle\n",
    "\n",
    "model = load_model('my_model.h5') # charger le modèle\n",
    "\n",
    "model.save_weights(\"my_model_save_weights.h5\")\n",
    "model.load_weights(\"my_model_save_weights.h5\", by_name=True)"
   ]
  },
  {
   "cell_type": "markdown",
   "metadata": {
    "id": "wF7Eg225tTZk"
   },
   "source": [
    "**Extracting features from pre-trained models**"
   ]
  },
  {
   "cell_type": "code",
   "execution_count": null,
   "metadata": {
    "id": "Hr7zDBclta0-"
   },
   "outputs": [],
   "source": [
    "from keras.applications.vgg16 import VGG16\n",
    "from keras.preprocessing import image\n",
    "from keras.applications.vgg16 import preprocess_input\n",
    "import numpy as np\n",
    "from keras.applications.vgg16 import decode_predictions"
   ]
  },
  {
   "cell_type": "code",
   "execution_count": null,
   "metadata": {
    "colab": {
     "base_uri": "https://localhost:8080/"
    },
    "id": "XMOR16-kt2gY",
    "outputId": "3ddb2cc8-33ac-4ccc-f410-a5d93a660d99"
   },
   "outputs": [
    {
     "data": {
      "text/plain": [
       "array([[[0.74509805, 0.74509805, 0.74509805],\n",
       "        [0.69803923, 0.69803923, 0.69803923],\n",
       "        [0.73333335, 0.73333335, 0.73333335],\n",
       "        ...,\n",
       "        [0.5529412 , 0.5529412 , 0.5529412 ],\n",
       "        [0.5058824 , 0.5058824 , 0.5058824 ],\n",
       "        [0.5137255 , 0.5137255 , 0.5137255 ]],\n",
       "\n",
       "       [[0.7764706 , 0.7764706 , 0.7764706 ],\n",
       "        [0.6862745 , 0.6862745 , 0.6862745 ],\n",
       "        [0.6901961 , 0.6901961 , 0.6901961 ],\n",
       "        ...,\n",
       "        [0.54901963, 0.54901963, 0.54901963],\n",
       "        [0.5058824 , 0.5058824 , 0.5058824 ],\n",
       "        [0.5019608 , 0.5019608 , 0.5019608 ]],\n",
       "\n",
       "       [[0.78039217, 0.78039217, 0.78039217],\n",
       "        [0.7529412 , 0.7529412 , 0.7529412 ],\n",
       "        [0.6509804 , 0.6509804 , 0.6509804 ],\n",
       "        ...,\n",
       "        [0.5411765 , 0.5411765 , 0.5411765 ],\n",
       "        [0.52156866, 0.52156866, 0.52156866],\n",
       "        [0.50980395, 0.50980395, 0.50980395]],\n",
       "\n",
       "       ...,\n",
       "\n",
       "       [[0.30980393, 0.30980393, 0.30980393],\n",
       "        [0.11764706, 0.11764706, 0.11764706],\n",
       "        [0.09803922, 0.09803922, 0.09803922],\n",
       "        ...,\n",
       "        [0.23529412, 0.23529412, 0.23529412],\n",
       "        [0.19607843, 0.19607843, 0.19607843],\n",
       "        [0.19607843, 0.19607843, 0.19607843]],\n",
       "\n",
       "       [[0.13725491, 0.13725491, 0.13725491],\n",
       "        [0.15294118, 0.15294118, 0.15294118],\n",
       "        [0.15294118, 0.15294118, 0.15294118],\n",
       "        ...,\n",
       "        [0.13725491, 0.13725491, 0.13725491],\n",
       "        [0.14117648, 0.14117648, 0.14117648],\n",
       "        [0.19607843, 0.19607843, 0.19607843]],\n",
       "\n",
       "       [[0.11764706, 0.11764706, 0.11764706],\n",
       "        [0.14901961, 0.14901961, 0.14901961],\n",
       "        [0.18431373, 0.18431373, 0.18431373],\n",
       "        ...,\n",
       "        [0.16862746, 0.16862746, 0.16862746],\n",
       "        [0.18431373, 0.18431373, 0.18431373],\n",
       "        [0.19607843, 0.19607843, 0.19607843]]], dtype=float32)"
      ]
     },
     "execution_count": 49,
     "metadata": {
      "tags": []
     },
     "output_type": "execute_result"
    }
   ],
   "source": [
    "img = image.load_img('elephant.jpg', target_size=(224,224))\n",
    "x = image.img_to_array(img)\n",
    "x.shape"
   ]
  },
  {
   "cell_type": "code",
   "execution_count": null,
   "metadata": {
    "colab": {
     "base_uri": "https://localhost:8080/"
    },
    "id": "51US_NsWuYiW",
    "outputId": "3c9f9f42-98f0-473e-ea14-48aa845dd151"
   },
   "outputs": [
    {
     "data": {
      "text/plain": [
       "(1, 224, 224, 3)"
      ]
     },
     "execution_count": 52,
     "metadata": {
      "tags": []
     },
     "output_type": "execute_result"
    }
   ],
   "source": [
    "x = np.expand_dims(x, axis = 0)\n",
    "x.shape"
   ]
  },
  {
   "cell_type": "code",
   "execution_count": null,
   "metadata": {
    "colab": {
     "base_uri": "https://localhost:8080/"
    },
    "id": "QVL94RqMusiG",
    "outputId": "fe9c6c69-4841-4995-8271-bcda7bfdaa33"
   },
   "outputs": [
    {
     "data": {
      "text/plain": [
       "array([[[[ 86.061    ,  73.221    ,  66.32     ],\n",
       "         [ 74.061    ,  61.221    ,  54.32     ],\n",
       "         [ 83.061    ,  70.221    ,  63.32     ],\n",
       "         ...,\n",
       "         [ 37.060997 ,  24.221    ,  17.32     ],\n",
       "         [ 25.060997 ,  12.221001 ,   5.3199997],\n",
       "         [ 27.060997 ,  14.221001 ,   7.3199997]],\n",
       "\n",
       "        [[ 94.061    ,  81.221    ,  74.32     ],\n",
       "         [ 71.061    ,  58.221    ,  51.32     ],\n",
       "         [ 72.061    ,  59.221    ,  52.32     ],\n",
       "         ...,\n",
       "         [ 36.060997 ,  23.221    ,  16.32     ],\n",
       "         [ 25.060997 ,  12.221001 ,   5.3199997],\n",
       "         [ 24.060997 ,  11.221001 ,   4.3199997]],\n",
       "\n",
       "        [[ 95.061    ,  82.221    ,  75.32     ],\n",
       "         [ 88.061    ,  75.221    ,  68.32     ],\n",
       "         [ 62.060997 ,  49.221    ,  42.32     ],\n",
       "         ...,\n",
       "         [ 34.060997 ,  21.221    ,  14.32     ],\n",
       "         [ 29.060997 ,  16.221    ,   9.32     ],\n",
       "         [ 26.060997 ,  13.221001 ,   6.3199997]],\n",
       "\n",
       "        ...,\n",
       "\n",
       "        [[-24.939003 , -37.779    , -44.68     ],\n",
       "         [-73.939    , -86.779    , -93.68     ],\n",
       "         [-78.939    , -91.779    , -98.68     ],\n",
       "         ...,\n",
       "         [-43.939003 , -56.779    , -63.68     ],\n",
       "         [-53.939003 , -66.779    , -73.68     ],\n",
       "         [-53.939003 , -66.779    , -73.68     ]],\n",
       "\n",
       "        [[-68.939    , -81.779    , -88.68     ],\n",
       "         [-64.939    , -77.779    , -84.68     ],\n",
       "         [-64.939    , -77.779    , -84.68     ],\n",
       "         ...,\n",
       "         [-68.939    , -81.779    , -88.68     ],\n",
       "         [-67.939    , -80.779    , -87.68     ],\n",
       "         [-53.939003 , -66.779    , -73.68     ]],\n",
       "\n",
       "        [[-73.939    , -86.779    , -93.68     ],\n",
       "         [-65.939    , -78.779    , -85.68     ],\n",
       "         [-56.939003 , -69.779    , -76.68     ],\n",
       "         ...,\n",
       "         [-60.939003 , -73.779    , -80.68     ],\n",
       "         [-56.939003 , -69.779    , -76.68     ],\n",
       "         [-53.939003 , -66.779    , -73.68     ]]]], dtype=float32)"
      ]
     },
     "execution_count": 34,
     "metadata": {
      "tags": []
     },
     "output_type": "execute_result"
    }
   ],
   "source": [
    "x = preprocess_input(x)\n",
    "x"
   ]
  },
  {
   "cell_type": "code",
   "execution_count": null,
   "metadata": {
    "colab": {
     "base_uri": "https://localhost:8080/"
    },
    "id": "a4yJdwUZu-cu",
    "outputId": "14192395-5cb2-48b3-fd45-6ee0b938a4ec"
   },
   "outputs": [
    {
     "name": "stdout",
     "output_type": "stream",
     "text": [
      "Downloading data from https://storage.googleapis.com/tensorflow/keras-applications/vgg16/vgg16_weights_tf_dim_ordering_tf_kernels.h5\n",
      "553467904/553467096 [==============================] - 4s 0us/step\n"
     ]
    }
   ],
   "source": [
    "model = VGG16(include_top=True, weights='imagenet')"
   ]
  },
  {
   "cell_type": "code",
   "execution_count": null,
   "metadata": {
    "id": "C_O6zz_RvM4I"
   },
   "outputs": [],
   "source": [
    "features = model.predict(x)"
   ]
  },
  {
   "cell_type": "code",
   "execution_count": null,
   "metadata": {
    "colab": {
     "base_uri": "https://localhost:8080/"
    },
    "id": "HI3QAxywvSzu",
    "outputId": "84a8bd36-ea03-4e4a-f865-d1dedaf9b576"
   },
   "outputs": [
    {
     "data": {
      "text/plain": [
       "[[('n03804744', 'nail', 0.86517066),\n",
       "  ('n04208210', 'shovel', 0.053788487),\n",
       "  ('n03481172', 'hammer', 0.011838953),\n",
       "  ('n04456115', 'torch', 0.010744348),\n",
       "  ('n03976657', 'pole', 0.009161635)]]"
      ]
     },
     "execution_count": 54,
     "metadata": {
      "tags": []
     },
     "output_type": "execute_result"
    }
   ],
   "source": [
    "decode_predictions(features)"
   ]
  },
  {
   "cell_type": "markdown",
   "metadata": {
    "id": "VZAbmUibzSVz"
   },
   "source": [
    "**Popular Deep learning architectures**\n",
    "\n",
    "\n",
    "*   Popular Convolution networks\n",
    "  * Alex Net\n",
    "  * VGG\n",
    "  * Res-Net\n",
    "  * DenseNet\n",
    "\n",
    "**Generative models**\n",
    "  * Autoencoders\n",
    "  * Generative adversarial networks\n",
    "\n"
   ]
  },
  {
   "cell_type": "code",
   "execution_count": null,
   "metadata": {
    "id": "kIGmDMPO0Sj8"
   },
   "outputs": [],
   "source": [
    "from keras.applications.densenet import DenseNet121\n",
    "from keras.applications.densenet import preprocess_input\n",
    "from keras.preprocessing import image\n",
    "import numpy as np\n",
    "from keras.applications.densenet import decode_predictions"
   ]
  },
  {
   "cell_type": "code",
   "execution_count": null,
   "metadata": {
    "id": "gY3JweLW0ucz"
   },
   "outputs": [],
   "source": [
    "img = image.load_img('elephant.jpg', target_size=(224,224))\n",
    "x = image.img_to_array(img)"
   ]
  },
  {
   "cell_type": "code",
   "execution_count": null,
   "metadata": {
    "colab": {
     "base_uri": "https://localhost:8080/"
    },
    "id": "W921kV1-0__n",
    "outputId": "b13ddc72-17e8-42ef-929e-f22bbf18473b"
   },
   "outputs": [
    {
     "data": {
      "text/plain": [
       "(1, 224, 224, 3)"
      ]
     },
     "execution_count": 57,
     "metadata": {
      "tags": []
     },
     "output_type": "execute_result"
    }
   ],
   "source": [
    "x = np.expand_dims(x, axis=0)\n",
    "x.shape"
   ]
  },
  {
   "cell_type": "code",
   "execution_count": null,
   "metadata": {
    "id": "eMDzgH4S1QPR"
   },
   "outputs": [],
   "source": [
    "x = preprocess_input(x)"
   ]
  },
  {
   "cell_type": "code",
   "execution_count": null,
   "metadata": {
    "colab": {
     "base_uri": "https://localhost:8080/"
    },
    "id": "M-nxzxGz1YBQ",
    "outputId": "99f4959e-e047-4979-da46-8bfcb273924a"
   },
   "outputs": [
    {
     "name": "stdout",
     "output_type": "stream",
     "text": [
      "Downloading data from https://storage.googleapis.com/tensorflow/keras-applications/densenet/densenet121_weights_tf_dim_ordering_tf_kernels.h5\n",
      "33193984/33188688 [==============================] - 0s 0us/step\n"
     ]
    }
   ],
   "source": [
    "model = DenseNet121(include_top=True,weights='imagenet')"
   ]
  },
  {
   "cell_type": "code",
   "execution_count": null,
   "metadata": {
    "id": "b-3jQchO1oCd"
   },
   "outputs": [],
   "source": [
    "pred = model.predict(x)"
   ]
  },
  {
   "cell_type": "code",
   "execution_count": null,
   "metadata": {
    "colab": {
     "base_uri": "https://localhost:8080/"
    },
    "id": "RtRrjLnY1tQk",
    "outputId": "7703e9f9-cb4a-4269-b90a-6cf58359b96d"
   },
   "outputs": [
    {
     "data": {
      "text/plain": [
       "[[('n03743016', 'megalith', 0.58345884),\n",
       "  ('n03804744', 'nail', 0.082686745),\n",
       "  ('n03388043', 'fountain', 0.07826182),\n",
       "  ('n03498962', 'hatchet', 0.03506918),\n",
       "  ('n04507155', 'umbrella', 0.023603663)]]"
      ]
     },
     "execution_count": 62,
     "metadata": {
      "tags": []
     },
     "output_type": "execute_result"
    }
   ],
   "source": [
    "decode_predictions(pred)"
   ]
  },
  {
   "cell_type": "markdown",
   "metadata": {
    "id": "Dbb_SaX_24Kl"
   },
   "source": [
    "**Autoencoders**\n",
    "\n",
    "*   Unsupervised representation learning\n",
    "*   Dimensionality reduction \n",
    "*   Denoising\n",
    "\n",
    "\n",
    "\n"
   ]
  },
  {
   "cell_type": "markdown",
   "metadata": {
    "id": "EaP5HNjudAcg"
   },
   "source": [
    "**Embedding example with keras**"
   ]
  },
  {
   "cell_type": "code",
   "execution_count": null,
   "metadata": {
    "id": "LtiVPYgvdF3d"
   },
   "outputs": [],
   "source": [
    "import tensorflow as tf"
   ]
  },
  {
   "cell_type": "code",
   "execution_count": null,
   "metadata": {
    "id": "AdVygg4OdZFA"
   },
   "outputs": [],
   "source": [
    "corpus = ['Je ne parviens pas à me connecter.', 'J\\'ai un problème d\\'authentification!', 'Le site ne fonctionne pas.']"
   ]
  },
  {
   "cell_type": "code",
   "execution_count": null,
   "metadata": {
    "id": "-pcXJ07veBUC"
   },
   "outputs": [],
   "source": [
    "tokenizer = tf.keras.preprocessing.text.Tokenizer()"
   ]
  },
  {
   "cell_type": "code",
   "execution_count": null,
   "metadata": {
    "id": "cAdYRuA_eVhH"
   },
   "outputs": [],
   "source": [
    "tokenizer.fit_on_texts(corpus)"
   ]
  },
  {
   "cell_type": "code",
   "execution_count": null,
   "metadata": {
    "id": "d-OvuZmVeZ16"
   },
   "outputs": [],
   "source": [
    "sequence = tokenizer.texts_to_sequences(corpus)"
   ]
  },
  {
   "cell_type": "code",
   "execution_count": null,
   "metadata": {
    "colab": {
     "base_uri": "https://localhost:8080/"
    },
    "id": "nuDQXOlJefro",
    "outputId": "4039fa53-9529-432e-a386-c9b50eae0fb6"
   },
   "outputs": [
    {
     "data": {
      "text/plain": [
       "[[3, 1, 4, 2, 5, 6, 7], [8, 9, 10, 11], [12, 13, 1, 14, 2]]"
      ]
     },
     "execution_count": 17,
     "metadata": {
      "tags": []
     },
     "output_type": "execute_result"
    }
   ],
   "source": [
    "sequence"
   ]
  },
  {
   "cell_type": "code",
   "execution_count": null,
   "metadata": {
    "id": "hyahg2flfDfd"
   },
   "outputs": [],
   "source": [
    "X = tf.keras.preprocessing.sequence.pad_sequences(sequence, padding='post')"
   ]
  },
  {
   "cell_type": "code",
   "execution_count": null,
   "metadata": {
    "colab": {
     "base_uri": "https://localhost:8080/"
    },
    "id": "bplUijMDfMyS",
    "outputId": "f9c4e860-c86d-44f5-d517-4dc45183a09c"
   },
   "outputs": [
    {
     "data": {
      "text/plain": [
       "array([[ 3,  1,  4,  2,  5,  6,  7],\n",
       "       [ 8,  9, 10, 11,  0,  0,  0],\n",
       "       [12, 13,  1, 14,  2,  0,  0]], dtype=int32)"
      ]
     },
     "execution_count": 21,
     "metadata": {
      "tags": []
     },
     "output_type": "execute_result"
    }
   ],
   "source": [
    "X\n",
    "# NB: SI ON A UNE MATRICE, LE TIMESTAMP EST LA TAILLE DES VECTEURS"
   ]
  },
  {
   "cell_type": "code",
   "execution_count": null,
   "metadata": {
    "id": "IM5adqZOyRFY"
   },
   "outputs": [],
   "source": [
    "\"\"\"\n",
    "Soit une vecteur de taille 7 donné comme input d'un embedding dont le output_dim = 100,\n",
    "La sortie de l'embedding sera une matrice de nombre de ligne 7 et de nombre de colonne 100.\n",
    "Chaque ligne de l'embedding correspond à un élément du vecteur d'entrée (les éléments du vecteur d'entrée sont des mots)\n",
    "\"\"\""
   ]
  },
  {
   "cell_type": "code",
   "execution_count": null,
   "metadata": {
    "id": "8-mA2SHXfXoZ"
   },
   "outputs": [],
   "source": [
    "model = tf.keras.layers.Embedding(input_dim=100, output_dim=4, input_length=7)\n",
    "# L'embedding transforme la représentation avec chaque mot sous forme de vecteur, 3 un vecteur, 1 un vecteur, ..."
   ]
  },
  {
   "cell_type": "code",
   "execution_count": null,
   "metadata": {
    "colab": {
     "base_uri": "https://localhost:8080/"
    },
    "id": "7Qp7fzJTftwb",
    "outputId": "9202e791-8050-4bf3-ba6e-39c01ef40a1c"
   },
   "outputs": [
    {
     "name": "stderr",
     "output_type": "stream",
     "text": [
      "/usr/local/lib/python3.7/dist-packages/tensorflow/python/keras/engine/base_layer.py:2273: UserWarning: `layer.apply` is deprecated and will be removed in a future version. Please use `layer.__call__` method instead.\n",
      "  warnings.warn('`layer.apply` is deprecated and '\n"
     ]
    },
    {
     "data": {
      "text/plain": [
       "<tf.Tensor: shape=(3, 7, 4), dtype=float32, numpy=\n",
       "array([[[-0.04294347, -0.03398128, -0.0313089 , -0.03673046],\n",
       "        [-0.00664299, -0.03758215,  0.02055342,  0.04978806],\n",
       "        [-0.04625075, -0.04191046, -0.00271885, -0.04791454],\n",
       "        [-0.02095013, -0.03207104,  0.02627982, -0.0284798 ],\n",
       "        [ 0.03582582,  0.00028412,  0.00941451,  0.01918032],\n",
       "        [-0.02664346, -0.01952302, -0.00522021,  0.04646684],\n",
       "        [-0.02310633,  0.01790834, -0.00562872,  0.04556337]],\n",
       "\n",
       "       [[ 0.03047632, -0.03357361, -0.03934053, -0.00377906],\n",
       "        [ 0.00534134,  0.03101858, -0.00937765, -0.02037183],\n",
       "        [ 0.0153167 ,  0.00015892,  0.01693371,  0.0445505 ],\n",
       "        [-0.00190324,  0.0191715 , -0.02550181, -0.01562681],\n",
       "        [ 0.04827042, -0.02102194,  0.03195012,  0.01977127],\n",
       "        [ 0.04827042, -0.02102194,  0.03195012,  0.01977127],\n",
       "        [ 0.04827042, -0.02102194,  0.03195012,  0.01977127]],\n",
       "\n",
       "       [[ 0.00136634,  0.01827686, -0.04504254,  0.02620559],\n",
       "        [-0.02866683,  0.02686178, -0.01017172,  0.00548186],\n",
       "        [-0.00664299, -0.03758215,  0.02055342,  0.04978806],\n",
       "        [ 0.01645051,  0.02994573, -0.00596116, -0.00055153],\n",
       "        [-0.02095013, -0.03207104,  0.02627982, -0.0284798 ],\n",
       "        [ 0.04827042, -0.02102194,  0.03195012,  0.01977127],\n",
       "        [ 0.04827042, -0.02102194,  0.03195012,  0.01977127]]],\n",
       "      dtype=float32)>"
      ]
     },
     "execution_count": 23,
     "metadata": {
      "tags": []
     },
     "output_type": "execute_result"
    }
   ],
   "source": [
    "model.apply(X)"
   ]
  },
  {
   "cell_type": "code",
   "execution_count": null,
   "metadata": {
    "id": "DtsyZC74lXkX"
   },
   "outputs": [],
   "source": []
  },
  {
   "cell_type": "code",
   "execution_count": null,
   "metadata": {
    "id": "r4U95yifllhl"
   },
   "outputs": [],
   "source": [
    "import numpy as np"
   ]
  },
  {
   "cell_type": "code",
   "execution_count": null,
   "metadata": {
    "id": "9pIFtmf7lobL"
   },
   "outputs": [],
   "source": [
    "y = np.random.randint(1,3,3) # Générer un vecteur de taille 3 avec les éléments compris entre 1 et 3"
   ]
  },
  {
   "cell_type": "code",
   "execution_count": null,
   "metadata": {
    "id": "pZe1QhCAgbUc"
   },
   "outputs": [],
   "source": [
    "input = tf.keras.layers.Input(shape=(None,)) # OR input = f.keras.layers.Input(shape=(timestamp,)), dans l'exemple timestamp = 7\n",
    "x = tf.keras.layers.Embedding(input_dim=100, output_dim=4, input_length=7)(input)\n",
    "x = tf.keras.layers.LSTM(units=10,activation='relu')(x)\n",
    "output = tf.keras.layers.Dense(units=1, activation='sigmoid')(x)\n",
    "model = tf.keras.models.Model(input, output)\n",
    "\n",
    "# si on ajoute la couche Embedding, shape c'est (None,), L'Embedding prend en entré une matrice pas des tensors (pour LSTM)\n",
    "# si on met direcetement LSTM après Input, alors shape c'est (None, nb_features) oubien (timestamp, number_of_features) or (timestamp, 1)"
   ]
  },
  {
   "cell_type": "code",
   "execution_count": null,
   "metadata": {
    "colab": {
     "base_uri": "https://localhost:8080/"
    },
    "id": "5YPxjqoRlbWu",
    "outputId": "1923945a-07d4-44e0-9659-962c0d4a0e3e"
   },
   "outputs": [
    {
     "name": "stdout",
     "output_type": "stream",
     "text": [
      "Model: \"model_3\"\n",
      "_________________________________________________________________\n",
      "Layer (type)                 Output Shape              Param #   \n",
      "=================================================================\n",
      "input_11 (InputLayer)        [(None, None)]            0         \n",
      "_________________________________________________________________\n",
      "embedding_12 (Embedding)     (None, None, 4)           400       \n",
      "_________________________________________________________________\n",
      "lstm_11 (LSTM)               (None, 10)                600       \n",
      "_________________________________________________________________\n",
      "dense_4 (Dense)              (None, 1)                 11        \n",
      "=================================================================\n",
      "Total params: 1,011\n",
      "Trainable params: 1,011\n",
      "Non-trainable params: 0\n",
      "_________________________________________________________________\n"
     ]
    }
   ],
   "source": [
    "model.summary() # (None, None, 4) -> (batch_size, timestamp, output_dim_embedding)"
   ]
  },
  {
   "cell_type": "code",
   "execution_count": null,
   "metadata": {
    "id": "-0ENmyhImJP4"
   },
   "outputs": [],
   "source": [
    "model.compile(optimizer='rmsprop', loss='binary_crossentropy', metrics=['accuracy'])"
   ]
  },
  {
   "cell_type": "code",
   "execution_count": null,
   "metadata": {
    "colab": {
     "base_uri": "https://localhost:8080/"
    },
    "id": "fHfLs0uzlg__",
    "outputId": "c39f3f9e-b85d-464b-87be-53dd6e67c8b6"
   },
   "outputs": [
    {
     "name": "stdout",
     "output_type": "stream",
     "text": [
      "1/1 [==============================] - 1s 1s/step - loss: 3.3383 - accuracy: 0.0000e+00\n"
     ]
    },
    {
     "data": {
      "text/plain": [
       "<tensorflow.python.keras.callbacks.History at 0x7f2ec44b0a90>"
      ]
     },
     "execution_count": 60,
     "metadata": {
      "tags": []
     },
     "output_type": "execute_result"
    }
   ],
   "source": [
    "model.fit(X,y)"
   ]
  },
  {
   "cell_type": "code",
   "execution_count": null,
   "metadata": {
    "id": "lT-U4hd8laas"
   },
   "outputs": [],
   "source": []
  },
  {
   "cell_type": "code",
   "execution_count": null,
   "metadata": {
    "id": "ReiZT9YUiRGj"
   },
   "outputs": [],
   "source": [
    "model = tf.keras.models.Sequential()\n",
    "model.add(tf.keras.layers.Embedding(input_dim=100, output_dim=4, input_length=7))\n",
    "model.add(tf.keras.layers.LSTM(units=10,activation='relu'))\n",
    "model.add(tf.keras.layers.Dense(units=1, activation='sigmoid'))"
   ]
  },
  {
   "cell_type": "code",
   "execution_count": null,
   "metadata": {
    "colab": {
     "base_uri": "https://localhost:8080/"
    },
    "id": "yO65eTI-jIYu",
    "outputId": "ba344f1d-0109-4700-ff09-236eaf87399c"
   },
   "outputs": [
    {
     "name": "stdout",
     "output_type": "stream",
     "text": [
      "Model: \"sequential_1\"\n",
      "_________________________________________________________________\n",
      "Layer (type)                 Output Shape              Param #   \n",
      "=================================================================\n",
      "embedding_15 (Embedding)     (None, 7, 4)              400       \n",
      "_________________________________________________________________\n",
      "lstm_14 (LSTM)               (None, 10)                600       \n",
      "_________________________________________________________________\n",
      "dense_6 (Dense)              (None, 1)                 11        \n",
      "=================================================================\n",
      "Total params: 1,011\n",
      "Trainable params: 1,011\n",
      "Non-trainable params: 0\n",
      "_________________________________________________________________\n"
     ]
    }
   ],
   "source": [
    "model.summary()"
   ]
  },
  {
   "cell_type": "code",
   "execution_count": null,
   "metadata": {
    "id": "1fQ5jnMcmwHs"
   },
   "outputs": [],
   "source": [
    "model.compile(optimizer='adam', loss='binary_crossentropy', metrics=['accuracy'])"
   ]
  },
  {
   "cell_type": "code",
   "execution_count": null,
   "metadata": {
    "colab": {
     "base_uri": "https://localhost:8080/"
    },
    "id": "piD1JI2Dm8ic",
    "outputId": "c970a89a-f4ce-4e0a-e4fc-d49cd3877ba3"
   },
   "outputs": [
    {
     "name": "stdout",
     "output_type": "stream",
     "text": [
      "1/1 [==============================] - 1s 1s/step - loss: 0.6945 - accuracy: 0.0000e+00\n"
     ]
    },
    {
     "data": {
      "text/plain": [
       "<tensorflow.python.keras.callbacks.History at 0x7f2ec6cb0bd0>"
      ]
     },
     "execution_count": 52,
     "metadata": {
      "tags": []
     },
     "output_type": "execute_result"
    }
   ],
   "source": [
    "model.fit(X, y)"
   ]
  },
  {
   "cell_type": "markdown",
   "metadata": {
    "id": "EqfzAL6dnH2h"
   },
   "source": [
    "**Word2Vec**"
   ]
  },
  {
   "cell_type": "code",
   "execution_count": null,
   "metadata": {
    "id": "NzUDc5_MnNf2"
   },
   "outputs": [],
   "source": [
    "from gensim.models import Word2Vec"
   ]
  },
  {
   "cell_type": "code",
   "execution_count": null,
   "metadata": {
    "id": "p4FQKChFnY4B"
   },
   "outputs": [],
   "source": [
    "corpus = [['I', 'am', 'a', 'data', 'scientist'],\n",
    "          ['This','is', 'a', 'malaware']]"
   ]
  },
  {
   "cell_type": "code",
   "execution_count": null,
   "metadata": {
    "id": "s7-7Qo1FnxbE"
   },
   "outputs": [],
   "source": [
    "model = Word2Vec(corpus, min_count=1)"
   ]
  },
  {
   "cell_type": "code",
   "execution_count": null,
   "metadata": {
    "colab": {
     "base_uri": "https://localhost:8080/"
    },
    "id": "nzcqemwCo5f5",
    "outputId": "8a20f6c3-f4d0-4555-94fe-6df26c04d15d"
   },
   "outputs": [
    {
     "name": "stdout",
     "output_type": "stream",
     "text": [
      "Word2Vec(vocab=8, size=100, alpha=0.025)\n"
     ]
    }
   ],
   "source": [
    "print(model) # vocab = mots différents\n",
    "             # size = taille de la représentation de chaque mot"
   ]
  },
  {
   "cell_type": "code",
   "execution_count": null,
   "metadata": {
    "colab": {
     "base_uri": "https://localhost:8080/"
    },
    "id": "rSp3t7-CpXnd",
    "outputId": "91878ef3-97da-43a5-ca13-95abb13bfbbd"
   },
   "outputs": [
    {
     "data": {
      "text/plain": [
       "{'I': <gensim.models.keyedvectors.Vocab at 0x7fe3e71bd290>,\n",
       " 'This': <gensim.models.keyedvectors.Vocab at 0x7fe3e709b550>,\n",
       " 'a': <gensim.models.keyedvectors.Vocab at 0x7fe3e71bd350>,\n",
       " 'am': <gensim.models.keyedvectors.Vocab at 0x7fe3e71bd050>,\n",
       " 'data': <gensim.models.keyedvectors.Vocab at 0x7fe3e71bd610>,\n",
       " 'is': <gensim.models.keyedvectors.Vocab at 0x7fe3e709b210>,\n",
       " 'malaware': <gensim.models.keyedvectors.Vocab at 0x7fe3e709bad0>,\n",
       " 'scientist': <gensim.models.keyedvectors.Vocab at 0x7fe3e709b290>}"
      ]
     },
     "execution_count": 10,
     "metadata": {
      "tags": []
     },
     "output_type": "execute_result"
    }
   ],
   "source": [
    "model.wv.vocab"
   ]
  },
  {
   "cell_type": "code",
   "execution_count": null,
   "metadata": {
    "colab": {
     "base_uri": "https://localhost:8080/"
    },
    "id": "EA3HwVtwpj61",
    "outputId": "92e032ba-857a-4108-faac-fa202e544a58"
   },
   "outputs": [
    {
     "data": {
      "text/plain": [
       "[('a', 0.125),\n",
       " ('I', 0.125),\n",
       " ('am', 0.125),\n",
       " ('data', 0.125),\n",
       " ('scientist', 0.125),\n",
       " ('This', 0.125),\n",
       " ('is', 0.125),\n",
       " ('malaware', 0.125)]"
      ]
     },
     "execution_count": 22,
     "metadata": {
      "tags": []
     },
     "output_type": "execute_result"
    }
   ],
   "source": [
    "model.predict_output_word(['I', 'am', 'a', 'data']) # prédire le mot suivant"
   ]
  },
  {
   "cell_type": "code",
   "execution_count": null,
   "metadata": {
    "colab": {
     "base_uri": "https://localhost:8080/"
    },
    "id": "4w2z4qsWp3kx",
    "outputId": "21021742-af53-430c-bd56-1c8be1766cb6"
   },
   "outputs": [
    {
     "name": "stderr",
     "output_type": "stream",
     "text": [
      "/usr/local/lib/python3.7/dist-packages/ipykernel_launcher.py:1: DeprecationWarning: Call to deprecated `__getitem__` (Method will be removed in 4.0.0, use self.wv.__getitem__() instead).\n",
      "  \"\"\"Entry point for launching an IPython kernel.\n"
     ]
    },
    {
     "data": {
      "text/plain": [
       "array([ 2.9008936e-03,  1.4743499e-03,  5.1800738e-04, -3.8437792e-03,\n",
       "       -1.7304494e-03,  3.1739241e-03, -3.7059486e-03,  2.6845699e-03,\n",
       "        2.4646639e-03, -3.3242337e-03, -8.2613807e-04, -3.3727719e-03,\n",
       "       -2.4857877e-03, -4.5956350e-03,  4.8846272e-03,  4.8293262e-03,\n",
       "       -4.4398955e-03, -1.2457266e-03,  2.9497666e-03, -1.4369456e-03,\n",
       "        2.7195660e-03, -2.9888127e-03, -3.9194138e-03,  3.8750728e-03,\n",
       "        3.3346724e-03,  2.6045246e-03,  5.6973536e-04, -3.5752759e-03,\n",
       "       -1.9478794e-03, -1.0066483e-03,  6.1319716e-04,  4.1683810e-03,\n",
       "       -2.9652659e-03, -3.7466181e-03,  1.3305707e-03, -4.2706896e-03,\n",
       "       -4.2390435e-05,  1.4002725e-03,  7.8253960e-04,  4.6119695e-03,\n",
       "        1.1835456e-03,  4.9502426e-03, -1.5673185e-03, -2.3787894e-04,\n",
       "       -2.4688540e-03, -4.1923248e-03,  4.5231888e-03, -3.6141539e-03,\n",
       "        4.6088337e-03,  8.1892277e-04,  3.1642914e-03, -4.2730425e-03,\n",
       "        1.5486550e-03, -1.6930433e-03,  1.6077273e-03, -4.2019146e-03,\n",
       "       -3.9135260e-03,  1.4726467e-03,  9.2307595e-04,  1.0442881e-04,\n",
       "       -3.6146583e-03, -3.3975700e-03, -4.9251304e-03, -4.2941463e-03,\n",
       "        4.2011603e-03,  1.6296095e-03,  2.3265476e-03, -1.7331886e-03,\n",
       "        1.5691173e-03,  4.3709422e-03,  9.2349818e-04,  2.5213032e-03,\n",
       "        3.6482753e-03,  3.7956063e-03,  1.0829380e-03,  3.2376335e-03,\n",
       "        3.3558102e-03,  1.7791675e-05, -3.9319890e-03, -3.8684695e-03,\n",
       "       -2.7825404e-03, -2.5617052e-03, -4.0878542e-03,  4.4704131e-03,\n",
       "        1.2161101e-03, -3.6278942e-03, -9.4164157e-04, -2.8870010e-03,\n",
       "       -1.8601984e-03,  1.7974548e-04, -2.3684283e-03, -3.6546362e-03,\n",
       "       -3.3676149e-03, -2.7650627e-03,  9.3510526e-04,  2.3581886e-03,\n",
       "        4.6014446e-03,  2.8875147e-03,  4.8804521e-03,  4.5187757e-03],\n",
       "      dtype=float32)"
      ]
     },
     "execution_count": 13,
     "metadata": {
      "tags": []
     },
     "output_type": "execute_result"
    }
   ],
   "source": [
    "model['data'] # Représentation de data liste de 100 élément"
   ]
  },
  {
   "cell_type": "code",
   "execution_count": null,
   "metadata": {
    "colab": {
     "base_uri": "https://localhost:8080/"
    },
    "id": "11AaLJYdqF4W",
    "outputId": "be6c44b6-da8c-4172-8da4-458f7469a576"
   },
   "outputs": [
    {
     "name": "stderr",
     "output_type": "stream",
     "text": [
      "/usr/local/lib/python3.7/dist-packages/ipykernel_launcher.py:1: DeprecationWarning: Call to deprecated `similar_by_word` (Method will be removed in 4.0.0, use self.wv.similar_by_word() instead).\n",
      "  \"\"\"Entry point for launching an IPython kernel.\n"
     ]
    },
    {
     "data": {
      "text/plain": [
       "[('a', 0.12006048858165741),\n",
       " ('malaware', 0.09992823004722595),\n",
       " ('am', 0.07582263648509979),\n",
       " ('This', 0.03445989266037941),\n",
       " ('is', 0.03211004659533501),\n",
       " ('I', 0.029867811128497124),\n",
       " ('scientist', -0.03452153131365776)]"
      ]
     },
     "execution_count": 14,
     "metadata": {
      "tags": []
     },
     "output_type": "execute_result"
    }
   ],
   "source": [
    "model.similar_by_word('data') # les mots proches de data"
   ]
  },
  {
   "cell_type": "code",
   "execution_count": null,
   "metadata": {
    "colab": {
     "base_uri": "https://localhost:8080/"
    },
    "id": "CcU-dQY3qSkd",
    "outputId": "55175da2-1725-49dc-d300-ba7b7cd1a7da"
   },
   "outputs": [
    {
     "name": "stderr",
     "output_type": "stream",
     "text": [
      "/usr/local/lib/python3.7/dist-packages/ipykernel_launcher.py:1: DeprecationWarning: Call to deprecated `similarity` (Method will be removed in 4.0.0, use self.wv.similarity() instead).\n",
      "  \"\"\"Entry point for launching an IPython kernel.\n"
     ]
    },
    {
     "data": {
      "text/plain": [
       "-0.03452153"
      ]
     },
     "execution_count": 15,
     "metadata": {
      "tags": []
     },
     "output_type": "execute_result"
    }
   ],
   "source": [
    "model.similarity('data', 'scientist') # distance entre data et scientist"
   ]
  }
 ],
 "metadata": {
  "colab": {
   "name": "Mon cours deep learning.ipynb",
   "provenance": []
  },
  "kernelspec": {
   "display_name": "Python 3",
   "language": "python",
   "name": "python3"
  },
  "language_info": {
   "codemirror_mode": {
    "name": "ipython",
    "version": 3
   },
   "file_extension": ".py",
   "mimetype": "text/x-python",
   "name": "python",
   "nbconvert_exporter": "python",
   "pygments_lexer": "ipython3",
   "version": "3.7.4"
  }
 },
 "nbformat": 4,
 "nbformat_minor": 1
}
