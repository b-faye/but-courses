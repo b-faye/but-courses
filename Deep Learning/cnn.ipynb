{
 "cells": [
  {
   "cell_type": "code",
   "execution_count": null,
   "metadata": {
    "id": "tOiZJLy89Upi"
   },
   "outputs": [],
   "source": [
    "import tensorflow as tf\n",
    "import numpy as np\n",
    "import matplotlib.pyplot as plt"
   ]
  },
  {
   "cell_type": "code",
   "execution_count": null,
   "metadata": {
    "id": "E-avR_zX-Ges"
   },
   "outputs": [],
   "source": [
    "(X_train, y_train), (X_test, y_test) = tf.keras.datasets.cifar10.load_data()"
   ]
  },
  {
   "cell_type": "code",
   "execution_count": null,
   "metadata": {
    "colab": {
     "base_uri": "https://localhost:8080/"
    },
    "id": "44Srv4c5Ay0B",
    "outputId": "265c3f4e-9fba-4dd0-e89b-ef06b257acca"
   },
   "outputs": [
    {
     "data": {
      "text/plain": [
       "(50000, 32, 32, 3)"
      ]
     },
     "execution_count": 9,
     "metadata": {
      "tags": []
     },
     "output_type": "execute_result"
    }
   ],
   "source": [
    "X_train.shape"
   ]
  },
  {
   "cell_type": "code",
   "execution_count": null,
   "metadata": {
    "id": "cM7AwLIt-RsT"
   },
   "outputs": [],
   "source": [
    "X_train, X_test = X_train/255.0, X_test/255.0"
   ]
  },
  {
   "cell_type": "code",
   "execution_count": null,
   "metadata": {
    "id": "9mDqJoaR_rZz"
   },
   "outputs": [],
   "source": [
    "modele = tf.keras.models.Sequential()"
   ]
  },
  {
   "cell_type": "code",
   "execution_count": null,
   "metadata": {
    "id": "F4BlRc74_-Qp"
   },
   "outputs": [],
   "source": [
    "modele.add(tf.keras.layers.Conv2D(filters=256, kernel_size=(3,3), input_shape=(32,32,3)))\n",
    "modele.add(tf.keras.layers.Activation('relu'))\n",
    "modele.add(tf.keras.layers.MaxPool2D(pool_size=(2,2)))"
   ]
  },
  {
   "cell_type": "code",
   "execution_count": null,
   "metadata": {
    "id": "CDUujWHQDbI2"
   },
   "outputs": [],
   "source": [
    "modele.add(tf.keras.layers.Flatten())"
   ]
  },
  {
   "cell_type": "code",
   "execution_count": null,
   "metadata": {
    "colab": {
     "base_uri": "https://localhost:8080/"
    },
    "id": "vL-a-iubEeXR",
    "outputId": "efcb2452-72b9-49d3-c959-642f7dd7a7ea"
   },
   "outputs": [
    {
     "data": {
      "text/plain": [
       "array([0, 1, 2, 3, 4, 5, 6, 7, 8, 9], dtype=uint8)"
      ]
     },
     "execution_count": 13,
     "metadata": {
      "tags": []
     },
     "output_type": "execute_result"
    }
   ],
   "source": [
    "np.unique(y_test)"
   ]
  },
  {
   "cell_type": "code",
   "execution_count": null,
   "metadata": {
    "id": "BKrueS-GDmQU"
   },
   "outputs": [],
   "source": [
    "modele.add(tf.keras.layers.Dense(64, activation = 'relu'))\n",
    "modele.add(tf.keras.layers.Dense(10)) # couche de sortie\n",
    "modele.add(tf.keras.layers.Activation('sigmoid'))\n",
    "modele.compile(optimizer=\"adam\", loss = \"sparse_categorical_crossentropy\", metrics=['sparse_categorical_accuracy'])"
   ]
  },
  {
   "cell_type": "code",
   "execution_count": null,
   "metadata": {
    "colab": {
     "background_save": true,
     "base_uri": "https://localhost:8080/"
    },
    "id": "gddjtcpfGRqJ",
    "outputId": "05bb2105-2da2-449e-8e56-3941d81df0b4"
   },
   "outputs": [
    {
     "name": "stdout",
     "output_type": "stream",
     "text": [
      "Epoch 1/10\n",
      "4000/4000 [==============================] - 209s 52ms/step - loss: 1.4179 - sparse_categorical_accuracy: 0.4979 - val_loss: 1.2340 - val_sparse_categorical_accuracy: 0.5675\n",
      "Epoch 2/10\n",
      "4000/4000 [==============================] - 202s 51ms/step - loss: 1.1592 - sparse_categorical_accuracy: 0.5940 - val_loss: 1.1870 - val_sparse_categorical_accuracy: 0.5913\n",
      "Epoch 3/10\n",
      "4000/4000 [==============================] - 206s 52ms/step - loss: 1.0262 - sparse_categorical_accuracy: 0.6427 - val_loss: 1.1321 - val_sparse_categorical_accuracy: 0.6118\n",
      "Epoch 4/10\n",
      "4000/4000 [==============================] - 208s 52ms/step - loss: 0.9179 - sparse_categorical_accuracy: 0.6800 - val_loss: 1.0996 - val_sparse_categorical_accuracy: 0.6332\n",
      "Epoch 5/10\n",
      "4000/4000 [==============================] - 207s 52ms/step - loss: 0.8315 - sparse_categorical_accuracy: 0.7099 - val_loss: 1.1157 - val_sparse_categorical_accuracy: 0.6334\n",
      "Epoch 6/10\n",
      "4000/4000 [==============================] - 203s 51ms/step - loss: 0.7490 - sparse_categorical_accuracy: 0.7379 - val_loss: 1.1597 - val_sparse_categorical_accuracy: 0.6329\n",
      "Epoch 7/10\n",
      "4000/4000 [==============================] - 202s 50ms/step - loss: 0.6742 - sparse_categorical_accuracy: 0.7628 - val_loss: 1.2124 - val_sparse_categorical_accuracy: 0.6329\n",
      "Epoch 8/10\n",
      "4000/4000 [==============================] - 205s 51ms/step - loss: 0.6038 - sparse_categorical_accuracy: 0.7870 - val_loss: 1.3594 - val_sparse_categorical_accuracy: 0.6136\n",
      "Epoch 9/10\n",
      "4000/4000 [==============================] - 205s 51ms/step - loss: 0.5365 - sparse_categorical_accuracy: 0.8137 - val_loss: 1.4082 - val_sparse_categorical_accuracy: 0.6194\n",
      "Epoch 10/10\n",
      "4000/4000 [==============================] - 206s 51ms/step - loss: 0.4796 - sparse_categorical_accuracy: 0.8327 - val_loss: 1.4393 - val_sparse_categorical_accuracy: 0.6204\n"
     ]
    },
    {
     "data": {
      "text/plain": [
       "<tensorflow.python.keras.callbacks.History at 0x7f33ab2df690>"
      ]
     },
     "execution_count": null,
     "metadata": {},
     "output_type": "execute_result"
    }
   ],
   "source": [
    "modele.fit(X_train, y_train, batch_size=10, epochs=10, validation_split=0.2)"
   ]
  }
 ],
 "metadata": {
  "colab": {
   "name": "cnn.ipynb",
   "provenance": []
  },
  "kernelspec": {
   "display_name": "Python 3",
   "language": "python",
   "name": "python3"
  },
  "language_info": {
   "codemirror_mode": {
    "name": "ipython",
    "version": 3
   },
   "file_extension": ".py",
   "mimetype": "text/x-python",
   "name": "python",
   "nbconvert_exporter": "python",
   "pygments_lexer": "ipython3",
   "version": "3.7.4"
  }
 },
 "nbformat": 4,
 "nbformat_minor": 1
}
