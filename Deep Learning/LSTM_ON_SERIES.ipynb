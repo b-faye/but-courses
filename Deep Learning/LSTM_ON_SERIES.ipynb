{
  "nbformat": 4,
  "nbformat_minor": 0,
  "metadata": {
    "colab": {
      "name": "LSTM ON SERIES.ipynb",
      "provenance": []
    },
    "kernelspec": {
      "name": "python3",
      "display_name": "Python 3"
    },
    "language_info": {
      "name": "python"
    }
  },
  "cells": [
    {
      "cell_type": "code",
      "metadata": {
        "id": "MA1wkS8HJM6P"
      },
      "source": [
        "import tensorflow as tf\n",
        "import pandas as pd\n",
        "import matplotlib.pyplot as plt\n",
        "import numpy as np\n",
        "from sklearn.preprocessing import MinMaxScaler"
      ],
      "execution_count": null,
      "outputs": []
    },
    {
      "cell_type": "code",
      "metadata": {
        "id": "7xha06r1JQrY"
      },
      "source": [
        "# Base de données AirPassengers.csv kaggle\n",
        "df = pd.read_csv('sample_data/AirPassengers.csv')"
      ],
      "execution_count": null,
      "outputs": []
    },
    {
      "cell_type": "code",
      "metadata": {
        "id": "Ouk5-_SgLlNN"
      },
      "source": [
        "# On prédit seulement la colonne #Passengers\n",
        "X =  np.array(df.iloc[:,1])\n",
        "X = X.reshape((X.shape[0],1))"
      ],
      "execution_count": null,
      "outputs": []
    },
    {
      "cell_type": "code",
      "metadata": {
        "id": "IXyGodWINm62"
      },
      "source": [
        "sc = MinMaxScaler(feature_range=(0,1))\n",
        "sc = sc.fit(X)\n",
        "X_scaled = sc.transform(X)"
      ],
      "execution_count": null,
      "outputs": []
    },
    {
      "cell_type": "code",
      "metadata": {
        "colab": {
          "base_uri": "https://localhost:8080/"
        },
        "id": "ZLeloUshOcW9",
        "outputId": "909539e5-6955-4fee-8081-d4ce1b255a03"
      },
      "source": [
        "X_scaled"
      ],
      "execution_count": null,
      "outputs": [
        {
          "output_type": "execute_result",
          "data": {
            "text/plain": [
              "array([[0.01544402],\n",
              "       [0.02702703],\n",
              "       [0.05405405],\n",
              "       [0.04826255],\n",
              "       [0.03281853],\n",
              "       [0.05984556],\n",
              "       [0.08494208],\n",
              "       [0.08494208],\n",
              "       [0.06177606],\n",
              "       [0.02895753],\n",
              "       [0.        ],\n",
              "       [0.02702703],\n",
              "       [0.02123552],\n",
              "       [0.04247104],\n",
              "       [0.07142857],\n",
              "       [0.05984556],\n",
              "       [0.04054054],\n",
              "       [0.08687259],\n",
              "       [0.12741313],\n",
              "       [0.12741313],\n",
              "       [0.1042471 ],\n",
              "       [0.05598456],\n",
              "       [0.01930502],\n",
              "       [0.06949807],\n",
              "       [0.07915058],\n",
              "       [0.08880309],\n",
              "       [0.14285714],\n",
              "       [0.11389961],\n",
              "       [0.13127413],\n",
              "       [0.14285714],\n",
              "       [0.18339768],\n",
              "       [0.18339768],\n",
              "       [0.15444015],\n",
              "       [0.11196911],\n",
              "       [0.08108108],\n",
              "       [0.11969112],\n",
              "       [0.12934363],\n",
              "       [0.14671815],\n",
              "       [0.17181467],\n",
              "       [0.14864865],\n",
              "       [0.15250965],\n",
              "       [0.22007722],\n",
              "       [0.24324324],\n",
              "       [0.26640927],\n",
              "       [0.2027027 ],\n",
              "       [0.16795367],\n",
              "       [0.13127413],\n",
              "       [0.17374517],\n",
              "       [0.17760618],\n",
              "       [0.17760618],\n",
              "       [0.25482625],\n",
              "       [0.25289575],\n",
              "       [0.24131274],\n",
              "       [0.26833977],\n",
              "       [0.30888031],\n",
              "       [0.32432432],\n",
              "       [0.25675676],\n",
              "       [0.20656371],\n",
              "       [0.14671815],\n",
              "       [0.18725869],\n",
              "       [0.19305019],\n",
              "       [0.16216216],\n",
              "       [0.25289575],\n",
              "       [0.23745174],\n",
              "       [0.25096525],\n",
              "       [0.30888031],\n",
              "       [0.38223938],\n",
              "       [0.36486486],\n",
              "       [0.2992278 ],\n",
              "       [0.24131274],\n",
              "       [0.19111969],\n",
              "       [0.24131274],\n",
              "       [0.26640927],\n",
              "       [0.24903475],\n",
              "       [0.31467181],\n",
              "       [0.31853282],\n",
              "       [0.32046332],\n",
              "       [0.40733591],\n",
              "       [0.5019305 ],\n",
              "       [0.46911197],\n",
              "       [0.4015444 ],\n",
              "       [0.32818533],\n",
              "       [0.25675676],\n",
              "       [0.33590734],\n",
              "       [0.34749035],\n",
              "       [0.33397683],\n",
              "       [0.41119691],\n",
              "       [0.4034749 ],\n",
              "       [0.41312741],\n",
              "       [0.52123552],\n",
              "       [0.5965251 ],\n",
              "       [0.58108108],\n",
              "       [0.48455598],\n",
              "       [0.38996139],\n",
              "       [0.32239382],\n",
              "       [0.38996139],\n",
              "       [0.40733591],\n",
              "       [0.38030888],\n",
              "       [0.48648649],\n",
              "       [0.47104247],\n",
              "       [0.48455598],\n",
              "       [0.61389961],\n",
              "       [0.6969112 ],\n",
              "       [0.7007722 ],\n",
              "       [0.57915058],\n",
              "       [0.46911197],\n",
              "       [0.38803089],\n",
              "       [0.44787645],\n",
              "       [0.45559846],\n",
              "       [0.41312741],\n",
              "       [0.4980695 ],\n",
              "       [0.47104247],\n",
              "       [0.5       ],\n",
              "       [0.63899614],\n",
              "       [0.74710425],\n",
              "       [0.77413127],\n",
              "       [0.57915058],\n",
              "       [0.49227799],\n",
              "       [0.3976834 ],\n",
              "       [0.44980695],\n",
              "       [0.49420849],\n",
              "       [0.45945946],\n",
              "       [0.58301158],\n",
              "       [0.56370656],\n",
              "       [0.61003861],\n",
              "       [0.71042471],\n",
              "       [0.85714286],\n",
              "       [0.87837838],\n",
              "       [0.69305019],\n",
              "       [0.58494208],\n",
              "       [0.4980695 ],\n",
              "       [0.58108108],\n",
              "       [0.6042471 ],\n",
              "       [0.55405405],\n",
              "       [0.60810811],\n",
              "       [0.68918919],\n",
              "       [0.71042471],\n",
              "       [0.83204633],\n",
              "       [1.        ],\n",
              "       [0.96911197],\n",
              "       [0.77992278],\n",
              "       [0.68918919],\n",
              "       [0.55212355],\n",
              "       [0.63320463]])"
            ]
          },
          "metadata": {
            "tags": []
          },
          "execution_count": 32
        }
      ]
    },
    {
      "cell_type": "code",
      "metadata": {
        "id": "_sgd-y7gOfIF"
      },
      "source": [
        "# On crée deux matrices X et y qui pour chaque X donne le nombre pour le mois précédent\n",
        "\n",
        "X = []\n",
        "y = []\n",
        "look_back = 1 # Nombre de mois, ici par 1 mois\n",
        "for i in range(len(X_scaled)-1):\n",
        "  X.append(X_scaled[i:(i+look_back),0])\n",
        "  y.append(X_scaled[i+look_back, 0])\n",
        "X, y = np.array(X), np.array(y)\n",
        "X = X.reshape((X.shape[0],1))\n",
        "y = y.reshape((y.shape[0],1))"
      ],
      "execution_count": null,
      "outputs": []
    },
    {
      "cell_type": "code",
      "metadata": {
        "colab": {
          "base_uri": "https://localhost:8080/"
        },
        "id": "hWibmAaORbGr",
        "outputId": "49b9ca69-9242-4eba-ffa0-8d1396dc345b"
      },
      "source": [
        "X.shape"
      ],
      "execution_count": null,
      "outputs": [
        {
          "output_type": "execute_result",
          "data": {
            "text/plain": [
              "(143, 1)"
            ]
          },
          "metadata": {
            "tags": []
          },
          "execution_count": 36
        }
      ]
    },
    {
      "cell_type": "code",
      "metadata": {
        "colab": {
          "base_uri": "https://localhost:8080/"
        },
        "id": "6I-fZiFsRdzh",
        "outputId": "50613846-a277-48a7-91e1-f14ec5eba152"
      },
      "source": [
        "y.shape"
      ],
      "execution_count": null,
      "outputs": [
        {
          "output_type": "execute_result",
          "data": {
            "text/plain": [
              "(143, 1)"
            ]
          },
          "metadata": {
            "tags": []
          },
          "execution_count": 37
        }
      ]
    },
    {
      "cell_type": "code",
      "metadata": {
        "id": "T0obMrVNRfoB"
      },
      "source": [
        "# Mettre X sur 3 dim\n",
        "X = X.reshape((X.shape[0],X.shape[1], 1))"
      ],
      "execution_count": null,
      "outputs": []
    },
    {
      "cell_type": "code",
      "metadata": {
        "colab": {
          "base_uri": "https://localhost:8080/"
        },
        "id": "EG3Ze61ERoaR",
        "outputId": "fed1aa07-551f-48f7-8c37-f94cedb8b7ad"
      },
      "source": [
        "X"
      ],
      "execution_count": null,
      "outputs": [
        {
          "output_type": "execute_result",
          "data": {
            "text/plain": [
              "array([[[0.01544402]],\n",
              "\n",
              "       [[0.02702703]],\n",
              "\n",
              "       [[0.05405405]],\n",
              "\n",
              "       [[0.04826255]],\n",
              "\n",
              "       [[0.03281853]],\n",
              "\n",
              "       [[0.05984556]],\n",
              "\n",
              "       [[0.08494208]],\n",
              "\n",
              "       [[0.08494208]],\n",
              "\n",
              "       [[0.06177606]],\n",
              "\n",
              "       [[0.02895753]],\n",
              "\n",
              "       [[0.        ]],\n",
              "\n",
              "       [[0.02702703]],\n",
              "\n",
              "       [[0.02123552]],\n",
              "\n",
              "       [[0.04247104]],\n",
              "\n",
              "       [[0.07142857]],\n",
              "\n",
              "       [[0.05984556]],\n",
              "\n",
              "       [[0.04054054]],\n",
              "\n",
              "       [[0.08687259]],\n",
              "\n",
              "       [[0.12741313]],\n",
              "\n",
              "       [[0.12741313]],\n",
              "\n",
              "       [[0.1042471 ]],\n",
              "\n",
              "       [[0.05598456]],\n",
              "\n",
              "       [[0.01930502]],\n",
              "\n",
              "       [[0.06949807]],\n",
              "\n",
              "       [[0.07915058]],\n",
              "\n",
              "       [[0.08880309]],\n",
              "\n",
              "       [[0.14285714]],\n",
              "\n",
              "       [[0.11389961]],\n",
              "\n",
              "       [[0.13127413]],\n",
              "\n",
              "       [[0.14285714]],\n",
              "\n",
              "       [[0.18339768]],\n",
              "\n",
              "       [[0.18339768]],\n",
              "\n",
              "       [[0.15444015]],\n",
              "\n",
              "       [[0.11196911]],\n",
              "\n",
              "       [[0.08108108]],\n",
              "\n",
              "       [[0.11969112]],\n",
              "\n",
              "       [[0.12934363]],\n",
              "\n",
              "       [[0.14671815]],\n",
              "\n",
              "       [[0.17181467]],\n",
              "\n",
              "       [[0.14864865]],\n",
              "\n",
              "       [[0.15250965]],\n",
              "\n",
              "       [[0.22007722]],\n",
              "\n",
              "       [[0.24324324]],\n",
              "\n",
              "       [[0.26640927]],\n",
              "\n",
              "       [[0.2027027 ]],\n",
              "\n",
              "       [[0.16795367]],\n",
              "\n",
              "       [[0.13127413]],\n",
              "\n",
              "       [[0.17374517]],\n",
              "\n",
              "       [[0.17760618]],\n",
              "\n",
              "       [[0.17760618]],\n",
              "\n",
              "       [[0.25482625]],\n",
              "\n",
              "       [[0.25289575]],\n",
              "\n",
              "       [[0.24131274]],\n",
              "\n",
              "       [[0.26833977]],\n",
              "\n",
              "       [[0.30888031]],\n",
              "\n",
              "       [[0.32432432]],\n",
              "\n",
              "       [[0.25675676]],\n",
              "\n",
              "       [[0.20656371]],\n",
              "\n",
              "       [[0.14671815]],\n",
              "\n",
              "       [[0.18725869]],\n",
              "\n",
              "       [[0.19305019]],\n",
              "\n",
              "       [[0.16216216]],\n",
              "\n",
              "       [[0.25289575]],\n",
              "\n",
              "       [[0.23745174]],\n",
              "\n",
              "       [[0.25096525]],\n",
              "\n",
              "       [[0.30888031]],\n",
              "\n",
              "       [[0.38223938]],\n",
              "\n",
              "       [[0.36486486]],\n",
              "\n",
              "       [[0.2992278 ]],\n",
              "\n",
              "       [[0.24131274]],\n",
              "\n",
              "       [[0.19111969]],\n",
              "\n",
              "       [[0.24131274]],\n",
              "\n",
              "       [[0.26640927]],\n",
              "\n",
              "       [[0.24903475]],\n",
              "\n",
              "       [[0.31467181]],\n",
              "\n",
              "       [[0.31853282]],\n",
              "\n",
              "       [[0.32046332]],\n",
              "\n",
              "       [[0.40733591]],\n",
              "\n",
              "       [[0.5019305 ]],\n",
              "\n",
              "       [[0.46911197]],\n",
              "\n",
              "       [[0.4015444 ]],\n",
              "\n",
              "       [[0.32818533]],\n",
              "\n",
              "       [[0.25675676]],\n",
              "\n",
              "       [[0.33590734]],\n",
              "\n",
              "       [[0.34749035]],\n",
              "\n",
              "       [[0.33397683]],\n",
              "\n",
              "       [[0.41119691]],\n",
              "\n",
              "       [[0.4034749 ]],\n",
              "\n",
              "       [[0.41312741]],\n",
              "\n",
              "       [[0.52123552]],\n",
              "\n",
              "       [[0.5965251 ]],\n",
              "\n",
              "       [[0.58108108]],\n",
              "\n",
              "       [[0.48455598]],\n",
              "\n",
              "       [[0.38996139]],\n",
              "\n",
              "       [[0.32239382]],\n",
              "\n",
              "       [[0.38996139]],\n",
              "\n",
              "       [[0.40733591]],\n",
              "\n",
              "       [[0.38030888]],\n",
              "\n",
              "       [[0.48648649]],\n",
              "\n",
              "       [[0.47104247]],\n",
              "\n",
              "       [[0.48455598]],\n",
              "\n",
              "       [[0.61389961]],\n",
              "\n",
              "       [[0.6969112 ]],\n",
              "\n",
              "       [[0.7007722 ]],\n",
              "\n",
              "       [[0.57915058]],\n",
              "\n",
              "       [[0.46911197]],\n",
              "\n",
              "       [[0.38803089]],\n",
              "\n",
              "       [[0.44787645]],\n",
              "\n",
              "       [[0.45559846]],\n",
              "\n",
              "       [[0.41312741]],\n",
              "\n",
              "       [[0.4980695 ]],\n",
              "\n",
              "       [[0.47104247]],\n",
              "\n",
              "       [[0.5       ]],\n",
              "\n",
              "       [[0.63899614]],\n",
              "\n",
              "       [[0.74710425]],\n",
              "\n",
              "       [[0.77413127]],\n",
              "\n",
              "       [[0.57915058]],\n",
              "\n",
              "       [[0.49227799]],\n",
              "\n",
              "       [[0.3976834 ]],\n",
              "\n",
              "       [[0.44980695]],\n",
              "\n",
              "       [[0.49420849]],\n",
              "\n",
              "       [[0.45945946]],\n",
              "\n",
              "       [[0.58301158]],\n",
              "\n",
              "       [[0.56370656]],\n",
              "\n",
              "       [[0.61003861]],\n",
              "\n",
              "       [[0.71042471]],\n",
              "\n",
              "       [[0.85714286]],\n",
              "\n",
              "       [[0.87837838]],\n",
              "\n",
              "       [[0.69305019]],\n",
              "\n",
              "       [[0.58494208]],\n",
              "\n",
              "       [[0.4980695 ]],\n",
              "\n",
              "       [[0.58108108]],\n",
              "\n",
              "       [[0.6042471 ]],\n",
              "\n",
              "       [[0.55405405]],\n",
              "\n",
              "       [[0.60810811]],\n",
              "\n",
              "       [[0.68918919]],\n",
              "\n",
              "       [[0.71042471]],\n",
              "\n",
              "       [[0.83204633]],\n",
              "\n",
              "       [[1.        ]],\n",
              "\n",
              "       [[0.96911197]],\n",
              "\n",
              "       [[0.77992278]],\n",
              "\n",
              "       [[0.68918919]],\n",
              "\n",
              "       [[0.55212355]]])"
            ]
          },
          "metadata": {
            "tags": []
          },
          "execution_count": 44
        }
      ]
    },
    {
      "cell_type": "code",
      "metadata": {
        "id": "iH0K00qnSsec"
      },
      "source": [
        "# train test \n",
        "train_size = int(len(X)*0.7)\n",
        "X_train = X[:train_size, :]\n",
        "X_test = X[train_size:, :]\n",
        "y_train = y[:train_size, 0]\n",
        "y_test = y[train_size:, 0]"
      ],
      "execution_count": null,
      "outputs": []
    },
    {
      "cell_type": "code",
      "metadata": {
        "colab": {
          "base_uri": "https://localhost:8080/"
        },
        "id": "bXu9ni1eTiE-",
        "outputId": "76ec560a-b20b-41c0-d52f-0bb760593416"
      },
      "source": [
        "X_train.shape"
      ],
      "execution_count": null,
      "outputs": [
        {
          "output_type": "execute_result",
          "data": {
            "text/plain": [
              "(100, 1, 1)"
            ]
          },
          "metadata": {
            "tags": []
          },
          "execution_count": 49
        }
      ]
    },
    {
      "cell_type": "code",
      "metadata": {
        "colab": {
          "base_uri": "https://localhost:8080/"
        },
        "id": "yfWKhvlNTk2j",
        "outputId": "e7b367ca-0a44-45e5-f628-bc8fafcee9be"
      },
      "source": [
        "X_test.shape"
      ],
      "execution_count": null,
      "outputs": [
        {
          "output_type": "execute_result",
          "data": {
            "text/plain": [
              "(43, 1, 1)"
            ]
          },
          "metadata": {
            "tags": []
          },
          "execution_count": 50
        }
      ]
    },
    {
      "cell_type": "code",
      "metadata": {
        "colab": {
          "base_uri": "https://localhost:8080/"
        },
        "id": "1xdGEYoVTnRL",
        "outputId": "0bd8215a-4d24-4c07-9ff4-946cdf6a18aa"
      },
      "source": [
        "y_train.shape"
      ],
      "execution_count": null,
      "outputs": [
        {
          "output_type": "execute_result",
          "data": {
            "text/plain": [
              "(100, 1)"
            ]
          },
          "metadata": {
            "tags": []
          },
          "execution_count": 55
        }
      ]
    },
    {
      "cell_type": "code",
      "metadata": {
        "colab": {
          "base_uri": "https://localhost:8080/"
        },
        "id": "bqDUmJouTz3T",
        "outputId": "c1e46708-db26-463d-b270-0c48a9ac7509"
      },
      "source": [
        "y_test.shape"
      ],
      "execution_count": null,
      "outputs": [
        {
          "output_type": "execute_result",
          "data": {
            "text/plain": [
              "(43, 1)"
            ]
          },
          "metadata": {
            "tags": []
          },
          "execution_count": 56
        }
      ]
    },
    {
      "cell_type": "code",
      "metadata": {
        "id": "--uWI269T4oK"
      },
      "source": [
        "y_train, y_test = y_train.reshape((y_train.shape[0], 1)), y_test.reshape((y_test.shape[0], 1))"
      ],
      "execution_count": null,
      "outputs": []
    },
    {
      "cell_type": "code",
      "metadata": {
        "colab": {
          "base_uri": "https://localhost:8080/"
        },
        "id": "KoWzRMAkUTcO",
        "outputId": "8e985da0-96fc-4858-f78d-a3671288470a"
      },
      "source": [
        "# Construire le RNN\n",
        "model = tf.keras.models.Sequential()\n",
        "# return_sequences : Pour dire que y'aura d'autres couches de LSTM\n",
        "model.add(tf.keras.layers.LSTM(units=50, return_sequences=True, input_shape=(1,1)))\n",
        "model.add(tf.keras.layers.LSTM(units=50, return_sequences=True))\n",
        "model.add(tf.keras.layers.LSTM(units=50))\n",
        "model.add(tf.keras.layers.Dense(units=1))\n",
        "model.compile(optimizer='adam', loss=\"mse\", metrics=['mse'])\n",
        "model.summary()"
      ],
      "execution_count": null,
      "outputs": [
        {
          "output_type": "stream",
          "text": [
            "Model: \"sequential_2\"\n",
            "_________________________________________________________________\n",
            "Layer (type)                 Output Shape              Param #   \n",
            "=================================================================\n",
            "lstm_6 (LSTM)                (None, 1, 50)             10400     \n",
            "_________________________________________________________________\n",
            "lstm_7 (LSTM)                (None, 1, 50)             20200     \n",
            "_________________________________________________________________\n",
            "lstm_8 (LSTM)                (None, 50)                20200     \n",
            "_________________________________________________________________\n",
            "dense_2 (Dense)              (None, 1)                 51        \n",
            "=================================================================\n",
            "Total params: 50,851\n",
            "Trainable params: 50,851\n",
            "Non-trainable params: 0\n",
            "_________________________________________________________________\n"
          ],
          "name": "stdout"
        }
      ]
    },
    {
      "cell_type": "code",
      "metadata": {
        "colab": {
          "base_uri": "https://localhost:8080/"
        },
        "id": "w7EpFJwxWSzU",
        "outputId": "27e023e8-8ce0-4ba1-e7bb-d17d5a048ad7"
      },
      "source": [
        "history = model.fit(X_train, y_train, epochs=50, validation_split=0.2)"
      ],
      "execution_count": null,
      "outputs": [
        {
          "output_type": "stream",
          "text": [
            "Epoch 1/50\n",
            "3/3 [==============================] - 6s 712ms/step - loss: 0.0442 - mse: 0.0442 - val_loss: 0.1718 - val_mse: 0.1718\n",
            "Epoch 2/50\n",
            "3/3 [==============================] - 0s 26ms/step - loss: 0.0407 - mse: 0.0407 - val_loss: 0.1619 - val_mse: 0.1619\n",
            "Epoch 3/50\n",
            "3/3 [==============================] - 0s 27ms/step - loss: 0.0403 - mse: 0.0403 - val_loss: 0.1518 - val_mse: 0.1518\n",
            "Epoch 4/50\n",
            "3/3 [==============================] - 0s 28ms/step - loss: 0.0330 - mse: 0.0330 - val_loss: 0.1411 - val_mse: 0.1411\n",
            "Epoch 5/50\n",
            "3/3 [==============================] - 0s 29ms/step - loss: 0.0307 - mse: 0.0307 - val_loss: 0.1297 - val_mse: 0.1297\n",
            "Epoch 6/50\n",
            "3/3 [==============================] - 0s 28ms/step - loss: 0.0246 - mse: 0.0246 - val_loss: 0.1177 - val_mse: 0.1177\n",
            "Epoch 7/50\n",
            "3/3 [==============================] - 0s 28ms/step - loss: 0.0206 - mse: 0.0206 - val_loss: 0.1050 - val_mse: 0.1050\n",
            "Epoch 8/50\n",
            "3/3 [==============================] - 0s 31ms/step - loss: 0.0202 - mse: 0.0202 - val_loss: 0.0918 - val_mse: 0.0918\n",
            "Epoch 9/50\n",
            "3/3 [==============================] - 0s 29ms/step - loss: 0.0150 - mse: 0.0150 - val_loss: 0.0785 - val_mse: 0.0785\n",
            "Epoch 10/50\n",
            "3/3 [==============================] - 0s 28ms/step - loss: 0.0118 - mse: 0.0118 - val_loss: 0.0654 - val_mse: 0.0654\n",
            "Epoch 11/50\n",
            "3/3 [==============================] - 0s 29ms/step - loss: 0.0125 - mse: 0.0125 - val_loss: 0.0535 - val_mse: 0.0535\n",
            "Epoch 12/50\n",
            "3/3 [==============================] - 0s 26ms/step - loss: 0.0099 - mse: 0.0099 - val_loss: 0.0445 - val_mse: 0.0445\n",
            "Epoch 13/50\n",
            "3/3 [==============================] - 0s 26ms/step - loss: 0.0116 - mse: 0.0116 - val_loss: 0.0385 - val_mse: 0.0385\n",
            "Epoch 14/50\n",
            "3/3 [==============================] - 0s 30ms/step - loss: 0.0112 - mse: 0.0112 - val_loss: 0.0368 - val_mse: 0.0368\n",
            "Epoch 15/50\n",
            "3/3 [==============================] - 0s 30ms/step - loss: 0.0106 - mse: 0.0106 - val_loss: 0.0384 - val_mse: 0.0384\n",
            "Epoch 16/50\n",
            "3/3 [==============================] - 0s 28ms/step - loss: 0.0110 - mse: 0.0110 - val_loss: 0.0407 - val_mse: 0.0407\n",
            "Epoch 17/50\n",
            "3/3 [==============================] - 0s 28ms/step - loss: 0.0096 - mse: 0.0096 - val_loss: 0.0432 - val_mse: 0.0432\n",
            "Epoch 18/50\n",
            "3/3 [==============================] - 0s 29ms/step - loss: 0.0090 - mse: 0.0090 - val_loss: 0.0457 - val_mse: 0.0457\n",
            "Epoch 19/50\n",
            "3/3 [==============================] - 0s 27ms/step - loss: 0.0106 - mse: 0.0106 - val_loss: 0.0476 - val_mse: 0.0476\n",
            "Epoch 20/50\n",
            "3/3 [==============================] - 0s 27ms/step - loss: 0.0105 - mse: 0.0105 - val_loss: 0.0487 - val_mse: 0.0487\n",
            "Epoch 21/50\n",
            "3/3 [==============================] - 0s 32ms/step - loss: 0.0097 - mse: 0.0097 - val_loss: 0.0481 - val_mse: 0.0481\n",
            "Epoch 22/50\n",
            "3/3 [==============================] - 0s 28ms/step - loss: 0.0089 - mse: 0.0089 - val_loss: 0.0466 - val_mse: 0.0466\n",
            "Epoch 23/50\n",
            "3/3 [==============================] - 0s 28ms/step - loss: 0.0097 - mse: 0.0097 - val_loss: 0.0441 - val_mse: 0.0441\n",
            "Epoch 24/50\n",
            "3/3 [==============================] - 0s 27ms/step - loss: 0.0084 - mse: 0.0084 - val_loss: 0.0412 - val_mse: 0.0412\n",
            "Epoch 25/50\n",
            "3/3 [==============================] - 0s 27ms/step - loss: 0.0085 - mse: 0.0085 - val_loss: 0.0381 - val_mse: 0.0381\n",
            "Epoch 26/50\n",
            "3/3 [==============================] - 0s 29ms/step - loss: 0.0074 - mse: 0.0074 - val_loss: 0.0353 - val_mse: 0.0353\n",
            "Epoch 27/50\n",
            "3/3 [==============================] - 0s 27ms/step - loss: 0.0070 - mse: 0.0070 - val_loss: 0.0317 - val_mse: 0.0317\n",
            "Epoch 28/50\n",
            "3/3 [==============================] - 0s 31ms/step - loss: 0.0078 - mse: 0.0078 - val_loss: 0.0280 - val_mse: 0.0280\n",
            "Epoch 29/50\n",
            "3/3 [==============================] - 0s 27ms/step - loss: 0.0067 - mse: 0.0067 - val_loss: 0.0255 - val_mse: 0.0255\n",
            "Epoch 30/50\n",
            "3/3 [==============================] - 0s 30ms/step - loss: 0.0063 - mse: 0.0063 - val_loss: 0.0235 - val_mse: 0.0235\n",
            "Epoch 31/50\n",
            "3/3 [==============================] - 0s 29ms/step - loss: 0.0054 - mse: 0.0054 - val_loss: 0.0224 - val_mse: 0.0224\n",
            "Epoch 32/50\n",
            "3/3 [==============================] - 0s 30ms/step - loss: 0.0050 - mse: 0.0050 - val_loss: 0.0219 - val_mse: 0.0219\n",
            "Epoch 33/50\n",
            "3/3 [==============================] - 0s 28ms/step - loss: 0.0045 - mse: 0.0045 - val_loss: 0.0196 - val_mse: 0.0196\n",
            "Epoch 34/50\n",
            "3/3 [==============================] - 0s 27ms/step - loss: 0.0047 - mse: 0.0047 - val_loss: 0.0156 - val_mse: 0.0156\n",
            "Epoch 35/50\n",
            "3/3 [==============================] - 0s 29ms/step - loss: 0.0040 - mse: 0.0040 - val_loss: 0.0120 - val_mse: 0.0120\n",
            "Epoch 36/50\n",
            "3/3 [==============================] - 0s 31ms/step - loss: 0.0036 - mse: 0.0036 - val_loss: 0.0090 - val_mse: 0.0090\n",
            "Epoch 37/50\n",
            "3/3 [==============================] - 0s 28ms/step - loss: 0.0028 - mse: 0.0028 - val_loss: 0.0073 - val_mse: 0.0073\n",
            "Epoch 38/50\n",
            "3/3 [==============================] - 0s 26ms/step - loss: 0.0028 - mse: 0.0028 - val_loss: 0.0063 - val_mse: 0.0063\n",
            "Epoch 39/50\n",
            "3/3 [==============================] - 0s 30ms/step - loss: 0.0021 - mse: 0.0021 - val_loss: 0.0058 - val_mse: 0.0058\n",
            "Epoch 40/50\n",
            "3/3 [==============================] - 0s 28ms/step - loss: 0.0022 - mse: 0.0022 - val_loss: 0.0047 - val_mse: 0.0047\n",
            "Epoch 41/50\n",
            "3/3 [==============================] - 0s 28ms/step - loss: 0.0018 - mse: 0.0018 - val_loss: 0.0044 - val_mse: 0.0044\n",
            "Epoch 42/50\n",
            "3/3 [==============================] - 0s 35ms/step - loss: 0.0018 - mse: 0.0018 - val_loss: 0.0045 - val_mse: 0.0045\n",
            "Epoch 43/50\n",
            "3/3 [==============================] - 0s 27ms/step - loss: 0.0017 - mse: 0.0017 - val_loss: 0.0047 - val_mse: 0.0047\n",
            "Epoch 44/50\n",
            "3/3 [==============================] - 0s 34ms/step - loss: 0.0017 - mse: 0.0017 - val_loss: 0.0049 - val_mse: 0.0049\n",
            "Epoch 45/50\n",
            "3/3 [==============================] - 0s 29ms/step - loss: 0.0016 - mse: 0.0016 - val_loss: 0.0049 - val_mse: 0.0049\n",
            "Epoch 46/50\n",
            "3/3 [==============================] - 0s 28ms/step - loss: 0.0015 - mse: 0.0015 - val_loss: 0.0050 - val_mse: 0.0050\n",
            "Epoch 47/50\n",
            "3/3 [==============================] - 0s 27ms/step - loss: 0.0018 - mse: 0.0018 - val_loss: 0.0050 - val_mse: 0.0050\n",
            "Epoch 48/50\n",
            "3/3 [==============================] - 0s 30ms/step - loss: 0.0016 - mse: 0.0016 - val_loss: 0.0052 - val_mse: 0.0052\n",
            "Epoch 49/50\n",
            "3/3 [==============================] - 0s 29ms/step - loss: 0.0016 - mse: 0.0016 - val_loss: 0.0050 - val_mse: 0.0050\n",
            "Epoch 50/50\n",
            "3/3 [==============================] - 0s 29ms/step - loss: 0.0016 - mse: 0.0016 - val_loss: 0.0048 - val_mse: 0.0048\n"
          ],
          "name": "stdout"
        }
      ]
    },
    {
      "cell_type": "code",
      "metadata": {
        "id": "vk17kqzOW7BX"
      },
      "source": [
        "y_pred = model.predict(X_test)"
      ],
      "execution_count": null,
      "outputs": []
    },
    {
      "cell_type": "code",
      "metadata": {
        "colab": {
          "base_uri": "https://localhost:8080/",
          "height": 265
        },
        "id": "IZ0aA2E6XtJC",
        "outputId": "dcf3f710-f3e8-4814-9e35-0f2d8d8b1d52"
      },
      "source": [
        "plt.plot(y_test, c='red', label='y_test')\n",
        "plt.plot(y_pred, c='green', label='y_pred')\n",
        "plt.legend()\n",
        "plt.show()"
      ],
      "execution_count": null,
      "outputs": [
        {
          "output_type": "display_data",
          "data": {
            "image/png": "[encoded data removed]",
            "text/plain": [
              "<Figure size 432x288 with 1 Axes>"
            ]
          },
          "metadata": {
            "tags": [],
            "needs_background": "light"
          }
        }
      ]
    },
    {
      "cell_type": "code",
      "metadata": {
        "colab": {
          "base_uri": "https://localhost:8080/"
        },
        "id": "_uaE5tCVYDtq",
        "outputId": "03f55d1d-52f6-4fc7-c206-a4ca56f24856"
      },
      "source": [
        "sc.inverse_transform(y_pred)"
      ],
      "execution_count": null,
      "outputs": [
        {
          "output_type": "execute_result",
          "data": {
            "text/plain": [
              "array([[364.72662],\n",
              "       [448.67725],\n",
              "       [506.10776],\n",
              "       [508.84183],\n",
              "       [425.43857],\n",
              "       [355.18002],\n",
              "       [306.7975 ],\n",
              "       [342.22498],\n",
              "       [346.91284],\n",
              "       [321.45847],\n",
              "       [373.1653 ],\n",
              "       [356.36765],\n",
              "       [374.37735],\n",
              "       [465.76077],\n",
              "       [542.0642 ],\n",
              "       [561.7833 ],\n",
              "       [425.43857],\n",
              "       [369.53897],\n",
              "       [312.4027 ],\n",
              "       [343.3945 ],\n",
              "       [370.74615],\n",
              "       [349.26666],\n",
              "       [427.9964 ],\n",
              "       [415.26862],\n",
              "       [446.07114],\n",
              "       [515.70074],\n",
              "       [623.7851 ],\n",
              "       [639.9665 ],\n",
              "       [503.379  ],\n",
              "       [429.27768],\n",
              "       [373.16534],\n",
              "       [426.7167 ],\n",
              "       [442.17313],\n",
              "       [408.96265],\n",
              "       [444.7703 ],\n",
              "       [500.65576],\n",
              "       [515.70074],\n",
              "       [604.82355],\n",
              "       [734.752  ],\n",
              "       [710.3727 ],\n",
              "       [566.04004],\n",
              "       [500.65576],\n",
              "       [407.70612]], dtype=float32)"
            ]
          },
          "metadata": {
            "tags": []
          },
          "execution_count": 68
        }
      ]
    },
    {
      "cell_type": "code",
      "metadata": {
        "colab": {
          "base_uri": "https://localhost:8080/"
        },
        "id": "G5EgVi5VYRG9",
        "outputId": "c61cc8e0-6412-44e1-b256-187551b26235"
      },
      "source": [
        "sc.inverse_transform(y_test)"
      ],
      "execution_count": null,
      "outputs": [
        {
          "output_type": "execute_result",
          "data": {
            "text/plain": [
              "array([[422.],\n",
              "       [465.],\n",
              "       [467.],\n",
              "       [404.],\n",
              "       [347.],\n",
              "       [305.],\n",
              "       [336.],\n",
              "       [340.],\n",
              "       [318.],\n",
              "       [362.],\n",
              "       [348.],\n",
              "       [363.],\n",
              "       [435.],\n",
              "       [491.],\n",
              "       [505.],\n",
              "       [404.],\n",
              "       [359.],\n",
              "       [310.],\n",
              "       [337.],\n",
              "       [360.],\n",
              "       [342.],\n",
              "       [406.],\n",
              "       [396.],\n",
              "       [420.],\n",
              "       [472.],\n",
              "       [548.],\n",
              "       [559.],\n",
              "       [463.],\n",
              "       [407.],\n",
              "       [362.],\n",
              "       [405.],\n",
              "       [417.],\n",
              "       [391.],\n",
              "       [419.],\n",
              "       [461.],\n",
              "       [472.],\n",
              "       [535.],\n",
              "       [622.],\n",
              "       [606.],\n",
              "       [508.],\n",
              "       [461.],\n",
              "       [390.],\n",
              "       [432.]])"
            ]
          },
          "metadata": {
            "tags": []
          },
          "execution_count": 69
        }
      ]
    },
    {
      "cell_type": "code",
      "metadata": {
        "colab": {
          "base_uri": "https://localhost:8080/"
        },
        "id": "7rtpezxdnEnf",
        "outputId": "5b5ed98d-0c98-42c7-e7e4-30c0550d4084"
      },
      "source": [
        "(train_images, train_labels), (test_images, test_labels) = tf.keras.datasets.cifar10.load_data()"
      ],
      "execution_count": null,
      "outputs": [
        {
          "output_type": "stream",
          "text": [
            "Downloading data from https://www.cs.toronto.edu/~kriz/cifar-10-python.tar.gz\n",
            "170500096/170498071 [==============================] - 2s 0us/step\n"
          ],
          "name": "stdout"
        }
      ]
    }
  ]
}