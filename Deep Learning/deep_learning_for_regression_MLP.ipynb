{
  "nbformat": 4,
  "nbformat_minor": 0,
  "metadata": {
    "colab": {
      "name": "deep learning for regression MLP.ipynb",
      "provenance": []
    },
    "kernelspec": {
      "name": "python3",
      "display_name": "Python 3"
    },
    "language_info": {
      "name": "python"
    }
  },
  "cells": [
    {
      "cell_type": "code",
      "metadata": {
        "id": "57WuoN1Jj8zn"
      },
      "source": [
        "import tensorflow as tf\n",
        "import numpy as np\n",
        "from sklearn.model_selection import train_test_split\n",
        "import matplotlib.pyplot as plt\n",
        "import seaborn as sns"
      ],
      "execution_count": null,
      "outputs": []
    },
    {
      "cell_type": "code",
      "metadata": {
        "colab": {
          "base_uri": "https://localhost:8080/",
          "height": 329
        },
        "id": "0m8Vq1AYkGvH",
        "outputId": "a6310e47-8048-4bfd-9fc7-647930f67c3e"
      },
      "source": [
        "n = 100000\n",
        "X = np.deg2rad(np.linspace(0,720,n))\n",
        "y = 1.5*np.sin(X) + (0.45*X - 1)\n",
        "\n",
        "fig, axes = plt.subplots(figsize = (25,5))\n",
        "plot = sns.lineplot(X, y)\n",
        "plot.set_xlabel('X')\n",
        "plot.set_ylabel('y')\n",
        "\n",
        "X_train, X_test, y_train, y_test = train_test_split(X,y, test_size = 0.2)"
      ],
      "execution_count": null,
      "outputs": [
        {
          "output_type": "stream",
          "text": [
            "/usr/local/lib/python3.7/dist-packages/seaborn/_decorators.py:43: FutureWarning: Pass the following variables as keyword args: x, y. From version 0.12, the only valid positional argument will be `data`, and passing other arguments without an explicit keyword will result in an error or misinterpretation.\n",
            "  FutureWarning\n"
          ],
          "name": "stderr"
        },
        {
          "output_type": "display_data",
          "data": {
            "image/png": "[encoded data removed]",
            "text/plain": [
              "<Figure size 1800x360 with 1 Axes>"
            ]
          },
          "metadata": {
            "tags": [],
            "needs_background": "light"
          }
        }
      ]
    },
    {
      "cell_type": "code",
      "metadata": {
        "id": "JzUUEjYklW_g"
      },
      "source": [
        "from tensorflow.keras.models import Model\n",
        "from tensorflow.keras.layers import Input, Dense # Dense : fully connected"
      ],
      "execution_count": null,
      "outputs": []
    },
    {
      "cell_type": "code",
      "metadata": {
        "colab": {
          "base_uri": "https://localhost:8080/"
        },
        "id": "m6VspOZGl6Ej",
        "outputId": "21ef18b3-2fa9-430b-c41b-1998d03af4f0"
      },
      "source": [
        "input_layer = Input(shape=1) # 1 seul neurone car chaque individu sur X est représenté sur une seule colonne\n",
        "h1 = Dense(units=128, activation='relu')(input_layer) # 128 neurones\n",
        "output_layer = Dense(units=1, activation='linear')(h1) # neuronne de sortie, linear: f(x)=x ne modifie rien\n",
        "model = Model(input_layer, output_layer)\n",
        "model.compile(optimizer=\"rmsprop\", loss=\"mse\", metrics=['mse']) # Pour spécifier le type de backpropagation et la loss function(mse pour la régression)\n",
        "\n",
        "history =model.fit(X_train, y_train, epochs=50, batch_size=32, validation_split=0.2, verbose=1)# verbose donne les logs(erreurs)"
      ],
      "execution_count": null,
      "outputs": [
        {
          "output_type": "stream",
          "text": [
            "Epoch 1/50\n",
            "2000/2000 [==============================] - 3s 1ms/step - loss: 1.3978 - mse: 1.3978 - val_loss: 0.9386 - val_mse: 0.9386\n",
            "Epoch 2/50\n",
            "2000/2000 [==============================] - 3s 1ms/step - loss: 0.9387 - mse: 0.9387 - val_loss: 0.8765 - val_mse: 0.8765\n",
            "Epoch 3/50\n",
            "2000/2000 [==============================] - 3s 1ms/step - loss: 0.8355 - mse: 0.8355 - val_loss: 0.6803 - val_mse: 0.6803\n",
            "Epoch 4/50\n",
            "2000/2000 [==============================] - 3s 1ms/step - loss: 0.6274 - mse: 0.6274 - val_loss: 0.4748 - val_mse: 0.4748\n",
            "Epoch 5/50\n",
            "2000/2000 [==============================] - 3s 1ms/step - loss: 0.4092 - mse: 0.4092 - val_loss: 0.2809 - val_mse: 0.2809\n",
            "Epoch 6/50\n",
            "2000/2000 [==============================] - 3s 1ms/step - loss: 0.2675 - mse: 0.2675 - val_loss: 0.2014 - val_mse: 0.2014\n",
            "Epoch 7/50\n",
            "2000/2000 [==============================] - 3s 1ms/step - loss: 0.2080 - mse: 0.2080 - val_loss: 0.2117 - val_mse: 0.2117\n",
            "Epoch 8/50\n",
            "2000/2000 [==============================] - 3s 1ms/step - loss: 0.1918 - mse: 0.1918 - val_loss: 0.1786 - val_mse: 0.1786\n",
            "Epoch 9/50\n",
            "2000/2000 [==============================] - 3s 1ms/step - loss: 0.1860 - mse: 0.1860 - val_loss: 0.1987 - val_mse: 0.1987\n",
            "Epoch 10/50\n",
            "2000/2000 [==============================] - 3s 1ms/step - loss: 0.1842 - mse: 0.1842 - val_loss: 0.1978 - val_mse: 0.1978\n",
            "Epoch 11/50\n",
            "2000/2000 [==============================] - 3s 1ms/step - loss: 0.1821 - mse: 0.1821 - val_loss: 0.1596 - val_mse: 0.1596\n",
            "Epoch 12/50\n",
            "2000/2000 [==============================] - 3s 1ms/step - loss: 0.1802 - mse: 0.1802 - val_loss: 0.1751 - val_mse: 0.1751\n",
            "Epoch 13/50\n",
            "2000/2000 [==============================] - 3s 1ms/step - loss: 0.1819 - mse: 0.1819 - val_loss: 0.1595 - val_mse: 0.1595\n",
            "Epoch 14/50\n",
            "2000/2000 [==============================] - 3s 1ms/step - loss: 0.1833 - mse: 0.1833 - val_loss: 0.1732 - val_mse: 0.1732\n",
            "Epoch 15/50\n",
            "2000/2000 [==============================] - 3s 1ms/step - loss: 0.1792 - mse: 0.1792 - val_loss: 0.1624 - val_mse: 0.1624\n",
            "Epoch 16/50\n",
            "2000/2000 [==============================] - 3s 1ms/step - loss: 0.1808 - mse: 0.1808 - val_loss: 0.1652 - val_mse: 0.1652\n",
            "Epoch 17/50\n",
            "2000/2000 [==============================] - 3s 1ms/step - loss: 0.1789 - mse: 0.1789 - val_loss: 0.1637 - val_mse: 0.1637\n",
            "Epoch 18/50\n",
            "2000/2000 [==============================] - 3s 1ms/step - loss: 0.1795 - mse: 0.1795 - val_loss: 0.1707 - val_mse: 0.1707\n",
            "Epoch 19/50\n",
            "2000/2000 [==============================] - 3s 1ms/step - loss: 0.1779 - mse: 0.1779 - val_loss: 0.1888 - val_mse: 0.1888\n",
            "Epoch 20/50\n",
            "2000/2000 [==============================] - 3s 1ms/step - loss: 0.1802 - mse: 0.1802 - val_loss: 0.2126 - val_mse: 0.2126\n",
            "Epoch 21/50\n",
            "2000/2000 [==============================] - 3s 1ms/step - loss: 0.1804 - mse: 0.1804 - val_loss: 0.1709 - val_mse: 0.1709\n",
            "Epoch 22/50\n",
            "2000/2000 [==============================] - 3s 1ms/step - loss: 0.1774 - mse: 0.1774 - val_loss: 0.1560 - val_mse: 0.1560\n",
            "Epoch 23/50\n",
            "2000/2000 [==============================] - 3s 1ms/step - loss: 0.1789 - mse: 0.1789 - val_loss: 0.1694 - val_mse: 0.1694\n",
            "Epoch 24/50\n",
            "2000/2000 [==============================] - 3s 1ms/step - loss: 0.1816 - mse: 0.1816 - val_loss: 0.1954 - val_mse: 0.1954\n",
            "Epoch 25/50\n",
            "2000/2000 [==============================] - 3s 1ms/step - loss: 0.1801 - mse: 0.1801 - val_loss: 0.1608 - val_mse: 0.1608\n",
            "Epoch 26/50\n",
            "2000/2000 [==============================] - 3s 1ms/step - loss: 0.1784 - mse: 0.1784 - val_loss: 0.1724 - val_mse: 0.1724\n",
            "Epoch 27/50\n",
            "2000/2000 [==============================] - 3s 1ms/step - loss: 0.1779 - mse: 0.1779 - val_loss: 0.1794 - val_mse: 0.1794\n",
            "Epoch 28/50\n",
            "2000/2000 [==============================] - 3s 1ms/step - loss: 0.1782 - mse: 0.1782 - val_loss: 0.1594 - val_mse: 0.1594\n",
            "Epoch 29/50\n",
            "2000/2000 [==============================] - 3s 1ms/step - loss: 0.1800 - mse: 0.1800 - val_loss: 0.1571 - val_mse: 0.1571\n",
            "Epoch 30/50\n",
            "2000/2000 [==============================] - 3s 1ms/step - loss: 0.1766 - mse: 0.1766 - val_loss: 0.1619 - val_mse: 0.1619\n",
            "Epoch 31/50\n",
            "2000/2000 [==============================] - 3s 1ms/step - loss: 0.1763 - mse: 0.1763 - val_loss: 0.1635 - val_mse: 0.1635\n",
            "Epoch 32/50\n",
            "2000/2000 [==============================] - 3s 1ms/step - loss: 0.1777 - mse: 0.1777 - val_loss: 0.1596 - val_mse: 0.1596\n",
            "Epoch 33/50\n",
            "2000/2000 [==============================] - 3s 1ms/step - loss: 0.1769 - mse: 0.1769 - val_loss: 0.1569 - val_mse: 0.1569\n",
            "Epoch 34/50\n",
            "2000/2000 [==============================] - 3s 1ms/step - loss: 0.1782 - mse: 0.1782 - val_loss: 0.2044 - val_mse: 0.2044\n",
            "Epoch 35/50\n",
            "2000/2000 [==============================] - 3s 1ms/step - loss: 0.1785 - mse: 0.1785 - val_loss: 0.1552 - val_mse: 0.1552\n",
            "Epoch 36/50\n",
            "2000/2000 [==============================] - 3s 1ms/step - loss: 0.1752 - mse: 0.1752 - val_loss: 0.1612 - val_mse: 0.1612\n",
            "Epoch 37/50\n",
            "2000/2000 [==============================] - 3s 1ms/step - loss: 0.1746 - mse: 0.1746 - val_loss: 0.1833 - val_mse: 0.1833\n",
            "Epoch 38/50\n",
            "2000/2000 [==============================] - 3s 1ms/step - loss: 0.1775 - mse: 0.1775 - val_loss: 0.1560 - val_mse: 0.1560\n",
            "Epoch 39/50\n",
            "2000/2000 [==============================] - 3s 1ms/step - loss: 0.1793 - mse: 0.1793 - val_loss: 0.1582 - val_mse: 0.1582\n",
            "Epoch 40/50\n",
            "2000/2000 [==============================] - 3s 1ms/step - loss: 0.1758 - mse: 0.1758 - val_loss: 0.1529 - val_mse: 0.1529\n",
            "Epoch 41/50\n",
            "2000/2000 [==============================] - 3s 1ms/step - loss: 0.1710 - mse: 0.1710 - val_loss: 0.1471 - val_mse: 0.1471\n",
            "Epoch 42/50\n",
            "2000/2000 [==============================] - 3s 1ms/step - loss: 0.1661 - mse: 0.1661 - val_loss: 0.1430 - val_mse: 0.1430\n",
            "Epoch 43/50\n",
            "2000/2000 [==============================] - 3s 1ms/step - loss: 0.1627 - mse: 0.1627 - val_loss: 0.1723 - val_mse: 0.1723\n",
            "Epoch 44/50\n",
            "2000/2000 [==============================] - 3s 1ms/step - loss: 0.1581 - mse: 0.1581 - val_loss: 0.1356 - val_mse: 0.1356\n",
            "Epoch 45/50\n",
            "2000/2000 [==============================] - 3s 1ms/step - loss: 0.1497 - mse: 0.1497 - val_loss: 0.1387 - val_mse: 0.1387\n",
            "Epoch 46/50\n",
            "2000/2000 [==============================] - 3s 1ms/step - loss: 0.1458 - mse: 0.1458 - val_loss: 0.1555 - val_mse: 0.1555\n",
            "Epoch 47/50\n",
            "2000/2000 [==============================] - 3s 1ms/step - loss: 0.1369 - mse: 0.1369 - val_loss: 0.1144 - val_mse: 0.1144\n",
            "Epoch 48/50\n",
            "2000/2000 [==============================] - 3s 1ms/step - loss: 0.1309 - mse: 0.1309 - val_loss: 0.1254 - val_mse: 0.1254\n",
            "Epoch 49/50\n",
            "2000/2000 [==============================] - 3s 1ms/step - loss: 0.1232 - mse: 0.1232 - val_loss: 0.1269 - val_mse: 0.1269\n",
            "Epoch 50/50\n",
            "2000/2000 [==============================] - 3s 1ms/step - loss: 0.1175 - mse: 0.1175 - val_loss: 0.1055 - val_mse: 0.1055\n"
          ],
          "name": "stdout"
        }
      ]
    },
    {
      "cell_type": "code",
      "metadata": {
        "colab": {
          "base_uri": "https://localhost:8080/",
          "height": 281
        },
        "id": "wHUsT4tysiM_",
        "outputId": "eb4c75f1-7882-412d-ba07-b6c19bd95e92"
      },
      "source": [
        "x_epochs = np.arange(0,50)\n",
        "plt.plot(x_epochs,history.history['loss'], c='blue', label='loss')# apprentissage cout du train\n",
        "plt.plot(x_epochs,history.history['val_loss'], c = 'red', label='Loss validation') # cout sur la validation\n",
        "plt.title(\"Généralisation du modèle\")\n",
        "plt.legend()\n",
        "plt.show()"
      ],
      "execution_count": null,
      "outputs": [
        {
          "output_type": "display_data",
          "data": {
            "image/png": "[encoded data removed]",
            "text/plain": [
              "<Figure size 432x288 with 1 Axes>"
            ]
          },
          "metadata": {
            "tags": [],
            "needs_background": "light"
          }
        }
      ]
    },
    {
      "cell_type": "code",
      "metadata": {
        "colab": {
          "base_uri": "https://localhost:8080/"
        },
        "id": "-YjgoheKuHM6",
        "outputId": "6b51010b-d891-4470-9c25-d186e2dae97c"
      },
      "source": [
        "y_pred = model.predict(X_test)\n",
        "history.history['mse']"
      ],
      "execution_count": null,
      "outputs": [
        {
          "output_type": "execute_result",
          "data": {
            "text/plain": [
              "[1.0338940620422363,\n",
              " 0.9167118072509766,\n",
              " 0.7921730279922485,\n",
              " 0.571416437625885,\n",
              " 0.36689823865890503,\n",
              " 0.2478123903274536,\n",
              " 0.20163282752037048,\n",
              " 0.18933935463428497,\n",
              " 0.18344524502754211,\n",
              " 0.18168020248413086,\n",
              " 0.18196243047714233,\n",
              " 0.1804993748664856,\n",
              " 0.18030524253845215,\n",
              " 0.1797550618648529,\n",
              " 0.1798921525478363,\n",
              " 0.1797228455543518,\n",
              " 0.17897725105285645,\n",
              " 0.1792401522397995,\n",
              " 0.18011203408241272,\n",
              " 0.17889097332954407,\n",
              " 0.17843930423259735,\n",
              " 0.17912045121192932,\n",
              " 0.17964689433574677,\n",
              " 0.1787615418434143,\n",
              " 0.17779532074928284,\n",
              " 0.17791815102100372,\n",
              " 0.1779271960258484,\n",
              " 0.17943468689918518,\n",
              " 0.1788800209760666,\n",
              " 0.17814865708351135,\n",
              " 0.17815566062927246,\n",
              " 0.1783996820449829,\n",
              " 0.17817674577236176,\n",
              " 0.17825669050216675,\n",
              " 0.1779884248971939,\n",
              " 0.17776888608932495,\n",
              " 0.1777597814798355,\n",
              " 0.17799577116966248,\n",
              " 0.17722997069358826,\n",
              " 0.1750946342945099,\n",
              " 0.1724509596824646,\n",
              " 0.16739924252033234,\n",
              " 0.1620551198720932,\n",
              " 0.15609554946422577,\n",
              " 0.14923134446144104,\n",
              " 0.14321757853031158,\n",
              " 0.13605159521102905,\n",
              " 0.129250630736351,\n",
              " 0.12254761159420013,\n",
              " 0.116741843521595]"
            ]
          },
          "metadata": {
            "tags": []
          },
          "execution_count": 34
        }
      ]
    }
  ]
}