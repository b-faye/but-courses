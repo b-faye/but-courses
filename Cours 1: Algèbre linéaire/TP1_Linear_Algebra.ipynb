{
  "nbformat": 4,
  "nbformat_minor": 0,
  "metadata": {
    "colab": {
      "provenance": []
    },
    "kernelspec": {
      "name": "python3",
      "display_name": "Python 3"
    },
    "language_info": {
      "name": "python"
    }
  },
  "cells": [
    {
      "cell_type": "markdown",
      "source": [
        "## Recalls"
      ],
      "metadata": {
        "id": "qIWTWMvL-lMG"
      }
    },
    {
      "cell_type": "code",
      "source": [
        "# Example\n",
        "import numpy as np\n",
        "\n",
        "# 1. Vector Addition\n",
        "def vector_addition(u, v):\n",
        "    return np.add(u, v)\n",
        "\n",
        "# 2. Vector Subtraction\n",
        "def vector_subtraction(u, v):\n",
        "    return np.subtract(u, v)\n",
        "\n",
        "# 3. Scalar-Vector Multiplication\n",
        "def scalar_vector_multiplication(scalar, v):\n",
        "    return scalar * v\n",
        "\n",
        "# 4. Matrix Addition\n",
        "def matrix_addition(A, B):\n",
        "    return np.add(A, B)\n",
        "\n",
        "# 5. Matrix Subtraction\n",
        "def matrix_subtraction(A, B):\n",
        "    return np.subtract(A, B)\n",
        "\n",
        "# 6. Scalar-Matrix Multiplication\n",
        "def scalar_matrix_multiplication(scalar, A):\n",
        "    return scalar * A\n",
        "\n",
        "# 7. Transpose of a Matrix\n",
        "def matrix_transpose(A):\n",
        "    return A.T\n",
        "\n",
        "# 8. Inverse of a Matrix\n",
        "def matrix_inverse(A):\n",
        "    return np.linalg.inv(A)\n",
        "\n",
        "# 9. Determinant of a Matrix\n",
        "def matrix_determinant(A):\n",
        "    return np.linalg.det(A)\n",
        "\n",
        "# 10. Eigenvalues and Eigenvectors of a Matrix\n",
        "def matrix_eigen(A):\n",
        "    eigenvalues, eigenvectors = np.linalg.eig(A)\n",
        "    return eigenvalues, eigenvectors\n",
        "\n",
        "# 11. Singular Value Decomposition (SVD) of a Matrix\n",
        "def matrix_svd(A):\n",
        "    U, S, V = np.linalg.svd(A)\n",
        "    return U, S, V"
      ],
      "metadata": {
        "id": "56GxCvcgrHfr"
      },
      "execution_count": null,
      "outputs": []
    },
    {
      "cell_type": "markdown",
      "source": [
        "##### Creation\n",
        "Vectors and matrices in Python can be defined manually using Numpy arrays:"
      ],
      "metadata": {
        "id": "CT1rbhyvsMSv"
      }
    },
    {
      "cell_type": "code",
      "source": [
        "# Define a vector\n",
        "v = np.array([4, 6, -1])\n",
        "print(v)"
      ],
      "metadata": {
        "colab": {
          "base_uri": "https://localhost:8080/"
        },
        "id": "LrvJ2Rs_qma9",
        "outputId": "7fb12350-2728-4672-ce8e-6474f0ed8911"
      },
      "execution_count": null,
      "outputs": [
        {
          "output_type": "stream",
          "name": "stdout",
          "text": [
            "[ 4  6 -1]\n"
          ]
        }
      ]
    },
    {
      "cell_type": "code",
      "source": [
        "# Dimension\n",
        "print(v.shape)\n",
        "\n",
        "# Number of elements\n",
        "print(v.size)"
      ],
      "metadata": {
        "colab": {
          "base_uri": "https://localhost:8080/"
        },
        "id": "_NeDlvGXtlEy",
        "outputId": "43573a07-4359-4159-9f12-2cef74f64628"
      },
      "execution_count": null,
      "outputs": [
        {
          "output_type": "stream",
          "name": "stdout",
          "text": [
            "(3,)\n",
            "3\n"
          ]
        }
      ]
    },
    {
      "cell_type": "code",
      "source": [
        "# Define a matrix\n",
        "M = np.array([[1, 3, 7], [8, 4, 5]])\n",
        "print(M)"
      ],
      "metadata": {
        "colab": {
          "base_uri": "https://localhost:8080/"
        },
        "id": "CquMG9T4t-aJ",
        "outputId": "cc483278-afb6-4e30-c619-bc83fbb1d924"
      },
      "execution_count": null,
      "outputs": [
        {
          "output_type": "stream",
          "name": "stdout",
          "text": [
            "[[1 3 7]\n",
            " [8 4 5]]\n"
          ]
        }
      ]
    },
    {
      "cell_type": "code",
      "source": [
        "# Dimension\n",
        "print(M.shape)"
      ],
      "metadata": {
        "colab": {
          "base_uri": "https://localhost:8080/"
        },
        "id": "IePs8dLVv-Q9",
        "outputId": "b30dd1be-584d-4de3-82fa-6974591f1289"
      },
      "execution_count": null,
      "outputs": [
        {
          "output_type": "stream",
          "name": "stdout",
          "text": [
            "(2, 3)\n"
          ]
        }
      ]
    },
    {
      "cell_type": "code",
      "source": [
        "# Number of elements\n",
        "print(M.size)"
      ],
      "metadata": {
        "colab": {
          "base_uri": "https://localhost:8080/"
        },
        "id": "klpE8ZkV0iMt",
        "outputId": "bf04ee5a-bfdd-461b-ed2f-476ccd575739"
      },
      "execution_count": null,
      "outputs": [
        {
          "output_type": "stream",
          "name": "stdout",
          "text": [
            "6\n"
          ]
        }
      ]
    },
    {
      "cell_type": "code",
      "source": [
        "# Type of elements\n",
        "M.dtype"
      ],
      "metadata": {
        "colab": {
          "base_uri": "https://localhost:8080/"
        },
        "id": "3aeersu31Bcn",
        "outputId": "ea742184-2987-4743-8520-907411be6c3d"
      },
      "execution_count": null,
      "outputs": [
        {
          "output_type": "execute_result",
          "data": {
            "text/plain": [
              "dtype('int64')"
            ]
          },
          "metadata": {},
          "execution_count": 54
        }
      ]
    },
    {
      "cell_type": "markdown",
      "source": [
        "The type can be changed a posteriori using ```asarray```:"
      ],
      "metadata": {
        "id": "EJ5VZDd51o18"
      }
    },
    {
      "cell_type": "code",
      "source": [
        "M = M.astype('int32')\n",
        "M.dtype"
      ],
      "metadata": {
        "colab": {
          "base_uri": "https://localhost:8080/"
        },
        "id": "njBH_QJf1aB4",
        "outputId": "73ea20c9-dc8c-4fbb-8335-a869b1a4f0c3"
      },
      "execution_count": null,
      "outputs": [
        {
          "output_type": "execute_result",
          "data": {
            "text/plain": [
              "dtype('int32')"
            ]
          },
          "metadata": {},
          "execution_count": 56
        }
      ]
    },
    {
      "cell_type": "markdown",
      "source": [
        "The type can be set when creating the matrix:"
      ],
      "metadata": {
        "id": "wBqxvNp12xtR"
      }
    },
    {
      "cell_type": "code",
      "source": [
        "M = np.array([[1, 3, 7], [8, 4, 5]], dtype='int32')\n",
        "M.dtype"
      ],
      "metadata": {
        "colab": {
          "base_uri": "https://localhost:8080/"
        },
        "id": "xSjJiqiw2tLe",
        "outputId": "a70c9a76-36a7-4792-a887-4dc3993e0d6f"
      },
      "execution_count": null,
      "outputs": [
        {
          "output_type": "execute_result",
          "data": {
            "text/plain": [
              "dtype('int32')"
            ]
          },
          "metadata": {},
          "execution_count": 58
        }
      ]
    },
    {
      "cell_type": "markdown",
      "source": [
        "##### Creation using numpy functions"
      ],
      "metadata": {
        "id": "XapgS8Q63uD2"
      }
    },
    {
      "cell_type": "code",
      "source": [
        "x = np.arange(10)\n",
        "x"
      ],
      "metadata": {
        "colab": {
          "base_uri": "https://localhost:8080/"
        },
        "id": "QG2bKWbt3j-A",
        "outputId": "551b42f9-5381-41d6-cd8b-101213a06c47"
      },
      "execution_count": null,
      "outputs": [
        {
          "output_type": "execute_result",
          "data": {
            "text/plain": [
              "array([0, 1, 2, 3, 4, 5, 6, 7, 8, 9])"
            ]
          },
          "metadata": {},
          "execution_count": 59
        }
      ]
    },
    {
      "cell_type": "code",
      "source": [
        "# Null matrix of shape (3,3)\n",
        "Z = np.zeros((3,3))\n",
        "print(Z)"
      ],
      "metadata": {
        "colab": {
          "base_uri": "https://localhost:8080/"
        },
        "id": "8jMts-SC4Dct",
        "outputId": "3c169110-3b69-4fba-bf31-1bf0bdacaef2"
      },
      "execution_count": null,
      "outputs": [
        {
          "output_type": "stream",
          "name": "stdout",
          "text": [
            "[[0. 0. 0.]\n",
            " [0. 0. 0.]\n",
            " [0. 0. 0.]]\n"
          ]
        }
      ]
    },
    {
      "cell_type": "code",
      "source": [
        "# A Matrix filled with 1\n",
        "L = np.ones((2,3))\n",
        "print(L)"
      ],
      "metadata": {
        "colab": {
          "base_uri": "https://localhost:8080/"
        },
        "id": "YOQOllvs4yPY",
        "outputId": "86022121-834a-444f-b4bd-92322def2738"
      },
      "execution_count": null,
      "outputs": [
        {
          "output_type": "stream",
          "name": "stdout",
          "text": [
            "[[1. 1. 1.]\n",
            " [1. 1. 1.]]\n"
          ]
        }
      ]
    },
    {
      "cell_type": "code",
      "source": [
        "# Identity matrix\n",
        "I = np.eye(3)\n",
        "print(I)"
      ],
      "metadata": {
        "colab": {
          "base_uri": "https://localhost:8080/"
        },
        "id": "k-nSPeS-5KO1",
        "outputId": "356ff61d-5ca8-4b2d-a71f-9b2b2c9035f7"
      },
      "execution_count": null,
      "outputs": [
        {
          "output_type": "stream",
          "name": "stdout",
          "text": [
            "[[1. 0. 0.]\n",
            " [0. 1. 0.]\n",
            " [0. 0. 1.]]\n"
          ]
        }
      ]
    },
    {
      "cell_type": "code",
      "source": [
        "# Diagonal matrix\n",
        "D = np.diag([2, -1, 3])\n",
        "print(D)"
      ],
      "metadata": {
        "colab": {
          "base_uri": "https://localhost:8080/"
        },
        "id": "ZEQ468Oq57w8",
        "outputId": "917916cd-be59-479b-8cbc-a52109feb35d"
      },
      "execution_count": null,
      "outputs": [
        {
          "output_type": "stream",
          "name": "stdout",
          "text": [
            "[[ 2  0  0]\n",
            " [ 0 -1  0]\n",
            " [ 0  0  3]]\n"
          ]
        }
      ]
    },
    {
      "cell_type": "markdown",
      "source": [
        "##### Reshaping"
      ],
      "metadata": {
        "id": "NlzdendsyoIf"
      }
    },
    {
      "cell_type": "code",
      "source": [
        "x = np.arange(1,10)\n",
        "x"
      ],
      "metadata": {
        "colab": {
          "base_uri": "https://localhost:8080/"
        },
        "id": "csqGEsPQ61TT",
        "outputId": "07760f7c-9fc0-4c7d-8338-39840c64d45a"
      },
      "execution_count": null,
      "outputs": [
        {
          "output_type": "execute_result",
          "data": {
            "text/plain": [
              "array([[1, 2, 3],\n",
              "       [4, 5, 6],\n",
              "       [7, 8, 9]])"
            ]
          },
          "metadata": {},
          "execution_count": 67
        }
      ]
    },
    {
      "cell_type": "code",
      "source": [
        "# Reshape\n",
        "x.reshape((3,3))"
      ],
      "metadata": {
        "colab": {
          "base_uri": "https://localhost:8080/"
        },
        "id": "dQSr1uPM7Qo9",
        "outputId": "d4300571-a153-48ce-a6ce-e987c913e53f"
      },
      "execution_count": null,
      "outputs": [
        {
          "output_type": "execute_result",
          "data": {
            "text/plain": [
              "array([[1, 2, 3],\n",
              "       [4, 5, 6],\n",
              "       [7, 8, 9]])"
            ]
          },
          "metadata": {},
          "execution_count": 68
        }
      ]
    },
    {
      "cell_type": "code",
      "source": [
        "# Reshape creates a new reshaped object\n",
        "x"
      ],
      "metadata": {
        "colab": {
          "base_uri": "https://localhost:8080/"
        },
        "id": "KGuPqf8e7TG8",
        "outputId": "02c2d3b4-5095-4918-b5bf-f295b04bbfb2"
      },
      "execution_count": null,
      "outputs": [
        {
          "output_type": "execute_result",
          "data": {
            "text/plain": [
              "array([1, 2, 3, 4, 5, 6, 7, 8, 9])"
            ]
          },
          "metadata": {},
          "execution_count": 69
        }
      ]
    },
    {
      "cell_type": "code",
      "source": [
        "# Resize reshapes inplace\n",
        "x.resize((3,3))\n",
        "x"
      ],
      "metadata": {
        "colab": {
          "base_uri": "https://localhost:8080/"
        },
        "id": "ucpymRWe7c7-",
        "outputId": "698ffd77-12b5-4f61-b7f2-d7822f7369c7"
      },
      "execution_count": null,
      "outputs": [
        {
          "output_type": "execute_result",
          "data": {
            "text/plain": [
              "array([[1, 2, 3],\n",
              "       [4, 5, 6],\n",
              "       [7, 8, 9]])"
            ]
          },
          "metadata": {},
          "execution_count": 72
        }
      ]
    },
    {
      "cell_type": "code",
      "source": [
        "# Reshapes to the initial dimension\n",
        "x.ravel()"
      ],
      "metadata": {
        "colab": {
          "base_uri": "https://localhost:8080/"
        },
        "id": "JEttEMKO78gE",
        "outputId": "149b61ce-32af-4bd9-b3b8-3bf3c6b6d945"
      },
      "execution_count": null,
      "outputs": [
        {
          "output_type": "execute_result",
          "data": {
            "text/plain": [
              "array([1, 2, 3, 4, 5, 6, 7, 8, 9])"
            ]
          },
          "metadata": {},
          "execution_count": 73
        }
      ]
    },
    {
      "cell_type": "code",
      "source": [
        "x.flatten()"
      ],
      "metadata": {
        "colab": {
          "base_uri": "https://localhost:8080/"
        },
        "id": "oKiOhnhp8wSM",
        "outputId": "50c46e88-2222-4b09-9267-07a8a60f0931"
      },
      "execution_count": null,
      "outputs": [
        {
          "output_type": "execute_result",
          "data": {
            "text/plain": [
              "array([1, 2, 3, 4, 5, 6, 7, 8, 9])"
            ]
          },
          "metadata": {},
          "execution_count": 79
        }
      ]
    },
    {
      "cell_type": "code",
      "source": [
        "# ravel and flaten do not modify the array (not inplace)\n",
        "x"
      ],
      "metadata": {
        "colab": {
          "base_uri": "https://localhost:8080/"
        },
        "id": "Bb4zJVm_8IwN",
        "outputId": "dd95714d-15cd-4ad3-9292-02d98af3f7c5"
      },
      "execution_count": null,
      "outputs": [
        {
          "output_type": "execute_result",
          "data": {
            "text/plain": [
              "array([[1, 2, 3],\n",
              "       [4, 5, 6],\n",
              "       [7, 8, 9]])"
            ]
          },
          "metadata": {},
          "execution_count": 80
        }
      ]
    },
    {
      "cell_type": "markdown",
      "source": [
        "#### Concatenation"
      ],
      "metadata": {
        "id": "5TfcbsQn9c1v"
      }
    },
    {
      "cell_type": "code",
      "source": [
        "M = np.array([[1, 2], [3, 4]])\n",
        "print(M)"
      ],
      "metadata": {
        "colab": {
          "base_uri": "https://localhost:8080/"
        },
        "id": "zOXAX2Fo_eQY",
        "outputId": "db2e4c85-e4c6-4f84-d3b2-6d2a430dc42f"
      },
      "execution_count": null,
      "outputs": [
        {
          "output_type": "stream",
          "name": "stdout",
          "text": [
            "[[1 2]\n",
            " [3 4]]\n"
          ]
        }
      ]
    },
    {
      "cell_type": "code",
      "source": [
        "N = np.array([[5, 6], [7, 8]])\n",
        "print(N)"
      ],
      "metadata": {
        "colab": {
          "base_uri": "https://localhost:8080/"
        },
        "id": "XIQ_AzgF_yWX",
        "outputId": "87fbb29f-9974-423b-a10b-db3e107dfdc1"
      },
      "execution_count": null,
      "outputs": [
        {
          "output_type": "stream",
          "name": "stdout",
          "text": [
            "[[5 6]\n",
            " [7 8]]\n"
          ]
        }
      ]
    },
    {
      "cell_type": "code",
      "source": [
        "# Concatenate M and N vertically\n",
        "print(np.concatenate((M, N)))"
      ],
      "metadata": {
        "colab": {
          "base_uri": "https://localhost:8080/"
        },
        "id": "Iqtfi3Go_32I",
        "outputId": "0e5f7c6d-5176-4cd0-f89e-f8b442cf2b6f"
      },
      "execution_count": null,
      "outputs": [
        {
          "output_type": "stream",
          "name": "stdout",
          "text": [
            "[[1 2]\n",
            " [3 4]\n",
            " [5 6]\n",
            " [7 8]]\n"
          ]
        }
      ]
    },
    {
      "cell_type": "code",
      "source": [
        "# Concatenate M and N horizontally\n",
        "print(np.concatenate((M, N), axis=1))"
      ],
      "metadata": {
        "colab": {
          "base_uri": "https://localhost:8080/"
        },
        "id": "hkRcUnUy__q9",
        "outputId": "66a21935-169a-4e75-9299-4f1ffb21adef"
      },
      "execution_count": null,
      "outputs": [
        {
          "output_type": "execute_result",
          "data": {
            "text/plain": [
              "array([[1, 2, 5, 6],\n",
              "       [3, 4, 7, 8]])"
            ]
          },
          "metadata": {},
          "execution_count": 86
        }
      ]
    },
    {
      "cell_type": "code",
      "source": [
        "# Another way to concatenate vertically\n",
        "print(np.vstack((M,N)))"
      ],
      "metadata": {
        "colab": {
          "base_uri": "https://localhost:8080/"
        },
        "id": "N6vRyzXZAaB-",
        "outputId": "dc913855-077a-4007-fda0-9274600a89fd"
      },
      "execution_count": null,
      "outputs": [
        {
          "output_type": "stream",
          "name": "stdout",
          "text": [
            "[[1 2]\n",
            " [3 4]\n",
            " [5 6]\n",
            " [7 8]]\n"
          ]
        }
      ]
    },
    {
      "cell_type": "code",
      "source": [
        "# Another way to concatenate horizontally\n",
        "print(np.hstack((M,N)))"
      ],
      "metadata": {
        "colab": {
          "base_uri": "https://localhost:8080/"
        },
        "id": "Sv8kIwiqAw8L",
        "outputId": "2f96de88-610a-4922-fa52-2e33d0d94907"
      },
      "execution_count": null,
      "outputs": [
        {
          "output_type": "stream",
          "name": "stdout",
          "text": [
            "[[1 2 5 6]\n",
            " [3 4 7 8]]\n"
          ]
        }
      ]
    },
    {
      "cell_type": "markdown",
      "source": [
        "#### Inexing and slicing"
      ],
      "metadata": {
        "id": "r90mvZVG-gJF"
      }
    },
    {
      "cell_type": "markdown",
      "source": [
        "One dimensional numpy arrays can be sliced exactly as a list (Check TP0 for details)."
      ],
      "metadata": {
        "id": "7x1nmxapB9b_"
      }
    },
    {
      "cell_type": "code",
      "source": [
        "M = np.array([[4,2,-2],[1,0,1],[6,-4,3]])\n",
        "print(M)"
      ],
      "metadata": {
        "colab": {
          "base_uri": "https://localhost:8080/"
        },
        "id": "04qrDriTB1h8",
        "outputId": "261bb8d4-42b6-458d-fc6d-210a35bcd619"
      },
      "execution_count": null,
      "outputs": [
        {
          "output_type": "stream",
          "name": "stdout",
          "text": [
            "[[ 4  2 -2]\n",
            " [ 1  0  1]\n",
            " [ 6 -4  3]]\n"
          ]
        }
      ]
    },
    {
      "cell_type": "code",
      "source": [
        "# Access to a specific items\n",
        "print(M[0,0])\n",
        "print(M[1,2])"
      ],
      "metadata": {
        "colab": {
          "base_uri": "https://localhost:8080/"
        },
        "id": "XCARwRqWCsPt",
        "outputId": "555cea3c-cb1e-441b-d652-ac5bb2226d92"
      },
      "execution_count": null,
      "outputs": [
        {
          "output_type": "stream",
          "name": "stdout",
          "text": [
            "4\n",
            "1\n"
          ]
        }
      ]
    },
    {
      "cell_type": "code",
      "source": [
        "# Another way to access to items\n",
        "print(M[0][0])\n",
        "print(M[1][2])"
      ],
      "metadata": {
        "colab": {
          "base_uri": "https://localhost:8080/"
        },
        "id": "0UvAeHvqC8Fa",
        "outputId": "2feb0bfa-64d1-4397-ad8d-d7e5b983912c"
      },
      "execution_count": null,
      "outputs": [
        {
          "output_type": "stream",
          "name": "stdout",
          "text": [
            "4\n",
            "1\n"
          ]
        }
      ]
    },
    {
      "cell_type": "code",
      "source": [
        "# Access to a specific line\n",
        "print(M[0,:])"
      ],
      "metadata": {
        "colab": {
          "base_uri": "https://localhost:8080/"
        },
        "id": "X2ty1bXpDee1",
        "outputId": "ee00d526-9d64-4f13-a754-1598c9478db9"
      },
      "execution_count": null,
      "outputs": [
        {
          "output_type": "stream",
          "name": "stdout",
          "text": [
            "[ 4  2 -2]\n"
          ]
        }
      ]
    },
    {
      "cell_type": "code",
      "source": [
        "# Access to a specific column\n",
        "print(M[:,0])"
      ],
      "metadata": {
        "colab": {
          "base_uri": "https://localhost:8080/"
        },
        "id": "fvowJ4jJDmCD",
        "outputId": "a0552a62-6dc9-4904-d510-733936ba3937"
      },
      "execution_count": null,
      "outputs": [
        {
          "output_type": "stream",
          "name": "stdout",
          "text": [
            "[4 1 6]\n"
          ]
        }
      ]
    },
    {
      "cell_type": "code",
      "source": [
        "# Access to a specific bloc\n",
        "print(M[1:,1:])"
      ],
      "metadata": {
        "colab": {
          "base_uri": "https://localhost:8080/"
        },
        "id": "41gn_wU8Dya5",
        "outputId": "186e52b2-23fb-4443-863f-c82e6d411db7"
      },
      "execution_count": null,
      "outputs": [
        {
          "output_type": "execute_result",
          "data": {
            "text/plain": [
              "array([[ 0,  1],\n",
              "       [-4,  3]])"
            ]
          },
          "metadata": {},
          "execution_count": 100
        }
      ]
    },
    {
      "cell_type": "code",
      "source": [
        "# Logical mask\n",
        "print(M < 2)"
      ],
      "metadata": {
        "colab": {
          "base_uri": "https://localhost:8080/"
        },
        "id": "xKzIhR0NEOVP",
        "outputId": "ebeccba6-fed9-4b06-93e7-a9edfca1a045"
      },
      "execution_count": null,
      "outputs": [
        {
          "output_type": "stream",
          "name": "stdout",
          "text": [
            "[[False False  True]\n",
            " [ True  True  True]\n",
            " [False  True False]]\n"
          ]
        }
      ]
    },
    {
      "cell_type": "markdown",
      "source": [
        "#### Algebraic operations"
      ],
      "metadata": {
        "id": "_isxOyj--lNc"
      }
    },
    {
      "cell_type": "code",
      "source": [
        "# Vectors definitions\n",
        "x = np.array([1, 3])\n",
        "y = np.array([4, 2])\n",
        "\n",
        "# Matrices definitions\n",
        "M = np.array([[1, -5], [-1, 4]])\n",
        "N = np.array([[2, 1], [-4, 6]])"
      ],
      "metadata": {
        "id": "zFwcpfzRFgVx"
      },
      "execution_count": null,
      "outputs": []
    },
    {
      "cell_type": "code",
      "source": [
        "# Vector addition\n",
        "print(x+y)"
      ],
      "metadata": {
        "colab": {
          "base_uri": "https://localhost:8080/"
        },
        "id": "Pshrgis9EmUT",
        "outputId": "e375b4f0-d271-4bb5-8381-25d391befa3b"
      },
      "execution_count": null,
      "outputs": [
        {
          "output_type": "stream",
          "name": "stdout",
          "text": [
            "[5 5]\n"
          ]
        }
      ]
    },
    {
      "cell_type": "code",
      "source": [
        "# Matrix addition\n",
        "print(M+N)"
      ],
      "metadata": {
        "colab": {
          "base_uri": "https://localhost:8080/"
        },
        "id": "JESYpX83GU_Q",
        "outputId": "2b521205-888d-45e0-fcbf-f63c7f84a0fd"
      },
      "execution_count": null,
      "outputs": [
        {
          "output_type": "stream",
          "name": "stdout",
          "text": [
            "[[ 3 -4]\n",
            " [-5 10]]\n"
          ]
        }
      ]
    },
    {
      "cell_type": "code",
      "source": [
        "# Another way to perform addition (true fro both vectors and matrices)\n",
        "print(np.add(M,N))"
      ],
      "metadata": {
        "colab": {
          "base_uri": "https://localhost:8080/"
        },
        "id": "u602_wfLHDmb",
        "outputId": "d2f14326-9549-4750-b7bc-806a5002bf4a"
      },
      "execution_count": null,
      "outputs": [
        {
          "output_type": "stream",
          "name": "stdout",
          "text": [
            "[[ 3 -4]\n",
            " [-5 10]]\n"
          ]
        }
      ]
    },
    {
      "cell_type": "code",
      "source": [
        "# Subtraction\n",
        "print(M-N)"
      ],
      "metadata": {
        "colab": {
          "base_uri": "https://localhost:8080/"
        },
        "id": "q8rmfN2FEtmT",
        "outputId": "2e73089e-cc1a-48b1-b2ad-6b1c405006d8"
      },
      "execution_count": null,
      "outputs": [
        {
          "output_type": "stream",
          "name": "stdout",
          "text": [
            "[[-1 -6]\n",
            " [ 3 -2]]\n"
          ]
        }
      ]
    },
    {
      "cell_type": "code",
      "source": [
        "# Another way to perform substraction\n",
        "print(np.subtract(M,N))"
      ],
      "metadata": {
        "colab": {
          "base_uri": "https://localhost:8080/"
        },
        "id": "04QFV4Q8Ha7W",
        "outputId": "e261cade-88b8-4d9c-eefe-0f1b86b9a736"
      },
      "execution_count": null,
      "outputs": [
        {
          "output_type": "stream",
          "name": "stdout",
          "text": [
            "[[-1 -6]\n",
            " [ 3 -2]]\n"
          ]
        }
      ]
    },
    {
      "cell_type": "code",
      "source": [
        "# Element wise product\n",
        "print(M*N)"
      ],
      "metadata": {
        "colab": {
          "base_uri": "https://localhost:8080/"
        },
        "id": "2lro12mHEvUT",
        "outputId": "d762fdb9-7eb6-4397-ce1e-ba81c9046248"
      },
      "execution_count": null,
      "outputs": [
        {
          "output_type": "stream",
          "name": "stdout",
          "text": [
            "[[ 2 -5]\n",
            " [ 4 24]]\n"
          ]
        }
      ]
    },
    {
      "cell_type": "code",
      "source": [
        "# Power (element wise power)\n",
        "print(M**2)"
      ],
      "metadata": {
        "colab": {
          "base_uri": "https://localhost:8080/"
        },
        "id": "MYJLKjc1E1in",
        "outputId": "07bafab3-b26d-4a15-cbc6-0f79b865fd6e"
      },
      "execution_count": null,
      "outputs": [
        {
          "output_type": "stream",
          "name": "stdout",
          "text": [
            "[[ 1 25]\n",
            " [ 1 16]]\n"
          ]
        }
      ]
    },
    {
      "cell_type": "code",
      "source": [
        "# Dot product\n",
        "x.dot(y)"
      ],
      "metadata": {
        "colab": {
          "base_uri": "https://localhost:8080/"
        },
        "id": "-pRlGBmZFDCF",
        "outputId": "25ab0b4c-003d-4277-a50a-a4c52fe8420b"
      },
      "execution_count": null,
      "outputs": [
        {
          "output_type": "execute_result",
          "data": {
            "text/plain": [
              "10"
            ]
          },
          "metadata": {},
          "execution_count": 131
        }
      ]
    },
    {
      "cell_type": "code",
      "source": [
        "# Matrix product\n",
        "print(M @ N)"
      ],
      "metadata": {
        "colab": {
          "base_uri": "https://localhost:8080/"
        },
        "id": "0BiGHnpowSCv",
        "outputId": "2731ba2b-e7cf-4646-89f4-466d0f9d6f5e"
      },
      "execution_count": null,
      "outputs": [
        {
          "output_type": "stream",
          "name": "stdout",
          "text": [
            "[[ 22 -29]\n",
            " [-18  23]]\n"
          ]
        }
      ]
    },
    {
      "cell_type": "code",
      "source": [
        "# Another way to perform matrix product\n",
        "print(M.dot(N))"
      ],
      "metadata": {
        "colab": {
          "base_uri": "https://localhost:8080/"
        },
        "id": "wEZ7iz9VKmQN",
        "outputId": "088a40b5-5be6-4b02-f6ae-43edd1affb8e"
      },
      "execution_count": null,
      "outputs": [
        {
          "output_type": "stream",
          "name": "stdout",
          "text": [
            "[[ 22 -29]\n",
            " [-18  23]]\n"
          ]
        }
      ]
    },
    {
      "cell_type": "code",
      "source": [
        "# Matrix vector product\n",
        "print(M @ x)"
      ],
      "metadata": {
        "colab": {
          "base_uri": "https://localhost:8080/"
        },
        "id": "Nlxa1U2eySVu",
        "outputId": "0d98ae07-4f6e-4807-c288-dd6b562fce7c"
      },
      "execution_count": null,
      "outputs": [
        {
          "output_type": "stream",
          "name": "stdout",
          "text": [
            "[-14  11]\n"
          ]
        }
      ]
    },
    {
      "cell_type": "code",
      "source": [
        "# Another way to perform matrix vector product\n",
        "print(M.dot(x))"
      ],
      "metadata": {
        "colab": {
          "base_uri": "https://localhost:8080/"
        },
        "id": "DTVgt-wlLxFm",
        "outputId": "de358dba-1809-4f8b-ad50-9ecd84a2ab65"
      },
      "execution_count": null,
      "outputs": [
        {
          "output_type": "stream",
          "name": "stdout",
          "text": [
            "[-14  11]\n"
          ]
        }
      ]
    },
    {
      "cell_type": "markdown",
      "source": [
        "## Exercices"
      ],
      "metadata": {
        "id": "kf6MZqdAAOt8"
      }
    },
    {
      "cell_type": "markdown",
      "source": [
        "### Exercice 1"
      ],
      "metadata": {
        "id": "crhPJJ4RAVux"
      }
    },
    {
      "cell_type": "markdown",
      "source": [
        "1. Create a matrix A and B of shape (5, 10), and a vector C of size 10, using the randn function from numpy."
      ],
      "metadata": {
        "id": "RJRc-f6_t02z"
      }
    },
    {
      "cell_type": "code",
      "source": [
        "# Answer"
      ],
      "metadata": {
        "id": "t4bgLSbCvype"
      },
      "execution_count": null,
      "outputs": []
    },
    {
      "cell_type": "markdown",
      "source": [
        "2. Compute the sum D and the subtraction F of matrices A and B. What is the shape of the obtained matrices?"
      ],
      "metadata": {
        "id": "JDnX2VCav1hh"
      }
    },
    {
      "cell_type": "code",
      "source": [
        "# Answer"
      ],
      "metadata": {
        "id": "TfofEZh2w4dv"
      },
      "execution_count": null,
      "outputs": []
    },
    {
      "cell_type": "markdown",
      "source": [
        "3. Compute the product of λ=10 and the vector C. What is the dimension of λC?"
      ],
      "metadata": {
        "id": "baRq4x9q-Nvm"
      }
    },
    {
      "cell_type": "code",
      "source": [
        "# Answer"
      ],
      "metadata": {
        "id": "bVuCjZHcv0PT"
      },
      "execution_count": null,
      "outputs": []
    },
    {
      "cell_type": "markdown",
      "source": [
        "4. Calculate the sum and the element-wise multiplication between C and F. What is the dimension of the outputs?"
      ],
      "metadata": {
        "id": "gX_WL2WDADse"
      }
    },
    {
      "cell_type": "code",
      "source": [
        "# Answer"
      ],
      "metadata": {
        "id": "5I8mF-p0v0Ri"
      },
      "execution_count": null,
      "outputs": []
    },
    {
      "cell_type": "markdown",
      "source": [
        "5. Calculate G, the dot product between C and F, and give the dimension of G. What is the difference between dot product and multiplication of vectors?"
      ],
      "metadata": {
        "id": "W0iMrdd7ALqz"
      }
    },
    {
      "cell_type": "code",
      "source": [
        "# Answer"
      ],
      "metadata": {
        "id": "itxLEQQTAoFz"
      },
      "execution_count": null,
      "outputs": []
    },
    {
      "cell_type": "markdown",
      "source": [
        "6. Calculate the sum and multiplication between F and B. Give the dimension of each result."
      ],
      "metadata": {
        "id": "yGcsZXcuAu2L"
      }
    },
    {
      "cell_type": "code",
      "source": [
        "# Answer"
      ],
      "metadata": {
        "id": "CR9uXJ2yAy5w"
      },
      "execution_count": null,
      "outputs": []
    },
    {
      "cell_type": "markdown",
      "source": [
        "7. Calculate the dot product between B and F (in this order). Give the dimension of the result."
      ],
      "metadata": {
        "id": "BqmBgn2wB1AW"
      }
    },
    {
      "cell_type": "code",
      "source": [
        "# Answer"
      ],
      "metadata": {
        "id": "4Y-yhK2aCn3P"
      },
      "execution_count": null,
      "outputs": []
    },
    {
      "cell_type": "markdown",
      "source": [
        "8. Calculate the dot product between F and B (in this order). If it works, give the dimension of the result; else propose a solution, and give the dimension of the result."
      ],
      "metadata": {
        "id": "ErKhZlZYCWe3"
      }
    },
    {
      "cell_type": "code",
      "source": [
        "# Answer"
      ],
      "metadata": {
        "id": "8hLGkNmkCzOc"
      },
      "execution_count": null,
      "outputs": []
    },
    {
      "cell_type": "markdown",
      "source": [
        "9. Calculate I the dot product between A and B. Give the dimension of I."
      ],
      "metadata": {
        "id": "jpbNwvLVCqyN"
      }
    },
    {
      "cell_type": "code",
      "source": [
        "# Answer"
      ],
      "metadata": {
        "id": "yXS0eayGCyY3"
      },
      "execution_count": null,
      "outputs": []
    },
    {
      "cell_type": "markdown",
      "source": [
        "10. Give the detiminant of I."
      ],
      "metadata": {
        "id": "Mohli4PqC6YD"
      }
    },
    {
      "cell_type": "code",
      "source": [
        "# Answer"
      ],
      "metadata": {
        "id": "KLaF1xBeDCuW"
      },
      "execution_count": null,
      "outputs": []
    },
    {
      "cell_type": "markdown",
      "source": [
        "11. Give J the Inverse of I, if I is inversible."
      ],
      "metadata": {
        "id": "pC1PV_0CDEvJ"
      }
    },
    {
      "cell_type": "code",
      "source": [
        "# Answer"
      ],
      "metadata": {
        "id": "ofs-f4ARDel3"
      },
      "execution_count": null,
      "outputs": []
    },
    {
      "cell_type": "markdown",
      "source": [
        "12. Decompose the matrix I using eigendecomposition method."
      ],
      "metadata": {
        "id": "rnZfU2i_DQOV"
      }
    },
    {
      "cell_type": "code",
      "source": [
        "# Answer"
      ],
      "metadata": {
        "id": "e1mDaZU7DW6O"
      },
      "execution_count": null,
      "outputs": []
    },
    {
      "cell_type": "markdown",
      "source": [
        "13. Decompose the matrix I using svd method"
      ],
      "metadata": {
        "id": "M_gCm_J6DYNJ"
      }
    },
    {
      "cell_type": "code",
      "source": [
        "# Answer"
      ],
      "metadata": {
        "id": "p2EcgbkuDcwT"
      },
      "execution_count": null,
      "outputs": []
    },
    {
      "cell_type": "markdown",
      "source": [
        "### Exercice 2: Power iteration method"
      ],
      "metadata": {
        "id": "iNdK43PzAf6g"
      }
    },
    {
      "cell_type": "markdown",
      "source": [
        "The objective of this excercice is to compute the eigenvector of a matrix associated to its largest eigenvector using the power iteration method: Given a squared matrix $A$ of shape $n\\times n$ and a vector $x_0\\in\\mathbb{R}^n$, then the sequence of vectors $(x_k)_{k\\in\\mathbb{N}}$ defined as:\n",
        "$$\n",
        "x_{k+1}=\\frac{Ax_k}{\\Vert A x_k\\Vert},\n",
        "$$\n",
        "converges to the largest eigenvector in absolute value (we admit this result).\n",
        "  "
      ],
      "metadata": {
        "id": "-lew3ccDDUuG"
      }
    },
    {
      "cell_type": "markdown",
      "source": [
        "1. Define a function ```power_iteration(A, x0, k)``` that returns $x_k$.\n",
        "\n"
      ],
      "metadata": {
        "id": "1B2gdfwxGgX8"
      }
    },
    {
      "cell_type": "code",
      "source": [
        "# Answer\n"
      ],
      "metadata": {
        "id": "f01iWtOoHzzR"
      },
      "execution_count": null,
      "outputs": []
    },
    {
      "cell_type": "markdown",
      "source": [
        "2. Using the function ```power_iteration```, compute the largest eigenvector of the matrix\n",
        "$$\n",
        "A = \\begin{bmatrix} 0.5 & 0.5\\\\ 0.2 & 0.8 \\end{bmatrix}\n",
        "$$"
      ],
      "metadata": {
        "id": "ayJnFSiQH5WB"
      }
    },
    {
      "cell_type": "code",
      "source": [
        "# Answer\n"
      ],
      "metadata": {
        "id": "-IoDqHikH5u_"
      },
      "execution_count": null,
      "outputs": []
    },
    {
      "cell_type": "markdown",
      "source": [
        "3. Compute the eigen value associated to this vector.\n",
        "***Indication:*** If $v$ is a normalized eigenvector of $A$, then its associated eigenvalue is given by $λ=Av⋅v$"
      ],
      "metadata": {
        "id": "9uVj_i8jJjyy"
      }
    },
    {
      "cell_type": "code",
      "source": [
        "# Answer\n"
      ],
      "metadata": {
        "id": "RCxqvVXfKmph"
      },
      "execution_count": null,
      "outputs": []
    },
    {
      "cell_type": "markdown",
      "source": [
        "4. Adapt the function ```power_iteration``` such that it allows to compute the largest eigenvalue with its associated eigenvector of a matrix given precision value."
      ],
      "metadata": {
        "id": "zP9Mwnk1KpAA"
      }
    },
    {
      "cell_type": "code",
      "source": [
        "# Answer\n"
      ],
      "metadata": {
        "id": "uYJ3RN5vLXVM"
      },
      "execution_count": null,
      "outputs": []
    },
    {
      "cell_type": "markdown",
      "source": [
        "5. Compare the execution times of the previous script and the numpy function for matrices of shape $n\\times n$ with $n\\in \\{10, 100, 1000\\}$   "
      ],
      "metadata": {
        "id": "DpjUjhXiL7TF"
      }
    },
    {
      "cell_type": "code",
      "source": [
        "# Answer\n"
      ],
      "metadata": {
        "id": "DS2OQEIGNNn3"
      },
      "execution_count": null,
      "outputs": []
    },
    {
      "cell_type": "markdown",
      "source": [
        "### Exercice 3"
      ],
      "metadata": {
        "id": "HoYFg77DFX3H"
      }
    },
    {
      "cell_type": "markdown",
      "source": [
        "Let $A$ be a matrix and $b$ a vector defined by:\n",
        "\n",
        "```\n",
        "M = np.random.randn(3, 3)\n",
        "A = M + M.T\n",
        "b = np.random.rand(3)\n",
        "```\n",
        "\n"
      ],
      "metadata": {
        "id": "P_VPQwnvLepr"
      }
    },
    {
      "cell_type": "markdown",
      "source": [
        "Solve the linear system $Ax=b$ with two different methods"
      ],
      "metadata": {
        "id": "yyxqssAtNQoB"
      }
    },
    {
      "cell_type": "markdown",
      "source": [
        "### Exercise 4"
      ],
      "metadata": {
        "id": "-fem3kzNoVd7"
      }
    },
    {
      "cell_type": "markdown",
      "source": [
        "\n",
        "Write a Python program that performs the following tasks:\n",
        "\n",
        "1. Generate a random vector in 3D space.<br>\n",
        "2. Choose a target subspace by specifying a basis (orthonormal vectors) for the subspace.<br>\n",
        "3. Project the random vector onto the target subspace to find its orthogonal projection.<br>\n",
        "4. Calculate the residual vector as the difference between the original vector and its projection.<br>\n",
        "5. Verify that the projection and residual vectors are orthogonal."
      ],
      "metadata": {
        "id": "UDfzPsEpoYU8"
      }
    },
    {
      "cell_type": "markdown",
      "source": [
        "### Exercice 4: Orthogonal Projections\n",
        "\n"
      ],
      "metadata": {
        "id": "EN5ZC5mbDip_"
      }
    },
    {
      "cell_type": "markdown",
      "source": [
        "The objectif of the exercice is to compute the orthogonal projection of a vector into a given subspace. We let be $x\\in \\mathbb{R}^{n}$, $E\\subset\\mathbb{R}^{n}$ a subspace of dimension $p$, and $B=\\{e_1, ⋯,e_{p} \\}$ an orthonormal basis of $E$. Then, the orthogonal projection of the vector $x$ on $E$ is given by\n",
        "$$\n",
        "p_E(x) = \\sum_{i=1}^{p} <x,e_i>e_i\n",
        "$$\n",
        "\n",
        "In a more general case, given the matrix $A$ the projection matrix is given by\n",
        "$$\n",
        "P = A(A^tA)^{-1}A^t\n",
        "$$\n",
        "The projection matrix verifies the following properties:\n",
        "\n",
        "\n",
        "1.   $P$ is a squared matrix.\n",
        "2.   Symmetry $P^t=P$.\n",
        "3.   $P$ is idempotent: $P^2= P$.\n"
      ],
      "metadata": {
        "id": "edV19BbREB9k"
      }
    },
    {
      "cell_type": "markdown",
      "source": [
        "1. Define a function ```is_orthonormal(A)``` that takes as parameters the matrix $A$ of wich the columns corresponds to the basis vectors of the target subspace and returns  ```True``` if the basis is orthonormal ```False``` otherwise."
      ],
      "metadata": {
        "id": "X_IpdN_HFzTk"
      }
    },
    {
      "cell_type": "code",
      "source": [
        "# Answer\n"
      ],
      "metadata": {
        "id": "4SL_lzx0EAwU"
      },
      "execution_count": null,
      "outputs": []
    },
    {
      "cell_type": "markdown",
      "source": [
        "2. Define a function ```project(B,x)``` that takes as parameters a vector $x\\in \\mathbb{R}^{n}$ and ```B``` a list of vectors of the basis $B$."
      ],
      "metadata": {
        "id": "d7SIzOqAOxI4"
      }
    },
    {
      "cell_type": "code",
      "source": [
        "# Answer\n"
      ],
      "metadata": {
        "id": "oexGLRCWOwZg"
      },
      "execution_count": null,
      "outputs": []
    },
    {
      "cell_type": "markdown",
      "source": [
        "3. Let $E$ the subspace spanned by the basis $B = \\left\\{\\left(\\frac{1}{\\sqrt{2}},\\frac{1}{\\sqrt{2}},0\\right)^t,\\left(\\frac{1}{\\sqrt{3}},-\\frac{1}{\\sqrt{3}},\\frac{1}{\\sqrt{3}}\\right)^t\\right\\}$. Verify that the basis is orthonormal."
      ],
      "metadata": {
        "id": "aIpGMy19dhr1"
      }
    },
    {
      "cell_type": "code",
      "source": [
        "# Answer\n"
      ],
      "metadata": {
        "id": "YWt_DVm9jVRg"
      },
      "execution_count": null,
      "outputs": []
    },
    {
      "cell_type": "markdown",
      "source": [
        "4. Generate a three dimensional vector (i.e., n=3). And compute its projection on $E$.  "
      ],
      "metadata": {
        "id": "_Ffqv8ElLWj5"
      }
    },
    {
      "cell_type": "code",
      "source": [
        "# Answer\n"
      ],
      "metadata": {
        "id": "Lc4dsGabLU_F"
      },
      "execution_count": null,
      "outputs": []
    },
    {
      "cell_type": "markdown",
      "source": [
        "5. Let be $E$ the subspace spanned by $B=\\left\\{ (0,1,1)^t,(1,-1,1)^t \\right\\}$, and $x=(1,2,-1)^t$. Compute the projection matrix $P$ and verify numerically that it satisfies the three properties listed above."
      ],
      "metadata": {
        "id": "RMYn1ioXus-8"
      }
    },
    {
      "cell_type": "code",
      "source": [
        "# Answer\n"
      ],
      "metadata": {
        "id": "qFxb7t2Vw1VU"
      },
      "execution_count": null,
      "outputs": []
    },
    {
      "cell_type": "markdown",
      "source": [
        "6. Compute the projection of $x$ on $E$."
      ],
      "metadata": {
        "id": "xA4nWozuw3bh"
      }
    },
    {
      "cell_type": "code",
      "source": [
        "# Answer\n"
      ],
      "metadata": {
        "id": "KwDzVcK6w7NZ"
      },
      "execution_count": null,
      "outputs": []
    },
    {
      "cell_type": "markdown",
      "source": [
        "### Exercise 5: Diagonalization of symmetric Matrices"
      ],
      "metadata": {
        "id": "BgSLcUwjo4Dm"
      }
    },
    {
      "cell_type": "markdown",
      "source": [
        "\n",
        "The objective of this exercice is to omplement a Python program that demonstrates the diagonalization of a symmetric matrix:\n",
        "\n",
        "1. Generate a random symmetric matrix of a specified size.<br>\n",
        "\n"
      ],
      "metadata": {
        "id": "kWK8QCjCo6Cd"
      }
    },
    {
      "cell_type": "code",
      "source": [
        "# Answer\n"
      ],
      "metadata": {
        "id": "LTxzINxPyKhs"
      },
      "execution_count": null,
      "outputs": []
    },
    {
      "cell_type": "markdown",
      "source": [
        "2. Compute the eigenvalues and eigenvectors of the symmetric matrix."
      ],
      "metadata": {
        "id": "1H6kqz-7xouk"
      }
    },
    {
      "cell_type": "code",
      "source": [
        "# Answer\n"
      ],
      "metadata": {
        "id": "d6VWRH8hxi_O"
      },
      "execution_count": null,
      "outputs": []
    },
    {
      "cell_type": "markdown",
      "source": [
        "3. Verify that the eigenvectors are orthogonal."
      ],
      "metadata": {
        "id": "_c8HmJBQxqtY"
      }
    },
    {
      "cell_type": "code",
      "source": [
        "# Answer\n"
      ],
      "metadata": {
        "id": "3UJ-ubNXxqtZ"
      },
      "execution_count": null,
      "outputs": []
    },
    {
      "cell_type": "markdown",
      "source": [
        "4. Construct a diagonal matrix using the eigenvalues."
      ],
      "metadata": {
        "id": "I-KOh5XMxrE6"
      }
    },
    {
      "cell_type": "code",
      "source": [
        "# Answer\n"
      ],
      "metadata": {
        "id": "O4cclSYvxrE7"
      },
      "execution_count": null,
      "outputs": []
    },
    {
      "cell_type": "markdown",
      "source": [
        "5. Reconstruct the original matrix using eigenvectors and the diagonal matrix."
      ],
      "metadata": {
        "id": "G3MLM3ObxrbI"
      }
    },
    {
      "cell_type": "code",
      "source": [
        "# Answer\n"
      ],
      "metadata": {
        "id": "mOsO6j13xrbJ"
      },
      "execution_count": null,
      "outputs": []
    },
    {
      "cell_type": "markdown",
      "source": [
        "### Exercise 6:\n",
        "1. Define a class Squared_matrix that inherits from the class ```np.matrix``` with the attribute values which corresponds to the squared matrix, and a constructor that instanciates the classe (it should return an error message if the matrix is not squared) and an ```__str()__``` that prints the matrix."
      ],
      "metadata": {
        "id": "FGholwq5EVxT"
      }
    },
    {
      "cell_type": "code",
      "source": [
        "# Answer\n"
      ],
      "metadata": {
        "id": "IECoSajHH42Z"
      },
      "execution_count": null,
      "outputs": []
    },
    {
      "cell_type": "markdown",
      "source": [
        "2. Define a method:\n",
        "* ```rank()``` that returns the rank of the matrix.  \n",
        "* ```is_invertible```that returns a boolean (```True``` if the matrix is invertible ```False``` otherwise).\n",
        "* ```inverse()``` that returns the inverse of the matrix when possible.\n",
        "* ```eigenvalues()``` and ```eigenvectors``` that return the eigenvalues and eigenvectors of the matrix."
      ],
      "metadata": {
        "id": "Tg1kRTErH51N"
      }
    },
    {
      "cell_type": "code",
      "source": [
        "# Answer\n"
      ],
      "metadata": {
        "id": "H7qaDWPhH_MP"
      },
      "execution_count": null,
      "outputs": []
    },
    {
      "cell_type": "markdown",
      "source": [
        "3. Given a squared matrix $A$, we recall the definition of some norms:\n",
        "\n",
        "$$\n",
        "\\begin{align*}\n",
        "&||A||_F \\, = \\sqrt{\\sum_{i=1}^n\\sum_{j=1}^n a^2_{i,j}} = \\sqrt{tr(A^tA)},  \\\\\n",
        "&||A||_1 \\,\\, = \\max_{1\\leq j\\leq n} \\sum_{i=1}^{n}|a_{i,j}|, \\\\\n",
        "&||A||_2 \\,\\, = \\sqrt{\\rho(A^tA)}, \\\\\n",
        "&||A||_\\infty = \\max_{1\\leq i\\leq n} \\sum_{j=1}^{n}|a_{i,j}|,\n",
        "\\end{align*}\n",
        "$$\n",
        "where $\\rho(\\cdot)$ design the spectral radius, i.e., the largest (in absolute value) eigenvalue of a matrix. Define the method ```norm_f(ind)``` that returns the norm given the indice ```ind``` (the indice is a string with possible values: ```\"F\"```,```\"1\"```,```\"2\"```, and ```\"inf\"```).\n"
      ],
      "metadata": {
        "id": "wMLsrKMUH_5Y"
      }
    },
    {
      "cell_type": "code",
      "source": [
        "# Answer\n"
      ],
      "metadata": {
        "id": "P2HBHg42IGHU"
      },
      "execution_count": null,
      "outputs": []
    }
  ]
}