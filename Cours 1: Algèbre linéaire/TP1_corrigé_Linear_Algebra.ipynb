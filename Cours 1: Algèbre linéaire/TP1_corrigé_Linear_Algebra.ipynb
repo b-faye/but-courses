{
  "nbformat": 4,
  "nbformat_minor": 0,
  "metadata": {
    "colab": {
      "provenance": []
    },
    "kernelspec": {
      "name": "python3",
      "display_name": "Python 3"
    },
    "language_info": {
      "name": "python"
    }
  },
  "cells": [
    {
      "cell_type": "markdown",
      "source": [
        "## Recalls"
      ],
      "metadata": {
        "id": "qIWTWMvL-lMG"
      }
    },
    {
      "cell_type": "code",
      "source": [
        "# Example\n",
        "import numpy as np\n",
        "\n",
        "# 1. Vector Addition\n",
        "def vector_addition(u, v):\n",
        "    return np.add(u, v)\n",
        "\n",
        "# 2. Vector Subtraction\n",
        "def vector_subtraction(u, v):\n",
        "    return np.subtract(u, v)\n",
        "\n",
        "# 3. Scalar-Vector Multiplication\n",
        "def scalar_vector_multiplication(scalar, v):\n",
        "    return scalar * v\n",
        "\n",
        "# 4. Matrix Addition\n",
        "def matrix_addition(A, B):\n",
        "    return np.add(A, B)\n",
        "\n",
        "# 5. Matrix Subtraction\n",
        "def matrix_subtraction(A, B):\n",
        "    return np.subtract(A, B)\n",
        "\n",
        "# 6. Scalar-Matrix Multiplication\n",
        "def scalar_matrix_multiplication(scalar, A):\n",
        "    return scalar * A\n",
        "\n",
        "# 7. Transpose of a Matrix\n",
        "def matrix_transpose(A):\n",
        "    return A.T\n",
        "\n",
        "# 8. Inverse of a Matrix\n",
        "def matrix_inverse(A):\n",
        "    return np.linalg.inv(A)\n",
        "\n",
        "# 9. Determinant of a Matrix\n",
        "def matrix_determinant(A):\n",
        "    return np.linalg.det(A)\n",
        "\n",
        "# 10. Eigenvalues and Eigenvectors of a Matrix\n",
        "def matrix_eigen(A):\n",
        "    eigenvalues, eigenvectors = np.linalg.eig(A)\n",
        "    return eigenvalues, eigenvectors\n",
        "\n",
        "# 11. Singular Value Decomposition (SVD) of a Matrix\n",
        "def matrix_svd(A):\n",
        "    U, S, V = np.linalg.svd(A)\n",
        "    return U, S, V"
      ],
      "metadata": {
        "id": "56GxCvcgrHfr"
      },
      "execution_count": null,
      "outputs": []
    },
    {
      "cell_type": "markdown",
      "source": [
        "## Exercices"
      ],
      "metadata": {
        "id": "kf6MZqdAAOt8"
      }
    },
    {
      "cell_type": "markdown",
      "source": [
        "### Exercice 1"
      ],
      "metadata": {
        "id": "crhPJJ4RAVux"
      }
    },
    {
      "cell_type": "markdown",
      "source": [
        "1. Create a matrix A and B of shape (5, 10), and a vector C of size 10, using the randn function from numpy."
      ],
      "metadata": {
        "id": "RJRc-f6_t02z"
      }
    },
    {
      "cell_type": "code",
      "source": [
        "# Answer\n",
        "\n",
        "import numpy as np\n",
        "\n",
        "# Create matrices A and B of shape (5, 10)\n",
        "A = np.random.randn(5, 10)\n",
        "B = np.random.randn(5, 10)\n",
        "\n",
        "# Create vector C of size 10\n",
        "C = np.random.randn(10)\n",
        "\n",
        "print(\"Matrix A:\\n\", A)\n",
        "print(\"Matrix B:\\n\", B)\n",
        "print(\"Vector C:\", C)\n"
      ],
      "metadata": {
        "id": "t4bgLSbCvype",
        "colab": {
          "base_uri": "https://localhost:8080/"
        },
        "outputId": "b8754400-db90-4887-936b-76a3cd72441a"
      },
      "execution_count": null,
      "outputs": [
        {
          "output_type": "stream",
          "name": "stdout",
          "text": [
            "Matrix A:\n",
            " [[-0.97931816  1.38408374 -0.73094252  1.81848052  0.2723705  -0.45764919\n",
            "  -0.41975886  0.70171881 -2.19635224  0.21950326]\n",
            " [-1.03906796 -1.96458324  1.66075914  2.27807165 -0.12055697  0.05806847\n",
            "  -0.0973109  -1.74527142  0.84747031 -0.70616018]\n",
            " [ 0.13761128 -0.03925287  1.15317384  1.3455955   0.88871361  0.89729394\n",
            "  -0.83084767 -0.66935878  0.3462176   0.23708032]\n",
            " [-0.10528538 -0.89337024 -0.03351199  0.76365533  0.29566356  1.81058212\n",
            "  -3.52109374 -0.36915193  0.01401453  0.81794631]\n",
            " [-0.77997538 -1.76092476  0.1907374   0.66018262 -0.15973954 -0.77253732\n",
            "  -1.21312398  1.7608131   0.48587168 -1.14162914]]\n",
            "Matrix B:\n",
            " [[ 2.23754117  2.32576795  0.29736192  0.8279971  -0.39878716 -2.518464\n",
            "  -0.44526622 -0.41165332 -0.42376914 -0.46512503]\n",
            " [-0.09883235  0.53345724 -1.56231242 -0.29921767  0.64478951  0.38798157\n",
            "  -1.06806261  0.58589488  0.44595515 -0.79632446]\n",
            " [ 0.29422109  0.79319538  1.26887494 -0.71575749 -1.62229451  0.97704681\n",
            "  -0.30258888  2.07768221 -2.22053724 -1.2178355 ]\n",
            " [-0.85516042 -0.16638094 -0.68794089  0.88195095  1.47704963  0.05325935\n",
            "  -0.10513712 -0.51196414  1.53721823  0.84489766]\n",
            " [-0.03598636 -0.75859033  0.27934918  1.03460068 -0.18299322 -0.43318331\n",
            "   1.98494167  0.31483962  1.00874589 -1.31705856]]\n",
            "Vector C: [-1.06664826 -0.79847058  0.00547281 -0.45970258 -0.05592705  0.90135938\n",
            " -1.76838394 -2.37349352  1.80744153  0.05746356]\n"
          ]
        }
      ]
    },
    {
      "cell_type": "markdown",
      "source": [
        "2. Compute the sum D and the subtraction F of matrices A and B. What is the shape of the obtained matrices?"
      ],
      "metadata": {
        "id": "JDnX2VCav1hh"
      }
    },
    {
      "cell_type": "code",
      "source": [
        "# Answer\n",
        "\n",
        "import numpy as np\n",
        "\n",
        "# Create matrices A and B of shape (5, 10)\n",
        "A = np.random.randn(5, 10)\n",
        "B = np.random.randn(5, 10)\n",
        "\n",
        "# Compute the sum D and subtraction F of matrices A and B\n",
        "D = A + B\n",
        "F = A - B\n",
        "\n",
        "print(\"Matrix D (sum of A and B):\\n\", D)\n",
        "print(\"Matrix F (subtraction of A and B):\\n\", F)\n",
        "\n",
        "# Check the shape of the resulting matrices\n",
        "print(\"Shape of matrix D:\", D.shape)\n",
        "print(\"Shape of matrix F:\", F.shape)\n"
      ],
      "metadata": {
        "id": "TfofEZh2w4dv",
        "colab": {
          "base_uri": "https://localhost:8080/"
        },
        "outputId": "e737c339-a9b2-4bf4-861c-5f38bd3e4707"
      },
      "execution_count": null,
      "outputs": [
        {
          "output_type": "stream",
          "name": "stdout",
          "text": [
            "Matrix D (sum of A and B):\n",
            " [[-1.4373367   1.91214007  2.11666248  0.64344323 -1.22881495  1.78589727\n",
            "   0.11281036  0.15583088  3.09363872  1.30171549]\n",
            " [-0.02110631 -3.02835079  2.59005733 -0.36067299 -0.7339521   0.01074168\n",
            "  -0.7157455   3.34397395 -0.22207895 -1.06719256]\n",
            " [ 2.19239648  1.41188431  0.09647551  1.06861115 -0.95616291  1.79729798\n",
            "  -0.21721297  1.21776033 -0.5501386  -3.36643108]\n",
            " [-3.44520053 -1.2098911  -1.65855089 -1.10902036  0.82258029  0.10633763\n",
            "   0.99200044 -0.11899688 -0.40377727 -1.68614881]\n",
            " [ 1.04683429  0.1104878  -0.90999226 -1.78117545  0.99903099 -2.07018891\n",
            "  -1.26904251  0.0076498  -2.13409072 -2.2300982 ]]\n",
            "Matrix F (subtraction of A and B):\n",
            " [[-0.94267445 -1.78410521  2.47216122 -0.37239378  0.1825953   0.07400753\n",
            "  -0.88650867  0.20192262 -0.69375173  3.82620043]\n",
            " [-2.62461062  1.42581605  1.55096043 -0.40621104  0.82792012  1.06056815\n",
            "  -1.86194401  2.05343108 -1.99554801 -0.94244188]\n",
            " [ 2.3538722  -0.46207839 -0.01483693  1.14016384 -1.69365765  0.19169772\n",
            "  -1.37796873 -0.58007681 -0.9029213  -0.06461477]\n",
            " [-1.7600514   0.45962722  0.90428437  0.12979599  0.86296931 -0.3056985\n",
            "   2.3814299  -0.90771052  0.05998989 -0.57780977]\n",
            " [ 1.59212854 -1.39294385  2.6315561  -0.8816484  -1.36436214 -0.54582349\n",
            "  -1.07862364  0.77155309  0.8394193   0.49942766]]\n",
            "Shape of matrix D: (5, 10)\n",
            "Shape of matrix F: (5, 10)\n"
          ]
        }
      ]
    },
    {
      "cell_type": "markdown",
      "source": [
        "3. Compute the product of λ=10 and the vector C. What is the dimension of λC?"
      ],
      "metadata": {
        "id": "baRq4x9q-Nvm"
      }
    },
    {
      "cell_type": "code",
      "source": [
        "# Answer\n",
        "\n",
        "# Scalar λ\n",
        "lam = 10\n",
        "\n",
        "# Compute the product of λ and vector C\n",
        "lamC = lam * C\n",
        "print(\"λC (product of λ and vector C):\\n\", lamC)\n",
        "\n",
        "# The dimension of λC\n",
        "print(\"Dimension of λC:\", lamC.shape)"
      ],
      "metadata": {
        "id": "bVuCjZHcv0PT",
        "colab": {
          "base_uri": "https://localhost:8080/"
        },
        "outputId": "376e3088-6e67-45bb-dc42-4d3383803cc6"
      },
      "execution_count": null,
      "outputs": [
        {
          "output_type": "stream",
          "name": "stdout",
          "text": [
            "λC (product of λ and vector C):\n",
            " [-10.66648257  -7.98470578   0.0547281   -4.59702585  -0.55927047\n",
            "   9.01359375 -17.68383942 -23.73493517  18.07441526   0.57463556]\n",
            "Dimension of λC: (10,)\n"
          ]
        }
      ]
    },
    {
      "cell_type": "markdown",
      "source": [
        "4. Calculate the sum and the element-wise multiplication between C and F. What is the dimension of the outputs?"
      ],
      "metadata": {
        "id": "gX_WL2WDADse"
      }
    },
    {
      "cell_type": "code",
      "source": [
        "# Answer\n",
        "\n",
        "# Calculate the sum of C and F\n",
        "sum_result = C + F\n",
        "\n",
        "# Calculate the element-wise multiplication between C and F\n",
        "multiply_result = C * F\n",
        "\n",
        "print(\"Vector C:\\n\", C)\n",
        "print(\"Matrix F:\\n\", F)\n",
        "print(\"Sum of C and F:\\n\", sum_result)\n",
        "print(\"Element-wise multiplication between C and F:\\n\", multiply_result)\n",
        "\n",
        "# Check the dimension of the outputs\n",
        "dimension_sum_result = sum_result.shape\n",
        "dimension_multiply_result = multiply_result.shape\n",
        "print(\"Dimension of sum_result:\", dimension_sum_result)\n",
        "print(\"Dimension of multiply_result:\", dimension_multiply_result)\n"
      ],
      "metadata": {
        "id": "5I8mF-p0v0Ri",
        "colab": {
          "base_uri": "https://localhost:8080/"
        },
        "outputId": "116ef68c-d2a2-457b-a023-85d67efa648b"
      },
      "execution_count": null,
      "outputs": [
        {
          "output_type": "stream",
          "name": "stdout",
          "text": [
            "Vector C:\n",
            " [-1.06664826 -0.79847058  0.00547281 -0.45970258 -0.05592705  0.90135938\n",
            " -1.76838394 -2.37349352  1.80744153  0.05746356]\n",
            "Matrix F:\n",
            " [[-0.94267445 -1.78410521  2.47216122 -0.37239378  0.1825953   0.07400753\n",
            "  -0.88650867  0.20192262 -0.69375173  3.82620043]\n",
            " [-2.62461062  1.42581605  1.55096043 -0.40621104  0.82792012  1.06056815\n",
            "  -1.86194401  2.05343108 -1.99554801 -0.94244188]\n",
            " [ 2.3538722  -0.46207839 -0.01483693  1.14016384 -1.69365765  0.19169772\n",
            "  -1.37796873 -0.58007681 -0.9029213  -0.06461477]\n",
            " [-1.7600514   0.45962722  0.90428437  0.12979599  0.86296931 -0.3056985\n",
            "   2.3814299  -0.90771052  0.05998989 -0.57780977]\n",
            " [ 1.59212854 -1.39294385  2.6315561  -0.8816484  -1.36436214 -0.54582349\n",
            "  -1.07862364  0.77155309  0.8394193   0.49942766]]\n",
            "Sum of C and F:\n",
            " [[-2.00932271 -2.58257579  2.47763403 -0.83209637  0.12666826  0.9753669\n",
            "  -2.65489261 -2.1715709   1.1136898   3.88366398]\n",
            " [-3.69125887  0.62734547  1.55643324 -0.86591362  0.77199308  1.96192753\n",
            "  -3.63032796 -0.32006244 -0.18810649 -0.88497832]\n",
            " [ 1.28722395 -1.26054897 -0.00936412  0.68046126 -1.74958469  1.09305709\n",
            "  -3.14635267 -2.95357033  0.90452023 -0.00715122]\n",
            " [-2.82669966 -0.33884336  0.90975718 -0.32990659  0.80704226  0.59566087\n",
            "   0.61304596 -3.28120404  1.86743142 -0.52034622]\n",
            " [ 0.52548029 -2.19141443  2.63702891 -1.34135099 -1.42028919  0.35553589\n",
            "  -2.84700758 -1.60194042  2.64686083  0.55689122]]\n",
            "Element-wise multiplication between C and F:\n",
            " [[ 1.00550206e+00  1.42455552e+00  1.35296676e-02  1.71190384e-01\n",
            "  -1.02120162e-02  6.67073777e-02  1.56768770e+00 -4.79262026e-01\n",
            "  -1.25391568e+00  2.19867082e-01]\n",
            " [ 2.79953634e+00 -1.13847216e+00  8.48811106e-03  1.86736263e-01\n",
            "  -4.63031281e-02  9.55953047e-01  3.29263189e+00 -4.87380536e+00\n",
            "  -3.60683635e+00 -5.41560616e-02]\n",
            " [-2.51075368e+00  3.68955998e-01 -8.11996882e-05 -5.24136265e-01\n",
            "   9.47212716e-02  1.72788533e-01  2.43677778e+00  1.37680856e+00\n",
            "  -1.63197745e+00 -3.71299466e-03]\n",
            " [ 1.87735576e+00 -3.66998813e-01  4.94897613e-03 -5.96675526e-02\n",
            "  -4.82633255e-02 -2.75544212e-01 -4.21128239e+00  2.15444504e+00\n",
            "   1.08428222e-01 -3.32030041e-02]\n",
            " [-1.69824114e+00  1.11222468e+00  1.44020054e-02  4.05296050e-01\n",
            "   7.63047464e-02 -4.91983116e-01  1.90742072e+00 -1.83127627e+00\n",
            "   1.51720131e+00  2.86988893e-02]]\n",
            "Dimension of sum_result: (5, 10)\n",
            "Dimension of multiply_result: (5, 10)\n"
          ]
        }
      ]
    },
    {
      "cell_type": "markdown",
      "source": [
        "5. Calculate G, the dot product between C and F, and give the dimension of G. What is the difference between dot product and multiplication of vectors?"
      ],
      "metadata": {
        "id": "W0iMrdd7ALqz"
      }
    },
    {
      "cell_type": "code",
      "source": [
        "# Answer\n",
        "\n",
        "import numpy as np\n",
        "\n",
        "# Create vector C of size 10\n",
        "C = np.random.randn(10)\n",
        "\n",
        "# Create matrix F of shape (5, 10)\n",
        "F = np.random.randn(5, 10)\n",
        "\n",
        "# Calculate the dot product between C and F\n",
        "G = np.dot(C, F.T)  # Transpose F to match dimensions\n",
        "\n",
        "print(\"Vector C:\\n\", C)\n",
        "print(\"Matrix F:\\n\", F)\n",
        "print(\"Dot product between C and F:\\n\", G)\n",
        "\n",
        "# Check the dimension of the dot product\n",
        "dimension_G = G.shape\n",
        "print(\"Dimension of G:\", dimension_G)\n"
      ],
      "metadata": {
        "id": "itxLEQQTAoFz"
      },
      "execution_count": null,
      "outputs": []
    },
    {
      "cell_type": "markdown",
      "source": [
        "6. Calculate the sum and multiplication between F and B. Give the dimension of each result."
      ],
      "metadata": {
        "id": "yGcsZXcuAu2L"
      }
    },
    {
      "cell_type": "code",
      "source": [
        "# Answer\n",
        "\n",
        "import numpy as np\n",
        "\n",
        "# Create matrix F of shape (5, 10)\n",
        "F = np.random.randn(5, 10)\n",
        "\n",
        "# Create matrix B of shape (5, 10)\n",
        "B = np.random.randn(5, 10)\n",
        "\n",
        "# Calculate the sum of F and B\n",
        "sum_result = F + B\n",
        "\n",
        "# Calculate the element-wise multiplication between F and B\n",
        "multiply_result = F * B\n",
        "\n",
        "print(\"Matrix F:\\n\", F)\n",
        "print(\"Matrix B:\\n\", B)\n",
        "print(\"Sum of F and B:\\n\", sum_result)\n",
        "print(\"Element-wise multiplication between F and B:\\n\", multiply_result)\n",
        "\n",
        "# Check the dimension of the results\n",
        "dimension_sum_result = sum_result.shape\n",
        "dimension_multiply_result = multiply_result.shape\n",
        "print(\"Dimension of sum_result:\", dimension_sum_result)\n",
        "print(\"Dimension of multiply_result:\", dimension_multiply_result)\n"
      ],
      "metadata": {
        "id": "CR9uXJ2yAy5w"
      },
      "execution_count": null,
      "outputs": []
    },
    {
      "cell_type": "markdown",
      "source": [
        "7. Calculate the dot product between B and F (in this order). Give the dimension of the result."
      ],
      "metadata": {
        "id": "BqmBgn2wB1AW"
      }
    },
    {
      "cell_type": "code",
      "source": [
        "# Answer\n",
        "\n",
        "import numpy as np\n",
        "\n",
        "# Create matrix B of shape (5, 10)\n",
        "B = np.random.randn(5, 10)\n",
        "\n",
        "# Create matrix F of shape (5, 10)\n",
        "F = np.random.randn(5, 10)\n",
        "\n",
        "# Calculate the matrix multiplication between B and F\n",
        "dot_product_result = np.dot(B, F.T)  # Transpose F to match dimensions\n",
        "\n",
        "print(\"Matrix B:\\n\", B)\n",
        "print(\"Matrix F:\\n\", F)\n",
        "print(\"Matrix multiplication (dot product) between B and F:\\n\", dot_product_result)\n",
        "\n",
        "# Check the dimension of the dot product result\n",
        "dimension_dot_product_result = dot_product_result.shape\n",
        "print(\"Dimension of dot product result:\", dimension_dot_product_result)\n"
      ],
      "metadata": {
        "id": "4Y-yhK2aCn3P"
      },
      "execution_count": null,
      "outputs": []
    },
    {
      "cell_type": "markdown",
      "source": [
        "8. Calculate the dot product between F and B (in this order). If it works, give the dimension of the result; else propose a solution, and give the dimension of the result."
      ],
      "metadata": {
        "id": "ErKhZlZYCWe3"
      }
    },
    {
      "cell_type": "code",
      "source": [
        "# Answer\n",
        "\"\"\"\n",
        "The dot product between two matrices isn't a standard operation, and in numpy, the np.dot function or the @ operator performs matrix multiplication (also known as the dot product) between two arrays, not the element-wise dot product of vectors.\n",
        "\n",
        "For the dot product (matrix multiplication) between matrices F and B, the multiplication must be performed with the number of columns in the first matrix matching the number of rows in the second matrix.\n",
        "\n",
        "If you want to perform matrix multiplication between F and B, you can use the np.dot function or the @ operator as follows:\n",
        "\n",
        "\"\"\"\n",
        "import numpy as np\n",
        "\n",
        "# Create matrix F of shape (5, 10)\n",
        "F = np.random.randn(5, 10)\n",
        "\n",
        "# Create matrix B of shape (5, 10)\n",
        "B = np.random.randn(5, 10)\n",
        "\n",
        "# Calculate the matrix multiplication (dot product) between F and B\n",
        "dot_product_result = np.dot(F, B.T)  # Transpose B to match dimensions\n",
        "\n",
        "# Alternatively: dot_product_result = F @ B.T\n",
        "\n",
        "print(\"Matrix F:\\n\", F)\n",
        "print(\"Matrix B:\\n\", B)\n",
        "print(\"Matrix multiplication (dot product) between F and B:\\n\", dot_product_result)\n",
        "\n",
        "# Check the dimension of the dot product result\n",
        "dimension_dot_product_result = dot_product_result.shape\n",
        "print(\"Dimension of dot product result:\", dimension_dot_product_result)\n"
      ],
      "metadata": {
        "id": "8hLGkNmkCzOc"
      },
      "execution_count": null,
      "outputs": []
    },
    {
      "cell_type": "markdown",
      "source": [
        "9. Calculate I the dot product between A and B. Give the dimension of I."
      ],
      "metadata": {
        "id": "jpbNwvLVCqyN"
      }
    },
    {
      "cell_type": "code",
      "source": [
        "import numpy as np\n",
        "\n",
        "# Create matrix A of shape (5, 10)\n",
        "A = np.random.randn(5, 10)\n",
        "\n",
        "# Create matrix B of shape (5, 10)\n",
        "B = np.random.randn(5, 10)\n",
        "\n",
        "# Calculate the matrix multiplication (dot product) between A and B\n",
        "I = np.dot(A, B.T)  # Transpose B to match dimensions\n",
        "\n",
        "# Alternatively: I = A @ B.T\n",
        "\n",
        "print(\"Matrix A:\\n\", A)\n",
        "print(\"Matrix B:\\n\", B)\n",
        "print(\"Matrix multiplication (dot product) between A and B (stored as I):\\n\", I)\n",
        "\n",
        "# Check the dimension of the I matrix\n",
        "dimension_I = I.shape\n",
        "print(\"Dimension of I matrix:\", dimension_I)\n"
      ],
      "metadata": {
        "id": "yXS0eayGCyY3"
      },
      "execution_count": null,
      "outputs": []
    },
    {
      "cell_type": "markdown",
      "source": [
        "10. Give the detiminant of I."
      ],
      "metadata": {
        "id": "Mohli4PqC6YD"
      }
    },
    {
      "cell_type": "code",
      "source": [
        "# Answer\n",
        "\n",
        "# Calculate the determinant of the resulting matrix I\n",
        "determinant_I = np.linalg.det(I)\n",
        "print(\"Determinant of matrix I:\", determinant_I)"
      ],
      "metadata": {
        "id": "KLaF1xBeDCuW"
      },
      "execution_count": null,
      "outputs": []
    },
    {
      "cell_type": "markdown",
      "source": [
        "11. Give J the Inverse of I, if I is inversible."
      ],
      "metadata": {
        "id": "pC1PV_0CDEvJ"
      }
    },
    {
      "cell_type": "code",
      "source": [
        "# Answer\n",
        "\n",
        "J = np.linalg.inv(I)\n",
        "print(\"Inverse of matrix I:\", J)"
      ],
      "metadata": {
        "id": "ofs-f4ARDel3"
      },
      "execution_count": null,
      "outputs": []
    },
    {
      "cell_type": "markdown",
      "source": [
        "12. Decompose the matrix I using eigendecomposition method."
      ],
      "metadata": {
        "id": "rnZfU2i_DQOV"
      }
    },
    {
      "cell_type": "code",
      "source": [
        "# Answer\n",
        "\n",
        "# Check if the resulting matrix I is square (number of rows equals number of columns)\n",
        "if I.shape[0] == I.shape[1]:\n",
        "    # Perform eigendecomposition\n",
        "    eigenvalues, eigenvectors = np.linalg.eig(I)\n",
        "    print(\"Eigenvalues:\\n\", eigenvalues)\n",
        "    print(\"Eigenvectors:\\n\", eigenvectors)\n",
        "else:\n",
        "    print(\"The resulting matrix I is not square and cannot be eigendecomposed.\")\n"
      ],
      "metadata": {
        "id": "e1mDaZU7DW6O"
      },
      "execution_count": null,
      "outputs": []
    },
    {
      "cell_type": "markdown",
      "source": [
        "13. Decompose the matrix I using svd method"
      ],
      "metadata": {
        "id": "M_gCm_J6DYNJ"
      }
    },
    {
      "cell_type": "code",
      "source": [
        "# Answer\n",
        "\n",
        "\n",
        "print(\"Matrix A:\\n\", A)\n",
        "print(\"Matrix B:\\n\", B)\n",
        "print(\"Matrix multiplication (dot product) between A and B (stored as I):\\n\", I)\n",
        "\n",
        "# Perform Singular Value Decomposition (SVD)\n",
        "U, S, VT = np.linalg.svd(I)\n",
        "\n",
        "print(\"Matrix U:\\n\", U)\n",
        "print(\"Diagonal matrix S:\\n\", np.diag(S))\n",
        "print(\"Matrix Vᵀ:\\n\", VT)"
      ],
      "metadata": {
        "id": "p2EcgbkuDcwT"
      },
      "execution_count": null,
      "outputs": []
    },
    {
      "cell_type": "markdown",
      "source": [
        "### Exercice 2: Power iteration method"
      ],
      "metadata": {
        "id": "iNdK43PzAf6g"
      }
    },
    {
      "cell_type": "markdown",
      "source": [
        "The objective of this excercice is to compute the eigenvector of a matrix associated to its largest eigenvector using the power iteration method: Given a squared matrix $A$ of shape $n\\times n$ and a vector $x_0\\in\\mathbb{R}^n$, then the sequence of vectors $(x_k)_{k\\in\\mathbb{N}}$ defined as:\n",
        "$$\n",
        "x_{k+1}=\\frac{Ax_k}{\\Vert A x_k\\Vert},\n",
        "$$\n",
        "converges to the largest eigenvector in absolute value (we admit this result).\n",
        "  "
      ],
      "metadata": {
        "id": "-lew3ccDDUuG"
      }
    },
    {
      "cell_type": "markdown",
      "source": [
        "1. Define a function ```power_iteration(A, x0, k)``` that returns $x_k$.\n",
        "\n"
      ],
      "metadata": {
        "id": "1B2gdfwxGgX8"
      }
    },
    {
      "cell_type": "code",
      "source": [
        "# Answer\n",
        "\n",
        "import numpy as np\n",
        "\n",
        "def power_iteration(A, x0, k):\n",
        "    x = x0\n",
        "    for _ in range(k):\n",
        "        # Compute the matrix-vector multiplication Ax\n",
        "        Ax = np.dot(A, x)\n",
        "\n",
        "        # Compute the norm of Ax\n",
        "        norm_Ax = np.linalg.norm(Ax)\n",
        "\n",
        "        # Update the eigenvector approximation\n",
        "        x = Ax / norm_Ax\n",
        "\n",
        "    return x\n",
        "\n",
        "# Example usage\n",
        "n = 5  # Size of the matrix\n",
        "A = np.random.randn(n, n)  # Replace with your matrix A\n",
        "x0 = np.random.randn(n)     # Initial vector\n",
        "k = 100                     # Number of iterations\n",
        "\n",
        "# Call the power_iteration function\n",
        "dominant_eigenvector = power_iteration(A, x0, k)\n",
        "print(\"Dominant eigenvector:\\n\", dominant_eigenvector)"
      ],
      "metadata": {
        "id": "f01iWtOoHzzR",
        "colab": {
          "base_uri": "https://localhost:8080/"
        },
        "outputId": "fb2e3578-a47a-47eb-d7b2-65c63b8b2e7b"
      },
      "execution_count": null,
      "outputs": [
        {
          "output_type": "stream",
          "name": "stdout",
          "text": [
            "Dominant eigenvector:\n",
            " [ 0.61198522 -0.25820151  0.56654049 -0.4808012  -0.0816587 ]\n"
          ]
        }
      ]
    },
    {
      "cell_type": "markdown",
      "source": [
        "2. Using the function ```power_iteration```, compute the largest eigenvector of the matrix\n",
        "$$\n",
        "A = \\begin{bmatrix} 0.5 & 0.5\\\\ 0.2 & 0.8 \\end{bmatrix}\n",
        "$$"
      ],
      "metadata": {
        "id": "ayJnFSiQH5WB"
      }
    },
    {
      "cell_type": "code",
      "source": [
        "# Answer\n",
        "# Given matrix A\n",
        "A = np.array([[0.5, 0.5],\n",
        "              [0.2, 0.8]])\n",
        "\n",
        "# Initial vector for power iteration\n",
        "x0 = np.random.randn(2)\n",
        "\n",
        "# Number of iterations\n",
        "k = 100\n",
        "\n",
        "# Compute the largest eigenvector using power_iteration\n",
        "largest_eigenvector = power_iteration(A, x0, k)\n",
        "print(\"Largest eigenvector:\\n\", largest_eigenvector)"
      ],
      "metadata": {
        "id": "-IoDqHikH5u_",
        "colab": {
          "base_uri": "https://localhost:8080/"
        },
        "outputId": "925dea86-0a20-48ca-af22-3d59bbb87112"
      },
      "execution_count": null,
      "outputs": [
        {
          "output_type": "stream",
          "name": "stdout",
          "text": [
            "Largest eigenvector:\n",
            " [-0.70710678 -0.70710678]\n"
          ]
        }
      ]
    },
    {
      "cell_type": "markdown",
      "source": [
        "3. Compute the eigen value associated to this vector.\n",
        "***Indication:*** If $v$ is a normalized eigenvector of $A$, then its associated eigenvalue is given by $λ=Av⋅v$"
      ],
      "metadata": {
        "id": "9uVj_i8jJjyy"
      }
    },
    {
      "cell_type": "code",
      "source": [
        "# Answer\n",
        "\"\"\"\n",
        "In this code, the eigenvalue is calculated by the formula (A * x) dot x / (x dot x), where A is the matrix,\n",
        "x is the eigenvector, dot represents the dot product, and * represents the matrix-vector multiplication.\n",
        "The calculated eigenvalue corresponds to the factor by which the matrix scales the eigenvector.\n",
        "\"\"\"\n",
        "# Compute the largest eigenvector using power_iteration\n",
        "largest_eigenvector = power_iteration(A, x0, k)\n",
        "\n",
        "# Compute the eigenvalue associated with the eigenvector\n",
        "eigenvalue = np.dot(np.dot(A, largest_eigenvector), largest_eigenvector) / np.dot(largest_eigenvector, largest_eigenvector)\n",
        "\n",
        "print(\"Largest eigenvector:\\n\", largest_eigenvector)\n",
        "print(\"Associated eigenvalue:\", eigenvalue)\n"
      ],
      "metadata": {
        "id": "RCxqvVXfKmph",
        "colab": {
          "base_uri": "https://localhost:8080/"
        },
        "outputId": "d07fc090-0a88-4def-943d-b7598febb9c9"
      },
      "execution_count": null,
      "outputs": [
        {
          "output_type": "stream",
          "name": "stdout",
          "text": [
            "Largest eigenvector:\n",
            " [-0.70710678 -0.70710678]\n",
            "Associated eigenvalue: 1.0\n"
          ]
        }
      ]
    },
    {
      "cell_type": "markdown",
      "source": [
        "4. Write a script that allows to compute the largest eigenvalue with its associated eigenvector of a matrix given precision value."
      ],
      "metadata": {
        "id": "zP9Mwnk1KpAA"
      }
    },
    {
      "cell_type": "code",
      "source": [
        "# Answer\n",
        "import numpy as np\n",
        "\n",
        "def power_iteration(A, precision):\n",
        "    n = A.shape[0]  # Dimension of the matrix\n",
        "    x = np.random.randn(n)  # Initial vector\n",
        "\n",
        "    while True:\n",
        "        # Compute the matrix-vector multiplication Ax\n",
        "        Ax = np.dot(A, x)\n",
        "\n",
        "        # Compute the norm of Ax\n",
        "        norm_Ax = np.linalg.norm(Ax)\n",
        "\n",
        "        # Update the eigenvector approximation\n",
        "        new_x = Ax / norm_Ax\n",
        "\n",
        "        # Check for convergence\n",
        "        if np.linalg.norm(new_x - x) < precision:\n",
        "            break\n",
        "\n",
        "        x = new_x\n",
        "\n",
        "    # Compute the eigenvalue associated with the eigenvector\n",
        "    eigenvalue = np.dot(np.dot(A, x), x) / np.dot(x, x)\n",
        "\n",
        "    return eigenvalue, x\n",
        "\n",
        "# Given matrix A\n",
        "A = np.array([[0.5, 0.5],\n",
        "              [0.2, 0.8]])\n",
        "\n",
        "# Desired precision for convergence\n",
        "precision = 1e-6\n",
        "\n",
        "# Compute the largest eigenvalue and associated eigenvector using power_iteration\n",
        "largest_eigenvalue, largest_eigenvector = power_iteration(A, precision)\n",
        "\n",
        "print(\"Largest eigenvalue:\", largest_eigenvalue)\n",
        "print(\"Associated eigenvector:\", largest_eigenvector)\n"
      ],
      "metadata": {
        "id": "uYJ3RN5vLXVM"
      },
      "execution_count": null,
      "outputs": []
    },
    {
      "cell_type": "markdown",
      "source": [
        "5. Compare the execution times of the previous script and the numpy function for matrices of shape $n\\times n$ with $n\\in \\{10, 100, 1000\\}$   "
      ],
      "metadata": {
        "id": "DpjUjhXiL7TF"
      }
    },
    {
      "cell_type": "code",
      "source": [
        "# Answer\n",
        "import numpy as np\n",
        "import time\n",
        "\n",
        "def power_iteration(A, precision):\n",
        "    n = A.shape[0]  # Dimension of the matrix\n",
        "    x = np.random.randn(n)  # Initial vector\n",
        "\n",
        "    while True:\n",
        "        # Compute the matrix-vector multiplication Ax\n",
        "        Ax = np.dot(A, x)\n",
        "\n",
        "        # Compute the norm of Ax\n",
        "        norm_Ax = np.linalg.norm(Ax)\n",
        "\n",
        "        # Update the eigenvector approximation\n",
        "        new_x = Ax / norm_Ax\n",
        "\n",
        "        # Check for convergence\n",
        "        if np.linalg.norm(new_x - x) < precision:\n",
        "            break\n",
        "\n",
        "        x = new_x\n",
        "\n",
        "    # Compute the eigenvalue associated with the eigenvector\n",
        "    eigenvalue = np.dot(np.dot(A, x), x) / np.dot(x, x)\n",
        "\n",
        "    return eigenvalue, x\n",
        "\n",
        "# Compare execution times for different matrix sizes\n",
        "for n in [10, 100, 1000]:\n",
        "    print(f\"Matrix size: {n} x {n}\")\n",
        "\n",
        "    # Generate a random matrix of shape (n, n)\n",
        "    A = np.random.rand(n, n)\n",
        "\n",
        "    # Using custom power_iteration\n",
        "    start_time = time.time()\n",
        "    largest_eigenvalue_custom, _ = power_iteration(A, 1e-6)\n",
        "    custom_duration = time.time() - start_time\n",
        "\n",
        "    # Using NumPy eigenvalue function\n",
        "    start_time = time.time()\n",
        "    eigenvalues_np, _ = np.linalg.eig(A)\n",
        "    largest_eigenvalue_np = max(eigenvalues_np)\n",
        "    np_duration = time.time() - start_time\n",
        "\n",
        "    print(f\"Custom method - Largest eigenvalue: {largest_eigenvalue_custom:.6f}, Execution time: {custom_duration:.6f} seconds\")\n",
        "    print(f\"NumPy method - Largest eigenvalue: {largest_eigenvalue_np:.6f}, Execution time: {np_duration:.6f} seconds\")\n",
        "    print()"
      ],
      "metadata": {
        "id": "DS2OQEIGNNn3"
      },
      "execution_count": null,
      "outputs": []
    },
    {
      "cell_type": "markdown",
      "source": [
        "### Exercice 3"
      ],
      "metadata": {
        "id": "HoYFg77DFX3H"
      }
    },
    {
      "cell_type": "markdown",
      "source": [
        "Let $A$ be a matrix and $b$ a vector defined by:\n",
        "\n",
        "```\n",
        "M = np.random.randn(3, 3)\n",
        "A = M + M.T\n",
        "b = np.random.rand(3)\n",
        "```\n",
        "\n"
      ],
      "metadata": {
        "id": "P_VPQwnvLepr"
      }
    },
    {
      "cell_type": "markdown",
      "source": [
        "Solve the linear system $Ax=b$ with two different methods"
      ],
      "metadata": {
        "id": "yyxqssAtNQoB"
      }
    },
    {
      "cell_type": "code",
      "source": [
        "# Answer\n",
        "\n",
        "V = np.random.randn(5, 5)\n",
        "A = V + V.T\n",
        "b = np.random.rand(5)\n",
        "\n",
        "print(np.linalg.solve(A, b))\n",
        "print(np.linalg.inv(A).dot(b))"
      ],
      "metadata": {
        "id": "Z58P0a_BDoV8"
      },
      "execution_count": null,
      "outputs": []
    },
    {
      "cell_type": "markdown",
      "source": [
        "### Exercise 4"
      ],
      "metadata": {
        "id": "-fem3kzNoVd7"
      }
    },
    {
      "cell_type": "markdown",
      "source": [
        "Orthogonal Projections\n",
        "\n",
        "Write a Python program that performs the following tasks:\n",
        "\n",
        "1. Generate a random vector in 3D space.<br>\n",
        "2. Choose a target subspace by specifying a basis (orthonormal vectors) for the subspace.<br>\n",
        "3. Project the random vector onto the target subspace to find its orthogonal projection.<br>\n",
        "4. Calculate the residual vector as the difference between the original vector and its projection.<br>\n",
        "5. Verify that the projection and residual vectors are orthogonal."
      ],
      "metadata": {
        "id": "UDfzPsEpoYU8"
      }
    },
    {
      "cell_type": "code",
      "source": [
        "import numpy as np\n",
        "\n",
        "# Generate a random 3D vector\n",
        "random_vector = np.random.rand(3)\n",
        "\n",
        "# Specify the target subspace (orthonormal basis)\n",
        "target_basis = np.array([[1, 0, 0],\n",
        "                         [0, 1, 0]])\n",
        "\n",
        "# Calculate the projection matrix onto the subspace\n",
        "projection_matrix = np.dot(target_basis.T, np.linalg.inv(np.dot(target_basis, target_basis.T)))\n",
        "\n",
        "# Calculate the orthogonal projection of the random vector onto the subspace\n",
        "orthogonal_projection = np.dot(projection_matrix, random_vector)\n",
        "\n",
        "# Calculate the residual vector (error) between the random vector and its projection\n",
        "residual_vector = random_vector - orthogonal_projection\n",
        "\n",
        "# Verify orthogonality between the projection and residual vectors\n",
        "dot_product = np.dot(orthogonal_projection, residual_vector)\n",
        "print(\"Dot product between projection and residual vectors:\", dot_product)\n"
      ],
      "metadata": {
        "id": "SU4Q_Xb4p6Ni"
      },
      "execution_count": null,
      "outputs": []
    },
    {
      "cell_type": "markdown",
      "source": [
        "### Exercise 5"
      ],
      "metadata": {
        "id": "BgSLcUwjo4Dm"
      }
    },
    {
      "cell_type": "markdown",
      "source": [
        "Diagonalization of Symmetric Matrices\n",
        "\n",
        "Implement a Python program that demonstrates the diagonalization of a symmetric matrix:\n",
        "\n",
        "1. Generate a random symmetric matrix of a specified size.<br>\n",
        "2. Compute the eigenvalues and eigenvectors of the symmetric matrix.<br>\n",
        "3. Verify that the eigenvectors are orthogonal.<br>\n",
        "4. Construct a diagonal matrix using the eigenvalues.<br>\n",
        "5. Reconstruct the original matrix using eigenvectors and the diagonal matrix.\n",
        "\n"
      ],
      "metadata": {
        "id": "kWK8QCjCo6Cd"
      }
    },
    {
      "cell_type": "code",
      "source": [
        "import numpy as np\n",
        "\n",
        "# Generate a random symmetric matrix\n",
        "size = 3\n",
        "random_matrix = np.random.rand(size, size)\n",
        "symmetric_matrix = random_matrix + random_matrix.T\n",
        "\n",
        "# Compute eigenvalues and eigenvectors\n",
        "eigenvalues, eigenvectors = np.linalg.eigh(symmetric_matrix)\n",
        "\n",
        "# Verify orthogonality of eigenvectors\n",
        "dot_product = np.dot(eigenvectors[:, 0], eigenvectors[:, 1])\n",
        "print(\"Dot product between eigenvectors 1 and 2:\", dot_product)\n",
        "\n",
        "# Construct diagonal matrix using eigenvalues\n",
        "diagonal_matrix = np.diag(eigenvalues)\n",
        "\n",
        "# Reconstruct the original matrix using diagonalization\n",
        "reconstructed_matrix = np.dot(np.dot(eigenvectors, diagonal_matrix), eigenvectors.T)\n",
        "\n",
        "print(\"Original symmetric matrix:\")\n",
        "print(symmetric_matrix)\n",
        "print(\"Reconstructed symmetric matrix:\")\n",
        "print(reconstructed_matrix)\n"
      ],
      "metadata": {
        "id": "KSGG4QLYp80A"
      },
      "execution_count": null,
      "outputs": []
    },
    {
      "cell_type": "markdown",
      "source": [
        "### Exercise 6:\n",
        "1. Define a class Squared_matrix that inherits from the class ```np.matrix``` with the attribute values which corresponds to the squared matrix, and a constructor that instanciates the classe (it should return an error message if the matrix is not squared) and an ```__str()__``` that prints the matrix."
      ],
      "metadata": {
        "id": "FGholwq5EVxT"
      }
    },
    {
      "cell_type": "code",
      "source": [
        "# Answer\n",
        "\n",
        "import numpy as np\n",
        "\n",
        "class SquaredMatrix(np.matrix):\n",
        "    def __new__(cls, values):\n",
        "        # Check if the input matrix is square\n",
        "        if values.shape[0] != values.shape[1]:\n",
        "            raise ValueError(\"Input matrix must be square\")\n",
        "        return super().__new__(cls, values)\n",
        "\n",
        "    def __str__(self):\n",
        "        # Convert the matrix to a string for printing\n",
        "        return super().__str__()\n",
        "\n",
        "# Example usage:\n",
        "if __name__ == \"__main__\":\n",
        "    # Create a squared matrix\n",
        "    squared_matrix = SquaredMatrix(np.array([[1, 2], [3, 4]]))\n",
        "    print(\"Squared Matrix:\")\n",
        "    print(squared_matrix)\n",
        "\n",
        "    # Try to create a non-squared matrix (will raise an error)\n",
        "    try:\n",
        "        non_squared_matrix = SquaredMatrix(np.array([[1, 2, 3], [4, 5, 6]]))\n",
        "    except ValueError as e:\n",
        "        print(\"Error:\", e)\n"
      ],
      "metadata": {
        "id": "IECoSajHH42Z"
      },
      "execution_count": null,
      "outputs": []
    },
    {
      "cell_type": "markdown",
      "source": [
        "2. Define a method:\n",
        "* ```rank()``` that returns the rank of the matrix.  \n",
        "* ```is_invertible```that returns a boolean (```True``` if the matrix is invertible ```False``` otherwise).\n",
        "* ```inverse()``` that returns the inverse of the matrix when possible.\n",
        "* ```eigenvalues()``` and ```eigenvectors``` that return the eigenvalues and eigenvectors of the matrix."
      ],
      "metadata": {
        "id": "Tg1kRTErH51N"
      }
    },
    {
      "cell_type": "code",
      "source": [
        "# Answer\n",
        "import numpy as np\n",
        "\n",
        "class SquaredMatrix(np.matrix):\n",
        "    def __new__(cls, values):\n",
        "        if values.shape[0] != values.shape[1]:\n",
        "            raise ValueError(\"Input matrix must be square\")\n",
        "        return super().__new__(cls, values)\n",
        "\n",
        "    def rank(self):\n",
        "        # Calculate and return the rank of the matrix\n",
        "        return np.linalg.matrix_rank(self)\n",
        "\n",
        "    def is_invertible(self):\n",
        "        # Check if the matrix is invertible (non-singular)\n",
        "        return self.rank() == self.shape[0]\n",
        "\n",
        "    def inverse(self):\n",
        "        # Check if the matrix is invertible, and if so, return its inverse\n",
        "        if self.is_invertible():\n",
        "            return np.linalg.inv(self)\n",
        "        else:\n",
        "            raise ValueError(\"Matrix is not invertible\")\n",
        "\n",
        "    def eigenvalues(self):\n",
        "        # Calculate and return the eigenvalues of the matrix\n",
        "        return np.linalg.eigvals(self)\n",
        "\n",
        "    def eigenvectors(self):\n",
        "        # Calculate and return the eigenvalues and eigenvectors of the matrix\n",
        "        eigenvalues, eigenvectors = np.linalg.eig(self)\n",
        "        return eigenvalues, eigenvectors\n",
        "\n",
        "# Example usage:\n",
        "if __name__ == \"__main__\":\n",
        "    # Create a squared matrix\n",
        "    matrix_data = np.array([[1, 2], [3, 4]])\n",
        "    squared_matrix = SquaredMatrix(matrix_data)\n",
        "\n",
        "    print(\"Squared Matrix:\")\n",
        "    print(squared_matrix)\n",
        "\n",
        "    print(\"Rank:\", squared_matrix.rank())\n",
        "    print(\"Is Invertible:\", squared_matrix.is_invertible())\n",
        "\n",
        "    try:\n",
        "        inverse_matrix = squared_matrix.inverse()\n",
        "        print(\"Inverse Matrix:\")\n",
        "        print(inverse_matrix)\n",
        "    except ValueError as e:\n",
        "        print(\"Error:\", e)\n",
        "\n",
        "    eigenvalues, eigenvectors = squared_matrix.eigenvectors()\n",
        "    print(\"Eigenvalues:\")\n",
        "    print(eigenvalues)\n",
        "    print(\"Eigenvectors:\")\n",
        "    print(eigenvectors)\n"
      ],
      "metadata": {
        "id": "H7qaDWPhH_MP"
      },
      "execution_count": null,
      "outputs": []
    },
    {
      "cell_type": "markdown",
      "source": [
        "3. Given a squared matrix $A$, we recall the definition of some norms:\n",
        "\n",
        "$$\n",
        "\\begin{align*}\n",
        "&||A||_F \\, = \\sqrt{\\sum_{i=1}^n\\sum_{j=1}^n a^2_{i,j}} = \\sqrt{tr(A^tA)},  \\\\\n",
        "&||A||_1 \\,\\, = \\max_{1\\leq j\\leq n} \\sum_{i=1}^{n}|a_{i,j}|, \\\\\n",
        "&||A||_2 \\,\\, = \\sqrt{\\rho(A^tA)}, \\\\\n",
        "&||A||_\\infty = \\max_{1\\leq i\\leq n} \\sum_{j=1}^{n}|a_{i,j}|,\n",
        "\\end{align*}\n",
        "$$\n",
        "where $\\rho(\\cdot)$ design the spectral radius, i.e., the largest (in absolute value) eigenvalue of a matrix. Define the method ```norm_f(ind)``` that returns the norm given the indice ```ind``` (the indice is a string with possible values: ```\"F\"```,```\"1\"```,```\"2\"```, and ```\"inf\"```).\n"
      ],
      "metadata": {
        "id": "wMLsrKMUH_5Y"
      }
    },
    {
      "cell_type": "code",
      "source": [
        "# Answer\n",
        "import numpy as np\n",
        "\n",
        "class SquaredMatrix(np.matrix):\n",
        "    def __new__(cls, values):\n",
        "        if values.shape[0] != values.shape[1]:\n",
        "            raise ValueError(\"Input matrix must be square\")\n",
        "        return super().__new__(cls, values)\n",
        "\n",
        "    def norm_f(self, ind):\n",
        "        if ind == \"F\":\n",
        "            # Frobenius norm\n",
        "            return np.linalg.norm(self, ord='fro')\n",
        "        elif ind == \"1\":\n",
        "            # 1-norm\n",
        "            return np.linalg.norm(self, ord=1)\n",
        "        elif ind == \"2\":\n",
        "            # 2-norm (spectral norm)\n",
        "            return np.linalg.norm(self, ord=2)\n",
        "        elif ind == \"inf\":\n",
        "            # Infinity norm\n",
        "            return np.linalg.norm(self, ord=np.inf)\n",
        "        else:\n",
        "            raise ValueError(\"Invalid norm index. Use 'F', '1', '2', or 'inf'.\")\n",
        "\n",
        "# Example usage:\n",
        "if __name__ == \"__main__\":\n",
        "    # Create a squared matrix\n",
        "    matrix_data = np.array([[1, 2], [3, 4]])\n",
        "    squared_matrix = SquaredMatrix(matrix_data)\n",
        "\n",
        "    print(\"Squared Matrix:\")\n",
        "    print(squared_matrix)\n",
        "\n",
        "    # Calculate different norms\n",
        "    print(\"Frobenius Norm (||A||_F):\", squared_matrix.norm_f(\"F\"))\n",
        "    print(\"1-Norm (||A||_1):\", squared_matrix.norm_f(\"1\"))\n",
        "    print(\"2-Norm (||A||_2):\", squared_matrix.norm_f(\"2\"))\n",
        "    print(\"Infinity Norm (||A||_inf):\", squared_matrix.norm_f(\"inf\"))\n"
      ],
      "metadata": {
        "id": "P2HBHg42IGHU"
      },
      "execution_count": null,
      "outputs": []
    },
    {
      "cell_type": "code",
      "source": [],
      "metadata": {
        "id": "V4pScgbAC7vK"
      },
      "execution_count": null,
      "outputs": []
    }
  ]
}