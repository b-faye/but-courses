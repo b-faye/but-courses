{
  "cells": [
    {
      "cell_type": "markdown",
      "source": [
        "# TP 0: Python refresher"
      ],
      "metadata": {
        "id": "mSev6gv8HKcz"
      }
    },
    {
      "cell_type": "markdown",
      "source": [
        "## Recalls"
      ],
      "metadata": {
        "id": "f5S9pR3IIGy3"
      }
    },
    {
      "cell_type": "markdown",
      "source": [
        "### Python language"
      ],
      "metadata": {
        "id": "jLsIielhJ_Xq"
      }
    },
    {
      "cell_type": "markdown",
      "source": [
        "#### What is Python and why ?"
      ],
      "metadata": {
        "id": "RUbrCMGXn26f"
      }
    },
    {
      "cell_type": "markdown",
      "source": [
        "\n",
        "\n",
        "*   Python is fundamental language programming to data science and machine learning, as well as an everexpanding list of areas such as cyber-security, and web programming.\n",
        "*   It is used to prototype, design, simulate, and\n",
        "test easily because Python provides an inherently easy and\n",
        "incremental development cycle and offers access to a large base of reliable open-source codes, and a hierarchical compartmentalized design philosophy.\n",
        "* It is an interpreted language. This means that Python codes run on a Python\n",
        "virtual machine that provides a layer of abstraction between the code and the platform it runs on, thus making codes portable across different platforms (Windows laptop, Linux-based supercomputer, or a mobile phone).\n",
        "* Python is a dynamically typed language, which means that the interpreter itself figures out the representative types (e.g., floats, integers) interactively or at run-time. Unlike Fortran or C/C++ that have compilers that study the code from beginning to end, perform many compiler-level optimizations, link intimately with the existing libraries on a specific platform, and then create an executable that is henceforth liberated from the compiler.\n",
        "* Python facilitates maintainability of scientific codes because\n",
        "Python syntax is clean, free of semi-colon litter and other visual distractions that makes code hard to read and easy to obfuscate.\n"
      ],
      "metadata": {
        "id": "EE6VRp9jgTqR"
      }
    },
    {
      "cell_type": "markdown",
      "source": [
        "#### Comparison with other languages"
      ],
      "metadata": {
        "id": "eFapFCQdKv6N"
      }
    },
    {
      "cell_type": "markdown",
      "source": [
        "##### Python\n"
      ],
      "metadata": {
        "id": "2sa_yFE1yFxs"
      }
    },
    {
      "cell_type": "markdown",
      "source": [
        "Advantages:\n",
        "\n",
        "*   Easy to learn and easy to read.\n",
        "*   Gives access to many powerful libraries.\n",
        "*   Quick to write usable (and reusable) code.\n",
        "*   Rich documentation and help available from the Python community.\n",
        "\n",
        "\n"
      ],
      "metadata": {
        "id": "eTpXOoezyNzn"
      }
    },
    {
      "cell_type": "markdown",
      "source": [
        "Drawbacks:\n",
        "*   Slow compared to C/C++.\n",
        "*   Code can easily become messy for big projects.\n",
        "*   Less packages than Matlab and R in their own domain of research.\n",
        "\n"
      ],
      "metadata": {
        "id": "WOQIjzv4yNzo"
      }
    },
    {
      "cell_type": "markdown",
      "source": [
        "##### R"
      ],
      "metadata": {
        "id": "B1F8FWRrw_Im"
      }
    },
    {
      "cell_type": "markdown",
      "source": [
        "Advantages:\n",
        "\n",
        "*   Suitable for statistics and maching learning.\n",
        "*   Open Source.\n",
        "*   Lots of packages.\n",
        "\n"
      ],
      "metadata": {
        "id": "A4bE_q2JxHYU"
      }
    },
    {
      "cell_type": "markdown",
      "source": [
        "Drawbacks:\n",
        "*   Much slower than other programming languages such as MATLAB and Python.\n",
        "*   Dedicated to a single domain (statistics).\n",
        "\n",
        "\n"
      ],
      "metadata": {
        "id": "ihqfKnS0xLAI"
      }
    },
    {
      "cell_type": "markdown",
      "source": [
        "##### Matlab"
      ],
      "metadata": {
        "id": "yT-abOnaxZ2v"
      }
    },
    {
      "cell_type": "markdown",
      "source": [
        "Advantages:\n",
        "\n",
        "*   Allows complex simulations.\n",
        "*   Easy to learn, easy to write.\n",
        "*   Very powerful system for data and robotic.\n",
        "\n"
      ],
      "metadata": {
        "id": "xTrRnQX5xZ2w"
      }
    },
    {
      "cell_type": "markdown",
      "source": [
        "Drawbacks:\n",
        "*   Not free and expensive.\n",
        "*   Parallel computation not available in the base version.\n",
        "*   Not easy to share your code.\n",
        "\n"
      ],
      "metadata": {
        "id": "Cm-eluK2xZ2x"
      }
    },
    {
      "cell_type": "markdown",
      "source": [
        "##### C/C++"
      ],
      "metadata": {
        "id": "SpVKeShMx5sH"
      }
    },
    {
      "cell_type": "markdown",
      "source": [
        "Advantages:\n",
        "\n",
        "*   Very fast execution (optimized compilers).\n",
        "*   Access to lots of libraries.\n",
        "*   Potential for high performance.\n",
        "\n"
      ],
      "metadata": {
        "id": "MWow8g07x5sJ"
      }
    },
    {
      "cell_type": "markdown",
      "source": [
        "Drawbacks:\n",
        "*   Hard to learn.\n",
        "*   Writing programs takes a long time.\n",
        "*   Third-party libraries are often difficult to use.\n"
      ],
      "metadata": {
        "id": "a2qbSoBCx5sJ"
      }
    },
    {
      "cell_type": "markdown",
      "source": [
        "#### Usefull tools"
      ],
      "metadata": {
        "id": "oVVGITXaK_l9"
      }
    },
    {
      "cell_type": "markdown",
      "source": [
        "##### Installation\n"
      ],
      "metadata": {
        "id": "gYXeOxMKowSe"
      }
    },
    {
      "cell_type": "markdown",
      "source": [
        "The easiest way to get started is to download the freely available Anaconda distribution provided by [Anaconda](https://www.anaconda.com/download), which is available for all of the major platforms.\n",
        "\n",
        "On Linux, even though most of the toolchain is available via the built-in Linux package manager, it is still better to install the Anaconda distribution because it provides its own powerful package manager (i.e., conda) that can keep track of changes in the software dependencies of the packages that it supports.\n",
        "\n",
        "Note that if you do not have administrator privileges, there is also a corresponding Miniconda\n",
        "distribution that does not require these privileges. Regardless of your platform.\n",
        "\n",
        "We recommend Python version 3.6 or better."
      ],
      "metadata": {
        "id": "Klakda3Q_LpK"
      }
    },
    {
      "cell_type": "markdown",
      "source": [
        "##### Usage"
      ],
      "metadata": {
        "id": "KbffTcQ8-aSx"
      }
    },
    {
      "cell_type": "markdown",
      "source": [
        "There are several ways to write and execute Python scripts. The main ones are detailed below.\n",
        "\n",
        "\n",
        "**Jupyter Notebook**\n",
        "\n",
        "[Jupyter Notebook](https://jupyter.org/) is an open-source web application that allows data scientists to create and share documents that integrate live code, equations, computational output, visualizations, and other multimedia resources, along with explanatory text in a single document.\n",
        "\n",
        "You can use Jupyter Notebooks for all sorts of data science tasks including data cleaning and transformation, numerical simulation, exploratory data analysis, data visualization, statistical modeling, machine learning, deep learning, and much more.\n",
        "\n",
        "Jupyter is a way of working with Python inside a virtual “notebook” and is growing in popularity with data scientists in large part due to its flexibility. It gives you a way to combine code, images, plots, comments, etc., in alignment with the step of the “data science process.”\n",
        "\n",
        "\n",
        "**Pycharm**\n",
        "\n",
        "[Pycharm](https://www.jetbrains.com/pycharm/) is the most popular IDE used for coding in Python. It can be used for code analysis, debugging, and testing, among other things. PyCharm Community Edition is simply a free variant of the professional PyCharm application. This version is great for beginners.\n",
        "\n",
        "\n",
        "**Spyder**\n",
        "\n",
        "[Spyder](https://www.spyder-ide.org/) is also an IDE that offers both an editor and a Python shell. It is an efficient tool for developing and testing codes. In particular feature, it enables to run only part of the script while keeping the previous results (variable states) in memory."
      ],
      "metadata": {
        "id": "NEnEQae8Fgsx"
      }
    },
    {
      "cell_type": "markdown",
      "source": [
        "##### Getting help\n",
        "\n",
        "* Official documentation: [https://docs.python.org/3/](https://docs.python.org/3/)\n",
        "* Book: [ Python for Probability, Statistics, and Machine Learning](https://github.com/unpingco/Python-for-Probability-Statistics-and-Machine-Learning-2E)\n",
        "* Most usefull libraries: [numpy](https://numpy.org/doc/stable/), [scipy](https://docs.scipy.org/doc/scipy/), [pandas](https://pandas.pydata.org/docs/), [scikit-learn](https://scikit-learn.org/stable/), [statsmodels](https://www.statsmodels.org/stable/index.html).\n",
        "* Forums: [https://stackoverflow.com/](https://stackoverflow.com/)"
      ],
      "metadata": {
        "id": "-jTiMk5E-cVq"
      }
    },
    {
      "cell_type": "markdown",
      "source": [
        "### Basics of python programming"
      ],
      "metadata": {
        "id": "gxwrbifaKEO0"
      }
    },
    {
      "cell_type": "markdown",
      "source": [
        "#### Numbers"
      ],
      "metadata": {
        "id": "pUL7RHO-LM2u"
      }
    },
    {
      "cell_type": "code",
      "source": [
        "a = 5 # Integer\n",
        "print(a)\n",
        "type(a)"
      ],
      "metadata": {
        "colab": {
          "base_uri": "https://localhost:8080/"
        },
        "id": "EM9GEpuj-NAX",
        "outputId": "daa781bf-4a23-4cbf-b726-04f99c288fd2"
      },
      "execution_count": null,
      "outputs": [
        {
          "output_type": "stream",
          "name": "stdout",
          "text": [
            "5\n"
          ]
        },
        {
          "output_type": "execute_result",
          "data": {
            "text/plain": [
              "int"
            ]
          },
          "metadata": {},
          "execution_count": 5
        }
      ]
    },
    {
      "cell_type": "code",
      "source": [
        "b = -a # Integer\n",
        "print(b)\n",
        "type(b)"
      ],
      "metadata": {
        "colab": {
          "base_uri": "https://localhost:8080/"
        },
        "id": "KZhQJnb0-aXT",
        "outputId": "3f525fd4-ed2b-4254-cb37-fd30a4d58e51"
      },
      "execution_count": null,
      "outputs": [
        {
          "output_type": "stream",
          "name": "stdout",
          "text": [
            "-5\n"
          ]
        },
        {
          "output_type": "execute_result",
          "data": {
            "text/plain": [
              "int"
            ]
          },
          "metadata": {},
          "execution_count": 6
        }
      ]
    },
    {
      "cell_type": "code",
      "source": [
        "c = 7.2 # float\n",
        "print(c)\n",
        "type(c)"
      ],
      "metadata": {
        "colab": {
          "base_uri": "https://localhost:8080/"
        },
        "id": "EbOP2M-W-oV4",
        "outputId": "7cc81d9b-9513-45c1-b593-99974d01b900"
      },
      "execution_count": null,
      "outputs": [
        {
          "output_type": "stream",
          "name": "stdout",
          "text": [
            "7.2\n"
          ]
        },
        {
          "output_type": "execute_result",
          "data": {
            "text/plain": [
              "float"
            ]
          },
          "metadata": {},
          "execution_count": 4
        }
      ]
    },
    {
      "cell_type": "code",
      "source": [
        "d = -1.2 + 3j # Complex\n",
        "print(d)\n",
        "print(d.real, d.imag)\n",
        "type(d)"
      ],
      "metadata": {
        "colab": {
          "base_uri": "https://localhost:8080/"
        },
        "id": "XKuz6axU_Aji",
        "outputId": "5951915d-8ab6-436b-fe4d-30f2d2a81797"
      },
      "execution_count": null,
      "outputs": [
        {
          "output_type": "stream",
          "name": "stdout",
          "text": [
            "(-1.2+3j)\n",
            "-1.2 3.0\n"
          ]
        },
        {
          "output_type": "execute_result",
          "data": {
            "text/plain": [
              "complex"
            ]
          },
          "metadata": {},
          "execution_count": 7
        }
      ]
    },
    {
      "cell_type": "code",
      "source": [
        "t = True # Boolean\n",
        "f = False # Boolean\n",
        "type(t)"
      ],
      "metadata": {
        "colab": {
          "base_uri": "https://localhost:8080/"
        },
        "id": "Bkd2SBRU_rSQ",
        "outputId": "d6753c3e-f204-4f2c-9a6c-f1888c1330e8"
      },
      "execution_count": null,
      "outputs": [
        {
          "output_type": "execute_result",
          "data": {
            "text/plain": [
              "bool"
            ]
          },
          "metadata": {},
          "execution_count": 9
        }
      ]
    },
    {
      "cell_type": "code",
      "source": [
        "print(t and f)"
      ],
      "metadata": {
        "colab": {
          "base_uri": "https://localhost:8080/"
        },
        "id": "FWl9uhfQARlg",
        "outputId": "7ac83a6c-336d-4c08-c137-bfecac2a2823"
      },
      "execution_count": null,
      "outputs": [
        {
          "output_type": "stream",
          "name": "stdout",
          "text": [
            "False\n"
          ]
        }
      ]
    },
    {
      "cell_type": "code",
      "source": [
        "print(t or f)"
      ],
      "metadata": {
        "colab": {
          "base_uri": "https://localhost:8080/"
        },
        "id": "5u-7A2hdAX-T",
        "outputId": "d189278e-d4e9-428e-a67c-6f0e92f51add"
      },
      "execution_count": null,
      "outputs": [
        {
          "output_type": "stream",
          "name": "stdout",
          "text": [
            "True\n"
          ]
        }
      ]
    },
    {
      "cell_type": "code",
      "source": [
        "print(a == 5)"
      ],
      "metadata": {
        "colab": {
          "base_uri": "https://localhost:8080/"
        },
        "id": "1oNupGWRAgu5",
        "outputId": "07e1bbfb-0ad5-47c6-a65e-e7580ee2616e"
      },
      "execution_count": null,
      "outputs": [
        {
          "output_type": "stream",
          "name": "stdout",
          "text": [
            "True\n"
          ]
        }
      ]
    },
    {
      "cell_type": "code",
      "source": [
        "print(a == b)"
      ],
      "metadata": {
        "colab": {
          "base_uri": "https://localhost:8080/"
        },
        "id": "gowLGbH-Al_L",
        "outputId": "a262f567-ca8c-490a-dbb8-3140e7c6d32e"
      },
      "execution_count": null,
      "outputs": [
        {
          "output_type": "stream",
          "name": "stdout",
          "text": [
            "False\n"
          ]
        }
      ]
    },
    {
      "cell_type": "code",
      "source": [
        "print(int(t), int(f)) # cast Boolean to int"
      ],
      "metadata": {
        "colab": {
          "base_uri": "https://localhost:8080/"
        },
        "id": "Fe2_77PUAs_7",
        "outputId": "9b8debb1-ad70-4538-e2a3-7112ee4a807b"
      },
      "execution_count": null,
      "outputs": [
        {
          "output_type": "stream",
          "name": "stdout",
          "text": [
            "1 0\n"
          ]
        }
      ]
    },
    {
      "cell_type": "markdown",
      "source": [
        "#### Operations"
      ],
      "metadata": {
        "id": "waIo0jjZBAb1"
      }
    },
    {
      "cell_type": "code",
      "source": [
        "print(a + c) # Addition"
      ],
      "metadata": {
        "colab": {
          "base_uri": "https://localhost:8080/"
        },
        "id": "OnHJTz6vA_Wd",
        "outputId": "fa9a203a-db7e-4ddb-8f23-fd088e53c1c9"
      },
      "execution_count": null,
      "outputs": [
        {
          "output_type": "stream",
          "name": "stdout",
          "text": [
            "12.2\n"
          ]
        }
      ]
    },
    {
      "cell_type": "code",
      "source": [
        "print(a - c) # Substraction"
      ],
      "metadata": {
        "colab": {
          "base_uri": "https://localhost:8080/"
        },
        "id": "QGDuOqgIEc0T",
        "outputId": "e4ff3f9a-8a1d-4059-c0e7-055e075e47ee"
      },
      "execution_count": null,
      "outputs": [
        {
          "output_type": "stream",
          "name": "stdout",
          "text": [
            "-2.2\n"
          ]
        }
      ]
    },
    {
      "cell_type": "code",
      "source": [
        "print(a * c) # Multiplication"
      ],
      "metadata": {
        "colab": {
          "base_uri": "https://localhost:8080/"
        },
        "id": "vGHC3p_qEfPq",
        "outputId": "f461125a-7991-400c-a442-091c5208a015"
      },
      "execution_count": null,
      "outputs": [
        {
          "output_type": "stream",
          "name": "stdout",
          "text": [
            "36.0\n"
          ]
        }
      ]
    },
    {
      "cell_type": "code",
      "source": [
        "print(a / c) # Division"
      ],
      "metadata": {
        "colab": {
          "base_uri": "https://localhost:8080/"
        },
        "id": "6XDwXGbPEhSb",
        "outputId": "8377c656-d021-4372-8608-9c3f592de3a9"
      },
      "execution_count": null,
      "outputs": [
        {
          "output_type": "stream",
          "name": "stdout",
          "text": [
            "0.6944444444444444\n"
          ]
        }
      ]
    },
    {
      "cell_type": "code",
      "source": [
        "print(36// 5) # Integer division"
      ],
      "metadata": {
        "colab": {
          "base_uri": "https://localhost:8080/"
        },
        "id": "98ZBAJCKEi1S",
        "outputId": "d6e3b56f-b168-4106-e9a9-4d433c52cdbe"
      },
      "execution_count": null,
      "outputs": [
        {
          "output_type": "stream",
          "name": "stdout",
          "text": [
            "7\n"
          ]
        }
      ]
    },
    {
      "cell_type": "code",
      "source": [
        "print(10**3) # Power"
      ],
      "metadata": {
        "colab": {
          "base_uri": "https://localhost:8080/"
        },
        "id": "lKBpmuD8Ej9E",
        "outputId": "cac5a286-54c1-4386-e74d-6347d8395bad"
      },
      "execution_count": null,
      "outputs": [
        {
          "output_type": "stream",
          "name": "stdout",
          "text": [
            "1000\n"
          ]
        }
      ]
    },
    {
      "cell_type": "code",
      "source": [
        "print(10%4) # Modulo"
      ],
      "metadata": {
        "colab": {
          "base_uri": "https://localhost:8080/"
        },
        "id": "q-ZvSIw-ElQC",
        "outputId": "418e1f0a-8b5a-4dce-f494-b377573d4318"
      },
      "execution_count": null,
      "outputs": [
        {
          "output_type": "stream",
          "name": "stdout",
          "text": [
            "2\n"
          ]
        }
      ]
    },
    {
      "cell_type": "markdown",
      "source": [
        "#### Data structures"
      ],
      "metadata": {
        "id": "8_DojihELS8c"
      }
    },
    {
      "cell_type": "markdown",
      "source": [
        "###### Strings"
      ],
      "metadata": {
        "id": "4-OdYs-AF7dG"
      }
    },
    {
      "cell_type": "markdown",
      "source": [
        "Strings are immutable objects (they cannot be modified), that can be defined as follows:\n",
        "\n"
      ],
      "metadata": {
        "id": "-7Z9rwSfHFDf"
      }
    },
    {
      "cell_type": "code",
      "source": [
        "s1 = \"Machine learning\"\n",
        "s2 = 'Machine learning'\n",
        "print(type(s1)==type(s2))\n",
        "type(s1)"
      ],
      "metadata": {
        "colab": {
          "base_uri": "https://localhost:8080/"
        },
        "id": "_OAENjHSHOjI",
        "outputId": "9ab20071-e813-42ef-a016-55a853deff1d"
      },
      "execution_count": null,
      "outputs": [
        {
          "output_type": "stream",
          "name": "stdout",
          "text": [
            "True\n"
          ]
        },
        {
          "output_type": "execute_result",
          "data": {
            "text/plain": [
              "str"
            ]
          },
          "metadata": {},
          "execution_count": 38
        }
      ]
    },
    {
      "cell_type": "code",
      "source": [
        "text1 = \"\"\"This a\n",
        "machine learning cours\"\"\"\n",
        "print(text1) # Triple quotes allow having several lines"
      ],
      "metadata": {
        "colab": {
          "base_uri": "https://localhost:8080/"
        },
        "id": "sCN6W0mLHlJ5",
        "outputId": "1eda8275-12c1-49ca-93ed-c42b89523056"
      },
      "execution_count": null,
      "outputs": [
        {
          "output_type": "stream",
          "name": "stdout",
          "text": [
            "This a \n",
            "machine learning cours\n"
          ]
        }
      ]
    },
    {
      "cell_type": "code",
      "source": [
        "print(\"This is a \" + s1 + \"Course\") # Concatenation"
      ],
      "metadata": {
        "colab": {
          "base_uri": "https://localhost:8080/"
        },
        "id": "LzZySVqpH_Tx",
        "outputId": "30c0cc92-bb0d-4c0b-d658-2c0cee605b3d"
      },
      "execution_count": null,
      "outputs": [
        {
          "output_type": "stream",
          "name": "stdout",
          "text": [
            "This is a Machine learningCourse\n"
          ]
        }
      ]
    },
    {
      "cell_type": "code",
      "source": [
        "print(s1*2) # Duplication"
      ],
      "metadata": {
        "colab": {
          "base_uri": "https://localhost:8080/"
        },
        "id": "wkl0BbcPIa8p",
        "outputId": "76794f64-f102-4cc7-cf4f-cbcda9532d68"
      },
      "execution_count": null,
      "outputs": [
        {
          "output_type": "stream",
          "name": "stdout",
          "text": [
            "Machine learningMachine learning\n"
          ]
        }
      ]
    },
    {
      "cell_type": "code",
      "source": [
        "print(f\"This is a {s1} course\") # Formatting\n",
        "print(\"This is a {} course\".format(s1))"
      ],
      "metadata": {
        "colab": {
          "base_uri": "https://localhost:8080/"
        },
        "id": "QF5rFPSMJ_de",
        "outputId": "7574e1fe-5416-42ad-b442-23f90750ed65"
      },
      "execution_count": null,
      "outputs": [
        {
          "output_type": "stream",
          "name": "stdout",
          "text": [
            "This is a Machine learning course\n",
            "This is a Machine learning course\n"
          ]
        }
      ]
    },
    {
      "cell_type": "code",
      "source": [
        "age = 56\n",
        "name  = \"Robert\"\n",
        "print(\"{} is {} years old\".format(name, age))"
      ],
      "metadata": {
        "colab": {
          "base_uri": "https://localhost:8080/"
        },
        "id": "3Us4oPrzKbuk",
        "outputId": "ac3f4d1c-fc07-4cb1-91a0-8f278309a639"
      },
      "execution_count": null,
      "outputs": [
        {
          "output_type": "stream",
          "name": "stdout",
          "text": [
            "Robert is 56 years old\n"
          ]
        }
      ]
    },
    {
      "cell_type": "code",
      "source": [
        "print(\"The squared root of {} is {:.3f}\".format(10, 2.23606797749979))\n",
        "print(\"The squared root of {} is {:.3e}\".format(10, 2.23606797749979))"
      ],
      "metadata": {
        "colab": {
          "base_uri": "https://localhost:8080/"
        },
        "id": "cUwepnESNb7j",
        "outputId": "e8fb439f-c880-4081-ec27-6954ec317bd3"
      },
      "execution_count": null,
      "outputs": [
        {
          "output_type": "stream",
          "name": "stdout",
          "text": [
            "The squared root of 10 is 2.236\n",
            "The squared root of 10 is 2.236e+00\n"
          ]
        }
      ]
    },
    {
      "cell_type": "markdown",
      "source": [
        "##### Lists"
      ],
      "metadata": {
        "id": "zfNzOCB4GUII"
      }
    },
    {
      "cell_type": "markdown",
      "source": [
        "A list is an ordered collection of items, that may have different types. A list is a mutable object and can thus be modified."
      ],
      "metadata": {
        "id": "g9h8rWKCOcqE"
      }
    },
    {
      "cell_type": "code",
      "source": [
        "l1 = [5, 6, 4, 3, 7]\n",
        "l2 = [\"Yellow\", \"Orange\", \"Red\", \"Blue\", \"Green\"]\n",
        "l3 = [5, \"Yellow\", 6, \"Red\", 3.4, \"Robert\"]\n",
        "print(l1)\n",
        "print(l2)\n",
        "print(l3)"
      ],
      "metadata": {
        "colab": {
          "base_uri": "https://localhost:8080/"
        },
        "id": "jrFVgBJaOIHK",
        "outputId": "fec1540e-2c4e-4b3b-83d0-d11697ce5323"
      },
      "execution_count": null,
      "outputs": [
        {
          "output_type": "stream",
          "name": "stdout",
          "text": [
            "[5, 6, 4, 3, 7]\n",
            "['Yellow', 'Orange', 'Red', 'Blue', 'Green']\n",
            "[5, 'Yellow', 6, 'Red', 3.4, 'Robert']\n"
          ]
        }
      ]
    },
    {
      "cell_type": "code",
      "source": [
        "print(l3[0])  # First element\n",
        "print(l3[1])  # Second element\n",
        "print(l3[-1]) # Last element"
      ],
      "metadata": {
        "colab": {
          "base_uri": "https://localhost:8080/"
        },
        "id": "TwX0FrmPZV-t",
        "outputId": "64c1d0ec-1b4b-4de6-cca2-00322fddcf39"
      },
      "execution_count": null,
      "outputs": [
        {
          "output_type": "stream",
          "name": "stdout",
          "text": [
            "5\n",
            "Yellow\n",
            "Robert\n"
          ]
        }
      ]
    },
    {
      "cell_type": "code",
      "source": [
        "print(l3[:3])   # First three elements\n",
        "print(l3[-3:])  # Last three elements\n",
        "print(l3[1:5])  # Sublist\n",
        "print(l3[::-1]) # Reverse"
      ],
      "metadata": {
        "colab": {
          "base_uri": "https://localhost:8080/"
        },
        "id": "PPe11y4tZxFl",
        "outputId": "4d2911c4-172b-4931-aa0b-303a749ebb6c"
      },
      "execution_count": null,
      "outputs": [
        {
          "output_type": "stream",
          "name": "stdout",
          "text": [
            "[5, 'Yellow', 6]\n",
            "['Red', 3.4, 'Robert']\n",
            "['Yellow', 6, 'Red', 3.4]\n",
            "['Robert', 3.4, 'Red', 6, 'Yellow', 5]\n"
          ]
        }
      ]
    },
    {
      "cell_type": "code",
      "source": [
        "print(l1+l2) # Concatenation"
      ],
      "metadata": {
        "colab": {
          "base_uri": "https://localhost:8080/"
        },
        "id": "NgT42SYCaSSF",
        "outputId": "ecb680f4-b03d-456e-86e1-e4a5ab1d29cf"
      },
      "execution_count": null,
      "outputs": [
        {
          "output_type": "stream",
          "name": "stdout",
          "text": [
            "[5, 6, 4, 3, 7, 'Yellow', 'Orange', 'Red', 'Blue', 'Green']\n"
          ]
        }
      ]
    },
    {
      "cell_type": "code",
      "source": [
        "l1.append(2) # Add element to the end of the list\n",
        "l1"
      ],
      "metadata": {
        "colab": {
          "base_uri": "https://localhost:8080/"
        },
        "id": "nqiisxAvbMI3",
        "outputId": "aced0178-8d9d-460f-9058-f73465923297"
      },
      "execution_count": null,
      "outputs": [
        {
          "output_type": "execute_result",
          "data": {
            "text/plain": [
              "[5, 6, 4, 3, 7, 2]"
            ]
          },
          "metadata": {},
          "execution_count": 86
        }
      ]
    },
    {
      "cell_type": "code",
      "source": [
        "l1.pop()\n",
        "l1"
      ],
      "metadata": {
        "colab": {
          "base_uri": "https://localhost:8080/"
        },
        "id": "U3dGkgyWbmI4",
        "outputId": "94240c38-7eba-4a5f-cd38-dfbb662c2bd5"
      },
      "execution_count": null,
      "outputs": [
        {
          "output_type": "execute_result",
          "data": {
            "text/plain": [
              "[5, 6, 4, 3, 7]"
            ]
          },
          "metadata": {},
          "execution_count": 87
        }
      ]
    },
    {
      "cell_type": "code",
      "source": [
        "print(3 in l1) # Presence\n",
        "print(2 in l1)"
      ],
      "metadata": {
        "colab": {
          "base_uri": "https://localhost:8080/"
        },
        "id": "3rbSq8qrcDf-",
        "outputId": "0553d1c4-2f78-4e9c-ccb0-350584d33d73"
      },
      "execution_count": null,
      "outputs": [
        {
          "output_type": "stream",
          "name": "stdout",
          "text": [
            "True\n",
            "False\n"
          ]
        }
      ]
    },
    {
      "cell_type": "code",
      "source": [
        "len(l1) # Length"
      ],
      "metadata": {
        "colab": {
          "base_uri": "https://localhost:8080/"
        },
        "id": "fniEEzd4dmqM",
        "outputId": "31a39755-9fe7-4f9e-a402-17235caa650a"
      },
      "execution_count": null,
      "outputs": [
        {
          "output_type": "execute_result",
          "data": {
            "text/plain": [
              "5"
            ]
          },
          "metadata": {},
          "execution_count": 91
        }
      ]
    },
    {
      "cell_type": "markdown",
      "source": [
        "##### Tuple"
      ],
      "metadata": {
        "id": "5I2cDWlPGrw4"
      }
    },
    {
      "cell_type": "markdown",
      "source": [
        "Roughly speaking, a tuple is an immutable list (it cannot be changed). It can be defined as follows:"
      ],
      "metadata": {
        "id": "kFE53W7qc-JZ"
      }
    },
    {
      "cell_type": "code",
      "source": [
        "t = (-1,1)\n",
        "print(t)\n",
        "type(t)"
      ],
      "metadata": {
        "colab": {
          "base_uri": "https://localhost:8080/"
        },
        "id": "CSu-5cx_db1b",
        "outputId": "f771d359-1326-41b1-b646-eb4e30c6a7e6"
      },
      "execution_count": null,
      "outputs": [
        {
          "output_type": "stream",
          "name": "stdout",
          "text": [
            "(-1, 1)\n"
          ]
        },
        {
          "output_type": "execute_result",
          "data": {
            "text/plain": [
              "tuple"
            ]
          },
          "metadata": {},
          "execution_count": 96
        }
      ]
    },
    {
      "cell_type": "code",
      "source": [
        "t+=(0,) # Adding an element to a tuple\n",
        "t"
      ],
      "metadata": {
        "colab": {
          "base_uri": "https://localhost:8080/"
        },
        "id": "p3kSm_0ud0sS",
        "outputId": "168bc08d-16ca-4a70-9bb2-50537b13b6e2"
      },
      "execution_count": null,
      "outputs": [
        {
          "output_type": "execute_result",
          "data": {
            "text/plain": [
              "(-1, 1, 0)"
            ]
          },
          "metadata": {},
          "execution_count": 97
        }
      ]
    },
    {
      "cell_type": "code",
      "source": [
        "e1, e2, e3 = t # Unpacking\n",
        "print(e1, e2, e3)"
      ],
      "metadata": {
        "colab": {
          "base_uri": "https://localhost:8080/"
        },
        "id": "asAX5qqzeM_7",
        "outputId": "8347414e-86d2-44af-e669-27f6fd1ead03"
      },
      "execution_count": null,
      "outputs": [
        {
          "output_type": "stream",
          "name": "stdout",
          "text": [
            "-1 1 0\n"
          ]
        }
      ]
    },
    {
      "cell_type": "markdown",
      "source": [
        "##### Dictionnaries"
      ],
      "metadata": {
        "id": "uSKn4O78GT_Y"
      }
    },
    {
      "cell_type": "markdown",
      "source": [
        "A dictionary is a table key/value. Keys can be any immutable type (string, numbers, …)."
      ],
      "metadata": {
        "id": "LqM3GUX2erYt"
      }
    },
    {
      "cell_type": "code",
      "source": [
        "d1 = {\"Name\": \"Robert\", \"Age\": 64}\n",
        "print(d1)"
      ],
      "metadata": {
        "colab": {
          "base_uri": "https://localhost:8080/"
        },
        "id": "DpKNl-2CevV6",
        "outputId": "ae9aeb61-a308-48c3-9f03-8102105f8826"
      },
      "execution_count": null,
      "outputs": [
        {
          "output_type": "stream",
          "name": "stdout",
          "text": [
            "{'Name': 'Robert', 'Age': 64}\n",
            "{'x': [[1, -0.5], [-2, 1]], 'y': [0, 1]}\n"
          ]
        }
      ]
    },
    {
      "cell_type": "code",
      "source": [
        "print(d1.keys()) # Keys"
      ],
      "metadata": {
        "colab": {
          "base_uri": "https://localhost:8080/"
        },
        "id": "iz-sNBLagZVK",
        "outputId": "138c1131-167c-49b7-93b4-d1175cfe1300"
      },
      "execution_count": null,
      "outputs": [
        {
          "output_type": "stream",
          "name": "stdout",
          "text": [
            "dict_keys(['Name', 'Age'])\n"
          ]
        }
      ]
    },
    {
      "cell_type": "code",
      "source": [
        "print(d1.values()) # Values"
      ],
      "metadata": {
        "colab": {
          "base_uri": "https://localhost:8080/"
        },
        "id": "Hgarefymgk9r",
        "outputId": "eff18c07-8736-4acb-e53b-846feeaf775a"
      },
      "execution_count": null,
      "outputs": [
        {
          "output_type": "stream",
          "name": "stdout",
          "text": [
            "dict_values(['Robert', 64])\n"
          ]
        }
      ]
    },
    {
      "cell_type": "code",
      "source": [
        "print(d1[\"Name\"])\n",
        "print(d1[\"Age\"])"
      ],
      "metadata": {
        "colab": {
          "base_uri": "https://localhost:8080/"
        },
        "id": "FrU-dU8Ufoxb",
        "outputId": "c5d8af24-810d-469e-be56-b4f721d0a754"
      },
      "execution_count": null,
      "outputs": [
        {
          "output_type": "stream",
          "name": "stdout",
          "text": [
            "Robert\n",
            "64\n"
          ]
        }
      ]
    },
    {
      "cell_type": "code",
      "source": [
        "d2 =  dict() # Define an empty dictionnary\n",
        "d2[\"x\"] = [-10,3] # Add elements\n",
        "d2[\"y\"] = [4,6]\n",
        "print(d2)"
      ],
      "metadata": {
        "colab": {
          "base_uri": "https://localhost:8080/"
        },
        "id": "00KQmUbogXCj",
        "outputId": "0769c104-8d4c-4a32-89c6-0b3e68d497b0"
      },
      "execution_count": null,
      "outputs": [
        {
          "output_type": "stream",
          "name": "stdout",
          "text": [
            "{'x': [-10, 3], 'y': [4, 6]}\n"
          ]
        }
      ]
    },
    {
      "cell_type": "code",
      "source": [
        "print(\"x\" in d1) # Presence\n",
        "print(\"x\" in d2)"
      ],
      "metadata": {
        "colab": {
          "base_uri": "https://localhost:8080/"
        },
        "id": "FNGo-unnho_N",
        "outputId": "baa1c158-6238-4314-bce8-24a82233fa5d"
      },
      "execution_count": null,
      "outputs": [
        {
          "output_type": "stream",
          "name": "stdout",
          "text": [
            "False\n",
            "True\n"
          ]
        }
      ]
    },
    {
      "cell_type": "markdown",
      "source": [
        "#### Conditions"
      ],
      "metadata": {
        "id": "ZPn57b3YLTHc"
      }
    },
    {
      "cell_type": "code",
      "source": [
        "x  = 4\n",
        "y = 1\n",
        "\n",
        "print(\"x is\", end = \" \")\n",
        "if x < y:\n",
        "  print(\"is less than y\")\n",
        "elif x > y:\n",
        "  print(\"is greater than y\")\n",
        "else:\n",
        "  print(\"is equal to y\")"
      ],
      "metadata": {
        "colab": {
          "base_uri": "https://localhost:8080/"
        },
        "id": "PL-ykrvLiSNT",
        "outputId": "6520466e-8c4f-4c43-c8de-da6c0c2b4310"
      },
      "execution_count": null,
      "outputs": [
        {
          "output_type": "stream",
          "name": "stdout",
          "text": [
            "x is is greater than y\n"
          ]
        }
      ]
    },
    {
      "cell_type": "markdown",
      "source": [
        "#### Loops"
      ],
      "metadata": {
        "id": "YZfgj_iqLTqb"
      }
    },
    {
      "cell_type": "markdown",
      "source": [
        "###### For loop"
      ],
      "metadata": {
        "id": "P5naCX2pj2Jv"
      }
    },
    {
      "cell_type": "code",
      "source": [
        "for i in range(5):\n",
        "  print(i, end=\" \") # end=\" \" is used to print in one line"
      ],
      "metadata": {
        "colab": {
          "base_uri": "https://localhost:8080/"
        },
        "id": "Iide3U7zkzT3",
        "outputId": "eeb156f3-70a7-45fc-d532-7061f7e6ea1e"
      },
      "execution_count": null,
      "outputs": [
        {
          "output_type": "stream",
          "name": "stdout",
          "text": [
            "0 1 2 3 4 "
          ]
        }
      ]
    },
    {
      "cell_type": "code",
      "source": [
        "l2 = [\"Yellow\", \"Orange\", \"Red\", \"Blue\", \"Green\"]\n",
        "for e in l2:\n",
        "  print(e, end=\" \")"
      ],
      "metadata": {
        "colab": {
          "base_uri": "https://localhost:8080/"
        },
        "id": "nCWPG1ONlQDh",
        "outputId": "f35637a7-addc-45db-a543-bea727044653"
      },
      "execution_count": null,
      "outputs": [
        {
          "output_type": "stream",
          "name": "stdout",
          "text": [
            "Yellow Orange Red Blue Green "
          ]
        }
      ]
    },
    {
      "cell_type": "code",
      "source": [
        "for i, e in enumerate(l2):\n",
        "  print(\"item {}: {}\".format(i,e))"
      ],
      "metadata": {
        "colab": {
          "base_uri": "https://localhost:8080/"
        },
        "id": "IFG3Ochzlj_m",
        "outputId": "593cb279-89b6-4841-d3ea-4d91cb1dd3dc"
      },
      "execution_count": null,
      "outputs": [
        {
          "output_type": "stream",
          "name": "stdout",
          "text": [
            "item 0: Yellow\n",
            "item 1: Orange\n",
            "item 2: Red\n",
            "item 3: Blue\n",
            "item 4: Green\n"
          ]
        }
      ]
    },
    {
      "cell_type": "code",
      "source": [
        "for key, value in d1.items():\n",
        "    print(key, \":\", value)"
      ],
      "metadata": {
        "colab": {
          "base_uri": "https://localhost:8080/"
        },
        "id": "_Vr6EiCtmGlE",
        "outputId": "5b64a35d-1661-4e9e-b2a0-00321c931bd4"
      },
      "execution_count": null,
      "outputs": [
        {
          "output_type": "stream",
          "name": "stdout",
          "text": [
            "Name : Robert\n",
            "Age : 64\n"
          ]
        }
      ]
    },
    {
      "cell_type": "code",
      "source": [
        "l1 = [5, 6, 4, 3, 7]\n",
        "l4 = [e**2 for e in l1] # List comprehensions\n",
        "l5 = [e for e in l1 if e%2!=0 ]\n",
        "print(l4)\n",
        "print(l5)"
      ],
      "metadata": {
        "colab": {
          "base_uri": "https://localhost:8080/"
        },
        "id": "vEpY-_AmpeRq",
        "outputId": "b763496b-2843-4f7e-95f6-ccb3c5e93de5"
      },
      "execution_count": null,
      "outputs": [
        {
          "output_type": "stream",
          "name": "stdout",
          "text": [
            "[25, 36, 16, 9, 49]\n",
            "[5, 3, 7]\n"
          ]
        }
      ]
    },
    {
      "cell_type": "markdown",
      "source": [
        "###### While loop"
      ],
      "metadata": {
        "id": "SrepwlRfj9BW"
      }
    },
    {
      "cell_type": "code",
      "source": [
        "v = 0\n",
        "while v<10:\n",
        "  print(v, end=\" \")\n",
        "  v += 1"
      ],
      "metadata": {
        "colab": {
          "base_uri": "https://localhost:8080/"
        },
        "id": "KbhoCzK3qTDr",
        "outputId": "3c4093ac-336a-4b2a-c999-45b9b43187ad"
      },
      "execution_count": null,
      "outputs": [
        {
          "output_type": "stream",
          "name": "stdout",
          "text": [
            "0 1 2 3 4 5 6 7 8 9 "
          ]
        }
      ]
    },
    {
      "cell_type": "code",
      "source": [
        "v = 0\n",
        "while v<10:\n",
        "  print(v, end=\" \")\n",
        "  v += 1\n",
        "  if v%5==0:\n",
        "    break"
      ],
      "metadata": {
        "colab": {
          "base_uri": "https://localhost:8080/"
        },
        "outputId": "26e8edb2-ba17-4109-dcb0-c443a330ef4c",
        "id": "XXiLPzCNvig4"
      },
      "execution_count": null,
      "outputs": [
        {
          "output_type": "stream",
          "name": "stdout",
          "text": [
            "0 1 2 3 4 "
          ]
        }
      ]
    },
    {
      "cell_type": "markdown",
      "source": [
        "#### Functions"
      ],
      "metadata": {
        "id": "mx3hD8WFLTzK"
      }
    },
    {
      "cell_type": "code",
      "source": [
        "def my_first_function():\n",
        "  print(\"This is a function\")\n",
        "my_first_function()"
      ],
      "metadata": {
        "colab": {
          "base_uri": "https://localhost:8080/"
        },
        "id": "l3TpNJ_8wGxk",
        "outputId": "75ce5347-fa2d-46f3-d381-a73b988b9e71"
      },
      "execution_count": null,
      "outputs": [
        {
          "output_type": "stream",
          "name": "stdout",
          "text": [
            "This is a function\n"
          ]
        }
      ]
    },
    {
      "cell_type": "code",
      "source": [
        "def add(x,y):\n",
        "  return(x+y)\n",
        "add(6,8)"
      ],
      "metadata": {
        "colab": {
          "base_uri": "https://localhost:8080/"
        },
        "id": "NUm41qUZwZNS",
        "outputId": "384c9734-8484-4b92-9ea9-2ae91f8284d0"
      },
      "execution_count": null,
      "outputs": [
        {
          "output_type": "execute_result",
          "data": {
            "text/plain": [
              "14"
            ]
          },
          "metadata": {},
          "execution_count": 125
        }
      ]
    },
    {
      "cell_type": "markdown",
      "source": [
        "#### Introduction to Numpy"
      ],
      "metadata": {
        "id": "nyO_4KgTLsMs"
      }
    },
    {
      "cell_type": "markdown",
      "source": [
        "NumPy is a Python library used for working with arrays. It also has functions for working in domain of linear algebra, fourier transform, and matrices."
      ],
      "metadata": {
        "id": "O3eFhlRnC_zS"
      }
    },
    {
      "cell_type": "code",
      "source": [
        "import numpy as np  # Load the numpy module with the name np\n",
        "from numpy import random  # Load random from numpy\n",
        "from numpy import *  # Import evrything from  numpy"
      ],
      "metadata": {
        "id": "BakCEEsTxHpZ"
      },
      "execution_count": null,
      "outputs": []
    },
    {
      "cell_type": "code",
      "source": [
        "a = np.array([4.4,6.8,7.2])\n",
        "print(a)\n",
        "print(a.shape)\n",
        "type(a)"
      ],
      "metadata": {
        "colab": {
          "base_uri": "https://localhost:8080/"
        },
        "id": "stVSHLqvxogF",
        "outputId": "1e3f9ee9-ab53-42c5-c137-cc6821902012"
      },
      "execution_count": null,
      "outputs": [
        {
          "output_type": "stream",
          "name": "stdout",
          "text": [
            "[4.4 6.8 7.2]\n",
            "(3,)\n"
          ]
        },
        {
          "output_type": "execute_result",
          "data": {
            "text/plain": [
              "numpy.ndarray"
            ]
          },
          "metadata": {},
          "execution_count": 128
        }
      ]
    },
    {
      "cell_type": "code",
      "source": [
        "print(np.sin(a)) # Functions\n",
        "print(np.exp(a))\n",
        "print(np.log(a))"
      ],
      "metadata": {
        "colab": {
          "base_uri": "https://localhost:8080/"
        },
        "id": "kXq9kLcMD3TF",
        "outputId": "926024f7-1136-46a1-a7a0-5344c4aa4c22"
      },
      "execution_count": null,
      "outputs": [
        {
          "output_type": "stream",
          "name": "stdout",
          "text": [
            "[-0.95160207  0.49411335  0.79366786]\n",
            "[  81.45086866  897.84729165 1339.43076439]\n",
            "[1.48160454 1.91692261 1.97408103]\n"
          ]
        }
      ]
    },
    {
      "cell_type": "markdown",
      "source": [
        "### Plotting"
      ],
      "metadata": {
        "id": "T5GEVQ3HMzyE"
      }
    },
    {
      "cell_type": "markdown",
      "source": [
        "Two popular libraries are used for visualizations:\n",
        "* [Matplotlib](https://matplotlib.org/stable/index.html)\n",
        "* [Seaborn](https://seaborn.pydata.org/)"
      ],
      "metadata": {
        "id": "5FBnmq68FQR1"
      }
    },
    {
      "cell_type": "code",
      "source": [
        "import matplotlib.pyplot as plt\n",
        "import seaborn as sns\n",
        "\n",
        "x = np.linspace(0,10,1000)\n",
        "y1 = np.sin(x)\n",
        "\n",
        "plt.plot(x, y1, label=\"sin\") # Plot y as a function of x, label designs the label of the legend\n",
        "plt.xlabel(\"x\") # Set the name of the x axis\n",
        "plt.ylabel(\"y\") # Set the name of the y axis\n",
        "plt.title(\"Sine curve\")\n",
        "plt.legend() # Add the legend\n",
        "plt.grid() # Add the grid"
      ],
      "metadata": {
        "colab": {
          "base_uri": "https://localhost:8080/",
          "height": 472
        },
        "id": "pdWnULlpFM5Z",
        "outputId": "87cba91e-5114-4c1a-d619-f339aa52cc56"
      },
      "execution_count": null,
      "outputs": [
        {
          "output_type": "display_data",
          "data": {
            "text/plain": [
              "<Figure size 640x480 with 1 Axes>"
            ],
            "image/png": "[encoded data removed]"
          },
          "metadata": {}
        }
      ]
    },
    {
      "cell_type": "code",
      "source": [
        "plt.figure(figsize=(6,4)) # Changing the figure size\n",
        "plt.plot(x, y1, color=\"r\", linestyle=\"--\", linewidth=0.8, label=\"sin\") # Changing the color, the linestyle and the line width\n",
        "plt.xlabel(\"x\")\n",
        "plt.ylabel(\"y\")\n",
        "plt.title(\"Sine curve\")\n",
        "plt.legend()\n",
        "plt.grid()"
      ],
      "metadata": {
        "colab": {
          "base_uri": "https://localhost:8080/",
          "height": 410
        },
        "id": "e3enTZkcJhzA",
        "outputId": "5491b1ea-bdf2-4c10-f464-eb977f708bdb"
      },
      "execution_count": null,
      "outputs": [
        {
          "output_type": "display_data",
          "data": {
            "text/plain": [
              "<Figure size 600x400 with 1 Axes>"
            ],
            "image/png": "[encoded data removed]"
          },
          "metadata": {}
        }
      ]
    },
    {
      "cell_type": "code",
      "source": [
        "fig, ax = plt.subplots()  # Create a figure with a single Axes object\n",
        "ax.plot(x, y1, label=\"sin\")\n",
        "ax.set_xlabel(\"x\") # Set the name of the x axis\n",
        "ax.set_ylabel(\"y\") # Set the name of the y axis\n",
        "ax.set_title(\"Sine curve\")\n",
        "ax.legend() # Add the legend\n",
        "ax.grid() # Add the grid"
      ],
      "metadata": {
        "colab": {
          "base_uri": "https://localhost:8080/",
          "height": 472
        },
        "id": "ZjAmSOOkLiCy",
        "outputId": "516ca118-3386-4ce9-f361-c39b7d52ecf6"
      },
      "execution_count": null,
      "outputs": [
        {
          "output_type": "display_data",
          "data": {
            "text/plain": [
              "<Figure size 640x480 with 1 Axes>"
            ],
            "image/png": "[encoded data removed]"
          },
          "metadata": {}
        }
      ]
    },
    {
      "cell_type": "code",
      "source": [
        "y2 = np.cos(x)\n",
        "fig, ax = plt.subplots()\n",
        "ax.plot(x, y1, label=\"sin\")\n",
        "ax.plot(x, y2, label=\"cos\") # Plot the cosine curve in the same axis\n",
        "ax.set_xlabel(\"x\")\n",
        "ax.set_ylabel(\"y\")\n",
        "ax.set_title(\"Sine and cosine curves\")\n",
        "ax.legend()\n",
        "ax.grid()"
      ],
      "metadata": {
        "colab": {
          "base_uri": "https://localhost:8080/",
          "height": 472
        },
        "id": "P8th2NF9MO8c",
        "outputId": "4cc2a196-3da6-4de0-b729-b35783d7e0df"
      },
      "execution_count": null,
      "outputs": [
        {
          "output_type": "display_data",
          "data": {
            "text/plain": [
              "<Figure size 640x480 with 1 Axes>"
            ],
            "image/png": "[encoded data removed]"
          },
          "metadata": {}
        }
      ]
    },
    {
      "cell_type": "code",
      "source": [
        "x = np.linspace(0,2*np.pi,1000)\n",
        "y1 = np.sin(x)\n",
        "y2 = np.cos(x)\n",
        "fig, ax = plt.subplots()\n",
        "ax.plot(x, y1, linestyle=\"--\", color=\"b\", label=\"sin\") # Customize the sine curve\n",
        "ax.plot(x, y2, linestyle=\"--\", color=\"r\", label=\"cos\") # Customize the cosine curve\n",
        "ax.set_xlabel(\"x\")\n",
        "ax.set_ylabel(\"y\")\n",
        "ax.set_xticks([np.pi * t for t in [0,0.5,1,1.5,2]],[r'$0$', r'$\\frac{\\pi}{2}$', r'$\\pi$', r'$\\frac{3\\pi}{2}$', r'$2\\pi$'] ) # Customize the x axis\n",
        "ax.set_title(\"Sine and cosine curves\")\n",
        "ax.legend(loc=\"upper center\", shadow=True) # Customize the legend\n",
        "ax.grid() # Customize the grid\n",
        "fig.savefig(\"my_fig.png\", dpi=150, bbox_inches=\"tight\", transparent=True) # Saving figures"
      ],
      "metadata": {
        "colab": {
          "base_uri": "https://localhost:8080/",
          "height": 482
        },
        "id": "ZqaacnoyNdGs",
        "outputId": "32071388-2319-40f0-fec4-b7244426b881"
      },
      "execution_count": null,
      "outputs": [
        {
          "output_type": "display_data",
          "data": {
            "text/plain": [
              "<Figure size 640x480 with 1 Axes>"
            ],
            "image/png": "[encoded data removed]"
          },
          "metadata": {}
        }
      ]
    },
    {
      "cell_type": "code",
      "source": [
        "fig, ax = plt.subplots(1, 2, sharex=True, sharey=True, figsize=(8, 4))  # Subplot with 1 row, 2 columns\n",
        "\n",
        "# First subplot\n",
        "ax[0].plot(x, y1, color='blue')\n",
        "ax[0].set_xlabel(\"x\")\n",
        "ax[0].set_ylabel(\"y\")\n",
        "ax[0].set_title(\"Sine curve\")\n",
        "\n",
        "# Second item\n",
        "ax[1].plot(x, y2, color='red')\n",
        "ax[1].set_xlabel(\"x\")\n",
        "ax[1].set_ylabel(\"y\")\n",
        "ax[1].set_title(\"Cosine curve\");"
      ],
      "metadata": {
        "colab": {
          "base_uri": "https://localhost:8080/",
          "height": 410
        },
        "id": "rLjzwVdpULjL",
        "outputId": "8e1be6e9-ec5c-4e8c-9980-0ac2f6969577"
      },
      "execution_count": null,
      "outputs": [
        {
          "output_type": "display_data",
          "data": {
            "text/plain": [
              "<Figure size 800x400 with 2 Axes>"
            ],
            "image/png": "[encoded data removed]"
          },
          "metadata": {}
        }
      ]
    },
    {
      "cell_type": "code",
      "source": [
        "fig, ax = plt.subplots(2, 1, sharex=True, sharey=True, figsize=(4, 8))  # Subplot with 1 row, 2 columns\n",
        "\n",
        "# First subplot\n",
        "ax[0].plot(x, y1, color='blue')\n",
        "ax[0].set_xlabel(\"x\")\n",
        "ax[0].set_ylabel(\"y\")\n",
        "ax[0].set_title(\"Sine curve\")\n",
        "\n",
        "# Second item\n",
        "ax[1].plot(x, y2, color='red')\n",
        "ax[1].set_xlabel(\"x\")\n",
        "ax[1].set_ylabel(\"y\")\n",
        "ax[1].set_title(\"Cosine curve\");"
      ],
      "metadata": {
        "colab": {
          "base_uri": "https://localhost:8080/",
          "height": 718
        },
        "id": "qKXyvdwwU8Km",
        "outputId": "8aa061f9-2104-4f80-bfa0-6958a18a8084"
      },
      "execution_count": null,
      "outputs": [
        {
          "output_type": "display_data",
          "data": {
            "text/plain": [
              "<Figure size 400x800 with 2 Axes>"
            ],
            "image/png": "[encoded data removed]"
          },
          "metadata": {}
        }
      ]
    },
    {
      "cell_type": "markdown",
      "source": [
        "### Oriented object programming"
      ],
      "metadata": {
        "id": "L3NccKGlKSdV"
      }
    },
    {
      "cell_type": "markdown",
      "source": [
        "#### Definition"
      ],
      "metadata": {
        "id": "AWisC_EJMBtP"
      }
    },
    {
      "cell_type": "markdown",
      "source": [
        "In Python, object-oriented Programming (OOPs) is a programming paradigm that uses objects and classes in programming. The main concept of OOPs is to bind the data and the functions that work on that together as a single unit so that no other part of the code can access this data.\n",
        "\n",
        "\n",
        "A class is a collection of objects. A class contains the blueprints or the prototype from which the objects are being created. It is a logical entity that contains some attributes and methods."
      ],
      "metadata": {
        "id": "ies9tYCSXcpj"
      }
    },
    {
      "cell_type": "markdown",
      "source": [
        "#### Instanciating a class"
      ],
      "metadata": {
        "id": "hG3nd0pcME9N"
      }
    },
    {
      "cell_type": "markdown",
      "source": [
        "Let's consider for example the class ```np.array```. We instanciate the ```np.array``` by calling the constructor of the class with a set of parameters:\n"
      ],
      "metadata": {
        "id": "jaRv_hANYveo"
      }
    },
    {
      "cell_type": "code",
      "source": [
        "import numpy as np\n",
        "\n",
        "arr= np.array([9,5,7,0], dtype=int)\n",
        "arr"
      ],
      "metadata": {
        "colab": {
          "base_uri": "https://localhost:8080/"
        },
        "id": "a9JRN7L0YIEG",
        "outputId": "34835921-c3a4-4b87-d923-68d1b668bbd8"
      },
      "execution_count": null,
      "outputs": [
        {
          "output_type": "execute_result",
          "data": {
            "text/plain": [
              "array([9, 5, 7, 0])"
            ]
          },
          "metadata": {},
          "execution_count": 6
        }
      ]
    },
    {
      "cell_type": "markdown",
      "source": [
        "This constructor has created an object ``` arr ``` which is an instance of the class ```np.array```. This object has some attributes that charactarize it:\n"
      ],
      "metadata": {
        "id": "TcsdcQWbbAO9"
      }
    },
    {
      "cell_type": "code",
      "source": [
        "print(arr.shape)\n",
        "print(arr.size)"
      ],
      "metadata": {
        "colab": {
          "base_uri": "https://localhost:8080/"
        },
        "id": "2rj-0RKIa_VH",
        "outputId": "6e5fcfba-6a2d-4424-dfea-76b45a0af42a"
      },
      "execution_count": null,
      "outputs": [
        {
          "output_type": "stream",
          "name": "stdout",
          "text": [
            "(4,)\n",
            "4\n"
          ]
        }
      ]
    },
    {
      "cell_type": "markdown",
      "source": [
        "It has also methods that modifie it and returns information about it:"
      ],
      "metadata": {
        "id": "tTi2KIoIeaxH"
      }
    },
    {
      "cell_type": "code",
      "source": [
        "print(arr.mean())\n",
        "print(arr.min())"
      ],
      "metadata": {
        "colab": {
          "base_uri": "https://localhost:8080/"
        },
        "id": "e6q8DUaEe4uQ",
        "outputId": "3e02bb4c-ef11-490e-b7f7-93b777479e63"
      },
      "execution_count": null,
      "outputs": [
        {
          "output_type": "stream",
          "name": "stdout",
          "text": [
            "5.25\n",
            "0\n"
          ]
        }
      ]
    },
    {
      "cell_type": "code",
      "source": [
        "arr.sort()\n",
        "arr"
      ],
      "metadata": {
        "colab": {
          "base_uri": "https://localhost:8080/"
        },
        "id": "j_Miu4Sze-Yy",
        "outputId": "5edbc3a4-4260-49f2-9e53-db6e36673a7b"
      },
      "execution_count": null,
      "outputs": [
        {
          "output_type": "execute_result",
          "data": {
            "text/plain": [
              "array([0, 5, 7, 9])"
            ]
          },
          "metadata": {},
          "execution_count": 9
        }
      ]
    },
    {
      "cell_type": "markdown",
      "source": [
        "Refer to the documentation to see all the available attributes and methods."
      ],
      "metadata": {
        "id": "pDe7-Dp-fc8i"
      }
    },
    {
      "cell_type": "markdown",
      "source": [
        "#### Creating a class"
      ],
      "metadata": {
        "id": "hhPaTmRsMFIc"
      }
    },
    {
      "cell_type": "markdown",
      "source": [
        "Let's start with a simple example:"
      ],
      "metadata": {
        "id": "jGEjjgVkgIji"
      }
    },
    {
      "cell_type": "code",
      "source": [
        "class Rectangle():\n",
        "  \"\"\"\n",
        "  length: rectangle length\n",
        "  width: rectangle width\n",
        "  \"\"\"\n",
        "  # Constructor\n",
        "  def __init__(self, length, width):\n",
        "     self.length = length\n",
        "     self.width = width\n",
        "\n",
        "  def __str__(self):\n",
        "    return(\"rectangle of length {}cm and width {}cm\".format(self.length, self.width))\n",
        "\n",
        "  # Methods\n",
        "  def get_area(self):\n",
        "    return self.length * self.width\n",
        "\n",
        "  def get_perimeter(self):\n",
        "    return(2*(self.length + self.width))"
      ],
      "metadata": {
        "id": "9s2lj5oEgFmp"
      },
      "execution_count": null,
      "outputs": []
    },
    {
      "cell_type": "code",
      "source": [
        "help(Rectangle)"
      ],
      "metadata": {
        "colab": {
          "base_uri": "https://localhost:8080/"
        },
        "id": "_g9IlzB-qcHi",
        "outputId": "f67a3d13-d485-4038-ff1d-938798c26663"
      },
      "execution_count": null,
      "outputs": [
        {
          "output_type": "stream",
          "name": "stdout",
          "text": [
            "Help on class Rectangle in module __main__:\n",
            "\n",
            "class Rectangle(builtins.object)\n",
            " |  Rectangle(length, width)\n",
            " |  \n",
            " |  length: rectangle length\n",
            " |  width: rectangle width\n",
            " |  \n",
            " |  Methods defined here:\n",
            " |  \n",
            " |  __init__(self, length, width)\n",
            " |      Initialize self.  See help(type(self)) for accurate signature.\n",
            " |  \n",
            " |  __str__(self)\n",
            " |      Return str(self).\n",
            " |  \n",
            " |  get_area(self)\n",
            " |  \n",
            " |  get_perimeter(self)\n",
            " |  \n",
            " |  ----------------------------------------------------------------------\n",
            " |  Data descriptors defined here:\n",
            " |  \n",
            " |  __dict__\n",
            " |      dictionary for instance variables (if defined)\n",
            " |  \n",
            " |  __weakref__\n",
            " |      list of weak references to the object (if defined)\n",
            "\n"
          ]
        }
      ]
    },
    {
      "cell_type": "code",
      "source": [
        "rectangle = Rectangle(length=10, width=5)\n",
        "print(rectangle)"
      ],
      "metadata": {
        "colab": {
          "base_uri": "https://localhost:8080/"
        },
        "id": "-bMC5jndq5AO",
        "outputId": "b3eec681-689c-43f1-bd10-577c30cf74d8"
      },
      "execution_count": null,
      "outputs": [
        {
          "output_type": "stream",
          "name": "stdout",
          "text": [
            "rectangle of length 10cm and width 5cm\n"
          ]
        }
      ]
    },
    {
      "cell_type": "code",
      "source": [
        "print(rectangle.get_area(),rectangle.get_perimeter())"
      ],
      "metadata": {
        "colab": {
          "base_uri": "https://localhost:8080/"
        },
        "id": "fwcWi7Q_raT5",
        "outputId": "b70e01f1-3c23-45b8-dfe9-face978ca2a3"
      },
      "execution_count": null,
      "outputs": [
        {
          "output_type": "stream",
          "name": "stdout",
          "text": [
            "50 30\n"
          ]
        }
      ]
    },
    {
      "cell_type": "markdown",
      "source": [
        "#### Inheritance and overriding"
      ],
      "metadata": {
        "id": "b4PLtjEgMFUM"
      }
    },
    {
      "cell_type": "markdown",
      "source": [
        "Inheritance is a mechanism that allows you to create a hierarchy of classes that share a set of properties and methods by deriving a class from a parent class."
      ],
      "metadata": {
        "id": "icHrmGL1s6cz"
      }
    },
    {
      "cell_type": "markdown",
      "source": [
        "In the following, we consider  ```Person``` class which will be the parent class:  "
      ],
      "metadata": {
        "id": "J2l8ahrI7Jsh"
      }
    },
    {
      "cell_type": "code",
      "source": [
        "class Person():\n",
        "  \"\"\"\n",
        "  name: Person's name\n",
        "  \"\"\"\n",
        "  def __init__(self, name):\n",
        "    self.name = name\n",
        "    self.age = None\n",
        "\n",
        "  def __str__(self):\n",
        "    return(\"Person: {}\".format(self.name))\n",
        "\n",
        "  def set_age(self, age):\n",
        "    self.age = age\n",
        "\n",
        "  def get_age(self):\n",
        "    return(self.age)\n"
      ],
      "metadata": {
        "id": "Jem4bdXXs4wT"
      },
      "execution_count": null,
      "outputs": []
    },
    {
      "cell_type": "code",
      "source": [
        "person = Person(name=\"Robert\")\n",
        "print(person)"
      ],
      "metadata": {
        "colab": {
          "base_uri": "https://localhost:8080/"
        },
        "id": "u_orB6GDEi3c",
        "outputId": "6da31fa4-ee85-4a67-b998-a41beb5e9c08"
      },
      "execution_count": null,
      "outputs": [
        {
          "output_type": "stream",
          "name": "stdout",
          "text": [
            "Person: Robert\n"
          ]
        }
      ]
    },
    {
      "cell_type": "code",
      "source": [
        "person.set_age(42)\n",
        "person.get_age()"
      ],
      "metadata": {
        "colab": {
          "base_uri": "https://localhost:8080/"
        },
        "id": "_mgmX3RhFSQK",
        "outputId": "5d10ccb4-d80d-4072-ba09-ea911c4da89d"
      },
      "execution_count": null,
      "outputs": [
        {
          "output_type": "execute_result",
          "data": {
            "text/plain": [
              "42"
            ]
          },
          "metadata": {},
          "execution_count": 29
        }
      ]
    },
    {
      "cell_type": "markdown",
      "source": [
        "We define now a child class ```Student``` which inherits from ```Person``` class with some extra properties:"
      ],
      "metadata": {
        "id": "HWf1bDmU9S7J"
      }
    },
    {
      "cell_type": "code",
      "source": [
        "class Student(Person):\n",
        "  \"\"\"\n",
        "  name: Person's name\n",
        "  age: Person's age\n",
        "  \"\"\"\n",
        "  def __init__(self, name, field):\n",
        "    self.field = field\n",
        "    self.year = None\n",
        "    super().__init__(name)\n",
        "\n",
        "  def __str__(self):\n",
        "    return(\"Student {}, field {}\".format(self.name, self.field))\n",
        "\n",
        "  def set_year(self, year):\n",
        "    self.year = year\n",
        "\n",
        "  def get_year(self):\n",
        "    return(self.year)"
      ],
      "metadata": {
        "id": "SUHXc8Kf936v"
      },
      "execution_count": null,
      "outputs": []
    },
    {
      "cell_type": "markdown",
      "source": [
        "This child class ```Student``` inherits the attributes ```name``` and ```age``` and the methods ```set_age()``` and ```get_age()``` from the parent class ``` Person```:"
      ],
      "metadata": {
        "id": "TQN-7DdHB6Q2"
      }
    },
    {
      "cell_type": "code",
      "source": [
        "student = Student(name=\"Maëlle\", field=\"Computer science\")\n",
        "print(student)"
      ],
      "metadata": {
        "colab": {
          "base_uri": "https://localhost:8080/"
        },
        "id": "uM6cMpP8FchO",
        "outputId": "5698de3a-4527-4bae-db79-76021b61b548"
      },
      "execution_count": null,
      "outputs": [
        {
          "output_type": "stream",
          "name": "stdout",
          "text": [
            "Student Maëlle, field Computer science\n"
          ]
        }
      ]
    },
    {
      "cell_type": "code",
      "source": [
        "student.set_age(22)\n",
        "student.get_age()"
      ],
      "metadata": {
        "colab": {
          "base_uri": "https://localhost:8080/"
        },
        "id": "xvoW-MrcGYxu",
        "outputId": "1859b625-5095-4939-b777-12db44b62ba9"
      },
      "execution_count": null,
      "outputs": [
        {
          "output_type": "execute_result",
          "data": {
            "text/plain": [
              "22"
            ]
          },
          "metadata": {},
          "execution_count": 34
        }
      ]
    },
    {
      "cell_type": "markdown",
      "source": [
        "But it has two extra attributes ```field``` and ```year``` and two extra methods ```set_year()``` and ```get_year()```:"
      ],
      "metadata": {
        "id": "uIqAlGSdD01z"
      }
    },
    {
      "cell_type": "code",
      "source": [
        "student.set_year(4)\n",
        "student.get_year()"
      ],
      "metadata": {
        "colab": {
          "base_uri": "https://localhost:8080/"
        },
        "id": "7AbzSOQ9Gmcd",
        "outputId": "4f295762-ce6a-45e6-842b-d8273e420254"
      },
      "execution_count": null,
      "outputs": [
        {
          "output_type": "execute_result",
          "data": {
            "text/plain": [
              "4"
            ]
          },
          "metadata": {},
          "execution_count": 35
        }
      ]
    },
    {
      "cell_type": "markdown",
      "source": [
        "\n",
        "  The method ```__str__``` that it prints the name and the field overrides inheritance. The ```super()``` function is used to refer to the parent class or superclass. It allows to call methods defined in the superclass from the subclass, enabling you to extend and customize the functionality inherited from the parent class.\n",
        "\n",
        "\n"
      ],
      "metadata": {
        "id": "w5jyomssHOLP"
      }
    },
    {
      "cell_type": "markdown",
      "source": [
        "## Exercices"
      ],
      "metadata": {
        "id": "BRquqgvmJ2qR"
      }
    },
    {
      "cell_type": "markdown",
      "source": [
        "### Exercice 1"
      ],
      "metadata": {
        "id": "Ml6jZYXBJhAr"
      }
    },
    {
      "cell_type": "markdown",
      "source": [
        "1. Define a function ```fibonnacci(n)``` that returns the list of $n\\geq 2$ first elements of fibonnacci sequence defined as:\n",
        "$$\n",
        " \\begin{cases}\n",
        "u_0 = 0,\\\\\n",
        "u_1 = 1, \\\\\n",
        "u_{n+2} = u_{n+1} + u_n.\n",
        "\\end{cases}\n",
        "$$"
      ],
      "metadata": {
        "id": "jDGFI50ZL39w"
      }
    },
    {
      "cell_type": "code",
      "source": [
        "# Answer\n"
      ],
      "metadata": {
        "id": "LmTNZdQHj6aJ"
      },
      "execution_count": null,
      "outputs": []
    },
    {
      "cell_type": "markdown",
      "source": [
        "2. Define a function ```pascal(n)``` that returns a list that contains elements of the $n$-th line of the [Pascal's triangle](https://en.wikipedia.org/wiki/Pascal%27s_triangle).   "
      ],
      "metadata": {
        "id": "Q5_GiqIGj5oC"
      }
    },
    {
      "cell_type": "code",
      "source": [
        "# Answer\n"
      ],
      "metadata": {
        "id": "ImxDGGqykn-H"
      },
      "execution_count": null,
      "outputs": []
    },
    {
      "cell_type": "markdown",
      "source": [
        "3. Let $(u_n)_{n\\in\\mathbb{N}}$ and $(v_n)_{n\\in\\mathbb{N}}$ be two numerical sequences defined as $u_0=1$, $v_0=1$, and $∀n\\geq 0$:\n",
        "$$\n",
        "u_{n+1} = u_n + v_n,\\quad v_{n+1}=2u_n - v_n,\n",
        "$$\n",
        "Compute $u_{100}$ and $v_{100}$"
      ],
      "metadata": {
        "id": "GCgQvAoYkqf9"
      }
    },
    {
      "cell_type": "code",
      "source": [
        "# Answer\n"
      ],
      "metadata": {
        "id": "Tp4XEwGEl-V3"
      },
      "execution_count": null,
      "outputs": []
    },
    {
      "cell_type": "markdown",
      "source": [
        "4. Let $n_0,K \\geq 1$ be two integers. Let $v=(v_k)_{k\\in\\mathbb{N}}$ be the sequence defined by $v_0=n_0$ and\n",
        "\n",
        "$$\n",
        "v_{k+1} =  \\begin{cases}\n",
        "\t\t\t3v_k +1 & \\text{if $v_k$ is odd,}\\\\\n",
        "            \\frac{v_k}{2} & \\text{if $v_k$ is even,}\n",
        "\t\t \\end{cases}\n",
        "$$\n",
        "Define a function ```vk(n0, K)``` that returns $K$ first elements of the sequence $v$."
      ],
      "metadata": {
        "id": "L3ytS9hemSVu"
      }
    },
    {
      "cell_type": "code",
      "source": [
        "# Answer\n"
      ],
      "metadata": {
        "id": "nYffhpRxmE-D"
      },
      "execution_count": null,
      "outputs": []
    },
    {
      "cell_type": "markdown",
      "source": [
        "For $K = 1000$ and for every $n_0\\in\\{10,100,1000,10000\\}$ print the last five values."
      ],
      "metadata": {
        "id": "vT_vqyD0pXkn"
      }
    },
    {
      "cell_type": "code",
      "source": [
        "# Answer\n"
      ],
      "metadata": {
        "id": "Quk5worxp4Jg"
      },
      "execution_count": null,
      "outputs": []
    },
    {
      "cell_type": "markdown",
      "source": [
        "5. Define a function ```wallis(n)``` that computes an approximation of $\\pi$ using the [Wallis product](https://en.wikipedia.org/wiki/Wallis_product)."
      ],
      "metadata": {
        "id": "3GNk44G1qfzE"
      }
    },
    {
      "cell_type": "code",
      "source": [
        "# Answer\n"
      ],
      "metadata": {
        "id": "HVQs5VSyrFjg"
      },
      "execution_count": null,
      "outputs": []
    },
    {
      "cell_type": "markdown",
      "source": [
        "### Exercice 2"
      ],
      "metadata": {
        "id": "6maxa_r6Jpc1"
      }
    },
    {
      "cell_type": "markdown",
      "source": [
        "Consider the following list of dictionaries of persons with their weight (kg) and height (m):"
      ],
      "metadata": {
        "id": "89dpqXDwsulR"
      }
    },
    {
      "cell_type": "code",
      "source": [
        "Persons = [{\"Name\": \"Robert\", \"Weight\": 95 , \"Height\": 1.81},\n",
        "         {\"Name\": \"Alice\", \"Weight\": 48 , \"Height\": 1.69},\n",
        "         {\"Name\": \"Maëlle\", \"Weight\": 61 , \"Height\": 1.57},\n",
        "         {\"Name\": \"Maxime\", \"Weight\": 140, \"Height\": 1.98}]"
      ],
      "metadata": {
        "id": "C3V_euJostBo"
      },
      "execution_count": null,
      "outputs": []
    },
    {
      "cell_type": "markdown",
      "source": [
        "We recall, that the Body Mass Index (BMI) given the Weight (kg) and Heigth (m) is computed as follows:\n",
        "$$\n",
        "BMI = \\frac{Weight}{Height^2}\n",
        "$$\n",
        "1. Define a function ```body_mass_index(weight,height)``` that returns a tuple ```(bmi, interpretation)```  that contains the BMI and its interpretation (i.e., Underweigth, Nomal, or Obese). Please refer to [https://en.wikipedia.org/wiki/Body_mass_index](https://en.wikipedia.org/wiki/Body_mass_index) to interpret the BMI.  "
      ],
      "metadata": {
        "id": "gVcU16l4vijv"
      }
    },
    {
      "cell_type": "code",
      "source": [
        "# Answer\n"
      ],
      "metadata": {
        "id": "pgxIRGTDsQSN"
      },
      "execution_count": null,
      "outputs": []
    },
    {
      "cell_type": "markdown",
      "source": [
        "2. Write a script that adds the fields ```Bmi``` and ```Indication``` which are the BMI and its interpretation to each dictionnary defined above."
      ],
      "metadata": {
        "id": "5b9drSsKzaIZ"
      }
    },
    {
      "cell_type": "code",
      "source": [
        "# Answer\n"
      ],
      "metadata": {
        "id": "Z2nnGva7zVET"
      },
      "execution_count": null,
      "outputs": []
    },
    {
      "cell_type": "markdown",
      "source": [
        "### Exercice 3"
      ],
      "metadata": {
        "id": "AvwKsvnuJuV2"
      }
    },
    {
      "cell_type": "markdown",
      "source": [
        "1. Plot in the same graph the functions $sin(kx)$ and $cos(kx)$ for $k=1,2,3$ and $x\\in[0,2\\pi]$. Add a title, set x and y axis to x and y respectively, add a legend in bottom left corner position and set the x axis labels to {$0,\\,\\frac{\\pi}{2},\\,\\pi,\\,\\frac{3\\pi}{1},\\,2\\pi$}."
      ],
      "metadata": {
        "id": "KTnijSrJ2lWa"
      }
    },
    {
      "cell_type": "code",
      "source": [
        "# Answer\n"
      ],
      "metadata": {
        "id": "KBComJJ24QqE"
      },
      "execution_count": null,
      "outputs": []
    },
    {
      "cell_type": "markdown",
      "source": [
        "Plot the Lemniscate of Bernoulli parametrized by:\n",
        "$$\n",
        "x = \\frac{\\sqrt{2} cos(t)}{sin^2(t) + 1},\\,\\,y=\\frac{\\sqrt{2} cos(t)sin(t)}{sin^2(t) + 1},\\,\\, t\\in[0, 2\\pi].\n",
        "$$"
      ],
      "metadata": {
        "id": "_CZWe0sJ5H_Q"
      }
    },
    {
      "cell_type": "code",
      "source": [
        "# Answer\n"
      ],
      "metadata": {
        "id": "qcjLk-cz5FEM"
      },
      "execution_count": null,
      "outputs": []
    },
    {
      "cell_type": "markdown",
      "source": [
        "### Exercice 4"
      ],
      "metadata": {
        "id": "3wp0c3lzJunh"
      }
    },
    {
      "cell_type": "markdown",
      "source": [
        "1. Create a class ```Circle``` with the attribute $R$ which represents the radius. Define a constructor that constructs the class given the Radius and a method that prints \"This is a circle with radius R.\". Instanciate an object of the class ```Circle``` with $R=3$ and print the object.  "
      ],
      "metadata": {
        "id": "2cEZHMRLhxdD"
      }
    },
    {
      "cell_type": "code",
      "source": [
        "# Answer\n"
      ],
      "metadata": {
        "id": "rueMkPpmqum6"
      },
      "execution_count": null,
      "outputs": []
    },
    {
      "cell_type": "markdown",
      "source": [
        "2. Define three methods ```get_diameter()```, ```get_perimeter()``` and ```get_area()``` that return  the diameter, the perimeter and the area of the circle."
      ],
      "metadata": {
        "id": "AuxRK3YGqxnd"
      }
    },
    {
      "cell_type": "code",
      "source": [
        "# Answer\n"
      ],
      "metadata": {
        "id": "3AoiUH9FsMY7"
      },
      "execution_count": null,
      "outputs": []
    },
    {
      "cell_type": "markdown",
      "source": [
        "3. Define a child class ```Sphere``` that inherits from the ```Circle``` class. Adapt the methods if necessary. What can you say about the methods."
      ],
      "metadata": {
        "id": "zNQv4KBDsQRE"
      }
    },
    {
      "cell_type": "code",
      "source": [
        "# Answer\n"
      ],
      "metadata": {
        "id": "1Vnahzt_s_QD"
      },
      "execution_count": null,
      "outputs": []
    },
    {
      "cell_type": "markdown",
      "source": [
        "4. Define an extra method ```get_volume()``` that returns the volume of the sphere."
      ],
      "metadata": {
        "id": "b2FxJqMytJtA"
      }
    },
    {
      "cell_type": "code",
      "source": [
        "# Answer\n"
      ],
      "metadata": {
        "id": "RhBu8jfls9KZ"
      },
      "execution_count": null,
      "outputs": []
    },
    {
      "cell_type": "markdown",
      "source": [
        "# TP 1: Linear algebra"
      ],
      "metadata": {
        "id": "2DlJTcreq7h1"
      }
    },
    {
      "cell_type": "markdown",
      "source": [
        "## Recalls"
      ],
      "metadata": {
        "id": "qIWTWMvL-lMG"
      }
    },
    {
      "cell_type": "code",
      "source": [
        "# Example\n",
        "import numpy as np\n",
        "\n",
        "# 1. Vector Addition\n",
        "def vector_addition(u, v):\n",
        "    return np.add(u, v)\n",
        "\n",
        "# 2. Vector Subtraction\n",
        "def vector_subtraction(u, v):\n",
        "    return np.subtract(u, v)\n",
        "\n",
        "# 3. Scalar-Vector Multiplication\n",
        "def scalar_vector_multiplication(scalar, v):\n",
        "    return scalar * v\n",
        "\n",
        "# 4. Matrix Addition\n",
        "def matrix_addition(A, B):\n",
        "    return np.add(A, B)\n",
        "\n",
        "# 5. Matrix Subtraction\n",
        "def matrix_subtraction(A, B):\n",
        "    return np.subtract(A, B)\n",
        "\n",
        "# 6. Scalar-Matrix Multiplication\n",
        "def scalar_matrix_multiplication(scalar, A):\n",
        "    return scalar * A\n",
        "\n",
        "# 7. Transpose of a Matrix\n",
        "def matrix_transpose(A):\n",
        "    return A.T\n",
        "\n",
        "# 8. Inverse of a Matrix\n",
        "def matrix_inverse(A):\n",
        "    return np.linalg.inv(A)\n",
        "\n",
        "# 9. Determinant of a Matrix\n",
        "def matrix_determinant(A):\n",
        "    return np.linalg.det(A)\n",
        "\n",
        "# 10. Eigenvalues and Eigenvectors of a Matrix\n",
        "def matrix_eigen(A):\n",
        "    eigenvalues, eigenvectors = np.linalg.eig(A)\n",
        "    return eigenvalues, eigenvectors\n",
        "\n",
        "# 11. Singular Value Decomposition (SVD) of a Matrix\n",
        "def matrix_svd(A):\n",
        "    U, S, V = np.linalg.svd(A)\n",
        "    return U, S, V"
      ],
      "metadata": {
        "id": "56GxCvcgrHfr"
      },
      "execution_count": null,
      "outputs": []
    },
    {
      "cell_type": "markdown",
      "source": [
        "##### Creation\n",
        "Vectors and matrices in Python can be defined manually using Numpy arrays:"
      ],
      "metadata": {
        "id": "CT1rbhyvsMSv"
      }
    },
    {
      "cell_type": "code",
      "source": [
        "# Define a vector\n",
        "v = np.array([4, 6, -1])\n",
        "print(v)"
      ],
      "metadata": {
        "colab": {
          "base_uri": "https://localhost:8080/"
        },
        "id": "LrvJ2Rs_qma9",
        "outputId": "7fb12350-2728-4672-ce8e-6474f0ed8911"
      },
      "execution_count": null,
      "outputs": [
        {
          "output_type": "stream",
          "name": "stdout",
          "text": [
            "[ 4  6 -1]\n"
          ]
        }
      ]
    },
    {
      "cell_type": "code",
      "source": [
        "# Dimension\n",
        "print(v.shape)\n",
        "\n",
        "# Number of elements\n",
        "print(v.size)"
      ],
      "metadata": {
        "colab": {
          "base_uri": "https://localhost:8080/"
        },
        "id": "_NeDlvGXtlEy",
        "outputId": "43573a07-4359-4159-9f12-2cef74f64628"
      },
      "execution_count": null,
      "outputs": [
        {
          "output_type": "stream",
          "name": "stdout",
          "text": [
            "(3,)\n",
            "3\n"
          ]
        }
      ]
    },
    {
      "cell_type": "code",
      "source": [
        "# Define a matrix\n",
        "M = np.array([[1, 3, 7], [8, 4, 5]])\n",
        "print(M)"
      ],
      "metadata": {
        "colab": {
          "base_uri": "https://localhost:8080/"
        },
        "id": "CquMG9T4t-aJ",
        "outputId": "cc483278-afb6-4e30-c619-bc83fbb1d924"
      },
      "execution_count": null,
      "outputs": [
        {
          "output_type": "stream",
          "name": "stdout",
          "text": [
            "[[1 3 7]\n",
            " [8 4 5]]\n"
          ]
        }
      ]
    },
    {
      "cell_type": "code",
      "source": [
        "# Dimension\n",
        "print(M.shape)"
      ],
      "metadata": {
        "colab": {
          "base_uri": "https://localhost:8080/"
        },
        "id": "IePs8dLVv-Q9",
        "outputId": "b30dd1be-584d-4de3-82fa-6974591f1289"
      },
      "execution_count": null,
      "outputs": [
        {
          "output_type": "stream",
          "name": "stdout",
          "text": [
            "(2, 3)\n"
          ]
        }
      ]
    },
    {
      "cell_type": "code",
      "source": [
        "# Number of elements\n",
        "print(M.size)"
      ],
      "metadata": {
        "colab": {
          "base_uri": "https://localhost:8080/"
        },
        "id": "klpE8ZkV0iMt",
        "outputId": "bf04ee5a-bfdd-461b-ed2f-476ccd575739"
      },
      "execution_count": null,
      "outputs": [
        {
          "output_type": "stream",
          "name": "stdout",
          "text": [
            "6\n"
          ]
        }
      ]
    },
    {
      "cell_type": "code",
      "source": [
        "# Type of elements\n",
        "M.dtype"
      ],
      "metadata": {
        "colab": {
          "base_uri": "https://localhost:8080/"
        },
        "id": "3aeersu31Bcn",
        "outputId": "ea742184-2987-4743-8520-907411be6c3d"
      },
      "execution_count": null,
      "outputs": [
        {
          "output_type": "execute_result",
          "data": {
            "text/plain": [
              "dtype('int64')"
            ]
          },
          "metadata": {},
          "execution_count": 54
        }
      ]
    },
    {
      "cell_type": "markdown",
      "source": [
        "The type can be changed a posteriori using ```asarray```:"
      ],
      "metadata": {
        "id": "EJ5VZDd51o18"
      }
    },
    {
      "cell_type": "code",
      "source": [
        "M = M.astype('int32')\n",
        "M.dtype"
      ],
      "metadata": {
        "colab": {
          "base_uri": "https://localhost:8080/"
        },
        "id": "njBH_QJf1aB4",
        "outputId": "73ea20c9-dc8c-4fbb-8335-a869b1a4f0c3"
      },
      "execution_count": null,
      "outputs": [
        {
          "output_type": "execute_result",
          "data": {
            "text/plain": [
              "dtype('int32')"
            ]
          },
          "metadata": {},
          "execution_count": 56
        }
      ]
    },
    {
      "cell_type": "markdown",
      "source": [
        "The type can be set when creating the matrix:"
      ],
      "metadata": {
        "id": "wBqxvNp12xtR"
      }
    },
    {
      "cell_type": "code",
      "source": [
        "M = np.array([[1, 3, 7], [8, 4, 5]], dtype='int32')\n",
        "M.dtype"
      ],
      "metadata": {
        "colab": {
          "base_uri": "https://localhost:8080/"
        },
        "id": "xSjJiqiw2tLe",
        "outputId": "a70c9a76-36a7-4792-a887-4dc3993e0d6f"
      },
      "execution_count": null,
      "outputs": [
        {
          "output_type": "execute_result",
          "data": {
            "text/plain": [
              "dtype('int32')"
            ]
          },
          "metadata": {},
          "execution_count": 58
        }
      ]
    },
    {
      "cell_type": "markdown",
      "source": [
        "##### Creation using numpy functions"
      ],
      "metadata": {
        "id": "XapgS8Q63uD2"
      }
    },
    {
      "cell_type": "code",
      "source": [
        "x = np.arange(10)\n",
        "x"
      ],
      "metadata": {
        "colab": {
          "base_uri": "https://localhost:8080/"
        },
        "id": "QG2bKWbt3j-A",
        "outputId": "551b42f9-5381-41d6-cd8b-101213a06c47"
      },
      "execution_count": null,
      "outputs": [
        {
          "output_type": "execute_result",
          "data": {
            "text/plain": [
              "array([0, 1, 2, 3, 4, 5, 6, 7, 8, 9])"
            ]
          },
          "metadata": {},
          "execution_count": 59
        }
      ]
    },
    {
      "cell_type": "code",
      "source": [
        "# Null matrix of shape (3,3)\n",
        "Z = np.zeros((3,3))\n",
        "print(Z)"
      ],
      "metadata": {
        "colab": {
          "base_uri": "https://localhost:8080/"
        },
        "id": "8jMts-SC4Dct",
        "outputId": "3c169110-3b69-4fba-bf31-1bf0bdacaef2"
      },
      "execution_count": null,
      "outputs": [
        {
          "output_type": "stream",
          "name": "stdout",
          "text": [
            "[[0. 0. 0.]\n",
            " [0. 0. 0.]\n",
            " [0. 0. 0.]]\n"
          ]
        }
      ]
    },
    {
      "cell_type": "code",
      "source": [
        "# A Matrix filled with 1\n",
        "L = np.ones((2,3))\n",
        "print(L)"
      ],
      "metadata": {
        "colab": {
          "base_uri": "https://localhost:8080/"
        },
        "id": "YOQOllvs4yPY",
        "outputId": "86022121-834a-444f-b4bd-92322def2738"
      },
      "execution_count": null,
      "outputs": [
        {
          "output_type": "stream",
          "name": "stdout",
          "text": [
            "[[1. 1. 1.]\n",
            " [1. 1. 1.]]\n"
          ]
        }
      ]
    },
    {
      "cell_type": "code",
      "source": [
        "# Identity matrix\n",
        "I = np.eye(3)\n",
        "print(I)"
      ],
      "metadata": {
        "colab": {
          "base_uri": "https://localhost:8080/"
        },
        "id": "k-nSPeS-5KO1",
        "outputId": "356ff61d-5ca8-4b2d-a71f-9b2b2c9035f7"
      },
      "execution_count": null,
      "outputs": [
        {
          "output_type": "stream",
          "name": "stdout",
          "text": [
            "[[1. 0. 0.]\n",
            " [0. 1. 0.]\n",
            " [0. 0. 1.]]\n"
          ]
        }
      ]
    },
    {
      "cell_type": "code",
      "source": [
        "# Diagonal matrix\n",
        "D = np.diag([2, -1, 3])\n",
        "print(D)"
      ],
      "metadata": {
        "colab": {
          "base_uri": "https://localhost:8080/"
        },
        "id": "ZEQ468Oq57w8",
        "outputId": "917916cd-be59-479b-8cbc-a52109feb35d"
      },
      "execution_count": null,
      "outputs": [
        {
          "output_type": "stream",
          "name": "stdout",
          "text": [
            "[[ 2  0  0]\n",
            " [ 0 -1  0]\n",
            " [ 0  0  3]]\n"
          ]
        }
      ]
    },
    {
      "cell_type": "markdown",
      "source": [
        "##### Reshaping"
      ],
      "metadata": {
        "id": "NlzdendsyoIf"
      }
    },
    {
      "cell_type": "code",
      "source": [
        "x = np.arange(1,10)\n",
        "x"
      ],
      "metadata": {
        "colab": {
          "base_uri": "https://localhost:8080/"
        },
        "id": "csqGEsPQ61TT",
        "outputId": "07760f7c-9fc0-4c7d-8338-39840c64d45a"
      },
      "execution_count": null,
      "outputs": [
        {
          "output_type": "execute_result",
          "data": {
            "text/plain": [
              "array([[1, 2, 3],\n",
              "       [4, 5, 6],\n",
              "       [7, 8, 9]])"
            ]
          },
          "metadata": {},
          "execution_count": 67
        }
      ]
    },
    {
      "cell_type": "code",
      "source": [
        "# Reshape\n",
        "x.reshape((3,3))"
      ],
      "metadata": {
        "colab": {
          "base_uri": "https://localhost:8080/"
        },
        "id": "dQSr1uPM7Qo9",
        "outputId": "d4300571-a153-48ce-a6ce-e987c913e53f"
      },
      "execution_count": null,
      "outputs": [
        {
          "output_type": "execute_result",
          "data": {
            "text/plain": [
              "array([[1, 2, 3],\n",
              "       [4, 5, 6],\n",
              "       [7, 8, 9]])"
            ]
          },
          "metadata": {},
          "execution_count": 68
        }
      ]
    },
    {
      "cell_type": "code",
      "source": [
        "# Reshape creates a new reshaped object\n",
        "x"
      ],
      "metadata": {
        "colab": {
          "base_uri": "https://localhost:8080/"
        },
        "id": "KGuPqf8e7TG8",
        "outputId": "02c2d3b4-5095-4918-b5bf-f295b04bbfb2"
      },
      "execution_count": null,
      "outputs": [
        {
          "output_type": "execute_result",
          "data": {
            "text/plain": [
              "array([1, 2, 3, 4, 5, 6, 7, 8, 9])"
            ]
          },
          "metadata": {},
          "execution_count": 69
        }
      ]
    },
    {
      "cell_type": "code",
      "source": [
        "# Resize reshapes inplace\n",
        "x.resize((3,3))\n",
        "x"
      ],
      "metadata": {
        "colab": {
          "base_uri": "https://localhost:8080/"
        },
        "id": "ucpymRWe7c7-",
        "outputId": "698ffd77-12b5-4f61-b7f2-d7822f7369c7"
      },
      "execution_count": null,
      "outputs": [
        {
          "output_type": "execute_result",
          "data": {
            "text/plain": [
              "array([[1, 2, 3],\n",
              "       [4, 5, 6],\n",
              "       [7, 8, 9]])"
            ]
          },
          "metadata": {},
          "execution_count": 72
        }
      ]
    },
    {
      "cell_type": "code",
      "source": [
        "# Reshapes to the initial dimension\n",
        "x.ravel()"
      ],
      "metadata": {
        "colab": {
          "base_uri": "https://localhost:8080/"
        },
        "id": "JEttEMKO78gE",
        "outputId": "149b61ce-32af-4bd9-b3b8-3bf3c6b6d945"
      },
      "execution_count": null,
      "outputs": [
        {
          "output_type": "execute_result",
          "data": {
            "text/plain": [
              "array([1, 2, 3, 4, 5, 6, 7, 8, 9])"
            ]
          },
          "metadata": {},
          "execution_count": 73
        }
      ]
    },
    {
      "cell_type": "code",
      "source": [
        "x.flatten()"
      ],
      "metadata": {
        "colab": {
          "base_uri": "https://localhost:8080/"
        },
        "id": "oKiOhnhp8wSM",
        "outputId": "50c46e88-2222-4b09-9267-07a8a60f0931"
      },
      "execution_count": null,
      "outputs": [
        {
          "output_type": "execute_result",
          "data": {
            "text/plain": [
              "array([1, 2, 3, 4, 5, 6, 7, 8, 9])"
            ]
          },
          "metadata": {},
          "execution_count": 79
        }
      ]
    },
    {
      "cell_type": "code",
      "source": [
        "# ravel and flaten do not modify the array (not inplace)\n",
        "x"
      ],
      "metadata": {
        "colab": {
          "base_uri": "https://localhost:8080/"
        },
        "id": "Bb4zJVm_8IwN",
        "outputId": "dd95714d-15cd-4ad3-9292-02d98af3f7c5"
      },
      "execution_count": null,
      "outputs": [
        {
          "output_type": "execute_result",
          "data": {
            "text/plain": [
              "array([[1, 2, 3],\n",
              "       [4, 5, 6],\n",
              "       [7, 8, 9]])"
            ]
          },
          "metadata": {},
          "execution_count": 80
        }
      ]
    },
    {
      "cell_type": "markdown",
      "source": [
        "#### Concatenation"
      ],
      "metadata": {
        "id": "5TfcbsQn9c1v"
      }
    },
    {
      "cell_type": "code",
      "source": [
        "M = np.array([[1, 2], [3, 4]])\n",
        "print(M)"
      ],
      "metadata": {
        "colab": {
          "base_uri": "https://localhost:8080/"
        },
        "id": "zOXAX2Fo_eQY",
        "outputId": "db2e4c85-e4c6-4f84-d3b2-6d2a430dc42f"
      },
      "execution_count": null,
      "outputs": [
        {
          "output_type": "stream",
          "name": "stdout",
          "text": [
            "[[1 2]\n",
            " [3 4]]\n"
          ]
        }
      ]
    },
    {
      "cell_type": "code",
      "source": [
        "N = np.array([[5, 6], [7, 8]])\n",
        "print(N)"
      ],
      "metadata": {
        "colab": {
          "base_uri": "https://localhost:8080/"
        },
        "id": "XIQ_AzgF_yWX",
        "outputId": "87fbb29f-9974-423b-a10b-db3e107dfdc1"
      },
      "execution_count": null,
      "outputs": [
        {
          "output_type": "stream",
          "name": "stdout",
          "text": [
            "[[5 6]\n",
            " [7 8]]\n"
          ]
        }
      ]
    },
    {
      "cell_type": "code",
      "source": [
        "# Concatenate M and N vertically\n",
        "print(np.concatenate((M, N)))"
      ],
      "metadata": {
        "colab": {
          "base_uri": "https://localhost:8080/"
        },
        "id": "Iqtfi3Go_32I",
        "outputId": "0e5f7c6d-5176-4cd0-f89e-f8b442cf2b6f"
      },
      "execution_count": null,
      "outputs": [
        {
          "output_type": "stream",
          "name": "stdout",
          "text": [
            "[[1 2]\n",
            " [3 4]\n",
            " [5 6]\n",
            " [7 8]]\n"
          ]
        }
      ]
    },
    {
      "cell_type": "code",
      "source": [
        "# Concatenate M and N horizontally\n",
        "print(np.concatenate((M, N), axis=1))"
      ],
      "metadata": {
        "colab": {
          "base_uri": "https://localhost:8080/"
        },
        "id": "hkRcUnUy__q9",
        "outputId": "66a21935-169a-4e75-9299-4f1ffb21adef"
      },
      "execution_count": null,
      "outputs": [
        {
          "output_type": "execute_result",
          "data": {
            "text/plain": [
              "array([[1, 2, 5, 6],\n",
              "       [3, 4, 7, 8]])"
            ]
          },
          "metadata": {},
          "execution_count": 86
        }
      ]
    },
    {
      "cell_type": "code",
      "source": [
        "# Another way to concatenate vertically\n",
        "print(np.vstack((M,N)))"
      ],
      "metadata": {
        "colab": {
          "base_uri": "https://localhost:8080/"
        },
        "id": "N6vRyzXZAaB-",
        "outputId": "dc913855-077a-4007-fda0-9274600a89fd"
      },
      "execution_count": null,
      "outputs": [
        {
          "output_type": "stream",
          "name": "stdout",
          "text": [
            "[[1 2]\n",
            " [3 4]\n",
            " [5 6]\n",
            " [7 8]]\n"
          ]
        }
      ]
    },
    {
      "cell_type": "code",
      "source": [
        "# Another way to concatenate horizontally\n",
        "print(np.hstack((M,N)))"
      ],
      "metadata": {
        "colab": {
          "base_uri": "https://localhost:8080/"
        },
        "id": "Sv8kIwiqAw8L",
        "outputId": "2f96de88-610a-4922-fa52-2e33d0d94907"
      },
      "execution_count": null,
      "outputs": [
        {
          "output_type": "stream",
          "name": "stdout",
          "text": [
            "[[1 2 5 6]\n",
            " [3 4 7 8]]\n"
          ]
        }
      ]
    },
    {
      "cell_type": "markdown",
      "source": [
        "#### Inexing and slicing"
      ],
      "metadata": {
        "id": "r90mvZVG-gJF"
      }
    },
    {
      "cell_type": "markdown",
      "source": [
        "One dimensional numpy arrays can be sliced exactly as a list (Check TP0 for details)."
      ],
      "metadata": {
        "id": "7x1nmxapB9b_"
      }
    },
    {
      "cell_type": "code",
      "source": [
        "M = np.array([[4,2,-2],[1,0,1],[6,-4,3]])\n",
        "print(M)"
      ],
      "metadata": {
        "colab": {
          "base_uri": "https://localhost:8080/"
        },
        "id": "04qrDriTB1h8",
        "outputId": "261bb8d4-42b6-458d-fc6d-210a35bcd619"
      },
      "execution_count": null,
      "outputs": [
        {
          "output_type": "stream",
          "name": "stdout",
          "text": [
            "[[ 4  2 -2]\n",
            " [ 1  0  1]\n",
            " [ 6 -4  3]]\n"
          ]
        }
      ]
    },
    {
      "cell_type": "code",
      "source": [
        "# Access to a specific items\n",
        "print(M[0,0])\n",
        "print(M[1,2])"
      ],
      "metadata": {
        "colab": {
          "base_uri": "https://localhost:8080/"
        },
        "id": "XCARwRqWCsPt",
        "outputId": "555cea3c-cb1e-441b-d652-ac5bb2226d92"
      },
      "execution_count": null,
      "outputs": [
        {
          "output_type": "stream",
          "name": "stdout",
          "text": [
            "4\n",
            "1\n"
          ]
        }
      ]
    },
    {
      "cell_type": "code",
      "source": [
        "# Another way to access to items\n",
        "print(M[0][0])\n",
        "print(M[1][2])"
      ],
      "metadata": {
        "colab": {
          "base_uri": "https://localhost:8080/"
        },
        "id": "0UvAeHvqC8Fa",
        "outputId": "2feb0bfa-64d1-4397-ad8d-d7e5b983912c"
      },
      "execution_count": null,
      "outputs": [
        {
          "output_type": "stream",
          "name": "stdout",
          "text": [
            "4\n",
            "1\n"
          ]
        }
      ]
    },
    {
      "cell_type": "code",
      "source": [
        "# Access to a specific line\n",
        "print(M[0,:])"
      ],
      "metadata": {
        "colab": {
          "base_uri": "https://localhost:8080/"
        },
        "id": "X2ty1bXpDee1",
        "outputId": "ee00d526-9d64-4f13-a754-1598c9478db9"
      },
      "execution_count": null,
      "outputs": [
        {
          "output_type": "stream",
          "name": "stdout",
          "text": [
            "[ 4  2 -2]\n"
          ]
        }
      ]
    },
    {
      "cell_type": "code",
      "source": [
        "# Access to a specific column\n",
        "print(M[:,0])"
      ],
      "metadata": {
        "colab": {
          "base_uri": "https://localhost:8080/"
        },
        "id": "fvowJ4jJDmCD",
        "outputId": "a0552a62-6dc9-4904-d510-733936ba3937"
      },
      "execution_count": null,
      "outputs": [
        {
          "output_type": "stream",
          "name": "stdout",
          "text": [
            "[4 1 6]\n"
          ]
        }
      ]
    },
    {
      "cell_type": "code",
      "source": [
        "# Access to a specific bloc\n",
        "print(M[1:,1:])"
      ],
      "metadata": {
        "colab": {
          "base_uri": "https://localhost:8080/"
        },
        "id": "41gn_wU8Dya5",
        "outputId": "186e52b2-23fb-4443-863f-c82e6d411db7"
      },
      "execution_count": null,
      "outputs": [
        {
          "output_type": "execute_result",
          "data": {
            "text/plain": [
              "array([[ 0,  1],\n",
              "       [-4,  3]])"
            ]
          },
          "metadata": {},
          "execution_count": 100
        }
      ]
    },
    {
      "cell_type": "code",
      "source": [
        "# Logical mask\n",
        "print(M < 2)"
      ],
      "metadata": {
        "colab": {
          "base_uri": "https://localhost:8080/"
        },
        "id": "xKzIhR0NEOVP",
        "outputId": "ebeccba6-fed9-4b06-93e7-a9edfca1a045"
      },
      "execution_count": null,
      "outputs": [
        {
          "output_type": "stream",
          "name": "stdout",
          "text": [
            "[[False False  True]\n",
            " [ True  True  True]\n",
            " [False  True False]]\n"
          ]
        }
      ]
    },
    {
      "cell_type": "markdown",
      "source": [
        "#### Algebraic operations"
      ],
      "metadata": {
        "id": "_isxOyj--lNc"
      }
    },
    {
      "cell_type": "code",
      "source": [
        "# Vectors definitions\n",
        "x = np.array([1, 3])\n",
        "y = np.array([4, 2])\n",
        "\n",
        "# Matrices definitions\n",
        "M = np.array([[1, -5], [-1, 4]])\n",
        "N = np.array([[2, 1], [-4, 6]])"
      ],
      "metadata": {
        "id": "zFwcpfzRFgVx"
      },
      "execution_count": null,
      "outputs": []
    },
    {
      "cell_type": "code",
      "source": [
        "# Vector addition\n",
        "print(x+y)"
      ],
      "metadata": {
        "colab": {
          "base_uri": "https://localhost:8080/"
        },
        "id": "Pshrgis9EmUT",
        "outputId": "e375b4f0-d271-4bb5-8381-25d391befa3b"
      },
      "execution_count": null,
      "outputs": [
        {
          "output_type": "stream",
          "name": "stdout",
          "text": [
            "[5 5]\n"
          ]
        }
      ]
    },
    {
      "cell_type": "code",
      "source": [
        "# Matrix addition\n",
        "print(M+N)"
      ],
      "metadata": {
        "colab": {
          "base_uri": "https://localhost:8080/"
        },
        "id": "JESYpX83GU_Q",
        "outputId": "2b521205-888d-45e0-fcbf-f63c7f84a0fd"
      },
      "execution_count": null,
      "outputs": [
        {
          "output_type": "stream",
          "name": "stdout",
          "text": [
            "[[ 3 -4]\n",
            " [-5 10]]\n"
          ]
        }
      ]
    },
    {
      "cell_type": "code",
      "source": [
        "# Another way to perform addition (true fro both vectors and matrices)\n",
        "print(np.add(M,N))"
      ],
      "metadata": {
        "colab": {
          "base_uri": "https://localhost:8080/"
        },
        "id": "u602_wfLHDmb",
        "outputId": "d2f14326-9549-4750-b7bc-806a5002bf4a"
      },
      "execution_count": null,
      "outputs": [
        {
          "output_type": "stream",
          "name": "stdout",
          "text": [
            "[[ 3 -4]\n",
            " [-5 10]]\n"
          ]
        }
      ]
    },
    {
      "cell_type": "code",
      "source": [
        "# Subtraction\n",
        "print(M-N)"
      ],
      "metadata": {
        "colab": {
          "base_uri": "https://localhost:8080/"
        },
        "id": "q8rmfN2FEtmT",
        "outputId": "2e73089e-cc1a-48b1-b2ad-6b1c405006d8"
      },
      "execution_count": null,
      "outputs": [
        {
          "output_type": "stream",
          "name": "stdout",
          "text": [
            "[[-1 -6]\n",
            " [ 3 -2]]\n"
          ]
        }
      ]
    },
    {
      "cell_type": "code",
      "source": [
        "# Another way to perform substraction\n",
        "print(np.subtract(M,N))"
      ],
      "metadata": {
        "colab": {
          "base_uri": "https://localhost:8080/"
        },
        "id": "04QFV4Q8Ha7W",
        "outputId": "e261cade-88b8-4d9c-eefe-0f1b86b9a736"
      },
      "execution_count": null,
      "outputs": [
        {
          "output_type": "stream",
          "name": "stdout",
          "text": [
            "[[-1 -6]\n",
            " [ 3 -2]]\n"
          ]
        }
      ]
    },
    {
      "cell_type": "code",
      "source": [
        "# Element wise product\n",
        "print(M*N)"
      ],
      "metadata": {
        "colab": {
          "base_uri": "https://localhost:8080/"
        },
        "id": "2lro12mHEvUT",
        "outputId": "d762fdb9-7eb6-4397-ce1e-ba81c9046248"
      },
      "execution_count": null,
      "outputs": [
        {
          "output_type": "stream",
          "name": "stdout",
          "text": [
            "[[ 2 -5]\n",
            " [ 4 24]]\n"
          ]
        }
      ]
    },
    {
      "cell_type": "code",
      "source": [
        "# Power (element wise power)\n",
        "print(M**2)"
      ],
      "metadata": {
        "colab": {
          "base_uri": "https://localhost:8080/"
        },
        "id": "MYJLKjc1E1in",
        "outputId": "07bafab3-b26d-4a15-cbc6-0f79b865fd6e"
      },
      "execution_count": null,
      "outputs": [
        {
          "output_type": "stream",
          "name": "stdout",
          "text": [
            "[[ 1 25]\n",
            " [ 1 16]]\n"
          ]
        }
      ]
    },
    {
      "cell_type": "code",
      "source": [
        "# Dot product\n",
        "x.dot(y)"
      ],
      "metadata": {
        "colab": {
          "base_uri": "https://localhost:8080/"
        },
        "id": "-pRlGBmZFDCF",
        "outputId": "25ab0b4c-003d-4277-a50a-a4c52fe8420b"
      },
      "execution_count": null,
      "outputs": [
        {
          "output_type": "execute_result",
          "data": {
            "text/plain": [
              "10"
            ]
          },
          "metadata": {},
          "execution_count": 131
        }
      ]
    },
    {
      "cell_type": "code",
      "source": [
        "# Matrix product\n",
        "print(M @ N)"
      ],
      "metadata": {
        "colab": {
          "base_uri": "https://localhost:8080/"
        },
        "id": "0BiGHnpowSCv",
        "outputId": "2731ba2b-e7cf-4646-89f4-466d0f9d6f5e"
      },
      "execution_count": null,
      "outputs": [
        {
          "output_type": "stream",
          "name": "stdout",
          "text": [
            "[[ 22 -29]\n",
            " [-18  23]]\n"
          ]
        }
      ]
    },
    {
      "cell_type": "code",
      "source": [
        "# Another way to perform matrix product\n",
        "print(M.dot(N))"
      ],
      "metadata": {
        "colab": {
          "base_uri": "https://localhost:8080/"
        },
        "id": "wEZ7iz9VKmQN",
        "outputId": "088a40b5-5be6-4b02-f6ae-43edd1affb8e"
      },
      "execution_count": null,
      "outputs": [
        {
          "output_type": "stream",
          "name": "stdout",
          "text": [
            "[[ 22 -29]\n",
            " [-18  23]]\n"
          ]
        }
      ]
    },
    {
      "cell_type": "code",
      "source": [
        "# Matrix vector product\n",
        "print(M @ x)"
      ],
      "metadata": {
        "colab": {
          "base_uri": "https://localhost:8080/"
        },
        "id": "Nlxa1U2eySVu",
        "outputId": "0d98ae07-4f6e-4807-c288-dd6b562fce7c"
      },
      "execution_count": null,
      "outputs": [
        {
          "output_type": "stream",
          "name": "stdout",
          "text": [
            "[-14  11]\n"
          ]
        }
      ]
    },
    {
      "cell_type": "code",
      "source": [
        "# Another way to perform matrix vector product\n",
        "print(M.dot(x))"
      ],
      "metadata": {
        "colab": {
          "base_uri": "https://localhost:8080/"
        },
        "id": "DTVgt-wlLxFm",
        "outputId": "de358dba-1809-4f8b-ad50-9ecd84a2ab65"
      },
      "execution_count": null,
      "outputs": [
        {
          "output_type": "stream",
          "name": "stdout",
          "text": [
            "[-14  11]\n"
          ]
        }
      ]
    },
    {
      "cell_type": "markdown",
      "source": [
        "## Exercices"
      ],
      "metadata": {
        "id": "kf6MZqdAAOt8"
      }
    },
    {
      "cell_type": "markdown",
      "source": [
        "### Exercice 1"
      ],
      "metadata": {
        "id": "crhPJJ4RAVux"
      }
    },
    {
      "cell_type": "markdown",
      "source": [
        "1. Create a matrix A and B of shape (5, 10), and a vector C of size 10, using the randn function from numpy."
      ],
      "metadata": {
        "id": "RJRc-f6_t02z"
      }
    },
    {
      "cell_type": "code",
      "source": [
        "# Answer"
      ],
      "metadata": {
        "id": "t4bgLSbCvype"
      },
      "execution_count": null,
      "outputs": []
    },
    {
      "cell_type": "markdown",
      "source": [
        "2. Compute the sum D and the subtraction F of matrices A and B. What is the shape of the obtained matrices?"
      ],
      "metadata": {
        "id": "JDnX2VCav1hh"
      }
    },
    {
      "cell_type": "code",
      "source": [
        "# Answer"
      ],
      "metadata": {
        "id": "TfofEZh2w4dv"
      },
      "execution_count": null,
      "outputs": []
    },
    {
      "cell_type": "markdown",
      "source": [
        "3. Compute the product of λ=10 and the vector C. What is the dimension of λC?"
      ],
      "metadata": {
        "id": "baRq4x9q-Nvm"
      }
    },
    {
      "cell_type": "code",
      "source": [
        "# Answer"
      ],
      "metadata": {
        "id": "bVuCjZHcv0PT"
      },
      "execution_count": null,
      "outputs": []
    },
    {
      "cell_type": "markdown",
      "source": [
        "4. Calculate the sum and the element-wise multiplication between C and F. What is the dimension of the outputs?"
      ],
      "metadata": {
        "id": "gX_WL2WDADse"
      }
    },
    {
      "cell_type": "code",
      "source": [
        "# Answer"
      ],
      "metadata": {
        "id": "5I8mF-p0v0Ri"
      },
      "execution_count": null,
      "outputs": []
    },
    {
      "cell_type": "markdown",
      "source": [
        "5. Calculate G, the dot product between C and F, and give the dimension of G. What is the difference between dot product and multiplication of vectors?"
      ],
      "metadata": {
        "id": "W0iMrdd7ALqz"
      }
    },
    {
      "cell_type": "code",
      "source": [
        "# Answer"
      ],
      "metadata": {
        "id": "itxLEQQTAoFz"
      },
      "execution_count": null,
      "outputs": []
    },
    {
      "cell_type": "markdown",
      "source": [
        "6. Calculate the sum and multiplication between F and B. Give the dimension of each result."
      ],
      "metadata": {
        "id": "yGcsZXcuAu2L"
      }
    },
    {
      "cell_type": "code",
      "source": [
        "# Answer"
      ],
      "metadata": {
        "id": "CR9uXJ2yAy5w"
      },
      "execution_count": null,
      "outputs": []
    },
    {
      "cell_type": "markdown",
      "source": [
        "7. Calculate the dot product between B and F (in this order). Give the dimension of the result."
      ],
      "metadata": {
        "id": "BqmBgn2wB1AW"
      }
    },
    {
      "cell_type": "code",
      "source": [
        "# Answer"
      ],
      "metadata": {
        "id": "4Y-yhK2aCn3P"
      },
      "execution_count": null,
      "outputs": []
    },
    {
      "cell_type": "markdown",
      "source": [
        "8. Calculate the dot product between F and B (in this order). If it works, give the dimension of the result; else propose a solution, and give the dimension of the result."
      ],
      "metadata": {
        "id": "ErKhZlZYCWe3"
      }
    },
    {
      "cell_type": "code",
      "source": [
        "# Answer"
      ],
      "metadata": {
        "id": "8hLGkNmkCzOc"
      },
      "execution_count": null,
      "outputs": []
    },
    {
      "cell_type": "markdown",
      "source": [
        "9. Calculate I the dot product between A and B. Give the dimension of I."
      ],
      "metadata": {
        "id": "jpbNwvLVCqyN"
      }
    },
    {
      "cell_type": "code",
      "source": [
        "# Answer"
      ],
      "metadata": {
        "id": "yXS0eayGCyY3"
      },
      "execution_count": null,
      "outputs": []
    },
    {
      "cell_type": "markdown",
      "source": [
        "10. Give the detiminant of I."
      ],
      "metadata": {
        "id": "Mohli4PqC6YD"
      }
    },
    {
      "cell_type": "code",
      "source": [
        "# Answer"
      ],
      "metadata": {
        "id": "KLaF1xBeDCuW"
      },
      "execution_count": null,
      "outputs": []
    },
    {
      "cell_type": "markdown",
      "source": [
        "11. Give J the Inverse of I, if I is inversible."
      ],
      "metadata": {
        "id": "pC1PV_0CDEvJ"
      }
    },
    {
      "cell_type": "code",
      "source": [
        "# Answer"
      ],
      "metadata": {
        "id": "ofs-f4ARDel3"
      },
      "execution_count": null,
      "outputs": []
    },
    {
      "cell_type": "markdown",
      "source": [
        "12. Decompose the matrix I using eigendecomposition method."
      ],
      "metadata": {
        "id": "rnZfU2i_DQOV"
      }
    },
    {
      "cell_type": "code",
      "source": [
        "# Answer"
      ],
      "metadata": {
        "id": "e1mDaZU7DW6O"
      },
      "execution_count": null,
      "outputs": []
    },
    {
      "cell_type": "markdown",
      "source": [
        "13. Decompose the matrix I using svd method"
      ],
      "metadata": {
        "id": "M_gCm_J6DYNJ"
      }
    },
    {
      "cell_type": "code",
      "source": [
        "# Answer"
      ],
      "metadata": {
        "id": "p2EcgbkuDcwT"
      },
      "execution_count": null,
      "outputs": []
    },
    {
      "cell_type": "markdown",
      "source": [
        "### Exercice 2: Power iteration method"
      ],
      "metadata": {
        "id": "iNdK43PzAf6g"
      }
    },
    {
      "cell_type": "markdown",
      "source": [
        "The objective of this excercice is to compute the eigenvector of a matrix associated to its largest eigenvector using the power iteration method: Given a squared matrix $A$ of shape $n\\times n$ and a vector $x_0\\in\\mathbb{R}^n$, then the sequence of vectors $(x_k)_{k\\in\\mathbb{N}}$ defined as:\n",
        "$$\n",
        "x_{k+1}=\\frac{Ax_k}{\\Vert A x_k\\Vert},\n",
        "$$\n",
        "converges to the largest eigenvector in absolute value (we admit this result).\n",
        "  "
      ],
      "metadata": {
        "id": "-lew3ccDDUuG"
      }
    },
    {
      "cell_type": "markdown",
      "source": [
        "1. Define a function ```power_iteration(A, x0, k)``` that returns $x_k$.\n",
        "\n"
      ],
      "metadata": {
        "id": "1B2gdfwxGgX8"
      }
    },
    {
      "cell_type": "code",
      "source": [
        "# Answer\n"
      ],
      "metadata": {
        "id": "f01iWtOoHzzR"
      },
      "execution_count": null,
      "outputs": []
    },
    {
      "cell_type": "markdown",
      "source": [
        "2. Using the function ```power_iteration```, compute the largest eigenvector of the matrix\n",
        "$$\n",
        "A = \\begin{bmatrix} 0.5 & 0.5\\\\ 0.2 & 0.8 \\end{bmatrix}\n",
        "$$"
      ],
      "metadata": {
        "id": "ayJnFSiQH5WB"
      }
    },
    {
      "cell_type": "code",
      "source": [
        "# Answer\n"
      ],
      "metadata": {
        "id": "-IoDqHikH5u_"
      },
      "execution_count": null,
      "outputs": []
    },
    {
      "cell_type": "markdown",
      "source": [
        "3. Compute the eigen value associated to this vector.\n",
        "***Indication:*** If $v$ is a normalized eigenvector of $A$, then its associated eigenvalue is given by $λ=Av⋅v$"
      ],
      "metadata": {
        "id": "9uVj_i8jJjyy"
      }
    },
    {
      "cell_type": "code",
      "source": [
        "# Answer\n"
      ],
      "metadata": {
        "id": "RCxqvVXfKmph"
      },
      "execution_count": null,
      "outputs": []
    },
    {
      "cell_type": "markdown",
      "source": [
        "4. Adapt the function ```power_iteration``` such that it allows to compute the largest eigenvalue with its associated eigenvector of a matrix given precision value."
      ],
      "metadata": {
        "id": "zP9Mwnk1KpAA"
      }
    },
    {
      "cell_type": "code",
      "source": [
        "# Answer\n"
      ],
      "metadata": {
        "id": "uYJ3RN5vLXVM"
      },
      "execution_count": null,
      "outputs": []
    },
    {
      "cell_type": "markdown",
      "source": [
        "5. Compare the execution times of the previous script and the numpy function for matrices of shape $n\\times n$ with $n\\in \\{10, 100, 1000\\}$   "
      ],
      "metadata": {
        "id": "DpjUjhXiL7TF"
      }
    },
    {
      "cell_type": "code",
      "source": [
        "# Answer\n"
      ],
      "metadata": {
        "id": "DS2OQEIGNNn3"
      },
      "execution_count": null,
      "outputs": []
    },
    {
      "cell_type": "markdown",
      "source": [
        "### Exercice 3"
      ],
      "metadata": {
        "id": "HoYFg77DFX3H"
      }
    },
    {
      "cell_type": "markdown",
      "source": [
        "Let $A$ be a matrix and $b$ a vector defined by:\n",
        "\n",
        "```\n",
        "M = np.random.randn(3, 3)\n",
        "A = M + M.T\n",
        "b = np.random.rand(3)\n",
        "```\n",
        "\n"
      ],
      "metadata": {
        "id": "P_VPQwnvLepr"
      }
    },
    {
      "cell_type": "markdown",
      "source": [
        "Solve the linear system $Ax=b$ with two different methods"
      ],
      "metadata": {
        "id": "yyxqssAtNQoB"
      }
    },
    {
      "cell_type": "markdown",
      "source": [
        "### Exercise 4"
      ],
      "metadata": {
        "id": "-fem3kzNoVd7"
      }
    },
    {
      "cell_type": "markdown",
      "source": [
        "\n",
        "Write a Python program that performs the following tasks:\n",
        "\n",
        "1. Generate a random vector in 3D space.<br>\n",
        "2. Choose a target subspace by specifying a basis (orthonormal vectors) for the subspace.<br>\n",
        "3. Project the random vector onto the target subspace to find its orthogonal projection.<br>\n",
        "4. Calculate the residual vector as the difference between the original vector and its projection.<br>\n",
        "5. Verify that the projection and residual vectors are orthogonal."
      ],
      "metadata": {
        "id": "UDfzPsEpoYU8"
      }
    },
    {
      "cell_type": "markdown",
      "source": [
        "### Exercice 4: Orthogonal Projections\n",
        "\n"
      ],
      "metadata": {
        "id": "EN5ZC5mbDip_"
      }
    },
    {
      "cell_type": "markdown",
      "source": [
        "The objectif of the exercice is to compute the orthogonal projection of a vector into a given subspace. We let be $x\\in \\mathbb{R}^{n}$, $E\\subset\\mathbb{R}^{n}$ a subspace of dimension $p$, and $B=\\{e_1, ⋯,e_{p} \\}$ an orthonormal basis of $E$. Then, the orthogonal projection of the vector $x$ on $E$ is given by\n",
        "$$\n",
        "p_E(x) = \\sum_{i=1}^{p} <x,e_i>e_i\n",
        "$$\n",
        "\n",
        "In a more general case, given the matrix $A$ the projection matrix is given by\n",
        "$$\n",
        "P = A(A^tA)^{-1}A^t\n",
        "$$\n",
        "The projection matrix verifies the following properties:\n",
        "\n",
        "\n",
        "1.   $P$ is a squared matrix.\n",
        "2.   Symmetry $P^t=P$.\n",
        "3.   $P$ is idempotent: $P^2= P$.\n"
      ],
      "metadata": {
        "id": "edV19BbREB9k"
      }
    },
    {
      "cell_type": "markdown",
      "source": [
        "1. Define a function ```is_orthonormal(A)``` that takes as parameters the matrix $A$ of wich the columns corresponds to the basis vectors of the target subspace and returns  ```True``` if the basis is orthonormal ```False``` otherwise."
      ],
      "metadata": {
        "id": "X_IpdN_HFzTk"
      }
    },
    {
      "cell_type": "code",
      "source": [
        "# Answer\n"
      ],
      "metadata": {
        "id": "4SL_lzx0EAwU"
      },
      "execution_count": null,
      "outputs": []
    },
    {
      "cell_type": "markdown",
      "source": [
        "2. Define a function ```project(B,x)``` that takes as parameters a vector $x\\in \\mathbb{R}^{n}$ and ```B``` a list of vectors of the basis $B$."
      ],
      "metadata": {
        "id": "d7SIzOqAOxI4"
      }
    },
    {
      "cell_type": "code",
      "source": [
        "# Answer\n"
      ],
      "metadata": {
        "id": "oexGLRCWOwZg"
      },
      "execution_count": null,
      "outputs": []
    },
    {
      "cell_type": "markdown",
      "source": [
        "3. Let $E$ the subspace spanned by the basis $B = \\left\\{\\left(\\frac{1}{\\sqrt{2}},\\frac{1}{\\sqrt{2}},0\\right)^t,\\left(\\frac{1}{\\sqrt{3}},-\\frac{1}{\\sqrt{3}},\\frac{1}{\\sqrt{3}}\\right)^t\\right\\}$. Verify that the basis is orthonormal."
      ],
      "metadata": {
        "id": "aIpGMy19dhr1"
      }
    },
    {
      "cell_type": "code",
      "source": [
        "# Answer\n"
      ],
      "metadata": {
        "id": "YWt_DVm9jVRg"
      },
      "execution_count": null,
      "outputs": []
    },
    {
      "cell_type": "markdown",
      "source": [
        "4. Generate a three dimensional vector (i.e., n=3). And compute its projection on $E$.  "
      ],
      "metadata": {
        "id": "_Ffqv8ElLWj5"
      }
    },
    {
      "cell_type": "code",
      "source": [
        "# Answer\n"
      ],
      "metadata": {
        "id": "Lc4dsGabLU_F"
      },
      "execution_count": null,
      "outputs": []
    },
    {
      "cell_type": "markdown",
      "source": [
        "5. Let be $E$ the subspace spanned by $B=\\left\\{ (0,1,1)^t,(1,-1,1)^t \\right\\}$, and $x=(1,2,-1)^t$. Compute the projection matrix $P$ and verify numerically that it satisfies the three properties listed above."
      ],
      "metadata": {
        "id": "RMYn1ioXus-8"
      }
    },
    {
      "cell_type": "code",
      "source": [
        "# Answer\n"
      ],
      "metadata": {
        "id": "qFxb7t2Vw1VU"
      },
      "execution_count": null,
      "outputs": []
    },
    {
      "cell_type": "markdown",
      "source": [
        "6. Compute the projection of $x$ on $E$."
      ],
      "metadata": {
        "id": "xA4nWozuw3bh"
      }
    },
    {
      "cell_type": "code",
      "source": [
        "# Answer\n"
      ],
      "metadata": {
        "id": "KwDzVcK6w7NZ"
      },
      "execution_count": null,
      "outputs": []
    },
    {
      "cell_type": "markdown",
      "source": [
        "### Exercise 5: Diagonalization of symmetric Matrices"
      ],
      "metadata": {
        "id": "BgSLcUwjo4Dm"
      }
    },
    {
      "cell_type": "markdown",
      "source": [
        "\n",
        "The objective of this exercice is to omplement a Python program that demonstrates the diagonalization of a symmetric matrix:\n",
        "\n",
        "1. Generate a random symmetric matrix of a specified size.<br>\n",
        "\n"
      ],
      "metadata": {
        "id": "kWK8QCjCo6Cd"
      }
    },
    {
      "cell_type": "code",
      "source": [
        "# Answer\n"
      ],
      "metadata": {
        "id": "LTxzINxPyKhs"
      },
      "execution_count": null,
      "outputs": []
    },
    {
      "cell_type": "markdown",
      "source": [
        "2. Compute the eigenvalues and eigenvectors of the symmetric matrix."
      ],
      "metadata": {
        "id": "1H6kqz-7xouk"
      }
    },
    {
      "cell_type": "code",
      "source": [
        "# Answer\n"
      ],
      "metadata": {
        "id": "d6VWRH8hxi_O"
      },
      "execution_count": null,
      "outputs": []
    },
    {
      "cell_type": "markdown",
      "source": [
        "3. Verify that the eigenvectors are orthogonal."
      ],
      "metadata": {
        "id": "_c8HmJBQxqtY"
      }
    },
    {
      "cell_type": "code",
      "source": [
        "# Answer\n"
      ],
      "metadata": {
        "id": "3UJ-ubNXxqtZ"
      },
      "execution_count": null,
      "outputs": []
    },
    {
      "cell_type": "markdown",
      "source": [
        "4. Construct a diagonal matrix using the eigenvalues."
      ],
      "metadata": {
        "id": "I-KOh5XMxrE6"
      }
    },
    {
      "cell_type": "code",
      "source": [
        "# Answer\n"
      ],
      "metadata": {
        "id": "O4cclSYvxrE7"
      },
      "execution_count": null,
      "outputs": []
    },
    {
      "cell_type": "markdown",
      "source": [
        "5. Reconstruct the original matrix using eigenvectors and the diagonal matrix."
      ],
      "metadata": {
        "id": "G3MLM3ObxrbI"
      }
    },
    {
      "cell_type": "code",
      "source": [
        "# Answer\n"
      ],
      "metadata": {
        "id": "mOsO6j13xrbJ"
      },
      "execution_count": null,
      "outputs": []
    },
    {
      "cell_type": "markdown",
      "source": [
        "### Exercise 6:\n",
        "1. Define a class Squared_matrix that inherits from the class ```np.matrix``` with the attribute values which corresponds to the squared matrix, and a constructor that instanciates the classe (it should return an error message if the matrix is not squared) and an ```__str()__``` that prints the matrix."
      ],
      "metadata": {
        "id": "FGholwq5EVxT"
      }
    },
    {
      "cell_type": "code",
      "source": [
        "# Answer\n"
      ],
      "metadata": {
        "id": "IECoSajHH42Z"
      },
      "execution_count": null,
      "outputs": []
    },
    {
      "cell_type": "markdown",
      "source": [
        "2. Define a method:\n",
        "* ```rank()``` that returns the rank of the matrix.  \n",
        "* ```is_invertible```that returns a boolean (```True``` if the matrix is invertible ```False``` otherwise).\n",
        "* ```inverse()``` that returns the inverse of the matrix when possible.\n",
        "* ```eigenvalues()``` and ```eigenvectors``` that return the eigenvalues and eigenvectors of the matrix."
      ],
      "metadata": {
        "id": "Tg1kRTErH51N"
      }
    },
    {
      "cell_type": "code",
      "source": [
        "# Answer\n"
      ],
      "metadata": {
        "id": "H7qaDWPhH_MP"
      },
      "execution_count": null,
      "outputs": []
    },
    {
      "cell_type": "markdown",
      "source": [
        "3. Given a squared matrix $A$, we recall the definition of some norms:\n",
        "\n",
        "$$\n",
        "\\begin{align*}\n",
        "&||A||_F \\, = \\sqrt{\\sum_{i=1}^n\\sum_{j=1}^n a^2_{i,j}} = \\sqrt{tr(A^tA)},  \\\\\n",
        "&||A||_1 \\,\\, = \\max_{1\\leq j\\leq n} \\sum_{i=1}^{n}|a_{i,j}|, \\\\\n",
        "&||A||_2 \\,\\, = \\sqrt{\\rho(A^tA)}, \\\\\n",
        "&||A||_\\infty = \\max_{1\\leq i\\leq n} \\sum_{j=1}^{n}|a_{i,j}|,\n",
        "\\end{align*}\n",
        "$$\n",
        "where $\\rho(\\cdot)$ design the spectral radius, i.e., the largest (in absolute value) eigenvalue of a matrix. Define the method ```norm_f(ind)``` that returns the norm given the indice ```ind``` (the indice is a string with possible values: ```\"F\"```,```\"1\"```,```\"2\"```, and ```\"inf\"```).\n"
      ],
      "metadata": {
        "id": "wMLsrKMUH_5Y"
      }
    },
    {
      "cell_type": "code",
      "source": [
        "# Answer\n"
      ],
      "metadata": {
        "id": "P2HBHg42IGHU"
      },
      "execution_count": null,
      "outputs": []
    },
    {
      "cell_type": "markdown",
      "source": [
        "# TP 2: Probability"
      ],
      "metadata": {
        "id": "F-tIxDsUZOXm"
      }
    },
    {
      "cell_type": "markdown",
      "source": [
        "## Recalls"
      ],
      "metadata": {
        "id": "Yf7qkrWBZcrS"
      }
    },
    {
      "cell_type": "markdown",
      "source": [
        "### Random sampling"
      ],
      "metadata": {
        "id": "WUHvsvB-RcKB"
      }
    },
    {
      "cell_type": "markdown",
      "source": [
        "Numpy offers several routines to generate easily uniform and normal random samples:\n",
        "\n"
      ],
      "metadata": {
        "id": "553OnL4KRyQB"
      }
    },
    {
      "cell_type": "code",
      "source": [
        "import numpy as np\n",
        "import numpy.random as rdm"
      ],
      "metadata": {
        "id": "Hm0HEaTcRhjD"
      },
      "execution_count": null,
      "outputs": []
    },
    {
      "cell_type": "code",
      "source": [
        "np.set_printoptions(precision=2)\n",
        "rdm.rand(2, 2)  # Uniform sampling"
      ],
      "metadata": {
        "colab": {
          "base_uri": "https://localhost:8080/"
        },
        "id": "l3MWECdASBVK",
        "outputId": "27237ab4-5b36-471f-ba8c-fee57bbb7ce5"
      },
      "execution_count": null,
      "outputs": [
        {
          "output_type": "execute_result",
          "data": {
            "text/plain": [
              "array([[0.76, 0.39],\n",
              "       [0.6 , 0.19]])"
            ]
          },
          "metadata": {},
          "execution_count": 2
        }
      ]
    },
    {
      "cell_type": "code",
      "source": [
        "rdm.randn(2,2) # Standard normal sampling"
      ],
      "metadata": {
        "colab": {
          "base_uri": "https://localhost:8080/"
        },
        "id": "jtJbAe6XSPAQ",
        "outputId": "464ae1f4-b517-447b-8b6e-81424205a9c8"
      },
      "execution_count": null,
      "outputs": [
        {
          "output_type": "execute_result",
          "data": {
            "text/plain": [
              "array([[-0.79,  0.37],\n",
              "       [-1.62, -0.41]])"
            ]
          },
          "metadata": {},
          "execution_count": 3
        }
      ]
    },
    {
      "cell_type": "code",
      "source": [
        "rdm.randint(0, 8, size=(2, 2))  # Discrete uniform sampling (8 exclusive)"
      ],
      "metadata": {
        "colab": {
          "base_uri": "https://localhost:8080/"
        },
        "id": "46B_Fz9ySe0w",
        "outputId": "a2eda10c-cbb0-48c3-80be-cc7285208e0d"
      },
      "execution_count": null,
      "outputs": [
        {
          "output_type": "execute_result",
          "data": {
            "text/plain": [
              "array([[1, 0],\n",
              "       [2, 4]])"
            ]
          },
          "metadata": {},
          "execution_count": 6
        }
      ]
    },
    {
      "cell_type": "code",
      "source": [
        "T = rdm.rand(10)\n",
        "T"
      ],
      "metadata": {
        "colab": {
          "base_uri": "https://localhost:8080/"
        },
        "id": "KL-n9c9DS5YB",
        "outputId": "5cb91720-0a19-444c-9104-61e60176a06d"
      },
      "execution_count": null,
      "outputs": [
        {
          "output_type": "execute_result",
          "data": {
            "text/plain": [
              "array([0.18, 0.69, 0.02, 0.27, 0.04, 0.99, 0.73, 0.92, 0.86, 0.19])"
            ]
          },
          "metadata": {},
          "execution_count": 8
        }
      ]
    },
    {
      "cell_type": "code",
      "source": [
        "rdm.choice(T, size=5) # Select randomly 5 elements from T"
      ],
      "metadata": {
        "colab": {
          "base_uri": "https://localhost:8080/"
        },
        "id": "jGyAzhTsTPm6",
        "outputId": "694c8788-0839-480d-9984-7cb5bb8019dc"
      },
      "execution_count": null,
      "outputs": [
        {
          "output_type": "execute_result",
          "data": {
            "text/plain": [
              "array([0.92, 0.73, 0.73, 0.04, 0.86])"
            ]
          },
          "metadata": {},
          "execution_count": 9
        }
      ]
    },
    {
      "cell_type": "markdown",
      "source": [
        "### Random generators"
      ],
      "metadata": {
        "id": "2FsRSTJwUWj0"
      }
    },
    {
      "cell_type": "markdown",
      "source": [
        "Random generators used in scientific computing are in fact pseudo-random generators. As a consequence, the practitioner is able to control them. This is used for reproducibility in science.\n",
        "\n"
      ],
      "metadata": {
        "id": "w9AYxhIQUcEl"
      }
    },
    {
      "cell_type": "code",
      "source": [
        "# Without fixed seed\n",
        "for i in range(5):\n",
        "  print(\"Iteration: {}, sample: {}\".format(i,rdm.rand(10)))"
      ],
      "metadata": {
        "colab": {
          "base_uri": "https://localhost:8080/"
        },
        "id": "5u3vAp9LVb92",
        "outputId": "f06f6dc2-952f-4077-f4df-661b7cad00e9"
      },
      "execution_count": null,
      "outputs": [
        {
          "output_type": "stream",
          "name": "stdout",
          "text": [
            "Iteration: 0, sample: [0.39 0.27 0.83 0.36 0.28 0.54 0.14 0.8  0.07 0.99]\n",
            "Iteration: 1, sample: [0.77 0.2  0.01 0.82 0.71 0.73 0.77 0.07 0.36 0.12]\n",
            "Iteration: 2, sample: [0.86 0.62 0.33 0.06 0.31 0.33 0.73 0.64 0.89 0.47]\n",
            "Iteration: 3, sample: [0.12 0.71 0.76 0.56 0.77 0.49 0.52 0.43 0.03 0.11]\n",
            "Iteration: 4, sample: [0.03 0.64 0.31 0.51 0.91 0.25 0.41 0.76 0.23 0.08]\n"
          ]
        }
      ]
    },
    {
      "cell_type": "code",
      "source": [
        "# With fixed seed\n",
        "for i in range(5):\n",
        "  rdm.seed(42) # set the seed\n",
        "  print(\"Iteration: {}, sample: {}\".format(i,rdm.rand(10)))"
      ],
      "metadata": {
        "colab": {
          "base_uri": "https://localhost:8080/"
        },
        "id": "8IUfvLPqUzww",
        "outputId": "bd516e78-2638-4fa4-f922-4f166f8f822e"
      },
      "execution_count": null,
      "outputs": [
        {
          "output_type": "stream",
          "name": "stdout",
          "text": [
            "Iteration: 0, sample: [0.37 0.95 0.73 0.6  0.16 0.16 0.06 0.87 0.6  0.71]\n",
            "Iteration: 1, sample: [0.37 0.95 0.73 0.6  0.16 0.16 0.06 0.87 0.6  0.71]\n",
            "Iteration: 2, sample: [0.37 0.95 0.73 0.6  0.16 0.16 0.06 0.87 0.6  0.71]\n",
            "Iteration: 3, sample: [0.37 0.95 0.73 0.6  0.16 0.16 0.06 0.87 0.6  0.71]\n",
            "Iteration: 4, sample: [0.37 0.95 0.73 0.6  0.16 0.16 0.06 0.87 0.6  0.71]\n"
          ]
        }
      ]
    },
    {
      "cell_type": "markdown",
      "source": [
        "### Distributions"
      ],
      "metadata": {
        "id": "VV0UPLdvWUCX"
      }
    },
    {
      "cell_type": "markdown",
      "source": [
        "Sampling from the common distribution may be performed using [scipy.stats](https://scipy.github.io/devdocs/reference/stats.html) functions."
      ],
      "metadata": {
        "id": "fECMiLj7X5lx"
      }
    },
    {
      "cell_type": "code",
      "source": [
        "from scipy.stats import poisson\n",
        "lam = 5.6\n",
        "sample = poisson.rvs(lam, size = 10) # generate a sample of size 10 from the poisson distribution with parameter 5.6\n",
        "sample"
      ],
      "metadata": {
        "colab": {
          "base_uri": "https://localhost:8080/"
        },
        "id": "j5i-A4-EbuKz",
        "outputId": "9fc7bd5a-e06c-4a8a-afd5-4c5ec0e563b4"
      },
      "execution_count": null,
      "outputs": [
        {
          "output_type": "execute_result",
          "data": {
            "text/plain": [
              "array([4, 6, 8, 5, 5, 1, 6, 4, 8, 4])"
            ]
          },
          "metadata": {},
          "execution_count": 30
        }
      ]
    },
    {
      "cell_type": "markdown",
      "source": [
        "## Exercices"
      ],
      "metadata": {
        "id": "gSHR4qZQeG_W"
      }
    },
    {
      "cell_type": "markdown",
      "source": [
        "### Exercice 1"
      ],
      "metadata": {
        "id": "Td6b6UwzRnj1"
      }
    },
    {
      "cell_type": "markdown",
      "source": [
        "The empirical mean is an estimator of the theoretical mean. The objective of this exercice is to verify the quality of this estimator empirically.  "
      ],
      "metadata": {
        "id": "4fPbmo6OShju"
      }
    },
    {
      "cell_type": "markdown",
      "source": [
        "1. Generate a sample of size $n=20$ from the normal distribitution $\\mathcal{N}(10,1)$, compute the empirical mean and compare it to the theoretical one."
      ],
      "metadata": {
        "id": "PAyistg_bnA8"
      }
    },
    {
      "cell_type": "code",
      "source": [
        "# Answer\n"
      ],
      "metadata": {
        "id": "x2a3R8FucPMf"
      },
      "execution_count": null,
      "outputs": []
    },
    {
      "cell_type": "markdown",
      "source": [
        "2. Repeate many times the same instruction and verify if the empirical mean is stable with the different sample."
      ],
      "metadata": {
        "id": "AVM1_Nn5cVn4"
      }
    },
    {
      "cell_type": "code",
      "source": [
        " # Answer\n"
      ],
      "metadata": {
        "id": "35cdk5hNc0mY"
      },
      "execution_count": null,
      "outputs": []
    },
    {
      "cell_type": "markdown",
      "source": [
        "3. Do the same by considering the normal distribution $\\mathcal{N}(10,10)$ and comment the results."
      ],
      "metadata": {
        "id": "r0a2bv_xc9ZL"
      }
    },
    {
      "cell_type": "code",
      "source": [
        "# Answer\n"
      ],
      "metadata": {
        "id": "x-LM6iXXc7mP"
      },
      "execution_count": null,
      "outputs": []
    },
    {
      "cell_type": "markdown",
      "source": [
        "4. Compute the skewness coefficient for the samples of different sizes generated form normal distributions with different parameters. Comment the results.  "
      ],
      "metadata": {
        "id": "ITvBAFDffWbV"
      }
    },
    {
      "cell_type": "code",
      "source": [
        "# Answer\n"
      ],
      "metadata": {
        "id": "_b-SrXI4hLhI"
      },
      "execution_count": null,
      "outputs": []
    },
    {
      "cell_type": "markdown",
      "source": [
        "5. Same question for the Kurtosis coefficient."
      ],
      "metadata": {
        "id": "rHtW8NZkhPKR"
      }
    },
    {
      "cell_type": "markdown",
      "source": [
        "### Exercice 2"
      ],
      "metadata": {
        "id": "35XDVpBrjjZl"
      }
    },
    {
      "cell_type": "markdown",
      "source": [
        "Let $X_1,\\,X_2,\\,⋯$ be independant random variables that follow the same normal distribution $\\mathcal{N}(0,1)$ distribution. We let $Y_n = \\sum_{k=1}^n X_k^2$. Then, $Y_n$ follows the [chi-squared distribution](https://en.wikipedia.org/wiki/Chi-squared_distribution) (denoted by $χ_{n}^{2}$) with $n$ degrees of freedom. The central limit theorem states that\n",
        "$$\n",
        "\\frac{1}{\\sqrt{2n}}(Y_n - n)⟶ \\mathcal{N}(0,1), \\quad n⟶\\infty.\n",
        "$$  \n",
        "Hence, the random variable $Y_n$ approximates the normal distribution $\\mathcal{N}(n,2n)$ (i.e., $χ_{n}^{2}≈\\mathcal{N}(n,2n)$ when $n$ is too large). The obejctive of this exercice is to empirically verify this approximation.\n",
        "\n",
        "1. For $n\\in\\{1, 10, 100, 1000\\}$ generate a sample of size $1000$ from the $χ_{n}^{2}$ distribution. Compare the empirical mean of the sample to the theoretical mean $\\mathcal{N}(n,2n)$. Comment the results."
      ],
      "metadata": {
        "id": "H9_Of6HMkP_n"
      }
    },
    {
      "cell_type": "code",
      "source": [
        "# Answer\n"
      ],
      "metadata": {
        "id": "uD6J5XDLteAp"
      },
      "execution_count": null,
      "outputs": []
    },
    {
      "cell_type": "markdown",
      "source": [
        "2. Same question for the empirical variance, skewness and Kurtosis."
      ],
      "metadata": {
        "id": "GbfxHU3otV2x"
      }
    },
    {
      "cell_type": "code",
      "source": [
        "# Answer\n"
      ],
      "metadata": {
        "id": "yaAKz01At0xA"
      },
      "execution_count": null,
      "outputs": []
    },
    {
      "cell_type": "markdown",
      "source": [
        "### Exercice 3"
      ],
      "metadata": {
        "id": "pC4QtaYb18Ug"
      }
    },
    {
      "cell_type": "markdown",
      "source": [
        "Consider a player playing to heads or tails game (flipping the coin). The objective of this exercice is to simulate the evolution of the amount of money of the player. The player wins $1$€ if the result is tails, and loses $1$€ if it's heads. We denote by $p$ the probability of obtaining tails. The amount of money of the player at time $t$ is given by\n",
        "$$\n",
        "S_t = \\begin{cases}\n",
        "\t\t\t0, & \\text{if $S_{t-1}=0$,}\\\\\n",
        "            S_{t-1}+X_t, & \\text{if $S_{t-1}\\geq 1$,}\n",
        "\t\t \\end{cases}\n",
        "$$\n",
        "where $(X_t)_{t\\geq 1}$ are i.i.d random variable such that $\\mathbb{P}(X_t = 1) = p$"
      ],
      "metadata": {
        "id": "S-zjX6N73kWm"
      }
    },
    {
      "cell_type": "markdown",
      "source": [
        "1. Define a function ```simulate(p, a, n)``` that generate a simulation of length $n$ of the process with $S_0=a$, i.e., the function returns the sequence $(S_0, S_1, ⋯, S_n)$."
      ],
      "metadata": {
        "id": "B9A9qT287EKI"
      }
    },
    {
      "cell_type": "code",
      "source": [
        "# Answer\n"
      ],
      "metadata": {
        "id": "t3vTIRY19Wvi"
      },
      "execution_count": null,
      "outputs": []
    },
    {
      "cell_type": "markdown",
      "source": [
        "2. Perform different scenarios and represent them graphically.   "
      ],
      "metadata": {
        "id": "EnawtdEi9rAu"
      }
    },
    {
      "cell_type": "code",
      "source": [
        "# Answer\n"
      ],
      "metadata": {
        "id": "ccL5vPls990P"
      },
      "execution_count": null,
      "outputs": []
    },
    {
      "cell_type": "markdown",
      "source": [
        "3. Simulate a case where the player starts with an amount $a$ and plays until loosing all his money or obtaining an amount $n\\geq a$."
      ],
      "metadata": {
        "id": "jetMVcQh-BHf"
      }
    },
    {
      "cell_type": "code",
      "source": [
        "# Answer\n"
      ],
      "metadata": {
        "id": "79Nbhxl7-giN"
      },
      "execution_count": null,
      "outputs": []
    },
    {
      "cell_type": "markdown",
      "source": [
        "4. We denote by $T$ the random variables that models the time when the game stops (i.e., when $S_T = 0 \\text{ or } S_T = n$). Verify using simulations that the mean time of a game is given by\n",
        "\n",
        "$$\n",
        "\\mathbb{E}(T) = \\begin{cases}\n",
        "\t\t\ta(n-a), & \\text{if $p=1/2$,}\\\\\n",
        "            \\frac{n}{2p-1}\\frac{1 - ρ^a}{1-\\rho^n}-\\frac{a}{2p-1}, & \\text{if $p\\neq1/2$,}\n",
        "\t\t \\end{cases}\n",
        "$$\n",
        "where $\\rho = \\frac{1-p}{p}$."
      ],
      "metadata": {
        "id": "0zW73Ntu-dAJ"
      }
    },
    {
      "cell_type": "code",
      "source": [
        "# Answer\n"
      ],
      "metadata": {
        "id": "OdeUW2ObAmSx"
      },
      "execution_count": null,
      "outputs": []
    },
    {
      "cell_type": "markdown",
      "source": [
        "5. Same question for the exit state $\\mathbb{P}(S_T = 0)$ given by\n",
        "$$\n",
        "\\mathbb{P}(S_T = 0) = \\begin{cases}\n",
        "\t\t\t\\frac{n-a}{n}, & \\text{if $p=1/2$,}\\\\\n",
        "            \\frac{\\rho^a-\\rho^n}{1-\\rho^n}, & \\text{if $p\\neq1/2$,}\n",
        "\t\t \\end{cases}\n",
        "$$"
      ],
      "metadata": {
        "id": "CMRqd5kv9bS5"
      }
    },
    {
      "cell_type": "code",
      "source": [
        "# Answer\n"
      ],
      "metadata": {
        "id": "ahy8TNFbF-t-"
      },
      "execution_count": null,
      "outputs": []
    },
    {
      "cell_type": "markdown",
      "source": [
        "### Exercise 4"
      ],
      "metadata": {
        "id": "RMoBi_GNrz3q"
      }
    },
    {
      "cell_type": "markdown",
      "source": [
        "Binomial Distribution Simulator\n",
        "\n",
        "Implement a Python program that simulates the Binomial distribution:\n",
        "\n",
        "1. Take parameters n (number of trials) and p (probability of success) as input.<br>\n",
        "2. Simulate a sequence of n independent Bernoulli trials with success probability p. <br>\n",
        "3. Count the number of successes in the sequence.<br>\n",
        "4. Repeat the simulation multiple times to estimate the Binomial distribution.<br>\n",
        "5. Plot a histogram to visualize the distribution.<br>"
      ],
      "metadata": {
        "id": "o7novYjZr2hi"
      }
    },
    {
      "cell_type": "markdown",
      "source": [
        "### Exercise 5"
      ],
      "metadata": {
        "id": "CGo0URMnsLcA"
      }
    },
    {
      "cell_type": "markdown",
      "source": [
        "Exponential Distribution and Central Limit Theorem\n",
        "\n",
        "Write a Python program that demonstrates the Central Limit Theorem using the Exponential distribution:\n",
        "\n",
        "1.Simulate a large number of samples from the Exponential distribution.<br>\n",
        "2. Calculate the sample means for various sample sizes (e.g., 5, 10, 30).<br>\n",
        "3. Plot histograms of the sample means and compare them to the theoretical normal distribution.<br>\n",
        "4. Calculate the mean and standard deviation of the sample means for different sample sizes.<br>\n",
        "5. Investigate how the sample mean distribution changes as the sample size increases.<br>\n",
        "5. Explore the convergence to the normal distribution as the sample size grows."
      ],
      "metadata": {
        "id": "AK8I1u7XsNCt"
      }
    },
    {
      "cell_type": "markdown",
      "source": [
        "# TP 3: Descriptive statistics"
      ],
      "metadata": {
        "id": "ZpXYDzZBeKmi"
      }
    },
    {
      "cell_type": "markdown",
      "metadata": {
        "id": "4m3JmLleeIFr"
      },
      "source": [
        "## Recalls"
      ]
    },
    {
      "cell_type": "code",
      "execution_count": null,
      "metadata": {
        "id": "s9IRRp_5eIFt"
      },
      "outputs": [],
      "source": [
        "# import the required libraries\n",
        "import pandas as pd\n",
        "import numpy as np"
      ]
    },
    {
      "cell_type": "markdown",
      "metadata": {
        "id": "aQHw9v0IeIFu"
      },
      "source": [
        "### Data frames"
      ]
    },
    {
      "cell_type": "markdown",
      "metadata": {
        "id": "mz5h2ogieIFv"
      },
      "source": [
        "Pandas DataFrame is a two-dimensional data structure, i.e., data is aligned in a tabular fashion in rows and columns."
      ]
    },
    {
      "cell_type": "markdown",
      "metadata": {
        "id": "VQZdNC-HeIFv"
      },
      "source": [
        "#### 1. Create a pandas DataFrame"
      ]
    },
    {
      "cell_type": "markdown",
      "metadata": {
        "id": "Ag_Nj7P1eIFv"
      },
      "source": [
        "There are several ways to create a DataFrame:\n",
        "\n",
        "Define an empty dataframe"
      ]
    },
    {
      "cell_type": "code",
      "execution_count": null,
      "metadata": {
        "id": "6tcxh6nYeIFw",
        "outputId": "f4cd955e-94c9-45ad-bbe8-0ff7cda1d696",
        "colab": {
          "base_uri": "https://localhost:8080/"
        }
      },
      "outputs": [
        {
          "output_type": "stream",
          "name": "stdout",
          "text": [
            "<class 'pandas.core.frame.DataFrame'>\n"
          ]
        }
      ],
      "source": [
        "empty_df = pd.DataFrame()\n",
        "print(type(empty_df))"
      ]
    },
    {
      "cell_type": "markdown",
      "metadata": {
        "id": "bZzjWD1geIFx"
      },
      "source": [
        "Define a DataFrame from a dictionary"
      ]
    },
    {
      "cell_type": "code",
      "execution_count": null,
      "metadata": {
        "id": "0yqW79_jeIFy",
        "outputId": "76b6c425-d81e-48af-8dd0-4f4afe39a264",
        "colab": {
          "base_uri": "https://localhost:8080/",
          "height": 143
        }
      },
      "outputs": [
        {
          "output_type": "execute_result",
          "data": {
            "text/plain": [
              "    Name  Age\n",
              "0   Alex   23\n",
              "1   John   25\n",
              "2  Maria   22"
            ],
            "text/html": [
              "\n",
              "\n",
              "  <div id=\"df-fcd933a2-2544-40ef-9cb5-362ef304cf15\">\n",
              "    <div class=\"colab-df-container\">\n",
              "      <div>\n",
              "<style scoped>\n",
              "    .dataframe tbody tr th:only-of-type {\n",
              "        vertical-align: middle;\n",
              "    }\n",
              "\n",
              "    .dataframe tbody tr th {\n",
              "        vertical-align: top;\n",
              "    }\n",
              "\n",
              "    .dataframe thead th {\n",
              "        text-align: right;\n",
              "    }\n",
              "</style>\n",
              "<table border=\"1\" class=\"dataframe\">\n",
              "  <thead>\n",
              "    <tr style=\"text-align: right;\">\n",
              "      <th></th>\n",
              "      <th>Name</th>\n",
              "      <th>Age</th>\n",
              "    </tr>\n",
              "  </thead>\n",
              "  <tbody>\n",
              "    <tr>\n",
              "      <th>0</th>\n",
              "      <td>Alex</td>\n",
              "      <td>23</td>\n",
              "    </tr>\n",
              "    <tr>\n",
              "      <th>1</th>\n",
              "      <td>John</td>\n",
              "      <td>25</td>\n",
              "    </tr>\n",
              "    <tr>\n",
              "      <th>2</th>\n",
              "      <td>Maria</td>\n",
              "      <td>22</td>\n",
              "    </tr>\n",
              "  </tbody>\n",
              "</table>\n",
              "</div>\n",
              "      <button class=\"colab-df-convert\" onclick=\"convertToInteractive('df-fcd933a2-2544-40ef-9cb5-362ef304cf15')\"\n",
              "              title=\"Convert this dataframe to an interactive table.\"\n",
              "              style=\"display:none;\">\n",
              "\n",
              "  <svg xmlns=\"http://www.w3.org/2000/svg\" height=\"24px\"viewBox=\"0 0 24 24\"\n",
              "       width=\"24px\">\n",
              "    <path d=\"M0 0h24v24H0V0z\" fill=\"none\"/>\n",
              "    <path d=\"M18.56 5.44l.94 2.06.94-2.06 2.06-.94-2.06-.94-.94-2.06-.94 2.06-2.06.94zm-11 1L8.5 8.5l.94-2.06 2.06-.94-2.06-.94L8.5 2.5l-.94 2.06-2.06.94zm10 10l.94 2.06.94-2.06 2.06-.94-2.06-.94-.94-2.06-.94 2.06-2.06.94z\"/><path d=\"M17.41 7.96l-1.37-1.37c-.4-.4-.92-.59-1.43-.59-.52 0-1.04.2-1.43.59L10.3 9.45l-7.72 7.72c-.78.78-.78 2.05 0 2.83L4 21.41c.39.39.9.59 1.41.59.51 0 1.02-.2 1.41-.59l7.78-7.78 2.81-2.81c.8-.78.8-2.07 0-2.86zM5.41 20L4 18.59l7.72-7.72 1.47 1.35L5.41 20z\"/>\n",
              "  </svg>\n",
              "      </button>\n",
              "\n",
              "\n",
              "\n",
              "    <div id=\"df-3baa241d-d271-4c8b-b11c-8c0749bae24e\">\n",
              "      <button class=\"colab-df-quickchart\" onclick=\"quickchart('df-3baa241d-d271-4c8b-b11c-8c0749bae24e')\"\n",
              "              title=\"Suggest charts.\"\n",
              "              style=\"display:none;\">\n",
              "\n",
              "<svg xmlns=\"http://www.w3.org/2000/svg\" height=\"24px\"viewBox=\"0 0 24 24\"\n",
              "     width=\"24px\">\n",
              "    <g>\n",
              "        <path d=\"M19 3H5c-1.1 0-2 .9-2 2v14c0 1.1.9 2 2 2h14c1.1 0 2-.9 2-2V5c0-1.1-.9-2-2-2zM9 17H7v-7h2v7zm4 0h-2V7h2v10zm4 0h-2v-4h2v4z\"/>\n",
              "    </g>\n",
              "</svg>\n",
              "      </button>\n",
              "    </div>\n",
              "\n",
              "<style>\n",
              "  .colab-df-quickchart {\n",
              "    background-color: #E8F0FE;\n",
              "    border: none;\n",
              "    border-radius: 50%;\n",
              "    cursor: pointer;\n",
              "    display: none;\n",
              "    fill: #1967D2;\n",
              "    height: 32px;\n",
              "    padding: 0 0 0 0;\n",
              "    width: 32px;\n",
              "  }\n",
              "\n",
              "  .colab-df-quickchart:hover {\n",
              "    background-color: #E2EBFA;\n",
              "    box-shadow: 0px 1px 2px rgba(60, 64, 67, 0.3), 0px 1px 3px 1px rgba(60, 64, 67, 0.15);\n",
              "    fill: #174EA6;\n",
              "  }\n",
              "\n",
              "  [theme=dark] .colab-df-quickchart {\n",
              "    background-color: #3B4455;\n",
              "    fill: #D2E3FC;\n",
              "  }\n",
              "\n",
              "  [theme=dark] .colab-df-quickchart:hover {\n",
              "    background-color: #434B5C;\n",
              "    box-shadow: 0px 1px 3px 1px rgba(0, 0, 0, 0.15);\n",
              "    filter: drop-shadow(0px 1px 2px rgba(0, 0, 0, 0.3));\n",
              "    fill: #FFFFFF;\n",
              "  }\n",
              "</style>\n",
              "\n",
              "    <script>\n",
              "      async function quickchart(key) {\n",
              "        const containerElement = document.querySelector('#' + key);\n",
              "        const charts = await google.colab.kernel.invokeFunction(\n",
              "            'suggestCharts', [key], {});\n",
              "      }\n",
              "    </script>\n",
              "\n",
              "      <script>\n",
              "\n",
              "function displayQuickchartButton(domScope) {\n",
              "  let quickchartButtonEl =\n",
              "    domScope.querySelector('#df-3baa241d-d271-4c8b-b11c-8c0749bae24e button.colab-df-quickchart');\n",
              "  quickchartButtonEl.style.display =\n",
              "    google.colab.kernel.accessAllowed ? 'block' : 'none';\n",
              "}\n",
              "\n",
              "        displayQuickchartButton(document);\n",
              "      </script>\n",
              "      <style>\n",
              "    .colab-df-container {\n",
              "      display:flex;\n",
              "      flex-wrap:wrap;\n",
              "      gap: 12px;\n",
              "    }\n",
              "\n",
              "    .colab-df-convert {\n",
              "      background-color: #E8F0FE;\n",
              "      border: none;\n",
              "      border-radius: 50%;\n",
              "      cursor: pointer;\n",
              "      display: none;\n",
              "      fill: #1967D2;\n",
              "      height: 32px;\n",
              "      padding: 0 0 0 0;\n",
              "      width: 32px;\n",
              "    }\n",
              "\n",
              "    .colab-df-convert:hover {\n",
              "      background-color: #E2EBFA;\n",
              "      box-shadow: 0px 1px 2px rgba(60, 64, 67, 0.3), 0px 1px 3px 1px rgba(60, 64, 67, 0.15);\n",
              "      fill: #174EA6;\n",
              "    }\n",
              "\n",
              "    [theme=dark] .colab-df-convert {\n",
              "      background-color: #3B4455;\n",
              "      fill: #D2E3FC;\n",
              "    }\n",
              "\n",
              "    [theme=dark] .colab-df-convert:hover {\n",
              "      background-color: #434B5C;\n",
              "      box-shadow: 0px 1px 3px 1px rgba(0, 0, 0, 0.15);\n",
              "      filter: drop-shadow(0px 1px 2px rgba(0, 0, 0, 0.3));\n",
              "      fill: #FFFFFF;\n",
              "    }\n",
              "  </style>\n",
              "\n",
              "      <script>\n",
              "        const buttonEl =\n",
              "          document.querySelector('#df-fcd933a2-2544-40ef-9cb5-362ef304cf15 button.colab-df-convert');\n",
              "        buttonEl.style.display =\n",
              "          google.colab.kernel.accessAllowed ? 'block' : 'none';\n",
              "\n",
              "        async function convertToInteractive(key) {\n",
              "          const element = document.querySelector('#df-fcd933a2-2544-40ef-9cb5-362ef304cf15');\n",
              "          const dataTable =\n",
              "            await google.colab.kernel.invokeFunction('convertToInteractive',\n",
              "                                                     [key], {});\n",
              "          if (!dataTable) return;\n",
              "\n",
              "          const docLinkHtml = 'Like what you see? Visit the ' +\n",
              "            '<a target=\"_blank\" href=https://colab.research.google.com/notebooks/data_table.ipynb>data table notebook</a>'\n",
              "            + ' to learn more about interactive tables.';\n",
              "          element.innerHTML = '';\n",
              "          dataTable['output_type'] = 'display_data';\n",
              "          await google.colab.output.renderOutput(dataTable, element);\n",
              "          const docLink = document.createElement('div');\n",
              "          docLink.innerHTML = docLinkHtml;\n",
              "          element.appendChild(docLink);\n",
              "        }\n",
              "      </script>\n",
              "    </div>\n",
              "  </div>\n"
            ]
          },
          "metadata": {},
          "execution_count": 3
        }
      ],
      "source": [
        "my_dict = {\"Name\": [\"Alex\", \"John\", \"Maria\"],\n",
        "           \"Age\":  [23, 25, 22]}\n",
        "df_from_dict = pd.DataFrame(my_dict)\n",
        "df_from_dict"
      ]
    },
    {
      "cell_type": "markdown",
      "metadata": {
        "id": "6MrWX-YqeIFy"
      },
      "source": [
        "Define a DataFrame from a numpy array"
      ]
    },
    {
      "cell_type": "code",
      "execution_count": null,
      "metadata": {
        "id": "MPH0nNg9eIFy",
        "outputId": "4bae5c86-a8f2-42ab-bbed-298cc15314a3",
        "colab": {
          "base_uri": "https://localhost:8080/",
          "height": 238
        }
      },
      "outputs": [
        {
          "output_type": "execute_result",
          "data": {
            "text/plain": [
              "          0         1         2         3         4\n",
              "0  0.268143  0.150743  0.403793  0.189033  0.749972\n",
              "1  0.714936  0.706526  0.344384  0.773719  0.767557\n",
              "2  0.948569  0.344702  0.235342  0.989451  0.479940\n",
              "3  0.368987  0.046012  0.849857  0.468062  0.503519\n",
              "4  0.182829  0.279807  0.904477  0.657302  0.410004\n",
              "5  0.585111  0.049021  0.320154  0.425213  0.832227"
            ],
            "text/html": [
              "\n",
              "\n",
              "  <div id=\"df-4b8635d6-4c60-4bcc-8307-dd091d983e4e\">\n",
              "    <div class=\"colab-df-container\">\n",
              "      <div>\n",
              "<style scoped>\n",
              "    .dataframe tbody tr th:only-of-type {\n",
              "        vertical-align: middle;\n",
              "    }\n",
              "\n",
              "    .dataframe tbody tr th {\n",
              "        vertical-align: top;\n",
              "    }\n",
              "\n",
              "    .dataframe thead th {\n",
              "        text-align: right;\n",
              "    }\n",
              "</style>\n",
              "<table border=\"1\" class=\"dataframe\">\n",
              "  <thead>\n",
              "    <tr style=\"text-align: right;\">\n",
              "      <th></th>\n",
              "      <th>0</th>\n",
              "      <th>1</th>\n",
              "      <th>2</th>\n",
              "      <th>3</th>\n",
              "      <th>4</th>\n",
              "    </tr>\n",
              "  </thead>\n",
              "  <tbody>\n",
              "    <tr>\n",
              "      <th>0</th>\n",
              "      <td>0.268143</td>\n",
              "      <td>0.150743</td>\n",
              "      <td>0.403793</td>\n",
              "      <td>0.189033</td>\n",
              "      <td>0.749972</td>\n",
              "    </tr>\n",
              "    <tr>\n",
              "      <th>1</th>\n",
              "      <td>0.714936</td>\n",
              "      <td>0.706526</td>\n",
              "      <td>0.344384</td>\n",
              "      <td>0.773719</td>\n",
              "      <td>0.767557</td>\n",
              "    </tr>\n",
              "    <tr>\n",
              "      <th>2</th>\n",
              "      <td>0.948569</td>\n",
              "      <td>0.344702</td>\n",
              "      <td>0.235342</td>\n",
              "      <td>0.989451</td>\n",
              "      <td>0.479940</td>\n",
              "    </tr>\n",
              "    <tr>\n",
              "      <th>3</th>\n",
              "      <td>0.368987</td>\n",
              "      <td>0.046012</td>\n",
              "      <td>0.849857</td>\n",
              "      <td>0.468062</td>\n",
              "      <td>0.503519</td>\n",
              "    </tr>\n",
              "    <tr>\n",
              "      <th>4</th>\n",
              "      <td>0.182829</td>\n",
              "      <td>0.279807</td>\n",
              "      <td>0.904477</td>\n",
              "      <td>0.657302</td>\n",
              "      <td>0.410004</td>\n",
              "    </tr>\n",
              "    <tr>\n",
              "      <th>5</th>\n",
              "      <td>0.585111</td>\n",
              "      <td>0.049021</td>\n",
              "      <td>0.320154</td>\n",
              "      <td>0.425213</td>\n",
              "      <td>0.832227</td>\n",
              "    </tr>\n",
              "  </tbody>\n",
              "</table>\n",
              "</div>\n",
              "      <button class=\"colab-df-convert\" onclick=\"convertToInteractive('df-4b8635d6-4c60-4bcc-8307-dd091d983e4e')\"\n",
              "              title=\"Convert this dataframe to an interactive table.\"\n",
              "              style=\"display:none;\">\n",
              "\n",
              "  <svg xmlns=\"http://www.w3.org/2000/svg\" height=\"24px\"viewBox=\"0 0 24 24\"\n",
              "       width=\"24px\">\n",
              "    <path d=\"M0 0h24v24H0V0z\" fill=\"none\"/>\n",
              "    <path d=\"M18.56 5.44l.94 2.06.94-2.06 2.06-.94-2.06-.94-.94-2.06-.94 2.06-2.06.94zm-11 1L8.5 8.5l.94-2.06 2.06-.94-2.06-.94L8.5 2.5l-.94 2.06-2.06.94zm10 10l.94 2.06.94-2.06 2.06-.94-2.06-.94-.94-2.06-.94 2.06-2.06.94z\"/><path d=\"M17.41 7.96l-1.37-1.37c-.4-.4-.92-.59-1.43-.59-.52 0-1.04.2-1.43.59L10.3 9.45l-7.72 7.72c-.78.78-.78 2.05 0 2.83L4 21.41c.39.39.9.59 1.41.59.51 0 1.02-.2 1.41-.59l7.78-7.78 2.81-2.81c.8-.78.8-2.07 0-2.86zM5.41 20L4 18.59l7.72-7.72 1.47 1.35L5.41 20z\"/>\n",
              "  </svg>\n",
              "      </button>\n",
              "\n",
              "\n",
              "\n",
              "    <div id=\"df-832f08dc-aacb-4502-a269-44709c885a58\">\n",
              "      <button class=\"colab-df-quickchart\" onclick=\"quickchart('df-832f08dc-aacb-4502-a269-44709c885a58')\"\n",
              "              title=\"Suggest charts.\"\n",
              "              style=\"display:none;\">\n",
              "\n",
              "<svg xmlns=\"http://www.w3.org/2000/svg\" height=\"24px\"viewBox=\"0 0 24 24\"\n",
              "     width=\"24px\">\n",
              "    <g>\n",
              "        <path d=\"M19 3H5c-1.1 0-2 .9-2 2v14c0 1.1.9 2 2 2h14c1.1 0 2-.9 2-2V5c0-1.1-.9-2-2-2zM9 17H7v-7h2v7zm4 0h-2V7h2v10zm4 0h-2v-4h2v4z\"/>\n",
              "    </g>\n",
              "</svg>\n",
              "      </button>\n",
              "    </div>\n",
              "\n",
              "<style>\n",
              "  .colab-df-quickchart {\n",
              "    background-color: #E8F0FE;\n",
              "    border: none;\n",
              "    border-radius: 50%;\n",
              "    cursor: pointer;\n",
              "    display: none;\n",
              "    fill: #1967D2;\n",
              "    height: 32px;\n",
              "    padding: 0 0 0 0;\n",
              "    width: 32px;\n",
              "  }\n",
              "\n",
              "  .colab-df-quickchart:hover {\n",
              "    background-color: #E2EBFA;\n",
              "    box-shadow: 0px 1px 2px rgba(60, 64, 67, 0.3), 0px 1px 3px 1px rgba(60, 64, 67, 0.15);\n",
              "    fill: #174EA6;\n",
              "  }\n",
              "\n",
              "  [theme=dark] .colab-df-quickchart {\n",
              "    background-color: #3B4455;\n",
              "    fill: #D2E3FC;\n",
              "  }\n",
              "\n",
              "  [theme=dark] .colab-df-quickchart:hover {\n",
              "    background-color: #434B5C;\n",
              "    box-shadow: 0px 1px 3px 1px rgba(0, 0, 0, 0.15);\n",
              "    filter: drop-shadow(0px 1px 2px rgba(0, 0, 0, 0.3));\n",
              "    fill: #FFFFFF;\n",
              "  }\n",
              "</style>\n",
              "\n",
              "    <script>\n",
              "      async function quickchart(key) {\n",
              "        const containerElement = document.querySelector('#' + key);\n",
              "        const charts = await google.colab.kernel.invokeFunction(\n",
              "            'suggestCharts', [key], {});\n",
              "      }\n",
              "    </script>\n",
              "\n",
              "      <script>\n",
              "\n",
              "function displayQuickchartButton(domScope) {\n",
              "  let quickchartButtonEl =\n",
              "    domScope.querySelector('#df-832f08dc-aacb-4502-a269-44709c885a58 button.colab-df-quickchart');\n",
              "  quickchartButtonEl.style.display =\n",
              "    google.colab.kernel.accessAllowed ? 'block' : 'none';\n",
              "}\n",
              "\n",
              "        displayQuickchartButton(document);\n",
              "      </script>\n",
              "      <style>\n",
              "    .colab-df-container {\n",
              "      display:flex;\n",
              "      flex-wrap:wrap;\n",
              "      gap: 12px;\n",
              "    }\n",
              "\n",
              "    .colab-df-convert {\n",
              "      background-color: #E8F0FE;\n",
              "      border: none;\n",
              "      border-radius: 50%;\n",
              "      cursor: pointer;\n",
              "      display: none;\n",
              "      fill: #1967D2;\n",
              "      height: 32px;\n",
              "      padding: 0 0 0 0;\n",
              "      width: 32px;\n",
              "    }\n",
              "\n",
              "    .colab-df-convert:hover {\n",
              "      background-color: #E2EBFA;\n",
              "      box-shadow: 0px 1px 2px rgba(60, 64, 67, 0.3), 0px 1px 3px 1px rgba(60, 64, 67, 0.15);\n",
              "      fill: #174EA6;\n",
              "    }\n",
              "\n",
              "    [theme=dark] .colab-df-convert {\n",
              "      background-color: #3B4455;\n",
              "      fill: #D2E3FC;\n",
              "    }\n",
              "\n",
              "    [theme=dark] .colab-df-convert:hover {\n",
              "      background-color: #434B5C;\n",
              "      box-shadow: 0px 1px 3px 1px rgba(0, 0, 0, 0.15);\n",
              "      filter: drop-shadow(0px 1px 2px rgba(0, 0, 0, 0.3));\n",
              "      fill: #FFFFFF;\n",
              "    }\n",
              "  </style>\n",
              "\n",
              "      <script>\n",
              "        const buttonEl =\n",
              "          document.querySelector('#df-4b8635d6-4c60-4bcc-8307-dd091d983e4e button.colab-df-convert');\n",
              "        buttonEl.style.display =\n",
              "          google.colab.kernel.accessAllowed ? 'block' : 'none';\n",
              "\n",
              "        async function convertToInteractive(key) {\n",
              "          const element = document.querySelector('#df-4b8635d6-4c60-4bcc-8307-dd091d983e4e');\n",
              "          const dataTable =\n",
              "            await google.colab.kernel.invokeFunction('convertToInteractive',\n",
              "                                                     [key], {});\n",
              "          if (!dataTable) return;\n",
              "\n",
              "          const docLinkHtml = 'Like what you see? Visit the ' +\n",
              "            '<a target=\"_blank\" href=https://colab.research.google.com/notebooks/data_table.ipynb>data table notebook</a>'\n",
              "            + ' to learn more about interactive tables.';\n",
              "          element.innerHTML = '';\n",
              "          dataTable['output_type'] = 'display_data';\n",
              "          await google.colab.output.renderOutput(dataTable, element);\n",
              "          const docLink = document.createElement('div');\n",
              "          docLink.innerHTML = docLinkHtml;\n",
              "          element.appendChild(docLink);\n",
              "        }\n",
              "      </script>\n",
              "    </div>\n",
              "  </div>\n"
            ]
          },
          "metadata": {},
          "execution_count": 4
        }
      ],
      "source": [
        "my_array = np.random.rand(6,5) # define a random array with 6 rows and 5 columns\n",
        "df_from_array = pd.DataFrame(my_array)\n",
        "df_from_array"
      ]
    },
    {
      "cell_type": "markdown",
      "metadata": {
        "id": "1KqG9RkCeIFz"
      },
      "source": [
        "Now, we can add columns names to the dataframe"
      ]
    },
    {
      "cell_type": "code",
      "execution_count": null,
      "metadata": {
        "id": "KhM1-FmzeIFz",
        "outputId": "c56d3124-7c75-48ef-f1fb-0449739b5f74",
        "colab": {
          "base_uri": "https://localhost:8080/",
          "height": 238
        }
      },
      "outputs": [
        {
          "output_type": "execute_result",
          "data": {
            "text/plain": [
              "          A         B         C         D         E\n",
              "0  0.268143  0.150743  0.403793  0.189033  0.749972\n",
              "1  0.714936  0.706526  0.344384  0.773719  0.767557\n",
              "2  0.948569  0.344702  0.235342  0.989451  0.479940\n",
              "3  0.368987  0.046012  0.849857  0.468062  0.503519\n",
              "4  0.182829  0.279807  0.904477  0.657302  0.410004\n",
              "5  0.585111  0.049021  0.320154  0.425213  0.832227"
            ],
            "text/html": [
              "\n",
              "\n",
              "  <div id=\"df-5892069c-a024-4f27-954c-3a11307d1c72\">\n",
              "    <div class=\"colab-df-container\">\n",
              "      <div>\n",
              "<style scoped>\n",
              "    .dataframe tbody tr th:only-of-type {\n",
              "        vertical-align: middle;\n",
              "    }\n",
              "\n",
              "    .dataframe tbody tr th {\n",
              "        vertical-align: top;\n",
              "    }\n",
              "\n",
              "    .dataframe thead th {\n",
              "        text-align: right;\n",
              "    }\n",
              "</style>\n",
              "<table border=\"1\" class=\"dataframe\">\n",
              "  <thead>\n",
              "    <tr style=\"text-align: right;\">\n",
              "      <th></th>\n",
              "      <th>A</th>\n",
              "      <th>B</th>\n",
              "      <th>C</th>\n",
              "      <th>D</th>\n",
              "      <th>E</th>\n",
              "    </tr>\n",
              "  </thead>\n",
              "  <tbody>\n",
              "    <tr>\n",
              "      <th>0</th>\n",
              "      <td>0.268143</td>\n",
              "      <td>0.150743</td>\n",
              "      <td>0.403793</td>\n",
              "      <td>0.189033</td>\n",
              "      <td>0.749972</td>\n",
              "    </tr>\n",
              "    <tr>\n",
              "      <th>1</th>\n",
              "      <td>0.714936</td>\n",
              "      <td>0.706526</td>\n",
              "      <td>0.344384</td>\n",
              "      <td>0.773719</td>\n",
              "      <td>0.767557</td>\n",
              "    </tr>\n",
              "    <tr>\n",
              "      <th>2</th>\n",
              "      <td>0.948569</td>\n",
              "      <td>0.344702</td>\n",
              "      <td>0.235342</td>\n",
              "      <td>0.989451</td>\n",
              "      <td>0.479940</td>\n",
              "    </tr>\n",
              "    <tr>\n",
              "      <th>3</th>\n",
              "      <td>0.368987</td>\n",
              "      <td>0.046012</td>\n",
              "      <td>0.849857</td>\n",
              "      <td>0.468062</td>\n",
              "      <td>0.503519</td>\n",
              "    </tr>\n",
              "    <tr>\n",
              "      <th>4</th>\n",
              "      <td>0.182829</td>\n",
              "      <td>0.279807</td>\n",
              "      <td>0.904477</td>\n",
              "      <td>0.657302</td>\n",
              "      <td>0.410004</td>\n",
              "    </tr>\n",
              "    <tr>\n",
              "      <th>5</th>\n",
              "      <td>0.585111</td>\n",
              "      <td>0.049021</td>\n",
              "      <td>0.320154</td>\n",
              "      <td>0.425213</td>\n",
              "      <td>0.832227</td>\n",
              "    </tr>\n",
              "  </tbody>\n",
              "</table>\n",
              "</div>\n",
              "      <button class=\"colab-df-convert\" onclick=\"convertToInteractive('df-5892069c-a024-4f27-954c-3a11307d1c72')\"\n",
              "              title=\"Convert this dataframe to an interactive table.\"\n",
              "              style=\"display:none;\">\n",
              "\n",
              "  <svg xmlns=\"http://www.w3.org/2000/svg\" height=\"24px\"viewBox=\"0 0 24 24\"\n",
              "       width=\"24px\">\n",
              "    <path d=\"M0 0h24v24H0V0z\" fill=\"none\"/>\n",
              "    <path d=\"M18.56 5.44l.94 2.06.94-2.06 2.06-.94-2.06-.94-.94-2.06-.94 2.06-2.06.94zm-11 1L8.5 8.5l.94-2.06 2.06-.94-2.06-.94L8.5 2.5l-.94 2.06-2.06.94zm10 10l.94 2.06.94-2.06 2.06-.94-2.06-.94-.94-2.06-.94 2.06-2.06.94z\"/><path d=\"M17.41 7.96l-1.37-1.37c-.4-.4-.92-.59-1.43-.59-.52 0-1.04.2-1.43.59L10.3 9.45l-7.72 7.72c-.78.78-.78 2.05 0 2.83L4 21.41c.39.39.9.59 1.41.59.51 0 1.02-.2 1.41-.59l7.78-7.78 2.81-2.81c.8-.78.8-2.07 0-2.86zM5.41 20L4 18.59l7.72-7.72 1.47 1.35L5.41 20z\"/>\n",
              "  </svg>\n",
              "      </button>\n",
              "\n",
              "\n",
              "\n",
              "    <div id=\"df-1a99b836-6eb4-48f3-b205-52373d7b2d36\">\n",
              "      <button class=\"colab-df-quickchart\" onclick=\"quickchart('df-1a99b836-6eb4-48f3-b205-52373d7b2d36')\"\n",
              "              title=\"Suggest charts.\"\n",
              "              style=\"display:none;\">\n",
              "\n",
              "<svg xmlns=\"http://www.w3.org/2000/svg\" height=\"24px\"viewBox=\"0 0 24 24\"\n",
              "     width=\"24px\">\n",
              "    <g>\n",
              "        <path d=\"M19 3H5c-1.1 0-2 .9-2 2v14c0 1.1.9 2 2 2h14c1.1 0 2-.9 2-2V5c0-1.1-.9-2-2-2zM9 17H7v-7h2v7zm4 0h-2V7h2v10zm4 0h-2v-4h2v4z\"/>\n",
              "    </g>\n",
              "</svg>\n",
              "      </button>\n",
              "    </div>\n",
              "\n",
              "<style>\n",
              "  .colab-df-quickchart {\n",
              "    background-color: #E8F0FE;\n",
              "    border: none;\n",
              "    border-radius: 50%;\n",
              "    cursor: pointer;\n",
              "    display: none;\n",
              "    fill: #1967D2;\n",
              "    height: 32px;\n",
              "    padding: 0 0 0 0;\n",
              "    width: 32px;\n",
              "  }\n",
              "\n",
              "  .colab-df-quickchart:hover {\n",
              "    background-color: #E2EBFA;\n",
              "    box-shadow: 0px 1px 2px rgba(60, 64, 67, 0.3), 0px 1px 3px 1px rgba(60, 64, 67, 0.15);\n",
              "    fill: #174EA6;\n",
              "  }\n",
              "\n",
              "  [theme=dark] .colab-df-quickchart {\n",
              "    background-color: #3B4455;\n",
              "    fill: #D2E3FC;\n",
              "  }\n",
              "\n",
              "  [theme=dark] .colab-df-quickchart:hover {\n",
              "    background-color: #434B5C;\n",
              "    box-shadow: 0px 1px 3px 1px rgba(0, 0, 0, 0.15);\n",
              "    filter: drop-shadow(0px 1px 2px rgba(0, 0, 0, 0.3));\n",
              "    fill: #FFFFFF;\n",
              "  }\n",
              "</style>\n",
              "\n",
              "    <script>\n",
              "      async function quickchart(key) {\n",
              "        const containerElement = document.querySelector('#' + key);\n",
              "        const charts = await google.colab.kernel.invokeFunction(\n",
              "            'suggestCharts', [key], {});\n",
              "      }\n",
              "    </script>\n",
              "\n",
              "      <script>\n",
              "\n",
              "function displayQuickchartButton(domScope) {\n",
              "  let quickchartButtonEl =\n",
              "    domScope.querySelector('#df-1a99b836-6eb4-48f3-b205-52373d7b2d36 button.colab-df-quickchart');\n",
              "  quickchartButtonEl.style.display =\n",
              "    google.colab.kernel.accessAllowed ? 'block' : 'none';\n",
              "}\n",
              "\n",
              "        displayQuickchartButton(document);\n",
              "      </script>\n",
              "      <style>\n",
              "    .colab-df-container {\n",
              "      display:flex;\n",
              "      flex-wrap:wrap;\n",
              "      gap: 12px;\n",
              "    }\n",
              "\n",
              "    .colab-df-convert {\n",
              "      background-color: #E8F0FE;\n",
              "      border: none;\n",
              "      border-radius: 50%;\n",
              "      cursor: pointer;\n",
              "      display: none;\n",
              "      fill: #1967D2;\n",
              "      height: 32px;\n",
              "      padding: 0 0 0 0;\n",
              "      width: 32px;\n",
              "    }\n",
              "\n",
              "    .colab-df-convert:hover {\n",
              "      background-color: #E2EBFA;\n",
              "      box-shadow: 0px 1px 2px rgba(60, 64, 67, 0.3), 0px 1px 3px 1px rgba(60, 64, 67, 0.15);\n",
              "      fill: #174EA6;\n",
              "    }\n",
              "\n",
              "    [theme=dark] .colab-df-convert {\n",
              "      background-color: #3B4455;\n",
              "      fill: #D2E3FC;\n",
              "    }\n",
              "\n",
              "    [theme=dark] .colab-df-convert:hover {\n",
              "      background-color: #434B5C;\n",
              "      box-shadow: 0px 1px 3px 1px rgba(0, 0, 0, 0.15);\n",
              "      filter: drop-shadow(0px 1px 2px rgba(0, 0, 0, 0.3));\n",
              "      fill: #FFFFFF;\n",
              "    }\n",
              "  </style>\n",
              "\n",
              "      <script>\n",
              "        const buttonEl =\n",
              "          document.querySelector('#df-5892069c-a024-4f27-954c-3a11307d1c72 button.colab-df-convert');\n",
              "        buttonEl.style.display =\n",
              "          google.colab.kernel.accessAllowed ? 'block' : 'none';\n",
              "\n",
              "        async function convertToInteractive(key) {\n",
              "          const element = document.querySelector('#df-5892069c-a024-4f27-954c-3a11307d1c72');\n",
              "          const dataTable =\n",
              "            await google.colab.kernel.invokeFunction('convertToInteractive',\n",
              "                                                     [key], {});\n",
              "          if (!dataTable) return;\n",
              "\n",
              "          const docLinkHtml = 'Like what you see? Visit the ' +\n",
              "            '<a target=\"_blank\" href=https://colab.research.google.com/notebooks/data_table.ipynb>data table notebook</a>'\n",
              "            + ' to learn more about interactive tables.';\n",
              "          element.innerHTML = '';\n",
              "          dataTable['output_type'] = 'display_data';\n",
              "          await google.colab.output.renderOutput(dataTable, element);\n",
              "          const docLink = document.createElement('div');\n",
              "          docLink.innerHTML = docLinkHtml;\n",
              "          element.appendChild(docLink);\n",
              "        }\n",
              "      </script>\n",
              "    </div>\n",
              "  </div>\n"
            ]
          },
          "metadata": {},
          "execution_count": 5
        }
      ],
      "source": [
        "df_from_array.columns = [\"A\", \"B\", \"C\", \"D\", \"E\"]\n",
        "df_from_array"
      ]
    },
    {
      "cell_type": "markdown",
      "metadata": {
        "id": "feWlav8qeIFz"
      },
      "source": [
        "We can also set the columns names when we define the dataframe"
      ]
    },
    {
      "cell_type": "code",
      "execution_count": null,
      "metadata": {
        "id": "0OX8wzm-eIF0",
        "outputId": "0df876d1-2a31-4c3e-e127-d4a5ad4387ce",
        "colab": {
          "base_uri": "https://localhost:8080/",
          "height": 238
        }
      },
      "outputs": [
        {
          "output_type": "execute_result",
          "data": {
            "text/plain": [
              "          A         B         C         D         E\n",
              "0  0.268143  0.150743  0.403793  0.189033  0.749972\n",
              "1  0.714936  0.706526  0.344384  0.773719  0.767557\n",
              "2  0.948569  0.344702  0.235342  0.989451  0.479940\n",
              "3  0.368987  0.046012  0.849857  0.468062  0.503519\n",
              "4  0.182829  0.279807  0.904477  0.657302  0.410004\n",
              "5  0.585111  0.049021  0.320154  0.425213  0.832227"
            ],
            "text/html": [
              "\n",
              "\n",
              "  <div id=\"df-d4c22900-1583-4103-b454-ce7ce7f05c44\">\n",
              "    <div class=\"colab-df-container\">\n",
              "      <div>\n",
              "<style scoped>\n",
              "    .dataframe tbody tr th:only-of-type {\n",
              "        vertical-align: middle;\n",
              "    }\n",
              "\n",
              "    .dataframe tbody tr th {\n",
              "        vertical-align: top;\n",
              "    }\n",
              "\n",
              "    .dataframe thead th {\n",
              "        text-align: right;\n",
              "    }\n",
              "</style>\n",
              "<table border=\"1\" class=\"dataframe\">\n",
              "  <thead>\n",
              "    <tr style=\"text-align: right;\">\n",
              "      <th></th>\n",
              "      <th>A</th>\n",
              "      <th>B</th>\n",
              "      <th>C</th>\n",
              "      <th>D</th>\n",
              "      <th>E</th>\n",
              "    </tr>\n",
              "  </thead>\n",
              "  <tbody>\n",
              "    <tr>\n",
              "      <th>0</th>\n",
              "      <td>0.268143</td>\n",
              "      <td>0.150743</td>\n",
              "      <td>0.403793</td>\n",
              "      <td>0.189033</td>\n",
              "      <td>0.749972</td>\n",
              "    </tr>\n",
              "    <tr>\n",
              "      <th>1</th>\n",
              "      <td>0.714936</td>\n",
              "      <td>0.706526</td>\n",
              "      <td>0.344384</td>\n",
              "      <td>0.773719</td>\n",
              "      <td>0.767557</td>\n",
              "    </tr>\n",
              "    <tr>\n",
              "      <th>2</th>\n",
              "      <td>0.948569</td>\n",
              "      <td>0.344702</td>\n",
              "      <td>0.235342</td>\n",
              "      <td>0.989451</td>\n",
              "      <td>0.479940</td>\n",
              "    </tr>\n",
              "    <tr>\n",
              "      <th>3</th>\n",
              "      <td>0.368987</td>\n",
              "      <td>0.046012</td>\n",
              "      <td>0.849857</td>\n",
              "      <td>0.468062</td>\n",
              "      <td>0.503519</td>\n",
              "    </tr>\n",
              "    <tr>\n",
              "      <th>4</th>\n",
              "      <td>0.182829</td>\n",
              "      <td>0.279807</td>\n",
              "      <td>0.904477</td>\n",
              "      <td>0.657302</td>\n",
              "      <td>0.410004</td>\n",
              "    </tr>\n",
              "    <tr>\n",
              "      <th>5</th>\n",
              "      <td>0.585111</td>\n",
              "      <td>0.049021</td>\n",
              "      <td>0.320154</td>\n",
              "      <td>0.425213</td>\n",
              "      <td>0.832227</td>\n",
              "    </tr>\n",
              "  </tbody>\n",
              "</table>\n",
              "</div>\n",
              "      <button class=\"colab-df-convert\" onclick=\"convertToInteractive('df-d4c22900-1583-4103-b454-ce7ce7f05c44')\"\n",
              "              title=\"Convert this dataframe to an interactive table.\"\n",
              "              style=\"display:none;\">\n",
              "\n",
              "  <svg xmlns=\"http://www.w3.org/2000/svg\" height=\"24px\"viewBox=\"0 0 24 24\"\n",
              "       width=\"24px\">\n",
              "    <path d=\"M0 0h24v24H0V0z\" fill=\"none\"/>\n",
              "    <path d=\"M18.56 5.44l.94 2.06.94-2.06 2.06-.94-2.06-.94-.94-2.06-.94 2.06-2.06.94zm-11 1L8.5 8.5l.94-2.06 2.06-.94-2.06-.94L8.5 2.5l-.94 2.06-2.06.94zm10 10l.94 2.06.94-2.06 2.06-.94-2.06-.94-.94-2.06-.94 2.06-2.06.94z\"/><path d=\"M17.41 7.96l-1.37-1.37c-.4-.4-.92-.59-1.43-.59-.52 0-1.04.2-1.43.59L10.3 9.45l-7.72 7.72c-.78.78-.78 2.05 0 2.83L4 21.41c.39.39.9.59 1.41.59.51 0 1.02-.2 1.41-.59l7.78-7.78 2.81-2.81c.8-.78.8-2.07 0-2.86zM5.41 20L4 18.59l7.72-7.72 1.47 1.35L5.41 20z\"/>\n",
              "  </svg>\n",
              "      </button>\n",
              "\n",
              "\n",
              "\n",
              "    <div id=\"df-04cdcbd0-88be-4b7f-a903-07fe6a3a0010\">\n",
              "      <button class=\"colab-df-quickchart\" onclick=\"quickchart('df-04cdcbd0-88be-4b7f-a903-07fe6a3a0010')\"\n",
              "              title=\"Suggest charts.\"\n",
              "              style=\"display:none;\">\n",
              "\n",
              "<svg xmlns=\"http://www.w3.org/2000/svg\" height=\"24px\"viewBox=\"0 0 24 24\"\n",
              "     width=\"24px\">\n",
              "    <g>\n",
              "        <path d=\"M19 3H5c-1.1 0-2 .9-2 2v14c0 1.1.9 2 2 2h14c1.1 0 2-.9 2-2V5c0-1.1-.9-2-2-2zM9 17H7v-7h2v7zm4 0h-2V7h2v10zm4 0h-2v-4h2v4z\"/>\n",
              "    </g>\n",
              "</svg>\n",
              "      </button>\n",
              "    </div>\n",
              "\n",
              "<style>\n",
              "  .colab-df-quickchart {\n",
              "    background-color: #E8F0FE;\n",
              "    border: none;\n",
              "    border-radius: 50%;\n",
              "    cursor: pointer;\n",
              "    display: none;\n",
              "    fill: #1967D2;\n",
              "    height: 32px;\n",
              "    padding: 0 0 0 0;\n",
              "    width: 32px;\n",
              "  }\n",
              "\n",
              "  .colab-df-quickchart:hover {\n",
              "    background-color: #E2EBFA;\n",
              "    box-shadow: 0px 1px 2px rgba(60, 64, 67, 0.3), 0px 1px 3px 1px rgba(60, 64, 67, 0.15);\n",
              "    fill: #174EA6;\n",
              "  }\n",
              "\n",
              "  [theme=dark] .colab-df-quickchart {\n",
              "    background-color: #3B4455;\n",
              "    fill: #D2E3FC;\n",
              "  }\n",
              "\n",
              "  [theme=dark] .colab-df-quickchart:hover {\n",
              "    background-color: #434B5C;\n",
              "    box-shadow: 0px 1px 3px 1px rgba(0, 0, 0, 0.15);\n",
              "    filter: drop-shadow(0px 1px 2px rgba(0, 0, 0, 0.3));\n",
              "    fill: #FFFFFF;\n",
              "  }\n",
              "</style>\n",
              "\n",
              "    <script>\n",
              "      async function quickchart(key) {\n",
              "        const containerElement = document.querySelector('#' + key);\n",
              "        const charts = await google.colab.kernel.invokeFunction(\n",
              "            'suggestCharts', [key], {});\n",
              "      }\n",
              "    </script>\n",
              "\n",
              "      <script>\n",
              "\n",
              "function displayQuickchartButton(domScope) {\n",
              "  let quickchartButtonEl =\n",
              "    domScope.querySelector('#df-04cdcbd0-88be-4b7f-a903-07fe6a3a0010 button.colab-df-quickchart');\n",
              "  quickchartButtonEl.style.display =\n",
              "    google.colab.kernel.accessAllowed ? 'block' : 'none';\n",
              "}\n",
              "\n",
              "        displayQuickchartButton(document);\n",
              "      </script>\n",
              "      <style>\n",
              "    .colab-df-container {\n",
              "      display:flex;\n",
              "      flex-wrap:wrap;\n",
              "      gap: 12px;\n",
              "    }\n",
              "\n",
              "    .colab-df-convert {\n",
              "      background-color: #E8F0FE;\n",
              "      border: none;\n",
              "      border-radius: 50%;\n",
              "      cursor: pointer;\n",
              "      display: none;\n",
              "      fill: #1967D2;\n",
              "      height: 32px;\n",
              "      padding: 0 0 0 0;\n",
              "      width: 32px;\n",
              "    }\n",
              "\n",
              "    .colab-df-convert:hover {\n",
              "      background-color: #E2EBFA;\n",
              "      box-shadow: 0px 1px 2px rgba(60, 64, 67, 0.3), 0px 1px 3px 1px rgba(60, 64, 67, 0.15);\n",
              "      fill: #174EA6;\n",
              "    }\n",
              "\n",
              "    [theme=dark] .colab-df-convert {\n",
              "      background-color: #3B4455;\n",
              "      fill: #D2E3FC;\n",
              "    }\n",
              "\n",
              "    [theme=dark] .colab-df-convert:hover {\n",
              "      background-color: #434B5C;\n",
              "      box-shadow: 0px 1px 3px 1px rgba(0, 0, 0, 0.15);\n",
              "      filter: drop-shadow(0px 1px 2px rgba(0, 0, 0, 0.3));\n",
              "      fill: #FFFFFF;\n",
              "    }\n",
              "  </style>\n",
              "\n",
              "      <script>\n",
              "        const buttonEl =\n",
              "          document.querySelector('#df-d4c22900-1583-4103-b454-ce7ce7f05c44 button.colab-df-convert');\n",
              "        buttonEl.style.display =\n",
              "          google.colab.kernel.accessAllowed ? 'block' : 'none';\n",
              "\n",
              "        async function convertToInteractive(key) {\n",
              "          const element = document.querySelector('#df-d4c22900-1583-4103-b454-ce7ce7f05c44');\n",
              "          const dataTable =\n",
              "            await google.colab.kernel.invokeFunction('convertToInteractive',\n",
              "                                                     [key], {});\n",
              "          if (!dataTable) return;\n",
              "\n",
              "          const docLinkHtml = 'Like what you see? Visit the ' +\n",
              "            '<a target=\"_blank\" href=https://colab.research.google.com/notebooks/data_table.ipynb>data table notebook</a>'\n",
              "            + ' to learn more about interactive tables.';\n",
              "          element.innerHTML = '';\n",
              "          dataTable['output_type'] = 'display_data';\n",
              "          await google.colab.output.renderOutput(dataTable, element);\n",
              "          const docLink = document.createElement('div');\n",
              "          docLink.innerHTML = docLinkHtml;\n",
              "          element.appendChild(docLink);\n",
              "        }\n",
              "      </script>\n",
              "    </div>\n",
              "  </div>\n"
            ]
          },
          "metadata": {},
          "execution_count": 6
        }
      ],
      "source": [
        "df2_from_array = pd.DataFrame(my_array, columns=[\"A\", \"B\", \"C\", \"D\", \"E\"])\n",
        "df2_from_array"
      ]
    },
    {
      "cell_type": "markdown",
      "metadata": {
        "id": "qkh8evmFeIF0"
      },
      "source": [
        "#### 2. Deal with rows and columns"
      ]
    },
    {
      "cell_type": "markdown",
      "metadata": {
        "id": "gq7_ch01eIF0"
      },
      "source": [
        "Print DataFrame shape, number of rows and columns"
      ]
    },
    {
      "cell_type": "code",
      "execution_count": null,
      "metadata": {
        "id": "LxKI5SgPeIF0",
        "outputId": "17ab6830-0686-4416-e836-8834daa4b147",
        "colab": {
          "base_uri": "https://localhost:8080/"
        }
      },
      "outputs": [
        {
          "output_type": "stream",
          "name": "stdout",
          "text": [
            "Data frame shape:  (6, 5)\n",
            "Number of rows:  6\n",
            "Number of columns:  5\n"
          ]
        }
      ],
      "source": [
        "print(\"Data frame shape: \", df2_from_array.shape)\n",
        "print(\"Number of rows: \", df2_from_array.shape[0])\n",
        "print(\"Number of columns: \", df2_from_array.shape[1])"
      ]
    },
    {
      "cell_type": "markdown",
      "metadata": {
        "id": "zSOSwoz8eIF1"
      },
      "source": [
        "Print column names"
      ]
    },
    {
      "cell_type": "code",
      "execution_count": null,
      "metadata": {
        "id": "Ki8K6aUNeIF1",
        "outputId": "96586f09-8473-4934-9d87-526ef7d8779f",
        "colab": {
          "base_uri": "https://localhost:8080/"
        }
      },
      "outputs": [
        {
          "output_type": "stream",
          "name": "stdout",
          "text": [
            "Column names:  ['A', 'B', 'C', 'D', 'E']\n"
          ]
        }
      ],
      "source": [
        "print(\"Column names: \", df2_from_array.columns.tolist())"
      ]
    },
    {
      "cell_type": "markdown",
      "metadata": {
        "id": "F6PVTlk0eIF1"
      },
      "source": [
        "Access to a specific column"
      ]
    },
    {
      "cell_type": "code",
      "execution_count": null,
      "metadata": {
        "id": "x2k8F4wveIF1",
        "outputId": "1c88799c-17df-4529-bb61-201d78244f07",
        "colab": {
          "base_uri": "https://localhost:8080/"
        }
      },
      "outputs": [
        {
          "output_type": "execute_result",
          "data": {
            "text/plain": [
              "0    0.403793\n",
              "1    0.344384\n",
              "2    0.235342\n",
              "3    0.849857\n",
              "4    0.904477\n",
              "5    0.320154\n",
              "Name: C, dtype: float64"
            ]
          },
          "metadata": {},
          "execution_count": 9
        }
      ],
      "source": [
        "# Access to column C\n",
        "df2_from_array[\"C\"]"
      ]
    },
    {
      "cell_type": "code",
      "execution_count": null,
      "metadata": {
        "scrolled": true,
        "id": "Lz5yMGHSeIF1",
        "outputId": "f6fdaf1d-77cf-4845-cb83-978d77c8f6db",
        "colab": {
          "base_uri": "https://localhost:8080/",
          "height": 238
        }
      },
      "outputs": [
        {
          "output_type": "execute_result",
          "data": {
            "text/plain": [
              "          B         E\n",
              "0  0.150743  0.749972\n",
              "1  0.706526  0.767557\n",
              "2  0.344702  0.479940\n",
              "3  0.046012  0.503519\n",
              "4  0.279807  0.410004\n",
              "5  0.049021  0.832227"
            ],
            "text/html": [
              "\n",
              "\n",
              "  <div id=\"df-230ec771-860a-4dc9-b2a5-3266b44a636f\">\n",
              "    <div class=\"colab-df-container\">\n",
              "      <div>\n",
              "<style scoped>\n",
              "    .dataframe tbody tr th:only-of-type {\n",
              "        vertical-align: middle;\n",
              "    }\n",
              "\n",
              "    .dataframe tbody tr th {\n",
              "        vertical-align: top;\n",
              "    }\n",
              "\n",
              "    .dataframe thead th {\n",
              "        text-align: right;\n",
              "    }\n",
              "</style>\n",
              "<table border=\"1\" class=\"dataframe\">\n",
              "  <thead>\n",
              "    <tr style=\"text-align: right;\">\n",
              "      <th></th>\n",
              "      <th>B</th>\n",
              "      <th>E</th>\n",
              "    </tr>\n",
              "  </thead>\n",
              "  <tbody>\n",
              "    <tr>\n",
              "      <th>0</th>\n",
              "      <td>0.150743</td>\n",
              "      <td>0.749972</td>\n",
              "    </tr>\n",
              "    <tr>\n",
              "      <th>1</th>\n",
              "      <td>0.706526</td>\n",
              "      <td>0.767557</td>\n",
              "    </tr>\n",
              "    <tr>\n",
              "      <th>2</th>\n",
              "      <td>0.344702</td>\n",
              "      <td>0.479940</td>\n",
              "    </tr>\n",
              "    <tr>\n",
              "      <th>3</th>\n",
              "      <td>0.046012</td>\n",
              "      <td>0.503519</td>\n",
              "    </tr>\n",
              "    <tr>\n",
              "      <th>4</th>\n",
              "      <td>0.279807</td>\n",
              "      <td>0.410004</td>\n",
              "    </tr>\n",
              "    <tr>\n",
              "      <th>5</th>\n",
              "      <td>0.049021</td>\n",
              "      <td>0.832227</td>\n",
              "    </tr>\n",
              "  </tbody>\n",
              "</table>\n",
              "</div>\n",
              "      <button class=\"colab-df-convert\" onclick=\"convertToInteractive('df-230ec771-860a-4dc9-b2a5-3266b44a636f')\"\n",
              "              title=\"Convert this dataframe to an interactive table.\"\n",
              "              style=\"display:none;\">\n",
              "\n",
              "  <svg xmlns=\"http://www.w3.org/2000/svg\" height=\"24px\"viewBox=\"0 0 24 24\"\n",
              "       width=\"24px\">\n",
              "    <path d=\"M0 0h24v24H0V0z\" fill=\"none\"/>\n",
              "    <path d=\"M18.56 5.44l.94 2.06.94-2.06 2.06-.94-2.06-.94-.94-2.06-.94 2.06-2.06.94zm-11 1L8.5 8.5l.94-2.06 2.06-.94-2.06-.94L8.5 2.5l-.94 2.06-2.06.94zm10 10l.94 2.06.94-2.06 2.06-.94-2.06-.94-.94-2.06-.94 2.06-2.06.94z\"/><path d=\"M17.41 7.96l-1.37-1.37c-.4-.4-.92-.59-1.43-.59-.52 0-1.04.2-1.43.59L10.3 9.45l-7.72 7.72c-.78.78-.78 2.05 0 2.83L4 21.41c.39.39.9.59 1.41.59.51 0 1.02-.2 1.41-.59l7.78-7.78 2.81-2.81c.8-.78.8-2.07 0-2.86zM5.41 20L4 18.59l7.72-7.72 1.47 1.35L5.41 20z\"/>\n",
              "  </svg>\n",
              "      </button>\n",
              "\n",
              "\n",
              "\n",
              "    <div id=\"df-b2a422bb-d33b-45b9-84fb-39c9d44e3e81\">\n",
              "      <button class=\"colab-df-quickchart\" onclick=\"quickchart('df-b2a422bb-d33b-45b9-84fb-39c9d44e3e81')\"\n",
              "              title=\"Suggest charts.\"\n",
              "              style=\"display:none;\">\n",
              "\n",
              "<svg xmlns=\"http://www.w3.org/2000/svg\" height=\"24px\"viewBox=\"0 0 24 24\"\n",
              "     width=\"24px\">\n",
              "    <g>\n",
              "        <path d=\"M19 3H5c-1.1 0-2 .9-2 2v14c0 1.1.9 2 2 2h14c1.1 0 2-.9 2-2V5c0-1.1-.9-2-2-2zM9 17H7v-7h2v7zm4 0h-2V7h2v10zm4 0h-2v-4h2v4z\"/>\n",
              "    </g>\n",
              "</svg>\n",
              "      </button>\n",
              "    </div>\n",
              "\n",
              "<style>\n",
              "  .colab-df-quickchart {\n",
              "    background-color: #E8F0FE;\n",
              "    border: none;\n",
              "    border-radius: 50%;\n",
              "    cursor: pointer;\n",
              "    display: none;\n",
              "    fill: #1967D2;\n",
              "    height: 32px;\n",
              "    padding: 0 0 0 0;\n",
              "    width: 32px;\n",
              "  }\n",
              "\n",
              "  .colab-df-quickchart:hover {\n",
              "    background-color: #E2EBFA;\n",
              "    box-shadow: 0px 1px 2px rgba(60, 64, 67, 0.3), 0px 1px 3px 1px rgba(60, 64, 67, 0.15);\n",
              "    fill: #174EA6;\n",
              "  }\n",
              "\n",
              "  [theme=dark] .colab-df-quickchart {\n",
              "    background-color: #3B4455;\n",
              "    fill: #D2E3FC;\n",
              "  }\n",
              "\n",
              "  [theme=dark] .colab-df-quickchart:hover {\n",
              "    background-color: #434B5C;\n",
              "    box-shadow: 0px 1px 3px 1px rgba(0, 0, 0, 0.15);\n",
              "    filter: drop-shadow(0px 1px 2px rgba(0, 0, 0, 0.3));\n",
              "    fill: #FFFFFF;\n",
              "  }\n",
              "</style>\n",
              "\n",
              "    <script>\n",
              "      async function quickchart(key) {\n",
              "        const containerElement = document.querySelector('#' + key);\n",
              "        const charts = await google.colab.kernel.invokeFunction(\n",
              "            'suggestCharts', [key], {});\n",
              "      }\n",
              "    </script>\n",
              "\n",
              "      <script>\n",
              "\n",
              "function displayQuickchartButton(domScope) {\n",
              "  let quickchartButtonEl =\n",
              "    domScope.querySelector('#df-b2a422bb-d33b-45b9-84fb-39c9d44e3e81 button.colab-df-quickchart');\n",
              "  quickchartButtonEl.style.display =\n",
              "    google.colab.kernel.accessAllowed ? 'block' : 'none';\n",
              "}\n",
              "\n",
              "        displayQuickchartButton(document);\n",
              "      </script>\n",
              "      <style>\n",
              "    .colab-df-container {\n",
              "      display:flex;\n",
              "      flex-wrap:wrap;\n",
              "      gap: 12px;\n",
              "    }\n",
              "\n",
              "    .colab-df-convert {\n",
              "      background-color: #E8F0FE;\n",
              "      border: none;\n",
              "      border-radius: 50%;\n",
              "      cursor: pointer;\n",
              "      display: none;\n",
              "      fill: #1967D2;\n",
              "      height: 32px;\n",
              "      padding: 0 0 0 0;\n",
              "      width: 32px;\n",
              "    }\n",
              "\n",
              "    .colab-df-convert:hover {\n",
              "      background-color: #E2EBFA;\n",
              "      box-shadow: 0px 1px 2px rgba(60, 64, 67, 0.3), 0px 1px 3px 1px rgba(60, 64, 67, 0.15);\n",
              "      fill: #174EA6;\n",
              "    }\n",
              "\n",
              "    [theme=dark] .colab-df-convert {\n",
              "      background-color: #3B4455;\n",
              "      fill: #D2E3FC;\n",
              "    }\n",
              "\n",
              "    [theme=dark] .colab-df-convert:hover {\n",
              "      background-color: #434B5C;\n",
              "      box-shadow: 0px 1px 3px 1px rgba(0, 0, 0, 0.15);\n",
              "      filter: drop-shadow(0px 1px 2px rgba(0, 0, 0, 0.3));\n",
              "      fill: #FFFFFF;\n",
              "    }\n",
              "  </style>\n",
              "\n",
              "      <script>\n",
              "        const buttonEl =\n",
              "          document.querySelector('#df-230ec771-860a-4dc9-b2a5-3266b44a636f button.colab-df-convert');\n",
              "        buttonEl.style.display =\n",
              "          google.colab.kernel.accessAllowed ? 'block' : 'none';\n",
              "\n",
              "        async function convertToInteractive(key) {\n",
              "          const element = document.querySelector('#df-230ec771-860a-4dc9-b2a5-3266b44a636f');\n",
              "          const dataTable =\n",
              "            await google.colab.kernel.invokeFunction('convertToInteractive',\n",
              "                                                     [key], {});\n",
              "          if (!dataTable) return;\n",
              "\n",
              "          const docLinkHtml = 'Like what you see? Visit the ' +\n",
              "            '<a target=\"_blank\" href=https://colab.research.google.com/notebooks/data_table.ipynb>data table notebook</a>'\n",
              "            + ' to learn more about interactive tables.';\n",
              "          element.innerHTML = '';\n",
              "          dataTable['output_type'] = 'display_data';\n",
              "          await google.colab.output.renderOutput(dataTable, element);\n",
              "          const docLink = document.createElement('div');\n",
              "          docLink.innerHTML = docLinkHtml;\n",
              "          element.appendChild(docLink);\n",
              "        }\n",
              "      </script>\n",
              "    </div>\n",
              "  </div>\n"
            ]
          },
          "metadata": {},
          "execution_count": 10
        }
      ],
      "source": [
        "# Access to column B and E\n",
        "df2_from_array[[\"B\",\"E\"]]"
      ]
    },
    {
      "cell_type": "markdown",
      "metadata": {
        "id": "Ja9C3xfReIF2"
      },
      "source": [
        "Add a column"
      ]
    },
    {
      "cell_type": "code",
      "execution_count": null,
      "metadata": {
        "id": "oFplLuO5eIF2",
        "outputId": "2d6ecec9-0fac-4291-bd97-5a774d855134",
        "colab": {
          "base_uri": "https://localhost:8080/",
          "height": 238
        }
      },
      "outputs": [
        {
          "output_type": "execute_result",
          "data": {
            "text/plain": [
              "          A         B         C         D         E         F\n",
              "0  0.268143  0.150743  0.403793  0.189033  0.749972  0.556478\n",
              "1  0.714936  0.706526  0.344384  0.773719  0.767557  0.488478\n",
              "2  0.948569  0.344702  0.235342  0.989451  0.479940  0.969688\n",
              "3  0.368987  0.046012  0.849857  0.468062  0.503519  0.670830\n",
              "4  0.182829  0.279807  0.904477  0.657302  0.410004  0.969846\n",
              "5  0.585111  0.049021  0.320154  0.425213  0.832227  0.219740"
            ],
            "text/html": [
              "\n",
              "\n",
              "  <div id=\"df-f0c21a28-00ca-4f71-ad05-9a536de12ea8\">\n",
              "    <div class=\"colab-df-container\">\n",
              "      <div>\n",
              "<style scoped>\n",
              "    .dataframe tbody tr th:only-of-type {\n",
              "        vertical-align: middle;\n",
              "    }\n",
              "\n",
              "    .dataframe tbody tr th {\n",
              "        vertical-align: top;\n",
              "    }\n",
              "\n",
              "    .dataframe thead th {\n",
              "        text-align: right;\n",
              "    }\n",
              "</style>\n",
              "<table border=\"1\" class=\"dataframe\">\n",
              "  <thead>\n",
              "    <tr style=\"text-align: right;\">\n",
              "      <th></th>\n",
              "      <th>A</th>\n",
              "      <th>B</th>\n",
              "      <th>C</th>\n",
              "      <th>D</th>\n",
              "      <th>E</th>\n",
              "      <th>F</th>\n",
              "    </tr>\n",
              "  </thead>\n",
              "  <tbody>\n",
              "    <tr>\n",
              "      <th>0</th>\n",
              "      <td>0.268143</td>\n",
              "      <td>0.150743</td>\n",
              "      <td>0.403793</td>\n",
              "      <td>0.189033</td>\n",
              "      <td>0.749972</td>\n",
              "      <td>0.556478</td>\n",
              "    </tr>\n",
              "    <tr>\n",
              "      <th>1</th>\n",
              "      <td>0.714936</td>\n",
              "      <td>0.706526</td>\n",
              "      <td>0.344384</td>\n",
              "      <td>0.773719</td>\n",
              "      <td>0.767557</td>\n",
              "      <td>0.488478</td>\n",
              "    </tr>\n",
              "    <tr>\n",
              "      <th>2</th>\n",
              "      <td>0.948569</td>\n",
              "      <td>0.344702</td>\n",
              "      <td>0.235342</td>\n",
              "      <td>0.989451</td>\n",
              "      <td>0.479940</td>\n",
              "      <td>0.969688</td>\n",
              "    </tr>\n",
              "    <tr>\n",
              "      <th>3</th>\n",
              "      <td>0.368987</td>\n",
              "      <td>0.046012</td>\n",
              "      <td>0.849857</td>\n",
              "      <td>0.468062</td>\n",
              "      <td>0.503519</td>\n",
              "      <td>0.670830</td>\n",
              "    </tr>\n",
              "    <tr>\n",
              "      <th>4</th>\n",
              "      <td>0.182829</td>\n",
              "      <td>0.279807</td>\n",
              "      <td>0.904477</td>\n",
              "      <td>0.657302</td>\n",
              "      <td>0.410004</td>\n",
              "      <td>0.969846</td>\n",
              "    </tr>\n",
              "    <tr>\n",
              "      <th>5</th>\n",
              "      <td>0.585111</td>\n",
              "      <td>0.049021</td>\n",
              "      <td>0.320154</td>\n",
              "      <td>0.425213</td>\n",
              "      <td>0.832227</td>\n",
              "      <td>0.219740</td>\n",
              "    </tr>\n",
              "  </tbody>\n",
              "</table>\n",
              "</div>\n",
              "      <button class=\"colab-df-convert\" onclick=\"convertToInteractive('df-f0c21a28-00ca-4f71-ad05-9a536de12ea8')\"\n",
              "              title=\"Convert this dataframe to an interactive table.\"\n",
              "              style=\"display:none;\">\n",
              "\n",
              "  <svg xmlns=\"http://www.w3.org/2000/svg\" height=\"24px\"viewBox=\"0 0 24 24\"\n",
              "       width=\"24px\">\n",
              "    <path d=\"M0 0h24v24H0V0z\" fill=\"none\"/>\n",
              "    <path d=\"M18.56 5.44l.94 2.06.94-2.06 2.06-.94-2.06-.94-.94-2.06-.94 2.06-2.06.94zm-11 1L8.5 8.5l.94-2.06 2.06-.94-2.06-.94L8.5 2.5l-.94 2.06-2.06.94zm10 10l.94 2.06.94-2.06 2.06-.94-2.06-.94-.94-2.06-.94 2.06-2.06.94z\"/><path d=\"M17.41 7.96l-1.37-1.37c-.4-.4-.92-.59-1.43-.59-.52 0-1.04.2-1.43.59L10.3 9.45l-7.72 7.72c-.78.78-.78 2.05 0 2.83L4 21.41c.39.39.9.59 1.41.59.51 0 1.02-.2 1.41-.59l7.78-7.78 2.81-2.81c.8-.78.8-2.07 0-2.86zM5.41 20L4 18.59l7.72-7.72 1.47 1.35L5.41 20z\"/>\n",
              "  </svg>\n",
              "      </button>\n",
              "\n",
              "\n",
              "\n",
              "    <div id=\"df-e311595d-3ff1-444f-9a41-5abfa540f636\">\n",
              "      <button class=\"colab-df-quickchart\" onclick=\"quickchart('df-e311595d-3ff1-444f-9a41-5abfa540f636')\"\n",
              "              title=\"Suggest charts.\"\n",
              "              style=\"display:none;\">\n",
              "\n",
              "<svg xmlns=\"http://www.w3.org/2000/svg\" height=\"24px\"viewBox=\"0 0 24 24\"\n",
              "     width=\"24px\">\n",
              "    <g>\n",
              "        <path d=\"M19 3H5c-1.1 0-2 .9-2 2v14c0 1.1.9 2 2 2h14c1.1 0 2-.9 2-2V5c0-1.1-.9-2-2-2zM9 17H7v-7h2v7zm4 0h-2V7h2v10zm4 0h-2v-4h2v4z\"/>\n",
              "    </g>\n",
              "</svg>\n",
              "      </button>\n",
              "    </div>\n",
              "\n",
              "<style>\n",
              "  .colab-df-quickchart {\n",
              "    background-color: #E8F0FE;\n",
              "    border: none;\n",
              "    border-radius: 50%;\n",
              "    cursor: pointer;\n",
              "    display: none;\n",
              "    fill: #1967D2;\n",
              "    height: 32px;\n",
              "    padding: 0 0 0 0;\n",
              "    width: 32px;\n",
              "  }\n",
              "\n",
              "  .colab-df-quickchart:hover {\n",
              "    background-color: #E2EBFA;\n",
              "    box-shadow: 0px 1px 2px rgba(60, 64, 67, 0.3), 0px 1px 3px 1px rgba(60, 64, 67, 0.15);\n",
              "    fill: #174EA6;\n",
              "  }\n",
              "\n",
              "  [theme=dark] .colab-df-quickchart {\n",
              "    background-color: #3B4455;\n",
              "    fill: #D2E3FC;\n",
              "  }\n",
              "\n",
              "  [theme=dark] .colab-df-quickchart:hover {\n",
              "    background-color: #434B5C;\n",
              "    box-shadow: 0px 1px 3px 1px rgba(0, 0, 0, 0.15);\n",
              "    filter: drop-shadow(0px 1px 2px rgba(0, 0, 0, 0.3));\n",
              "    fill: #FFFFFF;\n",
              "  }\n",
              "</style>\n",
              "\n",
              "    <script>\n",
              "      async function quickchart(key) {\n",
              "        const containerElement = document.querySelector('#' + key);\n",
              "        const charts = await google.colab.kernel.invokeFunction(\n",
              "            'suggestCharts', [key], {});\n",
              "      }\n",
              "    </script>\n",
              "\n",
              "      <script>\n",
              "\n",
              "function displayQuickchartButton(domScope) {\n",
              "  let quickchartButtonEl =\n",
              "    domScope.querySelector('#df-e311595d-3ff1-444f-9a41-5abfa540f636 button.colab-df-quickchart');\n",
              "  quickchartButtonEl.style.display =\n",
              "    google.colab.kernel.accessAllowed ? 'block' : 'none';\n",
              "}\n",
              "\n",
              "        displayQuickchartButton(document);\n",
              "      </script>\n",
              "      <style>\n",
              "    .colab-df-container {\n",
              "      display:flex;\n",
              "      flex-wrap:wrap;\n",
              "      gap: 12px;\n",
              "    }\n",
              "\n",
              "    .colab-df-convert {\n",
              "      background-color: #E8F0FE;\n",
              "      border: none;\n",
              "      border-radius: 50%;\n",
              "      cursor: pointer;\n",
              "      display: none;\n",
              "      fill: #1967D2;\n",
              "      height: 32px;\n",
              "      padding: 0 0 0 0;\n",
              "      width: 32px;\n",
              "    }\n",
              "\n",
              "    .colab-df-convert:hover {\n",
              "      background-color: #E2EBFA;\n",
              "      box-shadow: 0px 1px 2px rgba(60, 64, 67, 0.3), 0px 1px 3px 1px rgba(60, 64, 67, 0.15);\n",
              "      fill: #174EA6;\n",
              "    }\n",
              "\n",
              "    [theme=dark] .colab-df-convert {\n",
              "      background-color: #3B4455;\n",
              "      fill: #D2E3FC;\n",
              "    }\n",
              "\n",
              "    [theme=dark] .colab-df-convert:hover {\n",
              "      background-color: #434B5C;\n",
              "      box-shadow: 0px 1px 3px 1px rgba(0, 0, 0, 0.15);\n",
              "      filter: drop-shadow(0px 1px 2px rgba(0, 0, 0, 0.3));\n",
              "      fill: #FFFFFF;\n",
              "    }\n",
              "  </style>\n",
              "\n",
              "      <script>\n",
              "        const buttonEl =\n",
              "          document.querySelector('#df-f0c21a28-00ca-4f71-ad05-9a536de12ea8 button.colab-df-convert');\n",
              "        buttonEl.style.display =\n",
              "          google.colab.kernel.accessAllowed ? 'block' : 'none';\n",
              "\n",
              "        async function convertToInteractive(key) {\n",
              "          const element = document.querySelector('#df-f0c21a28-00ca-4f71-ad05-9a536de12ea8');\n",
              "          const dataTable =\n",
              "            await google.colab.kernel.invokeFunction('convertToInteractive',\n",
              "                                                     [key], {});\n",
              "          if (!dataTable) return;\n",
              "\n",
              "          const docLinkHtml = 'Like what you see? Visit the ' +\n",
              "            '<a target=\"_blank\" href=https://colab.research.google.com/notebooks/data_table.ipynb>data table notebook</a>'\n",
              "            + ' to learn more about interactive tables.';\n",
              "          element.innerHTML = '';\n",
              "          dataTable['output_type'] = 'display_data';\n",
              "          await google.colab.output.renderOutput(dataTable, element);\n",
              "          const docLink = document.createElement('div');\n",
              "          docLink.innerHTML = docLinkHtml;\n",
              "          element.appendChild(docLink);\n",
              "        }\n",
              "      </script>\n",
              "    </div>\n",
              "  </div>\n"
            ]
          },
          "metadata": {},
          "execution_count": 11
        }
      ],
      "source": [
        "# Add a column F to the Dataframe\n",
        "column_f = np.random.rand(6) # The length of F should be equal to the number of rows of the data frame\n",
        "df2_from_array[\"F\"] = column_f\n",
        "df2_from_array"
      ]
    },
    {
      "cell_type": "markdown",
      "metadata": {
        "id": "noITx8ideIF2"
      },
      "source": [
        "Delete a column"
      ]
    },
    {
      "cell_type": "code",
      "execution_count": null,
      "metadata": {
        "id": "ffV_e3wHeIF3",
        "colab": {
          "base_uri": "https://localhost:8080/",
          "height": 238
        },
        "outputId": "93580376-d995-4773-ad40-ecf02df07b93"
      },
      "outputs": [
        {
          "output_type": "execute_result",
          "data": {
            "text/plain": [
              "          A         B         C         D         E\n",
              "0  0.268143  0.150743  0.403793  0.189033  0.749972\n",
              "1  0.714936  0.706526  0.344384  0.773719  0.767557\n",
              "2  0.948569  0.344702  0.235342  0.989451  0.479940\n",
              "3  0.368987  0.046012  0.849857  0.468062  0.503519\n",
              "4  0.182829  0.279807  0.904477  0.657302  0.410004\n",
              "5  0.585111  0.049021  0.320154  0.425213  0.832227"
            ],
            "text/html": [
              "\n",
              "\n",
              "  <div id=\"df-bcb4287a-aa8d-451e-9666-f647681d9254\">\n",
              "    <div class=\"colab-df-container\">\n",
              "      <div>\n",
              "<style scoped>\n",
              "    .dataframe tbody tr th:only-of-type {\n",
              "        vertical-align: middle;\n",
              "    }\n",
              "\n",
              "    .dataframe tbody tr th {\n",
              "        vertical-align: top;\n",
              "    }\n",
              "\n",
              "    .dataframe thead th {\n",
              "        text-align: right;\n",
              "    }\n",
              "</style>\n",
              "<table border=\"1\" class=\"dataframe\">\n",
              "  <thead>\n",
              "    <tr style=\"text-align: right;\">\n",
              "      <th></th>\n",
              "      <th>A</th>\n",
              "      <th>B</th>\n",
              "      <th>C</th>\n",
              "      <th>D</th>\n",
              "      <th>E</th>\n",
              "    </tr>\n",
              "  </thead>\n",
              "  <tbody>\n",
              "    <tr>\n",
              "      <th>0</th>\n",
              "      <td>0.268143</td>\n",
              "      <td>0.150743</td>\n",
              "      <td>0.403793</td>\n",
              "      <td>0.189033</td>\n",
              "      <td>0.749972</td>\n",
              "    </tr>\n",
              "    <tr>\n",
              "      <th>1</th>\n",
              "      <td>0.714936</td>\n",
              "      <td>0.706526</td>\n",
              "      <td>0.344384</td>\n",
              "      <td>0.773719</td>\n",
              "      <td>0.767557</td>\n",
              "    </tr>\n",
              "    <tr>\n",
              "      <th>2</th>\n",
              "      <td>0.948569</td>\n",
              "      <td>0.344702</td>\n",
              "      <td>0.235342</td>\n",
              "      <td>0.989451</td>\n",
              "      <td>0.479940</td>\n",
              "    </tr>\n",
              "    <tr>\n",
              "      <th>3</th>\n",
              "      <td>0.368987</td>\n",
              "      <td>0.046012</td>\n",
              "      <td>0.849857</td>\n",
              "      <td>0.468062</td>\n",
              "      <td>0.503519</td>\n",
              "    </tr>\n",
              "    <tr>\n",
              "      <th>4</th>\n",
              "      <td>0.182829</td>\n",
              "      <td>0.279807</td>\n",
              "      <td>0.904477</td>\n",
              "      <td>0.657302</td>\n",
              "      <td>0.410004</td>\n",
              "    </tr>\n",
              "    <tr>\n",
              "      <th>5</th>\n",
              "      <td>0.585111</td>\n",
              "      <td>0.049021</td>\n",
              "      <td>0.320154</td>\n",
              "      <td>0.425213</td>\n",
              "      <td>0.832227</td>\n",
              "    </tr>\n",
              "  </tbody>\n",
              "</table>\n",
              "</div>\n",
              "      <button class=\"colab-df-convert\" onclick=\"convertToInteractive('df-bcb4287a-aa8d-451e-9666-f647681d9254')\"\n",
              "              title=\"Convert this dataframe to an interactive table.\"\n",
              "              style=\"display:none;\">\n",
              "\n",
              "  <svg xmlns=\"http://www.w3.org/2000/svg\" height=\"24px\"viewBox=\"0 0 24 24\"\n",
              "       width=\"24px\">\n",
              "    <path d=\"M0 0h24v24H0V0z\" fill=\"none\"/>\n",
              "    <path d=\"M18.56 5.44l.94 2.06.94-2.06 2.06-.94-2.06-.94-.94-2.06-.94 2.06-2.06.94zm-11 1L8.5 8.5l.94-2.06 2.06-.94-2.06-.94L8.5 2.5l-.94 2.06-2.06.94zm10 10l.94 2.06.94-2.06 2.06-.94-2.06-.94-.94-2.06-.94 2.06-2.06.94z\"/><path d=\"M17.41 7.96l-1.37-1.37c-.4-.4-.92-.59-1.43-.59-.52 0-1.04.2-1.43.59L10.3 9.45l-7.72 7.72c-.78.78-.78 2.05 0 2.83L4 21.41c.39.39.9.59 1.41.59.51 0 1.02-.2 1.41-.59l7.78-7.78 2.81-2.81c.8-.78.8-2.07 0-2.86zM5.41 20L4 18.59l7.72-7.72 1.47 1.35L5.41 20z\"/>\n",
              "  </svg>\n",
              "      </button>\n",
              "\n",
              "\n",
              "\n",
              "    <div id=\"df-bdd3d76d-1df4-40eb-886e-c3aa5b270ea4\">\n",
              "      <button class=\"colab-df-quickchart\" onclick=\"quickchart('df-bdd3d76d-1df4-40eb-886e-c3aa5b270ea4')\"\n",
              "              title=\"Suggest charts.\"\n",
              "              style=\"display:none;\">\n",
              "\n",
              "<svg xmlns=\"http://www.w3.org/2000/svg\" height=\"24px\"viewBox=\"0 0 24 24\"\n",
              "     width=\"24px\">\n",
              "    <g>\n",
              "        <path d=\"M19 3H5c-1.1 0-2 .9-2 2v14c0 1.1.9 2 2 2h14c1.1 0 2-.9 2-2V5c0-1.1-.9-2-2-2zM9 17H7v-7h2v7zm4 0h-2V7h2v10zm4 0h-2v-4h2v4z\"/>\n",
              "    </g>\n",
              "</svg>\n",
              "      </button>\n",
              "    </div>\n",
              "\n",
              "<style>\n",
              "  .colab-df-quickchart {\n",
              "    background-color: #E8F0FE;\n",
              "    border: none;\n",
              "    border-radius: 50%;\n",
              "    cursor: pointer;\n",
              "    display: none;\n",
              "    fill: #1967D2;\n",
              "    height: 32px;\n",
              "    padding: 0 0 0 0;\n",
              "    width: 32px;\n",
              "  }\n",
              "\n",
              "  .colab-df-quickchart:hover {\n",
              "    background-color: #E2EBFA;\n",
              "    box-shadow: 0px 1px 2px rgba(60, 64, 67, 0.3), 0px 1px 3px 1px rgba(60, 64, 67, 0.15);\n",
              "    fill: #174EA6;\n",
              "  }\n",
              "\n",
              "  [theme=dark] .colab-df-quickchart {\n",
              "    background-color: #3B4455;\n",
              "    fill: #D2E3FC;\n",
              "  }\n",
              "\n",
              "  [theme=dark] .colab-df-quickchart:hover {\n",
              "    background-color: #434B5C;\n",
              "    box-shadow: 0px 1px 3px 1px rgba(0, 0, 0, 0.15);\n",
              "    filter: drop-shadow(0px 1px 2px rgba(0, 0, 0, 0.3));\n",
              "    fill: #FFFFFF;\n",
              "  }\n",
              "</style>\n",
              "\n",
              "    <script>\n",
              "      async function quickchart(key) {\n",
              "        const containerElement = document.querySelector('#' + key);\n",
              "        const charts = await google.colab.kernel.invokeFunction(\n",
              "            'suggestCharts', [key], {});\n",
              "      }\n",
              "    </script>\n",
              "\n",
              "      <script>\n",
              "\n",
              "function displayQuickchartButton(domScope) {\n",
              "  let quickchartButtonEl =\n",
              "    domScope.querySelector('#df-bdd3d76d-1df4-40eb-886e-c3aa5b270ea4 button.colab-df-quickchart');\n",
              "  quickchartButtonEl.style.display =\n",
              "    google.colab.kernel.accessAllowed ? 'block' : 'none';\n",
              "}\n",
              "\n",
              "        displayQuickchartButton(document);\n",
              "      </script>\n",
              "      <style>\n",
              "    .colab-df-container {\n",
              "      display:flex;\n",
              "      flex-wrap:wrap;\n",
              "      gap: 12px;\n",
              "    }\n",
              "\n",
              "    .colab-df-convert {\n",
              "      background-color: #E8F0FE;\n",
              "      border: none;\n",
              "      border-radius: 50%;\n",
              "      cursor: pointer;\n",
              "      display: none;\n",
              "      fill: #1967D2;\n",
              "      height: 32px;\n",
              "      padding: 0 0 0 0;\n",
              "      width: 32px;\n",
              "    }\n",
              "\n",
              "    .colab-df-convert:hover {\n",
              "      background-color: #E2EBFA;\n",
              "      box-shadow: 0px 1px 2px rgba(60, 64, 67, 0.3), 0px 1px 3px 1px rgba(60, 64, 67, 0.15);\n",
              "      fill: #174EA6;\n",
              "    }\n",
              "\n",
              "    [theme=dark] .colab-df-convert {\n",
              "      background-color: #3B4455;\n",
              "      fill: #D2E3FC;\n",
              "    }\n",
              "\n",
              "    [theme=dark] .colab-df-convert:hover {\n",
              "      background-color: #434B5C;\n",
              "      box-shadow: 0px 1px 3px 1px rgba(0, 0, 0, 0.15);\n",
              "      filter: drop-shadow(0px 1px 2px rgba(0, 0, 0, 0.3));\n",
              "      fill: #FFFFFF;\n",
              "    }\n",
              "  </style>\n",
              "\n",
              "      <script>\n",
              "        const buttonEl =\n",
              "          document.querySelector('#df-bcb4287a-aa8d-451e-9666-f647681d9254 button.colab-df-convert');\n",
              "        buttonEl.style.display =\n",
              "          google.colab.kernel.accessAllowed ? 'block' : 'none';\n",
              "\n",
              "        async function convertToInteractive(key) {\n",
              "          const element = document.querySelector('#df-bcb4287a-aa8d-451e-9666-f647681d9254');\n",
              "          const dataTable =\n",
              "            await google.colab.kernel.invokeFunction('convertToInteractive',\n",
              "                                                     [key], {});\n",
              "          if (!dataTable) return;\n",
              "\n",
              "          const docLinkHtml = 'Like what you see? Visit the ' +\n",
              "            '<a target=\"_blank\" href=https://colab.research.google.com/notebooks/data_table.ipynb>data table notebook</a>'\n",
              "            + ' to learn more about interactive tables.';\n",
              "          element.innerHTML = '';\n",
              "          dataTable['output_type'] = 'display_data';\n",
              "          await google.colab.output.renderOutput(dataTable, element);\n",
              "          const docLink = document.createElement('div');\n",
              "          docLink.innerHTML = docLinkHtml;\n",
              "          element.appendChild(docLink);\n",
              "        }\n",
              "      </script>\n",
              "    </div>\n",
              "  </div>\n"
            ]
          },
          "metadata": {},
          "execution_count": 16
        }
      ],
      "source": [
        "# Delete column F from the DataFrame and save the result in a new DataFrame (will not modify the initial one)\n",
        "df3 = df2_from_array.drop(\"F\", axis = 1)\n",
        "df3"
      ]
    },
    {
      "cell_type": "code",
      "source": [
        "# Delete columns A and C from the DataFrame and save the result in a new DataFrame (will not modify the initial one)\n",
        "df4 = df2_from_array.drop([\"A\",\"C\"], axis=1)\n",
        "df4"
      ],
      "metadata": {
        "colab": {
          "base_uri": "https://localhost:8080/",
          "height": 238
        },
        "id": "6DNt_vWirGsM",
        "outputId": "223ed456-4dcf-410c-d9b1-183c793c2201"
      },
      "execution_count": null,
      "outputs": [
        {
          "output_type": "execute_result",
          "data": {
            "text/plain": [
              "          B         D         E\n",
              "0  0.150743  0.189033  0.749972\n",
              "1  0.706526  0.773719  0.767557\n",
              "2  0.344702  0.989451  0.479940\n",
              "3  0.046012  0.468062  0.503519\n",
              "4  0.279807  0.657302  0.410004\n",
              "5  0.049021  0.425213  0.832227"
            ],
            "text/html": [
              "\n",
              "\n",
              "  <div id=\"df-5370f337-bb01-4c8e-ac89-069fbe485c38\">\n",
              "    <div class=\"colab-df-container\">\n",
              "      <div>\n",
              "<style scoped>\n",
              "    .dataframe tbody tr th:only-of-type {\n",
              "        vertical-align: middle;\n",
              "    }\n",
              "\n",
              "    .dataframe tbody tr th {\n",
              "        vertical-align: top;\n",
              "    }\n",
              "\n",
              "    .dataframe thead th {\n",
              "        text-align: right;\n",
              "    }\n",
              "</style>\n",
              "<table border=\"1\" class=\"dataframe\">\n",
              "  <thead>\n",
              "    <tr style=\"text-align: right;\">\n",
              "      <th></th>\n",
              "      <th>B</th>\n",
              "      <th>D</th>\n",
              "      <th>E</th>\n",
              "    </tr>\n",
              "  </thead>\n",
              "  <tbody>\n",
              "    <tr>\n",
              "      <th>0</th>\n",
              "      <td>0.150743</td>\n",
              "      <td>0.189033</td>\n",
              "      <td>0.749972</td>\n",
              "    </tr>\n",
              "    <tr>\n",
              "      <th>1</th>\n",
              "      <td>0.706526</td>\n",
              "      <td>0.773719</td>\n",
              "      <td>0.767557</td>\n",
              "    </tr>\n",
              "    <tr>\n",
              "      <th>2</th>\n",
              "      <td>0.344702</td>\n",
              "      <td>0.989451</td>\n",
              "      <td>0.479940</td>\n",
              "    </tr>\n",
              "    <tr>\n",
              "      <th>3</th>\n",
              "      <td>0.046012</td>\n",
              "      <td>0.468062</td>\n",
              "      <td>0.503519</td>\n",
              "    </tr>\n",
              "    <tr>\n",
              "      <th>4</th>\n",
              "      <td>0.279807</td>\n",
              "      <td>0.657302</td>\n",
              "      <td>0.410004</td>\n",
              "    </tr>\n",
              "    <tr>\n",
              "      <th>5</th>\n",
              "      <td>0.049021</td>\n",
              "      <td>0.425213</td>\n",
              "      <td>0.832227</td>\n",
              "    </tr>\n",
              "  </tbody>\n",
              "</table>\n",
              "</div>\n",
              "      <button class=\"colab-df-convert\" onclick=\"convertToInteractive('df-5370f337-bb01-4c8e-ac89-069fbe485c38')\"\n",
              "              title=\"Convert this dataframe to an interactive table.\"\n",
              "              style=\"display:none;\">\n",
              "\n",
              "  <svg xmlns=\"http://www.w3.org/2000/svg\" height=\"24px\"viewBox=\"0 0 24 24\"\n",
              "       width=\"24px\">\n",
              "    <path d=\"M0 0h24v24H0V0z\" fill=\"none\"/>\n",
              "    <path d=\"M18.56 5.44l.94 2.06.94-2.06 2.06-.94-2.06-.94-.94-2.06-.94 2.06-2.06.94zm-11 1L8.5 8.5l.94-2.06 2.06-.94-2.06-.94L8.5 2.5l-.94 2.06-2.06.94zm10 10l.94 2.06.94-2.06 2.06-.94-2.06-.94-.94-2.06-.94 2.06-2.06.94z\"/><path d=\"M17.41 7.96l-1.37-1.37c-.4-.4-.92-.59-1.43-.59-.52 0-1.04.2-1.43.59L10.3 9.45l-7.72 7.72c-.78.78-.78 2.05 0 2.83L4 21.41c.39.39.9.59 1.41.59.51 0 1.02-.2 1.41-.59l7.78-7.78 2.81-2.81c.8-.78.8-2.07 0-2.86zM5.41 20L4 18.59l7.72-7.72 1.47 1.35L5.41 20z\"/>\n",
              "  </svg>\n",
              "      </button>\n",
              "\n",
              "\n",
              "\n",
              "    <div id=\"df-b49d1fa9-0370-4910-9ad6-0fadad55bd73\">\n",
              "      <button class=\"colab-df-quickchart\" onclick=\"quickchart('df-b49d1fa9-0370-4910-9ad6-0fadad55bd73')\"\n",
              "              title=\"Suggest charts.\"\n",
              "              style=\"display:none;\">\n",
              "\n",
              "<svg xmlns=\"http://www.w3.org/2000/svg\" height=\"24px\"viewBox=\"0 0 24 24\"\n",
              "     width=\"24px\">\n",
              "    <g>\n",
              "        <path d=\"M19 3H5c-1.1 0-2 .9-2 2v14c0 1.1.9 2 2 2h14c1.1 0 2-.9 2-2V5c0-1.1-.9-2-2-2zM9 17H7v-7h2v7zm4 0h-2V7h2v10zm4 0h-2v-4h2v4z\"/>\n",
              "    </g>\n",
              "</svg>\n",
              "      </button>\n",
              "    </div>\n",
              "\n",
              "<style>\n",
              "  .colab-df-quickchart {\n",
              "    background-color: #E8F0FE;\n",
              "    border: none;\n",
              "    border-radius: 50%;\n",
              "    cursor: pointer;\n",
              "    display: none;\n",
              "    fill: #1967D2;\n",
              "    height: 32px;\n",
              "    padding: 0 0 0 0;\n",
              "    width: 32px;\n",
              "  }\n",
              "\n",
              "  .colab-df-quickchart:hover {\n",
              "    background-color: #E2EBFA;\n",
              "    box-shadow: 0px 1px 2px rgba(60, 64, 67, 0.3), 0px 1px 3px 1px rgba(60, 64, 67, 0.15);\n",
              "    fill: #174EA6;\n",
              "  }\n",
              "\n",
              "  [theme=dark] .colab-df-quickchart {\n",
              "    background-color: #3B4455;\n",
              "    fill: #D2E3FC;\n",
              "  }\n",
              "\n",
              "  [theme=dark] .colab-df-quickchart:hover {\n",
              "    background-color: #434B5C;\n",
              "    box-shadow: 0px 1px 3px 1px rgba(0, 0, 0, 0.15);\n",
              "    filter: drop-shadow(0px 1px 2px rgba(0, 0, 0, 0.3));\n",
              "    fill: #FFFFFF;\n",
              "  }\n",
              "</style>\n",
              "\n",
              "    <script>\n",
              "      async function quickchart(key) {\n",
              "        const containerElement = document.querySelector('#' + key);\n",
              "        const charts = await google.colab.kernel.invokeFunction(\n",
              "            'suggestCharts', [key], {});\n",
              "      }\n",
              "    </script>\n",
              "\n",
              "      <script>\n",
              "\n",
              "function displayQuickchartButton(domScope) {\n",
              "  let quickchartButtonEl =\n",
              "    domScope.querySelector('#df-b49d1fa9-0370-4910-9ad6-0fadad55bd73 button.colab-df-quickchart');\n",
              "  quickchartButtonEl.style.display =\n",
              "    google.colab.kernel.accessAllowed ? 'block' : 'none';\n",
              "}\n",
              "\n",
              "        displayQuickchartButton(document);\n",
              "      </script>\n",
              "      <style>\n",
              "    .colab-df-container {\n",
              "      display:flex;\n",
              "      flex-wrap:wrap;\n",
              "      gap: 12px;\n",
              "    }\n",
              "\n",
              "    .colab-df-convert {\n",
              "      background-color: #E8F0FE;\n",
              "      border: none;\n",
              "      border-radius: 50%;\n",
              "      cursor: pointer;\n",
              "      display: none;\n",
              "      fill: #1967D2;\n",
              "      height: 32px;\n",
              "      padding: 0 0 0 0;\n",
              "      width: 32px;\n",
              "    }\n",
              "\n",
              "    .colab-df-convert:hover {\n",
              "      background-color: #E2EBFA;\n",
              "      box-shadow: 0px 1px 2px rgba(60, 64, 67, 0.3), 0px 1px 3px 1px rgba(60, 64, 67, 0.15);\n",
              "      fill: #174EA6;\n",
              "    }\n",
              "\n",
              "    [theme=dark] .colab-df-convert {\n",
              "      background-color: #3B4455;\n",
              "      fill: #D2E3FC;\n",
              "    }\n",
              "\n",
              "    [theme=dark] .colab-df-convert:hover {\n",
              "      background-color: #434B5C;\n",
              "      box-shadow: 0px 1px 3px 1px rgba(0, 0, 0, 0.15);\n",
              "      filter: drop-shadow(0px 1px 2px rgba(0, 0, 0, 0.3));\n",
              "      fill: #FFFFFF;\n",
              "    }\n",
              "  </style>\n",
              "\n",
              "      <script>\n",
              "        const buttonEl =\n",
              "          document.querySelector('#df-5370f337-bb01-4c8e-ac89-069fbe485c38 button.colab-df-convert');\n",
              "        buttonEl.style.display =\n",
              "          google.colab.kernel.accessAllowed ? 'block' : 'none';\n",
              "\n",
              "        async function convertToInteractive(key) {\n",
              "          const element = document.querySelector('#df-5370f337-bb01-4c8e-ac89-069fbe485c38');\n",
              "          const dataTable =\n",
              "            await google.colab.kernel.invokeFunction('convertToInteractive',\n",
              "                                                     [key], {});\n",
              "          if (!dataTable) return;\n",
              "\n",
              "          const docLinkHtml = 'Like what you see? Visit the ' +\n",
              "            '<a target=\"_blank\" href=https://colab.research.google.com/notebooks/data_table.ipynb>data table notebook</a>'\n",
              "            + ' to learn more about interactive tables.';\n",
              "          element.innerHTML = '';\n",
              "          dataTable['output_type'] = 'display_data';\n",
              "          await google.colab.output.renderOutput(dataTable, element);\n",
              "          const docLink = document.createElement('div');\n",
              "          docLink.innerHTML = docLinkHtml;\n",
              "          element.appendChild(docLink);\n",
              "        }\n",
              "      </script>\n",
              "    </div>\n",
              "  </div>\n"
            ]
          },
          "metadata": {},
          "execution_count": 20
        }
      ]
    },
    {
      "cell_type": "code",
      "source": [
        "# Delete the column F from the DataFrame inplace (will modify the initial Data Frame)\n",
        "df2_from_array.drop(\"F\", axis=1, inplace=True)\n",
        "df2_from_array"
      ],
      "metadata": {
        "colab": {
          "base_uri": "https://localhost:8080/",
          "height": 238
        },
        "id": "mEcQuKyFsZUz",
        "outputId": "de5473d5-08ad-4440-8c8b-2a59fc92015c"
      },
      "execution_count": null,
      "outputs": [
        {
          "output_type": "execute_result",
          "data": {
            "text/plain": [
              "          A         B         C         D         E\n",
              "0  0.268143  0.150743  0.403793  0.189033  0.749972\n",
              "1  0.714936  0.706526  0.344384  0.773719  0.767557\n",
              "2  0.948569  0.344702  0.235342  0.989451  0.479940\n",
              "3  0.368987  0.046012  0.849857  0.468062  0.503519\n",
              "4  0.182829  0.279807  0.904477  0.657302  0.410004\n",
              "5  0.585111  0.049021  0.320154  0.425213  0.832227"
            ],
            "text/html": [
              "\n",
              "\n",
              "  <div id=\"df-460c5e7c-bfd4-42b4-9d55-cead9767fc16\">\n",
              "    <div class=\"colab-df-container\">\n",
              "      <div>\n",
              "<style scoped>\n",
              "    .dataframe tbody tr th:only-of-type {\n",
              "        vertical-align: middle;\n",
              "    }\n",
              "\n",
              "    .dataframe tbody tr th {\n",
              "        vertical-align: top;\n",
              "    }\n",
              "\n",
              "    .dataframe thead th {\n",
              "        text-align: right;\n",
              "    }\n",
              "</style>\n",
              "<table border=\"1\" class=\"dataframe\">\n",
              "  <thead>\n",
              "    <tr style=\"text-align: right;\">\n",
              "      <th></th>\n",
              "      <th>A</th>\n",
              "      <th>B</th>\n",
              "      <th>C</th>\n",
              "      <th>D</th>\n",
              "      <th>E</th>\n",
              "    </tr>\n",
              "  </thead>\n",
              "  <tbody>\n",
              "    <tr>\n",
              "      <th>0</th>\n",
              "      <td>0.268143</td>\n",
              "      <td>0.150743</td>\n",
              "      <td>0.403793</td>\n",
              "      <td>0.189033</td>\n",
              "      <td>0.749972</td>\n",
              "    </tr>\n",
              "    <tr>\n",
              "      <th>1</th>\n",
              "      <td>0.714936</td>\n",
              "      <td>0.706526</td>\n",
              "      <td>0.344384</td>\n",
              "      <td>0.773719</td>\n",
              "      <td>0.767557</td>\n",
              "    </tr>\n",
              "    <tr>\n",
              "      <th>2</th>\n",
              "      <td>0.948569</td>\n",
              "      <td>0.344702</td>\n",
              "      <td>0.235342</td>\n",
              "      <td>0.989451</td>\n",
              "      <td>0.479940</td>\n",
              "    </tr>\n",
              "    <tr>\n",
              "      <th>3</th>\n",
              "      <td>0.368987</td>\n",
              "      <td>0.046012</td>\n",
              "      <td>0.849857</td>\n",
              "      <td>0.468062</td>\n",
              "      <td>0.503519</td>\n",
              "    </tr>\n",
              "    <tr>\n",
              "      <th>4</th>\n",
              "      <td>0.182829</td>\n",
              "      <td>0.279807</td>\n",
              "      <td>0.904477</td>\n",
              "      <td>0.657302</td>\n",
              "      <td>0.410004</td>\n",
              "    </tr>\n",
              "    <tr>\n",
              "      <th>5</th>\n",
              "      <td>0.585111</td>\n",
              "      <td>0.049021</td>\n",
              "      <td>0.320154</td>\n",
              "      <td>0.425213</td>\n",
              "      <td>0.832227</td>\n",
              "    </tr>\n",
              "  </tbody>\n",
              "</table>\n",
              "</div>\n",
              "      <button class=\"colab-df-convert\" onclick=\"convertToInteractive('df-460c5e7c-bfd4-42b4-9d55-cead9767fc16')\"\n",
              "              title=\"Convert this dataframe to an interactive table.\"\n",
              "              style=\"display:none;\">\n",
              "\n",
              "  <svg xmlns=\"http://www.w3.org/2000/svg\" height=\"24px\"viewBox=\"0 0 24 24\"\n",
              "       width=\"24px\">\n",
              "    <path d=\"M0 0h24v24H0V0z\" fill=\"none\"/>\n",
              "    <path d=\"M18.56 5.44l.94 2.06.94-2.06 2.06-.94-2.06-.94-.94-2.06-.94 2.06-2.06.94zm-11 1L8.5 8.5l.94-2.06 2.06-.94-2.06-.94L8.5 2.5l-.94 2.06-2.06.94zm10 10l.94 2.06.94-2.06 2.06-.94-2.06-.94-.94-2.06-.94 2.06-2.06.94z\"/><path d=\"M17.41 7.96l-1.37-1.37c-.4-.4-.92-.59-1.43-.59-.52 0-1.04.2-1.43.59L10.3 9.45l-7.72 7.72c-.78.78-.78 2.05 0 2.83L4 21.41c.39.39.9.59 1.41.59.51 0 1.02-.2 1.41-.59l7.78-7.78 2.81-2.81c.8-.78.8-2.07 0-2.86zM5.41 20L4 18.59l7.72-7.72 1.47 1.35L5.41 20z\"/>\n",
              "  </svg>\n",
              "      </button>\n",
              "\n",
              "\n",
              "\n",
              "    <div id=\"df-7471c2f8-9bd1-4606-8629-5e97a1b38771\">\n",
              "      <button class=\"colab-df-quickchart\" onclick=\"quickchart('df-7471c2f8-9bd1-4606-8629-5e97a1b38771')\"\n",
              "              title=\"Suggest charts.\"\n",
              "              style=\"display:none;\">\n",
              "\n",
              "<svg xmlns=\"http://www.w3.org/2000/svg\" height=\"24px\"viewBox=\"0 0 24 24\"\n",
              "     width=\"24px\">\n",
              "    <g>\n",
              "        <path d=\"M19 3H5c-1.1 0-2 .9-2 2v14c0 1.1.9 2 2 2h14c1.1 0 2-.9 2-2V5c0-1.1-.9-2-2-2zM9 17H7v-7h2v7zm4 0h-2V7h2v10zm4 0h-2v-4h2v4z\"/>\n",
              "    </g>\n",
              "</svg>\n",
              "      </button>\n",
              "    </div>\n",
              "\n",
              "<style>\n",
              "  .colab-df-quickchart {\n",
              "    background-color: #E8F0FE;\n",
              "    border: none;\n",
              "    border-radius: 50%;\n",
              "    cursor: pointer;\n",
              "    display: none;\n",
              "    fill: #1967D2;\n",
              "    height: 32px;\n",
              "    padding: 0 0 0 0;\n",
              "    width: 32px;\n",
              "  }\n",
              "\n",
              "  .colab-df-quickchart:hover {\n",
              "    background-color: #E2EBFA;\n",
              "    box-shadow: 0px 1px 2px rgba(60, 64, 67, 0.3), 0px 1px 3px 1px rgba(60, 64, 67, 0.15);\n",
              "    fill: #174EA6;\n",
              "  }\n",
              "\n",
              "  [theme=dark] .colab-df-quickchart {\n",
              "    background-color: #3B4455;\n",
              "    fill: #D2E3FC;\n",
              "  }\n",
              "\n",
              "  [theme=dark] .colab-df-quickchart:hover {\n",
              "    background-color: #434B5C;\n",
              "    box-shadow: 0px 1px 3px 1px rgba(0, 0, 0, 0.15);\n",
              "    filter: drop-shadow(0px 1px 2px rgba(0, 0, 0, 0.3));\n",
              "    fill: #FFFFFF;\n",
              "  }\n",
              "</style>\n",
              "\n",
              "    <script>\n",
              "      async function quickchart(key) {\n",
              "        const containerElement = document.querySelector('#' + key);\n",
              "        const charts = await google.colab.kernel.invokeFunction(\n",
              "            'suggestCharts', [key], {});\n",
              "      }\n",
              "    </script>\n",
              "\n",
              "      <script>\n",
              "\n",
              "function displayQuickchartButton(domScope) {\n",
              "  let quickchartButtonEl =\n",
              "    domScope.querySelector('#df-7471c2f8-9bd1-4606-8629-5e97a1b38771 button.colab-df-quickchart');\n",
              "  quickchartButtonEl.style.display =\n",
              "    google.colab.kernel.accessAllowed ? 'block' : 'none';\n",
              "}\n",
              "\n",
              "        displayQuickchartButton(document);\n",
              "      </script>\n",
              "      <style>\n",
              "    .colab-df-container {\n",
              "      display:flex;\n",
              "      flex-wrap:wrap;\n",
              "      gap: 12px;\n",
              "    }\n",
              "\n",
              "    .colab-df-convert {\n",
              "      background-color: #E8F0FE;\n",
              "      border: none;\n",
              "      border-radius: 50%;\n",
              "      cursor: pointer;\n",
              "      display: none;\n",
              "      fill: #1967D2;\n",
              "      height: 32px;\n",
              "      padding: 0 0 0 0;\n",
              "      width: 32px;\n",
              "    }\n",
              "\n",
              "    .colab-df-convert:hover {\n",
              "      background-color: #E2EBFA;\n",
              "      box-shadow: 0px 1px 2px rgba(60, 64, 67, 0.3), 0px 1px 3px 1px rgba(60, 64, 67, 0.15);\n",
              "      fill: #174EA6;\n",
              "    }\n",
              "\n",
              "    [theme=dark] .colab-df-convert {\n",
              "      background-color: #3B4455;\n",
              "      fill: #D2E3FC;\n",
              "    }\n",
              "\n",
              "    [theme=dark] .colab-df-convert:hover {\n",
              "      background-color: #434B5C;\n",
              "      box-shadow: 0px 1px 3px 1px rgba(0, 0, 0, 0.15);\n",
              "      filter: drop-shadow(0px 1px 2px rgba(0, 0, 0, 0.3));\n",
              "      fill: #FFFFFF;\n",
              "    }\n",
              "  </style>\n",
              "\n",
              "      <script>\n",
              "        const buttonEl =\n",
              "          document.querySelector('#df-460c5e7c-bfd4-42b4-9d55-cead9767fc16 button.colab-df-convert');\n",
              "        buttonEl.style.display =\n",
              "          google.colab.kernel.accessAllowed ? 'block' : 'none';\n",
              "\n",
              "        async function convertToInteractive(key) {\n",
              "          const element = document.querySelector('#df-460c5e7c-bfd4-42b4-9d55-cead9767fc16');\n",
              "          const dataTable =\n",
              "            await google.colab.kernel.invokeFunction('convertToInteractive',\n",
              "                                                     [key], {});\n",
              "          if (!dataTable) return;\n",
              "\n",
              "          const docLinkHtml = 'Like what you see? Visit the ' +\n",
              "            '<a target=\"_blank\" href=https://colab.research.google.com/notebooks/data_table.ipynb>data table notebook</a>'\n",
              "            + ' to learn more about interactive tables.';\n",
              "          element.innerHTML = '';\n",
              "          dataTable['output_type'] = 'display_data';\n",
              "          await google.colab.output.renderOutput(dataTable, element);\n",
              "          const docLink = document.createElement('div');\n",
              "          docLink.innerHTML = docLinkHtml;\n",
              "          element.appendChild(docLink);\n",
              "        }\n",
              "      </script>\n",
              "    </div>\n",
              "  </div>\n"
            ]
          },
          "metadata": {},
          "execution_count": 19
        }
      ]
    },
    {
      "cell_type": "markdown",
      "metadata": {
        "id": "5LIGywm2eIF3"
      },
      "source": [
        "Access to a specific row"
      ]
    },
    {
      "cell_type": "code",
      "source": [
        "# Access to the row 0\n",
        "df2_from_array.iloc[0]"
      ],
      "metadata": {
        "colab": {
          "base_uri": "https://localhost:8080/"
        },
        "id": "9WorYRnAueG3",
        "outputId": "282582f1-0561-43bb-e100-f835c401080a"
      },
      "execution_count": null,
      "outputs": [
        {
          "output_type": "execute_result",
          "data": {
            "text/plain": [
              "A    0.268143\n",
              "B    0.150743\n",
              "C    0.403793\n",
              "D    0.189033\n",
              "E    0.749972\n",
              "Name: 0, dtype: float64"
            ]
          },
          "metadata": {},
          "execution_count": 21
        }
      ]
    },
    {
      "cell_type": "code",
      "source": [
        "# Access to the rows 1 and 4\n",
        "df2_from_array.iloc[[1,4]]"
      ],
      "metadata": {
        "colab": {
          "base_uri": "https://localhost:8080/",
          "height": 112
        },
        "id": "j94PsO3EwiTl",
        "outputId": "730f38e0-09ec-42da-f6a7-eef22f6e042a"
      },
      "execution_count": null,
      "outputs": [
        {
          "output_type": "execute_result",
          "data": {
            "text/plain": [
              "          A         B         C         D         E\n",
              "1  0.714936  0.706526  0.344384  0.773719  0.767557\n",
              "4  0.182829  0.279807  0.904477  0.657302  0.410004"
            ],
            "text/html": [
              "\n",
              "\n",
              "  <div id=\"df-c6729420-0ba1-43b2-ab89-51219adde11f\">\n",
              "    <div class=\"colab-df-container\">\n",
              "      <div>\n",
              "<style scoped>\n",
              "    .dataframe tbody tr th:only-of-type {\n",
              "        vertical-align: middle;\n",
              "    }\n",
              "\n",
              "    .dataframe tbody tr th {\n",
              "        vertical-align: top;\n",
              "    }\n",
              "\n",
              "    .dataframe thead th {\n",
              "        text-align: right;\n",
              "    }\n",
              "</style>\n",
              "<table border=\"1\" class=\"dataframe\">\n",
              "  <thead>\n",
              "    <tr style=\"text-align: right;\">\n",
              "      <th></th>\n",
              "      <th>A</th>\n",
              "      <th>B</th>\n",
              "      <th>C</th>\n",
              "      <th>D</th>\n",
              "      <th>E</th>\n",
              "    </tr>\n",
              "  </thead>\n",
              "  <tbody>\n",
              "    <tr>\n",
              "      <th>1</th>\n",
              "      <td>0.714936</td>\n",
              "      <td>0.706526</td>\n",
              "      <td>0.344384</td>\n",
              "      <td>0.773719</td>\n",
              "      <td>0.767557</td>\n",
              "    </tr>\n",
              "    <tr>\n",
              "      <th>4</th>\n",
              "      <td>0.182829</td>\n",
              "      <td>0.279807</td>\n",
              "      <td>0.904477</td>\n",
              "      <td>0.657302</td>\n",
              "      <td>0.410004</td>\n",
              "    </tr>\n",
              "  </tbody>\n",
              "</table>\n",
              "</div>\n",
              "      <button class=\"colab-df-convert\" onclick=\"convertToInteractive('df-c6729420-0ba1-43b2-ab89-51219adde11f')\"\n",
              "              title=\"Convert this dataframe to an interactive table.\"\n",
              "              style=\"display:none;\">\n",
              "\n",
              "  <svg xmlns=\"http://www.w3.org/2000/svg\" height=\"24px\"viewBox=\"0 0 24 24\"\n",
              "       width=\"24px\">\n",
              "    <path d=\"M0 0h24v24H0V0z\" fill=\"none\"/>\n",
              "    <path d=\"M18.56 5.44l.94 2.06.94-2.06 2.06-.94-2.06-.94-.94-2.06-.94 2.06-2.06.94zm-11 1L8.5 8.5l.94-2.06 2.06-.94-2.06-.94L8.5 2.5l-.94 2.06-2.06.94zm10 10l.94 2.06.94-2.06 2.06-.94-2.06-.94-.94-2.06-.94 2.06-2.06.94z\"/><path d=\"M17.41 7.96l-1.37-1.37c-.4-.4-.92-.59-1.43-.59-.52 0-1.04.2-1.43.59L10.3 9.45l-7.72 7.72c-.78.78-.78 2.05 0 2.83L4 21.41c.39.39.9.59 1.41.59.51 0 1.02-.2 1.41-.59l7.78-7.78 2.81-2.81c.8-.78.8-2.07 0-2.86zM5.41 20L4 18.59l7.72-7.72 1.47 1.35L5.41 20z\"/>\n",
              "  </svg>\n",
              "      </button>\n",
              "\n",
              "\n",
              "\n",
              "    <div id=\"df-bf482503-bea0-4a6d-9a20-40189be13d2e\">\n",
              "      <button class=\"colab-df-quickchart\" onclick=\"quickchart('df-bf482503-bea0-4a6d-9a20-40189be13d2e')\"\n",
              "              title=\"Suggest charts.\"\n",
              "              style=\"display:none;\">\n",
              "\n",
              "<svg xmlns=\"http://www.w3.org/2000/svg\" height=\"24px\"viewBox=\"0 0 24 24\"\n",
              "     width=\"24px\">\n",
              "    <g>\n",
              "        <path d=\"M19 3H5c-1.1 0-2 .9-2 2v14c0 1.1.9 2 2 2h14c1.1 0 2-.9 2-2V5c0-1.1-.9-2-2-2zM9 17H7v-7h2v7zm4 0h-2V7h2v10zm4 0h-2v-4h2v4z\"/>\n",
              "    </g>\n",
              "</svg>\n",
              "      </button>\n",
              "    </div>\n",
              "\n",
              "<style>\n",
              "  .colab-df-quickchart {\n",
              "    background-color: #E8F0FE;\n",
              "    border: none;\n",
              "    border-radius: 50%;\n",
              "    cursor: pointer;\n",
              "    display: none;\n",
              "    fill: #1967D2;\n",
              "    height: 32px;\n",
              "    padding: 0 0 0 0;\n",
              "    width: 32px;\n",
              "  }\n",
              "\n",
              "  .colab-df-quickchart:hover {\n",
              "    background-color: #E2EBFA;\n",
              "    box-shadow: 0px 1px 2px rgba(60, 64, 67, 0.3), 0px 1px 3px 1px rgba(60, 64, 67, 0.15);\n",
              "    fill: #174EA6;\n",
              "  }\n",
              "\n",
              "  [theme=dark] .colab-df-quickchart {\n",
              "    background-color: #3B4455;\n",
              "    fill: #D2E3FC;\n",
              "  }\n",
              "\n",
              "  [theme=dark] .colab-df-quickchart:hover {\n",
              "    background-color: #434B5C;\n",
              "    box-shadow: 0px 1px 3px 1px rgba(0, 0, 0, 0.15);\n",
              "    filter: drop-shadow(0px 1px 2px rgba(0, 0, 0, 0.3));\n",
              "    fill: #FFFFFF;\n",
              "  }\n",
              "</style>\n",
              "\n",
              "    <script>\n",
              "      async function quickchart(key) {\n",
              "        const containerElement = document.querySelector('#' + key);\n",
              "        const charts = await google.colab.kernel.invokeFunction(\n",
              "            'suggestCharts', [key], {});\n",
              "      }\n",
              "    </script>\n",
              "\n",
              "      <script>\n",
              "\n",
              "function displayQuickchartButton(domScope) {\n",
              "  let quickchartButtonEl =\n",
              "    domScope.querySelector('#df-bf482503-bea0-4a6d-9a20-40189be13d2e button.colab-df-quickchart');\n",
              "  quickchartButtonEl.style.display =\n",
              "    google.colab.kernel.accessAllowed ? 'block' : 'none';\n",
              "}\n",
              "\n",
              "        displayQuickchartButton(document);\n",
              "      </script>\n",
              "      <style>\n",
              "    .colab-df-container {\n",
              "      display:flex;\n",
              "      flex-wrap:wrap;\n",
              "      gap: 12px;\n",
              "    }\n",
              "\n",
              "    .colab-df-convert {\n",
              "      background-color: #E8F0FE;\n",
              "      border: none;\n",
              "      border-radius: 50%;\n",
              "      cursor: pointer;\n",
              "      display: none;\n",
              "      fill: #1967D2;\n",
              "      height: 32px;\n",
              "      padding: 0 0 0 0;\n",
              "      width: 32px;\n",
              "    }\n",
              "\n",
              "    .colab-df-convert:hover {\n",
              "      background-color: #E2EBFA;\n",
              "      box-shadow: 0px 1px 2px rgba(60, 64, 67, 0.3), 0px 1px 3px 1px rgba(60, 64, 67, 0.15);\n",
              "      fill: #174EA6;\n",
              "    }\n",
              "\n",
              "    [theme=dark] .colab-df-convert {\n",
              "      background-color: #3B4455;\n",
              "      fill: #D2E3FC;\n",
              "    }\n",
              "\n",
              "    [theme=dark] .colab-df-convert:hover {\n",
              "      background-color: #434B5C;\n",
              "      box-shadow: 0px 1px 3px 1px rgba(0, 0, 0, 0.15);\n",
              "      filter: drop-shadow(0px 1px 2px rgba(0, 0, 0, 0.3));\n",
              "      fill: #FFFFFF;\n",
              "    }\n",
              "  </style>\n",
              "\n",
              "      <script>\n",
              "        const buttonEl =\n",
              "          document.querySelector('#df-c6729420-0ba1-43b2-ab89-51219adde11f button.colab-df-convert');\n",
              "        buttonEl.style.display =\n",
              "          google.colab.kernel.accessAllowed ? 'block' : 'none';\n",
              "\n",
              "        async function convertToInteractive(key) {\n",
              "          const element = document.querySelector('#df-c6729420-0ba1-43b2-ab89-51219adde11f');\n",
              "          const dataTable =\n",
              "            await google.colab.kernel.invokeFunction('convertToInteractive',\n",
              "                                                     [key], {});\n",
              "          if (!dataTable) return;\n",
              "\n",
              "          const docLinkHtml = 'Like what you see? Visit the ' +\n",
              "            '<a target=\"_blank\" href=https://colab.research.google.com/notebooks/data_table.ipynb>data table notebook</a>'\n",
              "            + ' to learn more about interactive tables.';\n",
              "          element.innerHTML = '';\n",
              "          dataTable['output_type'] = 'display_data';\n",
              "          await google.colab.output.renderOutput(dataTable, element);\n",
              "          const docLink = document.createElement('div');\n",
              "          docLink.innerHTML = docLinkHtml;\n",
              "          element.appendChild(docLink);\n",
              "        }\n",
              "      </script>\n",
              "    </div>\n",
              "  </div>\n"
            ]
          },
          "metadata": {},
          "execution_count": 23
        }
      ]
    },
    {
      "cell_type": "code",
      "source": [
        "# Access to the rows 1, 2, 3, 4\n",
        "df2_from_array.iloc[1:5]"
      ],
      "metadata": {
        "colab": {
          "base_uri": "https://localhost:8080/",
          "height": 175
        },
        "id": "7dNWfDVZw8A4",
        "outputId": "22e4e221-7bf4-40f9-977a-85a0cae251da"
      },
      "execution_count": null,
      "outputs": [
        {
          "output_type": "execute_result",
          "data": {
            "text/plain": [
              "          A         B         C         D         E\n",
              "1  0.714936  0.706526  0.344384  0.773719  0.767557\n",
              "2  0.948569  0.344702  0.235342  0.989451  0.479940\n",
              "3  0.368987  0.046012  0.849857  0.468062  0.503519\n",
              "4  0.182829  0.279807  0.904477  0.657302  0.410004"
            ],
            "text/html": [
              "\n",
              "\n",
              "  <div id=\"df-1dd92ea8-6944-4507-b050-fa02574fe406\">\n",
              "    <div class=\"colab-df-container\">\n",
              "      <div>\n",
              "<style scoped>\n",
              "    .dataframe tbody tr th:only-of-type {\n",
              "        vertical-align: middle;\n",
              "    }\n",
              "\n",
              "    .dataframe tbody tr th {\n",
              "        vertical-align: top;\n",
              "    }\n",
              "\n",
              "    .dataframe thead th {\n",
              "        text-align: right;\n",
              "    }\n",
              "</style>\n",
              "<table border=\"1\" class=\"dataframe\">\n",
              "  <thead>\n",
              "    <tr style=\"text-align: right;\">\n",
              "      <th></th>\n",
              "      <th>A</th>\n",
              "      <th>B</th>\n",
              "      <th>C</th>\n",
              "      <th>D</th>\n",
              "      <th>E</th>\n",
              "    </tr>\n",
              "  </thead>\n",
              "  <tbody>\n",
              "    <tr>\n",
              "      <th>1</th>\n",
              "      <td>0.714936</td>\n",
              "      <td>0.706526</td>\n",
              "      <td>0.344384</td>\n",
              "      <td>0.773719</td>\n",
              "      <td>0.767557</td>\n",
              "    </tr>\n",
              "    <tr>\n",
              "      <th>2</th>\n",
              "      <td>0.948569</td>\n",
              "      <td>0.344702</td>\n",
              "      <td>0.235342</td>\n",
              "      <td>0.989451</td>\n",
              "      <td>0.479940</td>\n",
              "    </tr>\n",
              "    <tr>\n",
              "      <th>3</th>\n",
              "      <td>0.368987</td>\n",
              "      <td>0.046012</td>\n",
              "      <td>0.849857</td>\n",
              "      <td>0.468062</td>\n",
              "      <td>0.503519</td>\n",
              "    </tr>\n",
              "    <tr>\n",
              "      <th>4</th>\n",
              "      <td>0.182829</td>\n",
              "      <td>0.279807</td>\n",
              "      <td>0.904477</td>\n",
              "      <td>0.657302</td>\n",
              "      <td>0.410004</td>\n",
              "    </tr>\n",
              "  </tbody>\n",
              "</table>\n",
              "</div>\n",
              "      <button class=\"colab-df-convert\" onclick=\"convertToInteractive('df-1dd92ea8-6944-4507-b050-fa02574fe406')\"\n",
              "              title=\"Convert this dataframe to an interactive table.\"\n",
              "              style=\"display:none;\">\n",
              "\n",
              "  <svg xmlns=\"http://www.w3.org/2000/svg\" height=\"24px\"viewBox=\"0 0 24 24\"\n",
              "       width=\"24px\">\n",
              "    <path d=\"M0 0h24v24H0V0z\" fill=\"none\"/>\n",
              "    <path d=\"M18.56 5.44l.94 2.06.94-2.06 2.06-.94-2.06-.94-.94-2.06-.94 2.06-2.06.94zm-11 1L8.5 8.5l.94-2.06 2.06-.94-2.06-.94L8.5 2.5l-.94 2.06-2.06.94zm10 10l.94 2.06.94-2.06 2.06-.94-2.06-.94-.94-2.06-.94 2.06-2.06.94z\"/><path d=\"M17.41 7.96l-1.37-1.37c-.4-.4-.92-.59-1.43-.59-.52 0-1.04.2-1.43.59L10.3 9.45l-7.72 7.72c-.78.78-.78 2.05 0 2.83L4 21.41c.39.39.9.59 1.41.59.51 0 1.02-.2 1.41-.59l7.78-7.78 2.81-2.81c.8-.78.8-2.07 0-2.86zM5.41 20L4 18.59l7.72-7.72 1.47 1.35L5.41 20z\"/>\n",
              "  </svg>\n",
              "      </button>\n",
              "\n",
              "\n",
              "\n",
              "    <div id=\"df-c5678cb5-9aef-45fc-9b82-e46d80113e85\">\n",
              "      <button class=\"colab-df-quickchart\" onclick=\"quickchart('df-c5678cb5-9aef-45fc-9b82-e46d80113e85')\"\n",
              "              title=\"Suggest charts.\"\n",
              "              style=\"display:none;\">\n",
              "\n",
              "<svg xmlns=\"http://www.w3.org/2000/svg\" height=\"24px\"viewBox=\"0 0 24 24\"\n",
              "     width=\"24px\">\n",
              "    <g>\n",
              "        <path d=\"M19 3H5c-1.1 0-2 .9-2 2v14c0 1.1.9 2 2 2h14c1.1 0 2-.9 2-2V5c0-1.1-.9-2-2-2zM9 17H7v-7h2v7zm4 0h-2V7h2v10zm4 0h-2v-4h2v4z\"/>\n",
              "    </g>\n",
              "</svg>\n",
              "      </button>\n",
              "    </div>\n",
              "\n",
              "<style>\n",
              "  .colab-df-quickchart {\n",
              "    background-color: #E8F0FE;\n",
              "    border: none;\n",
              "    border-radius: 50%;\n",
              "    cursor: pointer;\n",
              "    display: none;\n",
              "    fill: #1967D2;\n",
              "    height: 32px;\n",
              "    padding: 0 0 0 0;\n",
              "    width: 32px;\n",
              "  }\n",
              "\n",
              "  .colab-df-quickchart:hover {\n",
              "    background-color: #E2EBFA;\n",
              "    box-shadow: 0px 1px 2px rgba(60, 64, 67, 0.3), 0px 1px 3px 1px rgba(60, 64, 67, 0.15);\n",
              "    fill: #174EA6;\n",
              "  }\n",
              "\n",
              "  [theme=dark] .colab-df-quickchart {\n",
              "    background-color: #3B4455;\n",
              "    fill: #D2E3FC;\n",
              "  }\n",
              "\n",
              "  [theme=dark] .colab-df-quickchart:hover {\n",
              "    background-color: #434B5C;\n",
              "    box-shadow: 0px 1px 3px 1px rgba(0, 0, 0, 0.15);\n",
              "    filter: drop-shadow(0px 1px 2px rgba(0, 0, 0, 0.3));\n",
              "    fill: #FFFFFF;\n",
              "  }\n",
              "</style>\n",
              "\n",
              "    <script>\n",
              "      async function quickchart(key) {\n",
              "        const containerElement = document.querySelector('#' + key);\n",
              "        const charts = await google.colab.kernel.invokeFunction(\n",
              "            'suggestCharts', [key], {});\n",
              "      }\n",
              "    </script>\n",
              "\n",
              "      <script>\n",
              "\n",
              "function displayQuickchartButton(domScope) {\n",
              "  let quickchartButtonEl =\n",
              "    domScope.querySelector('#df-c5678cb5-9aef-45fc-9b82-e46d80113e85 button.colab-df-quickchart');\n",
              "  quickchartButtonEl.style.display =\n",
              "    google.colab.kernel.accessAllowed ? 'block' : 'none';\n",
              "}\n",
              "\n",
              "        displayQuickchartButton(document);\n",
              "      </script>\n",
              "      <style>\n",
              "    .colab-df-container {\n",
              "      display:flex;\n",
              "      flex-wrap:wrap;\n",
              "      gap: 12px;\n",
              "    }\n",
              "\n",
              "    .colab-df-convert {\n",
              "      background-color: #E8F0FE;\n",
              "      border: none;\n",
              "      border-radius: 50%;\n",
              "      cursor: pointer;\n",
              "      display: none;\n",
              "      fill: #1967D2;\n",
              "      height: 32px;\n",
              "      padding: 0 0 0 0;\n",
              "      width: 32px;\n",
              "    }\n",
              "\n",
              "    .colab-df-convert:hover {\n",
              "      background-color: #E2EBFA;\n",
              "      box-shadow: 0px 1px 2px rgba(60, 64, 67, 0.3), 0px 1px 3px 1px rgba(60, 64, 67, 0.15);\n",
              "      fill: #174EA6;\n",
              "    }\n",
              "\n",
              "    [theme=dark] .colab-df-convert {\n",
              "      background-color: #3B4455;\n",
              "      fill: #D2E3FC;\n",
              "    }\n",
              "\n",
              "    [theme=dark] .colab-df-convert:hover {\n",
              "      background-color: #434B5C;\n",
              "      box-shadow: 0px 1px 3px 1px rgba(0, 0, 0, 0.15);\n",
              "      filter: drop-shadow(0px 1px 2px rgba(0, 0, 0, 0.3));\n",
              "      fill: #FFFFFF;\n",
              "    }\n",
              "  </style>\n",
              "\n",
              "      <script>\n",
              "        const buttonEl =\n",
              "          document.querySelector('#df-1dd92ea8-6944-4507-b050-fa02574fe406 button.colab-df-convert');\n",
              "        buttonEl.style.display =\n",
              "          google.colab.kernel.accessAllowed ? 'block' : 'none';\n",
              "\n",
              "        async function convertToInteractive(key) {\n",
              "          const element = document.querySelector('#df-1dd92ea8-6944-4507-b050-fa02574fe406');\n",
              "          const dataTable =\n",
              "            await google.colab.kernel.invokeFunction('convertToInteractive',\n",
              "                                                     [key], {});\n",
              "          if (!dataTable) return;\n",
              "\n",
              "          const docLinkHtml = 'Like what you see? Visit the ' +\n",
              "            '<a target=\"_blank\" href=https://colab.research.google.com/notebooks/data_table.ipynb>data table notebook</a>'\n",
              "            + ' to learn more about interactive tables.';\n",
              "          element.innerHTML = '';\n",
              "          dataTable['output_type'] = 'display_data';\n",
              "          await google.colab.output.renderOutput(dataTable, element);\n",
              "          const docLink = document.createElement('div');\n",
              "          docLink.innerHTML = docLinkHtml;\n",
              "          element.appendChild(docLink);\n",
              "        }\n",
              "      </script>\n",
              "    </div>\n",
              "  </div>\n"
            ]
          },
          "metadata": {},
          "execution_count": 24
        }
      ]
    },
    {
      "cell_type": "markdown",
      "metadata": {
        "id": "hUjjFuwfeIF3"
      },
      "source": [
        "Delete a row"
      ]
    },
    {
      "cell_type": "code",
      "source": [
        "# delete the row 3 from the DataFrame (without modifying it)\n",
        "df5 = df2_from_array.drop(3)\n",
        "df5"
      ],
      "metadata": {
        "colab": {
          "base_uri": "https://localhost:8080/",
          "height": 206
        },
        "id": "zPgloSSBxvQZ",
        "outputId": "076c70d5-6ffc-4ac5-f251-377149ef3f6c"
      },
      "execution_count": null,
      "outputs": [
        {
          "output_type": "execute_result",
          "data": {
            "text/plain": [
              "          A         B         C         D         E\n",
              "0  0.268143  0.150743  0.403793  0.189033  0.749972\n",
              "1  0.714936  0.706526  0.344384  0.773719  0.767557\n",
              "2  0.948569  0.344702  0.235342  0.989451  0.479940\n",
              "4  0.182829  0.279807  0.904477  0.657302  0.410004\n",
              "5  0.585111  0.049021  0.320154  0.425213  0.832227"
            ],
            "text/html": [
              "\n",
              "\n",
              "  <div id=\"df-0b129fdb-40cc-4ad1-9d88-0c911ad2f4aa\">\n",
              "    <div class=\"colab-df-container\">\n",
              "      <div>\n",
              "<style scoped>\n",
              "    .dataframe tbody tr th:only-of-type {\n",
              "        vertical-align: middle;\n",
              "    }\n",
              "\n",
              "    .dataframe tbody tr th {\n",
              "        vertical-align: top;\n",
              "    }\n",
              "\n",
              "    .dataframe thead th {\n",
              "        text-align: right;\n",
              "    }\n",
              "</style>\n",
              "<table border=\"1\" class=\"dataframe\">\n",
              "  <thead>\n",
              "    <tr style=\"text-align: right;\">\n",
              "      <th></th>\n",
              "      <th>A</th>\n",
              "      <th>B</th>\n",
              "      <th>C</th>\n",
              "      <th>D</th>\n",
              "      <th>E</th>\n",
              "    </tr>\n",
              "  </thead>\n",
              "  <tbody>\n",
              "    <tr>\n",
              "      <th>0</th>\n",
              "      <td>0.268143</td>\n",
              "      <td>0.150743</td>\n",
              "      <td>0.403793</td>\n",
              "      <td>0.189033</td>\n",
              "      <td>0.749972</td>\n",
              "    </tr>\n",
              "    <tr>\n",
              "      <th>1</th>\n",
              "      <td>0.714936</td>\n",
              "      <td>0.706526</td>\n",
              "      <td>0.344384</td>\n",
              "      <td>0.773719</td>\n",
              "      <td>0.767557</td>\n",
              "    </tr>\n",
              "    <tr>\n",
              "      <th>2</th>\n",
              "      <td>0.948569</td>\n",
              "      <td>0.344702</td>\n",
              "      <td>0.235342</td>\n",
              "      <td>0.989451</td>\n",
              "      <td>0.479940</td>\n",
              "    </tr>\n",
              "    <tr>\n",
              "      <th>4</th>\n",
              "      <td>0.182829</td>\n",
              "      <td>0.279807</td>\n",
              "      <td>0.904477</td>\n",
              "      <td>0.657302</td>\n",
              "      <td>0.410004</td>\n",
              "    </tr>\n",
              "    <tr>\n",
              "      <th>5</th>\n",
              "      <td>0.585111</td>\n",
              "      <td>0.049021</td>\n",
              "      <td>0.320154</td>\n",
              "      <td>0.425213</td>\n",
              "      <td>0.832227</td>\n",
              "    </tr>\n",
              "  </tbody>\n",
              "</table>\n",
              "</div>\n",
              "      <button class=\"colab-df-convert\" onclick=\"convertToInteractive('df-0b129fdb-40cc-4ad1-9d88-0c911ad2f4aa')\"\n",
              "              title=\"Convert this dataframe to an interactive table.\"\n",
              "              style=\"display:none;\">\n",
              "\n",
              "  <svg xmlns=\"http://www.w3.org/2000/svg\" height=\"24px\"viewBox=\"0 0 24 24\"\n",
              "       width=\"24px\">\n",
              "    <path d=\"M0 0h24v24H0V0z\" fill=\"none\"/>\n",
              "    <path d=\"M18.56 5.44l.94 2.06.94-2.06 2.06-.94-2.06-.94-.94-2.06-.94 2.06-2.06.94zm-11 1L8.5 8.5l.94-2.06 2.06-.94-2.06-.94L8.5 2.5l-.94 2.06-2.06.94zm10 10l.94 2.06.94-2.06 2.06-.94-2.06-.94-.94-2.06-.94 2.06-2.06.94z\"/><path d=\"M17.41 7.96l-1.37-1.37c-.4-.4-.92-.59-1.43-.59-.52 0-1.04.2-1.43.59L10.3 9.45l-7.72 7.72c-.78.78-.78 2.05 0 2.83L4 21.41c.39.39.9.59 1.41.59.51 0 1.02-.2 1.41-.59l7.78-7.78 2.81-2.81c.8-.78.8-2.07 0-2.86zM5.41 20L4 18.59l7.72-7.72 1.47 1.35L5.41 20z\"/>\n",
              "  </svg>\n",
              "      </button>\n",
              "\n",
              "\n",
              "\n",
              "    <div id=\"df-b8c82e8a-7393-4d95-9da5-ee8df11b015a\">\n",
              "      <button class=\"colab-df-quickchart\" onclick=\"quickchart('df-b8c82e8a-7393-4d95-9da5-ee8df11b015a')\"\n",
              "              title=\"Suggest charts.\"\n",
              "              style=\"display:none;\">\n",
              "\n",
              "<svg xmlns=\"http://www.w3.org/2000/svg\" height=\"24px\"viewBox=\"0 0 24 24\"\n",
              "     width=\"24px\">\n",
              "    <g>\n",
              "        <path d=\"M19 3H5c-1.1 0-2 .9-2 2v14c0 1.1.9 2 2 2h14c1.1 0 2-.9 2-2V5c0-1.1-.9-2-2-2zM9 17H7v-7h2v7zm4 0h-2V7h2v10zm4 0h-2v-4h2v4z\"/>\n",
              "    </g>\n",
              "</svg>\n",
              "      </button>\n",
              "    </div>\n",
              "\n",
              "<style>\n",
              "  .colab-df-quickchart {\n",
              "    background-color: #E8F0FE;\n",
              "    border: none;\n",
              "    border-radius: 50%;\n",
              "    cursor: pointer;\n",
              "    display: none;\n",
              "    fill: #1967D2;\n",
              "    height: 32px;\n",
              "    padding: 0 0 0 0;\n",
              "    width: 32px;\n",
              "  }\n",
              "\n",
              "  .colab-df-quickchart:hover {\n",
              "    background-color: #E2EBFA;\n",
              "    box-shadow: 0px 1px 2px rgba(60, 64, 67, 0.3), 0px 1px 3px 1px rgba(60, 64, 67, 0.15);\n",
              "    fill: #174EA6;\n",
              "  }\n",
              "\n",
              "  [theme=dark] .colab-df-quickchart {\n",
              "    background-color: #3B4455;\n",
              "    fill: #D2E3FC;\n",
              "  }\n",
              "\n",
              "  [theme=dark] .colab-df-quickchart:hover {\n",
              "    background-color: #434B5C;\n",
              "    box-shadow: 0px 1px 3px 1px rgba(0, 0, 0, 0.15);\n",
              "    filter: drop-shadow(0px 1px 2px rgba(0, 0, 0, 0.3));\n",
              "    fill: #FFFFFF;\n",
              "  }\n",
              "</style>\n",
              "\n",
              "    <script>\n",
              "      async function quickchart(key) {\n",
              "        const containerElement = document.querySelector('#' + key);\n",
              "        const charts = await google.colab.kernel.invokeFunction(\n",
              "            'suggestCharts', [key], {});\n",
              "      }\n",
              "    </script>\n",
              "\n",
              "      <script>\n",
              "\n",
              "function displayQuickchartButton(domScope) {\n",
              "  let quickchartButtonEl =\n",
              "    domScope.querySelector('#df-b8c82e8a-7393-4d95-9da5-ee8df11b015a button.colab-df-quickchart');\n",
              "  quickchartButtonEl.style.display =\n",
              "    google.colab.kernel.accessAllowed ? 'block' : 'none';\n",
              "}\n",
              "\n",
              "        displayQuickchartButton(document);\n",
              "      </script>\n",
              "      <style>\n",
              "    .colab-df-container {\n",
              "      display:flex;\n",
              "      flex-wrap:wrap;\n",
              "      gap: 12px;\n",
              "    }\n",
              "\n",
              "    .colab-df-convert {\n",
              "      background-color: #E8F0FE;\n",
              "      border: none;\n",
              "      border-radius: 50%;\n",
              "      cursor: pointer;\n",
              "      display: none;\n",
              "      fill: #1967D2;\n",
              "      height: 32px;\n",
              "      padding: 0 0 0 0;\n",
              "      width: 32px;\n",
              "    }\n",
              "\n",
              "    .colab-df-convert:hover {\n",
              "      background-color: #E2EBFA;\n",
              "      box-shadow: 0px 1px 2px rgba(60, 64, 67, 0.3), 0px 1px 3px 1px rgba(60, 64, 67, 0.15);\n",
              "      fill: #174EA6;\n",
              "    }\n",
              "\n",
              "    [theme=dark] .colab-df-convert {\n",
              "      background-color: #3B4455;\n",
              "      fill: #D2E3FC;\n",
              "    }\n",
              "\n",
              "    [theme=dark] .colab-df-convert:hover {\n",
              "      background-color: #434B5C;\n",
              "      box-shadow: 0px 1px 3px 1px rgba(0, 0, 0, 0.15);\n",
              "      filter: drop-shadow(0px 1px 2px rgba(0, 0, 0, 0.3));\n",
              "      fill: #FFFFFF;\n",
              "    }\n",
              "  </style>\n",
              "\n",
              "      <script>\n",
              "        const buttonEl =\n",
              "          document.querySelector('#df-0b129fdb-40cc-4ad1-9d88-0c911ad2f4aa button.colab-df-convert');\n",
              "        buttonEl.style.display =\n",
              "          google.colab.kernel.accessAllowed ? 'block' : 'none';\n",
              "\n",
              "        async function convertToInteractive(key) {\n",
              "          const element = document.querySelector('#df-0b129fdb-40cc-4ad1-9d88-0c911ad2f4aa');\n",
              "          const dataTable =\n",
              "            await google.colab.kernel.invokeFunction('convertToInteractive',\n",
              "                                                     [key], {});\n",
              "          if (!dataTable) return;\n",
              "\n",
              "          const docLinkHtml = 'Like what you see? Visit the ' +\n",
              "            '<a target=\"_blank\" href=https://colab.research.google.com/notebooks/data_table.ipynb>data table notebook</a>'\n",
              "            + ' to learn more about interactive tables.';\n",
              "          element.innerHTML = '';\n",
              "          dataTable['output_type'] = 'display_data';\n",
              "          await google.colab.output.renderOutput(dataTable, element);\n",
              "          const docLink = document.createElement('div');\n",
              "          docLink.innerHTML = docLinkHtml;\n",
              "          element.appendChild(docLink);\n",
              "        }\n",
              "      </script>\n",
              "    </div>\n",
              "  </div>\n"
            ]
          },
          "metadata": {},
          "execution_count": 25
        }
      ]
    },
    {
      "cell_type": "markdown",
      "metadata": {
        "id": "PJ6vLwrUeIF3"
      },
      "source": [
        "#### 4. Load and save a DataFrame"
      ]
    },
    {
      "cell_type": "code",
      "source": [
        "# Save the DataFrame\n",
        "df2_from_array.to_csv(\"saved_df.csv\", index=False)"
      ],
      "metadata": {
        "id": "Lq3Au9NQzy9-"
      },
      "execution_count": null,
      "outputs": []
    },
    {
      "cell_type": "code",
      "source": [
        "# Load the saved DataFrame\n",
        "df = pd.read_csv(\"saved_df.csv\")\n",
        "df"
      ],
      "metadata": {
        "id": "4nGMTg3e4tgE"
      },
      "execution_count": null,
      "outputs": []
    },
    {
      "cell_type": "markdown",
      "metadata": {
        "id": "vXYdjOfEeIF3"
      },
      "source": [
        "## Exercices"
      ]
    },
    {
      "cell_type": "markdown",
      "source": [
        "### Exercice 1"
      ],
      "metadata": {
        "id": "9C1Isffh56u0"
      }
    },
    {
      "cell_type": "markdown",
      "source": [
        "1. Load the medical insurance file"
      ],
      "metadata": {
        "id": "RHtBr9xNjzz2"
      }
    },
    {
      "cell_type": "code",
      "source": [
        "# Answer\n"
      ],
      "metadata": {
        "id": "efTtLCnr55xX"
      },
      "execution_count": null,
      "outputs": []
    },
    {
      "cell_type": "markdown",
      "source": [
        "2. What is the shape of the dataset?  Number of rows and columns?"
      ],
      "metadata": {
        "id": "3AZ7nSoilKEl"
      }
    },
    {
      "cell_type": "code",
      "source": [
        "# Answer\n"
      ],
      "metadata": {
        "id": "IEZ4JzE-lf1s"
      },
      "execution_count": null,
      "outputs": []
    },
    {
      "cell_type": "markdown",
      "source": [
        "3. How many individuals that smoke"
      ],
      "metadata": {
        "id": "se86yJo3lnd8"
      }
    },
    {
      "cell_type": "code",
      "source": [
        "# Answer\n"
      ],
      "metadata": {
        "id": "ya-Ap0_-mmK9"
      },
      "execution_count": null,
      "outputs": []
    },
    {
      "cell_type": "markdown",
      "source": [
        "4. Select the individuals that are males, live in southeas and don't smoke"
      ],
      "metadata": {
        "id": "4t3SlXXZmlL7"
      }
    },
    {
      "cell_type": "code",
      "source": [
        "# Answer\n"
      ],
      "metadata": {
        "id": "68s6-Zhcn3He"
      },
      "execution_count": null,
      "outputs": []
    },
    {
      "cell_type": "markdown",
      "source": [
        "5. Select the individuals that have exactly one child"
      ],
      "metadata": {
        "id": "ccmEH1nWn-Qx"
      }
    },
    {
      "cell_type": "code",
      "source": [
        "# Answer\n"
      ],
      "metadata": {
        "id": "P4tr6pYypOWG"
      },
      "execution_count": null,
      "outputs": []
    },
    {
      "cell_type": "markdown",
      "source": [
        "6. Select the individuals that have more than two children"
      ],
      "metadata": {
        "id": "P9UDhWXSm0vd"
      }
    },
    {
      "cell_type": "code",
      "source": [
        "# Answer\n"
      ],
      "metadata": {
        "id": "o6dotrdRpfPt"
      },
      "execution_count": null,
      "outputs": []
    },
    {
      "cell_type": "markdown",
      "source": [
        "7. How many persons are less than 40 years old, smoke and of which the charges are less than 5000"
      ],
      "metadata": {
        "id": "oxjNBTv_qmhc"
      }
    },
    {
      "cell_type": "code",
      "source": [
        "# Answer\n"
      ],
      "metadata": {
        "id": "n6GDPt3KrREk"
      },
      "execution_count": null,
      "outputs": []
    },
    {
      "cell_type": "markdown",
      "source": [
        "8. Print the information related to the persons that achieved the maximal and minimal charges respectively"
      ],
      "metadata": {
        "id": "kymvlkUhrdzf"
      }
    },
    {
      "cell_type": "code",
      "source": [
        "# Answer\n"
      ],
      "metadata": {
        "id": "7RfxmCWdra1B"
      },
      "execution_count": null,
      "outputs": []
    },
    {
      "cell_type": "markdown",
      "source": [
        "9. Sort the DataFrame from the youngest to the oldest individual"
      ],
      "metadata": {
        "id": "4inOdbossC9w"
      }
    },
    {
      "cell_type": "code",
      "source": [
        "# Answer\n"
      ],
      "metadata": {
        "id": "scKPhVlgsBMy"
      },
      "execution_count": null,
      "outputs": []
    },
    {
      "cell_type": "markdown",
      "source": [
        "10. Sort the DataFrame from the largest to lowest charges"
      ],
      "metadata": {
        "id": "Q0oz6cUMswQm"
      }
    },
    {
      "cell_type": "code",
      "source": [
        "# Anwser\n"
      ],
      "metadata": {
        "id": "nfGp1J01tGBr"
      },
      "execution_count": null,
      "outputs": []
    },
    {
      "cell_type": "markdown",
      "source": [
        "11. Compute the mean of charges of individuals that are older than 25 years old and younger than 40 years old and have no children\n",
        "\n"
      ],
      "metadata": {
        "id": "L_uPqGrOtYHd"
      }
    },
    {
      "cell_type": "code",
      "source": [
        "# Answer\n"
      ],
      "metadata": {
        "id": "OGEfWPEWuIXo"
      },
      "execution_count": null,
      "outputs": []
    },
    {
      "cell_type": "markdown",
      "source": [
        "12. Compute the mean and the standard deviation of charges of people that smoke by region"
      ],
      "metadata": {
        "id": "c6_5EHZlubWw"
      }
    },
    {
      "cell_type": "code",
      "source": [
        "# Answer\n"
      ],
      "metadata": {
        "id": "0jypTaBsuv3S"
      },
      "execution_count": null,
      "outputs": []
    },
    {
      "cell_type": "markdown",
      "source": [
        "13. compute the skewness of numerical variables and give and interpretation of the results"
      ],
      "metadata": {
        "id": "i0Rv_Vs_62qm"
      }
    },
    {
      "cell_type": "code",
      "source": [
        "# Answer\n"
      ],
      "metadata": {
        "id": "6IvdWKFu7Vih"
      },
      "execution_count": null,
      "outputs": []
    },
    {
      "cell_type": "markdown",
      "source": [
        "14. compute the Kurtosis of numerical variables and give interpretation of the results"
      ],
      "metadata": {
        "id": "DzJcajoP7Ocw"
      }
    },
    {
      "cell_type": "code",
      "source": [
        "# Answer\n"
      ],
      "metadata": {
        "id": "4YVoX6cz7hH_"
      },
      "execution_count": null,
      "outputs": []
    },
    {
      "cell_type": "markdown",
      "source": [
        "### Exercice 2"
      ],
      "metadata": {
        "id": "HFs0AARsv5O2"
      }
    },
    {
      "cell_type": "markdown",
      "source": [
        "1. Create two DataFrames, df1 and df2, which respectively contain numerical variables and categorical variables."
      ],
      "metadata": {
        "id": "Be-GuHKs8HHK"
      }
    },
    {
      "cell_type": "code",
      "source": [
        "# Answer\n"
      ],
      "metadata": {
        "id": "uAKOos8cwLj8"
      },
      "execution_count": null,
      "outputs": []
    },
    {
      "cell_type": "markdown",
      "source": [
        "2. Provide a detailed description of df1 and df2, and interpret the obtained results.\n",
        "\n",
        "\n",
        "\n",
        "\n"
      ],
      "metadata": {
        "id": "d0s4AD6782SQ"
      }
    },
    {
      "cell_type": "code",
      "source": [
        "# Answer\n"
      ],
      "metadata": {
        "id": "xCoi-xyq9SFV"
      },
      "execution_count": null,
      "outputs": []
    },
    {
      "cell_type": "markdown",
      "source": [
        "3. Use graphs (univariate analysis) for the numerical variables in df1 and for the categorical variables in df2, and interpret the results."
      ],
      "metadata": {
        "id": "9khNgR8m9YcS"
      }
    },
    {
      "cell_type": "code",
      "source": [
        "# Answer\n"
      ],
      "metadata": {
        "id": "F06hYuhP98f1"
      },
      "execution_count": null,
      "outputs": []
    },
    {
      "cell_type": "markdown",
      "source": [
        "4. Plot the scatter plot between the variable \"Price\" and \"Landsize,\" and interpret the results.\n",
        "\n"
      ],
      "metadata": {
        "id": "UcA0NMcU-AU6"
      }
    },
    {
      "cell_type": "code",
      "source": [
        "# Answer\n"
      ],
      "metadata": {
        "id": "cyp_FZEj-Ra8"
      },
      "execution_count": null,
      "outputs": []
    },
    {
      "cell_type": "markdown",
      "source": [
        "5. Plot the scatter plot between the variable \"Price\" and \"Landsize\" based on the categorical variable \"Method.\" .\n",
        "\n"
      ],
      "metadata": {
        "id": "0VGZoDE4-Y-z"
      }
    },
    {
      "cell_type": "code",
      "source": [
        "# Answer\n"
      ],
      "metadata": {
        "id": "_doDG7PL-0Gz"
      },
      "execution_count": null,
      "outputs": []
    },
    {
      "cell_type": "markdown",
      "source": [
        "6. Plot the heatmap between \"Price\" and \"Landsize\" and interpret the results.\n",
        "\n"
      ],
      "metadata": {
        "id": "c5onn1vI-1na"
      }
    },
    {
      "cell_type": "code",
      "source": [
        "# Answer\n"
      ],
      "metadata": {
        "id": "RlD-7xyl_DUe"
      },
      "execution_count": null,
      "outputs": []
    },
    {
      "cell_type": "markdown",
      "source": [
        "### Exercise 3"
      ],
      "metadata": {
        "id": "u9rMk2ewHHpx"
      }
    },
    {
      "cell_type": "markdown",
      "source": [
        "Exploring a Dataset\n",
        "\n",
        "Download a dataset from a reputable source (e.g., UCI Machine Learning Repository) or use a built-in dataset from libraries like Seaborn or scikit-learn. Perform the following analyses:\n",
        "\n",
        "1. Load and inspect the dataset.<br>\n",
        "2. Calculate basic summary statistics such as mean, median, variance, and standard deviation for numerical columns.<br>\n",
        "3. Create histograms to visualize the distributions of numerical columns.\n",
        "Generate box plots to identify potential outliers.<br>\n",
        "4. Analyze and discuss the results of the analyses."
      ],
      "metadata": {
        "id": "4LCQSgPtxZ8Q"
      }
    },
    {
      "cell_type": "code",
      "source": [
        "# You can use optionnal this dataset\n",
        "import seaborn as sns\n",
        "\n",
        "# Load dataset (example using Seaborn's built-in dataset)\n",
        "tips = sns.load_dataset(\"tips\")"
      ],
      "metadata": {
        "id": "3qckaJPXx3Mr"
      },
      "execution_count": null,
      "outputs": []
    },
    {
      "cell_type": "markdown",
      "source": [
        "### Exercise 4"
      ],
      "metadata": {
        "id": "P19Wt_D1ySYA"
      }
    },
    {
      "cell_type": "markdown",
      "source": [
        "Comparing Two Datasets\n",
        "\n",
        "Select two datasets of your choice (e.g., salary data for different professions) or generate two synthetic datasets. Perform the following analyses:\n",
        "\n",
        "1. Load and inspect the datasets.<br>\n",
        "2. Calculate basic summary statistics for each dataset.<br>\n",
        "3. Create histograms or kernel density plots to compare the distributions of a shared numerical variable.<br>\n",
        "4. Calculate correlation coefficients if applicable.<br>\n",
        "Analyze and discuss the similarities and differences between the datasets.\n"
      ],
      "metadata": {
        "id": "FCMQLRfcyVtd"
      }
    },
    {
      "cell_type": "code",
      "source": [
        "# You can use:\n",
        "import numpy as np\n",
        "\n",
        "# Generate two synthetic datasets\n",
        "np.random.seed(42)\n",
        "data1 = np.random.normal(10, 2, 100)\n",
        "data2 = np.random.normal(12, 3, 100)\n"
      ],
      "metadata": {
        "id": "q_BLxiHzykHN"
      },
      "execution_count": null,
      "outputs": []
    },
    {
      "cell_type": "markdown",
      "source": [
        "## Exercise 5"
      ],
      "metadata": {
        "id": "--OVsfTyyzPj"
      }
    },
    {
      "cell_type": "markdown",
      "source": [
        "Simulating Random Events\n",
        "\n",
        "Simulate a real-world scenario involving random events. For example, you can simulate the number of customers arriving at a store each hour. Perform the following analyses:\n",
        "\n",
        "1. Define the simulation parameters (e.g., arrival rate).<br>\n",
        "2. Simulate the random events for a certain time period.<br>\n",
        "3. Calculate descriptive statistics for the simulated data, such as mean and variance.<br>\n",
        "3. Create histograms or line plots to visualize the simulated events over time.<br>\n",
        "4. Discuss insights gained from the simulation and how they relate to the real-world scenario.\n"
      ],
      "metadata": {
        "id": "veihDtVGy24e"
      }
    },
    {
      "cell_type": "code",
      "source": [],
      "metadata": {
        "id": "cSINcvFfy1LA"
      },
      "execution_count": null,
      "outputs": []
    }
  ],
  "metadata": {
    "kernelspec": {
      "display_name": "Python 3",
      "language": "python",
      "name": "python3"
    },
    "language_info": {
      "codemirror_mode": {
        "name": "ipython",
        "version": 3
      },
      "file_extension": ".py",
      "mimetype": "text/x-python",
      "name": "python",
      "nbconvert_exporter": "python",
      "pygments_lexer": "ipython3",
      "version": "3.7.6"
    },
    "colab": {
      "provenance": [],
      "toc_visible": true
    }
  },
  "nbformat": 4,
  "nbformat_minor": 0
}