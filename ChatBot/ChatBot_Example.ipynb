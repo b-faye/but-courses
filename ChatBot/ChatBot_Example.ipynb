{
  "nbformat": 4,
  "nbformat_minor": 0,
  "metadata": {
    "colab": {
      "provenance": [],
      "collapsed_sections": [
        "erT6aCi_6wks",
        "SwPqJO4idovk"
      ],
      "gpuType": "T4"
    },
    "kernelspec": {
      "name": "python3",
      "display_name": "Python 3"
    },
    "language_info": {
      "name": "python"
    },
    "widgets": {
      "application/vnd.jupyter.widget-state+json": {
        "128fd3b22bce4cd385646944ad88deef": {
          "model_module": "@jupyter-widgets/controls",
          "model_name": "HBoxModel",
          "model_module_version": "1.5.0",
          "state": {
            "_dom_classes": [],
            "_model_module": "@jupyter-widgets/controls",
            "_model_module_version": "1.5.0",
            "_model_name": "HBoxModel",
            "_view_count": null,
            "_view_module": "@jupyter-widgets/controls",
            "_view_module_version": "1.5.0",
            "_view_name": "HBoxView",
            "box_style": "",
            "children": [
              "IPY_MODEL_cdedfffdf48842d68269bd8a9afd1877",
              "IPY_MODEL_97389f5c8ac542669bebef3387796b9f",
              "IPY_MODEL_906d1576daf944ea9fc94a9502ccec20"
            ],
            "layout": "IPY_MODEL_bbc4af8234664b33aebfe21279033f8c"
          }
        },
        "cdedfffdf48842d68269bd8a9afd1877": {
          "model_module": "@jupyter-widgets/controls",
          "model_name": "HTMLModel",
          "model_module_version": "1.5.0",
          "state": {
            "_dom_classes": [],
            "_model_module": "@jupyter-widgets/controls",
            "_model_module_version": "1.5.0",
            "_model_name": "HTMLModel",
            "_view_count": null,
            "_view_module": "@jupyter-widgets/controls",
            "_view_module_version": "1.5.0",
            "_view_name": "HTMLView",
            "description": "",
            "description_tooltip": null,
            "layout": "IPY_MODEL_522627eb358848f1b4f2ff204f114793",
            "placeholder": "​",
            "style": "IPY_MODEL_73050f3adcde446d8a1d49587f1254ee",
            "value": "Dl Completed...: 100%"
          }
        },
        "97389f5c8ac542669bebef3387796b9f": {
          "model_module": "@jupyter-widgets/controls",
          "model_name": "FloatProgressModel",
          "model_module_version": "1.5.0",
          "state": {
            "_dom_classes": [],
            "_model_module": "@jupyter-widgets/controls",
            "_model_module_version": "1.5.0",
            "_model_name": "FloatProgressModel",
            "_view_count": null,
            "_view_module": "@jupyter-widgets/controls",
            "_view_module_version": "1.5.0",
            "_view_name": "ProgressView",
            "bar_style": "success",
            "description": "",
            "description_tooltip": null,
            "layout": "IPY_MODEL_9862c3f525cd4f59959c4917130369bf",
            "max": 1,
            "min": 0,
            "orientation": "horizontal",
            "style": "IPY_MODEL_72bc01742a4d4fa8801fa5ba1bb54dc7",
            "value": 1
          }
        },
        "906d1576daf944ea9fc94a9502ccec20": {
          "model_module": "@jupyter-widgets/controls",
          "model_name": "HTMLModel",
          "model_module_version": "1.5.0",
          "state": {
            "_dom_classes": [],
            "_model_module": "@jupyter-widgets/controls",
            "_model_module_version": "1.5.0",
            "_model_name": "HTMLModel",
            "_view_count": null,
            "_view_module": "@jupyter-widgets/controls",
            "_view_module_version": "1.5.0",
            "_view_name": "HTMLView",
            "description": "",
            "description_tooltip": null,
            "layout": "IPY_MODEL_45945f24ca594447be4e532e2063875b",
            "placeholder": "​",
            "style": "IPY_MODEL_7d40b58023374226a7c7940b2faf7b86",
            "value": " 1/1 [00:34&lt;00:00, 34.09s/ url]"
          }
        },
        "bbc4af8234664b33aebfe21279033f8c": {
          "model_module": "@jupyter-widgets/base",
          "model_name": "LayoutModel",
          "model_module_version": "1.2.0",
          "state": {
            "_model_module": "@jupyter-widgets/base",
            "_model_module_version": "1.2.0",
            "_model_name": "LayoutModel",
            "_view_count": null,
            "_view_module": "@jupyter-widgets/base",
            "_view_module_version": "1.2.0",
            "_view_name": "LayoutView",
            "align_content": null,
            "align_items": null,
            "align_self": null,
            "border": null,
            "bottom": null,
            "display": null,
            "flex": null,
            "flex_flow": null,
            "grid_area": null,
            "grid_auto_columns": null,
            "grid_auto_flow": null,
            "grid_auto_rows": null,
            "grid_column": null,
            "grid_gap": null,
            "grid_row": null,
            "grid_template_areas": null,
            "grid_template_columns": null,
            "grid_template_rows": null,
            "height": null,
            "justify_content": null,
            "justify_items": null,
            "left": null,
            "margin": null,
            "max_height": null,
            "max_width": null,
            "min_height": null,
            "min_width": null,
            "object_fit": null,
            "object_position": null,
            "order": null,
            "overflow": null,
            "overflow_x": null,
            "overflow_y": null,
            "padding": null,
            "right": null,
            "top": null,
            "visibility": null,
            "width": null
          }
        },
        "522627eb358848f1b4f2ff204f114793": {
          "model_module": "@jupyter-widgets/base",
          "model_name": "LayoutModel",
          "model_module_version": "1.2.0",
          "state": {
            "_model_module": "@jupyter-widgets/base",
            "_model_module_version": "1.2.0",
            "_model_name": "LayoutModel",
            "_view_count": null,
            "_view_module": "@jupyter-widgets/base",
            "_view_module_version": "1.2.0",
            "_view_name": "LayoutView",
            "align_content": null,
            "align_items": null,
            "align_self": null,
            "border": null,
            "bottom": null,
            "display": null,
            "flex": null,
            "flex_flow": null,
            "grid_area": null,
            "grid_auto_columns": null,
            "grid_auto_flow": null,
            "grid_auto_rows": null,
            "grid_column": null,
            "grid_gap": null,
            "grid_row": null,
            "grid_template_areas": null,
            "grid_template_columns": null,
            "grid_template_rows": null,
            "height": null,
            "justify_content": null,
            "justify_items": null,
            "left": null,
            "margin": null,
            "max_height": null,
            "max_width": null,
            "min_height": null,
            "min_width": null,
            "object_fit": null,
            "object_position": null,
            "order": null,
            "overflow": null,
            "overflow_x": null,
            "overflow_y": null,
            "padding": null,
            "right": null,
            "top": null,
            "visibility": null,
            "width": null
          }
        },
        "73050f3adcde446d8a1d49587f1254ee": {
          "model_module": "@jupyter-widgets/controls",
          "model_name": "DescriptionStyleModel",
          "model_module_version": "1.5.0",
          "state": {
            "_model_module": "@jupyter-widgets/controls",
            "_model_module_version": "1.5.0",
            "_model_name": "DescriptionStyleModel",
            "_view_count": null,
            "_view_module": "@jupyter-widgets/base",
            "_view_module_version": "1.2.0",
            "_view_name": "StyleView",
            "description_width": ""
          }
        },
        "9862c3f525cd4f59959c4917130369bf": {
          "model_module": "@jupyter-widgets/base",
          "model_name": "LayoutModel",
          "model_module_version": "1.2.0",
          "state": {
            "_model_module": "@jupyter-widgets/base",
            "_model_module_version": "1.2.0",
            "_model_name": "LayoutModel",
            "_view_count": null,
            "_view_module": "@jupyter-widgets/base",
            "_view_module_version": "1.2.0",
            "_view_name": "LayoutView",
            "align_content": null,
            "align_items": null,
            "align_self": null,
            "border": null,
            "bottom": null,
            "display": null,
            "flex": null,
            "flex_flow": null,
            "grid_area": null,
            "grid_auto_columns": null,
            "grid_auto_flow": null,
            "grid_auto_rows": null,
            "grid_column": null,
            "grid_gap": null,
            "grid_row": null,
            "grid_template_areas": null,
            "grid_template_columns": null,
            "grid_template_rows": null,
            "height": null,
            "justify_content": null,
            "justify_items": null,
            "left": null,
            "margin": null,
            "max_height": null,
            "max_width": null,
            "min_height": null,
            "min_width": null,
            "object_fit": null,
            "object_position": null,
            "order": null,
            "overflow": null,
            "overflow_x": null,
            "overflow_y": null,
            "padding": null,
            "right": null,
            "top": null,
            "visibility": null,
            "width": "20px"
          }
        },
        "72bc01742a4d4fa8801fa5ba1bb54dc7": {
          "model_module": "@jupyter-widgets/controls",
          "model_name": "ProgressStyleModel",
          "model_module_version": "1.5.0",
          "state": {
            "_model_module": "@jupyter-widgets/controls",
            "_model_module_version": "1.5.0",
            "_model_name": "ProgressStyleModel",
            "_view_count": null,
            "_view_module": "@jupyter-widgets/base",
            "_view_module_version": "1.2.0",
            "_view_name": "StyleView",
            "bar_color": null,
            "description_width": ""
          }
        },
        "45945f24ca594447be4e532e2063875b": {
          "model_module": "@jupyter-widgets/base",
          "model_name": "LayoutModel",
          "model_module_version": "1.2.0",
          "state": {
            "_model_module": "@jupyter-widgets/base",
            "_model_module_version": "1.2.0",
            "_model_name": "LayoutModel",
            "_view_count": null,
            "_view_module": "@jupyter-widgets/base",
            "_view_module_version": "1.2.0",
            "_view_name": "LayoutView",
            "align_content": null,
            "align_items": null,
            "align_self": null,
            "border": null,
            "bottom": null,
            "display": null,
            "flex": null,
            "flex_flow": null,
            "grid_area": null,
            "grid_auto_columns": null,
            "grid_auto_flow": null,
            "grid_auto_rows": null,
            "grid_column": null,
            "grid_gap": null,
            "grid_row": null,
            "grid_template_areas": null,
            "grid_template_columns": null,
            "grid_template_rows": null,
            "height": null,
            "justify_content": null,
            "justify_items": null,
            "left": null,
            "margin": null,
            "max_height": null,
            "max_width": null,
            "min_height": null,
            "min_width": null,
            "object_fit": null,
            "object_position": null,
            "order": null,
            "overflow": null,
            "overflow_x": null,
            "overflow_y": null,
            "padding": null,
            "right": null,
            "top": null,
            "visibility": null,
            "width": null
          }
        },
        "7d40b58023374226a7c7940b2faf7b86": {
          "model_module": "@jupyter-widgets/controls",
          "model_name": "DescriptionStyleModel",
          "model_module_version": "1.5.0",
          "state": {
            "_model_module": "@jupyter-widgets/controls",
            "_model_module_version": "1.5.0",
            "_model_name": "DescriptionStyleModel",
            "_view_count": null,
            "_view_module": "@jupyter-widgets/base",
            "_view_module_version": "1.2.0",
            "_view_name": "StyleView",
            "description_width": ""
          }
        },
        "5b3970b4955d4824ae26c40d2168bd97": {
          "model_module": "@jupyter-widgets/controls",
          "model_name": "HBoxModel",
          "model_module_version": "1.5.0",
          "state": {
            "_dom_classes": [],
            "_model_module": "@jupyter-widgets/controls",
            "_model_module_version": "1.5.0",
            "_model_name": "HBoxModel",
            "_view_count": null,
            "_view_module": "@jupyter-widgets/controls",
            "_view_module_version": "1.5.0",
            "_view_name": "HBoxView",
            "box_style": "",
            "children": [
              "IPY_MODEL_681ae650a5044862bf7d67fc8d0e15ad",
              "IPY_MODEL_d686238472e3497e8d23105ebb174b46",
              "IPY_MODEL_b541689a959c4929a2ab607b5fa56484"
            ],
            "layout": "IPY_MODEL_34edf06132c0462baebb76e9fdc66b15"
          }
        },
        "681ae650a5044862bf7d67fc8d0e15ad": {
          "model_module": "@jupyter-widgets/controls",
          "model_name": "HTMLModel",
          "model_module_version": "1.5.0",
          "state": {
            "_dom_classes": [],
            "_model_module": "@jupyter-widgets/controls",
            "_model_module_version": "1.5.0",
            "_model_name": "HTMLModel",
            "_view_count": null,
            "_view_module": "@jupyter-widgets/controls",
            "_view_module_version": "1.5.0",
            "_view_name": "HTMLView",
            "description": "",
            "description_tooltip": null,
            "layout": "IPY_MODEL_622d394feedd41b4b13671b68a76fa1f",
            "placeholder": "​",
            "style": "IPY_MODEL_e2e5609c68cc49fcb8ab1e95539ce7d7",
            "value": "Dl Size...: 100%"
          }
        },
        "d686238472e3497e8d23105ebb174b46": {
          "model_module": "@jupyter-widgets/controls",
          "model_name": "FloatProgressModel",
          "model_module_version": "1.5.0",
          "state": {
            "_dom_classes": [],
            "_model_module": "@jupyter-widgets/controls",
            "_model_module_version": "1.5.0",
            "_model_name": "FloatProgressModel",
            "_view_count": null,
            "_view_module": "@jupyter-widgets/controls",
            "_view_module_version": "1.5.0",
            "_view_name": "ProgressView",
            "bar_style": "success",
            "description": "",
            "description_tooltip": null,
            "layout": "IPY_MODEL_4b8007dff53344e59d7d64798f932186",
            "max": 1,
            "min": 0,
            "orientation": "horizontal",
            "style": "IPY_MODEL_520c264f94044242b8b8c0adad3ff41f",
            "value": 1
          }
        },
        "b541689a959c4929a2ab607b5fa56484": {
          "model_module": "@jupyter-widgets/controls",
          "model_name": "HTMLModel",
          "model_module_version": "1.5.0",
          "state": {
            "_dom_classes": [],
            "_model_module": "@jupyter-widgets/controls",
            "_model_module_version": "1.5.0",
            "_model_name": "HTMLModel",
            "_view_count": null,
            "_view_module": "@jupyter-widgets/controls",
            "_view_module_version": "1.5.0",
            "_view_name": "HTMLView",
            "description": "",
            "description_tooltip": null,
            "layout": "IPY_MODEL_18328ec1f3664065b4079d6c18eb9d59",
            "placeholder": "​",
            "style": "IPY_MODEL_8b865e23199242159a7825825c4fad20",
            "value": " 639/639 [00:34&lt;00:00, 21.34 MiB/s]"
          }
        },
        "34edf06132c0462baebb76e9fdc66b15": {
          "model_module": "@jupyter-widgets/base",
          "model_name": "LayoutModel",
          "model_module_version": "1.2.0",
          "state": {
            "_model_module": "@jupyter-widgets/base",
            "_model_module_version": "1.2.0",
            "_model_name": "LayoutModel",
            "_view_count": null,
            "_view_module": "@jupyter-widgets/base",
            "_view_module_version": "1.2.0",
            "_view_name": "LayoutView",
            "align_content": null,
            "align_items": null,
            "align_self": null,
            "border": null,
            "bottom": null,
            "display": null,
            "flex": null,
            "flex_flow": null,
            "grid_area": null,
            "grid_auto_columns": null,
            "grid_auto_flow": null,
            "grid_auto_rows": null,
            "grid_column": null,
            "grid_gap": null,
            "grid_row": null,
            "grid_template_areas": null,
            "grid_template_columns": null,
            "grid_template_rows": null,
            "height": null,
            "justify_content": null,
            "justify_items": null,
            "left": null,
            "margin": null,
            "max_height": null,
            "max_width": null,
            "min_height": null,
            "min_width": null,
            "object_fit": null,
            "object_position": null,
            "order": null,
            "overflow": null,
            "overflow_x": null,
            "overflow_y": null,
            "padding": null,
            "right": null,
            "top": null,
            "visibility": null,
            "width": null
          }
        },
        "622d394feedd41b4b13671b68a76fa1f": {
          "model_module": "@jupyter-widgets/base",
          "model_name": "LayoutModel",
          "model_module_version": "1.2.0",
          "state": {
            "_model_module": "@jupyter-widgets/base",
            "_model_module_version": "1.2.0",
            "_model_name": "LayoutModel",
            "_view_count": null,
            "_view_module": "@jupyter-widgets/base",
            "_view_module_version": "1.2.0",
            "_view_name": "LayoutView",
            "align_content": null,
            "align_items": null,
            "align_self": null,
            "border": null,
            "bottom": null,
            "display": null,
            "flex": null,
            "flex_flow": null,
            "grid_area": null,
            "grid_auto_columns": null,
            "grid_auto_flow": null,
            "grid_auto_rows": null,
            "grid_column": null,
            "grid_gap": null,
            "grid_row": null,
            "grid_template_areas": null,
            "grid_template_columns": null,
            "grid_template_rows": null,
            "height": null,
            "justify_content": null,
            "justify_items": null,
            "left": null,
            "margin": null,
            "max_height": null,
            "max_width": null,
            "min_height": null,
            "min_width": null,
            "object_fit": null,
            "object_position": null,
            "order": null,
            "overflow": null,
            "overflow_x": null,
            "overflow_y": null,
            "padding": null,
            "right": null,
            "top": null,
            "visibility": null,
            "width": null
          }
        },
        "e2e5609c68cc49fcb8ab1e95539ce7d7": {
          "model_module": "@jupyter-widgets/controls",
          "model_name": "DescriptionStyleModel",
          "model_module_version": "1.5.0",
          "state": {
            "_model_module": "@jupyter-widgets/controls",
            "_model_module_version": "1.5.0",
            "_model_name": "DescriptionStyleModel",
            "_view_count": null,
            "_view_module": "@jupyter-widgets/base",
            "_view_module_version": "1.2.0",
            "_view_name": "StyleView",
            "description_width": ""
          }
        },
        "4b8007dff53344e59d7d64798f932186": {
          "model_module": "@jupyter-widgets/base",
          "model_name": "LayoutModel",
          "model_module_version": "1.2.0",
          "state": {
            "_model_module": "@jupyter-widgets/base",
            "_model_module_version": "1.2.0",
            "_model_name": "LayoutModel",
            "_view_count": null,
            "_view_module": "@jupyter-widgets/base",
            "_view_module_version": "1.2.0",
            "_view_name": "LayoutView",
            "align_content": null,
            "align_items": null,
            "align_self": null,
            "border": null,
            "bottom": null,
            "display": null,
            "flex": null,
            "flex_flow": null,
            "grid_area": null,
            "grid_auto_columns": null,
            "grid_auto_flow": null,
            "grid_auto_rows": null,
            "grid_column": null,
            "grid_gap": null,
            "grid_row": null,
            "grid_template_areas": null,
            "grid_template_columns": null,
            "grid_template_rows": null,
            "height": null,
            "justify_content": null,
            "justify_items": null,
            "left": null,
            "margin": null,
            "max_height": null,
            "max_width": null,
            "min_height": null,
            "min_width": null,
            "object_fit": null,
            "object_position": null,
            "order": null,
            "overflow": null,
            "overflow_x": null,
            "overflow_y": null,
            "padding": null,
            "right": null,
            "top": null,
            "visibility": null,
            "width": "20px"
          }
        },
        "520c264f94044242b8b8c0adad3ff41f": {
          "model_module": "@jupyter-widgets/controls",
          "model_name": "ProgressStyleModel",
          "model_module_version": "1.5.0",
          "state": {
            "_model_module": "@jupyter-widgets/controls",
            "_model_module_version": "1.5.0",
            "_model_name": "ProgressStyleModel",
            "_view_count": null,
            "_view_module": "@jupyter-widgets/base",
            "_view_module_version": "1.2.0",
            "_view_name": "StyleView",
            "bar_color": null,
            "description_width": ""
          }
        },
        "18328ec1f3664065b4079d6c18eb9d59": {
          "model_module": "@jupyter-widgets/base",
          "model_name": "LayoutModel",
          "model_module_version": "1.2.0",
          "state": {
            "_model_module": "@jupyter-widgets/base",
            "_model_module_version": "1.2.0",
            "_model_name": "LayoutModel",
            "_view_count": null,
            "_view_module": "@jupyter-widgets/base",
            "_view_module_version": "1.2.0",
            "_view_name": "LayoutView",
            "align_content": null,
            "align_items": null,
            "align_self": null,
            "border": null,
            "bottom": null,
            "display": null,
            "flex": null,
            "flex_flow": null,
            "grid_area": null,
            "grid_auto_columns": null,
            "grid_auto_flow": null,
            "grid_auto_rows": null,
            "grid_column": null,
            "grid_gap": null,
            "grid_row": null,
            "grid_template_areas": null,
            "grid_template_columns": null,
            "grid_template_rows": null,
            "height": null,
            "justify_content": null,
            "justify_items": null,
            "left": null,
            "margin": null,
            "max_height": null,
            "max_width": null,
            "min_height": null,
            "min_width": null,
            "object_fit": null,
            "object_position": null,
            "order": null,
            "overflow": null,
            "overflow_x": null,
            "overflow_y": null,
            "padding": null,
            "right": null,
            "top": null,
            "visibility": null,
            "width": null
          }
        },
        "8b865e23199242159a7825825c4fad20": {
          "model_module": "@jupyter-widgets/controls",
          "model_name": "DescriptionStyleModel",
          "model_module_version": "1.5.0",
          "state": {
            "_model_module": "@jupyter-widgets/controls",
            "_model_module_version": "1.5.0",
            "_model_name": "DescriptionStyleModel",
            "_view_count": null,
            "_view_module": "@jupyter-widgets/base",
            "_view_module_version": "1.2.0",
            "_view_name": "StyleView",
            "description_width": ""
          }
        },
        "bc2a8f8c16384f9db95bc88ad7961bf6": {
          "model_module": "@jupyter-widgets/controls",
          "model_name": "HBoxModel",
          "model_module_version": "1.5.0",
          "state": {
            "_dom_classes": [],
            "_model_module": "@jupyter-widgets/controls",
            "_model_module_version": "1.5.0",
            "_model_name": "HBoxModel",
            "_view_count": null,
            "_view_module": "@jupyter-widgets/controls",
            "_view_module_version": "1.5.0",
            "_view_name": "HBoxView",
            "box_style": "",
            "children": [
              "IPY_MODEL_e02b0564a06a472586bb44a29f6fd31b",
              "IPY_MODEL_32ee88fde4414ebaaedcc3c2d2f7cb35",
              "IPY_MODEL_651e69f0a5324724a1ce66f1e5656b83"
            ],
            "layout": "IPY_MODEL_4ab7682aa22449829a52cbeee5768c6f"
          }
        },
        "e02b0564a06a472586bb44a29f6fd31b": {
          "model_module": "@jupyter-widgets/controls",
          "model_name": "HTMLModel",
          "model_module_version": "1.5.0",
          "state": {
            "_dom_classes": [],
            "_model_module": "@jupyter-widgets/controls",
            "_model_module_version": "1.5.0",
            "_model_name": "HTMLModel",
            "_view_count": null,
            "_view_module": "@jupyter-widgets/controls",
            "_view_module_version": "1.5.0",
            "_view_name": "HTMLView",
            "description": "",
            "description_tooltip": null,
            "layout": "IPY_MODEL_51ab58a308e74d6d8485fd6df220ff7b",
            "placeholder": "​",
            "style": "IPY_MODEL_b3f584248e01408683de1ef12a764f96",
            "value": "Extraction completed...: "
          }
        },
        "32ee88fde4414ebaaedcc3c2d2f7cb35": {
          "model_module": "@jupyter-widgets/controls",
          "model_name": "FloatProgressModel",
          "model_module_version": "1.5.0",
          "state": {
            "_dom_classes": [],
            "_model_module": "@jupyter-widgets/controls",
            "_model_module_version": "1.5.0",
            "_model_name": "FloatProgressModel",
            "_view_count": null,
            "_view_module": "@jupyter-widgets/controls",
            "_view_module_version": "1.5.0",
            "_view_name": "ProgressView",
            "bar_style": "success",
            "description": "",
            "description_tooltip": null,
            "layout": "IPY_MODEL_13950f972b2440d48023576363bb0952",
            "max": 1,
            "min": 0,
            "orientation": "horizontal",
            "style": "IPY_MODEL_bdc2220502fb483ba34aa45e2f721b12",
            "value": 0
          }
        },
        "651e69f0a5324724a1ce66f1e5656b83": {
          "model_module": "@jupyter-widgets/controls",
          "model_name": "HTMLModel",
          "model_module_version": "1.5.0",
          "state": {
            "_dom_classes": [],
            "_model_module": "@jupyter-widgets/controls",
            "_model_module_version": "1.5.0",
            "_model_name": "HTMLModel",
            "_view_count": null,
            "_view_module": "@jupyter-widgets/controls",
            "_view_module_version": "1.5.0",
            "_view_name": "HTMLView",
            "description": "",
            "description_tooltip": null,
            "layout": "IPY_MODEL_14dfd524ce4a41229f7cd7fac0b66586",
            "placeholder": "​",
            "style": "IPY_MODEL_99d07688c3a64a27917a870883556a5f",
            "value": " 0/0 [00:33&lt;?, ? file/s]"
          }
        },
        "4ab7682aa22449829a52cbeee5768c6f": {
          "model_module": "@jupyter-widgets/base",
          "model_name": "LayoutModel",
          "model_module_version": "1.2.0",
          "state": {
            "_model_module": "@jupyter-widgets/base",
            "_model_module_version": "1.2.0",
            "_model_name": "LayoutModel",
            "_view_count": null,
            "_view_module": "@jupyter-widgets/base",
            "_view_module_version": "1.2.0",
            "_view_name": "LayoutView",
            "align_content": null,
            "align_items": null,
            "align_self": null,
            "border": null,
            "bottom": null,
            "display": null,
            "flex": null,
            "flex_flow": null,
            "grid_area": null,
            "grid_auto_columns": null,
            "grid_auto_flow": null,
            "grid_auto_rows": null,
            "grid_column": null,
            "grid_gap": null,
            "grid_row": null,
            "grid_template_areas": null,
            "grid_template_columns": null,
            "grid_template_rows": null,
            "height": null,
            "justify_content": null,
            "justify_items": null,
            "left": null,
            "margin": null,
            "max_height": null,
            "max_width": null,
            "min_height": null,
            "min_width": null,
            "object_fit": null,
            "object_position": null,
            "order": null,
            "overflow": null,
            "overflow_x": null,
            "overflow_y": null,
            "padding": null,
            "right": null,
            "top": null,
            "visibility": null,
            "width": null
          }
        },
        "51ab58a308e74d6d8485fd6df220ff7b": {
          "model_module": "@jupyter-widgets/base",
          "model_name": "LayoutModel",
          "model_module_version": "1.2.0",
          "state": {
            "_model_module": "@jupyter-widgets/base",
            "_model_module_version": "1.2.0",
            "_model_name": "LayoutModel",
            "_view_count": null,
            "_view_module": "@jupyter-widgets/base",
            "_view_module_version": "1.2.0",
            "_view_name": "LayoutView",
            "align_content": null,
            "align_items": null,
            "align_self": null,
            "border": null,
            "bottom": null,
            "display": null,
            "flex": null,
            "flex_flow": null,
            "grid_area": null,
            "grid_auto_columns": null,
            "grid_auto_flow": null,
            "grid_auto_rows": null,
            "grid_column": null,
            "grid_gap": null,
            "grid_row": null,
            "grid_template_areas": null,
            "grid_template_columns": null,
            "grid_template_rows": null,
            "height": null,
            "justify_content": null,
            "justify_items": null,
            "left": null,
            "margin": null,
            "max_height": null,
            "max_width": null,
            "min_height": null,
            "min_width": null,
            "object_fit": null,
            "object_position": null,
            "order": null,
            "overflow": null,
            "overflow_x": null,
            "overflow_y": null,
            "padding": null,
            "right": null,
            "top": null,
            "visibility": null,
            "width": null
          }
        },
        "b3f584248e01408683de1ef12a764f96": {
          "model_module": "@jupyter-widgets/controls",
          "model_name": "DescriptionStyleModel",
          "model_module_version": "1.5.0",
          "state": {
            "_model_module": "@jupyter-widgets/controls",
            "_model_module_version": "1.5.0",
            "_model_name": "DescriptionStyleModel",
            "_view_count": null,
            "_view_module": "@jupyter-widgets/base",
            "_view_module_version": "1.2.0",
            "_view_name": "StyleView",
            "description_width": ""
          }
        },
        "13950f972b2440d48023576363bb0952": {
          "model_module": "@jupyter-widgets/base",
          "model_name": "LayoutModel",
          "model_module_version": "1.2.0",
          "state": {
            "_model_module": "@jupyter-widgets/base",
            "_model_module_version": "1.2.0",
            "_model_name": "LayoutModel",
            "_view_count": null,
            "_view_module": "@jupyter-widgets/base",
            "_view_module_version": "1.2.0",
            "_view_name": "LayoutView",
            "align_content": null,
            "align_items": null,
            "align_self": null,
            "border": null,
            "bottom": null,
            "display": null,
            "flex": null,
            "flex_flow": null,
            "grid_area": null,
            "grid_auto_columns": null,
            "grid_auto_flow": null,
            "grid_auto_rows": null,
            "grid_column": null,
            "grid_gap": null,
            "grid_row": null,
            "grid_template_areas": null,
            "grid_template_columns": null,
            "grid_template_rows": null,
            "height": null,
            "justify_content": null,
            "justify_items": null,
            "left": null,
            "margin": null,
            "max_height": null,
            "max_width": null,
            "min_height": null,
            "min_width": null,
            "object_fit": null,
            "object_position": null,
            "order": null,
            "overflow": null,
            "overflow_x": null,
            "overflow_y": null,
            "padding": null,
            "right": null,
            "top": null,
            "visibility": null,
            "width": "20px"
          }
        },
        "bdc2220502fb483ba34aa45e2f721b12": {
          "model_module": "@jupyter-widgets/controls",
          "model_name": "ProgressStyleModel",
          "model_module_version": "1.5.0",
          "state": {
            "_model_module": "@jupyter-widgets/controls",
            "_model_module_version": "1.5.0",
            "_model_name": "ProgressStyleModel",
            "_view_count": null,
            "_view_module": "@jupyter-widgets/base",
            "_view_module_version": "1.2.0",
            "_view_name": "StyleView",
            "bar_color": null,
            "description_width": ""
          }
        },
        "14dfd524ce4a41229f7cd7fac0b66586": {
          "model_module": "@jupyter-widgets/base",
          "model_name": "LayoutModel",
          "model_module_version": "1.2.0",
          "state": {
            "_model_module": "@jupyter-widgets/base",
            "_model_module_version": "1.2.0",
            "_model_name": "LayoutModel",
            "_view_count": null,
            "_view_module": "@jupyter-widgets/base",
            "_view_module_version": "1.2.0",
            "_view_name": "LayoutView",
            "align_content": null,
            "align_items": null,
            "align_self": null,
            "border": null,
            "bottom": null,
            "display": null,
            "flex": null,
            "flex_flow": null,
            "grid_area": null,
            "grid_auto_columns": null,
            "grid_auto_flow": null,
            "grid_auto_rows": null,
            "grid_column": null,
            "grid_gap": null,
            "grid_row": null,
            "grid_template_areas": null,
            "grid_template_columns": null,
            "grid_template_rows": null,
            "height": null,
            "justify_content": null,
            "justify_items": null,
            "left": null,
            "margin": null,
            "max_height": null,
            "max_width": null,
            "min_height": null,
            "min_width": null,
            "object_fit": null,
            "object_position": null,
            "order": null,
            "overflow": null,
            "overflow_x": null,
            "overflow_y": null,
            "padding": null,
            "right": null,
            "top": null,
            "visibility": null,
            "width": null
          }
        },
        "99d07688c3a64a27917a870883556a5f": {
          "model_module": "@jupyter-widgets/controls",
          "model_name": "DescriptionStyleModel",
          "model_module_version": "1.5.0",
          "state": {
            "_model_module": "@jupyter-widgets/controls",
            "_model_module_version": "1.5.0",
            "_model_name": "DescriptionStyleModel",
            "_view_count": null,
            "_view_module": "@jupyter-widgets/base",
            "_view_module_version": "1.2.0",
            "_view_name": "StyleView",
            "description_width": ""
          }
        },
        "43289f2d5bc1433bbb982f0ee1756e09": {
          "model_module": "@jupyter-widgets/controls",
          "model_name": "HBoxModel",
          "model_module_version": "1.5.0",
          "state": {
            "_dom_classes": [],
            "_model_module": "@jupyter-widgets/controls",
            "_model_module_version": "1.5.0",
            "_model_name": "HBoxModel",
            "_view_count": null,
            "_view_module": "@jupyter-widgets/controls",
            "_view_module_version": "1.5.0",
            "_view_name": "HBoxView",
            "box_style": "",
            "children": [
              "IPY_MODEL_e0291b9c937742aaacaf3633ccb479e0",
              "IPY_MODEL_1014be07f4c94c0ebfe8f76aa20f1797",
              "IPY_MODEL_b4e149eadb554884b842fbd5eeaf20fb"
            ],
            "layout": "IPY_MODEL_6b501a649dc3464ca349ac4e4cf3484d"
          }
        },
        "e0291b9c937742aaacaf3633ccb479e0": {
          "model_module": "@jupyter-widgets/controls",
          "model_name": "HTMLModel",
          "model_module_version": "1.5.0",
          "state": {
            "_dom_classes": [],
            "_model_module": "@jupyter-widgets/controls",
            "_model_module_version": "1.5.0",
            "_model_name": "HTMLModel",
            "_view_count": null,
            "_view_module": "@jupyter-widgets/controls",
            "_view_module_version": "1.5.0",
            "_view_name": "HTMLView",
            "description": "",
            "description_tooltip": null,
            "layout": "IPY_MODEL_b311ac45d2e64c989a88ba6eb0a15351",
            "placeholder": "​",
            "style": "IPY_MODEL_589e4afca3b94c88aafba01d17bc73c9",
            "value": "Generating splits...: 100%"
          }
        },
        "1014be07f4c94c0ebfe8f76aa20f1797": {
          "model_module": "@jupyter-widgets/controls",
          "model_name": "FloatProgressModel",
          "model_module_version": "1.5.0",
          "state": {
            "_dom_classes": [],
            "_model_module": "@jupyter-widgets/controls",
            "_model_module_version": "1.5.0",
            "_model_name": "FloatProgressModel",
            "_view_count": null,
            "_view_module": "@jupyter-widgets/controls",
            "_view_module_version": "1.5.0",
            "_view_name": "ProgressView",
            "bar_style": "",
            "description": "",
            "description_tooltip": null,
            "layout": "IPY_MODEL_6591cc24dd0c4c1da49d026ce3b19e23",
            "max": 1,
            "min": 0,
            "orientation": "horizontal",
            "style": "IPY_MODEL_d586f944c10348acacca1a426f354fe8",
            "value": 1
          }
        },
        "b4e149eadb554884b842fbd5eeaf20fb": {
          "model_module": "@jupyter-widgets/controls",
          "model_name": "HTMLModel",
          "model_module_version": "1.5.0",
          "state": {
            "_dom_classes": [],
            "_model_module": "@jupyter-widgets/controls",
            "_model_module_version": "1.5.0",
            "_model_name": "HTMLModel",
            "_view_count": null,
            "_view_module": "@jupyter-widgets/controls",
            "_view_module_version": "1.5.0",
            "_view_name": "HTMLView",
            "description": "",
            "description_tooltip": null,
            "layout": "IPY_MODEL_abf05f8a86fd428991f863abf4b13be6",
            "placeholder": "​",
            "style": "IPY_MODEL_4110891cfb30448eb6603042ca88b8a1",
            "value": " 1/1 [00:48&lt;00:00, 48.10s/ splits]"
          }
        },
        "6b501a649dc3464ca349ac4e4cf3484d": {
          "model_module": "@jupyter-widgets/base",
          "model_name": "LayoutModel",
          "model_module_version": "1.2.0",
          "state": {
            "_model_module": "@jupyter-widgets/base",
            "_model_module_version": "1.2.0",
            "_model_name": "LayoutModel",
            "_view_count": null,
            "_view_module": "@jupyter-widgets/base",
            "_view_module_version": "1.2.0",
            "_view_name": "LayoutView",
            "align_content": null,
            "align_items": null,
            "align_self": null,
            "border": null,
            "bottom": null,
            "display": null,
            "flex": null,
            "flex_flow": null,
            "grid_area": null,
            "grid_auto_columns": null,
            "grid_auto_flow": null,
            "grid_auto_rows": null,
            "grid_column": null,
            "grid_gap": null,
            "grid_row": null,
            "grid_template_areas": null,
            "grid_template_columns": null,
            "grid_template_rows": null,
            "height": null,
            "justify_content": null,
            "justify_items": null,
            "left": null,
            "margin": null,
            "max_height": null,
            "max_width": null,
            "min_height": null,
            "min_width": null,
            "object_fit": null,
            "object_position": null,
            "order": null,
            "overflow": null,
            "overflow_x": null,
            "overflow_y": null,
            "padding": null,
            "right": null,
            "top": null,
            "visibility": "hidden",
            "width": null
          }
        },
        "b311ac45d2e64c989a88ba6eb0a15351": {
          "model_module": "@jupyter-widgets/base",
          "model_name": "LayoutModel",
          "model_module_version": "1.2.0",
          "state": {
            "_model_module": "@jupyter-widgets/base",
            "_model_module_version": "1.2.0",
            "_model_name": "LayoutModel",
            "_view_count": null,
            "_view_module": "@jupyter-widgets/base",
            "_view_module_version": "1.2.0",
            "_view_name": "LayoutView",
            "align_content": null,
            "align_items": null,
            "align_self": null,
            "border": null,
            "bottom": null,
            "display": null,
            "flex": null,
            "flex_flow": null,
            "grid_area": null,
            "grid_auto_columns": null,
            "grid_auto_flow": null,
            "grid_auto_rows": null,
            "grid_column": null,
            "grid_gap": null,
            "grid_row": null,
            "grid_template_areas": null,
            "grid_template_columns": null,
            "grid_template_rows": null,
            "height": null,
            "justify_content": null,
            "justify_items": null,
            "left": null,
            "margin": null,
            "max_height": null,
            "max_width": null,
            "min_height": null,
            "min_width": null,
            "object_fit": null,
            "object_position": null,
            "order": null,
            "overflow": null,
            "overflow_x": null,
            "overflow_y": null,
            "padding": null,
            "right": null,
            "top": null,
            "visibility": null,
            "width": null
          }
        },
        "589e4afca3b94c88aafba01d17bc73c9": {
          "model_module": "@jupyter-widgets/controls",
          "model_name": "DescriptionStyleModel",
          "model_module_version": "1.5.0",
          "state": {
            "_model_module": "@jupyter-widgets/controls",
            "_model_module_version": "1.5.0",
            "_model_name": "DescriptionStyleModel",
            "_view_count": null,
            "_view_module": "@jupyter-widgets/base",
            "_view_module_version": "1.2.0",
            "_view_name": "StyleView",
            "description_width": ""
          }
        },
        "6591cc24dd0c4c1da49d026ce3b19e23": {
          "model_module": "@jupyter-widgets/base",
          "model_name": "LayoutModel",
          "model_module_version": "1.2.0",
          "state": {
            "_model_module": "@jupyter-widgets/base",
            "_model_module_version": "1.2.0",
            "_model_name": "LayoutModel",
            "_view_count": null,
            "_view_module": "@jupyter-widgets/base",
            "_view_module_version": "1.2.0",
            "_view_name": "LayoutView",
            "align_content": null,
            "align_items": null,
            "align_self": null,
            "border": null,
            "bottom": null,
            "display": null,
            "flex": null,
            "flex_flow": null,
            "grid_area": null,
            "grid_auto_columns": null,
            "grid_auto_flow": null,
            "grid_auto_rows": null,
            "grid_column": null,
            "grid_gap": null,
            "grid_row": null,
            "grid_template_areas": null,
            "grid_template_columns": null,
            "grid_template_rows": null,
            "height": null,
            "justify_content": null,
            "justify_items": null,
            "left": null,
            "margin": null,
            "max_height": null,
            "max_width": null,
            "min_height": null,
            "min_width": null,
            "object_fit": null,
            "object_position": null,
            "order": null,
            "overflow": null,
            "overflow_x": null,
            "overflow_y": null,
            "padding": null,
            "right": null,
            "top": null,
            "visibility": null,
            "width": null
          }
        },
        "d586f944c10348acacca1a426f354fe8": {
          "model_module": "@jupyter-widgets/controls",
          "model_name": "ProgressStyleModel",
          "model_module_version": "1.5.0",
          "state": {
            "_model_module": "@jupyter-widgets/controls",
            "_model_module_version": "1.5.0",
            "_model_name": "ProgressStyleModel",
            "_view_count": null,
            "_view_module": "@jupyter-widgets/base",
            "_view_module_version": "1.2.0",
            "_view_name": "StyleView",
            "bar_color": null,
            "description_width": ""
          }
        },
        "abf05f8a86fd428991f863abf4b13be6": {
          "model_module": "@jupyter-widgets/base",
          "model_name": "LayoutModel",
          "model_module_version": "1.2.0",
          "state": {
            "_model_module": "@jupyter-widgets/base",
            "_model_module_version": "1.2.0",
            "_model_name": "LayoutModel",
            "_view_count": null,
            "_view_module": "@jupyter-widgets/base",
            "_view_module_version": "1.2.0",
            "_view_name": "LayoutView",
            "align_content": null,
            "align_items": null,
            "align_self": null,
            "border": null,
            "bottom": null,
            "display": null,
            "flex": null,
            "flex_flow": null,
            "grid_area": null,
            "grid_auto_columns": null,
            "grid_auto_flow": null,
            "grid_auto_rows": null,
            "grid_column": null,
            "grid_gap": null,
            "grid_row": null,
            "grid_template_areas": null,
            "grid_template_columns": null,
            "grid_template_rows": null,
            "height": null,
            "justify_content": null,
            "justify_items": null,
            "left": null,
            "margin": null,
            "max_height": null,
            "max_width": null,
            "min_height": null,
            "min_width": null,
            "object_fit": null,
            "object_position": null,
            "order": null,
            "overflow": null,
            "overflow_x": null,
            "overflow_y": null,
            "padding": null,
            "right": null,
            "top": null,
            "visibility": null,
            "width": null
          }
        },
        "4110891cfb30448eb6603042ca88b8a1": {
          "model_module": "@jupyter-widgets/controls",
          "model_name": "DescriptionStyleModel",
          "model_module_version": "1.5.0",
          "state": {
            "_model_module": "@jupyter-widgets/controls",
            "_model_module_version": "1.5.0",
            "_model_name": "DescriptionStyleModel",
            "_view_count": null,
            "_view_module": "@jupyter-widgets/base",
            "_view_module_version": "1.2.0",
            "_view_name": "StyleView",
            "description_width": ""
          }
        },
        "b153996e386348f0a5ce7b44966feaff": {
          "model_module": "@jupyter-widgets/controls",
          "model_name": "HBoxModel",
          "model_module_version": "1.5.0",
          "state": {
            "_dom_classes": [],
            "_model_module": "@jupyter-widgets/controls",
            "_model_module_version": "1.5.0",
            "_model_name": "HBoxModel",
            "_view_count": null,
            "_view_module": "@jupyter-widgets/controls",
            "_view_module_version": "1.5.0",
            "_view_name": "HBoxView",
            "box_style": "",
            "children": [
              "IPY_MODEL_5684ea80d5f34ab0a64e107f6ccf88f7",
              "IPY_MODEL_908d62bc73ed443faadd167d74456f77",
              "IPY_MODEL_1a6d2e28d59b44709fcb8c2cc9f93472"
            ],
            "layout": "IPY_MODEL_793334c5948a4a82a3297005f0ab5eee"
          }
        },
        "5684ea80d5f34ab0a64e107f6ccf88f7": {
          "model_module": "@jupyter-widgets/controls",
          "model_name": "HTMLModel",
          "model_module_version": "1.5.0",
          "state": {
            "_dom_classes": [],
            "_model_module": "@jupyter-widgets/controls",
            "_model_module_version": "1.5.0",
            "_model_name": "HTMLModel",
            "_view_count": null,
            "_view_module": "@jupyter-widgets/controls",
            "_view_module_version": "1.5.0",
            "_view_name": "HTMLView",
            "description": "",
            "description_tooltip": null,
            "layout": "IPY_MODEL_63c89283ec1540f692d2106a06520edb",
            "placeholder": "​",
            "style": "IPY_MODEL_5edbb348854c46a9bb24a855db8c87e5",
            "value": "Generating train examples...:  98%"
          }
        },
        "908d62bc73ed443faadd167d74456f77": {
          "model_module": "@jupyter-widgets/controls",
          "model_name": "FloatProgressModel",
          "model_module_version": "1.5.0",
          "state": {
            "_dom_classes": [],
            "_model_module": "@jupyter-widgets/controls",
            "_model_module_version": "1.5.0",
            "_model_name": "FloatProgressModel",
            "_view_count": null,
            "_view_module": "@jupyter-widgets/controls",
            "_view_module_version": "1.5.0",
            "_view_name": "ProgressView",
            "bar_style": "",
            "description": "",
            "description_tooltip": null,
            "layout": "IPY_MODEL_a93e57e824c744f7a30202763b3749c1",
            "max": 79740,
            "min": 0,
            "orientation": "horizontal",
            "style": "IPY_MODEL_82102ffd6a5944d18df7b4df973fdea9",
            "value": 79740
          }
        },
        "1a6d2e28d59b44709fcb8c2cc9f93472": {
          "model_module": "@jupyter-widgets/controls",
          "model_name": "HTMLModel",
          "model_module_version": "1.5.0",
          "state": {
            "_dom_classes": [],
            "_model_module": "@jupyter-widgets/controls",
            "_model_module_version": "1.5.0",
            "_model_name": "HTMLModel",
            "_view_count": null,
            "_view_module": "@jupyter-widgets/controls",
            "_view_module_version": "1.5.0",
            "_view_name": "HTMLView",
            "description": "",
            "description_tooltip": null,
            "layout": "IPY_MODEL_58f4baa495554a5394dfdfeb0db8839d",
            "placeholder": "​",
            "style": "IPY_MODEL_84e77c2f15a04857b9a78d9f0a4b7747",
            "value": " 78177/79740 [00:46&lt;00:00, 2029.76 examples/s]"
          }
        },
        "793334c5948a4a82a3297005f0ab5eee": {
          "model_module": "@jupyter-widgets/base",
          "model_name": "LayoutModel",
          "model_module_version": "1.2.0",
          "state": {
            "_model_module": "@jupyter-widgets/base",
            "_model_module_version": "1.2.0",
            "_model_name": "LayoutModel",
            "_view_count": null,
            "_view_module": "@jupyter-widgets/base",
            "_view_module_version": "1.2.0",
            "_view_name": "LayoutView",
            "align_content": null,
            "align_items": null,
            "align_self": null,
            "border": null,
            "bottom": null,
            "display": null,
            "flex": null,
            "flex_flow": null,
            "grid_area": null,
            "grid_auto_columns": null,
            "grid_auto_flow": null,
            "grid_auto_rows": null,
            "grid_column": null,
            "grid_gap": null,
            "grid_row": null,
            "grid_template_areas": null,
            "grid_template_columns": null,
            "grid_template_rows": null,
            "height": null,
            "justify_content": null,
            "justify_items": null,
            "left": null,
            "margin": null,
            "max_height": null,
            "max_width": null,
            "min_height": null,
            "min_width": null,
            "object_fit": null,
            "object_position": null,
            "order": null,
            "overflow": null,
            "overflow_x": null,
            "overflow_y": null,
            "padding": null,
            "right": null,
            "top": null,
            "visibility": "hidden",
            "width": null
          }
        },
        "63c89283ec1540f692d2106a06520edb": {
          "model_module": "@jupyter-widgets/base",
          "model_name": "LayoutModel",
          "model_module_version": "1.2.0",
          "state": {
            "_model_module": "@jupyter-widgets/base",
            "_model_module_version": "1.2.0",
            "_model_name": "LayoutModel",
            "_view_count": null,
            "_view_module": "@jupyter-widgets/base",
            "_view_module_version": "1.2.0",
            "_view_name": "LayoutView",
            "align_content": null,
            "align_items": null,
            "align_self": null,
            "border": null,
            "bottom": null,
            "display": null,
            "flex": null,
            "flex_flow": null,
            "grid_area": null,
            "grid_auto_columns": null,
            "grid_auto_flow": null,
            "grid_auto_rows": null,
            "grid_column": null,
            "grid_gap": null,
            "grid_row": null,
            "grid_template_areas": null,
            "grid_template_columns": null,
            "grid_template_rows": null,
            "height": null,
            "justify_content": null,
            "justify_items": null,
            "left": null,
            "margin": null,
            "max_height": null,
            "max_width": null,
            "min_height": null,
            "min_width": null,
            "object_fit": null,
            "object_position": null,
            "order": null,
            "overflow": null,
            "overflow_x": null,
            "overflow_y": null,
            "padding": null,
            "right": null,
            "top": null,
            "visibility": null,
            "width": null
          }
        },
        "5edbb348854c46a9bb24a855db8c87e5": {
          "model_module": "@jupyter-widgets/controls",
          "model_name": "DescriptionStyleModel",
          "model_module_version": "1.5.0",
          "state": {
            "_model_module": "@jupyter-widgets/controls",
            "_model_module_version": "1.5.0",
            "_model_name": "DescriptionStyleModel",
            "_view_count": null,
            "_view_module": "@jupyter-widgets/base",
            "_view_module_version": "1.2.0",
            "_view_name": "StyleView",
            "description_width": ""
          }
        },
        "a93e57e824c744f7a30202763b3749c1": {
          "model_module": "@jupyter-widgets/base",
          "model_name": "LayoutModel",
          "model_module_version": "1.2.0",
          "state": {
            "_model_module": "@jupyter-widgets/base",
            "_model_module_version": "1.2.0",
            "_model_name": "LayoutModel",
            "_view_count": null,
            "_view_module": "@jupyter-widgets/base",
            "_view_module_version": "1.2.0",
            "_view_name": "LayoutView",
            "align_content": null,
            "align_items": null,
            "align_self": null,
            "border": null,
            "bottom": null,
            "display": null,
            "flex": null,
            "flex_flow": null,
            "grid_area": null,
            "grid_auto_columns": null,
            "grid_auto_flow": null,
            "grid_auto_rows": null,
            "grid_column": null,
            "grid_gap": null,
            "grid_row": null,
            "grid_template_areas": null,
            "grid_template_columns": null,
            "grid_template_rows": null,
            "height": null,
            "justify_content": null,
            "justify_items": null,
            "left": null,
            "margin": null,
            "max_height": null,
            "max_width": null,
            "min_height": null,
            "min_width": null,
            "object_fit": null,
            "object_position": null,
            "order": null,
            "overflow": null,
            "overflow_x": null,
            "overflow_y": null,
            "padding": null,
            "right": null,
            "top": null,
            "visibility": null,
            "width": null
          }
        },
        "82102ffd6a5944d18df7b4df973fdea9": {
          "model_module": "@jupyter-widgets/controls",
          "model_name": "ProgressStyleModel",
          "model_module_version": "1.5.0",
          "state": {
            "_model_module": "@jupyter-widgets/controls",
            "_model_module_version": "1.5.0",
            "_model_name": "ProgressStyleModel",
            "_view_count": null,
            "_view_module": "@jupyter-widgets/base",
            "_view_module_version": "1.2.0",
            "_view_name": "StyleView",
            "bar_color": null,
            "description_width": ""
          }
        },
        "58f4baa495554a5394dfdfeb0db8839d": {
          "model_module": "@jupyter-widgets/base",
          "model_name": "LayoutModel",
          "model_module_version": "1.2.0",
          "state": {
            "_model_module": "@jupyter-widgets/base",
            "_model_module_version": "1.2.0",
            "_model_name": "LayoutModel",
            "_view_count": null,
            "_view_module": "@jupyter-widgets/base",
            "_view_module_version": "1.2.0",
            "_view_name": "LayoutView",
            "align_content": null,
            "align_items": null,
            "align_self": null,
            "border": null,
            "bottom": null,
            "display": null,
            "flex": null,
            "flex_flow": null,
            "grid_area": null,
            "grid_auto_columns": null,
            "grid_auto_flow": null,
            "grid_auto_rows": null,
            "grid_column": null,
            "grid_gap": null,
            "grid_row": null,
            "grid_template_areas": null,
            "grid_template_columns": null,
            "grid_template_rows": null,
            "height": null,
            "justify_content": null,
            "justify_items": null,
            "left": null,
            "margin": null,
            "max_height": null,
            "max_width": null,
            "min_height": null,
            "min_width": null,
            "object_fit": null,
            "object_position": null,
            "order": null,
            "overflow": null,
            "overflow_x": null,
            "overflow_y": null,
            "padding": null,
            "right": null,
            "top": null,
            "visibility": null,
            "width": null
          }
        },
        "84e77c2f15a04857b9a78d9f0a4b7747": {
          "model_module": "@jupyter-widgets/controls",
          "model_name": "DescriptionStyleModel",
          "model_module_version": "1.5.0",
          "state": {
            "_model_module": "@jupyter-widgets/controls",
            "_model_module_version": "1.5.0",
            "_model_name": "DescriptionStyleModel",
            "_view_count": null,
            "_view_module": "@jupyter-widgets/base",
            "_view_module_version": "1.2.0",
            "_view_name": "StyleView",
            "description_width": ""
          }
        },
        "79cd2b9fbc4b4099bf2f7e9557b2d4d5": {
          "model_module": "@jupyter-widgets/controls",
          "model_name": "HBoxModel",
          "model_module_version": "1.5.0",
          "state": {
            "_dom_classes": [],
            "_model_module": "@jupyter-widgets/controls",
            "_model_module_version": "1.5.0",
            "_model_name": "HBoxModel",
            "_view_count": null,
            "_view_module": "@jupyter-widgets/controls",
            "_view_module_version": "1.5.0",
            "_view_name": "HBoxView",
            "box_style": "",
            "children": [
              "IPY_MODEL_ef143ae9e6fb4ac9a6419419e01b75e4",
              "IPY_MODEL_2862b42bec704b32ab9d5170e5366136",
              "IPY_MODEL_60e3972f4d53476eb82ab432d288fd7e"
            ],
            "layout": "IPY_MODEL_e5c1a73a7eaa4f3681592f40caedadfb"
          }
        },
        "ef143ae9e6fb4ac9a6419419e01b75e4": {
          "model_module": "@jupyter-widgets/controls",
          "model_name": "HTMLModel",
          "model_module_version": "1.5.0",
          "state": {
            "_dom_classes": [],
            "_model_module": "@jupyter-widgets/controls",
            "_model_module_version": "1.5.0",
            "_model_name": "HTMLModel",
            "_view_count": null,
            "_view_module": "@jupyter-widgets/controls",
            "_view_module_version": "1.5.0",
            "_view_name": "HTMLView",
            "description": "",
            "description_tooltip": null,
            "layout": "IPY_MODEL_04eadcb603e14ffda2df3ad9a7597ce1",
            "placeholder": "​",
            "style": "IPY_MODEL_ba0d2d13d9294af3b4da6e94fed70b91",
            "value": "Shuffling /root/tensorflow_datasets/reddit_tifu/short/1.1.2.incompleteXTPWMX/reddit_tifu-train.tfrecord*...:  92%"
          }
        },
        "2862b42bec704b32ab9d5170e5366136": {
          "model_module": "@jupyter-widgets/controls",
          "model_name": "FloatProgressModel",
          "model_module_version": "1.5.0",
          "state": {
            "_dom_classes": [],
            "_model_module": "@jupyter-widgets/controls",
            "_model_module_version": "1.5.0",
            "_model_name": "FloatProgressModel",
            "_view_count": null,
            "_view_module": "@jupyter-widgets/controls",
            "_view_module_version": "1.5.0",
            "_view_name": "ProgressView",
            "bar_style": "",
            "description": "",
            "description_tooltip": null,
            "layout": "IPY_MODEL_90851cba130749bca9705f134a1d3e2f",
            "max": 79740,
            "min": 0,
            "orientation": "horizontal",
            "style": "IPY_MODEL_4eea3db910064a35bf44652807a5d72f",
            "value": 79740
          }
        },
        "60e3972f4d53476eb82ab432d288fd7e": {
          "model_module": "@jupyter-widgets/controls",
          "model_name": "HTMLModel",
          "model_module_version": "1.5.0",
          "state": {
            "_dom_classes": [],
            "_model_module": "@jupyter-widgets/controls",
            "_model_module_version": "1.5.0",
            "_model_name": "HTMLModel",
            "_view_count": null,
            "_view_module": "@jupyter-widgets/controls",
            "_view_module_version": "1.5.0",
            "_view_name": "HTMLView",
            "description": "",
            "description_tooltip": null,
            "layout": "IPY_MODEL_3a6eb36aa96e4571956691a98b4e794a",
            "placeholder": "​",
            "style": "IPY_MODEL_0eb1969561f24033996fdc7fa5476a5b",
            "value": " 73331/79740 [00:00&lt;00:00, 75388.87 examples/s]"
          }
        },
        "e5c1a73a7eaa4f3681592f40caedadfb": {
          "model_module": "@jupyter-widgets/base",
          "model_name": "LayoutModel",
          "model_module_version": "1.2.0",
          "state": {
            "_model_module": "@jupyter-widgets/base",
            "_model_module_version": "1.2.0",
            "_model_name": "LayoutModel",
            "_view_count": null,
            "_view_module": "@jupyter-widgets/base",
            "_view_module_version": "1.2.0",
            "_view_name": "LayoutView",
            "align_content": null,
            "align_items": null,
            "align_self": null,
            "border": null,
            "bottom": null,
            "display": null,
            "flex": null,
            "flex_flow": null,
            "grid_area": null,
            "grid_auto_columns": null,
            "grid_auto_flow": null,
            "grid_auto_rows": null,
            "grid_column": null,
            "grid_gap": null,
            "grid_row": null,
            "grid_template_areas": null,
            "grid_template_columns": null,
            "grid_template_rows": null,
            "height": null,
            "justify_content": null,
            "justify_items": null,
            "left": null,
            "margin": null,
            "max_height": null,
            "max_width": null,
            "min_height": null,
            "min_width": null,
            "object_fit": null,
            "object_position": null,
            "order": null,
            "overflow": null,
            "overflow_x": null,
            "overflow_y": null,
            "padding": null,
            "right": null,
            "top": null,
            "visibility": "hidden",
            "width": null
          }
        },
        "04eadcb603e14ffda2df3ad9a7597ce1": {
          "model_module": "@jupyter-widgets/base",
          "model_name": "LayoutModel",
          "model_module_version": "1.2.0",
          "state": {
            "_model_module": "@jupyter-widgets/base",
            "_model_module_version": "1.2.0",
            "_model_name": "LayoutModel",
            "_view_count": null,
            "_view_module": "@jupyter-widgets/base",
            "_view_module_version": "1.2.0",
            "_view_name": "LayoutView",
            "align_content": null,
            "align_items": null,
            "align_self": null,
            "border": null,
            "bottom": null,
            "display": null,
            "flex": null,
            "flex_flow": null,
            "grid_area": null,
            "grid_auto_columns": null,
            "grid_auto_flow": null,
            "grid_auto_rows": null,
            "grid_column": null,
            "grid_gap": null,
            "grid_row": null,
            "grid_template_areas": null,
            "grid_template_columns": null,
            "grid_template_rows": null,
            "height": null,
            "justify_content": null,
            "justify_items": null,
            "left": null,
            "margin": null,
            "max_height": null,
            "max_width": null,
            "min_height": null,
            "min_width": null,
            "object_fit": null,
            "object_position": null,
            "order": null,
            "overflow": null,
            "overflow_x": null,
            "overflow_y": null,
            "padding": null,
            "right": null,
            "top": null,
            "visibility": null,
            "width": null
          }
        },
        "ba0d2d13d9294af3b4da6e94fed70b91": {
          "model_module": "@jupyter-widgets/controls",
          "model_name": "DescriptionStyleModel",
          "model_module_version": "1.5.0",
          "state": {
            "_model_module": "@jupyter-widgets/controls",
            "_model_module_version": "1.5.0",
            "_model_name": "DescriptionStyleModel",
            "_view_count": null,
            "_view_module": "@jupyter-widgets/base",
            "_view_module_version": "1.2.0",
            "_view_name": "StyleView",
            "description_width": ""
          }
        },
        "90851cba130749bca9705f134a1d3e2f": {
          "model_module": "@jupyter-widgets/base",
          "model_name": "LayoutModel",
          "model_module_version": "1.2.0",
          "state": {
            "_model_module": "@jupyter-widgets/base",
            "_model_module_version": "1.2.0",
            "_model_name": "LayoutModel",
            "_view_count": null,
            "_view_module": "@jupyter-widgets/base",
            "_view_module_version": "1.2.0",
            "_view_name": "LayoutView",
            "align_content": null,
            "align_items": null,
            "align_self": null,
            "border": null,
            "bottom": null,
            "display": null,
            "flex": null,
            "flex_flow": null,
            "grid_area": null,
            "grid_auto_columns": null,
            "grid_auto_flow": null,
            "grid_auto_rows": null,
            "grid_column": null,
            "grid_gap": null,
            "grid_row": null,
            "grid_template_areas": null,
            "grid_template_columns": null,
            "grid_template_rows": null,
            "height": null,
            "justify_content": null,
            "justify_items": null,
            "left": null,
            "margin": null,
            "max_height": null,
            "max_width": null,
            "min_height": null,
            "min_width": null,
            "object_fit": null,
            "object_position": null,
            "order": null,
            "overflow": null,
            "overflow_x": null,
            "overflow_y": null,
            "padding": null,
            "right": null,
            "top": null,
            "visibility": null,
            "width": null
          }
        },
        "4eea3db910064a35bf44652807a5d72f": {
          "model_module": "@jupyter-widgets/controls",
          "model_name": "ProgressStyleModel",
          "model_module_version": "1.5.0",
          "state": {
            "_model_module": "@jupyter-widgets/controls",
            "_model_module_version": "1.5.0",
            "_model_name": "ProgressStyleModel",
            "_view_count": null,
            "_view_module": "@jupyter-widgets/base",
            "_view_module_version": "1.2.0",
            "_view_name": "StyleView",
            "bar_color": null,
            "description_width": ""
          }
        },
        "3a6eb36aa96e4571956691a98b4e794a": {
          "model_module": "@jupyter-widgets/base",
          "model_name": "LayoutModel",
          "model_module_version": "1.2.0",
          "state": {
            "_model_module": "@jupyter-widgets/base",
            "_model_module_version": "1.2.0",
            "_model_name": "LayoutModel",
            "_view_count": null,
            "_view_module": "@jupyter-widgets/base",
            "_view_module_version": "1.2.0",
            "_view_name": "LayoutView",
            "align_content": null,
            "align_items": null,
            "align_self": null,
            "border": null,
            "bottom": null,
            "display": null,
            "flex": null,
            "flex_flow": null,
            "grid_area": null,
            "grid_auto_columns": null,
            "grid_auto_flow": null,
            "grid_auto_rows": null,
            "grid_column": null,
            "grid_gap": null,
            "grid_row": null,
            "grid_template_areas": null,
            "grid_template_columns": null,
            "grid_template_rows": null,
            "height": null,
            "justify_content": null,
            "justify_items": null,
            "left": null,
            "margin": null,
            "max_height": null,
            "max_width": null,
            "min_height": null,
            "min_width": null,
            "object_fit": null,
            "object_position": null,
            "order": null,
            "overflow": null,
            "overflow_x": null,
            "overflow_y": null,
            "padding": null,
            "right": null,
            "top": null,
            "visibility": null,
            "width": null
          }
        },
        "0eb1969561f24033996fdc7fa5476a5b": {
          "model_module": "@jupyter-widgets/controls",
          "model_name": "DescriptionStyleModel",
          "model_module_version": "1.5.0",
          "state": {
            "_model_module": "@jupyter-widgets/controls",
            "_model_module_version": "1.5.0",
            "_model_name": "DescriptionStyleModel",
            "_view_count": null,
            "_view_module": "@jupyter-widgets/base",
            "_view_module_version": "1.2.0",
            "_view_name": "StyleView",
            "description_width": ""
          }
        },
        "f11cf39745de4ea39273866c4a3de1ff": {
          "model_module": "@jupyter-widgets/controls",
          "model_name": "HBoxModel",
          "model_module_version": "1.5.0",
          "state": {
            "_dom_classes": [],
            "_model_module": "@jupyter-widgets/controls",
            "_model_module_version": "1.5.0",
            "_model_name": "HBoxModel",
            "_view_count": null,
            "_view_module": "@jupyter-widgets/controls",
            "_view_module_version": "1.5.0",
            "_view_name": "HBoxView",
            "box_style": "",
            "children": [
              "IPY_MODEL_ae7b3102f43140f3a11d908c8dc996d3",
              "IPY_MODEL_da9e3501919f4f09a2ac2da35765f78d",
              "IPY_MODEL_f004ed5cff7c4adbb97fe3cdee3c16fc"
            ],
            "layout": "IPY_MODEL_9fef6af23b6c4a9488e8bdab5e8746a1"
          }
        },
        "ae7b3102f43140f3a11d908c8dc996d3": {
          "model_module": "@jupyter-widgets/controls",
          "model_name": "HTMLModel",
          "model_module_version": "1.5.0",
          "state": {
            "_dom_classes": [],
            "_model_module": "@jupyter-widgets/controls",
            "_model_module_version": "1.5.0",
            "_model_name": "HTMLModel",
            "_view_count": null,
            "_view_module": "@jupyter-widgets/controls",
            "_view_module_version": "1.5.0",
            "_view_name": "HTMLView",
            "description": "",
            "description_tooltip": null,
            "layout": "IPY_MODEL_624d8985daf646deb4cdbc5b5e19f30b",
            "placeholder": "​",
            "style": "IPY_MODEL_2dc2988e2ef645a38740b97a8fb7a475",
            "value": "Downloading builder script: 100%"
          }
        },
        "da9e3501919f4f09a2ac2da35765f78d": {
          "model_module": "@jupyter-widgets/controls",
          "model_name": "FloatProgressModel",
          "model_module_version": "1.5.0",
          "state": {
            "_dom_classes": [],
            "_model_module": "@jupyter-widgets/controls",
            "_model_module_version": "1.5.0",
            "_model_name": "FloatProgressModel",
            "_view_count": null,
            "_view_module": "@jupyter-widgets/controls",
            "_view_module_version": "1.5.0",
            "_view_name": "ProgressView",
            "bar_style": "success",
            "description": "",
            "description_tooltip": null,
            "layout": "IPY_MODEL_3bf643beacd74b16973d3d4be4c53e91",
            "max": 5274,
            "min": 0,
            "orientation": "horizontal",
            "style": "IPY_MODEL_597b771757324973a54f108e322f13b8",
            "value": 5274
          }
        },
        "f004ed5cff7c4adbb97fe3cdee3c16fc": {
          "model_module": "@jupyter-widgets/controls",
          "model_name": "HTMLModel",
          "model_module_version": "1.5.0",
          "state": {
            "_dom_classes": [],
            "_model_module": "@jupyter-widgets/controls",
            "_model_module_version": "1.5.0",
            "_model_name": "HTMLModel",
            "_view_count": null,
            "_view_module": "@jupyter-widgets/controls",
            "_view_module_version": "1.5.0",
            "_view_name": "HTMLView",
            "description": "",
            "description_tooltip": null,
            "layout": "IPY_MODEL_d1267d0745fc440ca7ac80e68b950433",
            "placeholder": "​",
            "style": "IPY_MODEL_70f5c35daccc4d9c8f330125cc9dcdc6",
            "value": " 5.27k/5.27k [00:00&lt;00:00, 106kB/s]"
          }
        },
        "9fef6af23b6c4a9488e8bdab5e8746a1": {
          "model_module": "@jupyter-widgets/base",
          "model_name": "LayoutModel",
          "model_module_version": "1.2.0",
          "state": {
            "_model_module": "@jupyter-widgets/base",
            "_model_module_version": "1.2.0",
            "_model_name": "LayoutModel",
            "_view_count": null,
            "_view_module": "@jupyter-widgets/base",
            "_view_module_version": "1.2.0",
            "_view_name": "LayoutView",
            "align_content": null,
            "align_items": null,
            "align_self": null,
            "border": null,
            "bottom": null,
            "display": null,
            "flex": null,
            "flex_flow": null,
            "grid_area": null,
            "grid_auto_columns": null,
            "grid_auto_flow": null,
            "grid_auto_rows": null,
            "grid_column": null,
            "grid_gap": null,
            "grid_row": null,
            "grid_template_areas": null,
            "grid_template_columns": null,
            "grid_template_rows": null,
            "height": null,
            "justify_content": null,
            "justify_items": null,
            "left": null,
            "margin": null,
            "max_height": null,
            "max_width": null,
            "min_height": null,
            "min_width": null,
            "object_fit": null,
            "object_position": null,
            "order": null,
            "overflow": null,
            "overflow_x": null,
            "overflow_y": null,
            "padding": null,
            "right": null,
            "top": null,
            "visibility": null,
            "width": null
          }
        },
        "624d8985daf646deb4cdbc5b5e19f30b": {
          "model_module": "@jupyter-widgets/base",
          "model_name": "LayoutModel",
          "model_module_version": "1.2.0",
          "state": {
            "_model_module": "@jupyter-widgets/base",
            "_model_module_version": "1.2.0",
            "_model_name": "LayoutModel",
            "_view_count": null,
            "_view_module": "@jupyter-widgets/base",
            "_view_module_version": "1.2.0",
            "_view_name": "LayoutView",
            "align_content": null,
            "align_items": null,
            "align_self": null,
            "border": null,
            "bottom": null,
            "display": null,
            "flex": null,
            "flex_flow": null,
            "grid_area": null,
            "grid_auto_columns": null,
            "grid_auto_flow": null,
            "grid_auto_rows": null,
            "grid_column": null,
            "grid_gap": null,
            "grid_row": null,
            "grid_template_areas": null,
            "grid_template_columns": null,
            "grid_template_rows": null,
            "height": null,
            "justify_content": null,
            "justify_items": null,
            "left": null,
            "margin": null,
            "max_height": null,
            "max_width": null,
            "min_height": null,
            "min_width": null,
            "object_fit": null,
            "object_position": null,
            "order": null,
            "overflow": null,
            "overflow_x": null,
            "overflow_y": null,
            "padding": null,
            "right": null,
            "top": null,
            "visibility": null,
            "width": null
          }
        },
        "2dc2988e2ef645a38740b97a8fb7a475": {
          "model_module": "@jupyter-widgets/controls",
          "model_name": "DescriptionStyleModel",
          "model_module_version": "1.5.0",
          "state": {
            "_model_module": "@jupyter-widgets/controls",
            "_model_module_version": "1.5.0",
            "_model_name": "DescriptionStyleModel",
            "_view_count": null,
            "_view_module": "@jupyter-widgets/base",
            "_view_module_version": "1.2.0",
            "_view_name": "StyleView",
            "description_width": ""
          }
        },
        "3bf643beacd74b16973d3d4be4c53e91": {
          "model_module": "@jupyter-widgets/base",
          "model_name": "LayoutModel",
          "model_module_version": "1.2.0",
          "state": {
            "_model_module": "@jupyter-widgets/base",
            "_model_module_version": "1.2.0",
            "_model_name": "LayoutModel",
            "_view_count": null,
            "_view_module": "@jupyter-widgets/base",
            "_view_module_version": "1.2.0",
            "_view_name": "LayoutView",
            "align_content": null,
            "align_items": null,
            "align_self": null,
            "border": null,
            "bottom": null,
            "display": null,
            "flex": null,
            "flex_flow": null,
            "grid_area": null,
            "grid_auto_columns": null,
            "grid_auto_flow": null,
            "grid_auto_rows": null,
            "grid_column": null,
            "grid_gap": null,
            "grid_row": null,
            "grid_template_areas": null,
            "grid_template_columns": null,
            "grid_template_rows": null,
            "height": null,
            "justify_content": null,
            "justify_items": null,
            "left": null,
            "margin": null,
            "max_height": null,
            "max_width": null,
            "min_height": null,
            "min_width": null,
            "object_fit": null,
            "object_position": null,
            "order": null,
            "overflow": null,
            "overflow_x": null,
            "overflow_y": null,
            "padding": null,
            "right": null,
            "top": null,
            "visibility": null,
            "width": null
          }
        },
        "597b771757324973a54f108e322f13b8": {
          "model_module": "@jupyter-widgets/controls",
          "model_name": "ProgressStyleModel",
          "model_module_version": "1.5.0",
          "state": {
            "_model_module": "@jupyter-widgets/controls",
            "_model_module_version": "1.5.0",
            "_model_name": "ProgressStyleModel",
            "_view_count": null,
            "_view_module": "@jupyter-widgets/base",
            "_view_module_version": "1.2.0",
            "_view_name": "StyleView",
            "bar_color": null,
            "description_width": ""
          }
        },
        "d1267d0745fc440ca7ac80e68b950433": {
          "model_module": "@jupyter-widgets/base",
          "model_name": "LayoutModel",
          "model_module_version": "1.2.0",
          "state": {
            "_model_module": "@jupyter-widgets/base",
            "_model_module_version": "1.2.0",
            "_model_name": "LayoutModel",
            "_view_count": null,
            "_view_module": "@jupyter-widgets/base",
            "_view_module_version": "1.2.0",
            "_view_name": "LayoutView",
            "align_content": null,
            "align_items": null,
            "align_self": null,
            "border": null,
            "bottom": null,
            "display": null,
            "flex": null,
            "flex_flow": null,
            "grid_area": null,
            "grid_auto_columns": null,
            "grid_auto_flow": null,
            "grid_auto_rows": null,
            "grid_column": null,
            "grid_gap": null,
            "grid_row": null,
            "grid_template_areas": null,
            "grid_template_columns": null,
            "grid_template_rows": null,
            "height": null,
            "justify_content": null,
            "justify_items": null,
            "left": null,
            "margin": null,
            "max_height": null,
            "max_width": null,
            "min_height": null,
            "min_width": null,
            "object_fit": null,
            "object_position": null,
            "order": null,
            "overflow": null,
            "overflow_x": null,
            "overflow_y": null,
            "padding": null,
            "right": null,
            "top": null,
            "visibility": null,
            "width": null
          }
        },
        "70f5c35daccc4d9c8f330125cc9dcdc6": {
          "model_module": "@jupyter-widgets/controls",
          "model_name": "DescriptionStyleModel",
          "model_module_version": "1.5.0",
          "state": {
            "_model_module": "@jupyter-widgets/controls",
            "_model_module_version": "1.5.0",
            "_model_name": "DescriptionStyleModel",
            "_view_count": null,
            "_view_module": "@jupyter-widgets/base",
            "_view_module_version": "1.2.0",
            "_view_name": "StyleView",
            "description_width": ""
          }
        },
        "9248ee1ef8cd412f8ad2085f32d08f6c": {
          "model_module": "@jupyter-widgets/controls",
          "model_name": "HBoxModel",
          "model_module_version": "1.5.0",
          "state": {
            "_dom_classes": [],
            "_model_module": "@jupyter-widgets/controls",
            "_model_module_version": "1.5.0",
            "_model_name": "HBoxModel",
            "_view_count": null,
            "_view_module": "@jupyter-widgets/controls",
            "_view_module_version": "1.5.0",
            "_view_name": "HBoxView",
            "box_style": "",
            "children": [
              "IPY_MODEL_d87b16edbf2049fdb5fbe98a2c4b3c5c",
              "IPY_MODEL_5a44e15224114f3f92a2e87edca143f9",
              "IPY_MODEL_8e40b599b10c4e5989ecd38c86d9b33e"
            ],
            "layout": "IPY_MODEL_ebf269a93e794e1bbb5d5e6c0b207605"
          }
        },
        "d87b16edbf2049fdb5fbe98a2c4b3c5c": {
          "model_module": "@jupyter-widgets/controls",
          "model_name": "HTMLModel",
          "model_module_version": "1.5.0",
          "state": {
            "_dom_classes": [],
            "_model_module": "@jupyter-widgets/controls",
            "_model_module_version": "1.5.0",
            "_model_name": "HTMLModel",
            "_view_count": null,
            "_view_module": "@jupyter-widgets/controls",
            "_view_module_version": "1.5.0",
            "_view_name": "HTMLView",
            "description": "",
            "description_tooltip": null,
            "layout": "IPY_MODEL_5429888bc0bd49828374e26911e28363",
            "placeholder": "​",
            "style": "IPY_MODEL_66dbf06dface443ba4ab4ae19addd571",
            "value": "Downloading metadata: 100%"
          }
        },
        "5a44e15224114f3f92a2e87edca143f9": {
          "model_module": "@jupyter-widgets/controls",
          "model_name": "FloatProgressModel",
          "model_module_version": "1.5.0",
          "state": {
            "_dom_classes": [],
            "_model_module": "@jupyter-widgets/controls",
            "_model_module_version": "1.5.0",
            "_model_name": "FloatProgressModel",
            "_view_count": null,
            "_view_module": "@jupyter-widgets/controls",
            "_view_module_version": "1.5.0",
            "_view_name": "ProgressView",
            "bar_style": "success",
            "description": "",
            "description_tooltip": null,
            "layout": "IPY_MODEL_7b61564a071d42b790abbb6f4b6549ce",
            "max": 2360,
            "min": 0,
            "orientation": "horizontal",
            "style": "IPY_MODEL_54c3086512c74d9ca46f3f293741441b",
            "value": 2360
          }
        },
        "8e40b599b10c4e5989ecd38c86d9b33e": {
          "model_module": "@jupyter-widgets/controls",
          "model_name": "HTMLModel",
          "model_module_version": "1.5.0",
          "state": {
            "_dom_classes": [],
            "_model_module": "@jupyter-widgets/controls",
            "_model_module_version": "1.5.0",
            "_model_name": "HTMLModel",
            "_view_count": null,
            "_view_module": "@jupyter-widgets/controls",
            "_view_module_version": "1.5.0",
            "_view_name": "HTMLView",
            "description": "",
            "description_tooltip": null,
            "layout": "IPY_MODEL_79a0a9b3fb3c47599957b3a67a22f42b",
            "placeholder": "​",
            "style": "IPY_MODEL_69772b8fbda849b39cc5bbe789509896",
            "value": " 2.36k/2.36k [00:00&lt;00:00, 124kB/s]"
          }
        },
        "ebf269a93e794e1bbb5d5e6c0b207605": {
          "model_module": "@jupyter-widgets/base",
          "model_name": "LayoutModel",
          "model_module_version": "1.2.0",
          "state": {
            "_model_module": "@jupyter-widgets/base",
            "_model_module_version": "1.2.0",
            "_model_name": "LayoutModel",
            "_view_count": null,
            "_view_module": "@jupyter-widgets/base",
            "_view_module_version": "1.2.0",
            "_view_name": "LayoutView",
            "align_content": null,
            "align_items": null,
            "align_self": null,
            "border": null,
            "bottom": null,
            "display": null,
            "flex": null,
            "flex_flow": null,
            "grid_area": null,
            "grid_auto_columns": null,
            "grid_auto_flow": null,
            "grid_auto_rows": null,
            "grid_column": null,
            "grid_gap": null,
            "grid_row": null,
            "grid_template_areas": null,
            "grid_template_columns": null,
            "grid_template_rows": null,
            "height": null,
            "justify_content": null,
            "justify_items": null,
            "left": null,
            "margin": null,
            "max_height": null,
            "max_width": null,
            "min_height": null,
            "min_width": null,
            "object_fit": null,
            "object_position": null,
            "order": null,
            "overflow": null,
            "overflow_x": null,
            "overflow_y": null,
            "padding": null,
            "right": null,
            "top": null,
            "visibility": null,
            "width": null
          }
        },
        "5429888bc0bd49828374e26911e28363": {
          "model_module": "@jupyter-widgets/base",
          "model_name": "LayoutModel",
          "model_module_version": "1.2.0",
          "state": {
            "_model_module": "@jupyter-widgets/base",
            "_model_module_version": "1.2.0",
            "_model_name": "LayoutModel",
            "_view_count": null,
            "_view_module": "@jupyter-widgets/base",
            "_view_module_version": "1.2.0",
            "_view_name": "LayoutView",
            "align_content": null,
            "align_items": null,
            "align_self": null,
            "border": null,
            "bottom": null,
            "display": null,
            "flex": null,
            "flex_flow": null,
            "grid_area": null,
            "grid_auto_columns": null,
            "grid_auto_flow": null,
            "grid_auto_rows": null,
            "grid_column": null,
            "grid_gap": null,
            "grid_row": null,
            "grid_template_areas": null,
            "grid_template_columns": null,
            "grid_template_rows": null,
            "height": null,
            "justify_content": null,
            "justify_items": null,
            "left": null,
            "margin": null,
            "max_height": null,
            "max_width": null,
            "min_height": null,
            "min_width": null,
            "object_fit": null,
            "object_position": null,
            "order": null,
            "overflow": null,
            "overflow_x": null,
            "overflow_y": null,
            "padding": null,
            "right": null,
            "top": null,
            "visibility": null,
            "width": null
          }
        },
        "66dbf06dface443ba4ab4ae19addd571": {
          "model_module": "@jupyter-widgets/controls",
          "model_name": "DescriptionStyleModel",
          "model_module_version": "1.5.0",
          "state": {
            "_model_module": "@jupyter-widgets/controls",
            "_model_module_version": "1.5.0",
            "_model_name": "DescriptionStyleModel",
            "_view_count": null,
            "_view_module": "@jupyter-widgets/base",
            "_view_module_version": "1.2.0",
            "_view_name": "StyleView",
            "description_width": ""
          }
        },
        "7b61564a071d42b790abbb6f4b6549ce": {
          "model_module": "@jupyter-widgets/base",
          "model_name": "LayoutModel",
          "model_module_version": "1.2.0",
          "state": {
            "_model_module": "@jupyter-widgets/base",
            "_model_module_version": "1.2.0",
            "_model_name": "LayoutModel",
            "_view_count": null,
            "_view_module": "@jupyter-widgets/base",
            "_view_module_version": "1.2.0",
            "_view_name": "LayoutView",
            "align_content": null,
            "align_items": null,
            "align_self": null,
            "border": null,
            "bottom": null,
            "display": null,
            "flex": null,
            "flex_flow": null,
            "grid_area": null,
            "grid_auto_columns": null,
            "grid_auto_flow": null,
            "grid_auto_rows": null,
            "grid_column": null,
            "grid_gap": null,
            "grid_row": null,
            "grid_template_areas": null,
            "grid_template_columns": null,
            "grid_template_rows": null,
            "height": null,
            "justify_content": null,
            "justify_items": null,
            "left": null,
            "margin": null,
            "max_height": null,
            "max_width": null,
            "min_height": null,
            "min_width": null,
            "object_fit": null,
            "object_position": null,
            "order": null,
            "overflow": null,
            "overflow_x": null,
            "overflow_y": null,
            "padding": null,
            "right": null,
            "top": null,
            "visibility": null,
            "width": null
          }
        },
        "54c3086512c74d9ca46f3f293741441b": {
          "model_module": "@jupyter-widgets/controls",
          "model_name": "ProgressStyleModel",
          "model_module_version": "1.5.0",
          "state": {
            "_model_module": "@jupyter-widgets/controls",
            "_model_module_version": "1.5.0",
            "_model_name": "ProgressStyleModel",
            "_view_count": null,
            "_view_module": "@jupyter-widgets/base",
            "_view_module_version": "1.2.0",
            "_view_name": "StyleView",
            "bar_color": null,
            "description_width": ""
          }
        },
        "79a0a9b3fb3c47599957b3a67a22f42b": {
          "model_module": "@jupyter-widgets/base",
          "model_name": "LayoutModel",
          "model_module_version": "1.2.0",
          "state": {
            "_model_module": "@jupyter-widgets/base",
            "_model_module_version": "1.2.0",
            "_model_name": "LayoutModel",
            "_view_count": null,
            "_view_module": "@jupyter-widgets/base",
            "_view_module_version": "1.2.0",
            "_view_name": "LayoutView",
            "align_content": null,
            "align_items": null,
            "align_self": null,
            "border": null,
            "bottom": null,
            "display": null,
            "flex": null,
            "flex_flow": null,
            "grid_area": null,
            "grid_auto_columns": null,
            "grid_auto_flow": null,
            "grid_auto_rows": null,
            "grid_column": null,
            "grid_gap": null,
            "grid_row": null,
            "grid_template_areas": null,
            "grid_template_columns": null,
            "grid_template_rows": null,
            "height": null,
            "justify_content": null,
            "justify_items": null,
            "left": null,
            "margin": null,
            "max_height": null,
            "max_width": null,
            "min_height": null,
            "min_width": null,
            "object_fit": null,
            "object_position": null,
            "order": null,
            "overflow": null,
            "overflow_x": null,
            "overflow_y": null,
            "padding": null,
            "right": null,
            "top": null,
            "visibility": null,
            "width": null
          }
        },
        "69772b8fbda849b39cc5bbe789509896": {
          "model_module": "@jupyter-widgets/controls",
          "model_name": "DescriptionStyleModel",
          "model_module_version": "1.5.0",
          "state": {
            "_model_module": "@jupyter-widgets/controls",
            "_model_module_version": "1.5.0",
            "_model_name": "DescriptionStyleModel",
            "_view_count": null,
            "_view_module": "@jupyter-widgets/base",
            "_view_module_version": "1.2.0",
            "_view_name": "StyleView",
            "description_width": ""
          }
        },
        "c834f17cef9a495d8c183a8f6d563346": {
          "model_module": "@jupyter-widgets/controls",
          "model_name": "HBoxModel",
          "model_module_version": "1.5.0",
          "state": {
            "_dom_classes": [],
            "_model_module": "@jupyter-widgets/controls",
            "_model_module_version": "1.5.0",
            "_model_name": "HBoxModel",
            "_view_count": null,
            "_view_module": "@jupyter-widgets/controls",
            "_view_module_version": "1.5.0",
            "_view_name": "HBoxView",
            "box_style": "",
            "children": [
              "IPY_MODEL_47c686b913cb417b984683dc0ceb6619",
              "IPY_MODEL_88ff24f517764bf4900255dc615cf278",
              "IPY_MODEL_354123afaebf48e181c2e9e13e7beeb1"
            ],
            "layout": "IPY_MODEL_4c68a6b9fb3d44cea5fabf02c7d00dc7"
          }
        },
        "47c686b913cb417b984683dc0ceb6619": {
          "model_module": "@jupyter-widgets/controls",
          "model_name": "HTMLModel",
          "model_module_version": "1.5.0",
          "state": {
            "_dom_classes": [],
            "_model_module": "@jupyter-widgets/controls",
            "_model_module_version": "1.5.0",
            "_model_name": "HTMLModel",
            "_view_count": null,
            "_view_module": "@jupyter-widgets/controls",
            "_view_module_version": "1.5.0",
            "_view_name": "HTMLView",
            "description": "",
            "description_tooltip": null,
            "layout": "IPY_MODEL_f3bf8063ac464cc1a9e53ad93a49546e",
            "placeholder": "​",
            "style": "IPY_MODEL_5d08fee0f83d44c99b2d3873da52381a",
            "value": "Downloading readme: 100%"
          }
        },
        "88ff24f517764bf4900255dc615cf278": {
          "model_module": "@jupyter-widgets/controls",
          "model_name": "FloatProgressModel",
          "model_module_version": "1.5.0",
          "state": {
            "_dom_classes": [],
            "_model_module": "@jupyter-widgets/controls",
            "_model_module_version": "1.5.0",
            "_model_name": "FloatProgressModel",
            "_view_count": null,
            "_view_module": "@jupyter-widgets/controls",
            "_view_module_version": "1.5.0",
            "_view_name": "ProgressView",
            "bar_style": "success",
            "description": "",
            "description_tooltip": null,
            "layout": "IPY_MODEL_0bb585d03dff4f0c83988eb97f27a77d",
            "max": 7665,
            "min": 0,
            "orientation": "horizontal",
            "style": "IPY_MODEL_fd94c4f1608144629606feba3834ef79",
            "value": 7665
          }
        },
        "354123afaebf48e181c2e9e13e7beeb1": {
          "model_module": "@jupyter-widgets/controls",
          "model_name": "HTMLModel",
          "model_module_version": "1.5.0",
          "state": {
            "_dom_classes": [],
            "_model_module": "@jupyter-widgets/controls",
            "_model_module_version": "1.5.0",
            "_model_name": "HTMLModel",
            "_view_count": null,
            "_view_module": "@jupyter-widgets/controls",
            "_view_module_version": "1.5.0",
            "_view_name": "HTMLView",
            "description": "",
            "description_tooltip": null,
            "layout": "IPY_MODEL_b07efaf348574c1181031eda2ce8cf51",
            "placeholder": "​",
            "style": "IPY_MODEL_70e481c33ef245ab89a34f383ff84040",
            "value": " 7.67k/7.67k [00:00&lt;00:00, 463kB/s]"
          }
        },
        "4c68a6b9fb3d44cea5fabf02c7d00dc7": {
          "model_module": "@jupyter-widgets/base",
          "model_name": "LayoutModel",
          "model_module_version": "1.2.0",
          "state": {
            "_model_module": "@jupyter-widgets/base",
            "_model_module_version": "1.2.0",
            "_model_name": "LayoutModel",
            "_view_count": null,
            "_view_module": "@jupyter-widgets/base",
            "_view_module_version": "1.2.0",
            "_view_name": "LayoutView",
            "align_content": null,
            "align_items": null,
            "align_self": null,
            "border": null,
            "bottom": null,
            "display": null,
            "flex": null,
            "flex_flow": null,
            "grid_area": null,
            "grid_auto_columns": null,
            "grid_auto_flow": null,
            "grid_auto_rows": null,
            "grid_column": null,
            "grid_gap": null,
            "grid_row": null,
            "grid_template_areas": null,
            "grid_template_columns": null,
            "grid_template_rows": null,
            "height": null,
            "justify_content": null,
            "justify_items": null,
            "left": null,
            "margin": null,
            "max_height": null,
            "max_width": null,
            "min_height": null,
            "min_width": null,
            "object_fit": null,
            "object_position": null,
            "order": null,
            "overflow": null,
            "overflow_x": null,
            "overflow_y": null,
            "padding": null,
            "right": null,
            "top": null,
            "visibility": null,
            "width": null
          }
        },
        "f3bf8063ac464cc1a9e53ad93a49546e": {
          "model_module": "@jupyter-widgets/base",
          "model_name": "LayoutModel",
          "model_module_version": "1.2.0",
          "state": {
            "_model_module": "@jupyter-widgets/base",
            "_model_module_version": "1.2.0",
            "_model_name": "LayoutModel",
            "_view_count": null,
            "_view_module": "@jupyter-widgets/base",
            "_view_module_version": "1.2.0",
            "_view_name": "LayoutView",
            "align_content": null,
            "align_items": null,
            "align_self": null,
            "border": null,
            "bottom": null,
            "display": null,
            "flex": null,
            "flex_flow": null,
            "grid_area": null,
            "grid_auto_columns": null,
            "grid_auto_flow": null,
            "grid_auto_rows": null,
            "grid_column": null,
            "grid_gap": null,
            "grid_row": null,
            "grid_template_areas": null,
            "grid_template_columns": null,
            "grid_template_rows": null,
            "height": null,
            "justify_content": null,
            "justify_items": null,
            "left": null,
            "margin": null,
            "max_height": null,
            "max_width": null,
            "min_height": null,
            "min_width": null,
            "object_fit": null,
            "object_position": null,
            "order": null,
            "overflow": null,
            "overflow_x": null,
            "overflow_y": null,
            "padding": null,
            "right": null,
            "top": null,
            "visibility": null,
            "width": null
          }
        },
        "5d08fee0f83d44c99b2d3873da52381a": {
          "model_module": "@jupyter-widgets/controls",
          "model_name": "DescriptionStyleModel",
          "model_module_version": "1.5.0",
          "state": {
            "_model_module": "@jupyter-widgets/controls",
            "_model_module_version": "1.5.0",
            "_model_name": "DescriptionStyleModel",
            "_view_count": null,
            "_view_module": "@jupyter-widgets/base",
            "_view_module_version": "1.2.0",
            "_view_name": "StyleView",
            "description_width": ""
          }
        },
        "0bb585d03dff4f0c83988eb97f27a77d": {
          "model_module": "@jupyter-widgets/base",
          "model_name": "LayoutModel",
          "model_module_version": "1.2.0",
          "state": {
            "_model_module": "@jupyter-widgets/base",
            "_model_module_version": "1.2.0",
            "_model_name": "LayoutModel",
            "_view_count": null,
            "_view_module": "@jupyter-widgets/base",
            "_view_module_version": "1.2.0",
            "_view_name": "LayoutView",
            "align_content": null,
            "align_items": null,
            "align_self": null,
            "border": null,
            "bottom": null,
            "display": null,
            "flex": null,
            "flex_flow": null,
            "grid_area": null,
            "grid_auto_columns": null,
            "grid_auto_flow": null,
            "grid_auto_rows": null,
            "grid_column": null,
            "grid_gap": null,
            "grid_row": null,
            "grid_template_areas": null,
            "grid_template_columns": null,
            "grid_template_rows": null,
            "height": null,
            "justify_content": null,
            "justify_items": null,
            "left": null,
            "margin": null,
            "max_height": null,
            "max_width": null,
            "min_height": null,
            "min_width": null,
            "object_fit": null,
            "object_position": null,
            "order": null,
            "overflow": null,
            "overflow_x": null,
            "overflow_y": null,
            "padding": null,
            "right": null,
            "top": null,
            "visibility": null,
            "width": null
          }
        },
        "fd94c4f1608144629606feba3834ef79": {
          "model_module": "@jupyter-widgets/controls",
          "model_name": "ProgressStyleModel",
          "model_module_version": "1.5.0",
          "state": {
            "_model_module": "@jupyter-widgets/controls",
            "_model_module_version": "1.5.0",
            "_model_name": "ProgressStyleModel",
            "_view_count": null,
            "_view_module": "@jupyter-widgets/base",
            "_view_module_version": "1.2.0",
            "_view_name": "StyleView",
            "bar_color": null,
            "description_width": ""
          }
        },
        "b07efaf348574c1181031eda2ce8cf51": {
          "model_module": "@jupyter-widgets/base",
          "model_name": "LayoutModel",
          "model_module_version": "1.2.0",
          "state": {
            "_model_module": "@jupyter-widgets/base",
            "_model_module_version": "1.2.0",
            "_model_name": "LayoutModel",
            "_view_count": null,
            "_view_module": "@jupyter-widgets/base",
            "_view_module_version": "1.2.0",
            "_view_name": "LayoutView",
            "align_content": null,
            "align_items": null,
            "align_self": null,
            "border": null,
            "bottom": null,
            "display": null,
            "flex": null,
            "flex_flow": null,
            "grid_area": null,
            "grid_auto_columns": null,
            "grid_auto_flow": null,
            "grid_auto_rows": null,
            "grid_column": null,
            "grid_gap": null,
            "grid_row": null,
            "grid_template_areas": null,
            "grid_template_columns": null,
            "grid_template_rows": null,
            "height": null,
            "justify_content": null,
            "justify_items": null,
            "left": null,
            "margin": null,
            "max_height": null,
            "max_width": null,
            "min_height": null,
            "min_width": null,
            "object_fit": null,
            "object_position": null,
            "order": null,
            "overflow": null,
            "overflow_x": null,
            "overflow_y": null,
            "padding": null,
            "right": null,
            "top": null,
            "visibility": null,
            "width": null
          }
        },
        "70e481c33ef245ab89a34f383ff84040": {
          "model_module": "@jupyter-widgets/controls",
          "model_name": "DescriptionStyleModel",
          "model_module_version": "1.5.0",
          "state": {
            "_model_module": "@jupyter-widgets/controls",
            "_model_module_version": "1.5.0",
            "_model_name": "DescriptionStyleModel",
            "_view_count": null,
            "_view_module": "@jupyter-widgets/base",
            "_view_module_version": "1.2.0",
            "_view_name": "StyleView",
            "description_width": ""
          }
        },
        "d00b87b87af7419f9daceb8d63e8be24": {
          "model_module": "@jupyter-widgets/controls",
          "model_name": "HBoxModel",
          "model_module_version": "1.5.0",
          "state": {
            "_dom_classes": [],
            "_model_module": "@jupyter-widgets/controls",
            "_model_module_version": "1.5.0",
            "_model_name": "HBoxModel",
            "_view_count": null,
            "_view_module": "@jupyter-widgets/controls",
            "_view_module_version": "1.5.0",
            "_view_name": "HBoxView",
            "box_style": "",
            "children": [
              "IPY_MODEL_023d44b2cd18406194562a30b2013389",
              "IPY_MODEL_68a81e16fa5b4a25b897291ede5ca9e4",
              "IPY_MODEL_f042da05f63142508ab0d773fe97f11c"
            ],
            "layout": "IPY_MODEL_e48e2ddf0d3349e4b2c813e9e0c2253f"
          }
        },
        "023d44b2cd18406194562a30b2013389": {
          "model_module": "@jupyter-widgets/controls",
          "model_name": "HTMLModel",
          "model_module_version": "1.5.0",
          "state": {
            "_dom_classes": [],
            "_model_module": "@jupyter-widgets/controls",
            "_model_module_version": "1.5.0",
            "_model_name": "HTMLModel",
            "_view_count": null,
            "_view_module": "@jupyter-widgets/controls",
            "_view_module_version": "1.5.0",
            "_view_name": "HTMLView",
            "description": "",
            "description_tooltip": null,
            "layout": "IPY_MODEL_0190767eb8e745e184a6bf416a3706ac",
            "placeholder": "​",
            "style": "IPY_MODEL_375385599666402d8170fb6b7f9149bd",
            "value": "Downloading data files: 100%"
          }
        },
        "68a81e16fa5b4a25b897291ede5ca9e4": {
          "model_module": "@jupyter-widgets/controls",
          "model_name": "FloatProgressModel",
          "model_module_version": "1.5.0",
          "state": {
            "_dom_classes": [],
            "_model_module": "@jupyter-widgets/controls",
            "_model_module_version": "1.5.0",
            "_model_name": "FloatProgressModel",
            "_view_count": null,
            "_view_module": "@jupyter-widgets/controls",
            "_view_module_version": "1.5.0",
            "_view_name": "ProgressView",
            "bar_style": "success",
            "description": "",
            "description_tooltip": null,
            "layout": "IPY_MODEL_022d994a64dd42dbb2817ff59f16efb2",
            "max": 2,
            "min": 0,
            "orientation": "horizontal",
            "style": "IPY_MODEL_f233570b8e13415b8d6b33f521ed9b5e",
            "value": 2
          }
        },
        "f042da05f63142508ab0d773fe97f11c": {
          "model_module": "@jupyter-widgets/controls",
          "model_name": "HTMLModel",
          "model_module_version": "1.5.0",
          "state": {
            "_dom_classes": [],
            "_model_module": "@jupyter-widgets/controls",
            "_model_module_version": "1.5.0",
            "_model_name": "HTMLModel",
            "_view_count": null,
            "_view_module": "@jupyter-widgets/controls",
            "_view_module_version": "1.5.0",
            "_view_name": "HTMLView",
            "description": "",
            "description_tooltip": null,
            "layout": "IPY_MODEL_7fa0ba1b9cca4b089f864464b6b4fbff",
            "placeholder": "​",
            "style": "IPY_MODEL_1920de11b1f04c3ea6f91028af1d7197",
            "value": " 2/2 [00:04&lt;00:00,  2.33s/it]"
          }
        },
        "e48e2ddf0d3349e4b2c813e9e0c2253f": {
          "model_module": "@jupyter-widgets/base",
          "model_name": "LayoutModel",
          "model_module_version": "1.2.0",
          "state": {
            "_model_module": "@jupyter-widgets/base",
            "_model_module_version": "1.2.0",
            "_model_name": "LayoutModel",
            "_view_count": null,
            "_view_module": "@jupyter-widgets/base",
            "_view_module_version": "1.2.0",
            "_view_name": "LayoutView",
            "align_content": null,
            "align_items": null,
            "align_self": null,
            "border": null,
            "bottom": null,
            "display": null,
            "flex": null,
            "flex_flow": null,
            "grid_area": null,
            "grid_auto_columns": null,
            "grid_auto_flow": null,
            "grid_auto_rows": null,
            "grid_column": null,
            "grid_gap": null,
            "grid_row": null,
            "grid_template_areas": null,
            "grid_template_columns": null,
            "grid_template_rows": null,
            "height": null,
            "justify_content": null,
            "justify_items": null,
            "left": null,
            "margin": null,
            "max_height": null,
            "max_width": null,
            "min_height": null,
            "min_width": null,
            "object_fit": null,
            "object_position": null,
            "order": null,
            "overflow": null,
            "overflow_x": null,
            "overflow_y": null,
            "padding": null,
            "right": null,
            "top": null,
            "visibility": null,
            "width": null
          }
        },
        "0190767eb8e745e184a6bf416a3706ac": {
          "model_module": "@jupyter-widgets/base",
          "model_name": "LayoutModel",
          "model_module_version": "1.2.0",
          "state": {
            "_model_module": "@jupyter-widgets/base",
            "_model_module_version": "1.2.0",
            "_model_name": "LayoutModel",
            "_view_count": null,
            "_view_module": "@jupyter-widgets/base",
            "_view_module_version": "1.2.0",
            "_view_name": "LayoutView",
            "align_content": null,
            "align_items": null,
            "align_self": null,
            "border": null,
            "bottom": null,
            "display": null,
            "flex": null,
            "flex_flow": null,
            "grid_area": null,
            "grid_auto_columns": null,
            "grid_auto_flow": null,
            "grid_auto_rows": null,
            "grid_column": null,
            "grid_gap": null,
            "grid_row": null,
            "grid_template_areas": null,
            "grid_template_columns": null,
            "grid_template_rows": null,
            "height": null,
            "justify_content": null,
            "justify_items": null,
            "left": null,
            "margin": null,
            "max_height": null,
            "max_width": null,
            "min_height": null,
            "min_width": null,
            "object_fit": null,
            "object_position": null,
            "order": null,
            "overflow": null,
            "overflow_x": null,
            "overflow_y": null,
            "padding": null,
            "right": null,
            "top": null,
            "visibility": null,
            "width": null
          }
        },
        "375385599666402d8170fb6b7f9149bd": {
          "model_module": "@jupyter-widgets/controls",
          "model_name": "DescriptionStyleModel",
          "model_module_version": "1.5.0",
          "state": {
            "_model_module": "@jupyter-widgets/controls",
            "_model_module_version": "1.5.0",
            "_model_name": "DescriptionStyleModel",
            "_view_count": null,
            "_view_module": "@jupyter-widgets/base",
            "_view_module_version": "1.2.0",
            "_view_name": "StyleView",
            "description_width": ""
          }
        },
        "022d994a64dd42dbb2817ff59f16efb2": {
          "model_module": "@jupyter-widgets/base",
          "model_name": "LayoutModel",
          "model_module_version": "1.2.0",
          "state": {
            "_model_module": "@jupyter-widgets/base",
            "_model_module_version": "1.2.0",
            "_model_name": "LayoutModel",
            "_view_count": null,
            "_view_module": "@jupyter-widgets/base",
            "_view_module_version": "1.2.0",
            "_view_name": "LayoutView",
            "align_content": null,
            "align_items": null,
            "align_self": null,
            "border": null,
            "bottom": null,
            "display": null,
            "flex": null,
            "flex_flow": null,
            "grid_area": null,
            "grid_auto_columns": null,
            "grid_auto_flow": null,
            "grid_auto_rows": null,
            "grid_column": null,
            "grid_gap": null,
            "grid_row": null,
            "grid_template_areas": null,
            "grid_template_columns": null,
            "grid_template_rows": null,
            "height": null,
            "justify_content": null,
            "justify_items": null,
            "left": null,
            "margin": null,
            "max_height": null,
            "max_width": null,
            "min_height": null,
            "min_width": null,
            "object_fit": null,
            "object_position": null,
            "order": null,
            "overflow": null,
            "overflow_x": null,
            "overflow_y": null,
            "padding": null,
            "right": null,
            "top": null,
            "visibility": null,
            "width": null
          }
        },
        "f233570b8e13415b8d6b33f521ed9b5e": {
          "model_module": "@jupyter-widgets/controls",
          "model_name": "ProgressStyleModel",
          "model_module_version": "1.5.0",
          "state": {
            "_model_module": "@jupyter-widgets/controls",
            "_model_module_version": "1.5.0",
            "_model_name": "ProgressStyleModel",
            "_view_count": null,
            "_view_module": "@jupyter-widgets/base",
            "_view_module_version": "1.2.0",
            "_view_name": "StyleView",
            "bar_color": null,
            "description_width": ""
          }
        },
        "7fa0ba1b9cca4b089f864464b6b4fbff": {
          "model_module": "@jupyter-widgets/base",
          "model_name": "LayoutModel",
          "model_module_version": "1.2.0",
          "state": {
            "_model_module": "@jupyter-widgets/base",
            "_model_module_version": "1.2.0",
            "_model_name": "LayoutModel",
            "_view_count": null,
            "_view_module": "@jupyter-widgets/base",
            "_view_module_version": "1.2.0",
            "_view_name": "LayoutView",
            "align_content": null,
            "align_items": null,
            "align_self": null,
            "border": null,
            "bottom": null,
            "display": null,
            "flex": null,
            "flex_flow": null,
            "grid_area": null,
            "grid_auto_columns": null,
            "grid_auto_flow": null,
            "grid_auto_rows": null,
            "grid_column": null,
            "grid_gap": null,
            "grid_row": null,
            "grid_template_areas": null,
            "grid_template_columns": null,
            "grid_template_rows": null,
            "height": null,
            "justify_content": null,
            "justify_items": null,
            "left": null,
            "margin": null,
            "max_height": null,
            "max_width": null,
            "min_height": null,
            "min_width": null,
            "object_fit": null,
            "object_position": null,
            "order": null,
            "overflow": null,
            "overflow_x": null,
            "overflow_y": null,
            "padding": null,
            "right": null,
            "top": null,
            "visibility": null,
            "width": null
          }
        },
        "1920de11b1f04c3ea6f91028af1d7197": {
          "model_module": "@jupyter-widgets/controls",
          "model_name": "DescriptionStyleModel",
          "model_module_version": "1.5.0",
          "state": {
            "_model_module": "@jupyter-widgets/controls",
            "_model_module_version": "1.5.0",
            "_model_name": "DescriptionStyleModel",
            "_view_count": null,
            "_view_module": "@jupyter-widgets/base",
            "_view_module_version": "1.2.0",
            "_view_name": "StyleView",
            "description_width": ""
          }
        },
        "a1650c078e4e44f5ba734510da6fd90f": {
          "model_module": "@jupyter-widgets/controls",
          "model_name": "HBoxModel",
          "model_module_version": "1.5.0",
          "state": {
            "_dom_classes": [],
            "_model_module": "@jupyter-widgets/controls",
            "_model_module_version": "1.5.0",
            "_model_name": "HBoxModel",
            "_view_count": null,
            "_view_module": "@jupyter-widgets/controls",
            "_view_module_version": "1.5.0",
            "_view_name": "HBoxView",
            "box_style": "",
            "children": [
              "IPY_MODEL_91556f3cc4664e78a43db43d4b6d8064",
              "IPY_MODEL_e41d68cd78404e48936cf711bf5da0ba",
              "IPY_MODEL_13411bd401374cf89a1de228c4cf1c65"
            ],
            "layout": "IPY_MODEL_e4e37f3f91d5429b8aa6c685412a5241"
          }
        },
        "91556f3cc4664e78a43db43d4b6d8064": {
          "model_module": "@jupyter-widgets/controls",
          "model_name": "HTMLModel",
          "model_module_version": "1.5.0",
          "state": {
            "_dom_classes": [],
            "_model_module": "@jupyter-widgets/controls",
            "_model_module_version": "1.5.0",
            "_model_name": "HTMLModel",
            "_view_count": null,
            "_view_module": "@jupyter-widgets/controls",
            "_view_module_version": "1.5.0",
            "_view_name": "HTMLView",
            "description": "",
            "description_tooltip": null,
            "layout": "IPY_MODEL_941b146f81904939ab2a4dda74a842e9",
            "placeholder": "​",
            "style": "IPY_MODEL_450919e1148e4af4ba40d941457a9efa",
            "value": "Downloading data: "
          }
        },
        "e41d68cd78404e48936cf711bf5da0ba": {
          "model_module": "@jupyter-widgets/controls",
          "model_name": "FloatProgressModel",
          "model_module_version": "1.5.0",
          "state": {
            "_dom_classes": [],
            "_model_module": "@jupyter-widgets/controls",
            "_model_module_version": "1.5.0",
            "_model_name": "FloatProgressModel",
            "_view_count": null,
            "_view_module": "@jupyter-widgets/controls",
            "_view_module_version": "1.5.0",
            "_view_name": "ProgressView",
            "bar_style": "success",
            "description": "",
            "description_tooltip": null,
            "layout": "IPY_MODEL_21cf675965c14de7a27c02639fd12c82",
            "max": 8116577,
            "min": 0,
            "orientation": "horizontal",
            "style": "IPY_MODEL_2cd3e82f8cfa47828534f4a0f44917fb",
            "value": 8116577
          }
        },
        "13411bd401374cf89a1de228c4cf1c65": {
          "model_module": "@jupyter-widgets/controls",
          "model_name": "HTMLModel",
          "model_module_version": "1.5.0",
          "state": {
            "_dom_classes": [],
            "_model_module": "@jupyter-widgets/controls",
            "_model_module_version": "1.5.0",
            "_model_name": "HTMLModel",
            "_view_count": null,
            "_view_module": "@jupyter-widgets/controls",
            "_view_module_version": "1.5.0",
            "_view_name": "HTMLView",
            "description": "",
            "description_tooltip": null,
            "layout": "IPY_MODEL_0f1cab92db2c4449a69ad0a9b2e77669",
            "placeholder": "​",
            "style": "IPY_MODEL_56d4901a13bc48f8a2d16d6618deeb77",
            "value": " 30.3M/? [00:01&lt;00:00, 14.9MB/s]"
          }
        },
        "e4e37f3f91d5429b8aa6c685412a5241": {
          "model_module": "@jupyter-widgets/base",
          "model_name": "LayoutModel",
          "model_module_version": "1.2.0",
          "state": {
            "_model_module": "@jupyter-widgets/base",
            "_model_module_version": "1.2.0",
            "_model_name": "LayoutModel",
            "_view_count": null,
            "_view_module": "@jupyter-widgets/base",
            "_view_module_version": "1.2.0",
            "_view_name": "LayoutView",
            "align_content": null,
            "align_items": null,
            "align_self": null,
            "border": null,
            "bottom": null,
            "display": null,
            "flex": null,
            "flex_flow": null,
            "grid_area": null,
            "grid_auto_columns": null,
            "grid_auto_flow": null,
            "grid_auto_rows": null,
            "grid_column": null,
            "grid_gap": null,
            "grid_row": null,
            "grid_template_areas": null,
            "grid_template_columns": null,
            "grid_template_rows": null,
            "height": null,
            "justify_content": null,
            "justify_items": null,
            "left": null,
            "margin": null,
            "max_height": null,
            "max_width": null,
            "min_height": null,
            "min_width": null,
            "object_fit": null,
            "object_position": null,
            "order": null,
            "overflow": null,
            "overflow_x": null,
            "overflow_y": null,
            "padding": null,
            "right": null,
            "top": null,
            "visibility": null,
            "width": null
          }
        },
        "941b146f81904939ab2a4dda74a842e9": {
          "model_module": "@jupyter-widgets/base",
          "model_name": "LayoutModel",
          "model_module_version": "1.2.0",
          "state": {
            "_model_module": "@jupyter-widgets/base",
            "_model_module_version": "1.2.0",
            "_model_name": "LayoutModel",
            "_view_count": null,
            "_view_module": "@jupyter-widgets/base",
            "_view_module_version": "1.2.0",
            "_view_name": "LayoutView",
            "align_content": null,
            "align_items": null,
            "align_self": null,
            "border": null,
            "bottom": null,
            "display": null,
            "flex": null,
            "flex_flow": null,
            "grid_area": null,
            "grid_auto_columns": null,
            "grid_auto_flow": null,
            "grid_auto_rows": null,
            "grid_column": null,
            "grid_gap": null,
            "grid_row": null,
            "grid_template_areas": null,
            "grid_template_columns": null,
            "grid_template_rows": null,
            "height": null,
            "justify_content": null,
            "justify_items": null,
            "left": null,
            "margin": null,
            "max_height": null,
            "max_width": null,
            "min_height": null,
            "min_width": null,
            "object_fit": null,
            "object_position": null,
            "order": null,
            "overflow": null,
            "overflow_x": null,
            "overflow_y": null,
            "padding": null,
            "right": null,
            "top": null,
            "visibility": null,
            "width": null
          }
        },
        "450919e1148e4af4ba40d941457a9efa": {
          "model_module": "@jupyter-widgets/controls",
          "model_name": "DescriptionStyleModel",
          "model_module_version": "1.5.0",
          "state": {
            "_model_module": "@jupyter-widgets/controls",
            "_model_module_version": "1.5.0",
            "_model_name": "DescriptionStyleModel",
            "_view_count": null,
            "_view_module": "@jupyter-widgets/base",
            "_view_module_version": "1.2.0",
            "_view_name": "StyleView",
            "description_width": ""
          }
        },
        "21cf675965c14de7a27c02639fd12c82": {
          "model_module": "@jupyter-widgets/base",
          "model_name": "LayoutModel",
          "model_module_version": "1.2.0",
          "state": {
            "_model_module": "@jupyter-widgets/base",
            "_model_module_version": "1.2.0",
            "_model_name": "LayoutModel",
            "_view_count": null,
            "_view_module": "@jupyter-widgets/base",
            "_view_module_version": "1.2.0",
            "_view_name": "LayoutView",
            "align_content": null,
            "align_items": null,
            "align_self": null,
            "border": null,
            "bottom": null,
            "display": null,
            "flex": null,
            "flex_flow": null,
            "grid_area": null,
            "grid_auto_columns": null,
            "grid_auto_flow": null,
            "grid_auto_rows": null,
            "grid_column": null,
            "grid_gap": null,
            "grid_row": null,
            "grid_template_areas": null,
            "grid_template_columns": null,
            "grid_template_rows": null,
            "height": null,
            "justify_content": null,
            "justify_items": null,
            "left": null,
            "margin": null,
            "max_height": null,
            "max_width": null,
            "min_height": null,
            "min_width": null,
            "object_fit": null,
            "object_position": null,
            "order": null,
            "overflow": null,
            "overflow_x": null,
            "overflow_y": null,
            "padding": null,
            "right": null,
            "top": null,
            "visibility": null,
            "width": null
          }
        },
        "2cd3e82f8cfa47828534f4a0f44917fb": {
          "model_module": "@jupyter-widgets/controls",
          "model_name": "ProgressStyleModel",
          "model_module_version": "1.5.0",
          "state": {
            "_model_module": "@jupyter-widgets/controls",
            "_model_module_version": "1.5.0",
            "_model_name": "ProgressStyleModel",
            "_view_count": null,
            "_view_module": "@jupyter-widgets/base",
            "_view_module_version": "1.2.0",
            "_view_name": "StyleView",
            "bar_color": null,
            "description_width": ""
          }
        },
        "0f1cab92db2c4449a69ad0a9b2e77669": {
          "model_module": "@jupyter-widgets/base",
          "model_name": "LayoutModel",
          "model_module_version": "1.2.0",
          "state": {
            "_model_module": "@jupyter-widgets/base",
            "_model_module_version": "1.2.0",
            "_model_name": "LayoutModel",
            "_view_count": null,
            "_view_module": "@jupyter-widgets/base",
            "_view_module_version": "1.2.0",
            "_view_name": "LayoutView",
            "align_content": null,
            "align_items": null,
            "align_self": null,
            "border": null,
            "bottom": null,
            "display": null,
            "flex": null,
            "flex_flow": null,
            "grid_area": null,
            "grid_auto_columns": null,
            "grid_auto_flow": null,
            "grid_auto_rows": null,
            "grid_column": null,
            "grid_gap": null,
            "grid_row": null,
            "grid_template_areas": null,
            "grid_template_columns": null,
            "grid_template_rows": null,
            "height": null,
            "justify_content": null,
            "justify_items": null,
            "left": null,
            "margin": null,
            "max_height": null,
            "max_width": null,
            "min_height": null,
            "min_width": null,
            "object_fit": null,
            "object_position": null,
            "order": null,
            "overflow": null,
            "overflow_x": null,
            "overflow_y": null,
            "padding": null,
            "right": null,
            "top": null,
            "visibility": null,
            "width": null
          }
        },
        "56d4901a13bc48f8a2d16d6618deeb77": {
          "model_module": "@jupyter-widgets/controls",
          "model_name": "DescriptionStyleModel",
          "model_module_version": "1.5.0",
          "state": {
            "_model_module": "@jupyter-widgets/controls",
            "_model_module_version": "1.5.0",
            "_model_name": "DescriptionStyleModel",
            "_view_count": null,
            "_view_module": "@jupyter-widgets/base",
            "_view_module_version": "1.2.0",
            "_view_name": "StyleView",
            "description_width": ""
          }
        },
        "c9d28cb2002a4bf2b3005aac9ba7d4f0": {
          "model_module": "@jupyter-widgets/controls",
          "model_name": "HBoxModel",
          "model_module_version": "1.5.0",
          "state": {
            "_dom_classes": [],
            "_model_module": "@jupyter-widgets/controls",
            "_model_module_version": "1.5.0",
            "_model_name": "HBoxModel",
            "_view_count": null,
            "_view_module": "@jupyter-widgets/controls",
            "_view_module_version": "1.5.0",
            "_view_name": "HBoxView",
            "box_style": "",
            "children": [
              "IPY_MODEL_ff9fb8b67d4f4765ae8c94df480e9e33",
              "IPY_MODEL_186031b86a624b3c80c61d20bab787f1",
              "IPY_MODEL_ea4768a6be2344c992739b02a3b7905e"
            ],
            "layout": "IPY_MODEL_8156cab0f9c2451aabaaaf74347491b7"
          }
        },
        "ff9fb8b67d4f4765ae8c94df480e9e33": {
          "model_module": "@jupyter-widgets/controls",
          "model_name": "HTMLModel",
          "model_module_version": "1.5.0",
          "state": {
            "_dom_classes": [],
            "_model_module": "@jupyter-widgets/controls",
            "_model_module_version": "1.5.0",
            "_model_name": "HTMLModel",
            "_view_count": null,
            "_view_module": "@jupyter-widgets/controls",
            "_view_module_version": "1.5.0",
            "_view_name": "HTMLView",
            "description": "",
            "description_tooltip": null,
            "layout": "IPY_MODEL_25981dde7e004e5c8a812c86bf8f7151",
            "placeholder": "​",
            "style": "IPY_MODEL_b7ef694a82054b22aeb4fd35c86ae982",
            "value": "Downloading data: "
          }
        },
        "186031b86a624b3c80c61d20bab787f1": {
          "model_module": "@jupyter-widgets/controls",
          "model_name": "FloatProgressModel",
          "model_module_version": "1.5.0",
          "state": {
            "_dom_classes": [],
            "_model_module": "@jupyter-widgets/controls",
            "_model_module_version": "1.5.0",
            "_model_name": "FloatProgressModel",
            "_view_count": null,
            "_view_module": "@jupyter-widgets/controls",
            "_view_module_version": "1.5.0",
            "_view_name": "ProgressView",
            "bar_style": "success",
            "description": "",
            "description_tooltip": null,
            "layout": "IPY_MODEL_3eefcd349601475f91ac210f58993e78",
            "max": 1054280,
            "min": 0,
            "orientation": "horizontal",
            "style": "IPY_MODEL_4d0ed614879a4748ae7c5a184627acb0",
            "value": 1054280
          }
        },
        "ea4768a6be2344c992739b02a3b7905e": {
          "model_module": "@jupyter-widgets/controls",
          "model_name": "HTMLModel",
          "model_module_version": "1.5.0",
          "state": {
            "_dom_classes": [],
            "_model_module": "@jupyter-widgets/controls",
            "_model_module_version": "1.5.0",
            "_model_name": "HTMLModel",
            "_view_count": null,
            "_view_module": "@jupyter-widgets/controls",
            "_view_module_version": "1.5.0",
            "_view_name": "HTMLView",
            "description": "",
            "description_tooltip": null,
            "layout": "IPY_MODEL_cf10dbcc2d9c430eb71c2a530a24a2a9",
            "placeholder": "​",
            "style": "IPY_MODEL_f698fdcbc499478c8c6cac4863617eef",
            "value": " 4.85M/? [00:00&lt;00:00, 11.3MB/s]"
          }
        },
        "8156cab0f9c2451aabaaaf74347491b7": {
          "model_module": "@jupyter-widgets/base",
          "model_name": "LayoutModel",
          "model_module_version": "1.2.0",
          "state": {
            "_model_module": "@jupyter-widgets/base",
            "_model_module_version": "1.2.0",
            "_model_name": "LayoutModel",
            "_view_count": null,
            "_view_module": "@jupyter-widgets/base",
            "_view_module_version": "1.2.0",
            "_view_name": "LayoutView",
            "align_content": null,
            "align_items": null,
            "align_self": null,
            "border": null,
            "bottom": null,
            "display": null,
            "flex": null,
            "flex_flow": null,
            "grid_area": null,
            "grid_auto_columns": null,
            "grid_auto_flow": null,
            "grid_auto_rows": null,
            "grid_column": null,
            "grid_gap": null,
            "grid_row": null,
            "grid_template_areas": null,
            "grid_template_columns": null,
            "grid_template_rows": null,
            "height": null,
            "justify_content": null,
            "justify_items": null,
            "left": null,
            "margin": null,
            "max_height": null,
            "max_width": null,
            "min_height": null,
            "min_width": null,
            "object_fit": null,
            "object_position": null,
            "order": null,
            "overflow": null,
            "overflow_x": null,
            "overflow_y": null,
            "padding": null,
            "right": null,
            "top": null,
            "visibility": null,
            "width": null
          }
        },
        "25981dde7e004e5c8a812c86bf8f7151": {
          "model_module": "@jupyter-widgets/base",
          "model_name": "LayoutModel",
          "model_module_version": "1.2.0",
          "state": {
            "_model_module": "@jupyter-widgets/base",
            "_model_module_version": "1.2.0",
            "_model_name": "LayoutModel",
            "_view_count": null,
            "_view_module": "@jupyter-widgets/base",
            "_view_module_version": "1.2.0",
            "_view_name": "LayoutView",
            "align_content": null,
            "align_items": null,
            "align_self": null,
            "border": null,
            "bottom": null,
            "display": null,
            "flex": null,
            "flex_flow": null,
            "grid_area": null,
            "grid_auto_columns": null,
            "grid_auto_flow": null,
            "grid_auto_rows": null,
            "grid_column": null,
            "grid_gap": null,
            "grid_row": null,
            "grid_template_areas": null,
            "grid_template_columns": null,
            "grid_template_rows": null,
            "height": null,
            "justify_content": null,
            "justify_items": null,
            "left": null,
            "margin": null,
            "max_height": null,
            "max_width": null,
            "min_height": null,
            "min_width": null,
            "object_fit": null,
            "object_position": null,
            "order": null,
            "overflow": null,
            "overflow_x": null,
            "overflow_y": null,
            "padding": null,
            "right": null,
            "top": null,
            "visibility": null,
            "width": null
          }
        },
        "b7ef694a82054b22aeb4fd35c86ae982": {
          "model_module": "@jupyter-widgets/controls",
          "model_name": "DescriptionStyleModel",
          "model_module_version": "1.5.0",
          "state": {
            "_model_module": "@jupyter-widgets/controls",
            "_model_module_version": "1.5.0",
            "_model_name": "DescriptionStyleModel",
            "_view_count": null,
            "_view_module": "@jupyter-widgets/base",
            "_view_module_version": "1.2.0",
            "_view_name": "StyleView",
            "description_width": ""
          }
        },
        "3eefcd349601475f91ac210f58993e78": {
          "model_module": "@jupyter-widgets/base",
          "model_name": "LayoutModel",
          "model_module_version": "1.2.0",
          "state": {
            "_model_module": "@jupyter-widgets/base",
            "_model_module_version": "1.2.0",
            "_model_name": "LayoutModel",
            "_view_count": null,
            "_view_module": "@jupyter-widgets/base",
            "_view_module_version": "1.2.0",
            "_view_name": "LayoutView",
            "align_content": null,
            "align_items": null,
            "align_self": null,
            "border": null,
            "bottom": null,
            "display": null,
            "flex": null,
            "flex_flow": null,
            "grid_area": null,
            "grid_auto_columns": null,
            "grid_auto_flow": null,
            "grid_auto_rows": null,
            "grid_column": null,
            "grid_gap": null,
            "grid_row": null,
            "grid_template_areas": null,
            "grid_template_columns": null,
            "grid_template_rows": null,
            "height": null,
            "justify_content": null,
            "justify_items": null,
            "left": null,
            "margin": null,
            "max_height": null,
            "max_width": null,
            "min_height": null,
            "min_width": null,
            "object_fit": null,
            "object_position": null,
            "order": null,
            "overflow": null,
            "overflow_x": null,
            "overflow_y": null,
            "padding": null,
            "right": null,
            "top": null,
            "visibility": null,
            "width": null
          }
        },
        "4d0ed614879a4748ae7c5a184627acb0": {
          "model_module": "@jupyter-widgets/controls",
          "model_name": "ProgressStyleModel",
          "model_module_version": "1.5.0",
          "state": {
            "_model_module": "@jupyter-widgets/controls",
            "_model_module_version": "1.5.0",
            "_model_name": "ProgressStyleModel",
            "_view_count": null,
            "_view_module": "@jupyter-widgets/base",
            "_view_module_version": "1.2.0",
            "_view_name": "StyleView",
            "bar_color": null,
            "description_width": ""
          }
        },
        "cf10dbcc2d9c430eb71c2a530a24a2a9": {
          "model_module": "@jupyter-widgets/base",
          "model_name": "LayoutModel",
          "model_module_version": "1.2.0",
          "state": {
            "_model_module": "@jupyter-widgets/base",
            "_model_module_version": "1.2.0",
            "_model_name": "LayoutModel",
            "_view_count": null,
            "_view_module": "@jupyter-widgets/base",
            "_view_module_version": "1.2.0",
            "_view_name": "LayoutView",
            "align_content": null,
            "align_items": null,
            "align_self": null,
            "border": null,
            "bottom": null,
            "display": null,
            "flex": null,
            "flex_flow": null,
            "grid_area": null,
            "grid_auto_columns": null,
            "grid_auto_flow": null,
            "grid_auto_rows": null,
            "grid_column": null,
            "grid_gap": null,
            "grid_row": null,
            "grid_template_areas": null,
            "grid_template_columns": null,
            "grid_template_rows": null,
            "height": null,
            "justify_content": null,
            "justify_items": null,
            "left": null,
            "margin": null,
            "max_height": null,
            "max_width": null,
            "min_height": null,
            "min_width": null,
            "object_fit": null,
            "object_position": null,
            "order": null,
            "overflow": null,
            "overflow_x": null,
            "overflow_y": null,
            "padding": null,
            "right": null,
            "top": null,
            "visibility": null,
            "width": null
          }
        },
        "f698fdcbc499478c8c6cac4863617eef": {
          "model_module": "@jupyter-widgets/controls",
          "model_name": "DescriptionStyleModel",
          "model_module_version": "1.5.0",
          "state": {
            "_model_module": "@jupyter-widgets/controls",
            "_model_module_version": "1.5.0",
            "_model_name": "DescriptionStyleModel",
            "_view_count": null,
            "_view_module": "@jupyter-widgets/base",
            "_view_module_version": "1.2.0",
            "_view_name": "StyleView",
            "description_width": ""
          }
        },
        "bda72438ee5c49e3af30ee9edf5bc494": {
          "model_module": "@jupyter-widgets/controls",
          "model_name": "HBoxModel",
          "model_module_version": "1.5.0",
          "state": {
            "_dom_classes": [],
            "_model_module": "@jupyter-widgets/controls",
            "_model_module_version": "1.5.0",
            "_model_name": "HBoxModel",
            "_view_count": null,
            "_view_module": "@jupyter-widgets/controls",
            "_view_module_version": "1.5.0",
            "_view_name": "HBoxView",
            "box_style": "",
            "children": [
              "IPY_MODEL_bceef9dbf70b43d889e8e5894ae40e13",
              "IPY_MODEL_469a7dc449c94da883aadc7d7a9af842",
              "IPY_MODEL_81fc7c4a33684b649bd76d9f4e62503c"
            ],
            "layout": "IPY_MODEL_d13ad76ae4ee42138de33afec87f34bf"
          }
        },
        "bceef9dbf70b43d889e8e5894ae40e13": {
          "model_module": "@jupyter-widgets/controls",
          "model_name": "HTMLModel",
          "model_module_version": "1.5.0",
          "state": {
            "_dom_classes": [],
            "_model_module": "@jupyter-widgets/controls",
            "_model_module_version": "1.5.0",
            "_model_name": "HTMLModel",
            "_view_count": null,
            "_view_module": "@jupyter-widgets/controls",
            "_view_module_version": "1.5.0",
            "_view_name": "HTMLView",
            "description": "",
            "description_tooltip": null,
            "layout": "IPY_MODEL_fe6aa13c500e4276a8d1e5dd111c7e3a",
            "placeholder": "​",
            "style": "IPY_MODEL_2de1f9d7c5784301bf1446f6f3be34f9",
            "value": "Extracting data files: 100%"
          }
        },
        "469a7dc449c94da883aadc7d7a9af842": {
          "model_module": "@jupyter-widgets/controls",
          "model_name": "FloatProgressModel",
          "model_module_version": "1.5.0",
          "state": {
            "_dom_classes": [],
            "_model_module": "@jupyter-widgets/controls",
            "_model_module_version": "1.5.0",
            "_model_name": "FloatProgressModel",
            "_view_count": null,
            "_view_module": "@jupyter-widgets/controls",
            "_view_module_version": "1.5.0",
            "_view_name": "ProgressView",
            "bar_style": "success",
            "description": "",
            "description_tooltip": null,
            "layout": "IPY_MODEL_5e198e415f8d4ff18bfd0024e65e61bd",
            "max": 2,
            "min": 0,
            "orientation": "horizontal",
            "style": "IPY_MODEL_da7b81ea4df248b19fffea0996d5f441",
            "value": 2
          }
        },
        "81fc7c4a33684b649bd76d9f4e62503c": {
          "model_module": "@jupyter-widgets/controls",
          "model_name": "HTMLModel",
          "model_module_version": "1.5.0",
          "state": {
            "_dom_classes": [],
            "_model_module": "@jupyter-widgets/controls",
            "_model_module_version": "1.5.0",
            "_model_name": "HTMLModel",
            "_view_count": null,
            "_view_module": "@jupyter-widgets/controls",
            "_view_module_version": "1.5.0",
            "_view_name": "HTMLView",
            "description": "",
            "description_tooltip": null,
            "layout": "IPY_MODEL_0face9dadf2145ec85a7a94c6cf62fb4",
            "placeholder": "​",
            "style": "IPY_MODEL_28901995fcac4dbf8f8fbdc37993bd4b",
            "value": " 2/2 [00:00&lt;00:00, 39.20it/s]"
          }
        },
        "d13ad76ae4ee42138de33afec87f34bf": {
          "model_module": "@jupyter-widgets/base",
          "model_name": "LayoutModel",
          "model_module_version": "1.2.0",
          "state": {
            "_model_module": "@jupyter-widgets/base",
            "_model_module_version": "1.2.0",
            "_model_name": "LayoutModel",
            "_view_count": null,
            "_view_module": "@jupyter-widgets/base",
            "_view_module_version": "1.2.0",
            "_view_name": "LayoutView",
            "align_content": null,
            "align_items": null,
            "align_self": null,
            "border": null,
            "bottom": null,
            "display": null,
            "flex": null,
            "flex_flow": null,
            "grid_area": null,
            "grid_auto_columns": null,
            "grid_auto_flow": null,
            "grid_auto_rows": null,
            "grid_column": null,
            "grid_gap": null,
            "grid_row": null,
            "grid_template_areas": null,
            "grid_template_columns": null,
            "grid_template_rows": null,
            "height": null,
            "justify_content": null,
            "justify_items": null,
            "left": null,
            "margin": null,
            "max_height": null,
            "max_width": null,
            "min_height": null,
            "min_width": null,
            "object_fit": null,
            "object_position": null,
            "order": null,
            "overflow": null,
            "overflow_x": null,
            "overflow_y": null,
            "padding": null,
            "right": null,
            "top": null,
            "visibility": null,
            "width": null
          }
        },
        "fe6aa13c500e4276a8d1e5dd111c7e3a": {
          "model_module": "@jupyter-widgets/base",
          "model_name": "LayoutModel",
          "model_module_version": "1.2.0",
          "state": {
            "_model_module": "@jupyter-widgets/base",
            "_model_module_version": "1.2.0",
            "_model_name": "LayoutModel",
            "_view_count": null,
            "_view_module": "@jupyter-widgets/base",
            "_view_module_version": "1.2.0",
            "_view_name": "LayoutView",
            "align_content": null,
            "align_items": null,
            "align_self": null,
            "border": null,
            "bottom": null,
            "display": null,
            "flex": null,
            "flex_flow": null,
            "grid_area": null,
            "grid_auto_columns": null,
            "grid_auto_flow": null,
            "grid_auto_rows": null,
            "grid_column": null,
            "grid_gap": null,
            "grid_row": null,
            "grid_template_areas": null,
            "grid_template_columns": null,
            "grid_template_rows": null,
            "height": null,
            "justify_content": null,
            "justify_items": null,
            "left": null,
            "margin": null,
            "max_height": null,
            "max_width": null,
            "min_height": null,
            "min_width": null,
            "object_fit": null,
            "object_position": null,
            "order": null,
            "overflow": null,
            "overflow_x": null,
            "overflow_y": null,
            "padding": null,
            "right": null,
            "top": null,
            "visibility": null,
            "width": null
          }
        },
        "2de1f9d7c5784301bf1446f6f3be34f9": {
          "model_module": "@jupyter-widgets/controls",
          "model_name": "DescriptionStyleModel",
          "model_module_version": "1.5.0",
          "state": {
            "_model_module": "@jupyter-widgets/controls",
            "_model_module_version": "1.5.0",
            "_model_name": "DescriptionStyleModel",
            "_view_count": null,
            "_view_module": "@jupyter-widgets/base",
            "_view_module_version": "1.2.0",
            "_view_name": "StyleView",
            "description_width": ""
          }
        },
        "5e198e415f8d4ff18bfd0024e65e61bd": {
          "model_module": "@jupyter-widgets/base",
          "model_name": "LayoutModel",
          "model_module_version": "1.2.0",
          "state": {
            "_model_module": "@jupyter-widgets/base",
            "_model_module_version": "1.2.0",
            "_model_name": "LayoutModel",
            "_view_count": null,
            "_view_module": "@jupyter-widgets/base",
            "_view_module_version": "1.2.0",
            "_view_name": "LayoutView",
            "align_content": null,
            "align_items": null,
            "align_self": null,
            "border": null,
            "bottom": null,
            "display": null,
            "flex": null,
            "flex_flow": null,
            "grid_area": null,
            "grid_auto_columns": null,
            "grid_auto_flow": null,
            "grid_auto_rows": null,
            "grid_column": null,
            "grid_gap": null,
            "grid_row": null,
            "grid_template_areas": null,
            "grid_template_columns": null,
            "grid_template_rows": null,
            "height": null,
            "justify_content": null,
            "justify_items": null,
            "left": null,
            "margin": null,
            "max_height": null,
            "max_width": null,
            "min_height": null,
            "min_width": null,
            "object_fit": null,
            "object_position": null,
            "order": null,
            "overflow": null,
            "overflow_x": null,
            "overflow_y": null,
            "padding": null,
            "right": null,
            "top": null,
            "visibility": null,
            "width": null
          }
        },
        "da7b81ea4df248b19fffea0996d5f441": {
          "model_module": "@jupyter-widgets/controls",
          "model_name": "ProgressStyleModel",
          "model_module_version": "1.5.0",
          "state": {
            "_model_module": "@jupyter-widgets/controls",
            "_model_module_version": "1.5.0",
            "_model_name": "ProgressStyleModel",
            "_view_count": null,
            "_view_module": "@jupyter-widgets/base",
            "_view_module_version": "1.2.0",
            "_view_name": "StyleView",
            "bar_color": null,
            "description_width": ""
          }
        },
        "0face9dadf2145ec85a7a94c6cf62fb4": {
          "model_module": "@jupyter-widgets/base",
          "model_name": "LayoutModel",
          "model_module_version": "1.2.0",
          "state": {
            "_model_module": "@jupyter-widgets/base",
            "_model_module_version": "1.2.0",
            "_model_name": "LayoutModel",
            "_view_count": null,
            "_view_module": "@jupyter-widgets/base",
            "_view_module_version": "1.2.0",
            "_view_name": "LayoutView",
            "align_content": null,
            "align_items": null,
            "align_self": null,
            "border": null,
            "bottom": null,
            "display": null,
            "flex": null,
            "flex_flow": null,
            "grid_area": null,
            "grid_auto_columns": null,
            "grid_auto_flow": null,
            "grid_auto_rows": null,
            "grid_column": null,
            "grid_gap": null,
            "grid_row": null,
            "grid_template_areas": null,
            "grid_template_columns": null,
            "grid_template_rows": null,
            "height": null,
            "justify_content": null,
            "justify_items": null,
            "left": null,
            "margin": null,
            "max_height": null,
            "max_width": null,
            "min_height": null,
            "min_width": null,
            "object_fit": null,
            "object_position": null,
            "order": null,
            "overflow": null,
            "overflow_x": null,
            "overflow_y": null,
            "padding": null,
            "right": null,
            "top": null,
            "visibility": null,
            "width": null
          }
        },
        "28901995fcac4dbf8f8fbdc37993bd4b": {
          "model_module": "@jupyter-widgets/controls",
          "model_name": "DescriptionStyleModel",
          "model_module_version": "1.5.0",
          "state": {
            "_model_module": "@jupyter-widgets/controls",
            "_model_module_version": "1.5.0",
            "_model_name": "DescriptionStyleModel",
            "_view_count": null,
            "_view_module": "@jupyter-widgets/base",
            "_view_module_version": "1.2.0",
            "_view_name": "StyleView",
            "description_width": ""
          }
        },
        "29f3f316660049e2919c6770d669bebe": {
          "model_module": "@jupyter-widgets/controls",
          "model_name": "HBoxModel",
          "model_module_version": "1.5.0",
          "state": {
            "_dom_classes": [],
            "_model_module": "@jupyter-widgets/controls",
            "_model_module_version": "1.5.0",
            "_model_name": "HBoxModel",
            "_view_count": null,
            "_view_module": "@jupyter-widgets/controls",
            "_view_module_version": "1.5.0",
            "_view_name": "HBoxView",
            "box_style": "",
            "children": [
              "IPY_MODEL_8a5f51e534684f468e41ff5c5935b615",
              "IPY_MODEL_56c8d8372d624341afa67b26f2784e7f",
              "IPY_MODEL_325a3f7235e74dcabf0b4e4050c2945e"
            ],
            "layout": "IPY_MODEL_72058b6bc20446bbb4b71294bfd9c651"
          }
        },
        "8a5f51e534684f468e41ff5c5935b615": {
          "model_module": "@jupyter-widgets/controls",
          "model_name": "HTMLModel",
          "model_module_version": "1.5.0",
          "state": {
            "_dom_classes": [],
            "_model_module": "@jupyter-widgets/controls",
            "_model_module_version": "1.5.0",
            "_model_name": "HTMLModel",
            "_view_count": null,
            "_view_module": "@jupyter-widgets/controls",
            "_view_module_version": "1.5.0",
            "_view_name": "HTMLView",
            "description": "",
            "description_tooltip": null,
            "layout": "IPY_MODEL_91868db2d18648d0bc55a7438ab5c230",
            "placeholder": "​",
            "style": "IPY_MODEL_0bd64025015543b8b2d976b06fd1e320",
            "value": "Generating train split: 100%"
          }
        },
        "56c8d8372d624341afa67b26f2784e7f": {
          "model_module": "@jupyter-widgets/controls",
          "model_name": "FloatProgressModel",
          "model_module_version": "1.5.0",
          "state": {
            "_dom_classes": [],
            "_model_module": "@jupyter-widgets/controls",
            "_model_module_version": "1.5.0",
            "_model_name": "FloatProgressModel",
            "_view_count": null,
            "_view_module": "@jupyter-widgets/controls",
            "_view_module_version": "1.5.0",
            "_view_name": "ProgressView",
            "bar_style": "success",
            "description": "",
            "description_tooltip": null,
            "layout": "IPY_MODEL_d4ca5842613c4aca9b26f1255415af38",
            "max": 87599,
            "min": 0,
            "orientation": "horizontal",
            "style": "IPY_MODEL_d211801e15414b468e651d5267803420",
            "value": 87599
          }
        },
        "325a3f7235e74dcabf0b4e4050c2945e": {
          "model_module": "@jupyter-widgets/controls",
          "model_name": "HTMLModel",
          "model_module_version": "1.5.0",
          "state": {
            "_dom_classes": [],
            "_model_module": "@jupyter-widgets/controls",
            "_model_module_version": "1.5.0",
            "_model_name": "HTMLModel",
            "_view_count": null,
            "_view_module": "@jupyter-widgets/controls",
            "_view_module_version": "1.5.0",
            "_view_name": "HTMLView",
            "description": "",
            "description_tooltip": null,
            "layout": "IPY_MODEL_5b57c09398f84ddb9b7ffbedaa624069",
            "placeholder": "​",
            "style": "IPY_MODEL_ffe3f388b4864709b0a9f89bffebf72f",
            "value": " 87599/87599 [00:35&lt;00:00, 2775.70 examples/s]"
          }
        },
        "72058b6bc20446bbb4b71294bfd9c651": {
          "model_module": "@jupyter-widgets/base",
          "model_name": "LayoutModel",
          "model_module_version": "1.2.0",
          "state": {
            "_model_module": "@jupyter-widgets/base",
            "_model_module_version": "1.2.0",
            "_model_name": "LayoutModel",
            "_view_count": null,
            "_view_module": "@jupyter-widgets/base",
            "_view_module_version": "1.2.0",
            "_view_name": "LayoutView",
            "align_content": null,
            "align_items": null,
            "align_self": null,
            "border": null,
            "bottom": null,
            "display": null,
            "flex": null,
            "flex_flow": null,
            "grid_area": null,
            "grid_auto_columns": null,
            "grid_auto_flow": null,
            "grid_auto_rows": null,
            "grid_column": null,
            "grid_gap": null,
            "grid_row": null,
            "grid_template_areas": null,
            "grid_template_columns": null,
            "grid_template_rows": null,
            "height": null,
            "justify_content": null,
            "justify_items": null,
            "left": null,
            "margin": null,
            "max_height": null,
            "max_width": null,
            "min_height": null,
            "min_width": null,
            "object_fit": null,
            "object_position": null,
            "order": null,
            "overflow": null,
            "overflow_x": null,
            "overflow_y": null,
            "padding": null,
            "right": null,
            "top": null,
            "visibility": null,
            "width": null
          }
        },
        "91868db2d18648d0bc55a7438ab5c230": {
          "model_module": "@jupyter-widgets/base",
          "model_name": "LayoutModel",
          "model_module_version": "1.2.0",
          "state": {
            "_model_module": "@jupyter-widgets/base",
            "_model_module_version": "1.2.0",
            "_model_name": "LayoutModel",
            "_view_count": null,
            "_view_module": "@jupyter-widgets/base",
            "_view_module_version": "1.2.0",
            "_view_name": "LayoutView",
            "align_content": null,
            "align_items": null,
            "align_self": null,
            "border": null,
            "bottom": null,
            "display": null,
            "flex": null,
            "flex_flow": null,
            "grid_area": null,
            "grid_auto_columns": null,
            "grid_auto_flow": null,
            "grid_auto_rows": null,
            "grid_column": null,
            "grid_gap": null,
            "grid_row": null,
            "grid_template_areas": null,
            "grid_template_columns": null,
            "grid_template_rows": null,
            "height": null,
            "justify_content": null,
            "justify_items": null,
            "left": null,
            "margin": null,
            "max_height": null,
            "max_width": null,
            "min_height": null,
            "min_width": null,
            "object_fit": null,
            "object_position": null,
            "order": null,
            "overflow": null,
            "overflow_x": null,
            "overflow_y": null,
            "padding": null,
            "right": null,
            "top": null,
            "visibility": null,
            "width": null
          }
        },
        "0bd64025015543b8b2d976b06fd1e320": {
          "model_module": "@jupyter-widgets/controls",
          "model_name": "DescriptionStyleModel",
          "model_module_version": "1.5.0",
          "state": {
            "_model_module": "@jupyter-widgets/controls",
            "_model_module_version": "1.5.0",
            "_model_name": "DescriptionStyleModel",
            "_view_count": null,
            "_view_module": "@jupyter-widgets/base",
            "_view_module_version": "1.2.0",
            "_view_name": "StyleView",
            "description_width": ""
          }
        },
        "d4ca5842613c4aca9b26f1255415af38": {
          "model_module": "@jupyter-widgets/base",
          "model_name": "LayoutModel",
          "model_module_version": "1.2.0",
          "state": {
            "_model_module": "@jupyter-widgets/base",
            "_model_module_version": "1.2.0",
            "_model_name": "LayoutModel",
            "_view_count": null,
            "_view_module": "@jupyter-widgets/base",
            "_view_module_version": "1.2.0",
            "_view_name": "LayoutView",
            "align_content": null,
            "align_items": null,
            "align_self": null,
            "border": null,
            "bottom": null,
            "display": null,
            "flex": null,
            "flex_flow": null,
            "grid_area": null,
            "grid_auto_columns": null,
            "grid_auto_flow": null,
            "grid_auto_rows": null,
            "grid_column": null,
            "grid_gap": null,
            "grid_row": null,
            "grid_template_areas": null,
            "grid_template_columns": null,
            "grid_template_rows": null,
            "height": null,
            "justify_content": null,
            "justify_items": null,
            "left": null,
            "margin": null,
            "max_height": null,
            "max_width": null,
            "min_height": null,
            "min_width": null,
            "object_fit": null,
            "object_position": null,
            "order": null,
            "overflow": null,
            "overflow_x": null,
            "overflow_y": null,
            "padding": null,
            "right": null,
            "top": null,
            "visibility": null,
            "width": null
          }
        },
        "d211801e15414b468e651d5267803420": {
          "model_module": "@jupyter-widgets/controls",
          "model_name": "ProgressStyleModel",
          "model_module_version": "1.5.0",
          "state": {
            "_model_module": "@jupyter-widgets/controls",
            "_model_module_version": "1.5.0",
            "_model_name": "ProgressStyleModel",
            "_view_count": null,
            "_view_module": "@jupyter-widgets/base",
            "_view_module_version": "1.2.0",
            "_view_name": "StyleView",
            "bar_color": null,
            "description_width": ""
          }
        },
        "5b57c09398f84ddb9b7ffbedaa624069": {
          "model_module": "@jupyter-widgets/base",
          "model_name": "LayoutModel",
          "model_module_version": "1.2.0",
          "state": {
            "_model_module": "@jupyter-widgets/base",
            "_model_module_version": "1.2.0",
            "_model_name": "LayoutModel",
            "_view_count": null,
            "_view_module": "@jupyter-widgets/base",
            "_view_module_version": "1.2.0",
            "_view_name": "LayoutView",
            "align_content": null,
            "align_items": null,
            "align_self": null,
            "border": null,
            "bottom": null,
            "display": null,
            "flex": null,
            "flex_flow": null,
            "grid_area": null,
            "grid_auto_columns": null,
            "grid_auto_flow": null,
            "grid_auto_rows": null,
            "grid_column": null,
            "grid_gap": null,
            "grid_row": null,
            "grid_template_areas": null,
            "grid_template_columns": null,
            "grid_template_rows": null,
            "height": null,
            "justify_content": null,
            "justify_items": null,
            "left": null,
            "margin": null,
            "max_height": null,
            "max_width": null,
            "min_height": null,
            "min_width": null,
            "object_fit": null,
            "object_position": null,
            "order": null,
            "overflow": null,
            "overflow_x": null,
            "overflow_y": null,
            "padding": null,
            "right": null,
            "top": null,
            "visibility": null,
            "width": null
          }
        },
        "ffe3f388b4864709b0a9f89bffebf72f": {
          "model_module": "@jupyter-widgets/controls",
          "model_name": "DescriptionStyleModel",
          "model_module_version": "1.5.0",
          "state": {
            "_model_module": "@jupyter-widgets/controls",
            "_model_module_version": "1.5.0",
            "_model_name": "DescriptionStyleModel",
            "_view_count": null,
            "_view_module": "@jupyter-widgets/base",
            "_view_module_version": "1.2.0",
            "_view_name": "StyleView",
            "description_width": ""
          }
        },
        "1c908fd3d9784e00a2c61d38aeca74ad": {
          "model_module": "@jupyter-widgets/controls",
          "model_name": "HBoxModel",
          "model_module_version": "1.5.0",
          "state": {
            "_dom_classes": [],
            "_model_module": "@jupyter-widgets/controls",
            "_model_module_version": "1.5.0",
            "_model_name": "HBoxModel",
            "_view_count": null,
            "_view_module": "@jupyter-widgets/controls",
            "_view_module_version": "1.5.0",
            "_view_name": "HBoxView",
            "box_style": "",
            "children": [
              "IPY_MODEL_013fa752b36f49528544dc7165899ac3",
              "IPY_MODEL_451525b2acfa4873a74a9e88dd4dc5c9",
              "IPY_MODEL_7765509ddabd4291814812ae78aec08f"
            ],
            "layout": "IPY_MODEL_878de396c0ef4965a45c6d858ac1c329"
          }
        },
        "013fa752b36f49528544dc7165899ac3": {
          "model_module": "@jupyter-widgets/controls",
          "model_name": "HTMLModel",
          "model_module_version": "1.5.0",
          "state": {
            "_dom_classes": [],
            "_model_module": "@jupyter-widgets/controls",
            "_model_module_version": "1.5.0",
            "_model_name": "HTMLModel",
            "_view_count": null,
            "_view_module": "@jupyter-widgets/controls",
            "_view_module_version": "1.5.0",
            "_view_name": "HTMLView",
            "description": "",
            "description_tooltip": null,
            "layout": "IPY_MODEL_e95c745a80944d4daa2d241f160484ff",
            "placeholder": "​",
            "style": "IPY_MODEL_43ae623351514b0699cadb4ca8da8b64",
            "value": "Generating validation split: 100%"
          }
        },
        "451525b2acfa4873a74a9e88dd4dc5c9": {
          "model_module": "@jupyter-widgets/controls",
          "model_name": "FloatProgressModel",
          "model_module_version": "1.5.0",
          "state": {
            "_dom_classes": [],
            "_model_module": "@jupyter-widgets/controls",
            "_model_module_version": "1.5.0",
            "_model_name": "FloatProgressModel",
            "_view_count": null,
            "_view_module": "@jupyter-widgets/controls",
            "_view_module_version": "1.5.0",
            "_view_name": "ProgressView",
            "bar_style": "success",
            "description": "",
            "description_tooltip": null,
            "layout": "IPY_MODEL_3e783a4e1f63412cabc5b76c40729358",
            "max": 10570,
            "min": 0,
            "orientation": "horizontal",
            "style": "IPY_MODEL_a6af5a197edf4f5aa44961af1d494731",
            "value": 10570
          }
        },
        "7765509ddabd4291814812ae78aec08f": {
          "model_module": "@jupyter-widgets/controls",
          "model_name": "HTMLModel",
          "model_module_version": "1.5.0",
          "state": {
            "_dom_classes": [],
            "_model_module": "@jupyter-widgets/controls",
            "_model_module_version": "1.5.0",
            "_model_name": "HTMLModel",
            "_view_count": null,
            "_view_module": "@jupyter-widgets/controls",
            "_view_module_version": "1.5.0",
            "_view_name": "HTMLView",
            "description": "",
            "description_tooltip": null,
            "layout": "IPY_MODEL_76adbbf419f945d1bb2a64f76056ff17",
            "placeholder": "​",
            "style": "IPY_MODEL_839d7d33811e453ea65b76a043f8a9f5",
            "value": " 10570/10570 [00:03&lt;00:00, 3364.12 examples/s]"
          }
        },
        "878de396c0ef4965a45c6d858ac1c329": {
          "model_module": "@jupyter-widgets/base",
          "model_name": "LayoutModel",
          "model_module_version": "1.2.0",
          "state": {
            "_model_module": "@jupyter-widgets/base",
            "_model_module_version": "1.2.0",
            "_model_name": "LayoutModel",
            "_view_count": null,
            "_view_module": "@jupyter-widgets/base",
            "_view_module_version": "1.2.0",
            "_view_name": "LayoutView",
            "align_content": null,
            "align_items": null,
            "align_self": null,
            "border": null,
            "bottom": null,
            "display": null,
            "flex": null,
            "flex_flow": null,
            "grid_area": null,
            "grid_auto_columns": null,
            "grid_auto_flow": null,
            "grid_auto_rows": null,
            "grid_column": null,
            "grid_gap": null,
            "grid_row": null,
            "grid_template_areas": null,
            "grid_template_columns": null,
            "grid_template_rows": null,
            "height": null,
            "justify_content": null,
            "justify_items": null,
            "left": null,
            "margin": null,
            "max_height": null,
            "max_width": null,
            "min_height": null,
            "min_width": null,
            "object_fit": null,
            "object_position": null,
            "order": null,
            "overflow": null,
            "overflow_x": null,
            "overflow_y": null,
            "padding": null,
            "right": null,
            "top": null,
            "visibility": null,
            "width": null
          }
        },
        "e95c745a80944d4daa2d241f160484ff": {
          "model_module": "@jupyter-widgets/base",
          "model_name": "LayoutModel",
          "model_module_version": "1.2.0",
          "state": {
            "_model_module": "@jupyter-widgets/base",
            "_model_module_version": "1.2.0",
            "_model_name": "LayoutModel",
            "_view_count": null,
            "_view_module": "@jupyter-widgets/base",
            "_view_module_version": "1.2.0",
            "_view_name": "LayoutView",
            "align_content": null,
            "align_items": null,
            "align_self": null,
            "border": null,
            "bottom": null,
            "display": null,
            "flex": null,
            "flex_flow": null,
            "grid_area": null,
            "grid_auto_columns": null,
            "grid_auto_flow": null,
            "grid_auto_rows": null,
            "grid_column": null,
            "grid_gap": null,
            "grid_row": null,
            "grid_template_areas": null,
            "grid_template_columns": null,
            "grid_template_rows": null,
            "height": null,
            "justify_content": null,
            "justify_items": null,
            "left": null,
            "margin": null,
            "max_height": null,
            "max_width": null,
            "min_height": null,
            "min_width": null,
            "object_fit": null,
            "object_position": null,
            "order": null,
            "overflow": null,
            "overflow_x": null,
            "overflow_y": null,
            "padding": null,
            "right": null,
            "top": null,
            "visibility": null,
            "width": null
          }
        },
        "43ae623351514b0699cadb4ca8da8b64": {
          "model_module": "@jupyter-widgets/controls",
          "model_name": "DescriptionStyleModel",
          "model_module_version": "1.5.0",
          "state": {
            "_model_module": "@jupyter-widgets/controls",
            "_model_module_version": "1.5.0",
            "_model_name": "DescriptionStyleModel",
            "_view_count": null,
            "_view_module": "@jupyter-widgets/base",
            "_view_module_version": "1.2.0",
            "_view_name": "StyleView",
            "description_width": ""
          }
        },
        "3e783a4e1f63412cabc5b76c40729358": {
          "model_module": "@jupyter-widgets/base",
          "model_name": "LayoutModel",
          "model_module_version": "1.2.0",
          "state": {
            "_model_module": "@jupyter-widgets/base",
            "_model_module_version": "1.2.0",
            "_model_name": "LayoutModel",
            "_view_count": null,
            "_view_module": "@jupyter-widgets/base",
            "_view_module_version": "1.2.0",
            "_view_name": "LayoutView",
            "align_content": null,
            "align_items": null,
            "align_self": null,
            "border": null,
            "bottom": null,
            "display": null,
            "flex": null,
            "flex_flow": null,
            "grid_area": null,
            "grid_auto_columns": null,
            "grid_auto_flow": null,
            "grid_auto_rows": null,
            "grid_column": null,
            "grid_gap": null,
            "grid_row": null,
            "grid_template_areas": null,
            "grid_template_columns": null,
            "grid_template_rows": null,
            "height": null,
            "justify_content": null,
            "justify_items": null,
            "left": null,
            "margin": null,
            "max_height": null,
            "max_width": null,
            "min_height": null,
            "min_width": null,
            "object_fit": null,
            "object_position": null,
            "order": null,
            "overflow": null,
            "overflow_x": null,
            "overflow_y": null,
            "padding": null,
            "right": null,
            "top": null,
            "visibility": null,
            "width": null
          }
        },
        "a6af5a197edf4f5aa44961af1d494731": {
          "model_module": "@jupyter-widgets/controls",
          "model_name": "ProgressStyleModel",
          "model_module_version": "1.5.0",
          "state": {
            "_model_module": "@jupyter-widgets/controls",
            "_model_module_version": "1.5.0",
            "_model_name": "ProgressStyleModel",
            "_view_count": null,
            "_view_module": "@jupyter-widgets/base",
            "_view_module_version": "1.2.0",
            "_view_name": "StyleView",
            "bar_color": null,
            "description_width": ""
          }
        },
        "76adbbf419f945d1bb2a64f76056ff17": {
          "model_module": "@jupyter-widgets/base",
          "model_name": "LayoutModel",
          "model_module_version": "1.2.0",
          "state": {
            "_model_module": "@jupyter-widgets/base",
            "_model_module_version": "1.2.0",
            "_model_name": "LayoutModel",
            "_view_count": null,
            "_view_module": "@jupyter-widgets/base",
            "_view_module_version": "1.2.0",
            "_view_name": "LayoutView",
            "align_content": null,
            "align_items": null,
            "align_self": null,
            "border": null,
            "bottom": null,
            "display": null,
            "flex": null,
            "flex_flow": null,
            "grid_area": null,
            "grid_auto_columns": null,
            "grid_auto_flow": null,
            "grid_auto_rows": null,
            "grid_column": null,
            "grid_gap": null,
            "grid_row": null,
            "grid_template_areas": null,
            "grid_template_columns": null,
            "grid_template_rows": null,
            "height": null,
            "justify_content": null,
            "justify_items": null,
            "left": null,
            "margin": null,
            "max_height": null,
            "max_width": null,
            "min_height": null,
            "min_width": null,
            "object_fit": null,
            "object_position": null,
            "order": null,
            "overflow": null,
            "overflow_x": null,
            "overflow_y": null,
            "padding": null,
            "right": null,
            "top": null,
            "visibility": null,
            "width": null
          }
        },
        "839d7d33811e453ea65b76a043f8a9f5": {
          "model_module": "@jupyter-widgets/controls",
          "model_name": "DescriptionStyleModel",
          "model_module_version": "1.5.0",
          "state": {
            "_model_module": "@jupyter-widgets/controls",
            "_model_module_version": "1.5.0",
            "_model_name": "DescriptionStyleModel",
            "_view_count": null,
            "_view_module": "@jupyter-widgets/base",
            "_view_module_version": "1.2.0",
            "_view_name": "StyleView",
            "description_width": ""
          }
        },
        "3d5f7adaa50b43b9b7fc6a5280be5ca6": {
          "model_module": "@jupyter-widgets/controls",
          "model_name": "HBoxModel",
          "model_module_version": "1.5.0",
          "state": {
            "_dom_classes": [],
            "_model_module": "@jupyter-widgets/controls",
            "_model_module_version": "1.5.0",
            "_model_name": "HBoxModel",
            "_view_count": null,
            "_view_module": "@jupyter-widgets/controls",
            "_view_module_version": "1.5.0",
            "_view_name": "HBoxView",
            "box_style": "",
            "children": [
              "IPY_MODEL_59f021b82e0247bea3a1f6b0be3fdedd",
              "IPY_MODEL_4ffb7e1c42d243b08b8399d77c886d7c",
              "IPY_MODEL_ff14d108bef84739b8d99565233ccbda"
            ],
            "layout": "IPY_MODEL_e0864a20a18349e098a6ac2d4f8d1d6e"
          }
        },
        "59f021b82e0247bea3a1f6b0be3fdedd": {
          "model_module": "@jupyter-widgets/controls",
          "model_name": "HTMLModel",
          "model_module_version": "1.5.0",
          "state": {
            "_dom_classes": [],
            "_model_module": "@jupyter-widgets/controls",
            "_model_module_version": "1.5.0",
            "_model_name": "HTMLModel",
            "_view_count": null,
            "_view_module": "@jupyter-widgets/controls",
            "_view_module_version": "1.5.0",
            "_view_name": "HTMLView",
            "description": "",
            "description_tooltip": null,
            "layout": "IPY_MODEL_57f2f7889ef44c60aebeb6e5722d6e97",
            "placeholder": "​",
            "style": "IPY_MODEL_1bba4d24e1434f06bbe812a70821d7af",
            "value": "Map: 100%"
          }
        },
        "4ffb7e1c42d243b08b8399d77c886d7c": {
          "model_module": "@jupyter-widgets/controls",
          "model_name": "FloatProgressModel",
          "model_module_version": "1.5.0",
          "state": {
            "_dom_classes": [],
            "_model_module": "@jupyter-widgets/controls",
            "_model_module_version": "1.5.0",
            "_model_name": "FloatProgressModel",
            "_view_count": null,
            "_view_module": "@jupyter-widgets/controls",
            "_view_module_version": "1.5.0",
            "_view_name": "ProgressView",
            "bar_style": "success",
            "description": "",
            "description_tooltip": null,
            "layout": "IPY_MODEL_c1f40fa3e2e2472881c31a244cff1186",
            "max": 4000,
            "min": 0,
            "orientation": "horizontal",
            "style": "IPY_MODEL_94ccc8afaaae44fcb8f72ba4e4dd5229",
            "value": 4000
          }
        },
        "ff14d108bef84739b8d99565233ccbda": {
          "model_module": "@jupyter-widgets/controls",
          "model_name": "HTMLModel",
          "model_module_version": "1.5.0",
          "state": {
            "_dom_classes": [],
            "_model_module": "@jupyter-widgets/controls",
            "_model_module_version": "1.5.0",
            "_model_name": "HTMLModel",
            "_view_count": null,
            "_view_module": "@jupyter-widgets/controls",
            "_view_module_version": "1.5.0",
            "_view_name": "HTMLView",
            "description": "",
            "description_tooltip": null,
            "layout": "IPY_MODEL_1d7ce1257d3e4b94873c791346b5912c",
            "placeholder": "​",
            "style": "IPY_MODEL_14a503b3090c4418bf7b5171e3413af2",
            "value": " 4000/4000 [00:05&lt;00:00, 601.07 examples/s]"
          }
        },
        "e0864a20a18349e098a6ac2d4f8d1d6e": {
          "model_module": "@jupyter-widgets/base",
          "model_name": "LayoutModel",
          "model_module_version": "1.2.0",
          "state": {
            "_model_module": "@jupyter-widgets/base",
            "_model_module_version": "1.2.0",
            "_model_name": "LayoutModel",
            "_view_count": null,
            "_view_module": "@jupyter-widgets/base",
            "_view_module_version": "1.2.0",
            "_view_name": "LayoutView",
            "align_content": null,
            "align_items": null,
            "align_self": null,
            "border": null,
            "bottom": null,
            "display": null,
            "flex": null,
            "flex_flow": null,
            "grid_area": null,
            "grid_auto_columns": null,
            "grid_auto_flow": null,
            "grid_auto_rows": null,
            "grid_column": null,
            "grid_gap": null,
            "grid_row": null,
            "grid_template_areas": null,
            "grid_template_columns": null,
            "grid_template_rows": null,
            "height": null,
            "justify_content": null,
            "justify_items": null,
            "left": null,
            "margin": null,
            "max_height": null,
            "max_width": null,
            "min_height": null,
            "min_width": null,
            "object_fit": null,
            "object_position": null,
            "order": null,
            "overflow": null,
            "overflow_x": null,
            "overflow_y": null,
            "padding": null,
            "right": null,
            "top": null,
            "visibility": null,
            "width": null
          }
        },
        "57f2f7889ef44c60aebeb6e5722d6e97": {
          "model_module": "@jupyter-widgets/base",
          "model_name": "LayoutModel",
          "model_module_version": "1.2.0",
          "state": {
            "_model_module": "@jupyter-widgets/base",
            "_model_module_version": "1.2.0",
            "_model_name": "LayoutModel",
            "_view_count": null,
            "_view_module": "@jupyter-widgets/base",
            "_view_module_version": "1.2.0",
            "_view_name": "LayoutView",
            "align_content": null,
            "align_items": null,
            "align_self": null,
            "border": null,
            "bottom": null,
            "display": null,
            "flex": null,
            "flex_flow": null,
            "grid_area": null,
            "grid_auto_columns": null,
            "grid_auto_flow": null,
            "grid_auto_rows": null,
            "grid_column": null,
            "grid_gap": null,
            "grid_row": null,
            "grid_template_areas": null,
            "grid_template_columns": null,
            "grid_template_rows": null,
            "height": null,
            "justify_content": null,
            "justify_items": null,
            "left": null,
            "margin": null,
            "max_height": null,
            "max_width": null,
            "min_height": null,
            "min_width": null,
            "object_fit": null,
            "object_position": null,
            "order": null,
            "overflow": null,
            "overflow_x": null,
            "overflow_y": null,
            "padding": null,
            "right": null,
            "top": null,
            "visibility": null,
            "width": null
          }
        },
        "1bba4d24e1434f06bbe812a70821d7af": {
          "model_module": "@jupyter-widgets/controls",
          "model_name": "DescriptionStyleModel",
          "model_module_version": "1.5.0",
          "state": {
            "_model_module": "@jupyter-widgets/controls",
            "_model_module_version": "1.5.0",
            "_model_name": "DescriptionStyleModel",
            "_view_count": null,
            "_view_module": "@jupyter-widgets/base",
            "_view_module_version": "1.2.0",
            "_view_name": "StyleView",
            "description_width": ""
          }
        },
        "c1f40fa3e2e2472881c31a244cff1186": {
          "model_module": "@jupyter-widgets/base",
          "model_name": "LayoutModel",
          "model_module_version": "1.2.0",
          "state": {
            "_model_module": "@jupyter-widgets/base",
            "_model_module_version": "1.2.0",
            "_model_name": "LayoutModel",
            "_view_count": null,
            "_view_module": "@jupyter-widgets/base",
            "_view_module_version": "1.2.0",
            "_view_name": "LayoutView",
            "align_content": null,
            "align_items": null,
            "align_self": null,
            "border": null,
            "bottom": null,
            "display": null,
            "flex": null,
            "flex_flow": null,
            "grid_area": null,
            "grid_auto_columns": null,
            "grid_auto_flow": null,
            "grid_auto_rows": null,
            "grid_column": null,
            "grid_gap": null,
            "grid_row": null,
            "grid_template_areas": null,
            "grid_template_columns": null,
            "grid_template_rows": null,
            "height": null,
            "justify_content": null,
            "justify_items": null,
            "left": null,
            "margin": null,
            "max_height": null,
            "max_width": null,
            "min_height": null,
            "min_width": null,
            "object_fit": null,
            "object_position": null,
            "order": null,
            "overflow": null,
            "overflow_x": null,
            "overflow_y": null,
            "padding": null,
            "right": null,
            "top": null,
            "visibility": null,
            "width": null
          }
        },
        "94ccc8afaaae44fcb8f72ba4e4dd5229": {
          "model_module": "@jupyter-widgets/controls",
          "model_name": "ProgressStyleModel",
          "model_module_version": "1.5.0",
          "state": {
            "_model_module": "@jupyter-widgets/controls",
            "_model_module_version": "1.5.0",
            "_model_name": "ProgressStyleModel",
            "_view_count": null,
            "_view_module": "@jupyter-widgets/base",
            "_view_module_version": "1.2.0",
            "_view_name": "StyleView",
            "bar_color": null,
            "description_width": ""
          }
        },
        "1d7ce1257d3e4b94873c791346b5912c": {
          "model_module": "@jupyter-widgets/base",
          "model_name": "LayoutModel",
          "model_module_version": "1.2.0",
          "state": {
            "_model_module": "@jupyter-widgets/base",
            "_model_module_version": "1.2.0",
            "_model_name": "LayoutModel",
            "_view_count": null,
            "_view_module": "@jupyter-widgets/base",
            "_view_module_version": "1.2.0",
            "_view_name": "LayoutView",
            "align_content": null,
            "align_items": null,
            "align_self": null,
            "border": null,
            "bottom": null,
            "display": null,
            "flex": null,
            "flex_flow": null,
            "grid_area": null,
            "grid_auto_columns": null,
            "grid_auto_flow": null,
            "grid_auto_rows": null,
            "grid_column": null,
            "grid_gap": null,
            "grid_row": null,
            "grid_template_areas": null,
            "grid_template_columns": null,
            "grid_template_rows": null,
            "height": null,
            "justify_content": null,
            "justify_items": null,
            "left": null,
            "margin": null,
            "max_height": null,
            "max_width": null,
            "min_height": null,
            "min_width": null,
            "object_fit": null,
            "object_position": null,
            "order": null,
            "overflow": null,
            "overflow_x": null,
            "overflow_y": null,
            "padding": null,
            "right": null,
            "top": null,
            "visibility": null,
            "width": null
          }
        },
        "14a503b3090c4418bf7b5171e3413af2": {
          "model_module": "@jupyter-widgets/controls",
          "model_name": "DescriptionStyleModel",
          "model_module_version": "1.5.0",
          "state": {
            "_model_module": "@jupyter-widgets/controls",
            "_model_module_version": "1.5.0",
            "_model_name": "DescriptionStyleModel",
            "_view_count": null,
            "_view_module": "@jupyter-widgets/base",
            "_view_module_version": "1.2.0",
            "_view_name": "StyleView",
            "description_width": ""
          }
        },
        "8f923059aaef480a9a3b0ef831faafaf": {
          "model_module": "@jupyter-widgets/controls",
          "model_name": "HBoxModel",
          "model_module_version": "1.5.0",
          "state": {
            "_dom_classes": [],
            "_model_module": "@jupyter-widgets/controls",
            "_model_module_version": "1.5.0",
            "_model_name": "HBoxModel",
            "_view_count": null,
            "_view_module": "@jupyter-widgets/controls",
            "_view_module_version": "1.5.0",
            "_view_name": "HBoxView",
            "box_style": "",
            "children": [
              "IPY_MODEL_9772a14a945f4c2aa83c9b0adc0862cf",
              "IPY_MODEL_da51b3af408f48f29c346c270eea8f27",
              "IPY_MODEL_6e4f70a5afff44c3985a4ae02f23c2a0"
            ],
            "layout": "IPY_MODEL_bab11c07a7fb46d9878cb8f9025a3edb"
          }
        },
        "9772a14a945f4c2aa83c9b0adc0862cf": {
          "model_module": "@jupyter-widgets/controls",
          "model_name": "HTMLModel",
          "model_module_version": "1.5.0",
          "state": {
            "_dom_classes": [],
            "_model_module": "@jupyter-widgets/controls",
            "_model_module_version": "1.5.0",
            "_model_name": "HTMLModel",
            "_view_count": null,
            "_view_module": "@jupyter-widgets/controls",
            "_view_module_version": "1.5.0",
            "_view_name": "HTMLView",
            "description": "",
            "description_tooltip": null,
            "layout": "IPY_MODEL_628844dac6b947a1b5b597185e47131c",
            "placeholder": "​",
            "style": "IPY_MODEL_dcc7aa87a7b14e46badeb22404068c36",
            "value": "Map: 100%"
          }
        },
        "da51b3af408f48f29c346c270eea8f27": {
          "model_module": "@jupyter-widgets/controls",
          "model_name": "FloatProgressModel",
          "model_module_version": "1.5.0",
          "state": {
            "_dom_classes": [],
            "_model_module": "@jupyter-widgets/controls",
            "_model_module_version": "1.5.0",
            "_model_name": "FloatProgressModel",
            "_view_count": null,
            "_view_module": "@jupyter-widgets/controls",
            "_view_module_version": "1.5.0",
            "_view_name": "ProgressView",
            "bar_style": "success",
            "description": "",
            "description_tooltip": null,
            "layout": "IPY_MODEL_1e77c06c50e14d7cac629b50a2a737fd",
            "max": 1000,
            "min": 0,
            "orientation": "horizontal",
            "style": "IPY_MODEL_cbbdeac0ec1542c7bcb925db9f33bc85",
            "value": 1000
          }
        },
        "6e4f70a5afff44c3985a4ae02f23c2a0": {
          "model_module": "@jupyter-widgets/controls",
          "model_name": "HTMLModel",
          "model_module_version": "1.5.0",
          "state": {
            "_dom_classes": [],
            "_model_module": "@jupyter-widgets/controls",
            "_model_module_version": "1.5.0",
            "_model_name": "HTMLModel",
            "_view_count": null,
            "_view_module": "@jupyter-widgets/controls",
            "_view_module_version": "1.5.0",
            "_view_name": "HTMLView",
            "description": "",
            "description_tooltip": null,
            "layout": "IPY_MODEL_3f0346708fe64b479cba17f3403f28b6",
            "placeholder": "​",
            "style": "IPY_MODEL_a7631c24059d492b95a6e7058eeec1ec",
            "value": " 1000/1000 [00:02&lt;00:00, 477.77 examples/s]"
          }
        },
        "bab11c07a7fb46d9878cb8f9025a3edb": {
          "model_module": "@jupyter-widgets/base",
          "model_name": "LayoutModel",
          "model_module_version": "1.2.0",
          "state": {
            "_model_module": "@jupyter-widgets/base",
            "_model_module_version": "1.2.0",
            "_model_name": "LayoutModel",
            "_view_count": null,
            "_view_module": "@jupyter-widgets/base",
            "_view_module_version": "1.2.0",
            "_view_name": "LayoutView",
            "align_content": null,
            "align_items": null,
            "align_self": null,
            "border": null,
            "bottom": null,
            "display": null,
            "flex": null,
            "flex_flow": null,
            "grid_area": null,
            "grid_auto_columns": null,
            "grid_auto_flow": null,
            "grid_auto_rows": null,
            "grid_column": null,
            "grid_gap": null,
            "grid_row": null,
            "grid_template_areas": null,
            "grid_template_columns": null,
            "grid_template_rows": null,
            "height": null,
            "justify_content": null,
            "justify_items": null,
            "left": null,
            "margin": null,
            "max_height": null,
            "max_width": null,
            "min_height": null,
            "min_width": null,
            "object_fit": null,
            "object_position": null,
            "order": null,
            "overflow": null,
            "overflow_x": null,
            "overflow_y": null,
            "padding": null,
            "right": null,
            "top": null,
            "visibility": null,
            "width": null
          }
        },
        "628844dac6b947a1b5b597185e47131c": {
          "model_module": "@jupyter-widgets/base",
          "model_name": "LayoutModel",
          "model_module_version": "1.2.0",
          "state": {
            "_model_module": "@jupyter-widgets/base",
            "_model_module_version": "1.2.0",
            "_model_name": "LayoutModel",
            "_view_count": null,
            "_view_module": "@jupyter-widgets/base",
            "_view_module_version": "1.2.0",
            "_view_name": "LayoutView",
            "align_content": null,
            "align_items": null,
            "align_self": null,
            "border": null,
            "bottom": null,
            "display": null,
            "flex": null,
            "flex_flow": null,
            "grid_area": null,
            "grid_auto_columns": null,
            "grid_auto_flow": null,
            "grid_auto_rows": null,
            "grid_column": null,
            "grid_gap": null,
            "grid_row": null,
            "grid_template_areas": null,
            "grid_template_columns": null,
            "grid_template_rows": null,
            "height": null,
            "justify_content": null,
            "justify_items": null,
            "left": null,
            "margin": null,
            "max_height": null,
            "max_width": null,
            "min_height": null,
            "min_width": null,
            "object_fit": null,
            "object_position": null,
            "order": null,
            "overflow": null,
            "overflow_x": null,
            "overflow_y": null,
            "padding": null,
            "right": null,
            "top": null,
            "visibility": null,
            "width": null
          }
        },
        "dcc7aa87a7b14e46badeb22404068c36": {
          "model_module": "@jupyter-widgets/controls",
          "model_name": "DescriptionStyleModel",
          "model_module_version": "1.5.0",
          "state": {
            "_model_module": "@jupyter-widgets/controls",
            "_model_module_version": "1.5.0",
            "_model_name": "DescriptionStyleModel",
            "_view_count": null,
            "_view_module": "@jupyter-widgets/base",
            "_view_module_version": "1.2.0",
            "_view_name": "StyleView",
            "description_width": ""
          }
        },
        "1e77c06c50e14d7cac629b50a2a737fd": {
          "model_module": "@jupyter-widgets/base",
          "model_name": "LayoutModel",
          "model_module_version": "1.2.0",
          "state": {
            "_model_module": "@jupyter-widgets/base",
            "_model_module_version": "1.2.0",
            "_model_name": "LayoutModel",
            "_view_count": null,
            "_view_module": "@jupyter-widgets/base",
            "_view_module_version": "1.2.0",
            "_view_name": "LayoutView",
            "align_content": null,
            "align_items": null,
            "align_self": null,
            "border": null,
            "bottom": null,
            "display": null,
            "flex": null,
            "flex_flow": null,
            "grid_area": null,
            "grid_auto_columns": null,
            "grid_auto_flow": null,
            "grid_auto_rows": null,
            "grid_column": null,
            "grid_gap": null,
            "grid_row": null,
            "grid_template_areas": null,
            "grid_template_columns": null,
            "grid_template_rows": null,
            "height": null,
            "justify_content": null,
            "justify_items": null,
            "left": null,
            "margin": null,
            "max_height": null,
            "max_width": null,
            "min_height": null,
            "min_width": null,
            "object_fit": null,
            "object_position": null,
            "order": null,
            "overflow": null,
            "overflow_x": null,
            "overflow_y": null,
            "padding": null,
            "right": null,
            "top": null,
            "visibility": null,
            "width": null
          }
        },
        "cbbdeac0ec1542c7bcb925db9f33bc85": {
          "model_module": "@jupyter-widgets/controls",
          "model_name": "ProgressStyleModel",
          "model_module_version": "1.5.0",
          "state": {
            "_model_module": "@jupyter-widgets/controls",
            "_model_module_version": "1.5.0",
            "_model_name": "ProgressStyleModel",
            "_view_count": null,
            "_view_module": "@jupyter-widgets/base",
            "_view_module_version": "1.2.0",
            "_view_name": "StyleView",
            "bar_color": null,
            "description_width": ""
          }
        },
        "3f0346708fe64b479cba17f3403f28b6": {
          "model_module": "@jupyter-widgets/base",
          "model_name": "LayoutModel",
          "model_module_version": "1.2.0",
          "state": {
            "_model_module": "@jupyter-widgets/base",
            "_model_module_version": "1.2.0",
            "_model_name": "LayoutModel",
            "_view_count": null,
            "_view_module": "@jupyter-widgets/base",
            "_view_module_version": "1.2.0",
            "_view_name": "LayoutView",
            "align_content": null,
            "align_items": null,
            "align_self": null,
            "border": null,
            "bottom": null,
            "display": null,
            "flex": null,
            "flex_flow": null,
            "grid_area": null,
            "grid_auto_columns": null,
            "grid_auto_flow": null,
            "grid_auto_rows": null,
            "grid_column": null,
            "grid_gap": null,
            "grid_row": null,
            "grid_template_areas": null,
            "grid_template_columns": null,
            "grid_template_rows": null,
            "height": null,
            "justify_content": null,
            "justify_items": null,
            "left": null,
            "margin": null,
            "max_height": null,
            "max_width": null,
            "min_height": null,
            "min_width": null,
            "object_fit": null,
            "object_position": null,
            "order": null,
            "overflow": null,
            "overflow_x": null,
            "overflow_y": null,
            "padding": null,
            "right": null,
            "top": null,
            "visibility": null,
            "width": null
          }
        },
        "a7631c24059d492b95a6e7058eeec1ec": {
          "model_module": "@jupyter-widgets/controls",
          "model_name": "DescriptionStyleModel",
          "model_module_version": "1.5.0",
          "state": {
            "_model_module": "@jupyter-widgets/controls",
            "_model_module_version": "1.5.0",
            "_model_name": "DescriptionStyleModel",
            "_view_count": null,
            "_view_module": "@jupyter-widgets/base",
            "_view_module_version": "1.2.0",
            "_view_name": "StyleView",
            "description_width": ""
          }
        }
      }
    },
    "accelerator": "GPU"
  },
  "cells": [
    {
      "cell_type": "markdown",
      "source": [
        "# **Custom ChatBot**"
      ],
      "metadata": {
        "id": "erT6aCi_6wks"
      }
    },
    {
      "cell_type": "code",
      "source": [
        "# Import packages\n",
        "\n",
        "import json\n",
        "import numpy as np\n",
        "import keras\n",
        "from keras.models import Sequential\n",
        "from keras.layers import Dense,Embedding,GlobalAveragePooling1D\n",
        "from keras.preprocessing.text import Tokenizer\n",
        "from keras.preprocessing.sequence import pad_sequences\n",
        "from sklearn.preprocessing import LabelEncoder"
      ],
      "metadata": {
        "id": "iY7rr1jY7iyY"
      },
      "execution_count": null,
      "outputs": []
    },
    {
      "cell_type": "code",
      "source": [
        "# Load data\n",
        "with open('intents.json') as file:\n",
        "    data = json.load(file)"
      ],
      "metadata": {
        "id": "jvlUIjdi8HwC"
      },
      "execution_count": null,
      "outputs": []
    },
    {
      "cell_type": "code",
      "source": [
        "# Visualize data\n",
        "data"
      ],
      "metadata": {
        "colab": {
          "base_uri": "https://localhost:8080/"
        },
        "id": "O6Dvr3f48R-i",
        "outputId": "553c2fe4-1185-4b38-ecee-cfc471edbbeb"
      },
      "execution_count": null,
      "outputs": [
        {
          "output_type": "execute_result",
          "data": {
            "text/plain": [
              "{'intents': [{'tag': 'greeting',\n",
              "   'patterns': ['Hi there',\n",
              "    'How are you',\n",
              "    'Is anyone there?',\n",
              "    'Hey',\n",
              "    'Hola',\n",
              "    'Hello',\n",
              "    'Good day'],\n",
              "   'responses': ['Hello, thanks for asking',\n",
              "    'Good to see you again',\n",
              "    'Hi there, how can I help?'],\n",
              "   'context': ['']},\n",
              "  {'tag': 'goodbye',\n",
              "   'patterns': ['Bye',\n",
              "    'See you later',\n",
              "    'Goodbye',\n",
              "    'Nice chatting to you, bye',\n",
              "    'Till next time'],\n",
              "   'responses': ['See you!', 'Have a nice day', 'Bye! Come back again soon.'],\n",
              "   'context': ['']},\n",
              "  {'tag': 'thanks',\n",
              "   'patterns': ['Thanks',\n",
              "    'Thank you',\n",
              "    \"That's helpful\",\n",
              "    'Awesome, thanks',\n",
              "    'Thanks for helping me'],\n",
              "   'responses': ['Happy to help!', 'Any time!', 'My pleasure'],\n",
              "   'context': ['']},\n",
              "  {'tag': 'noanswer',\n",
              "   'patterns': [],\n",
              "   'responses': [\"Sorry, can't understand you\",\n",
              "    'Please give me more info',\n",
              "    'Not sure I understand'],\n",
              "   'context': ['']},\n",
              "  {'tag': 'options',\n",
              "   'patterns': ['How you could help me?',\n",
              "    'What you can do?',\n",
              "    'What help you provide?',\n",
              "    'How you can be helpful?',\n",
              "    'What support is offered'],\n",
              "   'responses': ['I can guide you through Adverse drug reaction list, Blood pressure tracking, Hospitals and Pharmacies',\n",
              "    'Offering support for Adverse drug reaction, Blood pressure, Hospitals and Pharmacies'],\n",
              "   'context': ['']},\n",
              "  {'tag': 'adverse_drug',\n",
              "   'patterns': ['How to check Adverse drug reaction?',\n",
              "    'Open adverse drugs module',\n",
              "    'Give me a list of drugs causing adverse behavior',\n",
              "    'List all drugs suitable for patient with adverse reaction',\n",
              "    'Which drugs dont have adverse reaction?'],\n",
              "   'responses': ['Navigating to Adverse drug reaction module'],\n",
              "   'context': ['']},\n",
              "  {'tag': 'blood_pressure',\n",
              "   'patterns': ['Open blood pressure module',\n",
              "    'Task related to blood pressure',\n",
              "    'Blood pressure data entry',\n",
              "    'I want to log blood pressure results',\n",
              "    'Blood pressure data management'],\n",
              "   'responses': ['Navigating to Blood Pressure module'],\n",
              "   'context': ['']},\n",
              "  {'tag': 'blood_pressure_search',\n",
              "   'patterns': ['I want to search for blood pressure result history',\n",
              "    'Blood pressure for patient',\n",
              "    'Load patient blood pressure result',\n",
              "    'Show blood pressure results for patient',\n",
              "    'Find blood pressure results by ID'],\n",
              "   'responses': ['Please provide Patient ID', 'Patient ID?'],\n",
              "   'context': ['search_blood_pressure_by_patient_id']},\n",
              "  {'tag': 'search_blood_pressure_by_patient_id',\n",
              "   'patterns': [],\n",
              "   'responses': ['Loading Blood pressure result for Patient'],\n",
              "   'context': ['']},\n",
              "  {'tag': 'pharmacy_search',\n",
              "   'patterns': ['Find me a pharmacy',\n",
              "    'Find pharmacy',\n",
              "    'List of pharmacies nearby',\n",
              "    'Locate pharmacy',\n",
              "    'Search pharmacy'],\n",
              "   'responses': ['Please provide pharmacy name'],\n",
              "   'context': ['search_pharmacy_by_name']},\n",
              "  {'tag': 'search_pharmacy_by_name',\n",
              "   'patterns': [],\n",
              "   'responses': ['Loading pharmacy details'],\n",
              "   'context': ['']},\n",
              "  {'tag': 'hospital_search',\n",
              "   'patterns': ['Lookup for hospital',\n",
              "    'Searching for hospital to transfer patient',\n",
              "    'I want to search hospital data',\n",
              "    'Hospital lookup for patient',\n",
              "    'Looking up hospital details'],\n",
              "   'responses': ['Please provide hospital name or location'],\n",
              "   'context': ['search_hospital_by_params']},\n",
              "  {'tag': 'search_hospital_by_params',\n",
              "   'patterns': [],\n",
              "   'responses': ['Please provide hospital type'],\n",
              "   'context': ['search_hospital_by_type']},\n",
              "  {'tag': 'search_hospital_by_type',\n",
              "   'patterns': [],\n",
              "   'responses': ['Loading hospital details'],\n",
              "   'context': ['']}]}"
            ]
          },
          "metadata": {},
          "execution_count": 4
        }
      ]
    },
    {
      "cell_type": "code",
      "source": [
        "# Load items\n",
        "training_sentences = []\n",
        "training_labels = []\n",
        "labels = []\n",
        "responses = []\n",
        "for intent in data['intents']:\n",
        "    for patterns in intent['patterns']:\n",
        "        training_sentences.append(patterns)\n",
        "        training_labels.append(intent['tag'])\n",
        "    responses.append(intent['responses'])\n",
        "\n",
        "    if intent['tag'] not in labels:\n",
        "        labels.append(intent['tag'])\n"
      ],
      "metadata": {
        "id": "o7n0S_rH8-_5"
      },
      "execution_count": null,
      "outputs": []
    },
    {
      "cell_type": "code",
      "source": [
        "training_sentences"
      ],
      "metadata": {
        "colab": {
          "base_uri": "https://localhost:8080/"
        },
        "id": "zNWtOngG9Sff",
        "outputId": "ad98e5d4-cfdc-4184-c9bc-16ed7ec453eb"
      },
      "execution_count": null,
      "outputs": [
        {
          "output_type": "execute_result",
          "data": {
            "text/plain": [
              "['Hi there',\n",
              " 'How are you',\n",
              " 'Is anyone there?',\n",
              " 'Hey',\n",
              " 'Hola',\n",
              " 'Hello',\n",
              " 'Good day',\n",
              " 'Bye',\n",
              " 'See you later',\n",
              " 'Goodbye',\n",
              " 'Nice chatting to you, bye',\n",
              " 'Till next time',\n",
              " 'Thanks',\n",
              " 'Thank you',\n",
              " \"That's helpful\",\n",
              " 'Awesome, thanks',\n",
              " 'Thanks for helping me',\n",
              " 'How you could help me?',\n",
              " 'What you can do?',\n",
              " 'What help you provide?',\n",
              " 'How you can be helpful?',\n",
              " 'What support is offered',\n",
              " 'How to check Adverse drug reaction?',\n",
              " 'Open adverse drugs module',\n",
              " 'Give me a list of drugs causing adverse behavior',\n",
              " 'List all drugs suitable for patient with adverse reaction',\n",
              " 'Which drugs dont have adverse reaction?',\n",
              " 'Open blood pressure module',\n",
              " 'Task related to blood pressure',\n",
              " 'Blood pressure data entry',\n",
              " 'I want to log blood pressure results',\n",
              " 'Blood pressure data management',\n",
              " 'I want to search for blood pressure result history',\n",
              " 'Blood pressure for patient',\n",
              " 'Load patient blood pressure result',\n",
              " 'Show blood pressure results for patient',\n",
              " 'Find blood pressure results by ID',\n",
              " 'Find me a pharmacy',\n",
              " 'Find pharmacy',\n",
              " 'List of pharmacies nearby',\n",
              " 'Locate pharmacy',\n",
              " 'Search pharmacy',\n",
              " 'Lookup for hospital',\n",
              " 'Searching for hospital to transfer patient',\n",
              " 'I want to search hospital data',\n",
              " 'Hospital lookup for patient',\n",
              " 'Looking up hospital details']"
            ]
          },
          "metadata": {},
          "execution_count": 16
        }
      ]
    },
    {
      "cell_type": "code",
      "source": [
        "training_labels"
      ],
      "metadata": {
        "colab": {
          "base_uri": "https://localhost:8080/"
        },
        "id": "gl1GZQwu9WQU",
        "outputId": "e2ffef1c-e7bc-45de-db32-40ad7a70e2ba"
      },
      "execution_count": null,
      "outputs": [
        {
          "output_type": "execute_result",
          "data": {
            "text/plain": [
              "['greeting',\n",
              " 'greeting',\n",
              " 'greeting',\n",
              " 'greeting',\n",
              " 'greeting',\n",
              " 'greeting',\n",
              " 'greeting',\n",
              " 'goodbye',\n",
              " 'goodbye',\n",
              " 'goodbye',\n",
              " 'goodbye',\n",
              " 'goodbye',\n",
              " 'thanks',\n",
              " 'thanks',\n",
              " 'thanks',\n",
              " 'thanks',\n",
              " 'thanks',\n",
              " 'options',\n",
              " 'options',\n",
              " 'options',\n",
              " 'options',\n",
              " 'options',\n",
              " 'adverse_drug',\n",
              " 'adverse_drug',\n",
              " 'adverse_drug',\n",
              " 'adverse_drug',\n",
              " 'adverse_drug',\n",
              " 'blood_pressure',\n",
              " 'blood_pressure',\n",
              " 'blood_pressure',\n",
              " 'blood_pressure',\n",
              " 'blood_pressure',\n",
              " 'blood_pressure_search',\n",
              " 'blood_pressure_search',\n",
              " 'blood_pressure_search',\n",
              " 'blood_pressure_search',\n",
              " 'blood_pressure_search',\n",
              " 'pharmacy_search',\n",
              " 'pharmacy_search',\n",
              " 'pharmacy_search',\n",
              " 'pharmacy_search',\n",
              " 'pharmacy_search',\n",
              " 'hospital_search',\n",
              " 'hospital_search',\n",
              " 'hospital_search',\n",
              " 'hospital_search',\n",
              " 'hospital_search']"
            ]
          },
          "metadata": {},
          "execution_count": 17
        }
      ]
    },
    {
      "cell_type": "code",
      "source": [
        "responses"
      ],
      "metadata": {
        "colab": {
          "base_uri": "https://localhost:8080/"
        },
        "id": "6bM6lIyr9eg2",
        "outputId": "1f0ef63a-0e2b-4a19-a4e1-9bd94f90e31e"
      },
      "execution_count": null,
      "outputs": [
        {
          "output_type": "execute_result",
          "data": {
            "text/plain": [
              "[['Hello, thanks for asking',\n",
              "  'Good to see you again',\n",
              "  'Hi there, how can I help?'],\n",
              " ['See you!', 'Have a nice day', 'Bye! Come back again soon.'],\n",
              " ['Happy to help!', 'Any time!', 'My pleasure'],\n",
              " [\"Sorry, can't understand you\",\n",
              "  'Please give me more info',\n",
              "  'Not sure I understand'],\n",
              " ['I can guide you through Adverse drug reaction list, Blood pressure tracking, Hospitals and Pharmacies',\n",
              "  'Offering support for Adverse drug reaction, Blood pressure, Hospitals and Pharmacies'],\n",
              " ['Navigating to Adverse drug reaction module'],\n",
              " ['Navigating to Blood Pressure module'],\n",
              " ['Please provide Patient ID', 'Patient ID?'],\n",
              " ['Loading Blood pressure result for Patient'],\n",
              " ['Please provide pharmacy name'],\n",
              " ['Loading pharmacy details'],\n",
              " ['Please provide hospital name or location'],\n",
              " ['Please provide hospital type'],\n",
              " ['Loading hospital details']]"
            ]
          },
          "metadata": {},
          "execution_count": 18
        }
      ]
    },
    {
      "cell_type": "code",
      "source": [
        "labels"
      ],
      "metadata": {
        "colab": {
          "base_uri": "https://localhost:8080/"
        },
        "id": "9WTeaPH89hsf",
        "outputId": "204a7f7c-018c-4eeb-ba6b-3ec2602f2a07"
      },
      "execution_count": null,
      "outputs": [
        {
          "output_type": "execute_result",
          "data": {
            "text/plain": [
              "['greeting',\n",
              " 'goodbye',\n",
              " 'thanks',\n",
              " 'noanswer',\n",
              " 'options',\n",
              " 'adverse_drug',\n",
              " 'blood_pressure',\n",
              " 'blood_pressure_search',\n",
              " 'search_blood_pressure_by_patient_id',\n",
              " 'pharmacy_search',\n",
              " 'search_pharmacy_by_name',\n",
              " 'hospital_search',\n",
              " 'search_hospital_by_params',\n",
              " 'search_hospital_by_type']"
            ]
          },
          "metadata": {},
          "execution_count": 19
        }
      ]
    },
    {
      "cell_type": "code",
      "source": [
        "# Encoder training labels\n",
        "encoder= LabelEncoder()\n",
        "encoder.fit(training_labels)\n",
        "training_labels = encoder.transform(training_labels)"
      ],
      "metadata": {
        "id": "_yJxFEIz9n9o"
      },
      "execution_count": null,
      "outputs": []
    },
    {
      "cell_type": "code",
      "source": [
        "training_labels"
      ],
      "metadata": {
        "colab": {
          "base_uri": "https://localhost:8080/"
        },
        "id": "1mLFBbdc99Ar",
        "outputId": "f2c75a90-b79a-4578-8061-1d55998cf78c"
      },
      "execution_count": null,
      "outputs": [
        {
          "output_type": "execute_result",
          "data": {
            "text/plain": [
              "array([4, 4, 4, 4, 4, 4, 4, 3, 3, 3, 3, 3, 8, 8, 8, 8, 8, 6, 6, 6, 6, 6,\n",
              "       0, 0, 0, 0, 0, 1, 1, 1, 1, 1, 2, 2, 2, 2, 2, 7, 7, 7, 7, 7, 5, 5,\n",
              "       5, 5, 5])"
            ]
          },
          "metadata": {},
          "execution_count": 29
        }
      ]
    },
    {
      "cell_type": "code",
      "source": [
        "# Encode sentence\n",
        "vocab_size = 1000\n",
        "embedding_dim = 16\n",
        "max_len = 20\n",
        "oov_token = \"<OOV>\" # Out of Vocabulary\n",
        "\n",
        "tokenizer = Tokenizer(num_words=vocab_size, oov_token=oov_token)\n",
        "tokenizer.fit_on_texts(training_sentences)\n",
        "word_index = tokenizer.word_index\n",
        "sequences = tokenizer.texts_to_sequences(training_sentences)\n",
        "sequences"
      ],
      "metadata": {
        "colab": {
          "base_uri": "https://localhost:8080/"
        },
        "id": "nvRSEi0C-Ns-",
        "outputId": "045c67c9-cc6a-4b61-a0cc-94558910b37b"
      },
      "execution_count": null,
      "outputs": [
        {
          "output_type": "execute_result",
          "data": {
            "text/plain": [
              "[[36, 24],\n",
              " [10, 37, 4],\n",
              " [25, 38, 24],\n",
              " [39],\n",
              " [40],\n",
              " [41],\n",
              " [42, 43],\n",
              " [26],\n",
              " [44, 4, 45],\n",
              " [46],\n",
              " [47, 48, 6, 4, 26],\n",
              " [49, 50, 51],\n",
              " [14],\n",
              " [52, 4],\n",
              " [53, 27],\n",
              " [54, 14],\n",
              " [14, 5, 55, 11],\n",
              " [10, 4, 56, 28, 11],\n",
              " [15, 4, 29, 57],\n",
              " [15, 28, 4, 58],\n",
              " [10, 4, 29, 59, 27],\n",
              " [15, 60, 25, 61],\n",
              " [10, 6, 62, 8, 63, 16],\n",
              " [30, 8, 12, 31],\n",
              " [64, 11, 32, 17, 33, 12, 65, 8, 66],\n",
              " [17, 67, 12, 68, 5, 7, 69, 8, 16],\n",
              " [70, 12, 71, 72, 8, 16],\n",
              " [30, 2, 3, 31],\n",
              " [73, 74, 6, 2, 3],\n",
              " [2, 3, 18, 75],\n",
              " [19, 20, 6, 76, 2, 3, 21],\n",
              " [2, 3, 18, 77],\n",
              " [19, 20, 6, 22, 5, 2, 3, 34, 78],\n",
              " [2, 3, 5, 7],\n",
              " [79, 7, 2, 3, 34],\n",
              " [80, 2, 3, 21, 5, 7],\n",
              " [23, 2, 3, 21, 81, 82],\n",
              " [23, 11, 32, 13],\n",
              " [23, 13],\n",
              " [17, 33, 83, 84],\n",
              " [85, 13],\n",
              " [22, 13],\n",
              " [35, 5, 9],\n",
              " [86, 5, 9, 6, 87, 7],\n",
              " [19, 20, 6, 22, 9, 18],\n",
              " [9, 35, 5, 7],\n",
              " [88, 89, 9, 90]]"
            ]
          },
          "metadata": {},
          "execution_count": 30
        }
      ]
    },
    {
      "cell_type": "code",
      "source": [
        "# Align sequences\n",
        "padded_sequences = pad_sequences(sequences, truncating='post', maxlen=max_len)\n",
        "padded_sequences"
      ],
      "metadata": {
        "colab": {
          "base_uri": "https://localhost:8080/"
        },
        "id": "TgjcSjQx-VDH",
        "outputId": "6c7a52b0-75c2-4a2e-980c-256201044faa"
      },
      "execution_count": null,
      "outputs": [
        {
          "output_type": "execute_result",
          "data": {
            "text/plain": [
              "array([[ 0,  0,  0,  0,  0,  0,  0,  0,  0,  0,  0,  0,  0,  0,  0,  0,\n",
              "         0,  0, 36, 24],\n",
              "       [ 0,  0,  0,  0,  0,  0,  0,  0,  0,  0,  0,  0,  0,  0,  0,  0,\n",
              "         0, 10, 37,  4],\n",
              "       [ 0,  0,  0,  0,  0,  0,  0,  0,  0,  0,  0,  0,  0,  0,  0,  0,\n",
              "         0, 25, 38, 24],\n",
              "       [ 0,  0,  0,  0,  0,  0,  0,  0,  0,  0,  0,  0,  0,  0,  0,  0,\n",
              "         0,  0,  0, 39],\n",
              "       [ 0,  0,  0,  0,  0,  0,  0,  0,  0,  0,  0,  0,  0,  0,  0,  0,\n",
              "         0,  0,  0, 40],\n",
              "       [ 0,  0,  0,  0,  0,  0,  0,  0,  0,  0,  0,  0,  0,  0,  0,  0,\n",
              "         0,  0,  0, 41],\n",
              "       [ 0,  0,  0,  0,  0,  0,  0,  0,  0,  0,  0,  0,  0,  0,  0,  0,\n",
              "         0,  0, 42, 43],\n",
              "       [ 0,  0,  0,  0,  0,  0,  0,  0,  0,  0,  0,  0,  0,  0,  0,  0,\n",
              "         0,  0,  0, 26],\n",
              "       [ 0,  0,  0,  0,  0,  0,  0,  0,  0,  0,  0,  0,  0,  0,  0,  0,\n",
              "         0, 44,  4, 45],\n",
              "       [ 0,  0,  0,  0,  0,  0,  0,  0,  0,  0,  0,  0,  0,  0,  0,  0,\n",
              "         0,  0,  0, 46],\n",
              "       [ 0,  0,  0,  0,  0,  0,  0,  0,  0,  0,  0,  0,  0,  0,  0, 47,\n",
              "        48,  6,  4, 26],\n",
              "       [ 0,  0,  0,  0,  0,  0,  0,  0,  0,  0,  0,  0,  0,  0,  0,  0,\n",
              "         0, 49, 50, 51],\n",
              "       [ 0,  0,  0,  0,  0,  0,  0,  0,  0,  0,  0,  0,  0,  0,  0,  0,\n",
              "         0,  0,  0, 14],\n",
              "       [ 0,  0,  0,  0,  0,  0,  0,  0,  0,  0,  0,  0,  0,  0,  0,  0,\n",
              "         0,  0, 52,  4],\n",
              "       [ 0,  0,  0,  0,  0,  0,  0,  0,  0,  0,  0,  0,  0,  0,  0,  0,\n",
              "         0,  0, 53, 27],\n",
              "       [ 0,  0,  0,  0,  0,  0,  0,  0,  0,  0,  0,  0,  0,  0,  0,  0,\n",
              "         0,  0, 54, 14],\n",
              "       [ 0,  0,  0,  0,  0,  0,  0,  0,  0,  0,  0,  0,  0,  0,  0,  0,\n",
              "        14,  5, 55, 11],\n",
              "       [ 0,  0,  0,  0,  0,  0,  0,  0,  0,  0,  0,  0,  0,  0,  0, 10,\n",
              "         4, 56, 28, 11],\n",
              "       [ 0,  0,  0,  0,  0,  0,  0,  0,  0,  0,  0,  0,  0,  0,  0,  0,\n",
              "        15,  4, 29, 57],\n",
              "       [ 0,  0,  0,  0,  0,  0,  0,  0,  0,  0,  0,  0,  0,  0,  0,  0,\n",
              "        15, 28,  4, 58],\n",
              "       [ 0,  0,  0,  0,  0,  0,  0,  0,  0,  0,  0,  0,  0,  0,  0, 10,\n",
              "         4, 29, 59, 27],\n",
              "       [ 0,  0,  0,  0,  0,  0,  0,  0,  0,  0,  0,  0,  0,  0,  0,  0,\n",
              "        15, 60, 25, 61],\n",
              "       [ 0,  0,  0,  0,  0,  0,  0,  0,  0,  0,  0,  0,  0,  0, 10,  6,\n",
              "        62,  8, 63, 16],\n",
              "       [ 0,  0,  0,  0,  0,  0,  0,  0,  0,  0,  0,  0,  0,  0,  0,  0,\n",
              "        30,  8, 12, 31],\n",
              "       [ 0,  0,  0,  0,  0,  0,  0,  0,  0,  0,  0, 64, 11, 32, 17, 33,\n",
              "        12, 65,  8, 66],\n",
              "       [ 0,  0,  0,  0,  0,  0,  0,  0,  0,  0,  0, 17, 67, 12, 68,  5,\n",
              "         7, 69,  8, 16],\n",
              "       [ 0,  0,  0,  0,  0,  0,  0,  0,  0,  0,  0,  0,  0,  0, 70, 12,\n",
              "        71, 72,  8, 16],\n",
              "       [ 0,  0,  0,  0,  0,  0,  0,  0,  0,  0,  0,  0,  0,  0,  0,  0,\n",
              "        30,  2,  3, 31],\n",
              "       [ 0,  0,  0,  0,  0,  0,  0,  0,  0,  0,  0,  0,  0,  0,  0, 73,\n",
              "        74,  6,  2,  3],\n",
              "       [ 0,  0,  0,  0,  0,  0,  0,  0,  0,  0,  0,  0,  0,  0,  0,  0,\n",
              "         2,  3, 18, 75],\n",
              "       [ 0,  0,  0,  0,  0,  0,  0,  0,  0,  0,  0,  0,  0, 19, 20,  6,\n",
              "        76,  2,  3, 21],\n",
              "       [ 0,  0,  0,  0,  0,  0,  0,  0,  0,  0,  0,  0,  0,  0,  0,  0,\n",
              "         2,  3, 18, 77],\n",
              "       [ 0,  0,  0,  0,  0,  0,  0,  0,  0,  0,  0, 19, 20,  6, 22,  5,\n",
              "         2,  3, 34, 78],\n",
              "       [ 0,  0,  0,  0,  0,  0,  0,  0,  0,  0,  0,  0,  0,  0,  0,  0,\n",
              "         2,  3,  5,  7],\n",
              "       [ 0,  0,  0,  0,  0,  0,  0,  0,  0,  0,  0,  0,  0,  0,  0, 79,\n",
              "         7,  2,  3, 34],\n",
              "       [ 0,  0,  0,  0,  0,  0,  0,  0,  0,  0,  0,  0,  0,  0, 80,  2,\n",
              "         3, 21,  5,  7],\n",
              "       [ 0,  0,  0,  0,  0,  0,  0,  0,  0,  0,  0,  0,  0,  0, 23,  2,\n",
              "         3, 21, 81, 82],\n",
              "       [ 0,  0,  0,  0,  0,  0,  0,  0,  0,  0,  0,  0,  0,  0,  0,  0,\n",
              "        23, 11, 32, 13],\n",
              "       [ 0,  0,  0,  0,  0,  0,  0,  0,  0,  0,  0,  0,  0,  0,  0,  0,\n",
              "         0,  0, 23, 13],\n",
              "       [ 0,  0,  0,  0,  0,  0,  0,  0,  0,  0,  0,  0,  0,  0,  0,  0,\n",
              "        17, 33, 83, 84],\n",
              "       [ 0,  0,  0,  0,  0,  0,  0,  0,  0,  0,  0,  0,  0,  0,  0,  0,\n",
              "         0,  0, 85, 13],\n",
              "       [ 0,  0,  0,  0,  0,  0,  0,  0,  0,  0,  0,  0,  0,  0,  0,  0,\n",
              "         0,  0, 22, 13],\n",
              "       [ 0,  0,  0,  0,  0,  0,  0,  0,  0,  0,  0,  0,  0,  0,  0,  0,\n",
              "         0, 35,  5,  9],\n",
              "       [ 0,  0,  0,  0,  0,  0,  0,  0,  0,  0,  0,  0,  0,  0, 86,  5,\n",
              "         9,  6, 87,  7],\n",
              "       [ 0,  0,  0,  0,  0,  0,  0,  0,  0,  0,  0,  0,  0,  0, 19, 20,\n",
              "         6, 22,  9, 18],\n",
              "       [ 0,  0,  0,  0,  0,  0,  0,  0,  0,  0,  0,  0,  0,  0,  0,  0,\n",
              "         9, 35,  5,  7],\n",
              "       [ 0,  0,  0,  0,  0,  0,  0,  0,  0,  0,  0,  0,  0,  0,  0,  0,\n",
              "        88, 89,  9, 90]], dtype=int32)"
            ]
          },
          "metadata": {},
          "execution_count": 31
        }
      ]
    },
    {
      "cell_type": "code",
      "source": [
        "# Buil model\n",
        "num_classes = 9\n",
        "model = Sequential()\n",
        "model.add(Embedding(vocab_size, embedding_dim, input_length=max_len))\n",
        "model.add(GlobalAveragePooling1D())\n",
        "model.add(Dense(16, activation='relu'))\n",
        "model.add(Dense(16, activation='relu'))\n",
        "model.add(Dense(num_classes, activation='softmax'))\n",
        "\n",
        "model.compile(loss='sparse_categorical_crossentropy',\n",
        "              optimizer='adam', metrics=['accuracy'])\n",
        "\n",
        "model.summary()"
      ],
      "metadata": {
        "colab": {
          "base_uri": "https://localhost:8080/"
        },
        "id": "JOPSuXdw_3m9",
        "outputId": "ace6559e-53f2-4e1b-ee6e-105a8e0bb4c5"
      },
      "execution_count": null,
      "outputs": [
        {
          "output_type": "stream",
          "name": "stdout",
          "text": [
            "Model: \"sequential\"\n",
            "_________________________________________________________________\n",
            " Layer (type)                Output Shape              Param #   \n",
            "=================================================================\n",
            " embedding (Embedding)       (None, 20, 16)            16000     \n",
            "                                                                 \n",
            " global_average_pooling1d (  (None, 16)                0         \n",
            " GlobalAveragePooling1D)                                         \n",
            "                                                                 \n",
            " dense (Dense)               (None, 16)                272       \n",
            "                                                                 \n",
            " dense_1 (Dense)             (None, 16)                272       \n",
            "                                                                 \n",
            " dense_2 (Dense)             (None, 9)                 153       \n",
            "                                                                 \n",
            "=================================================================\n",
            "Total params: 16697 (65.22 KB)\n",
            "Trainable params: 16697 (65.22 KB)\n",
            "Non-trainable params: 0 (0.00 Byte)\n",
            "_________________________________________________________________\n"
          ]
        }
      ]
    },
    {
      "cell_type": "code",
      "source": [
        "epochs = 500\n",
        "history = model.fit(padded_sequences, np.array(training_labels), epochs=epochs)"
      ],
      "metadata": {
        "colab": {
          "base_uri": "https://localhost:8080/"
        },
        "id": "WE_fypV6Cwuj",
        "outputId": "573a73b3-b2b0-4ce7-dd8b-b0e4aa61c497"
      },
      "execution_count": null,
      "outputs": [
        {
          "output_type": "stream",
          "name": "stdout",
          "text": [
            "Epoch 1/500\n",
            "2/2 [==============================] - 2s 61ms/step - loss: 2.1978 - accuracy: 0.1064\n",
            "Epoch 2/500\n",
            "2/2 [==============================] - 0s 30ms/step - loss: 2.1964 - accuracy: 0.1277\n",
            "Epoch 3/500\n",
            "2/2 [==============================] - 0s 15ms/step - loss: 2.1957 - accuracy: 0.1489\n",
            "Epoch 4/500\n",
            "2/2 [==============================] - 0s 15ms/step - loss: 2.1951 - accuracy: 0.1489\n",
            "Epoch 5/500\n",
            "2/2 [==============================] - 0s 34ms/step - loss: 2.1944 - accuracy: 0.1489\n",
            "Epoch 6/500\n",
            "2/2 [==============================] - 0s 28ms/step - loss: 2.1940 - accuracy: 0.1489\n",
            "Epoch 7/500\n",
            "2/2 [==============================] - 0s 33ms/step - loss: 2.1934 - accuracy: 0.1489\n",
            "Epoch 8/500\n",
            "2/2 [==============================] - 0s 29ms/step - loss: 2.1930 - accuracy: 0.1489\n",
            "Epoch 9/500\n",
            "2/2 [==============================] - 0s 29ms/step - loss: 2.1926 - accuracy: 0.1489\n",
            "Epoch 10/500\n",
            "2/2 [==============================] - 0s 30ms/step - loss: 2.1921 - accuracy: 0.1489\n",
            "Epoch 11/500\n",
            "2/2 [==============================] - 0s 28ms/step - loss: 2.1914 - accuracy: 0.1489\n",
            "Epoch 12/500\n",
            "2/2 [==============================] - 0s 28ms/step - loss: 2.1908 - accuracy: 0.1489\n",
            "Epoch 13/500\n",
            "2/2 [==============================] - 0s 18ms/step - loss: 2.1903 - accuracy: 0.1489\n",
            "Epoch 14/500\n",
            "2/2 [==============================] - 0s 30ms/step - loss: 2.1898 - accuracy: 0.1489\n",
            "Epoch 15/500\n",
            "2/2 [==============================] - 0s 24ms/step - loss: 2.1891 - accuracy: 0.1489\n",
            "Epoch 16/500\n",
            "2/2 [==============================] - 0s 23ms/step - loss: 2.1886 - accuracy: 0.1489\n",
            "Epoch 17/500\n",
            "2/2 [==============================] - 0s 30ms/step - loss: 2.1878 - accuracy: 0.1489\n",
            "Epoch 18/500\n",
            "2/2 [==============================] - 0s 36ms/step - loss: 2.1872 - accuracy: 0.1489\n",
            "Epoch 19/500\n",
            "2/2 [==============================] - 0s 29ms/step - loss: 2.1866 - accuracy: 0.1489\n",
            "Epoch 20/500\n",
            "2/2 [==============================] - 0s 24ms/step - loss: 2.1857 - accuracy: 0.1489\n",
            "Epoch 21/500\n",
            "2/2 [==============================] - 0s 21ms/step - loss: 2.1850 - accuracy: 0.1489\n",
            "Epoch 22/500\n",
            "2/2 [==============================] - 0s 22ms/step - loss: 2.1841 - accuracy: 0.1489\n",
            "Epoch 23/500\n",
            "2/2 [==============================] - 0s 12ms/step - loss: 2.1832 - accuracy: 0.1489\n",
            "Epoch 24/500\n",
            "2/2 [==============================] - 0s 15ms/step - loss: 2.1823 - accuracy: 0.1489\n",
            "Epoch 25/500\n",
            "2/2 [==============================] - 0s 8ms/step - loss: 2.1813 - accuracy: 0.1489\n",
            "Epoch 26/500\n",
            "2/2 [==============================] - 0s 13ms/step - loss: 2.1804 - accuracy: 0.1489\n",
            "Epoch 27/500\n",
            "2/2 [==============================] - 0s 10ms/step - loss: 2.1793 - accuracy: 0.1489\n",
            "Epoch 28/500\n",
            "2/2 [==============================] - 0s 9ms/step - loss: 2.1783 - accuracy: 0.1489\n",
            "Epoch 29/500\n",
            "2/2 [==============================] - 0s 10ms/step - loss: 2.1771 - accuracy: 0.1489\n",
            "Epoch 30/500\n",
            "2/2 [==============================] - 0s 12ms/step - loss: 2.1759 - accuracy: 0.1489\n",
            "Epoch 31/500\n",
            "2/2 [==============================] - 0s 8ms/step - loss: 2.1747 - accuracy: 0.1489\n",
            "Epoch 32/500\n",
            "2/2 [==============================] - 0s 8ms/step - loss: 2.1735 - accuracy: 0.1489\n",
            "Epoch 33/500\n",
            "2/2 [==============================] - 0s 8ms/step - loss: 2.1721 - accuracy: 0.1489\n",
            "Epoch 34/500\n",
            "2/2 [==============================] - 0s 8ms/step - loss: 2.1707 - accuracy: 0.1489\n",
            "Epoch 35/500\n",
            "2/2 [==============================] - 0s 8ms/step - loss: 2.1691 - accuracy: 0.1489\n",
            "Epoch 36/500\n",
            "2/2 [==============================] - 0s 8ms/step - loss: 2.1676 - accuracy: 0.1489\n",
            "Epoch 37/500\n",
            "2/2 [==============================] - 0s 9ms/step - loss: 2.1658 - accuracy: 0.1489\n",
            "Epoch 38/500\n",
            "2/2 [==============================] - 0s 11ms/step - loss: 2.1640 - accuracy: 0.1489\n",
            "Epoch 39/500\n",
            "2/2 [==============================] - 0s 10ms/step - loss: 2.1623 - accuracy: 0.1489\n",
            "Epoch 40/500\n",
            "2/2 [==============================] - 0s 11ms/step - loss: 2.1603 - accuracy: 0.1489\n",
            "Epoch 41/500\n",
            "2/2 [==============================] - 0s 11ms/step - loss: 2.1580 - accuracy: 0.1489\n",
            "Epoch 42/500\n",
            "2/2 [==============================] - 0s 10ms/step - loss: 2.1559 - accuracy: 0.1489\n",
            "Epoch 43/500\n",
            "2/2 [==============================] - 0s 15ms/step - loss: 2.1536 - accuracy: 0.1489\n",
            "Epoch 44/500\n",
            "2/2 [==============================] - 0s 12ms/step - loss: 2.1511 - accuracy: 0.1489\n",
            "Epoch 45/500\n",
            "2/2 [==============================] - 0s 10ms/step - loss: 2.1484 - accuracy: 0.1489\n",
            "Epoch 46/500\n",
            "2/2 [==============================] - 0s 9ms/step - loss: 2.1456 - accuracy: 0.1489\n",
            "Epoch 47/500\n",
            "2/2 [==============================] - 0s 14ms/step - loss: 2.1428 - accuracy: 0.1489\n",
            "Epoch 48/500\n",
            "2/2 [==============================] - 0s 12ms/step - loss: 2.1397 - accuracy: 0.1489\n",
            "Epoch 49/500\n",
            "2/2 [==============================] - 0s 12ms/step - loss: 2.1366 - accuracy: 0.1702\n",
            "Epoch 50/500\n",
            "2/2 [==============================] - 0s 14ms/step - loss: 2.1336 - accuracy: 0.1915\n",
            "Epoch 51/500\n",
            "2/2 [==============================] - 0s 13ms/step - loss: 2.1299 - accuracy: 0.2128\n",
            "Epoch 52/500\n",
            "2/2 [==============================] - 0s 14ms/step - loss: 2.1262 - accuracy: 0.2128\n",
            "Epoch 53/500\n",
            "2/2 [==============================] - 0s 9ms/step - loss: 2.1227 - accuracy: 0.2128\n",
            "Epoch 54/500\n",
            "2/2 [==============================] - 0s 11ms/step - loss: 2.1188 - accuracy: 0.2128\n",
            "Epoch 55/500\n",
            "2/2 [==============================] - 0s 8ms/step - loss: 2.1147 - accuracy: 0.2128\n",
            "Epoch 56/500\n",
            "2/2 [==============================] - 0s 9ms/step - loss: 2.1107 - accuracy: 0.2128\n",
            "Epoch 57/500\n",
            "2/2 [==============================] - 0s 8ms/step - loss: 2.1061 - accuracy: 0.2340\n",
            "Epoch 58/500\n",
            "2/2 [==============================] - 0s 10ms/step - loss: 2.1015 - accuracy: 0.2340\n",
            "Epoch 59/500\n",
            "2/2 [==============================] - 0s 9ms/step - loss: 2.0968 - accuracy: 0.2340\n",
            "Epoch 60/500\n",
            "2/2 [==============================] - 0s 9ms/step - loss: 2.0915 - accuracy: 0.2340\n",
            "Epoch 61/500\n",
            "2/2 [==============================] - 0s 13ms/step - loss: 2.0866 - accuracy: 0.2340\n",
            "Epoch 62/500\n",
            "2/2 [==============================] - 0s 8ms/step - loss: 2.0808 - accuracy: 0.2340\n",
            "Epoch 63/500\n",
            "2/2 [==============================] - 0s 9ms/step - loss: 2.0764 - accuracy: 0.2340\n",
            "Epoch 64/500\n",
            "2/2 [==============================] - 0s 9ms/step - loss: 2.0696 - accuracy: 0.2340\n",
            "Epoch 65/500\n",
            "2/2 [==============================] - 0s 10ms/step - loss: 2.0633 - accuracy: 0.2340\n",
            "Epoch 66/500\n",
            "2/2 [==============================] - 0s 9ms/step - loss: 2.0570 - accuracy: 0.2553\n",
            "Epoch 67/500\n",
            "2/2 [==============================] - 0s 13ms/step - loss: 2.0507 - accuracy: 0.2553\n",
            "Epoch 68/500\n",
            "2/2 [==============================] - 0s 16ms/step - loss: 2.0436 - accuracy: 0.2553\n",
            "Epoch 69/500\n",
            "2/2 [==============================] - 0s 12ms/step - loss: 2.0370 - accuracy: 0.2553\n",
            "Epoch 70/500\n",
            "2/2 [==============================] - 0s 12ms/step - loss: 2.0297 - accuracy: 0.2553\n",
            "Epoch 71/500\n",
            "2/2 [==============================] - 0s 11ms/step - loss: 2.0218 - accuracy: 0.2553\n",
            "Epoch 72/500\n",
            "2/2 [==============================] - 0s 13ms/step - loss: 2.0147 - accuracy: 0.2553\n",
            "Epoch 73/500\n",
            "2/2 [==============================] - 0s 13ms/step - loss: 2.0064 - accuracy: 0.2553\n",
            "Epoch 74/500\n",
            "2/2 [==============================] - 0s 11ms/step - loss: 1.9983 - accuracy: 0.2553\n",
            "Epoch 75/500\n",
            "2/2 [==============================] - 0s 16ms/step - loss: 1.9905 - accuracy: 0.2553\n",
            "Epoch 76/500\n",
            "2/2 [==============================] - 0s 13ms/step - loss: 1.9818 - accuracy: 0.2553\n",
            "Epoch 77/500\n",
            "2/2 [==============================] - 0s 11ms/step - loss: 1.9732 - accuracy: 0.2553\n",
            "Epoch 78/500\n",
            "2/2 [==============================] - 0s 12ms/step - loss: 1.9647 - accuracy: 0.2553\n",
            "Epoch 79/500\n",
            "2/2 [==============================] - 0s 13ms/step - loss: 1.9552 - accuracy: 0.2553\n",
            "Epoch 80/500\n",
            "2/2 [==============================] - 0s 10ms/step - loss: 1.9466 - accuracy: 0.2553\n",
            "Epoch 81/500\n",
            "2/2 [==============================] - 0s 10ms/step - loss: 1.9374 - accuracy: 0.2553\n",
            "Epoch 82/500\n",
            "2/2 [==============================] - 0s 9ms/step - loss: 1.9276 - accuracy: 0.2553\n",
            "Epoch 83/500\n",
            "2/2 [==============================] - 0s 10ms/step - loss: 1.9181 - accuracy: 0.2553\n",
            "Epoch 84/500\n",
            "2/2 [==============================] - 0s 14ms/step - loss: 1.9083 - accuracy: 0.2553\n",
            "Epoch 85/500\n",
            "2/2 [==============================] - 0s 10ms/step - loss: 1.8984 - accuracy: 0.2553\n",
            "Epoch 86/500\n",
            "2/2 [==============================] - 0s 9ms/step - loss: 1.8883 - accuracy: 0.2553\n",
            "Epoch 87/500\n",
            "2/2 [==============================] - 0s 9ms/step - loss: 1.8776 - accuracy: 0.2553\n",
            "Epoch 88/500\n",
            "2/2 [==============================] - 0s 10ms/step - loss: 1.8674 - accuracy: 0.2553\n",
            "Epoch 89/500\n",
            "2/2 [==============================] - 0s 10ms/step - loss: 1.8569 - accuracy: 0.2553\n",
            "Epoch 90/500\n",
            "2/2 [==============================] - 0s 9ms/step - loss: 1.8460 - accuracy: 0.2553\n",
            "Epoch 91/500\n",
            "2/2 [==============================] - 0s 9ms/step - loss: 1.8349 - accuracy: 0.2553\n",
            "Epoch 92/500\n",
            "2/2 [==============================] - 0s 11ms/step - loss: 1.8243 - accuracy: 0.2553\n",
            "Epoch 93/500\n",
            "2/2 [==============================] - 0s 9ms/step - loss: 1.8125 - accuracy: 0.2553\n",
            "Epoch 94/500\n",
            "2/2 [==============================] - 0s 11ms/step - loss: 1.8014 - accuracy: 0.2553\n",
            "Epoch 95/500\n",
            "2/2 [==============================] - 0s 11ms/step - loss: 1.7898 - accuracy: 0.2553\n",
            "Epoch 96/500\n",
            "2/2 [==============================] - 0s 10ms/step - loss: 1.7785 - accuracy: 0.2553\n",
            "Epoch 97/500\n",
            "2/2 [==============================] - 0s 9ms/step - loss: 1.7669 - accuracy: 0.2553\n",
            "Epoch 98/500\n",
            "2/2 [==============================] - 0s 10ms/step - loss: 1.7554 - accuracy: 0.2553\n",
            "Epoch 99/500\n",
            "2/2 [==============================] - 0s 12ms/step - loss: 1.7439 - accuracy: 0.2553\n",
            "Epoch 100/500\n",
            "2/2 [==============================] - 0s 15ms/step - loss: 1.7317 - accuracy: 0.2553\n",
            "Epoch 101/500\n",
            "2/2 [==============================] - 0s 10ms/step - loss: 1.7205 - accuracy: 0.2766\n",
            "Epoch 102/500\n",
            "2/2 [==============================] - 0s 10ms/step - loss: 1.7081 - accuracy: 0.2766\n",
            "Epoch 103/500\n",
            "2/2 [==============================] - 0s 12ms/step - loss: 1.6966 - accuracy: 0.2766\n",
            "Epoch 104/500\n",
            "2/2 [==============================] - 0s 9ms/step - loss: 1.6843 - accuracy: 0.3191\n",
            "Epoch 105/500\n",
            "2/2 [==============================] - 0s 9ms/step - loss: 1.6722 - accuracy: 0.3617\n",
            "Epoch 106/500\n",
            "2/2 [==============================] - 0s 9ms/step - loss: 1.6601 - accuracy: 0.3617\n",
            "Epoch 107/500\n",
            "2/2 [==============================] - 0s 8ms/step - loss: 1.6483 - accuracy: 0.3617\n",
            "Epoch 108/500\n",
            "2/2 [==============================] - 0s 9ms/step - loss: 1.6359 - accuracy: 0.3617\n",
            "Epoch 109/500\n",
            "2/2 [==============================] - 0s 11ms/step - loss: 1.6241 - accuracy: 0.3617\n",
            "Epoch 110/500\n",
            "2/2 [==============================] - 0s 11ms/step - loss: 1.6124 - accuracy: 0.3617\n",
            "Epoch 111/500\n",
            "2/2 [==============================] - 0s 9ms/step - loss: 1.6005 - accuracy: 0.3617\n",
            "Epoch 112/500\n",
            "2/2 [==============================] - 0s 11ms/step - loss: 1.5882 - accuracy: 0.3830\n",
            "Epoch 113/500\n",
            "2/2 [==============================] - 0s 8ms/step - loss: 1.5763 - accuracy: 0.3830\n",
            "Epoch 114/500\n",
            "2/2 [==============================] - 0s 9ms/step - loss: 1.5645 - accuracy: 0.3830\n",
            "Epoch 115/500\n",
            "2/2 [==============================] - 0s 8ms/step - loss: 1.5524 - accuracy: 0.3830\n",
            "Epoch 116/500\n",
            "2/2 [==============================] - 0s 8ms/step - loss: 1.5406 - accuracy: 0.3830\n",
            "Epoch 117/500\n",
            "2/2 [==============================] - 0s 9ms/step - loss: 1.5286 - accuracy: 0.3830\n",
            "Epoch 118/500\n",
            "2/2 [==============================] - 0s 9ms/step - loss: 1.5172 - accuracy: 0.4043\n",
            "Epoch 119/500\n",
            "2/2 [==============================] - 0s 9ms/step - loss: 1.5053 - accuracy: 0.4255\n",
            "Epoch 120/500\n",
            "2/2 [==============================] - 0s 8ms/step - loss: 1.4940 - accuracy: 0.4468\n",
            "Epoch 121/500\n",
            "2/2 [==============================] - 0s 10ms/step - loss: 1.4828 - accuracy: 0.4681\n",
            "Epoch 122/500\n",
            "2/2 [==============================] - 0s 8ms/step - loss: 1.4710 - accuracy: 0.4681\n",
            "Epoch 123/500\n",
            "2/2 [==============================] - 0s 13ms/step - loss: 1.4587 - accuracy: 0.4468\n",
            "Epoch 124/500\n",
            "2/2 [==============================] - 0s 8ms/step - loss: 1.4486 - accuracy: 0.4255\n",
            "Epoch 125/500\n",
            "2/2 [==============================] - 0s 8ms/step - loss: 1.4370 - accuracy: 0.4255\n",
            "Epoch 126/500\n",
            "2/2 [==============================] - 0s 9ms/step - loss: 1.4260 - accuracy: 0.4468\n",
            "Epoch 127/500\n",
            "2/2 [==============================] - 0s 8ms/step - loss: 1.4136 - accuracy: 0.4681\n",
            "Epoch 128/500\n",
            "2/2 [==============================] - 0s 8ms/step - loss: 1.4027 - accuracy: 0.4681\n",
            "Epoch 129/500\n",
            "2/2 [==============================] - 0s 8ms/step - loss: 1.3925 - accuracy: 0.4681\n",
            "Epoch 130/500\n",
            "2/2 [==============================] - 0s 8ms/step - loss: 1.3808 - accuracy: 0.4681\n",
            "Epoch 131/500\n",
            "2/2 [==============================] - 0s 8ms/step - loss: 1.3708 - accuracy: 0.4681\n",
            "Epoch 132/500\n",
            "2/2 [==============================] - 0s 8ms/step - loss: 1.3604 - accuracy: 0.4681\n",
            "Epoch 133/500\n",
            "2/2 [==============================] - 0s 8ms/step - loss: 1.3494 - accuracy: 0.4681\n",
            "Epoch 134/500\n",
            "2/2 [==============================] - 0s 8ms/step - loss: 1.3381 - accuracy: 0.4681\n",
            "Epoch 135/500\n",
            "2/2 [==============================] - 0s 8ms/step - loss: 1.3269 - accuracy: 0.4681\n",
            "Epoch 136/500\n",
            "2/2 [==============================] - 0s 8ms/step - loss: 1.3166 - accuracy: 0.4681\n",
            "Epoch 137/500\n",
            "2/2 [==============================] - 0s 8ms/step - loss: 1.3057 - accuracy: 0.4681\n",
            "Epoch 138/500\n",
            "2/2 [==============================] - 0s 8ms/step - loss: 1.2947 - accuracy: 0.4681\n",
            "Epoch 139/500\n",
            "2/2 [==============================] - 0s 8ms/step - loss: 1.2849 - accuracy: 0.4681\n",
            "Epoch 140/500\n",
            "2/2 [==============================] - 0s 8ms/step - loss: 1.2737 - accuracy: 0.5106\n",
            "Epoch 141/500\n",
            "2/2 [==============================] - 0s 9ms/step - loss: 1.2629 - accuracy: 0.5106\n",
            "Epoch 142/500\n",
            "2/2 [==============================] - 0s 8ms/step - loss: 1.2519 - accuracy: 0.5106\n",
            "Epoch 143/500\n",
            "2/2 [==============================] - 0s 8ms/step - loss: 1.2414 - accuracy: 0.5106\n",
            "Epoch 144/500\n",
            "2/2 [==============================] - 0s 8ms/step - loss: 1.2312 - accuracy: 0.5319\n",
            "Epoch 145/500\n",
            "2/2 [==============================] - 0s 8ms/step - loss: 1.2207 - accuracy: 0.5319\n",
            "Epoch 146/500\n",
            "2/2 [==============================] - 0s 8ms/step - loss: 1.2101 - accuracy: 0.5532\n",
            "Epoch 147/500\n",
            "2/2 [==============================] - 0s 8ms/step - loss: 1.1996 - accuracy: 0.5532\n",
            "Epoch 148/500\n",
            "2/2 [==============================] - 0s 8ms/step - loss: 1.1899 - accuracy: 0.5532\n",
            "Epoch 149/500\n",
            "2/2 [==============================] - 0s 8ms/step - loss: 1.1793 - accuracy: 0.5532\n",
            "Epoch 150/500\n",
            "2/2 [==============================] - 0s 8ms/step - loss: 1.1689 - accuracy: 0.5745\n",
            "Epoch 151/500\n",
            "2/2 [==============================] - 0s 10ms/step - loss: 1.1594 - accuracy: 0.5745\n",
            "Epoch 152/500\n",
            "2/2 [==============================] - 0s 9ms/step - loss: 1.1485 - accuracy: 0.5745\n",
            "Epoch 153/500\n",
            "2/2 [==============================] - 0s 13ms/step - loss: 1.1380 - accuracy: 0.5957\n",
            "Epoch 154/500\n",
            "2/2 [==============================] - 0s 8ms/step - loss: 1.1280 - accuracy: 0.6383\n",
            "Epoch 155/500\n",
            "2/2 [==============================] - 0s 8ms/step - loss: 1.1182 - accuracy: 0.6170\n",
            "Epoch 156/500\n",
            "2/2 [==============================] - 0s 9ms/step - loss: 1.1078 - accuracy: 0.6170\n",
            "Epoch 157/500\n",
            "2/2 [==============================] - 0s 9ms/step - loss: 1.0983 - accuracy: 0.6383\n",
            "Epoch 158/500\n",
            "2/2 [==============================] - 0s 9ms/step - loss: 1.0883 - accuracy: 0.6383\n",
            "Epoch 159/500\n",
            "2/2 [==============================] - 0s 8ms/step - loss: 1.0780 - accuracy: 0.6170\n",
            "Epoch 160/500\n",
            "2/2 [==============================] - 0s 8ms/step - loss: 1.0687 - accuracy: 0.6383\n",
            "Epoch 161/500\n",
            "2/2 [==============================] - 0s 13ms/step - loss: 1.0584 - accuracy: 0.6383\n",
            "Epoch 162/500\n",
            "2/2 [==============================] - 0s 8ms/step - loss: 1.0484 - accuracy: 0.6383\n",
            "Epoch 163/500\n",
            "2/2 [==============================] - 0s 8ms/step - loss: 1.0396 - accuracy: 0.6383\n",
            "Epoch 164/500\n",
            "2/2 [==============================] - 0s 9ms/step - loss: 1.0304 - accuracy: 0.6383\n",
            "Epoch 165/500\n",
            "2/2 [==============================] - 0s 11ms/step - loss: 1.0209 - accuracy: 0.6596\n",
            "Epoch 166/500\n",
            "2/2 [==============================] - 0s 11ms/step - loss: 1.0109 - accuracy: 0.6596\n",
            "Epoch 167/500\n",
            "2/2 [==============================] - 0s 9ms/step - loss: 1.0013 - accuracy: 0.6596\n",
            "Epoch 168/500\n",
            "2/2 [==============================] - 0s 11ms/step - loss: 0.9917 - accuracy: 0.6596\n",
            "Epoch 169/500\n",
            "2/2 [==============================] - 0s 8ms/step - loss: 0.9818 - accuracy: 0.6809\n",
            "Epoch 170/500\n",
            "2/2 [==============================] - 0s 11ms/step - loss: 0.9722 - accuracy: 0.6809\n",
            "Epoch 171/500\n",
            "2/2 [==============================] - 0s 10ms/step - loss: 0.9631 - accuracy: 0.7234\n",
            "Epoch 172/500\n",
            "2/2 [==============================] - 0s 9ms/step - loss: 0.9536 - accuracy: 0.7234\n",
            "Epoch 173/500\n",
            "2/2 [==============================] - 0s 9ms/step - loss: 0.9449 - accuracy: 0.7234\n",
            "Epoch 174/500\n",
            "2/2 [==============================] - 0s 8ms/step - loss: 0.9357 - accuracy: 0.7447\n",
            "Epoch 175/500\n",
            "2/2 [==============================] - 0s 8ms/step - loss: 0.9263 - accuracy: 0.7447\n",
            "Epoch 176/500\n",
            "2/2 [==============================] - 0s 8ms/step - loss: 0.9175 - accuracy: 0.7447\n",
            "Epoch 177/500\n",
            "2/2 [==============================] - 0s 8ms/step - loss: 0.9075 - accuracy: 0.7660\n",
            "Epoch 178/500\n",
            "2/2 [==============================] - 0s 8ms/step - loss: 0.8984 - accuracy: 0.7660\n",
            "Epoch 179/500\n",
            "2/2 [==============================] - 0s 8ms/step - loss: 0.8897 - accuracy: 0.7660\n",
            "Epoch 180/500\n",
            "2/2 [==============================] - 0s 9ms/step - loss: 0.8809 - accuracy: 0.7660\n",
            "Epoch 181/500\n",
            "2/2 [==============================] - 0s 8ms/step - loss: 0.8725 - accuracy: 0.7447\n",
            "Epoch 182/500\n",
            "2/2 [==============================] - 0s 8ms/step - loss: 0.8635 - accuracy: 0.7447\n",
            "Epoch 183/500\n",
            "2/2 [==============================] - 0s 9ms/step - loss: 0.8542 - accuracy: 0.7660\n",
            "Epoch 184/500\n",
            "2/2 [==============================] - 0s 9ms/step - loss: 0.8459 - accuracy: 0.7872\n",
            "Epoch 185/500\n",
            "2/2 [==============================] - 0s 11ms/step - loss: 0.8381 - accuracy: 0.8298\n",
            "Epoch 186/500\n",
            "2/2 [==============================] - 0s 9ms/step - loss: 0.8290 - accuracy: 0.8298\n",
            "Epoch 187/500\n",
            "2/2 [==============================] - 0s 9ms/step - loss: 0.8210 - accuracy: 0.8298\n",
            "Epoch 188/500\n",
            "2/2 [==============================] - 0s 8ms/step - loss: 0.8124 - accuracy: 0.7660\n",
            "Epoch 189/500\n",
            "2/2 [==============================] - 0s 8ms/step - loss: 0.8041 - accuracy: 0.7234\n",
            "Epoch 190/500\n",
            "2/2 [==============================] - 0s 9ms/step - loss: 0.7964 - accuracy: 0.7234\n",
            "Epoch 191/500\n",
            "2/2 [==============================] - 0s 8ms/step - loss: 0.7880 - accuracy: 0.7447\n",
            "Epoch 192/500\n",
            "2/2 [==============================] - 0s 9ms/step - loss: 0.7799 - accuracy: 0.7447\n",
            "Epoch 193/500\n",
            "2/2 [==============================] - 0s 7ms/step - loss: 0.7722 - accuracy: 0.7447\n",
            "Epoch 194/500\n",
            "2/2 [==============================] - 0s 8ms/step - loss: 0.7636 - accuracy: 0.7447\n",
            "Epoch 195/500\n",
            "2/2 [==============================] - 0s 9ms/step - loss: 0.7552 - accuracy: 0.7660\n",
            "Epoch 196/500\n",
            "2/2 [==============================] - 0s 8ms/step - loss: 0.7472 - accuracy: 0.7660\n",
            "Epoch 197/500\n",
            "2/2 [==============================] - 0s 9ms/step - loss: 0.7391 - accuracy: 0.8085\n",
            "Epoch 198/500\n",
            "2/2 [==============================] - 0s 9ms/step - loss: 0.7310 - accuracy: 0.8511\n",
            "Epoch 199/500\n",
            "2/2 [==============================] - 0s 9ms/step - loss: 0.7225 - accuracy: 0.8511\n",
            "Epoch 200/500\n",
            "2/2 [==============================] - 0s 9ms/step - loss: 0.7139 - accuracy: 0.8511\n",
            "Epoch 201/500\n",
            "2/2 [==============================] - 0s 8ms/step - loss: 0.7075 - accuracy: 0.8511\n",
            "Epoch 202/500\n",
            "2/2 [==============================] - 0s 8ms/step - loss: 0.6987 - accuracy: 0.8511\n",
            "Epoch 203/500\n",
            "2/2 [==============================] - 0s 8ms/step - loss: 0.6912 - accuracy: 0.8936\n",
            "Epoch 204/500\n",
            "2/2 [==============================] - 0s 8ms/step - loss: 0.6833 - accuracy: 0.9149\n",
            "Epoch 205/500\n",
            "2/2 [==============================] - 0s 8ms/step - loss: 0.6758 - accuracy: 0.9149\n",
            "Epoch 206/500\n",
            "2/2 [==============================] - 0s 10ms/step - loss: 0.6693 - accuracy: 0.9149\n",
            "Epoch 207/500\n",
            "2/2 [==============================] - 0s 16ms/step - loss: 0.6616 - accuracy: 0.9149\n",
            "Epoch 208/500\n",
            "2/2 [==============================] - 0s 10ms/step - loss: 0.6541 - accuracy: 0.8936\n",
            "Epoch 209/500\n",
            "2/2 [==============================] - 0s 9ms/step - loss: 0.6466 - accuracy: 0.8936\n",
            "Epoch 210/500\n",
            "2/2 [==============================] - 0s 9ms/step - loss: 0.6390 - accuracy: 0.9149\n",
            "Epoch 211/500\n",
            "2/2 [==============================] - 0s 9ms/step - loss: 0.6312 - accuracy: 0.9149\n",
            "Epoch 212/500\n",
            "2/2 [==============================] - 0s 8ms/step - loss: 0.6239 - accuracy: 0.9149\n",
            "Epoch 213/500\n",
            "2/2 [==============================] - 0s 8ms/step - loss: 0.6174 - accuracy: 0.9149\n",
            "Epoch 214/500\n",
            "2/2 [==============================] - 0s 8ms/step - loss: 0.6103 - accuracy: 0.9149\n",
            "Epoch 215/500\n",
            "2/2 [==============================] - 0s 11ms/step - loss: 0.6037 - accuracy: 0.9149\n",
            "Epoch 216/500\n",
            "2/2 [==============================] - 0s 9ms/step - loss: 0.5962 - accuracy: 0.9149\n",
            "Epoch 217/500\n",
            "2/2 [==============================] - 0s 14ms/step - loss: 0.5901 - accuracy: 0.9149\n",
            "Epoch 218/500\n",
            "2/2 [==============================] - 0s 12ms/step - loss: 0.5826 - accuracy: 0.9149\n",
            "Epoch 219/500\n",
            "2/2 [==============================] - 0s 10ms/step - loss: 0.5757 - accuracy: 0.9149\n",
            "Epoch 220/500\n",
            "2/2 [==============================] - 0s 10ms/step - loss: 0.5689 - accuracy: 0.9149\n",
            "Epoch 221/500\n",
            "2/2 [==============================] - 0s 11ms/step - loss: 0.5625 - accuracy: 0.9362\n",
            "Epoch 222/500\n",
            "2/2 [==============================] - 0s 10ms/step - loss: 0.5554 - accuracy: 0.9362\n",
            "Epoch 223/500\n",
            "2/2 [==============================] - 0s 12ms/step - loss: 0.5488 - accuracy: 0.9362\n",
            "Epoch 224/500\n",
            "2/2 [==============================] - 0s 9ms/step - loss: 0.5435 - accuracy: 0.9362\n",
            "Epoch 225/500\n",
            "2/2 [==============================] - 0s 10ms/step - loss: 0.5374 - accuracy: 0.9362\n",
            "Epoch 226/500\n",
            "2/2 [==============================] - 0s 10ms/step - loss: 0.5306 - accuracy: 0.9362\n",
            "Epoch 227/500\n",
            "2/2 [==============================] - 0s 10ms/step - loss: 0.5238 - accuracy: 0.9362\n",
            "Epoch 228/500\n",
            "2/2 [==============================] - 0s 10ms/step - loss: 0.5185 - accuracy: 0.9362\n",
            "Epoch 229/500\n",
            "2/2 [==============================] - 0s 10ms/step - loss: 0.5123 - accuracy: 0.9362\n",
            "Epoch 230/500\n",
            "2/2 [==============================] - 0s 10ms/step - loss: 0.5063 - accuracy: 0.9362\n",
            "Epoch 231/500\n",
            "2/2 [==============================] - 0s 10ms/step - loss: 0.5022 - accuracy: 0.9362\n",
            "Epoch 232/500\n",
            "2/2 [==============================] - 0s 10ms/step - loss: 0.4939 - accuracy: 0.9362\n",
            "Epoch 233/500\n",
            "2/2 [==============================] - 0s 10ms/step - loss: 0.4879 - accuracy: 0.9574\n",
            "Epoch 234/500\n",
            "2/2 [==============================] - 0s 14ms/step - loss: 0.4833 - accuracy: 0.9574\n",
            "Epoch 235/500\n",
            "2/2 [==============================] - 0s 10ms/step - loss: 0.4764 - accuracy: 0.9574\n",
            "Epoch 236/500\n",
            "2/2 [==============================] - 0s 10ms/step - loss: 0.4706 - accuracy: 0.9574\n",
            "Epoch 237/500\n",
            "2/2 [==============================] - 0s 9ms/step - loss: 0.4652 - accuracy: 0.9787\n",
            "Epoch 238/500\n",
            "2/2 [==============================] - 0s 10ms/step - loss: 0.4606 - accuracy: 0.9787\n",
            "Epoch 239/500\n",
            "2/2 [==============================] - 0s 10ms/step - loss: 0.4543 - accuracy: 0.9787\n",
            "Epoch 240/500\n",
            "2/2 [==============================] - 0s 10ms/step - loss: 0.4483 - accuracy: 0.9787\n",
            "Epoch 241/500\n",
            "2/2 [==============================] - 0s 10ms/step - loss: 0.4426 - accuracy: 0.9787\n",
            "Epoch 242/500\n",
            "2/2 [==============================] - 0s 10ms/step - loss: 0.4371 - accuracy: 1.0000\n",
            "Epoch 243/500\n",
            "2/2 [==============================] - 0s 10ms/step - loss: 0.4318 - accuracy: 1.0000\n",
            "Epoch 244/500\n",
            "2/2 [==============================] - 0s 10ms/step - loss: 0.4273 - accuracy: 1.0000\n",
            "Epoch 245/500\n",
            "2/2 [==============================] - 0s 10ms/step - loss: 0.4221 - accuracy: 1.0000\n",
            "Epoch 246/500\n",
            "2/2 [==============================] - 0s 10ms/step - loss: 0.4171 - accuracy: 1.0000\n",
            "Epoch 247/500\n",
            "2/2 [==============================] - 0s 10ms/step - loss: 0.4115 - accuracy: 1.0000\n",
            "Epoch 248/500\n",
            "2/2 [==============================] - 0s 9ms/step - loss: 0.4065 - accuracy: 1.0000\n",
            "Epoch 249/500\n",
            "2/2 [==============================] - 0s 10ms/step - loss: 0.4020 - accuracy: 1.0000\n",
            "Epoch 250/500\n",
            "2/2 [==============================] - 0s 12ms/step - loss: 0.3970 - accuracy: 1.0000\n",
            "Epoch 251/500\n",
            "2/2 [==============================] - 0s 11ms/step - loss: 0.3922 - accuracy: 1.0000\n",
            "Epoch 252/500\n",
            "2/2 [==============================] - 0s 11ms/step - loss: 0.3863 - accuracy: 1.0000\n",
            "Epoch 253/500\n",
            "2/2 [==============================] - 0s 11ms/step - loss: 0.3825 - accuracy: 1.0000\n",
            "Epoch 254/500\n",
            "2/2 [==============================] - 0s 11ms/step - loss: 0.3782 - accuracy: 1.0000\n",
            "Epoch 255/500\n",
            "2/2 [==============================] - 0s 14ms/step - loss: 0.3724 - accuracy: 1.0000\n",
            "Epoch 256/500\n",
            "2/2 [==============================] - 0s 12ms/step - loss: 0.3682 - accuracy: 1.0000\n",
            "Epoch 257/500\n",
            "2/2 [==============================] - 0s 13ms/step - loss: 0.3635 - accuracy: 1.0000\n",
            "Epoch 258/500\n",
            "2/2 [==============================] - 0s 10ms/step - loss: 0.3587 - accuracy: 1.0000\n",
            "Epoch 259/500\n",
            "2/2 [==============================] - 0s 9ms/step - loss: 0.3546 - accuracy: 1.0000\n",
            "Epoch 260/500\n",
            "2/2 [==============================] - 0s 10ms/step - loss: 0.3504 - accuracy: 1.0000\n",
            "Epoch 261/500\n",
            "2/2 [==============================] - 0s 10ms/step - loss: 0.3461 - accuracy: 1.0000\n",
            "Epoch 262/500\n",
            "2/2 [==============================] - 0s 12ms/step - loss: 0.3433 - accuracy: 0.9787\n",
            "Epoch 263/500\n",
            "2/2 [==============================] - 0s 10ms/step - loss: 0.3387 - accuracy: 1.0000\n",
            "Epoch 264/500\n",
            "2/2 [==============================] - 0s 11ms/step - loss: 0.3342 - accuracy: 1.0000\n",
            "Epoch 265/500\n",
            "2/2 [==============================] - 0s 9ms/step - loss: 0.3295 - accuracy: 1.0000\n",
            "Epoch 266/500\n",
            "2/2 [==============================] - 0s 12ms/step - loss: 0.3254 - accuracy: 1.0000\n",
            "Epoch 267/500\n",
            "2/2 [==============================] - 0s 11ms/step - loss: 0.3213 - accuracy: 1.0000\n",
            "Epoch 268/500\n",
            "2/2 [==============================] - 0s 10ms/step - loss: 0.3167 - accuracy: 1.0000\n",
            "Epoch 269/500\n",
            "2/2 [==============================] - 0s 11ms/step - loss: 0.3133 - accuracy: 1.0000\n",
            "Epoch 270/500\n",
            "2/2 [==============================] - 0s 16ms/step - loss: 0.3094 - accuracy: 1.0000\n",
            "Epoch 271/500\n",
            "2/2 [==============================] - 0s 10ms/step - loss: 0.3049 - accuracy: 1.0000\n",
            "Epoch 272/500\n",
            "2/2 [==============================] - 0s 10ms/step - loss: 0.3010 - accuracy: 1.0000\n",
            "Epoch 273/500\n",
            "2/2 [==============================] - 0s 9ms/step - loss: 0.2985 - accuracy: 1.0000\n",
            "Epoch 274/500\n",
            "2/2 [==============================] - 0s 12ms/step - loss: 0.2946 - accuracy: 1.0000\n",
            "Epoch 275/500\n",
            "2/2 [==============================] - 0s 13ms/step - loss: 0.2903 - accuracy: 1.0000\n",
            "Epoch 276/500\n",
            "2/2 [==============================] - 0s 13ms/step - loss: 0.2868 - accuracy: 1.0000\n",
            "Epoch 277/500\n",
            "2/2 [==============================] - 0s 11ms/step - loss: 0.2830 - accuracy: 1.0000\n",
            "Epoch 278/500\n",
            "2/2 [==============================] - 0s 10ms/step - loss: 0.2793 - accuracy: 1.0000\n",
            "Epoch 279/500\n",
            "2/2 [==============================] - 0s 9ms/step - loss: 0.2757 - accuracy: 1.0000\n",
            "Epoch 280/500\n",
            "2/2 [==============================] - 0s 11ms/step - loss: 0.2719 - accuracy: 1.0000\n",
            "Epoch 281/500\n",
            "2/2 [==============================] - 0s 15ms/step - loss: 0.2681 - accuracy: 1.0000\n",
            "Epoch 282/500\n",
            "2/2 [==============================] - 0s 12ms/step - loss: 0.2647 - accuracy: 1.0000\n",
            "Epoch 283/500\n",
            "2/2 [==============================] - 0s 10ms/step - loss: 0.2616 - accuracy: 1.0000\n",
            "Epoch 284/500\n",
            "2/2 [==============================] - 0s 12ms/step - loss: 0.2580 - accuracy: 1.0000\n",
            "Epoch 285/500\n",
            "2/2 [==============================] - 0s 10ms/step - loss: 0.2544 - accuracy: 1.0000\n",
            "Epoch 286/500\n",
            "2/2 [==============================] - 0s 14ms/step - loss: 0.2511 - accuracy: 1.0000\n",
            "Epoch 287/500\n",
            "2/2 [==============================] - 0s 13ms/step - loss: 0.2479 - accuracy: 1.0000\n",
            "Epoch 288/500\n",
            "2/2 [==============================] - 0s 9ms/step - loss: 0.2448 - accuracy: 1.0000\n",
            "Epoch 289/500\n",
            "2/2 [==============================] - 0s 13ms/step - loss: 0.2414 - accuracy: 1.0000\n",
            "Epoch 290/500\n",
            "2/2 [==============================] - 0s 10ms/step - loss: 0.2384 - accuracy: 1.0000\n",
            "Epoch 291/500\n",
            "2/2 [==============================] - 0s 12ms/step - loss: 0.2351 - accuracy: 1.0000\n",
            "Epoch 292/500\n",
            "2/2 [==============================] - 0s 9ms/step - loss: 0.2324 - accuracy: 1.0000\n",
            "Epoch 293/500\n",
            "2/2 [==============================] - 0s 10ms/step - loss: 0.2292 - accuracy: 1.0000\n",
            "Epoch 294/500\n",
            "2/2 [==============================] - 0s 9ms/step - loss: 0.2261 - accuracy: 1.0000\n",
            "Epoch 295/500\n",
            "2/2 [==============================] - 0s 10ms/step - loss: 0.2229 - accuracy: 1.0000\n",
            "Epoch 296/500\n",
            "2/2 [==============================] - 0s 10ms/step - loss: 0.2201 - accuracy: 1.0000\n",
            "Epoch 297/500\n",
            "2/2 [==============================] - 0s 9ms/step - loss: 0.2172 - accuracy: 1.0000\n",
            "Epoch 298/500\n",
            "2/2 [==============================] - 0s 10ms/step - loss: 0.2143 - accuracy: 1.0000\n",
            "Epoch 299/500\n",
            "2/2 [==============================] - 0s 10ms/step - loss: 0.2117 - accuracy: 1.0000\n",
            "Epoch 300/500\n",
            "2/2 [==============================] - 0s 14ms/step - loss: 0.2085 - accuracy: 1.0000\n",
            "Epoch 301/500\n",
            "2/2 [==============================] - 0s 13ms/step - loss: 0.2062 - accuracy: 1.0000\n",
            "Epoch 302/500\n",
            "2/2 [==============================] - 0s 14ms/step - loss: 0.2030 - accuracy: 1.0000\n",
            "Epoch 303/500\n",
            "2/2 [==============================] - 0s 13ms/step - loss: 0.2007 - accuracy: 1.0000\n",
            "Epoch 304/500\n",
            "2/2 [==============================] - 0s 9ms/step - loss: 0.1980 - accuracy: 1.0000\n",
            "Epoch 305/500\n",
            "2/2 [==============================] - 0s 10ms/step - loss: 0.1956 - accuracy: 1.0000\n",
            "Epoch 306/500\n",
            "2/2 [==============================] - 0s 10ms/step - loss: 0.1929 - accuracy: 1.0000\n",
            "Epoch 307/500\n",
            "2/2 [==============================] - 0s 7ms/step - loss: 0.1900 - accuracy: 1.0000\n",
            "Epoch 308/500\n",
            "2/2 [==============================] - 0s 7ms/step - loss: 0.1876 - accuracy: 1.0000\n",
            "Epoch 309/500\n",
            "2/2 [==============================] - 0s 8ms/step - loss: 0.1850 - accuracy: 1.0000\n",
            "Epoch 310/500\n",
            "2/2 [==============================] - 0s 8ms/step - loss: 0.1828 - accuracy: 1.0000\n",
            "Epoch 311/500\n",
            "2/2 [==============================] - 0s 7ms/step - loss: 0.1798 - accuracy: 1.0000\n",
            "Epoch 312/500\n",
            "2/2 [==============================] - 0s 8ms/step - loss: 0.1777 - accuracy: 1.0000\n",
            "Epoch 313/500\n",
            "2/2 [==============================] - 0s 8ms/step - loss: 0.1754 - accuracy: 1.0000\n",
            "Epoch 314/500\n",
            "2/2 [==============================] - 0s 8ms/step - loss: 0.1728 - accuracy: 1.0000\n",
            "Epoch 315/500\n",
            "2/2 [==============================] - 0s 7ms/step - loss: 0.1702 - accuracy: 1.0000\n",
            "Epoch 316/500\n",
            "2/2 [==============================] - 0s 8ms/step - loss: 0.1680 - accuracy: 1.0000\n",
            "Epoch 317/500\n",
            "2/2 [==============================] - 0s 8ms/step - loss: 0.1661 - accuracy: 1.0000\n",
            "Epoch 318/500\n",
            "2/2 [==============================] - 0s 8ms/step - loss: 0.1641 - accuracy: 1.0000\n",
            "Epoch 319/500\n",
            "2/2 [==============================] - 0s 8ms/step - loss: 0.1615 - accuracy: 1.0000\n",
            "Epoch 320/500\n",
            "2/2 [==============================] - 0s 8ms/step - loss: 0.1595 - accuracy: 1.0000\n",
            "Epoch 321/500\n",
            "2/2 [==============================] - 0s 7ms/step - loss: 0.1575 - accuracy: 1.0000\n",
            "Epoch 322/500\n",
            "2/2 [==============================] - 0s 8ms/step - loss: 0.1552 - accuracy: 1.0000\n",
            "Epoch 323/500\n",
            "2/2 [==============================] - 0s 7ms/step - loss: 0.1532 - accuracy: 1.0000\n",
            "Epoch 324/500\n",
            "2/2 [==============================] - 0s 11ms/step - loss: 0.1511 - accuracy: 1.0000\n",
            "Epoch 325/500\n",
            "2/2 [==============================] - 0s 7ms/step - loss: 0.1492 - accuracy: 1.0000\n",
            "Epoch 326/500\n",
            "2/2 [==============================] - 0s 8ms/step - loss: 0.1475 - accuracy: 1.0000\n",
            "Epoch 327/500\n",
            "2/2 [==============================] - 0s 7ms/step - loss: 0.1452 - accuracy: 1.0000\n",
            "Epoch 328/500\n",
            "2/2 [==============================] - 0s 8ms/step - loss: 0.1434 - accuracy: 1.0000\n",
            "Epoch 329/500\n",
            "2/2 [==============================] - 0s 8ms/step - loss: 0.1418 - accuracy: 1.0000\n",
            "Epoch 330/500\n",
            "2/2 [==============================] - 0s 8ms/step - loss: 0.1401 - accuracy: 1.0000\n",
            "Epoch 331/500\n",
            "2/2 [==============================] - 0s 7ms/step - loss: 0.1382 - accuracy: 1.0000\n",
            "Epoch 332/500\n",
            "2/2 [==============================] - 0s 8ms/step - loss: 0.1364 - accuracy: 1.0000\n",
            "Epoch 333/500\n",
            "2/2 [==============================] - 0s 7ms/step - loss: 0.1344 - accuracy: 1.0000\n",
            "Epoch 334/500\n",
            "2/2 [==============================] - 0s 7ms/step - loss: 0.1327 - accuracy: 1.0000\n",
            "Epoch 335/500\n",
            "2/2 [==============================] - 0s 7ms/step - loss: 0.1312 - accuracy: 1.0000\n",
            "Epoch 336/500\n",
            "2/2 [==============================] - 0s 8ms/step - loss: 0.1292 - accuracy: 1.0000\n",
            "Epoch 337/500\n",
            "2/2 [==============================] - 0s 7ms/step - loss: 0.1276 - accuracy: 1.0000\n",
            "Epoch 338/500\n",
            "2/2 [==============================] - 0s 8ms/step - loss: 0.1263 - accuracy: 1.0000\n",
            "Epoch 339/500\n",
            "2/2 [==============================] - 0s 8ms/step - loss: 0.1243 - accuracy: 1.0000\n",
            "Epoch 340/500\n",
            "2/2 [==============================] - 0s 8ms/step - loss: 0.1230 - accuracy: 1.0000\n",
            "Epoch 341/500\n",
            "2/2 [==============================] - 0s 7ms/step - loss: 0.1216 - accuracy: 1.0000\n",
            "Epoch 342/500\n",
            "2/2 [==============================] - 0s 7ms/step - loss: 0.1197 - accuracy: 1.0000\n",
            "Epoch 343/500\n",
            "2/2 [==============================] - 0s 8ms/step - loss: 0.1185 - accuracy: 1.0000\n",
            "Epoch 344/500\n",
            "2/2 [==============================] - 0s 8ms/step - loss: 0.1170 - accuracy: 1.0000\n",
            "Epoch 345/500\n",
            "2/2 [==============================] - 0s 9ms/step - loss: 0.1156 - accuracy: 1.0000\n",
            "Epoch 346/500\n",
            "2/2 [==============================] - 0s 9ms/step - loss: 0.1143 - accuracy: 1.0000\n",
            "Epoch 347/500\n",
            "2/2 [==============================] - 0s 8ms/step - loss: 0.1123 - accuracy: 1.0000\n",
            "Epoch 348/500\n",
            "2/2 [==============================] - 0s 8ms/step - loss: 0.1109 - accuracy: 1.0000\n",
            "Epoch 349/500\n",
            "2/2 [==============================] - 0s 8ms/step - loss: 0.1097 - accuracy: 1.0000\n",
            "Epoch 350/500\n",
            "2/2 [==============================] - 0s 8ms/step - loss: 0.1082 - accuracy: 1.0000\n",
            "Epoch 351/500\n",
            "2/2 [==============================] - 0s 8ms/step - loss: 0.1070 - accuracy: 1.0000\n",
            "Epoch 352/500\n",
            "2/2 [==============================] - 0s 8ms/step - loss: 0.1057 - accuracy: 1.0000\n",
            "Epoch 353/500\n",
            "2/2 [==============================] - 0s 8ms/step - loss: 0.1044 - accuracy: 1.0000\n",
            "Epoch 354/500\n",
            "2/2 [==============================] - 0s 9ms/step - loss: 0.1029 - accuracy: 1.0000\n",
            "Epoch 355/500\n",
            "2/2 [==============================] - 0s 8ms/step - loss: 0.1017 - accuracy: 1.0000\n",
            "Epoch 356/500\n",
            "2/2 [==============================] - 0s 8ms/step - loss: 0.1006 - accuracy: 1.0000\n",
            "Epoch 357/500\n",
            "2/2 [==============================] - 0s 8ms/step - loss: 0.0993 - accuracy: 1.0000\n",
            "Epoch 358/500\n",
            "2/2 [==============================] - 0s 8ms/step - loss: 0.0979 - accuracy: 1.0000\n",
            "Epoch 359/500\n",
            "2/2 [==============================] - 0s 8ms/step - loss: 0.0967 - accuracy: 1.0000\n",
            "Epoch 360/500\n",
            "2/2 [==============================] - 0s 8ms/step - loss: 0.0957 - accuracy: 1.0000\n",
            "Epoch 361/500\n",
            "2/2 [==============================] - 0s 9ms/step - loss: 0.0947 - accuracy: 1.0000\n",
            "Epoch 362/500\n",
            "2/2 [==============================] - 0s 12ms/step - loss: 0.0934 - accuracy: 1.0000\n",
            "Epoch 363/500\n",
            "2/2 [==============================] - 0s 11ms/step - loss: 0.0923 - accuracy: 1.0000\n",
            "Epoch 364/500\n",
            "2/2 [==============================] - 0s 9ms/step - loss: 0.0911 - accuracy: 1.0000\n",
            "Epoch 365/500\n",
            "2/2 [==============================] - 0s 8ms/step - loss: 0.0900 - accuracy: 1.0000\n",
            "Epoch 366/500\n",
            "2/2 [==============================] - 0s 8ms/step - loss: 0.0889 - accuracy: 1.0000\n",
            "Epoch 367/500\n",
            "2/2 [==============================] - 0s 7ms/step - loss: 0.0878 - accuracy: 1.0000\n",
            "Epoch 368/500\n",
            "2/2 [==============================] - 0s 8ms/step - loss: 0.0868 - accuracy: 1.0000\n",
            "Epoch 369/500\n",
            "2/2 [==============================] - 0s 8ms/step - loss: 0.0858 - accuracy: 1.0000\n",
            "Epoch 370/500\n",
            "2/2 [==============================] - 0s 8ms/step - loss: 0.0850 - accuracy: 1.0000\n",
            "Epoch 371/500\n",
            "2/2 [==============================] - 0s 8ms/step - loss: 0.0838 - accuracy: 1.0000\n",
            "Epoch 372/500\n",
            "2/2 [==============================] - 0s 8ms/step - loss: 0.0829 - accuracy: 1.0000\n",
            "Epoch 373/500\n",
            "2/2 [==============================] - 0s 8ms/step - loss: 0.0819 - accuracy: 1.0000\n",
            "Epoch 374/500\n",
            "2/2 [==============================] - 0s 8ms/step - loss: 0.0811 - accuracy: 1.0000\n",
            "Epoch 375/500\n",
            "2/2 [==============================] - 0s 8ms/step - loss: 0.0800 - accuracy: 1.0000\n",
            "Epoch 376/500\n",
            "2/2 [==============================] - 0s 8ms/step - loss: 0.0791 - accuracy: 1.0000\n",
            "Epoch 377/500\n",
            "2/2 [==============================] - 0s 10ms/step - loss: 0.0783 - accuracy: 1.0000\n",
            "Epoch 378/500\n",
            "2/2 [==============================] - 0s 8ms/step - loss: 0.0774 - accuracy: 1.0000\n",
            "Epoch 379/500\n",
            "2/2 [==============================] - 0s 8ms/step - loss: 0.0765 - accuracy: 1.0000\n",
            "Epoch 380/500\n",
            "2/2 [==============================] - 0s 8ms/step - loss: 0.0757 - accuracy: 1.0000\n",
            "Epoch 381/500\n",
            "2/2 [==============================] - 0s 8ms/step - loss: 0.0748 - accuracy: 1.0000\n",
            "Epoch 382/500\n",
            "2/2 [==============================] - 0s 11ms/step - loss: 0.0740 - accuracy: 1.0000\n",
            "Epoch 383/500\n",
            "2/2 [==============================] - 0s 7ms/step - loss: 0.0732 - accuracy: 1.0000\n",
            "Epoch 384/500\n",
            "2/2 [==============================] - 0s 7ms/step - loss: 0.0724 - accuracy: 1.0000\n",
            "Epoch 385/500\n",
            "2/2 [==============================] - 0s 11ms/step - loss: 0.0717 - accuracy: 1.0000\n",
            "Epoch 386/500\n",
            "2/2 [==============================] - 0s 8ms/step - loss: 0.0708 - accuracy: 1.0000\n",
            "Epoch 387/500\n",
            "2/2 [==============================] - 0s 8ms/step - loss: 0.0699 - accuracy: 1.0000\n",
            "Epoch 388/500\n",
            "2/2 [==============================] - 0s 7ms/step - loss: 0.0691 - accuracy: 1.0000\n",
            "Epoch 389/500\n",
            "2/2 [==============================] - 0s 7ms/step - loss: 0.0684 - accuracy: 1.0000\n",
            "Epoch 390/500\n",
            "2/2 [==============================] - 0s 7ms/step - loss: 0.0678 - accuracy: 1.0000\n",
            "Epoch 391/500\n",
            "2/2 [==============================] - 0s 7ms/step - loss: 0.0672 - accuracy: 1.0000\n",
            "Epoch 392/500\n",
            "2/2 [==============================] - 0s 7ms/step - loss: 0.0664 - accuracy: 1.0000\n",
            "Epoch 393/500\n",
            "2/2 [==============================] - 0s 7ms/step - loss: 0.0657 - accuracy: 1.0000\n",
            "Epoch 394/500\n",
            "2/2 [==============================] - 0s 8ms/step - loss: 0.0649 - accuracy: 1.0000\n",
            "Epoch 395/500\n",
            "2/2 [==============================] - 0s 7ms/step - loss: 0.0643 - accuracy: 1.0000\n",
            "Epoch 396/500\n",
            "2/2 [==============================] - 0s 8ms/step - loss: 0.0635 - accuracy: 1.0000\n",
            "Epoch 397/500\n",
            "2/2 [==============================] - 0s 8ms/step - loss: 0.0627 - accuracy: 1.0000\n",
            "Epoch 398/500\n",
            "2/2 [==============================] - 0s 7ms/step - loss: 0.0622 - accuracy: 1.0000\n",
            "Epoch 399/500\n",
            "2/2 [==============================] - 0s 7ms/step - loss: 0.0615 - accuracy: 1.0000\n",
            "Epoch 400/500\n",
            "2/2 [==============================] - 0s 8ms/step - loss: 0.0608 - accuracy: 1.0000\n",
            "Epoch 401/500\n",
            "2/2 [==============================] - 0s 7ms/step - loss: 0.0602 - accuracy: 1.0000\n",
            "Epoch 402/500\n",
            "2/2 [==============================] - 0s 9ms/step - loss: 0.0596 - accuracy: 1.0000\n",
            "Epoch 403/500\n",
            "2/2 [==============================] - 0s 9ms/step - loss: 0.0590 - accuracy: 1.0000\n",
            "Epoch 404/500\n",
            "2/2 [==============================] - 0s 8ms/step - loss: 0.0583 - accuracy: 1.0000\n",
            "Epoch 405/500\n",
            "2/2 [==============================] - 0s 8ms/step - loss: 0.0578 - accuracy: 1.0000\n",
            "Epoch 406/500\n",
            "2/2 [==============================] - 0s 8ms/step - loss: 0.0572 - accuracy: 1.0000\n",
            "Epoch 407/500\n",
            "2/2 [==============================] - 0s 7ms/step - loss: 0.0567 - accuracy: 1.0000\n",
            "Epoch 408/500\n",
            "2/2 [==============================] - 0s 8ms/step - loss: 0.0561 - accuracy: 1.0000\n",
            "Epoch 409/500\n",
            "2/2 [==============================] - 0s 7ms/step - loss: 0.0556 - accuracy: 1.0000\n",
            "Epoch 410/500\n",
            "2/2 [==============================] - 0s 8ms/step - loss: 0.0550 - accuracy: 1.0000\n",
            "Epoch 411/500\n",
            "2/2 [==============================] - 0s 8ms/step - loss: 0.0544 - accuracy: 1.0000\n",
            "Epoch 412/500\n",
            "2/2 [==============================] - 0s 7ms/step - loss: 0.0539 - accuracy: 1.0000\n",
            "Epoch 413/500\n",
            "2/2 [==============================] - 0s 7ms/step - loss: 0.0533 - accuracy: 1.0000\n",
            "Epoch 414/500\n",
            "2/2 [==============================] - 0s 8ms/step - loss: 0.0528 - accuracy: 1.0000\n",
            "Epoch 415/500\n",
            "2/2 [==============================] - 0s 8ms/step - loss: 0.0523 - accuracy: 1.0000\n",
            "Epoch 416/500\n",
            "2/2 [==============================] - 0s 7ms/step - loss: 0.0518 - accuracy: 1.0000\n",
            "Epoch 417/500\n",
            "2/2 [==============================] - 0s 8ms/step - loss: 0.0513 - accuracy: 1.0000\n",
            "Epoch 418/500\n",
            "2/2 [==============================] - 0s 8ms/step - loss: 0.0508 - accuracy: 1.0000\n",
            "Epoch 419/500\n",
            "2/2 [==============================] - 0s 8ms/step - loss: 0.0503 - accuracy: 1.0000\n",
            "Epoch 420/500\n",
            "2/2 [==============================] - 0s 8ms/step - loss: 0.0497 - accuracy: 1.0000\n",
            "Epoch 421/500\n",
            "2/2 [==============================] - 0s 8ms/step - loss: 0.0493 - accuracy: 1.0000\n",
            "Epoch 422/500\n",
            "2/2 [==============================] - 0s 10ms/step - loss: 0.0489 - accuracy: 1.0000\n",
            "Epoch 423/500\n",
            "2/2 [==============================] - 0s 8ms/step - loss: 0.0484 - accuracy: 1.0000\n",
            "Epoch 424/500\n",
            "2/2 [==============================] - 0s 15ms/step - loss: 0.0479 - accuracy: 1.0000\n",
            "Epoch 425/500\n",
            "2/2 [==============================] - 0s 10ms/step - loss: 0.0474 - accuracy: 1.0000\n",
            "Epoch 426/500\n",
            "2/2 [==============================] - 0s 10ms/step - loss: 0.0471 - accuracy: 1.0000\n",
            "Epoch 427/500\n",
            "2/2 [==============================] - 0s 9ms/step - loss: 0.0467 - accuracy: 1.0000\n",
            "Epoch 428/500\n",
            "2/2 [==============================] - 0s 10ms/step - loss: 0.0463 - accuracy: 1.0000\n",
            "Epoch 429/500\n",
            "2/2 [==============================] - 0s 9ms/step - loss: 0.0457 - accuracy: 1.0000\n",
            "Epoch 430/500\n",
            "2/2 [==============================] - 0s 11ms/step - loss: 0.0452 - accuracy: 1.0000\n",
            "Epoch 431/500\n",
            "2/2 [==============================] - 0s 9ms/step - loss: 0.0448 - accuracy: 1.0000\n",
            "Epoch 432/500\n",
            "2/2 [==============================] - 0s 9ms/step - loss: 0.0444 - accuracy: 1.0000\n",
            "Epoch 433/500\n",
            "2/2 [==============================] - 0s 9ms/step - loss: 0.0440 - accuracy: 1.0000\n",
            "Epoch 434/500\n",
            "2/2 [==============================] - 0s 8ms/step - loss: 0.0437 - accuracy: 1.0000\n",
            "Epoch 435/500\n",
            "2/2 [==============================] - 0s 11ms/step - loss: 0.0433 - accuracy: 1.0000\n",
            "Epoch 436/500\n",
            "2/2 [==============================] - 0s 9ms/step - loss: 0.0428 - accuracy: 1.0000\n",
            "Epoch 437/500\n",
            "2/2 [==============================] - 0s 10ms/step - loss: 0.0424 - accuracy: 1.0000\n",
            "Epoch 438/500\n",
            "2/2 [==============================] - 0s 9ms/step - loss: 0.0420 - accuracy: 1.0000\n",
            "Epoch 439/500\n",
            "2/2 [==============================] - 0s 9ms/step - loss: 0.0416 - accuracy: 1.0000\n",
            "Epoch 440/500\n",
            "2/2 [==============================] - 0s 9ms/step - loss: 0.0413 - accuracy: 1.0000\n",
            "Epoch 441/500\n",
            "2/2 [==============================] - 0s 9ms/step - loss: 0.0409 - accuracy: 1.0000\n",
            "Epoch 442/500\n",
            "2/2 [==============================] - 0s 8ms/step - loss: 0.0406 - accuracy: 1.0000\n",
            "Epoch 443/500\n",
            "2/2 [==============================] - 0s 9ms/step - loss: 0.0403 - accuracy: 1.0000\n",
            "Epoch 444/500\n",
            "2/2 [==============================] - 0s 9ms/step - loss: 0.0399 - accuracy: 1.0000\n",
            "Epoch 445/500\n",
            "2/2 [==============================] - 0s 9ms/step - loss: 0.0396 - accuracy: 1.0000\n",
            "Epoch 446/500\n",
            "2/2 [==============================] - 0s 10ms/step - loss: 0.0392 - accuracy: 1.0000\n",
            "Epoch 447/500\n",
            "2/2 [==============================] - 0s 10ms/step - loss: 0.0388 - accuracy: 1.0000\n",
            "Epoch 448/500\n",
            "2/2 [==============================] - 0s 9ms/step - loss: 0.0385 - accuracy: 1.0000\n",
            "Epoch 449/500\n",
            "2/2 [==============================] - 0s 10ms/step - loss: 0.0383 - accuracy: 1.0000\n",
            "Epoch 450/500\n",
            "2/2 [==============================] - 0s 9ms/step - loss: 0.0378 - accuracy: 1.0000\n",
            "Epoch 451/500\n",
            "2/2 [==============================] - 0s 10ms/step - loss: 0.0375 - accuracy: 1.0000\n",
            "Epoch 452/500\n",
            "2/2 [==============================] - 0s 10ms/step - loss: 0.0372 - accuracy: 1.0000\n",
            "Epoch 453/500\n",
            "2/2 [==============================] - 0s 10ms/step - loss: 0.0369 - accuracy: 1.0000\n",
            "Epoch 454/500\n",
            "2/2 [==============================] - 0s 10ms/step - loss: 0.0365 - accuracy: 1.0000\n",
            "Epoch 455/500\n",
            "2/2 [==============================] - 0s 10ms/step - loss: 0.0363 - accuracy: 1.0000\n",
            "Epoch 456/500\n",
            "2/2 [==============================] - 0s 10ms/step - loss: 0.0360 - accuracy: 1.0000\n",
            "Epoch 457/500\n",
            "2/2 [==============================] - 0s 11ms/step - loss: 0.0357 - accuracy: 1.0000\n",
            "Epoch 458/500\n",
            "2/2 [==============================] - 0s 11ms/step - loss: 0.0354 - accuracy: 1.0000\n",
            "Epoch 459/500\n",
            "2/2 [==============================] - 0s 10ms/step - loss: 0.0350 - accuracy: 1.0000\n",
            "Epoch 460/500\n",
            "2/2 [==============================] - 0s 11ms/step - loss: 0.0348 - accuracy: 1.0000\n",
            "Epoch 461/500\n",
            "2/2 [==============================] - 0s 11ms/step - loss: 0.0346 - accuracy: 1.0000\n",
            "Epoch 462/500\n",
            "2/2 [==============================] - 0s 11ms/step - loss: 0.0342 - accuracy: 1.0000\n",
            "Epoch 463/500\n",
            "2/2 [==============================] - 0s 10ms/step - loss: 0.0339 - accuracy: 1.0000\n",
            "Epoch 464/500\n",
            "2/2 [==============================] - 0s 11ms/step - loss: 0.0336 - accuracy: 1.0000\n",
            "Epoch 465/500\n",
            "2/2 [==============================] - 0s 11ms/step - loss: 0.0333 - accuracy: 1.0000\n",
            "Epoch 466/500\n",
            "2/2 [==============================] - 0s 10ms/step - loss: 0.0331 - accuracy: 1.0000\n",
            "Epoch 467/500\n",
            "2/2 [==============================] - 0s 11ms/step - loss: 0.0328 - accuracy: 1.0000\n",
            "Epoch 468/500\n",
            "2/2 [==============================] - 0s 10ms/step - loss: 0.0325 - accuracy: 1.0000\n",
            "Epoch 469/500\n",
            "2/2 [==============================] - 0s 10ms/step - loss: 0.0323 - accuracy: 1.0000\n",
            "Epoch 470/500\n",
            "2/2 [==============================] - 0s 9ms/step - loss: 0.0321 - accuracy: 1.0000\n",
            "Epoch 471/500\n",
            "2/2 [==============================] - 0s 13ms/step - loss: 0.0318 - accuracy: 1.0000\n",
            "Epoch 472/500\n",
            "2/2 [==============================] - 0s 9ms/step - loss: 0.0314 - accuracy: 1.0000\n",
            "Epoch 473/500\n",
            "2/2 [==============================] - 0s 14ms/step - loss: 0.0311 - accuracy: 1.0000\n",
            "Epoch 474/500\n",
            "2/2 [==============================] - 0s 10ms/step - loss: 0.0310 - accuracy: 1.0000\n",
            "Epoch 475/500\n",
            "2/2 [==============================] - 0s 10ms/step - loss: 0.0308 - accuracy: 1.0000\n",
            "Epoch 476/500\n",
            "2/2 [==============================] - 0s 10ms/step - loss: 0.0305 - accuracy: 1.0000\n",
            "Epoch 477/500\n",
            "2/2 [==============================] - 0s 9ms/step - loss: 0.0303 - accuracy: 1.0000\n",
            "Epoch 478/500\n",
            "2/2 [==============================] - 0s 9ms/step - loss: 0.0300 - accuracy: 1.0000\n",
            "Epoch 479/500\n",
            "2/2 [==============================] - 0s 10ms/step - loss: 0.0298 - accuracy: 1.0000\n",
            "Epoch 480/500\n",
            "2/2 [==============================] - 0s 9ms/step - loss: 0.0295 - accuracy: 1.0000\n",
            "Epoch 481/500\n",
            "2/2 [==============================] - 0s 10ms/step - loss: 0.0293 - accuracy: 1.0000\n",
            "Epoch 482/500\n",
            "2/2 [==============================] - 0s 9ms/step - loss: 0.0290 - accuracy: 1.0000\n",
            "Epoch 483/500\n",
            "2/2 [==============================] - 0s 10ms/step - loss: 0.0288 - accuracy: 1.0000\n",
            "Epoch 484/500\n",
            "2/2 [==============================] - 0s 11ms/step - loss: 0.0286 - accuracy: 1.0000\n",
            "Epoch 485/500\n",
            "2/2 [==============================] - 0s 15ms/step - loss: 0.0284 - accuracy: 1.0000\n",
            "Epoch 486/500\n",
            "2/2 [==============================] - 0s 14ms/step - loss: 0.0282 - accuracy: 1.0000\n",
            "Epoch 487/500\n",
            "2/2 [==============================] - 0s 10ms/step - loss: 0.0279 - accuracy: 1.0000\n",
            "Epoch 488/500\n",
            "2/2 [==============================] - 0s 10ms/step - loss: 0.0277 - accuracy: 1.0000\n",
            "Epoch 489/500\n",
            "2/2 [==============================] - 0s 9ms/step - loss: 0.0275 - accuracy: 1.0000\n",
            "Epoch 490/500\n",
            "2/2 [==============================] - 0s 9ms/step - loss: 0.0273 - accuracy: 1.0000\n",
            "Epoch 491/500\n",
            "2/2 [==============================] - 0s 10ms/step - loss: 0.0271 - accuracy: 1.0000\n",
            "Epoch 492/500\n",
            "2/2 [==============================] - 0s 10ms/step - loss: 0.0269 - accuracy: 1.0000\n",
            "Epoch 493/500\n",
            "2/2 [==============================] - 0s 10ms/step - loss: 0.0268 - accuracy: 1.0000\n",
            "Epoch 494/500\n",
            "2/2 [==============================] - 0s 9ms/step - loss: 0.0265 - accuracy: 1.0000\n",
            "Epoch 495/500\n",
            "2/2 [==============================] - 0s 9ms/step - loss: 0.0263 - accuracy: 1.0000\n",
            "Epoch 496/500\n",
            "2/2 [==============================] - 0s 10ms/step - loss: 0.0262 - accuracy: 1.0000\n",
            "Epoch 497/500\n",
            "2/2 [==============================] - 0s 10ms/step - loss: 0.0260 - accuracy: 1.0000\n",
            "Epoch 498/500\n",
            "2/2 [==============================] - 0s 11ms/step - loss: 0.0258 - accuracy: 1.0000\n",
            "Epoch 499/500\n",
            "2/2 [==============================] - 0s 10ms/step - loss: 0.0255 - accuracy: 1.0000\n",
            "Epoch 500/500\n",
            "2/2 [==============================] - 0s 9ms/step - loss: 0.0253 - accuracy: 1.0000\n"
          ]
        }
      ]
    },
    {
      "cell_type": "code",
      "source": [
        "!pip install colorama"
      ],
      "metadata": {
        "colab": {
          "base_uri": "https://localhost:8080/"
        },
        "id": "M20k0xIlHguY",
        "outputId": "ef7ef7ee-9263-4c5b-adc5-8c8b12e52094"
      },
      "execution_count": null,
      "outputs": [
        {
          "output_type": "stream",
          "name": "stdout",
          "text": [
            "Collecting colorama\n",
            "  Downloading colorama-0.4.6-py2.py3-none-any.whl (25 kB)\n",
            "Installing collected packages: colorama\n",
            "Successfully installed colorama-0.4.6\n"
          ]
        }
      ]
    },
    {
      "cell_type": "code",
      "source": [
        "import colorama\n",
        "colorama.init()\n",
        "from colorama import Fore, Style, Back\n",
        "import time\n",
        "import random\n",
        "import pickle\n",
        "\n",
        "with open(\"intents.json\") as file:\n",
        "    data = json.load(file)\n",
        "\n",
        "\n",
        "def chat():\n",
        "\n",
        "    # parameters\n",
        "    max_len = 20\n",
        "\n",
        "    while True:\n",
        "        print(Fore.LIGHTBLUE_EX + \"User: \" + Style.RESET_ALL, end=\"\")\n",
        "        inp = input()\n",
        "        if inp.lower() == \"quit\":\n",
        "            break\n",
        "\n",
        "        result = model.predict(keras.preprocessing.sequence.pad_sequences(tokenizer.texts_to_sequences([inp]),\n",
        "                                             truncating='post', maxlen=max_len), verbose=0)\n",
        "        tag = encoder.inverse_transform([np.argmax(result)])\n",
        "\n",
        "        for i in data['intents']:\n",
        "            if i['tag'] == tag:\n",
        "                seed = int(time.time())\n",
        "                np.random.seed(seed)\n",
        "                print(Fore.GREEN + \"ChatBot:\" + Style.RESET_ALL , np.random.choice(i['responses']))\n",
        "\n",
        "        # print(Fore.GREEN + \"ChatBot:\" + Style.RESET_ALL,random.choice(responses))\n",
        "\n",
        "print(Fore.YELLOW + \"Start messaging with the bot (type quit to stop)!\" + Style.RESET_ALL)\n"
      ],
      "metadata": {
        "colab": {
          "base_uri": "https://localhost:8080/"
        },
        "id": "mc9DqgbaDBKe",
        "outputId": "0151c2a6-3141-45ba-fd9c-af694a0602ab"
      },
      "execution_count": null,
      "outputs": [
        {
          "output_type": "stream",
          "name": "stdout",
          "text": [
            "Start messaging with the bot (type quit to stop)!\n"
          ]
        }
      ]
    },
    {
      "cell_type": "code",
      "source": [
        "training_sentences"
      ],
      "metadata": {
        "colab": {
          "base_uri": "https://localhost:8080/"
        },
        "id": "Gv6SM9ZzJC6l",
        "outputId": "e2fe1011-8c6f-47e6-af5d-91a30d164630"
      },
      "execution_count": null,
      "outputs": [
        {
          "output_type": "execute_result",
          "data": {
            "text/plain": [
              "['Hi there',\n",
              " 'How are you',\n",
              " 'Is anyone there?',\n",
              " 'Hey',\n",
              " 'Hola',\n",
              " 'Hello',\n",
              " 'Good day',\n",
              " 'Bye',\n",
              " 'See you later',\n",
              " 'Goodbye',\n",
              " 'Nice chatting to you, bye',\n",
              " 'Till next time',\n",
              " 'Thanks',\n",
              " 'Thank you',\n",
              " \"That's helpful\",\n",
              " 'Awesome, thanks',\n",
              " 'Thanks for helping me',\n",
              " 'How you could help me?',\n",
              " 'What you can do?',\n",
              " 'What help you provide?',\n",
              " 'How you can be helpful?',\n",
              " 'What support is offered',\n",
              " 'How to check Adverse drug reaction?',\n",
              " 'Open adverse drugs module',\n",
              " 'Give me a list of drugs causing adverse behavior',\n",
              " 'List all drugs suitable for patient with adverse reaction',\n",
              " 'Which drugs dont have adverse reaction?',\n",
              " 'Open blood pressure module',\n",
              " 'Task related to blood pressure',\n",
              " 'Blood pressure data entry',\n",
              " 'I want to log blood pressure results',\n",
              " 'Blood pressure data management',\n",
              " 'I want to search for blood pressure result history',\n",
              " 'Blood pressure for patient',\n",
              " 'Load patient blood pressure result',\n",
              " 'Show blood pressure results for patient',\n",
              " 'Find blood pressure results by ID',\n",
              " 'Find me a pharmacy',\n",
              " 'Find pharmacy',\n",
              " 'List of pharmacies nearby',\n",
              " 'Locate pharmacy',\n",
              " 'Search pharmacy',\n",
              " 'Lookup for hospital',\n",
              " 'Searching for hospital to transfer patient',\n",
              " 'I want to search hospital data',\n",
              " 'Hospital lookup for patient',\n",
              " 'Looking up hospital details']"
            ]
          },
          "metadata": {},
          "execution_count": 60
        }
      ]
    },
    {
      "cell_type": "code",
      "source": [
        "chat()"
      ],
      "metadata": {
        "colab": {
          "base_uri": "https://localhost:8080/"
        },
        "id": "hUIjAsczEzAV",
        "outputId": "af305fca-d9a1-4650-8f6c-2361bc2bdfc7"
      },
      "execution_count": null,
      "outputs": [
        {
          "output_type": "stream",
          "name": "stdout",
          "text": [
            "User: hello\n",
            "ChatBot: Hello, thanks for asking\n",
            "User: hello\n",
            "ChatBot: Good to see you again\n",
            "User: sarch pharmacy\n",
            "ChatBot: Please provide pharmacy name\n",
            "User: i want to search hospital to transfer patient\n",
            "ChatBot: Please provide hospital name or location\n",
            "User: good bye\n",
            "ChatBot: Have a nice day\n",
            "User: good bye\n",
            "ChatBot: See you!\n",
            "User: good bye\n",
            "ChatBot: Have a nice day\n",
            "User: "
          ]
        }
      ]
    },
    {
      "cell_type": "markdown",
      "source": [
        "# **ChatBot with Encoder and Decoder**"
      ],
      "metadata": {
        "id": "SwPqJO4idovk"
      }
    },
    {
      "cell_type": "code",
      "source": [
        "# Import packages\n",
        "\n",
        "import json\n",
        "import numpy as np\n",
        "import keras\n",
        "from keras.models import Sequential\n",
        "from keras.layers import Dense,Embedding,GlobalAveragePooling1D\n",
        "from keras.preprocessing.text import Tokenizer\n",
        "from keras.preprocessing.sequence import pad_sequences\n",
        "from sklearn.preprocessing import LabelEncoder\n",
        "import tensorflow as tf"
      ],
      "metadata": {
        "id": "0shcZXi_dtE5"
      },
      "execution_count": null,
      "outputs": []
    },
    {
      "cell_type": "code",
      "source": [
        "# Load data\n",
        "with open('intents.json') as file:\n",
        "    data = json.load(file)"
      ],
      "metadata": {
        "id": "l58xde9yd-y2"
      },
      "execution_count": null,
      "outputs": []
    },
    {
      "cell_type": "code",
      "source": [
        "# Visualize data\n",
        "data"
      ],
      "metadata": {
        "colab": {
          "base_uri": "https://localhost:8080/"
        },
        "id": "JokI2M0_d3VX",
        "outputId": "66caace6-312c-4c72-8bab-65dde39663a3"
      },
      "execution_count": null,
      "outputs": [
        {
          "output_type": "execute_result",
          "data": {
            "text/plain": [
              "{'intents': [{'tag': 'greeting',\n",
              "   'patterns': ['Hi there',\n",
              "    'How are you',\n",
              "    'Is anyone there?',\n",
              "    'Hey',\n",
              "    'Hola',\n",
              "    'Hello',\n",
              "    'Good day'],\n",
              "   'responses': ['Hello, thanks for asking',\n",
              "    'Good to see you again',\n",
              "    'Hi there, how can I help?'],\n",
              "   'context': ['']},\n",
              "  {'tag': 'goodbye',\n",
              "   'patterns': ['Bye',\n",
              "    'See you later',\n",
              "    'Goodbye',\n",
              "    'Nice chatting to you, bye',\n",
              "    'Till next time'],\n",
              "   'responses': ['See you!', 'Have a nice day', 'Bye! Come back again soon.'],\n",
              "   'context': ['']},\n",
              "  {'tag': 'thanks',\n",
              "   'patterns': ['Thanks',\n",
              "    'Thank you',\n",
              "    \"That's helpful\",\n",
              "    'Awesome, thanks',\n",
              "    'Thanks for helping me'],\n",
              "   'responses': ['Happy to help!', 'Any time!', 'My pleasure'],\n",
              "   'context': ['']},\n",
              "  {'tag': 'noanswer',\n",
              "   'patterns': [],\n",
              "   'responses': [\"Sorry, can't understand you\",\n",
              "    'Please give me more info',\n",
              "    'Not sure I understand'],\n",
              "   'context': ['']},\n",
              "  {'tag': 'options',\n",
              "   'patterns': ['How you could help me?',\n",
              "    'What you can do?',\n",
              "    'What help you provide?',\n",
              "    'How you can be helpful?',\n",
              "    'What support is offered'],\n",
              "   'responses': ['I can guide you through Adverse drug reaction list, Blood pressure tracking, Hospitals and Pharmacies',\n",
              "    'Offering support for Adverse drug reaction, Blood pressure, Hospitals and Pharmacies'],\n",
              "   'context': ['']},\n",
              "  {'tag': 'adverse_drug',\n",
              "   'patterns': ['How to check Adverse drug reaction?',\n",
              "    'Open adverse drugs module',\n",
              "    'Give me a list of drugs causing adverse behavior',\n",
              "    'List all drugs suitable for patient with adverse reaction',\n",
              "    'Which drugs dont have adverse reaction?'],\n",
              "   'responses': ['Navigating to Adverse drug reaction module'],\n",
              "   'context': ['']},\n",
              "  {'tag': 'blood_pressure',\n",
              "   'patterns': ['Open blood pressure module',\n",
              "    'Task related to blood pressure',\n",
              "    'Blood pressure data entry',\n",
              "    'I want to log blood pressure results',\n",
              "    'Blood pressure data management'],\n",
              "   'responses': ['Navigating to Blood Pressure module'],\n",
              "   'context': ['']},\n",
              "  {'tag': 'blood_pressure_search',\n",
              "   'patterns': ['I want to search for blood pressure result history',\n",
              "    'Blood pressure for patient',\n",
              "    'Load patient blood pressure result',\n",
              "    'Show blood pressure results for patient',\n",
              "    'Find blood pressure results by ID'],\n",
              "   'responses': ['Please provide Patient ID', 'Patient ID?'],\n",
              "   'context': ['search_blood_pressure_by_patient_id']},\n",
              "  {'tag': 'search_blood_pressure_by_patient_id',\n",
              "   'patterns': [],\n",
              "   'responses': ['Loading Blood pressure result for Patient'],\n",
              "   'context': ['']},\n",
              "  {'tag': 'pharmacy_search',\n",
              "   'patterns': ['Find me a pharmacy',\n",
              "    'Find pharmacy',\n",
              "    'List of pharmacies nearby',\n",
              "    'Locate pharmacy',\n",
              "    'Search pharmacy'],\n",
              "   'responses': ['Please provide pharmacy name'],\n",
              "   'context': ['search_pharmacy_by_name']},\n",
              "  {'tag': 'search_pharmacy_by_name',\n",
              "   'patterns': [],\n",
              "   'responses': ['Loading pharmacy details'],\n",
              "   'context': ['']},\n",
              "  {'tag': 'hospital_search',\n",
              "   'patterns': ['Lookup for hospital',\n",
              "    'Searching for hospital to transfer patient',\n",
              "    'I want to search hospital data',\n",
              "    'Hospital lookup for patient',\n",
              "    'Looking up hospital details'],\n",
              "   'responses': ['Please provide hospital name or location'],\n",
              "   'context': ['search_hospital_by_params']},\n",
              "  {'tag': 'search_hospital_by_params',\n",
              "   'patterns': [],\n",
              "   'responses': ['Please provide hospital type'],\n",
              "   'context': ['search_hospital_by_type']},\n",
              "  {'tag': 'search_hospital_by_type',\n",
              "   'patterns': [],\n",
              "   'responses': ['Loading hospital details'],\n",
              "   'context': ['']}]}"
            ]
          },
          "metadata": {},
          "execution_count": 4
        }
      ]
    },
    {
      "cell_type": "code",
      "source": [
        "# Load items\n",
        "items = []\n",
        "for intent in data['intents']:\n",
        "    for patterns in intent['patterns']:\n",
        "        for responses in intent['responses']:\n",
        "            items.append((patterns, responses))\n",
        "\n",
        "items"
      ],
      "metadata": {
        "colab": {
          "base_uri": "https://localhost:8080/"
        },
        "id": "WopaZTwoeHiZ",
        "outputId": "6b91adb7-bc69-442f-836b-d1c583c96572"
      },
      "execution_count": null,
      "outputs": [
        {
          "output_type": "execute_result",
          "data": {
            "text/plain": [
              "[('Hi there', 'Hello, thanks for asking'),\n",
              " ('Hi there', 'Good to see you again'),\n",
              " ('Hi there', 'Hi there, how can I help?'),\n",
              " ('How are you', 'Hello, thanks for asking'),\n",
              " ('How are you', 'Good to see you again'),\n",
              " ('How are you', 'Hi there, how can I help?'),\n",
              " ('Is anyone there?', 'Hello, thanks for asking'),\n",
              " ('Is anyone there?', 'Good to see you again'),\n",
              " ('Is anyone there?', 'Hi there, how can I help?'),\n",
              " ('Hey', 'Hello, thanks for asking'),\n",
              " ('Hey', 'Good to see you again'),\n",
              " ('Hey', 'Hi there, how can I help?'),\n",
              " ('Hola', 'Hello, thanks for asking'),\n",
              " ('Hola', 'Good to see you again'),\n",
              " ('Hola', 'Hi there, how can I help?'),\n",
              " ('Hello', 'Hello, thanks for asking'),\n",
              " ('Hello', 'Good to see you again'),\n",
              " ('Hello', 'Hi there, how can I help?'),\n",
              " ('Good day', 'Hello, thanks for asking'),\n",
              " ('Good day', 'Good to see you again'),\n",
              " ('Good day', 'Hi there, how can I help?'),\n",
              " ('Bye', 'See you!'),\n",
              " ('Bye', 'Have a nice day'),\n",
              " ('Bye', 'Bye! Come back again soon.'),\n",
              " ('See you later', 'See you!'),\n",
              " ('See you later', 'Have a nice day'),\n",
              " ('See you later', 'Bye! Come back again soon.'),\n",
              " ('Goodbye', 'See you!'),\n",
              " ('Goodbye', 'Have a nice day'),\n",
              " ('Goodbye', 'Bye! Come back again soon.'),\n",
              " ('Nice chatting to you, bye', 'See you!'),\n",
              " ('Nice chatting to you, bye', 'Have a nice day'),\n",
              " ('Nice chatting to you, bye', 'Bye! Come back again soon.'),\n",
              " ('Till next time', 'See you!'),\n",
              " ('Till next time', 'Have a nice day'),\n",
              " ('Till next time', 'Bye! Come back again soon.'),\n",
              " ('Thanks', 'Happy to help!'),\n",
              " ('Thanks', 'Any time!'),\n",
              " ('Thanks', 'My pleasure'),\n",
              " ('Thank you', 'Happy to help!'),\n",
              " ('Thank you', 'Any time!'),\n",
              " ('Thank you', 'My pleasure'),\n",
              " (\"That's helpful\", 'Happy to help!'),\n",
              " (\"That's helpful\", 'Any time!'),\n",
              " (\"That's helpful\", 'My pleasure'),\n",
              " ('Awesome, thanks', 'Happy to help!'),\n",
              " ('Awesome, thanks', 'Any time!'),\n",
              " ('Awesome, thanks', 'My pleasure'),\n",
              " ('Thanks for helping me', 'Happy to help!'),\n",
              " ('Thanks for helping me', 'Any time!'),\n",
              " ('Thanks for helping me', 'My pleasure'),\n",
              " ('How you could help me?',\n",
              "  'I can guide you through Adverse drug reaction list, Blood pressure tracking, Hospitals and Pharmacies'),\n",
              " ('How you could help me?',\n",
              "  'Offering support for Adverse drug reaction, Blood pressure, Hospitals and Pharmacies'),\n",
              " ('What you can do?',\n",
              "  'I can guide you through Adverse drug reaction list, Blood pressure tracking, Hospitals and Pharmacies'),\n",
              " ('What you can do?',\n",
              "  'Offering support for Adverse drug reaction, Blood pressure, Hospitals and Pharmacies'),\n",
              " ('What help you provide?',\n",
              "  'I can guide you through Adverse drug reaction list, Blood pressure tracking, Hospitals and Pharmacies'),\n",
              " ('What help you provide?',\n",
              "  'Offering support for Adverse drug reaction, Blood pressure, Hospitals and Pharmacies'),\n",
              " ('How you can be helpful?',\n",
              "  'I can guide you through Adverse drug reaction list, Blood pressure tracking, Hospitals and Pharmacies'),\n",
              " ('How you can be helpful?',\n",
              "  'Offering support for Adverse drug reaction, Blood pressure, Hospitals and Pharmacies'),\n",
              " ('What support is offered',\n",
              "  'I can guide you through Adverse drug reaction list, Blood pressure tracking, Hospitals and Pharmacies'),\n",
              " ('What support is offered',\n",
              "  'Offering support for Adverse drug reaction, Blood pressure, Hospitals and Pharmacies'),\n",
              " ('How to check Adverse drug reaction?',\n",
              "  'Navigating to Adverse drug reaction module'),\n",
              " ('Open adverse drugs module', 'Navigating to Adverse drug reaction module'),\n",
              " ('Give me a list of drugs causing adverse behavior',\n",
              "  'Navigating to Adverse drug reaction module'),\n",
              " ('List all drugs suitable for patient with adverse reaction',\n",
              "  'Navigating to Adverse drug reaction module'),\n",
              " ('Which drugs dont have adverse reaction?',\n",
              "  'Navigating to Adverse drug reaction module'),\n",
              " ('Open blood pressure module', 'Navigating to Blood Pressure module'),\n",
              " ('Task related to blood pressure', 'Navigating to Blood Pressure module'),\n",
              " ('Blood pressure data entry', 'Navigating to Blood Pressure module'),\n",
              " ('I want to log blood pressure results',\n",
              "  'Navigating to Blood Pressure module'),\n",
              " ('Blood pressure data management', 'Navigating to Blood Pressure module'),\n",
              " ('I want to search for blood pressure result history',\n",
              "  'Please provide Patient ID'),\n",
              " ('I want to search for blood pressure result history', 'Patient ID?'),\n",
              " ('Blood pressure for patient', 'Please provide Patient ID'),\n",
              " ('Blood pressure for patient', 'Patient ID?'),\n",
              " ('Load patient blood pressure result', 'Please provide Patient ID'),\n",
              " ('Load patient blood pressure result', 'Patient ID?'),\n",
              " ('Show blood pressure results for patient', 'Please provide Patient ID'),\n",
              " ('Show blood pressure results for patient', 'Patient ID?'),\n",
              " ('Find blood pressure results by ID', 'Please provide Patient ID'),\n",
              " ('Find blood pressure results by ID', 'Patient ID?'),\n",
              " ('Find me a pharmacy', 'Please provide pharmacy name'),\n",
              " ('Find pharmacy', 'Please provide pharmacy name'),\n",
              " ('List of pharmacies nearby', 'Please provide pharmacy name'),\n",
              " ('Locate pharmacy', 'Please provide pharmacy name'),\n",
              " ('Search pharmacy', 'Please provide pharmacy name'),\n",
              " ('Lookup for hospital', 'Please provide hospital name or location'),\n",
              " ('Searching for hospital to transfer patient',\n",
              "  'Please provide hospital name or location'),\n",
              " ('I want to search hospital data',\n",
              "  'Please provide hospital name or location'),\n",
              " ('Hospital lookup for patient', 'Please provide hospital name or location'),\n",
              " ('Looking up hospital details', 'Please provide hospital name or location')]"
            ]
          },
          "metadata": {},
          "execution_count": 6
        }
      ]
    },
    {
      "cell_type": "code",
      "source": [
        "len(items)"
      ],
      "metadata": {
        "colab": {
          "base_uri": "https://localhost:8080/"
        },
        "id": "Ru9mKXHgeeJg",
        "outputId": "c3414db8-7774-43e7-8e38-28b258a9c65b"
      },
      "execution_count": null,
      "outputs": [
        {
          "output_type": "execute_result",
          "data": {
            "text/plain": [
              "91"
            ]
          },
          "metadata": {},
          "execution_count": 7
        }
      ]
    },
    {
      "cell_type": "code",
      "source": [
        "# Get input and output\n",
        "input_texts = [i[0] for i in items]\n",
        "output_texts = [i[1] for i in items]"
      ],
      "metadata": {
        "id": "lWPO4KtXet3C"
      },
      "execution_count": null,
      "outputs": []
    },
    {
      "cell_type": "code",
      "source": [
        "input_texts[:20]"
      ],
      "metadata": {
        "colab": {
          "base_uri": "https://localhost:8080/"
        },
        "id": "ySGtMSxafIJD",
        "outputId": "0cea3929-b482-4fcb-cbde-10760663fc88"
      },
      "execution_count": null,
      "outputs": [
        {
          "output_type": "execute_result",
          "data": {
            "text/plain": [
              "['Hi there',\n",
              " 'Hi there',\n",
              " 'Hi there',\n",
              " 'How are you',\n",
              " 'How are you',\n",
              " 'How are you',\n",
              " 'Is anyone there?',\n",
              " 'Is anyone there?',\n",
              " 'Is anyone there?',\n",
              " 'Hey',\n",
              " 'Hey',\n",
              " 'Hey',\n",
              " 'Hola',\n",
              " 'Hola',\n",
              " 'Hola',\n",
              " 'Hello',\n",
              " 'Hello',\n",
              " 'Hello',\n",
              " 'Good day',\n",
              " 'Good day']"
            ]
          },
          "metadata": {},
          "execution_count": 9
        }
      ]
    },
    {
      "cell_type": "code",
      "source": [
        "output_texts[:20]"
      ],
      "metadata": {
        "colab": {
          "base_uri": "https://localhost:8080/"
        },
        "id": "NNi3RK7BfLLV",
        "outputId": "338cd2db-1628-4fc8-da05-401ecba908f1"
      },
      "execution_count": null,
      "outputs": [
        {
          "output_type": "execute_result",
          "data": {
            "text/plain": [
              "['Hello, thanks for asking',\n",
              " 'Good to see you again',\n",
              " 'Hi there, how can I help?',\n",
              " 'Hello, thanks for asking',\n",
              " 'Good to see you again',\n",
              " 'Hi there, how can I help?',\n",
              " 'Hello, thanks for asking',\n",
              " 'Good to see you again',\n",
              " 'Hi there, how can I help?',\n",
              " 'Hello, thanks for asking',\n",
              " 'Good to see you again',\n",
              " 'Hi there, how can I help?',\n",
              " 'Hello, thanks for asking',\n",
              " 'Good to see you again',\n",
              " 'Hi there, how can I help?',\n",
              " 'Hello, thanks for asking',\n",
              " 'Good to see you again',\n",
              " 'Hi there, how can I help?',\n",
              " 'Hello, thanks for asking',\n",
              " 'Good to see you again']"
            ]
          },
          "metadata": {},
          "execution_count": 10
        }
      ]
    },
    {
      "cell_type": "code",
      "source": [
        "# Create input encoder, output encoder (add start token), output decoder (add end token)\n",
        "input_encoder = input_texts\n",
        "input_decoder = ['start '+text for text in output_texts]\n",
        "output_decoder = [text+ ' end' for text in output_texts]\n",
        "input_decoder[:10]"
      ],
      "metadata": {
        "colab": {
          "base_uri": "https://localhost:8080/"
        },
        "id": "vjcEXE31g9-N",
        "outputId": "c46e2699-6fc5-49fe-c9e9-9e39e4fe125b"
      },
      "execution_count": null,
      "outputs": [
        {
          "output_type": "execute_result",
          "data": {
            "text/plain": [
              "['start Hello, thanks for asking',\n",
              " 'start Good to see you again',\n",
              " 'start Hi there, how can I help?',\n",
              " 'start Hello, thanks for asking',\n",
              " 'start Good to see you again',\n",
              " 'start Hi there, how can I help?',\n",
              " 'start Hello, thanks for asking',\n",
              " 'start Good to see you again',\n",
              " 'start Hi there, how can I help?',\n",
              " 'start Hello, thanks for asking']"
            ]
          },
          "metadata": {},
          "execution_count": 11
        }
      ]
    },
    {
      "cell_type": "code",
      "source": [
        "output_decoder[:10]"
      ],
      "metadata": {
        "colab": {
          "base_uri": "https://localhost:8080/"
        },
        "id": "EIkHWYtvozur",
        "outputId": "3b24baee-99cb-438f-bef3-770fa0f924ac"
      },
      "execution_count": null,
      "outputs": [
        {
          "output_type": "execute_result",
          "data": {
            "text/plain": [
              "['Hello, thanks for asking end',\n",
              " 'Good to see you again end',\n",
              " 'Hi there, how can I help? end',\n",
              " 'Hello, thanks for asking end',\n",
              " 'Good to see you again end',\n",
              " 'Hi there, how can I help? end',\n",
              " 'Hello, thanks for asking end',\n",
              " 'Good to see you again end',\n",
              " 'Hi there, how can I help? end',\n",
              " 'Hello, thanks for asking end']"
            ]
          },
          "metadata": {},
          "execution_count": 18
        }
      ]
    },
    {
      "cell_type": "code",
      "source": [
        "# Create tokenizer\n",
        "tokenizer = tf.keras.preprocessing.text.Tokenizer()\n",
        "tokenizer.fit_on_texts( input_encoder + input_decoder + output_decoder )\n",
        "VOCAB_SIZE = len( tokenizer.word_index )+1\n",
        "print( 'VOCAB SIZE : {}'.format( VOCAB_SIZE ))"
      ],
      "metadata": {
        "colab": {
          "base_uri": "https://localhost:8080/"
        },
        "id": "jsyCJ-BlixPT",
        "outputId": "7b7f157f-3e5c-449f-dc24-2dbd92aea51a"
      },
      "execution_count": null,
      "outputs": [
        {
          "output_type": "stream",
          "name": "stdout",
          "text": [
            "VOCAB SIZE : 112\n"
          ]
        }
      ]
    },
    {
      "cell_type": "code",
      "source": [
        "tokenizer.word_index"
      ],
      "metadata": {
        "colab": {
          "base_uri": "https://localhost:8080/"
        },
        "id": "m_iOnK_RkfrE",
        "outputId": "79bb3f8a-35af-45a7-86e7-d5cb83c47c86"
      },
      "execution_count": null,
      "outputs": [
        {
          "output_type": "execute_result",
          "data": {
            "text/plain": [
              "{'start': 1,\n",
              " 'end': 2,\n",
              " 'you': 3,\n",
              " 'to': 4,\n",
              " 'blood': 5,\n",
              " 'pressure': 6,\n",
              " 'for': 7,\n",
              " 'adverse': 8,\n",
              " 'reaction': 9,\n",
              " 'provide': 10,\n",
              " 'drug': 11,\n",
              " 'please': 12,\n",
              " 'patient': 13,\n",
              " 'help': 14,\n",
              " 'can': 15,\n",
              " 'i': 16,\n",
              " 'see': 17,\n",
              " 'again': 18,\n",
              " 'thanks': 19,\n",
              " 'how': 20,\n",
              " 'module': 21,\n",
              " 'id': 22,\n",
              " 'pharmacies': 23,\n",
              " 'there': 24,\n",
              " 'hospitals': 25,\n",
              " 'and': 26,\n",
              " 'navigating': 27,\n",
              " 'name': 28,\n",
              " 'hi': 29,\n",
              " 'hello': 30,\n",
              " 'good': 31,\n",
              " 'bye': 32,\n",
              " 'hospital': 33,\n",
              " 'pharmacy': 34,\n",
              " 'asking': 35,\n",
              " 'day': 36,\n",
              " 'nice': 37,\n",
              " 'time': 38,\n",
              " 'list': 39,\n",
              " 'support': 40,\n",
              " 'a': 41,\n",
              " 'have': 42,\n",
              " 'come': 43,\n",
              " 'back': 44,\n",
              " 'soon': 45,\n",
              " 'happy': 46,\n",
              " 'any': 47,\n",
              " 'my': 48,\n",
              " 'pleasure': 49,\n",
              " 'guide': 50,\n",
              " 'through': 51,\n",
              " 'tracking': 52,\n",
              " 'offering': 53,\n",
              " 'or': 54,\n",
              " 'location': 55,\n",
              " 'me': 56,\n",
              " 'what': 57,\n",
              " 'is': 58,\n",
              " 'helpful': 59,\n",
              " 'results': 60,\n",
              " 'drugs': 61,\n",
              " 'want': 62,\n",
              " 'search': 63,\n",
              " 'result': 64,\n",
              " 'find': 65,\n",
              " 'are': 66,\n",
              " 'anyone': 67,\n",
              " 'hey': 68,\n",
              " 'hola': 69,\n",
              " 'later': 70,\n",
              " 'goodbye': 71,\n",
              " 'chatting': 72,\n",
              " 'till': 73,\n",
              " 'next': 74,\n",
              " 'thank': 75,\n",
              " \"that's\": 76,\n",
              " 'awesome': 77,\n",
              " 'helping': 78,\n",
              " 'data': 79,\n",
              " 'could': 80,\n",
              " 'do': 81,\n",
              " 'be': 82,\n",
              " 'offered': 83,\n",
              " 'open': 84,\n",
              " 'of': 85,\n",
              " 'history': 86,\n",
              " 'load': 87,\n",
              " 'show': 88,\n",
              " 'by': 89,\n",
              " 'lookup': 90,\n",
              " 'check': 91,\n",
              " 'give': 92,\n",
              " 'causing': 93,\n",
              " 'behavior': 94,\n",
              " 'all': 95,\n",
              " 'suitable': 96,\n",
              " 'with': 97,\n",
              " 'which': 98,\n",
              " 'dont': 99,\n",
              " 'task': 100,\n",
              " 'related': 101,\n",
              " 'entry': 102,\n",
              " 'log': 103,\n",
              " 'management': 104,\n",
              " 'nearby': 105,\n",
              " 'locate': 106,\n",
              " 'searching': 107,\n",
              " 'transfer': 108,\n",
              " 'looking': 109,\n",
              " 'up': 110,\n",
              " 'details': 111}"
            ]
          },
          "metadata": {},
          "execution_count": 15
        }
      ]
    },
    {
      "cell_type": "code",
      "source": [
        "tokenizer.index_word"
      ],
      "metadata": {
        "colab": {
          "base_uri": "https://localhost:8080/"
        },
        "id": "2z-Nci1rkVpZ",
        "outputId": "f55db2fe-fa92-4801-8287-d75d5ef9182f"
      },
      "execution_count": null,
      "outputs": [
        {
          "output_type": "execute_result",
          "data": {
            "text/plain": [
              "{1: 'start',\n",
              " 2: 'end',\n",
              " 3: 'you',\n",
              " 4: 'to',\n",
              " 5: 'blood',\n",
              " 6: 'pressure',\n",
              " 7: 'for',\n",
              " 8: 'adverse',\n",
              " 9: 'reaction',\n",
              " 10: 'provide',\n",
              " 11: 'drug',\n",
              " 12: 'please',\n",
              " 13: 'patient',\n",
              " 14: 'help',\n",
              " 15: 'can',\n",
              " 16: 'i',\n",
              " 17: 'see',\n",
              " 18: 'again',\n",
              " 19: 'thanks',\n",
              " 20: 'how',\n",
              " 21: 'module',\n",
              " 22: 'id',\n",
              " 23: 'pharmacies',\n",
              " 24: 'there',\n",
              " 25: 'hospitals',\n",
              " 26: 'and',\n",
              " 27: 'navigating',\n",
              " 28: 'name',\n",
              " 29: 'hi',\n",
              " 30: 'hello',\n",
              " 31: 'good',\n",
              " 32: 'bye',\n",
              " 33: 'hospital',\n",
              " 34: 'pharmacy',\n",
              " 35: 'asking',\n",
              " 36: 'day',\n",
              " 37: 'nice',\n",
              " 38: 'time',\n",
              " 39: 'list',\n",
              " 40: 'support',\n",
              " 41: 'a',\n",
              " 42: 'have',\n",
              " 43: 'come',\n",
              " 44: 'back',\n",
              " 45: 'soon',\n",
              " 46: 'happy',\n",
              " 47: 'any',\n",
              " 48: 'my',\n",
              " 49: 'pleasure',\n",
              " 50: 'guide',\n",
              " 51: 'through',\n",
              " 52: 'tracking',\n",
              " 53: 'offering',\n",
              " 54: 'or',\n",
              " 55: 'location',\n",
              " 56: 'me',\n",
              " 57: 'what',\n",
              " 58: 'is',\n",
              " 59: 'helpful',\n",
              " 60: 'results',\n",
              " 61: 'drugs',\n",
              " 62: 'want',\n",
              " 63: 'search',\n",
              " 64: 'result',\n",
              " 65: 'find',\n",
              " 66: 'are',\n",
              " 67: 'anyone',\n",
              " 68: 'hey',\n",
              " 69: 'hola',\n",
              " 70: 'later',\n",
              " 71: 'goodbye',\n",
              " 72: 'chatting',\n",
              " 73: 'till',\n",
              " 74: 'next',\n",
              " 75: 'thank',\n",
              " 76: \"that's\",\n",
              " 77: 'awesome',\n",
              " 78: 'helping',\n",
              " 79: 'data',\n",
              " 80: 'could',\n",
              " 81: 'do',\n",
              " 82: 'be',\n",
              " 83: 'offered',\n",
              " 84: 'open',\n",
              " 85: 'of',\n",
              " 86: 'history',\n",
              " 87: 'load',\n",
              " 88: 'show',\n",
              " 89: 'by',\n",
              " 90: 'lookup',\n",
              " 91: 'check',\n",
              " 92: 'give',\n",
              " 93: 'causing',\n",
              " 94: 'behavior',\n",
              " 95: 'all',\n",
              " 96: 'suitable',\n",
              " 97: 'with',\n",
              " 98: 'which',\n",
              " 99: 'dont',\n",
              " 100: 'task',\n",
              " 101: 'related',\n",
              " 102: 'entry',\n",
              " 103: 'log',\n",
              " 104: 'management',\n",
              " 105: 'nearby',\n",
              " 106: 'locate',\n",
              " 107: 'searching',\n",
              " 108: 'transfer',\n",
              " 109: 'looking',\n",
              " 110: 'up',\n",
              " 111: 'details'}"
            ]
          },
          "metadata": {},
          "execution_count": 16
        }
      ]
    },
    {
      "cell_type": "code",
      "source": [
        "# Encode input encoder\n",
        "tokenized_input_encoder = tokenizer.texts_to_sequences(input_encoder)\n",
        "maxlen_input_encoder = max([len(x) for x in input_encoder ])\n",
        "padded_input_encoder = tf.keras.preprocessing.sequence.pad_sequences( tokenized_input_encoder, maxlen = maxlen_input_encoder, padding = 'post')\n",
        "encoder_input_data = np.array(padded_input_encoder)\n",
        "print(encoder_input_data.shape, maxlen_input_encoder)"
      ],
      "metadata": {
        "colab": {
          "base_uri": "https://localhost:8080/"
        },
        "id": "pMEsSYnikH4w",
        "outputId": "0184536e-868b-4334-a2bf-9c9de28076f4"
      },
      "execution_count": null,
      "outputs": [
        {
          "output_type": "stream",
          "name": "stdout",
          "text": [
            "(91, 57) 57\n"
          ]
        }
      ]
    },
    {
      "cell_type": "code",
      "source": [
        "# Encode input decoder\n",
        "tokenized_input_decoder = tokenizer.texts_to_sequences(input_decoder)\n",
        "maxlen_input_decoder = max([len(x) for x in input_decoder ])\n",
        "padded_input_decoder = tf.keras.preprocessing.sequence.pad_sequences( tokenized_input_decoder, maxlen = maxlen_input_decoder, padding = 'post')\n",
        "decoder_input_data = np.array(padded_input_decoder)\n",
        "print(decoder_input_data.shape, maxlen_input_decoder)"
      ],
      "metadata": {
        "colab": {
          "base_uri": "https://localhost:8080/"
        },
        "id": "Yr6w6DOwlmkY",
        "outputId": "2ed0ddd4-ad54-4cd5-e13a-337eec82575e"
      },
      "execution_count": null,
      "outputs": [
        {
          "output_type": "stream",
          "name": "stdout",
          "text": [
            "(91, 107) 107\n"
          ]
        }
      ]
    },
    {
      "cell_type": "code",
      "source": [
        "# Encode output decoder\n",
        "tokenized_output_decoder = tokenizer.texts_to_sequences( output_decoder )\n",
        "for i in range(len(tokenized_output_decoder)) :\n",
        "    tokenized_output_decoder[i] = tokenized_output_decoder[i][1:]\n",
        "padded_output_decoder = tf.keras.preprocessing.sequence.pad_sequences( tokenized_output_decoder , maxlen=maxlen_input_decoder , padding='post' )\n",
        "onehot_output_decoder = tf.keras.utils.to_categorical( padded_output_decoder , VOCAB_SIZE )\n",
        "decoder_output_data = np.array( onehot_output_decoder )\n",
        "print( decoder_output_data.shape )"
      ],
      "metadata": {
        "colab": {
          "base_uri": "https://localhost:8080/"
        },
        "id": "MZRm_hEvo54z",
        "outputId": "20e21639-0a16-4b20-a8c8-3f27acedad3e"
      },
      "execution_count": null,
      "outputs": [
        {
          "output_type": "stream",
          "name": "stdout",
          "text": [
            "(91, 107, 112)\n"
          ]
        }
      ]
    },
    {
      "cell_type": "code",
      "source": [
        "decoder_output_data[0]"
      ],
      "metadata": {
        "colab": {
          "base_uri": "https://localhost:8080/"
        },
        "id": "BmzR__vfqr1k",
        "outputId": "c27fb997-dc73-4c66-fe39-40058c493d9f"
      },
      "execution_count": null,
      "outputs": [
        {
          "output_type": "execute_result",
          "data": {
            "text/plain": [
              "array([[0., 0., 0., ..., 0., 0., 0.],\n",
              "       [0., 0., 0., ..., 0., 0., 0.],\n",
              "       [0., 0., 0., ..., 0., 0., 0.],\n",
              "       ...,\n",
              "       [1., 0., 0., ..., 0., 0., 0.],\n",
              "       [1., 0., 0., ..., 0., 0., 0.],\n",
              "       [1., 0., 0., ..., 0., 0., 0.]], dtype=float32)"
            ]
          },
          "metadata": {},
          "execution_count": 27
        }
      ]
    },
    {
      "cell_type": "code",
      "source": [
        "decoder_output_data[0][0]"
      ],
      "metadata": {
        "colab": {
          "base_uri": "https://localhost:8080/"
        },
        "id": "siQdV0aSq2Xv",
        "outputId": "9a4d2a7a-a8af-4170-f0c1-b85060b6aea3"
      },
      "execution_count": null,
      "outputs": [
        {
          "output_type": "execute_result",
          "data": {
            "text/plain": [
              "array([0., 0., 0., 0., 0., 0., 0., 0., 0., 0., 0., 0., 0., 0., 0., 0., 0.,\n",
              "       0., 0., 1., 0., 0., 0., 0., 0., 0., 0., 0., 0., 0., 0., 0., 0., 0.,\n",
              "       0., 0., 0., 0., 0., 0., 0., 0., 0., 0., 0., 0., 0., 0., 0., 0., 0.,\n",
              "       0., 0., 0., 0., 0., 0., 0., 0., 0., 0., 0., 0., 0., 0., 0., 0., 0.,\n",
              "       0., 0., 0., 0., 0., 0., 0., 0., 0., 0., 0., 0., 0., 0., 0., 0., 0.,\n",
              "       0., 0., 0., 0., 0., 0., 0., 0., 0., 0., 0., 0., 0., 0., 0., 0., 0.,\n",
              "       0., 0., 0., 0., 0., 0., 0., 0., 0., 0.], dtype=float32)"
            ]
          },
          "metadata": {},
          "execution_count": 28
        }
      ]
    },
    {
      "cell_type": "code",
      "source": [
        "# Build Model\n",
        "encoder_inputs = tf.keras.layers.Input(shape=( maxlen_input_encoder , ))\n",
        "encoder_embedding = tf.keras.layers.Embedding( VOCAB_SIZE, 200 , mask_zero=True ) (encoder_inputs)\n",
        "encoder_outputs , state_h , state_c = tf.keras.layers.LSTM( 200 , return_state=True )( encoder_embedding )\n",
        "encoder_states = [ state_h , state_c ]\n",
        "\n",
        "decoder_inputs = tf.keras.layers.Input(shape=( maxlen_input_decoder ,  ))\n",
        "decoder_embedding = tf.keras.layers.Embedding( VOCAB_SIZE, 200 , mask_zero=True) (decoder_inputs)\n",
        "decoder_lstm = tf.keras.layers.LSTM( 200 , return_state=True , return_sequences=True )\n",
        "decoder_outputs , _ , _ = decoder_lstm ( decoder_embedding , initial_state=encoder_states )\n",
        "decoder_dense = tf.keras.layers.Dense( VOCAB_SIZE , activation=tf.keras.activations.softmax )\n",
        "output = decoder_dense ( decoder_outputs )\n",
        "\n",
        "model = tf.keras.models.Model([encoder_inputs, decoder_inputs], output )\n",
        "model.compile(optimizer=tf.keras.optimizers.RMSprop(), loss='categorical_crossentropy')\n",
        "\n",
        "model.summary()"
      ],
      "metadata": {
        "colab": {
          "base_uri": "https://localhost:8080/"
        },
        "id": "AWJwbG9mrFXd",
        "outputId": "9f75f99b-352e-420b-ad98-28c68bbb9229"
      },
      "execution_count": null,
      "outputs": [
        {
          "output_type": "stream",
          "name": "stdout",
          "text": [
            "Model: \"model_3\"\n",
            "__________________________________________________________________________________________________\n",
            " Layer (type)                Output Shape                 Param #   Connected to                  \n",
            "==================================================================================================\n",
            " input_5 (InputLayer)        [(None, 57)]                 0         []                            \n",
            "                                                                                                  \n",
            " input_6 (InputLayer)        [(None, 107)]                0         []                            \n",
            "                                                                                                  \n",
            " embedding_2 (Embedding)     (None, 57, 200)              22400     ['input_5[0][0]']             \n",
            "                                                                                                  \n",
            " embedding_3 (Embedding)     (None, 107, 200)             22400     ['input_6[0][0]']             \n",
            "                                                                                                  \n",
            " lstm_2 (LSTM)               [(None, 200),                320800    ['embedding_2[0][0]']         \n",
            "                              (None, 200),                                                        \n",
            "                              (None, 200)]                                                        \n",
            "                                                                                                  \n",
            " lstm_3 (LSTM)               [(None, 107, 200),           320800    ['embedding_3[0][0]',         \n",
            "                              (None, 200),                           'lstm_2[0][1]',              \n",
            "                              (None, 200)]                           'lstm_2[0][2]']              \n",
            "                                                                                                  \n",
            " dense_1 (Dense)             (None, 107, 112)             22512     ['lstm_3[0][0]']              \n",
            "                                                                                                  \n",
            "==================================================================================================\n",
            "Total params: 708912 (2.70 MB)\n",
            "Trainable params: 708912 (2.70 MB)\n",
            "Non-trainable params: 0 (0.00 Byte)\n",
            "__________________________________________________________________________________________________\n"
          ]
        }
      ]
    },
    {
      "cell_type": "code",
      "source": [
        "model.fit([encoder_input_data , decoder_input_data], decoder_output_data, epochs=100, shuffle=True)"
      ],
      "metadata": {
        "colab": {
          "base_uri": "https://localhost:8080/"
        },
        "id": "lQxC4xTnri3U",
        "outputId": "28c28a5a-d36c-431e-c65d-6d56ec8ebd74"
      },
      "execution_count": null,
      "outputs": [
        {
          "output_type": "stream",
          "name": "stdout",
          "text": [
            "Epoch 1/100\n",
            "3/3 [==============================] - 11s 430ms/step - loss: 4.7045\n",
            "Epoch 2/100\n",
            "3/3 [==============================] - 1s 461ms/step - loss: 4.6598\n",
            "Epoch 3/100\n",
            "3/3 [==============================] - 1s 461ms/step - loss: 4.5849\n",
            "Epoch 4/100\n",
            "3/3 [==============================] - 1s 469ms/step - loss: 4.3294\n",
            "Epoch 5/100\n",
            "3/3 [==============================] - 1s 453ms/step - loss: 3.8584\n",
            "Epoch 6/100\n",
            "3/3 [==============================] - 1s 402ms/step - loss: 3.5871\n",
            "Epoch 7/100\n",
            "3/3 [==============================] - 2s 733ms/step - loss: 3.4209\n",
            "Epoch 8/100\n",
            "3/3 [==============================] - 2s 450ms/step - loss: 3.3159\n",
            "Epoch 9/100\n",
            "3/3 [==============================] - 1s 452ms/step - loss: 3.2403\n",
            "Epoch 10/100\n",
            "3/3 [==============================] - 1s 466ms/step - loss: 3.1712\n",
            "Epoch 11/100\n",
            "3/3 [==============================] - 1s 434ms/step - loss: 3.1192\n",
            "Epoch 12/100\n",
            "3/3 [==============================] - 1s 419ms/step - loss: 3.0692\n",
            "Epoch 13/100\n",
            "3/3 [==============================] - 1s 464ms/step - loss: 3.0115\n",
            "Epoch 14/100\n",
            "3/3 [==============================] - 1s 419ms/step - loss: 2.9664\n",
            "Epoch 15/100\n",
            "3/3 [==============================] - 2s 610ms/step - loss: 2.9287\n",
            "Epoch 16/100\n",
            "3/3 [==============================] - 2s 662ms/step - loss: 2.8683\n",
            "Epoch 17/100\n",
            "3/3 [==============================] - 1s 420ms/step - loss: 2.8157\n",
            "Epoch 18/100\n",
            "3/3 [==============================] - 1s 429ms/step - loss: 2.7529\n",
            "Epoch 19/100\n",
            "3/3 [==============================] - 1s 444ms/step - loss: 2.7141\n",
            "Epoch 20/100\n",
            "3/3 [==============================] - 1s 417ms/step - loss: 2.6592\n",
            "Epoch 21/100\n",
            "3/3 [==============================] - 1s 442ms/step - loss: 2.5877\n",
            "Epoch 22/100\n",
            "3/3 [==============================] - 1s 452ms/step - loss: 2.5287\n",
            "Epoch 23/100\n",
            "3/3 [==============================] - 1s 412ms/step - loss: 2.4871\n",
            "Epoch 24/100\n",
            "3/3 [==============================] - 2s 712ms/step - loss: 2.4599\n",
            "Epoch 25/100\n",
            "3/3 [==============================] - 2s 556ms/step - loss: 2.3704\n",
            "Epoch 26/100\n",
            "3/3 [==============================] - 1s 404ms/step - loss: 2.2776\n",
            "Epoch 27/100\n",
            "3/3 [==============================] - 1s 415ms/step - loss: 2.2445\n",
            "Epoch 28/100\n",
            "3/3 [==============================] - 1s 463ms/step - loss: 2.1461\n",
            "Epoch 29/100\n",
            "3/3 [==============================] - 1s 445ms/step - loss: 2.0829\n",
            "Epoch 30/100\n",
            "3/3 [==============================] - 1s 458ms/step - loss: 1.9758\n",
            "Epoch 31/100\n",
            "3/3 [==============================] - 1s 470ms/step - loss: 1.9150\n",
            "Epoch 32/100\n",
            "3/3 [==============================] - 1s 436ms/step - loss: 2.1050\n",
            "Epoch 33/100\n",
            "3/3 [==============================] - 2s 709ms/step - loss: 1.8360\n",
            "Epoch 34/100\n",
            "3/3 [==============================] - 2s 426ms/step - loss: 1.7326\n",
            "Epoch 35/100\n",
            "3/3 [==============================] - 1s 441ms/step - loss: 1.6799\n",
            "Epoch 36/100\n",
            "3/3 [==============================] - 1s 460ms/step - loss: 1.6081\n",
            "Epoch 37/100\n",
            "3/3 [==============================] - 1s 412ms/step - loss: 1.7568\n",
            "Epoch 38/100\n",
            "3/3 [==============================] - 1s 469ms/step - loss: 1.5632\n",
            "Epoch 39/100\n",
            "3/3 [==============================] - 1s 431ms/step - loss: 1.5260\n",
            "Epoch 40/100\n",
            "3/3 [==============================] - 1s 468ms/step - loss: 1.4121\n",
            "Epoch 41/100\n",
            "3/3 [==============================] - 2s 636ms/step - loss: 1.3426\n",
            "Epoch 42/100\n",
            "3/3 [==============================] - 2s 701ms/step - loss: 1.3589\n",
            "Epoch 43/100\n",
            "3/3 [==============================] - 1s 437ms/step - loss: 1.4527\n",
            "Epoch 44/100\n",
            "3/3 [==============================] - 1s 418ms/step - loss: 1.2405\n",
            "Epoch 45/100\n",
            "3/3 [==============================] - 1s 426ms/step - loss: 1.1689\n",
            "Epoch 46/100\n",
            "3/3 [==============================] - 1s 454ms/step - loss: 1.1152\n",
            "Epoch 47/100\n",
            "3/3 [==============================] - 2s 695ms/step - loss: 1.0842\n",
            "Epoch 48/100\n",
            "3/3 [==============================] - 2s 441ms/step - loss: 1.2304\n",
            "Epoch 49/100\n",
            "3/3 [==============================] - 2s 678ms/step - loss: 1.0410\n",
            "Epoch 50/100\n",
            "3/3 [==============================] - 2s 574ms/step - loss: 0.9714\n",
            "Epoch 51/100\n",
            "3/3 [==============================] - 1s 409ms/step - loss: 0.9261\n",
            "Epoch 52/100\n",
            "3/3 [==============================] - 1s 454ms/step - loss: 0.8894\n",
            "Epoch 53/100\n",
            "3/3 [==============================] - 1s 476ms/step - loss: 0.9805\n",
            "Epoch 54/100\n",
            "3/3 [==============================] - 3s 860ms/step - loss: 0.9041\n",
            "Epoch 55/100\n",
            "3/3 [==============================] - 1s 421ms/step - loss: 0.7934\n",
            "Epoch 56/100\n",
            "3/3 [==============================] - 1s 413ms/step - loss: 0.7626\n",
            "Epoch 57/100\n",
            "3/3 [==============================] - 2s 762ms/step - loss: 0.7566\n",
            "Epoch 58/100\n",
            "3/3 [==============================] - 2s 456ms/step - loss: 0.7254\n",
            "Epoch 59/100\n",
            "3/3 [==============================] - 1s 450ms/step - loss: 0.7107\n",
            "Epoch 60/100\n",
            "3/3 [==============================] - 1s 431ms/step - loss: 0.7064\n",
            "Epoch 61/100\n",
            "3/3 [==============================] - 1s 471ms/step - loss: 0.6556\n",
            "Epoch 62/100\n",
            "3/3 [==============================] - 1s 413ms/step - loss: 0.6590\n",
            "Epoch 63/100\n",
            "3/3 [==============================] - 1s 465ms/step - loss: 0.5899\n",
            "Epoch 64/100\n",
            "3/3 [==============================] - 1s 427ms/step - loss: 0.5666\n",
            "Epoch 65/100\n",
            "3/3 [==============================] - 2s 587ms/step - loss: 0.5883\n",
            "Epoch 66/100\n",
            "3/3 [==============================] - 2s 706ms/step - loss: 0.5968\n",
            "Epoch 67/100\n",
            "3/3 [==============================] - 1s 455ms/step - loss: 0.5053\n",
            "Epoch 68/100\n",
            "3/3 [==============================] - 1s 427ms/step - loss: 0.4816\n",
            "Epoch 69/100\n",
            "3/3 [==============================] - 1s 429ms/step - loss: 0.4636\n",
            "Epoch 70/100\n",
            "3/3 [==============================] - 1s 479ms/step - loss: 0.4481\n",
            "Epoch 71/100\n",
            "3/3 [==============================] - 1s 443ms/step - loss: 0.5191\n",
            "Epoch 72/100\n",
            "3/3 [==============================] - 1s 432ms/step - loss: 0.4589\n",
            "Epoch 73/100\n",
            "3/3 [==============================] - 1s 467ms/step - loss: 0.3979\n",
            "Epoch 74/100\n",
            "3/3 [==============================] - 2s 712ms/step - loss: 0.3820\n",
            "Epoch 75/100\n",
            "3/3 [==============================] - 2s 414ms/step - loss: 0.3828\n",
            "Epoch 76/100\n",
            "3/3 [==============================] - 1s 476ms/step - loss: 0.3806\n",
            "Epoch 77/100\n",
            "3/3 [==============================] - 1s 438ms/step - loss: 0.3520\n",
            "Epoch 78/100\n",
            "3/3 [==============================] - 1s 483ms/step - loss: 0.3352\n",
            "Epoch 79/100\n",
            "3/3 [==============================] - 2s 738ms/step - loss: 0.3297\n",
            "Epoch 80/100\n",
            "3/3 [==============================] - 3s 851ms/step - loss: 0.3305\n",
            "Epoch 81/100\n",
            "3/3 [==============================] - 3s 1s/step - loss: 0.3434\n",
            "Epoch 82/100\n",
            "3/3 [==============================] - 1s 421ms/step - loss: 0.2974\n",
            "Epoch 83/100\n",
            "3/3 [==============================] - 1s 432ms/step - loss: 0.2827\n",
            "Epoch 84/100\n",
            "3/3 [==============================] - 1s 430ms/step - loss: 0.2777\n",
            "Epoch 85/100\n",
            "3/3 [==============================] - 1s 456ms/step - loss: 0.2741\n",
            "Epoch 86/100\n",
            "3/3 [==============================] - 1s 459ms/step - loss: 0.3125\n",
            "Epoch 87/100\n",
            "3/3 [==============================] - 1s 449ms/step - loss: 0.2714\n",
            "Epoch 88/100\n",
            "3/3 [==============================] - 1s 436ms/step - loss: 0.2457\n",
            "Epoch 89/100\n",
            "3/3 [==============================] - 2s 711ms/step - loss: 0.2450\n",
            "Epoch 90/100\n",
            "3/3 [==============================] - 2s 495ms/step - loss: 0.2386\n",
            "Epoch 91/100\n",
            "3/3 [==============================] - 1s 469ms/step - loss: 0.2323\n",
            "Epoch 92/100\n",
            "3/3 [==============================] - 1s 420ms/step - loss: 0.2248\n",
            "Epoch 93/100\n",
            "3/3 [==============================] - 1s 450ms/step - loss: 0.2209\n",
            "Epoch 94/100\n",
            "3/3 [==============================] - 1s 464ms/step - loss: 0.2421\n",
            "Epoch 95/100\n",
            "3/3 [==============================] - 1s 460ms/step - loss: 0.2349\n",
            "Epoch 96/100\n",
            "3/3 [==============================] - 1s 429ms/step - loss: 0.2078\n",
            "Epoch 97/100\n",
            "3/3 [==============================] - 2s 543ms/step - loss: 0.2043\n",
            "Epoch 98/100\n",
            "3/3 [==============================] - 2s 710ms/step - loss: 0.2010\n",
            "Epoch 99/100\n",
            "3/3 [==============================] - 1s 426ms/step - loss: 0.1993\n",
            "Epoch 100/100\n",
            "3/3 [==============================] - 1s 473ms/step - loss: 0.1969\n"
          ]
        },
        {
          "output_type": "execute_result",
          "data": {
            "text/plain": [
              "<keras.src.callbacks.History at 0x7c80228a8040>"
            ]
          },
          "metadata": {},
          "execution_count": 37
        }
      ]
    },
    {
      "cell_type": "code",
      "source": [
        "# Make model for inference\n",
        "def make_inference_models():\n",
        "\n",
        "    encoder_model = tf.keras.models.Model(encoder_inputs, encoder_states)\n",
        "\n",
        "    decoder_state_input_h = tf.keras.layers.Input(shape=( 200 ,))\n",
        "    decoder_state_input_c = tf.keras.layers.Input(shape=( 200 ,))\n",
        "\n",
        "    decoder_states_inputs = [decoder_state_input_h, decoder_state_input_c]\n",
        "\n",
        "    decoder_outputs, state_h, state_c = decoder_lstm(\n",
        "        decoder_embedding , initial_state=decoder_states_inputs)\n",
        "\n",
        "    decoder_states = [state_h, state_c]\n",
        "\n",
        "    decoder_outputs = decoder_dense(decoder_outputs)\n",
        "\n",
        "    decoder_model = tf.keras.models.Model(\n",
        "        [decoder_inputs] + decoder_states_inputs,\n",
        "        [decoder_outputs] + decoder_states)\n",
        "\n",
        "    return encoder_model , decoder_model"
      ],
      "metadata": {
        "id": "6qUhUSL1sOdq"
      },
      "execution_count": null,
      "outputs": []
    },
    {
      "cell_type": "code",
      "source": [
        "# Test\n",
        "import re\n",
        "def tokenize(sentence):\n",
        "    # Convert the sentence to lowercase\n",
        "    sentence = sentence.lower()\n",
        "\n",
        "    # Remove non-alphabetic characters and replace them with spaces\n",
        "    sentence = re.sub('[^a-zA-Z]', ' ', sentence)\n",
        "\n",
        "    # Split the sentence into tokens\n",
        "    tokens = sentence.split()\n",
        "\n",
        "    return tokens\n",
        "\n",
        "def str_to_tokens( sentence : str ):\n",
        "\n",
        "\n",
        "    tokenized_sentence = tokenize(sentence)\n",
        "    tokens_list = []\n",
        "    for word in tokenized_sentence:\n",
        "        tokens_list.append( tokenizer.word_index[ word ])\n",
        "\n",
        "    return tf.keras.preprocessing.sequence.pad_sequences( [tokens_list] , maxlen=maxlen_input_encoder , padding='post')\n",
        "\n",
        "\n",
        "enc_model , dec_model = make_inference_models()"
      ],
      "metadata": {
        "id": "bpErcT1CtxsO"
      },
      "execution_count": null,
      "outputs": []
    },
    {
      "cell_type": "code",
      "source": [
        "input_texts"
      ],
      "metadata": {
        "colab": {
          "base_uri": "https://localhost:8080/"
        },
        "id": "3mi46-Ijwzhw",
        "outputId": "db41afa5-1d94-42f1-d76f-2e0ab41526c4"
      },
      "execution_count": null,
      "outputs": [
        {
          "output_type": "execute_result",
          "data": {
            "text/plain": [
              "['Hi there',\n",
              " 'Hi there',\n",
              " 'Hi there',\n",
              " 'How are you',\n",
              " 'How are you',\n",
              " 'How are you',\n",
              " 'Is anyone there?',\n",
              " 'Is anyone there?',\n",
              " 'Is anyone there?',\n",
              " 'Hey',\n",
              " 'Hey',\n",
              " 'Hey',\n",
              " 'Hola',\n",
              " 'Hola',\n",
              " 'Hola',\n",
              " 'Hello',\n",
              " 'Hello',\n",
              " 'Hello',\n",
              " 'Good day',\n",
              " 'Good day',\n",
              " 'Good day',\n",
              " 'Bye',\n",
              " 'Bye',\n",
              " 'Bye',\n",
              " 'See you later',\n",
              " 'See you later',\n",
              " 'See you later',\n",
              " 'Goodbye',\n",
              " 'Goodbye',\n",
              " 'Goodbye',\n",
              " 'Nice chatting to you, bye',\n",
              " 'Nice chatting to you, bye',\n",
              " 'Nice chatting to you, bye',\n",
              " 'Till next time',\n",
              " 'Till next time',\n",
              " 'Till next time',\n",
              " 'Thanks',\n",
              " 'Thanks',\n",
              " 'Thanks',\n",
              " 'Thank you',\n",
              " 'Thank you',\n",
              " 'Thank you',\n",
              " \"That's helpful\",\n",
              " \"That's helpful\",\n",
              " \"That's helpful\",\n",
              " 'Awesome, thanks',\n",
              " 'Awesome, thanks',\n",
              " 'Awesome, thanks',\n",
              " 'Thanks for helping me',\n",
              " 'Thanks for helping me',\n",
              " 'Thanks for helping me',\n",
              " 'How you could help me?',\n",
              " 'How you could help me?',\n",
              " 'What you can do?',\n",
              " 'What you can do?',\n",
              " 'What help you provide?',\n",
              " 'What help you provide?',\n",
              " 'How you can be helpful?',\n",
              " 'How you can be helpful?',\n",
              " 'What support is offered',\n",
              " 'What support is offered',\n",
              " 'How to check Adverse drug reaction?',\n",
              " 'Open adverse drugs module',\n",
              " 'Give me a list of drugs causing adverse behavior',\n",
              " 'List all drugs suitable for patient with adverse reaction',\n",
              " 'Which drugs dont have adverse reaction?',\n",
              " 'Open blood pressure module',\n",
              " 'Task related to blood pressure',\n",
              " 'Blood pressure data entry',\n",
              " 'I want to log blood pressure results',\n",
              " 'Blood pressure data management',\n",
              " 'I want to search for blood pressure result history',\n",
              " 'I want to search for blood pressure result history',\n",
              " 'Blood pressure for patient',\n",
              " 'Blood pressure for patient',\n",
              " 'Load patient blood pressure result',\n",
              " 'Load patient blood pressure result',\n",
              " 'Show blood pressure results for patient',\n",
              " 'Show blood pressure results for patient',\n",
              " 'Find blood pressure results by ID',\n",
              " 'Find blood pressure results by ID',\n",
              " 'Find me a pharmacy',\n",
              " 'Find pharmacy',\n",
              " 'List of pharmacies nearby',\n",
              " 'Locate pharmacy',\n",
              " 'Search pharmacy',\n",
              " 'Lookup for hospital',\n",
              " 'Searching for hospital to transfer patient',\n",
              " 'I want to search hospital data',\n",
              " 'Hospital lookup for patient',\n",
              " 'Looking up hospital details']"
            ]
          },
          "metadata": {},
          "execution_count": 40
        }
      ]
    },
    {
      "cell_type": "code",
      "source": [
        "# Chat\n",
        "\n",
        "while  True:\n",
        "    user_input = input()\n",
        "    if user_input.lower() == \"quit\":\n",
        "        break\n",
        "    states_values = enc_model.predict( str_to_tokens(user_input) , verbose=0)\n",
        "    empty_target_seq = np.zeros( ( 1 , 1 ) )\n",
        "    empty_target_seq[0, 0] = tokenizer.word_index['start']\n",
        "    stop_condition = False\n",
        "    decoded_translation = ''\n",
        "    before = None\n",
        "    while not stop_condition :\n",
        "        dec_outputs , h , c = dec_model.predict([ empty_target_seq ] + states_values, verbose=0)\n",
        "        sampled_word_index = np.argmax( dec_outputs[0, -1, :] )\n",
        "        sampled_word = None\n",
        "        for word , index in tokenizer.word_index.items() :\n",
        "            if sampled_word_index == index and word!=\"end\" and word!=before:\n",
        "                decoded_translation += ' {}'.format( word )\n",
        "                sampled_word = word\n",
        "\n",
        "\n",
        "        if sampled_word == 'end' or len(decoded_translation.split()) > maxlen_input_encoder or sampled_word == None:\n",
        "            stop_condition = True\n",
        "        before = sampled_word\n",
        "\n",
        "        empty_target_seq = np.zeros( ( 1 , 1 ) )\n",
        "        empty_target_seq[ 0 , 0 ] = sampled_word_index\n",
        "        states_values = [ h , c ]\n",
        "\n",
        "    print(f'CHATBOT: {decoded_translation}' )"
      ],
      "metadata": {
        "id": "N2U25rC6vArB"
      },
      "execution_count": null,
      "outputs": []
    },
    {
      "cell_type": "markdown",
      "source": [
        "# **ChatBot with GPT**"
      ],
      "metadata": {
        "id": "6TbQohvp6sf9"
      }
    },
    {
      "cell_type": "code",
      "execution_count": null,
      "metadata": {
        "colab": {
          "base_uri": "https://localhost:8080/"
        },
        "id": "yJa3kl31GOY7",
        "outputId": "e19436de-ba4c-45b4-c029-9fccb8ab9bc2"
      },
      "outputs": [
        {
          "output_type": "stream",
          "name": "stdout",
          "text": [
            "Requirement already satisfied: transformers in /usr/local/lib/python3.10/dist-packages (4.34.0)\n",
            "Requirement already satisfied: filelock in /usr/local/lib/python3.10/dist-packages (from transformers) (3.12.4)\n",
            "Requirement already satisfied: huggingface-hub<1.0,>=0.16.4 in /usr/local/lib/python3.10/dist-packages (from transformers) (0.16.4)\n",
            "Requirement already satisfied: numpy>=1.17 in /usr/local/lib/python3.10/dist-packages (from transformers) (1.23.5)\n",
            "Requirement already satisfied: packaging>=20.0 in /usr/local/lib/python3.10/dist-packages (from transformers) (23.1)\n",
            "Requirement already satisfied: pyyaml>=5.1 in /usr/local/lib/python3.10/dist-packages (from transformers) (6.0.1)\n",
            "Requirement already satisfied: regex!=2019.12.17 in /usr/local/lib/python3.10/dist-packages (from transformers) (2023.6.3)\n",
            "Requirement already satisfied: requests in /usr/local/lib/python3.10/dist-packages (from transformers) (2.31.0)\n",
            "Requirement already satisfied: tokenizers<0.15,>=0.14 in /usr/local/lib/python3.10/dist-packages (from transformers) (0.14.0)\n",
            "Requirement already satisfied: safetensors>=0.3.1 in /usr/local/lib/python3.10/dist-packages (from transformers) (0.3.3)\n",
            "Requirement already satisfied: tqdm>=4.27 in /usr/local/lib/python3.10/dist-packages (from transformers) (4.66.1)\n",
            "Requirement already satisfied: fsspec in /usr/local/lib/python3.10/dist-packages (from huggingface-hub<1.0,>=0.16.4->transformers) (2023.6.0)\n",
            "Requirement already satisfied: typing-extensions>=3.7.4.3 in /usr/local/lib/python3.10/dist-packages (from huggingface-hub<1.0,>=0.16.4->transformers) (4.5.0)\n",
            "Requirement already satisfied: charset-normalizer<4,>=2 in /usr/local/lib/python3.10/dist-packages (from requests->transformers) (3.2.0)\n",
            "Requirement already satisfied: idna<4,>=2.5 in /usr/local/lib/python3.10/dist-packages (from requests->transformers) (3.4)\n",
            "Requirement already satisfied: urllib3<3,>=1.21.1 in /usr/local/lib/python3.10/dist-packages (from requests->transformers) (2.0.5)\n",
            "Requirement already satisfied: certifi>=2017.4.17 in /usr/local/lib/python3.10/dist-packages (from requests->transformers) (2023.7.22)\n"
          ]
        }
      ],
      "source": [
        "# Install transformer package\n",
        "! pip install transformers\n"
      ]
    },
    {
      "cell_type": "code",
      "source": [
        "# Load packages\n",
        "import os\n",
        "import csv\n",
        "import tensorflow as tf\n",
        "from transformers import TFGPT2LMHeadModel, GPT2Tokenizer\n",
        "import numpy as np"
      ],
      "metadata": {
        "id": "PyRE0ameGgp8"
      },
      "execution_count": null,
      "outputs": []
    },
    {
      "cell_type": "code",
      "source": [
        "# Download Cornell Movie Dialogs Corpus\n",
        "! wget http://www.cs.cornell.edu/~cristian/data/cornell_movie_dialogs_corpus.zip"
      ],
      "metadata": {
        "colab": {
          "base_uri": "https://localhost:8080/"
        },
        "id": "_cOjvdQuGhx0",
        "outputId": "7dbf9d3f-731b-4f22-f821-953e551037ac"
      },
      "execution_count": null,
      "outputs": [
        {
          "output_type": "stream",
          "name": "stdout",
          "text": [
            "--2023-10-05 13:50:15--  http://www.cs.cornell.edu/~cristian/data/cornell_movie_dialogs_corpus.zip\n",
            "Resolving www.cs.cornell.edu (www.cs.cornell.edu)... 132.236.207.36\n",
            "Connecting to www.cs.cornell.edu (www.cs.cornell.edu)|132.236.207.36|:80... connected.\n",
            "HTTP request sent, awaiting response... 200 OK\n",
            "Length: 9916637 (9.5M) [application/zip]\n",
            "Saving to: ‘cornell_movie_dialogs_corpus.zip’\n",
            "\n",
            "cornell_movie_dialo 100%[===================>]   9.46M  14.1MB/s    in 0.7s    \n",
            "\n",
            "2023-10-05 13:50:16 (14.1 MB/s) - ‘cornell_movie_dialogs_corpus.zip’ saved [9916637/9916637]\n",
            "\n"
          ]
        }
      ]
    },
    {
      "cell_type": "code",
      "source": [
        "# Unzip file\n",
        "! unzip /content/cornell_movie_dialogs_corpus.zip"
      ],
      "metadata": {
        "colab": {
          "base_uri": "https://localhost:8080/"
        },
        "id": "mGhqLffdHFkR",
        "outputId": "04faf407-1d9f-4bf3-be9e-c291c9662918"
      },
      "execution_count": null,
      "outputs": [
        {
          "output_type": "stream",
          "name": "stdout",
          "text": [
            "Archive:  /content/cornell_movie_dialogs_corpus.zip\n",
            "   creating: cornell movie-dialogs corpus/\n",
            "  inflating: cornell movie-dialogs corpus/.DS_Store  \n",
            "   creating: __MACOSX/\n",
            "   creating: __MACOSX/cornell movie-dialogs corpus/\n",
            "  inflating: __MACOSX/cornell movie-dialogs corpus/._.DS_Store  \n",
            "  inflating: cornell movie-dialogs corpus/chameleons.pdf  \n",
            "  inflating: __MACOSX/cornell movie-dialogs corpus/._chameleons.pdf  \n",
            "  inflating: cornell movie-dialogs corpus/movie_characters_metadata.txt  \n",
            "  inflating: cornell movie-dialogs corpus/movie_conversations.txt  \n",
            "  inflating: cornell movie-dialogs corpus/movie_lines.txt  \n",
            "  inflating: cornell movie-dialogs corpus/movie_titles_metadata.txt  \n",
            "  inflating: cornell movie-dialogs corpus/raw_script_urls.txt  \n",
            "  inflating: cornell movie-dialogs corpus/README.txt  \n",
            "  inflating: __MACOSX/cornell movie-dialogs corpus/._README.txt  \n"
          ]
        }
      ]
    },
    {
      "cell_type": "code",
      "source": [
        "# Load dataset\n",
        "with open(os.path.join('/content/cornell movie-dialogs corpus',\n",
        "          'movie_lines.txt'), 'r', encoding='iso-8859-1') as f:\n",
        "    lines = f.readlines()"
      ],
      "metadata": {
        "id": "0osI8L3JG1qx"
      },
      "execution_count": null,
      "outputs": []
    },
    {
      "cell_type": "code",
      "source": [
        "# Print the list\n",
        "lines[:30]"
      ],
      "metadata": {
        "colab": {
          "base_uri": "https://localhost:8080/"
        },
        "id": "jtV09C9BHgv3",
        "outputId": "bc155c91-9f61-44aa-add7-8a0b4d919776"
      },
      "execution_count": null,
      "outputs": [
        {
          "output_type": "execute_result",
          "data": {
            "text/plain": [
              "['L1045 +++$+++ u0 +++$+++ m0 +++$+++ BIANCA +++$+++ They do not!\\n',\n",
              " 'L1044 +++$+++ u2 +++$+++ m0 +++$+++ CAMERON +++$+++ They do to!\\n',\n",
              " 'L985 +++$+++ u0 +++$+++ m0 +++$+++ BIANCA +++$+++ I hope so.\\n',\n",
              " 'L984 +++$+++ u2 +++$+++ m0 +++$+++ CAMERON +++$+++ She okay?\\n',\n",
              " \"L925 +++$+++ u0 +++$+++ m0 +++$+++ BIANCA +++$+++ Let's go.\\n\",\n",
              " 'L924 +++$+++ u2 +++$+++ m0 +++$+++ CAMERON +++$+++ Wow\\n',\n",
              " \"L872 +++$+++ u0 +++$+++ m0 +++$+++ BIANCA +++$+++ Okay -- you're gonna need to learn how to lie.\\n\",\n",
              " 'L871 +++$+++ u2 +++$+++ m0 +++$+++ CAMERON +++$+++ No\\n',\n",
              " 'L870 +++$+++ u0 +++$+++ m0 +++$+++ BIANCA +++$+++ I\\'m kidding.  You know how sometimes you just become this \"persona\"?  And you don\\'t know how to quit?\\n',\n",
              " 'L869 +++$+++ u0 +++$+++ m0 +++$+++ BIANCA +++$+++ Like my fear of wearing pastels?\\n',\n",
              " 'L868 +++$+++ u2 +++$+++ m0 +++$+++ CAMERON +++$+++ The \"real you\".\\n',\n",
              " 'L867 +++$+++ u0 +++$+++ m0 +++$+++ BIANCA +++$+++ What good stuff?\\n',\n",
              " \"L866 +++$+++ u2 +++$+++ m0 +++$+++ CAMERON +++$+++ I figured you'd get to the good stuff eventually.\\n\",\n",
              " 'L865 +++$+++ u2 +++$+++ m0 +++$+++ CAMERON +++$+++ Thank God!  If I had to hear one more story about your coiffure...\\n',\n",
              " \"L864 +++$+++ u0 +++$+++ m0 +++$+++ BIANCA +++$+++ Me.  This endless ...blonde babble. I'm like, boring myself.\\n\",\n",
              " 'L863 +++$+++ u2 +++$+++ m0 +++$+++ CAMERON +++$+++ What crap?\\n',\n",
              " 'L862 +++$+++ u0 +++$+++ m0 +++$+++ BIANCA +++$+++ do you listen to this crap?\\n',\n",
              " 'L861 +++$+++ u2 +++$+++ m0 +++$+++ CAMERON +++$+++ No...\\n',\n",
              " 'L860 +++$+++ u0 +++$+++ m0 +++$+++ BIANCA +++$+++ Then Guillermo says, \"If you go any lighter, you\\'re gonna look like an extra on 90210.\"\\n',\n",
              " 'L699 +++$+++ u2 +++$+++ m0 +++$+++ CAMERON +++$+++ You always been this selfish?\\n',\n",
              " 'L698 +++$+++ u0 +++$+++ m0 +++$+++ BIANCA +++$+++ But\\n',\n",
              " \"L697 +++$+++ u2 +++$+++ m0 +++$+++ CAMERON +++$+++ Then that's all you had to say.\\n\",\n",
              " 'L696 +++$+++ u0 +++$+++ m0 +++$+++ BIANCA +++$+++ Well, no...\\n',\n",
              " \"L695 +++$+++ u2 +++$+++ m0 +++$+++ CAMERON +++$+++ You never wanted to go out with 'me, did you?\\n\",\n",
              " 'L694 +++$+++ u0 +++$+++ m0 +++$+++ BIANCA +++$+++ I was?\\n',\n",
              " 'L693 +++$+++ u2 +++$+++ m0 +++$+++ CAMERON +++$+++ I looked for you back at the party, but you always seemed to be \"occupied\".\\n',\n",
              " 'L663 +++$+++ u0 +++$+++ m0 +++$+++ BIANCA +++$+++ Tons\\n',\n",
              " 'L662 +++$+++ u2 +++$+++ m0 +++$+++ CAMERON +++$+++ Have fun tonight?\\n',\n",
              " 'L578 +++$+++ u2 +++$+++ m0 +++$+++ CAMERON +++$+++ I believe we share an art instructor\\n',\n",
              " 'L577 +++$+++ u0 +++$+++ m0 +++$+++ BIANCA +++$+++ You know Chastity?\\n']"
            ]
          },
          "metadata": {},
          "execution_count": 11
        }
      ]
    },
    {
      "cell_type": "code",
      "source": [
        "# Select only id and texts\n",
        "conversations = []\n",
        "for line in lines:\n",
        "            parts = line.strip().split(' +++$+++ ')\n",
        "            if len(parts) == 5:\n",
        "                conv_id = parts[0]\n",
        "                line_text = parts[4]\n",
        "                conversations.append((conv_id, line_text))\n",
        "conversations[:30]"
      ],
      "metadata": {
        "colab": {
          "base_uri": "https://localhost:8080/"
        },
        "id": "kiwIXbX0JtvB",
        "outputId": "887cc0c1-3f71-470b-e2fb-22bc679d19c5"
      },
      "execution_count": null,
      "outputs": [
        {
          "output_type": "execute_result",
          "data": {
            "text/plain": [
              "[('L1045', 'They do not!'),\n",
              " ('L1044', 'They do to!'),\n",
              " ('L985', 'I hope so.'),\n",
              " ('L984', 'She okay?'),\n",
              " ('L925', \"Let's go.\"),\n",
              " ('L924', 'Wow'),\n",
              " ('L872', \"Okay -- you're gonna need to learn how to lie.\"),\n",
              " ('L871', 'No'),\n",
              " ('L870',\n",
              "  'I\\'m kidding.  You know how sometimes you just become this \"persona\"?  And you don\\'t know how to quit?'),\n",
              " ('L869', 'Like my fear of wearing pastels?'),\n",
              " ('L868', 'The \"real you\".'),\n",
              " ('L867', 'What good stuff?'),\n",
              " ('L866', \"I figured you'd get to the good stuff eventually.\"),\n",
              " ('L865',\n",
              "  'Thank God!  If I had to hear one more story about your coiffure...'),\n",
              " ('L864', \"Me.  This endless ...blonde babble. I'm like, boring myself.\"),\n",
              " ('L863', 'What crap?'),\n",
              " ('L862', 'do you listen to this crap?'),\n",
              " ('L861', 'No...'),\n",
              " ('L860',\n",
              "  'Then Guillermo says, \"If you go any lighter, you\\'re gonna look like an extra on 90210.\"'),\n",
              " ('L699', 'You always been this selfish?'),\n",
              " ('L698', 'But'),\n",
              " ('L697', \"Then that's all you had to say.\"),\n",
              " ('L696', 'Well, no...'),\n",
              " ('L695', \"You never wanted to go out with 'me, did you?\"),\n",
              " ('L694', 'I was?'),\n",
              " ('L693',\n",
              "  'I looked for you back at the party, but you always seemed to be \"occupied\".'),\n",
              " ('L663', 'Tons'),\n",
              " ('L662', 'Have fun tonight?'),\n",
              " ('L578', 'I believe we share an art instructor'),\n",
              " ('L577', 'You know Chastity?')]"
            ]
          },
          "metadata": {},
          "execution_count": 3
        }
      ]
    },
    {
      "cell_type": "code",
      "source": [
        "# Load the GPT-2 tokenizer and model\n",
        "tokenizer = GPT2Tokenizer.from_pretrained('gpt2')\n",
        "model = TFGPT2LMHeadModel.from_pretrained('gpt2')\n"
      ],
      "metadata": {
        "colab": {
          "base_uri": "https://localhost:8080/"
        },
        "id": "pUkUBS2qOsZC",
        "outputId": "880b844e-2ebf-4dc2-8d30-fada83430d0f"
      },
      "execution_count": null,
      "outputs": [
        {
          "output_type": "stream",
          "name": "stderr",
          "text": [
            "All PyTorch model weights were used when initializing TFGPT2LMHeadModel.\n",
            "\n",
            "All the weights of TFGPT2LMHeadModel were initialized from the PyTorch model.\n",
            "If your task is similar to the task the model of the checkpoint was trained on, you can already use TFGPT2LMHeadModel for predictions without further training.\n"
          ]
        }
      ]
    },
    {
      "cell_type": "code",
      "source": [
        "model.summary()"
      ],
      "metadata": {
        "colab": {
          "base_uri": "https://localhost:8080/"
        },
        "id": "1TSnSykdRQr2",
        "outputId": "7badd746-e96c-4631-fdc3-765a42b1688a"
      },
      "execution_count": null,
      "outputs": [
        {
          "output_type": "stream",
          "name": "stdout",
          "text": [
            "Model: \"tfgpt2lm_head_model\"\n",
            "_________________________________________________________________\n",
            " Layer (type)                Output Shape              Param #   \n",
            "=================================================================\n",
            " transformer (TFGPT2MainLay  multiple                  124439808 \n",
            " er)                                                             \n",
            "                                                                 \n",
            "=================================================================\n",
            "Total params: 124439808 (474.70 MB)\n",
            "Trainable params: 124439808 (474.70 MB)\n",
            "Non-trainable params: 0 (0.00 Byte)\n",
            "_________________________________________________________________\n"
          ]
        }
      ]
    },
    {
      "cell_type": "code",
      "source": [
        "# Tokenize text in conversation\n",
        "# Tokenizer use a id (int) to represent each token in the corpus\n",
        "input_ids = []\n",
        "output_ids = []\n",
        "for i in range(len(conversations) - 1):\n",
        "    input_text = conversations[i][1]\n",
        "    output_text = conversations[i + 1][1]\n",
        "    input_tokenized = tokenizer.encode(input_text,\n",
        "            add_special_tokens=False, truncation=True, max_length=512)\n",
        "    output_tokenized = tokenizer.encode(output_text,\n",
        "            add_special_tokens=False, truncation=True, max_length=512)\n",
        "    input_ids.append(input_tokenized)\n",
        "    output_ids.append(output_tokenized)"
      ],
      "metadata": {
        "id": "iWjV37ABO6I5"
      },
      "execution_count": null,
      "outputs": []
    },
    {
      "cell_type": "code",
      "source": [
        "# Show input\n",
        "input_ids[:10]"
      ],
      "metadata": {
        "colab": {
          "base_uri": "https://localhost:8080/"
        },
        "id": "Mnl-BY8pPYWr",
        "outputId": "a56f3e4c-d13c-4736-924b-905ffb45d096"
      },
      "execution_count": null,
      "outputs": [
        {
          "output_type": "execute_result",
          "data": {
            "text/plain": [
              "[[2990, 466, 407, 0],\n",
              " [2990, 466, 284, 0],\n",
              " [40, 2911, 523, 13],\n",
              " [3347, 8788, 30],\n",
              " [5756, 338, 467, 13],\n",
              " [22017],\n",
              " [16454, 1377, 345, 821, 8066, 761, 284, 2193, 703, 284, 6486, 13],\n",
              " [2949],\n",
              " [40,\n",
              "  1101,\n",
              "  26471,\n",
              "  13,\n",
              "  220,\n",
              "  921,\n",
              "  760,\n",
              "  703,\n",
              "  3360,\n",
              "  345,\n",
              "  655,\n",
              "  1716,\n",
              "  428,\n",
              "  366,\n",
              "  6259,\n",
              "  64,\n",
              "  13984,\n",
              "  220,\n",
              "  843,\n",
              "  345,\n",
              "  836,\n",
              "  470,\n",
              "  760,\n",
              "  703,\n",
              "  284,\n",
              "  11238,\n",
              "  30],\n",
              " [7594, 616, 3252, 286, 5762, 1613, 1424, 30]]"
            ]
          },
          "metadata": {},
          "execution_count": 21
        }
      ]
    },
    {
      "cell_type": "code",
      "source": [
        "# Show output\n",
        "output_ids[:10]"
      ],
      "metadata": {
        "colab": {
          "base_uri": "https://localhost:8080/"
        },
        "id": "pOVCjvBOQFlh",
        "outputId": "5a740b5d-6b01-448f-add5-50698eb3df54"
      },
      "execution_count": null,
      "outputs": [
        {
          "output_type": "execute_result",
          "data": {
            "text/plain": [
              "[[2990, 466, 284, 0],\n",
              " [40, 2911, 523, 13],\n",
              " [3347, 8788, 30],\n",
              " [5756, 338, 467, 13],\n",
              " [22017],\n",
              " [16454, 1377, 345, 821, 8066, 761, 284, 2193, 703, 284, 6486, 13],\n",
              " [2949],\n",
              " [40,\n",
              "  1101,\n",
              "  26471,\n",
              "  13,\n",
              "  220,\n",
              "  921,\n",
              "  760,\n",
              "  703,\n",
              "  3360,\n",
              "  345,\n",
              "  655,\n",
              "  1716,\n",
              "  428,\n",
              "  366,\n",
              "  6259,\n",
              "  64,\n",
              "  13984,\n",
              "  220,\n",
              "  843,\n",
              "  345,\n",
              "  836,\n",
              "  470,\n",
              "  760,\n",
              "  703,\n",
              "  284,\n",
              "  11238,\n",
              "  30],\n",
              " [7594, 616, 3252, 286, 5762, 1613, 1424, 30],\n",
              " [464, 366, 5305, 345, 1911]]"
            ]
          },
          "metadata": {},
          "execution_count": 22
        }
      ]
    },
    {
      "cell_type": "code",
      "source": [
        "# Pad the input/output pairs to the same length\n",
        "max_length = max(len(ids) for ids in input_ids + output_ids)\n",
        "input_ids = tf.keras.preprocessing.sequence.pad_sequences(input_ids, maxlen=max_length, padding='post')\n",
        "output_ids = tf.keras.preprocessing.sequence.pad_sequences(output_ids,\n",
        "        maxlen=max_length, padding='post')"
      ],
      "metadata": {
        "id": "Th67_GgVQORf"
      },
      "execution_count": null,
      "outputs": []
    },
    {
      "cell_type": "code",
      "source": [
        "a = model.predict(input_ids[:2])"
      ],
      "metadata": {
        "colab": {
          "base_uri": "https://localhost:8080/"
        },
        "id": "YKEsE70Yr7qG",
        "outputId": "121e9270-7ef1-4592-b55a-d3f1e852f635"
      },
      "execution_count": null,
      "outputs": [
        {
          "output_type": "stream",
          "name": "stdout",
          "text": [
            "1/1 [==============================] - 27s 27s/step\n"
          ]
        }
      ]
    },
    {
      "cell_type": "code",
      "source": [
        "a.keys()"
      ],
      "metadata": {
        "colab": {
          "base_uri": "https://localhost:8080/"
        },
        "id": "yW_AHUT3uHru",
        "outputId": "bc35722e-756a-4580-b8c5-53072c214113"
      },
      "execution_count": null,
      "outputs": [
        {
          "output_type": "execute_result",
          "data": {
            "text/plain": [
              "odict_keys(['logits', 'past_key_values'])"
            ]
          },
          "metadata": {},
          "execution_count": 12
        }
      ]
    },
    {
      "cell_type": "code",
      "source": [
        "a['logits'].shape"
      ],
      "metadata": {
        "colab": {
          "base_uri": "https://localhost:8080/"
        },
        "id": "QfAul00Wuhbw",
        "outputId": "84fc54b0-8c7b-4a84-f739-ae012fad6375"
      },
      "execution_count": null,
      "outputs": [
        {
          "output_type": "execute_result",
          "data": {
            "text/plain": [
              "(2, 1024, 50257)"
            ]
          },
          "metadata": {},
          "execution_count": 14
        }
      ]
    },
    {
      "cell_type": "code",
      "source": [
        "tokenizer.vocab_size"
      ],
      "metadata": {
        "colab": {
          "base_uri": "https://localhost:8080/"
        },
        "id": "7BEcMwn4usI0",
        "outputId": "ee88b2bc-122a-4e4c-b752-a150f1be5a34"
      },
      "execution_count": null,
      "outputs": [
        {
          "output_type": "execute_result",
          "data": {
            "text/plain": [
              "50257"
            ]
          },
          "metadata": {},
          "execution_count": 15
        }
      ]
    },
    {
      "cell_type": "code",
      "source": [
        "max_length"
      ],
      "metadata": {
        "colab": {
          "base_uri": "https://localhost:8080/"
        },
        "id": "-FApk_FtQtkq",
        "outputId": "9cd66d96-1071-45fb-c77e-f952b412eac4"
      },
      "execution_count": null,
      "outputs": [
        {
          "output_type": "execute_result",
          "data": {
            "text/plain": [
              "1024"
            ]
          },
          "metadata": {},
          "execution_count": 16
        }
      ]
    },
    {
      "cell_type": "code",
      "source": [
        "input_ids[:10]"
      ],
      "metadata": {
        "colab": {
          "base_uri": "https://localhost:8080/"
        },
        "id": "MX_2bxYvQvRr",
        "outputId": "b64fe723-f57c-4627-a4b8-5ae45e9624ad"
      },
      "execution_count": null,
      "outputs": [
        {
          "output_type": "execute_result",
          "data": {
            "text/plain": [
              "array([[ 2990,   466,   407, ...,     0,     0,     0],\n",
              "       [ 2990,   466,   284, ...,     0,     0,     0],\n",
              "       [   40,  2911,   523, ...,     0,     0,     0],\n",
              "       ...,\n",
              "       [ 2949,     0,     0, ...,     0,     0,     0],\n",
              "       [   40,  1101, 26471, ...,     0,     0,     0],\n",
              "       [ 7594,   616,  3252, ...,     0,     0,     0]], dtype=int32)"
            ]
          },
          "metadata": {},
          "execution_count": 25
        }
      ]
    },
    {
      "cell_type": "code",
      "source": [
        "input_ids.shape"
      ],
      "metadata": {
        "colab": {
          "base_uri": "https://localhost:8080/"
        },
        "id": "xGoS2ZbmTcew",
        "outputId": "444afcc1-8c49-409d-b8f9-8922907ba11b"
      },
      "execution_count": null,
      "outputs": [
        {
          "output_type": "execute_result",
          "data": {
            "text/plain": [
              "(304445, 1024)"
            ]
          },
          "metadata": {},
          "execution_count": 26
        }
      ]
    },
    {
      "cell_type": "code",
      "source": [
        "output_ids[:10]"
      ],
      "metadata": {
        "colab": {
          "base_uri": "https://localhost:8080/"
        },
        "id": "IOhzAIvPQyyy",
        "outputId": "1cf58939-2075-4199-84c7-cf2748440c8a"
      },
      "execution_count": null,
      "outputs": [
        {
          "output_type": "execute_result",
          "data": {
            "text/plain": [
              "array([[ 2990,   466,   284, ...,     0,     0,     0],\n",
              "       [   40,  2911,   523, ...,     0,     0,     0],\n",
              "       [ 3347,  8788,    30, ...,     0,     0,     0],\n",
              "       ...,\n",
              "       [   40,  1101, 26471, ...,     0,     0,     0],\n",
              "       [ 7594,   616,  3252, ...,     0,     0,     0],\n",
              "       [  464,   366,  5305, ...,     0,     0,     0]], dtype=int32)"
            ]
          },
          "metadata": {},
          "execution_count": 27
        }
      ]
    },
    {
      "cell_type": "code",
      "source": [
        "# Define the training parameters\n",
        "batch_size = 5\n",
        "epochs = 10\n",
        "\n",
        "# Create a generator\n",
        "class CustomDataGenerator(tf.keras.utils.Sequence):\n",
        "    def __init__(self, input_ids, output_ids, batch_size, shuffle=True):\n",
        "        self.input_ids = input_ids\n",
        "        self.output_ids = output_ids\n",
        "        self.batch_size = batch_size\n",
        "        self.shuffle = shuffle\n",
        "        self.indices = np.arange(len(input_ids))\n",
        "        if self.shuffle:\n",
        "            np.random.shuffle(self.indices)\n",
        "\n",
        "    def __len__(self):\n",
        "        return int(np.ceil(len(self.input_ids) / self.batch_size))\n",
        "\n",
        "    def __getitem__(self, index):\n",
        "        batch_indices = self.indices[index * self.batch_size:(index + 1) * self.batch_size]\n",
        "        batch_input_ids = self.input_ids[batch_indices]\n",
        "        batch_output_ids = self.output_ids[batch_indices]\n",
        "\n",
        "        return (batch_input_ids, batch_output_ids)\n",
        "\n",
        "    def on_epoch_end(self):\n",
        "        if self.shuffle:\n",
        "            np.random.shuffle(self.indices)\n",
        "\n",
        "# Create the custom data generator\n",
        "data_generator = CustomDataGenerator(input_ids, output_ids, batch_size)\n",
        "\n"
      ],
      "metadata": {
        "id": "MXTpDb71gIC-"
      },
      "execution_count": null,
      "outputs": []
    },
    {
      "cell_type": "code",
      "source": [
        "# Create an optimizer\n",
        "optimizer = tf.keras.optimizers.Adam(learning_rate=5e-5)\n",
        "\n",
        "# Compile the model\n",
        "model.compile(optimizer=optimizer, loss=\"sparse_categorical_crossentropy\")\n",
        "\n"
      ],
      "metadata": {
        "id": "aw_jn5auRF2I"
      },
      "execution_count": null,
      "outputs": []
    },
    {
      "cell_type": "code",
      "source": [
        "# Train the model\n",
        "model.fit(data_generator, batch_size=batch_size,epochs=epochs)\n",
        "\n",
        "# Save the trained model\n",
        "model.save_pretrained('chatbot_model')"
      ],
      "metadata": {
        "colab": {
          "base_uri": "https://localhost:8080/"
        },
        "id": "7QbXb-D3TWj_",
        "outputId": "b7f98e8c-a39a-4b40-9844-131151e616dd"
      },
      "execution_count": null,
      "outputs": [
        {
          "output_type": "stream",
          "name": "stdout",
          "text": [
            "Epoch 1/10\n"
          ]
        }
      ]
    },
    {
      "cell_type": "code",
      "source": [
        "def test():\n",
        "    tokenizer = GPT2Tokenizer.from_pretrained(\"gpt2\")\n",
        "    model = TFGPT2LMHeadModel.from_pretrained(\"chatbot_model\")\n",
        "\n",
        "    while True:\n",
        "        input_text = input(\"User: \")\n",
        "        input_tokenized = tokenizer.encode(input_text, add_special_tokens=False)\n",
        "        input_ids = tf.keras.preprocessing.sequence.pad_sequences([input_tokenized], maxlen=max_length, padding=\"post\")\n",
        "        output_ids = model.generate(input_ids, max_length=max_length, num_beams=5, no_repeat_ngram_size=2, early_stopping=True)\n",
        "        output_text = tokenizer.decode(output_ids[0], skip_special_tokens=True)\n",
        "        print(\"Bot:\", output_text)"
      ],
      "metadata": {
        "id": "vBmjLERYiggD"
      },
      "execution_count": null,
      "outputs": []
    },
    {
      "cell_type": "markdown",
      "source": [
        "# **ChatBot with GPT tiny version**"
      ],
      "metadata": {
        "id": "YdZ2tpN20zeb"
      }
    },
    {
      "cell_type": "code",
      "execution_count": null,
      "metadata": {
        "colab": {
          "base_uri": "https://localhost:8080/"
        },
        "outputId": "99a346bc-e2ec-4087-b15c-5ecb90dd525d",
        "id": "Fgx9R_xw0zed"
      },
      "outputs": [
        {
          "output_type": "stream",
          "name": "stdout",
          "text": [
            "Collecting transformers\n",
            "  Downloading transformers-4.34.0-py3-none-any.whl (7.7 MB)\n",
            "\u001b[2K     \u001b[90m━━━━━━━━━━━━━━━━━━━━━━━━━━━━━━━━━━━━━━━━\u001b[0m \u001b[32m7.7/7.7 MB\u001b[0m \u001b[31m44.8 MB/s\u001b[0m eta \u001b[36m0:00:00\u001b[0m\n",
            "\u001b[?25hRequirement already satisfied: filelock in /usr/local/lib/python3.10/dist-packages (from transformers) (3.12.4)\n",
            "Collecting huggingface-hub<1.0,>=0.16.4 (from transformers)\n",
            "  Downloading huggingface_hub-0.17.3-py3-none-any.whl (295 kB)\n",
            "\u001b[2K     \u001b[90m━━━━━━━━━━━━━━━━━━━━━━━━━━━━━━━━━━━━━━\u001b[0m \u001b[32m295.0/295.0 kB\u001b[0m \u001b[31m34.3 MB/s\u001b[0m eta \u001b[36m0:00:00\u001b[0m\n",
            "\u001b[?25hRequirement already satisfied: numpy>=1.17 in /usr/local/lib/python3.10/dist-packages (from transformers) (1.23.5)\n",
            "Requirement already satisfied: packaging>=20.0 in /usr/local/lib/python3.10/dist-packages (from transformers) (23.2)\n",
            "Requirement already satisfied: pyyaml>=5.1 in /usr/local/lib/python3.10/dist-packages (from transformers) (6.0.1)\n",
            "Requirement already satisfied: regex!=2019.12.17 in /usr/local/lib/python3.10/dist-packages (from transformers) (2023.6.3)\n",
            "Requirement already satisfied: requests in /usr/local/lib/python3.10/dist-packages (from transformers) (2.31.0)\n",
            "Collecting tokenizers<0.15,>=0.14 (from transformers)\n",
            "  Downloading tokenizers-0.14.1-cp310-cp310-manylinux_2_17_x86_64.manylinux2014_x86_64.whl (3.8 MB)\n",
            "\u001b[2K     \u001b[90m━━━━━━━━━━━━━━━━━━━━━━━━━━━━━━━━━━━━━━━━\u001b[0m \u001b[32m3.8/3.8 MB\u001b[0m \u001b[31m66.7 MB/s\u001b[0m eta \u001b[36m0:00:00\u001b[0m\n",
            "\u001b[?25hCollecting safetensors>=0.3.1 (from transformers)\n",
            "  Downloading safetensors-0.4.0-cp310-cp310-manylinux_2_17_x86_64.manylinux2014_x86_64.whl (1.3 MB)\n",
            "\u001b[2K     \u001b[90m━━━━━━━━━━━━━━━━━━━━━━━━━━━━━━━━━━━━━━━━\u001b[0m \u001b[32m1.3/1.3 MB\u001b[0m \u001b[31m78.1 MB/s\u001b[0m eta \u001b[36m0:00:00\u001b[0m\n",
            "\u001b[?25hRequirement already satisfied: tqdm>=4.27 in /usr/local/lib/python3.10/dist-packages (from transformers) (4.66.1)\n",
            "Requirement already satisfied: fsspec in /usr/local/lib/python3.10/dist-packages (from huggingface-hub<1.0,>=0.16.4->transformers) (2023.6.0)\n",
            "Requirement already satisfied: typing-extensions>=3.7.4.3 in /usr/local/lib/python3.10/dist-packages (from huggingface-hub<1.0,>=0.16.4->transformers) (4.5.0)\n",
            "Requirement already satisfied: charset-normalizer<4,>=2 in /usr/local/lib/python3.10/dist-packages (from requests->transformers) (3.3.0)\n",
            "Requirement already satisfied: idna<4,>=2.5 in /usr/local/lib/python3.10/dist-packages (from requests->transformers) (3.4)\n",
            "Requirement already satisfied: urllib3<3,>=1.21.1 in /usr/local/lib/python3.10/dist-packages (from requests->transformers) (2.0.6)\n",
            "Requirement already satisfied: certifi>=2017.4.17 in /usr/local/lib/python3.10/dist-packages (from requests->transformers) (2023.7.22)\n",
            "Installing collected packages: safetensors, huggingface-hub, tokenizers, transformers\n",
            "Successfully installed huggingface-hub-0.17.3 safetensors-0.4.0 tokenizers-0.14.1 transformers-4.34.0\n"
          ]
        }
      ],
      "source": [
        "# Install transformer package\n",
        "! pip install transformers"
      ]
    },
    {
      "cell_type": "code",
      "source": [
        "# Load packages\n",
        "import os\n",
        "import csv\n",
        "import tensorflow as tf\n",
        "from transformers import TFGPT2LMHeadModel, GPT2Tokenizer, GPT2LMHeadModel\n",
        "import numpy as np\n",
        "\n",
        "# Import packages\n",
        "\n",
        "import json\n",
        "import numpy as np\n",
        "import keras\n",
        "from keras.models import Sequential\n",
        "from keras.layers import Dense,Embedding,GlobalAveragePooling1D\n",
        "from keras.preprocessing.text import Tokenizer\n",
        "from keras.preprocessing.sequence import pad_sequences\n",
        "from sklearn.preprocessing import LabelEncoder"
      ],
      "metadata": {
        "id": "CfkexJzZ0zed"
      },
      "execution_count": null,
      "outputs": []
    },
    {
      "cell_type": "code",
      "source": [
        "# Load data\n",
        "with open('intents.json') as file:\n",
        "    data = json.load(file)\n"
      ],
      "metadata": {
        "id": "JAtryoHd0zef"
      },
      "execution_count": null,
      "outputs": []
    },
    {
      "cell_type": "code",
      "source": [
        "# Load items\n",
        "items = []\n",
        "for intent in data['intents']:\n",
        "    for patterns in intent['patterns']:\n",
        "        for responses in intent['responses']:\n",
        "            items.append((patterns, responses))\n",
        "\n",
        "items"
      ],
      "metadata": {
        "colab": {
          "base_uri": "https://localhost:8080/"
        },
        "outputId": "d7849881-ecd8-4ea9-ad6a-b28c1f0eb128",
        "id": "1vnecHCJ0zeg"
      },
      "execution_count": null,
      "outputs": [
        {
          "output_type": "execute_result",
          "data": {
            "text/plain": [
              "[('Hi there', 'Hello, thanks for asking'),\n",
              " ('Hi there', 'Good to see you again'),\n",
              " ('Hi there', 'Hi there, how can I help?'),\n",
              " ('How are you', 'Hello, thanks for asking'),\n",
              " ('How are you', 'Good to see you again'),\n",
              " ('How are you', 'Hi there, how can I help?'),\n",
              " ('Is anyone there?', 'Hello, thanks for asking'),\n",
              " ('Is anyone there?', 'Good to see you again'),\n",
              " ('Is anyone there?', 'Hi there, how can I help?'),\n",
              " ('Hey', 'Hello, thanks for asking'),\n",
              " ('Hey', 'Good to see you again'),\n",
              " ('Hey', 'Hi there, how can I help?'),\n",
              " ('Hola', 'Hello, thanks for asking'),\n",
              " ('Hola', 'Good to see you again'),\n",
              " ('Hola', 'Hi there, how can I help?'),\n",
              " ('Hello', 'Hello, thanks for asking'),\n",
              " ('Hello', 'Good to see you again'),\n",
              " ('Hello', 'Hi there, how can I help?'),\n",
              " ('Good day', 'Hello, thanks for asking'),\n",
              " ('Good day', 'Good to see you again'),\n",
              " ('Good day', 'Hi there, how can I help?'),\n",
              " ('Bye', 'See you!'),\n",
              " ('Bye', 'Have a nice day'),\n",
              " ('Bye', 'Bye! Come back again soon.'),\n",
              " ('See you later', 'See you!'),\n",
              " ('See you later', 'Have a nice day'),\n",
              " ('See you later', 'Bye! Come back again soon.'),\n",
              " ('Goodbye', 'See you!'),\n",
              " ('Goodbye', 'Have a nice day'),\n",
              " ('Goodbye', 'Bye! Come back again soon.'),\n",
              " ('Nice chatting to you, bye', 'See you!'),\n",
              " ('Nice chatting to you, bye', 'Have a nice day'),\n",
              " ('Nice chatting to you, bye', 'Bye! Come back again soon.'),\n",
              " ('Till next time', 'See you!'),\n",
              " ('Till next time', 'Have a nice day'),\n",
              " ('Till next time', 'Bye! Come back again soon.'),\n",
              " ('Thanks', 'Happy to help!'),\n",
              " ('Thanks', 'Any time!'),\n",
              " ('Thanks', 'My pleasure'),\n",
              " ('Thank you', 'Happy to help!'),\n",
              " ('Thank you', 'Any time!'),\n",
              " ('Thank you', 'My pleasure'),\n",
              " (\"That's helpful\", 'Happy to help!'),\n",
              " (\"That's helpful\", 'Any time!'),\n",
              " (\"That's helpful\", 'My pleasure'),\n",
              " ('Awesome, thanks', 'Happy to help!'),\n",
              " ('Awesome, thanks', 'Any time!'),\n",
              " ('Awesome, thanks', 'My pleasure'),\n",
              " ('Thanks for helping me', 'Happy to help!'),\n",
              " ('Thanks for helping me', 'Any time!'),\n",
              " ('Thanks for helping me', 'My pleasure'),\n",
              " ('How you could help me?',\n",
              "  'I can guide you through Adverse drug reaction list, Blood pressure tracking, Hospitals and Pharmacies'),\n",
              " ('How you could help me?',\n",
              "  'Offering support for Adverse drug reaction, Blood pressure, Hospitals and Pharmacies'),\n",
              " ('What you can do?',\n",
              "  'I can guide you through Adverse drug reaction list, Blood pressure tracking, Hospitals and Pharmacies'),\n",
              " ('What you can do?',\n",
              "  'Offering support for Adverse drug reaction, Blood pressure, Hospitals and Pharmacies'),\n",
              " ('What help you provide?',\n",
              "  'I can guide you through Adverse drug reaction list, Blood pressure tracking, Hospitals and Pharmacies'),\n",
              " ('What help you provide?',\n",
              "  'Offering support for Adverse drug reaction, Blood pressure, Hospitals and Pharmacies'),\n",
              " ('How you can be helpful?',\n",
              "  'I can guide you through Adverse drug reaction list, Blood pressure tracking, Hospitals and Pharmacies'),\n",
              " ('How you can be helpful?',\n",
              "  'Offering support for Adverse drug reaction, Blood pressure, Hospitals and Pharmacies'),\n",
              " ('What support is offered',\n",
              "  'I can guide you through Adverse drug reaction list, Blood pressure tracking, Hospitals and Pharmacies'),\n",
              " ('What support is offered',\n",
              "  'Offering support for Adverse drug reaction, Blood pressure, Hospitals and Pharmacies'),\n",
              " ('How to check Adverse drug reaction?',\n",
              "  'Navigating to Adverse drug reaction module'),\n",
              " ('Open adverse drugs module', 'Navigating to Adverse drug reaction module'),\n",
              " ('Give me a list of drugs causing adverse behavior',\n",
              "  'Navigating to Adverse drug reaction module'),\n",
              " ('List all drugs suitable for patient with adverse reaction',\n",
              "  'Navigating to Adverse drug reaction module'),\n",
              " ('Which drugs dont have adverse reaction?',\n",
              "  'Navigating to Adverse drug reaction module'),\n",
              " ('Open blood pressure module', 'Navigating to Blood Pressure module'),\n",
              " ('Task related to blood pressure', 'Navigating to Blood Pressure module'),\n",
              " ('Blood pressure data entry', 'Navigating to Blood Pressure module'),\n",
              " ('I want to log blood pressure results',\n",
              "  'Navigating to Blood Pressure module'),\n",
              " ('Blood pressure data management', 'Navigating to Blood Pressure module'),\n",
              " ('I want to search for blood pressure result history',\n",
              "  'Please provide Patient ID'),\n",
              " ('I want to search for blood pressure result history', 'Patient ID?'),\n",
              " ('Blood pressure for patient', 'Please provide Patient ID'),\n",
              " ('Blood pressure for patient', 'Patient ID?'),\n",
              " ('Load patient blood pressure result', 'Please provide Patient ID'),\n",
              " ('Load patient blood pressure result', 'Patient ID?'),\n",
              " ('Show blood pressure results for patient', 'Please provide Patient ID'),\n",
              " ('Show blood pressure results for patient', 'Patient ID?'),\n",
              " ('Find blood pressure results by ID', 'Please provide Patient ID'),\n",
              " ('Find blood pressure results by ID', 'Patient ID?'),\n",
              " ('Find me a pharmacy', 'Please provide pharmacy name'),\n",
              " ('Find pharmacy', 'Please provide pharmacy name'),\n",
              " ('List of pharmacies nearby', 'Please provide pharmacy name'),\n",
              " ('Locate pharmacy', 'Please provide pharmacy name'),\n",
              " ('Search pharmacy', 'Please provide pharmacy name'),\n",
              " ('Lookup for hospital', 'Please provide hospital name or location'),\n",
              " ('Searching for hospital to transfer patient',\n",
              "  'Please provide hospital name or location'),\n",
              " ('I want to search hospital data',\n",
              "  'Please provide hospital name or location'),\n",
              " ('Hospital lookup for patient', 'Please provide hospital name or location'),\n",
              " ('Looking up hospital details', 'Please provide hospital name or location')]"
            ]
          },
          "metadata": {},
          "execution_count": 85
        }
      ]
    },
    {
      "cell_type": "code",
      "source": [
        "# Load the GPT-2 tokenizer and model\n",
        "tokenizer = GPT2Tokenizer.from_pretrained('gpt2')\n",
        "model = TFGPT2LMHeadModel.from_pretrained('gpt2')"
      ],
      "metadata": {
        "colab": {
          "base_uri": "https://localhost:8080/"
        },
        "outputId": "3e6465eb-30a9-47d0-d605-b75b018c3eaa",
        "id": "l2bcwCng0zeg"
      },
      "execution_count": null,
      "outputs": [
        {
          "output_type": "stream",
          "name": "stderr",
          "text": [
            "All PyTorch model weights were used when initializing TFGPT2LMHeadModel.\n",
            "\n",
            "All the weights of TFGPT2LMHeadModel were initialized from the PyTorch model.\n",
            "If your task is similar to the task the model of the checkpoint was trained on, you can already use TFGPT2LMHeadModel for predictions without further training.\n"
          ]
        }
      ]
    },
    {
      "cell_type": "code",
      "source": [
        "model.summary()"
      ],
      "metadata": {
        "colab": {
          "base_uri": "https://localhost:8080/"
        },
        "outputId": "6293b5b4-6120-467b-a747-dde87f0297fc",
        "id": "smHF91mK0zeg"
      },
      "execution_count": null,
      "outputs": [
        {
          "output_type": "stream",
          "name": "stdout",
          "text": [
            "Model: \"tfgpt2lm_head_model\"\n",
            "_________________________________________________________________\n",
            " Layer (type)                Output Shape              Param #   \n",
            "=================================================================\n",
            " transformer (TFGPT2MainLay  multiple                  124439808 \n",
            " er)                                                             \n",
            "                                                                 \n",
            "=================================================================\n",
            "Total params: 124439808 (474.70 MB)\n",
            "Trainable params: 124439808 (474.70 MB)\n",
            "Non-trainable params: 0 (0.00 Byte)\n",
            "_________________________________________________________________\n"
          ]
        }
      ]
    },
    {
      "cell_type": "markdown",
      "source": [
        "**Make a test with the pretrained model**"
      ],
      "metadata": {
        "id": "we65FIrpsLbP"
      }
    },
    {
      "cell_type": "code",
      "source": [
        "tokenizer.eos_token\n"
      ],
      "metadata": {
        "colab": {
          "base_uri": "https://localhost:8080/",
          "height": 36
        },
        "id": "oHF0Lm06rSFQ",
        "outputId": "09656373-af33-411b-8595-35a5546e5cf3"
      },
      "execution_count": null,
      "outputs": [
        {
          "output_type": "execute_result",
          "data": {
            "text/plain": [
              "'<|endoftext|>'"
            ],
            "application/vnd.google.colaboratory.intrinsic+json": {
              "type": "string"
            }
          },
          "metadata": {},
          "execution_count": 41
        }
      ]
    },
    {
      "cell_type": "code",
      "source": [
        "tokenizer.pad_token = tokenizer.eos_token\n",
        "\n",
        "text_list = [\"i am a man\", \"the boy is here\"]\n",
        "\n",
        "# Tokenize the list of text\n",
        "tokenized_texts = tokenizer.batch_encode_plus(\n",
        "    text_list,\n",
        "    padding=True,        # Pad the sequences to the same length\n",
        "    truncation=True,     # Truncate sequences to a maximum length\n",
        "    return_tensors=\"tf\"  # Return tf\n",
        ")\n",
        "\n",
        "# Access the tokenized inputs and attention masks\n",
        "input_ids = tokenized_texts[\"input_ids\"]\n",
        "attention_mask = tokenized_texts[\"attention_mask\"]\n"
      ],
      "metadata": {
        "id": "A0R2sGm0pukB"
      },
      "execution_count": null,
      "outputs": []
    },
    {
      "cell_type": "code",
      "source": [
        "input_ids"
      ],
      "metadata": {
        "colab": {
          "base_uri": "https://localhost:8080/"
        },
        "id": "B_xs-cogrccP",
        "outputId": "5e86fbaf-bb24-4bdb-d861-4e6e05851adf"
      },
      "execution_count": null,
      "outputs": [
        {
          "output_type": "execute_result",
          "data": {
            "text/plain": [
              "<tf.Tensor: shape=(2, 4), dtype=int32, numpy=\n",
              "array([[  72,  716,  257,  582],\n",
              "       [1169, 2933,  318,  994]], dtype=int32)>"
            ]
          },
          "metadata": {},
          "execution_count": 43
        }
      ]
    },
    {
      "cell_type": "code",
      "source": [
        "output_ids = model.generate(input_ids, max_length=50, num_return_sequences=1, pad_token_id=tokenizer.eos_token_id)\n",
        "\n",
        "# Decode and print the generated text\n",
        "generated_text = tokenizer.decode(output_ids[0], skip_special_tokens=True)\n",
        "print(generated_text)"
      ],
      "metadata": {
        "colab": {
          "base_uri": "https://localhost:8080/"
        },
        "id": "SqVvgcYPrnfk",
        "outputId": "fbeb8481-1cef-4789-8e46-c3ddddb24499"
      },
      "execution_count": null,
      "outputs": [
        {
          "output_type": "stream",
          "name": "stdout",
          "text": [
            "i am a man of God.\n",
            "\n",
            "I am a man of God. I am a man of God. I am a man of God. I am a man of God. I am a man of God. I am a man of God\n"
          ]
        }
      ]
    },
    {
      "cell_type": "code",
      "source": [
        "generated_text = tokenizer.decode(output_ids[1], skip_special_tokens=True)\n",
        "print(generated_text)"
      ],
      "metadata": {
        "colab": {
          "base_uri": "https://localhost:8080/"
        },
        "id": "Wp4bv5dxrzhf",
        "outputId": "c9f6b4f0-dd43-46b0-f029-987a5d0b744b"
      },
      "execution_count": null,
      "outputs": [
        {
          "output_type": "stream",
          "name": "stdout",
          "text": [
            "the boy is here, and he's going to be a good kid,\" said the boy's mother, who asked not to be named.\n",
            "\n",
            "The boy's mother said she was shocked by the incident.\n",
            "\n",
            "\"I'm shocked. I\n"
          ]
        }
      ]
    },
    {
      "cell_type": "code",
      "source": [
        "# Tokenize text in conversation\n",
        "# Tokenizer use a id (int) to represent each token in the corpus\n",
        "input_ids = []\n",
        "output_ids = []\n",
        "for item in items:\n",
        "    input_ids.append(item[0])\n",
        "    output_ids.append(item[1])"
      ],
      "metadata": {
        "id": "6-f5OFOR0zeh"
      },
      "execution_count": null,
      "outputs": []
    },
    {
      "cell_type": "code",
      "source": [
        "# Show input\n",
        "input_ids[:10]"
      ],
      "metadata": {
        "colab": {
          "base_uri": "https://localhost:8080/"
        },
        "outputId": "936f1afe-63fb-4913-bdea-7bfd925cffcd",
        "id": "CEhVFvfM0zeh"
      },
      "execution_count": null,
      "outputs": [
        {
          "output_type": "execute_result",
          "data": {
            "text/plain": [
              "['Hi there',\n",
              " 'Hi there',\n",
              " 'Hi there',\n",
              " 'How are you',\n",
              " 'How are you',\n",
              " 'How are you',\n",
              " 'Is anyone there?',\n",
              " 'Is anyone there?',\n",
              " 'Is anyone there?',\n",
              " 'Hey']"
            ]
          },
          "metadata": {},
          "execution_count": 87
        }
      ]
    },
    {
      "cell_type": "code",
      "source": [
        "# Show output\n",
        "output_ids[:10]"
      ],
      "metadata": {
        "colab": {
          "base_uri": "https://localhost:8080/"
        },
        "outputId": "c16988fc-8c83-4e27-9bce-0ff29d329b62",
        "id": "F7_oh4z60zei"
      },
      "execution_count": null,
      "outputs": [
        {
          "output_type": "execute_result",
          "data": {
            "text/plain": [
              "['Hello, thanks for asking',\n",
              " 'Good to see you again',\n",
              " 'Hi there, how can I help?',\n",
              " 'Hello, thanks for asking',\n",
              " 'Good to see you again',\n",
              " 'Hi there, how can I help?',\n",
              " 'Hello, thanks for asking',\n",
              " 'Good to see you again',\n",
              " 'Hi there, how can I help?',\n",
              " 'Hello, thanks for asking']"
            ]
          },
          "metadata": {},
          "execution_count": 88
        }
      ]
    },
    {
      "cell_type": "code",
      "source": [
        "len(output_ids)"
      ],
      "metadata": {
        "colab": {
          "base_uri": "https://localhost:8080/"
        },
        "id": "0At9J14huTgZ",
        "outputId": "45c309bf-a36c-4ec6-ddf3-999be0894953"
      },
      "execution_count": null,
      "outputs": [
        {
          "output_type": "execute_result",
          "data": {
            "text/plain": [
              "91"
            ]
          },
          "metadata": {},
          "execution_count": 67
        }
      ]
    },
    {
      "cell_type": "code",
      "source": [
        "# Tokenize the list of text\n",
        "tokenizer.pad_token = tokenizer.eos_token\n",
        "input_ids = tokenizer.batch_encode_plus(\n",
        "    input_ids,\n",
        "    padding='max_length',\n",
        "    max_length=20,        # Pad the sequences to the same length\n",
        "    truncation=True,     # Truncate sequences to a maximum length\n",
        "    return_tensors=\"tf\"  # Return tf\n",
        ")\n",
        "input_ids = input_ids[\"input_ids\"]\n",
        "output_ids = tokenizer.batch_encode_plus(\n",
        "    output_ids,\n",
        "    padding='max_length',\n",
        "    max_length=20,\n",
        "    truncation=True,     # Truncate sequences to a maximum length\n",
        "    return_tensors=\"tf\"  # Return tf\n",
        ")\n",
        "output_ids = output_ids[\"input_ids\"]"
      ],
      "metadata": {
        "id": "NInofpYm0zei"
      },
      "execution_count": null,
      "outputs": []
    },
    {
      "cell_type": "code",
      "source": [
        "tokenizer.vocab_size"
      ],
      "metadata": {
        "colab": {
          "base_uri": "https://localhost:8080/"
        },
        "outputId": "cee19e56-8d1d-464f-c7a4-74ec1bf9d6e1",
        "id": "bdT6k1WS0zek"
      },
      "execution_count": null,
      "outputs": [
        {
          "output_type": "execute_result",
          "data": {
            "text/plain": [
              "50257"
            ]
          },
          "metadata": {},
          "execution_count": 91
        }
      ]
    },
    {
      "cell_type": "code",
      "source": [
        "input_ids[:10]"
      ],
      "metadata": {
        "colab": {
          "base_uri": "https://localhost:8080/"
        },
        "outputId": "a7ad7605-c621-42dc-f206-3e54c00a518b",
        "id": "-yCBhq2s0zek"
      },
      "execution_count": null,
      "outputs": [
        {
          "output_type": "execute_result",
          "data": {
            "text/plain": [
              "<tf.Tensor: shape=(10, 20), dtype=int32, numpy=\n",
              "array([[17250,   612, 50256, 50256, 50256, 50256, 50256, 50256, 50256,\n",
              "        50256, 50256, 50256, 50256, 50256, 50256, 50256, 50256, 50256,\n",
              "        50256, 50256],\n",
              "       [17250,   612, 50256, 50256, 50256, 50256, 50256, 50256, 50256,\n",
              "        50256, 50256, 50256, 50256, 50256, 50256, 50256, 50256, 50256,\n",
              "        50256, 50256],\n",
              "       [17250,   612, 50256, 50256, 50256, 50256, 50256, 50256, 50256,\n",
              "        50256, 50256, 50256, 50256, 50256, 50256, 50256, 50256, 50256,\n",
              "        50256, 50256],\n",
              "       [ 2437,   389,   345, 50256, 50256, 50256, 50256, 50256, 50256,\n",
              "        50256, 50256, 50256, 50256, 50256, 50256, 50256, 50256, 50256,\n",
              "        50256, 50256],\n",
              "       [ 2437,   389,   345, 50256, 50256, 50256, 50256, 50256, 50256,\n",
              "        50256, 50256, 50256, 50256, 50256, 50256, 50256, 50256, 50256,\n",
              "        50256, 50256],\n",
              "       [ 2437,   389,   345, 50256, 50256, 50256, 50256, 50256, 50256,\n",
              "        50256, 50256, 50256, 50256, 50256, 50256, 50256, 50256, 50256,\n",
              "        50256, 50256],\n",
              "       [ 3792,  2687,   612,    30, 50256, 50256, 50256, 50256, 50256,\n",
              "        50256, 50256, 50256, 50256, 50256, 50256, 50256, 50256, 50256,\n",
              "        50256, 50256],\n",
              "       [ 3792,  2687,   612,    30, 50256, 50256, 50256, 50256, 50256,\n",
              "        50256, 50256, 50256, 50256, 50256, 50256, 50256, 50256, 50256,\n",
              "        50256, 50256],\n",
              "       [ 3792,  2687,   612,    30, 50256, 50256, 50256, 50256, 50256,\n",
              "        50256, 50256, 50256, 50256, 50256, 50256, 50256, 50256, 50256,\n",
              "        50256, 50256],\n",
              "       [10814, 50256, 50256, 50256, 50256, 50256, 50256, 50256, 50256,\n",
              "        50256, 50256, 50256, 50256, 50256, 50256, 50256, 50256, 50256,\n",
              "        50256, 50256]], dtype=int32)>"
            ]
          },
          "metadata": {},
          "execution_count": 81
        }
      ]
    },
    {
      "cell_type": "code",
      "source": [
        "input_ids.shape"
      ],
      "metadata": {
        "colab": {
          "base_uri": "https://localhost:8080/"
        },
        "outputId": "f0312671-93f9-4c6a-8f40-fcc3857393a2",
        "id": "-h2sViPc0zel"
      },
      "execution_count": null,
      "outputs": [
        {
          "output_type": "execute_result",
          "data": {
            "text/plain": [
              "TensorShape([91, 20])"
            ]
          },
          "metadata": {},
          "execution_count": 100
        }
      ]
    },
    {
      "cell_type": "code",
      "source": [
        "output_ids[:10]"
      ],
      "metadata": {
        "colab": {
          "base_uri": "https://localhost:8080/"
        },
        "outputId": "2a31bda1-ce9c-4eb2-d622-2e58a53f5003",
        "id": "s-w-IXkj0zel"
      },
      "execution_count": null,
      "outputs": [
        {
          "output_type": "execute_result",
          "data": {
            "text/plain": [
              "<tf.Tensor: shape=(10, 20), dtype=int32, numpy=\n",
              "array([[15496,    11,  5176,   329,  4737, 50256, 50256, 50256, 50256,\n",
              "        50256, 50256, 50256, 50256, 50256, 50256, 50256, 50256, 50256,\n",
              "        50256, 50256],\n",
              "       [10248,   284,   766,   345,   757, 50256, 50256, 50256, 50256,\n",
              "        50256, 50256, 50256, 50256, 50256, 50256, 50256, 50256, 50256,\n",
              "        50256, 50256],\n",
              "       [17250,   612,    11,   703,   460,   314,  1037,    30, 50256,\n",
              "        50256, 50256, 50256, 50256, 50256, 50256, 50256, 50256, 50256,\n",
              "        50256, 50256],\n",
              "       [15496,    11,  5176,   329,  4737, 50256, 50256, 50256, 50256,\n",
              "        50256, 50256, 50256, 50256, 50256, 50256, 50256, 50256, 50256,\n",
              "        50256, 50256],\n",
              "       [10248,   284,   766,   345,   757, 50256, 50256, 50256, 50256,\n",
              "        50256, 50256, 50256, 50256, 50256, 50256, 50256, 50256, 50256,\n",
              "        50256, 50256],\n",
              "       [17250,   612,    11,   703,   460,   314,  1037,    30, 50256,\n",
              "        50256, 50256, 50256, 50256, 50256, 50256, 50256, 50256, 50256,\n",
              "        50256, 50256],\n",
              "       [15496,    11,  5176,   329,  4737, 50256, 50256, 50256, 50256,\n",
              "        50256, 50256, 50256, 50256, 50256, 50256, 50256, 50256, 50256,\n",
              "        50256, 50256],\n",
              "       [10248,   284,   766,   345,   757, 50256, 50256, 50256, 50256,\n",
              "        50256, 50256, 50256, 50256, 50256, 50256, 50256, 50256, 50256,\n",
              "        50256, 50256],\n",
              "       [17250,   612,    11,   703,   460,   314,  1037,    30, 50256,\n",
              "        50256, 50256, 50256, 50256, 50256, 50256, 50256, 50256, 50256,\n",
              "        50256, 50256],\n",
              "       [15496,    11,  5176,   329,  4737, 50256, 50256, 50256, 50256,\n",
              "        50256, 50256, 50256, 50256, 50256, 50256, 50256, 50256, 50256,\n",
              "        50256, 50256]], dtype=int32)>"
            ]
          },
          "metadata": {},
          "execution_count": 82
        }
      ]
    },
    {
      "cell_type": "code",
      "source": [
        "# Define the training parameters\n",
        "batch_size = 16\n",
        "\n",
        "# Create a generator\n",
        "class CustomDataGenerator(tf.keras.utils.Sequence):\n",
        "    def __init__(self, input_ids, output_ids, batch_size, shuffle=True):\n",
        "        self.input_ids = input_ids\n",
        "        self.output_ids = output_ids\n",
        "        self.batch_size = batch_size\n",
        "        self.shuffle = shuffle\n",
        "        self.indices = np.arange(len(input_ids))\n",
        "        if self.shuffle:\n",
        "            np.random.shuffle(self.indices)\n",
        "\n",
        "    def __len__(self):\n",
        "        return int(np.ceil(len(self.input_ids) / self.batch_size))\n",
        "\n",
        "    def __getitem__(self, index):\n",
        "        batch_indices = self.indices[index * self.batch_size:(index + 1) * self.batch_size]\n",
        "        batch_input_ids = self.input_ids[batch_indices]\n",
        "        batch_output_ids = self.output_ids[batch_indices]\n",
        "\n",
        "        return (batch_input_ids, batch_output_ids)\n",
        "\n",
        "    def on_epoch_end(self):\n",
        "        if self.shuffle:\n",
        "            np.random.shuffle(self.indices)\n",
        "\n",
        "# Create the custom data generator\n",
        "data_generator = CustomDataGenerator(input_ids, output_ids, batch_size)\n",
        "\n"
      ],
      "metadata": {
        "id": "CTQnYQpz0zel"
      },
      "execution_count": null,
      "outputs": []
    },
    {
      "cell_type": "code",
      "source": [
        "# Create an optimizer\n",
        "num_epochs=5\n",
        "optimizer = tf.keras.optimizers.Adam(learning_rate=5e-5)\n",
        "learning_rate = tf.keras.optimizers.schedules.PolynomialDecay(\n",
        "    5e-4,\n",
        "    decay_steps=len(data_generator) * num_epochs,\n",
        "    end_learning_rate=0.0,\n",
        ")\n",
        "loss = tf.keras.losses.SparseCategoricalCrossentropy(from_logits=True)\n",
        "model.compile(\n",
        "    optimizer=tf.keras.optimizers.Adam(learning_rate),\n",
        "    loss=loss,\n",
        "    weighted_metrics=[\"accuracy\"],\n",
        ")"
      ],
      "metadata": {
        "id": "WNQ9Flez0zem"
      },
      "execution_count": null,
      "outputs": []
    },
    {
      "cell_type": "code",
      "source": [
        "# Train the model\n",
        "model.fit(input_ids, output_ids, batch_size=batch_size,epochs=num_epochs)\n",
        "\n",
        "# Save the trained model\n",
        "model.save_pretrained('chatbot_model')"
      ],
      "metadata": {
        "colab": {
          "base_uri": "https://localhost:8080/"
        },
        "outputId": "9ca5129b-a5a3-4d96-c4a2-3fafc11c5bea",
        "id": "kwXsyN_z0zem"
      },
      "execution_count": null,
      "outputs": [
        {
          "output_type": "stream",
          "name": "stdout",
          "text": [
            "Epoch 1/5\n",
            "6/6 [==============================] - 132s 14s/step - loss: 5.6413 - accuracy: 0.4429\n",
            "Epoch 2/5\n",
            "6/6 [==============================] - 65s 10s/step - loss: 2.3564 - accuracy: 0.6824\n",
            "Epoch 3/5\n",
            "6/6 [==============================] - 54s 9s/step - loss: 1.7913 - accuracy: 0.6874\n",
            "Epoch 4/5\n",
            "6/6 [==============================] - 56s 9s/step - loss: 1.5518 - accuracy: 0.6896\n",
            "Epoch 5/5\n",
            "6/6 [==============================] - 61s 10s/step - loss: 1.4492 - accuracy: 0.6951\n"
          ]
        }
      ]
    },
    {
      "cell_type": "code",
      "source": [
        "a = tokenizer.batch_encode_plus(\n",
        "    [\"hello\"],\n",
        "    padding=True,        # Pad the sequences to the same length\n",
        "    truncation=True,     # Truncate sequences to a maximum length\n",
        "    return_tensors=\"tf\"  # Return tf\n",
        ")['input_ids']"
      ],
      "metadata": {
        "id": "oJ81JJPMzPd2"
      },
      "execution_count": null,
      "outputs": []
    },
    {
      "cell_type": "code",
      "source": [
        "output_ids = model.generate(a, max_length=50, pad_token_id=tokenizer.eos_token_id, no_repeat_ngram_size=2)"
      ],
      "metadata": {
        "id": "ZhDVT3ZSzuNT"
      },
      "execution_count": null,
      "outputs": []
    },
    {
      "cell_type": "code",
      "source": [
        "tokenizer.decode(output_ids[0], skip_special_tokens=True)"
      ],
      "metadata": {
        "colab": {
          "base_uri": "https://localhost:8080/",
          "height": 36
        },
        "id": "fvehBw4y2QEh",
        "outputId": "31c2c831-b9d2-452a-9ea4-00a263f4c17a"
      },
      "execution_count": null,
      "outputs": [
        {
          "output_type": "execute_result",
          "data": {
            "text/plain": [
              "'how are you can provide you provide Adverseverse'"
            ],
            "application/vnd.google.colaboratory.intrinsic+json": {
              "type": "string"
            }
          },
          "metadata": {},
          "execution_count": 158
        }
      ]
    },
    {
      "cell_type": "code",
      "source": [
        "#tokenizer = GPT2Tokenizer.from_pretrained(\"gpt2\", padding_side=\"left\")\n",
        "#model = TFGPT2LMHeadModel.from_pretrained(\"chatbot_model\")\n",
        "#tokenizer.pad_token = tokenizer.eos_token\n",
        "\n",
        "def test():\n",
        "    while True:\n",
        "        input_text = input(\"User: \")\n",
        "        input_tokenized =  tokenizer.batch_encode_plus(\n",
        "                [input_text],\n",
        "                padding=True,        # Pad the sequences to the same length\n",
        "                truncation=True,     # Truncate sequences to a maximum length\n",
        "                return_tensors=\"tf\"  # Return tf\n",
        "        )\n",
        "        input_ids = input_tokenized['input_ids']\n",
        "\n",
        "        # Calculate the maximum length for generation based on the length of input_ids\n",
        "\n",
        "\n",
        "        output_ids = model.generate(input_ids, max_length=50, pad_token_id=tokenizer.eos_token_id, no_repeat_ngram_size=2)\n",
        "\n",
        "        output_text = tokenizer.decode(output_ids[0], skip_special_tokens=True)\n",
        "        print(\"Bot:\", output_text)\n"
      ],
      "metadata": {
        "id": "W8gfqnZ50zem"
      },
      "execution_count": null,
      "outputs": []
    },
    {
      "cell_type": "code",
      "source": [
        "test()"
      ],
      "metadata": {
        "colab": {
          "base_uri": "https://localhost:8080/",
          "height": 520
        },
        "id": "mpHOPM6R9WqE",
        "outputId": "08c539ac-d230-4ab4-ddfa-09a7c0b0a71e"
      },
      "execution_count": null,
      "outputs": [
        {
          "output_type": "stream",
          "name": "stdout",
          "text": [
            "User: hello\n",
            "Bot: helloHello\n",
            "User: Hi there\n",
            "Bot: Hi there to provide you provide Adverseverse\n",
            "User: how are you\n",
            "Bot: how are you can provide you provide Adverseverse\n",
            "User: no thanks\n",
            "Bot: no thanks!!\n",
            "User: how you could help me\n",
            "Bot: how you could help me provide Adverseverse Ad Ad\n"
          ]
        },
        {
          "output_type": "error",
          "ename": "KeyboardInterrupt",
          "evalue": "ignored",
          "traceback": [
            "\u001b[0;31m---------------------------------------------------------------------------\u001b[0m",
            "\u001b[0;31mKeyboardInterrupt\u001b[0m                         Traceback (most recent call last)",
            "\u001b[0;32m<ipython-input-164-fbd55f77ab7c>\u001b[0m in \u001b[0;36m<cell line: 1>\u001b[0;34m()\u001b[0m\n\u001b[0;32m----> 1\u001b[0;31m \u001b[0mtest\u001b[0m\u001b[0;34m(\u001b[0m\u001b[0;34m)\u001b[0m\u001b[0;34m\u001b[0m\u001b[0;34m\u001b[0m\u001b[0m\n\u001b[0m",
            "\u001b[0;32m<ipython-input-163-b192941af431>\u001b[0m in \u001b[0;36mtest\u001b[0;34m()\u001b[0m\n\u001b[1;32m      5\u001b[0m \u001b[0;32mdef\u001b[0m \u001b[0mtest\u001b[0m\u001b[0;34m(\u001b[0m\u001b[0;34m)\u001b[0m\u001b[0;34m:\u001b[0m\u001b[0;34m\u001b[0m\u001b[0;34m\u001b[0m\u001b[0m\n\u001b[1;32m      6\u001b[0m     \u001b[0;32mwhile\u001b[0m \u001b[0;32mTrue\u001b[0m\u001b[0;34m:\u001b[0m\u001b[0;34m\u001b[0m\u001b[0;34m\u001b[0m\u001b[0m\n\u001b[0;32m----> 7\u001b[0;31m         \u001b[0minput_text\u001b[0m \u001b[0;34m=\u001b[0m \u001b[0minput\u001b[0m\u001b[0;34m(\u001b[0m\u001b[0;34m\"User: \"\u001b[0m\u001b[0;34m)\u001b[0m\u001b[0;34m\u001b[0m\u001b[0;34m\u001b[0m\u001b[0m\n\u001b[0m\u001b[1;32m      8\u001b[0m         input_tokenized =  tokenizer.batch_encode_plus(\n\u001b[1;32m      9\u001b[0m                 \u001b[0;34m[\u001b[0m\u001b[0minput_text\u001b[0m\u001b[0;34m]\u001b[0m\u001b[0;34m,\u001b[0m\u001b[0;34m\u001b[0m\u001b[0;34m\u001b[0m\u001b[0m\n",
            "\u001b[0;32m/usr/local/lib/python3.10/dist-packages/ipykernel/kernelbase.py\u001b[0m in \u001b[0;36mraw_input\u001b[0;34m(self, prompt)\u001b[0m\n\u001b[1;32m    849\u001b[0m                 \u001b[0;34m\"raw_input was called, but this frontend does not support input requests.\"\u001b[0m\u001b[0;34m\u001b[0m\u001b[0;34m\u001b[0m\u001b[0m\n\u001b[1;32m    850\u001b[0m             )\n\u001b[0;32m--> 851\u001b[0;31m         return self._input_request(str(prompt),\n\u001b[0m\u001b[1;32m    852\u001b[0m             \u001b[0mself\u001b[0m\u001b[0;34m.\u001b[0m\u001b[0m_parent_ident\u001b[0m\u001b[0;34m,\u001b[0m\u001b[0;34m\u001b[0m\u001b[0;34m\u001b[0m\u001b[0m\n\u001b[1;32m    853\u001b[0m             \u001b[0mself\u001b[0m\u001b[0;34m.\u001b[0m\u001b[0m_parent_header\u001b[0m\u001b[0;34m,\u001b[0m\u001b[0;34m\u001b[0m\u001b[0;34m\u001b[0m\u001b[0m\n",
            "\u001b[0;32m/usr/local/lib/python3.10/dist-packages/ipykernel/kernelbase.py\u001b[0m in \u001b[0;36m_input_request\u001b[0;34m(self, prompt, ident, parent, password)\u001b[0m\n\u001b[1;32m    893\u001b[0m             \u001b[0;32mexcept\u001b[0m \u001b[0mKeyboardInterrupt\u001b[0m\u001b[0;34m:\u001b[0m\u001b[0;34m\u001b[0m\u001b[0;34m\u001b[0m\u001b[0m\n\u001b[1;32m    894\u001b[0m                 \u001b[0;31m# re-raise KeyboardInterrupt, to truncate traceback\u001b[0m\u001b[0;34m\u001b[0m\u001b[0;34m\u001b[0m\u001b[0m\n\u001b[0;32m--> 895\u001b[0;31m                 \u001b[0;32mraise\u001b[0m \u001b[0mKeyboardInterrupt\u001b[0m\u001b[0;34m(\u001b[0m\u001b[0;34m\"Interrupted by user\"\u001b[0m\u001b[0;34m)\u001b[0m \u001b[0;32mfrom\u001b[0m \u001b[0;32mNone\u001b[0m\u001b[0;34m\u001b[0m\u001b[0;34m\u001b[0m\u001b[0m\n\u001b[0m\u001b[1;32m    896\u001b[0m             \u001b[0;32mexcept\u001b[0m \u001b[0mException\u001b[0m \u001b[0;32mas\u001b[0m \u001b[0me\u001b[0m\u001b[0;34m:\u001b[0m\u001b[0;34m\u001b[0m\u001b[0;34m\u001b[0m\u001b[0m\n\u001b[1;32m    897\u001b[0m                 \u001b[0mself\u001b[0m\u001b[0;34m.\u001b[0m\u001b[0mlog\u001b[0m\u001b[0;34m.\u001b[0m\u001b[0mwarning\u001b[0m\u001b[0;34m(\u001b[0m\u001b[0;34m\"Invalid Message:\"\u001b[0m\u001b[0;34m,\u001b[0m \u001b[0mexc_info\u001b[0m\u001b[0;34m=\u001b[0m\u001b[0;32mTrue\u001b[0m\u001b[0;34m)\u001b[0m\u001b[0;34m\u001b[0m\u001b[0;34m\u001b[0m\u001b[0m\n",
            "\u001b[0;31mKeyboardInterrupt\u001b[0m: Interrupted by user"
          ]
        }
      ]
    },
    {
      "cell_type": "markdown",
      "source": [
        "https://mrmaheshrajput.medium.com/how-to-build-an-intelligent-qa-chatbot-on-your-data-with-llm-or-chatgpt-d0009d256dce"
      ],
      "metadata": {
        "id": "sz0XxU9v9olZ"
      }
    },
    {
      "cell_type": "markdown",
      "source": [
        "# **GPT2 Text Generation**"
      ],
      "metadata": {
        "id": "WgnFIcOo-6l-"
      }
    },
    {
      "cell_type": "code",
      "source": [
        "!pip install git+https://github.com/keras-team/keras-nlp.git -q"
      ],
      "metadata": {
        "colab": {
          "base_uri": "https://localhost:8080/"
        },
        "id": "YkCuhWUI-_US",
        "outputId": "f41c7b79-fc0e-416a-c930-70bbd7075519"
      },
      "execution_count": null,
      "outputs": [
        {
          "output_type": "stream",
          "name": "stdout",
          "text": [
            "  Installing build dependencies ... \u001b[?25l\u001b[?25hdone\n",
            "  Getting requirements to build wheel ... \u001b[?25l\u001b[?25hdone\n",
            "  Preparing metadata (pyproject.toml) ... \u001b[?25l\u001b[?25hdone\n",
            "\u001b[2K     \u001b[90m━━━━━━━━━━━━━━━━━━━━━━━━━━━━━━━━━━━━━━━\u001b[0m \u001b[32m950.8/950.8 kB\u001b[0m \u001b[31m5.4 MB/s\u001b[0m eta \u001b[36m0:00:00\u001b[0m\n",
            "\u001b[2K     \u001b[90m━━━━━━━━━━━━━━━━━━━━━━━━━━━━━━━━━━━━━━━━\u001b[0m \u001b[32m6.5/6.5 MB\u001b[0m \u001b[31m10.8 MB/s\u001b[0m eta \u001b[36m0:00:00\u001b[0m\n",
            "\u001b[2K     \u001b[90m━━━━━━━━━━━━━━━━━━━━━━━━━━━━━━━━━━━━━━━\u001b[0m \u001b[32m489.8/489.8 MB\u001b[0m \u001b[31m3.3 MB/s\u001b[0m eta \u001b[36m0:00:00\u001b[0m\n",
            "\u001b[2K     \u001b[90m━━━━━━━━━━━━━━━━━━━━━━━━━━━━━━━━━━━━━━━━\u001b[0m \u001b[32m1.0/1.0 MB\u001b[0m \u001b[31m41.5 MB/s\u001b[0m eta \u001b[36m0:00:00\u001b[0m\n",
            "\u001b[2K     \u001b[90m━━━━━━━━━━━━━━━━━━━━━━━━━━━━━━━━━━━━━━━━\u001b[0m \u001b[32m77.9/77.9 kB\u001b[0m \u001b[31m7.5 MB/s\u001b[0m eta \u001b[36m0:00:00\u001b[0m\n",
            "\u001b[2K     \u001b[90m━━━━━━━━━━━━━━━━━━━━━━━━━━━━━━━━━━━━━━━━\u001b[0m \u001b[32m5.5/5.5 MB\u001b[0m \u001b[31m69.0 MB/s\u001b[0m eta \u001b[36m0:00:00\u001b[0m\n",
            "\u001b[2K     \u001b[90m━━━━━━━━━━━━━━━━━━━━━━━━━━━━━━━━━━━━━━\u001b[0m \u001b[32m440.7/440.7 kB\u001b[0m \u001b[31m35.4 MB/s\u001b[0m eta \u001b[36m0:00:00\u001b[0m\n",
            "\u001b[2K     \u001b[90m━━━━━━━━━━━━━━━━━━━━━━━━━━━━━━━━━━━━━━━━\u001b[0m \u001b[32m1.7/1.7 MB\u001b[0m \u001b[31m53.9 MB/s\u001b[0m eta \u001b[36m0:00:00\u001b[0m\n",
            "\u001b[?25h  Building wheel for keras-nlp (pyproject.toml) ... \u001b[?25l\u001b[?25hdone\n"
          ]
        }
      ]
    },
    {
      "cell_type": "code",
      "source": [
        "import os\n",
        "os.environ[\"KERAS_BACKEND\"] = \"jax\"  # or \"tensorflow\" or \"torch\"\n",
        "import keras_nlp\n",
        "import tensorflow as tf\n",
        "import keras_core as keras\n",
        "import time"
      ],
      "metadata": {
        "colab": {
          "base_uri": "https://localhost:8080/"
        },
        "id": "waBVEZDY_IS0",
        "outputId": "05ea27c8-adbf-40d2-c1c9-94456b68d317"
      },
      "execution_count": null,
      "outputs": [
        {
          "output_type": "stream",
          "name": "stdout",
          "text": [
            "Using JAX backend.\n"
          ]
        }
      ]
    },
    {
      "cell_type": "code",
      "source": [
        "preprocessor = keras_nlp.models.GPT2CausalLMPreprocessor.from_preset(\n",
        "    \"gpt2_base_en\",\n",
        "    sequence_length=128,\n",
        ")\n",
        "gpt2_lm = keras_nlp.models.GPT2CausalLM.from_preset(\n",
        "    \"gpt2_base_en\", preprocessor=preprocessor\n",
        ")"
      ],
      "metadata": {
        "id": "f2Ee8HdK_bmP"
      },
      "execution_count": null,
      "outputs": []
    },
    {
      "cell_type": "code",
      "source": [
        "# Generate a text\n",
        "output = gpt2_lm.generate(\"The goal of apple company\", max_length=200)\n",
        "print(\"\\nGPT-2 output:\")\n",
        "print(output)"
      ],
      "metadata": {
        "colab": {
          "base_uri": "https://localhost:8080/"
        },
        "id": "VgwbyqaL_n6X",
        "outputId": "507d454a-d107-4836-cf75-32ee9e254530"
      },
      "execution_count": null,
      "outputs": [
        {
          "output_type": "stream",
          "name": "stdout",
          "text": [
            "\n",
            "GPT-2 output:\n",
            "The goal of apple company, Inc. was to make a better apple.\n",
            "\n",
            "\"I don't know how you would describe it, but the apple is the best apple we ever tasted, so we're very pleased with it,\" said Steve Hirsch, Apple's president and CEO. \"It is one of the best apples ever.\"\n",
            "\n",
            "The company is now working with the U.S. Department of Agriculture to develop and sell the apple.\n",
            "\n",
            "The company is currently testing its product on apples grown by farmers in the Midwest, and is also working with the U.S. Department of Agriculture to test its products on apples grown in the Midwest.\n",
            "\n",
            "Apple's apple has been the focus of controversy since its introduction in 2007 and its reputation has been tarnished by its poor quality.\n",
            "\n",
            "Apple's reputation has been tarnished by a series of lawsuits that it has filed against the U.S. government, which is investigating the company for fraud.\n",
            "\n",
            "Apple is\n"
          ]
        }
      ]
    },
    {
      "cell_type": "code",
      "source": [
        "# Generate a text\n",
        "output = gpt2_lm.generate(\"steave jobs\", max_length=200)\n",
        "print(\"\\nGPT-2 output:\")\n",
        "print(output)"
      ],
      "metadata": {
        "id": "bgmDuYcZEvfO"
      },
      "execution_count": null,
      "outputs": []
    },
    {
      "cell_type": "markdown",
      "source": [
        "## Fine-tune GPT2"
      ],
      "metadata": {
        "id": "isWP9prXAiDY"
      }
    },
    {
      "cell_type": "code",
      "source": [
        "import tensorflow_datasets as tfds\n",
        "\n",
        "reddit_ds = tfds.load(\"reddit_tifu\", split=\"train\", as_supervised=True)"
      ],
      "metadata": {
        "colab": {
          "base_uri": "https://localhost:8080/",
          "height": 150,
          "referenced_widgets": [
            "128fd3b22bce4cd385646944ad88deef",
            "cdedfffdf48842d68269bd8a9afd1877",
            "97389f5c8ac542669bebef3387796b9f",
            "906d1576daf944ea9fc94a9502ccec20",
            "bbc4af8234664b33aebfe21279033f8c",
            "522627eb358848f1b4f2ff204f114793",
            "73050f3adcde446d8a1d49587f1254ee",
            "9862c3f525cd4f59959c4917130369bf",
            "72bc01742a4d4fa8801fa5ba1bb54dc7",
            "45945f24ca594447be4e532e2063875b",
            "7d40b58023374226a7c7940b2faf7b86",
            "5b3970b4955d4824ae26c40d2168bd97",
            "681ae650a5044862bf7d67fc8d0e15ad",
            "d686238472e3497e8d23105ebb174b46",
            "b541689a959c4929a2ab607b5fa56484",
            "34edf06132c0462baebb76e9fdc66b15",
            "622d394feedd41b4b13671b68a76fa1f",
            "e2e5609c68cc49fcb8ab1e95539ce7d7",
            "4b8007dff53344e59d7d64798f932186",
            "520c264f94044242b8b8c0adad3ff41f",
            "18328ec1f3664065b4079d6c18eb9d59",
            "8b865e23199242159a7825825c4fad20",
            "bc2a8f8c16384f9db95bc88ad7961bf6",
            "e02b0564a06a472586bb44a29f6fd31b",
            "32ee88fde4414ebaaedcc3c2d2f7cb35",
            "651e69f0a5324724a1ce66f1e5656b83",
            "4ab7682aa22449829a52cbeee5768c6f",
            "51ab58a308e74d6d8485fd6df220ff7b",
            "b3f584248e01408683de1ef12a764f96",
            "13950f972b2440d48023576363bb0952",
            "bdc2220502fb483ba34aa45e2f721b12",
            "14dfd524ce4a41229f7cd7fac0b66586",
            "99d07688c3a64a27917a870883556a5f",
            "43289f2d5bc1433bbb982f0ee1756e09",
            "e0291b9c937742aaacaf3633ccb479e0",
            "1014be07f4c94c0ebfe8f76aa20f1797",
            "b4e149eadb554884b842fbd5eeaf20fb",
            "6b501a649dc3464ca349ac4e4cf3484d",
            "b311ac45d2e64c989a88ba6eb0a15351",
            "589e4afca3b94c88aafba01d17bc73c9",
            "6591cc24dd0c4c1da49d026ce3b19e23",
            "d586f944c10348acacca1a426f354fe8",
            "abf05f8a86fd428991f863abf4b13be6",
            "4110891cfb30448eb6603042ca88b8a1",
            "b153996e386348f0a5ce7b44966feaff",
            "5684ea80d5f34ab0a64e107f6ccf88f7",
            "908d62bc73ed443faadd167d74456f77",
            "1a6d2e28d59b44709fcb8c2cc9f93472",
            "793334c5948a4a82a3297005f0ab5eee",
            "63c89283ec1540f692d2106a06520edb",
            "5edbb348854c46a9bb24a855db8c87e5",
            "a93e57e824c744f7a30202763b3749c1",
            "82102ffd6a5944d18df7b4df973fdea9",
            "58f4baa495554a5394dfdfeb0db8839d",
            "84e77c2f15a04857b9a78d9f0a4b7747",
            "79cd2b9fbc4b4099bf2f7e9557b2d4d5",
            "ef143ae9e6fb4ac9a6419419e01b75e4",
            "2862b42bec704b32ab9d5170e5366136",
            "60e3972f4d53476eb82ab432d288fd7e",
            "e5c1a73a7eaa4f3681592f40caedadfb",
            "04eadcb603e14ffda2df3ad9a7597ce1",
            "ba0d2d13d9294af3b4da6e94fed70b91",
            "90851cba130749bca9705f134a1d3e2f",
            "4eea3db910064a35bf44652807a5d72f",
            "3a6eb36aa96e4571956691a98b4e794a",
            "0eb1969561f24033996fdc7fa5476a5b"
          ]
        },
        "id": "jvjae3IqAkxR",
        "outputId": "98a44f86-1d71-4202-fe04-d43844d924bf"
      },
      "execution_count": null,
      "outputs": [
        {
          "output_type": "stream",
          "name": "stdout",
          "text": [
            "Downloading and preparing dataset 639.54 MiB (download: 639.54 MiB, generated: 141.46 MiB, total: 781.00 MiB) to /root/tensorflow_datasets/reddit_tifu/short/1.1.2...\n"
          ]
        },
        {
          "output_type": "display_data",
          "data": {
            "text/plain": [
              "Dl Completed...: 0 url [00:00, ? url/s]"
            ],
            "application/vnd.jupyter.widget-view+json": {
              "version_major": 2,
              "version_minor": 0,
              "model_id": "128fd3b22bce4cd385646944ad88deef"
            }
          },
          "metadata": {}
        },
        {
          "output_type": "display_data",
          "data": {
            "text/plain": [
              "Dl Size...: 0 MiB [00:00, ? MiB/s]"
            ],
            "application/vnd.jupyter.widget-view+json": {
              "version_major": 2,
              "version_minor": 0,
              "model_id": "5b3970b4955d4824ae26c40d2168bd97"
            }
          },
          "metadata": {}
        },
        {
          "output_type": "display_data",
          "data": {
            "text/plain": [
              "Extraction completed...: 0 file [00:00, ? file/s]"
            ],
            "application/vnd.jupyter.widget-view+json": {
              "version_major": 2,
              "version_minor": 0,
              "model_id": "bc2a8f8c16384f9db95bc88ad7961bf6"
            }
          },
          "metadata": {}
        },
        {
          "output_type": "display_data",
          "data": {
            "text/plain": [
              "Generating splits...:   0%|          | 0/1 [00:00<?, ? splits/s]"
            ],
            "application/vnd.jupyter.widget-view+json": {
              "version_major": 2,
              "version_minor": 0,
              "model_id": "43289f2d5bc1433bbb982f0ee1756e09"
            }
          },
          "metadata": {}
        },
        {
          "output_type": "display_data",
          "data": {
            "text/plain": [
              "Generating train examples...:   0%|          | 0/79740 [00:00<?, ? examples/s]"
            ],
            "application/vnd.jupyter.widget-view+json": {
              "version_major": 2,
              "version_minor": 0,
              "model_id": "b153996e386348f0a5ce7b44966feaff"
            }
          },
          "metadata": {}
        },
        {
          "output_type": "display_data",
          "data": {
            "text/plain": [
              "Shuffling /root/tensorflow_datasets/reddit_tifu/short/1.1.2.incompleteXTPWMX/reddit_tifu-train.tfrecord*...:  …"
            ],
            "application/vnd.jupyter.widget-view+json": {
              "version_major": 2,
              "version_minor": 0,
              "model_id": "79cd2b9fbc4b4099bf2f7e9557b2d4d5"
            }
          },
          "metadata": {}
        },
        {
          "output_type": "stream",
          "name": "stdout",
          "text": [
            "Dataset reddit_tifu downloaded and prepared to /root/tensorflow_datasets/reddit_tifu/short/1.1.2. Subsequent calls will reuse this data.\n"
          ]
        }
      ]
    },
    {
      "cell_type": "code",
      "source": [
        "reddit_ds"
      ],
      "metadata": {
        "colab": {
          "base_uri": "https://localhost:8080/"
        },
        "id": "FDHk8xOVCIOK",
        "outputId": "ce88c052-8ae0-406c-9aa2-7a8545a8072c"
      },
      "execution_count": null,
      "outputs": [
        {
          "output_type": "execute_result",
          "data": {
            "text/plain": [
              "<_PrefetchDataset element_spec=(TensorSpec(shape=(), dtype=tf.string, name=None), TensorSpec(shape=(), dtype=tf.string, name=None))>"
            ]
          },
          "metadata": {},
          "execution_count": 7
        }
      ]
    },
    {
      "cell_type": "code",
      "source": [
        "for document, title in reddit_ds:\n",
        "    print(document.numpy())\n",
        "    print(title.numpy())\n",
        "    break"
      ],
      "metadata": {
        "colab": {
          "base_uri": "https://localhost:8080/"
        },
        "id": "dWccJcP2Byz9",
        "outputId": "bcef1398-dda2-4ce1-dcdc-af54fb7680e6"
      },
      "execution_count": null,
      "outputs": [
        {
          "output_type": "stream",
          "name": "stdout",
          "text": [
            "b\"me and a friend decided to go to the beach last sunday. we loaded up and headed out. we were about half way there when i decided that i was not leaving till i had seafood. \\n\\nnow i'm not talking about red lobster. no friends i'm talking about a low country boil. i found the restaurant and got directions. i don't know if any of you have heard about the crab shack on tybee island but let me tell you it's worth it. \\n\\nwe arrived and was seated quickly. we decided to get a seafood sampler for two and split it. the waitress bought it out on separate platters for us. the amount of food was staggering. two types of crab, shrimp, mussels, crawfish, andouille sausage, red potatoes, and corn on the cob. i managed to finish it and some of my friends crawfish and mussels. it was a day to be a fat ass. we finished paid for our food and headed to the beach. \\n\\nfunny thing about seafood. it runs through me faster than a kenyan \\n\\nwe arrived and walked around a bit. it was about 45min since we arrived at the beach when i felt a rumble from the depths of my stomach. i ignored it i didn't want my stomach to ruin our fun. i pushed down the feeling and continued. about 15min later the feeling was back and stronger than before. again i ignored it and continued. 5min later it felt like a nuclear reactor had just exploded in my stomach. i started running. i yelled to my friend to hurry the fuck up. \\n\\nrunning in sand is extremely hard if you did not know this. we got in his car and i yelled at him to floor it. my stomach was screaming and if he didn't hurry i was gonna have this baby in his car and it wasn't gonna be pretty. after a few red lights and me screaming like a woman in labor we made it to the store. \\n\\ni practically tore his car door open and ran inside. i ran to the bathroom opened the door and barely got my pants down before the dam burst and a flood of shit poured from my ass. \\n\\ni finished up when i felt something wet on my ass. i rubbed it thinking it was back splash. no, mass was covered in the after math of me abusing the toilet. i grabbed all the paper towels i could and gave my self a whores bath right there. \\n\\ni sprayed the bathroom down with the air freshener and left. an elderly lady walked in quickly and closed the door. i was just about to walk away when i heard gag. instead of walking i ran. i got to the car and told him to get the hell out of there.\"\n",
            "b'liking seafood'\n"
          ]
        }
      ]
    },
    {
      "cell_type": "code",
      "source": [
        "train_ds = (\n",
        "    reddit_ds.map(lambda document, _: document)\n",
        "    .batch(32)\n",
        "    .cache()\n",
        "    .prefetch(tf.data.AUTOTUNE)\n",
        ")"
      ],
      "metadata": {
        "id": "jYQyGXKoCQTE"
      },
      "execution_count": null,
      "outputs": []
    },
    {
      "cell_type": "code",
      "source": [
        "train_ds = train_ds.take(500)\n",
        "num_epochs = 1\n",
        "\n",
        "# Linearly decaying learning rate.\n",
        "learning_rate = keras.optimizers.schedules.PolynomialDecay(\n",
        "    5e-5,\n",
        "    decay_steps=train_ds.cardinality() * num_epochs,\n",
        "    end_learning_rate=0.0,\n",
        ")\n",
        "loss = keras.losses.SparseCategoricalCrossentropy(from_logits=True)\n",
        "gpt2_lm.compile(\n",
        "    optimizer=keras.optimizers.Adam(learning_rate),\n",
        "    loss=loss,\n",
        "    weighted_metrics=[\"accuracy\"],\n",
        ")\n",
        "\n",
        "gpt2_lm.fit(train_ds, epochs=num_epochs)"
      ],
      "metadata": {
        "id": "wGL-sixsCU0J"
      },
      "execution_count": null,
      "outputs": []
    },
    {
      "cell_type": "code",
      "source": [
        "output = gpt2_lm.generate(\"I like basketball\", max_length=200)\n",
        "print(\"\\nGPT-2 output:\")\n",
        "print(output)"
      ],
      "metadata": {
        "id": "rXO7m1YWCkWw"
      },
      "execution_count": null,
      "outputs": []
    },
    {
      "cell_type": "code",
      "source": [
        "# SEARCH FOR TOP-K\n",
        "# Use a string identifier.\n",
        "gpt2_lm.compile(sampler=\"top_k\")\n",
        "output = gpt2_lm.generate(\"I like basketball\", max_length=200)\n",
        "print(\"\\nGPT-2 output:\")\n",
        "print(output)\n",
        "\n",
        "# Use a `Sampler` instance. `GreedySampler` tends to repeat itself,\n",
        "greedy_sampler = keras_nlp.samplers.GreedySampler()\n",
        "gpt2_lm.compile(sampler=greedy_sampler)\n",
        "\n",
        "output = gpt2_lm.generate(\"I like basketball\", max_length=200)\n",
        "print(\"\\nGPT-2 output:\")\n",
        "print(output)"
      ],
      "metadata": {
        "id": "4mvfao_UC8TC"
      },
      "execution_count": null,
      "outputs": []
    },
    {
      "cell_type": "markdown",
      "source": [
        "## Finetune on Chinese Poem Dataset"
      ],
      "metadata": {
        "id": "EqrUlGcODn-_"
      }
    },
    {
      "cell_type": "code",
      "source": [
        "!git clone https://github.com/chinese-poetry/chinese-poetry.git"
      ],
      "metadata": {
        "id": "tqCf2RArDciN"
      },
      "execution_count": null,
      "outputs": []
    },
    {
      "cell_type": "code",
      "source": [
        "import os\n",
        "import json\n",
        "\n",
        "poem_collection = []\n",
        "for file in os.listdir(\"chinese-poetry/全唐诗\"):\n",
        "    if \".json\" not in file or \"poet\" not in file:\n",
        "        continue\n",
        "    full_filename = \"%s/%s\" % (\"chinese-poetry/全唐诗\", file)\n",
        "    with open(full_filename, \"r\") as f:\n",
        "        content = json.load(f)\n",
        "        poem_collection.extend(content)\n",
        "\n",
        "paragraphs = [\"\".join(data[\"paragraphs\"]) for data in poem_collection]"
      ],
      "metadata": {
        "id": "1jCeYrXTDy2r"
      },
      "execution_count": null,
      "outputs": []
    },
    {
      "cell_type": "code",
      "source": [
        "print(paragraphs[0])"
      ],
      "metadata": {
        "id": "BxCPWGhGD12K"
      },
      "execution_count": null,
      "outputs": []
    },
    {
      "cell_type": "code",
      "source": [
        "train_ds = (\n",
        "    tf.data.Dataset.from_tensor_slices(paragraphs)\n",
        "    .batch(16)\n",
        "    .cache()\n",
        "    .prefetch(tf.data.AUTOTUNE)\n",
        ")\n",
        "\n",
        "# Running through the whole dataset takes long, only take `500` and run 1\n",
        "# epochs for demo purposes.\n",
        "train_ds = train_ds.take(500)\n",
        "num_epochs = 1\n",
        "\n",
        "learning_rate = keras.optimizers.schedules.PolynomialDecay(\n",
        "    5e-4,\n",
        "    decay_steps=train_ds.cardinality() * num_epochs,\n",
        "    end_learning_rate=0.0,\n",
        ")\n",
        "loss = keras.losses.SparseCategoricalCrossentropy(from_logits=True)\n",
        "gpt2_lm.compile(\n",
        "    optimizer=keras.optimizers.Adam(learning_rate),\n",
        "    loss=loss,\n",
        "    weighted_metrics=[\"accuracy\"],\n",
        ")\n",
        "\n",
        "gpt2_lm.fit(train_ds, epochs=num_epochs)"
      ],
      "metadata": {
        "id": "mOzOroA3D5qu"
      },
      "execution_count": null,
      "outputs": []
    },
    {
      "cell_type": "code",
      "source": [
        "output = gpt2_lm.generate(\"昨夜雨疏风骤\", max_length=200)\n",
        "print(output)"
      ],
      "metadata": {
        "id": "vfoJGYQwEAd9"
      },
      "execution_count": null,
      "outputs": []
    },
    {
      "cell_type": "markdown",
      "source": [
        "# **Question Answering**"
      ],
      "metadata": {
        "id": "g3wN5V1PXof6"
      }
    },
    {
      "cell_type": "markdown",
      "source": [
        "https://huggingface.co/docs/transformers/tasks/question_answering"
      ],
      "metadata": {
        "id": "qqdmYv70qAkb"
      }
    },
    {
      "cell_type": "code",
      "source": [
        "! pip install transformers datasets evaluate"
      ],
      "metadata": {
        "colab": {
          "base_uri": "https://localhost:8080/"
        },
        "id": "BUq29sgtXr5K",
        "outputId": "03e0bb67-9ea1-4216-c725-a29186066615"
      },
      "execution_count": null,
      "outputs": [
        {
          "output_type": "stream",
          "name": "stdout",
          "text": [
            "Collecting transformers\n",
            "  Downloading transformers-4.34.0-py3-none-any.whl (7.7 MB)\n",
            "\u001b[2K     \u001b[90m━━━━━━━━━━━━━━━━━━━━━━━━━━━━━━━━━━━━━━━━\u001b[0m \u001b[32m7.7/7.7 MB\u001b[0m \u001b[31m27.5 MB/s\u001b[0m eta \u001b[36m0:00:00\u001b[0m\n",
            "\u001b[?25hCollecting datasets\n",
            "  Downloading datasets-2.14.5-py3-none-any.whl (519 kB)\n",
            "\u001b[2K     \u001b[90m━━━━━━━━━━━━━━━━━━━━━━━━━━━━━━━━━━━━━━\u001b[0m \u001b[32m519.6/519.6 kB\u001b[0m \u001b[31m38.5 MB/s\u001b[0m eta \u001b[36m0:00:00\u001b[0m\n",
            "\u001b[?25hCollecting evaluate\n",
            "  Downloading evaluate-0.4.0-py3-none-any.whl (81 kB)\n",
            "\u001b[2K     \u001b[90m━━━━━━━━━━━━━━━━━━━━━━━━━━━━━━━━━━━━━━━━\u001b[0m \u001b[32m81.4/81.4 kB\u001b[0m \u001b[31m9.8 MB/s\u001b[0m eta \u001b[36m0:00:00\u001b[0m\n",
            "\u001b[?25hRequirement already satisfied: filelock in /usr/local/lib/python3.10/dist-packages (from transformers) (3.12.4)\n",
            "Collecting huggingface-hub<1.0,>=0.16.4 (from transformers)\n",
            "  Downloading huggingface_hub-0.18.0-py3-none-any.whl (301 kB)\n",
            "\u001b[2K     \u001b[90m━━━━━━━━━━━━━━━━━━━━━━━━━━━━━━━━━━━━━━\u001b[0m \u001b[32m302.0/302.0 kB\u001b[0m \u001b[31m31.0 MB/s\u001b[0m eta \u001b[36m0:00:00\u001b[0m\n",
            "\u001b[?25hRequirement already satisfied: numpy>=1.17 in /usr/local/lib/python3.10/dist-packages (from transformers) (1.23.5)\n",
            "Requirement already satisfied: packaging>=20.0 in /usr/local/lib/python3.10/dist-packages (from transformers) (23.2)\n",
            "Requirement already satisfied: pyyaml>=5.1 in /usr/local/lib/python3.10/dist-packages (from transformers) (6.0.1)\n",
            "Requirement already satisfied: regex!=2019.12.17 in /usr/local/lib/python3.10/dist-packages (from transformers) (2023.6.3)\n",
            "Requirement already satisfied: requests in /usr/local/lib/python3.10/dist-packages (from transformers) (2.31.0)\n",
            "Collecting tokenizers<0.15,>=0.14 (from transformers)\n",
            "  Downloading tokenizers-0.14.1-cp310-cp310-manylinux_2_17_x86_64.manylinux2014_x86_64.whl (3.8 MB)\n",
            "\u001b[2K     \u001b[90m━━━━━━━━━━━━━━━━━━━━━━━━━━━━━━━━━━━━━━━━\u001b[0m \u001b[32m3.8/3.8 MB\u001b[0m \u001b[31m36.6 MB/s\u001b[0m eta \u001b[36m0:00:00\u001b[0m\n",
            "\u001b[?25hCollecting safetensors>=0.3.1 (from transformers)\n",
            "  Downloading safetensors-0.4.0-cp310-cp310-manylinux_2_17_x86_64.manylinux2014_x86_64.whl (1.3 MB)\n",
            "\u001b[2K     \u001b[90m━━━━━━━━━━━━━━━━━━━━━━━━━━━━━━━━━━━━━━━━\u001b[0m \u001b[32m1.3/1.3 MB\u001b[0m \u001b[31m51.6 MB/s\u001b[0m eta \u001b[36m0:00:00\u001b[0m\n",
            "\u001b[?25hRequirement already satisfied: tqdm>=4.27 in /usr/local/lib/python3.10/dist-packages (from transformers) (4.66.1)\n",
            "Requirement already satisfied: pyarrow>=8.0.0 in /usr/local/lib/python3.10/dist-packages (from datasets) (9.0.0)\n",
            "Collecting dill<0.3.8,>=0.3.0 (from datasets)\n",
            "  Downloading dill-0.3.7-py3-none-any.whl (115 kB)\n",
            "\u001b[2K     \u001b[90m━━━━━━━━━━━━━━━━━━━━━━━━━━━━━━━━━━━━━━\u001b[0m \u001b[32m115.3/115.3 kB\u001b[0m \u001b[31m14.8 MB/s\u001b[0m eta \u001b[36m0:00:00\u001b[0m\n",
            "\u001b[?25hRequirement already satisfied: pandas in /usr/local/lib/python3.10/dist-packages (from datasets) (1.5.3)\n",
            "Collecting xxhash (from datasets)\n",
            "  Downloading xxhash-3.4.1-cp310-cp310-manylinux_2_17_x86_64.manylinux2014_x86_64.whl (194 kB)\n",
            "\u001b[2K     \u001b[90m━━━━━━━━━━━━━━━━━━━━━━━━━━━━━━━━━━━━━━\u001b[0m \u001b[32m194.1/194.1 kB\u001b[0m \u001b[31m23.2 MB/s\u001b[0m eta \u001b[36m0:00:00\u001b[0m\n",
            "\u001b[?25hCollecting multiprocess (from datasets)\n",
            "  Downloading multiprocess-0.70.15-py310-none-any.whl (134 kB)\n",
            "\u001b[2K     \u001b[90m━━━━━━━━━━━━━━━━━━━━━━━━━━━━━━━━━━━━━━\u001b[0m \u001b[32m134.8/134.8 kB\u001b[0m \u001b[31m17.4 MB/s\u001b[0m eta \u001b[36m0:00:00\u001b[0m\n",
            "\u001b[?25hRequirement already satisfied: fsspec[http]<2023.9.0,>=2023.1.0 in /usr/local/lib/python3.10/dist-packages (from datasets) (2023.6.0)\n",
            "Requirement already satisfied: aiohttp in /usr/local/lib/python3.10/dist-packages (from datasets) (3.8.5)\n",
            "Collecting responses<0.19 (from evaluate)\n",
            "  Downloading responses-0.18.0-py3-none-any.whl (38 kB)\n",
            "Requirement already satisfied: attrs>=17.3.0 in /usr/local/lib/python3.10/dist-packages (from aiohttp->datasets) (23.1.0)\n",
            "Requirement already satisfied: charset-normalizer<4.0,>=2.0 in /usr/local/lib/python3.10/dist-packages (from aiohttp->datasets) (3.3.0)\n",
            "Requirement already satisfied: multidict<7.0,>=4.5 in /usr/local/lib/python3.10/dist-packages (from aiohttp->datasets) (6.0.4)\n",
            "Requirement already satisfied: async-timeout<5.0,>=4.0.0a3 in /usr/local/lib/python3.10/dist-packages (from aiohttp->datasets) (4.0.3)\n",
            "Requirement already satisfied: yarl<2.0,>=1.0 in /usr/local/lib/python3.10/dist-packages (from aiohttp->datasets) (1.9.2)\n",
            "Requirement already satisfied: frozenlist>=1.1.1 in /usr/local/lib/python3.10/dist-packages (from aiohttp->datasets) (1.4.0)\n",
            "Requirement already satisfied: aiosignal>=1.1.2 in /usr/local/lib/python3.10/dist-packages (from aiohttp->datasets) (1.3.1)\n",
            "Requirement already satisfied: typing-extensions>=3.7.4.3 in /usr/local/lib/python3.10/dist-packages (from huggingface-hub<1.0,>=0.16.4->transformers) (4.5.0)\n",
            "Requirement already satisfied: idna<4,>=2.5 in /usr/local/lib/python3.10/dist-packages (from requests->transformers) (3.4)\n",
            "Requirement already satisfied: urllib3<3,>=1.21.1 in /usr/local/lib/python3.10/dist-packages (from requests->transformers) (2.0.6)\n",
            "Requirement already satisfied: certifi>=2017.4.17 in /usr/local/lib/python3.10/dist-packages (from requests->transformers) (2023.7.22)\n",
            "Collecting huggingface-hub<1.0,>=0.16.4 (from transformers)\n",
            "  Downloading huggingface_hub-0.17.3-py3-none-any.whl (295 kB)\n",
            "\u001b[2K     \u001b[90m━━━━━━━━━━━━━━━━━━━━━━━━━━━━━━━━━━━━━━\u001b[0m \u001b[32m295.0/295.0 kB\u001b[0m \u001b[31m29.7 MB/s\u001b[0m eta \u001b[36m0:00:00\u001b[0m\n",
            "\u001b[?25hRequirement already satisfied: python-dateutil>=2.8.1 in /usr/local/lib/python3.10/dist-packages (from pandas->datasets) (2.8.2)\n",
            "Requirement already satisfied: pytz>=2020.1 in /usr/local/lib/python3.10/dist-packages (from pandas->datasets) (2023.3.post1)\n",
            "Requirement already satisfied: six>=1.5 in /usr/local/lib/python3.10/dist-packages (from python-dateutil>=2.8.1->pandas->datasets) (1.16.0)\n",
            "Installing collected packages: xxhash, safetensors, dill, responses, multiprocess, huggingface-hub, tokenizers, transformers, datasets, evaluate\n",
            "Successfully installed datasets-2.14.5 dill-0.3.7 evaluate-0.4.0 huggingface-hub-0.17.3 multiprocess-0.70.15 responses-0.18.0 safetensors-0.4.0 tokenizers-0.14.1 transformers-4.34.0 xxhash-3.4.1\n"
          ]
        }
      ]
    },
    {
      "cell_type": "code",
      "source": [
        "from datasets import load_dataset\n",
        "squad = load_dataset(\"squad\", split=\"train[:5000]\")"
      ],
      "metadata": {
        "colab": {
          "base_uri": "https://localhost:8080/",
          "height": 305,
          "referenced_widgets": [
            "f11cf39745de4ea39273866c4a3de1ff",
            "ae7b3102f43140f3a11d908c8dc996d3",
            "da9e3501919f4f09a2ac2da35765f78d",
            "f004ed5cff7c4adbb97fe3cdee3c16fc",
            "9fef6af23b6c4a9488e8bdab5e8746a1",
            "624d8985daf646deb4cdbc5b5e19f30b",
            "2dc2988e2ef645a38740b97a8fb7a475",
            "3bf643beacd74b16973d3d4be4c53e91",
            "597b771757324973a54f108e322f13b8",
            "d1267d0745fc440ca7ac80e68b950433",
            "70f5c35daccc4d9c8f330125cc9dcdc6",
            "9248ee1ef8cd412f8ad2085f32d08f6c",
            "d87b16edbf2049fdb5fbe98a2c4b3c5c",
            "5a44e15224114f3f92a2e87edca143f9",
            "8e40b599b10c4e5989ecd38c86d9b33e",
            "ebf269a93e794e1bbb5d5e6c0b207605",
            "5429888bc0bd49828374e26911e28363",
            "66dbf06dface443ba4ab4ae19addd571",
            "7b61564a071d42b790abbb6f4b6549ce",
            "54c3086512c74d9ca46f3f293741441b",
            "79a0a9b3fb3c47599957b3a67a22f42b",
            "69772b8fbda849b39cc5bbe789509896",
            "c834f17cef9a495d8c183a8f6d563346",
            "47c686b913cb417b984683dc0ceb6619",
            "88ff24f517764bf4900255dc615cf278",
            "354123afaebf48e181c2e9e13e7beeb1",
            "4c68a6b9fb3d44cea5fabf02c7d00dc7",
            "f3bf8063ac464cc1a9e53ad93a49546e",
            "5d08fee0f83d44c99b2d3873da52381a",
            "0bb585d03dff4f0c83988eb97f27a77d",
            "fd94c4f1608144629606feba3834ef79",
            "b07efaf348574c1181031eda2ce8cf51",
            "70e481c33ef245ab89a34f383ff84040",
            "d00b87b87af7419f9daceb8d63e8be24",
            "023d44b2cd18406194562a30b2013389",
            "68a81e16fa5b4a25b897291ede5ca9e4",
            "f042da05f63142508ab0d773fe97f11c",
            "e48e2ddf0d3349e4b2c813e9e0c2253f",
            "0190767eb8e745e184a6bf416a3706ac",
            "375385599666402d8170fb6b7f9149bd",
            "022d994a64dd42dbb2817ff59f16efb2",
            "f233570b8e13415b8d6b33f521ed9b5e",
            "7fa0ba1b9cca4b089f864464b6b4fbff",
            "1920de11b1f04c3ea6f91028af1d7197",
            "a1650c078e4e44f5ba734510da6fd90f",
            "91556f3cc4664e78a43db43d4b6d8064",
            "e41d68cd78404e48936cf711bf5da0ba",
            "13411bd401374cf89a1de228c4cf1c65",
            "e4e37f3f91d5429b8aa6c685412a5241",
            "941b146f81904939ab2a4dda74a842e9",
            "450919e1148e4af4ba40d941457a9efa",
            "21cf675965c14de7a27c02639fd12c82",
            "2cd3e82f8cfa47828534f4a0f44917fb",
            "0f1cab92db2c4449a69ad0a9b2e77669",
            "56d4901a13bc48f8a2d16d6618deeb77",
            "c9d28cb2002a4bf2b3005aac9ba7d4f0",
            "ff9fb8b67d4f4765ae8c94df480e9e33",
            "186031b86a624b3c80c61d20bab787f1",
            "ea4768a6be2344c992739b02a3b7905e",
            "8156cab0f9c2451aabaaaf74347491b7",
            "25981dde7e004e5c8a812c86bf8f7151",
            "b7ef694a82054b22aeb4fd35c86ae982",
            "3eefcd349601475f91ac210f58993e78",
            "4d0ed614879a4748ae7c5a184627acb0",
            "cf10dbcc2d9c430eb71c2a530a24a2a9",
            "f698fdcbc499478c8c6cac4863617eef",
            "bda72438ee5c49e3af30ee9edf5bc494",
            "bceef9dbf70b43d889e8e5894ae40e13",
            "469a7dc449c94da883aadc7d7a9af842",
            "81fc7c4a33684b649bd76d9f4e62503c",
            "d13ad76ae4ee42138de33afec87f34bf",
            "fe6aa13c500e4276a8d1e5dd111c7e3a",
            "2de1f9d7c5784301bf1446f6f3be34f9",
            "5e198e415f8d4ff18bfd0024e65e61bd",
            "da7b81ea4df248b19fffea0996d5f441",
            "0face9dadf2145ec85a7a94c6cf62fb4",
            "28901995fcac4dbf8f8fbdc37993bd4b",
            "29f3f316660049e2919c6770d669bebe",
            "8a5f51e534684f468e41ff5c5935b615",
            "56c8d8372d624341afa67b26f2784e7f",
            "325a3f7235e74dcabf0b4e4050c2945e",
            "72058b6bc20446bbb4b71294bfd9c651",
            "91868db2d18648d0bc55a7438ab5c230",
            "0bd64025015543b8b2d976b06fd1e320",
            "d4ca5842613c4aca9b26f1255415af38",
            "d211801e15414b468e651d5267803420",
            "5b57c09398f84ddb9b7ffbedaa624069",
            "ffe3f388b4864709b0a9f89bffebf72f",
            "1c908fd3d9784e00a2c61d38aeca74ad",
            "013fa752b36f49528544dc7165899ac3",
            "451525b2acfa4873a74a9e88dd4dc5c9",
            "7765509ddabd4291814812ae78aec08f",
            "878de396c0ef4965a45c6d858ac1c329",
            "e95c745a80944d4daa2d241f160484ff",
            "43ae623351514b0699cadb4ca8da8b64",
            "3e783a4e1f63412cabc5b76c40729358",
            "a6af5a197edf4f5aa44961af1d494731",
            "76adbbf419f945d1bb2a64f76056ff17",
            "839d7d33811e453ea65b76a043f8a9f5"
          ]
        },
        "id": "_JC6-gwlX8H1",
        "outputId": "6839638a-b297-45b0-9fe2-13eca49b3746"
      },
      "execution_count": null,
      "outputs": [
        {
          "output_type": "display_data",
          "data": {
            "text/plain": [
              "Downloading builder script:   0%|          | 0.00/5.27k [00:00<?, ?B/s]"
            ],
            "application/vnd.jupyter.widget-view+json": {
              "version_major": 2,
              "version_minor": 0,
              "model_id": "f11cf39745de4ea39273866c4a3de1ff"
            }
          },
          "metadata": {}
        },
        {
          "output_type": "display_data",
          "data": {
            "text/plain": [
              "Downloading metadata:   0%|          | 0.00/2.36k [00:00<?, ?B/s]"
            ],
            "application/vnd.jupyter.widget-view+json": {
              "version_major": 2,
              "version_minor": 0,
              "model_id": "9248ee1ef8cd412f8ad2085f32d08f6c"
            }
          },
          "metadata": {}
        },
        {
          "output_type": "display_data",
          "data": {
            "text/plain": [
              "Downloading readme:   0%|          | 0.00/7.67k [00:00<?, ?B/s]"
            ],
            "application/vnd.jupyter.widget-view+json": {
              "version_major": 2,
              "version_minor": 0,
              "model_id": "c834f17cef9a495d8c183a8f6d563346"
            }
          },
          "metadata": {}
        },
        {
          "output_type": "display_data",
          "data": {
            "text/plain": [
              "Downloading data files:   0%|          | 0/2 [00:00<?, ?it/s]"
            ],
            "application/vnd.jupyter.widget-view+json": {
              "version_major": 2,
              "version_minor": 0,
              "model_id": "d00b87b87af7419f9daceb8d63e8be24"
            }
          },
          "metadata": {}
        },
        {
          "output_type": "display_data",
          "data": {
            "text/plain": [
              "Downloading data:   0%|          | 0.00/8.12M [00:00<?, ?B/s]"
            ],
            "application/vnd.jupyter.widget-view+json": {
              "version_major": 2,
              "version_minor": 0,
              "model_id": "a1650c078e4e44f5ba734510da6fd90f"
            }
          },
          "metadata": {}
        },
        {
          "output_type": "display_data",
          "data": {
            "text/plain": [
              "Downloading data:   0%|          | 0.00/1.05M [00:00<?, ?B/s]"
            ],
            "application/vnd.jupyter.widget-view+json": {
              "version_major": 2,
              "version_minor": 0,
              "model_id": "c9d28cb2002a4bf2b3005aac9ba7d4f0"
            }
          },
          "metadata": {}
        },
        {
          "output_type": "display_data",
          "data": {
            "text/plain": [
              "Extracting data files:   0%|          | 0/2 [00:00<?, ?it/s]"
            ],
            "application/vnd.jupyter.widget-view+json": {
              "version_major": 2,
              "version_minor": 0,
              "model_id": "bda72438ee5c49e3af30ee9edf5bc494"
            }
          },
          "metadata": {}
        },
        {
          "output_type": "display_data",
          "data": {
            "text/plain": [
              "Generating train split:   0%|          | 0/87599 [00:00<?, ? examples/s]"
            ],
            "application/vnd.jupyter.widget-view+json": {
              "version_major": 2,
              "version_minor": 0,
              "model_id": "29f3f316660049e2919c6770d669bebe"
            }
          },
          "metadata": {}
        },
        {
          "output_type": "display_data",
          "data": {
            "text/plain": [
              "Generating validation split:   0%|          | 0/10570 [00:00<?, ? examples/s]"
            ],
            "application/vnd.jupyter.widget-view+json": {
              "version_major": 2,
              "version_minor": 0,
              "model_id": "1c908fd3d9784e00a2c61d38aeca74ad"
            }
          },
          "metadata": {}
        }
      ]
    },
    {
      "cell_type": "code",
      "source": [
        "squad"
      ],
      "metadata": {
        "colab": {
          "base_uri": "https://localhost:8080/"
        },
        "id": "HCtvlXPtYImf",
        "outputId": "6e696430-5e00-4e41-e450-f7532cd06b28"
      },
      "execution_count": null,
      "outputs": [
        {
          "output_type": "execute_result",
          "data": {
            "text/plain": [
              "Dataset({\n",
              "    features: ['id', 'title', 'context', 'question', 'answers'],\n",
              "    num_rows: 5000\n",
              "})"
            ]
          },
          "metadata": {},
          "execution_count": 3
        }
      ]
    },
    {
      "cell_type": "code",
      "source": [
        "squad = squad.train_test_split(test_size=0.2)"
      ],
      "metadata": {
        "id": "kCvaSfebYL1H"
      },
      "execution_count": null,
      "outputs": []
    },
    {
      "cell_type": "code",
      "source": [
        "squad"
      ],
      "metadata": {
        "colab": {
          "base_uri": "https://localhost:8080/"
        },
        "id": "gl8t4UMmYYxV",
        "outputId": "83802819-8eb6-4a58-bd58-eec966727934"
      },
      "execution_count": null,
      "outputs": [
        {
          "output_type": "execute_result",
          "data": {
            "text/plain": [
              "DatasetDict({\n",
              "    train: Dataset({\n",
              "        features: ['id', 'title', 'context', 'question', 'answers'],\n",
              "        num_rows: 4000\n",
              "    })\n",
              "    test: Dataset({\n",
              "        features: ['id', 'title', 'context', 'question', 'answers'],\n",
              "        num_rows: 1000\n",
              "    })\n",
              "})"
            ]
          },
          "metadata": {},
          "execution_count": 5
        }
      ]
    },
    {
      "cell_type": "code",
      "source": [
        "squad[\"train\"]"
      ],
      "metadata": {
        "colab": {
          "base_uri": "https://localhost:8080/"
        },
        "id": "y20FbaCHYcTb",
        "outputId": "f5f829b2-cdc9-49cd-e6ae-51ae51b6bc50"
      },
      "execution_count": null,
      "outputs": [
        {
          "output_type": "execute_result",
          "data": {
            "text/plain": [
              "Dataset({\n",
              "    features: ['id', 'title', 'context', 'question', 'answers'],\n",
              "    num_rows: 4000\n",
              "})"
            ]
          },
          "metadata": {},
          "execution_count": 6
        }
      ]
    },
    {
      "cell_type": "code",
      "source": [
        "squad[\"train\"][0]"
      ],
      "metadata": {
        "colab": {
          "base_uri": "https://localhost:8080/"
        },
        "id": "sqaMhn3BYfaS",
        "outputId": "f77983d1-9fcb-48e2-f1bf-9e42abb68a93"
      },
      "execution_count": null,
      "outputs": [
        {
          "output_type": "execute_result",
          "data": {
            "text/plain": [
              "{'id': '5733ae924776f41900661016',\n",
              " 'title': 'University_of_Notre_Dame',\n",
              " 'context': 'Notre Dame is known for its competitive admissions, with the incoming class enrolling in fall 2015 admitting 3,577 from a pool of 18,156 (19.7%). The academic profile of the enrolled class continues to rate among the top 10 to 15 in the nation for national research universities. The university practices a non-restrictive early action policy that allows admitted students to consider admission to Notre Dame as well as any other colleges to which they were accepted. 1,400 of the 3,577 (39.1%) were admitted under the early action plan. Admitted students came from 1,311 high schools and the average student traveled more than 750 miles to Notre Dame, making it arguably the most representative university in the United States. While all entering students begin in the College of the First Year of Studies, 25% have indicated they plan to study in the liberal arts or social sciences, 24% in engineering, 24% in business, 24% in science, and 3% in architecture.',\n",
              " 'question': 'What percentage of students at Notre Dame participated in the Early Action program?',\n",
              " 'answers': {'text': ['39.1%'], 'answer_start': [488]}}"
            ]
          },
          "metadata": {},
          "execution_count": 7
        }
      ]
    },
    {
      "cell_type": "code",
      "source": [
        "from transformers import AutoTokenizer\n",
        "tokenizer = AutoTokenizer.from_pretrained(\"distilbert-base-uncased\")"
      ],
      "metadata": {
        "id": "-UwpfruRZCVa"
      },
      "execution_count": null,
      "outputs": []
    },
    {
      "cell_type": "code",
      "source": [
        "def preprocess_function(examples):\n",
        "    questions = [q.strip() for q in examples[\"question\"]]\n",
        "    inputs = tokenizer(\n",
        "        questions,\n",
        "        examples[\"context\"],\n",
        "        max_length=384,\n",
        "        truncation=\"only_second\",\n",
        "        return_offsets_mapping=True,\n",
        "        padding=\"max_length\",\n",
        "    )\n",
        "\n",
        "    offset_mapping = inputs.pop(\"offset_mapping\")\n",
        "    answers = examples[\"answers\"]\n",
        "    start_positions = []\n",
        "    end_positions = []\n",
        "\n",
        "    for i, offset in enumerate(offset_mapping):\n",
        "        answer = answers[i]\n",
        "        start_char = answer[\"answer_start\"][0]\n",
        "        end_char = answer[\"answer_start\"][0] + len(answer[\"text\"][0])\n",
        "        sequence_ids = inputs.sequence_ids(i)\n",
        "\n",
        "        # Find the start and end of the context\n",
        "        idx = 0\n",
        "        while sequence_ids[idx] != 1:\n",
        "            idx += 1\n",
        "        context_start = idx\n",
        "        while sequence_ids[idx] == 1:\n",
        "            idx += 1\n",
        "        context_end = idx - 1\n",
        "\n",
        "        # If the answer is not fully inside the context, label it (0, 0)\n",
        "        if offset[context_start][0] > end_char or offset[context_end][1] < start_char:\n",
        "            start_positions.append(0)\n",
        "            end_positions.append(0)\n",
        "        else:\n",
        "            # Otherwise it's the start and end token positions\n",
        "            idx = context_start\n",
        "            while idx <= context_end and offset[idx][0] <= start_char:\n",
        "                idx += 1\n",
        "            start_positions.append(idx - 1)\n",
        "\n",
        "            idx = context_end\n",
        "            while idx >= context_start and offset[idx][1] >= end_char:\n",
        "                idx -= 1\n",
        "            end_positions.append(idx + 1)\n",
        "\n",
        "    inputs[\"start_positions\"] = start_positions\n",
        "    inputs[\"end_positions\"] = end_positions\n",
        "    return inputs"
      ],
      "metadata": {
        "id": "DaEP2C8JZjSq"
      },
      "execution_count": null,
      "outputs": []
    },
    {
      "cell_type": "code",
      "source": [
        "tokenized_squad = squad.map(preprocess_function, batched=True, remove_columns=squad[\"train\"].column_names)"
      ],
      "metadata": {
        "colab": {
          "base_uri": "https://localhost:8080/",
          "height": 81,
          "referenced_widgets": [
            "3d5f7adaa50b43b9b7fc6a5280be5ca6",
            "59f021b82e0247bea3a1f6b0be3fdedd",
            "4ffb7e1c42d243b08b8399d77c886d7c",
            "ff14d108bef84739b8d99565233ccbda",
            "e0864a20a18349e098a6ac2d4f8d1d6e",
            "57f2f7889ef44c60aebeb6e5722d6e97",
            "1bba4d24e1434f06bbe812a70821d7af",
            "c1f40fa3e2e2472881c31a244cff1186",
            "94ccc8afaaae44fcb8f72ba4e4dd5229",
            "1d7ce1257d3e4b94873c791346b5912c",
            "14a503b3090c4418bf7b5171e3413af2",
            "8f923059aaef480a9a3b0ef831faafaf",
            "9772a14a945f4c2aa83c9b0adc0862cf",
            "da51b3af408f48f29c346c270eea8f27",
            "6e4f70a5afff44c3985a4ae02f23c2a0",
            "bab11c07a7fb46d9878cb8f9025a3edb",
            "628844dac6b947a1b5b597185e47131c",
            "dcc7aa87a7b14e46badeb22404068c36",
            "1e77c06c50e14d7cac629b50a2a737fd",
            "cbbdeac0ec1542c7bcb925db9f33bc85",
            "3f0346708fe64b479cba17f3403f28b6",
            "a7631c24059d492b95a6e7058eeec1ec"
          ]
        },
        "id": "w7Q8on5kZn9o",
        "outputId": "b84506a2-ce08-456f-83a1-4d20dabc9605"
      },
      "execution_count": null,
      "outputs": [
        {
          "output_type": "display_data",
          "data": {
            "text/plain": [
              "Map:   0%|          | 0/4000 [00:00<?, ? examples/s]"
            ],
            "application/vnd.jupyter.widget-view+json": {
              "version_major": 2,
              "version_minor": 0,
              "model_id": "3d5f7adaa50b43b9b7fc6a5280be5ca6"
            }
          },
          "metadata": {}
        },
        {
          "output_type": "display_data",
          "data": {
            "text/plain": [
              "Map:   0%|          | 0/1000 [00:00<?, ? examples/s]"
            ],
            "application/vnd.jupyter.widget-view+json": {
              "version_major": 2,
              "version_minor": 0,
              "model_id": "8f923059aaef480a9a3b0ef831faafaf"
            }
          },
          "metadata": {}
        }
      ]
    },
    {
      "cell_type": "code",
      "source": [
        "tokenized_squad"
      ],
      "metadata": {
        "colab": {
          "base_uri": "https://localhost:8080/"
        },
        "id": "wi_18QepZuCH",
        "outputId": "f734bbe4-03b4-41a6-af87-a7e30597c81e"
      },
      "execution_count": null,
      "outputs": [
        {
          "output_type": "execute_result",
          "data": {
            "text/plain": [
              "DatasetDict({\n",
              "    train: Dataset({\n",
              "        features: ['input_ids', 'attention_mask', 'start_positions', 'end_positions'],\n",
              "        num_rows: 4000\n",
              "    })\n",
              "    test: Dataset({\n",
              "        features: ['input_ids', 'attention_mask', 'start_positions', 'end_positions'],\n",
              "        num_rows: 1000\n",
              "    })\n",
              "})"
            ]
          },
          "metadata": {},
          "execution_count": 11
        }
      ]
    },
    {
      "cell_type": "code",
      "source": [
        "tokenized_squad[\"train\"][\"input_ids\"][0]"
      ],
      "metadata": {
        "colab": {
          "base_uri": "https://localhost:8080/"
        },
        "id": "30_9fPmpaQX2",
        "outputId": "ebf3c715-75d3-444f-aacd-025bd6acc58b"
      },
      "execution_count": null,
      "outputs": [
        {
          "output_type": "execute_result",
          "data": {
            "text/plain": [
              "[101,\n",
              " 2054,\n",
              " 7017,\n",
              " 1997,\n",
              " 2493,\n",
              " 2012,\n",
              " 10289,\n",
              " 8214,\n",
              " 4194,\n",
              " 1999,\n",
              " 1996,\n",
              " 2220,\n",
              " 2895,\n",
              " 2565,\n",
              " 1029,\n",
              " 102,\n",
              " 10289,\n",
              " 8214,\n",
              " 2003,\n",
              " 2124,\n",
              " 2005,\n",
              " 2049,\n",
              " 6975,\n",
              " 20247,\n",
              " 1010,\n",
              " 2007,\n",
              " 1996,\n",
              " 14932,\n",
              " 2465,\n",
              " 25612,\n",
              " 2075,\n",
              " 1999,\n",
              " 2991,\n",
              " 2325,\n",
              " 17927,\n",
              " 1017,\n",
              " 1010,\n",
              " 5401,\n",
              " 2581,\n",
              " 2013,\n",
              " 1037,\n",
              " 4770,\n",
              " 1997,\n",
              " 2324,\n",
              " 1010,\n",
              " 16734,\n",
              " 1006,\n",
              " 2539,\n",
              " 1012,\n",
              " 1021,\n",
              " 1003,\n",
              " 1007,\n",
              " 1012,\n",
              " 1996,\n",
              " 3834,\n",
              " 6337,\n",
              " 1997,\n",
              " 1996,\n",
              " 8302,\n",
              " 2465,\n",
              " 4247,\n",
              " 2000,\n",
              " 3446,\n",
              " 2426,\n",
              " 1996,\n",
              " 2327,\n",
              " 2184,\n",
              " 2000,\n",
              " 2321,\n",
              " 1999,\n",
              " 1996,\n",
              " 3842,\n",
              " 2005,\n",
              " 2120,\n",
              " 2470,\n",
              " 5534,\n",
              " 1012,\n",
              " 1996,\n",
              " 2118,\n",
              " 6078,\n",
              " 1037,\n",
              " 2512,\n",
              " 1011,\n",
              " 25986,\n",
              " 2220,\n",
              " 2895,\n",
              " 3343,\n",
              " 2008,\n",
              " 4473,\n",
              " 4914,\n",
              " 2493,\n",
              " 2000,\n",
              " 5136,\n",
              " 9634,\n",
              " 2000,\n",
              " 10289,\n",
              " 8214,\n",
              " 2004,\n",
              " 2092,\n",
              " 2004,\n",
              " 2151,\n",
              " 2060,\n",
              " 6667,\n",
              " 2000,\n",
              " 2029,\n",
              " 2027,\n",
              " 2020,\n",
              " 3970,\n",
              " 1012,\n",
              " 1015,\n",
              " 1010,\n",
              " 4278,\n",
              " 1997,\n",
              " 1996,\n",
              " 1017,\n",
              " 1010,\n",
              " 5401,\n",
              " 2581,\n",
              " 1006,\n",
              " 4464,\n",
              " 1012,\n",
              " 1015,\n",
              " 1003,\n",
              " 1007,\n",
              " 2020,\n",
              " 4914,\n",
              " 2104,\n",
              " 1996,\n",
              " 2220,\n",
              " 2895,\n",
              " 2933,\n",
              " 1012,\n",
              " 4914,\n",
              " 2493,\n",
              " 2234,\n",
              " 2013,\n",
              " 1015,\n",
              " 1010,\n",
              " 23532,\n",
              " 2152,\n",
              " 2816,\n",
              " 1998,\n",
              " 1996,\n",
              " 2779,\n",
              " 3076,\n",
              " 6158,\n",
              " 2062,\n",
              " 2084,\n",
              " 9683,\n",
              " 2661,\n",
              " 2000,\n",
              " 10289,\n",
              " 8214,\n",
              " 1010,\n",
              " 2437,\n",
              " 2009,\n",
              " 15835,\n",
              " 1996,\n",
              " 2087,\n",
              " 4387,\n",
              " 2118,\n",
              " 1999,\n",
              " 1996,\n",
              " 2142,\n",
              " 2163,\n",
              " 1012,\n",
              " 2096,\n",
              " 2035,\n",
              " 5738,\n",
              " 2493,\n",
              " 4088,\n",
              " 1999,\n",
              " 1996,\n",
              " 2267,\n",
              " 1997,\n",
              " 1996,\n",
              " 2034,\n",
              " 2095,\n",
              " 1997,\n",
              " 2913,\n",
              " 1010,\n",
              " 2423,\n",
              " 1003,\n",
              " 2031,\n",
              " 5393,\n",
              " 2027,\n",
              " 2933,\n",
              " 2000,\n",
              " 2817,\n",
              " 1999,\n",
              " 1996,\n",
              " 4314,\n",
              " 2840,\n",
              " 2030,\n",
              " 2591,\n",
              " 4163,\n",
              " 1010,\n",
              " 2484,\n",
              " 1003,\n",
              " 1999,\n",
              " 3330,\n",
              " 1010,\n",
              " 2484,\n",
              " 1003,\n",
              " 1999,\n",
              " 2449,\n",
              " 1010,\n",
              " 2484,\n",
              " 1003,\n",
              " 1999,\n",
              " 2671,\n",
              " 1010,\n",
              " 1998,\n",
              " 1017,\n",
              " 1003,\n",
              " 1999,\n",
              " 4294,\n",
              " 1012,\n",
              " 102,\n",
              " 0,\n",
              " 0,\n",
              " 0,\n",
              " 0,\n",
              " 0,\n",
              " 0,\n",
              " 0,\n",
              " 0,\n",
              " 0,\n",
              " 0,\n",
              " 0,\n",
              " 0,\n",
              " 0,\n",
              " 0,\n",
              " 0,\n",
              " 0,\n",
              " 0,\n",
              " 0,\n",
              " 0,\n",
              " 0,\n",
              " 0,\n",
              " 0,\n",
              " 0,\n",
              " 0,\n",
              " 0,\n",
              " 0,\n",
              " 0,\n",
              " 0,\n",
              " 0,\n",
              " 0,\n",
              " 0,\n",
              " 0,\n",
              " 0,\n",
              " 0,\n",
              " 0,\n",
              " 0,\n",
              " 0,\n",
              " 0,\n",
              " 0,\n",
              " 0,\n",
              " 0,\n",
              " 0,\n",
              " 0,\n",
              " 0,\n",
              " 0,\n",
              " 0,\n",
              " 0,\n",
              " 0,\n",
              " 0,\n",
              " 0,\n",
              " 0,\n",
              " 0,\n",
              " 0,\n",
              " 0,\n",
              " 0,\n",
              " 0,\n",
              " 0,\n",
              " 0,\n",
              " 0,\n",
              " 0,\n",
              " 0,\n",
              " 0,\n",
              " 0,\n",
              " 0,\n",
              " 0,\n",
              " 0,\n",
              " 0,\n",
              " 0,\n",
              " 0,\n",
              " 0,\n",
              " 0,\n",
              " 0,\n",
              " 0,\n",
              " 0,\n",
              " 0,\n",
              " 0,\n",
              " 0,\n",
              " 0,\n",
              " 0,\n",
              " 0,\n",
              " 0,\n",
              " 0,\n",
              " 0,\n",
              " 0,\n",
              " 0,\n",
              " 0,\n",
              " 0,\n",
              " 0,\n",
              " 0,\n",
              " 0,\n",
              " 0,\n",
              " 0,\n",
              " 0,\n",
              " 0,\n",
              " 0,\n",
              " 0,\n",
              " 0,\n",
              " 0,\n",
              " 0,\n",
              " 0,\n",
              " 0,\n",
              " 0,\n",
              " 0,\n",
              " 0,\n",
              " 0,\n",
              " 0,\n",
              " 0,\n",
              " 0,\n",
              " 0,\n",
              " 0,\n",
              " 0,\n",
              " 0,\n",
              " 0,\n",
              " 0,\n",
              " 0,\n",
              " 0,\n",
              " 0,\n",
              " 0,\n",
              " 0,\n",
              " 0,\n",
              " 0,\n",
              " 0,\n",
              " 0,\n",
              " 0,\n",
              " 0,\n",
              " 0,\n",
              " 0,\n",
              " 0,\n",
              " 0,\n",
              " 0,\n",
              " 0,\n",
              " 0,\n",
              " 0,\n",
              " 0,\n",
              " 0,\n",
              " 0,\n",
              " 0,\n",
              " 0,\n",
              " 0,\n",
              " 0,\n",
              " 0,\n",
              " 0,\n",
              " 0,\n",
              " 0,\n",
              " 0,\n",
              " 0,\n",
              " 0,\n",
              " 0,\n",
              " 0,\n",
              " 0,\n",
              " 0,\n",
              " 0,\n",
              " 0,\n",
              " 0,\n",
              " 0,\n",
              " 0,\n",
              " 0,\n",
              " 0,\n",
              " 0,\n",
              " 0,\n",
              " 0,\n",
              " 0,\n",
              " 0,\n",
              " 0,\n",
              " 0]"
            ]
          },
          "metadata": {},
          "execution_count": 14
        }
      ]
    },
    {
      "cell_type": "code",
      "source": [
        "# create batch\n",
        "from transformers import DefaultDataCollator\n",
        "data_collator = DefaultDataCollator(return_tensors=\"tf\")"
      ],
      "metadata": {
        "id": "IHeWLDH5aomw"
      },
      "execution_count": null,
      "outputs": []
    },
    {
      "cell_type": "code",
      "source": [
        "from transformers import create_optimizer\n",
        "\n",
        "batch_size = 16\n",
        "num_epochs = 2\n",
        "total_train_steps = (len(tokenized_squad[\"train\"]) // batch_size) * num_epochs\n",
        "optimizer, schedule = create_optimizer(\n",
        "    init_lr=2e-5,\n",
        "    num_warmup_steps=0,\n",
        "    num_train_steps=total_train_steps,\n",
        ")"
      ],
      "metadata": {
        "id": "vWJQpj4-bEpo"
      },
      "execution_count": null,
      "outputs": []
    },
    {
      "cell_type": "code",
      "source": [
        "from transformers import TFAutoModelForQuestionAnswering\n",
        "model = TFAutoModelForQuestionAnswering.from_pretrained(\"distilbert-base-uncased\")"
      ],
      "metadata": {
        "colab": {
          "base_uri": "https://localhost:8080/"
        },
        "id": "3ZjnXLWTbKXn",
        "outputId": "3c849824-33b0-4c75-c562-ca2efbc8cb01"
      },
      "execution_count": null,
      "outputs": [
        {
          "output_type": "stream",
          "name": "stderr",
          "text": [
            "Some weights of the PyTorch model were not used when initializing the TF 2.0 model TFDistilBertForQuestionAnswering: ['vocab_layer_norm.bias', 'vocab_transform.weight', 'vocab_transform.bias', 'vocab_projector.bias', 'vocab_layer_norm.weight']\n",
            "- This IS expected if you are initializing TFDistilBertForQuestionAnswering from a PyTorch model trained on another task or with another architecture (e.g. initializing a TFBertForSequenceClassification model from a BertForPreTraining model).\n",
            "- This IS NOT expected if you are initializing TFDistilBertForQuestionAnswering from a PyTorch model that you expect to be exactly identical (e.g. initializing a TFBertForSequenceClassification model from a BertForSequenceClassification model).\n",
            "Some weights or buffers of the TF 2.0 model TFDistilBertForQuestionAnswering were not initialized from the PyTorch model and are newly initialized: ['qa_outputs.weight', 'qa_outputs.bias']\n",
            "You should probably TRAIN this model on a down-stream task to be able to use it for predictions and inference.\n"
          ]
        }
      ]
    },
    {
      "cell_type": "code",
      "source": [
        "tf_train_set = model.prepare_tf_dataset(\n",
        "    tokenized_squad[\"train\"],\n",
        "    shuffle=True,\n",
        "    batch_size=16,\n",
        "    collate_fn=data_collator,\n",
        ")\n",
        "\n",
        "tf_validation_set = model.prepare_tf_dataset(\n",
        "    tokenized_squad[\"test\"],\n",
        "    shuffle=False,\n",
        "    batch_size=16,\n",
        "    collate_fn=data_collator,\n",
        ")"
      ],
      "metadata": {
        "id": "2MsBOXbcbnEl"
      },
      "execution_count": null,
      "outputs": []
    },
    {
      "cell_type": "code",
      "source": [
        "import tensorflow as tf\n",
        "model.compile(optimizer=optimizer)"
      ],
      "metadata": {
        "id": "XQBWShPybth9"
      },
      "execution_count": null,
      "outputs": []
    },
    {
      "cell_type": "code",
      "source": [
        "from transformers.keras_callbacks import PushToHubCallback\n",
        "\n",
        "callback = PushToHubCallback(\n",
        "    output_dir=\"my_model\",\n",
        "    tokenizer=tokenizer,\n",
        ")"
      ],
      "metadata": {
        "id": "NRK5r19Jbxek"
      },
      "execution_count": null,
      "outputs": []
    },
    {
      "cell_type": "code",
      "source": [
        "model.fit(x=tf_train_set, validation_data=tf_validation_set, epochs=10)"
      ],
      "metadata": {
        "colab": {
          "base_uri": "https://localhost:8080/"
        },
        "id": "HXsIzDDjc9je",
        "outputId": "b99c5773-89f7-40c8-dfca-c6b78b8d730b"
      },
      "execution_count": null,
      "outputs": [
        {
          "output_type": "stream",
          "name": "stdout",
          "text": [
            "Epoch 1/10\n",
            "250/250 [==============================] - 224s 803ms/step - loss: 3.4386 - val_loss: 2.3190\n",
            "Epoch 2/10\n",
            "250/250 [==============================] - 186s 743ms/step - loss: 1.9612 - val_loss: 1.9906\n",
            "Epoch 3/10\n",
            "250/250 [==============================] - 183s 732ms/step - loss: 1.7147 - val_loss: 1.9906\n",
            "Epoch 4/10\n",
            "250/250 [==============================] - 186s 746ms/step - loss: 1.7080 - val_loss: 1.9906\n",
            "Epoch 5/10\n",
            "250/250 [==============================] - 177s 709ms/step - loss: 1.7137 - val_loss: 1.9906\n",
            "Epoch 6/10\n",
            "250/250 [==============================] - 178s 713ms/step - loss: 1.7078 - val_loss: 1.9906\n",
            "Epoch 7/10\n",
            "250/250 [==============================] - 177s 707ms/step - loss: 1.7115 - val_loss: 1.9906\n",
            "Epoch 8/10\n",
            "250/250 [==============================] - 185s 742ms/step - loss: 1.7071 - val_loss: 1.9906\n",
            "Epoch 9/10\n",
            "250/250 [==============================] - 183s 731ms/step - loss: 1.7128 - val_loss: 1.9906\n",
            "Epoch 10/10\n",
            "250/250 [==============================] - 183s 731ms/step - loss: 1.7020 - val_loss: 1.9906\n"
          ]
        },
        {
          "output_type": "execute_result",
          "data": {
            "text/plain": [
              "<keras.src.callbacks.History at 0x7a20303b2320>"
            ]
          },
          "metadata": {},
          "execution_count": 41
        }
      ]
    },
    {
      "cell_type": "code",
      "source": [
        "# Save the trained model\n",
        "model.save_pretrained('qa_model')"
      ],
      "metadata": {
        "id": "BVdlHcZtggXc"
      },
      "execution_count": null,
      "outputs": []
    },
    {
      "cell_type": "code",
      "source": [
        "tokenizer.save_pretrained(\"qa_tokenizer\")"
      ],
      "metadata": {
        "colab": {
          "base_uri": "https://localhost:8080/"
        },
        "id": "NsAijJj7iMBi",
        "outputId": "5c00044b-2af8-42ca-d3c9-6c08293d8a3c"
      },
      "execution_count": null,
      "outputs": [
        {
          "output_type": "execute_result",
          "data": {
            "text/plain": [
              "('qa_tokenizer/tokenizer_config.json',\n",
              " 'qa_tokenizer/special_tokens_map.json',\n",
              " 'qa_tokenizer/vocab.txt',\n",
              " 'qa_tokenizer/added_tokens.json',\n",
              " 'qa_tokenizer/tokenizer.json')"
            ]
          },
          "metadata": {},
          "execution_count": 51
        }
      ]
    },
    {
      "cell_type": "code",
      "source": [
        "from transformers import pipeline\n",
        "import warnings\n",
        "warnings.filterwarnings(\"ignore\", category=UserWarning, module=\"transformers.pipelines\")\n",
        "question_answerer = pipeline(\"question-answering\", model=\"qa_model\", tokenizer=\"qa_tokenizer\")"
      ],
      "metadata": {
        "colab": {
          "base_uri": "https://localhost:8080/"
        },
        "id": "rTIFLFh20C7d",
        "outputId": "fa6c4035-4646-456a-cac3-0a8db88f6fa0"
      },
      "execution_count": null,
      "outputs": [
        {
          "output_type": "stream",
          "name": "stderr",
          "text": [
            "Some layers from the model checkpoint at qa_model were not used when initializing TFDistilBertForQuestionAnswering: ['dropout_199']\n",
            "- This IS expected if you are initializing TFDistilBertForQuestionAnswering from the checkpoint of a model trained on another task or with another architecture (e.g. initializing a BertForSequenceClassification model from a BertForPreTraining model).\n",
            "- This IS NOT expected if you are initializing TFDistilBertForQuestionAnswering from the checkpoint of a model that you expect to be exactly identical (initializing a BertForSequenceClassification model from a BertForSequenceClassification model).\n",
            "Some layers of TFDistilBertForQuestionAnswering were not initialized from the model checkpoint at qa_model and are newly initialized: ['dropout_219']\n",
            "You should probably TRAIN this model on a down-stream task to be able to use it for predictions and inference.\n",
            "Special tokens have been added in the vocabulary, make sure the associated word embeddings are fine-tuned or trained.\n"
          ]
        }
      ]
    },
    {
      "cell_type": "code",
      "source": [
        "from transformers import pipeline\n",
        "import warnings\n",
        "warnings.filterwarnings(\"ignore\", category=UserWarning, module=\"transformers.pipelines\")\n",
        "question_answerer = pipeline(\"question-answering\", model=model, tokenizer=tokenizer)"
      ],
      "metadata": {
        "id": "BNo83QidfIVw"
      },
      "execution_count": null,
      "outputs": []
    },
    {
      "cell_type": "code",
      "source": [
        "question = \"What is the capitale of France?\"\n",
        "context = \"The capitale of french is Paris, but he capitale of Spain is Madrid.\"\n",
        "question_answerer(question=question, context=context)"
      ],
      "metadata": {
        "colab": {
          "base_uri": "https://localhost:8080/"
        },
        "id": "GEa12hg7jUEG",
        "outputId": "3d4aac59-9554-4035-c087-d770c5503710"
      },
      "execution_count": null,
      "outputs": [
        {
          "output_type": "execute_result",
          "data": {
            "text/plain": [
              "{'score': 0.1956658810377121, 'start': 26, 'end': 31, 'answer': 'Paris'}"
            ]
          },
          "metadata": {},
          "execution_count": 43
        }
      ]
    },
    {
      "cell_type": "code",
      "source": [
        "\n",
        "question = \"Where is the Eiffel Tower located?\"\n",
        "context = \"The Eiffel Tower is one of the most iconic landmarks in the world. Located in Paris, France, it was completed in 1889 and stands at a height of 324 meters. Designed by engineer Gustave Eiffel, the tower was initially met with mixed reactions, but it has since become a symbol of France and a popular tourist attraction.\"\n",
        "question_answerer(question=question, context=context)"
      ],
      "metadata": {
        "colab": {
          "base_uri": "https://localhost:8080/"
        },
        "id": "C6aEdpGMylNm",
        "outputId": "6ea31aa2-1e4e-40fd-c6b6-c35d7821854f"
      },
      "execution_count": null,
      "outputs": [
        {
          "output_type": "execute_result",
          "data": {
            "text/plain": [
              "{'score': 0.261226087808609, 'start': 78, 'end': 91, 'answer': 'Paris, France'}"
            ]
          },
          "metadata": {},
          "execution_count": 48
        }
      ]
    },
    {
      "cell_type": "code",
      "source": [
        "\n",
        "question = \"who designed it?\"\n",
        "context = \"The Eiffel Tower is one of the most iconic landmarks in the world. Located in Paris, France, it was completed in 1889 and stands at a height of 324 meters. Designed by engineer Gustave Eiffel, the tower was initially met with mixed reactions, but it has since become a symbol of France and a popular tourist attraction.\"\n",
        "question_answerer(question=question, context=context)"
      ],
      "metadata": {
        "colab": {
          "base_uri": "https://localhost:8080/"
        },
        "id": "hZ4L5Vlgzp-i",
        "outputId": "6d64e225-c426-4372-f576-577c77ab238c"
      },
      "execution_count": null,
      "outputs": [
        {
          "output_type": "execute_result",
          "data": {
            "text/plain": [
              "{'score': 0.16046275198459625,\n",
              " 'start': 177,\n",
              " 'end': 191,\n",
              " 'answer': 'Gustave Eiffel'}"
            ]
          },
          "metadata": {},
          "execution_count": 49
        }
      ]
    },
    {
      "cell_type": "code",
      "source": [
        "question=\"In which year was the Eiffel Tower created?\"\n",
        "context = \"The Eiffel Tower is one of the most iconic landmarks in the world. Located in Paris, France, it was completed in 1889 and stands at a height of 324 meters. Designed by engineer Gustave Eiffel, the tower was initially met with mixed reactions, but it has since become a symbol of France and a popular tourist attraction.\"\n",
        "question_answerer(question=question, context=context)"
      ],
      "metadata": {
        "colab": {
          "base_uri": "https://localhost:8080/"
        },
        "id": "HRMekREv19Y4",
        "outputId": "68275fd0-5646-4ea5-af07-43e669d0991c"
      },
      "execution_count": null,
      "outputs": [
        {
          "output_type": "execute_result",
          "data": {
            "text/plain": [
              "{'score': 0.328779011964798, 'start': 113, 'end': 117, 'answer': '1889'}"
            ]
          },
          "metadata": {},
          "execution_count": 56
        }
      ]
    }
  ]
}